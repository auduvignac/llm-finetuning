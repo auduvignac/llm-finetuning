{
  "cells": [
    {
      "cell_type": "markdown",
      "metadata": {
        "id": "WCbh4X9_Tiec"
      },
      "source": [
        "# Text classification using Transformers.\n",
        "This lab will still focus on text classification on the Imdb dataset.\n",
        "In this lab session, we will focus on encoder-based transformer architecture, through the lens of the most famous model: **BERT**.\n",
        "\n",
        "---\n",
        "\n",
        "# Introduction\n",
        "\n",
        "## HuggingFace\n",
        "\n",
        "We have already experimented with some components provided by the HuggingFace library:\n",
        "- the `datasets` library,\n",
        "- the `tokenizer`.\n",
        "\n",
        "Actually, HuggingFace library provides convenient API to deal with transformer models, like BERT, GPT, etc.  To quote their website: *Transformers provides APIs and tools to easily download and train state-of-the-art pretrained models. Using pretrained models can reduce your compute costs, carbon footprint, and save you the time and resources required to train a model from scratch. Transformers support framework interoperability between PyTorch, TensorFlow, and JAX.*\n",
        "\n",
        "## Goal of the lab session\n",
        "\n",
        "We will experiment with the HuggingFace library. You'll have to load a model and to run it on your task.\n",
        "\n",
        "Important things to keep in in minds are:\n",
        "- Even if each model is a Transformer, they all have their peculiarities.\n",
        "- What is the exact input format expected by the model?\n",
        "- What is its exact output?\n",
        "- Can you use the available model as is or should you make some modifications for your task?\n",
        "\n",
        "These questions are actually part of the life of a NLP scientist. We will adress some of these questions in this lab and in the next lessons / labs / HW."
      ]
    },
    {
      "cell_type": "code",
      "execution_count": null,
      "metadata": {
        "id": "ee_x9Yq5hTuO"
      },
      "outputs": [],
      "source": [
        "%%capture\n",
        "!pip install transformers datasets"
      ]
    },
    {
      "cell_type": "code",
      "execution_count": null,
      "metadata": {
        "colab": {
          "base_uri": "https://localhost:8080/"
        },
        "id": "vuNg51plR2GM",
        "outputId": "685ccfda-3f0c-412f-cf98-58d68f8c65e3"
      },
      "outputs": [
        {
          "output_type": "execute_result",
          "data": {
            "text/plain": [
              "device(type='cuda')"
            ]
          },
          "metadata": {},
          "execution_count": 2
        }
      ],
      "source": [
        "%matplotlib inline\n",
        "%config InlineBackend.figure_formats = ['svg']\n",
        "import matplotlib.pyplot as plt\n",
        "\n",
        "from transformers import DistilBertTokenizer\n",
        "from tqdm.notebook import tqdm\n",
        "\n",
        "\n",
        "import numpy as np\n",
        "import torch\n",
        "import torch.nn.functional as F\n",
        "import torch.nn as nn\n",
        "import math\n",
        "from torch.utils.data import DataLoader\n",
        "from tabulate import tabulate\n",
        "from datasets import load_dataset\n",
        "\n",
        "from tqdm.notebook import tqdm\n",
        "\n",
        "# If the machine you run this on has a GPU available with CUDA installed,\n",
        "# use it. Using a GPU for learning often leads to huge speedups in training.\n",
        "# See https://developer.nvidia.com/cuda-downloads for installing CUDA\n",
        "DEVICE = torch.device(\"cuda\" if torch.cuda.is_available() else \"cpu\")\n",
        "DEVICE"
      ]
    },
    {
      "cell_type": "markdown",
      "metadata": {
        "id": "qkOsT1Bttqod"
      },
      "source": [
        "## Download the training data"
      ]
    },
    {
      "cell_type": "code",
      "execution_count": null,
      "metadata": {
        "colab": {
          "base_uri": "https://localhost:8080/",
          "height": 314,
          "referenced_widgets": [
            "d45cf8d281924e6e9a7f07e46d65bb6d",
            "29413fc93fff4b3ca003cf2ab2ab442f",
            "50a12b64d15e40fdb7f185fc56326428",
            "bce2cb6311cb447aa0abc430fde977fe",
            "0b184e50de2344df80fce2abc4c187c3",
            "63331eb40cdb45f3a956efd1e8bfe582",
            "5b4f4aac0531497280864f1fc3ea2e5c",
            "7798361c6aab41bf8ce0964a9e39ab82",
            "ea24123685794de08792f15c8adfb88f",
            "c0cf4b816ef242d88d99bb1676cb9e6f",
            "b3e81543bdf74a04b5b640b18a5794cc",
            "177e34e0a0144b179635b6a17bdbf63f",
            "48cc73257a014abeb840c1531ed681db",
            "011d8333edc84c36b1b6710247d47f13",
            "557a7f6e7d124504b30d3ea764581c98",
            "942e463ee6f441efa9dc581435b59627",
            "00ec189d29b946f29488d463744f208f",
            "402279343b1b4049b8e1ae7dd2dbdc68",
            "40753cb931f349e98844c82df7228406",
            "05e4a85848124202937dcf5aac1704f1",
            "ab4b0d018d314b2f835b87b6d75adebc",
            "1653f9feb4fe4872ba768be82d928d3d",
            "98f20cab15af4fe2a8a1596a32a1fb59",
            "e43e8572e5ff43b494fca49e2aba6076",
            "638c6343d297436fa36d7916db7c2511",
            "df6e3d39276744559ff39df091da60a1",
            "6009b95284594d8984440d4743a1f8ec",
            "6e8c6ef7857b4d5c81ad2ae5c4230edf",
            "c91a499bd0944d48aab0c1f4ab0ad3b9",
            "72df9df47f08478f98f1ff4ef500c543",
            "a84829aec94d4a868f757f210934ea8d",
            "ade40ecf571f4267bd9c2960bd38525c",
            "a31a53430496418ab3f8712b0e95cba4"
          ]
        },
        "id": "OA6soGbGR__h",
        "outputId": "b14bea3e-59a6-41c5-bdb4-68563790d010"
      },
      "outputs": [
        {
          "output_type": "stream",
          "name": "stderr",
          "text": [
            "/usr/local/lib/python3.11/dist-packages/huggingface_hub/utils/_auth.py:94: UserWarning: \n",
            "The secret `HF_TOKEN` does not exist in your Colab secrets.\n",
            "To authenticate with the Hugging Face Hub, create a token in your settings tab (https://huggingface.co/settings/tokens), set it as secret in your Google Colab and restart your session.\n",
            "You will be able to reuse this secret in all of your notebooks.\n",
            "Please note that authentication is recommended but still optional to access public models or datasets.\n",
            "  warnings.warn(\n"
          ]
        },
        {
          "output_type": "display_data",
          "data": {
            "text/plain": [
              "README.md: 0.00B [00:00, ?B/s]"
            ],
            "application/vnd.jupyter.widget-view+json": {
              "version_major": 2,
              "version_minor": 0,
              "model_id": "d45cf8d281924e6e9a7f07e46d65bb6d"
            }
          },
          "metadata": {}
        },
        {
          "output_type": "display_data",
          "data": {
            "text/plain": [
              "IMDB Dataset.csv:   0%|          | 0.00/66.2M [00:00<?, ?B/s]"
            ],
            "application/vnd.jupyter.widget-view+json": {
              "version_major": 2,
              "version_minor": 0,
              "model_id": "177e34e0a0144b179635b6a17bdbf63f"
            }
          },
          "metadata": {}
        },
        {
          "output_type": "display_data",
          "data": {
            "text/plain": [
              "Generating train split:   0%|          | 0/50000 [00:00<?, ? examples/s]"
            ],
            "application/vnd.jupyter.widget-view+json": {
              "version_major": 2,
              "version_minor": 0,
              "model_id": "98f20cab15af4fe2a8a1596a32a1fb59"
            }
          },
          "metadata": {}
        },
        {
          "output_type": "stream",
          "name": "stdout",
          "text": [
            "Dataset({\n",
            "    features: ['review', 'sentiment'],\n",
            "    num_rows: 50000\n",
            "})\n"
          ]
        }
      ],
      "source": [
        "dataset = load_dataset(\"scikit-learn/imdb\", split=\"train\")\n",
        "print(dataset)"
      ]
    },
    {
      "cell_type": "markdown",
      "metadata": {
        "id": "oAVqumxwXc1d"
      },
      "source": []
    },
    {
      "cell_type": "markdown",
      "metadata": {
        "id": "_S88giEYTiel"
      },
      "source": [
        "## Prepare model inputs\n",
        "\n",
        "The input format to BERT looks like it is  \"over-specified\", especially if you focus on just one type task: sequence classification, word tagging, paraphrase detection, ...  The format:\n",
        "- Add special tokens to the start and end of each sentence.\n",
        "- Pad & truncate all sentences to a single constant length.\n",
        "- Explicitly differentiate real tokens from padding tokens with the \"attention mask\".\n",
        "\n",
        "It looks like that:\n",
        "\n",
        "<img src=\"https://drive.google.com/uc?export=view&id=1cb5xeqLu_5vPOgs3eRnail2Y00Fl2pCo\" width=\"600\">\n",
        "\n",
        "If you don't want to recreate this kind of inputs with your own hands, you can use the pre-trained tokenizer associated to BERT. Moreover the function `encode_plus` will:\n",
        "- Tokenize the sentence.\n",
        "- Prepend the `[CLS]` token to the start.\n",
        "- Append the `[SEP]` token to the end.\n",
        "- Map tokens to their IDs.\n",
        "- Pad or truncate the sentence to `max_length`\n",
        "- Create attention masks for `[PAD]` tokens.\n",
        "\n",
        "\n",
        "> 💡 *Note:* For computational reasons, we will use the [DistilBERT](https://huggingface.co/docs/transformers/model_doc/distilbert) model, which is a 40% smaller than the original BERT model but still achieve about 95% of the performances of the original model."
      ]
    },
    {
      "cell_type": "code",
      "execution_count": null,
      "metadata": {
        "id": "_sUff5oag4SP",
        "colab": {
          "base_uri": "https://localhost:8080/",
          "height": 145,
          "referenced_widgets": [
            "d294254bc2874f73b13b0555c18252f0",
            "41546707418d4951a3da65b6cfa84d7c",
            "01eeb444a27444c9b8148c681cfff84e",
            "53aa22d8335d472cacaddd7dbe7a67c8",
            "36f050d89eb44e35b2428c2ab5a31e6f",
            "cedcf4c148e3431e82ac008cda2cfc41",
            "f3718e2fe4284287bcdba36702dfb0f9",
            "49e37aebfa974f75a173628e5df3cbd2",
            "ad32270182004f9c8b3b6f319e1039d6",
            "eadaa90fca17492b94d45807559d9f13",
            "45455743ed8146f880eaab026df98969",
            "41a07a4a48864e988ef88f63897b6adb",
            "de82fcf7689e449192595b12e6d6ff39",
            "fc1fd5bece6e4af28ef64a4590df26ee",
            "df483b994dbb4543a5e3cf3c35e4feb9",
            "0964a8246e3c4060a78513fcf621390c",
            "78cd37c4e4f04247a375f15ea971a018",
            "db183df4ff8047d4b8b2feaf0148ad9e",
            "3a6c83c17c5644a592c2c82a124a2c91",
            "3db54ebcc3704b5da4344456b956c82a",
            "c7ce19b2b04b4d559500db06bade8956",
            "3a21bc2a5ca544e0ae6d63326ba4f3a3",
            "5e657163927346929c75b1164308fc31",
            "1df0963fc5ec41d1ae33e7ab50f61880",
            "d08bd1fcc06d47e8b86b2638f6c75044",
            "59210ad8694548818140322d36610e3c",
            "ae6ea2a469b24182a40ab16d49575255",
            "d6acb0a608ee4e31906ee708e61711b3",
            "1d1709169e6047fb85801e49ee7dd5b6",
            "86f60751d95445208f233c869fdb6833",
            "3f3155826f714433a612180debea5717",
            "e05d77259fe94ad29aca45c0076c1462",
            "9a699d277c394a569c74ec4c467bf674",
            "1109d087d55a4c759eb5c91fcd66a363",
            "bcd66e71b8644dafb99cf8f092ac912b",
            "5ec39cf313af4030880c67f3c73c9dcd",
            "926ab3efc71d47d69caa6ee9e74dc585",
            "5b38518d3be64a7784f9b0c645fcb790",
            "bb6662234f874d8a8ba8ac0cbbe57ed3",
            "caa2559296864f239ccd8c424e8b6f52",
            "c3f76bddb51740f7a0a7239b17acb400",
            "a5c29ec5c9d64cb1ac695b279cc2c757",
            "3d467d0579e44b9d9f2468ee4a3443ab",
            "b1b1744cc3ad44b99aecc68fb880cbbe"
          ]
        },
        "outputId": "6f7dd936-6faf-435a-98a2-91f77374cf3e"
      },
      "outputs": [
        {
          "output_type": "display_data",
          "data": {
            "text/plain": [
              "tokenizer_config.json:   0%|          | 0.00/48.0 [00:00<?, ?B/s]"
            ],
            "application/vnd.jupyter.widget-view+json": {
              "version_major": 2,
              "version_minor": 0,
              "model_id": "d294254bc2874f73b13b0555c18252f0"
            }
          },
          "metadata": {}
        },
        {
          "output_type": "display_data",
          "data": {
            "text/plain": [
              "vocab.txt:   0%|          | 0.00/232k [00:00<?, ?B/s]"
            ],
            "application/vnd.jupyter.widget-view+json": {
              "version_major": 2,
              "version_minor": 0,
              "model_id": "41a07a4a48864e988ef88f63897b6adb"
            }
          },
          "metadata": {}
        },
        {
          "output_type": "display_data",
          "data": {
            "text/plain": [
              "tokenizer.json:   0%|          | 0.00/466k [00:00<?, ?B/s]"
            ],
            "application/vnd.jupyter.widget-view+json": {
              "version_major": 2,
              "version_minor": 0,
              "model_id": "5e657163927346929c75b1164308fc31"
            }
          },
          "metadata": {}
        },
        {
          "output_type": "display_data",
          "data": {
            "text/plain": [
              "config.json:   0%|          | 0.00/483 [00:00<?, ?B/s]"
            ],
            "application/vnd.jupyter.widget-view+json": {
              "version_major": 2,
              "version_minor": 0,
              "model_id": "1109d087d55a4c759eb5c91fcd66a363"
            }
          },
          "metadata": {}
        }
      ],
      "source": [
        "tokenizer = DistilBertTokenizer.from_pretrained(\n",
        "    \"distilbert-base-uncased\", do_lower_case=True\n",
        ")"
      ]
    },
    {
      "cell_type": "markdown",
      "metadata": {
        "id": "E9PJQH0yZbE0"
      },
      "source": [
        "Let's see how the tokenizer actually process the sequence:"
      ]
    },
    {
      "cell_type": "code",
      "execution_count": null,
      "metadata": {
        "colab": {
          "base_uri": "https://localhost:8080/"
        },
        "id": "cXpTeR-mTiem",
        "outputId": "5d518b0f-8145-417f-9334-6f88e13a3ab2"
      },
      "outputs": [
        {
          "output_type": "stream",
          "name": "stdout",
          "text": [
            "Tokens in the sequence: ['hello', 'my', 'name', 'is', 'kevin']\n",
            "Encoded inputs:\n",
            "╒═════════════╤══════════╕\n",
            "│   Token IDs │ Tokens   │\n",
            "╞═════════════╪══════════╡\n",
            "│         101 │ [CLS]    │\n",
            "├─────────────┼──────────┤\n",
            "│        7592 │ hello    │\n",
            "├─────────────┼──────────┤\n",
            "│        2026 │ my       │\n",
            "├─────────────┼──────────┤\n",
            "│        2171 │ name     │\n",
            "├─────────────┼──────────┤\n",
            "│        2003 │ is       │\n",
            "├─────────────┼──────────┤\n",
            "│        4901 │ kevin    │\n",
            "├─────────────┼──────────┤\n",
            "│         102 │ [SEP]    │\n",
            "╘═════════════╧══════════╛\n"
          ]
        }
      ],
      "source": [
        "# Some useful steps:\n",
        "message = \"hello my name is kevin\"\n",
        "tok = tokenizer.tokenize(message)\n",
        "print(\"Tokens in the sequence:\", tok)\n",
        "enc = tokenizer.encode(tok)\n",
        "table = np.array(\n",
        "    [\n",
        "        enc,\n",
        "        [tokenizer.ids_to_tokens[w] for w in enc],\n",
        "    ]\n",
        ").T\n",
        "print(\"Encoded inputs:\")\n",
        "print(tabulate(table, headers=[\"Token IDs\", \"Tokens\"], tablefmt=\"fancy_grid\"))"
      ]
    },
    {
      "cell_type": "markdown",
      "metadata": {
        "id": "Kv_6QpsPTien"
      },
      "source": [
        "🚧 **Question** 🚧\n",
        "\n",
        "You noticed special tokens like `[CLS]` and `[SEP]` in the sequence. Note how they were added automatically by HuggingFace.\n",
        "\n",
        "- Why are there such special tokens?\n",
        "\n",
        "**Answer - Edoardo as of 08 2025**\n",
        "\n",
        "CLS --> model assumes we are working on a classification task. It is a token used to represent the sentence for the next tasks and it can be considered, after several transformer layers, as a summary representation of the sentences.\n",
        "\n",
        "SEP --> it is the separator token. In this specific case it is not important because we have only 1 sentence. However, it is important when there are several sentences.\n",
        "\n",
        "The SEP token is very important, for example, in case we have a Q&A tasks."
      ]
    },
    {
      "cell_type": "markdown",
      "metadata": {
        "id": "mJJDGDDZc49_"
      },
      "source": [
        "## Data pre-processing\n",
        "\n",
        "Usual data-processing for torch. Same as previous lab."
      ]
    },
    {
      "cell_type": "code",
      "execution_count": null,
      "metadata": {
        "id": "cv4YSE9Zg4SP"
      },
      "outputs": [],
      "source": [
        "def preprocessing_fn(x, tokenizer):\n",
        "    # 1. Convert text to token IDs\n",
        "    x[\"input_ids\"] = tokenizer.encode(\n",
        "        x[\"review\"],                # the review text\n",
        "        add_special_tokens=True,   # modified by Edoardo to generate CLS and SEP tokens (for use later)\n",
        "        truncation=True,            # cut off if too long\n",
        "        max_length=256,             # cap length at 256 tokens\n",
        "        padding=False,              # don’t pad (done later in batching) - pad = filler\n",
        "        return_attention_mask=False # only return IDs, no mask - attention mask tells the model which token is real vs padded\n",
        "    )\n",
        "\n",
        "    # 2. Map sentiment to label\n",
        "    x[\"labels\"] = 0 if x[\"sentiment\"] == \"negative\" else 1\n",
        "\n",
        "    return x"
      ]
    },
    {
      "cell_type": "markdown",
      "source": [
        "**Explanation Edoardo 08 2025**\n",
        "\n",
        "The function above converts raw review text and sentiment lables into a tokenized sequence and numerical labels. Those can be consumed by an Hugging Face Model."
      ],
      "metadata": {
        "id": "iUr93Y60bWOb"
      }
    },
    {
      "cell_type": "code",
      "execution_count": null,
      "metadata": {
        "colab": {
          "base_uri": "https://localhost:8080/",
          "height": 49,
          "referenced_widgets": [
            "79bd767b7fe7430e8abc840fd4d8f27d",
            "6ddac0b9c4a043bebacc39163c935ad0",
            "f8a4824e597248deb0717f945cffb1ce",
            "22a4266ba9b044888bc94f86e4bac5e7",
            "f1aa20f521fe4c1b9ce08071dc2481ab",
            "9da651cad266405fb25c67a43a361e9d",
            "7812c46347704b0aa99b11cd5d1529d4",
            "97d852b021814991ab0b15f28c06bd59",
            "846260f4114b49d486dff4e45c8b68a3",
            "25bda5de3f6b452997e4afe004e74559",
            "25afda6c5fdb4e6eaefe588dfe1dcbe1"
          ]
        },
        "id": "Qx2KZ7AFXPYU",
        "outputId": "d237c840-7c9e-4315-cfdd-21789b6fb4e2"
      },
      "outputs": [
        {
          "output_type": "display_data",
          "data": {
            "text/plain": [
              "Map:   0%|          | 0/2000 [00:00<?, ? examples/s]"
            ],
            "application/vnd.jupyter.widget-view+json": {
              "version_major": 2,
              "version_minor": 0,
              "model_id": "79bd767b7fe7430e8abc840fd4d8f27d"
            }
          },
          "metadata": {}
        }
      ],
      "source": [
        "n_samples = 2000  # the number of training example from the dataset\n",
        "\n",
        "# We first shuffle the data to randomize the examples taken\n",
        "dataset = dataset.shuffle()\n",
        "\n",
        "# Select 2000 samples\n",
        "splitted_dataset = dataset.select(range(n_samples))\n",
        "\n",
        "# Tokenize the dataset and creates inputs_ids and labels (from previous function)\n",
        "splitted_dataset = splitted_dataset.map(\n",
        "    preprocessing_fn, fn_kwargs={\"tokenizer\": tokenizer}\n",
        ")\n",
        "\n",
        "# Remove useless columns / keeps only the generated input_ids and labels\n",
        "splitted_dataset = splitted_dataset.select_columns([\"input_ids\", \"labels\"])\n",
        "\n",
        "# Split the train and validation\n",
        "splitted_dataset = splitted_dataset.train_test_split(test_size=0.2)\n",
        "\n",
        "train_set = splitted_dataset[\"train\"]\n",
        "valid_set = splitted_dataset[\"test\"]"
      ]
    },
    {
      "cell_type": "markdown",
      "source": [
        "**Explanation Edoardo 08 2025**\n",
        "\n",
        "Prepare data set for model training. Training will be done with DistilBert on 2000 examples randomly selected and tokenized.\n"
      ],
      "metadata": {
        "id": "OkozgdwfcOOy"
      }
    },
    {
      "cell_type": "code",
      "execution_count": null,
      "metadata": {
        "id": "MwVeJ9-jdJbF"
      },
      "outputs": [],
      "source": [
        "class DataCollator:\n",
        "    def __init__(self, tokenizer):\n",
        "        self.tokenizer = tokenizer\n",
        "\n",
        "    def __call__(self, batch):\n",
        "        features = self.tokenizer.pad(\n",
        "            batch, padding=\"longest\", max_length=256, return_tensors=\"pt\"\n",
        "        )\n",
        "        return features"
      ]
    },
    {
      "cell_type": "markdown",
      "source": [
        "**Explanation Edoardo 08 2025**\n",
        "\n",
        "As in the preprocessing function we did not do the padding, we are now doing it. The above code allows to:\n",
        "\n",
        "1. It takes the input_ids (which are different lengths right now).\n",
        "2. Pads them so they all match the longest sequence in that batch (efficient, avoids over-padding).\n",
        "3. Adds an attention mask automatically (1 for real tokens, 0 for padding).\n",
        "4. Converts everything into PyTorch tensors (torch.LongTensor) so the model can use them."
      ],
      "metadata": {
        "id": "iFwaOxbfdMU5"
      }
    },
    {
      "cell_type": "code",
      "execution_count": null,
      "metadata": {
        "id": "7gGBxVl9Cukq"
      },
      "outputs": [],
      "source": [
        "# Initiate the collator\n",
        "\n",
        "data_collator = DataCollator(tokenizer)"
      ]
    },
    {
      "cell_type": "markdown",
      "source": [
        "**Explanation Edoardo 08 2025**\n",
        "\n",
        "The collator will:\n",
        "\n",
        "- Pad the batch dynamically\n",
        "- Add attention mask labels (0 & 1)\n",
        "- Return tensors in the right format."
      ],
      "metadata": {
        "id": "_xIKY4hofWB7"
      }
    },
    {
      "cell_type": "code",
      "execution_count": null,
      "metadata": {
        "id": "OVuKFSa9g4SY"
      },
      "outputs": [],
      "source": [
        "batch_size = 4 #process 4 examples at a time\n",
        "\n",
        "train_dataloader = DataLoader(\n",
        "    train_set, batch_size=batch_size, collate_fn=data_collator, shuffle=True\n",
        ") #pad and return tensors for the train set, with shuffling\n",
        "valid_dataloader = DataLoader(\n",
        "    valid_set, batch_size=batch_size, collate_fn=data_collator\n",
        ") #pad and return tensors for validation set\n",
        "n_valid = len(valid_set)\n",
        "n_train = len(train_set)"
      ]
    },
    {
      "cell_type": "markdown",
      "source": [
        "**What is done above**\n",
        "\n",
        "| Step                   | Status | Code you already have                                               | Purpose                                                           |\n",
        "| ---------------------- | ------ | ------------------------------------------------------------------- | ----------------------------------------------------------------- |\n",
        "| Dataset loaded         | ✅      | `dataset` already exists                                            | Get raw reviews + sentiments                                      |\n",
        "| Shuffle                | ✅      | `dataset = dataset.shuffle()`                                       | Remove order bias                                                 |\n",
        "| Subsample              | ✅      | `dataset.select(range(n_samples))`                                  | Work on 2,000 examples only                                       |\n",
        "| Tokenization           | ✅      | `dataset.map(preprocessing_fn, fn_kwargs={\"tokenizer\": tokenizer})` | Convert reviews → token IDs, sentiment → labels                   |\n",
        "| Column pruning         | ✅      | `select_columns([\"input_ids\", \"labels\"])`                           | Keep only relevant fields                                         |\n",
        "| Train/validation split | ✅      | `train_test_split(test_size=0.2)`                                   | Split into train/valid sets                                       |\n",
        "| Data collator          | ✅      | `DataCollator(tokenizer)`                                           | Handles **dynamic padding**, adds attention mask, returns tensors |\n",
        "| Dataloaders            | ✅      | `DataLoader(train_set, ... collate_fn=data_collator)`               | Feed data in mini-batches                                         |\n"
      ],
      "metadata": {
        "id": "pFa33okUktre"
      }
    },
    {
      "cell_type": "markdown",
      "source": [
        "# Add Edoardo 08 2025 (classification)"
      ],
      "metadata": {
        "id": "bj1ytvdDlgJy"
      }
    },
    {
      "cell_type": "markdown",
      "source": [
        "**What is missing to run a classification using the above**\n",
        "\n",
        "| Step                                     | What to do                                                                                                                                                            |\n",
        "| ---------------------------------------- | --------------------------------------------------------------------------------------------------------------------------------------------------------------------- |\n",
        "| **Device setup & reproducibility**       | Select GPU if available (`device = torch.device(\"cuda\" if torch.cuda.is_available() else \"cpu\")`), set random seeds for reproducibility (`random`, `numpy`, `torch`). |\n",
        "| **Load model**                           | Use `DistilBertForSequenceClassification.from_pretrained(\"distilbert-base-uncased\", num_labels=2)`, then move it to `device`.                                         |\n",
        "| **Optimizer**                            | Define optimizer, usually `AdamW` with small LR (`2e-5` to `5e-5`) and weight decay (e.g., `0.01`).                                                                   |\n",
        "| **Scheduler (optional but recommended)** | Learning rate warmup + decay, via `get_linear_schedule_with_warmup`.                                                                                                  |\n",
        "| **Training loop**                        | Iterate over `train_dataloader`: forward pass, compute loss, backward pass, gradient clipping, optimizer + scheduler step.                                            |\n",
        "| **Validation loop**                      | After each epoch, run `model.eval()` on `valid_dataloader`: compute val loss, accuracy, F1 score, etc.                                                                |\n",
        "| **Metrics**                              | Track training loss, validation loss, and at least **accuracy** (better also F1 if dataset is imbalanced).                                                            |\n",
        "| **Logging / monitoring**                 | Print metrics per epoch, optionally add progress bars (`tqdm`).                                                                                                       |\n",
        "| **Checkpointing**                        | Save best model & tokenizer: `model.save_pretrained(\"./distilbert-best\")`, `tokenizer.save_pretrained(\"./distilbert-best\")`.                                          |\n",
        "| **Sanity checks**                        | Verify `[CLS]` (id=101) at start, `[SEP]` (id=102) present, `attention_mask` correct; inspect one batch to confirm.                                                   |\n"
      ],
      "metadata": {
        "id": "0VuX9jc2liqp"
      }
    },
    {
      "cell_type": "markdown",
      "source": [
        "## Devide set up & reproducibility\n",
        "\n",
        "- Ensures results are reproducible across runs (same seed = same shuffling, same weight initialization, etc.).\n",
        "- Chooses GPU if available, otherwise falls back to CPU.\n",
        "- Printing confirms where your model will run."
      ],
      "metadata": {
        "id": "NEMPGv-Ol4-D"
      }
    },
    {
      "cell_type": "code",
      "source": [
        "import torch, random, numpy as np\n",
        "\n",
        "# Reproducibility\n",
        "seed = 42\n",
        "random.seed(seed)\n",
        "np.random.seed(seed)\n",
        "torch.manual_seed(seed)\n",
        "torch.cuda.manual_seed_all(seed)\n",
        "\n",
        "# Device setup\n",
        "device = torch.device(\"cuda\" if torch.cuda.is_available() else \"cpu\")\n",
        "print(\"Using device:\", device)"
      ],
      "metadata": {
        "colab": {
          "base_uri": "https://localhost:8080/"
        },
        "id": "JAYX-Ol9l4OA",
        "outputId": "f67579e5-fc07-49c2-dcc3-f67bd06b19f2"
      },
      "execution_count": null,
      "outputs": [
        {
          "output_type": "stream",
          "name": "stdout",
          "text": [
            "Using device: cuda\n"
          ]
        }
      ]
    },
    {
      "cell_type": "markdown",
      "source": [
        "## Load Model\n",
        "\n",
        "- Loads DistilBERT pretrained on masked language modeling.\n",
        "- Adds a classification head (a linear layer on top of the [CLS] embedding).\n",
        "- Sets num_labels=2 → binary classification.\n",
        "- Moves everything to the device you set (cuda if available). Both the model and the data needs to be on the same devide to interact."
      ],
      "metadata": {
        "id": "0p7RgFN6nKyf"
      }
    },
    {
      "cell_type": "code",
      "source": [
        "from transformers import DistilBertForSequenceClassification\n",
        "\n",
        "# Load pretrained DistilBERT with a classification head (binary sentiment)\n",
        "model = DistilBertForSequenceClassification.from_pretrained(\n",
        "    \"distilbert-base-uncased\",\n",
        "    num_labels=2   # because you have \"negative\" (0) and \"positive\" (1)\n",
        ")\n",
        "\n",
        "# Move model to device (GPU/CPU)\n",
        "model = model.to(device)\n",
        "\n",
        "print(\"Model loaded with\", model.num_labels, \"labels\")\n"
      ],
      "metadata": {
        "colab": {
          "base_uri": "https://localhost:8080/"
        },
        "id": "NmHY8F1DokWJ",
        "outputId": "fef96a79-169d-4760-d13e-8029b90a9e6c"
      },
      "execution_count": null,
      "outputs": [
        {
          "output_type": "stream",
          "name": "stderr",
          "text": [
            "Some weights of DistilBertForSequenceClassification were not initialized from the model checkpoint at distilbert-base-uncased and are newly initialized: ['classifier.bias', 'classifier.weight', 'pre_classifier.bias', 'pre_classifier.weight']\n",
            "You should probably TRAIN this model on a down-stream task to be able to use it for predictions and inference.\n"
          ]
        },
        {
          "output_type": "stream",
          "name": "stdout",
          "text": [
            "Model loaded with 2 labels\n"
          ]
        }
      ]
    },
    {
      "cell_type": "markdown",
      "source": [
        "**Interpretation Output**\n",
        "\n",
        "The model is pretrained for predicting missing words and not for classification.\n",
        "\n",
        "Also, the model starts from pretrained weights and the classifier must be trained on our sentiment dataset. After this training (fine tuning), the new head learns how to map [CLS] embedding --> positive / negative.\n",
        "\n",
        "Finally, python suggest us the next step : TRAIN to be able to use the model.\n",
        "\n",
        "We will:\n",
        "1. Fine tune\n",
        "2. Use it"
      ],
      "metadata": {
        "id": "3SzJgHChoxiF"
      }
    },
    {
      "cell_type": "markdown",
      "source": [
        "## Optimizer and Scheduler\n",
        "\n",
        "**Recap Optimizer**\n",
        "\n",
        "It is an algo that updates the model weights during training (based on the latest computed loss).\n",
        "\n",
        "Adam learns different learning rates for different weights. The decay prevents overfitting by keeping weights to grow too large.\n",
        "\n",
        "**Recap Scheduler**\n",
        "\n",
        "Learning rate = how big the optimizer steps are.\n",
        "\n",
        "We use the scheduler as the weights are random at the beginning and we need to gradually change them.\n",
        "\n",
        "From an **intuitive** perspective:\n",
        "\n",
        "- Optimizer = *how do we adjust the weights based on the loss?*\n",
        "- Scheduler = *how big should we make the steps from now to the next training?*\n",
        "\n"
      ],
      "metadata": {
        "id": "gkfsPJtopmJC"
      }
    },
    {
      "cell_type": "code",
      "source": [
        "from transformers import get_linear_schedule_with_warmup\n",
        "\n",
        "# Training hyperparameters\n",
        "epochs = 3\n",
        "learning_rate = 2e-5\n",
        "weight_decay = 0.01\n",
        "\n",
        "# Optimizer: AdamW is standard for transformers\n",
        "optimizer = torch.optim.AdamW(\n",
        "    model.parameters(),\n",
        "    lr=learning_rate,\n",
        "    weight_decay=weight_decay\n",
        ")\n",
        "\n",
        "# Total training steps = batches per epoch × epochs\n",
        "total_steps = epochs * len(train_dataloader)\n",
        "\n",
        "# Scheduler: linear warmup + decay\n",
        "warmup_steps = int(0.1 * total_steps)  # 10% warmup\n",
        "scheduler = get_linear_schedule_with_warmup(\n",
        "    optimizer,\n",
        "    num_warmup_steps=warmup_steps,\n",
        "    num_training_steps=total_steps\n",
        ")\n",
        "\n",
        "print(f\"Optimizer and scheduler ready: {total_steps} steps total, {warmup_steps} warmup steps\")\n"
      ],
      "metadata": {
        "colab": {
          "base_uri": "https://localhost:8080/"
        },
        "id": "68QSqU6xpluv",
        "outputId": "c7668f16-b3ed-4700-8510-d17c5ddeb918"
      },
      "execution_count": null,
      "outputs": [
        {
          "output_type": "stream",
          "name": "stdout",
          "text": [
            "Optimizer and scheduler ready: 1200 steps total, 120 warmup steps\n"
          ]
        }
      ]
    },
    {
      "cell_type": "markdown",
      "source": [
        "## Training & Validation\n",
        "\n",
        "**Explanation of the theory**\n",
        "\n",
        "*Forward pass*\n",
        "\n",
        "Input: a batch of reviews → tokenized into input_ids and attention_mask.\n",
        "\n",
        "The model:\n",
        "\n",
        "- Looks up embeddings for each token.\n",
        "- Passes them through the DistilBERT encoder (stack of Transformer layers).\n",
        "- Uses the [CLS] token’s hidden state as a representation of the whole sentence.\n",
        "- Feeds that into the classification head (a small linear layer).\n",
        "- Output: logits → raw, unnormalized scores for each class (positive/negative).\n",
        "\n",
        "Mathematically:\n",
        "\n",
        "$$\n",
        "\\text{logits} = W \\cdot h_{\\text{[CLS]}} + b\n",
        "$$\n",
        "\n",
        "*Loss computation*\n",
        "\n",
        "We compare the logits with the true labels (0 and 1). We calculate the loss function cross entropy:\n",
        "\n",
        "$$\n",
        "L = - \\Big( y \\cdot \\log(\\hat{y}) + (1-y) \\cdot \\log(1-\\hat{y}) \\Big)\n",
        "$$\n",
        "\n",
        "where:\n",
        "\n",
        "$$\n",
        "\\hat{y}_i = \\frac{e^{\\text{logits}_i}}{\\sum_j e^{\\text{logits}_j}}\n",
        "$$\n",
        "\n",
        "\n",
        "*Backward pass*\n",
        "\n",
        "Pytorch automatically computes the gradients of the loss with respect to every model parameters. The gradient (or slope) will tell us how to nugde each weight to reduce the loss.\n",
        "\n",
        "- If the gradient is +, we should decrease the weight. And viceversa.\n",
        "\n",
        "*Gradient clipping*\n",
        "\n",
        "If gradients produced risk to be too large, we can clip them to limit their size and ensure stable updates. Mathematically:\n",
        "\n",
        "$$\n",
        "g = min(g,clip  value)\n",
        "$$\n",
        "\n",
        "*Optimizer*\n",
        "\n",
        "Then it is the role of the optimizer to apply the gradients to update weights, including weight decay in our case.\n",
        "\n",
        "Mathematically:\n",
        "\n",
        "$$\n",
        "w \\leftarrow w - \\eta \\cdot \\nabla_w L\n",
        "$$\n",
        "\n",
        "With n being the learning rate.\n",
        "\n",
        "*Scheduler*\n",
        "\n",
        "Instead of keeping the learning rate constant with start small, increase it and then decrease it again.\n",
        "\n",
        "*Validation*\n",
        "\n",
        "- Turn off gradients (model.eval() + torch.no_grad()).\n",
        "- Run the model on validation data.\n",
        "- Compute validation loss + metrics (accuracy, F1).\n",
        "\n",
        "This checks if the model is learning general patterns, not just memorizing training data.\n",
        "\n",
        "*Checkpoint*\n",
        "\n",
        "Save weights when validation loss improves. To prevent forgetting a good model\n"
      ],
      "metadata": {
        "id": "eYXneoOTtAgJ"
      }
    },
    {
      "cell_type": "code",
      "source": [
        "from torch.nn.utils import clip_grad_norm_\n",
        "import torch\n",
        "\n",
        "epochs = 3\n",
        "best_val_loss = float(\"inf\")\n",
        "\n",
        "for epoch in range(1, epochs + 1):\n",
        "    print(f\"\\nEpoch {epoch}/{epochs}\")\n",
        "\n",
        "    # -------- TRAIN --------\n",
        "    model.train()\n",
        "    total_train_loss = 0.0\n",
        "\n",
        "    for batch in train_dataloader:\n",
        "        # move batch tensors to device\n",
        "        batch = {k: v.to(device) for k, v in batch.items()}\n",
        "\n",
        "        optimizer.zero_grad(set_to_none=True)\n",
        "\n",
        "        # forward pass (returns loss when 'labels' is provided)\n",
        "        outputs = model(**batch)\n",
        "        loss = outputs.loss\n",
        "        total_train_loss += loss.item()\n",
        "\n",
        "        # backward pass\n",
        "        loss.backward()\n",
        "        # gradient clipping for stability\n",
        "        clip_grad_norm_(model.parameters(), max_norm=1.0)\n",
        "\n",
        "        # update weights + lr\n",
        "        optimizer.step()\n",
        "        scheduler.step()\n",
        "\n",
        "    avg_train_loss = total_train_loss / len(train_dataloader)\n",
        "    print(f\"  Training loss: {avg_train_loss:.4f}\")\n",
        "\n",
        "    # -------- VALIDATE --------\n",
        "    model.eval()\n",
        "    total_val_loss = 0.0\n",
        "    correct, total = 0, 0\n",
        "\n",
        "    with torch.no_grad():\n",
        "        for batch in valid_dataloader:\n",
        "            batch = {k: v.to(device) for k, v in batch.items()}\n",
        "\n",
        "            outputs = model(**batch)\n",
        "            loss = outputs.loss\n",
        "            logits = outputs.logits\n",
        "\n",
        "            total_val_loss += loss.item()\n",
        "\n",
        "            preds = logits.argmax(dim=-1)\n",
        "            correct += (preds == batch[\"labels\"]).sum().item()\n",
        "            total += batch[\"labels\"].size(0)\n",
        "\n",
        "    avg_val_loss = total_val_loss / len(valid_dataloader)\n",
        "    val_acc = correct / total if total > 0 else 0.0\n",
        "    print(f\"  Validation loss: {avg_val_loss:.4f} | Accuracy: {val_acc:.4f}\")\n",
        "\n",
        "    # save the best checkpoint\n",
        "    if avg_val_loss < best_val_loss:\n",
        "        best_val_loss = avg_val_loss\n",
        "        model.save_pretrained(\"./distilbert-best\")\n",
        "        tokenizer.save_pretrained(\"./distilbert-best\")\n",
        "        print(\"  ✅ Saved new best model to ./distilbert-best\")\n"
      ],
      "metadata": {
        "colab": {
          "base_uri": "https://localhost:8080/"
        },
        "id": "tzE92olktPAR",
        "outputId": "bc5d0afa-28df-403d-b98a-903ce23ef12a"
      },
      "execution_count": null,
      "outputs": [
        {
          "output_type": "stream",
          "name": "stdout",
          "text": [
            "\n",
            "Epoch 1/3\n",
            "  Training loss: 0.5283\n",
            "  Validation loss: 0.4788 | Accuracy: 0.8475\n",
            "  ✅ Saved new best model to ./distilbert-best\n",
            "\n",
            "Epoch 2/3\n",
            "  Training loss: 0.2913\n",
            "  Validation loss: 0.5518 | Accuracy: 0.8625\n",
            "\n",
            "Epoch 3/3\n",
            "  Training loss: 0.1375\n",
            "  Validation loss: 0.5690 | Accuracy: 0.8725\n"
          ]
        }
      ]
    },
    {
      "cell_type": "markdown",
      "source": [
        "**Interpretation**\n",
        "\n",
        "Classic pattern: the model is getting more confident over epochs. Accuracy creeps up, but validation loss rises (overconfidence on wrong cases). This is mild overfitting / miscalibration after epoch 1.\n",
        "\n",
        "Saving based on the current validation loss, the current best checkpoint is epoch 1. This is the best choice for generalization.\n"
      ],
      "metadata": {
        "id": "J-fK0wtcyYps"
      }
    },
    {
      "cell_type": "markdown",
      "source": [
        "## Sanity Check #1"
      ],
      "metadata": {
        "id": "N-fMxq5k0aQU"
      }
    },
    {
      "cell_type": "code",
      "source": [
        "# Grab a single batch from the training dataloader\n",
        "batch = next(iter(train_dataloader))\n",
        "\n",
        "# Print shapes\n",
        "print(\"Input IDs shape:\", batch[\"input_ids\"].shape)\n",
        "print(\"Attention mask shape:\", batch[\"attention_mask\"].shape)\n",
        "print(\"Labels shape:\", batch[\"labels\"].shape)\n",
        "\n",
        "# Print the first example\n",
        "first_input_ids = batch[\"input_ids\"][0]\n",
        "first_mask = batch[\"attention_mask\"][0]\n",
        "first_label = batch[\"labels\"][0]\n",
        "\n",
        "print(\"\\nFirst input_ids:\", first_input_ids.tolist())\n",
        "print(\"First attention_mask:\", first_mask.tolist())\n",
        "print(\"First label:\", first_label.item())\n",
        "\n",
        "# Convert IDs back to tokens to inspect\n",
        "tokens = tokenizer.convert_ids_to_tokens(first_input_ids)\n",
        "print(\"\\nDecoded tokens:\", tokens)\n"
      ],
      "metadata": {
        "colab": {
          "base_uri": "https://localhost:8080/"
        },
        "id": "0eNoMP1M1NOa",
        "outputId": "e6618049-00aa-41d6-f283-fdcb091f2003"
      },
      "execution_count": null,
      "outputs": [
        {
          "output_type": "stream",
          "name": "stdout",
          "text": [
            "Input IDs shape: torch.Size([4, 256])\n",
            "Attention mask shape: torch.Size([4, 256])\n",
            "Labels shape: torch.Size([4])\n",
            "\n",
            "First input_ids: [101, 1996, 3185, 2838, 2178, 11813, 5792, 2090, 2472, 2520, 1059, 20853, 1998, 19245, 18281, 2000, 3122, 1010, 1996, 2034, 2044, 2000, 3122, 2499, 2006, 6926, 8472, 1012, 2021, 1996, 5848, 1997, 2119, 2122, 2273, 2001, 4208, 2006, 10910, 1037, 6669, 19275, 3185, 1010, 5319, 1999, 1996, 2204, 2214, 2137, 3168, 2004, 1037, 2307, 2466, 1012, 1996, 4087, 5919, 1997, 1996, 3185, 2024, 3139, 2061, 2004, 1996, 13972, 4152, 9063, 2046, 1996, 2895, 2008, 3138, 2173, 2006, 1996, 3898, 2302, 12040, 3436, 2000, 1996, 2373, 1997, 1996, 3746, 1012, 6028, 2003, 2464, 2004, 1037, 4316, 1997, 6630, 4406, 1999, 6926, 8472, 2073, 23447, 1005, 10456, 2806, 2471, 3881, 1996, 3086, 2013, 1996, 2466, 2000, 1996, 2126, 1996, 2466, 2001, 2409, 1012, 2028, 1997, 2026, 5440, 5829, 2007, 2784, 3579, 1999, 2023, 2143, 2003, 1996, 3689, 21527, 2011, 1996, 4192, 2188, 18066, 1997, 11525, 1998, 2632, 1012, 2065, 11525, 1005, 1055, 2611, 1010, 19863, 2863, 3310, 2875, 2032, 6669, 1999, 3579, 1010, 2632, 3632, 2058, 2000, 2010, 2564, 2036, 6669, 1999, 3579, 1012, 2023, 2003, 1037, 8235, 2693, 2138, 2009, 3065, 2069, 2083, 1996, 2224, 1997, 1996, 3746, 1996, 3267, 1997, 2122, 6550, 2004, 2057, 2097, 2156, 2068, 2802, 1996, 3185, 1024, 19863, 2863, 7459, 11525, 1998, 2016, 13385, 2032, 2004, 2002, 2003, 1010, 2632, 1005, 1055, 2564, 7459, 2032, 2036, 2021, 2016, 5683, 4895, 28139, 19362, 2098, 2000, 3929, 6160, 2032, 2188, 1012, 2036, 2101, 1999, 1996, 2143, 2057, 2424, 2041, 2008, 2037, 3510, 2038, 2025, 2467, 2042, 1037, 2793, 1997, 10529, 1012, 1026, 7987, 102]\n",
            "First attention_mask: [1, 1, 1, 1, 1, 1, 1, 1, 1, 1, 1, 1, 1, 1, 1, 1, 1, 1, 1, 1, 1, 1, 1, 1, 1, 1, 1, 1, 1, 1, 1, 1, 1, 1, 1, 1, 1, 1, 1, 1, 1, 1, 1, 1, 1, 1, 1, 1, 1, 1, 1, 1, 1, 1, 1, 1, 1, 1, 1, 1, 1, 1, 1, 1, 1, 1, 1, 1, 1, 1, 1, 1, 1, 1, 1, 1, 1, 1, 1, 1, 1, 1, 1, 1, 1, 1, 1, 1, 1, 1, 1, 1, 1, 1, 1, 1, 1, 1, 1, 1, 1, 1, 1, 1, 1, 1, 1, 1, 1, 1, 1, 1, 1, 1, 1, 1, 1, 1, 1, 1, 1, 1, 1, 1, 1, 1, 1, 1, 1, 1, 1, 1, 1, 1, 1, 1, 1, 1, 1, 1, 1, 1, 1, 1, 1, 1, 1, 1, 1, 1, 1, 1, 1, 1, 1, 1, 1, 1, 1, 1, 1, 1, 1, 1, 1, 1, 1, 1, 1, 1, 1, 1, 1, 1, 1, 1, 1, 1, 1, 1, 1, 1, 1, 1, 1, 1, 1, 1, 1, 1, 1, 1, 1, 1, 1, 1, 1, 1, 1, 1, 1, 1, 1, 1, 1, 1, 1, 1, 1, 1, 1, 1, 1, 1, 1, 1, 1, 1, 1, 1, 1, 1, 1, 1, 1, 1, 1, 1, 1, 1, 1, 1, 1, 1, 1, 1, 1, 1, 1, 1, 1, 1, 1, 1, 1, 1, 1, 1, 1, 1, 1, 1, 1, 1, 1, 1]\n",
            "First label: 1\n",
            "\n",
            "Decoded tokens: ['[CLS]', 'the', 'movie', 'features', 'another', 'exceptional', 'collaboration', 'between', 'director', 'william', 'w', '##yler', 'and', 'cinematographer', 'gregg', 'to', '##land', ',', 'the', 'first', 'after', 'to', '##land', 'worked', 'on', 'citizen', 'kane', '.', 'but', 'the', 'talent', 'of', 'both', 'these', 'men', 'was', 'focused', 'on', 'achieving', 'a', 'perfectly', 'crafted', 'movie', ',', 'understood', 'in', 'the', 'good', 'old', 'american', 'sense', 'as', 'a', 'great', 'story', '.', 'the', 'technical', 'aspects', 'of', 'the', 'movie', 'are', 'covered', 'so', 'as', 'the', 'viewer', 'gets', 'absorbed', 'into', 'the', 'action', 'that', 'takes', 'place', 'on', 'the', 'screen', 'without', 'submit', '##ting', 'to', 'the', 'power', 'of', 'the', 'image', '.', 'technique', 'is', 'seen', 'as', 'a', 'vehicle', 'of', 'representation', 'unlike', 'in', 'citizen', 'kane', 'where', 'welles', \"'\", 'baroque', 'style', 'almost', 'drew', 'the', 'attention', 'from', 'the', 'story', 'to', 'the', 'way', 'the', 'story', 'was', 'told', '.', 'one', 'of', 'my', 'favorite', 'moves', 'with', 'deep', 'focus', 'in', 'this', 'film', 'is', 'the', 'drama', 'conveyed', 'by', 'the', 'returning', 'home', 'welcoming', 'of', 'homer', 'and', 'al', '.', 'if', 'homer', \"'\", 's', 'girl', ',', 'wil', '##ma', 'comes', 'towards', 'him', 'perfectly', 'in', 'focus', ',', 'al', 'goes', 'over', 'to', 'his', 'wife', 'also', 'perfectly', 'in', 'focus', '.', 'this', 'is', 'a', 'brilliant', 'move', 'because', 'it', 'shows', 'only', 'through', 'the', 'use', 'of', 'the', 'image', 'the', 'nature', 'of', 'these', 'relationships', 'as', 'we', 'will', 'see', 'them', 'throughout', 'the', 'movie', ':', 'wil', '##ma', 'loves', 'homer', 'and', 'she', 'accepts', 'him', 'as', 'he', 'is', ',', 'al', \"'\", 's', 'wife', 'loves', 'him', 'also', 'but', 'she', 'feels', 'un', '##pre', '##par', '##ed', 'to', 'fully', 'welcome', 'him', 'home', '.', 'also', 'later', 'in', 'the', 'film', 'we', 'find', 'out', 'that', 'their', 'marriage', 'has', 'not', 'always', 'been', 'a', 'bed', 'of', 'roses', '.', '<', 'br', '[SEP]']\n"
          ]
        }
      ]
    },
    {
      "cell_type": "markdown",
      "source": [
        "- Each batch has 4 samples as expected.\n",
        "- Sequences padded/truncated to length 256, as expected\n",
        "- Attention mask correctly aligns with input ids\n",
        "- Special tokens are present\n",
        "\n"
      ],
      "metadata": {
        "id": "3Eo5Z57C1ZVD"
      }
    },
    {
      "cell_type": "markdown",
      "source": [
        "## Sanity Check 2\n",
        "\n",
        "Validate that special tokens are present in a random batch"
      ],
      "metadata": {
        "id": "KRV65tMg28yR"
      }
    },
    {
      "cell_type": "code",
      "source": [
        "batch = next(iter(train_dataloader))\n",
        "iid = batch[\"input_ids\"][0]\n",
        "assert iid[0].item() == tokenizer.cls_token_id, \"Missing [CLS]\"\n",
        "assert (iid == tokenizer.sep_token_id).any().item(), \"Missing [SEP]\"\n",
        "print(\"Special tokens OK ✔️\")"
      ],
      "metadata": {
        "colab": {
          "base_uri": "https://localhost:8080/"
        },
        "id": "bHSV-Qdq3AO7",
        "outputId": "7d002096-8fe1-4e7b-ab9a-c26ae6a167ea"
      },
      "execution_count": null,
      "outputs": [
        {
          "output_type": "stream",
          "name": "stdout",
          "text": [
            "Special tokens OK ✔️\n"
          ]
        }
      ]
    },
    {
      "cell_type": "markdown",
      "source": [
        "## Sanity Check 3\n",
        "\n",
        "Check truncation and padding rates"
      ],
      "metadata": {
        "id": "5Oa0wpUE3E2u"
      }
    },
    {
      "cell_type": "code",
      "source": [
        "import numpy as np\n",
        "from torch.utils.data import DataLoader\n",
        "\n",
        "def trunc_pad_stats(dataloader, max_len=256):\n",
        "    n, n_trunc, n_pad = 0, 0, 0\n",
        "    for b in dataloader:\n",
        "        input_ids = b[\"input_ids\"]\n",
        "        attn = b[\"attention_mask\"]\n",
        "        # padded examples have any 0 in mask\n",
        "        n_pad += (attn.sum(dim=1) < input_ids.size(1)).sum().item()\n",
        "        # truncated examples exactly hit max_len AND have no padding\n",
        "        n_trunc += ((attn.sum(dim=1) == max_len)).sum().item()\n",
        "        n += input_ids.size(0)\n",
        "    return {\n",
        "        \"total_examples\": n,\n",
        "        \"padded_frac\": n_pad / n,\n",
        "        \"truncated_frac\": n_trunc / n,\n",
        "        \"exact_len_frac\": (n_trunc / n)  # same as truncated_frac with this logic\n",
        "    }\n",
        "\n",
        "stats = trunc_pad_stats(train_dataloader, max_len=256)\n",
        "print(stats)\n"
      ],
      "metadata": {
        "colab": {
          "base_uri": "https://localhost:8080/"
        },
        "id": "Ffrig0Xp3I9Q",
        "outputId": "0cbefc34-e836-41d4-d840-b304df76e4cb"
      },
      "execution_count": null,
      "outputs": [
        {
          "output_type": "stream",
          "name": "stdout",
          "text": [
            "{'total_examples': 1600, 'padded_frac': 0.549375, 'truncated_frac': 0.428125, 'exact_len_frac': 0.428125}\n"
          ]
        }
      ]
    },
    {
      "cell_type": "markdown",
      "source": [
        "*Conclusion check 3*\n",
        "\n",
        "The truncated fraction is a bit high. This means that we need to raise the max length from 256, otherwise long form context is not retained."
      ],
      "metadata": {
        "id": "m2PBTexn3UMm"
      }
    },
    {
      "cell_type": "markdown",
      "source": [
        "## Sanity Check 4\n",
        "\n",
        "Spot check a padded example"
      ],
      "metadata": {
        "id": "UvNdvogr3gg6"
      }
    },
    {
      "cell_type": "code",
      "source": [
        "def show_padded_example(dataloader):\n",
        "    for b in dataloader:\n",
        "        for i in range(b[\"input_ids\"].size(0)):\n",
        "            attn = b[\"attention_mask\"][i]\n",
        "            if (attn[-1].item() == 0):  # ends with padding\n",
        "                ids = b[\"input_ids\"][i]\n",
        "                toks = tokenizer.convert_ids_to_tokens(ids)\n",
        "                print(\"...tokens tail:\", toks[-30:])\n",
        "                print(\"...mask tail:\", attn[-30:].tolist())\n",
        "                return\n",
        "    print(\"No padded example found in this pass\")\n",
        "\n",
        "show_padded_example(train_dataloader)\n"
      ],
      "metadata": {
        "colab": {
          "base_uri": "https://localhost:8080/"
        },
        "id": "t-31n0Qo3ojl",
        "outputId": "67bb633a-b22c-43eb-ea98-42591a7f3651"
      },
      "execution_count": null,
      "outputs": [
        {
          "output_type": "stream",
          "name": "stdout",
          "text": [
            "...tokens tail: ['[PAD]', '[PAD]', '[PAD]', '[PAD]', '[PAD]', '[PAD]', '[PAD]', '[PAD]', '[PAD]', '[PAD]', '[PAD]', '[PAD]', '[PAD]', '[PAD]', '[PAD]', '[PAD]', '[PAD]', '[PAD]', '[PAD]', '[PAD]', '[PAD]', '[PAD]', '[PAD]', '[PAD]', '[PAD]', '[PAD]', '[PAD]', '[PAD]', '[PAD]', '[PAD]']\n",
            "...mask tail: [0, 0, 0, 0, 0, 0, 0, 0, 0, 0, 0, 0, 0, 0, 0, 0, 0, 0, 0, 0, 0, 0, 0, 0, 0, 0, 0, 0, 0, 0]\n"
          ]
        }
      ]
    },
    {
      "cell_type": "markdown",
      "source": [
        "*Conclusion sanity check 4*\n",
        "\n",
        "Short reviews are padded up to the batch max length and attention mask correctly ignores padding, hence there is no pollution of the context as the model will not read the pad tokens."
      ],
      "metadata": {
        "id": "vHavyBbU3weC"
      }
    },
    {
      "cell_type": "markdown",
      "source": [
        "## Inference helper\n",
        "\n",
        "We can, with it, feed raw text and get sentiment predictions from our fine tuned DistilBert\n",
        "\n"
      ],
      "metadata": {
        "id": "c-vc-goE4CfN"
      }
    },
    {
      "cell_type": "code",
      "source": [
        "from transformers import DistilBertForSequenceClassification, DistilBertTokenizer\n",
        "import torch\n",
        "\n",
        "# Load best saved model + tokenizer\n",
        "model_path = \"./distilbert-best\"\n",
        "model = DistilBertForSequenceClassification.from_pretrained(model_path)\n",
        "tokenizer = DistilBertTokenizer.from_pretrained(model_path)\n",
        "model = model.to(device)\n",
        "model.eval()\n",
        "\n",
        "def predict_sentiment(text, model=model, tokenizer=tokenizer, device=device):\n",
        "    # Tokenize the input\n",
        "    inputs = tokenizer(\n",
        "        text,\n",
        "        add_special_tokens=True,\n",
        "        truncation=True,\n",
        "        max_length=256,\n",
        "        padding=\"max_length\",   # pad single example\n",
        "        return_tensors=\"pt\"\n",
        "    )\n",
        "    inputs = {k: v.to(device) for k, v in inputs.items()}\n",
        "\n",
        "    # Forward pass\n",
        "    with torch.no_grad():\n",
        "        outputs = model(**inputs)\n",
        "        logits = outputs.logits\n",
        "        probs = torch.softmax(logits, dim=-1).cpu().numpy()[0]\n",
        "\n",
        "    # Get predicted label\n",
        "    pred_label = int(logits.argmax(dim=-1).cpu().item())\n",
        "    label_str = \"positive\" if pred_label == 1 else \"negative\"\n",
        "\n",
        "    return {\n",
        "        \"text\": text,\n",
        "        \"pred_label\": label_str,\n",
        "        \"probabilities\": {\n",
        "            \"negative\": float(probs[0]),\n",
        "            \"positive\": float(probs[1])\n",
        "        }\n",
        "    }"
      ],
      "metadata": {
        "id": "XXJspNDY4TvP"
      },
      "execution_count": null,
      "outputs": []
    },
    {
      "cell_type": "markdown",
      "source": [
        "ADD EXPLANATION OF ABOVE"
      ],
      "metadata": {
        "id": "UHS9EH0Y4eHu"
      }
    },
    {
      "cell_type": "markdown",
      "source": [
        "## Example of use"
      ],
      "metadata": {
        "id": "ENzbXau74gA_"
      }
    },
    {
      "cell_type": "code",
      "source": [
        "print(predict_sentiment(\"I absolutely loved this movie, it was fantastic!\"))\n",
        "print(predict_sentiment(\"This was the worst film I have ever seen.\"))\n"
      ],
      "metadata": {
        "colab": {
          "base_uri": "https://localhost:8080/"
        },
        "id": "0CYJNYTa4baP",
        "outputId": "c36f2d63-729f-45be-c69c-d5ff0b6cae07"
      },
      "execution_count": null,
      "outputs": [
        {
          "output_type": "stream",
          "name": "stdout",
          "text": [
            "{'text': 'I absolutely loved this movie, it was fantastic!', 'pred_label': 'positive', 'probabilities': {'negative': 0.010202051140367985, 'positive': 0.9897979497909546}}\n",
            "{'text': 'This was the worst film I have ever seen.', 'pred_label': 'negative', 'probabilities': {'negative': 0.9629215002059937, 'positive': 0.037078533321619034}}\n"
          ]
        }
      ]
    },
    {
      "cell_type": "markdown",
      "source": [
        "**Summary**\n",
        "\n",
        "We now have:\n",
        "\n",
        "1. Preprocessing & batching\n",
        "2. Training and validation\n",
        "3. Save of the best model\n",
        "4. Inference on new text (single ones, not batch in the case above)"
      ],
      "metadata": {
        "id": "bcbg3Y1n4n0u"
      }
    },
    {
      "cell_type": "markdown",
      "source": [
        "## Batch Inference Helper"
      ],
      "metadata": {
        "id": "aE5WJtR_5Dwj"
      }
    },
    {
      "cell_type": "code",
      "source": [
        "def predict_batch(texts, model=model, tokenizer=tokenizer, device=device, max_length=256):\n",
        "    \"\"\"\n",
        "    Predict sentiment for a batch of texts (list of strings).\n",
        "    Returns a list of dicts with labels and probabilities.\n",
        "    \"\"\"\n",
        "    # Tokenize the whole batch at once\n",
        "    inputs = tokenizer(\n",
        "        texts,\n",
        "        add_special_tokens=True,\n",
        "        truncation=True,\n",
        "        max_length=max_length,\n",
        "        padding=True,            # pad to longest in batch\n",
        "        return_tensors=\"pt\"\n",
        "    )\n",
        "    inputs = {k: v.to(device) for k, v in inputs.items()}\n",
        "\n",
        "    # Forward pass\n",
        "    with torch.no_grad():\n",
        "        outputs = model(**inputs)\n",
        "        logits = outputs.logits\n",
        "        probs = torch.softmax(logits, dim=-1).cpu().numpy()\n",
        "\n",
        "    # Decode predictions\n",
        "    results = []\n",
        "    for text, prob in zip(texts, probs):\n",
        "        pred_label = int(prob.argmax())\n",
        "        label_str = \"positive\" if pred_label == 1 else \"negative\"\n",
        "        results.append({\n",
        "            \"text\": text,\n",
        "            \"pred_label\": label_str,\n",
        "            \"probabilities\": {\n",
        "                \"negative\": float(prob[0]),\n",
        "                \"positive\": float(prob[1])\n",
        "            }\n",
        "        })\n",
        "    return results\n"
      ],
      "metadata": {
        "id": "SJ_nbs9c5GI8"
      },
      "execution_count": null,
      "outputs": []
    },
    {
      "cell_type": "markdown",
      "source": [
        "## Example of use"
      ],
      "metadata": {
        "id": "dRKXhzG55Jb2"
      }
    },
    {
      "cell_type": "code",
      "source": [
        "reviews = [\n",
        "    \"I absolutely loved this movie, it was fantastic!\",\n",
        "    \"This was the worst film I have ever seen.\",\n",
        "    \"The acting was decent but the story was too slow.\",\n",
        "    \"What a masterpiece – I’d watch it again and again!\"\n",
        "]\n",
        "\n",
        "batch_results = predict_batch(reviews)\n",
        "for res in batch_results:\n",
        "    print(res)"
      ],
      "metadata": {
        "colab": {
          "base_uri": "https://localhost:8080/"
        },
        "id": "vP3Ws3Tx5KtE",
        "outputId": "ab96b7e0-dae3-4fe7-8ef6-88ee8b2ed68e"
      },
      "execution_count": null,
      "outputs": [
        {
          "output_type": "stream",
          "name": "stdout",
          "text": [
            "{'text': 'I absolutely loved this movie, it was fantastic!', 'pred_label': 'positive', 'probabilities': {'negative': 0.010202061384916306, 'positive': 0.9897979497909546}}\n",
            "{'text': 'This was the worst film I have ever seen.', 'pred_label': 'negative', 'probabilities': {'negative': 0.9629215002059937, 'positive': 0.03707852587103844}}\n",
            "{'text': 'The acting was decent but the story was too slow.', 'pred_label': 'negative', 'probabilities': {'negative': 0.9495866894721985, 'positive': 0.05041326582431793}}\n",
            "{'text': 'What a masterpiece – I’d watch it again and again!', 'pred_label': 'positive', 'probabilities': {'negative': 0.021995682269334793, 'positive': 0.9780043363571167}}\n"
          ]
        }
      ]
    },
    {
      "cell_type": "markdown",
      "source": [
        "## END Edoardo 08 2025"
      ],
      "metadata": {
        "id": "ybcHZHZc7mtC"
      }
    },
    {
      "cell_type": "markdown",
      "metadata": {
        "id": "TmdqqdiAeHJz"
      },
      "source": [
        "# Model from scratch"
      ]
    },
    {
      "cell_type": "markdown",
      "metadata": {
        "id": "cz7ith48eKQo"
      },
      "source": [
        "For this task, we will start from a randomly initialized model.\n",
        "\n",
        "## Retrieve the architecture configuration\n",
        "\n",
        "In HuggingFace, model's parameters are specified through a `config` file. It is a json-like object.\n",
        "\n",
        "We can retrieve the one from the official model with the following code:"
      ]
    },
    {
      "cell_type": "code",
      "execution_count": null,
      "metadata": {
        "id": "MV_TxzGkesZO"
      },
      "outputs": [],
      "source": [
        "from transformers import DistilBertConfig\n",
        "\n",
        "model_config = DistilBertConfig.from_pretrained(\"distilbert-base-uncased\")\n",
        "print(model_config)"
      ]
    },
    {
      "cell_type": "markdown",
      "metadata": {
        "id": "l7kjUw-CfXSD"
      },
      "source": [
        "🚧 **Question** 🚧\n",
        "\n",
        "Make sure you understand the parameters of the configuration.\n",
        "- Which ones are task-agnostic parameters?\n",
        "- Which ones are not?\n",
        "- Why are there different parameters for different tasks?\n",
        "\n",
        "**Answer**\n",
        "\n",
        "TODO"
      ]
    },
    {
      "cell_type": "markdown",
      "metadata": {
        "id": "Gl6WP4URiCtv"
      },
      "source": [
        "\n",
        "\n",
        "Several architectures are available for DistilBert on HuggingFace, designed for a variety of NLP tasks. Though these interfaces are all built on top of a trained DistilBert model, each has different top layers and output types designed to accomodate their specific NLP task.  \n",
        "\n",
        "Here is the current list of classes provided for fine-tuning:\n",
        "* BertModel\n",
        "* BertForMaskedLM\n",
        "* BertForNextSentencePrediction\n",
        "* BertForSequenceClassification\n",
        "* BertForTokenClassification\n",
        "* BertForQuestionAnswering\n",
        "\n",
        "The documentation for these can be found under [here](https://huggingface.co/docs/transformers/model_doc/distilbert).\n",
        "\n",
        "\n"
      ]
    },
    {
      "cell_type": "markdown",
      "metadata": {
        "id": "f5ae34icijwy"
      },
      "source": [
        "🚧 **TODO** 🚧\n",
        "\n",
        "For our first experiment, we want to build from a standard stack of transformer layers, without any additional task-specific head.\n",
        "\n",
        "Which architecture is the corresponding one?\n",
        "\n",
        "Choose the right one and initialize the model below, with the config."
      ]
    },
    {
      "cell_type": "code",
      "execution_count": null,
      "metadata": {
        "id": "aVyMo6wZhR_e"
      },
      "outputs": [],
      "source": [
        "from transformers import # TODO\n",
        "\n",
        "bert = # TODO"
      ]
    },
    {
      "cell_type": "code",
      "execution_count": null,
      "metadata": {
        "id": "9G9xJ1HOjDiO"
      },
      "outputs": [],
      "source": [
        "print(bert)"
      ]
    },
    {
      "cell_type": "markdown",
      "metadata": {
        "id": "o0lR6ZzJTieq"
      },
      "source": [
        "Just for curiosity's sake, we can browse all of the model's parameters by name here.\n",
        "\n",
        "In the below cell, we printed out the names and dimensions of the weights for:\n",
        "\n",
        "- The embedding layer\n",
        "- The first of the twelve transformers\n",
        "- The output layer.\n",
        "\n"
      ]
    },
    {
      "cell_type": "code",
      "execution_count": null,
      "metadata": {
        "id": "p971QtCrTieq"
      },
      "outputs": [],
      "source": [
        "# Get all of the model's parameters as a list of tuples.\n",
        "params = list(bert.named_parameters())"
      ]
    },
    {
      "cell_type": "code",
      "execution_count": null,
      "metadata": {
        "id": "HgUGt9LNTier"
      },
      "outputs": [],
      "source": [
        "print(\"The BERT model has {:} different named parameters.\\n\".format(len(params)))\n",
        "\n",
        "print(\"==== Embedding Layer ====\\n\")\n",
        "\n",
        "for p in params[0:4]:\n",
        "    print(\"{:<55} {:>12}\".format(p[0], str(tuple(p[1].size()))))\n",
        "\n",
        "print(\"\\n==== First Transformer Layer ====\\n\")\n",
        "\n",
        "for p in params[4:20]:\n",
        "    print(\"{:<55} {:>12}\".format(p[0], str(tuple(p[1].size()))))"
      ]
    },
    {
      "cell_type": "markdown",
      "metadata": {
        "id": "mCYvYRo9Tier"
      },
      "source": [
        "🚧 **TODO** 🚧\n",
        "\n",
        "Test your bert.\n",
        "We can already try the model on the validation set. Before just look at the output of the model on one batch.\n",
        "- Interpret the output.  \n",
        "- Do you understand everything ?\n"
      ]
    },
    {
      "cell_type": "code",
      "execution_count": null,
      "metadata": {
        "id": "7r_glwGiTier"
      },
      "outputs": [],
      "source": [
        "batch = next(iter(train_dataloader))\n",
        "\n",
        "input_ids = batch[\"input_ids\"]\n",
        "attention_mask = batch[\"attention_mask\"]\n",
        "\n",
        "output = # TODO\n",
        "print(output[\"last_hidden_state\"].shape)"
      ]
    },
    {
      "cell_type": "markdown",
      "metadata": {
        "id": "Lq8-YW5in6EC"
      },
      "source": [
        "## Building a classifier\n",
        "\n",
        "Our `bert` model is simply a stack of transformer layers. We would like to use it as a backbone for text classification.\n",
        "\n",
        "🚧 **TODO** 🚧\n",
        "\n",
        "Wraps the model into a classifier.\n",
        "\n",
        "> 💡 *Hint*: Use the last hidden [CLS] vector representation to perform classification."
      ]
    },
    {
      "cell_type": "code",
      "execution_count": null,
      "metadata": {
        "id": "EULTqBYSnc7P"
      },
      "outputs": [],
      "source": [
        "class DistilBertClassifier(nn.Module):\n",
        "    def __init__(self, bert):\n",
        "        super().__init__()\n",
        "        self.bert = bert\n",
        "        self.drop = nn.Dropout(0.3)\n",
        "        self.linear = nn.Linear(768, 1)\n",
        "\n",
        "    def forward(self, input_ids, attention_mask, **kwargs):\n",
        "        # TODO\n",
        "        return output"
      ]
    },
    {
      "cell_type": "code",
      "execution_count": null,
      "metadata": {
        "id": "g5Q4wA7SpPIO"
      },
      "outputs": [],
      "source": [
        "bert = DistilBertModel(model_config)\n",
        "model = DistilBertClassifier(bert)\n",
        "model.to(DEVICE)"
      ]
    },
    {
      "cell_type": "markdown",
      "metadata": {
        "id": "Y_w3Zz_-_jtl"
      },
      "source": [
        "🚧 **TODO** 🚧\n",
        "\n",
        "Test your model on the batch.\n",
        "Make sure it has the right shape."
      ]
    },
    {
      "cell_type": "code",
      "execution_count": null,
      "metadata": {
        "id": "RBpkEqeQpgVV"
      },
      "outputs": [],
      "source": [
        "out = model(\n",
        "    input_ids=batch[\"input_ids\"].cuda(), attention_mask=batch[\"attention_mask\"].cuda()\n",
        ")\n",
        "print(out.shape)"
      ]
    },
    {
      "cell_type": "markdown",
      "metadata": {
        "id": "5sVeDu64_jtl"
      },
      "source": [
        "### Training"
      ]
    },
    {
      "cell_type": "markdown",
      "metadata": {
        "id": "HXws60s5_jtl"
      },
      "source": [
        "🚧 **TODO** 🚧\n",
        "\n",
        "Train your model.\n",
        "Make sure you track the following quantities per epoch:\n",
        "- training loss\n",
        "- training accuracy\n",
        "- validation loss\n",
        "- validation accuracy"
      ]
    },
    {
      "cell_type": "code",
      "execution_count": null,
      "metadata": {
        "id": "pCBbz6SfmDje"
      },
      "outputs": [],
      "source": [
        "def validation(model, valid_dataloader):\n",
        "    total_size = 0\n",
        "    acc_total = 0\n",
        "    loss_total = 0\n",
        "    criterion = nn.BCEWithLogitsLoss()\n",
        "    model.eval()\n",
        "    with torch.no_grad():\n",
        "        for batch in tqdm(valid_dataloader):\n",
        "            batch = {k: v.cuda() for k, v in batch.items()}\n",
        "            input_ids = batch[\"input_ids\"]\n",
        "            labels = batch[\"labels\"]\n",
        "            attention_mask = batch[\"attention_mask\"]\n",
        "            preds = model(input_ids=input_ids, attention_mask=attention_mask)\n",
        "            loss = criterion(preds.squeeze(), labels.float().squeeze())\n",
        "            acc = (preds.squeeze() > 0) == labels\n",
        "            total_size += acc.shape[0]\n",
        "            acc_total += acc.sum().item()\n",
        "            loss_total += loss.item()\n",
        "    model.train()\n",
        "    return loss_total / len(valid_dataloader), acc_total / total_size\n",
        "\n",
        "\n",
        "validation(model, valid_dataloader)"
      ]
    },
    {
      "cell_type": "code",
      "execution_count": null,
      "metadata": {
        "id": "yOYC5HovrxFX"
      },
      "outputs": [],
      "source": [
        "def training(model, n_epochs, train_dataloader, valid_dataloader, lr=5e-5):\n",
        "    optimizer = torch.optim.AdamW(\n",
        "        model.parameters(),\n",
        "        lr=lr,\n",
        "        eps=1e-08,\n",
        "    )\n",
        "    list_val_acc = []\n",
        "    list_train_acc = []\n",
        "    list_train_loss = []\n",
        "    list_val_loss = []\n",
        "    criterion = nn.BCEWithLogitsLoss()\n",
        "    for e in range(n_epochs):\n",
        "        # ========== Training ==========\n",
        "\n",
        "        # Set model to training mode\n",
        "        model.train()\n",
        "        model.to(DEVICE)\n",
        "\n",
        "        # Tracking variables\n",
        "        train_loss = 0\n",
        "        epoch_train_acc = 0\n",
        "        for batch in tqdm(train_dataloader):\n",
        "            batch = {k: v.to(DEVICE) for k, v in batch.items()}\n",
        "            input_ids, attention_mask, labels = (\n",
        "                batch[\"input_ids\"],\n",
        "                batch[\"attention_mask\"],\n",
        "                batch[\"labels\"],\n",
        "            )\n",
        "            optimizer.zero_grad()\n",
        "            # Forward pass\n",
        "            outputs = # TODO\n",
        "            loss = # TODO\n",
        "\n",
        "            # Backward pass\n",
        "            # TODO\n",
        "\n",
        "            # Optimization\n",
        "            # TODO\n",
        "\n",
        "            train_loss += loss.detach().cpu().item()\n",
        "            acc = (outputs.squeeze() > 0) == labels.squeeze()\n",
        "            epoch_train_acc += acc.float().mean().item()\n",
        "        list_train_acc.append(100 * epoch_train_acc / len(train_dataloader))\n",
        "        list_train_loss.append(train_loss / len(train_dataloader))\n",
        "\n",
        "        # ========== Validation ==========\n",
        "\n",
        "        l, a = validation(model, valid_dataloader)\n",
        "        list_val_loss.append(l)\n",
        "        list_val_acc.append(a * 100)\n",
        "        print(\n",
        "            e,\n",
        "            \"\\n\\t - Train loss: {:.4f}\".format(list_train_loss[-1]),\n",
        "            \"Train acc: {:.4f}\".format(list_train_acc[-1]),\n",
        "            \"Val loss: {:.4f}\".format(l),\n",
        "            \"Val acc:{:.4f}\".format(a * 100),\n",
        "        )\n",
        "    return list_train_loss, list_train_acc, list_val_loss, list_val_acc"
      ]
    },
    {
      "cell_type": "code",
      "execution_count": null,
      "metadata": {
        "id": "ZbJk9SKFI96U"
      },
      "outputs": [],
      "source": [
        "bert = DistilBertModel(model_config)\n",
        "model = DistilBertClassifier(bert)\n",
        "model.to(DEVICE)"
      ]
    },
    {
      "cell_type": "code",
      "execution_count": null,
      "metadata": {
        "id": "qUVE8hfzJD0u"
      },
      "outputs": [],
      "source": [
        "batch_size = 16\n",
        "\n",
        "train_dataloader = DataLoader(\n",
        "    train_set, batch_size=batch_size, collate_fn=data_collator\n",
        ")\n",
        "valid_dataloader = DataLoader(\n",
        "    valid_set, batch_size=batch_size, collate_fn=data_collator\n",
        ")\n",
        "n_valid = len(valid_set)\n",
        "n_train = len(train_set)"
      ]
    },
    {
      "cell_type": "code",
      "execution_count": null,
      "metadata": {
        "id": "tf_BdMPFHf_Y"
      },
      "outputs": [],
      "source": [
        "list_train_loss, list_train_acc, list_val_loss, list_val_acc = training(\n",
        "    model, 3, train_dataloader, valid_dataloader\n",
        ")"
      ]
    },
    {
      "cell_type": "code",
      "execution_count": null,
      "metadata": {
        "id": "HTHczANwJ3LS"
      },
      "outputs": [],
      "source": [
        "import matplotlib.pyplot as plt\n",
        "\n",
        "fig, axs = plt.subplots(1, 2, figsize=(10, 5))\n",
        "axs[1].plot(list_train_acc, label=\"Train accuracy\")\n",
        "axs[1].plot(list_val_acc, label=\"Validation accuracy\")\n",
        "axs[0].plot(list_train_loss, label=\"Train loss\")\n",
        "axs[0].plot(list_val_loss, label=\"Validation loss\")\n",
        "axs[0].set_title(\"Loss\")\n",
        "axs[1].set_title(\"Accuracy\")\n",
        "axs[0].legend()\n",
        "axs[1].legend()\n",
        "plt.legend()\n",
        "plt.show()"
      ]
    },
    {
      "cell_type": "markdown",
      "metadata": {
        "id": "O0kmWMwPKA3R"
      },
      "source": [
        "🚧 **Question** 🚧\n",
        "\n",
        "How does it compare with your convolution model from previous lab?\n"
      ]
    },
    {
      "cell_type": "markdown",
      "metadata": {
        "id": "m6lfOwHaTiex"
      },
      "source": [
        "## Pre-trained model\n",
        "\n",
        "Now we are going to compare with a pre-trained model.\n",
        "\n",
        "First, we are going to load the model's weights from the HuggingFace hub."
      ]
    },
    {
      "cell_type": "code",
      "execution_count": null,
      "metadata": {
        "id": "2cZ3cG8zOk-o"
      },
      "outputs": [],
      "source": [
        "bert = DistilBertModel.from_pretrained(\"distilbert-base-uncased\")\n",
        "model = DistilBertClassifier(bert)\n",
        "model.to(DEVICE)"
      ]
    },
    {
      "cell_type": "markdown",
      "metadata": {
        "id": "FEOXEapzPLRB"
      },
      "source": [
        "## Fine-Tuning\n",
        "\n",
        "With our model loaded and ready,  we need to grab the training hyperparameters from within the stored model.\n",
        "\n",
        "For the purposes of fine-tuning, the authors recommend choosing from the following values (from Appendix A.3 of the [BERT paper](https://arxiv.org/pdf/1810.04805.pdf)):\n",
        "\n",
        "- **Batch size:** 16, 32  \n",
        "- **Learning rate (Adam):** 5e-5, 3e-5, 2e-5  \n",
        "- **Number of epochs:** 2, 3, 4\n",
        "\n",
        "We chose:\n",
        "* Batch size: 16 (set when creating our DataLoaders)\n",
        "* Learning rate: 5e-5\n",
        "* Epochs: 3 (we'll see that this is probably too many...)\n",
        "\n",
        "The epsilon parameter `eps = 1e-8` is \"a very small number to prevent any division by zero in the implementation\" (from [here](https://machinelearningmastery.com/adam-optimization-algorithm-for-deep-learning/)).\n",
        "\n",
        "You can find the creation of the AdamW optimizer in `run_glue.py` [here](https://github.com/huggingface/transformers/blob/5bfcd0485ece086ebcbed2d008813037968a9e58/examples/run_glue.py#L109)."
      ]
    },
    {
      "cell_type": "markdown",
      "metadata": {
        "id": "x1nJVGZcPbvc"
      },
      "source": [
        "🚧 **TODO** 🚧\n",
        "\n",
        "Build the classifier and train it with the pre-trained checkpoint."
      ]
    },
    {
      "cell_type": "code",
      "execution_count": null,
      "metadata": {
        "id": "xs4m6GDhOrYa"
      },
      "outputs": [],
      "source": [
        "list_train_loss, list_train_acc, list_val_loss, list_val_acc = # TODO"
      ]
    },
    {
      "cell_type": "code",
      "execution_count": null,
      "metadata": {
        "id": "ZQ0SKwDET0fi"
      },
      "outputs": [],
      "source": [
        "fig, axs = plt.subplots(1, 2, figsize=(10, 5))\n",
        "axs[1].plot(list_train_acc, label=\"Train accuracy\")\n",
        "axs[1].plot(list_val_acc, label=\"Validation accuracy\")\n",
        "axs[0].plot(list_train_loss, label=\"Train loss\")\n",
        "axs[0].plot(list_val_loss, label=\"Validation loss\")\n",
        "axs[0].set_title(\"Loss\")\n",
        "axs[1].set_title(\"Accuracy\")\n",
        "axs[0].legend()\n",
        "axs[1].legend()\n",
        "plt.legend()\n",
        "plt.show()"
      ]
    },
    {
      "cell_type": "markdown",
      "metadata": {
        "id": "7P3l-VonPuZ5"
      },
      "source": [
        "🚧 **Question** 🚧\n",
        "\n",
        "What do you think of the results?\n",
        "\n",
        "**Answer**\n",
        "\n",
        "TODO"
      ]
    }
  ],
  "metadata": {
    "accelerator": "GPU",
    "colab": {
      "provenance": [],
      "machine_shape": "hm",
      "gpuType": "T4"
    },
    "kernelspec": {
      "display_name": "Python 3",
      "name": "python3"
    },
    "language_info": {
      "codemirror_mode": {
        "name": "ipython",
        "version": 3
      },
      "file_extension": ".py",
      "mimetype": "text/x-python",
      "name": "python",
      "nbconvert_exporter": "python",
      "pygments_lexer": "ipython3",
      "version": "3.9.12"
    },
    "toc": {
      "base_numbering": 1,
      "nav_menu": {},
      "number_sections": true,
      "sideBar": true,
      "skip_h1_title": false,
      "title_cell": "Table of Contents",
      "title_sidebar": "Contents",
      "toc_cell": false,
      "toc_position": {},
      "toc_section_display": true,
      "toc_window_display": false
    },
    "widgets": {
      "application/vnd.jupyter.widget-state+json": {
        "d45cf8d281924e6e9a7f07e46d65bb6d": {
          "model_module": "@jupyter-widgets/controls",
          "model_name": "HBoxModel",
          "model_module_version": "1.5.0",
          "state": {
            "_dom_classes": [],
            "_model_module": "@jupyter-widgets/controls",
            "_model_module_version": "1.5.0",
            "_model_name": "HBoxModel",
            "_view_count": null,
            "_view_module": "@jupyter-widgets/controls",
            "_view_module_version": "1.5.0",
            "_view_name": "HBoxView",
            "box_style": "",
            "children": [
              "IPY_MODEL_29413fc93fff4b3ca003cf2ab2ab442f",
              "IPY_MODEL_50a12b64d15e40fdb7f185fc56326428",
              "IPY_MODEL_bce2cb6311cb447aa0abc430fde977fe"
            ],
            "layout": "IPY_MODEL_0b184e50de2344df80fce2abc4c187c3"
          }
        },
        "29413fc93fff4b3ca003cf2ab2ab442f": {
          "model_module": "@jupyter-widgets/controls",
          "model_name": "HTMLModel",
          "model_module_version": "1.5.0",
          "state": {
            "_dom_classes": [],
            "_model_module": "@jupyter-widgets/controls",
            "_model_module_version": "1.5.0",
            "_model_name": "HTMLModel",
            "_view_count": null,
            "_view_module": "@jupyter-widgets/controls",
            "_view_module_version": "1.5.0",
            "_view_name": "HTMLView",
            "description": "",
            "description_tooltip": null,
            "layout": "IPY_MODEL_63331eb40cdb45f3a956efd1e8bfe582",
            "placeholder": "​",
            "style": "IPY_MODEL_5b4f4aac0531497280864f1fc3ea2e5c",
            "value": "README.md: "
          }
        },
        "50a12b64d15e40fdb7f185fc56326428": {
          "model_module": "@jupyter-widgets/controls",
          "model_name": "FloatProgressModel",
          "model_module_version": "1.5.0",
          "state": {
            "_dom_classes": [],
            "_model_module": "@jupyter-widgets/controls",
            "_model_module_version": "1.5.0",
            "_model_name": "FloatProgressModel",
            "_view_count": null,
            "_view_module": "@jupyter-widgets/controls",
            "_view_module_version": "1.5.0",
            "_view_name": "ProgressView",
            "bar_style": "success",
            "description": "",
            "description_tooltip": null,
            "layout": "IPY_MODEL_7798361c6aab41bf8ce0964a9e39ab82",
            "max": 1,
            "min": 0,
            "orientation": "horizontal",
            "style": "IPY_MODEL_ea24123685794de08792f15c8adfb88f",
            "value": 1
          }
        },
        "bce2cb6311cb447aa0abc430fde977fe": {
          "model_module": "@jupyter-widgets/controls",
          "model_name": "HTMLModel",
          "model_module_version": "1.5.0",
          "state": {
            "_dom_classes": [],
            "_model_module": "@jupyter-widgets/controls",
            "_model_module_version": "1.5.0",
            "_model_name": "HTMLModel",
            "_view_count": null,
            "_view_module": "@jupyter-widgets/controls",
            "_view_module_version": "1.5.0",
            "_view_name": "HTMLView",
            "description": "",
            "description_tooltip": null,
            "layout": "IPY_MODEL_c0cf4b816ef242d88d99bb1676cb9e6f",
            "placeholder": "​",
            "style": "IPY_MODEL_b3e81543bdf74a04b5b640b18a5794cc",
            "value": " 1.22k/? [00:00&lt;00:00, 47.2kB/s]"
          }
        },
        "0b184e50de2344df80fce2abc4c187c3": {
          "model_module": "@jupyter-widgets/base",
          "model_name": "LayoutModel",
          "model_module_version": "1.2.0",
          "state": {
            "_model_module": "@jupyter-widgets/base",
            "_model_module_version": "1.2.0",
            "_model_name": "LayoutModel",
            "_view_count": null,
            "_view_module": "@jupyter-widgets/base",
            "_view_module_version": "1.2.0",
            "_view_name": "LayoutView",
            "align_content": null,
            "align_items": null,
            "align_self": null,
            "border": null,
            "bottom": null,
            "display": null,
            "flex": null,
            "flex_flow": null,
            "grid_area": null,
            "grid_auto_columns": null,
            "grid_auto_flow": null,
            "grid_auto_rows": null,
            "grid_column": null,
            "grid_gap": null,
            "grid_row": null,
            "grid_template_areas": null,
            "grid_template_columns": null,
            "grid_template_rows": null,
            "height": null,
            "justify_content": null,
            "justify_items": null,
            "left": null,
            "margin": null,
            "max_height": null,
            "max_width": null,
            "min_height": null,
            "min_width": null,
            "object_fit": null,
            "object_position": null,
            "order": null,
            "overflow": null,
            "overflow_x": null,
            "overflow_y": null,
            "padding": null,
            "right": null,
            "top": null,
            "visibility": null,
            "width": null
          }
        },
        "63331eb40cdb45f3a956efd1e8bfe582": {
          "model_module": "@jupyter-widgets/base",
          "model_name": "LayoutModel",
          "model_module_version": "1.2.0",
          "state": {
            "_model_module": "@jupyter-widgets/base",
            "_model_module_version": "1.2.0",
            "_model_name": "LayoutModel",
            "_view_count": null,
            "_view_module": "@jupyter-widgets/base",
            "_view_module_version": "1.2.0",
            "_view_name": "LayoutView",
            "align_content": null,
            "align_items": null,
            "align_self": null,
            "border": null,
            "bottom": null,
            "display": null,
            "flex": null,
            "flex_flow": null,
            "grid_area": null,
            "grid_auto_columns": null,
            "grid_auto_flow": null,
            "grid_auto_rows": null,
            "grid_column": null,
            "grid_gap": null,
            "grid_row": null,
            "grid_template_areas": null,
            "grid_template_columns": null,
            "grid_template_rows": null,
            "height": null,
            "justify_content": null,
            "justify_items": null,
            "left": null,
            "margin": null,
            "max_height": null,
            "max_width": null,
            "min_height": null,
            "min_width": null,
            "object_fit": null,
            "object_position": null,
            "order": null,
            "overflow": null,
            "overflow_x": null,
            "overflow_y": null,
            "padding": null,
            "right": null,
            "top": null,
            "visibility": null,
            "width": null
          }
        },
        "5b4f4aac0531497280864f1fc3ea2e5c": {
          "model_module": "@jupyter-widgets/controls",
          "model_name": "DescriptionStyleModel",
          "model_module_version": "1.5.0",
          "state": {
            "_model_module": "@jupyter-widgets/controls",
            "_model_module_version": "1.5.0",
            "_model_name": "DescriptionStyleModel",
            "_view_count": null,
            "_view_module": "@jupyter-widgets/base",
            "_view_module_version": "1.2.0",
            "_view_name": "StyleView",
            "description_width": ""
          }
        },
        "7798361c6aab41bf8ce0964a9e39ab82": {
          "model_module": "@jupyter-widgets/base",
          "model_name": "LayoutModel",
          "model_module_version": "1.2.0",
          "state": {
            "_model_module": "@jupyter-widgets/base",
            "_model_module_version": "1.2.0",
            "_model_name": "LayoutModel",
            "_view_count": null,
            "_view_module": "@jupyter-widgets/base",
            "_view_module_version": "1.2.0",
            "_view_name": "LayoutView",
            "align_content": null,
            "align_items": null,
            "align_self": null,
            "border": null,
            "bottom": null,
            "display": null,
            "flex": null,
            "flex_flow": null,
            "grid_area": null,
            "grid_auto_columns": null,
            "grid_auto_flow": null,
            "grid_auto_rows": null,
            "grid_column": null,
            "grid_gap": null,
            "grid_row": null,
            "grid_template_areas": null,
            "grid_template_columns": null,
            "grid_template_rows": null,
            "height": null,
            "justify_content": null,
            "justify_items": null,
            "left": null,
            "margin": null,
            "max_height": null,
            "max_width": null,
            "min_height": null,
            "min_width": null,
            "object_fit": null,
            "object_position": null,
            "order": null,
            "overflow": null,
            "overflow_x": null,
            "overflow_y": null,
            "padding": null,
            "right": null,
            "top": null,
            "visibility": null,
            "width": "20px"
          }
        },
        "ea24123685794de08792f15c8adfb88f": {
          "model_module": "@jupyter-widgets/controls",
          "model_name": "ProgressStyleModel",
          "model_module_version": "1.5.0",
          "state": {
            "_model_module": "@jupyter-widgets/controls",
            "_model_module_version": "1.5.0",
            "_model_name": "ProgressStyleModel",
            "_view_count": null,
            "_view_module": "@jupyter-widgets/base",
            "_view_module_version": "1.2.0",
            "_view_name": "StyleView",
            "bar_color": null,
            "description_width": ""
          }
        },
        "c0cf4b816ef242d88d99bb1676cb9e6f": {
          "model_module": "@jupyter-widgets/base",
          "model_name": "LayoutModel",
          "model_module_version": "1.2.0",
          "state": {
            "_model_module": "@jupyter-widgets/base",
            "_model_module_version": "1.2.0",
            "_model_name": "LayoutModel",
            "_view_count": null,
            "_view_module": "@jupyter-widgets/base",
            "_view_module_version": "1.2.0",
            "_view_name": "LayoutView",
            "align_content": null,
            "align_items": null,
            "align_self": null,
            "border": null,
            "bottom": null,
            "display": null,
            "flex": null,
            "flex_flow": null,
            "grid_area": null,
            "grid_auto_columns": null,
            "grid_auto_flow": null,
            "grid_auto_rows": null,
            "grid_column": null,
            "grid_gap": null,
            "grid_row": null,
            "grid_template_areas": null,
            "grid_template_columns": null,
            "grid_template_rows": null,
            "height": null,
            "justify_content": null,
            "justify_items": null,
            "left": null,
            "margin": null,
            "max_height": null,
            "max_width": null,
            "min_height": null,
            "min_width": null,
            "object_fit": null,
            "object_position": null,
            "order": null,
            "overflow": null,
            "overflow_x": null,
            "overflow_y": null,
            "padding": null,
            "right": null,
            "top": null,
            "visibility": null,
            "width": null
          }
        },
        "b3e81543bdf74a04b5b640b18a5794cc": {
          "model_module": "@jupyter-widgets/controls",
          "model_name": "DescriptionStyleModel",
          "model_module_version": "1.5.0",
          "state": {
            "_model_module": "@jupyter-widgets/controls",
            "_model_module_version": "1.5.0",
            "_model_name": "DescriptionStyleModel",
            "_view_count": null,
            "_view_module": "@jupyter-widgets/base",
            "_view_module_version": "1.2.0",
            "_view_name": "StyleView",
            "description_width": ""
          }
        },
        "177e34e0a0144b179635b6a17bdbf63f": {
          "model_module": "@jupyter-widgets/controls",
          "model_name": "HBoxModel",
          "model_module_version": "1.5.0",
          "state": {
            "_dom_classes": [],
            "_model_module": "@jupyter-widgets/controls",
            "_model_module_version": "1.5.0",
            "_model_name": "HBoxModel",
            "_view_count": null,
            "_view_module": "@jupyter-widgets/controls",
            "_view_module_version": "1.5.0",
            "_view_name": "HBoxView",
            "box_style": "",
            "children": [
              "IPY_MODEL_48cc73257a014abeb840c1531ed681db",
              "IPY_MODEL_011d8333edc84c36b1b6710247d47f13",
              "IPY_MODEL_557a7f6e7d124504b30d3ea764581c98"
            ],
            "layout": "IPY_MODEL_942e463ee6f441efa9dc581435b59627"
          }
        },
        "48cc73257a014abeb840c1531ed681db": {
          "model_module": "@jupyter-widgets/controls",
          "model_name": "HTMLModel",
          "model_module_version": "1.5.0",
          "state": {
            "_dom_classes": [],
            "_model_module": "@jupyter-widgets/controls",
            "_model_module_version": "1.5.0",
            "_model_name": "HTMLModel",
            "_view_count": null,
            "_view_module": "@jupyter-widgets/controls",
            "_view_module_version": "1.5.0",
            "_view_name": "HTMLView",
            "description": "",
            "description_tooltip": null,
            "layout": "IPY_MODEL_00ec189d29b946f29488d463744f208f",
            "placeholder": "​",
            "style": "IPY_MODEL_402279343b1b4049b8e1ae7dd2dbdc68",
            "value": "IMDB Dataset.csv: 100%"
          }
        },
        "011d8333edc84c36b1b6710247d47f13": {
          "model_module": "@jupyter-widgets/controls",
          "model_name": "FloatProgressModel",
          "model_module_version": "1.5.0",
          "state": {
            "_dom_classes": [],
            "_model_module": "@jupyter-widgets/controls",
            "_model_module_version": "1.5.0",
            "_model_name": "FloatProgressModel",
            "_view_count": null,
            "_view_module": "@jupyter-widgets/controls",
            "_view_module_version": "1.5.0",
            "_view_name": "ProgressView",
            "bar_style": "success",
            "description": "",
            "description_tooltip": null,
            "layout": "IPY_MODEL_40753cb931f349e98844c82df7228406",
            "max": 66212309,
            "min": 0,
            "orientation": "horizontal",
            "style": "IPY_MODEL_05e4a85848124202937dcf5aac1704f1",
            "value": 66212309
          }
        },
        "557a7f6e7d124504b30d3ea764581c98": {
          "model_module": "@jupyter-widgets/controls",
          "model_name": "HTMLModel",
          "model_module_version": "1.5.0",
          "state": {
            "_dom_classes": [],
            "_model_module": "@jupyter-widgets/controls",
            "_model_module_version": "1.5.0",
            "_model_name": "HTMLModel",
            "_view_count": null,
            "_view_module": "@jupyter-widgets/controls",
            "_view_module_version": "1.5.0",
            "_view_name": "HTMLView",
            "description": "",
            "description_tooltip": null,
            "layout": "IPY_MODEL_ab4b0d018d314b2f835b87b6d75adebc",
            "placeholder": "​",
            "style": "IPY_MODEL_1653f9feb4fe4872ba768be82d928d3d",
            "value": " 66.2M/66.2M [00:01&lt;00:00, 46.9MB/s]"
          }
        },
        "942e463ee6f441efa9dc581435b59627": {
          "model_module": "@jupyter-widgets/base",
          "model_name": "LayoutModel",
          "model_module_version": "1.2.0",
          "state": {
            "_model_module": "@jupyter-widgets/base",
            "_model_module_version": "1.2.0",
            "_model_name": "LayoutModel",
            "_view_count": null,
            "_view_module": "@jupyter-widgets/base",
            "_view_module_version": "1.2.0",
            "_view_name": "LayoutView",
            "align_content": null,
            "align_items": null,
            "align_self": null,
            "border": null,
            "bottom": null,
            "display": null,
            "flex": null,
            "flex_flow": null,
            "grid_area": null,
            "grid_auto_columns": null,
            "grid_auto_flow": null,
            "grid_auto_rows": null,
            "grid_column": null,
            "grid_gap": null,
            "grid_row": null,
            "grid_template_areas": null,
            "grid_template_columns": null,
            "grid_template_rows": null,
            "height": null,
            "justify_content": null,
            "justify_items": null,
            "left": null,
            "margin": null,
            "max_height": null,
            "max_width": null,
            "min_height": null,
            "min_width": null,
            "object_fit": null,
            "object_position": null,
            "order": null,
            "overflow": null,
            "overflow_x": null,
            "overflow_y": null,
            "padding": null,
            "right": null,
            "top": null,
            "visibility": null,
            "width": null
          }
        },
        "00ec189d29b946f29488d463744f208f": {
          "model_module": "@jupyter-widgets/base",
          "model_name": "LayoutModel",
          "model_module_version": "1.2.0",
          "state": {
            "_model_module": "@jupyter-widgets/base",
            "_model_module_version": "1.2.0",
            "_model_name": "LayoutModel",
            "_view_count": null,
            "_view_module": "@jupyter-widgets/base",
            "_view_module_version": "1.2.0",
            "_view_name": "LayoutView",
            "align_content": null,
            "align_items": null,
            "align_self": null,
            "border": null,
            "bottom": null,
            "display": null,
            "flex": null,
            "flex_flow": null,
            "grid_area": null,
            "grid_auto_columns": null,
            "grid_auto_flow": null,
            "grid_auto_rows": null,
            "grid_column": null,
            "grid_gap": null,
            "grid_row": null,
            "grid_template_areas": null,
            "grid_template_columns": null,
            "grid_template_rows": null,
            "height": null,
            "justify_content": null,
            "justify_items": null,
            "left": null,
            "margin": null,
            "max_height": null,
            "max_width": null,
            "min_height": null,
            "min_width": null,
            "object_fit": null,
            "object_position": null,
            "order": null,
            "overflow": null,
            "overflow_x": null,
            "overflow_y": null,
            "padding": null,
            "right": null,
            "top": null,
            "visibility": null,
            "width": null
          }
        },
        "402279343b1b4049b8e1ae7dd2dbdc68": {
          "model_module": "@jupyter-widgets/controls",
          "model_name": "DescriptionStyleModel",
          "model_module_version": "1.5.0",
          "state": {
            "_model_module": "@jupyter-widgets/controls",
            "_model_module_version": "1.5.0",
            "_model_name": "DescriptionStyleModel",
            "_view_count": null,
            "_view_module": "@jupyter-widgets/base",
            "_view_module_version": "1.2.0",
            "_view_name": "StyleView",
            "description_width": ""
          }
        },
        "40753cb931f349e98844c82df7228406": {
          "model_module": "@jupyter-widgets/base",
          "model_name": "LayoutModel",
          "model_module_version": "1.2.0",
          "state": {
            "_model_module": "@jupyter-widgets/base",
            "_model_module_version": "1.2.0",
            "_model_name": "LayoutModel",
            "_view_count": null,
            "_view_module": "@jupyter-widgets/base",
            "_view_module_version": "1.2.0",
            "_view_name": "LayoutView",
            "align_content": null,
            "align_items": null,
            "align_self": null,
            "border": null,
            "bottom": null,
            "display": null,
            "flex": null,
            "flex_flow": null,
            "grid_area": null,
            "grid_auto_columns": null,
            "grid_auto_flow": null,
            "grid_auto_rows": null,
            "grid_column": null,
            "grid_gap": null,
            "grid_row": null,
            "grid_template_areas": null,
            "grid_template_columns": null,
            "grid_template_rows": null,
            "height": null,
            "justify_content": null,
            "justify_items": null,
            "left": null,
            "margin": null,
            "max_height": null,
            "max_width": null,
            "min_height": null,
            "min_width": null,
            "object_fit": null,
            "object_position": null,
            "order": null,
            "overflow": null,
            "overflow_x": null,
            "overflow_y": null,
            "padding": null,
            "right": null,
            "top": null,
            "visibility": null,
            "width": null
          }
        },
        "05e4a85848124202937dcf5aac1704f1": {
          "model_module": "@jupyter-widgets/controls",
          "model_name": "ProgressStyleModel",
          "model_module_version": "1.5.0",
          "state": {
            "_model_module": "@jupyter-widgets/controls",
            "_model_module_version": "1.5.0",
            "_model_name": "ProgressStyleModel",
            "_view_count": null,
            "_view_module": "@jupyter-widgets/base",
            "_view_module_version": "1.2.0",
            "_view_name": "StyleView",
            "bar_color": null,
            "description_width": ""
          }
        },
        "ab4b0d018d314b2f835b87b6d75adebc": {
          "model_module": "@jupyter-widgets/base",
          "model_name": "LayoutModel",
          "model_module_version": "1.2.0",
          "state": {
            "_model_module": "@jupyter-widgets/base",
            "_model_module_version": "1.2.0",
            "_model_name": "LayoutModel",
            "_view_count": null,
            "_view_module": "@jupyter-widgets/base",
            "_view_module_version": "1.2.0",
            "_view_name": "LayoutView",
            "align_content": null,
            "align_items": null,
            "align_self": null,
            "border": null,
            "bottom": null,
            "display": null,
            "flex": null,
            "flex_flow": null,
            "grid_area": null,
            "grid_auto_columns": null,
            "grid_auto_flow": null,
            "grid_auto_rows": null,
            "grid_column": null,
            "grid_gap": null,
            "grid_row": null,
            "grid_template_areas": null,
            "grid_template_columns": null,
            "grid_template_rows": null,
            "height": null,
            "justify_content": null,
            "justify_items": null,
            "left": null,
            "margin": null,
            "max_height": null,
            "max_width": null,
            "min_height": null,
            "min_width": null,
            "object_fit": null,
            "object_position": null,
            "order": null,
            "overflow": null,
            "overflow_x": null,
            "overflow_y": null,
            "padding": null,
            "right": null,
            "top": null,
            "visibility": null,
            "width": null
          }
        },
        "1653f9feb4fe4872ba768be82d928d3d": {
          "model_module": "@jupyter-widgets/controls",
          "model_name": "DescriptionStyleModel",
          "model_module_version": "1.5.0",
          "state": {
            "_model_module": "@jupyter-widgets/controls",
            "_model_module_version": "1.5.0",
            "_model_name": "DescriptionStyleModel",
            "_view_count": null,
            "_view_module": "@jupyter-widgets/base",
            "_view_module_version": "1.2.0",
            "_view_name": "StyleView",
            "description_width": ""
          }
        },
        "98f20cab15af4fe2a8a1596a32a1fb59": {
          "model_module": "@jupyter-widgets/controls",
          "model_name": "HBoxModel",
          "model_module_version": "1.5.0",
          "state": {
            "_dom_classes": [],
            "_model_module": "@jupyter-widgets/controls",
            "_model_module_version": "1.5.0",
            "_model_name": "HBoxModel",
            "_view_count": null,
            "_view_module": "@jupyter-widgets/controls",
            "_view_module_version": "1.5.0",
            "_view_name": "HBoxView",
            "box_style": "",
            "children": [
              "IPY_MODEL_e43e8572e5ff43b494fca49e2aba6076",
              "IPY_MODEL_638c6343d297436fa36d7916db7c2511",
              "IPY_MODEL_df6e3d39276744559ff39df091da60a1"
            ],
            "layout": "IPY_MODEL_6009b95284594d8984440d4743a1f8ec"
          }
        },
        "e43e8572e5ff43b494fca49e2aba6076": {
          "model_module": "@jupyter-widgets/controls",
          "model_name": "HTMLModel",
          "model_module_version": "1.5.0",
          "state": {
            "_dom_classes": [],
            "_model_module": "@jupyter-widgets/controls",
            "_model_module_version": "1.5.0",
            "_model_name": "HTMLModel",
            "_view_count": null,
            "_view_module": "@jupyter-widgets/controls",
            "_view_module_version": "1.5.0",
            "_view_name": "HTMLView",
            "description": "",
            "description_tooltip": null,
            "layout": "IPY_MODEL_6e8c6ef7857b4d5c81ad2ae5c4230edf",
            "placeholder": "​",
            "style": "IPY_MODEL_c91a499bd0944d48aab0c1f4ab0ad3b9",
            "value": "Generating train split: 100%"
          }
        },
        "638c6343d297436fa36d7916db7c2511": {
          "model_module": "@jupyter-widgets/controls",
          "model_name": "FloatProgressModel",
          "model_module_version": "1.5.0",
          "state": {
            "_dom_classes": [],
            "_model_module": "@jupyter-widgets/controls",
            "_model_module_version": "1.5.0",
            "_model_name": "FloatProgressModel",
            "_view_count": null,
            "_view_module": "@jupyter-widgets/controls",
            "_view_module_version": "1.5.0",
            "_view_name": "ProgressView",
            "bar_style": "success",
            "description": "",
            "description_tooltip": null,
            "layout": "IPY_MODEL_72df9df47f08478f98f1ff4ef500c543",
            "max": 50000,
            "min": 0,
            "orientation": "horizontal",
            "style": "IPY_MODEL_a84829aec94d4a868f757f210934ea8d",
            "value": 50000
          }
        },
        "df6e3d39276744559ff39df091da60a1": {
          "model_module": "@jupyter-widgets/controls",
          "model_name": "HTMLModel",
          "model_module_version": "1.5.0",
          "state": {
            "_dom_classes": [],
            "_model_module": "@jupyter-widgets/controls",
            "_model_module_version": "1.5.0",
            "_model_name": "HTMLModel",
            "_view_count": null,
            "_view_module": "@jupyter-widgets/controls",
            "_view_module_version": "1.5.0",
            "_view_name": "HTMLView",
            "description": "",
            "description_tooltip": null,
            "layout": "IPY_MODEL_ade40ecf571f4267bd9c2960bd38525c",
            "placeholder": "​",
            "style": "IPY_MODEL_a31a53430496418ab3f8712b0e95cba4",
            "value": " 50000/50000 [00:00&lt;00:00, 66553.00 examples/s]"
          }
        },
        "6009b95284594d8984440d4743a1f8ec": {
          "model_module": "@jupyter-widgets/base",
          "model_name": "LayoutModel",
          "model_module_version": "1.2.0",
          "state": {
            "_model_module": "@jupyter-widgets/base",
            "_model_module_version": "1.2.0",
            "_model_name": "LayoutModel",
            "_view_count": null,
            "_view_module": "@jupyter-widgets/base",
            "_view_module_version": "1.2.0",
            "_view_name": "LayoutView",
            "align_content": null,
            "align_items": null,
            "align_self": null,
            "border": null,
            "bottom": null,
            "display": null,
            "flex": null,
            "flex_flow": null,
            "grid_area": null,
            "grid_auto_columns": null,
            "grid_auto_flow": null,
            "grid_auto_rows": null,
            "grid_column": null,
            "grid_gap": null,
            "grid_row": null,
            "grid_template_areas": null,
            "grid_template_columns": null,
            "grid_template_rows": null,
            "height": null,
            "justify_content": null,
            "justify_items": null,
            "left": null,
            "margin": null,
            "max_height": null,
            "max_width": null,
            "min_height": null,
            "min_width": null,
            "object_fit": null,
            "object_position": null,
            "order": null,
            "overflow": null,
            "overflow_x": null,
            "overflow_y": null,
            "padding": null,
            "right": null,
            "top": null,
            "visibility": null,
            "width": null
          }
        },
        "6e8c6ef7857b4d5c81ad2ae5c4230edf": {
          "model_module": "@jupyter-widgets/base",
          "model_name": "LayoutModel",
          "model_module_version": "1.2.0",
          "state": {
            "_model_module": "@jupyter-widgets/base",
            "_model_module_version": "1.2.0",
            "_model_name": "LayoutModel",
            "_view_count": null,
            "_view_module": "@jupyter-widgets/base",
            "_view_module_version": "1.2.0",
            "_view_name": "LayoutView",
            "align_content": null,
            "align_items": null,
            "align_self": null,
            "border": null,
            "bottom": null,
            "display": null,
            "flex": null,
            "flex_flow": null,
            "grid_area": null,
            "grid_auto_columns": null,
            "grid_auto_flow": null,
            "grid_auto_rows": null,
            "grid_column": null,
            "grid_gap": null,
            "grid_row": null,
            "grid_template_areas": null,
            "grid_template_columns": null,
            "grid_template_rows": null,
            "height": null,
            "justify_content": null,
            "justify_items": null,
            "left": null,
            "margin": null,
            "max_height": null,
            "max_width": null,
            "min_height": null,
            "min_width": null,
            "object_fit": null,
            "object_position": null,
            "order": null,
            "overflow": null,
            "overflow_x": null,
            "overflow_y": null,
            "padding": null,
            "right": null,
            "top": null,
            "visibility": null,
            "width": null
          }
        },
        "c91a499bd0944d48aab0c1f4ab0ad3b9": {
          "model_module": "@jupyter-widgets/controls",
          "model_name": "DescriptionStyleModel",
          "model_module_version": "1.5.0",
          "state": {
            "_model_module": "@jupyter-widgets/controls",
            "_model_module_version": "1.5.0",
            "_model_name": "DescriptionStyleModel",
            "_view_count": null,
            "_view_module": "@jupyter-widgets/base",
            "_view_module_version": "1.2.0",
            "_view_name": "StyleView",
            "description_width": ""
          }
        },
        "72df9df47f08478f98f1ff4ef500c543": {
          "model_module": "@jupyter-widgets/base",
          "model_name": "LayoutModel",
          "model_module_version": "1.2.0",
          "state": {
            "_model_module": "@jupyter-widgets/base",
            "_model_module_version": "1.2.0",
            "_model_name": "LayoutModel",
            "_view_count": null,
            "_view_module": "@jupyter-widgets/base",
            "_view_module_version": "1.2.0",
            "_view_name": "LayoutView",
            "align_content": null,
            "align_items": null,
            "align_self": null,
            "border": null,
            "bottom": null,
            "display": null,
            "flex": null,
            "flex_flow": null,
            "grid_area": null,
            "grid_auto_columns": null,
            "grid_auto_flow": null,
            "grid_auto_rows": null,
            "grid_column": null,
            "grid_gap": null,
            "grid_row": null,
            "grid_template_areas": null,
            "grid_template_columns": null,
            "grid_template_rows": null,
            "height": null,
            "justify_content": null,
            "justify_items": null,
            "left": null,
            "margin": null,
            "max_height": null,
            "max_width": null,
            "min_height": null,
            "min_width": null,
            "object_fit": null,
            "object_position": null,
            "order": null,
            "overflow": null,
            "overflow_x": null,
            "overflow_y": null,
            "padding": null,
            "right": null,
            "top": null,
            "visibility": null,
            "width": null
          }
        },
        "a84829aec94d4a868f757f210934ea8d": {
          "model_module": "@jupyter-widgets/controls",
          "model_name": "ProgressStyleModel",
          "model_module_version": "1.5.0",
          "state": {
            "_model_module": "@jupyter-widgets/controls",
            "_model_module_version": "1.5.0",
            "_model_name": "ProgressStyleModel",
            "_view_count": null,
            "_view_module": "@jupyter-widgets/base",
            "_view_module_version": "1.2.0",
            "_view_name": "StyleView",
            "bar_color": null,
            "description_width": ""
          }
        },
        "ade40ecf571f4267bd9c2960bd38525c": {
          "model_module": "@jupyter-widgets/base",
          "model_name": "LayoutModel",
          "model_module_version": "1.2.0",
          "state": {
            "_model_module": "@jupyter-widgets/base",
            "_model_module_version": "1.2.0",
            "_model_name": "LayoutModel",
            "_view_count": null,
            "_view_module": "@jupyter-widgets/base",
            "_view_module_version": "1.2.0",
            "_view_name": "LayoutView",
            "align_content": null,
            "align_items": null,
            "align_self": null,
            "border": null,
            "bottom": null,
            "display": null,
            "flex": null,
            "flex_flow": null,
            "grid_area": null,
            "grid_auto_columns": null,
            "grid_auto_flow": null,
            "grid_auto_rows": null,
            "grid_column": null,
            "grid_gap": null,
            "grid_row": null,
            "grid_template_areas": null,
            "grid_template_columns": null,
            "grid_template_rows": null,
            "height": null,
            "justify_content": null,
            "justify_items": null,
            "left": null,
            "margin": null,
            "max_height": null,
            "max_width": null,
            "min_height": null,
            "min_width": null,
            "object_fit": null,
            "object_position": null,
            "order": null,
            "overflow": null,
            "overflow_x": null,
            "overflow_y": null,
            "padding": null,
            "right": null,
            "top": null,
            "visibility": null,
            "width": null
          }
        },
        "a31a53430496418ab3f8712b0e95cba4": {
          "model_module": "@jupyter-widgets/controls",
          "model_name": "DescriptionStyleModel",
          "model_module_version": "1.5.0",
          "state": {
            "_model_module": "@jupyter-widgets/controls",
            "_model_module_version": "1.5.0",
            "_model_name": "DescriptionStyleModel",
            "_view_count": null,
            "_view_module": "@jupyter-widgets/base",
            "_view_module_version": "1.2.0",
            "_view_name": "StyleView",
            "description_width": ""
          }
        },
        "d294254bc2874f73b13b0555c18252f0": {
          "model_module": "@jupyter-widgets/controls",
          "model_name": "HBoxModel",
          "model_module_version": "1.5.0",
          "state": {
            "_dom_classes": [],
            "_model_module": "@jupyter-widgets/controls",
            "_model_module_version": "1.5.0",
            "_model_name": "HBoxModel",
            "_view_count": null,
            "_view_module": "@jupyter-widgets/controls",
            "_view_module_version": "1.5.0",
            "_view_name": "HBoxView",
            "box_style": "",
            "children": [
              "IPY_MODEL_41546707418d4951a3da65b6cfa84d7c",
              "IPY_MODEL_01eeb444a27444c9b8148c681cfff84e",
              "IPY_MODEL_53aa22d8335d472cacaddd7dbe7a67c8"
            ],
            "layout": "IPY_MODEL_36f050d89eb44e35b2428c2ab5a31e6f"
          }
        },
        "41546707418d4951a3da65b6cfa84d7c": {
          "model_module": "@jupyter-widgets/controls",
          "model_name": "HTMLModel",
          "model_module_version": "1.5.0",
          "state": {
            "_dom_classes": [],
            "_model_module": "@jupyter-widgets/controls",
            "_model_module_version": "1.5.0",
            "_model_name": "HTMLModel",
            "_view_count": null,
            "_view_module": "@jupyter-widgets/controls",
            "_view_module_version": "1.5.0",
            "_view_name": "HTMLView",
            "description": "",
            "description_tooltip": null,
            "layout": "IPY_MODEL_cedcf4c148e3431e82ac008cda2cfc41",
            "placeholder": "​",
            "style": "IPY_MODEL_f3718e2fe4284287bcdba36702dfb0f9",
            "value": "tokenizer_config.json: 100%"
          }
        },
        "01eeb444a27444c9b8148c681cfff84e": {
          "model_module": "@jupyter-widgets/controls",
          "model_name": "FloatProgressModel",
          "model_module_version": "1.5.0",
          "state": {
            "_dom_classes": [],
            "_model_module": "@jupyter-widgets/controls",
            "_model_module_version": "1.5.0",
            "_model_name": "FloatProgressModel",
            "_view_count": null,
            "_view_module": "@jupyter-widgets/controls",
            "_view_module_version": "1.5.0",
            "_view_name": "ProgressView",
            "bar_style": "success",
            "description": "",
            "description_tooltip": null,
            "layout": "IPY_MODEL_49e37aebfa974f75a173628e5df3cbd2",
            "max": 48,
            "min": 0,
            "orientation": "horizontal",
            "style": "IPY_MODEL_ad32270182004f9c8b3b6f319e1039d6",
            "value": 48
          }
        },
        "53aa22d8335d472cacaddd7dbe7a67c8": {
          "model_module": "@jupyter-widgets/controls",
          "model_name": "HTMLModel",
          "model_module_version": "1.5.0",
          "state": {
            "_dom_classes": [],
            "_model_module": "@jupyter-widgets/controls",
            "_model_module_version": "1.5.0",
            "_model_name": "HTMLModel",
            "_view_count": null,
            "_view_module": "@jupyter-widgets/controls",
            "_view_module_version": "1.5.0",
            "_view_name": "HTMLView",
            "description": "",
            "description_tooltip": null,
            "layout": "IPY_MODEL_eadaa90fca17492b94d45807559d9f13",
            "placeholder": "​",
            "style": "IPY_MODEL_45455743ed8146f880eaab026df98969",
            "value": " 48.0/48.0 [00:00&lt;00:00, 5.70kB/s]"
          }
        },
        "36f050d89eb44e35b2428c2ab5a31e6f": {
          "model_module": "@jupyter-widgets/base",
          "model_name": "LayoutModel",
          "model_module_version": "1.2.0",
          "state": {
            "_model_module": "@jupyter-widgets/base",
            "_model_module_version": "1.2.0",
            "_model_name": "LayoutModel",
            "_view_count": null,
            "_view_module": "@jupyter-widgets/base",
            "_view_module_version": "1.2.0",
            "_view_name": "LayoutView",
            "align_content": null,
            "align_items": null,
            "align_self": null,
            "border": null,
            "bottom": null,
            "display": null,
            "flex": null,
            "flex_flow": null,
            "grid_area": null,
            "grid_auto_columns": null,
            "grid_auto_flow": null,
            "grid_auto_rows": null,
            "grid_column": null,
            "grid_gap": null,
            "grid_row": null,
            "grid_template_areas": null,
            "grid_template_columns": null,
            "grid_template_rows": null,
            "height": null,
            "justify_content": null,
            "justify_items": null,
            "left": null,
            "margin": null,
            "max_height": null,
            "max_width": null,
            "min_height": null,
            "min_width": null,
            "object_fit": null,
            "object_position": null,
            "order": null,
            "overflow": null,
            "overflow_x": null,
            "overflow_y": null,
            "padding": null,
            "right": null,
            "top": null,
            "visibility": null,
            "width": null
          }
        },
        "cedcf4c148e3431e82ac008cda2cfc41": {
          "model_module": "@jupyter-widgets/base",
          "model_name": "LayoutModel",
          "model_module_version": "1.2.0",
          "state": {
            "_model_module": "@jupyter-widgets/base",
            "_model_module_version": "1.2.0",
            "_model_name": "LayoutModel",
            "_view_count": null,
            "_view_module": "@jupyter-widgets/base",
            "_view_module_version": "1.2.0",
            "_view_name": "LayoutView",
            "align_content": null,
            "align_items": null,
            "align_self": null,
            "border": null,
            "bottom": null,
            "display": null,
            "flex": null,
            "flex_flow": null,
            "grid_area": null,
            "grid_auto_columns": null,
            "grid_auto_flow": null,
            "grid_auto_rows": null,
            "grid_column": null,
            "grid_gap": null,
            "grid_row": null,
            "grid_template_areas": null,
            "grid_template_columns": null,
            "grid_template_rows": null,
            "height": null,
            "justify_content": null,
            "justify_items": null,
            "left": null,
            "margin": null,
            "max_height": null,
            "max_width": null,
            "min_height": null,
            "min_width": null,
            "object_fit": null,
            "object_position": null,
            "order": null,
            "overflow": null,
            "overflow_x": null,
            "overflow_y": null,
            "padding": null,
            "right": null,
            "top": null,
            "visibility": null,
            "width": null
          }
        },
        "f3718e2fe4284287bcdba36702dfb0f9": {
          "model_module": "@jupyter-widgets/controls",
          "model_name": "DescriptionStyleModel",
          "model_module_version": "1.5.0",
          "state": {
            "_model_module": "@jupyter-widgets/controls",
            "_model_module_version": "1.5.0",
            "_model_name": "DescriptionStyleModel",
            "_view_count": null,
            "_view_module": "@jupyter-widgets/base",
            "_view_module_version": "1.2.0",
            "_view_name": "StyleView",
            "description_width": ""
          }
        },
        "49e37aebfa974f75a173628e5df3cbd2": {
          "model_module": "@jupyter-widgets/base",
          "model_name": "LayoutModel",
          "model_module_version": "1.2.0",
          "state": {
            "_model_module": "@jupyter-widgets/base",
            "_model_module_version": "1.2.0",
            "_model_name": "LayoutModel",
            "_view_count": null,
            "_view_module": "@jupyter-widgets/base",
            "_view_module_version": "1.2.0",
            "_view_name": "LayoutView",
            "align_content": null,
            "align_items": null,
            "align_self": null,
            "border": null,
            "bottom": null,
            "display": null,
            "flex": null,
            "flex_flow": null,
            "grid_area": null,
            "grid_auto_columns": null,
            "grid_auto_flow": null,
            "grid_auto_rows": null,
            "grid_column": null,
            "grid_gap": null,
            "grid_row": null,
            "grid_template_areas": null,
            "grid_template_columns": null,
            "grid_template_rows": null,
            "height": null,
            "justify_content": null,
            "justify_items": null,
            "left": null,
            "margin": null,
            "max_height": null,
            "max_width": null,
            "min_height": null,
            "min_width": null,
            "object_fit": null,
            "object_position": null,
            "order": null,
            "overflow": null,
            "overflow_x": null,
            "overflow_y": null,
            "padding": null,
            "right": null,
            "top": null,
            "visibility": null,
            "width": null
          }
        },
        "ad32270182004f9c8b3b6f319e1039d6": {
          "model_module": "@jupyter-widgets/controls",
          "model_name": "ProgressStyleModel",
          "model_module_version": "1.5.0",
          "state": {
            "_model_module": "@jupyter-widgets/controls",
            "_model_module_version": "1.5.0",
            "_model_name": "ProgressStyleModel",
            "_view_count": null,
            "_view_module": "@jupyter-widgets/base",
            "_view_module_version": "1.2.0",
            "_view_name": "StyleView",
            "bar_color": null,
            "description_width": ""
          }
        },
        "eadaa90fca17492b94d45807559d9f13": {
          "model_module": "@jupyter-widgets/base",
          "model_name": "LayoutModel",
          "model_module_version": "1.2.0",
          "state": {
            "_model_module": "@jupyter-widgets/base",
            "_model_module_version": "1.2.0",
            "_model_name": "LayoutModel",
            "_view_count": null,
            "_view_module": "@jupyter-widgets/base",
            "_view_module_version": "1.2.0",
            "_view_name": "LayoutView",
            "align_content": null,
            "align_items": null,
            "align_self": null,
            "border": null,
            "bottom": null,
            "display": null,
            "flex": null,
            "flex_flow": null,
            "grid_area": null,
            "grid_auto_columns": null,
            "grid_auto_flow": null,
            "grid_auto_rows": null,
            "grid_column": null,
            "grid_gap": null,
            "grid_row": null,
            "grid_template_areas": null,
            "grid_template_columns": null,
            "grid_template_rows": null,
            "height": null,
            "justify_content": null,
            "justify_items": null,
            "left": null,
            "margin": null,
            "max_height": null,
            "max_width": null,
            "min_height": null,
            "min_width": null,
            "object_fit": null,
            "object_position": null,
            "order": null,
            "overflow": null,
            "overflow_x": null,
            "overflow_y": null,
            "padding": null,
            "right": null,
            "top": null,
            "visibility": null,
            "width": null
          }
        },
        "45455743ed8146f880eaab026df98969": {
          "model_module": "@jupyter-widgets/controls",
          "model_name": "DescriptionStyleModel",
          "model_module_version": "1.5.0",
          "state": {
            "_model_module": "@jupyter-widgets/controls",
            "_model_module_version": "1.5.0",
            "_model_name": "DescriptionStyleModel",
            "_view_count": null,
            "_view_module": "@jupyter-widgets/base",
            "_view_module_version": "1.2.0",
            "_view_name": "StyleView",
            "description_width": ""
          }
        },
        "41a07a4a48864e988ef88f63897b6adb": {
          "model_module": "@jupyter-widgets/controls",
          "model_name": "HBoxModel",
          "model_module_version": "1.5.0",
          "state": {
            "_dom_classes": [],
            "_model_module": "@jupyter-widgets/controls",
            "_model_module_version": "1.5.0",
            "_model_name": "HBoxModel",
            "_view_count": null,
            "_view_module": "@jupyter-widgets/controls",
            "_view_module_version": "1.5.0",
            "_view_name": "HBoxView",
            "box_style": "",
            "children": [
              "IPY_MODEL_de82fcf7689e449192595b12e6d6ff39",
              "IPY_MODEL_fc1fd5bece6e4af28ef64a4590df26ee",
              "IPY_MODEL_df483b994dbb4543a5e3cf3c35e4feb9"
            ],
            "layout": "IPY_MODEL_0964a8246e3c4060a78513fcf621390c"
          }
        },
        "de82fcf7689e449192595b12e6d6ff39": {
          "model_module": "@jupyter-widgets/controls",
          "model_name": "HTMLModel",
          "model_module_version": "1.5.0",
          "state": {
            "_dom_classes": [],
            "_model_module": "@jupyter-widgets/controls",
            "_model_module_version": "1.5.0",
            "_model_name": "HTMLModel",
            "_view_count": null,
            "_view_module": "@jupyter-widgets/controls",
            "_view_module_version": "1.5.0",
            "_view_name": "HTMLView",
            "description": "",
            "description_tooltip": null,
            "layout": "IPY_MODEL_78cd37c4e4f04247a375f15ea971a018",
            "placeholder": "​",
            "style": "IPY_MODEL_db183df4ff8047d4b8b2feaf0148ad9e",
            "value": "vocab.txt: 100%"
          }
        },
        "fc1fd5bece6e4af28ef64a4590df26ee": {
          "model_module": "@jupyter-widgets/controls",
          "model_name": "FloatProgressModel",
          "model_module_version": "1.5.0",
          "state": {
            "_dom_classes": [],
            "_model_module": "@jupyter-widgets/controls",
            "_model_module_version": "1.5.0",
            "_model_name": "FloatProgressModel",
            "_view_count": null,
            "_view_module": "@jupyter-widgets/controls",
            "_view_module_version": "1.5.0",
            "_view_name": "ProgressView",
            "bar_style": "success",
            "description": "",
            "description_tooltip": null,
            "layout": "IPY_MODEL_3a6c83c17c5644a592c2c82a124a2c91",
            "max": 231508,
            "min": 0,
            "orientation": "horizontal",
            "style": "IPY_MODEL_3db54ebcc3704b5da4344456b956c82a",
            "value": 231508
          }
        },
        "df483b994dbb4543a5e3cf3c35e4feb9": {
          "model_module": "@jupyter-widgets/controls",
          "model_name": "HTMLModel",
          "model_module_version": "1.5.0",
          "state": {
            "_dom_classes": [],
            "_model_module": "@jupyter-widgets/controls",
            "_model_module_version": "1.5.0",
            "_model_name": "HTMLModel",
            "_view_count": null,
            "_view_module": "@jupyter-widgets/controls",
            "_view_module_version": "1.5.0",
            "_view_name": "HTMLView",
            "description": "",
            "description_tooltip": null,
            "layout": "IPY_MODEL_c7ce19b2b04b4d559500db06bade8956",
            "placeholder": "​",
            "style": "IPY_MODEL_3a21bc2a5ca544e0ae6d63326ba4f3a3",
            "value": " 232k/232k [00:00&lt;00:00, 5.13MB/s]"
          }
        },
        "0964a8246e3c4060a78513fcf621390c": {
          "model_module": "@jupyter-widgets/base",
          "model_name": "LayoutModel",
          "model_module_version": "1.2.0",
          "state": {
            "_model_module": "@jupyter-widgets/base",
            "_model_module_version": "1.2.0",
            "_model_name": "LayoutModel",
            "_view_count": null,
            "_view_module": "@jupyter-widgets/base",
            "_view_module_version": "1.2.0",
            "_view_name": "LayoutView",
            "align_content": null,
            "align_items": null,
            "align_self": null,
            "border": null,
            "bottom": null,
            "display": null,
            "flex": null,
            "flex_flow": null,
            "grid_area": null,
            "grid_auto_columns": null,
            "grid_auto_flow": null,
            "grid_auto_rows": null,
            "grid_column": null,
            "grid_gap": null,
            "grid_row": null,
            "grid_template_areas": null,
            "grid_template_columns": null,
            "grid_template_rows": null,
            "height": null,
            "justify_content": null,
            "justify_items": null,
            "left": null,
            "margin": null,
            "max_height": null,
            "max_width": null,
            "min_height": null,
            "min_width": null,
            "object_fit": null,
            "object_position": null,
            "order": null,
            "overflow": null,
            "overflow_x": null,
            "overflow_y": null,
            "padding": null,
            "right": null,
            "top": null,
            "visibility": null,
            "width": null
          }
        },
        "78cd37c4e4f04247a375f15ea971a018": {
          "model_module": "@jupyter-widgets/base",
          "model_name": "LayoutModel",
          "model_module_version": "1.2.0",
          "state": {
            "_model_module": "@jupyter-widgets/base",
            "_model_module_version": "1.2.0",
            "_model_name": "LayoutModel",
            "_view_count": null,
            "_view_module": "@jupyter-widgets/base",
            "_view_module_version": "1.2.0",
            "_view_name": "LayoutView",
            "align_content": null,
            "align_items": null,
            "align_self": null,
            "border": null,
            "bottom": null,
            "display": null,
            "flex": null,
            "flex_flow": null,
            "grid_area": null,
            "grid_auto_columns": null,
            "grid_auto_flow": null,
            "grid_auto_rows": null,
            "grid_column": null,
            "grid_gap": null,
            "grid_row": null,
            "grid_template_areas": null,
            "grid_template_columns": null,
            "grid_template_rows": null,
            "height": null,
            "justify_content": null,
            "justify_items": null,
            "left": null,
            "margin": null,
            "max_height": null,
            "max_width": null,
            "min_height": null,
            "min_width": null,
            "object_fit": null,
            "object_position": null,
            "order": null,
            "overflow": null,
            "overflow_x": null,
            "overflow_y": null,
            "padding": null,
            "right": null,
            "top": null,
            "visibility": null,
            "width": null
          }
        },
        "db183df4ff8047d4b8b2feaf0148ad9e": {
          "model_module": "@jupyter-widgets/controls",
          "model_name": "DescriptionStyleModel",
          "model_module_version": "1.5.0",
          "state": {
            "_model_module": "@jupyter-widgets/controls",
            "_model_module_version": "1.5.0",
            "_model_name": "DescriptionStyleModel",
            "_view_count": null,
            "_view_module": "@jupyter-widgets/base",
            "_view_module_version": "1.2.0",
            "_view_name": "StyleView",
            "description_width": ""
          }
        },
        "3a6c83c17c5644a592c2c82a124a2c91": {
          "model_module": "@jupyter-widgets/base",
          "model_name": "LayoutModel",
          "model_module_version": "1.2.0",
          "state": {
            "_model_module": "@jupyter-widgets/base",
            "_model_module_version": "1.2.0",
            "_model_name": "LayoutModel",
            "_view_count": null,
            "_view_module": "@jupyter-widgets/base",
            "_view_module_version": "1.2.0",
            "_view_name": "LayoutView",
            "align_content": null,
            "align_items": null,
            "align_self": null,
            "border": null,
            "bottom": null,
            "display": null,
            "flex": null,
            "flex_flow": null,
            "grid_area": null,
            "grid_auto_columns": null,
            "grid_auto_flow": null,
            "grid_auto_rows": null,
            "grid_column": null,
            "grid_gap": null,
            "grid_row": null,
            "grid_template_areas": null,
            "grid_template_columns": null,
            "grid_template_rows": null,
            "height": null,
            "justify_content": null,
            "justify_items": null,
            "left": null,
            "margin": null,
            "max_height": null,
            "max_width": null,
            "min_height": null,
            "min_width": null,
            "object_fit": null,
            "object_position": null,
            "order": null,
            "overflow": null,
            "overflow_x": null,
            "overflow_y": null,
            "padding": null,
            "right": null,
            "top": null,
            "visibility": null,
            "width": null
          }
        },
        "3db54ebcc3704b5da4344456b956c82a": {
          "model_module": "@jupyter-widgets/controls",
          "model_name": "ProgressStyleModel",
          "model_module_version": "1.5.0",
          "state": {
            "_model_module": "@jupyter-widgets/controls",
            "_model_module_version": "1.5.0",
            "_model_name": "ProgressStyleModel",
            "_view_count": null,
            "_view_module": "@jupyter-widgets/base",
            "_view_module_version": "1.2.0",
            "_view_name": "StyleView",
            "bar_color": null,
            "description_width": ""
          }
        },
        "c7ce19b2b04b4d559500db06bade8956": {
          "model_module": "@jupyter-widgets/base",
          "model_name": "LayoutModel",
          "model_module_version": "1.2.0",
          "state": {
            "_model_module": "@jupyter-widgets/base",
            "_model_module_version": "1.2.0",
            "_model_name": "LayoutModel",
            "_view_count": null,
            "_view_module": "@jupyter-widgets/base",
            "_view_module_version": "1.2.0",
            "_view_name": "LayoutView",
            "align_content": null,
            "align_items": null,
            "align_self": null,
            "border": null,
            "bottom": null,
            "display": null,
            "flex": null,
            "flex_flow": null,
            "grid_area": null,
            "grid_auto_columns": null,
            "grid_auto_flow": null,
            "grid_auto_rows": null,
            "grid_column": null,
            "grid_gap": null,
            "grid_row": null,
            "grid_template_areas": null,
            "grid_template_columns": null,
            "grid_template_rows": null,
            "height": null,
            "justify_content": null,
            "justify_items": null,
            "left": null,
            "margin": null,
            "max_height": null,
            "max_width": null,
            "min_height": null,
            "min_width": null,
            "object_fit": null,
            "object_position": null,
            "order": null,
            "overflow": null,
            "overflow_x": null,
            "overflow_y": null,
            "padding": null,
            "right": null,
            "top": null,
            "visibility": null,
            "width": null
          }
        },
        "3a21bc2a5ca544e0ae6d63326ba4f3a3": {
          "model_module": "@jupyter-widgets/controls",
          "model_name": "DescriptionStyleModel",
          "model_module_version": "1.5.0",
          "state": {
            "_model_module": "@jupyter-widgets/controls",
            "_model_module_version": "1.5.0",
            "_model_name": "DescriptionStyleModel",
            "_view_count": null,
            "_view_module": "@jupyter-widgets/base",
            "_view_module_version": "1.2.0",
            "_view_name": "StyleView",
            "description_width": ""
          }
        },
        "5e657163927346929c75b1164308fc31": {
          "model_module": "@jupyter-widgets/controls",
          "model_name": "HBoxModel",
          "model_module_version": "1.5.0",
          "state": {
            "_dom_classes": [],
            "_model_module": "@jupyter-widgets/controls",
            "_model_module_version": "1.5.0",
            "_model_name": "HBoxModel",
            "_view_count": null,
            "_view_module": "@jupyter-widgets/controls",
            "_view_module_version": "1.5.0",
            "_view_name": "HBoxView",
            "box_style": "",
            "children": [
              "IPY_MODEL_1df0963fc5ec41d1ae33e7ab50f61880",
              "IPY_MODEL_d08bd1fcc06d47e8b86b2638f6c75044",
              "IPY_MODEL_59210ad8694548818140322d36610e3c"
            ],
            "layout": "IPY_MODEL_ae6ea2a469b24182a40ab16d49575255"
          }
        },
        "1df0963fc5ec41d1ae33e7ab50f61880": {
          "model_module": "@jupyter-widgets/controls",
          "model_name": "HTMLModel",
          "model_module_version": "1.5.0",
          "state": {
            "_dom_classes": [],
            "_model_module": "@jupyter-widgets/controls",
            "_model_module_version": "1.5.0",
            "_model_name": "HTMLModel",
            "_view_count": null,
            "_view_module": "@jupyter-widgets/controls",
            "_view_module_version": "1.5.0",
            "_view_name": "HTMLView",
            "description": "",
            "description_tooltip": null,
            "layout": "IPY_MODEL_d6acb0a608ee4e31906ee708e61711b3",
            "placeholder": "​",
            "style": "IPY_MODEL_1d1709169e6047fb85801e49ee7dd5b6",
            "value": "tokenizer.json: 100%"
          }
        },
        "d08bd1fcc06d47e8b86b2638f6c75044": {
          "model_module": "@jupyter-widgets/controls",
          "model_name": "FloatProgressModel",
          "model_module_version": "1.5.0",
          "state": {
            "_dom_classes": [],
            "_model_module": "@jupyter-widgets/controls",
            "_model_module_version": "1.5.0",
            "_model_name": "FloatProgressModel",
            "_view_count": null,
            "_view_module": "@jupyter-widgets/controls",
            "_view_module_version": "1.5.0",
            "_view_name": "ProgressView",
            "bar_style": "success",
            "description": "",
            "description_tooltip": null,
            "layout": "IPY_MODEL_86f60751d95445208f233c869fdb6833",
            "max": 466062,
            "min": 0,
            "orientation": "horizontal",
            "style": "IPY_MODEL_3f3155826f714433a612180debea5717",
            "value": 466062
          }
        },
        "59210ad8694548818140322d36610e3c": {
          "model_module": "@jupyter-widgets/controls",
          "model_name": "HTMLModel",
          "model_module_version": "1.5.0",
          "state": {
            "_dom_classes": [],
            "_model_module": "@jupyter-widgets/controls",
            "_model_module_version": "1.5.0",
            "_model_name": "HTMLModel",
            "_view_count": null,
            "_view_module": "@jupyter-widgets/controls",
            "_view_module_version": "1.5.0",
            "_view_name": "HTMLView",
            "description": "",
            "description_tooltip": null,
            "layout": "IPY_MODEL_e05d77259fe94ad29aca45c0076c1462",
            "placeholder": "​",
            "style": "IPY_MODEL_9a699d277c394a569c74ec4c467bf674",
            "value": " 466k/466k [00:00&lt;00:00, 7.15MB/s]"
          }
        },
        "ae6ea2a469b24182a40ab16d49575255": {
          "model_module": "@jupyter-widgets/base",
          "model_name": "LayoutModel",
          "model_module_version": "1.2.0",
          "state": {
            "_model_module": "@jupyter-widgets/base",
            "_model_module_version": "1.2.0",
            "_model_name": "LayoutModel",
            "_view_count": null,
            "_view_module": "@jupyter-widgets/base",
            "_view_module_version": "1.2.0",
            "_view_name": "LayoutView",
            "align_content": null,
            "align_items": null,
            "align_self": null,
            "border": null,
            "bottom": null,
            "display": null,
            "flex": null,
            "flex_flow": null,
            "grid_area": null,
            "grid_auto_columns": null,
            "grid_auto_flow": null,
            "grid_auto_rows": null,
            "grid_column": null,
            "grid_gap": null,
            "grid_row": null,
            "grid_template_areas": null,
            "grid_template_columns": null,
            "grid_template_rows": null,
            "height": null,
            "justify_content": null,
            "justify_items": null,
            "left": null,
            "margin": null,
            "max_height": null,
            "max_width": null,
            "min_height": null,
            "min_width": null,
            "object_fit": null,
            "object_position": null,
            "order": null,
            "overflow": null,
            "overflow_x": null,
            "overflow_y": null,
            "padding": null,
            "right": null,
            "top": null,
            "visibility": null,
            "width": null
          }
        },
        "d6acb0a608ee4e31906ee708e61711b3": {
          "model_module": "@jupyter-widgets/base",
          "model_name": "LayoutModel",
          "model_module_version": "1.2.0",
          "state": {
            "_model_module": "@jupyter-widgets/base",
            "_model_module_version": "1.2.0",
            "_model_name": "LayoutModel",
            "_view_count": null,
            "_view_module": "@jupyter-widgets/base",
            "_view_module_version": "1.2.0",
            "_view_name": "LayoutView",
            "align_content": null,
            "align_items": null,
            "align_self": null,
            "border": null,
            "bottom": null,
            "display": null,
            "flex": null,
            "flex_flow": null,
            "grid_area": null,
            "grid_auto_columns": null,
            "grid_auto_flow": null,
            "grid_auto_rows": null,
            "grid_column": null,
            "grid_gap": null,
            "grid_row": null,
            "grid_template_areas": null,
            "grid_template_columns": null,
            "grid_template_rows": null,
            "height": null,
            "justify_content": null,
            "justify_items": null,
            "left": null,
            "margin": null,
            "max_height": null,
            "max_width": null,
            "min_height": null,
            "min_width": null,
            "object_fit": null,
            "object_position": null,
            "order": null,
            "overflow": null,
            "overflow_x": null,
            "overflow_y": null,
            "padding": null,
            "right": null,
            "top": null,
            "visibility": null,
            "width": null
          }
        },
        "1d1709169e6047fb85801e49ee7dd5b6": {
          "model_module": "@jupyter-widgets/controls",
          "model_name": "DescriptionStyleModel",
          "model_module_version": "1.5.0",
          "state": {
            "_model_module": "@jupyter-widgets/controls",
            "_model_module_version": "1.5.0",
            "_model_name": "DescriptionStyleModel",
            "_view_count": null,
            "_view_module": "@jupyter-widgets/base",
            "_view_module_version": "1.2.0",
            "_view_name": "StyleView",
            "description_width": ""
          }
        },
        "86f60751d95445208f233c869fdb6833": {
          "model_module": "@jupyter-widgets/base",
          "model_name": "LayoutModel",
          "model_module_version": "1.2.0",
          "state": {
            "_model_module": "@jupyter-widgets/base",
            "_model_module_version": "1.2.0",
            "_model_name": "LayoutModel",
            "_view_count": null,
            "_view_module": "@jupyter-widgets/base",
            "_view_module_version": "1.2.0",
            "_view_name": "LayoutView",
            "align_content": null,
            "align_items": null,
            "align_self": null,
            "border": null,
            "bottom": null,
            "display": null,
            "flex": null,
            "flex_flow": null,
            "grid_area": null,
            "grid_auto_columns": null,
            "grid_auto_flow": null,
            "grid_auto_rows": null,
            "grid_column": null,
            "grid_gap": null,
            "grid_row": null,
            "grid_template_areas": null,
            "grid_template_columns": null,
            "grid_template_rows": null,
            "height": null,
            "justify_content": null,
            "justify_items": null,
            "left": null,
            "margin": null,
            "max_height": null,
            "max_width": null,
            "min_height": null,
            "min_width": null,
            "object_fit": null,
            "object_position": null,
            "order": null,
            "overflow": null,
            "overflow_x": null,
            "overflow_y": null,
            "padding": null,
            "right": null,
            "top": null,
            "visibility": null,
            "width": null
          }
        },
        "3f3155826f714433a612180debea5717": {
          "model_module": "@jupyter-widgets/controls",
          "model_name": "ProgressStyleModel",
          "model_module_version": "1.5.0",
          "state": {
            "_model_module": "@jupyter-widgets/controls",
            "_model_module_version": "1.5.0",
            "_model_name": "ProgressStyleModel",
            "_view_count": null,
            "_view_module": "@jupyter-widgets/base",
            "_view_module_version": "1.2.0",
            "_view_name": "StyleView",
            "bar_color": null,
            "description_width": ""
          }
        },
        "e05d77259fe94ad29aca45c0076c1462": {
          "model_module": "@jupyter-widgets/base",
          "model_name": "LayoutModel",
          "model_module_version": "1.2.0",
          "state": {
            "_model_module": "@jupyter-widgets/base",
            "_model_module_version": "1.2.0",
            "_model_name": "LayoutModel",
            "_view_count": null,
            "_view_module": "@jupyter-widgets/base",
            "_view_module_version": "1.2.0",
            "_view_name": "LayoutView",
            "align_content": null,
            "align_items": null,
            "align_self": null,
            "border": null,
            "bottom": null,
            "display": null,
            "flex": null,
            "flex_flow": null,
            "grid_area": null,
            "grid_auto_columns": null,
            "grid_auto_flow": null,
            "grid_auto_rows": null,
            "grid_column": null,
            "grid_gap": null,
            "grid_row": null,
            "grid_template_areas": null,
            "grid_template_columns": null,
            "grid_template_rows": null,
            "height": null,
            "justify_content": null,
            "justify_items": null,
            "left": null,
            "margin": null,
            "max_height": null,
            "max_width": null,
            "min_height": null,
            "min_width": null,
            "object_fit": null,
            "object_position": null,
            "order": null,
            "overflow": null,
            "overflow_x": null,
            "overflow_y": null,
            "padding": null,
            "right": null,
            "top": null,
            "visibility": null,
            "width": null
          }
        },
        "9a699d277c394a569c74ec4c467bf674": {
          "model_module": "@jupyter-widgets/controls",
          "model_name": "DescriptionStyleModel",
          "model_module_version": "1.5.0",
          "state": {
            "_model_module": "@jupyter-widgets/controls",
            "_model_module_version": "1.5.0",
            "_model_name": "DescriptionStyleModel",
            "_view_count": null,
            "_view_module": "@jupyter-widgets/base",
            "_view_module_version": "1.2.0",
            "_view_name": "StyleView",
            "description_width": ""
          }
        },
        "1109d087d55a4c759eb5c91fcd66a363": {
          "model_module": "@jupyter-widgets/controls",
          "model_name": "HBoxModel",
          "model_module_version": "1.5.0",
          "state": {
            "_dom_classes": [],
            "_model_module": "@jupyter-widgets/controls",
            "_model_module_version": "1.5.0",
            "_model_name": "HBoxModel",
            "_view_count": null,
            "_view_module": "@jupyter-widgets/controls",
            "_view_module_version": "1.5.0",
            "_view_name": "HBoxView",
            "box_style": "",
            "children": [
              "IPY_MODEL_bcd66e71b8644dafb99cf8f092ac912b",
              "IPY_MODEL_5ec39cf313af4030880c67f3c73c9dcd",
              "IPY_MODEL_926ab3efc71d47d69caa6ee9e74dc585"
            ],
            "layout": "IPY_MODEL_5b38518d3be64a7784f9b0c645fcb790"
          }
        },
        "bcd66e71b8644dafb99cf8f092ac912b": {
          "model_module": "@jupyter-widgets/controls",
          "model_name": "HTMLModel",
          "model_module_version": "1.5.0",
          "state": {
            "_dom_classes": [],
            "_model_module": "@jupyter-widgets/controls",
            "_model_module_version": "1.5.0",
            "_model_name": "HTMLModel",
            "_view_count": null,
            "_view_module": "@jupyter-widgets/controls",
            "_view_module_version": "1.5.0",
            "_view_name": "HTMLView",
            "description": "",
            "description_tooltip": null,
            "layout": "IPY_MODEL_bb6662234f874d8a8ba8ac0cbbe57ed3",
            "placeholder": "​",
            "style": "IPY_MODEL_caa2559296864f239ccd8c424e8b6f52",
            "value": "config.json: 100%"
          }
        },
        "5ec39cf313af4030880c67f3c73c9dcd": {
          "model_module": "@jupyter-widgets/controls",
          "model_name": "FloatProgressModel",
          "model_module_version": "1.5.0",
          "state": {
            "_dom_classes": [],
            "_model_module": "@jupyter-widgets/controls",
            "_model_module_version": "1.5.0",
            "_model_name": "FloatProgressModel",
            "_view_count": null,
            "_view_module": "@jupyter-widgets/controls",
            "_view_module_version": "1.5.0",
            "_view_name": "ProgressView",
            "bar_style": "success",
            "description": "",
            "description_tooltip": null,
            "layout": "IPY_MODEL_c3f76bddb51740f7a0a7239b17acb400",
            "max": 483,
            "min": 0,
            "orientation": "horizontal",
            "style": "IPY_MODEL_a5c29ec5c9d64cb1ac695b279cc2c757",
            "value": 483
          }
        },
        "926ab3efc71d47d69caa6ee9e74dc585": {
          "model_module": "@jupyter-widgets/controls",
          "model_name": "HTMLModel",
          "model_module_version": "1.5.0",
          "state": {
            "_dom_classes": [],
            "_model_module": "@jupyter-widgets/controls",
            "_model_module_version": "1.5.0",
            "_model_name": "HTMLModel",
            "_view_count": null,
            "_view_module": "@jupyter-widgets/controls",
            "_view_module_version": "1.5.0",
            "_view_name": "HTMLView",
            "description": "",
            "description_tooltip": null,
            "layout": "IPY_MODEL_3d467d0579e44b9d9f2468ee4a3443ab",
            "placeholder": "​",
            "style": "IPY_MODEL_b1b1744cc3ad44b99aecc68fb880cbbe",
            "value": " 483/483 [00:00&lt;00:00, 52.2kB/s]"
          }
        },
        "5b38518d3be64a7784f9b0c645fcb790": {
          "model_module": "@jupyter-widgets/base",
          "model_name": "LayoutModel",
          "model_module_version": "1.2.0",
          "state": {
            "_model_module": "@jupyter-widgets/base",
            "_model_module_version": "1.2.0",
            "_model_name": "LayoutModel",
            "_view_count": null,
            "_view_module": "@jupyter-widgets/base",
            "_view_module_version": "1.2.0",
            "_view_name": "LayoutView",
            "align_content": null,
            "align_items": null,
            "align_self": null,
            "border": null,
            "bottom": null,
            "display": null,
            "flex": null,
            "flex_flow": null,
            "grid_area": null,
            "grid_auto_columns": null,
            "grid_auto_flow": null,
            "grid_auto_rows": null,
            "grid_column": null,
            "grid_gap": null,
            "grid_row": null,
            "grid_template_areas": null,
            "grid_template_columns": null,
            "grid_template_rows": null,
            "height": null,
            "justify_content": null,
            "justify_items": null,
            "left": null,
            "margin": null,
            "max_height": null,
            "max_width": null,
            "min_height": null,
            "min_width": null,
            "object_fit": null,
            "object_position": null,
            "order": null,
            "overflow": null,
            "overflow_x": null,
            "overflow_y": null,
            "padding": null,
            "right": null,
            "top": null,
            "visibility": null,
            "width": null
          }
        },
        "bb6662234f874d8a8ba8ac0cbbe57ed3": {
          "model_module": "@jupyter-widgets/base",
          "model_name": "LayoutModel",
          "model_module_version": "1.2.0",
          "state": {
            "_model_module": "@jupyter-widgets/base",
            "_model_module_version": "1.2.0",
            "_model_name": "LayoutModel",
            "_view_count": null,
            "_view_module": "@jupyter-widgets/base",
            "_view_module_version": "1.2.0",
            "_view_name": "LayoutView",
            "align_content": null,
            "align_items": null,
            "align_self": null,
            "border": null,
            "bottom": null,
            "display": null,
            "flex": null,
            "flex_flow": null,
            "grid_area": null,
            "grid_auto_columns": null,
            "grid_auto_flow": null,
            "grid_auto_rows": null,
            "grid_column": null,
            "grid_gap": null,
            "grid_row": null,
            "grid_template_areas": null,
            "grid_template_columns": null,
            "grid_template_rows": null,
            "height": null,
            "justify_content": null,
            "justify_items": null,
            "left": null,
            "margin": null,
            "max_height": null,
            "max_width": null,
            "min_height": null,
            "min_width": null,
            "object_fit": null,
            "object_position": null,
            "order": null,
            "overflow": null,
            "overflow_x": null,
            "overflow_y": null,
            "padding": null,
            "right": null,
            "top": null,
            "visibility": null,
            "width": null
          }
        },
        "caa2559296864f239ccd8c424e8b6f52": {
          "model_module": "@jupyter-widgets/controls",
          "model_name": "DescriptionStyleModel",
          "model_module_version": "1.5.0",
          "state": {
            "_model_module": "@jupyter-widgets/controls",
            "_model_module_version": "1.5.0",
            "_model_name": "DescriptionStyleModel",
            "_view_count": null,
            "_view_module": "@jupyter-widgets/base",
            "_view_module_version": "1.2.0",
            "_view_name": "StyleView",
            "description_width": ""
          }
        },
        "c3f76bddb51740f7a0a7239b17acb400": {
          "model_module": "@jupyter-widgets/base",
          "model_name": "LayoutModel",
          "model_module_version": "1.2.0",
          "state": {
            "_model_module": "@jupyter-widgets/base",
            "_model_module_version": "1.2.0",
            "_model_name": "LayoutModel",
            "_view_count": null,
            "_view_module": "@jupyter-widgets/base",
            "_view_module_version": "1.2.0",
            "_view_name": "LayoutView",
            "align_content": null,
            "align_items": null,
            "align_self": null,
            "border": null,
            "bottom": null,
            "display": null,
            "flex": null,
            "flex_flow": null,
            "grid_area": null,
            "grid_auto_columns": null,
            "grid_auto_flow": null,
            "grid_auto_rows": null,
            "grid_column": null,
            "grid_gap": null,
            "grid_row": null,
            "grid_template_areas": null,
            "grid_template_columns": null,
            "grid_template_rows": null,
            "height": null,
            "justify_content": null,
            "justify_items": null,
            "left": null,
            "margin": null,
            "max_height": null,
            "max_width": null,
            "min_height": null,
            "min_width": null,
            "object_fit": null,
            "object_position": null,
            "order": null,
            "overflow": null,
            "overflow_x": null,
            "overflow_y": null,
            "padding": null,
            "right": null,
            "top": null,
            "visibility": null,
            "width": null
          }
        },
        "a5c29ec5c9d64cb1ac695b279cc2c757": {
          "model_module": "@jupyter-widgets/controls",
          "model_name": "ProgressStyleModel",
          "model_module_version": "1.5.0",
          "state": {
            "_model_module": "@jupyter-widgets/controls",
            "_model_module_version": "1.5.0",
            "_model_name": "ProgressStyleModel",
            "_view_count": null,
            "_view_module": "@jupyter-widgets/base",
            "_view_module_version": "1.2.0",
            "_view_name": "StyleView",
            "bar_color": null,
            "description_width": ""
          }
        },
        "3d467d0579e44b9d9f2468ee4a3443ab": {
          "model_module": "@jupyter-widgets/base",
          "model_name": "LayoutModel",
          "model_module_version": "1.2.0",
          "state": {
            "_model_module": "@jupyter-widgets/base",
            "_model_module_version": "1.2.0",
            "_model_name": "LayoutModel",
            "_view_count": null,
            "_view_module": "@jupyter-widgets/base",
            "_view_module_version": "1.2.0",
            "_view_name": "LayoutView",
            "align_content": null,
            "align_items": null,
            "align_self": null,
            "border": null,
            "bottom": null,
            "display": null,
            "flex": null,
            "flex_flow": null,
            "grid_area": null,
            "grid_auto_columns": null,
            "grid_auto_flow": null,
            "grid_auto_rows": null,
            "grid_column": null,
            "grid_gap": null,
            "grid_row": null,
            "grid_template_areas": null,
            "grid_template_columns": null,
            "grid_template_rows": null,
            "height": null,
            "justify_content": null,
            "justify_items": null,
            "left": null,
            "margin": null,
            "max_height": null,
            "max_width": null,
            "min_height": null,
            "min_width": null,
            "object_fit": null,
            "object_position": null,
            "order": null,
            "overflow": null,
            "overflow_x": null,
            "overflow_y": null,
            "padding": null,
            "right": null,
            "top": null,
            "visibility": null,
            "width": null
          }
        },
        "b1b1744cc3ad44b99aecc68fb880cbbe": {
          "model_module": "@jupyter-widgets/controls",
          "model_name": "DescriptionStyleModel",
          "model_module_version": "1.5.0",
          "state": {
            "_model_module": "@jupyter-widgets/controls",
            "_model_module_version": "1.5.0",
            "_model_name": "DescriptionStyleModel",
            "_view_count": null,
            "_view_module": "@jupyter-widgets/base",
            "_view_module_version": "1.2.0",
            "_view_name": "StyleView",
            "description_width": ""
          }
        },
        "79bd767b7fe7430e8abc840fd4d8f27d": {
          "model_module": "@jupyter-widgets/controls",
          "model_name": "HBoxModel",
          "model_module_version": "1.5.0",
          "state": {
            "_dom_classes": [],
            "_model_module": "@jupyter-widgets/controls",
            "_model_module_version": "1.5.0",
            "_model_name": "HBoxModel",
            "_view_count": null,
            "_view_module": "@jupyter-widgets/controls",
            "_view_module_version": "1.5.0",
            "_view_name": "HBoxView",
            "box_style": "",
            "children": [
              "IPY_MODEL_6ddac0b9c4a043bebacc39163c935ad0",
              "IPY_MODEL_f8a4824e597248deb0717f945cffb1ce",
              "IPY_MODEL_22a4266ba9b044888bc94f86e4bac5e7"
            ],
            "layout": "IPY_MODEL_f1aa20f521fe4c1b9ce08071dc2481ab"
          }
        },
        "6ddac0b9c4a043bebacc39163c935ad0": {
          "model_module": "@jupyter-widgets/controls",
          "model_name": "HTMLModel",
          "model_module_version": "1.5.0",
          "state": {
            "_dom_classes": [],
            "_model_module": "@jupyter-widgets/controls",
            "_model_module_version": "1.5.0",
            "_model_name": "HTMLModel",
            "_view_count": null,
            "_view_module": "@jupyter-widgets/controls",
            "_view_module_version": "1.5.0",
            "_view_name": "HTMLView",
            "description": "",
            "description_tooltip": null,
            "layout": "IPY_MODEL_9da651cad266405fb25c67a43a361e9d",
            "placeholder": "​",
            "style": "IPY_MODEL_7812c46347704b0aa99b11cd5d1529d4",
            "value": "Map: 100%"
          }
        },
        "f8a4824e597248deb0717f945cffb1ce": {
          "model_module": "@jupyter-widgets/controls",
          "model_name": "FloatProgressModel",
          "model_module_version": "1.5.0",
          "state": {
            "_dom_classes": [],
            "_model_module": "@jupyter-widgets/controls",
            "_model_module_version": "1.5.0",
            "_model_name": "FloatProgressModel",
            "_view_count": null,
            "_view_module": "@jupyter-widgets/controls",
            "_view_module_version": "1.5.0",
            "_view_name": "ProgressView",
            "bar_style": "success",
            "description": "",
            "description_tooltip": null,
            "layout": "IPY_MODEL_97d852b021814991ab0b15f28c06bd59",
            "max": 2000,
            "min": 0,
            "orientation": "horizontal",
            "style": "IPY_MODEL_846260f4114b49d486dff4e45c8b68a3",
            "value": 2000
          }
        },
        "22a4266ba9b044888bc94f86e4bac5e7": {
          "model_module": "@jupyter-widgets/controls",
          "model_name": "HTMLModel",
          "model_module_version": "1.5.0",
          "state": {
            "_dom_classes": [],
            "_model_module": "@jupyter-widgets/controls",
            "_model_module_version": "1.5.0",
            "_model_name": "HTMLModel",
            "_view_count": null,
            "_view_module": "@jupyter-widgets/controls",
            "_view_module_version": "1.5.0",
            "_view_name": "HTMLView",
            "description": "",
            "description_tooltip": null,
            "layout": "IPY_MODEL_25bda5de3f6b452997e4afe004e74559",
            "placeholder": "​",
            "style": "IPY_MODEL_25afda6c5fdb4e6eaefe588dfe1dcbe1",
            "value": " 2000/2000 [00:07&lt;00:00, 228.50 examples/s]"
          }
        },
        "f1aa20f521fe4c1b9ce08071dc2481ab": {
          "model_module": "@jupyter-widgets/base",
          "model_name": "LayoutModel",
          "model_module_version": "1.2.0",
          "state": {
            "_model_module": "@jupyter-widgets/base",
            "_model_module_version": "1.2.0",
            "_model_name": "LayoutModel",
            "_view_count": null,
            "_view_module": "@jupyter-widgets/base",
            "_view_module_version": "1.2.0",
            "_view_name": "LayoutView",
            "align_content": null,
            "align_items": null,
            "align_self": null,
            "border": null,
            "bottom": null,
            "display": null,
            "flex": null,
            "flex_flow": null,
            "grid_area": null,
            "grid_auto_columns": null,
            "grid_auto_flow": null,
            "grid_auto_rows": null,
            "grid_column": null,
            "grid_gap": null,
            "grid_row": null,
            "grid_template_areas": null,
            "grid_template_columns": null,
            "grid_template_rows": null,
            "height": null,
            "justify_content": null,
            "justify_items": null,
            "left": null,
            "margin": null,
            "max_height": null,
            "max_width": null,
            "min_height": null,
            "min_width": null,
            "object_fit": null,
            "object_position": null,
            "order": null,
            "overflow": null,
            "overflow_x": null,
            "overflow_y": null,
            "padding": null,
            "right": null,
            "top": null,
            "visibility": null,
            "width": null
          }
        },
        "9da651cad266405fb25c67a43a361e9d": {
          "model_module": "@jupyter-widgets/base",
          "model_name": "LayoutModel",
          "model_module_version": "1.2.0",
          "state": {
            "_model_module": "@jupyter-widgets/base",
            "_model_module_version": "1.2.0",
            "_model_name": "LayoutModel",
            "_view_count": null,
            "_view_module": "@jupyter-widgets/base",
            "_view_module_version": "1.2.0",
            "_view_name": "LayoutView",
            "align_content": null,
            "align_items": null,
            "align_self": null,
            "border": null,
            "bottom": null,
            "display": null,
            "flex": null,
            "flex_flow": null,
            "grid_area": null,
            "grid_auto_columns": null,
            "grid_auto_flow": null,
            "grid_auto_rows": null,
            "grid_column": null,
            "grid_gap": null,
            "grid_row": null,
            "grid_template_areas": null,
            "grid_template_columns": null,
            "grid_template_rows": null,
            "height": null,
            "justify_content": null,
            "justify_items": null,
            "left": null,
            "margin": null,
            "max_height": null,
            "max_width": null,
            "min_height": null,
            "min_width": null,
            "object_fit": null,
            "object_position": null,
            "order": null,
            "overflow": null,
            "overflow_x": null,
            "overflow_y": null,
            "padding": null,
            "right": null,
            "top": null,
            "visibility": null,
            "width": null
          }
        },
        "7812c46347704b0aa99b11cd5d1529d4": {
          "model_module": "@jupyter-widgets/controls",
          "model_name": "DescriptionStyleModel",
          "model_module_version": "1.5.0",
          "state": {
            "_model_module": "@jupyter-widgets/controls",
            "_model_module_version": "1.5.0",
            "_model_name": "DescriptionStyleModel",
            "_view_count": null,
            "_view_module": "@jupyter-widgets/base",
            "_view_module_version": "1.2.0",
            "_view_name": "StyleView",
            "description_width": ""
          }
        },
        "97d852b021814991ab0b15f28c06bd59": {
          "model_module": "@jupyter-widgets/base",
          "model_name": "LayoutModel",
          "model_module_version": "1.2.0",
          "state": {
            "_model_module": "@jupyter-widgets/base",
            "_model_module_version": "1.2.0",
            "_model_name": "LayoutModel",
            "_view_count": null,
            "_view_module": "@jupyter-widgets/base",
            "_view_module_version": "1.2.0",
            "_view_name": "LayoutView",
            "align_content": null,
            "align_items": null,
            "align_self": null,
            "border": null,
            "bottom": null,
            "display": null,
            "flex": null,
            "flex_flow": null,
            "grid_area": null,
            "grid_auto_columns": null,
            "grid_auto_flow": null,
            "grid_auto_rows": null,
            "grid_column": null,
            "grid_gap": null,
            "grid_row": null,
            "grid_template_areas": null,
            "grid_template_columns": null,
            "grid_template_rows": null,
            "height": null,
            "justify_content": null,
            "justify_items": null,
            "left": null,
            "margin": null,
            "max_height": null,
            "max_width": null,
            "min_height": null,
            "min_width": null,
            "object_fit": null,
            "object_position": null,
            "order": null,
            "overflow": null,
            "overflow_x": null,
            "overflow_y": null,
            "padding": null,
            "right": null,
            "top": null,
            "visibility": null,
            "width": null
          }
        },
        "846260f4114b49d486dff4e45c8b68a3": {
          "model_module": "@jupyter-widgets/controls",
          "model_name": "ProgressStyleModel",
          "model_module_version": "1.5.0",
          "state": {
            "_model_module": "@jupyter-widgets/controls",
            "_model_module_version": "1.5.0",
            "_model_name": "ProgressStyleModel",
            "_view_count": null,
            "_view_module": "@jupyter-widgets/base",
            "_view_module_version": "1.2.0",
            "_view_name": "StyleView",
            "bar_color": null,
            "description_width": ""
          }
        },
        "25bda5de3f6b452997e4afe004e74559": {
          "model_module": "@jupyter-widgets/base",
          "model_name": "LayoutModel",
          "model_module_version": "1.2.0",
          "state": {
            "_model_module": "@jupyter-widgets/base",
            "_model_module_version": "1.2.0",
            "_model_name": "LayoutModel",
            "_view_count": null,
            "_view_module": "@jupyter-widgets/base",
            "_view_module_version": "1.2.0",
            "_view_name": "LayoutView",
            "align_content": null,
            "align_items": null,
            "align_self": null,
            "border": null,
            "bottom": null,
            "display": null,
            "flex": null,
            "flex_flow": null,
            "grid_area": null,
            "grid_auto_columns": null,
            "grid_auto_flow": null,
            "grid_auto_rows": null,
            "grid_column": null,
            "grid_gap": null,
            "grid_row": null,
            "grid_template_areas": null,
            "grid_template_columns": null,
            "grid_template_rows": null,
            "height": null,
            "justify_content": null,
            "justify_items": null,
            "left": null,
            "margin": null,
            "max_height": null,
            "max_width": null,
            "min_height": null,
            "min_width": null,
            "object_fit": null,
            "object_position": null,
            "order": null,
            "overflow": null,
            "overflow_x": null,
            "overflow_y": null,
            "padding": null,
            "right": null,
            "top": null,
            "visibility": null,
            "width": null
          }
        },
        "25afda6c5fdb4e6eaefe588dfe1dcbe1": {
          "model_module": "@jupyter-widgets/controls",
          "model_name": "DescriptionStyleModel",
          "model_module_version": "1.5.0",
          "state": {
            "_model_module": "@jupyter-widgets/controls",
            "_model_module_version": "1.5.0",
            "_model_name": "DescriptionStyleModel",
            "_view_count": null,
            "_view_module": "@jupyter-widgets/base",
            "_view_module_version": "1.2.0",
            "_view_name": "StyleView",
            "description_width": ""
          }
        }
      }
    }
  },
  "nbformat": 4,
  "nbformat_minor": 0
}