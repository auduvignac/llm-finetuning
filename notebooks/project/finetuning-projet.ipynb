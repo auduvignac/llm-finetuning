{
 "cells": [
  {
   "cell_type": "markdown",
   "id": "g3PmJq6pQqbP",
   "metadata": {
    "id": "g3PmJq6pQqbP"
   },
   "source": [
    "# *Fine-tuning* de *Large Language Models* (LLMs)\n",
    "\n",
    "<p align=\"center\">\n",
    "  <a href=\"https://colab.research.google.com/github/auduvignac/llm-finetuning/blob/main/notebooks/project/finetuning-projet.ipynb\" target=\"_blank\">\n",
    "  <img src=\"https://colab.research.google.com/assets/colab-badge.svg\" alt=\"Ouvrir dans Google Colab\"/>\n",
    "  </a>\n",
    "</p>\n",
    "\n",
    "Le but de ce projet est de réaliser le *fine-tuning* d'un LLM.\n"
   ]
  },
  {
   "cell_type": "markdown",
   "id": "9-t5uVFuNQiF",
   "metadata": {
    "id": "9-t5uVFuNQiF"
   },
   "source": [
    "## Installation des bibliothèques/libraires requises"
   ]
  },
  {
   "cell_type": "code",
   "execution_count": 1,
   "id": "-wuPJgZriD29",
   "metadata": {
    "colab": {
     "base_uri": "https://localhost:8080/"
    },
    "id": "-wuPJgZriD29",
    "outputId": "a112907a-a6a7-4a47-fe20-49206b4395e4",
    "vscode": {
     "languageId": "powershell"
    }
   },
   "outputs": [
    {
     "name": "stdout",
     "output_type": "stream",
     "text": [
      "⚡ Exécution sur Colab : vérification stricte des dépendances…\n",
      "🔁 accelerate 1.10.0 ne satisfait pas '==1.8.1' → réinstallation : accelerate==1.8.1\n",
      "⬇️ Manquant : bitsandbytes==0.46.0\n",
      "✅ datasets 4.0.0 — OK\n",
      "✅ matplotlib 3.10.0 — OK\n",
      "✅ numpy 2.0.2 — OK\n",
      "🔁 peft 0.17.0 ne satisfait pas '==0.15.0' → réinstallation : peft==0.15.0\n",
      "✅ tabulate 0.9.0 — OK\n",
      "✅ torch 2.8.0+cu126 — OK\n",
      "✅ tqdm 4.67.1 — OK\n",
      "✅ transformers 4.55.2 — OK\n",
      "⬇️ Installation/réininstallation des paquets nécessaires…\n",
      " $ /usr/bin/python3 -m pip install accelerate==1.8.1\n",
      " $ /usr/bin/python3 -m pip install bitsandbytes==0.46.0\n",
      " $ /usr/bin/python3 -m pip install peft==0.15.0\n"
     ]
    }
   ],
   "source": [
    "!wget -q https://raw.githubusercontent.com/auduvignac/llm-finetuning/refs/heads/main/setup_env.py -O setup_env.py\n",
    "%run setup_env.py"
   ]
  },
  {
   "cell_type": "code",
   "execution_count": 3,
   "id": "nCALzgA2Nleg",
   "metadata": {
    "colab": {
     "base_uri": "https://localhost:8080/"
    },
    "id": "nCALzgA2Nleg",
    "outputId": "c05a91c8-a179-41a1-fc25-376b85ed3c80"
   },
   "outputs": [
    {
     "data": {
      "text/plain": [
       "device(type='cpu')"
      ]
     },
     "execution_count": 3,
     "metadata": {},
     "output_type": "execute_result"
    }
   ],
   "source": [
    "%matplotlib inline\n",
    "%config InlineBackend.figure_formats = ['svg']\n",
    "\n",
    "import math\n",
    "\n",
    "import matplotlib.pyplot as plt\n",
    "import numpy as np\n",
    "import torch\n",
    "import torch.nn as nn\n",
    "import torch.nn.functional as F\n",
    "import transformers\n",
    "from datasets import (\n",
    "    load_dataset,\n",
    ")\n",
    "from peft import (\n",
    "    LoraConfig,\n",
    "    get_peft_model,\n",
    "    prepare_model_for_kbit_training,\n",
    ")\n",
    "from tabulate import (\n",
    "    tabulate,\n",
    ")\n",
    "from torch.utils.data import (\n",
    "    DataLoader,\n",
    ")\n",
    "from tqdm import (\n",
    "    tqdm,\n",
    ")\n",
    "\n",
    "# Si le notebook est exécuté dans un environnement jupyter, la librairie\n",
    "# ci-dessus peut être utilisée\n",
    "from tqdm.notebook import (\n",
    "    tqdm,\n",
    ")\n",
    "from transformers import (\n",
    "    AutoModelForCausalLM,\n",
    "    AutoTokenizer,\n",
    "    BitsAndBytesConfig,\n",
    "    DistilBertConfig,\n",
    "    DistilBertModel,\n",
    "    DistilBertTokenizer,\n",
    ")\n",
    "\n",
    "# Utilisation d’un GPU avec CUDA lorsque disponible sur la machine d’exécution.\n",
    "# L’utilisation d’un GPU pour l’apprentissage entraîne souvent d’énormes\n",
    "# accélérations lors de l’entraînement.\n",
    "# Voir https://developer.nvidia.com/cuda-downloads pour installer CUDA\n",
    "DEVICE = torch.device(\"cuda\" if torch.cuda.is_available() else \"cpu\")\n",
    "DEVICE"
   ]
  },
  {
   "cell_type": "code",
   "execution_count": null,
   "id": "YX7e3F_BR0BU",
   "metadata": {
    "id": "YX7e3F_BR0BU"
   },
   "outputs": [],
   "source": [
    "class LlamaFineTuner:\n",
    "  def __init__(self, model_id = \"TinyLlama/TinyLlama-1.1B-intermediate-step-1431k-3T\"):\n",
    "    self.model_id = model_id\n",
    "    self.bnb_config = BitsAndBytesConfig(\n",
    "      load_in_4bit=True,\n",
    "      bnb_4bit_quant_type=\"nf4\",\n",
    "      bnb_4bit_compute_dtype=\"float16\",\n",
    "      bnb_4bit_use_double_quant=False,\n",
    "    )\n",
    "    self.tokenizer = AutoTokenizer.from_pretrained(self.model_id)\n",
    "    self.model = AutoModelForCausalLM.from_pretrained(\n",
    "        self.model_id,\n",
    "        quantization_config=self.bnb_config,\n",
    "        device_map=\"auto\"\n",
    "    )"
   ]
  },
  {
   "cell_type": "markdown",
   "id": "lcK0ijcxQncc",
   "metadata": {
    "id": "lcK0ijcxQncc"
   },
   "source": [
    "## Classification de textes avec les Transformers\n",
    "\n",
    "Ce projet porte sur une tâche de **classification de textes** appliquée au **jeu de données IMDB** (analyse de sentiments ou *sentimental analysis*).  \n",
    "Ce travail s'appuiera sur les **architectures de type encodeur**, en particulier l’un des modèles les plus connus : **BERT** (et sa variante légère **DistilBERT**).\n",
    "\n",
    "## Présentation\n",
    "\n",
    "Le projet consiste à utiliser la librairie `datasets` pour le chargement des données et les `tokenizers` pour le prétraitement des textes.\n",
    "\n",
    "La librairie **Transformers** propose une API simple pour utiliser des modèles pré-entraînés tels que **BERT** ou **GPT**. Elle facilite leur téléchargement, leur ré-entraînement et leur intégration, tout en réduisant les coûts de calcul et en restant compatible avec **PyTorch, TensorFlow et JAX**.\n",
    "\n",
    "## Objectif du projet\n",
    "\n",
    "Dans le cadre de ce projet, l’expérimentation portera sur la librairie **Hugging Face** afin de :\n",
    "- Charger et adapter un modèle de type **BERT** à une tâche de classification de textes ;\n",
    "- Évaluer ses performances sur le dataset **IMDB** ;\n",
    "- Analyser les résultats et discuter des choix réalisés (modèle, preprocessing, paramètres, etc.).\n",
    "\n",
    "Le travail sera guidé par les interrogations suivantes :\n",
    "\n",
    "- Bien que tous ces modèles reposent sur l'architecture **Transformer**, quelles en sont les spécificités ?\n",
    "- Quel format d'entrée est attendu par le modèle ?\n",
    "- Quels types de sorties génère-t-il ?\n",
    "- Le modèle peut-il être utilisé tel quel ou doit-il être adapté à la tâche considérée ?\n",
    "\n",
    "Ces questions constituent une part essentielle du travail quotidien d’un chercheur en NLP et seront examinées dans le cadre de ce projet de *fine-tuning*."
   ]
  },
  {
   "cell_type": "markdown",
   "id": "fi9Qyvavi-Op",
   "metadata": {
    "id": "fi9Qyvavi-Op"
   },
   "source": [
    "## Chargement du jeu d'entraînement\n",
    "\n",
    "La phase initiale consiste à procéder au chargement du jeu d'entraînement au moyen de l'instruction suivante :\n",
    "```python\n",
    "dataset = load_dataset(\"scikit-learn/imdb\", split=\"train\")\n",
    "```"
   ]
  },
  {
   "cell_type": "code",
   "execution_count": null,
   "id": "kMzCkZq8jjLG",
   "metadata": {
    "id": "kMzCkZq8jjLG"
   },
   "outputs": [],
   "source": [
    "dataset = load_dataset(\"scikit-learn/imdb\", split=\"train\")"
   ]
  },
  {
   "cell_type": "markdown",
   "id": "pvR7eCDkjpso",
   "metadata": {
    "id": "pvR7eCDkjpso"
   },
   "source": [
    "Après le chargement, il convient de procéder à l'affichage du jeu de données afin d'en examiner la structure."
   ]
  },
  {
   "cell_type": "code",
   "execution_count": null,
   "id": "ZAqyoLADjsKH",
   "metadata": {
    "id": "ZAqyoLADjsKH"
   },
   "outputs": [],
   "source": [
    "print(dataset)"
   ]
  },
  {
   "cell_type": "markdown",
   "id": "k9jM4i1WkBQU",
   "metadata": {
    "id": "k9jM4i1WkBQU"
   },
   "source": [
    "L'exécution de la commande `print(dataset)` renvoie la description suivante du jeu de données :\n",
    "\n",
    "```\n",
    "Dataset({\n",
    "    features: ['review', 'sentiment'],\n",
    "    num_rows: 50000\n",
    "})\n",
    "```\n",
    "\n",
    "Le corpus est constitué de 50 000 instances, chacune décrite par deux attributs : le texte de la critique (*review*) et son étiquette de polarité (*sentiment*).\n"
   ]
  },
  {
   "cell_type": "markdown",
   "id": "dlVDb7LVl60v",
   "metadata": {
    "id": "dlVDb7LVl60v"
   },
   "source": [
    "## Préparation des entrées du modèle\n",
    "\n",
    "Le format d'entrée attendu par **BERT** peut être considéré comme « sur-spécifié », notamment lorsqu'il s'agit de tâches ciblées telles que la *sequence classification*, le *word tagging* ou la *paraphrase detection*. Ce format repose sur plusieurs contraintes :\n",
    "\n",
    "* l'ajout de *special tokens* au début et à la fin de chaque phrase ;\n",
    "* l'application d'un *padding* et d'une troncature afin de ramener toutes les phrases à une longueur constante ;\n",
    "* la distinction explicite entre *real tokens* et *padding tokens* au moyen de l'*attention mask*.\n",
    "\n",
    "\n",
    "<p align=\"center\">\n",
    "<img src=\"https://raw.githubusercontent.com/auduvignac/llm-finetuning/97e2b676168167ed5ff624f1ad98589c63919d5d/figures/bert_encoding_process.png\" width=\"600\">\n",
    "</p>\n",
    "\n",
    "La figure ci-dessus illustre le processus de préparation et de traitement des séquences textuelles dans le modèle **BERT**.\n",
    "\n",
    "1. **Tokenisation et ajout de tokens spéciaux**\n",
    "   La séquence textuelle est d'abord segmentée en *tokens*. Deux *special tokens* sont ajoutés : `[CLS]`, placé en début de séquence et utilisé comme représentation globale, ainsi que `[SEP]`, placé en fin de séquence et jouant un rôle de séparateur.\n",
    "\n",
    "2. **Normalisation de la longueur des séquences**\n",
    "   Afin d'assurer une longueur uniforme entre les exemples, les séquences sont complétées par des *\\[PAD] tokens* ou, le cas échéant, tronquées à une taille maximale prédéfinie (*MAX\\_LEN*).\n",
    "\n",
    "3. **Attention mask**\n",
    "   Un vecteur binaire, appelé *attention mask*, est associé à chaque séquence. La valeur `1` indique un *real token* tandis que la valeur `0` correspond à un *padding token*. Ce mécanisme permet au modèle d'ignorer les positions de remplissage au cours de l'entraînement et de l'inférence.\n",
    "\n",
    "4. **Propagation à travers les couches du Transformer**\n",
    "   Les représentations vectorielles des tokens traversent successivement les différentes couches de l'encodeur Transformer (ici, 12 couches). Chaque couche applique un mécanisme d'auto-*attention*, permettant de capturer les dépendances contextuelles entre tokens.\n",
    "\n",
    "5. **Production de la prédiction**\n",
    "   À l'issue de la dernière couche, seule la représentation associée au token `[CLS]` est retenue. Celle-ci est transmise au classificateur, qui produit la prédiction finale (par exemple, la polarité d'une critique dans une tâche de *sentiment analysis*).\n",
    "\n",
    "**Remarque :** Pour des raisons liées aux coûts de calcul, le modèle [DistilBERT](https://huggingface.co/docs/transformers/model_doc/distilbert) sera utilisé. Ce dernier constitue une version réduite d'environ 40 % par rapport à BERT, tout en conservant près de 95 % des performances du modèle original.\n",
    "\n",
    "Afin de préparer les données textuelles pour le modèle, il est nécessaire d'instancier un *tokenizer*. Celui-ci a pour rôle de segmenter les phrases en unités élémentaires (*tokens*) et de les convertir en identifiants numériques exploitables par le modèle. Dans le cadre de ce projet, il sera fait usage du `DistilBertTokenizer` pré-entraîné, correspondant au modèle *distilbert-base-uncased*.\n",
    "\n",
    "```python\n",
    "tokenizer = DistilBertTokenizer.from_pretrained(\n",
    "    \"distilbert-base-uncased\", do_lower_case=True\n",
    ")\n",
    "```\n"
   ]
  },
  {
   "cell_type": "code",
   "execution_count": null,
   "id": "kX8pvscMqN_Q",
   "metadata": {
    "id": "kX8pvscMqN_Q"
   },
   "outputs": [],
   "source": [
    "tokenizer = DistilBertTokenizer.from_pretrained(\n",
    "    \"distilbert-base-uncased\", do_lower_case=True\n",
    ")"
   ]
  },
  {
   "cell_type": "markdown",
   "id": "ydsx6SAErFMI",
   "metadata": {
    "id": "ydsx6SAErFMI"
   },
   "source": [
    "L'étape suivante consiste à examiner la manière dont le *tokenizer* traite la séquence.\n",
    "\n",
    "1. Définition d'un message exemple"
   ]
  },
  {
   "cell_type": "code",
   "execution_count": null,
   "id": "BeJ8ydlPsQ1G",
   "metadata": {
    "id": "BeJ8ydlPsQ1G"
   },
   "outputs": [],
   "source": [
    "message = \"hello my name is kevin\""
   ]
  },
  {
   "cell_type": "markdown",
   "id": "o8U3abo0sUje",
   "metadata": {
    "id": "o8U3abo0sUje"
   },
   "source": [
    "2. *Tokenization* de la séquence"
   ]
  },
  {
   "cell_type": "code",
   "execution_count": null,
   "id": "dSHn-X0QsbS2",
   "metadata": {
    "id": "dSHn-X0QsbS2"
   },
   "outputs": [],
   "source": [
    "tok = tokenizer.tokenize(message)\n",
    "print(\"Tokens dans la séquence:\", tok)"
   ]
  },
  {
   "cell_type": "markdown",
   "id": "yFtxfZDTsnLN",
   "metadata": {
    "id": "yFtxfZDTsnLN"
   },
   "source": [
    "3. Encodage en identifiants numériques"
   ]
  },
  {
   "cell_type": "code",
   "execution_count": null,
   "id": "_-tL_02esm30",
   "metadata": {
    "id": "_-tL_02esm30"
   },
   "outputs": [],
   "source": [
    "enc = tokenizer.encode(tok)"
   ]
  },
  {
   "cell_type": "markdown",
   "id": "cnRlPH_3ssEE",
   "metadata": {
    "id": "cnRlPH_3ssEE"
   },
   "source": [
    "4. Mise en correspondance entre token IDs et tokens"
   ]
  },
  {
   "cell_type": "code",
   "execution_count": null,
   "id": "wPSZK1a2sy7G",
   "metadata": {
    "id": "wPSZK1a2sy7G"
   },
   "outputs": [],
   "source": [
    "table = np.array(\n",
    "    [\n",
    "        enc,\n",
    "        [tokenizer.ids_to_tokens[w] for w in enc],\n",
    "    ]\n",
    ").T"
   ]
  },
  {
   "cell_type": "markdown",
   "id": "xElmLOKIs-_Q",
   "metadata": {
    "id": "xElmLOKIs-_Q"
   },
   "source": [
    "5. Affichage des résultats encodés"
   ]
  },
  {
   "cell_type": "code",
   "execution_count": null,
   "id": "g_tKu47EtMov",
   "metadata": {
    "id": "g_tKu47EtMov"
   },
   "outputs": [],
   "source": [
    "print(\"Données d'entrée encodées:\")\n",
    "print(tabulate(table, headers=[\"Token IDs\", \"Tokens\"], tablefmt=\"fancy_grid\"))"
   ]
  },
  {
   "cell_type": "markdown",
   "id": "_mIUfGOztzYp",
   "metadata": {
    "id": "_mIUfGOztzYp"
   },
   "source": [
    "Le tableau obtenu met en évidence la correspondance entre les *tokens* et leurs identifiants numériques.\n",
    "Les *tokens* spéciaux `[CLS]` et `[SEP]` encadrent la séquence, tandis que chaque mot du texte est associé à un identifiant unique destiné au traitement par le modèle.\n",
    "\n",
    "Les special tokens `[CLS]` et `[SEP]` sont ajoutés automatiquement par HuggingFace afin de structurer la séquence d'entrée pour le modèle BERT et ses variantes.\n",
    "\n",
    "Le token `[CLS]`, inséré en début de séquence, constitue une représentation globale de la phrase. Sa sortie est utilisée par la couche de classification pour produire la prédiction finale (par exemple en *sentiment analysis*).\n",
    "\n",
    "Le token `[SEP]`, placé en fin de séquence (ou comme séparateur entre deux phrases), sert à marquer les frontières de segments textuels. Il est essentiel dans les tâches nécessitant plusieurs entrées, comme la comparaison de paires de phrases (*natural language inference*, *paraphrase detection*).\n",
    "\n",
    "Ainsi, ces *tokens* spéciaux garantissent une structuration normalisée des entrées, indispensable au fonctionnement du modèle."
   ]
  },
  {
   "cell_type": "markdown",
   "id": "hzd72e1IXuG6",
   "metadata": {
    "id": "hzd72e1IXuG6"
   },
   "source": [
    "## Prétraitement des données\n",
    "\n",
    "Les opérations de prétraitement appliquées aux données suivent la méthodologie usuelle adoptée pour PyTorch et sont analogues à celles mises en œuvre précédemment.\n",
    "\n",
    "La fonction `preprocessing_fn` définit les opérations de préparation appliquées à chaque exemple du corpus.\n",
    "Le champ `review` est converti en une séquence d'identifiants numériques au moyen du *tokenizer*. L'encodage est effectué sans ajout de *special tokens*, avec troncature à une longueur maximale de 256 et sans application de *padding* ni génération de *attention mask*.\n",
    "Par ailleurs, l'étiquette `sentiment` est transformée en valeur binaire : `0` pour les exemples négatifs et `1` pour les exemples positifs."
   ]
  },
  {
   "cell_type": "code",
   "execution_count": null,
   "id": "r9pji8nHX7l0",
   "metadata": {
    "id": "r9pji8nHX7l0"
   },
   "outputs": [],
   "source": [
    "def preprocessing_fn(x, tokenizer):\n",
    "    \"\"\"\n",
    "    Prétraite un exemple du corpus en encodant le texte et en transformant\n",
    "    l'étiquette.\n",
    "\n",
    "    Paramètres\n",
    "    ----------\n",
    "    x : dict\n",
    "        Exemple du corpus contenant au moins deux clés :\n",
    "        - \"review\" (str) : le texte à encoder,\n",
    "        - \"sentiment\" (str) : étiquette textuelle (\"negative\" ou \"positive\").\n",
    "    tokenizer : transformers.PreTrainedTokenizer\n",
    "        Tokenizer Hugging Face utilisé pour convertir le texte en identifiants numériques.\n",
    "\n",
    "    Retour\n",
    "    ------\n",
    "    dict\n",
    "        Dictionnaire enrichi contenant :\n",
    "        - \"input_ids\" (List[int]) : séquence encodée de tokens numériques,\n",
    "        - \"labels\" (int) : étiquette binaire (0 = négatif, 1 = positif).\n",
    "    \"\"\"\n",
    "    x[\"input_ids\"] = tokenizer.encode(\n",
    "        x[\"review\"],\n",
    "        add_special_tokens=False,\n",
    "        truncation=True,\n",
    "        max_length=256,\n",
    "        padding=False,\n",
    "        return_attention_mask=False,\n",
    "    )\n",
    "    x[\"labels\"] = 0 if x[\"sentiment\"] == \"negative\" else 1\n",
    "    return x"
   ]
  },
  {
   "cell_type": "code",
   "execution_count": null,
   "id": "lm-7hjbtbv9-",
   "metadata": {
    "id": "lm-7hjbtbv9-"
   },
   "outputs": [],
   "source": [
    "n_samples = 2000  # nombre d'exemples d'entraînement\n",
    "\n",
    "# opération de shuffle sur les données\n",
    "dataset = dataset.shuffle()\n",
    "\n",
    "# Selection de 2000 échantillons\n",
    "splitted_dataset = dataset.select(range(n_samples))\n",
    "\n",
    "# Tokenization du dataset\n",
    "splitted_dataset = splitted_dataset.map(\n",
    "    preprocessing_fn, fn_kwargs={\"tokenizer\": tokenizer}\n",
    ")\n",
    "\n",
    "\n",
    "# Suppression des colonnes inutiles\n",
    "splitted_dataset = splitted_dataset.select_columns([\"input_ids\", \"labels\"])\n",
    "\n",
    "# Séparation en données d'entraînement et de validation\n",
    "splitted_dataset = splitted_dataset.train_test_split(test_size=0.2)\n",
    "\n",
    "train_set = splitted_dataset[\"train\"]\n",
    "valid_set = splitted_dataset[\"test\"]"
   ]
  },
  {
   "cell_type": "code",
   "execution_count": null,
   "id": "BlD6Hu4Pc6AR",
   "metadata": {
    "id": "BlD6Hu4Pc6AR"
   },
   "outputs": [],
   "source": [
    "class DataCollator:\n",
    "    \"\"\"\n",
    "    A data collator that pads input batches to a maximum length of 256 tokens.\n",
    "\n",
    "    Args:\n",
    "        tokenizer: The tokenizer to use for padding the input batch.\n",
    "\n",
    "    Returns:\n",
    "        Padded batch with tokenized inputs.\n",
    "    \"\"\"\n",
    "\n",
    "    def __init__(self, tokenizer):\n",
    "        \"\"\"\n",
    "        Initializes the DataCollator with the given tokenizer.\n",
    "\n",
    "        Args:\n",
    "            tokenizer: The tokenizer to use for padding the input batch.\n",
    "        \"\"\"\n",
    "        self.tokenizer = tokenizer\n",
    "\n",
    "    def __call__(self, batch):\n",
    "        \"\"\"\n",
    "        Pads the input batch to a maximum length of 256 tokens using the\n",
    "        provided tokenizer.\n",
    "\n",
    "        Args:\n",
    "            batch: The input batch to be padded.\n",
    "\n",
    "        Returns:\n",
    "            Padded batch with tokenized inputs.\n",
    "        \"\"\"\n",
    "        return self.tokenizer.pad(\n",
    "            batch, padding=\"longest\", max_length=256, return_tensors=\"pt\"\n",
    "        )\n",
    "        return features"
   ]
  },
  {
   "cell_type": "code",
   "execution_count": null,
   "id": "3hgHBwEEdOjr",
   "metadata": {
    "id": "3hgHBwEEdOjr"
   },
   "outputs": [],
   "source": [
    "data_collator = DataCollator(tokenizer)"
   ]
  },
  {
   "cell_type": "code",
   "execution_count": null,
   "id": "om_6jieEdRLh",
   "metadata": {
    "id": "om_6jieEdRLh"
   },
   "outputs": [],
   "source": [
    "batch_size = 4\n",
    "\n",
    "train_dataloader = DataLoader(\n",
    "    train_set, batch_size=batch_size, collate_fn=data_collator\n",
    ")\n",
    "valid_dataloader = DataLoader(\n",
    "    valid_set, batch_size=batch_size, collate_fn=data_collator\n",
    ")\n",
    "n_valid = len(valid_set)\n",
    "n_train = len(train_set)"
   ]
  },
  {
   "cell_type": "markdown",
   "id": "Ln_5eYacwqtG",
   "metadata": {
    "id": "Ln_5eYacwqtG"
   },
   "source": [
    "Pour cette tâche, l'entraînement sera effectué à partir d'un modèle initialisé aléatoirement.\n",
    "\n",
    "Récupération de la configuration de l'architecture\n",
    "\n",
    "Dans la bibliothèque Hugging Face, les paramètres du modèle sont spécifiés par l'intermédiaire d'un fichier de configuration.\n",
    "\n",
    "La configuration du modèle peut être récupérée grâce au code suivant :"
   ]
  },
  {
   "cell_type": "code",
   "execution_count": null,
   "id": "fil8hNEkxoCq",
   "metadata": {
    "id": "fil8hNEkxoCq"
   },
   "outputs": [],
   "source": [
    "from transformers import DistilBertConfig\n",
    "\n",
    "model_config = DistilBertConfig.from_pretrained(\"distilbert-base-uncased\")\n",
    "print(model_config)"
   ]
  }
 ],
 "metadata": {
  "colab": {
   "provenance": []
  },
  "kernelspec": {
   "display_name": "Python 3",
   "name": "python3"
  },
  "language_info": {
   "name": "python"
  }
 },
 "nbformat": 4,
 "nbformat_minor": 5
}
