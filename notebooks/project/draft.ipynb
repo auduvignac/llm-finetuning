{
  "cells": [
    {
      "cell_type": "markdown",
      "id": "bc5947a1",
      "metadata": {
        "id": "bc5947a1"
      },
      "source": [
        "# Text classification using Transformers.\n",
        "\n",
        "<p align=\"center\">\n",
        "  <a href=\"https://colab.research.google.com/github/auduvignac/llm-finetuning/blob/main/notebooks/project/draft.ipynb\" target=\"_blank\">\n",
        "  <img src=\"https://colab.research.google.com/assets/colab-badge.svg\" alt=\"Ouvrir dans Google Colab\"/>\n",
        "  </a>\n",
        "</p>\n",
        "\n",
        "## Introduction\n",
        "\n",
        "L’objectif de ce projet est de réaliser le **fine-tuning d’un Large Language Model (LLM)**, en particulier **DistilBERT**, sur un jeu de données de classification de textes.\n",
        "\n",
        "DistilBERT est une version compressée et optimisée du modèle BERT, développée par Hugging Face.\n",
        "Il conserve environ **97 % des performances de BERT** tout en étant **40 % plus léger** et **60 % plus rapide** à l’entraînement et à l’inférence.\n",
        "Ces caractéristiques en font un modèle particulièrement adapté aux projets pédagogiques et aux cas d’usage nécessitant un compromis entre performance et efficacité computationnelle.\n",
        "\n",
        "Dans ce projet, nous allons :\n",
        "\n",
        "* Télécharger et préparer un jeu de données textuel pour la classification de sentiments.\n",
        "* Adapter le tokenizer et le modèle DistilBERT à ce dataset.\n",
        "* Entraîner et évaluer le modèle en suivant un pipeline de fine-tuning.\n",
        "* Analyser les performances obtenues (accuracy, F1-score, matrice de confusion, etc.) et discuter des résultats.\n",
        "\n",
        "Le projet suit les consignes définies dans le cadre du module *LLM Fine-tuning* : il s’agit d’un travail en binôme, rendu sous la forme d’un **notebook Jupyter** intégrant à la fois le **code, les visualisations et les analyses**.\n",
        "\n",
        "## Contexte\n",
        "\n",
        "La classification de texte, et en particulier la **classification de sentiments**, est une tâche classique du traitement automatique du langage naturel (NLP).\n",
        "Elle consiste à prédire si un texte exprime une opinion **positive** ou **négative**, par exemple dans le cadre de critiques de films, de produits ou de services.\n",
        "\n",
        "Cette tâche est pertinente car :\n",
        "\n",
        "* Elle met en jeu des enjeux réels de l’industrie (analyse d’opinions clients, veille sur les réseaux sociaux, modération de contenu, etc.).\n",
        "* Elle sert souvent de **benchmark** pour comparer des modèles de NLP.\n",
        "* Elle illustre bien le processus de fine-tuning d’un modèle pré-entraîné sur un corpus généraliste vers une tâche spécifique.\n",
        "\n",
        "Le modèle choisi pour ce projet, **DistilBERT**, est une version compressée du modèle BERT :\n",
        "\n",
        "* il réduit le nombre de paramètres et accélère les calculs,\n",
        "* tout en conservant un haut niveau de performance,\n",
        "* ce qui le rend adapté à un entraînement sur machine locale avec des ressources limitées (GPU de petite capacité par exemple).\n",
        "\n",
        "Dans ce projet, nous utiliserons un dataset de type **classification binaire** (par exemple *IMDb Reviews*), permettant de mettre en œuvre un pipeline complet :\n",
        "\n",
        "* **Préparation des données** (tokenisation, séparation train/validation)\n",
        "* **Fine-tuning** du modèle DistilBERT\n",
        "* **Évaluation et analyse des performances**"
      ]
    },
    {
      "cell_type": "markdown",
      "id": "f7060af9",
      "metadata": {
        "id": "f7060af9"
      },
      "source": [
        "## Préparation de l’environnement\n",
        "\n",
        "Dans cette section, l’ensemble des bibliothèques nécessaires au projet est importé. Elles couvrent :\n",
        "\n",
        "* **Gestion et exploration de données** : `datasets`, `numpy`, `random`, `json`, `math`, `tabulate`\n",
        "* **PyTorch** : `torch`, `torch.nn`, `torch.optim`, `DataLoader`, etc.\n",
        "* **Transformers (Hugging Face)** : modèles, tokenizers, configuration, scheduler\n",
        "* **Évaluation des performances** : métriques de `sklearn`\n",
        "* **Visualisation** : `matplotlib`, options Jupyter (`%matplotlib inline`, `InlineBackend`)\n",
        "* **Utilitaires** : `tqdm` pour le suivi des boucles"
      ]
    },
    {
      "cell_type": "code",
      "execution_count": 154,
      "id": "cbe74cbf",
      "metadata": {
        "id": "cbe74cbf"
      },
      "outputs": [],
      "source": [
        "%matplotlib inline\n",
        "%config InlineBackend.figure_formats = ['svg']\n",
        "import json\n",
        "import math\n",
        "import random\n",
        "\n",
        "import matplotlib.pyplot as plt\n",
        "import numpy as np\n",
        "import pandas as pd\n",
        "import torch\n",
        "import torch.nn as nn\n",
        "import torch.nn.functional as F\n",
        "import torch.optim as optim\n",
        "from datasets import (\n",
        "    DatasetDict,\n",
        "    Value,\n",
        "    load_dataset,\n",
        ")\n",
        "from sklearn.metrics import (\n",
        "    accuracy_score,\n",
        "    brier_score_loss,\n",
        "    classification_report,\n",
        "    confusion_matrix,\n",
        "    f1_score,\n",
        "    log_loss,\n",
        "    precision_recall_fscore_support,\n",
        ")\n",
        "from tabulate import tabulate\n",
        "from torch.nn.utils import clip_grad_norm_\n",
        "from torch.utils.data import DataLoader\n",
        "from tqdm import tqdm\n",
        "from tqdm.notebook import tqdm\n",
        "from transformers import (\n",
        "    AutoModelForSequenceClassification,\n",
        "    AutoTokenizer,\n",
        "    DistilBertConfig,\n",
        "    DistilBertForSequenceClassification,\n",
        "    DistilBertTokenizer,\n",
        "    get_linear_schedule_with_warmup,\n",
        ")"
      ]
    },
    {
      "cell_type": "markdown",
      "id": "ae1d063f",
      "metadata": {
        "id": "ae1d063f"
      },
      "source": [
        "## Préparation du dispositif et reproductibilité\n",
        "\n",
        "* La reproductibilité est assurée en fixant une **graine aléatoire** (`seed`) : avec la même graine, le mélange des données, l’initialisation des poids et d’autres opérations stochastiques donnent les mêmes résultats d’un exécutable à l’autre.\n",
        "* Le dispositif de calcul est configuré de manière à utiliser le **GPU** si disponible, ou à défaut le **CPU**.\n",
        "* L’instruction d’affichage permet de confirmer le dispositif effectivement sélectionné."
      ]
    },
    {
      "cell_type": "code",
      "execution_count": 155,
      "id": "15b01fd2",
      "metadata": {
        "colab": {
          "base_uri": "https://localhost:8080/"
        },
        "id": "15b01fd2",
        "outputId": "f8e7571f-134e-4b42-c7f1-b0b24594e3e2"
      },
      "outputs": [
        {
          "output_type": "stream",
          "name": "stdout",
          "text": [
            "Using device: cuda\n"
          ]
        }
      ],
      "source": [
        "# Reproducibility\n",
        "seed = 42\n",
        "random.seed(seed)\n",
        "np.random.seed(seed)\n",
        "torch.manual_seed(seed)\n",
        "torch.cuda.manual_seed_all(seed)\n",
        "\n",
        "# Device setup\n",
        "device = torch.device(\"cuda\" if torch.cuda.is_available() else \"cpu\")\n",
        "print(\"Using device:\", device)"
      ]
    },
    {
      "cell_type": "markdown",
      "id": "14b62e36",
      "metadata": {
        "id": "14b62e36"
      },
      "source": [
        "Après la préparation de l’environnement et la mise en place des conditions de reproductibilité, l’étape suivante consiste à définir une **classe `LLMFineTuner`** qui regroupe et automatise l’ensemble du *workflow* de *fine-tuning*.\n",
        "Cette classe repose sur une composante utilitaire, la **classe `DataCollator`**, qui simplifie la préparation des batchs et contribue à la généralisation du modèle en gérant efficacement la construction des entrées."
      ]
    },
    {
      "cell_type": "markdown",
      "id": "2c8ff607",
      "metadata": {
        "id": "2c8ff607"
      },
      "source": [
        "## Définition des classes `LLMFineTuner` et `DataCollator`\n",
        "\n"
      ]
    },
    {
      "cell_type": "markdown",
      "id": "UcfKY8PoKBHN",
      "metadata": {
        "id": "UcfKY8PoKBHN"
      },
      "source": [
        "### Classe `DataCollator`\n",
        "\n",
        "La classe `DataCollator` est une composante utilitaire qui s'occupe de la préparation des batchs de données.\n",
        "Elle a pour rôle de :\n",
        "\n",
        "- gérer la **tokenisation et le padding dynamique** des séquences,\n",
        "- regrouper les exemples sous forme de batchs compatibles avec PyTorch,\n",
        "- fournir un format uniforme des entrées pour l'entraînement et l'évaluation du modèle.\n",
        "\n",
        "Cette classe permet d'isoler la logique de prétraitement des données afin d'alléger l'implémentation du pipeline principal."
      ]
    },
    {
      "cell_type": "code",
      "execution_count": 156,
      "id": "a8796aeb",
      "metadata": {
        "id": "a8796aeb"
      },
      "outputs": [],
      "source": [
        "class DataCollator:\n",
        "    \"\"\"\n",
        "    Regroupe et organise les exemples en batchs pour le fine-tuning.\n",
        "\n",
        "    Cette classe :\n",
        "    - applique un padding dynamique des séquences en fonction du batch,\n",
        "    - prépare les tenseurs nécessaires (input_ids, attention_mask, labels),\n",
        "    - retourne un dictionnaire prêt à être passé au modèle Hugging Face.\n",
        "    \"\"\"\n",
        "\n",
        "    def __init__(self, tokenizer):\n",
        "        self.tokenizer = tokenizer\n",
        "\n",
        "    def __call__(\n",
        "        self, batch, max_length=256, padding=\"longest\", return_tensors=\"pt\"\n",
        "    ) -> dict[str, torch.Tensor]:\n",
        "        \"\"\"\n",
        "        Prépare un batch de données pour le modèle.\n",
        "\n",
        "        Applique un padding dynamique via `tokenizer.pad` et retourne\n",
        "        les tenseurs nécessaires : input_ids, attention_mask et labels.\n",
        "        \"\"\"\n",
        "        return self.tokenizer.pad(\n",
        "            batch,\n",
        "            padding=padding,\n",
        "            max_length=max_length,\n",
        "            return_tensors=return_tensors,\n",
        "        )"
      ]
    },
    {
      "cell_type": "markdown",
      "id": "408a16d4",
      "metadata": {
        "id": "408a16d4"
      },
      "source": [
        "### Classe `LLMFineTuner`\n",
        "\n",
        "La classe `LLMFineTuner` implémente l’ensemble du **pipeline de fine-tuning** pour un modèle DistilBERT appliqué à la classification de textes.\n",
        "Elle centralise toutes les étapes :\n",
        "\n",
        "* chargement et préparation du dataset,\n",
        "* initialisation du tokenizer, du modèle et du data collator,\n",
        "* configuration de l’optimiseur et du scheduler,\n",
        "* entraînement, validation et évaluation du modèle,\n",
        "* inférence sur de nouveaux exemples.\n",
        "\n",
        "Grâce à cette classe, le workflow est rendu **plus modulaire, lisible et réutilisable**, facilitant les expérimentations et la reproductibilité.\n",
        "\n",
        "## Méthodes de la classe `LLMFineTuner`\n",
        "\n",
        "| Étape                        | Méthode(s)                                                          | Rôle                                                                            |\n",
        "| ---------------------------- | ------------------------------------------------------------------- | ----------------------------------------------------------------------------------------- |\n",
        "| **1. Initialisation**        | `__init__`                                                          | Initialise les attributs de la classe (dataset, modèle, tokenizer, device, etc.).         |\n",
        "| **2. Dataset & Tokenizer**   | `set_dataset`<br>`set_tokenizer`                                    | Chargement du dataset et préparation du tokenizer.                                        |\n",
        "| **3. Pré-processing**        | `split_dataset`<br>`set_data_collator`<br>`set_loaders`             | Prétraitement des données : sous-échantillonnage, tokenisation, création des DataLoaders. |\n",
        "| **4. Modèle**                | `set_model`                                                         | Chargement du modèle pré-entraîné (DistilBERT).                                           |\n",
        "| **5. Optimisation**          | `set_optimizer`<br>`set_scheduler`<br>`set_optimizer_and_scheduler` | Configuration de l’optimiseur et du scheduler d’apprentissage.                            |\n",
        "| **6. Entraînement et Evaluation** | `train_and_validate`<br>`evaluate`<br>`count_parameters`            | Entraînement, validation, évaluation et inspection du modèle.                             |\n",
        "| **7. Inférence**             | `predict_sentiment`<br>`predict_batch`                              | Prédiction sur un texte unique ou sur un lot de textes.                                   |\n",
        "| **8. Orchestration**         | `workflow`                                                          | Pipeline complet en mode entraînement, évaluation ou inférence.                           |"
      ]
    },
    {
      "cell_type": "code",
      "execution_count": 157,
      "id": "84ab9e42",
      "metadata": {
        "id": "84ab9e42"
      },
      "outputs": [],
      "source": [
        "class LLMFineTuner:\n",
        "    \"\"\"\n",
        "    Fine-tuning pipeline for DistilBERT sentiment classification.\n",
        "\n",
        "    Pipeline steps:\n",
        "    1. Initialisation\n",
        "        - __init__\n",
        "\n",
        "    2. Dataset & Tokenizer\n",
        "        - set_dataset\n",
        "        - set_tokenizer\n",
        "\n",
        "    3. Pre-processing\n",
        "        - split_dataset (needs set_dataset)\n",
        "        - set_data_collator\n",
        "        - set_loaders (needs split_dataset, set_data_collator)\n",
        "\n",
        "    4. Model\n",
        "        - set_model\n",
        "\n",
        "    5. Optimization\n",
        "        - set_optimizer\n",
        "        - set_scheduler (needs set_optimizer, set_loaders)\n",
        "        - set_optimizer_and_scheduler\n",
        "\n",
        "    6. Training & Evaluation\n",
        "        - train_and_validate\n",
        "        - evaluate\n",
        "        - count_parameters\n",
        "\n",
        "    7. Inference\n",
        "        - predict_sentiment\n",
        "        - predict_batch\n",
        "\n",
        "    8. Workflow Orchestrator\n",
        "        - workflow\n",
        "    \"\"\"\n",
        "\n",
        "    # =========================\n",
        "    # 1. INITIALISATION\n",
        "    # =========================\n",
        "\n",
        "    def __init__(\n",
        "        self,\n",
        "        dataset=\"scikit-learn/imdb\",\n",
        "        model_cls=DistilBertForSequenceClassification,\n",
        "        num_labels=2,  # \"negative\" (0) and \"positive\" (1)\n",
        "        pretrained_model_name_or_path=\"distilbert-base-uncased\",\n",
        "        tokenizer_cls=DistilBertTokenizer,\n",
        "    ):\n",
        "        # Données\n",
        "        self.dataset = dataset\n",
        "        self.train_set = None\n",
        "        self.valid_set = None\n",
        "\n",
        "        # DataLoader\n",
        "        self.data_collator = None\n",
        "        self.train_loader = None\n",
        "        self.valid_loader = None\n",
        "\n",
        "        # Modèle et tokenisation\n",
        "        self.tokenizer_cls = tokenizer_cls\n",
        "        self.model_cls = model_cls\n",
        "        self.num_labels = num_labels\n",
        "        self.pretrained_model_name_or_path = pretrained_model_name_or_path\n",
        "\n",
        "        # Environnement\n",
        "        self.device = torch.device(\n",
        "            \"cuda\" if torch.cuda.is_available() else \"cpu\"\n",
        "        )\n",
        "\n",
        "    # =========================\n",
        "    # 2. DATASET & TOKENIZER\n",
        "    # =========================\n",
        "    def set_dataset(self, verbose=False) -> None:\n",
        "        self.dataset = load_dataset(self.dataset)\n",
        "\n",
        "        # Récupération des colonnes\n",
        "        cols = self.dataset[\"train\"].column_names\n",
        "\n",
        "        # Uniformiser les colonnes\n",
        "        if \"review\" not in cols:\n",
        "            self.dataset = self.dataset.rename_column(cols[0], \"review\")\n",
        "        if \"sentiment\" not in cols:\n",
        "            self.dataset = self.dataset.rename_column(cols[1], \"sentiment\")\n",
        "\n",
        "        # Normaliser les labels en entiers 0/1\n",
        "        example_val = self.dataset[\"train\"][0][\"sentiment\"]\n",
        "\n",
        "        if isinstance(example_val, str):  # IMDB\n",
        "\n",
        "            def map_labels(example):\n",
        "                example[\"sentiment\"] = (\n",
        "                    0 if example[\"sentiment\"].lower() == \"negative\" else 1\n",
        "                )\n",
        "                return example\n",
        "\n",
        "            # on caste en int après mapping\n",
        "            self.dataset = self.dataset.map(map_labels).cast_column(\n",
        "                \"sentiment\", Value(\"int64\")\n",
        "            )\n",
        "\n",
        "        elif isinstance(example_val, int):  # RottenTomatoes ou autre déjà 0/1\n",
        "            # on s’assure juste que c’est bien un entier\n",
        "            self.dataset = self.dataset.cast_column(\n",
        "                \"sentiment\", Value(\"int64\")\n",
        "            )\n",
        "\n",
        "        if verbose:\n",
        "            print(\n",
        "                f\"Dataset loaded and normalized :\\n\"\n",
        "                f\"{self.dataset}\\n\"\n",
        "                f\"with {len(self.dataset['train'])} training examples.\"\n",
        "            )\n",
        "\n",
        "    def set_tokenizer(\n",
        "        self,\n",
        "        do_lower_case=True,\n",
        "        verbose=False,\n",
        "    ) -> None:\n",
        "        self.tokenizer = self.tokenizer_cls.from_pretrained(\n",
        "            self.pretrained_model_name_or_path, do_lower_case=do_lower_case\n",
        "        )\n",
        "        if verbose:\n",
        "            print(\n",
        "                f\"Tokenizer {self.tokenizer_cls.__name__} loaded from \"\n",
        "                f\"{self.pretrained_model_name_or_path}\"\n",
        "            )\n",
        "\n",
        "    # =========================\n",
        "    # 3. PRE-PROCESSING\n",
        "    # =========================\n",
        "    def split_dataset(\n",
        "        self, max_length=256, n_samples=2000, seed=42, test_size=0.2\n",
        "    ) -> None:\n",
        "        \"\"\"\n",
        "        Prepares the dataset for training:\n",
        "\n",
        "        - Shuffles and selects a subset\n",
        "        - Tokenizes the reviews and generates input_ids and labels\n",
        "        - Removes unnecessary columns\n",
        "        - Splits into train/validation sets\n",
        "\n",
        "        Args:\n",
        "            n_samples (int): number of examples to select\n",
        "            test_size (float): proportion of the data to use for validation\n",
        "            max_length (int): maximum sequence length (truncate if longer)\n",
        "        \"\"\"\n",
        "\n",
        "        def preprocessing_fn(x, tokenizer, max_length=256):\n",
        "            text = x[\"review\"]\n",
        "            label = x[\"sentiment\"]\n",
        "\n",
        "            # Tokenisation\n",
        "            x[\"input_ids\"] = tokenizer.encode(\n",
        "                text,\n",
        "                add_special_tokens=True,\n",
        "                truncation=True,\n",
        "                max_length=max_length,\n",
        "                padding=False,\n",
        "                return_attention_mask=False,\n",
        "            )\n",
        "            x[\"labels\"] = label\n",
        "            return x\n",
        "\n",
        "        # Mélanger et sous-échantillonner\n",
        "        dataset = self.dataset[\"train\"].shuffle(seed).select(range(n_samples))\n",
        "\n",
        "        # Appliquer le prétraitement\n",
        "        dataset = dataset.map(\n",
        "            preprocessing_fn, fn_kwargs={\"tokenizer\": self.tokenizer}\n",
        "        )\n",
        "\n",
        "        # Garder uniquement les colonnes utiles\n",
        "        dataset = dataset.select_columns([\"input_ids\", \"labels\"])\n",
        "\n",
        "        # Split train / validation\n",
        "        splitted = dataset.train_test_split(test_size=test_size)\n",
        "\n",
        "        self.train_set = splitted[\"train\"]\n",
        "        self.valid_set = splitted[\"test\"]\n",
        "\n",
        "    def set_data_collator(self) -> None:\n",
        "        self.data_collator = DataCollator(self.tokenizer)\n",
        "\n",
        "    def set_loaders(self, train_batch_size=4, eval_batch_size=4) -> None:\n",
        "        if not self.data_collator:\n",
        "            raise ValueError(\"Data collator must be set before data loaders.\")\n",
        "        if not self.train_set or not self.valid_set:\n",
        "            raise ValueError(\"Dataset must be split before data loaders.\")\n",
        "        self.train_loader = DataLoader(\n",
        "            batch_size=train_batch_size,\n",
        "            collate_fn=self.data_collator,\n",
        "            dataset=self.train_set,\n",
        "            shuffle=True,\n",
        "        )\n",
        "        self.valid_loader = DataLoader(\n",
        "            batch_size=eval_batch_size,\n",
        "            collate_fn=self.data_collator,\n",
        "            dataset=self.valid_set,\n",
        "            shuffle=False,\n",
        "        )\n",
        "        self.n_valid = len(self.valid_set)\n",
        "        self.n_train = len(self.train_set)\n",
        "\n",
        "    def make_loader_for_tokenizer(\n",
        "        self, split, max_len=256, batch_size=8, shuffle=False\n",
        "    ):\n",
        "        \"\"\"\n",
        "        Create a DataLoader for a given dataset split and the instance\n",
        "        tokenizer.\n",
        "\n",
        "        Args:\n",
        "            split (Dataset): Hugging Face dataset split\n",
        "            max_len (int): maximum sequence length for truncation\n",
        "            batch_size (int): batch size\n",
        "            shuffle (bool): shuffle data before batching\n",
        "\n",
        "        Returns:\n",
        "            DataLoader: PyTorch DataLoader with dynamic padding\n",
        "        \"\"\"\n",
        "\n",
        "        def encode(batch):\n",
        "            out = self.tokenizer(\n",
        "                batch[\"text\"],\n",
        "                truncation=True,\n",
        "                max_length=max_len,\n",
        "                padding=False,\n",
        "            )\n",
        "            out[\"labels\"] = batch[\"label\"]\n",
        "            return out\n",
        "\n",
        "        # Tokenize the dataset\n",
        "        ds_tok = split.map(\n",
        "            encode, batched=True, remove_columns=split.column_names\n",
        "        )\n",
        "\n",
        "        # Dynamic padding in collate\n",
        "        def collate_fn(batch):\n",
        "            return self.tokenizer.pad(\n",
        "                batch,\n",
        "                padding=\"longest\",\n",
        "                max_length=max_len,\n",
        "                return_tensors=\"pt\",\n",
        "            )\n",
        "\n",
        "        return DataLoader(\n",
        "            ds_tok,\n",
        "            batch_size=batch_size,\n",
        "            shuffle=shuffle,\n",
        "            collate_fn=collate_fn,\n",
        "        )\n",
        "\n",
        "    # =========================\n",
        "    # 4. MODELE\n",
        "    # =========================\n",
        "    def set_model(\n",
        "        self,\n",
        "        verbose=False,\n",
        "    ) -> None:\n",
        "        model = self.model_cls.from_pretrained(\n",
        "            pretrained_model_name_or_path=self.pretrained_model_name_or_path,\n",
        "            num_labels=self.num_labels,\n",
        "        )\n",
        "        self.model = model.to(self.device)\n",
        "        if verbose:\n",
        "            print(\n",
        "                f\"Model {self.model_cls.__name__} loaded with \"\n",
        "                f\"{self.model.num_labels} labels.\"\n",
        "            )\n",
        "\n",
        "    # =========================\n",
        "    # 5. OPTIMIZATION\n",
        "    # =========================\n",
        "    def set_optimizer(\n",
        "        self,\n",
        "        learning_rate=5e-5,\n",
        "        weight_decay=0.01,\n",
        "    ) -> None:\n",
        "        # AdamW is a variant of Adam that includes weight decay\n",
        "        self.optimizer = optim.AdamW(\n",
        "            self.model.parameters(),\n",
        "            lr=learning_rate,\n",
        "            weight_decay=weight_decay,\n",
        "        )\n",
        "\n",
        "    def set_scheduler(\n",
        "        self,\n",
        "        num_epochs=3,\n",
        "    ) -> None:\n",
        "        if not self.optimizer:\n",
        "            raise ValueError(\"Optimizer must be set before the scheduler.\")\n",
        "        if not self.train_loader:\n",
        "            raise ValueError(\"Data loaders must be set before scheduler.\")\n",
        "        # Total training steps = number of batches * number of epochs\n",
        "        self.num_total_steps = len(self.train_loader) * num_epochs\n",
        "        self.num_warmup_steps = int(0.1 * self.num_total_steps)\n",
        "        self.scheduler = get_linear_schedule_with_warmup(\n",
        "            self.optimizer,\n",
        "            num_warmup_steps=self.num_warmup_steps,\n",
        "            num_training_steps=self.num_total_steps,\n",
        "        )\n",
        "\n",
        "    def set_optimizer_and_scheduler(\n",
        "        self,\n",
        "        learning_rate=5e-5,\n",
        "        num_epochs=3,\n",
        "        weight_decay=0.01,\n",
        "        verbose=False,\n",
        "    ) -> None:\n",
        "        self.set_optimizer(learning_rate, weight_decay)\n",
        "        self.set_scheduler(num_epochs)\n",
        "        if verbose:\n",
        "            print(\n",
        "                f\"Optimizer and scheduler set with {self.num_total_steps} \"\n",
        "                f\"training steps and {self.num_warmup_steps} warmup steps.\"\n",
        "            )\n",
        "\n",
        "    # =========================\n",
        "    # 6. TRAINING & EVALUATION\n",
        "    # =========================\n",
        "    def train_and_validate(\n",
        "        self, epochs=3, max_grad_norm=1.0, save_dir=\"./distilbert-best\"\n",
        "    ) -> None:\n",
        "        \"\"\"\n",
        "        Trains and validates the model for a given number of epochs.\n",
        "\n",
        "        - Performs forward/backward passes with gradient clipping\n",
        "        - Updates optimizer and scheduler\n",
        "        - Evaluates on validation set at the end of each epoch\n",
        "        - Saves the best model checkpoint based on validation loss\n",
        "\n",
        "        Args:\n",
        "            epochs (int): number of epochs to train\n",
        "            max_grad_norm (float): gradient clipping norm\n",
        "            save_dir (str): directory to save the best model\n",
        "        \"\"\"\n",
        "        best_val_loss = float(\"inf\")\n",
        "        self.history = {\"train_loss\": [], \"val_loss\": [], \"val_acc\": []}\n",
        "        for epoch in range(1, epochs + 1):\n",
        "            print(f\"\\nEpoch {epoch}/{epochs}\")\n",
        "\n",
        "            # -------- TRAIN --------\n",
        "            total_train_loss = 0.0\n",
        "            self.model.train()\n",
        "            for batch in self.train_loader:\n",
        "                # move batch tensors to device\n",
        "                batch = {k: v.to(self.device) for k, v in batch.items()}\n",
        "\n",
        "                self.optimizer.zero_grad(set_to_none=True)\n",
        "\n",
        "                # forward pass (returns loss when 'labels' is provided)\n",
        "                outputs = self.model(**batch)\n",
        "                loss = outputs.loss\n",
        "                total_train_loss += loss.item()\n",
        "\n",
        "                # backward pass\n",
        "                loss.backward()\n",
        "\n",
        "                # gradient clipping\n",
        "                clip_grad_norm_(\n",
        "                    self.model.parameters(), max_norm=max_grad_norm\n",
        "                )\n",
        "\n",
        "                # optimizer + scheduler step\n",
        "                self.optimizer.step()\n",
        "                self.scheduler.step()\n",
        "\n",
        "            avg_train_loss = total_train_loss / len(self.train_loader)\n",
        "            self.history[\"train_loss\"].append(avg_train_loss)\n",
        "            print(f\"  Training loss: {avg_train_loss:.4f}\")\n",
        "\n",
        "            # -------- VALIDATE --------\n",
        "            self.model.eval()\n",
        "            total_val_loss = 0.0\n",
        "            correct = 0\n",
        "            total = 0\n",
        "\n",
        "            with torch.no_grad():\n",
        "                for batch in self.valid_loader:\n",
        "                    batch = {k: v.to(self.device) for k, v in batch.items()}\n",
        "\n",
        "                    outputs = self.model(**batch)\n",
        "                    loss = outputs.loss\n",
        "                    logits = outputs.logits\n",
        "\n",
        "                    total_val_loss += loss.item()\n",
        "\n",
        "                    preds = logits.argmax(dim=-1)\n",
        "                    correct += (preds == batch[\"labels\"]).sum().item()\n",
        "                    total += batch[\"labels\"].size(0)\n",
        "\n",
        "            avg_val_loss = total_val_loss / len(self.valid_loader)\n",
        "            val_acc = correct / total if total > 0 else 0.0\n",
        "            self.history[\"val_loss\"].append(avg_val_loss)\n",
        "            self.history[\"val_acc\"].append(val_acc)\n",
        "            print(\n",
        "                f\"  Validation loss: {avg_val_loss:.4f} | Accuracy: {val_acc:.4f}\"\n",
        "            )\n",
        "\n",
        "            # save best checkpoint\n",
        "            if avg_val_loss < best_val_loss:\n",
        "                best_val_loss = avg_val_loss\n",
        "                self.model.save_pretrained(save_dir)\n",
        "                self.tokenizer.save_pretrained(save_dir)\n",
        "                print(f\"Saved new best model to {save_dir}\")\n",
        "\n",
        "    def evaluate(self) -> dict[str, object]:\n",
        "        if not self.valid_loader:\n",
        "            raise ValueError(\"Data loaders must be set before evaluation.\")\n",
        "        if not self.model:\n",
        "            raise ValueError(\"Model must be set before evaluation.\")\n",
        "        self.model.eval()\n",
        "        all_preds = []\n",
        "        all_labels = []\n",
        "        with torch.no_grad():\n",
        "            for batch in self.valid_loader:\n",
        "                batch = {k: v.to(self.device) for k, v in batch.items()}\n",
        "                outputs = self.model(**batch)\n",
        "                logits = outputs.logits\n",
        "                preds = logits.argmax(dim=-1).cpu().numpy()\n",
        "                labels = batch[\"labels\"].cpu().numpy()\n",
        "                all_preds.extend(preds)\n",
        "                all_labels.extend(labels)\n",
        "        accuracy = accuracy_score(all_labels, all_preds)\n",
        "        cm = confusion_matrix(all_labels, all_preds)\n",
        "        f1 = f1_score(all_labels, all_preds)\n",
        "        report = classification_report(\n",
        "            all_labels, all_preds, target_names=[\"negative\", \"positive\"]\n",
        "        )\n",
        "        return {\n",
        "            \"accuracy\": accuracy,\n",
        "            \"classification_report\": report,\n",
        "            \"confusion_matrix\": cm.tolist(),\n",
        "            \"f1_score\": f1,\n",
        "        }\n",
        "\n",
        "    def count_parameters(self) -> tuple[int, int]:\n",
        "        total = sum(p.numel() for p in self.model.parameters())\n",
        "        trainable = sum(\n",
        "            p.numel() for p in self.model.parameters() if p.requires_grad\n",
        "        )\n",
        "        return total, trainable\n",
        "\n",
        "    def plot_history(self) -> None:\n",
        "        \"\"\"\n",
        "        Affiche les courbes d'apprentissage (loss et accuracy) enregistrées\n",
        "        pendant l'entraînement.\n",
        "        \"\"\"\n",
        "        if not hasattr(self, \"history\") or not self.history:\n",
        "            raise ValueError(\n",
        "                \"Aucun historique trouvé. Lancez train_and_validate() d'abord.\"\n",
        "            )\n",
        "\n",
        "        epochs = range(1, len(self.history[\"train_loss\"]) + 1)\n",
        "\n",
        "        plt.figure(figsize=(12, 4))\n",
        "\n",
        "        # Courbe de loss\n",
        "        plt.subplot(1, 2, 1)\n",
        "        plt.plot(\n",
        "            epochs, self.history[\"train_loss\"], label=\"Train Loss\", marker=\"o\"\n",
        "        )\n",
        "        plt.plot(\n",
        "            epochs,\n",
        "            self.history[\"val_loss\"],\n",
        "            label=\"Validation Loss\",\n",
        "            marker=\"o\",\n",
        "        )\n",
        "        plt.xlabel(\"Epochs\")\n",
        "        plt.ylabel(\"Loss\")\n",
        "        plt.title(\"Training vs Validation Loss\")\n",
        "        plt.legend()\n",
        "        plt.grid(True)\n",
        "\n",
        "        # Courbe d'accuracy\n",
        "        plt.subplot(1, 2, 2)\n",
        "        plt.plot(\n",
        "            epochs,\n",
        "            self.history[\"val_acc\"],\n",
        "            label=\"Validation Accuracy\",\n",
        "            marker=\"o\",\n",
        "            color=\"green\",\n",
        "        )\n",
        "        plt.xlabel(\"Epochs\")\n",
        "        plt.ylabel(\"Accuracy\")\n",
        "        plt.title(\"Validation Accuracy over Epochs\")\n",
        "        plt.legend()\n",
        "        plt.grid(True)\n",
        "\n",
        "        plt.show()\n",
        "\n",
        "    # =========================\n",
        "    # 7. INFERENCE\n",
        "    # =========================\n",
        "    def predict_sentiment(self, text) -> dict[str, object]:\n",
        "        # Tokenize the input\n",
        "        inputs = self.tokenizer(\n",
        "            text,\n",
        "            add_special_tokens=True,\n",
        "            truncation=True,\n",
        "            max_length=256,\n",
        "            padding=\"max_length\",  # pad single example\n",
        "            return_tensors=\"pt\",\n",
        "        )\n",
        "        inputs = {k: v.to(self.device) for k, v in inputs.items()}\n",
        "\n",
        "        # Forward pass\n",
        "        with torch.no_grad():\n",
        "            outputs = self.model(**inputs)\n",
        "            logits = outputs.logits\n",
        "            probs = torch.softmax(logits, dim=-1).cpu().numpy()[0]\n",
        "\n",
        "        # Get predicted label\n",
        "        pred_label = int(logits.argmax(dim=-1).cpu().item())\n",
        "        label_str = \"positive\" if pred_label == 1 else \"negative\"\n",
        "\n",
        "        return {\n",
        "            \"text\": text,\n",
        "            \"pred_label\": label_str,\n",
        "            \"probabilities\": {\n",
        "                \"negative\": float(probs[0]),\n",
        "                \"positive\": float(probs[1]),\n",
        "            },\n",
        "        }\n",
        "\n",
        "    def predict_batch(self, texts, max_length=256) -> list[dict[str, object]]:\n",
        "        \"\"\"\n",
        "        Predict sentiment for a batch of texts (list of strings).\n",
        "\n",
        "        Returns a list of dicts with labels and probabilities.\n",
        "        \"\"\"\n",
        "        # Tokenize the whole batch at once\n",
        "        inputs = self.tokenizer(\n",
        "            texts,\n",
        "            add_special_tokens=True,\n",
        "            truncation=True,\n",
        "            max_length=max_length,\n",
        "            padding=True,  # pad to longest in batch\n",
        "            return_tensors=\"pt\",\n",
        "        )\n",
        "        inputs = {k: v.to(self.device) for k, v in inputs.items()}\n",
        "\n",
        "        # Forward pass\n",
        "        with torch.no_grad():\n",
        "            outputs = self.model(**inputs)\n",
        "            logits = outputs.logits\n",
        "            probs = torch.softmax(logits, dim=-1).cpu().numpy()\n",
        "\n",
        "        # Decode predictions\n",
        "        results = []\n",
        "        for text, prob in zip(texts, probs):\n",
        "            pred_label = int(prob.argmax())\n",
        "            label_str = \"positive\" if pred_label == 1 else \"negative\"\n",
        "            results.append(\n",
        "                {\n",
        "                    \"text\": text,\n",
        "                    \"pred_label\": label_str,\n",
        "                    \"probabilities\": {\n",
        "                        \"negative\": float(prob[0]),\n",
        "                        \"positive\": float(prob[1]),\n",
        "                    },\n",
        "                }\n",
        "            )\n",
        "        return results\n",
        "\n",
        "    # =========================\n",
        "    # 8. WORKFLOW ORCHESTRATOR\n",
        "    # =========================\n",
        "    def workflow(\n",
        "        self,\n",
        "        mode=\"train\",\n",
        "        # kwargs pour chaque étape\n",
        "        set_dataset_kwargs: dict = None,\n",
        "        set_tokenizer_kwargs: dict = None,\n",
        "        split_dataset_kwargs: dict = None,\n",
        "        set_data_collator_kwargs: dict = None,\n",
        "        set_loaders_kwargs: dict = None,\n",
        "        set_model_kwargs: dict = None,\n",
        "        set_optimizer_kwargs: dict = None,\n",
        "        set_scheduler_kwargs: dict = None,\n",
        "        set_optimizer_and_scheduler_kwargs: dict = None,\n",
        "        train_and_validate_kwargs: dict = None,\n",
        "        evaluate_kwargs: dict = None,\n",
        "        predict_sentiment_kwargs: dict = None,\n",
        "        predict_batch_kwargs: dict = None,\n",
        "    ) -> None:\n",
        "        \"\"\"\n",
        "        Run the full workflow depending on mode.\n",
        "\n",
        "        Each step can receive its own kwargs dict, e.g.: workflow(mode=\"train\",\n",
        "        split_dataset_kwargs={\"max_length\":512, \"n_samples\":5000})\n",
        "        \"\"\"\n",
        "\n",
        "        # Initialisation des kwargs vides\n",
        "        set_dataset_kwargs = set_dataset_kwargs or {}\n",
        "        set_tokenizer_kwargs = set_tokenizer_kwargs or {}\n",
        "        split_dataset_kwargs = split_dataset_kwargs or {}\n",
        "        set_data_collator_kwargs = set_data_collator_kwargs or {}\n",
        "        set_loaders_kwargs = set_loaders_kwargs or {}\n",
        "        set_model_kwargs = set_model_kwargs or {}\n",
        "        set_optimizer_kwargs = set_optimizer_kwargs or {}\n",
        "        set_scheduler_kwargs = set_scheduler_kwargs or {}\n",
        "        set_optimizer_and_scheduler_kwargs = (\n",
        "            set_optimizer_and_scheduler_kwargs or {}\n",
        "        )\n",
        "        train_and_validate_kwargs = train_and_validate_kwargs or {}\n",
        "        evaluate_kwargs = evaluate_kwargs or {}\n",
        "        predict_sentiment_kwargs = predict_sentiment_kwargs or {}\n",
        "        predict_batch_kwargs = predict_batch_kwargs or {}\n",
        "\n",
        "        if mode == \"train\":\n",
        "            print(\"Starting training workflow...\")\n",
        "\n",
        "            # 1. Dataset\n",
        "            self.set_dataset(**set_dataset_kwargs)\n",
        "\n",
        "            # 2. Tokenizer\n",
        "            self.set_tokenizer(**set_tokenizer_kwargs)\n",
        "\n",
        "            # 3. Préprocessing\n",
        "            self.split_dataset(**split_dataset_kwargs)\n",
        "            self.set_data_collator(**set_data_collator_kwargs)\n",
        "            self.set_loaders(**set_loaders_kwargs)\n",
        "\n",
        "            # 4. Modèle, optim & scheduler\n",
        "            self.set_model(**set_model_kwargs)\n",
        "            self.set_optimizer_and_scheduler(\n",
        "                **set_optimizer_and_scheduler_kwargs\n",
        "            )\n",
        "\n",
        "            # 5. Entraînement\n",
        "            self.train_and_validate(**train_and_validate_kwargs)\n",
        "\n",
        "        elif mode == \"evaluation\":\n",
        "            print(\"Starting evaluation workflow...\")\n",
        "            self.set_dataset(**set_dataset_kwargs)\n",
        "            self.set_tokenizer(**set_tokenizer_kwargs)\n",
        "            self.split_dataset(**split_dataset_kwargs)\n",
        "            self.set_data_collator(**set_data_collator_kwargs)\n",
        "            self.set_loaders(**set_loaders_kwargs)\n",
        "            self.set_model(**set_model_kwargs)\n",
        "            self.model.eval()\n",
        "            return self.evaluate(**evaluate_kwargs)\n",
        "\n",
        "        elif mode == \"inference\":\n",
        "            print(\"Starting inference workflow...\")\n",
        "            self.set_tokenizer(**set_tokenizer_kwargs)\n",
        "            self.set_model(**set_model_kwargs)\n",
        "            self.model.eval()\n",
        "\n",
        "        else:\n",
        "            raise ValueError(\n",
        "                \"mode must be 'train', 'evaluation' or 'inference'\"\n",
        "            )\n",
        "\n",
        "    # =========================\n",
        "    # 9. THRESHOLD-BASED EVALUATION\n",
        "    # =========================\n",
        "\n",
        "    def collect_probs_labels(self, dataloader=None):\n",
        "        \"\"\"\n",
        "        Collect predicted probabilities (for positive class) and labels from\n",
        "        the model on a given dataloader.\n",
        "        \"\"\"\n",
        "        dataloader = dataloader or self.valid_loader\n",
        "        self.model.eval()\n",
        "        probs, labels = [], []\n",
        "        with torch.no_grad():\n",
        "            for b in dataloader:\n",
        "                b = {k: v.to(self.device) for k, v in b.items()}\n",
        "                logits = self.model(**b).logits\n",
        "                p = logits.softmax(-1)[:, 1].cpu().numpy()\n",
        "                probs.extend(p)\n",
        "                labels.extend(b[\"labels\"].cpu().numpy())\n",
        "        return np.array(probs), np.array(labels)\n",
        "\n",
        "    @staticmethod\n",
        "    def tune_threshold_macro_f1(probs, labels, grid=np.linspace(0.1, 0.9, 81)):\n",
        "        \"\"\"\n",
        "        Search for the threshold that maximizes macro-F1.\n",
        "        \"\"\"\n",
        "        best = max(\n",
        "            (\n",
        "                (\n",
        "                    t,\n",
        "                    f1_score(\n",
        "                        labels, (probs >= t).astype(int), average=\"macro\"\n",
        "                    ),\n",
        "                )\n",
        "                for t in grid\n",
        "            ),\n",
        "            key=lambda x: x[1],\n",
        "        )\n",
        "        return best  # (best_threshold, best_macro_f1)\n",
        "\n",
        "    @staticmethod\n",
        "    def eval_at_threshold(probs, labels, t):\n",
        "        \"\"\"\n",
        "        Compute metrics at a given threshold.\n",
        "        \"\"\"\n",
        "        preds = (probs >= t).astype(int)\n",
        "        acc = accuracy_score(labels, preds)\n",
        "        macro_f1 = f1_score(labels, preds, average=\"macro\")\n",
        "        per_cls = precision_recall_fscore_support(\n",
        "            labels, preds, average=None, labels=[0, 1]\n",
        "        )\n",
        "        cm = confusion_matrix(labels, preds, labels=[0, 1])\n",
        "        return acc, macro_f1, cm, per_cls"
      ]
    },
    {
      "cell_type": "markdown",
      "id": "6e93abc1",
      "metadata": {
        "id": "6e93abc1"
      },
      "source": [
        "## Initialisation du *fine-tuner*\n",
        "\n",
        "À ce stade, la classe `LLMFineTuner` peut être instanciée.\n",
        "L’objet créé, ici nommé `LLMFineTuner_demo`, servira de support pour l’ensemble du pipeline de fine-tuning (chargement des données, entraînement, évaluation et inférence)."
      ]
    },
    {
      "cell_type": "code",
      "execution_count": 158,
      "id": "273ea86a",
      "metadata": {
        "id": "273ea86a"
      },
      "outputs": [],
      "source": [
        "LLM_DistilBERT = LLMFineTuner()"
      ]
    },
    {
      "cell_type": "markdown",
      "id": "6ee3f6d7",
      "metadata": {
        "id": "6ee3f6d7"
      },
      "source": [
        "## Téléchargement du jeu de données d'entraînement\n",
        "\n",
        "La première étape du pipeline consiste à télécharger et charger le **jeu de données** utilisé pour le fine-tuning.\n",
        "Par défaut, le *dataset* choisi est celui des **critiques de films IMDb**, disponible directement via la librairie `datasets` de Hugging Face.\n",
        "\n",
        "Ce *dataset* contient :\n",
        "\n",
        "* des critiques textuelles de films,\n",
        "* une étiquette associée (`positive` ou `negative`),\n",
        "* et il est couramment utilisé comme *benchmark* pour la **classification de sentiments**."
      ]
    },
    {
      "cell_type": "code",
      "execution_count": 159,
      "id": "3ab06ad6",
      "metadata": {
        "colab": {
          "base_uri": "https://localhost:8080/",
          "height": 220,
          "referenced_widgets": [
            "7a33ecb3dc5f46d4a6fe969d58c8dc7f",
            "b587c1c9458d4dcdb674028fba138cab",
            "08a237ad741147468b77336b3a9ed5b5",
            "9b22d254f5624e3b86ed765a16f1362b",
            "e75d33c617cc499e9c57fb9b46e887c5",
            "b8400162207a49e69edcc815bfa4fb79",
            "60fbc2aeff554badaf0f81b7a53aa0c1",
            "6eed1f3f6a7e435284118b881ff2d818",
            "c0bb1bd8ea2646f4a08722474c8fa715",
            "8bfcc997d2544a2699d19ea58e96ef0f",
            "8ec32268dc8d426886bb3e1432d0145d",
            "4d55fee810f24fd2aece579f5424e2b1",
            "ed9a534d36054a119994fb9a92ce8ab7",
            "138f6702321d4f38bb5997d0dd864bf7",
            "5fdfd09885594bfb9a88ff15f64f1554",
            "6c690e17832847fb9a4ec6af345ef10c",
            "d34c4879038a4eb8a5c8731518c7df60",
            "84ba7409491449bab2df403ad381fa33",
            "d1c83be04cf744b0bb1bd4302d2e9300",
            "f8f254283b52454aa69f42aa4cf511df",
            "a9917b6930754165bc6df75384b75c35",
            "2c8f5350d15f4b3c9bee6aee949ec9d3"
          ]
        },
        "id": "3ab06ad6",
        "outputId": "5a76548e-2ec7-4be2-a0c0-c7277bc138bd"
      },
      "outputs": [
        {
          "output_type": "display_data",
          "data": {
            "text/plain": [
              "Map:   0%|          | 0/50000 [00:00<?, ? examples/s]"
            ],
            "application/vnd.jupyter.widget-view+json": {
              "version_major": 2,
              "version_minor": 0,
              "model_id": "7a33ecb3dc5f46d4a6fe969d58c8dc7f"
            }
          },
          "metadata": {}
        },
        {
          "output_type": "display_data",
          "data": {
            "text/plain": [
              "Casting the dataset:   0%|          | 0/50000 [00:00<?, ? examples/s]"
            ],
            "application/vnd.jupyter.widget-view+json": {
              "version_major": 2,
              "version_minor": 0,
              "model_id": "4d55fee810f24fd2aece579f5424e2b1"
            }
          },
          "metadata": {}
        },
        {
          "output_type": "stream",
          "name": "stdout",
          "text": [
            "Dataset loaded and normalized :\n",
            "DatasetDict({\n",
            "    train: Dataset({\n",
            "        features: ['review', 'sentiment'],\n",
            "        num_rows: 50000\n",
            "    })\n",
            "})\n",
            "with 50000 training examples.\n"
          ]
        }
      ],
      "source": [
        "LLM_DistilBERT.set_dataset(verbose=True)"
      ]
    },
    {
      "cell_type": "markdown",
      "id": "a9126cf5",
      "metadata": {
        "id": "a9126cf5"
      },
      "source": [
        "## Préparation des entrées du modèle\n",
        "\n",
        "Le format d’entrée attendu par BERT (et donc par DistilBERT) peut sembler **sur-spécifié**, en particulier lorsqu’on l’applique à une tâche unique comme la classification de séquence, l’étiquetage de mots ou la détection de paraphrases.\n",
        "Cependant, ce format est conçu pour assurer une compatibilité large avec différentes tâches NLP.\n",
        "\n",
        "Les principales étapes sont :\n",
        "\n",
        "* **Ajout de tokens spéciaux** en début et fin de séquence (par ex. `[CLS]`, `[SEP]`),\n",
        "* **Troncature ou padding** des phrases afin qu’elles aient toutes une **longueur constante**,\n",
        "* **Construction du masque d’attention** (`attention mask`) pour distinguer les tokens réels du padding."
      ]
    },
    {
      "cell_type": "code",
      "execution_count": 160,
      "id": "008c1122",
      "metadata": {
        "colab": {
          "base_uri": "https://localhost:8080/"
        },
        "id": "008c1122",
        "outputId": "95836410-b74d-4a52-f1fa-cd47e0c7f3be"
      },
      "outputs": [
        {
          "output_type": "stream",
          "name": "stdout",
          "text": [
            "Tokenizer DistilBertTokenizer loaded from distilbert-base-uncased\n"
          ]
        }
      ],
      "source": [
        "LLM_DistilBERT.set_tokenizer(verbose=True)"
      ]
    },
    {
      "cell_type": "markdown",
      "id": "5b42be62",
      "metadata": {
        "id": "5b42be62"
      },
      "source": [
        "Avant d’appliquer le prétraitement à l’ensemble du dataset, il est utile de vérifier le bon fonctionnement du *tokenizer* sur une phrase simple.\n",
        "Prenons par exemple le texte suivant :\n",
        "\n",
        "```text\n",
        "\"hello my name is kevin\"\n",
        "```\n",
        "\n",
        "Cet exemple permettra d’illustrer :\n",
        "\n",
        "* la **découpe en tokens** (WordPiece),\n",
        "* la **conversion en identifiants numériques (IDs)**,\n",
        "* l’ajout automatique des **tokens spéciaux** `[CLS]` et `[SEP]`."
      ]
    },
    {
      "cell_type": "code",
      "execution_count": 161,
      "id": "072a1193",
      "metadata": {
        "colab": {
          "base_uri": "https://localhost:8080/"
        },
        "id": "072a1193",
        "outputId": "bf0d2756-6b0c-4192-e43f-1571e81ee503"
      },
      "outputs": [
        {
          "output_type": "stream",
          "name": "stdout",
          "text": [
            "Tokens in the sequence: ['hello', 'my', 'name', 'is', 'kevin']\n",
            "Encoded inputs:\n",
            "╒═════════════╤══════════╕\n",
            "│   Token IDs │ Tokens   │\n",
            "╞═════════════╪══════════╡\n",
            "│         101 │ [CLS]    │\n",
            "├─────────────┼──────────┤\n",
            "│        7592 │ hello    │\n",
            "├─────────────┼──────────┤\n",
            "│        2026 │ my       │\n",
            "├─────────────┼──────────┤\n",
            "│        2171 │ name     │\n",
            "├─────────────┼──────────┤\n",
            "│        2003 │ is       │\n",
            "├─────────────┼──────────┤\n",
            "│        4901 │ kevin    │\n",
            "├─────────────┼──────────┤\n",
            "│         102 │ [SEP]    │\n",
            "╘═════════════╧══════════╛\n"
          ]
        }
      ],
      "source": [
        "message = \"hello my name is kevin\"\n",
        "\n",
        "# Étape 1 : tokenisation (WordPiece)\n",
        "tokens = LLM_DistilBERT.tokenizer.tokenize(message)\n",
        "print(\"Tokens in the sequence:\", tokens)\n",
        "\n",
        "# Étape 2 : encodage (conversion en IDs numériques)\n",
        "input_ids = LLM_DistilBERT.tokenizer.encode(message, add_special_tokens=True)\n",
        "\n",
        "# Étape 3 : tableau alignant IDs et tokens correspondants\n",
        "table = np.array(\n",
        "    [\n",
        "        input_ids,\n",
        "        [LLM_DistilBERT.tokenizer.ids_to_tokens[w] for w in input_ids],\n",
        "    ]\n",
        ").T\n",
        "\n",
        "print(\"Encoded inputs:\")\n",
        "print(tabulate(table, headers=[\"Token IDs\", \"Tokens\"], tablefmt=\"fancy_grid\"))"
      ]
    },
    {
      "cell_type": "markdown",
      "id": "1567cac2",
      "metadata": {
        "id": "1567cac2"
      },
      "source": [
        "On remarque la présence de tokens spéciaux comme `[CLS]` et `[SEP]` dans la séquence. Ils sont ajoutés automatiquement par HuggingFace.\n",
        "\n",
        "* **`[CLS]` (classification token)** :\n",
        "  Ce token est ajouté systématiquement en début de séquence. Dans le cas d’une tâche de classification, la représentation finale associée à `[CLS]` après passage dans les couches du transformeur est utilisée comme **résumé global de la séquence**. Elle sert ensuite de base pour prédire la classe associée au texte.\n",
        "\n",
        "* **`[SEP]` (separator token)** :\n",
        "  Ce token est utilisé comme séparateur entre deux segments de texte. Dans une tâche de **classification d’une seule phrase**, sa présence est secondaire. En revanche, il devient essentiel pour des tâches impliquant plusieurs séquences, comme la **détection de paraphrases**, la **classification de paires de phrases**, ou encore les tâches de **Question Answering (Q\\&A)** où une question et un contexte doivent être distingués.\n",
        "\n",
        "Pour conclure quant au tableau obtenu ci-dessus :\n",
        "\n",
        "* le texte a bien été **découpé en sous-unités lexicales** (*tokens*),\n",
        "* chaque token est associé à un **identifiant numérique unique**,\n",
        "* les **tokens spéciaux** `[CLS]` (en début) et `[SEP]` (en fin) ont été ajoutés automatiquement par le tokenizer.\n",
        "\n",
        "Cela confirme le bon fonctionnement du *tokenizer* et illustre le format attendu des entrées pour le modèle."
      ]
    },
    {
      "cell_type": "markdown",
      "id": "9b4c242b",
      "metadata": {
        "id": "9b4c242b"
      },
      "source": [
        "## Prétraitement des données\n",
        "\n",
        "Dans cette étape, les données brutes (texte des critiques et labels de sentiment) sont transformées en un format exploitable par le modèle.\n",
        "\n",
        "Etant donné que le *padding* n’a pas été effectué dans la fonction de prétraitement, il est réalisé ici.\n",
        "\n",
        "Ainsi, le code ci-dessous permet de :\n",
        "\n",
        "1. Récupérer les `input_ids` (qui, pour l’instant, ont des longueurs différentes).\n",
        "2. Appliquer un **padding dynamique** afin que toutes les séquences aient la même longueur que la plus longue du batch (méthode efficace, qui évite un sur-padding inutile).\n",
        "3. Ajouter automatiquement un **masque d’attention** (`1` pour les vrais tokens, `0` pour le padding).\n",
        "4. Convertir le tout en **tenseurs PyTorch** (`torch.LongTensor`), directement exploitables par le modèle.\n",
        "\n",
        "Le *collator* se charge donc de :\n",
        "\n",
        "* réaliser le **padding dynamique** du batch,\n",
        "* ajouter le **masque d’attention** (`0` et `1`),\n",
        "* retourner les tenseurs dans le format attendu par le modèle.\n"
      ]
    },
    {
      "cell_type": "code",
      "execution_count": 162,
      "id": "1ecdcf1c",
      "metadata": {
        "colab": {
          "base_uri": "https://localhost:8080/",
          "height": 49,
          "referenced_widgets": [
            "d28e9967c8d24ad2b8ebefbdc0ed7d77",
            "9b7469c89f5141e7b2810e260a9d3348",
            "751e0f50e5e54708bbfbfbf3e7777d88",
            "90132819c5c44f8494fc50ad3855ff5a",
            "7facd8617bf04a68a3da24400b0ed086",
            "21663fbfa9914668af28d2f3ca7b2b5b",
            "93b28fd6b8c847a4b88edec1ebc0a8ef",
            "4da093bee13d4630a2b9bfcce0d342cf",
            "f6948b36653b41549c0ad1032947e1d7",
            "2b603c6dc6ca4408a39af7ca1926fdbb",
            "6c39114731a8411e8247ea9f3ee89318"
          ]
        },
        "id": "1ecdcf1c",
        "outputId": "7972609b-dc7b-4039-acde-dbad5875f5b2"
      },
      "outputs": [
        {
          "output_type": "display_data",
          "data": {
            "text/plain": [
              "Map:   0%|          | 0/2000 [00:00<?, ? examples/s]"
            ],
            "application/vnd.jupyter.widget-view+json": {
              "version_major": 2,
              "version_minor": 0,
              "model_id": "d28e9967c8d24ad2b8ebefbdc0ed7d77"
            }
          },
          "metadata": {}
        }
      ],
      "source": [
        "LLM_DistilBERT.split_dataset()"
      ]
    },
    {
      "cell_type": "code",
      "execution_count": 163,
      "id": "90ee8380",
      "metadata": {
        "id": "90ee8380"
      },
      "outputs": [],
      "source": [
        "LLM_DistilBERT.set_data_collator()"
      ]
    },
    {
      "cell_type": "code",
      "execution_count": 164,
      "id": "5a0fe1cd",
      "metadata": {
        "id": "5a0fe1cd"
      },
      "outputs": [],
      "source": [
        "LLM_DistilBERT.set_loaders()"
      ]
    },
    {
      "cell_type": "markdown",
      "id": "f1d0d0b7",
      "metadata": {
        "id": "f1d0d0b7"
      },
      "source": [
        "## Bilan du prétraitement\n",
        "\n",
        "### Étapes déjà réalisées\n",
        "\n",
        "| Étape                  | Statut | Code principal                                                      | Objectif                                                  |\n",
        "| ---------------------- | ------ | ------------------------------------------------------------------- | --------------------------------------------------------- |\n",
        "| Dataset chargé         | ✅      | `dataset = load_dataset(...)`                                       | Charger les critiques + labels de sentiment               |\n",
        "| Mélange (shuffle)      | ✅      | `dataset = dataset.shuffle()`                                       | Éviter les biais liés à l’ordre                           |\n",
        "| Sous-échantillonnage   | ✅      | `dataset.select(range(n_samples))`                                  | Travailler sur 2 000 exemples                             |\n",
        "| Tokenisation           | ✅      | `dataset.map(preprocessing_fn, fn_kwargs={\"tokenizer\": tokenizer})` | Texte → tokens, labels → numériques                       |\n",
        "| Nettoyage des colonnes | ✅      | `select_columns([\"input_ids\", \"labels\"])`                           | Garder uniquement les champs utiles                       |\n",
        "| Split train/valid      | ✅      | `train_test_split(test_size=0.2)`                                   | Créer ensembles d’entraînement et validation              |\n",
        "| Data collator          | ✅      | `DataCollator(tokenizer)`                                           | Padding dynamique + masque d’attention + tenseurs PyTorch |\n",
        "| DataLoaders            | ✅      | `DataLoader(train_set, ..., collate_fn=data_collator)`              | Préparer mini-batchs pour le modèle                       |\n",
        "\n",
        "### Étapes à venir\n",
        "\n",
        "| Étape                                    | Action attendue                                                                                                    |\n",
        "| ---------------------------------------- | ------------------------------------------------------------------------------------------------------------------ |\n",
        "| **Dispositif & reproductibilité**        | Sélectionner GPU si dispo, fixer les graines (`random`, `numpy`, `torch`).                                         |\n",
        "| **Chargement du modèle**                 | `DistilBertForSequenceClassification.from_pretrained(\"distilbert-base-uncased\", num_labels=2)` puis `.to(device)`. |\n",
        "| **Optimiseur**                           | Définir `AdamW` (LR typique : `2e-5` à `5e-5`, weight decay : `0.01`).                                             |\n",
        "| **Scheduler** (optionnel mais conseillé) | Planifier warmup + décroissance avec `get_linear_schedule_with_warmup`.                                            |\n",
        "| **Boucle d’entraînement**                | Forward pass → calcul loss → backward pass → clipping gradients → step optimizer + scheduler.                      |\n",
        "| **Boucle de validation**                 | `model.eval()`, calcul des métriques (loss, accuracy, F1).                                                         |\n",
        "| **Suivi des métriques**                  | Afficher pertes + accuracy (ajouter F1 si classes déséquilibrées).                                                 |\n",
        "| **Logging / suivi**                      | Affichage par epoch, barre de progression (`tqdm`).                                                                |\n",
        "| **Checkpointing**                        | Sauvegarder le meilleur modèle + tokenizer : `save_pretrained(\"./distilbert-best\")`.                               |\n",
        "| **Sanity checks**                        | Vérifier `[CLS]` (id=101), `[SEP]` (id=102), masque d’attention, inspection d’un batch.                            |                                              |"
      ]
    },
    {
      "cell_type": "markdown",
      "id": "4f637d98",
      "metadata": {
        "id": "4f637d98"
      },
      "source": [
        "## Chargement du modèle\n",
        "\n",
        "À ce stade, il est nécessaire de charger le modèle de base et de l’adapter à la tâche de classification :\n",
        "\n",
        "* **DistilBERT pré-entraîné** est utilisé comme modèle de départ (pré-entraînement sur le *Masked Language Modeling*).\n",
        "* Une **tête de classification** (couche linéaire) est ajoutée au-dessus de la représentation du token `[CLS]`.\n",
        "* Le paramètre `num_labels=2` est fixé pour correspondre à une tâche de **classification binaire** (*positive* / *negative*).\n",
        "* Le modèle est déplacé sur le **dispositif de calcul** défini précédemment (`cuda` si disponible, sinon `cpu`). Il est important que le modèle et les données soient sur le **même device** pour interagir correctement."
      ]
    },
    {
      "cell_type": "code",
      "execution_count": 165,
      "id": "b2fc7e3e",
      "metadata": {
        "colab": {
          "base_uri": "https://localhost:8080/"
        },
        "id": "b2fc7e3e",
        "outputId": "cfea9340-b3bf-419e-d1a1-9bb64a426e40"
      },
      "outputs": [
        {
          "output_type": "stream",
          "name": "stderr",
          "text": [
            "Some weights of DistilBertForSequenceClassification were not initialized from the model checkpoint at distilbert-base-uncased and are newly initialized: ['classifier.bias', 'classifier.weight', 'pre_classifier.bias', 'pre_classifier.weight']\n",
            "You should probably TRAIN this model on a down-stream task to be able to use it for predictions and inference.\n"
          ]
        },
        {
          "output_type": "stream",
          "name": "stdout",
          "text": [
            "Model DistilBertForSequenceClassification loaded with 2 labels.\n"
          ]
        }
      ],
      "source": [
        "LLM_DistilBERT.set_model(verbose=True)"
      ]
    },
    {
      "cell_type": "markdown",
      "id": "5d34ed54",
      "metadata": {
        "id": "5d34ed54"
      },
      "source": [
        "* **DistilBERT** est pré-entraîné sur la tâche de *Masked Language Modeling* (prédiction de mots masqués).\n",
        "* La classe `DistilBertForSequenceClassification` ajoute une **tête de classification** (couche linéaire) initialisée aléatoirement.\n",
        "* L’encodeur (le cœur de DistilBERT) charge des poids pré-entraînés, mais la tête doit être **apprise à partir de notre dataset de sentiments**.\n",
        "* Pendant le fine-tuning, la sortie du token spécial `[CLS]` est utilisée comme **représentation globale de la séquence**, à partir de laquelle la tête apprend à prédire *positive* ou *negative*.\n",
        "\n",
        "Le étapes suivantes du *workflow* sont les suivantes :\n",
        "\n",
        "1. **Fine-tuning** du modèle sur le dataset IMDb réduit (2 000 exemples).\n",
        "2. **Utilisation en inférence** pour prédire le sentiment de nouvelles phrases."
      ]
    },
    {
      "cell_type": "markdown",
      "id": "f82a881d",
      "metadata": {
        "id": "f82a881d"
      },
      "source": [
        "## Optimiseur et Scheduler\n",
        "\n",
        "### Rappel sur l’optimiseur\n",
        "\n",
        "L’optimiseur est l’algorithme qui met à jour les poids du modèle au cours de l’entraînement, en fonction de la **perte calculée**.\n",
        "Dans notre cas, nous utilisons **AdamW**, une variante de l’optimiseur Adam qui :\n",
        "\n",
        "* apprend des taux d’apprentissage différents pour chaque poids,\n",
        "* applique une **pénalisation (weight decay)** afin de limiter le surapprentissage en empêchant les poids de croître excessivement.\n",
        "\n",
        "### Rappel sur le *scheduler*\n",
        "\n",
        "Le *learning rate* (taux d’apprentissage) détermine l’**amplitude des pas** effectués par l’optimiseur à chaque mise à jour des poids.\n",
        "Le *scheduler* permet de **faire évoluer dynamiquement le learning rate** au cours de l’entraînement.\n",
        "\n",
        "De manière plus intuitive :\n",
        "\n",
        "* l'optimiseur détermine la manière dont les poids sont ajustés en fonction de la perte,\n",
        "* le *scheduler* contrôle l’ampleur des pas d’apprentissage au fil des itérations."
      ]
    },
    {
      "cell_type": "code",
      "execution_count": 166,
      "id": "f2b23e08",
      "metadata": {
        "colab": {
          "base_uri": "https://localhost:8080/"
        },
        "id": "f2b23e08",
        "outputId": "86e227ef-66c7-45ea-c3bc-1576c6c7d72d"
      },
      "outputs": [
        {
          "output_type": "stream",
          "name": "stdout",
          "text": [
            "Optimizer and scheduler set with 1200 training steps and 120 warmup steps.\n"
          ]
        }
      ],
      "source": [
        "LLM_DistilBERT.set_optimizer_and_scheduler(verbose=True)"
      ]
    },
    {
      "cell_type": "markdown",
      "id": "a0504a13",
      "metadata": {
        "id": "a0504a13"
      },
      "source": [
        "### Configuration de l’optimiseur et du *scheduler* – Résultats\n",
        "\n",
        "L’optimiseur et le *scheduler* ont été correctement initialisés :\n",
        "\n",
        "* Nombre total d’étapes d’entraînement : **1200**\n",
        "* Nombre d’étapes de *warmup* (taux d’apprentissage qui augmente progressivement) : **120**"
      ]
    },
    {
      "cell_type": "markdown",
      "id": "0ef6ced6",
      "metadata": {
        "id": "0ef6ced6"
      },
      "source": [
        "## Entraînement et Validation\n",
        "\n",
        "### Forward pass\n",
        "\n",
        "* Entrée : un batch de critiques, représentées par leurs `input_ids` et `attention_mask`.\n",
        "* Le modèle :\n",
        "\n",
        "  * associe chaque token à son embedding,\n",
        "  * passe les séquences dans l'encodeur DistilBERT (empilement de couches Transformers),\n",
        "  * récupère l'état caché du token spécial `[CLS]` comme **représentation globale de la phrase**,\n",
        "  * applique la tête de classification (couche linéaire) sur cette représentation,\n",
        "  * produit en sortie des **logits** : scores bruts et non normalisés pour chaque classe (*positive* / *negative*).\n",
        "\n",
        "$$\n",
        "\\text{logits} = W \\cdot h_{\\text{[CLS]}} + b\n",
        "$$\n",
        "\n",
        "### Calcul de la loss\n",
        "\n",
        "Comparaison des *logits* aux *labels* réels (0 ou 1) via la **fonction de perte d’entropie croisée** :\n",
        "\n",
        "$$\n",
        "L = - \\Big( y \\cdot \\log(\\hat{y}) + (1-y) \\cdot \\log(1-\\hat{y}) \\Big)\n",
        "$$\n",
        "\n",
        "où\n",
        "\n",
        "$$\n",
        "\\hat{y}_i = \\frac{e^{\\text{logits}_i}}{\\sum_j e^{\\text{logits}_j}}\n",
        "$$\n",
        "\n",
        "### Backward pass\n",
        "\n",
        "PyTorch calcule automatiquement les gradients de la perte par rapport à chaque paramètre du modèle.\n",
        "\n",
        "* Le gradient indique comment ajuster un poids pour réduire la perte.\n",
        "* Exemple : si le gradient est positif, le poids doit être diminué ; s’il est négatif, il doit être augmenté.\n",
        "\n",
        "### Gradient clipping\n",
        "\n",
        "Afin d’éviter des gradients trop grands (qui peuvent déstabiliser l’entraînement), application d'un **clipping** :\n",
        "\n",
        "$$\n",
        "g = \\min(g, \\text{valeur}_{\\text{seuil}})\n",
        "$$\n",
        "\n",
        "### Optimiseur\n",
        "\n",
        "L’optimiseur applique ensuite les mises à jour des poids en suivant la règle :\n",
        "\n",
        "$$\n",
        "w \\leftarrow w - \\eta \\cdot \\nabla_w L\n",
        "$$\n",
        "\n",
        "où $\\eta$ est le **learning rate**.\n",
        "Ici, nous utilisons **AdamW**, qui ajoute un *weight decay* pour régulariser les poids.\n",
        "\n",
        "### Scheduler\n",
        "\n",
        "Le scheduler permet de **moduler le learning rate** au cours du temps :\n",
        "\n",
        "* augmentation progressive au début (*warmup*),\n",
        "* décroissance ensuite,\n",
        "  plutôt qu'un taux d'apprentissage fixe.\n",
        "\n",
        "### Validation\n",
        "\n",
        "Après chaque *epoch* :\n",
        "\n",
        "* désactivation du calcul de gradient (`model.eval()` + `torch.no_grad()`),\n",
        "* passage des données de validation dans le modèle,\n",
        "* calcul de la loss et des métriques (accuracy, F1-score).\n",
        "\n",
        "Cette étape vérifie si le modèle apprend des **règles générales** plutôt que de mémoriser les données d'entraînement.\n",
        "\n",
        "### Checkpoint\n",
        "\n",
        "Sauvegarde des poids du modèle lorsque la perte de validation s'améliore.\n",
        "Cela garantit de conserver la **meilleure version** obtenue durant l'entraînement."
      ]
    },
    {
      "cell_type": "code",
      "execution_count": 167,
      "id": "9de860ce",
      "metadata": {
        "colab": {
          "base_uri": "https://localhost:8080/",
          "height": 657
        },
        "id": "9de860ce",
        "outputId": "f99212b2-5b81-4e35-de87-41dc05ac9af6"
      },
      "outputs": [
        {
          "output_type": "stream",
          "name": "stdout",
          "text": [
            "\n",
            "Epoch 1/3\n",
            "  Training loss: 0.5675\n",
            "  Validation loss: 0.8055 | Accuracy: 0.8025\n",
            "Saved new best model to ./distilbert-best\n",
            "\n",
            "Epoch 2/3\n",
            "  Training loss: 0.3582\n",
            "  Validation loss: 0.7440 | Accuracy: 0.8100\n",
            "Saved new best model to ./distilbert-best\n",
            "\n",
            "Epoch 3/3\n",
            "  Training loss: 0.1593\n",
            "  Validation loss: 0.6324 | Accuracy: 0.8675\n",
            "Saved new best model to ./distilbert-best\n"
          ]
        },
        {
          "output_type": "display_data",
          "data": {
            "text/plain": [
              "<Figure size 1200x400 with 2 Axes>"
            ],
            "image/svg+xml": "<?xml version=\"1.0\" encoding=\"utf-8\" standalone=\"no\"?>\n<!DOCTYPE svg PUBLIC \"-//W3C//DTD SVG 1.1//EN\"\n  \"http://www.w3.org/Graphics/SVG/1.1/DTD/svg11.dtd\">\n<svg xmlns:xlink=\"http://www.w3.org/1999/xlink\" width=\"720.58125pt\" height=\"281.634375pt\" viewBox=\"0 0 720.58125 281.634375\" xmlns=\"http://www.w3.org/2000/svg\" version=\"1.1\">\n <metadata>\n  <rdf:RDF xmlns:dc=\"http://purl.org/dc/elements/1.1/\" xmlns:cc=\"http://creativecommons.org/ns#\" xmlns:rdf=\"http://www.w3.org/1999/02/22-rdf-syntax-ns#\">\n   <cc:Work>\n    <dc:type rdf:resource=\"http://purl.org/dc/dcmitype/StillImage\"/>\n    <dc:date>2025-09-14T14:30:54.630095</dc:date>\n    <dc:format>image/svg+xml</dc:format>\n    <dc:creator>\n     <cc:Agent>\n      <dc:title>Matplotlib v3.10.0, https://matplotlib.org/</dc:title>\n     </cc:Agent>\n    </dc:creator>\n   </cc:Work>\n  </rdf:RDF>\n </metadata>\n <defs>\n  <style type=\"text/css\">*{stroke-linejoin: round; stroke-linecap: butt}</style>\n </defs>\n <g id=\"figure_1\">\n  <g id=\"patch_1\">\n   <path d=\"M 0 281.634375 \nL 720.58125 281.634375 \nL 720.58125 0 \nL 0 0 \nz\n\" style=\"fill: #ffffff\"/>\n  </g>\n  <g id=\"axes_1\">\n   <g id=\"patch_2\">\n    <path d=\"M 43.78125 244.078125 \nL 348.144886 244.078125 \nL 348.144886 22.318125 \nL 43.78125 22.318125 \nz\n\" style=\"fill: #ffffff\"/>\n   </g>\n   <g id=\"matplotlib.axis_1\">\n    <g id=\"xtick_1\">\n     <g id=\"line2d_1\">\n      <path d=\"M 57.615961 244.078125 \nL 57.615961 22.318125 \n\" clip-path=\"url(#p2404b1575e)\" style=\"fill: none; stroke: #b0b0b0; stroke-width: 0.8; stroke-linecap: square\"/>\n     </g>\n     <g id=\"line2d_2\">\n      <defs>\n       <path id=\"ma2e39de365\" d=\"M 0 0 \nL 0 3.5 \n\" style=\"stroke: #000000; stroke-width: 0.8\"/>\n      </defs>\n      <g>\n       <use xlink:href=\"#ma2e39de365\" x=\"57.615961\" y=\"244.078125\" style=\"stroke: #000000; stroke-width: 0.8\"/>\n      </g>\n     </g>\n     <g id=\"text_1\">\n      <!-- 1.00 -->\n      <g transform=\"translate(46.483148 258.676562) scale(0.1 -0.1)\">\n       <defs>\n        <path id=\"DejaVuSans-31\" d=\"M 794 531 \nL 1825 531 \nL 1825 4091 \nL 703 3866 \nL 703 4441 \nL 1819 4666 \nL 2450 4666 \nL 2450 531 \nL 3481 531 \nL 3481 0 \nL 794 0 \nL 794 531 \nz\n\" transform=\"scale(0.015625)\"/>\n        <path id=\"DejaVuSans-2e\" d=\"M 684 794 \nL 1344 794 \nL 1344 0 \nL 684 0 \nL 684 794 \nz\n\" transform=\"scale(0.015625)\"/>\n        <path id=\"DejaVuSans-30\" d=\"M 2034 4250 \nQ 1547 4250 1301 3770 \nQ 1056 3291 1056 2328 \nQ 1056 1369 1301 889 \nQ 1547 409 2034 409 \nQ 2525 409 2770 889 \nQ 3016 1369 3016 2328 \nQ 3016 3291 2770 3770 \nQ 2525 4250 2034 4250 \nz\nM 2034 4750 \nQ 2819 4750 3233 4129 \nQ 3647 3509 3647 2328 \nQ 3647 1150 3233 529 \nQ 2819 -91 2034 -91 \nQ 1250 -91 836 529 \nQ 422 1150 422 2328 \nQ 422 3509 836 4129 \nQ 1250 4750 2034 4750 \nz\n\" transform=\"scale(0.015625)\"/>\n       </defs>\n       <use xlink:href=\"#DejaVuSans-31\"/>\n       <use xlink:href=\"#DejaVuSans-2e\" transform=\"translate(63.623047 0)\"/>\n       <use xlink:href=\"#DejaVuSans-30\" transform=\"translate(95.410156 0)\"/>\n       <use xlink:href=\"#DejaVuSans-30\" transform=\"translate(159.033203 0)\"/>\n      </g>\n     </g>\n    </g>\n    <g id=\"xtick_2\">\n     <g id=\"line2d_3\">\n      <path d=\"M 92.202738 244.078125 \nL 92.202738 22.318125 \n\" clip-path=\"url(#p2404b1575e)\" style=\"fill: none; stroke: #b0b0b0; stroke-width: 0.8; stroke-linecap: square\"/>\n     </g>\n     <g id=\"line2d_4\">\n      <g>\n       <use xlink:href=\"#ma2e39de365\" x=\"92.202738\" y=\"244.078125\" style=\"stroke: #000000; stroke-width: 0.8\"/>\n      </g>\n     </g>\n     <g id=\"text_2\">\n      <!-- 1.25 -->\n      <g transform=\"translate(81.069925 258.676562) scale(0.1 -0.1)\">\n       <defs>\n        <path id=\"DejaVuSans-32\" d=\"M 1228 531 \nL 3431 531 \nL 3431 0 \nL 469 0 \nL 469 531 \nQ 828 903 1448 1529 \nQ 2069 2156 2228 2338 \nQ 2531 2678 2651 2914 \nQ 2772 3150 2772 3378 \nQ 2772 3750 2511 3984 \nQ 2250 4219 1831 4219 \nQ 1534 4219 1204 4116 \nQ 875 4013 500 3803 \nL 500 4441 \nQ 881 4594 1212 4672 \nQ 1544 4750 1819 4750 \nQ 2544 4750 2975 4387 \nQ 3406 4025 3406 3419 \nQ 3406 3131 3298 2873 \nQ 3191 2616 2906 2266 \nQ 2828 2175 2409 1742 \nQ 1991 1309 1228 531 \nz\n\" transform=\"scale(0.015625)\"/>\n        <path id=\"DejaVuSans-35\" d=\"M 691 4666 \nL 3169 4666 \nL 3169 4134 \nL 1269 4134 \nL 1269 2991 \nQ 1406 3038 1543 3061 \nQ 1681 3084 1819 3084 \nQ 2600 3084 3056 2656 \nQ 3513 2228 3513 1497 \nQ 3513 744 3044 326 \nQ 2575 -91 1722 -91 \nQ 1428 -91 1123 -41 \nQ 819 9 494 109 \nL 494 744 \nQ 775 591 1075 516 \nQ 1375 441 1709 441 \nQ 2250 441 2565 725 \nQ 2881 1009 2881 1497 \nQ 2881 1984 2565 2268 \nQ 2250 2553 1709 2553 \nQ 1456 2553 1204 2497 \nQ 953 2441 691 2322 \nL 691 4666 \nz\n\" transform=\"scale(0.015625)\"/>\n       </defs>\n       <use xlink:href=\"#DejaVuSans-31\"/>\n       <use xlink:href=\"#DejaVuSans-2e\" transform=\"translate(63.623047 0)\"/>\n       <use xlink:href=\"#DejaVuSans-32\" transform=\"translate(95.410156 0)\"/>\n       <use xlink:href=\"#DejaVuSans-35\" transform=\"translate(159.033203 0)\"/>\n      </g>\n     </g>\n    </g>\n    <g id=\"xtick_3\">\n     <g id=\"line2d_5\">\n      <path d=\"M 126.789514 244.078125 \nL 126.789514 22.318125 \n\" clip-path=\"url(#p2404b1575e)\" style=\"fill: none; stroke: #b0b0b0; stroke-width: 0.8; stroke-linecap: square\"/>\n     </g>\n     <g id=\"line2d_6\">\n      <g>\n       <use xlink:href=\"#ma2e39de365\" x=\"126.789514\" y=\"244.078125\" style=\"stroke: #000000; stroke-width: 0.8\"/>\n      </g>\n     </g>\n     <g id=\"text_3\">\n      <!-- 1.50 -->\n      <g transform=\"translate(115.656702 258.676562) scale(0.1 -0.1)\">\n       <use xlink:href=\"#DejaVuSans-31\"/>\n       <use xlink:href=\"#DejaVuSans-2e\" transform=\"translate(63.623047 0)\"/>\n       <use xlink:href=\"#DejaVuSans-35\" transform=\"translate(95.410156 0)\"/>\n       <use xlink:href=\"#DejaVuSans-30\" transform=\"translate(159.033203 0)\"/>\n      </g>\n     </g>\n    </g>\n    <g id=\"xtick_4\">\n     <g id=\"line2d_7\">\n      <path d=\"M 161.376291 244.078125 \nL 161.376291 22.318125 \n\" clip-path=\"url(#p2404b1575e)\" style=\"fill: none; stroke: #b0b0b0; stroke-width: 0.8; stroke-linecap: square\"/>\n     </g>\n     <g id=\"line2d_8\">\n      <g>\n       <use xlink:href=\"#ma2e39de365\" x=\"161.376291\" y=\"244.078125\" style=\"stroke: #000000; stroke-width: 0.8\"/>\n      </g>\n     </g>\n     <g id=\"text_4\">\n      <!-- 1.75 -->\n      <g transform=\"translate(150.243479 258.676562) scale(0.1 -0.1)\">\n       <defs>\n        <path id=\"DejaVuSans-37\" d=\"M 525 4666 \nL 3525 4666 \nL 3525 4397 \nL 1831 0 \nL 1172 0 \nL 2766 4134 \nL 525 4134 \nL 525 4666 \nz\n\" transform=\"scale(0.015625)\"/>\n       </defs>\n       <use xlink:href=\"#DejaVuSans-31\"/>\n       <use xlink:href=\"#DejaVuSans-2e\" transform=\"translate(63.623047 0)\"/>\n       <use xlink:href=\"#DejaVuSans-37\" transform=\"translate(95.410156 0)\"/>\n       <use xlink:href=\"#DejaVuSans-35\" transform=\"translate(159.033203 0)\"/>\n      </g>\n     </g>\n    </g>\n    <g id=\"xtick_5\">\n     <g id=\"line2d_9\">\n      <path d=\"M 195.963068 244.078125 \nL 195.963068 22.318125 \n\" clip-path=\"url(#p2404b1575e)\" style=\"fill: none; stroke: #b0b0b0; stroke-width: 0.8; stroke-linecap: square\"/>\n     </g>\n     <g id=\"line2d_10\">\n      <g>\n       <use xlink:href=\"#ma2e39de365\" x=\"195.963068\" y=\"244.078125\" style=\"stroke: #000000; stroke-width: 0.8\"/>\n      </g>\n     </g>\n     <g id=\"text_5\">\n      <!-- 2.00 -->\n      <g transform=\"translate(184.830256 258.676562) scale(0.1 -0.1)\">\n       <use xlink:href=\"#DejaVuSans-32\"/>\n       <use xlink:href=\"#DejaVuSans-2e\" transform=\"translate(63.623047 0)\"/>\n       <use xlink:href=\"#DejaVuSans-30\" transform=\"translate(95.410156 0)\"/>\n       <use xlink:href=\"#DejaVuSans-30\" transform=\"translate(159.033203 0)\"/>\n      </g>\n     </g>\n    </g>\n    <g id=\"xtick_6\">\n     <g id=\"line2d_11\">\n      <path d=\"M 230.549845 244.078125 \nL 230.549845 22.318125 \n\" clip-path=\"url(#p2404b1575e)\" style=\"fill: none; stroke: #b0b0b0; stroke-width: 0.8; stroke-linecap: square\"/>\n     </g>\n     <g id=\"line2d_12\">\n      <g>\n       <use xlink:href=\"#ma2e39de365\" x=\"230.549845\" y=\"244.078125\" style=\"stroke: #000000; stroke-width: 0.8\"/>\n      </g>\n     </g>\n     <g id=\"text_6\">\n      <!-- 2.25 -->\n      <g transform=\"translate(219.417033 258.676562) scale(0.1 -0.1)\">\n       <use xlink:href=\"#DejaVuSans-32\"/>\n       <use xlink:href=\"#DejaVuSans-2e\" transform=\"translate(63.623047 0)\"/>\n       <use xlink:href=\"#DejaVuSans-32\" transform=\"translate(95.410156 0)\"/>\n       <use xlink:href=\"#DejaVuSans-35\" transform=\"translate(159.033203 0)\"/>\n      </g>\n     </g>\n    </g>\n    <g id=\"xtick_7\">\n     <g id=\"line2d_13\">\n      <path d=\"M 265.136622 244.078125 \nL 265.136622 22.318125 \n\" clip-path=\"url(#p2404b1575e)\" style=\"fill: none; stroke: #b0b0b0; stroke-width: 0.8; stroke-linecap: square\"/>\n     </g>\n     <g id=\"line2d_14\">\n      <g>\n       <use xlink:href=\"#ma2e39de365\" x=\"265.136622\" y=\"244.078125\" style=\"stroke: #000000; stroke-width: 0.8\"/>\n      </g>\n     </g>\n     <g id=\"text_7\">\n      <!-- 2.50 -->\n      <g transform=\"translate(254.003809 258.676562) scale(0.1 -0.1)\">\n       <use xlink:href=\"#DejaVuSans-32\"/>\n       <use xlink:href=\"#DejaVuSans-2e\" transform=\"translate(63.623047 0)\"/>\n       <use xlink:href=\"#DejaVuSans-35\" transform=\"translate(95.410156 0)\"/>\n       <use xlink:href=\"#DejaVuSans-30\" transform=\"translate(159.033203 0)\"/>\n      </g>\n     </g>\n    </g>\n    <g id=\"xtick_8\">\n     <g id=\"line2d_15\">\n      <path d=\"M 299.723399 244.078125 \nL 299.723399 22.318125 \n\" clip-path=\"url(#p2404b1575e)\" style=\"fill: none; stroke: #b0b0b0; stroke-width: 0.8; stroke-linecap: square\"/>\n     </g>\n     <g id=\"line2d_16\">\n      <g>\n       <use xlink:href=\"#ma2e39de365\" x=\"299.723399\" y=\"244.078125\" style=\"stroke: #000000; stroke-width: 0.8\"/>\n      </g>\n     </g>\n     <g id=\"text_8\">\n      <!-- 2.75 -->\n      <g transform=\"translate(288.590586 258.676562) scale(0.1 -0.1)\">\n       <use xlink:href=\"#DejaVuSans-32\"/>\n       <use xlink:href=\"#DejaVuSans-2e\" transform=\"translate(63.623047 0)\"/>\n       <use xlink:href=\"#DejaVuSans-37\" transform=\"translate(95.410156 0)\"/>\n       <use xlink:href=\"#DejaVuSans-35\" transform=\"translate(159.033203 0)\"/>\n      </g>\n     </g>\n    </g>\n    <g id=\"xtick_9\">\n     <g id=\"line2d_17\">\n      <path d=\"M 334.310176 244.078125 \nL 334.310176 22.318125 \n\" clip-path=\"url(#p2404b1575e)\" style=\"fill: none; stroke: #b0b0b0; stroke-width: 0.8; stroke-linecap: square\"/>\n     </g>\n     <g id=\"line2d_18\">\n      <g>\n       <use xlink:href=\"#ma2e39de365\" x=\"334.310176\" y=\"244.078125\" style=\"stroke: #000000; stroke-width: 0.8\"/>\n      </g>\n     </g>\n     <g id=\"text_9\">\n      <!-- 3.00 -->\n      <g transform=\"translate(323.177363 258.676562) scale(0.1 -0.1)\">\n       <defs>\n        <path id=\"DejaVuSans-33\" d=\"M 2597 2516 \nQ 3050 2419 3304 2112 \nQ 3559 1806 3559 1356 \nQ 3559 666 3084 287 \nQ 2609 -91 1734 -91 \nQ 1441 -91 1130 -33 \nQ 819 25 488 141 \nL 488 750 \nQ 750 597 1062 519 \nQ 1375 441 1716 441 \nQ 2309 441 2620 675 \nQ 2931 909 2931 1356 \nQ 2931 1769 2642 2001 \nQ 2353 2234 1838 2234 \nL 1294 2234 \nL 1294 2753 \nL 1863 2753 \nQ 2328 2753 2575 2939 \nQ 2822 3125 2822 3475 \nQ 2822 3834 2567 4026 \nQ 2313 4219 1838 4219 \nQ 1578 4219 1281 4162 \nQ 984 4106 628 3988 \nL 628 4550 \nQ 988 4650 1302 4700 \nQ 1616 4750 1894 4750 \nQ 2613 4750 3031 4423 \nQ 3450 4097 3450 3541 \nQ 3450 3153 3228 2886 \nQ 3006 2619 2597 2516 \nz\n\" transform=\"scale(0.015625)\"/>\n       </defs>\n       <use xlink:href=\"#DejaVuSans-33\"/>\n       <use xlink:href=\"#DejaVuSans-2e\" transform=\"translate(63.623047 0)\"/>\n       <use xlink:href=\"#DejaVuSans-30\" transform=\"translate(95.410156 0)\"/>\n       <use xlink:href=\"#DejaVuSans-30\" transform=\"translate(159.033203 0)\"/>\n      </g>\n     </g>\n    </g>\n    <g id=\"text_10\">\n     <!-- Epochs -->\n     <g transform=\"translate(178.047443 272.354687) scale(0.1 -0.1)\">\n      <defs>\n       <path id=\"DejaVuSans-45\" d=\"M 628 4666 \nL 3578 4666 \nL 3578 4134 \nL 1259 4134 \nL 1259 2753 \nL 3481 2753 \nL 3481 2222 \nL 1259 2222 \nL 1259 531 \nL 3634 531 \nL 3634 0 \nL 628 0 \nL 628 4666 \nz\n\" transform=\"scale(0.015625)\"/>\n       <path id=\"DejaVuSans-70\" d=\"M 1159 525 \nL 1159 -1331 \nL 581 -1331 \nL 581 3500 \nL 1159 3500 \nL 1159 2969 \nQ 1341 3281 1617 3432 \nQ 1894 3584 2278 3584 \nQ 2916 3584 3314 3078 \nQ 3713 2572 3713 1747 \nQ 3713 922 3314 415 \nQ 2916 -91 2278 -91 \nQ 1894 -91 1617 61 \nQ 1341 213 1159 525 \nz\nM 3116 1747 \nQ 3116 2381 2855 2742 \nQ 2594 3103 2138 3103 \nQ 1681 3103 1420 2742 \nQ 1159 2381 1159 1747 \nQ 1159 1113 1420 752 \nQ 1681 391 2138 391 \nQ 2594 391 2855 752 \nQ 3116 1113 3116 1747 \nz\n\" transform=\"scale(0.015625)\"/>\n       <path id=\"DejaVuSans-6f\" d=\"M 1959 3097 \nQ 1497 3097 1228 2736 \nQ 959 2375 959 1747 \nQ 959 1119 1226 758 \nQ 1494 397 1959 397 \nQ 2419 397 2687 759 \nQ 2956 1122 2956 1747 \nQ 2956 2369 2687 2733 \nQ 2419 3097 1959 3097 \nz\nM 1959 3584 \nQ 2709 3584 3137 3096 \nQ 3566 2609 3566 1747 \nQ 3566 888 3137 398 \nQ 2709 -91 1959 -91 \nQ 1206 -91 779 398 \nQ 353 888 353 1747 \nQ 353 2609 779 3096 \nQ 1206 3584 1959 3584 \nz\n\" transform=\"scale(0.015625)\"/>\n       <path id=\"DejaVuSans-63\" d=\"M 3122 3366 \nL 3122 2828 \nQ 2878 2963 2633 3030 \nQ 2388 3097 2138 3097 \nQ 1578 3097 1268 2742 \nQ 959 2388 959 1747 \nQ 959 1106 1268 751 \nQ 1578 397 2138 397 \nQ 2388 397 2633 464 \nQ 2878 531 3122 666 \nL 3122 134 \nQ 2881 22 2623 -34 \nQ 2366 -91 2075 -91 \nQ 1284 -91 818 406 \nQ 353 903 353 1747 \nQ 353 2603 823 3093 \nQ 1294 3584 2113 3584 \nQ 2378 3584 2631 3529 \nQ 2884 3475 3122 3366 \nz\n\" transform=\"scale(0.015625)\"/>\n       <path id=\"DejaVuSans-68\" d=\"M 3513 2113 \nL 3513 0 \nL 2938 0 \nL 2938 2094 \nQ 2938 2591 2744 2837 \nQ 2550 3084 2163 3084 \nQ 1697 3084 1428 2787 \nQ 1159 2491 1159 1978 \nL 1159 0 \nL 581 0 \nL 581 4863 \nL 1159 4863 \nL 1159 2956 \nQ 1366 3272 1645 3428 \nQ 1925 3584 2291 3584 \nQ 2894 3584 3203 3211 \nQ 3513 2838 3513 2113 \nz\n\" transform=\"scale(0.015625)\"/>\n       <path id=\"DejaVuSans-73\" d=\"M 2834 3397 \nL 2834 2853 \nQ 2591 2978 2328 3040 \nQ 2066 3103 1784 3103 \nQ 1356 3103 1142 2972 \nQ 928 2841 928 2578 \nQ 928 2378 1081 2264 \nQ 1234 2150 1697 2047 \nL 1894 2003 \nQ 2506 1872 2764 1633 \nQ 3022 1394 3022 966 \nQ 3022 478 2636 193 \nQ 2250 -91 1575 -91 \nQ 1294 -91 989 -36 \nQ 684 19 347 128 \nL 347 722 \nQ 666 556 975 473 \nQ 1284 391 1588 391 \nQ 1994 391 2212 530 \nQ 2431 669 2431 922 \nQ 2431 1156 2273 1281 \nQ 2116 1406 1581 1522 \nL 1381 1569 \nQ 847 1681 609 1914 \nQ 372 2147 372 2553 \nQ 372 3047 722 3315 \nQ 1072 3584 1716 3584 \nQ 2034 3584 2315 3537 \nQ 2597 3491 2834 3397 \nz\n\" transform=\"scale(0.015625)\"/>\n      </defs>\n      <use xlink:href=\"#DejaVuSans-45\"/>\n      <use xlink:href=\"#DejaVuSans-70\" transform=\"translate(63.183594 0)\"/>\n      <use xlink:href=\"#DejaVuSans-6f\" transform=\"translate(126.660156 0)\"/>\n      <use xlink:href=\"#DejaVuSans-63\" transform=\"translate(187.841797 0)\"/>\n      <use xlink:href=\"#DejaVuSans-68\" transform=\"translate(242.822266 0)\"/>\n      <use xlink:href=\"#DejaVuSans-73\" transform=\"translate(306.201172 0)\"/>\n     </g>\n    </g>\n   </g>\n   <g id=\"matplotlib.axis_2\">\n    <g id=\"ytick_1\">\n     <g id=\"line2d_19\">\n      <path d=\"M 43.78125 221.307313 \nL 348.144886 221.307313 \n\" clip-path=\"url(#p2404b1575e)\" style=\"fill: none; stroke: #b0b0b0; stroke-width: 0.8; stroke-linecap: square\"/>\n     </g>\n     <g id=\"line2d_20\">\n      <defs>\n       <path id=\"m16cce34cd1\" d=\"M 0 0 \nL -3.5 0 \n\" style=\"stroke: #000000; stroke-width: 0.8\"/>\n      </defs>\n      <g>\n       <use xlink:href=\"#m16cce34cd1\" x=\"43.78125\" y=\"221.307313\" style=\"stroke: #000000; stroke-width: 0.8\"/>\n      </g>\n     </g>\n     <g id=\"text_11\">\n      <!-- 0.2 -->\n      <g transform=\"translate(20.878125 225.106531) scale(0.1 -0.1)\">\n       <use xlink:href=\"#DejaVuSans-30\"/>\n       <use xlink:href=\"#DejaVuSans-2e\" transform=\"translate(63.623047 0)\"/>\n       <use xlink:href=\"#DejaVuSans-32\" transform=\"translate(95.410156 0)\"/>\n      </g>\n     </g>\n    </g>\n    <g id=\"ytick_2\">\n     <g id=\"line2d_21\">\n      <path d=\"M 43.78125 190.109233 \nL 348.144886 190.109233 \n\" clip-path=\"url(#p2404b1575e)\" style=\"fill: none; stroke: #b0b0b0; stroke-width: 0.8; stroke-linecap: square\"/>\n     </g>\n     <g id=\"line2d_22\">\n      <g>\n       <use xlink:href=\"#m16cce34cd1\" x=\"43.78125\" y=\"190.109233\" style=\"stroke: #000000; stroke-width: 0.8\"/>\n      </g>\n     </g>\n     <g id=\"text_12\">\n      <!-- 0.3 -->\n      <g transform=\"translate(20.878125 193.908451) scale(0.1 -0.1)\">\n       <use xlink:href=\"#DejaVuSans-30\"/>\n       <use xlink:href=\"#DejaVuSans-2e\" transform=\"translate(63.623047 0)\"/>\n       <use xlink:href=\"#DejaVuSans-33\" transform=\"translate(95.410156 0)\"/>\n      </g>\n     </g>\n    </g>\n    <g id=\"ytick_3\">\n     <g id=\"line2d_23\">\n      <path d=\"M 43.78125 158.911153 \nL 348.144886 158.911153 \n\" clip-path=\"url(#p2404b1575e)\" style=\"fill: none; stroke: #b0b0b0; stroke-width: 0.8; stroke-linecap: square\"/>\n     </g>\n     <g id=\"line2d_24\">\n      <g>\n       <use xlink:href=\"#m16cce34cd1\" x=\"43.78125\" y=\"158.911153\" style=\"stroke: #000000; stroke-width: 0.8\"/>\n      </g>\n     </g>\n     <g id=\"text_13\">\n      <!-- 0.4 -->\n      <g transform=\"translate(20.878125 162.710372) scale(0.1 -0.1)\">\n       <defs>\n        <path id=\"DejaVuSans-34\" d=\"M 2419 4116 \nL 825 1625 \nL 2419 1625 \nL 2419 4116 \nz\nM 2253 4666 \nL 3047 4666 \nL 3047 1625 \nL 3713 1625 \nL 3713 1100 \nL 3047 1100 \nL 3047 0 \nL 2419 0 \nL 2419 1100 \nL 313 1100 \nL 313 1709 \nL 2253 4666 \nz\n\" transform=\"scale(0.015625)\"/>\n       </defs>\n       <use xlink:href=\"#DejaVuSans-30\"/>\n       <use xlink:href=\"#DejaVuSans-2e\" transform=\"translate(63.623047 0)\"/>\n       <use xlink:href=\"#DejaVuSans-34\" transform=\"translate(95.410156 0)\"/>\n      </g>\n     </g>\n    </g>\n    <g id=\"ytick_4\">\n     <g id=\"line2d_25\">\n      <path d=\"M 43.78125 127.713073 \nL 348.144886 127.713073 \n\" clip-path=\"url(#p2404b1575e)\" style=\"fill: none; stroke: #b0b0b0; stroke-width: 0.8; stroke-linecap: square\"/>\n     </g>\n     <g id=\"line2d_26\">\n      <g>\n       <use xlink:href=\"#m16cce34cd1\" x=\"43.78125\" y=\"127.713073\" style=\"stroke: #000000; stroke-width: 0.8\"/>\n      </g>\n     </g>\n     <g id=\"text_14\">\n      <!-- 0.5 -->\n      <g transform=\"translate(20.878125 131.512292) scale(0.1 -0.1)\">\n       <use xlink:href=\"#DejaVuSans-30\"/>\n       <use xlink:href=\"#DejaVuSans-2e\" transform=\"translate(63.623047 0)\"/>\n       <use xlink:href=\"#DejaVuSans-35\" transform=\"translate(95.410156 0)\"/>\n      </g>\n     </g>\n    </g>\n    <g id=\"ytick_5\">\n     <g id=\"line2d_27\">\n      <path d=\"M 43.78125 96.514993 \nL 348.144886 96.514993 \n\" clip-path=\"url(#p2404b1575e)\" style=\"fill: none; stroke: #b0b0b0; stroke-width: 0.8; stroke-linecap: square\"/>\n     </g>\n     <g id=\"line2d_28\">\n      <g>\n       <use xlink:href=\"#m16cce34cd1\" x=\"43.78125\" y=\"96.514993\" style=\"stroke: #000000; stroke-width: 0.8\"/>\n      </g>\n     </g>\n     <g id=\"text_15\">\n      <!-- 0.6 -->\n      <g transform=\"translate(20.878125 100.314212) scale(0.1 -0.1)\">\n       <defs>\n        <path id=\"DejaVuSans-36\" d=\"M 2113 2584 \nQ 1688 2584 1439 2293 \nQ 1191 2003 1191 1497 \nQ 1191 994 1439 701 \nQ 1688 409 2113 409 \nQ 2538 409 2786 701 \nQ 3034 994 3034 1497 \nQ 3034 2003 2786 2293 \nQ 2538 2584 2113 2584 \nz\nM 3366 4563 \nL 3366 3988 \nQ 3128 4100 2886 4159 \nQ 2644 4219 2406 4219 \nQ 1781 4219 1451 3797 \nQ 1122 3375 1075 2522 \nQ 1259 2794 1537 2939 \nQ 1816 3084 2150 3084 \nQ 2853 3084 3261 2657 \nQ 3669 2231 3669 1497 \nQ 3669 778 3244 343 \nQ 2819 -91 2113 -91 \nQ 1303 -91 875 529 \nQ 447 1150 447 2328 \nQ 447 3434 972 4092 \nQ 1497 4750 2381 4750 \nQ 2619 4750 2861 4703 \nQ 3103 4656 3366 4563 \nz\n\" transform=\"scale(0.015625)\"/>\n       </defs>\n       <use xlink:href=\"#DejaVuSans-30\"/>\n       <use xlink:href=\"#DejaVuSans-2e\" transform=\"translate(63.623047 0)\"/>\n       <use xlink:href=\"#DejaVuSans-36\" transform=\"translate(95.410156 0)\"/>\n      </g>\n     </g>\n    </g>\n    <g id=\"ytick_6\">\n     <g id=\"line2d_29\">\n      <path d=\"M 43.78125 65.316913 \nL 348.144886 65.316913 \n\" clip-path=\"url(#p2404b1575e)\" style=\"fill: none; stroke: #b0b0b0; stroke-width: 0.8; stroke-linecap: square\"/>\n     </g>\n     <g id=\"line2d_30\">\n      <g>\n       <use xlink:href=\"#m16cce34cd1\" x=\"43.78125\" y=\"65.316913\" style=\"stroke: #000000; stroke-width: 0.8\"/>\n      </g>\n     </g>\n     <g id=\"text_16\">\n      <!-- 0.7 -->\n      <g transform=\"translate(20.878125 69.116132) scale(0.1 -0.1)\">\n       <use xlink:href=\"#DejaVuSans-30\"/>\n       <use xlink:href=\"#DejaVuSans-2e\" transform=\"translate(63.623047 0)\"/>\n       <use xlink:href=\"#DejaVuSans-37\" transform=\"translate(95.410156 0)\"/>\n      </g>\n     </g>\n    </g>\n    <g id=\"ytick_7\">\n     <g id=\"line2d_31\">\n      <path d=\"M 43.78125 34.118834 \nL 348.144886 34.118834 \n\" clip-path=\"url(#p2404b1575e)\" style=\"fill: none; stroke: #b0b0b0; stroke-width: 0.8; stroke-linecap: square\"/>\n     </g>\n     <g id=\"line2d_32\">\n      <g>\n       <use xlink:href=\"#m16cce34cd1\" x=\"43.78125\" y=\"34.118834\" style=\"stroke: #000000; stroke-width: 0.8\"/>\n      </g>\n     </g>\n     <g id=\"text_17\">\n      <!-- 0.8 -->\n      <g transform=\"translate(20.878125 37.918052) scale(0.1 -0.1)\">\n       <defs>\n        <path id=\"DejaVuSans-38\" d=\"M 2034 2216 \nQ 1584 2216 1326 1975 \nQ 1069 1734 1069 1313 \nQ 1069 891 1326 650 \nQ 1584 409 2034 409 \nQ 2484 409 2743 651 \nQ 3003 894 3003 1313 \nQ 3003 1734 2745 1975 \nQ 2488 2216 2034 2216 \nz\nM 1403 2484 \nQ 997 2584 770 2862 \nQ 544 3141 544 3541 \nQ 544 4100 942 4425 \nQ 1341 4750 2034 4750 \nQ 2731 4750 3128 4425 \nQ 3525 4100 3525 3541 \nQ 3525 3141 3298 2862 \nQ 3072 2584 2669 2484 \nQ 3125 2378 3379 2068 \nQ 3634 1759 3634 1313 \nQ 3634 634 3220 271 \nQ 2806 -91 2034 -91 \nQ 1263 -91 848 271 \nQ 434 634 434 1313 \nQ 434 1759 690 2068 \nQ 947 2378 1403 2484 \nz\nM 1172 3481 \nQ 1172 3119 1398 2916 \nQ 1625 2713 2034 2713 \nQ 2441 2713 2670 2916 \nQ 2900 3119 2900 3481 \nQ 2900 3844 2670 4047 \nQ 2441 4250 2034 4250 \nQ 1625 4250 1398 4047 \nQ 1172 3844 1172 3481 \nz\n\" transform=\"scale(0.015625)\"/>\n       </defs>\n       <use xlink:href=\"#DejaVuSans-30\"/>\n       <use xlink:href=\"#DejaVuSans-2e\" transform=\"translate(63.623047 0)\"/>\n       <use xlink:href=\"#DejaVuSans-38\" transform=\"translate(95.410156 0)\"/>\n      </g>\n     </g>\n    </g>\n    <g id=\"text_18\">\n     <!-- Loss -->\n     <g transform=\"translate(14.798438 144.165312) rotate(-90) scale(0.1 -0.1)\">\n      <defs>\n       <path id=\"DejaVuSans-4c\" d=\"M 628 4666 \nL 1259 4666 \nL 1259 531 \nL 3531 531 \nL 3531 0 \nL 628 0 \nL 628 4666 \nz\n\" transform=\"scale(0.015625)\"/>\n      </defs>\n      <use xlink:href=\"#DejaVuSans-4c\"/>\n      <use xlink:href=\"#DejaVuSans-6f\" transform=\"translate(53.962891 0)\"/>\n      <use xlink:href=\"#DejaVuSans-73\" transform=\"translate(115.144531 0)\"/>\n      <use xlink:href=\"#DejaVuSans-73\" transform=\"translate(167.244141 0)\"/>\n     </g>\n    </g>\n   </g>\n   <g id=\"line2d_33\">\n    <path d=\"M 57.615961 106.653266 \nL 195.963068 171.936497 \nL 334.310176 233.998125 \n\" clip-path=\"url(#p2404b1575e)\" style=\"fill: none; stroke: #1f77b4; stroke-width: 1.5; stroke-linecap: square\"/>\n    <defs>\n     <path id=\"m3dde0348ba\" d=\"M 0 3 \nC 0.795609 3 1.55874 2.683901 2.12132 2.12132 \nC 2.683901 1.55874 3 0.795609 3 0 \nC 3 -0.795609 2.683901 -1.55874 2.12132 -2.12132 \nC 1.55874 -2.683901 0.795609 -3 0 -3 \nC -0.795609 -3 -1.55874 -2.683901 -2.12132 -2.12132 \nC -2.683901 -1.55874 -3 -0.795609 -3 0 \nC -3 0.795609 -2.683901 1.55874 -2.12132 2.12132 \nC -1.55874 2.683901 -0.795609 3 0 3 \nz\n\" style=\"stroke: #1f77b4\"/>\n    </defs>\n    <g clip-path=\"url(#p2404b1575e)\">\n     <use xlink:href=\"#m3dde0348ba\" x=\"57.615961\" y=\"106.653266\" style=\"fill: #1f77b4; stroke: #1f77b4\"/>\n     <use xlink:href=\"#m3dde0348ba\" x=\"195.963068\" y=\"171.936497\" style=\"fill: #1f77b4; stroke: #1f77b4\"/>\n     <use xlink:href=\"#m3dde0348ba\" x=\"334.310176\" y=\"233.998125\" style=\"fill: #1f77b4; stroke: #1f77b4\"/>\n    </g>\n   </g>\n   <g id=\"line2d_34\">\n    <path d=\"M 57.615961 32.398125 \nL 195.963068 51.577559 \nL 334.310176 86.413451 \n\" clip-path=\"url(#p2404b1575e)\" style=\"fill: none; stroke: #ff7f0e; stroke-width: 1.5; stroke-linecap: square\"/>\n    <defs>\n     <path id=\"m541257a44b\" d=\"M 0 3 \nC 0.795609 3 1.55874 2.683901 2.12132 2.12132 \nC 2.683901 1.55874 3 0.795609 3 0 \nC 3 -0.795609 2.683901 -1.55874 2.12132 -2.12132 \nC 1.55874 -2.683901 0.795609 -3 0 -3 \nC -0.795609 -3 -1.55874 -2.683901 -2.12132 -2.12132 \nC -2.683901 -1.55874 -3 -0.795609 -3 0 \nC -3 0.795609 -2.683901 1.55874 -2.12132 2.12132 \nC -1.55874 2.683901 -0.795609 3 0 3 \nz\n\" style=\"stroke: #ff7f0e\"/>\n    </defs>\n    <g clip-path=\"url(#p2404b1575e)\">\n     <use xlink:href=\"#m541257a44b\" x=\"57.615961\" y=\"32.398125\" style=\"fill: #ff7f0e; stroke: #ff7f0e\"/>\n     <use xlink:href=\"#m541257a44b\" x=\"195.963068\" y=\"51.577559\" style=\"fill: #ff7f0e; stroke: #ff7f0e\"/>\n     <use xlink:href=\"#m541257a44b\" x=\"334.310176\" y=\"86.413451\" style=\"fill: #ff7f0e; stroke: #ff7f0e\"/>\n    </g>\n   </g>\n   <g id=\"patch_3\">\n    <path d=\"M 43.78125 244.078125 \nL 43.78125 22.318125 \n\" style=\"fill: none; stroke: #000000; stroke-width: 0.8; stroke-linejoin: miter; stroke-linecap: square\"/>\n   </g>\n   <g id=\"patch_4\">\n    <path d=\"M 348.144886 244.078125 \nL 348.144886 22.318125 \n\" style=\"fill: none; stroke: #000000; stroke-width: 0.8; stroke-linejoin: miter; stroke-linecap: square\"/>\n   </g>\n   <g id=\"patch_5\">\n    <path d=\"M 43.78125 244.078125 \nL 348.144886 244.078125 \n\" style=\"fill: none; stroke: #000000; stroke-width: 0.8; stroke-linejoin: miter; stroke-linecap: square\"/>\n   </g>\n   <g id=\"patch_6\">\n    <path d=\"M 43.78125 22.318125 \nL 348.144886 22.318125 \n\" style=\"fill: none; stroke: #000000; stroke-width: 0.8; stroke-linejoin: miter; stroke-linecap: square\"/>\n   </g>\n   <g id=\"text_19\">\n    <!-- Training vs Validation Loss -->\n    <g transform=\"translate(117.105256 16.318125) scale(0.12 -0.12)\">\n     <defs>\n      <path id=\"DejaVuSans-54\" d=\"M -19 4666 \nL 3928 4666 \nL 3928 4134 \nL 2272 4134 \nL 2272 0 \nL 1638 0 \nL 1638 4134 \nL -19 4134 \nL -19 4666 \nz\n\" transform=\"scale(0.015625)\"/>\n      <path id=\"DejaVuSans-72\" d=\"M 2631 2963 \nQ 2534 3019 2420 3045 \nQ 2306 3072 2169 3072 \nQ 1681 3072 1420 2755 \nQ 1159 2438 1159 1844 \nL 1159 0 \nL 581 0 \nL 581 3500 \nL 1159 3500 \nL 1159 2956 \nQ 1341 3275 1631 3429 \nQ 1922 3584 2338 3584 \nQ 2397 3584 2469 3576 \nQ 2541 3569 2628 3553 \nL 2631 2963 \nz\n\" transform=\"scale(0.015625)\"/>\n      <path id=\"DejaVuSans-61\" d=\"M 2194 1759 \nQ 1497 1759 1228 1600 \nQ 959 1441 959 1056 \nQ 959 750 1161 570 \nQ 1363 391 1709 391 \nQ 2188 391 2477 730 \nQ 2766 1069 2766 1631 \nL 2766 1759 \nL 2194 1759 \nz\nM 3341 1997 \nL 3341 0 \nL 2766 0 \nL 2766 531 \nQ 2569 213 2275 61 \nQ 1981 -91 1556 -91 \nQ 1019 -91 701 211 \nQ 384 513 384 1019 \nQ 384 1609 779 1909 \nQ 1175 2209 1959 2209 \nL 2766 2209 \nL 2766 2266 \nQ 2766 2663 2505 2880 \nQ 2244 3097 1772 3097 \nQ 1472 3097 1187 3025 \nQ 903 2953 641 2809 \nL 641 3341 \nQ 956 3463 1253 3523 \nQ 1550 3584 1831 3584 \nQ 2591 3584 2966 3190 \nQ 3341 2797 3341 1997 \nz\n\" transform=\"scale(0.015625)\"/>\n      <path id=\"DejaVuSans-69\" d=\"M 603 3500 \nL 1178 3500 \nL 1178 0 \nL 603 0 \nL 603 3500 \nz\nM 603 4863 \nL 1178 4863 \nL 1178 4134 \nL 603 4134 \nL 603 4863 \nz\n\" transform=\"scale(0.015625)\"/>\n      <path id=\"DejaVuSans-6e\" d=\"M 3513 2113 \nL 3513 0 \nL 2938 0 \nL 2938 2094 \nQ 2938 2591 2744 2837 \nQ 2550 3084 2163 3084 \nQ 1697 3084 1428 2787 \nQ 1159 2491 1159 1978 \nL 1159 0 \nL 581 0 \nL 581 3500 \nL 1159 3500 \nL 1159 2956 \nQ 1366 3272 1645 3428 \nQ 1925 3584 2291 3584 \nQ 2894 3584 3203 3211 \nQ 3513 2838 3513 2113 \nz\n\" transform=\"scale(0.015625)\"/>\n      <path id=\"DejaVuSans-67\" d=\"M 2906 1791 \nQ 2906 2416 2648 2759 \nQ 2391 3103 1925 3103 \nQ 1463 3103 1205 2759 \nQ 947 2416 947 1791 \nQ 947 1169 1205 825 \nQ 1463 481 1925 481 \nQ 2391 481 2648 825 \nQ 2906 1169 2906 1791 \nz\nM 3481 434 \nQ 3481 -459 3084 -895 \nQ 2688 -1331 1869 -1331 \nQ 1566 -1331 1297 -1286 \nQ 1028 -1241 775 -1147 \nL 775 -588 \nQ 1028 -725 1275 -790 \nQ 1522 -856 1778 -856 \nQ 2344 -856 2625 -561 \nQ 2906 -266 2906 331 \nL 2906 616 \nQ 2728 306 2450 153 \nQ 2172 0 1784 0 \nQ 1141 0 747 490 \nQ 353 981 353 1791 \nQ 353 2603 747 3093 \nQ 1141 3584 1784 3584 \nQ 2172 3584 2450 3431 \nQ 2728 3278 2906 2969 \nL 2906 3500 \nL 3481 3500 \nL 3481 434 \nz\n\" transform=\"scale(0.015625)\"/>\n      <path id=\"DejaVuSans-20\" transform=\"scale(0.015625)\"/>\n      <path id=\"DejaVuSans-76\" d=\"M 191 3500 \nL 800 3500 \nL 1894 563 \nL 2988 3500 \nL 3597 3500 \nL 2284 0 \nL 1503 0 \nL 191 3500 \nz\n\" transform=\"scale(0.015625)\"/>\n      <path id=\"DejaVuSans-56\" d=\"M 1831 0 \nL 50 4666 \nL 709 4666 \nL 2188 738 \nL 3669 4666 \nL 4325 4666 \nL 2547 0 \nL 1831 0 \nz\n\" transform=\"scale(0.015625)\"/>\n      <path id=\"DejaVuSans-6c\" d=\"M 603 4863 \nL 1178 4863 \nL 1178 0 \nL 603 0 \nL 603 4863 \nz\n\" transform=\"scale(0.015625)\"/>\n      <path id=\"DejaVuSans-64\" d=\"M 2906 2969 \nL 2906 4863 \nL 3481 4863 \nL 3481 0 \nL 2906 0 \nL 2906 525 \nQ 2725 213 2448 61 \nQ 2172 -91 1784 -91 \nQ 1150 -91 751 415 \nQ 353 922 353 1747 \nQ 353 2572 751 3078 \nQ 1150 3584 1784 3584 \nQ 2172 3584 2448 3432 \nQ 2725 3281 2906 2969 \nz\nM 947 1747 \nQ 947 1113 1208 752 \nQ 1469 391 1925 391 \nQ 2381 391 2643 752 \nQ 2906 1113 2906 1747 \nQ 2906 2381 2643 2742 \nQ 2381 3103 1925 3103 \nQ 1469 3103 1208 2742 \nQ 947 2381 947 1747 \nz\n\" transform=\"scale(0.015625)\"/>\n      <path id=\"DejaVuSans-74\" d=\"M 1172 4494 \nL 1172 3500 \nL 2356 3500 \nL 2356 3053 \nL 1172 3053 \nL 1172 1153 \nQ 1172 725 1289 603 \nQ 1406 481 1766 481 \nL 2356 481 \nL 2356 0 \nL 1766 0 \nQ 1100 0 847 248 \nQ 594 497 594 1153 \nL 594 3053 \nL 172 3053 \nL 172 3500 \nL 594 3500 \nL 594 4494 \nL 1172 4494 \nz\n\" transform=\"scale(0.015625)\"/>\n     </defs>\n     <use xlink:href=\"#DejaVuSans-54\"/>\n     <use xlink:href=\"#DejaVuSans-72\" transform=\"translate(46.333984 0)\"/>\n     <use xlink:href=\"#DejaVuSans-61\" transform=\"translate(87.447266 0)\"/>\n     <use xlink:href=\"#DejaVuSans-69\" transform=\"translate(148.726562 0)\"/>\n     <use xlink:href=\"#DejaVuSans-6e\" transform=\"translate(176.509766 0)\"/>\n     <use xlink:href=\"#DejaVuSans-69\" transform=\"translate(239.888672 0)\"/>\n     <use xlink:href=\"#DejaVuSans-6e\" transform=\"translate(267.671875 0)\"/>\n     <use xlink:href=\"#DejaVuSans-67\" transform=\"translate(331.050781 0)\"/>\n     <use xlink:href=\"#DejaVuSans-20\" transform=\"translate(394.527344 0)\"/>\n     <use xlink:href=\"#DejaVuSans-76\" transform=\"translate(426.314453 0)\"/>\n     <use xlink:href=\"#DejaVuSans-73\" transform=\"translate(485.494141 0)\"/>\n     <use xlink:href=\"#DejaVuSans-20\" transform=\"translate(537.59375 0)\"/>\n     <use xlink:href=\"#DejaVuSans-56\" transform=\"translate(569.380859 0)\"/>\n     <use xlink:href=\"#DejaVuSans-61\" transform=\"translate(630.039062 0)\"/>\n     <use xlink:href=\"#DejaVuSans-6c\" transform=\"translate(691.318359 0)\"/>\n     <use xlink:href=\"#DejaVuSans-69\" transform=\"translate(719.101562 0)\"/>\n     <use xlink:href=\"#DejaVuSans-64\" transform=\"translate(746.884766 0)\"/>\n     <use xlink:href=\"#DejaVuSans-61\" transform=\"translate(810.361328 0)\"/>\n     <use xlink:href=\"#DejaVuSans-74\" transform=\"translate(871.640625 0)\"/>\n     <use xlink:href=\"#DejaVuSans-69\" transform=\"translate(910.849609 0)\"/>\n     <use xlink:href=\"#DejaVuSans-6f\" transform=\"translate(938.632812 0)\"/>\n     <use xlink:href=\"#DejaVuSans-6e\" transform=\"translate(999.814453 0)\"/>\n     <use xlink:href=\"#DejaVuSans-20\" transform=\"translate(1063.193359 0)\"/>\n     <use xlink:href=\"#DejaVuSans-4c\" transform=\"translate(1094.980469 0)\"/>\n     <use xlink:href=\"#DejaVuSans-6f\" transform=\"translate(1148.943359 0)\"/>\n     <use xlink:href=\"#DejaVuSans-73\" transform=\"translate(1210.125 0)\"/>\n     <use xlink:href=\"#DejaVuSans-73\" transform=\"translate(1262.224609 0)\"/>\n    </g>\n   </g>\n   <g id=\"legend_1\">\n    <g id=\"patch_7\">\n     <path d=\"M 234.651136 59.674375 \nL 341.144886 59.674375 \nQ 343.144886 59.674375 343.144886 57.674375 \nL 343.144886 29.318125 \nQ 343.144886 27.318125 341.144886 27.318125 \nL 234.651136 27.318125 \nQ 232.651136 27.318125 232.651136 29.318125 \nL 232.651136 57.674375 \nQ 232.651136 59.674375 234.651136 59.674375 \nz\n\" style=\"fill: #ffffff; opacity: 0.8; stroke: #cccccc; stroke-linejoin: miter\"/>\n    </g>\n    <g id=\"line2d_35\">\n     <path d=\"M 236.651136 35.416562 \nL 246.651136 35.416562 \nL 256.651136 35.416562 \n\" style=\"fill: none; stroke: #1f77b4; stroke-width: 1.5; stroke-linecap: square\"/>\n     <g>\n      <use xlink:href=\"#m3dde0348ba\" x=\"246.651136\" y=\"35.416562\" style=\"fill: #1f77b4; stroke: #1f77b4\"/>\n     </g>\n    </g>\n    <g id=\"text_20\">\n     <!-- Train Loss -->\n     <g transform=\"translate(264.651136 38.916562) scale(0.1 -0.1)\">\n      <use xlink:href=\"#DejaVuSans-54\"/>\n      <use xlink:href=\"#DejaVuSans-72\" transform=\"translate(46.333984 0)\"/>\n      <use xlink:href=\"#DejaVuSans-61\" transform=\"translate(87.447266 0)\"/>\n      <use xlink:href=\"#DejaVuSans-69\" transform=\"translate(148.726562 0)\"/>\n      <use xlink:href=\"#DejaVuSans-6e\" transform=\"translate(176.509766 0)\"/>\n      <use xlink:href=\"#DejaVuSans-20\" transform=\"translate(239.888672 0)\"/>\n      <use xlink:href=\"#DejaVuSans-4c\" transform=\"translate(271.675781 0)\"/>\n      <use xlink:href=\"#DejaVuSans-6f\" transform=\"translate(325.638672 0)\"/>\n      <use xlink:href=\"#DejaVuSans-73\" transform=\"translate(386.820312 0)\"/>\n      <use xlink:href=\"#DejaVuSans-73\" transform=\"translate(438.919922 0)\"/>\n     </g>\n    </g>\n    <g id=\"line2d_36\">\n     <path d=\"M 236.651136 50.094687 \nL 246.651136 50.094687 \nL 256.651136 50.094687 \n\" style=\"fill: none; stroke: #ff7f0e; stroke-width: 1.5; stroke-linecap: square\"/>\n     <g>\n      <use xlink:href=\"#m541257a44b\" x=\"246.651136\" y=\"50.094687\" style=\"fill: #ff7f0e; stroke: #ff7f0e\"/>\n     </g>\n    </g>\n    <g id=\"text_21\">\n     <!-- Validation Loss -->\n     <g transform=\"translate(264.651136 53.594687) scale(0.1 -0.1)\">\n      <use xlink:href=\"#DejaVuSans-56\"/>\n      <use xlink:href=\"#DejaVuSans-61\" transform=\"translate(60.658203 0)\"/>\n      <use xlink:href=\"#DejaVuSans-6c\" transform=\"translate(121.9375 0)\"/>\n      <use xlink:href=\"#DejaVuSans-69\" transform=\"translate(149.720703 0)\"/>\n      <use xlink:href=\"#DejaVuSans-64\" transform=\"translate(177.503906 0)\"/>\n      <use xlink:href=\"#DejaVuSans-61\" transform=\"translate(240.980469 0)\"/>\n      <use xlink:href=\"#DejaVuSans-74\" transform=\"translate(302.259766 0)\"/>\n      <use xlink:href=\"#DejaVuSans-69\" transform=\"translate(341.46875 0)\"/>\n      <use xlink:href=\"#DejaVuSans-6f\" transform=\"translate(369.251953 0)\"/>\n      <use xlink:href=\"#DejaVuSans-6e\" transform=\"translate(430.433594 0)\"/>\n      <use xlink:href=\"#DejaVuSans-20\" transform=\"translate(493.8125 0)\"/>\n      <use xlink:href=\"#DejaVuSans-4c\" transform=\"translate(525.599609 0)\"/>\n      <use xlink:href=\"#DejaVuSans-6f\" transform=\"translate(579.5625 0)\"/>\n      <use xlink:href=\"#DejaVuSans-73\" transform=\"translate(640.744141 0)\"/>\n      <use xlink:href=\"#DejaVuSans-73\" transform=\"translate(692.84375 0)\"/>\n     </g>\n    </g>\n   </g>\n  </g>\n  <g id=\"axes_2\">\n   <g id=\"patch_8\">\n    <path d=\"M 409.017614 244.078125 \nL 713.38125 244.078125 \nL 713.38125 22.318125 \nL 409.017614 22.318125 \nz\n\" style=\"fill: #ffffff\"/>\n   </g>\n   <g id=\"matplotlib.axis_3\">\n    <g id=\"xtick_10\">\n     <g id=\"line2d_37\">\n      <path d=\"M 422.852324 244.078125 \nL 422.852324 22.318125 \n\" clip-path=\"url(#p6effcb413c)\" style=\"fill: none; stroke: #b0b0b0; stroke-width: 0.8; stroke-linecap: square\"/>\n     </g>\n     <g id=\"line2d_38\">\n      <g>\n       <use xlink:href=\"#ma2e39de365\" x=\"422.852324\" y=\"244.078125\" style=\"stroke: #000000; stroke-width: 0.8\"/>\n      </g>\n     </g>\n     <g id=\"text_22\">\n      <!-- 1.00 -->\n      <g transform=\"translate(411.719512 258.676562) scale(0.1 -0.1)\">\n       <use xlink:href=\"#DejaVuSans-31\"/>\n       <use xlink:href=\"#DejaVuSans-2e\" transform=\"translate(63.623047 0)\"/>\n       <use xlink:href=\"#DejaVuSans-30\" transform=\"translate(95.410156 0)\"/>\n       <use xlink:href=\"#DejaVuSans-30\" transform=\"translate(159.033203 0)\"/>\n      </g>\n     </g>\n    </g>\n    <g id=\"xtick_11\">\n     <g id=\"line2d_39\">\n      <path d=\"M 457.439101 244.078125 \nL 457.439101 22.318125 \n\" clip-path=\"url(#p6effcb413c)\" style=\"fill: none; stroke: #b0b0b0; stroke-width: 0.8; stroke-linecap: square\"/>\n     </g>\n     <g id=\"line2d_40\">\n      <g>\n       <use xlink:href=\"#ma2e39de365\" x=\"457.439101\" y=\"244.078125\" style=\"stroke: #000000; stroke-width: 0.8\"/>\n      </g>\n     </g>\n     <g id=\"text_23\">\n      <!-- 1.25 -->\n      <g transform=\"translate(446.306289 258.676562) scale(0.1 -0.1)\">\n       <use xlink:href=\"#DejaVuSans-31\"/>\n       <use xlink:href=\"#DejaVuSans-2e\" transform=\"translate(63.623047 0)\"/>\n       <use xlink:href=\"#DejaVuSans-32\" transform=\"translate(95.410156 0)\"/>\n       <use xlink:href=\"#DejaVuSans-35\" transform=\"translate(159.033203 0)\"/>\n      </g>\n     </g>\n    </g>\n    <g id=\"xtick_12\">\n     <g id=\"line2d_41\">\n      <path d=\"M 492.025878 244.078125 \nL 492.025878 22.318125 \n\" clip-path=\"url(#p6effcb413c)\" style=\"fill: none; stroke: #b0b0b0; stroke-width: 0.8; stroke-linecap: square\"/>\n     </g>\n     <g id=\"line2d_42\">\n      <g>\n       <use xlink:href=\"#ma2e39de365\" x=\"492.025878\" y=\"244.078125\" style=\"stroke: #000000; stroke-width: 0.8\"/>\n      </g>\n     </g>\n     <g id=\"text_24\">\n      <!-- 1.50 -->\n      <g transform=\"translate(480.893066 258.676562) scale(0.1 -0.1)\">\n       <use xlink:href=\"#DejaVuSans-31\"/>\n       <use xlink:href=\"#DejaVuSans-2e\" transform=\"translate(63.623047 0)\"/>\n       <use xlink:href=\"#DejaVuSans-35\" transform=\"translate(95.410156 0)\"/>\n       <use xlink:href=\"#DejaVuSans-30\" transform=\"translate(159.033203 0)\"/>\n      </g>\n     </g>\n    </g>\n    <g id=\"xtick_13\">\n     <g id=\"line2d_43\">\n      <path d=\"M 526.612655 244.078125 \nL 526.612655 22.318125 \n\" clip-path=\"url(#p6effcb413c)\" style=\"fill: none; stroke: #b0b0b0; stroke-width: 0.8; stroke-linecap: square\"/>\n     </g>\n     <g id=\"line2d_44\">\n      <g>\n       <use xlink:href=\"#ma2e39de365\" x=\"526.612655\" y=\"244.078125\" style=\"stroke: #000000; stroke-width: 0.8\"/>\n      </g>\n     </g>\n     <g id=\"text_25\">\n      <!-- 1.75 -->\n      <g transform=\"translate(515.479842 258.676562) scale(0.1 -0.1)\">\n       <use xlink:href=\"#DejaVuSans-31\"/>\n       <use xlink:href=\"#DejaVuSans-2e\" transform=\"translate(63.623047 0)\"/>\n       <use xlink:href=\"#DejaVuSans-37\" transform=\"translate(95.410156 0)\"/>\n       <use xlink:href=\"#DejaVuSans-35\" transform=\"translate(159.033203 0)\"/>\n      </g>\n     </g>\n    </g>\n    <g id=\"xtick_14\">\n     <g id=\"line2d_45\">\n      <path d=\"M 561.199432 244.078125 \nL 561.199432 22.318125 \n\" clip-path=\"url(#p6effcb413c)\" style=\"fill: none; stroke: #b0b0b0; stroke-width: 0.8; stroke-linecap: square\"/>\n     </g>\n     <g id=\"line2d_46\">\n      <g>\n       <use xlink:href=\"#ma2e39de365\" x=\"561.199432\" y=\"244.078125\" style=\"stroke: #000000; stroke-width: 0.8\"/>\n      </g>\n     </g>\n     <g id=\"text_26\">\n      <!-- 2.00 -->\n      <g transform=\"translate(550.066619 258.676562) scale(0.1 -0.1)\">\n       <use xlink:href=\"#DejaVuSans-32\"/>\n       <use xlink:href=\"#DejaVuSans-2e\" transform=\"translate(63.623047 0)\"/>\n       <use xlink:href=\"#DejaVuSans-30\" transform=\"translate(95.410156 0)\"/>\n       <use xlink:href=\"#DejaVuSans-30\" transform=\"translate(159.033203 0)\"/>\n      </g>\n     </g>\n    </g>\n    <g id=\"xtick_15\">\n     <g id=\"line2d_47\">\n      <path d=\"M 595.786209 244.078125 \nL 595.786209 22.318125 \n\" clip-path=\"url(#p6effcb413c)\" style=\"fill: none; stroke: #b0b0b0; stroke-width: 0.8; stroke-linecap: square\"/>\n     </g>\n     <g id=\"line2d_48\">\n      <g>\n       <use xlink:href=\"#ma2e39de365\" x=\"595.786209\" y=\"244.078125\" style=\"stroke: #000000; stroke-width: 0.8\"/>\n      </g>\n     </g>\n     <g id=\"text_27\">\n      <!-- 2.25 -->\n      <g transform=\"translate(584.653396 258.676562) scale(0.1 -0.1)\">\n       <use xlink:href=\"#DejaVuSans-32\"/>\n       <use xlink:href=\"#DejaVuSans-2e\" transform=\"translate(63.623047 0)\"/>\n       <use xlink:href=\"#DejaVuSans-32\" transform=\"translate(95.410156 0)\"/>\n       <use xlink:href=\"#DejaVuSans-35\" transform=\"translate(159.033203 0)\"/>\n      </g>\n     </g>\n    </g>\n    <g id=\"xtick_16\">\n     <g id=\"line2d_49\">\n      <path d=\"M 630.372986 244.078125 \nL 630.372986 22.318125 \n\" clip-path=\"url(#p6effcb413c)\" style=\"fill: none; stroke: #b0b0b0; stroke-width: 0.8; stroke-linecap: square\"/>\n     </g>\n     <g id=\"line2d_50\">\n      <g>\n       <use xlink:href=\"#ma2e39de365\" x=\"630.372986\" y=\"244.078125\" style=\"stroke: #000000; stroke-width: 0.8\"/>\n      </g>\n     </g>\n     <g id=\"text_28\">\n      <!-- 2.50 -->\n      <g transform=\"translate(619.240173 258.676562) scale(0.1 -0.1)\">\n       <use xlink:href=\"#DejaVuSans-32\"/>\n       <use xlink:href=\"#DejaVuSans-2e\" transform=\"translate(63.623047 0)\"/>\n       <use xlink:href=\"#DejaVuSans-35\" transform=\"translate(95.410156 0)\"/>\n       <use xlink:href=\"#DejaVuSans-30\" transform=\"translate(159.033203 0)\"/>\n      </g>\n     </g>\n    </g>\n    <g id=\"xtick_17\">\n     <g id=\"line2d_51\">\n      <path d=\"M 664.959762 244.078125 \nL 664.959762 22.318125 \n\" clip-path=\"url(#p6effcb413c)\" style=\"fill: none; stroke: #b0b0b0; stroke-width: 0.8; stroke-linecap: square\"/>\n     </g>\n     <g id=\"line2d_52\">\n      <g>\n       <use xlink:href=\"#ma2e39de365\" x=\"664.959762\" y=\"244.078125\" style=\"stroke: #000000; stroke-width: 0.8\"/>\n      </g>\n     </g>\n     <g id=\"text_29\">\n      <!-- 2.75 -->\n      <g transform=\"translate(653.82695 258.676562) scale(0.1 -0.1)\">\n       <use xlink:href=\"#DejaVuSans-32\"/>\n       <use xlink:href=\"#DejaVuSans-2e\" transform=\"translate(63.623047 0)\"/>\n       <use xlink:href=\"#DejaVuSans-37\" transform=\"translate(95.410156 0)\"/>\n       <use xlink:href=\"#DejaVuSans-35\" transform=\"translate(159.033203 0)\"/>\n      </g>\n     </g>\n    </g>\n    <g id=\"xtick_18\">\n     <g id=\"line2d_53\">\n      <path d=\"M 699.546539 244.078125 \nL 699.546539 22.318125 \n\" clip-path=\"url(#p6effcb413c)\" style=\"fill: none; stroke: #b0b0b0; stroke-width: 0.8; stroke-linecap: square\"/>\n     </g>\n     <g id=\"line2d_54\">\n      <g>\n       <use xlink:href=\"#ma2e39de365\" x=\"699.546539\" y=\"244.078125\" style=\"stroke: #000000; stroke-width: 0.8\"/>\n      </g>\n     </g>\n     <g id=\"text_30\">\n      <!-- 3.00 -->\n      <g transform=\"translate(688.413727 258.676562) scale(0.1 -0.1)\">\n       <use xlink:href=\"#DejaVuSans-33\"/>\n       <use xlink:href=\"#DejaVuSans-2e\" transform=\"translate(63.623047 0)\"/>\n       <use xlink:href=\"#DejaVuSans-30\" transform=\"translate(95.410156 0)\"/>\n       <use xlink:href=\"#DejaVuSans-30\" transform=\"translate(159.033203 0)\"/>\n      </g>\n     </g>\n    </g>\n    <g id=\"text_31\">\n     <!-- Epochs -->\n     <g transform=\"translate(543.283807 272.354687) scale(0.1 -0.1)\">\n      <use xlink:href=\"#DejaVuSans-45\"/>\n      <use xlink:href=\"#DejaVuSans-70\" transform=\"translate(63.183594 0)\"/>\n      <use xlink:href=\"#DejaVuSans-6f\" transform=\"translate(126.660156 0)\"/>\n      <use xlink:href=\"#DejaVuSans-63\" transform=\"translate(187.841797 0)\"/>\n      <use xlink:href=\"#DejaVuSans-68\" transform=\"translate(242.822266 0)\"/>\n      <use xlink:href=\"#DejaVuSans-73\" transform=\"translate(306.201172 0)\"/>\n     </g>\n    </g>\n   </g>\n   <g id=\"matplotlib.axis_4\">\n    <g id=\"ytick_8\">\n     <g id=\"line2d_55\">\n      <path d=\"M 409.017614 241.751971 \nL 713.38125 241.751971 \n\" clip-path=\"url(#p6effcb413c)\" style=\"fill: none; stroke: #b0b0b0; stroke-width: 0.8; stroke-linecap: square\"/>\n     </g>\n     <g id=\"line2d_56\">\n      <g>\n       <use xlink:href=\"#m16cce34cd1\" x=\"409.017614\" y=\"241.751971\" style=\"stroke: #000000; stroke-width: 0.8\"/>\n      </g>\n     </g>\n     <g id=\"text_32\">\n      <!-- 0.80 -->\n      <g transform=\"translate(379.751989 245.55119) scale(0.1 -0.1)\">\n       <use xlink:href=\"#DejaVuSans-30\"/>\n       <use xlink:href=\"#DejaVuSans-2e\" transform=\"translate(63.623047 0)\"/>\n       <use xlink:href=\"#DejaVuSans-38\" transform=\"translate(95.410156 0)\"/>\n       <use xlink:href=\"#DejaVuSans-30\" transform=\"translate(159.033203 0)\"/>\n      </g>\n     </g>\n    </g>\n    <g id=\"ytick_9\">\n     <g id=\"line2d_57\">\n      <path d=\"M 409.017614 210.736587 \nL 713.38125 210.736587 \n\" clip-path=\"url(#p6effcb413c)\" style=\"fill: none; stroke: #b0b0b0; stroke-width: 0.8; stroke-linecap: square\"/>\n     </g>\n     <g id=\"line2d_58\">\n      <g>\n       <use xlink:href=\"#m16cce34cd1\" x=\"409.017614\" y=\"210.736587\" style=\"stroke: #000000; stroke-width: 0.8\"/>\n      </g>\n     </g>\n     <g id=\"text_33\">\n      <!-- 0.81 -->\n      <g transform=\"translate(379.751989 214.535805) scale(0.1 -0.1)\">\n       <use xlink:href=\"#DejaVuSans-30\"/>\n       <use xlink:href=\"#DejaVuSans-2e\" transform=\"translate(63.623047 0)\"/>\n       <use xlink:href=\"#DejaVuSans-38\" transform=\"translate(95.410156 0)\"/>\n       <use xlink:href=\"#DejaVuSans-31\" transform=\"translate(159.033203 0)\"/>\n      </g>\n     </g>\n    </g>\n    <g id=\"ytick_10\">\n     <g id=\"line2d_59\">\n      <path d=\"M 409.017614 179.721202 \nL 713.38125 179.721202 \n\" clip-path=\"url(#p6effcb413c)\" style=\"fill: none; stroke: #b0b0b0; stroke-width: 0.8; stroke-linecap: square\"/>\n     </g>\n     <g id=\"line2d_60\">\n      <g>\n       <use xlink:href=\"#m16cce34cd1\" x=\"409.017614\" y=\"179.721202\" style=\"stroke: #000000; stroke-width: 0.8\"/>\n      </g>\n     </g>\n     <g id=\"text_34\">\n      <!-- 0.82 -->\n      <g transform=\"translate(379.751989 183.520421) scale(0.1 -0.1)\">\n       <use xlink:href=\"#DejaVuSans-30\"/>\n       <use xlink:href=\"#DejaVuSans-2e\" transform=\"translate(63.623047 0)\"/>\n       <use xlink:href=\"#DejaVuSans-38\" transform=\"translate(95.410156 0)\"/>\n       <use xlink:href=\"#DejaVuSans-32\" transform=\"translate(159.033203 0)\"/>\n      </g>\n     </g>\n    </g>\n    <g id=\"ytick_11\">\n     <g id=\"line2d_61\">\n      <path d=\"M 409.017614 148.705817 \nL 713.38125 148.705817 \n\" clip-path=\"url(#p6effcb413c)\" style=\"fill: none; stroke: #b0b0b0; stroke-width: 0.8; stroke-linecap: square\"/>\n     </g>\n     <g id=\"line2d_62\">\n      <g>\n       <use xlink:href=\"#m16cce34cd1\" x=\"409.017614\" y=\"148.705817\" style=\"stroke: #000000; stroke-width: 0.8\"/>\n      </g>\n     </g>\n     <g id=\"text_35\">\n      <!-- 0.83 -->\n      <g transform=\"translate(379.751989 152.505036) scale(0.1 -0.1)\">\n       <use xlink:href=\"#DejaVuSans-30\"/>\n       <use xlink:href=\"#DejaVuSans-2e\" transform=\"translate(63.623047 0)\"/>\n       <use xlink:href=\"#DejaVuSans-38\" transform=\"translate(95.410156 0)\"/>\n       <use xlink:href=\"#DejaVuSans-33\" transform=\"translate(159.033203 0)\"/>\n      </g>\n     </g>\n    </g>\n    <g id=\"ytick_12\">\n     <g id=\"line2d_63\">\n      <path d=\"M 409.017614 117.690433 \nL 713.38125 117.690433 \n\" clip-path=\"url(#p6effcb413c)\" style=\"fill: none; stroke: #b0b0b0; stroke-width: 0.8; stroke-linecap: square\"/>\n     </g>\n     <g id=\"line2d_64\">\n      <g>\n       <use xlink:href=\"#m16cce34cd1\" x=\"409.017614\" y=\"117.690433\" style=\"stroke: #000000; stroke-width: 0.8\"/>\n      </g>\n     </g>\n     <g id=\"text_36\">\n      <!-- 0.84 -->\n      <g transform=\"translate(379.751989 121.489651) scale(0.1 -0.1)\">\n       <use xlink:href=\"#DejaVuSans-30\"/>\n       <use xlink:href=\"#DejaVuSans-2e\" transform=\"translate(63.623047 0)\"/>\n       <use xlink:href=\"#DejaVuSans-38\" transform=\"translate(95.410156 0)\"/>\n       <use xlink:href=\"#DejaVuSans-34\" transform=\"translate(159.033203 0)\"/>\n      </g>\n     </g>\n    </g>\n    <g id=\"ytick_13\">\n     <g id=\"line2d_65\">\n      <path d=\"M 409.017614 86.675048 \nL 713.38125 86.675048 \n\" clip-path=\"url(#p6effcb413c)\" style=\"fill: none; stroke: #b0b0b0; stroke-width: 0.8; stroke-linecap: square\"/>\n     </g>\n     <g id=\"line2d_66\">\n      <g>\n       <use xlink:href=\"#m16cce34cd1\" x=\"409.017614\" y=\"86.675048\" style=\"stroke: #000000; stroke-width: 0.8\"/>\n      </g>\n     </g>\n     <g id=\"text_37\">\n      <!-- 0.85 -->\n      <g transform=\"translate(379.751989 90.474267) scale(0.1 -0.1)\">\n       <use xlink:href=\"#DejaVuSans-30\"/>\n       <use xlink:href=\"#DejaVuSans-2e\" transform=\"translate(63.623047 0)\"/>\n       <use xlink:href=\"#DejaVuSans-38\" transform=\"translate(95.410156 0)\"/>\n       <use xlink:href=\"#DejaVuSans-35\" transform=\"translate(159.033203 0)\"/>\n      </g>\n     </g>\n    </g>\n    <g id=\"ytick_14\">\n     <g id=\"line2d_67\">\n      <path d=\"M 409.017614 55.659663 \nL 713.38125 55.659663 \n\" clip-path=\"url(#p6effcb413c)\" style=\"fill: none; stroke: #b0b0b0; stroke-width: 0.8; stroke-linecap: square\"/>\n     </g>\n     <g id=\"line2d_68\">\n      <g>\n       <use xlink:href=\"#m16cce34cd1\" x=\"409.017614\" y=\"55.659663\" style=\"stroke: #000000; stroke-width: 0.8\"/>\n      </g>\n     </g>\n     <g id=\"text_38\">\n      <!-- 0.86 -->\n      <g transform=\"translate(379.751989 59.458882) scale(0.1 -0.1)\">\n       <use xlink:href=\"#DejaVuSans-30\"/>\n       <use xlink:href=\"#DejaVuSans-2e\" transform=\"translate(63.623047 0)\"/>\n       <use xlink:href=\"#DejaVuSans-38\" transform=\"translate(95.410156 0)\"/>\n       <use xlink:href=\"#DejaVuSans-36\" transform=\"translate(159.033203 0)\"/>\n      </g>\n     </g>\n    </g>\n    <g id=\"ytick_15\">\n     <g id=\"line2d_69\">\n      <path d=\"M 409.017614 24.644279 \nL 713.38125 24.644279 \n\" clip-path=\"url(#p6effcb413c)\" style=\"fill: none; stroke: #b0b0b0; stroke-width: 0.8; stroke-linecap: square\"/>\n     </g>\n     <g id=\"line2d_70\">\n      <g>\n       <use xlink:href=\"#m16cce34cd1\" x=\"409.017614\" y=\"24.644279\" style=\"stroke: #000000; stroke-width: 0.8\"/>\n      </g>\n     </g>\n     <g id=\"text_39\">\n      <!-- 0.87 -->\n      <g transform=\"translate(379.751989 28.443498) scale(0.1 -0.1)\">\n       <use xlink:href=\"#DejaVuSans-30\"/>\n       <use xlink:href=\"#DejaVuSans-2e\" transform=\"translate(63.623047 0)\"/>\n       <use xlink:href=\"#DejaVuSans-38\" transform=\"translate(95.410156 0)\"/>\n       <use xlink:href=\"#DejaVuSans-37\" transform=\"translate(159.033203 0)\"/>\n      </g>\n     </g>\n    </g>\n    <g id=\"text_40\">\n     <!-- Accuracy -->\n     <g transform=\"translate(373.672301 156.02625) rotate(-90) scale(0.1 -0.1)\">\n      <defs>\n       <path id=\"DejaVuSans-41\" d=\"M 2188 4044 \nL 1331 1722 \nL 3047 1722 \nL 2188 4044 \nz\nM 1831 4666 \nL 2547 4666 \nL 4325 0 \nL 3669 0 \nL 3244 1197 \nL 1141 1197 \nL 716 0 \nL 50 0 \nL 1831 4666 \nz\n\" transform=\"scale(0.015625)\"/>\n       <path id=\"DejaVuSans-75\" d=\"M 544 1381 \nL 544 3500 \nL 1119 3500 \nL 1119 1403 \nQ 1119 906 1312 657 \nQ 1506 409 1894 409 \nQ 2359 409 2629 706 \nQ 2900 1003 2900 1516 \nL 2900 3500 \nL 3475 3500 \nL 3475 0 \nL 2900 0 \nL 2900 538 \nQ 2691 219 2414 64 \nQ 2138 -91 1772 -91 \nQ 1169 -91 856 284 \nQ 544 659 544 1381 \nz\nM 1991 3584 \nL 1991 3584 \nz\n\" transform=\"scale(0.015625)\"/>\n       <path id=\"DejaVuSans-79\" d=\"M 2059 -325 \nQ 1816 -950 1584 -1140 \nQ 1353 -1331 966 -1331 \nL 506 -1331 \nL 506 -850 \nL 844 -850 \nQ 1081 -850 1212 -737 \nQ 1344 -625 1503 -206 \nL 1606 56 \nL 191 3500 \nL 800 3500 \nL 1894 763 \nL 2988 3500 \nL 3597 3500 \nL 2059 -325 \nz\n\" transform=\"scale(0.015625)\"/>\n      </defs>\n      <use xlink:href=\"#DejaVuSans-41\"/>\n      <use xlink:href=\"#DejaVuSans-63\" transform=\"translate(66.658203 0)\"/>\n      <use xlink:href=\"#DejaVuSans-63\" transform=\"translate(121.638672 0)\"/>\n      <use xlink:href=\"#DejaVuSans-75\" transform=\"translate(176.619141 0)\"/>\n      <use xlink:href=\"#DejaVuSans-72\" transform=\"translate(239.998047 0)\"/>\n      <use xlink:href=\"#DejaVuSans-61\" transform=\"translate(281.111328 0)\"/>\n      <use xlink:href=\"#DejaVuSans-63\" transform=\"translate(342.390625 0)\"/>\n      <use xlink:href=\"#DejaVuSans-79\" transform=\"translate(397.371094 0)\"/>\n     </g>\n    </g>\n   </g>\n   <g id=\"line2d_71\">\n    <path d=\"M 422.852324 233.998125 \nL 561.199432 210.736587 \nL 699.546539 32.398125 \n\" clip-path=\"url(#p6effcb413c)\" style=\"fill: none; stroke: #008000; stroke-width: 1.5; stroke-linecap: square\"/>\n    <defs>\n     <path id=\"md6e06b14d1\" d=\"M 0 3 \nC 0.795609 3 1.55874 2.683901 2.12132 2.12132 \nC 2.683901 1.55874 3 0.795609 3 0 \nC 3 -0.795609 2.683901 -1.55874 2.12132 -2.12132 \nC 1.55874 -2.683901 0.795609 -3 0 -3 \nC -0.795609 -3 -1.55874 -2.683901 -2.12132 -2.12132 \nC -2.683901 -1.55874 -3 -0.795609 -3 0 \nC -3 0.795609 -2.683901 1.55874 -2.12132 2.12132 \nC -1.55874 2.683901 -0.795609 3 0 3 \nz\n\" style=\"stroke: #008000\"/>\n    </defs>\n    <g clip-path=\"url(#p6effcb413c)\">\n     <use xlink:href=\"#md6e06b14d1\" x=\"422.852324\" y=\"233.998125\" style=\"fill: #008000; stroke: #008000\"/>\n     <use xlink:href=\"#md6e06b14d1\" x=\"561.199432\" y=\"210.736587\" style=\"fill: #008000; stroke: #008000\"/>\n     <use xlink:href=\"#md6e06b14d1\" x=\"699.546539\" y=\"32.398125\" style=\"fill: #008000; stroke: #008000\"/>\n    </g>\n   </g>\n   <g id=\"patch_9\">\n    <path d=\"M 409.017614 244.078125 \nL 409.017614 22.318125 \n\" style=\"fill: none; stroke: #000000; stroke-width: 0.8; stroke-linejoin: miter; stroke-linecap: square\"/>\n   </g>\n   <g id=\"patch_10\">\n    <path d=\"M 713.38125 244.078125 \nL 713.38125 22.318125 \n\" style=\"fill: none; stroke: #000000; stroke-width: 0.8; stroke-linejoin: miter; stroke-linecap: square\"/>\n   </g>\n   <g id=\"patch_11\">\n    <path d=\"M 409.017614 244.078125 \nL 713.38125 244.078125 \n\" style=\"fill: none; stroke: #000000; stroke-width: 0.8; stroke-linejoin: miter; stroke-linecap: square\"/>\n   </g>\n   <g id=\"patch_12\">\n    <path d=\"M 409.017614 22.318125 \nL 713.38125 22.318125 \n\" style=\"fill: none; stroke: #000000; stroke-width: 0.8; stroke-linejoin: miter; stroke-linecap: square\"/>\n   </g>\n   <g id=\"text_41\">\n    <!-- Validation Accuracy over Epochs -->\n    <g transform=\"translate(463.576619 16.318125) scale(0.12 -0.12)\">\n     <defs>\n      <path id=\"DejaVuSans-65\" d=\"M 3597 1894 \nL 3597 1613 \nL 953 1613 \nQ 991 1019 1311 708 \nQ 1631 397 2203 397 \nQ 2534 397 2845 478 \nQ 3156 559 3463 722 \nL 3463 178 \nQ 3153 47 2828 -22 \nQ 2503 -91 2169 -91 \nQ 1331 -91 842 396 \nQ 353 884 353 1716 \nQ 353 2575 817 3079 \nQ 1281 3584 2069 3584 \nQ 2775 3584 3186 3129 \nQ 3597 2675 3597 1894 \nz\nM 3022 2063 \nQ 3016 2534 2758 2815 \nQ 2500 3097 2075 3097 \nQ 1594 3097 1305 2825 \nQ 1016 2553 972 2059 \nL 3022 2063 \nz\n\" transform=\"scale(0.015625)\"/>\n     </defs>\n     <use xlink:href=\"#DejaVuSans-56\"/>\n     <use xlink:href=\"#DejaVuSans-61\" transform=\"translate(60.658203 0)\"/>\n     <use xlink:href=\"#DejaVuSans-6c\" transform=\"translate(121.9375 0)\"/>\n     <use xlink:href=\"#DejaVuSans-69\" transform=\"translate(149.720703 0)\"/>\n     <use xlink:href=\"#DejaVuSans-64\" transform=\"translate(177.503906 0)\"/>\n     <use xlink:href=\"#DejaVuSans-61\" transform=\"translate(240.980469 0)\"/>\n     <use xlink:href=\"#DejaVuSans-74\" transform=\"translate(302.259766 0)\"/>\n     <use xlink:href=\"#DejaVuSans-69\" transform=\"translate(341.46875 0)\"/>\n     <use xlink:href=\"#DejaVuSans-6f\" transform=\"translate(369.251953 0)\"/>\n     <use xlink:href=\"#DejaVuSans-6e\" transform=\"translate(430.433594 0)\"/>\n     <use xlink:href=\"#DejaVuSans-20\" transform=\"translate(493.8125 0)\"/>\n     <use xlink:href=\"#DejaVuSans-41\" transform=\"translate(525.599609 0)\"/>\n     <use xlink:href=\"#DejaVuSans-63\" transform=\"translate(592.257812 0)\"/>\n     <use xlink:href=\"#DejaVuSans-63\" transform=\"translate(647.238281 0)\"/>\n     <use xlink:href=\"#DejaVuSans-75\" transform=\"translate(702.21875 0)\"/>\n     <use xlink:href=\"#DejaVuSans-72\" transform=\"translate(765.597656 0)\"/>\n     <use xlink:href=\"#DejaVuSans-61\" transform=\"translate(806.710938 0)\"/>\n     <use xlink:href=\"#DejaVuSans-63\" transform=\"translate(867.990234 0)\"/>\n     <use xlink:href=\"#DejaVuSans-79\" transform=\"translate(922.970703 0)\"/>\n     <use xlink:href=\"#DejaVuSans-20\" transform=\"translate(982.150391 0)\"/>\n     <use xlink:href=\"#DejaVuSans-6f\" transform=\"translate(1013.9375 0)\"/>\n     <use xlink:href=\"#DejaVuSans-76\" transform=\"translate(1075.119141 0)\"/>\n     <use xlink:href=\"#DejaVuSans-65\" transform=\"translate(1134.298828 0)\"/>\n     <use xlink:href=\"#DejaVuSans-72\" transform=\"translate(1195.822266 0)\"/>\n     <use xlink:href=\"#DejaVuSans-20\" transform=\"translate(1236.935547 0)\"/>\n     <use xlink:href=\"#DejaVuSans-45\" transform=\"translate(1268.722656 0)\"/>\n     <use xlink:href=\"#DejaVuSans-70\" transform=\"translate(1331.90625 0)\"/>\n     <use xlink:href=\"#DejaVuSans-6f\" transform=\"translate(1395.382812 0)\"/>\n     <use xlink:href=\"#DejaVuSans-63\" transform=\"translate(1456.564453 0)\"/>\n     <use xlink:href=\"#DejaVuSans-68\" transform=\"translate(1511.544922 0)\"/>\n     <use xlink:href=\"#DejaVuSans-73\" transform=\"translate(1574.923828 0)\"/>\n    </g>\n   </g>\n   <g id=\"legend_2\">\n    <g id=\"patch_13\">\n     <path d=\"M 416.017614 44.99625 \nL 546.233239 44.99625 \nQ 548.233239 44.99625 548.233239 42.99625 \nL 548.233239 29.318125 \nQ 548.233239 27.318125 546.233239 27.318125 \nL 416.017614 27.318125 \nQ 414.017614 27.318125 414.017614 29.318125 \nL 414.017614 42.99625 \nQ 414.017614 44.99625 416.017614 44.99625 \nz\n\" style=\"fill: #ffffff; opacity: 0.8; stroke: #cccccc; stroke-linejoin: miter\"/>\n    </g>\n    <g id=\"line2d_72\">\n     <path d=\"M 418.017614 35.416562 \nL 428.017614 35.416562 \nL 438.017614 35.416562 \n\" style=\"fill: none; stroke: #008000; stroke-width: 1.5; stroke-linecap: square\"/>\n     <g>\n      <use xlink:href=\"#md6e06b14d1\" x=\"428.017614\" y=\"35.416562\" style=\"fill: #008000; stroke: #008000\"/>\n     </g>\n    </g>\n    <g id=\"text_42\">\n     <!-- Validation Accuracy -->\n     <g transform=\"translate(446.017614 38.916562) scale(0.1 -0.1)\">\n      <use xlink:href=\"#DejaVuSans-56\"/>\n      <use xlink:href=\"#DejaVuSans-61\" transform=\"translate(60.658203 0)\"/>\n      <use xlink:href=\"#DejaVuSans-6c\" transform=\"translate(121.9375 0)\"/>\n      <use xlink:href=\"#DejaVuSans-69\" transform=\"translate(149.720703 0)\"/>\n      <use xlink:href=\"#DejaVuSans-64\" transform=\"translate(177.503906 0)\"/>\n      <use xlink:href=\"#DejaVuSans-61\" transform=\"translate(240.980469 0)\"/>\n      <use xlink:href=\"#DejaVuSans-74\" transform=\"translate(302.259766 0)\"/>\n      <use xlink:href=\"#DejaVuSans-69\" transform=\"translate(341.46875 0)\"/>\n      <use xlink:href=\"#DejaVuSans-6f\" transform=\"translate(369.251953 0)\"/>\n      <use xlink:href=\"#DejaVuSans-6e\" transform=\"translate(430.433594 0)\"/>\n      <use xlink:href=\"#DejaVuSans-20\" transform=\"translate(493.8125 0)\"/>\n      <use xlink:href=\"#DejaVuSans-41\" transform=\"translate(525.599609 0)\"/>\n      <use xlink:href=\"#DejaVuSans-63\" transform=\"translate(592.257812 0)\"/>\n      <use xlink:href=\"#DejaVuSans-63\" transform=\"translate(647.238281 0)\"/>\n      <use xlink:href=\"#DejaVuSans-75\" transform=\"translate(702.21875 0)\"/>\n      <use xlink:href=\"#DejaVuSans-72\" transform=\"translate(765.597656 0)\"/>\n      <use xlink:href=\"#DejaVuSans-61\" transform=\"translate(806.710938 0)\"/>\n      <use xlink:href=\"#DejaVuSans-63\" transform=\"translate(867.990234 0)\"/>\n      <use xlink:href=\"#DejaVuSans-79\" transform=\"translate(922.970703 0)\"/>\n     </g>\n    </g>\n   </g>\n  </g>\n </g>\n <defs>\n  <clipPath id=\"p2404b1575e\">\n   <rect x=\"43.78125\" y=\"22.318125\" width=\"304.363636\" height=\"221.76\"/>\n  </clipPath>\n  <clipPath id=\"p6effcb413c\">\n   <rect x=\"409.017614\" y=\"22.318125\" width=\"304.363636\" height=\"221.76\"/>\n  </clipPath>\n </defs>\n</svg>\n"
          },
          "metadata": {}
        }
      ],
      "source": [
        "LLM_DistilBERT.train_and_validate()\n",
        "LLM_DistilBERT.plot_history()"
      ]
    },
    {
      "cell_type": "markdown",
      "id": "9cc75889",
      "metadata": {
        "id": "9cc75889"
      },
      "source": [
        "### Interprétation\n",
        "\n",
        "- Le modèle s'améliore progressivement au fil des *epochs* : la perte d'entraînement diminue fortement et la précision (*accuracy*) augmente.\n",
        "\n",
        "- Une légère divergence entre perte d'entraînement et perte de validation est constatée : le modèle devient plus confiant mais peut être mal calibré ou commencer à sur-apprendre sur certains cas difficiles (*overfitting* léger).\n",
        "\n",
        "- Grâce au mécanisme de *checkpointing*, le meilleur modèle est sauvegardé à chaque fois que la perte de validation s'améliore. Ici, le modèle sauvegardé à l'*epoch* 3 correspond au meilleur compromis pour la généralisation."
      ]
    },
    {
      "cell_type": "markdown",
      "id": "-pnwOzOlZhkR",
      "metadata": {
        "id": "-pnwOzOlZhkR"
      },
      "source": [
        "## Sanity Checks\n",
        "\n",
        "Avant d'analyser les performances ou d'utiliser le modèle en inférence, il est essentiel de vérifier que les données et le prétraitement sont correctement configurés.\n",
        "\n",
        "L'objectif de cette étape est de s'assurer que le pipeline de préparation des données fonctionne correctement avant de poursuivre avec l'évaluation et l'inférence. Concrètement, nous voulons vérifier que :\n",
        "\n",
        "- Les dimensions des *batchs* (`input_ids`, `attention_mask`, `labels`) sont cohérentes,\n",
        "- Les tokens spéciaux [CLS] et [SEP] sont bien présents dans chaque séquence,\n",
        "- Le padding et la troncature sont appliqués correctement, avec un attention_mask qui distingue bien les vrais tokens des [PAD].\n",
        "\n",
        "### Sanity Check 1 : Vérification d'un batch\n",
        "\n",
        "L'objectif est de vérifier que les *batchs* renvoyés par le `DataLoader` ont les bonnes dimensions et contiennent les bons éléments (`input_ids`, `attention_mask`, `labels`)."
      ]
    },
    {
      "cell_type": "code",
      "execution_count": 168,
      "id": "57ed58c3",
      "metadata": {
        "colab": {
          "base_uri": "https://localhost:8080/"
        },
        "id": "57ed58c3",
        "outputId": "6e297939-fcdf-428a-e201-3e69896ed163"
      },
      "outputs": [
        {
          "output_type": "stream",
          "name": "stdout",
          "text": [
            "Input IDs shape: torch.Size([4, 256])\n",
            "Attention mask shape: torch.Size([4, 256])\n",
            "Labels shape: torch.Size([4])\n",
            "\n",
            "First input_ids: [101, 1045, 2113, 8750, 1012, 1045, 1005, 2310, 2042, 2046, 2009, 2146, 2077, 2009, 2150, 1037, 2120, 9575, 1025, 1045, 3866, 2743, 2863, 2077, 2087, 2111, 2354, 2054, 5202, 7384, 1062, 2130, 2001, 1012, 1998, 2074, 2061, 2017, 2113, 1045, 1005, 1049, 2025, 23678, 2075, 2055, 2026, 1010, 2292, 2033, 2360, 2023, 1024, 2041, 1997, 2035, 1996, 8750, 2015, 1045, 1005, 2310, 2464, 1010, 3317, 1999, 1996, 3712, 2003, 2011, 2521, 2028, 1997, 1996, 2190, 1012, 2009, 1005, 1055, 5793, 2111, 2360, 24462, 2185, 2003, 1996, 2190, 1010, 2021, 1045, 2428, 21090, 1012, 2087, 2111, 2069, 2113, 2008, 3185, 2138, 2009, 2028, 2019, 9078, 22117, 2100, 2400, 1025, 2023, 3475, 1005, 1056, 2019, 4654, 27609, 3370, 1011, 1045, 1005, 2310, 3491, 4615, 18847, 3630, 3489, 1998, 3317, 1999, 1996, 3712, 2000, 2111, 2040, 1005, 1040, 2069, 2412, 2464, 24462, 2185, 1010, 1998, 2027, 5993, 2008, 1996, 3732, 2048, 2024, 1996, 6020, 1997, 1996, 2093, 1012, 7714, 1010, 1045, 1005, 1040, 2196, 2245, 2008, 2505, 2071, 12826, 2000, 4615, 18847, 3630, 3489, 1010, 2127, 1045, 2633, 2387, 3317, 1999, 1996, 3712, 1012, 1045, 2145, 2228, 2008, 1996, 3188, 2003, 1996, 2488, 1997, 1996, 2048, 1010, 2021, 3317, 1999, 1996, 3712, 2003, 4089, 2006, 11968, 2007, 2009, 1025, 1999, 2116, 3971, 1010, 3317, 2038, 2350, 3787, 2008, 18847, 3630, 3489, 2001, 4394, 1012, 1999, 2593, 2553, 1010, 2065, 2017, 1005, 2310, 2069, 2464, 24462, 2185, 1010, 1998, 2228, 2008, 2008, 2003, 2771, 3148, 18637, 1005, 1055, 2190, 2143, 1010, 2022, 4810, 2000, 2031, 2115, 3011, 16697, 1012, 102]\n",
            "First attention_mask: [1, 1, 1, 1, 1, 1, 1, 1, 1, 1, 1, 1, 1, 1, 1, 1, 1, 1, 1, 1, 1, 1, 1, 1, 1, 1, 1, 1, 1, 1, 1, 1, 1, 1, 1, 1, 1, 1, 1, 1, 1, 1, 1, 1, 1, 1, 1, 1, 1, 1, 1, 1, 1, 1, 1, 1, 1, 1, 1, 1, 1, 1, 1, 1, 1, 1, 1, 1, 1, 1, 1, 1, 1, 1, 1, 1, 1, 1, 1, 1, 1, 1, 1, 1, 1, 1, 1, 1, 1, 1, 1, 1, 1, 1, 1, 1, 1, 1, 1, 1, 1, 1, 1, 1, 1, 1, 1, 1, 1, 1, 1, 1, 1, 1, 1, 1, 1, 1, 1, 1, 1, 1, 1, 1, 1, 1, 1, 1, 1, 1, 1, 1, 1, 1, 1, 1, 1, 1, 1, 1, 1, 1, 1, 1, 1, 1, 1, 1, 1, 1, 1, 1, 1, 1, 1, 1, 1, 1, 1, 1, 1, 1, 1, 1, 1, 1, 1, 1, 1, 1, 1, 1, 1, 1, 1, 1, 1, 1, 1, 1, 1, 1, 1, 1, 1, 1, 1, 1, 1, 1, 1, 1, 1, 1, 1, 1, 1, 1, 1, 1, 1, 1, 1, 1, 1, 1, 1, 1, 1, 1, 1, 1, 1, 1, 1, 1, 1, 1, 1, 1, 1, 1, 1, 1, 1, 1, 1, 1, 1, 1, 1, 1, 1, 1, 1, 1, 1, 1, 1, 1, 1, 1, 1, 1, 1, 1, 1, 1, 1, 1, 1, 1, 1, 1, 1, 1]\n",
            "First label: 1\n",
            "\n",
            "Decoded tokens: ['[CLS]', 'i', 'know', 'anime', '.', 'i', \"'\", 've', 'been', 'into', 'it', 'long', 'before', 'it', 'became', 'a', 'national', 'phenomenon', ';', 'i', 'loved', 'ran', '##ma', 'before', 'most', 'people', 'knew', 'what', 'dragon', '##ball', 'z', 'even', 'was', '.', 'and', 'just', 'so', 'you', 'know', 'i', \"'\", 'm', 'not', 'bragg', '##ing', 'about', 'my', ',', 'let', 'me', 'say', 'this', ':', 'out', 'of', 'all', 'the', 'anime', '##s', 'i', \"'\", 've', 'seen', ',', 'castle', 'in', 'the', 'sky', 'is', 'by', 'far', 'one', 'of', 'the', 'best', '.', 'it', \"'\", 's', 'obvious', 'people', 'say', 'spirited', 'away', 'is', 'the', 'best', ',', 'but', 'i', 'really', 'disagree', '.', 'most', 'people', 'only', 'know', 'that', 'movie', 'because', 'it', 'one', 'an', 'ace', '##dm', '##y', 'award', ';', 'this', 'isn', \"'\", 't', 'an', 'ex', '##agger', '##ation', '-', 'i', \"'\", 've', 'shown', 'princess', 'mono', '##no', '##ke', 'and', 'castle', 'in', 'the', 'sky', 'to', 'people', 'who', \"'\", 'd', 'only', 'ever', 'seen', 'spirited', 'away', ',', 'and', 'they', 'agree', 'that', 'the', 'latter', 'two', 'are', 'the', 'superior', 'of', 'the', 'three', '.', 'personally', ',', 'i', \"'\", 'd', 'never', 'thought', 'that', 'anything', 'could', 'compare', 'to', 'princess', 'mono', '##no', '##ke', ',', 'until', 'i', 'finally', 'saw', 'castle', 'in', 'the', 'sky', '.', 'i', 'still', 'think', 'that', 'the', 'prior', 'is', 'the', 'better', 'of', 'the', 'two', ',', 'but', 'castle', 'in', 'the', 'sky', 'is', 'easily', 'on', 'par', 'with', 'it', ';', 'in', 'many', 'ways', ',', 'castle', 'has', 'major', 'elements', 'that', 'mono', '##no', '##ke', 'was', 'missing', '.', 'in', 'either', 'case', ',', 'if', 'you', \"'\", 've', 'only', 'seen', 'spirited', 'away', ',', 'and', 'think', 'that', 'that', 'is', 'mi', '##ya', '##zaki', \"'\", 's', 'best', 'film', ',', 'be', 'prepared', 'to', 'have', 'your', 'earth', 'shaken', '.', '[SEP]']\n"
          ]
        }
      ],
      "source": [
        "# Grab a single batch from the training dataloader\n",
        "batch = next(iter(LLM_DistilBERT.train_loader))\n",
        "\n",
        "# Print shapes\n",
        "print(\"Input IDs shape:\", batch[\"input_ids\"].shape)\n",
        "print(\"Attention mask shape:\", batch[\"attention_mask\"].shape)\n",
        "print(\"Labels shape:\", batch[\"labels\"].shape)\n",
        "\n",
        "# Print the first example\n",
        "first_input_ids = batch[\"input_ids\"][0]\n",
        "first_mask = batch[\"attention_mask\"][0]\n",
        "first_label = batch[\"labels\"][0]\n",
        "\n",
        "print(\"\\nFirst input_ids:\", first_input_ids.tolist())\n",
        "print(\"First attention_mask:\", first_mask.tolist())\n",
        "print(\"First label:\", first_label.item())\n",
        "\n",
        "# Convert IDs back to tokens to inspect\n",
        "tokens = LLM_DistilBERT.tokenizer.convert_ids_to_tokens(first_input_ids)\n",
        "print(\"\\nDecoded tokens:\", tokens)"
      ]
    },
    {
      "cell_type": "markdown",
      "id": "0f9a728b",
      "metadata": {
        "id": "0f9a728b"
      },
      "source": [
        "**Sortie obtenue :**\n",
        "\n",
        "* `Input IDs shape`: **\\[4, 256]** → 4 exemples par batch, séquences de longueur fixe 256.\n",
        "* `Attention mask shape`: **\\[4, 256]** → un masque pour chaque séquence, indiquant les vrais tokens (1) et le padding (0).\n",
        "* `Labels shape`: **\\[4]** → un label par séquence.\n",
        "* Premier exemple :\n",
        "\n",
        "  * Les **IDs** sont bien mappés à des tokens lisibles (`this tv show ... [SEP] [PAD] ...`).\n",
        "  * Le **masque** correspond : 1 pour les tokens réels, 0 pour les `[PAD]`.\n",
        "  * Le **label** est correctement associé (`0 = negative`).\n",
        "\n",
        "**Constats :**\n",
        "\n",
        "* Chaque batch contient 4 échantillons, comme attendu.\n",
        "* Les séquences sont bien **pad/truncated** à une longueur de 256.\n",
        "* Le masque d'attention est aligné correctement.\n",
        "* Les tokens spéciaux `[CLS]` et `[SEP]` sont présents."
      ]
    },
    {
      "cell_type": "markdown",
      "id": "918d0eb0",
      "metadata": {
        "id": "918d0eb0"
      },
      "source": [
        "### Sanity Check 2 : Présence des tokens spéciaux\n",
        "\n",
        "L'objectif étant de confirmer que chaque séquence contient bien les *tokens* spéciaux attendus par DistilBERT :\n",
        "\n",
        "* [CLS] au début (représentation globale de la séquence pour la classification).\n",
        "* [SEP] à la fin (séparateur de séquences, obligatoire même avec une seule phrase)."
      ]
    },
    {
      "cell_type": "code",
      "execution_count": 169,
      "id": "361f5893",
      "metadata": {
        "colab": {
          "base_uri": "https://localhost:8080/"
        },
        "id": "361f5893",
        "outputId": "ff51c6d7-d2ed-408c-c68d-179deb93ec33"
      },
      "outputs": [
        {
          "output_type": "stream",
          "name": "stdout",
          "text": [
            "Special tokens OK\n"
          ]
        }
      ],
      "source": [
        "batch = next(iter(LLM_DistilBERT.train_loader))\n",
        "iid = batch[\"input_ids\"][0]\n",
        "assert iid[0].item() == LLM_DistilBERT.tokenizer.cls_token_id, \"Missing [CLS]\"\n",
        "assert (\n",
        "    (iid == LLM_DistilBERT.tokenizer.sep_token_id).any().item()\n",
        "), \"Missing [SEP]\"\n",
        "print(\"Special tokens OK\")"
      ]
    },
    {
      "cell_type": "markdown",
      "id": "UmdgkAQ4a7wE",
      "metadata": {
        "id": "UmdgkAQ4a7wE"
      },
      "source": [
        "**Constats :**\n",
        "\n",
        "* [CLS] est bien présent en première position.\n",
        "* [SEP] est bien présent dans la séquence.\n",
        "\n",
        "Le modèle recevra donc des entrées valides, conformes au format BERT."
      ]
    },
    {
      "cell_type": "markdown",
      "id": "d2cb2009",
      "metadata": {
        "id": "d2cb2009"
      },
      "source": [
        "### Sanity Check 3 : Statistiques de padding et troncature\n",
        "\n",
        "Vérifier la proportion d'exemples *paddés* (séquences plus courtes complétées avec [PAD]) et tronqués (séquences coupées à max_len=256)."
      ]
    },
    {
      "cell_type": "code",
      "execution_count": 170,
      "id": "053cd766",
      "metadata": {
        "id": "053cd766"
      },
      "outputs": [],
      "source": [
        "def trunc_pad_stats(dataloader, max_len=256):\n",
        "    n, n_trunc, n_pad = 0, 0, 0\n",
        "    for b in dataloader:\n",
        "        input_ids = b[\"input_ids\"]\n",
        "        attn = b[\"attention_mask\"]\n",
        "        # padded examples have any 0 in mask\n",
        "        n_pad += (attn.sum(dim=1) < input_ids.size(1)).sum().item()\n",
        "        # truncated examples exactly hit max_len AND have no padding\n",
        "        n_trunc += ((attn.sum(dim=1) == max_len)).sum().item()\n",
        "        n += input_ids.size(0)\n",
        "    return {\n",
        "        \"total_examples\": n,\n",
        "        \"padded_frac\": n_pad / n,\n",
        "        \"truncated_frac\": n_trunc / n,\n",
        "        \"exact_len_frac\": (\n",
        "            n_trunc / n\n",
        "        ),  # same as truncated_frac with this logic\n",
        "    }"
      ]
    },
    {
      "cell_type": "code",
      "execution_count": null,
      "id": "087d9fae",
      "metadata": {
        "id": "087d9fae"
      },
      "outputs": [],
      "source": [
        "stats = trunc_pad_stats(LLM_DistilBERT.train_loader, max_len=256)\n",
        "print(json.dumps(stats, indent=4))"
      ]
    },
    {
      "cell_type": "markdown",
      "id": "3e8d8633",
      "metadata": {
        "id": "3e8d8633"
      },
      "source": [
        "**Constats**\n",
        "\n",
        "* Total d'exemples : 1600 (correspond bien à l'échantillon d'entraînement).\n",
        "* ~52 % paddés → la moitié des séquences originales étaient plus courtes que 256 tokens.\n",
        "* ~45 % tronqués → presque la moitié des séquences atteignent la longueur maximale et ont été coupées.\n",
        "\n",
        "Cela reflète la variabilité naturelle des critiques IMDB : certaines sont très courtes, d'autres très longues."
      ]
    },
    {
      "cell_type": "markdown",
      "id": "91ae86d3",
      "metadata": {
        "id": "91ae86d3"
      },
      "source": [
        "## Sanity Check 4 : Exemple de séquence paddée\n",
        "\n",
        "L'objectif est d'fficher un exemple de séquence paddée afin de vérifier :\n",
        "* que les tokens [PAD] apparaissent bien en fin de séquence,\n",
        "* que le attention_mask les identifie correctement avec des 0."
      ]
    },
    {
      "cell_type": "code",
      "execution_count": 171,
      "id": "5edb7093",
      "metadata": {
        "id": "5edb7093"
      },
      "outputs": [],
      "source": [
        "def show_padded_example(dataloader, tokenizer):\n",
        "    for b in dataloader:\n",
        "        for i in range(b[\"input_ids\"].size(0)):\n",
        "            attn = b[\"attention_mask\"][i]\n",
        "            if attn[-1].item() == 0:  # ends with padding\n",
        "                ids = b[\"input_ids\"][i]\n",
        "                toks = tokenizer.convert_ids_to_tokens(ids)\n",
        "                print(\"...tokens tail:\", toks[-30:])\n",
        "                print(\"...mask tail:\", attn[-30:].tolist())\n",
        "                return\n",
        "    print(\"No padded example found in this pass\")"
      ]
    },
    {
      "cell_type": "code",
      "execution_count": 172,
      "id": "e114f9bb",
      "metadata": {
        "colab": {
          "base_uri": "https://localhost:8080/"
        },
        "id": "e114f9bb",
        "outputId": "3367b5b8-362b-4c3a-edf5-041c71f97565"
      },
      "outputs": [
        {
          "output_type": "stream",
          "name": "stdout",
          "text": [
            "...tokens tail: ['[PAD]', '[PAD]', '[PAD]', '[PAD]', '[PAD]', '[PAD]', '[PAD]', '[PAD]', '[PAD]', '[PAD]', '[PAD]', '[PAD]', '[PAD]', '[PAD]', '[PAD]', '[PAD]', '[PAD]', '[PAD]', '[PAD]', '[PAD]', '[PAD]', '[PAD]', '[PAD]', '[PAD]', '[PAD]', '[PAD]', '[PAD]', '[PAD]', '[PAD]', '[PAD]']\n",
            "...mask tail: [0, 0, 0, 0, 0, 0, 0, 0, 0, 0, 0, 0, 0, 0, 0, 0, 0, 0, 0, 0, 0, 0, 0, 0, 0, 0, 0, 0, 0, 0]\n"
          ]
        }
      ],
      "source": [
        "show_padded_example(LLM_DistilBERT.train_loader, LLM_DistilBERT.tokenizer)"
      ]
    },
    {
      "cell_type": "markdown",
      "id": "a797c058",
      "metadata": {
        "id": "a797c058"
      },
      "source": [
        "**Constats**\n",
        "\n",
        "* Les tokens [PAD] sont bien ajoutés en fin de séquence.\n",
        "* Le attention_mask marque correctement ces positions comme 0 (ignorées par le modèle).\n",
        "* Cela confirme que le DataCollator gère bien le padding dynamique et que le modèle ne tiendra pas compte des zones vides."
      ]
    },
    {
      "cell_type": "markdown",
      "id": "4IomaFZ8cbyr",
      "metadata": {
        "id": "4IomaFZ8cbyr"
      },
      "source": [
        "## Récapitulatif des Sanity Checks\n",
        "\n",
        "| Sanity Check | Vérification                                                   | Résultat                                                      |\n",
        "| ------------ | -------------------------------------------------------------- | ------------------------------------------------------------- |\n",
        "| **1**        | Cohérence des batchs (`input_ids`, `attention_mask`, `labels`) | ✅ Dimensions correctes, tokens lisibles, labels présents      |\n",
        "| **2**        | Présence des tokens spéciaux `[CLS]`, `[SEP]`                  | ✅ Spéciaux correctement insérés                               |\n",
        "| **3**        | Statistiques de padding et troncature                          | ✅ \\~52% paddés, \\~45% tronqués (dataset équilibré)            |\n",
        "| **4**        | Exemple de séquence paddée                                     | ✅ `[PAD]` bien ajoutés en fin, `attention_mask=0` sur padding |"
      ]
    },
    {
      "cell_type": "markdown",
      "id": "6c87a3c5",
      "metadata": {
        "id": "6c87a3c5"
      },
      "source": [
        "## Inference Helper\n",
        "\n",
        "Une fois le modèle **fine-tuné**, il peut être utiliser en **inférence** afin de prédire le sentiment de nouveaux textes.\n",
        "\n",
        "L'idée est simple :\n",
        "\n",
        "* Entrée : du texte brut (ex. une critique de film).\n",
        "* Le texte est **tokenizé** puis converti en tenseurs (`input_ids`, `attention_mask`).\n",
        "* Le modèle produit des **logits** qui sont transformés en probabilités (`softmax`).\n",
        "* Sortie : un label (`positive` ou `negative`) accompagné des probabilités associées.\n",
        "\n",
        "Cette étape illustre comment exploiter un modèle entraîné pour réaliser des prédictions concrètes sur des données inédites.\n",
        "\n",
        "Il est désormais possible de soumettre du texte brut à notre modèle fine-tuné et obtenir une prédiction de sentiment.\n",
        "La méthode `predict_sentiment` renvoie :\n",
        "* le texte d'entrée,\n",
        "* le label prédit (positive ou negative),\n",
        "* les probabilités associées à chaque classe.\n"
      ]
    },
    {
      "cell_type": "code",
      "execution_count": 173,
      "id": "0f57aa59",
      "metadata": {
        "colab": {
          "base_uri": "https://localhost:8080/"
        },
        "id": "0f57aa59",
        "outputId": "c3369216-772e-45ba-f72f-3b302f5fae6c"
      },
      "outputs": [
        {
          "output_type": "stream",
          "name": "stdout",
          "text": [
            "{\n",
            "    \"text\": \"I absolutely loved this movie, it was fantastic!\",\n",
            "    \"pred_label\": \"positive\",\n",
            "    \"probabilities\": {\n",
            "        \"negative\": 0.002006156137213111,\n",
            "        \"positive\": 0.9979938268661499\n",
            "    }\n",
            "}\n",
            "{\n",
            "    \"text\": \"This was the worst film I have ever seen.\",\n",
            "    \"pred_label\": \"negative\",\n",
            "    \"probabilities\": {\n",
            "        \"negative\": 0.9976537823677063,\n",
            "        \"positive\": 0.0023462700191885233\n",
            "    }\n",
            "}\n"
          ]
        }
      ],
      "source": [
        "print(\n",
        "    json.dumps(\n",
        "        LLM_DistilBERT.predict_sentiment(\n",
        "            \"I absolutely loved this movie, it was fantastic!\"\n",
        "        ),\n",
        "        indent=4,\n",
        "    )\n",
        ")\n",
        "print(\n",
        "    json.dumps(\n",
        "        LLM_DistilBERT.predict_sentiment(\n",
        "            \"This was the worst film I have ever seen.\"\n",
        "        ),\n",
        "        indent=4,\n",
        "    )\n",
        ")"
      ]
    },
    {
      "cell_type": "markdown",
      "id": "NdqD_poydz-g",
      "metadata": {
        "id": "NdqD_poydz-g"
      },
      "source": [
        "Le modèle attribue correctement un sentiment positif à la première phrase et un sentiment négatif à la seconde, avec une très forte confiance."
      ]
    },
    {
      "cell_type": "markdown",
      "id": "CUYyU2vveCGr",
      "metadata": {
        "id": "CUYyU2vveCGr"
      },
      "source": [
        "## Rechargement du modèle sauvegardé\n",
        "\n",
        "Après l'entraînement, nous avons sauvegardé le meilleur modèle dans `./distilbert-best`.\n",
        "Nous pouvons maintenant le recharger pour l'utiliser en inférence, sans devoir réexécuter toute la phase de fine-tuning.\n",
        "\n",
        "Le code ci-dessous se divise de la manière suivante :\n",
        "\n",
        "* `LLMFineTuner(pretrained_model_name_or_path=model_path)` : on instancie une nouvelle classe en pointant vers le modèle sauvegardé.\n",
        "\n",
        "* `set_tokenizer()` : recharge le tokenizer utilisé à l'entraînement.\n",
        "\n",
        "* `set_model()` : recharge la configuration et les poids du modèle.\n",
        "\n",
        "* `model.eval()` : place le modèle en mode évaluation/inférence (désactive dropout, batchnorm, etc.)."
      ]
    },
    {
      "cell_type": "code",
      "execution_count": 174,
      "id": "4aaf6411",
      "metadata": {
        "colab": {
          "base_uri": "https://localhost:8080/"
        },
        "id": "4aaf6411",
        "outputId": "79bfd001-ba92-47bb-e1a3-0724ace08669"
      },
      "outputs": [
        {
          "output_type": "execute_result",
          "data": {
            "text/plain": [
              "DistilBertForSequenceClassification(\n",
              "  (distilbert): DistilBertModel(\n",
              "    (embeddings): Embeddings(\n",
              "      (word_embeddings): Embedding(30522, 768, padding_idx=0)\n",
              "      (position_embeddings): Embedding(512, 768)\n",
              "      (LayerNorm): LayerNorm((768,), eps=1e-12, elementwise_affine=True)\n",
              "      (dropout): Dropout(p=0.1, inplace=False)\n",
              "    )\n",
              "    (transformer): Transformer(\n",
              "      (layer): ModuleList(\n",
              "        (0-5): 6 x TransformerBlock(\n",
              "          (attention): DistilBertSdpaAttention(\n",
              "            (dropout): Dropout(p=0.1, inplace=False)\n",
              "            (q_lin): Linear(in_features=768, out_features=768, bias=True)\n",
              "            (k_lin): Linear(in_features=768, out_features=768, bias=True)\n",
              "            (v_lin): Linear(in_features=768, out_features=768, bias=True)\n",
              "            (out_lin): Linear(in_features=768, out_features=768, bias=True)\n",
              "          )\n",
              "          (sa_layer_norm): LayerNorm((768,), eps=1e-12, elementwise_affine=True)\n",
              "          (ffn): FFN(\n",
              "            (dropout): Dropout(p=0.1, inplace=False)\n",
              "            (lin1): Linear(in_features=768, out_features=3072, bias=True)\n",
              "            (lin2): Linear(in_features=3072, out_features=768, bias=True)\n",
              "            (activation): GELUActivation()\n",
              "          )\n",
              "          (output_layer_norm): LayerNorm((768,), eps=1e-12, elementwise_affine=True)\n",
              "        )\n",
              "      )\n",
              "    )\n",
              "  )\n",
              "  (pre_classifier): Linear(in_features=768, out_features=768, bias=True)\n",
              "  (classifier): Linear(in_features=768, out_features=2, bias=True)\n",
              "  (dropout): Dropout(p=0.2, inplace=False)\n",
              ")"
            ]
          },
          "metadata": {},
          "execution_count": 174
        }
      ],
      "source": [
        "model_path = \"./distilbert-best\"\n",
        "LLM_DistilBERT_best = LLMFineTuner(pretrained_model_name_or_path=model_path)\n",
        "LLM_DistilBERT_best.set_tokenizer()\n",
        "LLM_DistilBERT_best.set_model()\n",
        "LLM_DistilBERT_best.model.eval()"
      ]
    },
    {
      "cell_type": "markdown",
      "id": "B7XjXThZeg9G",
      "metadata": {
        "id": "B7XjXThZeg9G"
      },
      "source": [
        "Vérifions à présent que le modèle fonctionne correctement."
      ]
    },
    {
      "cell_type": "code",
      "execution_count": 175,
      "id": "bc503123",
      "metadata": {
        "colab": {
          "base_uri": "https://localhost:8080/"
        },
        "id": "bc503123",
        "outputId": "dd8b67aa-ee96-45bd-8dda-4919615257b9"
      },
      "outputs": [
        {
          "output_type": "stream",
          "name": "stdout",
          "text": [
            "{\n",
            "    \"text\": \"I absolutely loved this movie, it was fantastic!\",\n",
            "    \"pred_label\": \"positive\",\n",
            "    \"probabilities\": {\n",
            "        \"negative\": 0.002006156137213111,\n",
            "        \"positive\": 0.9979938268661499\n",
            "    }\n",
            "}\n",
            "{\n",
            "    \"text\": \"This was the worst film I have ever seen.\",\n",
            "    \"pred_label\": \"negative\",\n",
            "    \"probabilities\": {\n",
            "        \"negative\": 0.9976537823677063,\n",
            "        \"positive\": 0.0023462700191885233\n",
            "    }\n",
            "}\n"
          ]
        }
      ],
      "source": [
        "print(\n",
        "    json.dumps(\n",
        "        LLM_DistilBERT_best.predict_sentiment(\n",
        "            \"I absolutely loved this movie, it was fantastic!\"\n",
        "        ),\n",
        "        indent=4,\n",
        "    )\n",
        ")\n",
        "print(\n",
        "    json.dumps(\n",
        "        LLM_DistilBERT_best.predict_sentiment(\n",
        "            \"This was the worst film I have ever seen.\"\n",
        "        ),\n",
        "        indent=4,\n",
        "    )\n",
        ")"
      ]
    },
    {
      "cell_type": "markdown",
      "id": "SP7y9-YKen3c",
      "metadata": {
        "id": "SP7y9-YKen3c"
      },
      "source": [
        "La première phrase est caractérisée comme positive tandis que la seconde comme négative : **le modèle sauvegardé utilisé en inférence est bien valide**.\n",
        "Appliquons ce modèle sur plusieurs phrases"
      ]
    },
    {
      "cell_type": "code",
      "execution_count": 176,
      "id": "75a787c0",
      "metadata": {
        "colab": {
          "base_uri": "https://localhost:8080/"
        },
        "id": "75a787c0",
        "outputId": "5afcbd59-d9e7-4e08-c21a-47ecfb9fbb0c"
      },
      "outputs": [
        {
          "output_type": "stream",
          "name": "stdout",
          "text": [
            "{\n",
            "    \"text\": \"I absolutely loved this movie, it was fantastic!\",\n",
            "    \"pred_label\": \"positive\",\n",
            "    \"probabilities\": {\n",
            "        \"negative\": 0.0020061552058905363,\n",
            "        \"positive\": 0.9979938268661499\n",
            "    }\n",
            "}\n",
            "{\n",
            "    \"text\": \"This was the worst film I have ever seen.\",\n",
            "    \"pred_label\": \"negative\",\n",
            "    \"probabilities\": {\n",
            "        \"negative\": 0.9976537823677063,\n",
            "        \"positive\": 0.0023462700191885233\n",
            "    }\n",
            "}\n",
            "{\n",
            "    \"text\": \"The acting was decent but the story was too slow.\",\n",
            "    \"pred_label\": \"negative\",\n",
            "    \"probabilities\": {\n",
            "        \"negative\": 0.9980314373970032,\n",
            "        \"positive\": 0.001968592405319214\n",
            "    }\n",
            "}\n",
            "{\n",
            "    \"text\": \"What a masterpiece - I'd watch it again and again!\",\n",
            "    \"pred_label\": \"positive\",\n",
            "    \"probabilities\": {\n",
            "        \"negative\": 0.002395691117271781,\n",
            "        \"positive\": 0.9976043105125427\n",
            "    }\n",
            "}\n"
          ]
        }
      ],
      "source": [
        "reviews = [\n",
        "    \"I absolutely loved this movie, it was fantastic!\",\n",
        "    \"This was the worst film I have ever seen.\",\n",
        "    \"The acting was decent but the story was too slow.\",\n",
        "    \"What a masterpiece - I'd watch it again and again!\",\n",
        "]\n",
        "\n",
        "batch_results = LLM_DistilBERT_best.predict_batch(reviews)\n",
        "for res in batch_results:\n",
        "    print(json.dumps(res, indent=4))"
      ]
    },
    {
      "cell_type": "markdown",
      "id": "0H4thgV0f-yL",
      "metadata": {
        "id": "0H4thgV0f-yL"
      },
      "source": [
        "Les cinq phrases sont correctement catégorisées.\n",
        "\n",
        "Le tableau ci-dessous résume les étapes opérées jusqu'à présent.\n",
        "\n",
        "| Step                            | Description                                                                                |\n",
        "| ------------------------------- | ------------------------------------------------------------------------------------------ |\n",
        "| **1. Preprocessing & batching** | Préparation du dataset, tokenisation, padding dynamique, DataLoader                        |\n",
        "| **2. Training & validation**    | Apprentissage du modèle DistilBERT avec suivi des métriques                                |\n",
        "| **3. Model checkpointing**      | Sauvegarde du **meilleur modèle** basé sur la validation loss                              |\n",
        "| **4. Inference (single)**       | Utilisation du modèle fine-tuné pour prédire le sentiment d'un texte brut (exemple unique) |\n",
        "| **5. Inference (batch)**        | Prédiction du sentiment sur plusieurs textes en une seule passe                            |\n",
        "\n",
        "Après avoir complété le fine-tuning et l'évaluation de `DistilBERT` sur notre tâche de classification de sentiments, nous allons maintenant explorer un autre modèle : `RoBERTa`.\n",
        "\n",
        "L'objectif est de comparer les performances et le comportement de ces deux architectures, en mettant en évidence :\n",
        "* les différences de taille et de capacité,\n",
        "* les variations dans la tokenisation,\n",
        "* les effets liés au pré-entraînement."
      ]
    },
    {
      "cell_type": "markdown",
      "id": "224eb226",
      "metadata": {
        "id": "224eb226"
      },
      "source": [
        "## Choix d'un nouveau modèle : `RoBERTa`\n",
        "\n",
        "Après avoir travaillé avec `DistilBERT`, nous allons maintenant passer à `RoBERTa` afin de comparer les performances et d'analyser l'impact du choix du modèle.\n",
        "\n",
        "Le choix s'est porté sur `RoBERTa` pour les raisons suivantes :\n",
        "\n",
        "* **Plus grand modèle** que DistilBERT, avec davantage de paramètres.\n",
        "* **Tokenizer différent**, qui repose sur la méthode BPE (Byte-Pair Encoding).\n",
        "* **Pré-entraînement différent**, basé sur de larges corpus et des stratégies d'entraînement optimisées.\n",
        "\n",
        "Cette étape permettra de :\n",
        "\n",
        "1. Recharger le jeu de données et adapter la tokenisation.\n",
        "2. Entraîner RoBERTa sur le même cas d'usage (sentiment analysis).\n",
        "3. Comparer ses résultats à ceux obtenus avec DistilBERT.\n",
        "\n",
        "Exploitons la classe `LLMFineTuner` pour instancier et configurer un nouveau modèle : `RoBERTa-base`.\n",
        "\n",
        "Pour cela :\n",
        "\n",
        "* Nous choisissons roberta-base comme modèle de comparaison (mais d'autres modèles comme bert-base-uncased ou MiniLM pourraient aussi être testés).\n",
        "* Nous rechargeons le même dataset que pour DistilBERT afin de garder une base de comparaison cohérente.\n",
        "* Nous utilisons l'AutoTokenizer et l'AutoModelForSequenceClassification, car RoBERTa a un tokenizer et une architecture légèrement différents de DistilBERT.\n"
      ]
    },
    {
      "cell_type": "code",
      "execution_count": 177,
      "id": "f57b138c",
      "metadata": {
        "colab": {
          "base_uri": "https://localhost:8080/"
        },
        "id": "f57b138c",
        "outputId": "1aea2b8d-af65-4dd8-aaca-2e817b1c4d07"
      },
      "outputs": [
        {
          "output_type": "stream",
          "name": "stdout",
          "text": [
            "Tokenizer AutoTokenizer loaded from roberta-base\n"
          ]
        },
        {
          "output_type": "stream",
          "name": "stderr",
          "text": [
            "Some weights of RobertaForSequenceClassification were not initialized from the model checkpoint at roberta-base and are newly initialized: ['classifier.dense.bias', 'classifier.dense.weight', 'classifier.out_proj.bias', 'classifier.out_proj.weight']\n",
            "You should probably TRAIN this model on a down-stream task to be able to use it for predictions and inference.\n"
          ]
        },
        {
          "output_type": "stream",
          "name": "stdout",
          "text": [
            "Model AutoModelForSequenceClassification loaded with 2 labels.\n"
          ]
        }
      ],
      "source": [
        "model_name = \"roberta-base\"\n",
        "LLM_RoBERTa_256 = LLMFineTuner(\n",
        "    model_cls=AutoModelForSequenceClassification,\n",
        "    pretrained_model_name_or_path=model_name,\n",
        "    tokenizer_cls=AutoTokenizer,\n",
        ")\n",
        "LLM_RoBERTa_256.set_dataset()\n",
        "LLM_RoBERTa_256.set_tokenizer(verbose=True)\n",
        "LLM_RoBERTa_256.set_model(verbose=True)"
      ]
    },
    {
      "cell_type": "code",
      "execution_count": 178,
      "id": "c30d9786",
      "metadata": {
        "colab": {
          "base_uri": "https://localhost:8080/"
        },
        "id": "c30d9786",
        "outputId": "1dbb2d77-d21a-438d-a064-68e950b26857"
      },
      "outputs": [
        {
          "output_type": "stream",
          "name": "stdout",
          "text": [
            "[roberta-base] Total params: 124.6M | Trainable: 124.6M | Device: cuda:0\n"
          ]
        }
      ],
      "source": [
        "total_params, trainable_params = LLM_RoBERTa_256.count_parameters()\n",
        "print(\n",
        "    f\"[{model_name}] Total params: {total_params/1e6:.1f}M | \"\n",
        "    f\"Trainable: {trainable_params/1e6:.1f}M | \"\n",
        "    f\"Device: {next(LLM_RoBERTa_256.model.parameters()).device}\"\n",
        ")"
      ]
    },
    {
      "cell_type": "markdown",
      "id": "8b99cea3",
      "metadata": {
        "id": "8b99cea3"
      },
      "source": [
        "### Comparaison `DistilBERT` et `RoBERTa-base`\n",
        "\n",
        "| Propriété                                     | `DistilBERT` (base-uncased)                                               | `RoBERTa-base`                                                |\n",
        "| --------------------------------------------- | --------------------------------------------------------------------------- | --------------------------------------------------------------- |\n",
        "| **Nombre de couches (encodeurs Transformer)** | 6                                                                           | 12                                                              |\n",
        "| **Taille cachée $d_\\text{model}$**         | 768                                                                         | 768                                                             |\n",
        "| **Têtes d’attention**                         | 12                                                                          | 12                                                              |\n",
        "| **Dimension par tête**                        | 64                                                                          | 64                                                              |\n",
        "| **Taille de la couche FFN / intermédiaire**   | 3072                                                                        | 3072                                                            |\n",
        "| **Nombre de paramètres (approx.)**            | \\~66M                                                                       | \\~125M                                                          |\n",
        "| **Longueur maximale des séquences**           | 512                                                                         | 514\\* (généralement utilisé comme 512)                          |\n",
        "| **Embeddings positionnels**                   | Appris (absolus)                                                            | Appris (absolus)                                                |\n",
        "| **Tokenizer & vocabulaire**                   | WordPiece (30 522 tokens), *minuscules*                                     | BPE au niveau des octets (50 265 tokens), *sensible à la casse* |\n",
        "| **Embeddings de segment (token type)**        | Non utilisés (le tokenizer peut en générer, mais le modèle les ignore)      | Non utilisés                                                    |\n",
        "| **Tokens spéciaux**                           | `[CLS]`, `[SEP]`, `[PAD]`, `[MASK]`                                         | `<s>`, `</s>`, `<pad>`, `<mask>`                                |\n",
        "| **Objectif de pré-entraînement**              | Masked LM + distillation depuis BERT-base (pertes KL + cosinus, pas de NSP) | Masked LM uniquement, **masquage dynamique**, pas de NSP        |\n",
        "| **Corpora de pré-entraînement (haut niveau)** | Wikipedia + BookCorpus (via BERT enseignant)                                | Plus large : BookCorpus, CC-News, OpenWebText, Stories          |\n",
        "| **Vitesse d'inférence typique**               | Plus rapide (moitié moins de couches)                                       | Plus lente (architecture plus profonde)                         |\n",
        "| **Mémoire / VRAM typique**                    | Plus faible                                                                 | Plus élevée                                                     |\n",
        "| **Compromis pratique**                        | Efficace, avec \\~95-97% de la précision de BERT-base                        | Précision brute plus forte, mais coût computationnel plus élevé |\n",
        "\n",
        "### Points clefs à retenir\n",
        "\n",
        "* **Capacité** : `RoBERTa-base` possède environ **2x plus de couches** et **2x plus de paramètres** que `DistilBERT` : en théorie, un plafond de performance plus élevé.\n",
        "* **Efficacité** : `DistilBERT` est bien plus **léger et rapide**, idéal lorsque la latence ou la mémoire (VRAM) sont critiques.\n",
        "* **Tokenisation** : WordPiece (*sans casse*) vs BPE au niveau des octets (*sensible à la casse*) : impact potentiel sur le traitement des tokens rares ou Unicode.\n",
        "* **Objectifs d'entraînement** : `DistilBERT` bénéficie de la **distillation** depuis BERT-base, tandis que `RoBERTa` mise sur un **MLM plus robuste** (masquage dynamique) et un **corpus d'entraînement plus large**.\n",
        "\n",
        "**Elements de précision sur le masquage dynamique** :\n",
        "\n",
        "Le **masquage dynamique** (*dynamic masking*) est une différence importante entre BERT/DistilBERT et RoBERTa.\n",
        "\n",
        "* **BERT / DistilBERT** : utilisent du **masquage statique** :\n",
        "  Lors de la création du dataset de pré-entraînement, les *tokens* qui devront être remplacés par `[MASK]` sont choisis à l'avance. Chaque fois qu'une phrase est réutilisée à l'entraînement, ce sont toujours les mêmes positions qui sont masquées.\n",
        "\n",
        "* **RoBERTa** : utilise du **masquage dynamique** :\n",
        "  À chaque passage d'un même texte pendant l'entraînement, les tokens masqués sont choisis **aléatoirement à nouveau**. Ainsi, un même texte peut fournir plusieurs exemples de masquage différents.\n",
        "\n",
        "**Conséquence** :\n",
        "\n",
        "* RoBERTa « voit » beaucoup plus de combinaisons et apprend des représentations plus robustes.\n",
        "* Cela augmente l'efficacité de l'entraînement et améliore la généralisation.\n",
        "\n"
      ]
    },
    {
      "cell_type": "markdown",
      "id": "3c7dc914",
      "metadata": {
        "id": "3c7dc914"
      },
      "source": [
        "## Reconstruction du dataset & des DataLoaders pour le nouveau modèle\n",
        "\n",
        "Comme nous utilisons désormais le tokenizer de `RoBERTa`, il est nécessaire de :\n",
        "* Re-tokeniser le dataset avec ce nouveau tokenizer,\n",
        "* Recréer le `DataCollator` (pour gérer le *padding* dynamique et l'*attention mask*),\n",
        "* Reconstruire les DataLoaders pour l'entraînement et la validation.\n",
        "\n",
        "Cette étape garantit que les deux modèles (`DistilBERT` et `RoBERTa`) soient comparés dans des conditions identiques."
      ]
    },
    {
      "cell_type": "code",
      "execution_count": 179,
      "id": "e6629402",
      "metadata": {
        "colab": {
          "base_uri": "https://localhost:8080/",
          "height": 49,
          "referenced_widgets": [
            "0c12380002cd44c39c2505935008d99a",
            "f2ae8a3a25794e4eb44d1c56bcdba999",
            "8ccc90cd15d34ce6b880673ab8acb0a4",
            "39b34773bb40432ab3ccd62a62f711af",
            "b7064671cd3c4f34af433ec02ac80351",
            "b74b66c0eb36469080cce4515d30ac21",
            "076e345cae5441029e8994969c2f826b",
            "31a85a027085456c818e91b7d3e8642c",
            "948842d5d5d14c9eb35f4927b5474574",
            "54d6c56a679a44b3969d6c70fb84ccb9",
            "55971c4a89c9423c8ea2b3a2c9c7affe"
          ]
        },
        "id": "e6629402",
        "outputId": "b963e0a0-7e5d-4cfb-cbf0-6319978d88ad"
      },
      "outputs": [
        {
          "output_type": "display_data",
          "data": {
            "text/plain": [
              "Map:   0%|          | 0/2000 [00:00<?, ? examples/s]"
            ],
            "application/vnd.jupyter.widget-view+json": {
              "version_major": 2,
              "version_minor": 0,
              "model_id": "0c12380002cd44c39c2505935008d99a"
            }
          },
          "metadata": {}
        }
      ],
      "source": [
        "LLM_RoBERTa_256.split_dataset()"
      ]
    },
    {
      "cell_type": "markdown",
      "id": "0edeec59",
      "metadata": {
        "id": "0edeec59"
      },
      "source": [
        "### Points à noter\n",
        "\n",
        "* **Différences de tokenisation** : RoBERTa utilise la **BPE au niveau des octets** et des tokens spéciaux différents (`<s>`, `</s>`, `<pad>`, `<mask>`).\n",
        "* **ID de padding** : pour RoBERTa, l'ID associé à `<pad>` est généralement **1** (alors qu'il est **0** pour DistilBERT/BERT). L'utilisation de `tokenizer.pad` permet d'éviter de coder cet ID en dur et prévient des erreurs dans les masques d'attention.\n",
        "* **Longueur maximale** : il est important de conserver la même valeur de `MAX_LEN` (ici **256**) que dans l'expérience DistilBERT afin de garantir une **comparaison équitable**. Sinon, on mélangerait l'effet de la **capacité du modèle** avec celui de la **longueur de contexte**.\n",
        "\n",
        "Après avoir reconstruit le dataset tokenisé pour RoBERTa, nous devons :\n",
        "* Initialiser un nouveau DataCollator compatible avec son tokenizer,\n",
        "* Créer les DataLoaders pour l'entraînement et la validation."
      ]
    },
    {
      "cell_type": "code",
      "execution_count": 180,
      "id": "df832800",
      "metadata": {
        "id": "df832800"
      },
      "outputs": [],
      "source": [
        "LLM_RoBERTa_256.set_data_collator()\n",
        "LLM_RoBERTa_256.set_loaders()"
      ]
    },
    {
      "cell_type": "code",
      "execution_count": 181,
      "id": "8b5c7a35",
      "metadata": {
        "colab": {
          "base_uri": "https://localhost:8080/"
        },
        "id": "8b5c7a35",
        "outputId": "537215b3-1988-4502-ca50-df150d49504e"
      },
      "outputs": [
        {
          "output_type": "stream",
          "name": "stdout",
          "text": [
            "Pad token ID: 1\n",
            "Special tokens:\n",
            " {\n",
            "  \"bos_token\": \"<s>\",\n",
            "  \"eos_token\": \"</s>\",\n",
            "  \"unk_token\": \"<unk>\",\n",
            "  \"sep_token\": \"</s>\",\n",
            "  \"pad_token\": \"<pad>\",\n",
            "  \"cls_token\": \"<s>\",\n",
            "  \"mask_token\": \"<mask>\"\n",
            "}\n",
            "Train, valid sizes: 1600, 400\n"
          ]
        }
      ],
      "source": [
        "print(\n",
        "    f\"Pad token ID: {LLM_RoBERTa_256.tokenizer.pad_token_id}\\n\"\n",
        "    f\"Special tokens:\\n {json.dumps(LLM_RoBERTa_256.tokenizer.special_tokens_map, indent=2)}\\n\"\n",
        "    f\"Train, valid sizes: {LLM_RoBERTa_256.n_train}, {LLM_RoBERTa_256.n_valid}\"\n",
        ")"
      ]
    },
    {
      "cell_type": "markdown",
      "id": "c95afcf8",
      "metadata": {
        "id": "c95afcf8"
      },
      "source": [
        "### Observations\n",
        "\n",
        "* **ID du padding** : `1` (RoBERTa) au lieu de `0` (DistilBERT/BERT).\n",
        "* **Tokens spéciaux** (propres à RoBERTa) :\n",
        "\n",
        "  * `<s>` = `[CLS]`\n",
        "  * `</s>` = `[SEP]`\n",
        "  * `<pad>` = `[PAD]`\n",
        "  * `<mask>` = `[MASK]`\n",
        "* **Répartition des données** :\n",
        "\n",
        "  * Entraînement : **1600 exemples**\n",
        "  * Validation : **400 exemples**\n",
        "\n",
        "Après avoir préparé le *dataset* et les *DataLoaders*, la prochaine étape consiste à :\n",
        "* Définir l'optimiseur (AdamW), qui ajustera les poids du modèle en fonction de la perte.\n",
        "* Mettre en place le *scheduler*, qui modulera le taux d'apprentissage au cours de l'entraînement (phase de *warmup* suivie d'une décroissance).\n",
        "\n",
        "Cette étape assure une stabilisation de l'entraînement et permet à `RoBERTa` d'apprendre efficacement sans sur-ajuster trop vite."
      ]
    },
    {
      "cell_type": "code",
      "execution_count": 182,
      "id": "eb6a8ee9",
      "metadata": {
        "id": "eb6a8ee9"
      },
      "outputs": [],
      "source": [
        "LLM_RoBERTa_256.set_optimizer()\n",
        "LLM_RoBERTa_256.set_scheduler()"
      ]
    },
    {
      "cell_type": "code",
      "execution_count": 183,
      "id": "210fba47",
      "metadata": {
        "colab": {
          "base_uri": "https://localhost:8080/"
        },
        "id": "210fba47",
        "outputId": "4197e735-f7bd-400b-f3dd-65b424e0dd10"
      },
      "outputs": [
        {
          "output_type": "stream",
          "name": "stdout",
          "text": [
            "[roberta-base] steps=1200, warmup=120\n"
          ]
        }
      ],
      "source": [
        "print(\n",
        "    f\"[{model_name}] steps={LLM_RoBERTa_256.num_total_steps}, warmup={LLM_RoBERTa_256.num_warmup_steps}\"\n",
        ")"
      ]
    },
    {
      "cell_type": "markdown",
      "id": "672b0f07",
      "metadata": {
        "id": "672b0f07"
      },
      "source": [
        "### Points à retenir\n",
        "\n",
        "* Pour comparer correctement les deux modèles, il est important de **conserver les mêmes hyperparamètres** (learning rate, weight decay, nombre d'époques).\n",
        "* Si `RoBERTa` obtenait de moins bons résultats avec `2e-5`, il pourrait être pertinent d'essayer un **taux d'apprentissage plus petit** (`1e-5`), car les modèles plus grands ont souvent besoin de pas plus fins pour converger correctement.\n",
        "\n",
        "## Éléments théoriques\n",
        "\n",
        "Avant de lancer l'entraînement de **RoBERTa**, rappelons rapidement les notions clés impliquées :\n",
        "\n",
        "### Forward pass\n",
        "\n",
        "* La séquence d'entrée est **tokenisée** puis passée dans l'encodeur Transformer.\n",
        "* Le vecteur associé au token spécial (`[CLS]` pour BERT / `<s>` pour RoBERTa) est utilisé comme **représentation globale**.\n",
        "* Une **tête de classification** (couche linéaire) produit les logits :\n",
        "\n",
        "$$\n",
        "z = W h_{\\text{CLS}} + b\n",
        "$$\n",
        "\n",
        "### Softmax : Probabilités\n",
        "\n",
        "Les logits sont transformés en probabilités pour chaque classe (binaire ici) :\n",
        "\n",
        "$$\n",
        "\\hat{y}_i = \\frac{e^{z_i}}{\\sum_{j=1}^C e^{z_j}}, \\quad C=2\n",
        "$$\n",
        "\n",
        "### Fonction de perte\n",
        "\n",
        "Avec l'entropie croisée :\n",
        "\n",
        "$$\n",
        "L = - \\Big( y \\cdot \\log(\\hat{y}_1) + (1-y) \\cdot \\log(\\hat{y}_0) \\Big)\n",
        "$$\n",
        "\n",
        "### Backpropagation\n",
        "\n",
        "Les gradients des poids sont calculés via la règle de la chaîne :\n",
        "\n",
        "$$\n",
        "\\nabla_w L = \\frac{\\partial L}{\\partial w}\n",
        "$$\n",
        "\n",
        "### Gradient clipping\n",
        "\n",
        "Pour stabiliser l'apprentissage, les gradients trop grands sont réduits :\n",
        "\n",
        "$$\n",
        "g \\leftarrow \\frac{g}{\\max(1, \\tfrac{\\|g\\|}{\\tau})}\n",
        "$$\n",
        "\n",
        "### Optimisation (AdamW)\n",
        "\n",
        "L'optimiseur maintient des moyennes mobiles des gradients :\n",
        "\n",
        "$$\n",
        "m_t = \\beta_1 m_{t-1} + (1 - \\beta_1) g_t\n",
        "$$\n",
        "\n",
        "$$\n",
        "v_t = \\beta_2 v_{t-1} + (1 - \\beta_2) g_t^2\n",
        "$$\n",
        "\n",
        "Après correction de biais :\n",
        "\n",
        "$$\n",
        "\\hat{m}_t = \\frac{m_t}{1 - \\beta_1^t}, \\quad\n",
        "\\hat{v}_t = \\frac{v_t}{1 - \\beta_2^t}\n",
        "$$\n",
        "\n",
        "Mise à jour des poids avec décroissance :\n",
        "\n",
        "$$\n",
        "w_t = w_{t-1} - \\eta \\cdot \\frac{\\hat{m}_t}{\\sqrt{\\hat{v}_t} + \\epsilon} - \\eta \\cdot \\lambda w_{t-1}\n",
        "$$\n",
        "\n",
        "### Scheduler (Warmup + Decay)\n",
        "\n",
        "Le taux d'apprentissage évolue en deux phases :\n",
        "\n",
        "$$\n",
        "\\text{lr}(t) =\n",
        "\\begin{cases}\n",
        "  \\eta \\cdot \\frac{t}{T_\\text{warmup}} & \\text{si } t < T_\\text{warmup} \\\\\\\\\n",
        "  \\eta \\cdot \\left(1 - \\frac{t - T_\\text{warmup}}{T_\\text{total} - T_\\text{warmup}}\\right) & \\text{si } t \\geq T_\\text{warmup}\n",
        "\\end{cases}\n",
        "$$\n",
        "\n",
        "Cette combinaison (AdamW + Scheduler) est devenue **le standard de facto** pour entraîner efficacement les modèles Transformers.\n",
        "\n",
        "Abordons à présent la phase de validation et d'entraînement de sorte à sélectionner le meilleur modèle et le confronter à `DistilBert`."
      ]
    },
    {
      "cell_type": "markdown",
      "id": "65425e3d",
      "metadata": {
        "id": "65425e3d"
      },
      "source": [
        "## Validate and train"
      ]
    },
    {
      "cell_type": "code",
      "execution_count": 184,
      "id": "4c01a147",
      "metadata": {
        "colab": {
          "base_uri": "https://localhost:8080/",
          "height": 694
        },
        "id": "4c01a147",
        "outputId": "ab63b465-f8b8-497c-d4cf-d9d9d29d2c00"
      },
      "outputs": [
        {
          "output_type": "stream",
          "name": "stderr",
          "text": [
            "You're using a RobertaTokenizerFast tokenizer. Please note that with a fast tokenizer, using the `__call__` method is faster than using a method to encode the text followed by a call to the `pad` method to get a padded encoding.\n"
          ]
        },
        {
          "output_type": "stream",
          "name": "stdout",
          "text": [
            "\n",
            "Epoch 1/3\n",
            "  Training loss: 0.6116\n",
            "  Validation loss: 0.4649 | Accuracy: 0.8900\n",
            "Saved new best model to ./roberta-best\n",
            "\n",
            "Epoch 2/3\n",
            "  Training loss: 0.4451\n",
            "  Validation loss: 0.4298 | Accuracy: 0.8975\n",
            "Saved new best model to ./roberta-best\n",
            "\n",
            "Epoch 3/3\n",
            "  Training loss: 0.2246\n",
            "  Validation loss: 0.4084 | Accuracy: 0.9200\n",
            "Saved new best model to ./roberta-best\n"
          ]
        },
        {
          "output_type": "display_data",
          "data": {
            "text/plain": [
              "<Figure size 1200x400 with 2 Axes>"
            ],
            "image/svg+xml": "<?xml version=\"1.0\" encoding=\"utf-8\" standalone=\"no\"?>\n<!DOCTYPE svg PUBLIC \"-//W3C//DTD SVG 1.1//EN\"\n  \"http://www.w3.org/Graphics/SVG/1.1/DTD/svg11.dtd\">\n<svg xmlns:xlink=\"http://www.w3.org/1999/xlink\" width=\"726.94375pt\" height=\"281.634375pt\" viewBox=\"0 0 726.94375 281.634375\" xmlns=\"http://www.w3.org/2000/svg\" version=\"1.1\">\n <metadata>\n  <rdf:RDF xmlns:dc=\"http://purl.org/dc/elements/1.1/\" xmlns:cc=\"http://creativecommons.org/ns#\" xmlns:rdf=\"http://www.w3.org/1999/02/22-rdf-syntax-ns#\">\n   <cc:Work>\n    <dc:type rdf:resource=\"http://purl.org/dc/dcmitype/StillImage\"/>\n    <dc:date>2025-09-14T14:36:39.693124</dc:date>\n    <dc:format>image/svg+xml</dc:format>\n    <dc:creator>\n     <cc:Agent>\n      <dc:title>Matplotlib v3.10.0, https://matplotlib.org/</dc:title>\n     </cc:Agent>\n    </dc:creator>\n   </cc:Work>\n  </rdf:RDF>\n </metadata>\n <defs>\n  <style type=\"text/css\">*{stroke-linejoin: round; stroke-linecap: butt}</style>\n </defs>\n <g id=\"figure_1\">\n  <g id=\"patch_1\">\n   <path d=\"M 0 281.634375 \nL 726.94375 281.634375 \nL 726.94375 0 \nL 0 0 \nz\n\" style=\"fill: #ffffff\"/>\n  </g>\n  <g id=\"axes_1\">\n   <g id=\"patch_2\">\n    <path d=\"M 50.14375 244.078125 \nL 354.507386 244.078125 \nL 354.507386 22.318125 \nL 50.14375 22.318125 \nz\n\" style=\"fill: #ffffff\"/>\n   </g>\n   <g id=\"matplotlib.axis_1\">\n    <g id=\"xtick_1\">\n     <g id=\"line2d_1\">\n      <path d=\"M 63.978461 244.078125 \nL 63.978461 22.318125 \n\" clip-path=\"url(#p7fd233737e)\" style=\"fill: none; stroke: #b0b0b0; stroke-width: 0.8; stroke-linecap: square\"/>\n     </g>\n     <g id=\"line2d_2\">\n      <defs>\n       <path id=\"ma372d6f6f1\" d=\"M 0 0 \nL 0 3.5 \n\" style=\"stroke: #000000; stroke-width: 0.8\"/>\n      </defs>\n      <g>\n       <use xlink:href=\"#ma372d6f6f1\" x=\"63.978461\" y=\"244.078125\" style=\"stroke: #000000; stroke-width: 0.8\"/>\n      </g>\n     </g>\n     <g id=\"text_1\">\n      <!-- 1.00 -->\n      <g transform=\"translate(52.845648 258.676562) scale(0.1 -0.1)\">\n       <defs>\n        <path id=\"DejaVuSans-31\" d=\"M 794 531 \nL 1825 531 \nL 1825 4091 \nL 703 3866 \nL 703 4441 \nL 1819 4666 \nL 2450 4666 \nL 2450 531 \nL 3481 531 \nL 3481 0 \nL 794 0 \nL 794 531 \nz\n\" transform=\"scale(0.015625)\"/>\n        <path id=\"DejaVuSans-2e\" d=\"M 684 794 \nL 1344 794 \nL 1344 0 \nL 684 0 \nL 684 794 \nz\n\" transform=\"scale(0.015625)\"/>\n        <path id=\"DejaVuSans-30\" d=\"M 2034 4250 \nQ 1547 4250 1301 3770 \nQ 1056 3291 1056 2328 \nQ 1056 1369 1301 889 \nQ 1547 409 2034 409 \nQ 2525 409 2770 889 \nQ 3016 1369 3016 2328 \nQ 3016 3291 2770 3770 \nQ 2525 4250 2034 4250 \nz\nM 2034 4750 \nQ 2819 4750 3233 4129 \nQ 3647 3509 3647 2328 \nQ 3647 1150 3233 529 \nQ 2819 -91 2034 -91 \nQ 1250 -91 836 529 \nQ 422 1150 422 2328 \nQ 422 3509 836 4129 \nQ 1250 4750 2034 4750 \nz\n\" transform=\"scale(0.015625)\"/>\n       </defs>\n       <use xlink:href=\"#DejaVuSans-31\"/>\n       <use xlink:href=\"#DejaVuSans-2e\" transform=\"translate(63.623047 0)\"/>\n       <use xlink:href=\"#DejaVuSans-30\" transform=\"translate(95.410156 0)\"/>\n       <use xlink:href=\"#DejaVuSans-30\" transform=\"translate(159.033203 0)\"/>\n      </g>\n     </g>\n    </g>\n    <g id=\"xtick_2\">\n     <g id=\"line2d_3\">\n      <path d=\"M 98.565238 244.078125 \nL 98.565238 22.318125 \n\" clip-path=\"url(#p7fd233737e)\" style=\"fill: none; stroke: #b0b0b0; stroke-width: 0.8; stroke-linecap: square\"/>\n     </g>\n     <g id=\"line2d_4\">\n      <g>\n       <use xlink:href=\"#ma372d6f6f1\" x=\"98.565238\" y=\"244.078125\" style=\"stroke: #000000; stroke-width: 0.8\"/>\n      </g>\n     </g>\n     <g id=\"text_2\">\n      <!-- 1.25 -->\n      <g transform=\"translate(87.432425 258.676562) scale(0.1 -0.1)\">\n       <defs>\n        <path id=\"DejaVuSans-32\" d=\"M 1228 531 \nL 3431 531 \nL 3431 0 \nL 469 0 \nL 469 531 \nQ 828 903 1448 1529 \nQ 2069 2156 2228 2338 \nQ 2531 2678 2651 2914 \nQ 2772 3150 2772 3378 \nQ 2772 3750 2511 3984 \nQ 2250 4219 1831 4219 \nQ 1534 4219 1204 4116 \nQ 875 4013 500 3803 \nL 500 4441 \nQ 881 4594 1212 4672 \nQ 1544 4750 1819 4750 \nQ 2544 4750 2975 4387 \nQ 3406 4025 3406 3419 \nQ 3406 3131 3298 2873 \nQ 3191 2616 2906 2266 \nQ 2828 2175 2409 1742 \nQ 1991 1309 1228 531 \nz\n\" transform=\"scale(0.015625)\"/>\n        <path id=\"DejaVuSans-35\" d=\"M 691 4666 \nL 3169 4666 \nL 3169 4134 \nL 1269 4134 \nL 1269 2991 \nQ 1406 3038 1543 3061 \nQ 1681 3084 1819 3084 \nQ 2600 3084 3056 2656 \nQ 3513 2228 3513 1497 \nQ 3513 744 3044 326 \nQ 2575 -91 1722 -91 \nQ 1428 -91 1123 -41 \nQ 819 9 494 109 \nL 494 744 \nQ 775 591 1075 516 \nQ 1375 441 1709 441 \nQ 2250 441 2565 725 \nQ 2881 1009 2881 1497 \nQ 2881 1984 2565 2268 \nQ 2250 2553 1709 2553 \nQ 1456 2553 1204 2497 \nQ 953 2441 691 2322 \nL 691 4666 \nz\n\" transform=\"scale(0.015625)\"/>\n       </defs>\n       <use xlink:href=\"#DejaVuSans-31\"/>\n       <use xlink:href=\"#DejaVuSans-2e\" transform=\"translate(63.623047 0)\"/>\n       <use xlink:href=\"#DejaVuSans-32\" transform=\"translate(95.410156 0)\"/>\n       <use xlink:href=\"#DejaVuSans-35\" transform=\"translate(159.033203 0)\"/>\n      </g>\n     </g>\n    </g>\n    <g id=\"xtick_3\">\n     <g id=\"line2d_5\">\n      <path d=\"M 133.152014 244.078125 \nL 133.152014 22.318125 \n\" clip-path=\"url(#p7fd233737e)\" style=\"fill: none; stroke: #b0b0b0; stroke-width: 0.8; stroke-linecap: square\"/>\n     </g>\n     <g id=\"line2d_6\">\n      <g>\n       <use xlink:href=\"#ma372d6f6f1\" x=\"133.152014\" y=\"244.078125\" style=\"stroke: #000000; stroke-width: 0.8\"/>\n      </g>\n     </g>\n     <g id=\"text_3\">\n      <!-- 1.50 -->\n      <g transform=\"translate(122.019202 258.676562) scale(0.1 -0.1)\">\n       <use xlink:href=\"#DejaVuSans-31\"/>\n       <use xlink:href=\"#DejaVuSans-2e\" transform=\"translate(63.623047 0)\"/>\n       <use xlink:href=\"#DejaVuSans-35\" transform=\"translate(95.410156 0)\"/>\n       <use xlink:href=\"#DejaVuSans-30\" transform=\"translate(159.033203 0)\"/>\n      </g>\n     </g>\n    </g>\n    <g id=\"xtick_4\">\n     <g id=\"line2d_7\">\n      <path d=\"M 167.738791 244.078125 \nL 167.738791 22.318125 \n\" clip-path=\"url(#p7fd233737e)\" style=\"fill: none; stroke: #b0b0b0; stroke-width: 0.8; stroke-linecap: square\"/>\n     </g>\n     <g id=\"line2d_8\">\n      <g>\n       <use xlink:href=\"#ma372d6f6f1\" x=\"167.738791\" y=\"244.078125\" style=\"stroke: #000000; stroke-width: 0.8\"/>\n      </g>\n     </g>\n     <g id=\"text_4\">\n      <!-- 1.75 -->\n      <g transform=\"translate(156.605979 258.676562) scale(0.1 -0.1)\">\n       <defs>\n        <path id=\"DejaVuSans-37\" d=\"M 525 4666 \nL 3525 4666 \nL 3525 4397 \nL 1831 0 \nL 1172 0 \nL 2766 4134 \nL 525 4134 \nL 525 4666 \nz\n\" transform=\"scale(0.015625)\"/>\n       </defs>\n       <use xlink:href=\"#DejaVuSans-31\"/>\n       <use xlink:href=\"#DejaVuSans-2e\" transform=\"translate(63.623047 0)\"/>\n       <use xlink:href=\"#DejaVuSans-37\" transform=\"translate(95.410156 0)\"/>\n       <use xlink:href=\"#DejaVuSans-35\" transform=\"translate(159.033203 0)\"/>\n      </g>\n     </g>\n    </g>\n    <g id=\"xtick_5\">\n     <g id=\"line2d_9\">\n      <path d=\"M 202.325568 244.078125 \nL 202.325568 22.318125 \n\" clip-path=\"url(#p7fd233737e)\" style=\"fill: none; stroke: #b0b0b0; stroke-width: 0.8; stroke-linecap: square\"/>\n     </g>\n     <g id=\"line2d_10\">\n      <g>\n       <use xlink:href=\"#ma372d6f6f1\" x=\"202.325568\" y=\"244.078125\" style=\"stroke: #000000; stroke-width: 0.8\"/>\n      </g>\n     </g>\n     <g id=\"text_5\">\n      <!-- 2.00 -->\n      <g transform=\"translate(191.192756 258.676562) scale(0.1 -0.1)\">\n       <use xlink:href=\"#DejaVuSans-32\"/>\n       <use xlink:href=\"#DejaVuSans-2e\" transform=\"translate(63.623047 0)\"/>\n       <use xlink:href=\"#DejaVuSans-30\" transform=\"translate(95.410156 0)\"/>\n       <use xlink:href=\"#DejaVuSans-30\" transform=\"translate(159.033203 0)\"/>\n      </g>\n     </g>\n    </g>\n    <g id=\"xtick_6\">\n     <g id=\"line2d_11\">\n      <path d=\"M 236.912345 244.078125 \nL 236.912345 22.318125 \n\" clip-path=\"url(#p7fd233737e)\" style=\"fill: none; stroke: #b0b0b0; stroke-width: 0.8; stroke-linecap: square\"/>\n     </g>\n     <g id=\"line2d_12\">\n      <g>\n       <use xlink:href=\"#ma372d6f6f1\" x=\"236.912345\" y=\"244.078125\" style=\"stroke: #000000; stroke-width: 0.8\"/>\n      </g>\n     </g>\n     <g id=\"text_6\">\n      <!-- 2.25 -->\n      <g transform=\"translate(225.779533 258.676562) scale(0.1 -0.1)\">\n       <use xlink:href=\"#DejaVuSans-32\"/>\n       <use xlink:href=\"#DejaVuSans-2e\" transform=\"translate(63.623047 0)\"/>\n       <use xlink:href=\"#DejaVuSans-32\" transform=\"translate(95.410156 0)\"/>\n       <use xlink:href=\"#DejaVuSans-35\" transform=\"translate(159.033203 0)\"/>\n      </g>\n     </g>\n    </g>\n    <g id=\"xtick_7\">\n     <g id=\"line2d_13\">\n      <path d=\"M 271.499122 244.078125 \nL 271.499122 22.318125 \n\" clip-path=\"url(#p7fd233737e)\" style=\"fill: none; stroke: #b0b0b0; stroke-width: 0.8; stroke-linecap: square\"/>\n     </g>\n     <g id=\"line2d_14\">\n      <g>\n       <use xlink:href=\"#ma372d6f6f1\" x=\"271.499122\" y=\"244.078125\" style=\"stroke: #000000; stroke-width: 0.8\"/>\n      </g>\n     </g>\n     <g id=\"text_7\">\n      <!-- 2.50 -->\n      <g transform=\"translate(260.366309 258.676562) scale(0.1 -0.1)\">\n       <use xlink:href=\"#DejaVuSans-32\"/>\n       <use xlink:href=\"#DejaVuSans-2e\" transform=\"translate(63.623047 0)\"/>\n       <use xlink:href=\"#DejaVuSans-35\" transform=\"translate(95.410156 0)\"/>\n       <use xlink:href=\"#DejaVuSans-30\" transform=\"translate(159.033203 0)\"/>\n      </g>\n     </g>\n    </g>\n    <g id=\"xtick_8\">\n     <g id=\"line2d_15\">\n      <path d=\"M 306.085899 244.078125 \nL 306.085899 22.318125 \n\" clip-path=\"url(#p7fd233737e)\" style=\"fill: none; stroke: #b0b0b0; stroke-width: 0.8; stroke-linecap: square\"/>\n     </g>\n     <g id=\"line2d_16\">\n      <g>\n       <use xlink:href=\"#ma372d6f6f1\" x=\"306.085899\" y=\"244.078125\" style=\"stroke: #000000; stroke-width: 0.8\"/>\n      </g>\n     </g>\n     <g id=\"text_8\">\n      <!-- 2.75 -->\n      <g transform=\"translate(294.953086 258.676562) scale(0.1 -0.1)\">\n       <use xlink:href=\"#DejaVuSans-32\"/>\n       <use xlink:href=\"#DejaVuSans-2e\" transform=\"translate(63.623047 0)\"/>\n       <use xlink:href=\"#DejaVuSans-37\" transform=\"translate(95.410156 0)\"/>\n       <use xlink:href=\"#DejaVuSans-35\" transform=\"translate(159.033203 0)\"/>\n      </g>\n     </g>\n    </g>\n    <g id=\"xtick_9\">\n     <g id=\"line2d_17\">\n      <path d=\"M 340.672676 244.078125 \nL 340.672676 22.318125 \n\" clip-path=\"url(#p7fd233737e)\" style=\"fill: none; stroke: #b0b0b0; stroke-width: 0.8; stroke-linecap: square\"/>\n     </g>\n     <g id=\"line2d_18\">\n      <g>\n       <use xlink:href=\"#ma372d6f6f1\" x=\"340.672676\" y=\"244.078125\" style=\"stroke: #000000; stroke-width: 0.8\"/>\n      </g>\n     </g>\n     <g id=\"text_9\">\n      <!-- 3.00 -->\n      <g transform=\"translate(329.539863 258.676562) scale(0.1 -0.1)\">\n       <defs>\n        <path id=\"DejaVuSans-33\" d=\"M 2597 2516 \nQ 3050 2419 3304 2112 \nQ 3559 1806 3559 1356 \nQ 3559 666 3084 287 \nQ 2609 -91 1734 -91 \nQ 1441 -91 1130 -33 \nQ 819 25 488 141 \nL 488 750 \nQ 750 597 1062 519 \nQ 1375 441 1716 441 \nQ 2309 441 2620 675 \nQ 2931 909 2931 1356 \nQ 2931 1769 2642 2001 \nQ 2353 2234 1838 2234 \nL 1294 2234 \nL 1294 2753 \nL 1863 2753 \nQ 2328 2753 2575 2939 \nQ 2822 3125 2822 3475 \nQ 2822 3834 2567 4026 \nQ 2313 4219 1838 4219 \nQ 1578 4219 1281 4162 \nQ 984 4106 628 3988 \nL 628 4550 \nQ 988 4650 1302 4700 \nQ 1616 4750 1894 4750 \nQ 2613 4750 3031 4423 \nQ 3450 4097 3450 3541 \nQ 3450 3153 3228 2886 \nQ 3006 2619 2597 2516 \nz\n\" transform=\"scale(0.015625)\"/>\n       </defs>\n       <use xlink:href=\"#DejaVuSans-33\"/>\n       <use xlink:href=\"#DejaVuSans-2e\" transform=\"translate(63.623047 0)\"/>\n       <use xlink:href=\"#DejaVuSans-30\" transform=\"translate(95.410156 0)\"/>\n       <use xlink:href=\"#DejaVuSans-30\" transform=\"translate(159.033203 0)\"/>\n      </g>\n     </g>\n    </g>\n    <g id=\"text_10\">\n     <!-- Epochs -->\n     <g transform=\"translate(184.409943 272.354687) scale(0.1 -0.1)\">\n      <defs>\n       <path id=\"DejaVuSans-45\" d=\"M 628 4666 \nL 3578 4666 \nL 3578 4134 \nL 1259 4134 \nL 1259 2753 \nL 3481 2753 \nL 3481 2222 \nL 1259 2222 \nL 1259 531 \nL 3634 531 \nL 3634 0 \nL 628 0 \nL 628 4666 \nz\n\" transform=\"scale(0.015625)\"/>\n       <path id=\"DejaVuSans-70\" d=\"M 1159 525 \nL 1159 -1331 \nL 581 -1331 \nL 581 3500 \nL 1159 3500 \nL 1159 2969 \nQ 1341 3281 1617 3432 \nQ 1894 3584 2278 3584 \nQ 2916 3584 3314 3078 \nQ 3713 2572 3713 1747 \nQ 3713 922 3314 415 \nQ 2916 -91 2278 -91 \nQ 1894 -91 1617 61 \nQ 1341 213 1159 525 \nz\nM 3116 1747 \nQ 3116 2381 2855 2742 \nQ 2594 3103 2138 3103 \nQ 1681 3103 1420 2742 \nQ 1159 2381 1159 1747 \nQ 1159 1113 1420 752 \nQ 1681 391 2138 391 \nQ 2594 391 2855 752 \nQ 3116 1113 3116 1747 \nz\n\" transform=\"scale(0.015625)\"/>\n       <path id=\"DejaVuSans-6f\" d=\"M 1959 3097 \nQ 1497 3097 1228 2736 \nQ 959 2375 959 1747 \nQ 959 1119 1226 758 \nQ 1494 397 1959 397 \nQ 2419 397 2687 759 \nQ 2956 1122 2956 1747 \nQ 2956 2369 2687 2733 \nQ 2419 3097 1959 3097 \nz\nM 1959 3584 \nQ 2709 3584 3137 3096 \nQ 3566 2609 3566 1747 \nQ 3566 888 3137 398 \nQ 2709 -91 1959 -91 \nQ 1206 -91 779 398 \nQ 353 888 353 1747 \nQ 353 2609 779 3096 \nQ 1206 3584 1959 3584 \nz\n\" transform=\"scale(0.015625)\"/>\n       <path id=\"DejaVuSans-63\" d=\"M 3122 3366 \nL 3122 2828 \nQ 2878 2963 2633 3030 \nQ 2388 3097 2138 3097 \nQ 1578 3097 1268 2742 \nQ 959 2388 959 1747 \nQ 959 1106 1268 751 \nQ 1578 397 2138 397 \nQ 2388 397 2633 464 \nQ 2878 531 3122 666 \nL 3122 134 \nQ 2881 22 2623 -34 \nQ 2366 -91 2075 -91 \nQ 1284 -91 818 406 \nQ 353 903 353 1747 \nQ 353 2603 823 3093 \nQ 1294 3584 2113 3584 \nQ 2378 3584 2631 3529 \nQ 2884 3475 3122 3366 \nz\n\" transform=\"scale(0.015625)\"/>\n       <path id=\"DejaVuSans-68\" d=\"M 3513 2113 \nL 3513 0 \nL 2938 0 \nL 2938 2094 \nQ 2938 2591 2744 2837 \nQ 2550 3084 2163 3084 \nQ 1697 3084 1428 2787 \nQ 1159 2491 1159 1978 \nL 1159 0 \nL 581 0 \nL 581 4863 \nL 1159 4863 \nL 1159 2956 \nQ 1366 3272 1645 3428 \nQ 1925 3584 2291 3584 \nQ 2894 3584 3203 3211 \nQ 3513 2838 3513 2113 \nz\n\" transform=\"scale(0.015625)\"/>\n       <path id=\"DejaVuSans-73\" d=\"M 2834 3397 \nL 2834 2853 \nQ 2591 2978 2328 3040 \nQ 2066 3103 1784 3103 \nQ 1356 3103 1142 2972 \nQ 928 2841 928 2578 \nQ 928 2378 1081 2264 \nQ 1234 2150 1697 2047 \nL 1894 2003 \nQ 2506 1872 2764 1633 \nQ 3022 1394 3022 966 \nQ 3022 478 2636 193 \nQ 2250 -91 1575 -91 \nQ 1294 -91 989 -36 \nQ 684 19 347 128 \nL 347 722 \nQ 666 556 975 473 \nQ 1284 391 1588 391 \nQ 1994 391 2212 530 \nQ 2431 669 2431 922 \nQ 2431 1156 2273 1281 \nQ 2116 1406 1581 1522 \nL 1381 1569 \nQ 847 1681 609 1914 \nQ 372 2147 372 2553 \nQ 372 3047 722 3315 \nQ 1072 3584 1716 3584 \nQ 2034 3584 2315 3537 \nQ 2597 3491 2834 3397 \nz\n\" transform=\"scale(0.015625)\"/>\n      </defs>\n      <use xlink:href=\"#DejaVuSans-45\"/>\n      <use xlink:href=\"#DejaVuSans-70\" transform=\"translate(63.183594 0)\"/>\n      <use xlink:href=\"#DejaVuSans-6f\" transform=\"translate(126.660156 0)\"/>\n      <use xlink:href=\"#DejaVuSans-63\" transform=\"translate(187.841797 0)\"/>\n      <use xlink:href=\"#DejaVuSans-68\" transform=\"translate(242.822266 0)\"/>\n      <use xlink:href=\"#DejaVuSans-73\" transform=\"translate(306.201172 0)\"/>\n     </g>\n    </g>\n   </g>\n   <g id=\"matplotlib.axis_2\">\n    <g id=\"ytick_1\">\n     <g id=\"line2d_19\">\n      <path d=\"M 50.14375 220.78969 \nL 354.507386 220.78969 \n\" clip-path=\"url(#p7fd233737e)\" style=\"fill: none; stroke: #b0b0b0; stroke-width: 0.8; stroke-linecap: square\"/>\n     </g>\n     <g id=\"line2d_20\">\n      <defs>\n       <path id=\"m9b4f3c8547\" d=\"M 0 0 \nL -3.5 0 \n\" style=\"stroke: #000000; stroke-width: 0.8\"/>\n      </defs>\n      <g>\n       <use xlink:href=\"#m9b4f3c8547\" x=\"50.14375\" y=\"220.78969\" style=\"stroke: #000000; stroke-width: 0.8\"/>\n      </g>\n     </g>\n     <g id=\"text_11\">\n      <!-- 0.25 -->\n      <g transform=\"translate(20.878125 224.588909) scale(0.1 -0.1)\">\n       <use xlink:href=\"#DejaVuSans-30\"/>\n       <use xlink:href=\"#DejaVuSans-2e\" transform=\"translate(63.623047 0)\"/>\n       <use xlink:href=\"#DejaVuSans-32\" transform=\"translate(95.410156 0)\"/>\n       <use xlink:href=\"#DejaVuSans-35\" transform=\"translate(159.033203 0)\"/>\n      </g>\n     </g>\n    </g>\n    <g id=\"ytick_2\">\n     <g id=\"line2d_21\">\n      <path d=\"M 50.14375 194.738989 \nL 354.507386 194.738989 \n\" clip-path=\"url(#p7fd233737e)\" style=\"fill: none; stroke: #b0b0b0; stroke-width: 0.8; stroke-linecap: square\"/>\n     </g>\n     <g id=\"line2d_22\">\n      <g>\n       <use xlink:href=\"#m9b4f3c8547\" x=\"50.14375\" y=\"194.738989\" style=\"stroke: #000000; stroke-width: 0.8\"/>\n      </g>\n     </g>\n     <g id=\"text_12\">\n      <!-- 0.30 -->\n      <g transform=\"translate(20.878125 198.538208) scale(0.1 -0.1)\">\n       <use xlink:href=\"#DejaVuSans-30\"/>\n       <use xlink:href=\"#DejaVuSans-2e\" transform=\"translate(63.623047 0)\"/>\n       <use xlink:href=\"#DejaVuSans-33\" transform=\"translate(95.410156 0)\"/>\n       <use xlink:href=\"#DejaVuSans-30\" transform=\"translate(159.033203 0)\"/>\n      </g>\n     </g>\n    </g>\n    <g id=\"ytick_3\">\n     <g id=\"line2d_23\">\n      <path d=\"M 50.14375 168.688288 \nL 354.507386 168.688288 \n\" clip-path=\"url(#p7fd233737e)\" style=\"fill: none; stroke: #b0b0b0; stroke-width: 0.8; stroke-linecap: square\"/>\n     </g>\n     <g id=\"line2d_24\">\n      <g>\n       <use xlink:href=\"#m9b4f3c8547\" x=\"50.14375\" y=\"168.688288\" style=\"stroke: #000000; stroke-width: 0.8\"/>\n      </g>\n     </g>\n     <g id=\"text_13\">\n      <!-- 0.35 -->\n      <g transform=\"translate(20.878125 172.487507) scale(0.1 -0.1)\">\n       <use xlink:href=\"#DejaVuSans-30\"/>\n       <use xlink:href=\"#DejaVuSans-2e\" transform=\"translate(63.623047 0)\"/>\n       <use xlink:href=\"#DejaVuSans-33\" transform=\"translate(95.410156 0)\"/>\n       <use xlink:href=\"#DejaVuSans-35\" transform=\"translate(159.033203 0)\"/>\n      </g>\n     </g>\n    </g>\n    <g id=\"ytick_4\">\n     <g id=\"line2d_25\">\n      <path d=\"M 50.14375 142.637587 \nL 354.507386 142.637587 \n\" clip-path=\"url(#p7fd233737e)\" style=\"fill: none; stroke: #b0b0b0; stroke-width: 0.8; stroke-linecap: square\"/>\n     </g>\n     <g id=\"line2d_26\">\n      <g>\n       <use xlink:href=\"#m9b4f3c8547\" x=\"50.14375\" y=\"142.637587\" style=\"stroke: #000000; stroke-width: 0.8\"/>\n      </g>\n     </g>\n     <g id=\"text_14\">\n      <!-- 0.40 -->\n      <g transform=\"translate(20.878125 146.436805) scale(0.1 -0.1)\">\n       <defs>\n        <path id=\"DejaVuSans-34\" d=\"M 2419 4116 \nL 825 1625 \nL 2419 1625 \nL 2419 4116 \nz\nM 2253 4666 \nL 3047 4666 \nL 3047 1625 \nL 3713 1625 \nL 3713 1100 \nL 3047 1100 \nL 3047 0 \nL 2419 0 \nL 2419 1100 \nL 313 1100 \nL 313 1709 \nL 2253 4666 \nz\n\" transform=\"scale(0.015625)\"/>\n       </defs>\n       <use xlink:href=\"#DejaVuSans-30\"/>\n       <use xlink:href=\"#DejaVuSans-2e\" transform=\"translate(63.623047 0)\"/>\n       <use xlink:href=\"#DejaVuSans-34\" transform=\"translate(95.410156 0)\"/>\n       <use xlink:href=\"#DejaVuSans-30\" transform=\"translate(159.033203 0)\"/>\n      </g>\n     </g>\n    </g>\n    <g id=\"ytick_5\">\n     <g id=\"line2d_27\">\n      <path d=\"M 50.14375 116.586885 \nL 354.507386 116.586885 \n\" clip-path=\"url(#p7fd233737e)\" style=\"fill: none; stroke: #b0b0b0; stroke-width: 0.8; stroke-linecap: square\"/>\n     </g>\n     <g id=\"line2d_28\">\n      <g>\n       <use xlink:href=\"#m9b4f3c8547\" x=\"50.14375\" y=\"116.586885\" style=\"stroke: #000000; stroke-width: 0.8\"/>\n      </g>\n     </g>\n     <g id=\"text_15\">\n      <!-- 0.45 -->\n      <g transform=\"translate(20.878125 120.386104) scale(0.1 -0.1)\">\n       <use xlink:href=\"#DejaVuSans-30\"/>\n       <use xlink:href=\"#DejaVuSans-2e\" transform=\"translate(63.623047 0)\"/>\n       <use xlink:href=\"#DejaVuSans-34\" transform=\"translate(95.410156 0)\"/>\n       <use xlink:href=\"#DejaVuSans-35\" transform=\"translate(159.033203 0)\"/>\n      </g>\n     </g>\n    </g>\n    <g id=\"ytick_6\">\n     <g id=\"line2d_29\">\n      <path d=\"M 50.14375 90.536184 \nL 354.507386 90.536184 \n\" clip-path=\"url(#p7fd233737e)\" style=\"fill: none; stroke: #b0b0b0; stroke-width: 0.8; stroke-linecap: square\"/>\n     </g>\n     <g id=\"line2d_30\">\n      <g>\n       <use xlink:href=\"#m9b4f3c8547\" x=\"50.14375\" y=\"90.536184\" style=\"stroke: #000000; stroke-width: 0.8\"/>\n      </g>\n     </g>\n     <g id=\"text_16\">\n      <!-- 0.50 -->\n      <g transform=\"translate(20.878125 94.335403) scale(0.1 -0.1)\">\n       <use xlink:href=\"#DejaVuSans-30\"/>\n       <use xlink:href=\"#DejaVuSans-2e\" transform=\"translate(63.623047 0)\"/>\n       <use xlink:href=\"#DejaVuSans-35\" transform=\"translate(95.410156 0)\"/>\n       <use xlink:href=\"#DejaVuSans-30\" transform=\"translate(159.033203 0)\"/>\n      </g>\n     </g>\n    </g>\n    <g id=\"ytick_7\">\n     <g id=\"line2d_31\">\n      <path d=\"M 50.14375 64.485483 \nL 354.507386 64.485483 \n\" clip-path=\"url(#p7fd233737e)\" style=\"fill: none; stroke: #b0b0b0; stroke-width: 0.8; stroke-linecap: square\"/>\n     </g>\n     <g id=\"line2d_32\">\n      <g>\n       <use xlink:href=\"#m9b4f3c8547\" x=\"50.14375\" y=\"64.485483\" style=\"stroke: #000000; stroke-width: 0.8\"/>\n      </g>\n     </g>\n     <g id=\"text_17\">\n      <!-- 0.55 -->\n      <g transform=\"translate(20.878125 68.284702) scale(0.1 -0.1)\">\n       <use xlink:href=\"#DejaVuSans-30\"/>\n       <use xlink:href=\"#DejaVuSans-2e\" transform=\"translate(63.623047 0)\"/>\n       <use xlink:href=\"#DejaVuSans-35\" transform=\"translate(95.410156 0)\"/>\n       <use xlink:href=\"#DejaVuSans-35\" transform=\"translate(159.033203 0)\"/>\n      </g>\n     </g>\n    </g>\n    <g id=\"ytick_8\">\n     <g id=\"line2d_33\">\n      <path d=\"M 50.14375 38.434782 \nL 354.507386 38.434782 \n\" clip-path=\"url(#p7fd233737e)\" style=\"fill: none; stroke: #b0b0b0; stroke-width: 0.8; stroke-linecap: square\"/>\n     </g>\n     <g id=\"line2d_34\">\n      <g>\n       <use xlink:href=\"#m9b4f3c8547\" x=\"50.14375\" y=\"38.434782\" style=\"stroke: #000000; stroke-width: 0.8\"/>\n      </g>\n     </g>\n     <g id=\"text_18\">\n      <!-- 0.60 -->\n      <g transform=\"translate(20.878125 42.234) scale(0.1 -0.1)\">\n       <defs>\n        <path id=\"DejaVuSans-36\" d=\"M 2113 2584 \nQ 1688 2584 1439 2293 \nQ 1191 2003 1191 1497 \nQ 1191 994 1439 701 \nQ 1688 409 2113 409 \nQ 2538 409 2786 701 \nQ 3034 994 3034 1497 \nQ 3034 2003 2786 2293 \nQ 2538 2584 2113 2584 \nz\nM 3366 4563 \nL 3366 3988 \nQ 3128 4100 2886 4159 \nQ 2644 4219 2406 4219 \nQ 1781 4219 1451 3797 \nQ 1122 3375 1075 2522 \nQ 1259 2794 1537 2939 \nQ 1816 3084 2150 3084 \nQ 2853 3084 3261 2657 \nQ 3669 2231 3669 1497 \nQ 3669 778 3244 343 \nQ 2819 -91 2113 -91 \nQ 1303 -91 875 529 \nQ 447 1150 447 2328 \nQ 447 3434 972 4092 \nQ 1497 4750 2381 4750 \nQ 2619 4750 2861 4703 \nQ 3103 4656 3366 4563 \nz\n\" transform=\"scale(0.015625)\"/>\n       </defs>\n       <use xlink:href=\"#DejaVuSans-30\"/>\n       <use xlink:href=\"#DejaVuSans-2e\" transform=\"translate(63.623047 0)\"/>\n       <use xlink:href=\"#DejaVuSans-36\" transform=\"translate(95.410156 0)\"/>\n       <use xlink:href=\"#DejaVuSans-30\" transform=\"translate(159.033203 0)\"/>\n      </g>\n     </g>\n    </g>\n    <g id=\"text_19\">\n     <!-- Loss -->\n     <g transform=\"translate(14.798437 144.165312) rotate(-90) scale(0.1 -0.1)\">\n      <defs>\n       <path id=\"DejaVuSans-4c\" d=\"M 628 4666 \nL 1259 4666 \nL 1259 531 \nL 3531 531 \nL 3531 0 \nL 628 0 \nL 628 4666 \nz\n\" transform=\"scale(0.015625)\"/>\n      </defs>\n      <use xlink:href=\"#DejaVuSans-4c\"/>\n      <use xlink:href=\"#DejaVuSans-6f\" transform=\"translate(53.962891 0)\"/>\n      <use xlink:href=\"#DejaVuSans-73\" transform=\"translate(115.144531 0)\"/>\n      <use xlink:href=\"#DejaVuSans-73\" transform=\"translate(167.244141 0)\"/>\n     </g>\n    </g>\n   </g>\n   <g id=\"line2d_35\">\n    <path d=\"M 63.978461 32.398125 \nL 202.325568 119.134736 \nL 340.672676 233.998125 \n\" clip-path=\"url(#p7fd233737e)\" style=\"fill: none; stroke: #1f77b4; stroke-width: 1.5; stroke-linecap: square\"/>\n    <defs>\n     <path id=\"m407c2d9d30\" d=\"M 0 3 \nC 0.795609 3 1.55874 2.683901 2.12132 2.12132 \nC 2.683901 1.55874 3 0.795609 3 0 \nC 3 -0.795609 2.683901 -1.55874 2.12132 -2.12132 \nC 1.55874 -2.683901 0.795609 -3 0 -3 \nC -0.795609 -3 -1.55874 -2.683901 -2.12132 -2.12132 \nC -2.683901 -1.55874 -3 -0.795609 -3 0 \nC -3 0.795609 -2.683901 1.55874 -2.12132 2.12132 \nC -1.55874 2.683901 -0.795609 3 0 3 \nz\n\" style=\"stroke: #1f77b4\"/>\n    </defs>\n    <g clip-path=\"url(#p7fd233737e)\">\n     <use xlink:href=\"#m407c2d9d30\" x=\"63.978461\" y=\"32.398125\" style=\"fill: #1f77b4; stroke: #1f77b4\"/>\n     <use xlink:href=\"#m407c2d9d30\" x=\"202.325568\" y=\"119.134736\" style=\"fill: #1f77b4; stroke: #1f77b4\"/>\n     <use xlink:href=\"#m407c2d9d30\" x=\"340.672676\" y=\"233.998125\" style=\"fill: #1f77b4; stroke: #1f77b4\"/>\n    </g>\n   </g>\n   <g id=\"line2d_36\">\n    <path d=\"M 63.978461 108.81085 \nL 202.325568 127.095176 \nL 340.672676 138.238937 \n\" clip-path=\"url(#p7fd233737e)\" style=\"fill: none; stroke: #ff7f0e; stroke-width: 1.5; stroke-linecap: square\"/>\n    <defs>\n     <path id=\"m41ef674723\" d=\"M 0 3 \nC 0.795609 3 1.55874 2.683901 2.12132 2.12132 \nC 2.683901 1.55874 3 0.795609 3 0 \nC 3 -0.795609 2.683901 -1.55874 2.12132 -2.12132 \nC 1.55874 -2.683901 0.795609 -3 0 -3 \nC -0.795609 -3 -1.55874 -2.683901 -2.12132 -2.12132 \nC -2.683901 -1.55874 -3 -0.795609 -3 0 \nC -3 0.795609 -2.683901 1.55874 -2.12132 2.12132 \nC -1.55874 2.683901 -0.795609 3 0 3 \nz\n\" style=\"stroke: #ff7f0e\"/>\n    </defs>\n    <g clip-path=\"url(#p7fd233737e)\">\n     <use xlink:href=\"#m41ef674723\" x=\"63.978461\" y=\"108.81085\" style=\"fill: #ff7f0e; stroke: #ff7f0e\"/>\n     <use xlink:href=\"#m41ef674723\" x=\"202.325568\" y=\"127.095176\" style=\"fill: #ff7f0e; stroke: #ff7f0e\"/>\n     <use xlink:href=\"#m41ef674723\" x=\"340.672676\" y=\"138.238937\" style=\"fill: #ff7f0e; stroke: #ff7f0e\"/>\n    </g>\n   </g>\n   <g id=\"patch_3\">\n    <path d=\"M 50.14375 244.078125 \nL 50.14375 22.318125 \n\" style=\"fill: none; stroke: #000000; stroke-width: 0.8; stroke-linejoin: miter; stroke-linecap: square\"/>\n   </g>\n   <g id=\"patch_4\">\n    <path d=\"M 354.507386 244.078125 \nL 354.507386 22.318125 \n\" style=\"fill: none; stroke: #000000; stroke-width: 0.8; stroke-linejoin: miter; stroke-linecap: square\"/>\n   </g>\n   <g id=\"patch_5\">\n    <path d=\"M 50.14375 244.078125 \nL 354.507386 244.078125 \n\" style=\"fill: none; stroke: #000000; stroke-width: 0.8; stroke-linejoin: miter; stroke-linecap: square\"/>\n   </g>\n   <g id=\"patch_6\">\n    <path d=\"M 50.14375 22.318125 \nL 354.507386 22.318125 \n\" style=\"fill: none; stroke: #000000; stroke-width: 0.8; stroke-linejoin: miter; stroke-linecap: square\"/>\n   </g>\n   <g id=\"text_20\">\n    <!-- Training vs Validation Loss -->\n    <g transform=\"translate(123.467756 16.318125) scale(0.12 -0.12)\">\n     <defs>\n      <path id=\"DejaVuSans-54\" d=\"M -19 4666 \nL 3928 4666 \nL 3928 4134 \nL 2272 4134 \nL 2272 0 \nL 1638 0 \nL 1638 4134 \nL -19 4134 \nL -19 4666 \nz\n\" transform=\"scale(0.015625)\"/>\n      <path id=\"DejaVuSans-72\" d=\"M 2631 2963 \nQ 2534 3019 2420 3045 \nQ 2306 3072 2169 3072 \nQ 1681 3072 1420 2755 \nQ 1159 2438 1159 1844 \nL 1159 0 \nL 581 0 \nL 581 3500 \nL 1159 3500 \nL 1159 2956 \nQ 1341 3275 1631 3429 \nQ 1922 3584 2338 3584 \nQ 2397 3584 2469 3576 \nQ 2541 3569 2628 3553 \nL 2631 2963 \nz\n\" transform=\"scale(0.015625)\"/>\n      <path id=\"DejaVuSans-61\" d=\"M 2194 1759 \nQ 1497 1759 1228 1600 \nQ 959 1441 959 1056 \nQ 959 750 1161 570 \nQ 1363 391 1709 391 \nQ 2188 391 2477 730 \nQ 2766 1069 2766 1631 \nL 2766 1759 \nL 2194 1759 \nz\nM 3341 1997 \nL 3341 0 \nL 2766 0 \nL 2766 531 \nQ 2569 213 2275 61 \nQ 1981 -91 1556 -91 \nQ 1019 -91 701 211 \nQ 384 513 384 1019 \nQ 384 1609 779 1909 \nQ 1175 2209 1959 2209 \nL 2766 2209 \nL 2766 2266 \nQ 2766 2663 2505 2880 \nQ 2244 3097 1772 3097 \nQ 1472 3097 1187 3025 \nQ 903 2953 641 2809 \nL 641 3341 \nQ 956 3463 1253 3523 \nQ 1550 3584 1831 3584 \nQ 2591 3584 2966 3190 \nQ 3341 2797 3341 1997 \nz\n\" transform=\"scale(0.015625)\"/>\n      <path id=\"DejaVuSans-69\" d=\"M 603 3500 \nL 1178 3500 \nL 1178 0 \nL 603 0 \nL 603 3500 \nz\nM 603 4863 \nL 1178 4863 \nL 1178 4134 \nL 603 4134 \nL 603 4863 \nz\n\" transform=\"scale(0.015625)\"/>\n      <path id=\"DejaVuSans-6e\" d=\"M 3513 2113 \nL 3513 0 \nL 2938 0 \nL 2938 2094 \nQ 2938 2591 2744 2837 \nQ 2550 3084 2163 3084 \nQ 1697 3084 1428 2787 \nQ 1159 2491 1159 1978 \nL 1159 0 \nL 581 0 \nL 581 3500 \nL 1159 3500 \nL 1159 2956 \nQ 1366 3272 1645 3428 \nQ 1925 3584 2291 3584 \nQ 2894 3584 3203 3211 \nQ 3513 2838 3513 2113 \nz\n\" transform=\"scale(0.015625)\"/>\n      <path id=\"DejaVuSans-67\" d=\"M 2906 1791 \nQ 2906 2416 2648 2759 \nQ 2391 3103 1925 3103 \nQ 1463 3103 1205 2759 \nQ 947 2416 947 1791 \nQ 947 1169 1205 825 \nQ 1463 481 1925 481 \nQ 2391 481 2648 825 \nQ 2906 1169 2906 1791 \nz\nM 3481 434 \nQ 3481 -459 3084 -895 \nQ 2688 -1331 1869 -1331 \nQ 1566 -1331 1297 -1286 \nQ 1028 -1241 775 -1147 \nL 775 -588 \nQ 1028 -725 1275 -790 \nQ 1522 -856 1778 -856 \nQ 2344 -856 2625 -561 \nQ 2906 -266 2906 331 \nL 2906 616 \nQ 2728 306 2450 153 \nQ 2172 0 1784 0 \nQ 1141 0 747 490 \nQ 353 981 353 1791 \nQ 353 2603 747 3093 \nQ 1141 3584 1784 3584 \nQ 2172 3584 2450 3431 \nQ 2728 3278 2906 2969 \nL 2906 3500 \nL 3481 3500 \nL 3481 434 \nz\n\" transform=\"scale(0.015625)\"/>\n      <path id=\"DejaVuSans-20\" transform=\"scale(0.015625)\"/>\n      <path id=\"DejaVuSans-76\" d=\"M 191 3500 \nL 800 3500 \nL 1894 563 \nL 2988 3500 \nL 3597 3500 \nL 2284 0 \nL 1503 0 \nL 191 3500 \nz\n\" transform=\"scale(0.015625)\"/>\n      <path id=\"DejaVuSans-56\" d=\"M 1831 0 \nL 50 4666 \nL 709 4666 \nL 2188 738 \nL 3669 4666 \nL 4325 4666 \nL 2547 0 \nL 1831 0 \nz\n\" transform=\"scale(0.015625)\"/>\n      <path id=\"DejaVuSans-6c\" d=\"M 603 4863 \nL 1178 4863 \nL 1178 0 \nL 603 0 \nL 603 4863 \nz\n\" transform=\"scale(0.015625)\"/>\n      <path id=\"DejaVuSans-64\" d=\"M 2906 2969 \nL 2906 4863 \nL 3481 4863 \nL 3481 0 \nL 2906 0 \nL 2906 525 \nQ 2725 213 2448 61 \nQ 2172 -91 1784 -91 \nQ 1150 -91 751 415 \nQ 353 922 353 1747 \nQ 353 2572 751 3078 \nQ 1150 3584 1784 3584 \nQ 2172 3584 2448 3432 \nQ 2725 3281 2906 2969 \nz\nM 947 1747 \nQ 947 1113 1208 752 \nQ 1469 391 1925 391 \nQ 2381 391 2643 752 \nQ 2906 1113 2906 1747 \nQ 2906 2381 2643 2742 \nQ 2381 3103 1925 3103 \nQ 1469 3103 1208 2742 \nQ 947 2381 947 1747 \nz\n\" transform=\"scale(0.015625)\"/>\n      <path id=\"DejaVuSans-74\" d=\"M 1172 4494 \nL 1172 3500 \nL 2356 3500 \nL 2356 3053 \nL 1172 3053 \nL 1172 1153 \nQ 1172 725 1289 603 \nQ 1406 481 1766 481 \nL 2356 481 \nL 2356 0 \nL 1766 0 \nQ 1100 0 847 248 \nQ 594 497 594 1153 \nL 594 3053 \nL 172 3053 \nL 172 3500 \nL 594 3500 \nL 594 4494 \nL 1172 4494 \nz\n\" transform=\"scale(0.015625)\"/>\n     </defs>\n     <use xlink:href=\"#DejaVuSans-54\"/>\n     <use xlink:href=\"#DejaVuSans-72\" transform=\"translate(46.333984 0)\"/>\n     <use xlink:href=\"#DejaVuSans-61\" transform=\"translate(87.447266 0)\"/>\n     <use xlink:href=\"#DejaVuSans-69\" transform=\"translate(148.726562 0)\"/>\n     <use xlink:href=\"#DejaVuSans-6e\" transform=\"translate(176.509766 0)\"/>\n     <use xlink:href=\"#DejaVuSans-69\" transform=\"translate(239.888672 0)\"/>\n     <use xlink:href=\"#DejaVuSans-6e\" transform=\"translate(267.671875 0)\"/>\n     <use xlink:href=\"#DejaVuSans-67\" transform=\"translate(331.050781 0)\"/>\n     <use xlink:href=\"#DejaVuSans-20\" transform=\"translate(394.527344 0)\"/>\n     <use xlink:href=\"#DejaVuSans-76\" transform=\"translate(426.314453 0)\"/>\n     <use xlink:href=\"#DejaVuSans-73\" transform=\"translate(485.494141 0)\"/>\n     <use xlink:href=\"#DejaVuSans-20\" transform=\"translate(537.59375 0)\"/>\n     <use xlink:href=\"#DejaVuSans-56\" transform=\"translate(569.380859 0)\"/>\n     <use xlink:href=\"#DejaVuSans-61\" transform=\"translate(630.039062 0)\"/>\n     <use xlink:href=\"#DejaVuSans-6c\" transform=\"translate(691.318359 0)\"/>\n     <use xlink:href=\"#DejaVuSans-69\" transform=\"translate(719.101562 0)\"/>\n     <use xlink:href=\"#DejaVuSans-64\" transform=\"translate(746.884766 0)\"/>\n     <use xlink:href=\"#DejaVuSans-61\" transform=\"translate(810.361328 0)\"/>\n     <use xlink:href=\"#DejaVuSans-74\" transform=\"translate(871.640625 0)\"/>\n     <use xlink:href=\"#DejaVuSans-69\" transform=\"translate(910.849609 0)\"/>\n     <use xlink:href=\"#DejaVuSans-6f\" transform=\"translate(938.632812 0)\"/>\n     <use xlink:href=\"#DejaVuSans-6e\" transform=\"translate(999.814453 0)\"/>\n     <use xlink:href=\"#DejaVuSans-20\" transform=\"translate(1063.193359 0)\"/>\n     <use xlink:href=\"#DejaVuSans-4c\" transform=\"translate(1094.980469 0)\"/>\n     <use xlink:href=\"#DejaVuSans-6f\" transform=\"translate(1148.943359 0)\"/>\n     <use xlink:href=\"#DejaVuSans-73\" transform=\"translate(1210.125 0)\"/>\n     <use xlink:href=\"#DejaVuSans-73\" transform=\"translate(1262.224609 0)\"/>\n    </g>\n   </g>\n   <g id=\"legend_1\">\n    <g id=\"patch_7\">\n     <path d=\"M 241.013636 59.674375 \nL 347.507386 59.674375 \nQ 349.507386 59.674375 349.507386 57.674375 \nL 349.507386 29.318125 \nQ 349.507386 27.318125 347.507386 27.318125 \nL 241.013636 27.318125 \nQ 239.013636 27.318125 239.013636 29.318125 \nL 239.013636 57.674375 \nQ 239.013636 59.674375 241.013636 59.674375 \nz\n\" style=\"fill: #ffffff; opacity: 0.8; stroke: #cccccc; stroke-linejoin: miter\"/>\n    </g>\n    <g id=\"line2d_37\">\n     <path d=\"M 243.013636 35.416562 \nL 253.013636 35.416562 \nL 263.013636 35.416562 \n\" style=\"fill: none; stroke: #1f77b4; stroke-width: 1.5; stroke-linecap: square\"/>\n     <g>\n      <use xlink:href=\"#m407c2d9d30\" x=\"253.013636\" y=\"35.416562\" style=\"fill: #1f77b4; stroke: #1f77b4\"/>\n     </g>\n    </g>\n    <g id=\"text_21\">\n     <!-- Train Loss -->\n     <g transform=\"translate(271.013636 38.916562) scale(0.1 -0.1)\">\n      <use xlink:href=\"#DejaVuSans-54\"/>\n      <use xlink:href=\"#DejaVuSans-72\" transform=\"translate(46.333984 0)\"/>\n      <use xlink:href=\"#DejaVuSans-61\" transform=\"translate(87.447266 0)\"/>\n      <use xlink:href=\"#DejaVuSans-69\" transform=\"translate(148.726562 0)\"/>\n      <use xlink:href=\"#DejaVuSans-6e\" transform=\"translate(176.509766 0)\"/>\n      <use xlink:href=\"#DejaVuSans-20\" transform=\"translate(239.888672 0)\"/>\n      <use xlink:href=\"#DejaVuSans-4c\" transform=\"translate(271.675781 0)\"/>\n      <use xlink:href=\"#DejaVuSans-6f\" transform=\"translate(325.638672 0)\"/>\n      <use xlink:href=\"#DejaVuSans-73\" transform=\"translate(386.820312 0)\"/>\n      <use xlink:href=\"#DejaVuSans-73\" transform=\"translate(438.919922 0)\"/>\n     </g>\n    </g>\n    <g id=\"line2d_38\">\n     <path d=\"M 243.013636 50.094687 \nL 253.013636 50.094687 \nL 263.013636 50.094687 \n\" style=\"fill: none; stroke: #ff7f0e; stroke-width: 1.5; stroke-linecap: square\"/>\n     <g>\n      <use xlink:href=\"#m41ef674723\" x=\"253.013636\" y=\"50.094687\" style=\"fill: #ff7f0e; stroke: #ff7f0e\"/>\n     </g>\n    </g>\n    <g id=\"text_22\">\n     <!-- Validation Loss -->\n     <g transform=\"translate(271.013636 53.594687) scale(0.1 -0.1)\">\n      <use xlink:href=\"#DejaVuSans-56\"/>\n      <use xlink:href=\"#DejaVuSans-61\" transform=\"translate(60.658203 0)\"/>\n      <use xlink:href=\"#DejaVuSans-6c\" transform=\"translate(121.9375 0)\"/>\n      <use xlink:href=\"#DejaVuSans-69\" transform=\"translate(149.720703 0)\"/>\n      <use xlink:href=\"#DejaVuSans-64\" transform=\"translate(177.503906 0)\"/>\n      <use xlink:href=\"#DejaVuSans-61\" transform=\"translate(240.980469 0)\"/>\n      <use xlink:href=\"#DejaVuSans-74\" transform=\"translate(302.259766 0)\"/>\n      <use xlink:href=\"#DejaVuSans-69\" transform=\"translate(341.46875 0)\"/>\n      <use xlink:href=\"#DejaVuSans-6f\" transform=\"translate(369.251953 0)\"/>\n      <use xlink:href=\"#DejaVuSans-6e\" transform=\"translate(430.433594 0)\"/>\n      <use xlink:href=\"#DejaVuSans-20\" transform=\"translate(493.8125 0)\"/>\n      <use xlink:href=\"#DejaVuSans-4c\" transform=\"translate(525.599609 0)\"/>\n      <use xlink:href=\"#DejaVuSans-6f\" transform=\"translate(579.5625 0)\"/>\n      <use xlink:href=\"#DejaVuSans-73\" transform=\"translate(640.744141 0)\"/>\n      <use xlink:href=\"#DejaVuSans-73\" transform=\"translate(692.84375 0)\"/>\n     </g>\n    </g>\n   </g>\n  </g>\n  <g id=\"axes_2\">\n   <g id=\"patch_8\">\n    <path d=\"M 415.380114 244.078125 \nL 719.74375 244.078125 \nL 719.74375 22.318125 \nL 415.380114 22.318125 \nz\n\" style=\"fill: #ffffff\"/>\n   </g>\n   <g id=\"matplotlib.axis_3\">\n    <g id=\"xtick_10\">\n     <g id=\"line2d_39\">\n      <path d=\"M 429.214824 244.078125 \nL 429.214824 22.318125 \n\" clip-path=\"url(#p95bb4ebbe2)\" style=\"fill: none; stroke: #b0b0b0; stroke-width: 0.8; stroke-linecap: square\"/>\n     </g>\n     <g id=\"line2d_40\">\n      <g>\n       <use xlink:href=\"#ma372d6f6f1\" x=\"429.214824\" y=\"244.078125\" style=\"stroke: #000000; stroke-width: 0.8\"/>\n      </g>\n     </g>\n     <g id=\"text_23\">\n      <!-- 1.00 -->\n      <g transform=\"translate(418.082012 258.676562) scale(0.1 -0.1)\">\n       <use xlink:href=\"#DejaVuSans-31\"/>\n       <use xlink:href=\"#DejaVuSans-2e\" transform=\"translate(63.623047 0)\"/>\n       <use xlink:href=\"#DejaVuSans-30\" transform=\"translate(95.410156 0)\"/>\n       <use xlink:href=\"#DejaVuSans-30\" transform=\"translate(159.033203 0)\"/>\n      </g>\n     </g>\n    </g>\n    <g id=\"xtick_11\">\n     <g id=\"line2d_41\">\n      <path d=\"M 463.801601 244.078125 \nL 463.801601 22.318125 \n\" clip-path=\"url(#p95bb4ebbe2)\" style=\"fill: none; stroke: #b0b0b0; stroke-width: 0.8; stroke-linecap: square\"/>\n     </g>\n     <g id=\"line2d_42\">\n      <g>\n       <use xlink:href=\"#ma372d6f6f1\" x=\"463.801601\" y=\"244.078125\" style=\"stroke: #000000; stroke-width: 0.8\"/>\n      </g>\n     </g>\n     <g id=\"text_24\">\n      <!-- 1.25 -->\n      <g transform=\"translate(452.668789 258.676562) scale(0.1 -0.1)\">\n       <use xlink:href=\"#DejaVuSans-31\"/>\n       <use xlink:href=\"#DejaVuSans-2e\" transform=\"translate(63.623047 0)\"/>\n       <use xlink:href=\"#DejaVuSans-32\" transform=\"translate(95.410156 0)\"/>\n       <use xlink:href=\"#DejaVuSans-35\" transform=\"translate(159.033203 0)\"/>\n      </g>\n     </g>\n    </g>\n    <g id=\"xtick_12\">\n     <g id=\"line2d_43\">\n      <path d=\"M 498.388378 244.078125 \nL 498.388378 22.318125 \n\" clip-path=\"url(#p95bb4ebbe2)\" style=\"fill: none; stroke: #b0b0b0; stroke-width: 0.8; stroke-linecap: square\"/>\n     </g>\n     <g id=\"line2d_44\">\n      <g>\n       <use xlink:href=\"#ma372d6f6f1\" x=\"498.388378\" y=\"244.078125\" style=\"stroke: #000000; stroke-width: 0.8\"/>\n      </g>\n     </g>\n     <g id=\"text_25\">\n      <!-- 1.50 -->\n      <g transform=\"translate(487.255566 258.676562) scale(0.1 -0.1)\">\n       <use xlink:href=\"#DejaVuSans-31\"/>\n       <use xlink:href=\"#DejaVuSans-2e\" transform=\"translate(63.623047 0)\"/>\n       <use xlink:href=\"#DejaVuSans-35\" transform=\"translate(95.410156 0)\"/>\n       <use xlink:href=\"#DejaVuSans-30\" transform=\"translate(159.033203 0)\"/>\n      </g>\n     </g>\n    </g>\n    <g id=\"xtick_13\">\n     <g id=\"line2d_45\">\n      <path d=\"M 532.975155 244.078125 \nL 532.975155 22.318125 \n\" clip-path=\"url(#p95bb4ebbe2)\" style=\"fill: none; stroke: #b0b0b0; stroke-width: 0.8; stroke-linecap: square\"/>\n     </g>\n     <g id=\"line2d_46\">\n      <g>\n       <use xlink:href=\"#ma372d6f6f1\" x=\"532.975155\" y=\"244.078125\" style=\"stroke: #000000; stroke-width: 0.8\"/>\n      </g>\n     </g>\n     <g id=\"text_26\">\n      <!-- 1.75 -->\n      <g transform=\"translate(521.842342 258.676562) scale(0.1 -0.1)\">\n       <use xlink:href=\"#DejaVuSans-31\"/>\n       <use xlink:href=\"#DejaVuSans-2e\" transform=\"translate(63.623047 0)\"/>\n       <use xlink:href=\"#DejaVuSans-37\" transform=\"translate(95.410156 0)\"/>\n       <use xlink:href=\"#DejaVuSans-35\" transform=\"translate(159.033203 0)\"/>\n      </g>\n     </g>\n    </g>\n    <g id=\"xtick_14\">\n     <g id=\"line2d_47\">\n      <path d=\"M 567.561932 244.078125 \nL 567.561932 22.318125 \n\" clip-path=\"url(#p95bb4ebbe2)\" style=\"fill: none; stroke: #b0b0b0; stroke-width: 0.8; stroke-linecap: square\"/>\n     </g>\n     <g id=\"line2d_48\">\n      <g>\n       <use xlink:href=\"#ma372d6f6f1\" x=\"567.561932\" y=\"244.078125\" style=\"stroke: #000000; stroke-width: 0.8\"/>\n      </g>\n     </g>\n     <g id=\"text_27\">\n      <!-- 2.00 -->\n      <g transform=\"translate(556.429119 258.676562) scale(0.1 -0.1)\">\n       <use xlink:href=\"#DejaVuSans-32\"/>\n       <use xlink:href=\"#DejaVuSans-2e\" transform=\"translate(63.623047 0)\"/>\n       <use xlink:href=\"#DejaVuSans-30\" transform=\"translate(95.410156 0)\"/>\n       <use xlink:href=\"#DejaVuSans-30\" transform=\"translate(159.033203 0)\"/>\n      </g>\n     </g>\n    </g>\n    <g id=\"xtick_15\">\n     <g id=\"line2d_49\">\n      <path d=\"M 602.148709 244.078125 \nL 602.148709 22.318125 \n\" clip-path=\"url(#p95bb4ebbe2)\" style=\"fill: none; stroke: #b0b0b0; stroke-width: 0.8; stroke-linecap: square\"/>\n     </g>\n     <g id=\"line2d_50\">\n      <g>\n       <use xlink:href=\"#ma372d6f6f1\" x=\"602.148709\" y=\"244.078125\" style=\"stroke: #000000; stroke-width: 0.8\"/>\n      </g>\n     </g>\n     <g id=\"text_28\">\n      <!-- 2.25 -->\n      <g transform=\"translate(591.015896 258.676562) scale(0.1 -0.1)\">\n       <use xlink:href=\"#DejaVuSans-32\"/>\n       <use xlink:href=\"#DejaVuSans-2e\" transform=\"translate(63.623047 0)\"/>\n       <use xlink:href=\"#DejaVuSans-32\" transform=\"translate(95.410156 0)\"/>\n       <use xlink:href=\"#DejaVuSans-35\" transform=\"translate(159.033203 0)\"/>\n      </g>\n     </g>\n    </g>\n    <g id=\"xtick_16\">\n     <g id=\"line2d_51\">\n      <path d=\"M 636.735486 244.078125 \nL 636.735486 22.318125 \n\" clip-path=\"url(#p95bb4ebbe2)\" style=\"fill: none; stroke: #b0b0b0; stroke-width: 0.8; stroke-linecap: square\"/>\n     </g>\n     <g id=\"line2d_52\">\n      <g>\n       <use xlink:href=\"#ma372d6f6f1\" x=\"636.735486\" y=\"244.078125\" style=\"stroke: #000000; stroke-width: 0.8\"/>\n      </g>\n     </g>\n     <g id=\"text_29\">\n      <!-- 2.50 -->\n      <g transform=\"translate(625.602673 258.676562) scale(0.1 -0.1)\">\n       <use xlink:href=\"#DejaVuSans-32\"/>\n       <use xlink:href=\"#DejaVuSans-2e\" transform=\"translate(63.623047 0)\"/>\n       <use xlink:href=\"#DejaVuSans-35\" transform=\"translate(95.410156 0)\"/>\n       <use xlink:href=\"#DejaVuSans-30\" transform=\"translate(159.033203 0)\"/>\n      </g>\n     </g>\n    </g>\n    <g id=\"xtick_17\">\n     <g id=\"line2d_53\">\n      <path d=\"M 671.322262 244.078125 \nL 671.322262 22.318125 \n\" clip-path=\"url(#p95bb4ebbe2)\" style=\"fill: none; stroke: #b0b0b0; stroke-width: 0.8; stroke-linecap: square\"/>\n     </g>\n     <g id=\"line2d_54\">\n      <g>\n       <use xlink:href=\"#ma372d6f6f1\" x=\"671.322262\" y=\"244.078125\" style=\"stroke: #000000; stroke-width: 0.8\"/>\n      </g>\n     </g>\n     <g id=\"text_30\">\n      <!-- 2.75 -->\n      <g transform=\"translate(660.18945 258.676562) scale(0.1 -0.1)\">\n       <use xlink:href=\"#DejaVuSans-32\"/>\n       <use xlink:href=\"#DejaVuSans-2e\" transform=\"translate(63.623047 0)\"/>\n       <use xlink:href=\"#DejaVuSans-37\" transform=\"translate(95.410156 0)\"/>\n       <use xlink:href=\"#DejaVuSans-35\" transform=\"translate(159.033203 0)\"/>\n      </g>\n     </g>\n    </g>\n    <g id=\"xtick_18\">\n     <g id=\"line2d_55\">\n      <path d=\"M 705.909039 244.078125 \nL 705.909039 22.318125 \n\" clip-path=\"url(#p95bb4ebbe2)\" style=\"fill: none; stroke: #b0b0b0; stroke-width: 0.8; stroke-linecap: square\"/>\n     </g>\n     <g id=\"line2d_56\">\n      <g>\n       <use xlink:href=\"#ma372d6f6f1\" x=\"705.909039\" y=\"244.078125\" style=\"stroke: #000000; stroke-width: 0.8\"/>\n      </g>\n     </g>\n     <g id=\"text_31\">\n      <!-- 3.00 -->\n      <g transform=\"translate(694.776227 258.676562) scale(0.1 -0.1)\">\n       <use xlink:href=\"#DejaVuSans-33\"/>\n       <use xlink:href=\"#DejaVuSans-2e\" transform=\"translate(63.623047 0)\"/>\n       <use xlink:href=\"#DejaVuSans-30\" transform=\"translate(95.410156 0)\"/>\n       <use xlink:href=\"#DejaVuSans-30\" transform=\"translate(159.033203 0)\"/>\n      </g>\n     </g>\n    </g>\n    <g id=\"text_32\">\n     <!-- Epochs -->\n     <g transform=\"translate(549.646307 272.354687) scale(0.1 -0.1)\">\n      <use xlink:href=\"#DejaVuSans-45\"/>\n      <use xlink:href=\"#DejaVuSans-70\" transform=\"translate(63.183594 0)\"/>\n      <use xlink:href=\"#DejaVuSans-6f\" transform=\"translate(126.660156 0)\"/>\n      <use xlink:href=\"#DejaVuSans-63\" transform=\"translate(187.841797 0)\"/>\n      <use xlink:href=\"#DejaVuSans-68\" transform=\"translate(242.822266 0)\"/>\n      <use xlink:href=\"#DejaVuSans-73\" transform=\"translate(306.201172 0)\"/>\n     </g>\n    </g>\n   </g>\n   <g id=\"matplotlib.axis_4\">\n    <g id=\"ytick_9\">\n     <g id=\"line2d_57\">\n      <path d=\"M 415.380114 233.998125 \nL 719.74375 233.998125 \n\" clip-path=\"url(#p95bb4ebbe2)\" style=\"fill: none; stroke: #b0b0b0; stroke-width: 0.8; stroke-linecap: square\"/>\n     </g>\n     <g id=\"line2d_58\">\n      <g>\n       <use xlink:href=\"#m9b4f3c8547\" x=\"415.380114\" y=\"233.998125\" style=\"stroke: #000000; stroke-width: 0.8\"/>\n      </g>\n     </g>\n     <g id=\"text_33\">\n      <!-- 0.890 -->\n      <g transform=\"translate(379.751989 237.797344) scale(0.1 -0.1)\">\n       <defs>\n        <path id=\"DejaVuSans-38\" d=\"M 2034 2216 \nQ 1584 2216 1326 1975 \nQ 1069 1734 1069 1313 \nQ 1069 891 1326 650 \nQ 1584 409 2034 409 \nQ 2484 409 2743 651 \nQ 3003 894 3003 1313 \nQ 3003 1734 2745 1975 \nQ 2488 2216 2034 2216 \nz\nM 1403 2484 \nQ 997 2584 770 2862 \nQ 544 3141 544 3541 \nQ 544 4100 942 4425 \nQ 1341 4750 2034 4750 \nQ 2731 4750 3128 4425 \nQ 3525 4100 3525 3541 \nQ 3525 3141 3298 2862 \nQ 3072 2584 2669 2484 \nQ 3125 2378 3379 2068 \nQ 3634 1759 3634 1313 \nQ 3634 634 3220 271 \nQ 2806 -91 2034 -91 \nQ 1263 -91 848 271 \nQ 434 634 434 1313 \nQ 434 1759 690 2068 \nQ 947 2378 1403 2484 \nz\nM 1172 3481 \nQ 1172 3119 1398 2916 \nQ 1625 2713 2034 2713 \nQ 2441 2713 2670 2916 \nQ 2900 3119 2900 3481 \nQ 2900 3844 2670 4047 \nQ 2441 4250 2034 4250 \nQ 1625 4250 1398 4047 \nQ 1172 3844 1172 3481 \nz\n\" transform=\"scale(0.015625)\"/>\n        <path id=\"DejaVuSans-39\" d=\"M 703 97 \nL 703 672 \nQ 941 559 1184 500 \nQ 1428 441 1663 441 \nQ 2288 441 2617 861 \nQ 2947 1281 2994 2138 \nQ 2813 1869 2534 1725 \nQ 2256 1581 1919 1581 \nQ 1219 1581 811 2004 \nQ 403 2428 403 3163 \nQ 403 3881 828 4315 \nQ 1253 4750 1959 4750 \nQ 2769 4750 3195 4129 \nQ 3622 3509 3622 2328 \nQ 3622 1225 3098 567 \nQ 2575 -91 1691 -91 \nQ 1453 -91 1209 -44 \nQ 966 3 703 97 \nz\nM 1959 2075 \nQ 2384 2075 2632 2365 \nQ 2881 2656 2881 3163 \nQ 2881 3666 2632 3958 \nQ 2384 4250 1959 4250 \nQ 1534 4250 1286 3958 \nQ 1038 3666 1038 3163 \nQ 1038 2656 1286 2365 \nQ 1534 2075 1959 2075 \nz\n\" transform=\"scale(0.015625)\"/>\n       </defs>\n       <use xlink:href=\"#DejaVuSans-30\"/>\n       <use xlink:href=\"#DejaVuSans-2e\" transform=\"translate(63.623047 0)\"/>\n       <use xlink:href=\"#DejaVuSans-38\" transform=\"translate(95.410156 0)\"/>\n       <use xlink:href=\"#DejaVuSans-39\" transform=\"translate(159.033203 0)\"/>\n       <use xlink:href=\"#DejaVuSans-30\" transform=\"translate(222.65625 0)\"/>\n      </g>\n     </g>\n    </g>\n    <g id=\"ytick_10\">\n     <g id=\"line2d_59\">\n      <path d=\"M 415.380114 200.398125 \nL 719.74375 200.398125 \n\" clip-path=\"url(#p95bb4ebbe2)\" style=\"fill: none; stroke: #b0b0b0; stroke-width: 0.8; stroke-linecap: square\"/>\n     </g>\n     <g id=\"line2d_60\">\n      <g>\n       <use xlink:href=\"#m9b4f3c8547\" x=\"415.380114\" y=\"200.398125\" style=\"stroke: #000000; stroke-width: 0.8\"/>\n      </g>\n     </g>\n     <g id=\"text_34\">\n      <!-- 0.895 -->\n      <g transform=\"translate(379.751989 204.197344) scale(0.1 -0.1)\">\n       <use xlink:href=\"#DejaVuSans-30\"/>\n       <use xlink:href=\"#DejaVuSans-2e\" transform=\"translate(63.623047 0)\"/>\n       <use xlink:href=\"#DejaVuSans-38\" transform=\"translate(95.410156 0)\"/>\n       <use xlink:href=\"#DejaVuSans-39\" transform=\"translate(159.033203 0)\"/>\n       <use xlink:href=\"#DejaVuSans-35\" transform=\"translate(222.65625 0)\"/>\n      </g>\n     </g>\n    </g>\n    <g id=\"ytick_11\">\n     <g id=\"line2d_61\">\n      <path d=\"M 415.380114 166.798125 \nL 719.74375 166.798125 \n\" clip-path=\"url(#p95bb4ebbe2)\" style=\"fill: none; stroke: #b0b0b0; stroke-width: 0.8; stroke-linecap: square\"/>\n     </g>\n     <g id=\"line2d_62\">\n      <g>\n       <use xlink:href=\"#m9b4f3c8547\" x=\"415.380114\" y=\"166.798125\" style=\"stroke: #000000; stroke-width: 0.8\"/>\n      </g>\n     </g>\n     <g id=\"text_35\">\n      <!-- 0.900 -->\n      <g transform=\"translate(379.751989 170.597344) scale(0.1 -0.1)\">\n       <use xlink:href=\"#DejaVuSans-30\"/>\n       <use xlink:href=\"#DejaVuSans-2e\" transform=\"translate(63.623047 0)\"/>\n       <use xlink:href=\"#DejaVuSans-39\" transform=\"translate(95.410156 0)\"/>\n       <use xlink:href=\"#DejaVuSans-30\" transform=\"translate(159.033203 0)\"/>\n       <use xlink:href=\"#DejaVuSans-30\" transform=\"translate(222.65625 0)\"/>\n      </g>\n     </g>\n    </g>\n    <g id=\"ytick_12\">\n     <g id=\"line2d_63\">\n      <path d=\"M 415.380114 133.198125 \nL 719.74375 133.198125 \n\" clip-path=\"url(#p95bb4ebbe2)\" style=\"fill: none; stroke: #b0b0b0; stroke-width: 0.8; stroke-linecap: square\"/>\n     </g>\n     <g id=\"line2d_64\">\n      <g>\n       <use xlink:href=\"#m9b4f3c8547\" x=\"415.380114\" y=\"133.198125\" style=\"stroke: #000000; stroke-width: 0.8\"/>\n      </g>\n     </g>\n     <g id=\"text_36\">\n      <!-- 0.905 -->\n      <g transform=\"translate(379.751989 136.997344) scale(0.1 -0.1)\">\n       <use xlink:href=\"#DejaVuSans-30\"/>\n       <use xlink:href=\"#DejaVuSans-2e\" transform=\"translate(63.623047 0)\"/>\n       <use xlink:href=\"#DejaVuSans-39\" transform=\"translate(95.410156 0)\"/>\n       <use xlink:href=\"#DejaVuSans-30\" transform=\"translate(159.033203 0)\"/>\n       <use xlink:href=\"#DejaVuSans-35\" transform=\"translate(222.65625 0)\"/>\n      </g>\n     </g>\n    </g>\n    <g id=\"ytick_13\">\n     <g id=\"line2d_65\">\n      <path d=\"M 415.380114 99.598125 \nL 719.74375 99.598125 \n\" clip-path=\"url(#p95bb4ebbe2)\" style=\"fill: none; stroke: #b0b0b0; stroke-width: 0.8; stroke-linecap: square\"/>\n     </g>\n     <g id=\"line2d_66\">\n      <g>\n       <use xlink:href=\"#m9b4f3c8547\" x=\"415.380114\" y=\"99.598125\" style=\"stroke: #000000; stroke-width: 0.8\"/>\n      </g>\n     </g>\n     <g id=\"text_37\">\n      <!-- 0.910 -->\n      <g transform=\"translate(379.751989 103.397344) scale(0.1 -0.1)\">\n       <use xlink:href=\"#DejaVuSans-30\"/>\n       <use xlink:href=\"#DejaVuSans-2e\" transform=\"translate(63.623047 0)\"/>\n       <use xlink:href=\"#DejaVuSans-39\" transform=\"translate(95.410156 0)\"/>\n       <use xlink:href=\"#DejaVuSans-31\" transform=\"translate(159.033203 0)\"/>\n       <use xlink:href=\"#DejaVuSans-30\" transform=\"translate(222.65625 0)\"/>\n      </g>\n     </g>\n    </g>\n    <g id=\"ytick_14\">\n     <g id=\"line2d_67\">\n      <path d=\"M 415.380114 65.998125 \nL 719.74375 65.998125 \n\" clip-path=\"url(#p95bb4ebbe2)\" style=\"fill: none; stroke: #b0b0b0; stroke-width: 0.8; stroke-linecap: square\"/>\n     </g>\n     <g id=\"line2d_68\">\n      <g>\n       <use xlink:href=\"#m9b4f3c8547\" x=\"415.380114\" y=\"65.998125\" style=\"stroke: #000000; stroke-width: 0.8\"/>\n      </g>\n     </g>\n     <g id=\"text_38\">\n      <!-- 0.915 -->\n      <g transform=\"translate(379.751989 69.797344) scale(0.1 -0.1)\">\n       <use xlink:href=\"#DejaVuSans-30\"/>\n       <use xlink:href=\"#DejaVuSans-2e\" transform=\"translate(63.623047 0)\"/>\n       <use xlink:href=\"#DejaVuSans-39\" transform=\"translate(95.410156 0)\"/>\n       <use xlink:href=\"#DejaVuSans-31\" transform=\"translate(159.033203 0)\"/>\n       <use xlink:href=\"#DejaVuSans-35\" transform=\"translate(222.65625 0)\"/>\n      </g>\n     </g>\n    </g>\n    <g id=\"ytick_15\">\n     <g id=\"line2d_69\">\n      <path d=\"M 415.380114 32.398125 \nL 719.74375 32.398125 \n\" clip-path=\"url(#p95bb4ebbe2)\" style=\"fill: none; stroke: #b0b0b0; stroke-width: 0.8; stroke-linecap: square\"/>\n     </g>\n     <g id=\"line2d_70\">\n      <g>\n       <use xlink:href=\"#m9b4f3c8547\" x=\"415.380114\" y=\"32.398125\" style=\"stroke: #000000; stroke-width: 0.8\"/>\n      </g>\n     </g>\n     <g id=\"text_39\">\n      <!-- 0.920 -->\n      <g transform=\"translate(379.751989 36.197344) scale(0.1 -0.1)\">\n       <use xlink:href=\"#DejaVuSans-30\"/>\n       <use xlink:href=\"#DejaVuSans-2e\" transform=\"translate(63.623047 0)\"/>\n       <use xlink:href=\"#DejaVuSans-39\" transform=\"translate(95.410156 0)\"/>\n       <use xlink:href=\"#DejaVuSans-32\" transform=\"translate(159.033203 0)\"/>\n       <use xlink:href=\"#DejaVuSans-30\" transform=\"translate(222.65625 0)\"/>\n      </g>\n     </g>\n    </g>\n    <g id=\"text_40\">\n     <!-- Accuracy -->\n     <g transform=\"translate(373.672301 156.02625) rotate(-90) scale(0.1 -0.1)\">\n      <defs>\n       <path id=\"DejaVuSans-41\" d=\"M 2188 4044 \nL 1331 1722 \nL 3047 1722 \nL 2188 4044 \nz\nM 1831 4666 \nL 2547 4666 \nL 4325 0 \nL 3669 0 \nL 3244 1197 \nL 1141 1197 \nL 716 0 \nL 50 0 \nL 1831 4666 \nz\n\" transform=\"scale(0.015625)\"/>\n       <path id=\"DejaVuSans-75\" d=\"M 544 1381 \nL 544 3500 \nL 1119 3500 \nL 1119 1403 \nQ 1119 906 1312 657 \nQ 1506 409 1894 409 \nQ 2359 409 2629 706 \nQ 2900 1003 2900 1516 \nL 2900 3500 \nL 3475 3500 \nL 3475 0 \nL 2900 0 \nL 2900 538 \nQ 2691 219 2414 64 \nQ 2138 -91 1772 -91 \nQ 1169 -91 856 284 \nQ 544 659 544 1381 \nz\nM 1991 3584 \nL 1991 3584 \nz\n\" transform=\"scale(0.015625)\"/>\n       <path id=\"DejaVuSans-79\" d=\"M 2059 -325 \nQ 1816 -950 1584 -1140 \nQ 1353 -1331 966 -1331 \nL 506 -1331 \nL 506 -850 \nL 844 -850 \nQ 1081 -850 1212 -737 \nQ 1344 -625 1503 -206 \nL 1606 56 \nL 191 3500 \nL 800 3500 \nL 1894 763 \nL 2988 3500 \nL 3597 3500 \nL 2059 -325 \nz\n\" transform=\"scale(0.015625)\"/>\n      </defs>\n      <use xlink:href=\"#DejaVuSans-41\"/>\n      <use xlink:href=\"#DejaVuSans-63\" transform=\"translate(66.658203 0)\"/>\n      <use xlink:href=\"#DejaVuSans-63\" transform=\"translate(121.638672 0)\"/>\n      <use xlink:href=\"#DejaVuSans-75\" transform=\"translate(176.619141 0)\"/>\n      <use xlink:href=\"#DejaVuSans-72\" transform=\"translate(239.998047 0)\"/>\n      <use xlink:href=\"#DejaVuSans-61\" transform=\"translate(281.111328 0)\"/>\n      <use xlink:href=\"#DejaVuSans-63\" transform=\"translate(342.390625 0)\"/>\n      <use xlink:href=\"#DejaVuSans-79\" transform=\"translate(397.371094 0)\"/>\n     </g>\n    </g>\n   </g>\n   <g id=\"line2d_71\">\n    <path d=\"M 429.214824 233.998125 \nL 567.561932 183.598125 \nL 705.909039 32.398125 \n\" clip-path=\"url(#p95bb4ebbe2)\" style=\"fill: none; stroke: #008000; stroke-width: 1.5; stroke-linecap: square\"/>\n    <defs>\n     <path id=\"m769b1943d4\" d=\"M 0 3 \nC 0.795609 3 1.55874 2.683901 2.12132 2.12132 \nC 2.683901 1.55874 3 0.795609 3 0 \nC 3 -0.795609 2.683901 -1.55874 2.12132 -2.12132 \nC 1.55874 -2.683901 0.795609 -3 0 -3 \nC -0.795609 -3 -1.55874 -2.683901 -2.12132 -2.12132 \nC -2.683901 -1.55874 -3 -0.795609 -3 0 \nC -3 0.795609 -2.683901 1.55874 -2.12132 2.12132 \nC -1.55874 2.683901 -0.795609 3 0 3 \nz\n\" style=\"stroke: #008000\"/>\n    </defs>\n    <g clip-path=\"url(#p95bb4ebbe2)\">\n     <use xlink:href=\"#m769b1943d4\" x=\"429.214824\" y=\"233.998125\" style=\"fill: #008000; stroke: #008000\"/>\n     <use xlink:href=\"#m769b1943d4\" x=\"567.561932\" y=\"183.598125\" style=\"fill: #008000; stroke: #008000\"/>\n     <use xlink:href=\"#m769b1943d4\" x=\"705.909039\" y=\"32.398125\" style=\"fill: #008000; stroke: #008000\"/>\n    </g>\n   </g>\n   <g id=\"patch_9\">\n    <path d=\"M 415.380114 244.078125 \nL 415.380114 22.318125 \n\" style=\"fill: none; stroke: #000000; stroke-width: 0.8; stroke-linejoin: miter; stroke-linecap: square\"/>\n   </g>\n   <g id=\"patch_10\">\n    <path d=\"M 719.74375 244.078125 \nL 719.74375 22.318125 \n\" style=\"fill: none; stroke: #000000; stroke-width: 0.8; stroke-linejoin: miter; stroke-linecap: square\"/>\n   </g>\n   <g id=\"patch_11\">\n    <path d=\"M 415.380114 244.078125 \nL 719.74375 244.078125 \n\" style=\"fill: none; stroke: #000000; stroke-width: 0.8; stroke-linejoin: miter; stroke-linecap: square\"/>\n   </g>\n   <g id=\"patch_12\">\n    <path d=\"M 415.380114 22.318125 \nL 719.74375 22.318125 \n\" style=\"fill: none; stroke: #000000; stroke-width: 0.8; stroke-linejoin: miter; stroke-linecap: square\"/>\n   </g>\n   <g id=\"text_41\">\n    <!-- Validation Accuracy over Epochs -->\n    <g transform=\"translate(469.939119 16.318125) scale(0.12 -0.12)\">\n     <defs>\n      <path id=\"DejaVuSans-65\" d=\"M 3597 1894 \nL 3597 1613 \nL 953 1613 \nQ 991 1019 1311 708 \nQ 1631 397 2203 397 \nQ 2534 397 2845 478 \nQ 3156 559 3463 722 \nL 3463 178 \nQ 3153 47 2828 -22 \nQ 2503 -91 2169 -91 \nQ 1331 -91 842 396 \nQ 353 884 353 1716 \nQ 353 2575 817 3079 \nQ 1281 3584 2069 3584 \nQ 2775 3584 3186 3129 \nQ 3597 2675 3597 1894 \nz\nM 3022 2063 \nQ 3016 2534 2758 2815 \nQ 2500 3097 2075 3097 \nQ 1594 3097 1305 2825 \nQ 1016 2553 972 2059 \nL 3022 2063 \nz\n\" transform=\"scale(0.015625)\"/>\n     </defs>\n     <use xlink:href=\"#DejaVuSans-56\"/>\n     <use xlink:href=\"#DejaVuSans-61\" transform=\"translate(60.658203 0)\"/>\n     <use xlink:href=\"#DejaVuSans-6c\" transform=\"translate(121.9375 0)\"/>\n     <use xlink:href=\"#DejaVuSans-69\" transform=\"translate(149.720703 0)\"/>\n     <use xlink:href=\"#DejaVuSans-64\" transform=\"translate(177.503906 0)\"/>\n     <use xlink:href=\"#DejaVuSans-61\" transform=\"translate(240.980469 0)\"/>\n     <use xlink:href=\"#DejaVuSans-74\" transform=\"translate(302.259766 0)\"/>\n     <use xlink:href=\"#DejaVuSans-69\" transform=\"translate(341.46875 0)\"/>\n     <use xlink:href=\"#DejaVuSans-6f\" transform=\"translate(369.251953 0)\"/>\n     <use xlink:href=\"#DejaVuSans-6e\" transform=\"translate(430.433594 0)\"/>\n     <use xlink:href=\"#DejaVuSans-20\" transform=\"translate(493.8125 0)\"/>\n     <use xlink:href=\"#DejaVuSans-41\" transform=\"translate(525.599609 0)\"/>\n     <use xlink:href=\"#DejaVuSans-63\" transform=\"translate(592.257812 0)\"/>\n     <use xlink:href=\"#DejaVuSans-63\" transform=\"translate(647.238281 0)\"/>\n     <use xlink:href=\"#DejaVuSans-75\" transform=\"translate(702.21875 0)\"/>\n     <use xlink:href=\"#DejaVuSans-72\" transform=\"translate(765.597656 0)\"/>\n     <use xlink:href=\"#DejaVuSans-61\" transform=\"translate(806.710938 0)\"/>\n     <use xlink:href=\"#DejaVuSans-63\" transform=\"translate(867.990234 0)\"/>\n     <use xlink:href=\"#DejaVuSans-79\" transform=\"translate(922.970703 0)\"/>\n     <use xlink:href=\"#DejaVuSans-20\" transform=\"translate(982.150391 0)\"/>\n     <use xlink:href=\"#DejaVuSans-6f\" transform=\"translate(1013.9375 0)\"/>\n     <use xlink:href=\"#DejaVuSans-76\" transform=\"translate(1075.119141 0)\"/>\n     <use xlink:href=\"#DejaVuSans-65\" transform=\"translate(1134.298828 0)\"/>\n     <use xlink:href=\"#DejaVuSans-72\" transform=\"translate(1195.822266 0)\"/>\n     <use xlink:href=\"#DejaVuSans-20\" transform=\"translate(1236.935547 0)\"/>\n     <use xlink:href=\"#DejaVuSans-45\" transform=\"translate(1268.722656 0)\"/>\n     <use xlink:href=\"#DejaVuSans-70\" transform=\"translate(1331.90625 0)\"/>\n     <use xlink:href=\"#DejaVuSans-6f\" transform=\"translate(1395.382812 0)\"/>\n     <use xlink:href=\"#DejaVuSans-63\" transform=\"translate(1456.564453 0)\"/>\n     <use xlink:href=\"#DejaVuSans-68\" transform=\"translate(1511.544922 0)\"/>\n     <use xlink:href=\"#DejaVuSans-73\" transform=\"translate(1574.923828 0)\"/>\n    </g>\n   </g>\n   <g id=\"legend_2\">\n    <g id=\"patch_13\">\n     <path d=\"M 422.380114 44.99625 \nL 552.595739 44.99625 \nQ 554.595739 44.99625 554.595739 42.99625 \nL 554.595739 29.318125 \nQ 554.595739 27.318125 552.595739 27.318125 \nL 422.380114 27.318125 \nQ 420.380114 27.318125 420.380114 29.318125 \nL 420.380114 42.99625 \nQ 420.380114 44.99625 422.380114 44.99625 \nz\n\" style=\"fill: #ffffff; opacity: 0.8; stroke: #cccccc; stroke-linejoin: miter\"/>\n    </g>\n    <g id=\"line2d_72\">\n     <path d=\"M 424.380114 35.416562 \nL 434.380114 35.416562 \nL 444.380114 35.416562 \n\" style=\"fill: none; stroke: #008000; stroke-width: 1.5; stroke-linecap: square\"/>\n     <g>\n      <use xlink:href=\"#m769b1943d4\" x=\"434.380114\" y=\"35.416562\" style=\"fill: #008000; stroke: #008000\"/>\n     </g>\n    </g>\n    <g id=\"text_42\">\n     <!-- Validation Accuracy -->\n     <g transform=\"translate(452.380114 38.916562) scale(0.1 -0.1)\">\n      <use xlink:href=\"#DejaVuSans-56\"/>\n      <use xlink:href=\"#DejaVuSans-61\" transform=\"translate(60.658203 0)\"/>\n      <use xlink:href=\"#DejaVuSans-6c\" transform=\"translate(121.9375 0)\"/>\n      <use xlink:href=\"#DejaVuSans-69\" transform=\"translate(149.720703 0)\"/>\n      <use xlink:href=\"#DejaVuSans-64\" transform=\"translate(177.503906 0)\"/>\n      <use xlink:href=\"#DejaVuSans-61\" transform=\"translate(240.980469 0)\"/>\n      <use xlink:href=\"#DejaVuSans-74\" transform=\"translate(302.259766 0)\"/>\n      <use xlink:href=\"#DejaVuSans-69\" transform=\"translate(341.46875 0)\"/>\n      <use xlink:href=\"#DejaVuSans-6f\" transform=\"translate(369.251953 0)\"/>\n      <use xlink:href=\"#DejaVuSans-6e\" transform=\"translate(430.433594 0)\"/>\n      <use xlink:href=\"#DejaVuSans-20\" transform=\"translate(493.8125 0)\"/>\n      <use xlink:href=\"#DejaVuSans-41\" transform=\"translate(525.599609 0)\"/>\n      <use xlink:href=\"#DejaVuSans-63\" transform=\"translate(592.257812 0)\"/>\n      <use xlink:href=\"#DejaVuSans-63\" transform=\"translate(647.238281 0)\"/>\n      <use xlink:href=\"#DejaVuSans-75\" transform=\"translate(702.21875 0)\"/>\n      <use xlink:href=\"#DejaVuSans-72\" transform=\"translate(765.597656 0)\"/>\n      <use xlink:href=\"#DejaVuSans-61\" transform=\"translate(806.710938 0)\"/>\n      <use xlink:href=\"#DejaVuSans-63\" transform=\"translate(867.990234 0)\"/>\n      <use xlink:href=\"#DejaVuSans-79\" transform=\"translate(922.970703 0)\"/>\n     </g>\n    </g>\n   </g>\n  </g>\n </g>\n <defs>\n  <clipPath id=\"p7fd233737e\">\n   <rect x=\"50.14375\" y=\"22.318125\" width=\"304.363636\" height=\"221.76\"/>\n  </clipPath>\n  <clipPath id=\"p95bb4ebbe2\">\n   <rect x=\"415.380114\" y=\"22.318125\" width=\"304.363636\" height=\"221.76\"/>\n  </clipPath>\n </defs>\n</svg>\n"
          },
          "metadata": {}
        }
      ],
      "source": [
        "LLM_RoBERTa_256.train_and_validate(save_dir=\"./roberta-best\")\n",
        "LLM_RoBERTa_256.plot_history()"
      ]
    },
    {
      "cell_type": "markdown",
      "id": "EV6JRug6lmiW",
      "metadata": {
        "id": "EV6JRug6lmiW"
      },
      "source": [
        "Comparons les courbes d'accuracy associée `DistilBERT` et `RoBERTa`."
      ]
    },
    {
      "cell_type": "code",
      "execution_count": 185,
      "id": "IJWjakcKk7h3",
      "metadata": {
        "colab": {
          "base_uri": "https://localhost:8080/",
          "height": 470
        },
        "id": "IJWjakcKk7h3",
        "outputId": "2c697672-f8fc-4b06-f4aa-97f4a3fc9758"
      },
      "outputs": [
        {
          "output_type": "display_data",
          "data": {
            "text/plain": [
              "<Figure size 800x500 with 1 Axes>"
            ],
            "image/svg+xml": "<?xml version=\"1.0\" encoding=\"utf-8\" standalone=\"no\"?>\n<!DOCTYPE svg PUBLIC \"-//W3C//DTD SVG 1.1//EN\"\n  \"http://www.w3.org/Graphics/SVG/1.1/DTD/svg11.dtd\">\n<svg xmlns:xlink=\"http://www.w3.org/1999/xlink\" width=\"503.74375pt\" height=\"337.074375pt\" viewBox=\"0 0 503.74375 337.074375\" xmlns=\"http://www.w3.org/2000/svg\" version=\"1.1\">\n <metadata>\n  <rdf:RDF xmlns:dc=\"http://purl.org/dc/elements/1.1/\" xmlns:cc=\"http://creativecommons.org/ns#\" xmlns:rdf=\"http://www.w3.org/1999/02/22-rdf-syntax-ns#\">\n   <cc:Work>\n    <dc:type rdf:resource=\"http://purl.org/dc/dcmitype/StillImage\"/>\n    <dc:date>2025-09-14T14:41:07.705585</dc:date>\n    <dc:format>image/svg+xml</dc:format>\n    <dc:creator>\n     <cc:Agent>\n      <dc:title>Matplotlib v3.10.0, https://matplotlib.org/</dc:title>\n     </cc:Agent>\n    </dc:creator>\n   </cc:Work>\n  </rdf:RDF>\n </metadata>\n <defs>\n  <style type=\"text/css\">*{stroke-linejoin: round; stroke-linecap: butt}</style>\n </defs>\n <g id=\"figure_1\">\n  <g id=\"patch_1\">\n   <path d=\"M 0 337.074375 \nL 503.74375 337.074375 \nL 503.74375 0 \nL 0 0 \nz\n\" style=\"fill: #ffffff\"/>\n  </g>\n  <g id=\"axes_1\">\n   <g id=\"patch_2\">\n    <path d=\"M 50.14375 299.518125 \nL 496.54375 299.518125 \nL 496.54375 22.318125 \nL 50.14375 22.318125 \nz\n\" style=\"fill: #ffffff\"/>\n   </g>\n   <g id=\"matplotlib.axis_1\">\n    <g id=\"xtick_1\">\n     <g id=\"line2d_1\">\n      <path d=\"M 70.434659 299.518125 \nL 70.434659 22.318125 \n\" clip-path=\"url(#p3cda044987)\" style=\"fill: none; stroke: #b0b0b0; stroke-width: 0.8; stroke-linecap: square\"/>\n     </g>\n     <g id=\"line2d_2\">\n      <defs>\n       <path id=\"meae49dd36d\" d=\"M 0 0 \nL 0 3.5 \n\" style=\"stroke: #000000; stroke-width: 0.8\"/>\n      </defs>\n      <g>\n       <use xlink:href=\"#meae49dd36d\" x=\"70.434659\" y=\"299.518125\" style=\"stroke: #000000; stroke-width: 0.8\"/>\n      </g>\n     </g>\n     <g id=\"text_1\">\n      <!-- 1.00 -->\n      <g transform=\"translate(59.301847 314.116563) scale(0.1 -0.1)\">\n       <defs>\n        <path id=\"DejaVuSans-31\" d=\"M 794 531 \nL 1825 531 \nL 1825 4091 \nL 703 3866 \nL 703 4441 \nL 1819 4666 \nL 2450 4666 \nL 2450 531 \nL 3481 531 \nL 3481 0 \nL 794 0 \nL 794 531 \nz\n\" transform=\"scale(0.015625)\"/>\n        <path id=\"DejaVuSans-2e\" d=\"M 684 794 \nL 1344 794 \nL 1344 0 \nL 684 0 \nL 684 794 \nz\n\" transform=\"scale(0.015625)\"/>\n        <path id=\"DejaVuSans-30\" d=\"M 2034 4250 \nQ 1547 4250 1301 3770 \nQ 1056 3291 1056 2328 \nQ 1056 1369 1301 889 \nQ 1547 409 2034 409 \nQ 2525 409 2770 889 \nQ 3016 1369 3016 2328 \nQ 3016 3291 2770 3770 \nQ 2525 4250 2034 4250 \nz\nM 2034 4750 \nQ 2819 4750 3233 4129 \nQ 3647 3509 3647 2328 \nQ 3647 1150 3233 529 \nQ 2819 -91 2034 -91 \nQ 1250 -91 836 529 \nQ 422 1150 422 2328 \nQ 422 3509 836 4129 \nQ 1250 4750 2034 4750 \nz\n\" transform=\"scale(0.015625)\"/>\n       </defs>\n       <use xlink:href=\"#DejaVuSans-31\"/>\n       <use xlink:href=\"#DejaVuSans-2e\" transform=\"translate(63.623047 0)\"/>\n       <use xlink:href=\"#DejaVuSans-30\" transform=\"translate(95.410156 0)\"/>\n       <use xlink:href=\"#DejaVuSans-30\" transform=\"translate(159.033203 0)\"/>\n      </g>\n     </g>\n    </g>\n    <g id=\"xtick_2\">\n     <g id=\"line2d_3\">\n      <path d=\"M 121.161932 299.518125 \nL 121.161932 22.318125 \n\" clip-path=\"url(#p3cda044987)\" style=\"fill: none; stroke: #b0b0b0; stroke-width: 0.8; stroke-linecap: square\"/>\n     </g>\n     <g id=\"line2d_4\">\n      <g>\n       <use xlink:href=\"#meae49dd36d\" x=\"121.161932\" y=\"299.518125\" style=\"stroke: #000000; stroke-width: 0.8\"/>\n      </g>\n     </g>\n     <g id=\"text_2\">\n      <!-- 1.25 -->\n      <g transform=\"translate(110.029119 314.116563) scale(0.1 -0.1)\">\n       <defs>\n        <path id=\"DejaVuSans-32\" d=\"M 1228 531 \nL 3431 531 \nL 3431 0 \nL 469 0 \nL 469 531 \nQ 828 903 1448 1529 \nQ 2069 2156 2228 2338 \nQ 2531 2678 2651 2914 \nQ 2772 3150 2772 3378 \nQ 2772 3750 2511 3984 \nQ 2250 4219 1831 4219 \nQ 1534 4219 1204 4116 \nQ 875 4013 500 3803 \nL 500 4441 \nQ 881 4594 1212 4672 \nQ 1544 4750 1819 4750 \nQ 2544 4750 2975 4387 \nQ 3406 4025 3406 3419 \nQ 3406 3131 3298 2873 \nQ 3191 2616 2906 2266 \nQ 2828 2175 2409 1742 \nQ 1991 1309 1228 531 \nz\n\" transform=\"scale(0.015625)\"/>\n        <path id=\"DejaVuSans-35\" d=\"M 691 4666 \nL 3169 4666 \nL 3169 4134 \nL 1269 4134 \nL 1269 2991 \nQ 1406 3038 1543 3061 \nQ 1681 3084 1819 3084 \nQ 2600 3084 3056 2656 \nQ 3513 2228 3513 1497 \nQ 3513 744 3044 326 \nQ 2575 -91 1722 -91 \nQ 1428 -91 1123 -41 \nQ 819 9 494 109 \nL 494 744 \nQ 775 591 1075 516 \nQ 1375 441 1709 441 \nQ 2250 441 2565 725 \nQ 2881 1009 2881 1497 \nQ 2881 1984 2565 2268 \nQ 2250 2553 1709 2553 \nQ 1456 2553 1204 2497 \nQ 953 2441 691 2322 \nL 691 4666 \nz\n\" transform=\"scale(0.015625)\"/>\n       </defs>\n       <use xlink:href=\"#DejaVuSans-31\"/>\n       <use xlink:href=\"#DejaVuSans-2e\" transform=\"translate(63.623047 0)\"/>\n       <use xlink:href=\"#DejaVuSans-32\" transform=\"translate(95.410156 0)\"/>\n       <use xlink:href=\"#DejaVuSans-35\" transform=\"translate(159.033203 0)\"/>\n      </g>\n     </g>\n    </g>\n    <g id=\"xtick_3\">\n     <g id=\"line2d_5\">\n      <path d=\"M 171.889205 299.518125 \nL 171.889205 22.318125 \n\" clip-path=\"url(#p3cda044987)\" style=\"fill: none; stroke: #b0b0b0; stroke-width: 0.8; stroke-linecap: square\"/>\n     </g>\n     <g id=\"line2d_6\">\n      <g>\n       <use xlink:href=\"#meae49dd36d\" x=\"171.889205\" y=\"299.518125\" style=\"stroke: #000000; stroke-width: 0.8\"/>\n      </g>\n     </g>\n     <g id=\"text_3\">\n      <!-- 1.50 -->\n      <g transform=\"translate(160.756392 314.116563) scale(0.1 -0.1)\">\n       <use xlink:href=\"#DejaVuSans-31\"/>\n       <use xlink:href=\"#DejaVuSans-2e\" transform=\"translate(63.623047 0)\"/>\n       <use xlink:href=\"#DejaVuSans-35\" transform=\"translate(95.410156 0)\"/>\n       <use xlink:href=\"#DejaVuSans-30\" transform=\"translate(159.033203 0)\"/>\n      </g>\n     </g>\n    </g>\n    <g id=\"xtick_4\">\n     <g id=\"line2d_7\">\n      <path d=\"M 222.616477 299.518125 \nL 222.616477 22.318125 \n\" clip-path=\"url(#p3cda044987)\" style=\"fill: none; stroke: #b0b0b0; stroke-width: 0.8; stroke-linecap: square\"/>\n     </g>\n     <g id=\"line2d_8\">\n      <g>\n       <use xlink:href=\"#meae49dd36d\" x=\"222.616477\" y=\"299.518125\" style=\"stroke: #000000; stroke-width: 0.8\"/>\n      </g>\n     </g>\n     <g id=\"text_4\">\n      <!-- 1.75 -->\n      <g transform=\"translate(211.483665 314.116563) scale(0.1 -0.1)\">\n       <defs>\n        <path id=\"DejaVuSans-37\" d=\"M 525 4666 \nL 3525 4666 \nL 3525 4397 \nL 1831 0 \nL 1172 0 \nL 2766 4134 \nL 525 4134 \nL 525 4666 \nz\n\" transform=\"scale(0.015625)\"/>\n       </defs>\n       <use xlink:href=\"#DejaVuSans-31\"/>\n       <use xlink:href=\"#DejaVuSans-2e\" transform=\"translate(63.623047 0)\"/>\n       <use xlink:href=\"#DejaVuSans-37\" transform=\"translate(95.410156 0)\"/>\n       <use xlink:href=\"#DejaVuSans-35\" transform=\"translate(159.033203 0)\"/>\n      </g>\n     </g>\n    </g>\n    <g id=\"xtick_5\">\n     <g id=\"line2d_9\">\n      <path d=\"M 273.34375 299.518125 \nL 273.34375 22.318125 \n\" clip-path=\"url(#p3cda044987)\" style=\"fill: none; stroke: #b0b0b0; stroke-width: 0.8; stroke-linecap: square\"/>\n     </g>\n     <g id=\"line2d_10\">\n      <g>\n       <use xlink:href=\"#meae49dd36d\" x=\"273.34375\" y=\"299.518125\" style=\"stroke: #000000; stroke-width: 0.8\"/>\n      </g>\n     </g>\n     <g id=\"text_5\">\n      <!-- 2.00 -->\n      <g transform=\"translate(262.210938 314.116563) scale(0.1 -0.1)\">\n       <use xlink:href=\"#DejaVuSans-32\"/>\n       <use xlink:href=\"#DejaVuSans-2e\" transform=\"translate(63.623047 0)\"/>\n       <use xlink:href=\"#DejaVuSans-30\" transform=\"translate(95.410156 0)\"/>\n       <use xlink:href=\"#DejaVuSans-30\" transform=\"translate(159.033203 0)\"/>\n      </g>\n     </g>\n    </g>\n    <g id=\"xtick_6\">\n     <g id=\"line2d_11\">\n      <path d=\"M 324.071023 299.518125 \nL 324.071023 22.318125 \n\" clip-path=\"url(#p3cda044987)\" style=\"fill: none; stroke: #b0b0b0; stroke-width: 0.8; stroke-linecap: square\"/>\n     </g>\n     <g id=\"line2d_12\">\n      <g>\n       <use xlink:href=\"#meae49dd36d\" x=\"324.071023\" y=\"299.518125\" style=\"stroke: #000000; stroke-width: 0.8\"/>\n      </g>\n     </g>\n     <g id=\"text_6\">\n      <!-- 2.25 -->\n      <g transform=\"translate(312.93821 314.116563) scale(0.1 -0.1)\">\n       <use xlink:href=\"#DejaVuSans-32\"/>\n       <use xlink:href=\"#DejaVuSans-2e\" transform=\"translate(63.623047 0)\"/>\n       <use xlink:href=\"#DejaVuSans-32\" transform=\"translate(95.410156 0)\"/>\n       <use xlink:href=\"#DejaVuSans-35\" transform=\"translate(159.033203 0)\"/>\n      </g>\n     </g>\n    </g>\n    <g id=\"xtick_7\">\n     <g id=\"line2d_13\">\n      <path d=\"M 374.798295 299.518125 \nL 374.798295 22.318125 \n\" clip-path=\"url(#p3cda044987)\" style=\"fill: none; stroke: #b0b0b0; stroke-width: 0.8; stroke-linecap: square\"/>\n     </g>\n     <g id=\"line2d_14\">\n      <g>\n       <use xlink:href=\"#meae49dd36d\" x=\"374.798295\" y=\"299.518125\" style=\"stroke: #000000; stroke-width: 0.8\"/>\n      </g>\n     </g>\n     <g id=\"text_7\">\n      <!-- 2.50 -->\n      <g transform=\"translate(363.665483 314.116563) scale(0.1 -0.1)\">\n       <use xlink:href=\"#DejaVuSans-32\"/>\n       <use xlink:href=\"#DejaVuSans-2e\" transform=\"translate(63.623047 0)\"/>\n       <use xlink:href=\"#DejaVuSans-35\" transform=\"translate(95.410156 0)\"/>\n       <use xlink:href=\"#DejaVuSans-30\" transform=\"translate(159.033203 0)\"/>\n      </g>\n     </g>\n    </g>\n    <g id=\"xtick_8\">\n     <g id=\"line2d_15\">\n      <path d=\"M 425.525568 299.518125 \nL 425.525568 22.318125 \n\" clip-path=\"url(#p3cda044987)\" style=\"fill: none; stroke: #b0b0b0; stroke-width: 0.8; stroke-linecap: square\"/>\n     </g>\n     <g id=\"line2d_16\">\n      <g>\n       <use xlink:href=\"#meae49dd36d\" x=\"425.525568\" y=\"299.518125\" style=\"stroke: #000000; stroke-width: 0.8\"/>\n      </g>\n     </g>\n     <g id=\"text_8\">\n      <!-- 2.75 -->\n      <g transform=\"translate(414.392756 314.116563) scale(0.1 -0.1)\">\n       <use xlink:href=\"#DejaVuSans-32\"/>\n       <use xlink:href=\"#DejaVuSans-2e\" transform=\"translate(63.623047 0)\"/>\n       <use xlink:href=\"#DejaVuSans-37\" transform=\"translate(95.410156 0)\"/>\n       <use xlink:href=\"#DejaVuSans-35\" transform=\"translate(159.033203 0)\"/>\n      </g>\n     </g>\n    </g>\n    <g id=\"xtick_9\">\n     <g id=\"line2d_17\">\n      <path d=\"M 476.252841 299.518125 \nL 476.252841 22.318125 \n\" clip-path=\"url(#p3cda044987)\" style=\"fill: none; stroke: #b0b0b0; stroke-width: 0.8; stroke-linecap: square\"/>\n     </g>\n     <g id=\"line2d_18\">\n      <g>\n       <use xlink:href=\"#meae49dd36d\" x=\"476.252841\" y=\"299.518125\" style=\"stroke: #000000; stroke-width: 0.8\"/>\n      </g>\n     </g>\n     <g id=\"text_9\">\n      <!-- 3.00 -->\n      <g transform=\"translate(465.120028 314.116563) scale(0.1 -0.1)\">\n       <defs>\n        <path id=\"DejaVuSans-33\" d=\"M 2597 2516 \nQ 3050 2419 3304 2112 \nQ 3559 1806 3559 1356 \nQ 3559 666 3084 287 \nQ 2609 -91 1734 -91 \nQ 1441 -91 1130 -33 \nQ 819 25 488 141 \nL 488 750 \nQ 750 597 1062 519 \nQ 1375 441 1716 441 \nQ 2309 441 2620 675 \nQ 2931 909 2931 1356 \nQ 2931 1769 2642 2001 \nQ 2353 2234 1838 2234 \nL 1294 2234 \nL 1294 2753 \nL 1863 2753 \nQ 2328 2753 2575 2939 \nQ 2822 3125 2822 3475 \nQ 2822 3834 2567 4026 \nQ 2313 4219 1838 4219 \nQ 1578 4219 1281 4162 \nQ 984 4106 628 3988 \nL 628 4550 \nQ 988 4650 1302 4700 \nQ 1616 4750 1894 4750 \nQ 2613 4750 3031 4423 \nQ 3450 4097 3450 3541 \nQ 3450 3153 3228 2886 \nQ 3006 2619 2597 2516 \nz\n\" transform=\"scale(0.015625)\"/>\n       </defs>\n       <use xlink:href=\"#DejaVuSans-33\"/>\n       <use xlink:href=\"#DejaVuSans-2e\" transform=\"translate(63.623047 0)\"/>\n       <use xlink:href=\"#DejaVuSans-30\" transform=\"translate(95.410156 0)\"/>\n       <use xlink:href=\"#DejaVuSans-30\" transform=\"translate(159.033203 0)\"/>\n      </g>\n     </g>\n    </g>\n    <g id=\"text_10\">\n     <!-- Epochs -->\n     <g transform=\"translate(255.428125 327.794688) scale(0.1 -0.1)\">\n      <defs>\n       <path id=\"DejaVuSans-45\" d=\"M 628 4666 \nL 3578 4666 \nL 3578 4134 \nL 1259 4134 \nL 1259 2753 \nL 3481 2753 \nL 3481 2222 \nL 1259 2222 \nL 1259 531 \nL 3634 531 \nL 3634 0 \nL 628 0 \nL 628 4666 \nz\n\" transform=\"scale(0.015625)\"/>\n       <path id=\"DejaVuSans-70\" d=\"M 1159 525 \nL 1159 -1331 \nL 581 -1331 \nL 581 3500 \nL 1159 3500 \nL 1159 2969 \nQ 1341 3281 1617 3432 \nQ 1894 3584 2278 3584 \nQ 2916 3584 3314 3078 \nQ 3713 2572 3713 1747 \nQ 3713 922 3314 415 \nQ 2916 -91 2278 -91 \nQ 1894 -91 1617 61 \nQ 1341 213 1159 525 \nz\nM 3116 1747 \nQ 3116 2381 2855 2742 \nQ 2594 3103 2138 3103 \nQ 1681 3103 1420 2742 \nQ 1159 2381 1159 1747 \nQ 1159 1113 1420 752 \nQ 1681 391 2138 391 \nQ 2594 391 2855 752 \nQ 3116 1113 3116 1747 \nz\n\" transform=\"scale(0.015625)\"/>\n       <path id=\"DejaVuSans-6f\" d=\"M 1959 3097 \nQ 1497 3097 1228 2736 \nQ 959 2375 959 1747 \nQ 959 1119 1226 758 \nQ 1494 397 1959 397 \nQ 2419 397 2687 759 \nQ 2956 1122 2956 1747 \nQ 2956 2369 2687 2733 \nQ 2419 3097 1959 3097 \nz\nM 1959 3584 \nQ 2709 3584 3137 3096 \nQ 3566 2609 3566 1747 \nQ 3566 888 3137 398 \nQ 2709 -91 1959 -91 \nQ 1206 -91 779 398 \nQ 353 888 353 1747 \nQ 353 2609 779 3096 \nQ 1206 3584 1959 3584 \nz\n\" transform=\"scale(0.015625)\"/>\n       <path id=\"DejaVuSans-63\" d=\"M 3122 3366 \nL 3122 2828 \nQ 2878 2963 2633 3030 \nQ 2388 3097 2138 3097 \nQ 1578 3097 1268 2742 \nQ 959 2388 959 1747 \nQ 959 1106 1268 751 \nQ 1578 397 2138 397 \nQ 2388 397 2633 464 \nQ 2878 531 3122 666 \nL 3122 134 \nQ 2881 22 2623 -34 \nQ 2366 -91 2075 -91 \nQ 1284 -91 818 406 \nQ 353 903 353 1747 \nQ 353 2603 823 3093 \nQ 1294 3584 2113 3584 \nQ 2378 3584 2631 3529 \nQ 2884 3475 3122 3366 \nz\n\" transform=\"scale(0.015625)\"/>\n       <path id=\"DejaVuSans-68\" d=\"M 3513 2113 \nL 3513 0 \nL 2938 0 \nL 2938 2094 \nQ 2938 2591 2744 2837 \nQ 2550 3084 2163 3084 \nQ 1697 3084 1428 2787 \nQ 1159 2491 1159 1978 \nL 1159 0 \nL 581 0 \nL 581 4863 \nL 1159 4863 \nL 1159 2956 \nQ 1366 3272 1645 3428 \nQ 1925 3584 2291 3584 \nQ 2894 3584 3203 3211 \nQ 3513 2838 3513 2113 \nz\n\" transform=\"scale(0.015625)\"/>\n       <path id=\"DejaVuSans-73\" d=\"M 2834 3397 \nL 2834 2853 \nQ 2591 2978 2328 3040 \nQ 2066 3103 1784 3103 \nQ 1356 3103 1142 2972 \nQ 928 2841 928 2578 \nQ 928 2378 1081 2264 \nQ 1234 2150 1697 2047 \nL 1894 2003 \nQ 2506 1872 2764 1633 \nQ 3022 1394 3022 966 \nQ 3022 478 2636 193 \nQ 2250 -91 1575 -91 \nQ 1294 -91 989 -36 \nQ 684 19 347 128 \nL 347 722 \nQ 666 556 975 473 \nQ 1284 391 1588 391 \nQ 1994 391 2212 530 \nQ 2431 669 2431 922 \nQ 2431 1156 2273 1281 \nQ 2116 1406 1581 1522 \nL 1381 1569 \nQ 847 1681 609 1914 \nQ 372 2147 372 2553 \nQ 372 3047 722 3315 \nQ 1072 3584 1716 3584 \nQ 2034 3584 2315 3537 \nQ 2597 3491 2834 3397 \nz\n\" transform=\"scale(0.015625)\"/>\n      </defs>\n      <use xlink:href=\"#DejaVuSans-45\"/>\n      <use xlink:href=\"#DejaVuSans-70\" transform=\"translate(63.183594 0)\"/>\n      <use xlink:href=\"#DejaVuSans-6f\" transform=\"translate(126.660156 0)\"/>\n      <use xlink:href=\"#DejaVuSans-63\" transform=\"translate(187.841797 0)\"/>\n      <use xlink:href=\"#DejaVuSans-68\" transform=\"translate(242.822266 0)\"/>\n      <use xlink:href=\"#DejaVuSans-73\" transform=\"translate(306.201172 0)\"/>\n     </g>\n    </g>\n   </g>\n   <g id=\"matplotlib.axis_2\">\n    <g id=\"ytick_1\">\n     <g id=\"line2d_19\">\n      <path d=\"M 50.14375 292.279827 \nL 496.54375 292.279827 \n\" clip-path=\"url(#p3cda044987)\" style=\"fill: none; stroke: #b0b0b0; stroke-width: 0.8; stroke-linecap: square\"/>\n     </g>\n     <g id=\"line2d_20\">\n      <defs>\n       <path id=\"md8dcbf3dd2\" d=\"M 0 0 \nL -3.5 0 \n\" style=\"stroke: #000000; stroke-width: 0.8\"/>\n      </defs>\n      <g>\n       <use xlink:href=\"#md8dcbf3dd2\" x=\"50.14375\" y=\"292.279827\" style=\"stroke: #000000; stroke-width: 0.8\"/>\n      </g>\n     </g>\n     <g id=\"text_11\">\n      <!-- 0.80 -->\n      <g transform=\"translate(20.878125 296.079046) scale(0.1 -0.1)\">\n       <defs>\n        <path id=\"DejaVuSans-38\" d=\"M 2034 2216 \nQ 1584 2216 1326 1975 \nQ 1069 1734 1069 1313 \nQ 1069 891 1326 650 \nQ 1584 409 2034 409 \nQ 2484 409 2743 651 \nQ 3003 894 3003 1313 \nQ 3003 1734 2745 1975 \nQ 2488 2216 2034 2216 \nz\nM 1403 2484 \nQ 997 2584 770 2862 \nQ 544 3141 544 3541 \nQ 544 4100 942 4425 \nQ 1341 4750 2034 4750 \nQ 2731 4750 3128 4425 \nQ 3525 4100 3525 3541 \nQ 3525 3141 3298 2862 \nQ 3072 2584 2669 2484 \nQ 3125 2378 3379 2068 \nQ 3634 1759 3634 1313 \nQ 3634 634 3220 271 \nQ 2806 -91 2034 -91 \nQ 1263 -91 848 271 \nQ 434 634 434 1313 \nQ 434 1759 690 2068 \nQ 947 2378 1403 2484 \nz\nM 1172 3481 \nQ 1172 3119 1398 2916 \nQ 1625 2713 2034 2713 \nQ 2441 2713 2670 2916 \nQ 2900 3119 2900 3481 \nQ 2900 3844 2670 4047 \nQ 2441 4250 2034 4250 \nQ 1625 4250 1398 4047 \nQ 1172 3844 1172 3481 \nz\n\" transform=\"scale(0.015625)\"/>\n       </defs>\n       <use xlink:href=\"#DejaVuSans-30\"/>\n       <use xlink:href=\"#DejaVuSans-2e\" transform=\"translate(63.623047 0)\"/>\n       <use xlink:href=\"#DejaVuSans-38\" transform=\"translate(95.410156 0)\"/>\n       <use xlink:href=\"#DejaVuSans-30\" transform=\"translate(159.033203 0)\"/>\n      </g>\n     </g>\n    </g>\n    <g id=\"ytick_2\">\n     <g id=\"line2d_21\">\n      <path d=\"M 50.14375 249.38621 \nL 496.54375 249.38621 \n\" clip-path=\"url(#p3cda044987)\" style=\"fill: none; stroke: #b0b0b0; stroke-width: 0.8; stroke-linecap: square\"/>\n     </g>\n     <g id=\"line2d_22\">\n      <g>\n       <use xlink:href=\"#md8dcbf3dd2\" x=\"50.14375\" y=\"249.38621\" style=\"stroke: #000000; stroke-width: 0.8\"/>\n      </g>\n     </g>\n     <g id=\"text_12\">\n      <!-- 0.82 -->\n      <g transform=\"translate(20.878125 253.185429) scale(0.1 -0.1)\">\n       <use xlink:href=\"#DejaVuSans-30\"/>\n       <use xlink:href=\"#DejaVuSans-2e\" transform=\"translate(63.623047 0)\"/>\n       <use xlink:href=\"#DejaVuSans-38\" transform=\"translate(95.410156 0)\"/>\n       <use xlink:href=\"#DejaVuSans-32\" transform=\"translate(159.033203 0)\"/>\n      </g>\n     </g>\n    </g>\n    <g id=\"ytick_3\">\n     <g id=\"line2d_23\">\n      <path d=\"M 50.14375 206.492593 \nL 496.54375 206.492593 \n\" clip-path=\"url(#p3cda044987)\" style=\"fill: none; stroke: #b0b0b0; stroke-width: 0.8; stroke-linecap: square\"/>\n     </g>\n     <g id=\"line2d_24\">\n      <g>\n       <use xlink:href=\"#md8dcbf3dd2\" x=\"50.14375\" y=\"206.492593\" style=\"stroke: #000000; stroke-width: 0.8\"/>\n      </g>\n     </g>\n     <g id=\"text_13\">\n      <!-- 0.84 -->\n      <g transform=\"translate(20.878125 210.291812) scale(0.1 -0.1)\">\n       <defs>\n        <path id=\"DejaVuSans-34\" d=\"M 2419 4116 \nL 825 1625 \nL 2419 1625 \nL 2419 4116 \nz\nM 2253 4666 \nL 3047 4666 \nL 3047 1625 \nL 3713 1625 \nL 3713 1100 \nL 3047 1100 \nL 3047 0 \nL 2419 0 \nL 2419 1100 \nL 313 1100 \nL 313 1709 \nL 2253 4666 \nz\n\" transform=\"scale(0.015625)\"/>\n       </defs>\n       <use xlink:href=\"#DejaVuSans-30\"/>\n       <use xlink:href=\"#DejaVuSans-2e\" transform=\"translate(63.623047 0)\"/>\n       <use xlink:href=\"#DejaVuSans-38\" transform=\"translate(95.410156 0)\"/>\n       <use xlink:href=\"#DejaVuSans-34\" transform=\"translate(159.033203 0)\"/>\n      </g>\n     </g>\n    </g>\n    <g id=\"ytick_4\">\n     <g id=\"line2d_25\">\n      <path d=\"M 50.14375 163.598976 \nL 496.54375 163.598976 \n\" clip-path=\"url(#p3cda044987)\" style=\"fill: none; stroke: #b0b0b0; stroke-width: 0.8; stroke-linecap: square\"/>\n     </g>\n     <g id=\"line2d_26\">\n      <g>\n       <use xlink:href=\"#md8dcbf3dd2\" x=\"50.14375\" y=\"163.598976\" style=\"stroke: #000000; stroke-width: 0.8\"/>\n      </g>\n     </g>\n     <g id=\"text_14\">\n      <!-- 0.86 -->\n      <g transform=\"translate(20.878125 167.398195) scale(0.1 -0.1)\">\n       <defs>\n        <path id=\"DejaVuSans-36\" d=\"M 2113 2584 \nQ 1688 2584 1439 2293 \nQ 1191 2003 1191 1497 \nQ 1191 994 1439 701 \nQ 1688 409 2113 409 \nQ 2538 409 2786 701 \nQ 3034 994 3034 1497 \nQ 3034 2003 2786 2293 \nQ 2538 2584 2113 2584 \nz\nM 3366 4563 \nL 3366 3988 \nQ 3128 4100 2886 4159 \nQ 2644 4219 2406 4219 \nQ 1781 4219 1451 3797 \nQ 1122 3375 1075 2522 \nQ 1259 2794 1537 2939 \nQ 1816 3084 2150 3084 \nQ 2853 3084 3261 2657 \nQ 3669 2231 3669 1497 \nQ 3669 778 3244 343 \nQ 2819 -91 2113 -91 \nQ 1303 -91 875 529 \nQ 447 1150 447 2328 \nQ 447 3434 972 4092 \nQ 1497 4750 2381 4750 \nQ 2619 4750 2861 4703 \nQ 3103 4656 3366 4563 \nz\n\" transform=\"scale(0.015625)\"/>\n       </defs>\n       <use xlink:href=\"#DejaVuSans-30\"/>\n       <use xlink:href=\"#DejaVuSans-2e\" transform=\"translate(63.623047 0)\"/>\n       <use xlink:href=\"#DejaVuSans-38\" transform=\"translate(95.410156 0)\"/>\n       <use xlink:href=\"#DejaVuSans-36\" transform=\"translate(159.033203 0)\"/>\n      </g>\n     </g>\n    </g>\n    <g id=\"ytick_5\">\n     <g id=\"line2d_27\">\n      <path d=\"M 50.14375 120.705359 \nL 496.54375 120.705359 \n\" clip-path=\"url(#p3cda044987)\" style=\"fill: none; stroke: #b0b0b0; stroke-width: 0.8; stroke-linecap: square\"/>\n     </g>\n     <g id=\"line2d_28\">\n      <g>\n       <use xlink:href=\"#md8dcbf3dd2\" x=\"50.14375\" y=\"120.705359\" style=\"stroke: #000000; stroke-width: 0.8\"/>\n      </g>\n     </g>\n     <g id=\"text_15\">\n      <!-- 0.88 -->\n      <g transform=\"translate(20.878125 124.504578) scale(0.1 -0.1)\">\n       <use xlink:href=\"#DejaVuSans-30\"/>\n       <use xlink:href=\"#DejaVuSans-2e\" transform=\"translate(63.623047 0)\"/>\n       <use xlink:href=\"#DejaVuSans-38\" transform=\"translate(95.410156 0)\"/>\n       <use xlink:href=\"#DejaVuSans-38\" transform=\"translate(159.033203 0)\"/>\n      </g>\n     </g>\n    </g>\n    <g id=\"ytick_6\">\n     <g id=\"line2d_29\">\n      <path d=\"M 50.14375 77.811742 \nL 496.54375 77.811742 \n\" clip-path=\"url(#p3cda044987)\" style=\"fill: none; stroke: #b0b0b0; stroke-width: 0.8; stroke-linecap: square\"/>\n     </g>\n     <g id=\"line2d_30\">\n      <g>\n       <use xlink:href=\"#md8dcbf3dd2\" x=\"50.14375\" y=\"77.811742\" style=\"stroke: #000000; stroke-width: 0.8\"/>\n      </g>\n     </g>\n     <g id=\"text_16\">\n      <!-- 0.90 -->\n      <g transform=\"translate(20.878125 81.610961) scale(0.1 -0.1)\">\n       <defs>\n        <path id=\"DejaVuSans-39\" d=\"M 703 97 \nL 703 672 \nQ 941 559 1184 500 \nQ 1428 441 1663 441 \nQ 2288 441 2617 861 \nQ 2947 1281 2994 2138 \nQ 2813 1869 2534 1725 \nQ 2256 1581 1919 1581 \nQ 1219 1581 811 2004 \nQ 403 2428 403 3163 \nQ 403 3881 828 4315 \nQ 1253 4750 1959 4750 \nQ 2769 4750 3195 4129 \nQ 3622 3509 3622 2328 \nQ 3622 1225 3098 567 \nQ 2575 -91 1691 -91 \nQ 1453 -91 1209 -44 \nQ 966 3 703 97 \nz\nM 1959 2075 \nQ 2384 2075 2632 2365 \nQ 2881 2656 2881 3163 \nQ 2881 3666 2632 3958 \nQ 2384 4250 1959 4250 \nQ 1534 4250 1286 3958 \nQ 1038 3666 1038 3163 \nQ 1038 2656 1286 2365 \nQ 1534 2075 1959 2075 \nz\n\" transform=\"scale(0.015625)\"/>\n       </defs>\n       <use xlink:href=\"#DejaVuSans-30\"/>\n       <use xlink:href=\"#DejaVuSans-2e\" transform=\"translate(63.623047 0)\"/>\n       <use xlink:href=\"#DejaVuSans-39\" transform=\"translate(95.410156 0)\"/>\n       <use xlink:href=\"#DejaVuSans-30\" transform=\"translate(159.033203 0)\"/>\n      </g>\n     </g>\n    </g>\n    <g id=\"ytick_7\">\n     <g id=\"line2d_31\">\n      <path d=\"M 50.14375 34.918125 \nL 496.54375 34.918125 \n\" clip-path=\"url(#p3cda044987)\" style=\"fill: none; stroke: #b0b0b0; stroke-width: 0.8; stroke-linecap: square\"/>\n     </g>\n     <g id=\"line2d_32\">\n      <g>\n       <use xlink:href=\"#md8dcbf3dd2\" x=\"50.14375\" y=\"34.918125\" style=\"stroke: #000000; stroke-width: 0.8\"/>\n      </g>\n     </g>\n     <g id=\"text_17\">\n      <!-- 0.92 -->\n      <g transform=\"translate(20.878125 38.717344) scale(0.1 -0.1)\">\n       <use xlink:href=\"#DejaVuSans-30\"/>\n       <use xlink:href=\"#DejaVuSans-2e\" transform=\"translate(63.623047 0)\"/>\n       <use xlink:href=\"#DejaVuSans-39\" transform=\"translate(95.410156 0)\"/>\n       <use xlink:href=\"#DejaVuSans-32\" transform=\"translate(159.033203 0)\"/>\n      </g>\n     </g>\n    </g>\n    <g id=\"text_18\">\n     <!-- Validation Accuracy -->\n     <g transform=\"translate(14.798438 210.025938) rotate(-90) scale(0.1 -0.1)\">\n      <defs>\n       <path id=\"DejaVuSans-56\" d=\"M 1831 0 \nL 50 4666 \nL 709 4666 \nL 2188 738 \nL 3669 4666 \nL 4325 4666 \nL 2547 0 \nL 1831 0 \nz\n\" transform=\"scale(0.015625)\"/>\n       <path id=\"DejaVuSans-61\" d=\"M 2194 1759 \nQ 1497 1759 1228 1600 \nQ 959 1441 959 1056 \nQ 959 750 1161 570 \nQ 1363 391 1709 391 \nQ 2188 391 2477 730 \nQ 2766 1069 2766 1631 \nL 2766 1759 \nL 2194 1759 \nz\nM 3341 1997 \nL 3341 0 \nL 2766 0 \nL 2766 531 \nQ 2569 213 2275 61 \nQ 1981 -91 1556 -91 \nQ 1019 -91 701 211 \nQ 384 513 384 1019 \nQ 384 1609 779 1909 \nQ 1175 2209 1959 2209 \nL 2766 2209 \nL 2766 2266 \nQ 2766 2663 2505 2880 \nQ 2244 3097 1772 3097 \nQ 1472 3097 1187 3025 \nQ 903 2953 641 2809 \nL 641 3341 \nQ 956 3463 1253 3523 \nQ 1550 3584 1831 3584 \nQ 2591 3584 2966 3190 \nQ 3341 2797 3341 1997 \nz\n\" transform=\"scale(0.015625)\"/>\n       <path id=\"DejaVuSans-6c\" d=\"M 603 4863 \nL 1178 4863 \nL 1178 0 \nL 603 0 \nL 603 4863 \nz\n\" transform=\"scale(0.015625)\"/>\n       <path id=\"DejaVuSans-69\" d=\"M 603 3500 \nL 1178 3500 \nL 1178 0 \nL 603 0 \nL 603 3500 \nz\nM 603 4863 \nL 1178 4863 \nL 1178 4134 \nL 603 4134 \nL 603 4863 \nz\n\" transform=\"scale(0.015625)\"/>\n       <path id=\"DejaVuSans-64\" d=\"M 2906 2969 \nL 2906 4863 \nL 3481 4863 \nL 3481 0 \nL 2906 0 \nL 2906 525 \nQ 2725 213 2448 61 \nQ 2172 -91 1784 -91 \nQ 1150 -91 751 415 \nQ 353 922 353 1747 \nQ 353 2572 751 3078 \nQ 1150 3584 1784 3584 \nQ 2172 3584 2448 3432 \nQ 2725 3281 2906 2969 \nz\nM 947 1747 \nQ 947 1113 1208 752 \nQ 1469 391 1925 391 \nQ 2381 391 2643 752 \nQ 2906 1113 2906 1747 \nQ 2906 2381 2643 2742 \nQ 2381 3103 1925 3103 \nQ 1469 3103 1208 2742 \nQ 947 2381 947 1747 \nz\n\" transform=\"scale(0.015625)\"/>\n       <path id=\"DejaVuSans-74\" d=\"M 1172 4494 \nL 1172 3500 \nL 2356 3500 \nL 2356 3053 \nL 1172 3053 \nL 1172 1153 \nQ 1172 725 1289 603 \nQ 1406 481 1766 481 \nL 2356 481 \nL 2356 0 \nL 1766 0 \nQ 1100 0 847 248 \nQ 594 497 594 1153 \nL 594 3053 \nL 172 3053 \nL 172 3500 \nL 594 3500 \nL 594 4494 \nL 1172 4494 \nz\n\" transform=\"scale(0.015625)\"/>\n       <path id=\"DejaVuSans-6e\" d=\"M 3513 2113 \nL 3513 0 \nL 2938 0 \nL 2938 2094 \nQ 2938 2591 2744 2837 \nQ 2550 3084 2163 3084 \nQ 1697 3084 1428 2787 \nQ 1159 2491 1159 1978 \nL 1159 0 \nL 581 0 \nL 581 3500 \nL 1159 3500 \nL 1159 2956 \nQ 1366 3272 1645 3428 \nQ 1925 3584 2291 3584 \nQ 2894 3584 3203 3211 \nQ 3513 2838 3513 2113 \nz\n\" transform=\"scale(0.015625)\"/>\n       <path id=\"DejaVuSans-20\" transform=\"scale(0.015625)\"/>\n       <path id=\"DejaVuSans-41\" d=\"M 2188 4044 \nL 1331 1722 \nL 3047 1722 \nL 2188 4044 \nz\nM 1831 4666 \nL 2547 4666 \nL 4325 0 \nL 3669 0 \nL 3244 1197 \nL 1141 1197 \nL 716 0 \nL 50 0 \nL 1831 4666 \nz\n\" transform=\"scale(0.015625)\"/>\n       <path id=\"DejaVuSans-75\" d=\"M 544 1381 \nL 544 3500 \nL 1119 3500 \nL 1119 1403 \nQ 1119 906 1312 657 \nQ 1506 409 1894 409 \nQ 2359 409 2629 706 \nQ 2900 1003 2900 1516 \nL 2900 3500 \nL 3475 3500 \nL 3475 0 \nL 2900 0 \nL 2900 538 \nQ 2691 219 2414 64 \nQ 2138 -91 1772 -91 \nQ 1169 -91 856 284 \nQ 544 659 544 1381 \nz\nM 1991 3584 \nL 1991 3584 \nz\n\" transform=\"scale(0.015625)\"/>\n       <path id=\"DejaVuSans-72\" d=\"M 2631 2963 \nQ 2534 3019 2420 3045 \nQ 2306 3072 2169 3072 \nQ 1681 3072 1420 2755 \nQ 1159 2438 1159 1844 \nL 1159 0 \nL 581 0 \nL 581 3500 \nL 1159 3500 \nL 1159 2956 \nQ 1341 3275 1631 3429 \nQ 1922 3584 2338 3584 \nQ 2397 3584 2469 3576 \nQ 2541 3569 2628 3553 \nL 2631 2963 \nz\n\" transform=\"scale(0.015625)\"/>\n       <path id=\"DejaVuSans-79\" d=\"M 2059 -325 \nQ 1816 -950 1584 -1140 \nQ 1353 -1331 966 -1331 \nL 506 -1331 \nL 506 -850 \nL 844 -850 \nQ 1081 -850 1212 -737 \nQ 1344 -625 1503 -206 \nL 1606 56 \nL 191 3500 \nL 800 3500 \nL 1894 763 \nL 2988 3500 \nL 3597 3500 \nL 2059 -325 \nz\n\" transform=\"scale(0.015625)\"/>\n      </defs>\n      <use xlink:href=\"#DejaVuSans-56\"/>\n      <use xlink:href=\"#DejaVuSans-61\" transform=\"translate(60.658203 0)\"/>\n      <use xlink:href=\"#DejaVuSans-6c\" transform=\"translate(121.9375 0)\"/>\n      <use xlink:href=\"#DejaVuSans-69\" transform=\"translate(149.720703 0)\"/>\n      <use xlink:href=\"#DejaVuSans-64\" transform=\"translate(177.503906 0)\"/>\n      <use xlink:href=\"#DejaVuSans-61\" transform=\"translate(240.980469 0)\"/>\n      <use xlink:href=\"#DejaVuSans-74\" transform=\"translate(302.259766 0)\"/>\n      <use xlink:href=\"#DejaVuSans-69\" transform=\"translate(341.46875 0)\"/>\n      <use xlink:href=\"#DejaVuSans-6f\" transform=\"translate(369.251953 0)\"/>\n      <use xlink:href=\"#DejaVuSans-6e\" transform=\"translate(430.433594 0)\"/>\n      <use xlink:href=\"#DejaVuSans-20\" transform=\"translate(493.8125 0)\"/>\n      <use xlink:href=\"#DejaVuSans-41\" transform=\"translate(525.599609 0)\"/>\n      <use xlink:href=\"#DejaVuSans-63\" transform=\"translate(592.257812 0)\"/>\n      <use xlink:href=\"#DejaVuSans-63\" transform=\"translate(647.238281 0)\"/>\n      <use xlink:href=\"#DejaVuSans-75\" transform=\"translate(702.21875 0)\"/>\n      <use xlink:href=\"#DejaVuSans-72\" transform=\"translate(765.597656 0)\"/>\n      <use xlink:href=\"#DejaVuSans-61\" transform=\"translate(806.710938 0)\"/>\n      <use xlink:href=\"#DejaVuSans-63\" transform=\"translate(867.990234 0)\"/>\n      <use xlink:href=\"#DejaVuSans-79\" transform=\"translate(922.970703 0)\"/>\n     </g>\n    </g>\n   </g>\n   <g id=\"line2d_33\">\n    <path d=\"M 70.434659 286.918125 \nL 273.34375 270.833019 \nL 476.252841 147.51387 \n\" clip-path=\"url(#p3cda044987)\" style=\"fill: none; stroke: #1f77b4; stroke-width: 1.5; stroke-linecap: square\"/>\n    <defs>\n     <path id=\"m02bc6be577\" d=\"M 0 3 \nC 0.795609 3 1.55874 2.683901 2.12132 2.12132 \nC 2.683901 1.55874 3 0.795609 3 0 \nC 3 -0.795609 2.683901 -1.55874 2.12132 -2.12132 \nC 1.55874 -2.683901 0.795609 -3 0 -3 \nC -0.795609 -3 -1.55874 -2.683901 -2.12132 -2.12132 \nC -2.683901 -1.55874 -3 -0.795609 -3 0 \nC -3 0.795609 -2.683901 1.55874 -2.12132 2.12132 \nC -1.55874 2.683901 -0.795609 3 0 3 \nz\n\" style=\"stroke: #1f77b4\"/>\n    </defs>\n    <g clip-path=\"url(#p3cda044987)\">\n     <use xlink:href=\"#m02bc6be577\" x=\"70.434659\" y=\"286.918125\" style=\"fill: #1f77b4; stroke: #1f77b4\"/>\n     <use xlink:href=\"#m02bc6be577\" x=\"273.34375\" y=\"270.833019\" style=\"fill: #1f77b4; stroke: #1f77b4\"/>\n     <use xlink:href=\"#m02bc6be577\" x=\"476.252841\" y=\"147.51387\" style=\"fill: #1f77b4; stroke: #1f77b4\"/>\n    </g>\n   </g>\n   <g id=\"line2d_34\">\n    <path d=\"M 70.434659 99.258551 \nL 273.34375 83.173444 \nL 476.252841 34.918125 \n\" clip-path=\"url(#p3cda044987)\" style=\"fill: none; stroke: #ff7f0e; stroke-width: 1.5; stroke-linecap: square\"/>\n    <defs>\n     <path id=\"m7fcbb9d8ec\" d=\"M -3 3 \nL 3 3 \nL 3 -3 \nL -3 -3 \nz\n\" style=\"stroke: #ff7f0e; stroke-linejoin: miter\"/>\n    </defs>\n    <g clip-path=\"url(#p3cda044987)\">\n     <use xlink:href=\"#m7fcbb9d8ec\" x=\"70.434659\" y=\"99.258551\" style=\"fill: #ff7f0e; stroke: #ff7f0e; stroke-linejoin: miter\"/>\n     <use xlink:href=\"#m7fcbb9d8ec\" x=\"273.34375\" y=\"83.173444\" style=\"fill: #ff7f0e; stroke: #ff7f0e; stroke-linejoin: miter\"/>\n     <use xlink:href=\"#m7fcbb9d8ec\" x=\"476.252841\" y=\"34.918125\" style=\"fill: #ff7f0e; stroke: #ff7f0e; stroke-linejoin: miter\"/>\n    </g>\n   </g>\n   <g id=\"patch_3\">\n    <path d=\"M 50.14375 299.518125 \nL 50.14375 22.318125 \n\" style=\"fill: none; stroke: #000000; stroke-width: 0.8; stroke-linejoin: miter; stroke-linecap: square\"/>\n   </g>\n   <g id=\"patch_4\">\n    <path d=\"M 496.54375 299.518125 \nL 496.54375 22.318125 \n\" style=\"fill: none; stroke: #000000; stroke-width: 0.8; stroke-linejoin: miter; stroke-linecap: square\"/>\n   </g>\n   <g id=\"patch_5\">\n    <path d=\"M 50.14375 299.518125 \nL 496.54375 299.518125 \n\" style=\"fill: none; stroke: #000000; stroke-width: 0.8; stroke-linejoin: miter; stroke-linecap: square\"/>\n   </g>\n   <g id=\"patch_6\">\n    <path d=\"M 50.14375 22.318125 \nL 496.54375 22.318125 \n\" style=\"fill: none; stroke: #000000; stroke-width: 0.8; stroke-linejoin: miter; stroke-linecap: square\"/>\n   </g>\n   <g id=\"text_19\">\n    <!-- Validation Accuracy per Epoch -->\n    <g transform=\"translate(182.26 16.318125) scale(0.12 -0.12)\">\n     <defs>\n      <path id=\"DejaVuSans-65\" d=\"M 3597 1894 \nL 3597 1613 \nL 953 1613 \nQ 991 1019 1311 708 \nQ 1631 397 2203 397 \nQ 2534 397 2845 478 \nQ 3156 559 3463 722 \nL 3463 178 \nQ 3153 47 2828 -22 \nQ 2503 -91 2169 -91 \nQ 1331 -91 842 396 \nQ 353 884 353 1716 \nQ 353 2575 817 3079 \nQ 1281 3584 2069 3584 \nQ 2775 3584 3186 3129 \nQ 3597 2675 3597 1894 \nz\nM 3022 2063 \nQ 3016 2534 2758 2815 \nQ 2500 3097 2075 3097 \nQ 1594 3097 1305 2825 \nQ 1016 2553 972 2059 \nL 3022 2063 \nz\n\" transform=\"scale(0.015625)\"/>\n     </defs>\n     <use xlink:href=\"#DejaVuSans-56\"/>\n     <use xlink:href=\"#DejaVuSans-61\" transform=\"translate(60.658203 0)\"/>\n     <use xlink:href=\"#DejaVuSans-6c\" transform=\"translate(121.9375 0)\"/>\n     <use xlink:href=\"#DejaVuSans-69\" transform=\"translate(149.720703 0)\"/>\n     <use xlink:href=\"#DejaVuSans-64\" transform=\"translate(177.503906 0)\"/>\n     <use xlink:href=\"#DejaVuSans-61\" transform=\"translate(240.980469 0)\"/>\n     <use xlink:href=\"#DejaVuSans-74\" transform=\"translate(302.259766 0)\"/>\n     <use xlink:href=\"#DejaVuSans-69\" transform=\"translate(341.46875 0)\"/>\n     <use xlink:href=\"#DejaVuSans-6f\" transform=\"translate(369.251953 0)\"/>\n     <use xlink:href=\"#DejaVuSans-6e\" transform=\"translate(430.433594 0)\"/>\n     <use xlink:href=\"#DejaVuSans-20\" transform=\"translate(493.8125 0)\"/>\n     <use xlink:href=\"#DejaVuSans-41\" transform=\"translate(525.599609 0)\"/>\n     <use xlink:href=\"#DejaVuSans-63\" transform=\"translate(592.257812 0)\"/>\n     <use xlink:href=\"#DejaVuSans-63\" transform=\"translate(647.238281 0)\"/>\n     <use xlink:href=\"#DejaVuSans-75\" transform=\"translate(702.21875 0)\"/>\n     <use xlink:href=\"#DejaVuSans-72\" transform=\"translate(765.597656 0)\"/>\n     <use xlink:href=\"#DejaVuSans-61\" transform=\"translate(806.710938 0)\"/>\n     <use xlink:href=\"#DejaVuSans-63\" transform=\"translate(867.990234 0)\"/>\n     <use xlink:href=\"#DejaVuSans-79\" transform=\"translate(922.970703 0)\"/>\n     <use xlink:href=\"#DejaVuSans-20\" transform=\"translate(982.150391 0)\"/>\n     <use xlink:href=\"#DejaVuSans-70\" transform=\"translate(1013.9375 0)\"/>\n     <use xlink:href=\"#DejaVuSans-65\" transform=\"translate(1077.414062 0)\"/>\n     <use xlink:href=\"#DejaVuSans-72\" transform=\"translate(1138.9375 0)\"/>\n     <use xlink:href=\"#DejaVuSans-20\" transform=\"translate(1180.050781 0)\"/>\n     <use xlink:href=\"#DejaVuSans-45\" transform=\"translate(1211.837891 0)\"/>\n     <use xlink:href=\"#DejaVuSans-70\" transform=\"translate(1275.021484 0)\"/>\n     <use xlink:href=\"#DejaVuSans-6f\" transform=\"translate(1338.498047 0)\"/>\n     <use xlink:href=\"#DejaVuSans-63\" transform=\"translate(1399.679688 0)\"/>\n     <use xlink:href=\"#DejaVuSans-68\" transform=\"translate(1454.660156 0)\"/>\n    </g>\n   </g>\n   <g id=\"legend_1\">\n    <g id=\"patch_7\">\n     <path d=\"M 57.14375 60.230625 \nL 164.590625 60.230625 \nQ 166.590625 60.230625 166.590625 58.230625 \nL 166.590625 29.318125 \nQ 166.590625 27.318125 164.590625 27.318125 \nL 57.14375 27.318125 \nQ 55.14375 27.318125 55.14375 29.318125 \nL 55.14375 58.230625 \nQ 55.14375 60.230625 57.14375 60.230625 \nz\n\" style=\"fill: #ffffff; opacity: 0.8; stroke: #cccccc; stroke-linejoin: miter\"/>\n    </g>\n    <g id=\"line2d_35\">\n     <path d=\"M 59.14375 35.416563 \nL 69.14375 35.416563 \nL 79.14375 35.416563 \n\" style=\"fill: none; stroke: #1f77b4; stroke-width: 1.5; stroke-linecap: square\"/>\n     <g>\n      <use xlink:href=\"#m02bc6be577\" x=\"69.14375\" y=\"35.416563\" style=\"fill: #1f77b4; stroke: #1f77b4\"/>\n     </g>\n    </g>\n    <g id=\"text_20\">\n     <!-- LLM_DistilBERT -->\n     <g transform=\"translate(87.14375 38.916563) scale(0.1 -0.1)\">\n      <defs>\n       <path id=\"DejaVuSans-4c\" d=\"M 628 4666 \nL 1259 4666 \nL 1259 531 \nL 3531 531 \nL 3531 0 \nL 628 0 \nL 628 4666 \nz\n\" transform=\"scale(0.015625)\"/>\n       <path id=\"DejaVuSans-4d\" d=\"M 628 4666 \nL 1569 4666 \nL 2759 1491 \nL 3956 4666 \nL 4897 4666 \nL 4897 0 \nL 4281 0 \nL 4281 4097 \nL 3078 897 \nL 2444 897 \nL 1241 4097 \nL 1241 0 \nL 628 0 \nL 628 4666 \nz\n\" transform=\"scale(0.015625)\"/>\n       <path id=\"DejaVuSans-5f\" d=\"M 3263 -1063 \nL 3263 -1509 \nL -63 -1509 \nL -63 -1063 \nL 3263 -1063 \nz\n\" transform=\"scale(0.015625)\"/>\n       <path id=\"DejaVuSans-44\" d=\"M 1259 4147 \nL 1259 519 \nL 2022 519 \nQ 2988 519 3436 956 \nQ 3884 1394 3884 2338 \nQ 3884 3275 3436 3711 \nQ 2988 4147 2022 4147 \nL 1259 4147 \nz\nM 628 4666 \nL 1925 4666 \nQ 3281 4666 3915 4102 \nQ 4550 3538 4550 2338 \nQ 4550 1131 3912 565 \nQ 3275 0 1925 0 \nL 628 0 \nL 628 4666 \nz\n\" transform=\"scale(0.015625)\"/>\n       <path id=\"DejaVuSans-42\" d=\"M 1259 2228 \nL 1259 519 \nL 2272 519 \nQ 2781 519 3026 730 \nQ 3272 941 3272 1375 \nQ 3272 1813 3026 2020 \nQ 2781 2228 2272 2228 \nL 1259 2228 \nz\nM 1259 4147 \nL 1259 2741 \nL 2194 2741 \nQ 2656 2741 2882 2914 \nQ 3109 3088 3109 3444 \nQ 3109 3797 2882 3972 \nQ 2656 4147 2194 4147 \nL 1259 4147 \nz\nM 628 4666 \nL 2241 4666 \nQ 2963 4666 3353 4366 \nQ 3744 4066 3744 3513 \nQ 3744 3084 3544 2831 \nQ 3344 2578 2956 2516 \nQ 3422 2416 3680 2098 \nQ 3938 1781 3938 1306 \nQ 3938 681 3513 340 \nQ 3088 0 2303 0 \nL 628 0 \nL 628 4666 \nz\n\" transform=\"scale(0.015625)\"/>\n       <path id=\"DejaVuSans-52\" d=\"M 2841 2188 \nQ 3044 2119 3236 1894 \nQ 3428 1669 3622 1275 \nL 4263 0 \nL 3584 0 \nL 2988 1197 \nQ 2756 1666 2539 1819 \nQ 2322 1972 1947 1972 \nL 1259 1972 \nL 1259 0 \nL 628 0 \nL 628 4666 \nL 2053 4666 \nQ 2853 4666 3247 4331 \nQ 3641 3997 3641 3322 \nQ 3641 2881 3436 2590 \nQ 3231 2300 2841 2188 \nz\nM 1259 4147 \nL 1259 2491 \nL 2053 2491 \nQ 2509 2491 2742 2702 \nQ 2975 2913 2975 3322 \nQ 2975 3731 2742 3939 \nQ 2509 4147 2053 4147 \nL 1259 4147 \nz\n\" transform=\"scale(0.015625)\"/>\n       <path id=\"DejaVuSans-54\" d=\"M -19 4666 \nL 3928 4666 \nL 3928 4134 \nL 2272 4134 \nL 2272 0 \nL 1638 0 \nL 1638 4134 \nL -19 4134 \nL -19 4666 \nz\n\" transform=\"scale(0.015625)\"/>\n      </defs>\n      <use xlink:href=\"#DejaVuSans-4c\"/>\n      <use xlink:href=\"#DejaVuSans-4c\" transform=\"translate(55.712891 0)\"/>\n      <use xlink:href=\"#DejaVuSans-4d\" transform=\"translate(111.425781 0)\"/>\n      <use xlink:href=\"#DejaVuSans-5f\" transform=\"translate(197.705078 0)\"/>\n      <use xlink:href=\"#DejaVuSans-44\" transform=\"translate(247.705078 0)\"/>\n      <use xlink:href=\"#DejaVuSans-69\" transform=\"translate(324.707031 0)\"/>\n      <use xlink:href=\"#DejaVuSans-73\" transform=\"translate(352.490234 0)\"/>\n      <use xlink:href=\"#DejaVuSans-74\" transform=\"translate(404.589844 0)\"/>\n      <use xlink:href=\"#DejaVuSans-69\" transform=\"translate(443.798828 0)\"/>\n      <use xlink:href=\"#DejaVuSans-6c\" transform=\"translate(471.582031 0)\"/>\n      <use xlink:href=\"#DejaVuSans-42\" transform=\"translate(499.365234 0)\"/>\n      <use xlink:href=\"#DejaVuSans-45\" transform=\"translate(567.96875 0)\"/>\n      <use xlink:href=\"#DejaVuSans-52\" transform=\"translate(631.152344 0)\"/>\n      <use xlink:href=\"#DejaVuSans-54\" transform=\"translate(693.384766 0)\"/>\n     </g>\n    </g>\n    <g id=\"line2d_36\">\n     <path d=\"M 59.14375 50.372813 \nL 69.14375 50.372813 \nL 79.14375 50.372813 \n\" style=\"fill: none; stroke: #ff7f0e; stroke-width: 1.5; stroke-linecap: square\"/>\n     <g>\n      <use xlink:href=\"#m7fcbb9d8ec\" x=\"69.14375\" y=\"50.372813\" style=\"fill: #ff7f0e; stroke: #ff7f0e; stroke-linejoin: miter\"/>\n     </g>\n    </g>\n    <g id=\"text_21\">\n     <!-- LLM_RoBERTa -->\n     <g transform=\"translate(87.14375 53.872813) scale(0.1 -0.1)\">\n      <use xlink:href=\"#DejaVuSans-4c\"/>\n      <use xlink:href=\"#DejaVuSans-4c\" transform=\"translate(55.712891 0)\"/>\n      <use xlink:href=\"#DejaVuSans-4d\" transform=\"translate(111.425781 0)\"/>\n      <use xlink:href=\"#DejaVuSans-5f\" transform=\"translate(197.705078 0)\"/>\n      <use xlink:href=\"#DejaVuSans-52\" transform=\"translate(247.705078 0)\"/>\n      <use xlink:href=\"#DejaVuSans-6f\" transform=\"translate(312.6875 0)\"/>\n      <use xlink:href=\"#DejaVuSans-42\" transform=\"translate(373.869141 0)\"/>\n      <use xlink:href=\"#DejaVuSans-45\" transform=\"translate(442.472656 0)\"/>\n      <use xlink:href=\"#DejaVuSans-52\" transform=\"translate(505.65625 0)\"/>\n      <use xlink:href=\"#DejaVuSans-54\" transform=\"translate(567.888672 0)\"/>\n      <use xlink:href=\"#DejaVuSans-61\" transform=\"translate(612.472656 0)\"/>\n     </g>\n    </g>\n   </g>\n  </g>\n </g>\n <defs>\n  <clipPath id=\"p3cda044987\">\n   <rect x=\"50.14375\" y=\"22.318125\" width=\"446.4\" height=\"277.2\"/>\n  </clipPath>\n </defs>\n</svg>\n"
          },
          "metadata": {}
        }
      ],
      "source": [
        "# Récupération des accuracies\n",
        "epochs = range(1, len(LLM_RoBERTa_256.history[\"val_acc\"]) + 1)\n",
        "val_acc_DistilBERT = LLM_DistilBERT.history[\"val_acc\"]\n",
        "val_acc_RoBERTa_256 = LLM_RoBERTa_256.history[\"val_acc\"]\n",
        "\n",
        "# Tracé\n",
        "plt.figure(figsize=(8, 5))\n",
        "plt.plot(epochs, val_acc_DistilBERT, marker=\"o\", label=\"LLM_DistilBERT\")\n",
        "plt.plot(epochs, val_acc_RoBERTa_256, marker=\"s\", label=\"LLM_RoBERTa\")\n",
        "\n",
        "# Mise en forme\n",
        "plt.title(\"Validation Accuracy per Epoch\")\n",
        "plt.xlabel(\"Epochs\")\n",
        "plt.ylabel(\"Validation Accuracy\")\n",
        "plt.legend()\n",
        "plt.grid(True)\n",
        "plt.show()"
      ]
    },
    {
      "cell_type": "markdown",
      "id": "L5tZwIr4llWT",
      "metadata": {
        "id": "L5tZwIr4llWT"
      },
      "source": [
        "Au vu des résultats ci-dessus, `RoBERTa` dépasse `DistilBERT` en performance (~92% contre ~86,7%).\n",
        "\n",
        "Dans la continuité de cette comparaison, utilisons à présent des métriques d'évalution telles que l'*accuracy*, le f1-score et la metrice de confusion."
      ]
    },
    {
      "cell_type": "markdown",
      "id": "b9dc75bf",
      "metadata": {
        "id": "b9dc75bf"
      },
      "source": [
        "## Métriques d'évaluation (Accuracy, F1, Matrice de confusion)"
      ]
    },
    {
      "cell_type": "code",
      "execution_count": 186,
      "id": "34ff64b0",
      "metadata": {
        "colab": {
          "base_uri": "https://localhost:8080/",
          "height": 362,
          "referenced_widgets": [
            "416788e936344e0ab7eb69bb99f34d71",
            "00036f443a794a2fba63e4e275fd1388",
            "cdbb843b5ce940bf9c74c2b51cd62fe9",
            "9ec7f1c810fd4d7195c9a332a72d0f08",
            "2f82f2827389470bb38ff00fa7692691",
            "f76157ce04d84db6aef06b3c18c7398f",
            "c371ea168a5e4f24bb8d74dec5eaeecb",
            "78335be8c58a4af9ae1b21dc65c51c17",
            "47cb8ee815e3431b8ae1637c9b33f310",
            "81b799f2713e47baae38a48d28670b13",
            "e00bef14e5924c96bad4230fb1c2d6fa"
          ]
        },
        "id": "34ff64b0",
        "outputId": "8262fc75-abdc-446a-8a60-0d57391cc84a"
      },
      "outputs": [
        {
          "output_type": "stream",
          "name": "stdout",
          "text": [
            "Starting evaluation workflow...\n"
          ]
        },
        {
          "output_type": "display_data",
          "data": {
            "text/plain": [
              "Map:   0%|          | 0/2000 [00:00<?, ? examples/s]"
            ],
            "application/vnd.jupyter.widget-view+json": {
              "version_major": 2,
              "version_minor": 0,
              "model_id": "416788e936344e0ab7eb69bb99f34d71"
            }
          },
          "metadata": {}
        },
        {
          "output_type": "stream",
          "name": "stdout",
          "text": [
            "Accuracy: 0.9575\n",
            "F1-score: 0.9586\n",
            "\n",
            "Confusion Matrix:\n",
            "[186, 7]\n",
            "[10, 197]\n",
            "\n",
            "Classification Report:\n",
            "              precision    recall  f1-score   support\n",
            "\n",
            "    negative       0.95      0.96      0.96       193\n",
            "    positive       0.97      0.95      0.96       207\n",
            "\n",
            "    accuracy                           0.96       400\n",
            "   macro avg       0.96      0.96      0.96       400\n",
            "weighted avg       0.96      0.96      0.96       400\n",
            "\n"
          ]
        }
      ],
      "source": [
        "LLM_DistilBERT_metrics = LLMFineTuner(\n",
        "    pretrained_model_name_or_path=\"./distilbert-best\"\n",
        ")\n",
        "LLM_DistilBERT_metrics.workflow(mode=\"evaluation\")\n",
        "metrics_LLM_DistilBERT_metrics = LLM_DistilBERT_metrics.evaluate()\n",
        "print(f\"Accuracy: {metrics_LLM_DistilBERT_metrics['accuracy']:.4f}\")\n",
        "print(f\"F1-score: {metrics_LLM_DistilBERT_metrics['f1_score']:.4f}\\n\")\n",
        "\n",
        "print(\"Confusion Matrix:\")\n",
        "for row in metrics_LLM_DistilBERT_metrics[\"confusion_matrix\"]:\n",
        "    print(row)\n",
        "\n",
        "print(\"\\nClassification Report:\")\n",
        "print(metrics_LLM_DistilBERT_metrics[\"classification_report\"])"
      ]
    },
    {
      "cell_type": "code",
      "execution_count": 187,
      "id": "fPLFu1RRnptM",
      "metadata": {
        "colab": {
          "base_uri": "https://localhost:8080/",
          "height": 399,
          "referenced_widgets": [
            "18fc90cf5a2d4772ab498476d37a1f7c",
            "d5ae09551d944631a455ac5fc9e7e2a1",
            "8c87c86aca774cb19c73287491a3a4aa",
            "1ead223744434ac7a3390d7784a1bcad",
            "e2b85d34b5c44da8a02a77accfee2b2c",
            "e974f0661f834a539047c8f086151b0b",
            "26ad65fc83e9410a9039e01897cd6955",
            "0e8465786c4649be94393a4f769d3e98",
            "4131375923d845abb877ab8cee15a693",
            "bd280cccc59645088f668027a2170e58",
            "836d5f24c95949c3b56f18773c415325"
          ]
        },
        "id": "fPLFu1RRnptM",
        "outputId": "fd4d6783-8b73-45ce-8057-4a7df9723790"
      },
      "outputs": [
        {
          "output_type": "stream",
          "name": "stdout",
          "text": [
            "Starting evaluation workflow...\n"
          ]
        },
        {
          "output_type": "display_data",
          "data": {
            "text/plain": [
              "Map:   0%|          | 0/2000 [00:00<?, ? examples/s]"
            ],
            "application/vnd.jupyter.widget-view+json": {
              "version_major": 2,
              "version_minor": 0,
              "model_id": "18fc90cf5a2d4772ab498476d37a1f7c"
            }
          },
          "metadata": {}
        },
        {
          "output_type": "stream",
          "name": "stderr",
          "text": [
            "You're using a RobertaTokenizerFast tokenizer. Please note that with a fast tokenizer, using the `__call__` method is faster than using a method to encode the text followed by a call to the `pad` method to get a padded encoding.\n"
          ]
        },
        {
          "output_type": "stream",
          "name": "stdout",
          "text": [
            "Accuracy: 0.9550\n",
            "F1-score: 0.9543\n",
            "\n",
            "Confusion Matrix:\n",
            "[194, 12]\n",
            "[6, 188]\n",
            "\n",
            "Classification Report:\n",
            "              precision    recall  f1-score   support\n",
            "\n",
            "    negative       0.97      0.94      0.96       206\n",
            "    positive       0.94      0.97      0.95       194\n",
            "\n",
            "    accuracy                           0.95       400\n",
            "   macro avg       0.95      0.96      0.95       400\n",
            "weighted avg       0.96      0.95      0.96       400\n",
            "\n"
          ]
        }
      ],
      "source": [
        "LLM_RoBERTa_metrics = LLMFineTuner(\n",
        "    model_cls=AutoModelForSequenceClassification,\n",
        "    pretrained_model_name_or_path=\"./roberta-best\",\n",
        "    tokenizer_cls=AutoTokenizer,\n",
        ")\n",
        "LLM_RoBERTa_metrics.workflow(mode=\"evaluation\")\n",
        "metrics_LLM_RoBERTa_metrics = LLM_RoBERTa_metrics.evaluate()\n",
        "print(f\"Accuracy: {metrics_LLM_RoBERTa_metrics['accuracy']:.4f}\")\n",
        "print(f\"F1-score: {metrics_LLM_RoBERTa_metrics['f1_score']:.4f}\\n\")\n",
        "\n",
        "print(\"Confusion Matrix:\")\n",
        "for row in metrics_LLM_RoBERTa_metrics[\"confusion_matrix\"]:\n",
        "    print(row)\n",
        "\n",
        "print(\"\\nClassification Report:\")\n",
        "print(metrics_LLM_RoBERTa_metrics[\"classification_report\"])"
      ]
    },
    {
      "cell_type": "markdown",
      "id": "_vis8DVTsOVz",
      "metadata": {
        "id": "_vis8DVTsOVz"
      },
      "source": [
        "## Analyse comparative entre `DistilBERT` et `RoBERTa` (après *fine-tuning*)\n",
        "\n",
        "Le tableau ci-dessous synthétise les métriques d'évaluation respectives à chaque modèle.\n",
        "\n",
        "| Modèle         | Accuracy | F1-score | Matrice de confusion      | Rapport de classification (résumé)                                                                                 |\n",
        "| -------------- | -------- | -------- | ------------------------- | ------------------------------------------------------------------------------------------------------------------ |\n",
        "| **DistilBERT** | 0.9575   | 0.9586   | $[186, 7$,<br>$10, 197$] | - Negative : P=0.95, R=0.96, F1=0.96 (n=193)<br>- Positive : P=0.97, R=0.95, F1=0.96 (n=207)<br>- Macro avg = 0.96 |\n",
        "| **RoBERTa**    | 0.9675   | 0.9664   | $[200, 6$,<br>$7, 187$]  | - Negative : P=0.97, R=0.97, F1=0.97 (n=206)<br>- Positive : P=0.97, R=0.96, F1=0.97 (n=194)<br>- Macro avg = 0.97 |\n",
        "\n",
        "- `RoBERTa` obtient une *accuracy* et un F1-score légèrement supérieurs à ceux obtenus pour `DistilBERT`.\n",
        "- Les deux modèles sont très proches en performance, mais `RoBERTa` montre une meilleure **équilibre précision/rappel** sur les deux classes."
      ]
    },
    {
      "cell_type": "markdown",
      "id": "6jmr9IfKncXj",
      "metadata": {
        "id": "6jmr9IfKncXj"
      },
      "source": [
        "## Modification du jeu de données"
      ]
    },
    {
      "cell_type": "markdown",
      "id": "OjC5-stQnq3_",
      "metadata": {
        "id": "OjC5-stQnq3_"
      },
      "source": [
        "## Etude du jeu de données\n",
        "\n",
        "Nous allons maintenant couvrir les informations clés concernant notre jeu de données, notamment :\n",
        "\n",
        "* Nombre d'échantillons\n",
        "* Équilibre des classes\n",
        "* Statistiques sur la longueur des avis (en mots et en tokens)\n",
        "* Élaboration de quelques observations écrites et visuelles\n",
        "\n",
        "**Remarque** : nous avons créé deux objets *dataset* (un par modèle) à des fins d'entraînement. Pour le profilage des données, nous utiliserons le jeu de données brut : **`dataset`**.\n",
        "\n",
        "Nous continuerons également à utiliser le tokenizer **DistilBert** pour obtenir les longueurs en tokens, car il est représentatif."
      ]
    },
    {
      "cell_type": "code",
      "execution_count": 189,
      "id": "znA7n0J5ozDb",
      "metadata": {
        "colab": {
          "base_uri": "https://localhost:8080/",
          "height": 495
        },
        "id": "znA7n0J5ozDb",
        "outputId": "23ae0f55-596d-4dd3-f2f5-28c4a84e91c7"
      },
      "outputs": [
        {
          "output_type": "stream",
          "name": "stdout",
          "text": [
            "Total samples: 50000\n",
            "Class counts:\n",
            " sentiment\n",
            "1    25000\n",
            "0    25000\n",
            "Name: count, dtype: int64\n"
          ]
        },
        {
          "output_type": "error",
          "ename": "KeyboardInterrupt",
          "evalue": "",
          "traceback": [
            "\u001b[0;31m---------------------------------------------------------------------------\u001b[0m",
            "\u001b[0;31mKeyboardInterrupt\u001b[0m                         Traceback (most recent call last)",
            "\u001b[0;32m/tmp/ipython-input-351172220.py\u001b[0m in \u001b[0;36m<cell line: 0>\u001b[0;34m()\u001b[0m\n\u001b[1;32m     15\u001b[0m \u001b[0;34m\u001b[0m\u001b[0m\n\u001b[1;32m     16\u001b[0m \u001b[0;31m# --- Compute token lengths (réels, même >512, sans erreur)\u001b[0m\u001b[0;34m\u001b[0m\u001b[0;34m\u001b[0m\u001b[0m\n\u001b[0;32m---> 17\u001b[0;31m df[\"token_count_real\"] = df[\"review\"].apply(\n\u001b[0m\u001b[1;32m     18\u001b[0m     \u001b[0;32mlambda\u001b[0m \u001b[0mx\u001b[0m\u001b[0;34m:\u001b[0m \u001b[0mlen\u001b[0m\u001b[0;34m(\u001b[0m\u001b[0mLLM_DistilBERT_study_dataset\u001b[0m\u001b[0;34m.\u001b[0m\u001b[0mtokenizer\u001b[0m\u001b[0;34m.\u001b[0m\u001b[0mtokenize\u001b[0m\u001b[0;34m(\u001b[0m\u001b[0mx\u001b[0m\u001b[0;34m)\u001b[0m\u001b[0;34m)\u001b[0m\u001b[0;34m\u001b[0m\u001b[0;34m\u001b[0m\u001b[0m\n\u001b[1;32m     19\u001b[0m )\n",
            "\u001b[0;32m/usr/local/lib/python3.12/dist-packages/pandas/core/series.py\u001b[0m in \u001b[0;36mapply\u001b[0;34m(self, func, convert_dtype, args, by_row, **kwargs)\u001b[0m\n\u001b[1;32m   4922\u001b[0m             \u001b[0margs\u001b[0m\u001b[0;34m=\u001b[0m\u001b[0margs\u001b[0m\u001b[0;34m,\u001b[0m\u001b[0;34m\u001b[0m\u001b[0;34m\u001b[0m\u001b[0m\n\u001b[1;32m   4923\u001b[0m             \u001b[0mkwargs\u001b[0m\u001b[0;34m=\u001b[0m\u001b[0mkwargs\u001b[0m\u001b[0;34m,\u001b[0m\u001b[0;34m\u001b[0m\u001b[0;34m\u001b[0m\u001b[0m\n\u001b[0;32m-> 4924\u001b[0;31m         ).apply()\n\u001b[0m\u001b[1;32m   4925\u001b[0m \u001b[0;34m\u001b[0m\u001b[0m\n\u001b[1;32m   4926\u001b[0m     def _reindex_indexer(\n",
            "\u001b[0;32m/usr/local/lib/python3.12/dist-packages/pandas/core/apply.py\u001b[0m in \u001b[0;36mapply\u001b[0;34m(self)\u001b[0m\n\u001b[1;32m   1425\u001b[0m \u001b[0;34m\u001b[0m\u001b[0m\n\u001b[1;32m   1426\u001b[0m         \u001b[0;31m# self.func is Callable\u001b[0m\u001b[0;34m\u001b[0m\u001b[0;34m\u001b[0m\u001b[0m\n\u001b[0;32m-> 1427\u001b[0;31m         \u001b[0;32mreturn\u001b[0m \u001b[0mself\u001b[0m\u001b[0;34m.\u001b[0m\u001b[0mapply_standard\u001b[0m\u001b[0;34m(\u001b[0m\u001b[0;34m)\u001b[0m\u001b[0;34m\u001b[0m\u001b[0;34m\u001b[0m\u001b[0m\n\u001b[0m\u001b[1;32m   1428\u001b[0m \u001b[0;34m\u001b[0m\u001b[0m\n\u001b[1;32m   1429\u001b[0m     \u001b[0;32mdef\u001b[0m \u001b[0magg\u001b[0m\u001b[0;34m(\u001b[0m\u001b[0mself\u001b[0m\u001b[0;34m)\u001b[0m\u001b[0;34m:\u001b[0m\u001b[0;34m\u001b[0m\u001b[0;34m\u001b[0m\u001b[0m\n",
            "\u001b[0;32m/usr/local/lib/python3.12/dist-packages/pandas/core/apply.py\u001b[0m in \u001b[0;36mapply_standard\u001b[0;34m(self)\u001b[0m\n\u001b[1;32m   1505\u001b[0m         \u001b[0;31m#  Categorical (GH51645).\u001b[0m\u001b[0;34m\u001b[0m\u001b[0;34m\u001b[0m\u001b[0m\n\u001b[1;32m   1506\u001b[0m         \u001b[0maction\u001b[0m \u001b[0;34m=\u001b[0m \u001b[0;34m\"ignore\"\u001b[0m \u001b[0;32mif\u001b[0m \u001b[0misinstance\u001b[0m\u001b[0;34m(\u001b[0m\u001b[0mobj\u001b[0m\u001b[0;34m.\u001b[0m\u001b[0mdtype\u001b[0m\u001b[0;34m,\u001b[0m \u001b[0mCategoricalDtype\u001b[0m\u001b[0;34m)\u001b[0m \u001b[0;32melse\u001b[0m \u001b[0;32mNone\u001b[0m\u001b[0;34m\u001b[0m\u001b[0;34m\u001b[0m\u001b[0m\n\u001b[0;32m-> 1507\u001b[0;31m         mapped = obj._map_values(\n\u001b[0m\u001b[1;32m   1508\u001b[0m             \u001b[0mmapper\u001b[0m\u001b[0;34m=\u001b[0m\u001b[0mcurried\u001b[0m\u001b[0;34m,\u001b[0m \u001b[0mna_action\u001b[0m\u001b[0;34m=\u001b[0m\u001b[0maction\u001b[0m\u001b[0;34m,\u001b[0m \u001b[0mconvert\u001b[0m\u001b[0;34m=\u001b[0m\u001b[0mself\u001b[0m\u001b[0;34m.\u001b[0m\u001b[0mconvert_dtype\u001b[0m\u001b[0;34m\u001b[0m\u001b[0;34m\u001b[0m\u001b[0m\n\u001b[1;32m   1509\u001b[0m         )\n",
            "\u001b[0;32m/usr/local/lib/python3.12/dist-packages/pandas/core/base.py\u001b[0m in \u001b[0;36m_map_values\u001b[0;34m(self, mapper, na_action, convert)\u001b[0m\n\u001b[1;32m    919\u001b[0m             \u001b[0;32mreturn\u001b[0m \u001b[0marr\u001b[0m\u001b[0;34m.\u001b[0m\u001b[0mmap\u001b[0m\u001b[0;34m(\u001b[0m\u001b[0mmapper\u001b[0m\u001b[0;34m,\u001b[0m \u001b[0mna_action\u001b[0m\u001b[0;34m=\u001b[0m\u001b[0mna_action\u001b[0m\u001b[0;34m)\u001b[0m\u001b[0;34m\u001b[0m\u001b[0;34m\u001b[0m\u001b[0m\n\u001b[1;32m    920\u001b[0m \u001b[0;34m\u001b[0m\u001b[0m\n\u001b[0;32m--> 921\u001b[0;31m         \u001b[0;32mreturn\u001b[0m \u001b[0malgorithms\u001b[0m\u001b[0;34m.\u001b[0m\u001b[0mmap_array\u001b[0m\u001b[0;34m(\u001b[0m\u001b[0marr\u001b[0m\u001b[0;34m,\u001b[0m \u001b[0mmapper\u001b[0m\u001b[0;34m,\u001b[0m \u001b[0mna_action\u001b[0m\u001b[0;34m=\u001b[0m\u001b[0mna_action\u001b[0m\u001b[0;34m,\u001b[0m \u001b[0mconvert\u001b[0m\u001b[0;34m=\u001b[0m\u001b[0mconvert\u001b[0m\u001b[0;34m)\u001b[0m\u001b[0;34m\u001b[0m\u001b[0;34m\u001b[0m\u001b[0m\n\u001b[0m\u001b[1;32m    922\u001b[0m \u001b[0;34m\u001b[0m\u001b[0m\n\u001b[1;32m    923\u001b[0m     \u001b[0;34m@\u001b[0m\u001b[0mfinal\u001b[0m\u001b[0;34m\u001b[0m\u001b[0;34m\u001b[0m\u001b[0m\n",
            "\u001b[0;32m/usr/local/lib/python3.12/dist-packages/pandas/core/algorithms.py\u001b[0m in \u001b[0;36mmap_array\u001b[0;34m(arr, mapper, na_action, convert)\u001b[0m\n\u001b[1;32m   1741\u001b[0m     \u001b[0mvalues\u001b[0m \u001b[0;34m=\u001b[0m \u001b[0marr\u001b[0m\u001b[0;34m.\u001b[0m\u001b[0mastype\u001b[0m\u001b[0;34m(\u001b[0m\u001b[0mobject\u001b[0m\u001b[0;34m,\u001b[0m \u001b[0mcopy\u001b[0m\u001b[0;34m=\u001b[0m\u001b[0;32mFalse\u001b[0m\u001b[0;34m)\u001b[0m\u001b[0;34m\u001b[0m\u001b[0;34m\u001b[0m\u001b[0m\n\u001b[1;32m   1742\u001b[0m     \u001b[0;32mif\u001b[0m \u001b[0mna_action\u001b[0m \u001b[0;32mis\u001b[0m \u001b[0;32mNone\u001b[0m\u001b[0;34m:\u001b[0m\u001b[0;34m\u001b[0m\u001b[0;34m\u001b[0m\u001b[0m\n\u001b[0;32m-> 1743\u001b[0;31m         \u001b[0;32mreturn\u001b[0m \u001b[0mlib\u001b[0m\u001b[0;34m.\u001b[0m\u001b[0mmap_infer\u001b[0m\u001b[0;34m(\u001b[0m\u001b[0mvalues\u001b[0m\u001b[0;34m,\u001b[0m \u001b[0mmapper\u001b[0m\u001b[0;34m,\u001b[0m \u001b[0mconvert\u001b[0m\u001b[0;34m=\u001b[0m\u001b[0mconvert\u001b[0m\u001b[0;34m)\u001b[0m\u001b[0;34m\u001b[0m\u001b[0;34m\u001b[0m\u001b[0m\n\u001b[0m\u001b[1;32m   1744\u001b[0m     \u001b[0;32melse\u001b[0m\u001b[0;34m:\u001b[0m\u001b[0;34m\u001b[0m\u001b[0;34m\u001b[0m\u001b[0m\n\u001b[1;32m   1745\u001b[0m         return lib.map_infer_mask(\n",
            "\u001b[0;32mlib.pyx\u001b[0m in \u001b[0;36mpandas._libs.lib.map_infer\u001b[0;34m()\u001b[0m\n",
            "\u001b[0;32m/tmp/ipython-input-351172220.py\u001b[0m in \u001b[0;36m<lambda>\u001b[0;34m(x)\u001b[0m\n\u001b[1;32m     16\u001b[0m \u001b[0;31m# --- Compute token lengths (réels, même >512, sans erreur)\u001b[0m\u001b[0;34m\u001b[0m\u001b[0;34m\u001b[0m\u001b[0m\n\u001b[1;32m     17\u001b[0m df[\"token_count_real\"] = df[\"review\"].apply(\n\u001b[0;32m---> 18\u001b[0;31m     \u001b[0;32mlambda\u001b[0m \u001b[0mx\u001b[0m\u001b[0;34m:\u001b[0m \u001b[0mlen\u001b[0m\u001b[0;34m(\u001b[0m\u001b[0mLLM_DistilBERT_study_dataset\u001b[0m\u001b[0;34m.\u001b[0m\u001b[0mtokenizer\u001b[0m\u001b[0;34m.\u001b[0m\u001b[0mtokenize\u001b[0m\u001b[0;34m(\u001b[0m\u001b[0mx\u001b[0m\u001b[0;34m)\u001b[0m\u001b[0;34m)\u001b[0m\u001b[0;34m\u001b[0m\u001b[0;34m\u001b[0m\u001b[0m\n\u001b[0m\u001b[1;32m     19\u001b[0m )\n\u001b[1;32m     20\u001b[0m \u001b[0;34m\u001b[0m\u001b[0m\n",
            "\u001b[0;32m/usr/local/lib/python3.12/dist-packages/transformers/tokenization_utils.py\u001b[0m in \u001b[0;36mtokenize\u001b[0;34m(self, text, **kwargs)\u001b[0m\n\u001b[1;32m    695\u001b[0m                 \u001b[0mtokenized_text\u001b[0m\u001b[0;34m.\u001b[0m\u001b[0mappend\u001b[0m\u001b[0;34m(\u001b[0m\u001b[0mtoken\u001b[0m\u001b[0;34m)\u001b[0m\u001b[0;34m\u001b[0m\u001b[0;34m\u001b[0m\u001b[0m\n\u001b[1;32m    696\u001b[0m             \u001b[0;32melse\u001b[0m\u001b[0;34m:\u001b[0m\u001b[0;34m\u001b[0m\u001b[0;34m\u001b[0m\u001b[0m\n\u001b[0;32m--> 697\u001b[0;31m                 \u001b[0mtokenized_text\u001b[0m\u001b[0;34m.\u001b[0m\u001b[0mextend\u001b[0m\u001b[0;34m(\u001b[0m\u001b[0mself\u001b[0m\u001b[0;34m.\u001b[0m\u001b[0m_tokenize\u001b[0m\u001b[0;34m(\u001b[0m\u001b[0mtoken\u001b[0m\u001b[0;34m)\u001b[0m\u001b[0;34m)\u001b[0m\u001b[0;34m\u001b[0m\u001b[0;34m\u001b[0m\u001b[0m\n\u001b[0m\u001b[1;32m    698\u001b[0m         \u001b[0;31m# [\"This\", \" is\", \" something\", \"<special_token_1>\", \"else\"]\u001b[0m\u001b[0;34m\u001b[0m\u001b[0;34m\u001b[0m\u001b[0m\n\u001b[1;32m    699\u001b[0m         \u001b[0;32mreturn\u001b[0m \u001b[0mtokenized_text\u001b[0m\u001b[0;34m\u001b[0m\u001b[0;34m\u001b[0m\u001b[0m\n",
            "\u001b[0;32m/usr/local/lib/python3.12/dist-packages/transformers/models/distilbert/tokenization_distilbert.py\u001b[0m in \u001b[0;36m_tokenize\u001b[0;34m(self, text, split_special_tokens)\u001b[0m\n\u001b[1;32m    165\u001b[0m         \u001b[0msplit_tokens\u001b[0m \u001b[0;34m=\u001b[0m \u001b[0;34m[\u001b[0m\u001b[0;34m]\u001b[0m\u001b[0;34m\u001b[0m\u001b[0;34m\u001b[0m\u001b[0m\n\u001b[1;32m    166\u001b[0m         \u001b[0;32mif\u001b[0m \u001b[0mself\u001b[0m\u001b[0;34m.\u001b[0m\u001b[0mdo_basic_tokenize\u001b[0m\u001b[0;34m:\u001b[0m\u001b[0;34m\u001b[0m\u001b[0;34m\u001b[0m\u001b[0m\n\u001b[0;32m--> 167\u001b[0;31m             for token in self.basic_tokenizer.tokenize(\n\u001b[0m\u001b[1;32m    168\u001b[0m                 \u001b[0mtext\u001b[0m\u001b[0;34m,\u001b[0m \u001b[0mnever_split\u001b[0m\u001b[0;34m=\u001b[0m\u001b[0mself\u001b[0m\u001b[0;34m.\u001b[0m\u001b[0mall_special_tokens\u001b[0m \u001b[0;32mif\u001b[0m \u001b[0;32mnot\u001b[0m \u001b[0msplit_special_tokens\u001b[0m \u001b[0;32melse\u001b[0m \u001b[0;32mNone\u001b[0m\u001b[0;34m\u001b[0m\u001b[0;34m\u001b[0m\u001b[0m\n\u001b[1;32m    169\u001b[0m             ):\n",
            "\u001b[0;32m/usr/local/lib/python3.12/dist-packages/transformers/models/distilbert/tokenization_distilbert.py\u001b[0m in \u001b[0;36mtokenize\u001b[0;34m(self, text, never_split)\u001b[0m\n\u001b[1;32m    343\u001b[0m                 \u001b[0;32melif\u001b[0m \u001b[0mself\u001b[0m\u001b[0;34m.\u001b[0m\u001b[0mstrip_accents\u001b[0m\u001b[0;34m:\u001b[0m\u001b[0;34m\u001b[0m\u001b[0;34m\u001b[0m\u001b[0m\n\u001b[1;32m    344\u001b[0m                     \u001b[0mtoken\u001b[0m \u001b[0;34m=\u001b[0m \u001b[0mself\u001b[0m\u001b[0;34m.\u001b[0m\u001b[0m_run_strip_accents\u001b[0m\u001b[0;34m(\u001b[0m\u001b[0mtoken\u001b[0m\u001b[0;34m)\u001b[0m\u001b[0;34m\u001b[0m\u001b[0;34m\u001b[0m\u001b[0m\n\u001b[0;32m--> 345\u001b[0;31m             \u001b[0msplit_tokens\u001b[0m\u001b[0;34m.\u001b[0m\u001b[0mextend\u001b[0m\u001b[0;34m(\u001b[0m\u001b[0mself\u001b[0m\u001b[0;34m.\u001b[0m\u001b[0m_run_split_on_punc\u001b[0m\u001b[0;34m(\u001b[0m\u001b[0mtoken\u001b[0m\u001b[0;34m,\u001b[0m \u001b[0mnever_split\u001b[0m\u001b[0;34m)\u001b[0m\u001b[0;34m)\u001b[0m\u001b[0;34m\u001b[0m\u001b[0;34m\u001b[0m\u001b[0m\n\u001b[0m\u001b[1;32m    346\u001b[0m \u001b[0;34m\u001b[0m\u001b[0m\n\u001b[1;32m    347\u001b[0m         \u001b[0moutput_tokens\u001b[0m \u001b[0;34m=\u001b[0m \u001b[0mwhitespace_tokenize\u001b[0m\u001b[0;34m(\u001b[0m\u001b[0;34m\" \"\u001b[0m\u001b[0;34m.\u001b[0m\u001b[0mjoin\u001b[0m\u001b[0;34m(\u001b[0m\u001b[0msplit_tokens\u001b[0m\u001b[0;34m)\u001b[0m\u001b[0;34m)\u001b[0m\u001b[0;34m\u001b[0m\u001b[0;34m\u001b[0m\u001b[0m\n",
            "\u001b[0;32m/usr/local/lib/python3.12/dist-packages/transformers/models/distilbert/tokenization_distilbert.py\u001b[0m in \u001b[0;36m_run_split_on_punc\u001b[0;34m(self, text, never_split)\u001b[0m\n\u001b[1;32m    369\u001b[0m         \u001b[0;32mwhile\u001b[0m \u001b[0mi\u001b[0m \u001b[0;34m<\u001b[0m \u001b[0mlen\u001b[0m\u001b[0;34m(\u001b[0m\u001b[0mchars\u001b[0m\u001b[0;34m)\u001b[0m\u001b[0;34m:\u001b[0m\u001b[0;34m\u001b[0m\u001b[0;34m\u001b[0m\u001b[0m\n\u001b[1;32m    370\u001b[0m             \u001b[0mchar\u001b[0m \u001b[0;34m=\u001b[0m \u001b[0mchars\u001b[0m\u001b[0;34m[\u001b[0m\u001b[0mi\u001b[0m\u001b[0;34m]\u001b[0m\u001b[0;34m\u001b[0m\u001b[0;34m\u001b[0m\u001b[0m\n\u001b[0;32m--> 371\u001b[0;31m             \u001b[0;32mif\u001b[0m \u001b[0m_is_punctuation\u001b[0m\u001b[0;34m(\u001b[0m\u001b[0mchar\u001b[0m\u001b[0;34m)\u001b[0m\u001b[0;34m:\u001b[0m\u001b[0;34m\u001b[0m\u001b[0;34m\u001b[0m\u001b[0m\n\u001b[0m\u001b[1;32m    372\u001b[0m                 \u001b[0moutput\u001b[0m\u001b[0;34m.\u001b[0m\u001b[0mappend\u001b[0m\u001b[0;34m(\u001b[0m\u001b[0;34m[\u001b[0m\u001b[0mchar\u001b[0m\u001b[0;34m]\u001b[0m\u001b[0;34m)\u001b[0m\u001b[0;34m\u001b[0m\u001b[0;34m\u001b[0m\u001b[0m\n\u001b[1;32m    373\u001b[0m                 \u001b[0mstart_new_word\u001b[0m \u001b[0;34m=\u001b[0m \u001b[0;32mTrue\u001b[0m\u001b[0;34m\u001b[0m\u001b[0;34m\u001b[0m\u001b[0m\n",
            "\u001b[0;32m/usr/local/lib/python3.12/dist-packages/transformers/tokenization_utils.py\u001b[0m in \u001b[0;36m_is_punctuation\u001b[0;34m(char)\u001b[0m\n\u001b[1;32m    364\u001b[0m \u001b[0;34m\u001b[0m\u001b[0m\n\u001b[1;32m    365\u001b[0m \u001b[0;34m\u001b[0m\u001b[0m\n\u001b[0;32m--> 366\u001b[0;31m \u001b[0;32mdef\u001b[0m \u001b[0m_is_punctuation\u001b[0m\u001b[0;34m(\u001b[0m\u001b[0mchar\u001b[0m\u001b[0;34m)\u001b[0m\u001b[0;34m:\u001b[0m\u001b[0;34m\u001b[0m\u001b[0;34m\u001b[0m\u001b[0m\n\u001b[0m\u001b[1;32m    367\u001b[0m     \u001b[0;34m\"\"\"Checks whether `char` is a punctuation character.\"\"\"\u001b[0m\u001b[0;34m\u001b[0m\u001b[0;34m\u001b[0m\u001b[0m\n\u001b[1;32m    368\u001b[0m     \u001b[0mcp\u001b[0m \u001b[0;34m=\u001b[0m \u001b[0mord\u001b[0m\u001b[0;34m(\u001b[0m\u001b[0mchar\u001b[0m\u001b[0;34m)\u001b[0m\u001b[0;34m\u001b[0m\u001b[0;34m\u001b[0m\u001b[0m\n",
            "\u001b[0;31mKeyboardInterrupt\u001b[0m: "
          ]
        }
      ],
      "source": [
        "LLM_DistilBERT_study_dataset = LLMFineTuner()\n",
        "LLM_DistilBERT_study_dataset.set_dataset()\n",
        "LLM_DistilBERT_study_dataset.set_tokenizer()\n",
        "\n",
        "df = pd.DataFrame(LLM_DistilBERT_study_dataset.dataset[\"train\"])\n",
        "\n",
        "# --- Basic counts\n",
        "total = len(df)\n",
        "class_counts = df[\"sentiment\"].value_counts()\n",
        "print(f\"Total samples: {total}\")\n",
        "print(\"Class counts:\\n\", class_counts)\n",
        "\n",
        "# --- Compute word lengths\n",
        "df[\"word_count\"] = df[\"review\"].apply(lambda x: len(x.split()))\n",
        "\n",
        "# --- Compute token lengths (réels, même >512, sans erreur)\n",
        "df[\"token_count_real\"] = df[\"review\"].apply(\n",
        "    lambda x: len(LLM_DistilBERT_study_dataset.tokenizer.tokenize(x))\n",
        ")\n",
        "\n",
        "# --- Stats\n",
        "avg_words = df[\"word_count\"].mean()\n",
        "med_words = df[\"word_count\"].median()\n",
        "avg_tokens = df[\"token_count_real\"].mean()\n",
        "med_tokens = df[\"token_count_real\"].median()\n",
        "print(f\"\\nAverage words per review: {avg_words:.1f} (median {med_words})\")\n",
        "print(f\"Average tokens per review: {avg_tokens:.1f} (median {med_tokens})\")\n",
        "\n",
        "# --- Histogram of token lengths\n",
        "plt.figure(figsize=(8, 5))\n",
        "plt.hist(df[\"token_count_real\"], bins=30, color=\"steelblue\", alpha=0.7)\n",
        "plt.axvline(256, color=\"red\", linestyle=\"--\", label=\"Truncation limit (256)\")\n",
        "plt.axvline(512, color=\"green\", linestyle=\"--\", label=\"Model max length (512)\")\n",
        "plt.xlabel(\"Token count per review\")\n",
        "plt.ylabel(\"Number of reviews\")\n",
        "plt.title(\"Distribution of review lengths (tokens)\")\n",
        "plt.legend()\n",
        "plt.show()\n",
        "\n",
        "# --- Class balance\n",
        "plt.figure(figsize=(6, 4))\n",
        "class_counts.plot(kind=\"bar\", color=[\"salmon\", \"skyblue\"])\n",
        "plt.title(\"Class distribution\")\n",
        "plt.ylabel(\"Number of samples\")\n",
        "plt.xticks(rotation=0)\n",
        "plt.show()"
      ]
    },
    {
      "cell_type": "code",
      "execution_count": null,
      "id": "JnXKmO8Lu_gM",
      "metadata": {
        "id": "JnXKmO8Lu_gM"
      },
      "outputs": [],
      "source": [
        "# Nombre de critiques <= 256 tokens\n",
        "below_256 = (df[\"token_count_real\"] <= 256).sum()\n",
        "\n",
        "# Pourcentage\n",
        "pct_below_256 = below_256 / len(df) * 100\n",
        "\n",
        "print(f\"Nombre de critiques <= 256 tokens : {below_256}\")\n",
        "print(f\"Pourcentage : {pct_below_256:.2f}%\")"
      ]
    },
    {
      "cell_type": "markdown",
      "id": "ZmNG1G_zua6n",
      "metadata": {
        "id": "ZmNG1G_zua6n"
      },
      "source": [
        "## Analyse de la distribution des critiques\n",
        "\n",
        "* Le jeu de données est **équilibré** entre critiques positives et négatives (\\~25 000 chacune), comme le montre l'histogramme des classes. Cela élimine tout problème de déséquilibre lors de l'entraînement.\n",
        "\n",
        "## Analyse des longueurs en tokens et implications pour le fine-tuning\n",
        "\n",
        "* L'histogramme des longueurs en tokens révèle une **distribution asymétrique à droite** :\n",
        "\n",
        "  * La médiane est d'environ **231 tokens**, ce qui montre que la majorité des critiques sont relativement courtes.\n",
        "  * Environ **14,4 % des critiques dépassent 512 tokens**, ce qui est au-delà de la limite stricte de `DistilBERT` et `RoBERTa`.\n",
        "  * Près de **29 % des critiques se situent entre 257 et 512 tokens** — elles restent donc exploitables par les modèles, mais nécessitent de travailler à la longueur maximale.\n",
        "\n",
        "* Concernant les seuils de troncature :\n",
        "\n",
        "  * **≈ 57 %** des critiques ont ≤ 256 tokens et ne subissent donc **aucune perte d’information** si l’on tronque à 256.\n",
        "  * Les **≈ 43 %** restants sont affectés par une troncature à 256 : seule la partie initiale est conservée, mais celle-ci est généralement suffisante, car les indices de sentiment apparaissent souvent dans les **premières phrases**.\n",
        "\n",
        "* **Pourquoi tronquer à 256 est un choix courant et pertinent :**\n",
        "\n",
        "  * **Efficacité** : la réduction de longueur diminue fortement le coût en mémoire et en temps d’entraînement (une séquence deux fois plus longue coûte quasiment ×2).\n",
        "  * **Signal suffisant** : le sentiment est le plus souvent exprimé en ouverture de la critique.\n",
        "  * **Réduction de variance** : plus une séquence est longue, plus le modèle est exposé au **bruit** (détails secondaires, digressions). Tronquer peut aider à se concentrer sur les parties les plus discriminantes.\n",
        "  * **Meilleure généralisation** : en limitant la séquence, on réduit le risque de surapprentissage sur des détails anecdotiques.\n",
        "\n",
        "* Cependant, **≈ 14 % des critiques dépassent la limite absolue de 512 tokens**. Celles-ci devront être tronquées. Pour des tâches où le **contexte complet** est indispensable (analyse fine, cohérence globale, détection d'ironie tardive), il conviendrait d'envisager des architectures alternatives telles que **Longformer** ou **BigBird**, capables de traiter de plus longues séquences."
      ]
    },
    {
      "cell_type": "code",
      "execution_count": null,
      "id": "i44r_DcLv7TP",
      "metadata": {
        "id": "i44r_DcLv7TP"
      },
      "outputs": [],
      "source": [
        "lengths = []\n",
        "for text in tqdm(\n",
        "    LLM_DistilBERT_study_dataset.dataset[\"train\"][\"review\"]\n",
        "):  # 'dataset' is our raw dataset before mapping\n",
        "    tokens = LLM_DistilBERT_study_dataset.tokenizer.encode(\n",
        "        text, add_special_tokens=True\n",
        "    )\n",
        "    lengths.append(len(tokens))\n",
        "\n",
        "lengths = np.array(lengths)\n",
        "pct_over_256 = np.mean(lengths > 256) * 100\n",
        "pct_over_512 = np.mean(lengths > 512) * 100\n",
        "\n",
        "print(f\"Reviews >256 tokens: {pct_over_256:.2f}%\")\n",
        "print(f\"Reviews >512 tokens: {pct_over_512:.2f}%\")"
      ]
    },
    {
      "cell_type": "markdown",
      "id": "R_fTSs8oxqmg",
      "metadata": {
        "id": "R_fTSs8oxqmg"
      },
      "source": [
        "Le tableau ci-dessous synthétise l'analyse descriptive du jeu de données étudié.\n",
        "\n",
        "| Intervalle de longueur (tokens) | Nombre de critiques | Pourcentage |\n",
        "| ------------------------------- | ------------------- | ----------- |\n",
        "| **≤ 256**                       | 28 311              | 56,6 %      |\n",
        "| **257 – 512**                   | 14 476              | 29,0 %      |\n",
        "| **> 512**                       | 7 213               | 14,4 %      |\n",
        "| **Total**                       | 50 000              | 100 %       |\n",
        "\n",
        "* La **majorité relative** des critiques (≈57 %) est courte et tient en ≤256 tokens.\n",
        "* Presque un tiers (≈29 %) est plus long, mais reste compatible avec RoBERTa/DistilBERT (≤512).\n",
        "* Une **minorité significative (14,4 %)** dépasse 512 tokens → celles-ci nécessitent **forcément une troncature**."
      ]
    },
    {
      "cell_type": "code",
      "execution_count": 192,
      "id": "5ttTr4NtB8jl",
      "metadata": {
        "colab": {
          "base_uri": "https://localhost:8080/",
          "height": 550
        },
        "id": "5ttTr4NtB8jl",
        "outputId": "bf48ffa6-aac6-4487-c3b3-1637c8e0fcbe"
      },
      "outputs": [
        {
          "output_type": "stream",
          "name": "stdout",
          "text": [
            "Starting training workflow...\n"
          ]
        },
        {
          "output_type": "stream",
          "name": "stderr",
          "text": [
            "Some weights of RobertaForSequenceClassification were not initialized from the model checkpoint at roberta-base and are newly initialized: ['classifier.dense.bias', 'classifier.dense.weight', 'classifier.out_proj.bias', 'classifier.out_proj.weight']\n",
            "You should probably TRAIN this model on a down-stream task to be able to use it for predictions and inference.\n",
            "You're using a RobertaTokenizerFast tokenizer. Please note that with a fast tokenizer, using the `__call__` method is faster than using a method to encode the text followed by a call to the `pad` method to get a padded encoding.\n"
          ]
        },
        {
          "output_type": "stream",
          "name": "stdout",
          "text": [
            "\n",
            "Epoch 1/3\n"
          ]
        },
        {
          "output_type": "error",
          "ename": "OutOfMemoryError",
          "evalue": "CUDA out of memory. Tried to allocate 20.00 MiB. GPU 0 has a total capacity of 14.74 GiB of which 14.12 MiB is free. Process 2881 has 14.72 GiB memory in use. Of the allocated memory 13.95 GiB is allocated by PyTorch, and 656.83 MiB is reserved by PyTorch but unallocated. If reserved but unallocated memory is large try setting PYTORCH_CUDA_ALLOC_CONF=expandable_segments:True to avoid fragmentation.  See documentation for Memory Management  (https://pytorch.org/docs/stable/notes/cuda.html#environment-variables)",
          "traceback": [
            "\u001b[0;31m---------------------------------------------------------------------------\u001b[0m",
            "\u001b[0;31mOutOfMemoryError\u001b[0m                          Traceback (most recent call last)",
            "\u001b[0;32m/tmp/ipython-input-2382489597.py\u001b[0m in \u001b[0;36m<cell line: 0>\u001b[0;34m()\u001b[0m\n\u001b[1;32m      4\u001b[0m     \u001b[0mtokenizer_cls\u001b[0m\u001b[0;34m=\u001b[0m\u001b[0mAutoTokenizer\u001b[0m\u001b[0;34m,\u001b[0m\u001b[0;34m\u001b[0m\u001b[0;34m\u001b[0m\u001b[0m\n\u001b[1;32m      5\u001b[0m )\n\u001b[0;32m----> 6\u001b[0;31m LLM_RoBERTa_512.workflow(\n\u001b[0m\u001b[1;32m      7\u001b[0m     \u001b[0mmode\u001b[0m\u001b[0;34m=\u001b[0m\u001b[0;34m\"train\"\u001b[0m\u001b[0;34m,\u001b[0m\u001b[0;34m\u001b[0m\u001b[0;34m\u001b[0m\u001b[0m\n\u001b[1;32m      8\u001b[0m     \u001b[0msplit_dataset_kwargs\u001b[0m\u001b[0;34m=\u001b[0m\u001b[0;34m{\u001b[0m\u001b[0;34m\"max_length\"\u001b[0m\u001b[0;34m:\u001b[0m \u001b[0;36m512\u001b[0m\u001b[0;34m}\u001b[0m\u001b[0;34m,\u001b[0m\u001b[0;34m\u001b[0m\u001b[0;34m\u001b[0m\u001b[0m\n",
            "\u001b[0;32m/tmp/ipython-input-4218818832.py\u001b[0m in \u001b[0;36mworkflow\u001b[0;34m(self, mode, set_dataset_kwargs, set_tokenizer_kwargs, split_dataset_kwargs, set_data_collator_kwargs, set_loaders_kwargs, set_model_kwargs, set_optimizer_kwargs, set_scheduler_kwargs, set_optimizer_and_scheduler_kwargs, train_and_validate_kwargs, evaluate_kwargs, predict_sentiment_kwargs, predict_batch_kwargs)\u001b[0m\n\u001b[1;32m    631\u001b[0m \u001b[0;34m\u001b[0m\u001b[0m\n\u001b[1;32m    632\u001b[0m             \u001b[0;31m# 5. Entraînement\u001b[0m\u001b[0;34m\u001b[0m\u001b[0;34m\u001b[0m\u001b[0m\n\u001b[0;32m--> 633\u001b[0;31m             \u001b[0mself\u001b[0m\u001b[0;34m.\u001b[0m\u001b[0mtrain_and_validate\u001b[0m\u001b[0;34m(\u001b[0m\u001b[0;34m**\u001b[0m\u001b[0mtrain_and_validate_kwargs\u001b[0m\u001b[0;34m)\u001b[0m\u001b[0;34m\u001b[0m\u001b[0;34m\u001b[0m\u001b[0m\n\u001b[0m\u001b[1;32m    634\u001b[0m \u001b[0;34m\u001b[0m\u001b[0m\n\u001b[1;32m    635\u001b[0m         \u001b[0;32melif\u001b[0m \u001b[0mmode\u001b[0m \u001b[0;34m==\u001b[0m \u001b[0;34m\"evaluation\"\u001b[0m\u001b[0;34m:\u001b[0m\u001b[0;34m\u001b[0m\u001b[0;34m\u001b[0m\u001b[0m\n",
            "\u001b[0;32m/tmp/ipython-input-4218818832.py\u001b[0m in \u001b[0;36mtrain_and_validate\u001b[0;34m(self, epochs, max_grad_norm, save_dir)\u001b[0m\n\u001b[1;32m    364\u001b[0m \u001b[0;34m\u001b[0m\u001b[0m\n\u001b[1;32m    365\u001b[0m                 \u001b[0;31m# optimizer + scheduler step\u001b[0m\u001b[0;34m\u001b[0m\u001b[0;34m\u001b[0m\u001b[0m\n\u001b[0;32m--> 366\u001b[0;31m                 \u001b[0mself\u001b[0m\u001b[0;34m.\u001b[0m\u001b[0moptimizer\u001b[0m\u001b[0;34m.\u001b[0m\u001b[0mstep\u001b[0m\u001b[0;34m(\u001b[0m\u001b[0;34m)\u001b[0m\u001b[0;34m\u001b[0m\u001b[0;34m\u001b[0m\u001b[0m\n\u001b[0m\u001b[1;32m    367\u001b[0m                 \u001b[0mself\u001b[0m\u001b[0;34m.\u001b[0m\u001b[0mscheduler\u001b[0m\u001b[0;34m.\u001b[0m\u001b[0mstep\u001b[0m\u001b[0;34m(\u001b[0m\u001b[0;34m)\u001b[0m\u001b[0;34m\u001b[0m\u001b[0;34m\u001b[0m\u001b[0m\n\u001b[1;32m    368\u001b[0m \u001b[0;34m\u001b[0m\u001b[0m\n",
            "\u001b[0;32m/usr/local/lib/python3.12/dist-packages/torch/optim/lr_scheduler.py\u001b[0m in \u001b[0;36mwrapper\u001b[0;34m(*args, **kwargs)\u001b[0m\n\u001b[1;32m    131\u001b[0m                     \u001b[0mopt\u001b[0m \u001b[0;34m=\u001b[0m \u001b[0mopt_ref\u001b[0m\u001b[0;34m(\u001b[0m\u001b[0;34m)\u001b[0m\u001b[0;34m\u001b[0m\u001b[0;34m\u001b[0m\u001b[0m\n\u001b[1;32m    132\u001b[0m                     \u001b[0mopt\u001b[0m\u001b[0;34m.\u001b[0m\u001b[0m_opt_called\u001b[0m \u001b[0;34m=\u001b[0m \u001b[0;32mTrue\u001b[0m  \u001b[0;31m# type: ignore[union-attr]\u001b[0m\u001b[0;34m\u001b[0m\u001b[0;34m\u001b[0m\u001b[0m\n\u001b[0;32m--> 133\u001b[0;31m                     \u001b[0;32mreturn\u001b[0m \u001b[0mfunc\u001b[0m\u001b[0;34m.\u001b[0m\u001b[0m__get__\u001b[0m\u001b[0;34m(\u001b[0m\u001b[0mopt\u001b[0m\u001b[0;34m,\u001b[0m \u001b[0mopt\u001b[0m\u001b[0;34m.\u001b[0m\u001b[0m__class__\u001b[0m\u001b[0;34m)\u001b[0m\u001b[0;34m(\u001b[0m\u001b[0;34m*\u001b[0m\u001b[0margs\u001b[0m\u001b[0;34m,\u001b[0m \u001b[0;34m**\u001b[0m\u001b[0mkwargs\u001b[0m\u001b[0;34m)\u001b[0m\u001b[0;34m\u001b[0m\u001b[0;34m\u001b[0m\u001b[0m\n\u001b[0m\u001b[1;32m    134\u001b[0m \u001b[0;34m\u001b[0m\u001b[0m\n\u001b[1;32m    135\u001b[0m                 \u001b[0mwrapper\u001b[0m\u001b[0;34m.\u001b[0m\u001b[0m_wrapped_by_lr_sched\u001b[0m \u001b[0;34m=\u001b[0m \u001b[0;32mTrue\u001b[0m  \u001b[0;31m# type: ignore[attr-defined]\u001b[0m\u001b[0;34m\u001b[0m\u001b[0;34m\u001b[0m\u001b[0m\n",
            "\u001b[0;32m/usr/local/lib/python3.12/dist-packages/torch/optim/optimizer.py\u001b[0m in \u001b[0;36mwrapper\u001b[0;34m(*args, **kwargs)\u001b[0m\n\u001b[1;32m    514\u001b[0m                             )\n\u001b[1;32m    515\u001b[0m \u001b[0;34m\u001b[0m\u001b[0m\n\u001b[0;32m--> 516\u001b[0;31m                 \u001b[0mout\u001b[0m \u001b[0;34m=\u001b[0m \u001b[0mfunc\u001b[0m\u001b[0;34m(\u001b[0m\u001b[0;34m*\u001b[0m\u001b[0margs\u001b[0m\u001b[0;34m,\u001b[0m \u001b[0;34m**\u001b[0m\u001b[0mkwargs\u001b[0m\u001b[0;34m)\u001b[0m\u001b[0;34m\u001b[0m\u001b[0;34m\u001b[0m\u001b[0m\n\u001b[0m\u001b[1;32m    517\u001b[0m                 \u001b[0mself\u001b[0m\u001b[0;34m.\u001b[0m\u001b[0m_optimizer_step_code\u001b[0m\u001b[0;34m(\u001b[0m\u001b[0;34m)\u001b[0m\u001b[0;34m\u001b[0m\u001b[0;34m\u001b[0m\u001b[0m\n\u001b[1;32m    518\u001b[0m \u001b[0;34m\u001b[0m\u001b[0m\n",
            "\u001b[0;32m/usr/local/lib/python3.12/dist-packages/torch/optim/optimizer.py\u001b[0m in \u001b[0;36m_use_grad\u001b[0;34m(*args, **kwargs)\u001b[0m\n\u001b[1;32m     79\u001b[0m             \u001b[0mtorch\u001b[0m\u001b[0;34m.\u001b[0m\u001b[0mset_grad_enabled\u001b[0m\u001b[0;34m(\u001b[0m\u001b[0mself\u001b[0m\u001b[0;34m.\u001b[0m\u001b[0mdefaults\u001b[0m\u001b[0;34m[\u001b[0m\u001b[0;34m\"differentiable\"\u001b[0m\u001b[0;34m]\u001b[0m\u001b[0;34m)\u001b[0m\u001b[0;34m\u001b[0m\u001b[0;34m\u001b[0m\u001b[0m\n\u001b[1;32m     80\u001b[0m             \u001b[0mtorch\u001b[0m\u001b[0;34m.\u001b[0m\u001b[0m_dynamo\u001b[0m\u001b[0;34m.\u001b[0m\u001b[0mgraph_break\u001b[0m\u001b[0;34m(\u001b[0m\u001b[0;34m)\u001b[0m\u001b[0;34m\u001b[0m\u001b[0;34m\u001b[0m\u001b[0m\n\u001b[0;32m---> 81\u001b[0;31m             \u001b[0mret\u001b[0m \u001b[0;34m=\u001b[0m \u001b[0mfunc\u001b[0m\u001b[0;34m(\u001b[0m\u001b[0;34m*\u001b[0m\u001b[0margs\u001b[0m\u001b[0;34m,\u001b[0m \u001b[0;34m**\u001b[0m\u001b[0mkwargs\u001b[0m\u001b[0;34m)\u001b[0m\u001b[0;34m\u001b[0m\u001b[0;34m\u001b[0m\u001b[0m\n\u001b[0m\u001b[1;32m     82\u001b[0m         \u001b[0;32mfinally\u001b[0m\u001b[0;34m:\u001b[0m\u001b[0;34m\u001b[0m\u001b[0;34m\u001b[0m\u001b[0m\n\u001b[1;32m     83\u001b[0m             \u001b[0mtorch\u001b[0m\u001b[0;34m.\u001b[0m\u001b[0m_dynamo\u001b[0m\u001b[0;34m.\u001b[0m\u001b[0mgraph_break\u001b[0m\u001b[0;34m(\u001b[0m\u001b[0;34m)\u001b[0m\u001b[0;34m\u001b[0m\u001b[0;34m\u001b[0m\u001b[0m\n",
            "\u001b[0;32m/usr/local/lib/python3.12/dist-packages/torch/optim/adam.py\u001b[0m in \u001b[0;36mstep\u001b[0;34m(self, closure)\u001b[0m\n\u001b[1;32m    235\u001b[0m             \u001b[0mbeta1\u001b[0m\u001b[0;34m,\u001b[0m \u001b[0mbeta2\u001b[0m \u001b[0;34m=\u001b[0m \u001b[0mgroup\u001b[0m\u001b[0;34m[\u001b[0m\u001b[0;34m\"betas\"\u001b[0m\u001b[0;34m]\u001b[0m\u001b[0;34m\u001b[0m\u001b[0;34m\u001b[0m\u001b[0m\n\u001b[1;32m    236\u001b[0m \u001b[0;34m\u001b[0m\u001b[0m\n\u001b[0;32m--> 237\u001b[0;31m             has_complex = self._init_group(\n\u001b[0m\u001b[1;32m    238\u001b[0m                 \u001b[0mgroup\u001b[0m\u001b[0;34m,\u001b[0m\u001b[0;34m\u001b[0m\u001b[0;34m\u001b[0m\u001b[0m\n\u001b[1;32m    239\u001b[0m                 \u001b[0mparams_with_grad\u001b[0m\u001b[0;34m,\u001b[0m\u001b[0;34m\u001b[0m\u001b[0;34m\u001b[0m\u001b[0m\n",
            "\u001b[0;32m/usr/local/lib/python3.12/dist-packages/torch/optim/adam.py\u001b[0m in \u001b[0;36m_init_group\u001b[0;34m(self, group, params_with_grad, grads, exp_avgs, exp_avg_sqs, max_exp_avg_sqs, state_steps)\u001b[0m\n\u001b[1;32m    179\u001b[0m                     )\n\u001b[1;32m    180\u001b[0m                     \u001b[0;31m# Exponential moving average of squared gradient values\u001b[0m\u001b[0;34m\u001b[0m\u001b[0;34m\u001b[0m\u001b[0m\n\u001b[0;32m--> 181\u001b[0;31m                     state[\"exp_avg_sq\"] = torch.zeros_like(\n\u001b[0m\u001b[1;32m    182\u001b[0m                         \u001b[0mp\u001b[0m\u001b[0;34m,\u001b[0m \u001b[0mmemory_format\u001b[0m\u001b[0;34m=\u001b[0m\u001b[0mtorch\u001b[0m\u001b[0;34m.\u001b[0m\u001b[0mpreserve_format\u001b[0m\u001b[0;34m\u001b[0m\u001b[0;34m\u001b[0m\u001b[0m\n\u001b[1;32m    183\u001b[0m                     )\n",
            "\u001b[0;31mOutOfMemoryError\u001b[0m: CUDA out of memory. Tried to allocate 20.00 MiB. GPU 0 has a total capacity of 14.74 GiB of which 14.12 MiB is free. Process 2881 has 14.72 GiB memory in use. Of the allocated memory 13.95 GiB is allocated by PyTorch, and 656.83 MiB is reserved by PyTorch but unallocated. If reserved but unallocated memory is large try setting PYTORCH_CUDA_ALLOC_CONF=expandable_segments:True to avoid fragmentation.  See documentation for Memory Management  (https://pytorch.org/docs/stable/notes/cuda.html#environment-variables)"
          ]
        }
      ],
      "source": [
        "LLM_RoBERTa_512 = LLMFineTuner(\n",
        "    model_cls=AutoModelForSequenceClassification,\n",
        "    pretrained_model_name_or_path=\"roberta-base\",\n",
        "    tokenizer_cls=AutoTokenizer,\n",
        ")\n",
        "LLM_RoBERTa_512.workflow(\n",
        "    mode=\"train\",\n",
        "    split_dataset_kwargs={\"max_length\": 512},\n",
        "    train_and_validate_kwargs={\n",
        "        \"save_dir\": \"./RoBERTa_512-best\"\n",
        "    }\n",
        ")"
      ]
    },
    {
      "cell_type": "code",
      "execution_count": null,
      "id": "gScEWuJlRUP0",
      "metadata": {
        "id": "gScEWuJlRUP0"
      },
      "outputs": [],
      "source": [
        "# --- RoBERTa 256 ---\n",
        "probs_256, labels_256 = LLM_RoBERTa_256.collect_probs_labels()\n",
        "t_256, f1_256 = LLM_RoBERTa_256.tune_threshold_macro_f1(probs_256, labels_256)\n",
        "acc_256, macro_f1_256, cm_256, percls_256 = LLM_RoBERTa_256.eval_at_threshold(\n",
        "    probs_256, labels_256, t_256\n",
        ")\n",
        "# --- RoBERTa 512 ---\n",
        "probs_512, labels_512 = LLM_RoBERTa_512.collect_probs_labels()\n",
        "t_512, f1_512 = LLM_RoBERTa_512.tune_threshold_macro_f1(probs_512, labels_512)\n",
        "acc_512, macro_f1_512, cm_512, percls_512 = LLM_RoBERTa_512.eval_at_threshold(\n",
        "    probs_512, labels_512, t_512\n",
        ")\n",
        "\n",
        "# --- Résumé comparatif ---\n",
        "print(\"\\n=== Comparison (threshold-tuned on their own validation sets) ===\")\n",
        "print(\n",
        "    f\"RoBERTa-256  | thr={t_256:.2f} | Acc={acc_256:.4f} | MacroF1={macro_f1_256:.4f}\"\n",
        ")\n",
        "print(\"Confusion matrix (256):\\n\", cm_256)\n",
        "print(\"Per-class (neg/pos) Precision, Recall, F1:\\n\", percls_256)\n",
        "\n",
        "print(\n",
        "    f\"\\nRoBERTa-512  | thr={t_512:.2f} | Acc={acc_512:.4f} | MacroF1={macro_f1_512:.4f}\"\n",
        ")\n",
        "print(\"Confusion matrix (512):\\n\", cm_512)\n",
        "print(\"Per-class (neg/pos) Precision, Recall, F1:\\n\", percls_512)"
      ]
    },
    {
      "cell_type": "markdown",
      "id": "fbDsTJP-dyaA",
      "metadata": {
        "id": "fbDsTJP-dyaA"
      },
      "source": [
        "## Utilisation d'un autre dataset"
      ]
    },
    {
      "cell_type": "code",
      "execution_count": null,
      "id": "kZwSHahUfc7U",
      "metadata": {
        "id": "kZwSHahUfc7U"
      },
      "outputs": [],
      "source": [
        "rt = load_dataset(\"scikit-learn/imdb\")\n",
        "print(rt)\n",
        "print(rt[\"train\"].column_names)"
      ]
    },
    {
      "cell_type": "code",
      "execution_count": null,
      "id": "1d5GvCcRfQ5F",
      "metadata": {
        "id": "1d5GvCcRfQ5F"
      },
      "outputs": [],
      "source": [
        "rt = load_dataset(\"rotten_tomatoes\")\n",
        "print(rt)\n",
        "print(rt[\"train\"].column_names)"
      ]
    },
    {
      "cell_type": "code",
      "execution_count": null,
      "id": "4hmQF6dricsy",
      "metadata": {
        "id": "4hmQF6dricsy"
      },
      "outputs": [],
      "source": [
        "rt[\"train\"][0:3]"
      ]
    },
    {
      "cell_type": "code",
      "execution_count": null,
      "id": "C8JxcCx-eBR-",
      "metadata": {
        "id": "C8JxcCx-eBR-"
      },
      "outputs": [],
      "source": [
        "LLM_DistilBERT_rotten_tomatoes = LLMFineTuner(dataset=\"rotten_tomatoes\")\n",
        "LLM_DistilBERT_rotten_tomatoes.workflow(\n",
        "    mode=\"train\",\n",
        "    train_and_validate_kwargs={\n",
        "        \"save_dir\": \"./distilbert-best-rotten-tomatoes\"\n",
        "    },\n",
        ")"
      ]
    }
  ],
  "metadata": {
    "accelerator": "GPU",
    "colab": {
      "gpuType": "T4",
      "provenance": [],
      "toc_visible": true
    },
    "kernelspec": {
      "display_name": "Python 3",
      "name": "python3"
    },
    "language_info": {
      "codemirror_mode": {
        "name": "ipython",
        "version": 3
      },
      "file_extension": ".py",
      "mimetype": "text/x-python",
      "name": "python",
      "nbconvert_exporter": "python",
      "pygments_lexer": "ipython3",
      "version": "3.10.12"
    },
    "widgets": {
      "application/vnd.jupyter.widget-state+json": {
        "7a33ecb3dc5f46d4a6fe969d58c8dc7f": {
          "model_module": "@jupyter-widgets/controls",
          "model_name": "HBoxModel",
          "model_module_version": "1.5.0",
          "state": {
            "_dom_classes": [],
            "_model_module": "@jupyter-widgets/controls",
            "_model_module_version": "1.5.0",
            "_model_name": "HBoxModel",
            "_view_count": null,
            "_view_module": "@jupyter-widgets/controls",
            "_view_module_version": "1.5.0",
            "_view_name": "HBoxView",
            "box_style": "",
            "children": [
              "IPY_MODEL_b587c1c9458d4dcdb674028fba138cab",
              "IPY_MODEL_08a237ad741147468b77336b3a9ed5b5",
              "IPY_MODEL_9b22d254f5624e3b86ed765a16f1362b"
            ],
            "layout": "IPY_MODEL_e75d33c617cc499e9c57fb9b46e887c5"
          }
        },
        "b587c1c9458d4dcdb674028fba138cab": {
          "model_module": "@jupyter-widgets/controls",
          "model_name": "HTMLModel",
          "model_module_version": "1.5.0",
          "state": {
            "_dom_classes": [],
            "_model_module": "@jupyter-widgets/controls",
            "_model_module_version": "1.5.0",
            "_model_name": "HTMLModel",
            "_view_count": null,
            "_view_module": "@jupyter-widgets/controls",
            "_view_module_version": "1.5.0",
            "_view_name": "HTMLView",
            "description": "",
            "description_tooltip": null,
            "layout": "IPY_MODEL_b8400162207a49e69edcc815bfa4fb79",
            "placeholder": "​",
            "style": "IPY_MODEL_60fbc2aeff554badaf0f81b7a53aa0c1",
            "value": "Map: 100%"
          }
        },
        "08a237ad741147468b77336b3a9ed5b5": {
          "model_module": "@jupyter-widgets/controls",
          "model_name": "FloatProgressModel",
          "model_module_version": "1.5.0",
          "state": {
            "_dom_classes": [],
            "_model_module": "@jupyter-widgets/controls",
            "_model_module_version": "1.5.0",
            "_model_name": "FloatProgressModel",
            "_view_count": null,
            "_view_module": "@jupyter-widgets/controls",
            "_view_module_version": "1.5.0",
            "_view_name": "ProgressView",
            "bar_style": "success",
            "description": "",
            "description_tooltip": null,
            "layout": "IPY_MODEL_6eed1f3f6a7e435284118b881ff2d818",
            "max": 50000,
            "min": 0,
            "orientation": "horizontal",
            "style": "IPY_MODEL_c0bb1bd8ea2646f4a08722474c8fa715",
            "value": 50000
          }
        },
        "9b22d254f5624e3b86ed765a16f1362b": {
          "model_module": "@jupyter-widgets/controls",
          "model_name": "HTMLModel",
          "model_module_version": "1.5.0",
          "state": {
            "_dom_classes": [],
            "_model_module": "@jupyter-widgets/controls",
            "_model_module_version": "1.5.0",
            "_model_name": "HTMLModel",
            "_view_count": null,
            "_view_module": "@jupyter-widgets/controls",
            "_view_module_version": "1.5.0",
            "_view_name": "HTMLView",
            "description": "",
            "description_tooltip": null,
            "layout": "IPY_MODEL_8bfcc997d2544a2699d19ea58e96ef0f",
            "placeholder": "​",
            "style": "IPY_MODEL_8ec32268dc8d426886bb3e1432d0145d",
            "value": " 50000/50000 [00:05&lt;00:00, 10019.12 examples/s]"
          }
        },
        "e75d33c617cc499e9c57fb9b46e887c5": {
          "model_module": "@jupyter-widgets/base",
          "model_name": "LayoutModel",
          "model_module_version": "1.2.0",
          "state": {
            "_model_module": "@jupyter-widgets/base",
            "_model_module_version": "1.2.0",
            "_model_name": "LayoutModel",
            "_view_count": null,
            "_view_module": "@jupyter-widgets/base",
            "_view_module_version": "1.2.0",
            "_view_name": "LayoutView",
            "align_content": null,
            "align_items": null,
            "align_self": null,
            "border": null,
            "bottom": null,
            "display": null,
            "flex": null,
            "flex_flow": null,
            "grid_area": null,
            "grid_auto_columns": null,
            "grid_auto_flow": null,
            "grid_auto_rows": null,
            "grid_column": null,
            "grid_gap": null,
            "grid_row": null,
            "grid_template_areas": null,
            "grid_template_columns": null,
            "grid_template_rows": null,
            "height": null,
            "justify_content": null,
            "justify_items": null,
            "left": null,
            "margin": null,
            "max_height": null,
            "max_width": null,
            "min_height": null,
            "min_width": null,
            "object_fit": null,
            "object_position": null,
            "order": null,
            "overflow": null,
            "overflow_x": null,
            "overflow_y": null,
            "padding": null,
            "right": null,
            "top": null,
            "visibility": null,
            "width": null
          }
        },
        "b8400162207a49e69edcc815bfa4fb79": {
          "model_module": "@jupyter-widgets/base",
          "model_name": "LayoutModel",
          "model_module_version": "1.2.0",
          "state": {
            "_model_module": "@jupyter-widgets/base",
            "_model_module_version": "1.2.0",
            "_model_name": "LayoutModel",
            "_view_count": null,
            "_view_module": "@jupyter-widgets/base",
            "_view_module_version": "1.2.0",
            "_view_name": "LayoutView",
            "align_content": null,
            "align_items": null,
            "align_self": null,
            "border": null,
            "bottom": null,
            "display": null,
            "flex": null,
            "flex_flow": null,
            "grid_area": null,
            "grid_auto_columns": null,
            "grid_auto_flow": null,
            "grid_auto_rows": null,
            "grid_column": null,
            "grid_gap": null,
            "grid_row": null,
            "grid_template_areas": null,
            "grid_template_columns": null,
            "grid_template_rows": null,
            "height": null,
            "justify_content": null,
            "justify_items": null,
            "left": null,
            "margin": null,
            "max_height": null,
            "max_width": null,
            "min_height": null,
            "min_width": null,
            "object_fit": null,
            "object_position": null,
            "order": null,
            "overflow": null,
            "overflow_x": null,
            "overflow_y": null,
            "padding": null,
            "right": null,
            "top": null,
            "visibility": null,
            "width": null
          }
        },
        "60fbc2aeff554badaf0f81b7a53aa0c1": {
          "model_module": "@jupyter-widgets/controls",
          "model_name": "DescriptionStyleModel",
          "model_module_version": "1.5.0",
          "state": {
            "_model_module": "@jupyter-widgets/controls",
            "_model_module_version": "1.5.0",
            "_model_name": "DescriptionStyleModel",
            "_view_count": null,
            "_view_module": "@jupyter-widgets/base",
            "_view_module_version": "1.2.0",
            "_view_name": "StyleView",
            "description_width": ""
          }
        },
        "6eed1f3f6a7e435284118b881ff2d818": {
          "model_module": "@jupyter-widgets/base",
          "model_name": "LayoutModel",
          "model_module_version": "1.2.0",
          "state": {
            "_model_module": "@jupyter-widgets/base",
            "_model_module_version": "1.2.0",
            "_model_name": "LayoutModel",
            "_view_count": null,
            "_view_module": "@jupyter-widgets/base",
            "_view_module_version": "1.2.0",
            "_view_name": "LayoutView",
            "align_content": null,
            "align_items": null,
            "align_self": null,
            "border": null,
            "bottom": null,
            "display": null,
            "flex": null,
            "flex_flow": null,
            "grid_area": null,
            "grid_auto_columns": null,
            "grid_auto_flow": null,
            "grid_auto_rows": null,
            "grid_column": null,
            "grid_gap": null,
            "grid_row": null,
            "grid_template_areas": null,
            "grid_template_columns": null,
            "grid_template_rows": null,
            "height": null,
            "justify_content": null,
            "justify_items": null,
            "left": null,
            "margin": null,
            "max_height": null,
            "max_width": null,
            "min_height": null,
            "min_width": null,
            "object_fit": null,
            "object_position": null,
            "order": null,
            "overflow": null,
            "overflow_x": null,
            "overflow_y": null,
            "padding": null,
            "right": null,
            "top": null,
            "visibility": null,
            "width": null
          }
        },
        "c0bb1bd8ea2646f4a08722474c8fa715": {
          "model_module": "@jupyter-widgets/controls",
          "model_name": "ProgressStyleModel",
          "model_module_version": "1.5.0",
          "state": {
            "_model_module": "@jupyter-widgets/controls",
            "_model_module_version": "1.5.0",
            "_model_name": "ProgressStyleModel",
            "_view_count": null,
            "_view_module": "@jupyter-widgets/base",
            "_view_module_version": "1.2.0",
            "_view_name": "StyleView",
            "bar_color": null,
            "description_width": ""
          }
        },
        "8bfcc997d2544a2699d19ea58e96ef0f": {
          "model_module": "@jupyter-widgets/base",
          "model_name": "LayoutModel",
          "model_module_version": "1.2.0",
          "state": {
            "_model_module": "@jupyter-widgets/base",
            "_model_module_version": "1.2.0",
            "_model_name": "LayoutModel",
            "_view_count": null,
            "_view_module": "@jupyter-widgets/base",
            "_view_module_version": "1.2.0",
            "_view_name": "LayoutView",
            "align_content": null,
            "align_items": null,
            "align_self": null,
            "border": null,
            "bottom": null,
            "display": null,
            "flex": null,
            "flex_flow": null,
            "grid_area": null,
            "grid_auto_columns": null,
            "grid_auto_flow": null,
            "grid_auto_rows": null,
            "grid_column": null,
            "grid_gap": null,
            "grid_row": null,
            "grid_template_areas": null,
            "grid_template_columns": null,
            "grid_template_rows": null,
            "height": null,
            "justify_content": null,
            "justify_items": null,
            "left": null,
            "margin": null,
            "max_height": null,
            "max_width": null,
            "min_height": null,
            "min_width": null,
            "object_fit": null,
            "object_position": null,
            "order": null,
            "overflow": null,
            "overflow_x": null,
            "overflow_y": null,
            "padding": null,
            "right": null,
            "top": null,
            "visibility": null,
            "width": null
          }
        },
        "8ec32268dc8d426886bb3e1432d0145d": {
          "model_module": "@jupyter-widgets/controls",
          "model_name": "DescriptionStyleModel",
          "model_module_version": "1.5.0",
          "state": {
            "_model_module": "@jupyter-widgets/controls",
            "_model_module_version": "1.5.0",
            "_model_name": "DescriptionStyleModel",
            "_view_count": null,
            "_view_module": "@jupyter-widgets/base",
            "_view_module_version": "1.2.0",
            "_view_name": "StyleView",
            "description_width": ""
          }
        },
        "4d55fee810f24fd2aece579f5424e2b1": {
          "model_module": "@jupyter-widgets/controls",
          "model_name": "HBoxModel",
          "model_module_version": "1.5.0",
          "state": {
            "_dom_classes": [],
            "_model_module": "@jupyter-widgets/controls",
            "_model_module_version": "1.5.0",
            "_model_name": "HBoxModel",
            "_view_count": null,
            "_view_module": "@jupyter-widgets/controls",
            "_view_module_version": "1.5.0",
            "_view_name": "HBoxView",
            "box_style": "",
            "children": [
              "IPY_MODEL_ed9a534d36054a119994fb9a92ce8ab7",
              "IPY_MODEL_138f6702321d4f38bb5997d0dd864bf7",
              "IPY_MODEL_5fdfd09885594bfb9a88ff15f64f1554"
            ],
            "layout": "IPY_MODEL_6c690e17832847fb9a4ec6af345ef10c"
          }
        },
        "ed9a534d36054a119994fb9a92ce8ab7": {
          "model_module": "@jupyter-widgets/controls",
          "model_name": "HTMLModel",
          "model_module_version": "1.5.0",
          "state": {
            "_dom_classes": [],
            "_model_module": "@jupyter-widgets/controls",
            "_model_module_version": "1.5.0",
            "_model_name": "HTMLModel",
            "_view_count": null,
            "_view_module": "@jupyter-widgets/controls",
            "_view_module_version": "1.5.0",
            "_view_name": "HTMLView",
            "description": "",
            "description_tooltip": null,
            "layout": "IPY_MODEL_d34c4879038a4eb8a5c8731518c7df60",
            "placeholder": "​",
            "style": "IPY_MODEL_84ba7409491449bab2df403ad381fa33",
            "value": "Casting the dataset: 100%"
          }
        },
        "138f6702321d4f38bb5997d0dd864bf7": {
          "model_module": "@jupyter-widgets/controls",
          "model_name": "FloatProgressModel",
          "model_module_version": "1.5.0",
          "state": {
            "_dom_classes": [],
            "_model_module": "@jupyter-widgets/controls",
            "_model_module_version": "1.5.0",
            "_model_name": "FloatProgressModel",
            "_view_count": null,
            "_view_module": "@jupyter-widgets/controls",
            "_view_module_version": "1.5.0",
            "_view_name": "ProgressView",
            "bar_style": "success",
            "description": "",
            "description_tooltip": null,
            "layout": "IPY_MODEL_d1c83be04cf744b0bb1bd4302d2e9300",
            "max": 50000,
            "min": 0,
            "orientation": "horizontal",
            "style": "IPY_MODEL_f8f254283b52454aa69f42aa4cf511df",
            "value": 50000
          }
        },
        "5fdfd09885594bfb9a88ff15f64f1554": {
          "model_module": "@jupyter-widgets/controls",
          "model_name": "HTMLModel",
          "model_module_version": "1.5.0",
          "state": {
            "_dom_classes": [],
            "_model_module": "@jupyter-widgets/controls",
            "_model_module_version": "1.5.0",
            "_model_name": "HTMLModel",
            "_view_count": null,
            "_view_module": "@jupyter-widgets/controls",
            "_view_module_version": "1.5.0",
            "_view_name": "HTMLView",
            "description": "",
            "description_tooltip": null,
            "layout": "IPY_MODEL_a9917b6930754165bc6df75384b75c35",
            "placeholder": "​",
            "style": "IPY_MODEL_2c8f5350d15f4b3c9bee6aee949ec9d3",
            "value": " 50000/50000 [00:00&lt;00:00, 269274.64 examples/s]"
          }
        },
        "6c690e17832847fb9a4ec6af345ef10c": {
          "model_module": "@jupyter-widgets/base",
          "model_name": "LayoutModel",
          "model_module_version": "1.2.0",
          "state": {
            "_model_module": "@jupyter-widgets/base",
            "_model_module_version": "1.2.0",
            "_model_name": "LayoutModel",
            "_view_count": null,
            "_view_module": "@jupyter-widgets/base",
            "_view_module_version": "1.2.0",
            "_view_name": "LayoutView",
            "align_content": null,
            "align_items": null,
            "align_self": null,
            "border": null,
            "bottom": null,
            "display": null,
            "flex": null,
            "flex_flow": null,
            "grid_area": null,
            "grid_auto_columns": null,
            "grid_auto_flow": null,
            "grid_auto_rows": null,
            "grid_column": null,
            "grid_gap": null,
            "grid_row": null,
            "grid_template_areas": null,
            "grid_template_columns": null,
            "grid_template_rows": null,
            "height": null,
            "justify_content": null,
            "justify_items": null,
            "left": null,
            "margin": null,
            "max_height": null,
            "max_width": null,
            "min_height": null,
            "min_width": null,
            "object_fit": null,
            "object_position": null,
            "order": null,
            "overflow": null,
            "overflow_x": null,
            "overflow_y": null,
            "padding": null,
            "right": null,
            "top": null,
            "visibility": null,
            "width": null
          }
        },
        "d34c4879038a4eb8a5c8731518c7df60": {
          "model_module": "@jupyter-widgets/base",
          "model_name": "LayoutModel",
          "model_module_version": "1.2.0",
          "state": {
            "_model_module": "@jupyter-widgets/base",
            "_model_module_version": "1.2.0",
            "_model_name": "LayoutModel",
            "_view_count": null,
            "_view_module": "@jupyter-widgets/base",
            "_view_module_version": "1.2.0",
            "_view_name": "LayoutView",
            "align_content": null,
            "align_items": null,
            "align_self": null,
            "border": null,
            "bottom": null,
            "display": null,
            "flex": null,
            "flex_flow": null,
            "grid_area": null,
            "grid_auto_columns": null,
            "grid_auto_flow": null,
            "grid_auto_rows": null,
            "grid_column": null,
            "grid_gap": null,
            "grid_row": null,
            "grid_template_areas": null,
            "grid_template_columns": null,
            "grid_template_rows": null,
            "height": null,
            "justify_content": null,
            "justify_items": null,
            "left": null,
            "margin": null,
            "max_height": null,
            "max_width": null,
            "min_height": null,
            "min_width": null,
            "object_fit": null,
            "object_position": null,
            "order": null,
            "overflow": null,
            "overflow_x": null,
            "overflow_y": null,
            "padding": null,
            "right": null,
            "top": null,
            "visibility": null,
            "width": null
          }
        },
        "84ba7409491449bab2df403ad381fa33": {
          "model_module": "@jupyter-widgets/controls",
          "model_name": "DescriptionStyleModel",
          "model_module_version": "1.5.0",
          "state": {
            "_model_module": "@jupyter-widgets/controls",
            "_model_module_version": "1.5.0",
            "_model_name": "DescriptionStyleModel",
            "_view_count": null,
            "_view_module": "@jupyter-widgets/base",
            "_view_module_version": "1.2.0",
            "_view_name": "StyleView",
            "description_width": ""
          }
        },
        "d1c83be04cf744b0bb1bd4302d2e9300": {
          "model_module": "@jupyter-widgets/base",
          "model_name": "LayoutModel",
          "model_module_version": "1.2.0",
          "state": {
            "_model_module": "@jupyter-widgets/base",
            "_model_module_version": "1.2.0",
            "_model_name": "LayoutModel",
            "_view_count": null,
            "_view_module": "@jupyter-widgets/base",
            "_view_module_version": "1.2.0",
            "_view_name": "LayoutView",
            "align_content": null,
            "align_items": null,
            "align_self": null,
            "border": null,
            "bottom": null,
            "display": null,
            "flex": null,
            "flex_flow": null,
            "grid_area": null,
            "grid_auto_columns": null,
            "grid_auto_flow": null,
            "grid_auto_rows": null,
            "grid_column": null,
            "grid_gap": null,
            "grid_row": null,
            "grid_template_areas": null,
            "grid_template_columns": null,
            "grid_template_rows": null,
            "height": null,
            "justify_content": null,
            "justify_items": null,
            "left": null,
            "margin": null,
            "max_height": null,
            "max_width": null,
            "min_height": null,
            "min_width": null,
            "object_fit": null,
            "object_position": null,
            "order": null,
            "overflow": null,
            "overflow_x": null,
            "overflow_y": null,
            "padding": null,
            "right": null,
            "top": null,
            "visibility": null,
            "width": null
          }
        },
        "f8f254283b52454aa69f42aa4cf511df": {
          "model_module": "@jupyter-widgets/controls",
          "model_name": "ProgressStyleModel",
          "model_module_version": "1.5.0",
          "state": {
            "_model_module": "@jupyter-widgets/controls",
            "_model_module_version": "1.5.0",
            "_model_name": "ProgressStyleModel",
            "_view_count": null,
            "_view_module": "@jupyter-widgets/base",
            "_view_module_version": "1.2.0",
            "_view_name": "StyleView",
            "bar_color": null,
            "description_width": ""
          }
        },
        "a9917b6930754165bc6df75384b75c35": {
          "model_module": "@jupyter-widgets/base",
          "model_name": "LayoutModel",
          "model_module_version": "1.2.0",
          "state": {
            "_model_module": "@jupyter-widgets/base",
            "_model_module_version": "1.2.0",
            "_model_name": "LayoutModel",
            "_view_count": null,
            "_view_module": "@jupyter-widgets/base",
            "_view_module_version": "1.2.0",
            "_view_name": "LayoutView",
            "align_content": null,
            "align_items": null,
            "align_self": null,
            "border": null,
            "bottom": null,
            "display": null,
            "flex": null,
            "flex_flow": null,
            "grid_area": null,
            "grid_auto_columns": null,
            "grid_auto_flow": null,
            "grid_auto_rows": null,
            "grid_column": null,
            "grid_gap": null,
            "grid_row": null,
            "grid_template_areas": null,
            "grid_template_columns": null,
            "grid_template_rows": null,
            "height": null,
            "justify_content": null,
            "justify_items": null,
            "left": null,
            "margin": null,
            "max_height": null,
            "max_width": null,
            "min_height": null,
            "min_width": null,
            "object_fit": null,
            "object_position": null,
            "order": null,
            "overflow": null,
            "overflow_x": null,
            "overflow_y": null,
            "padding": null,
            "right": null,
            "top": null,
            "visibility": null,
            "width": null
          }
        },
        "2c8f5350d15f4b3c9bee6aee949ec9d3": {
          "model_module": "@jupyter-widgets/controls",
          "model_name": "DescriptionStyleModel",
          "model_module_version": "1.5.0",
          "state": {
            "_model_module": "@jupyter-widgets/controls",
            "_model_module_version": "1.5.0",
            "_model_name": "DescriptionStyleModel",
            "_view_count": null,
            "_view_module": "@jupyter-widgets/base",
            "_view_module_version": "1.2.0",
            "_view_name": "StyleView",
            "description_width": ""
          }
        },
        "d28e9967c8d24ad2b8ebefbdc0ed7d77": {
          "model_module": "@jupyter-widgets/controls",
          "model_name": "HBoxModel",
          "model_module_version": "1.5.0",
          "state": {
            "_dom_classes": [],
            "_model_module": "@jupyter-widgets/controls",
            "_model_module_version": "1.5.0",
            "_model_name": "HBoxModel",
            "_view_count": null,
            "_view_module": "@jupyter-widgets/controls",
            "_view_module_version": "1.5.0",
            "_view_name": "HBoxView",
            "box_style": "",
            "children": [
              "IPY_MODEL_9b7469c89f5141e7b2810e260a9d3348",
              "IPY_MODEL_751e0f50e5e54708bbfbfbf3e7777d88",
              "IPY_MODEL_90132819c5c44f8494fc50ad3855ff5a"
            ],
            "layout": "IPY_MODEL_7facd8617bf04a68a3da24400b0ed086"
          }
        },
        "9b7469c89f5141e7b2810e260a9d3348": {
          "model_module": "@jupyter-widgets/controls",
          "model_name": "HTMLModel",
          "model_module_version": "1.5.0",
          "state": {
            "_dom_classes": [],
            "_model_module": "@jupyter-widgets/controls",
            "_model_module_version": "1.5.0",
            "_model_name": "HTMLModel",
            "_view_count": null,
            "_view_module": "@jupyter-widgets/controls",
            "_view_module_version": "1.5.0",
            "_view_name": "HTMLView",
            "description": "",
            "description_tooltip": null,
            "layout": "IPY_MODEL_21663fbfa9914668af28d2f3ca7b2b5b",
            "placeholder": "​",
            "style": "IPY_MODEL_93b28fd6b8c847a4b88edec1ebc0a8ef",
            "value": "Map: 100%"
          }
        },
        "751e0f50e5e54708bbfbfbf3e7777d88": {
          "model_module": "@jupyter-widgets/controls",
          "model_name": "FloatProgressModel",
          "model_module_version": "1.5.0",
          "state": {
            "_dom_classes": [],
            "_model_module": "@jupyter-widgets/controls",
            "_model_module_version": "1.5.0",
            "_model_name": "FloatProgressModel",
            "_view_count": null,
            "_view_module": "@jupyter-widgets/controls",
            "_view_module_version": "1.5.0",
            "_view_name": "ProgressView",
            "bar_style": "success",
            "description": "",
            "description_tooltip": null,
            "layout": "IPY_MODEL_4da093bee13d4630a2b9bfcce0d342cf",
            "max": 2000,
            "min": 0,
            "orientation": "horizontal",
            "style": "IPY_MODEL_f6948b36653b41549c0ad1032947e1d7",
            "value": 2000
          }
        },
        "90132819c5c44f8494fc50ad3855ff5a": {
          "model_module": "@jupyter-widgets/controls",
          "model_name": "HTMLModel",
          "model_module_version": "1.5.0",
          "state": {
            "_dom_classes": [],
            "_model_module": "@jupyter-widgets/controls",
            "_model_module_version": "1.5.0",
            "_model_name": "HTMLModel",
            "_view_count": null,
            "_view_module": "@jupyter-widgets/controls",
            "_view_module_version": "1.5.0",
            "_view_name": "HTMLView",
            "description": "",
            "description_tooltip": null,
            "layout": "IPY_MODEL_2b603c6dc6ca4408a39af7ca1926fdbb",
            "placeholder": "​",
            "style": "IPY_MODEL_6c39114731a8411e8247ea9f3ee89318",
            "value": " 2000/2000 [00:09&lt;00:00, 188.68 examples/s]"
          }
        },
        "7facd8617bf04a68a3da24400b0ed086": {
          "model_module": "@jupyter-widgets/base",
          "model_name": "LayoutModel",
          "model_module_version": "1.2.0",
          "state": {
            "_model_module": "@jupyter-widgets/base",
            "_model_module_version": "1.2.0",
            "_model_name": "LayoutModel",
            "_view_count": null,
            "_view_module": "@jupyter-widgets/base",
            "_view_module_version": "1.2.0",
            "_view_name": "LayoutView",
            "align_content": null,
            "align_items": null,
            "align_self": null,
            "border": null,
            "bottom": null,
            "display": null,
            "flex": null,
            "flex_flow": null,
            "grid_area": null,
            "grid_auto_columns": null,
            "grid_auto_flow": null,
            "grid_auto_rows": null,
            "grid_column": null,
            "grid_gap": null,
            "grid_row": null,
            "grid_template_areas": null,
            "grid_template_columns": null,
            "grid_template_rows": null,
            "height": null,
            "justify_content": null,
            "justify_items": null,
            "left": null,
            "margin": null,
            "max_height": null,
            "max_width": null,
            "min_height": null,
            "min_width": null,
            "object_fit": null,
            "object_position": null,
            "order": null,
            "overflow": null,
            "overflow_x": null,
            "overflow_y": null,
            "padding": null,
            "right": null,
            "top": null,
            "visibility": null,
            "width": null
          }
        },
        "21663fbfa9914668af28d2f3ca7b2b5b": {
          "model_module": "@jupyter-widgets/base",
          "model_name": "LayoutModel",
          "model_module_version": "1.2.0",
          "state": {
            "_model_module": "@jupyter-widgets/base",
            "_model_module_version": "1.2.0",
            "_model_name": "LayoutModel",
            "_view_count": null,
            "_view_module": "@jupyter-widgets/base",
            "_view_module_version": "1.2.0",
            "_view_name": "LayoutView",
            "align_content": null,
            "align_items": null,
            "align_self": null,
            "border": null,
            "bottom": null,
            "display": null,
            "flex": null,
            "flex_flow": null,
            "grid_area": null,
            "grid_auto_columns": null,
            "grid_auto_flow": null,
            "grid_auto_rows": null,
            "grid_column": null,
            "grid_gap": null,
            "grid_row": null,
            "grid_template_areas": null,
            "grid_template_columns": null,
            "grid_template_rows": null,
            "height": null,
            "justify_content": null,
            "justify_items": null,
            "left": null,
            "margin": null,
            "max_height": null,
            "max_width": null,
            "min_height": null,
            "min_width": null,
            "object_fit": null,
            "object_position": null,
            "order": null,
            "overflow": null,
            "overflow_x": null,
            "overflow_y": null,
            "padding": null,
            "right": null,
            "top": null,
            "visibility": null,
            "width": null
          }
        },
        "93b28fd6b8c847a4b88edec1ebc0a8ef": {
          "model_module": "@jupyter-widgets/controls",
          "model_name": "DescriptionStyleModel",
          "model_module_version": "1.5.0",
          "state": {
            "_model_module": "@jupyter-widgets/controls",
            "_model_module_version": "1.5.0",
            "_model_name": "DescriptionStyleModel",
            "_view_count": null,
            "_view_module": "@jupyter-widgets/base",
            "_view_module_version": "1.2.0",
            "_view_name": "StyleView",
            "description_width": ""
          }
        },
        "4da093bee13d4630a2b9bfcce0d342cf": {
          "model_module": "@jupyter-widgets/base",
          "model_name": "LayoutModel",
          "model_module_version": "1.2.0",
          "state": {
            "_model_module": "@jupyter-widgets/base",
            "_model_module_version": "1.2.0",
            "_model_name": "LayoutModel",
            "_view_count": null,
            "_view_module": "@jupyter-widgets/base",
            "_view_module_version": "1.2.0",
            "_view_name": "LayoutView",
            "align_content": null,
            "align_items": null,
            "align_self": null,
            "border": null,
            "bottom": null,
            "display": null,
            "flex": null,
            "flex_flow": null,
            "grid_area": null,
            "grid_auto_columns": null,
            "grid_auto_flow": null,
            "grid_auto_rows": null,
            "grid_column": null,
            "grid_gap": null,
            "grid_row": null,
            "grid_template_areas": null,
            "grid_template_columns": null,
            "grid_template_rows": null,
            "height": null,
            "justify_content": null,
            "justify_items": null,
            "left": null,
            "margin": null,
            "max_height": null,
            "max_width": null,
            "min_height": null,
            "min_width": null,
            "object_fit": null,
            "object_position": null,
            "order": null,
            "overflow": null,
            "overflow_x": null,
            "overflow_y": null,
            "padding": null,
            "right": null,
            "top": null,
            "visibility": null,
            "width": null
          }
        },
        "f6948b36653b41549c0ad1032947e1d7": {
          "model_module": "@jupyter-widgets/controls",
          "model_name": "ProgressStyleModel",
          "model_module_version": "1.5.0",
          "state": {
            "_model_module": "@jupyter-widgets/controls",
            "_model_module_version": "1.5.0",
            "_model_name": "ProgressStyleModel",
            "_view_count": null,
            "_view_module": "@jupyter-widgets/base",
            "_view_module_version": "1.2.0",
            "_view_name": "StyleView",
            "bar_color": null,
            "description_width": ""
          }
        },
        "2b603c6dc6ca4408a39af7ca1926fdbb": {
          "model_module": "@jupyter-widgets/base",
          "model_name": "LayoutModel",
          "model_module_version": "1.2.0",
          "state": {
            "_model_module": "@jupyter-widgets/base",
            "_model_module_version": "1.2.0",
            "_model_name": "LayoutModel",
            "_view_count": null,
            "_view_module": "@jupyter-widgets/base",
            "_view_module_version": "1.2.0",
            "_view_name": "LayoutView",
            "align_content": null,
            "align_items": null,
            "align_self": null,
            "border": null,
            "bottom": null,
            "display": null,
            "flex": null,
            "flex_flow": null,
            "grid_area": null,
            "grid_auto_columns": null,
            "grid_auto_flow": null,
            "grid_auto_rows": null,
            "grid_column": null,
            "grid_gap": null,
            "grid_row": null,
            "grid_template_areas": null,
            "grid_template_columns": null,
            "grid_template_rows": null,
            "height": null,
            "justify_content": null,
            "justify_items": null,
            "left": null,
            "margin": null,
            "max_height": null,
            "max_width": null,
            "min_height": null,
            "min_width": null,
            "object_fit": null,
            "object_position": null,
            "order": null,
            "overflow": null,
            "overflow_x": null,
            "overflow_y": null,
            "padding": null,
            "right": null,
            "top": null,
            "visibility": null,
            "width": null
          }
        },
        "6c39114731a8411e8247ea9f3ee89318": {
          "model_module": "@jupyter-widgets/controls",
          "model_name": "DescriptionStyleModel",
          "model_module_version": "1.5.0",
          "state": {
            "_model_module": "@jupyter-widgets/controls",
            "_model_module_version": "1.5.0",
            "_model_name": "DescriptionStyleModel",
            "_view_count": null,
            "_view_module": "@jupyter-widgets/base",
            "_view_module_version": "1.2.0",
            "_view_name": "StyleView",
            "description_width": ""
          }
        },
        "0c12380002cd44c39c2505935008d99a": {
          "model_module": "@jupyter-widgets/controls",
          "model_name": "HBoxModel",
          "model_module_version": "1.5.0",
          "state": {
            "_dom_classes": [],
            "_model_module": "@jupyter-widgets/controls",
            "_model_module_version": "1.5.0",
            "_model_name": "HBoxModel",
            "_view_count": null,
            "_view_module": "@jupyter-widgets/controls",
            "_view_module_version": "1.5.0",
            "_view_name": "HBoxView",
            "box_style": "",
            "children": [
              "IPY_MODEL_f2ae8a3a25794e4eb44d1c56bcdba999",
              "IPY_MODEL_8ccc90cd15d34ce6b880673ab8acb0a4",
              "IPY_MODEL_39b34773bb40432ab3ccd62a62f711af"
            ],
            "layout": "IPY_MODEL_b7064671cd3c4f34af433ec02ac80351"
          }
        },
        "f2ae8a3a25794e4eb44d1c56bcdba999": {
          "model_module": "@jupyter-widgets/controls",
          "model_name": "HTMLModel",
          "model_module_version": "1.5.0",
          "state": {
            "_dom_classes": [],
            "_model_module": "@jupyter-widgets/controls",
            "_model_module_version": "1.5.0",
            "_model_name": "HTMLModel",
            "_view_count": null,
            "_view_module": "@jupyter-widgets/controls",
            "_view_module_version": "1.5.0",
            "_view_name": "HTMLView",
            "description": "",
            "description_tooltip": null,
            "layout": "IPY_MODEL_b74b66c0eb36469080cce4515d30ac21",
            "placeholder": "​",
            "style": "IPY_MODEL_076e345cae5441029e8994969c2f826b",
            "value": "Map: 100%"
          }
        },
        "8ccc90cd15d34ce6b880673ab8acb0a4": {
          "model_module": "@jupyter-widgets/controls",
          "model_name": "FloatProgressModel",
          "model_module_version": "1.5.0",
          "state": {
            "_dom_classes": [],
            "_model_module": "@jupyter-widgets/controls",
            "_model_module_version": "1.5.0",
            "_model_name": "FloatProgressModel",
            "_view_count": null,
            "_view_module": "@jupyter-widgets/controls",
            "_view_module_version": "1.5.0",
            "_view_name": "ProgressView",
            "bar_style": "success",
            "description": "",
            "description_tooltip": null,
            "layout": "IPY_MODEL_31a85a027085456c818e91b7d3e8642c",
            "max": 2000,
            "min": 0,
            "orientation": "horizontal",
            "style": "IPY_MODEL_948842d5d5d14c9eb35f4927b5474574",
            "value": 2000
          }
        },
        "39b34773bb40432ab3ccd62a62f711af": {
          "model_module": "@jupyter-widgets/controls",
          "model_name": "HTMLModel",
          "model_module_version": "1.5.0",
          "state": {
            "_dom_classes": [],
            "_model_module": "@jupyter-widgets/controls",
            "_model_module_version": "1.5.0",
            "_model_name": "HTMLModel",
            "_view_count": null,
            "_view_module": "@jupyter-widgets/controls",
            "_view_module_version": "1.5.0",
            "_view_name": "HTMLView",
            "description": "",
            "description_tooltip": null,
            "layout": "IPY_MODEL_54d6c56a679a44b3969d6c70fb84ccb9",
            "placeholder": "​",
            "style": "IPY_MODEL_55971c4a89c9423c8ea2b3a2c9c7affe",
            "value": " 2000/2000 [00:02&lt;00:00, 757.89 examples/s]"
          }
        },
        "b7064671cd3c4f34af433ec02ac80351": {
          "model_module": "@jupyter-widgets/base",
          "model_name": "LayoutModel",
          "model_module_version": "1.2.0",
          "state": {
            "_model_module": "@jupyter-widgets/base",
            "_model_module_version": "1.2.0",
            "_model_name": "LayoutModel",
            "_view_count": null,
            "_view_module": "@jupyter-widgets/base",
            "_view_module_version": "1.2.0",
            "_view_name": "LayoutView",
            "align_content": null,
            "align_items": null,
            "align_self": null,
            "border": null,
            "bottom": null,
            "display": null,
            "flex": null,
            "flex_flow": null,
            "grid_area": null,
            "grid_auto_columns": null,
            "grid_auto_flow": null,
            "grid_auto_rows": null,
            "grid_column": null,
            "grid_gap": null,
            "grid_row": null,
            "grid_template_areas": null,
            "grid_template_columns": null,
            "grid_template_rows": null,
            "height": null,
            "justify_content": null,
            "justify_items": null,
            "left": null,
            "margin": null,
            "max_height": null,
            "max_width": null,
            "min_height": null,
            "min_width": null,
            "object_fit": null,
            "object_position": null,
            "order": null,
            "overflow": null,
            "overflow_x": null,
            "overflow_y": null,
            "padding": null,
            "right": null,
            "top": null,
            "visibility": null,
            "width": null
          }
        },
        "b74b66c0eb36469080cce4515d30ac21": {
          "model_module": "@jupyter-widgets/base",
          "model_name": "LayoutModel",
          "model_module_version": "1.2.0",
          "state": {
            "_model_module": "@jupyter-widgets/base",
            "_model_module_version": "1.2.0",
            "_model_name": "LayoutModel",
            "_view_count": null,
            "_view_module": "@jupyter-widgets/base",
            "_view_module_version": "1.2.0",
            "_view_name": "LayoutView",
            "align_content": null,
            "align_items": null,
            "align_self": null,
            "border": null,
            "bottom": null,
            "display": null,
            "flex": null,
            "flex_flow": null,
            "grid_area": null,
            "grid_auto_columns": null,
            "grid_auto_flow": null,
            "grid_auto_rows": null,
            "grid_column": null,
            "grid_gap": null,
            "grid_row": null,
            "grid_template_areas": null,
            "grid_template_columns": null,
            "grid_template_rows": null,
            "height": null,
            "justify_content": null,
            "justify_items": null,
            "left": null,
            "margin": null,
            "max_height": null,
            "max_width": null,
            "min_height": null,
            "min_width": null,
            "object_fit": null,
            "object_position": null,
            "order": null,
            "overflow": null,
            "overflow_x": null,
            "overflow_y": null,
            "padding": null,
            "right": null,
            "top": null,
            "visibility": null,
            "width": null
          }
        },
        "076e345cae5441029e8994969c2f826b": {
          "model_module": "@jupyter-widgets/controls",
          "model_name": "DescriptionStyleModel",
          "model_module_version": "1.5.0",
          "state": {
            "_model_module": "@jupyter-widgets/controls",
            "_model_module_version": "1.5.0",
            "_model_name": "DescriptionStyleModel",
            "_view_count": null,
            "_view_module": "@jupyter-widgets/base",
            "_view_module_version": "1.2.0",
            "_view_name": "StyleView",
            "description_width": ""
          }
        },
        "31a85a027085456c818e91b7d3e8642c": {
          "model_module": "@jupyter-widgets/base",
          "model_name": "LayoutModel",
          "model_module_version": "1.2.0",
          "state": {
            "_model_module": "@jupyter-widgets/base",
            "_model_module_version": "1.2.0",
            "_model_name": "LayoutModel",
            "_view_count": null,
            "_view_module": "@jupyter-widgets/base",
            "_view_module_version": "1.2.0",
            "_view_name": "LayoutView",
            "align_content": null,
            "align_items": null,
            "align_self": null,
            "border": null,
            "bottom": null,
            "display": null,
            "flex": null,
            "flex_flow": null,
            "grid_area": null,
            "grid_auto_columns": null,
            "grid_auto_flow": null,
            "grid_auto_rows": null,
            "grid_column": null,
            "grid_gap": null,
            "grid_row": null,
            "grid_template_areas": null,
            "grid_template_columns": null,
            "grid_template_rows": null,
            "height": null,
            "justify_content": null,
            "justify_items": null,
            "left": null,
            "margin": null,
            "max_height": null,
            "max_width": null,
            "min_height": null,
            "min_width": null,
            "object_fit": null,
            "object_position": null,
            "order": null,
            "overflow": null,
            "overflow_x": null,
            "overflow_y": null,
            "padding": null,
            "right": null,
            "top": null,
            "visibility": null,
            "width": null
          }
        },
        "948842d5d5d14c9eb35f4927b5474574": {
          "model_module": "@jupyter-widgets/controls",
          "model_name": "ProgressStyleModel",
          "model_module_version": "1.5.0",
          "state": {
            "_model_module": "@jupyter-widgets/controls",
            "_model_module_version": "1.5.0",
            "_model_name": "ProgressStyleModel",
            "_view_count": null,
            "_view_module": "@jupyter-widgets/base",
            "_view_module_version": "1.2.0",
            "_view_name": "StyleView",
            "bar_color": null,
            "description_width": ""
          }
        },
        "54d6c56a679a44b3969d6c70fb84ccb9": {
          "model_module": "@jupyter-widgets/base",
          "model_name": "LayoutModel",
          "model_module_version": "1.2.0",
          "state": {
            "_model_module": "@jupyter-widgets/base",
            "_model_module_version": "1.2.0",
            "_model_name": "LayoutModel",
            "_view_count": null,
            "_view_module": "@jupyter-widgets/base",
            "_view_module_version": "1.2.0",
            "_view_name": "LayoutView",
            "align_content": null,
            "align_items": null,
            "align_self": null,
            "border": null,
            "bottom": null,
            "display": null,
            "flex": null,
            "flex_flow": null,
            "grid_area": null,
            "grid_auto_columns": null,
            "grid_auto_flow": null,
            "grid_auto_rows": null,
            "grid_column": null,
            "grid_gap": null,
            "grid_row": null,
            "grid_template_areas": null,
            "grid_template_columns": null,
            "grid_template_rows": null,
            "height": null,
            "justify_content": null,
            "justify_items": null,
            "left": null,
            "margin": null,
            "max_height": null,
            "max_width": null,
            "min_height": null,
            "min_width": null,
            "object_fit": null,
            "object_position": null,
            "order": null,
            "overflow": null,
            "overflow_x": null,
            "overflow_y": null,
            "padding": null,
            "right": null,
            "top": null,
            "visibility": null,
            "width": null
          }
        },
        "55971c4a89c9423c8ea2b3a2c9c7affe": {
          "model_module": "@jupyter-widgets/controls",
          "model_name": "DescriptionStyleModel",
          "model_module_version": "1.5.0",
          "state": {
            "_model_module": "@jupyter-widgets/controls",
            "_model_module_version": "1.5.0",
            "_model_name": "DescriptionStyleModel",
            "_view_count": null,
            "_view_module": "@jupyter-widgets/base",
            "_view_module_version": "1.2.0",
            "_view_name": "StyleView",
            "description_width": ""
          }
        },
        "416788e936344e0ab7eb69bb99f34d71": {
          "model_module": "@jupyter-widgets/controls",
          "model_name": "HBoxModel",
          "model_module_version": "1.5.0",
          "state": {
            "_dom_classes": [],
            "_model_module": "@jupyter-widgets/controls",
            "_model_module_version": "1.5.0",
            "_model_name": "HBoxModel",
            "_view_count": null,
            "_view_module": "@jupyter-widgets/controls",
            "_view_module_version": "1.5.0",
            "_view_name": "HBoxView",
            "box_style": "",
            "children": [
              "IPY_MODEL_00036f443a794a2fba63e4e275fd1388",
              "IPY_MODEL_cdbb843b5ce940bf9c74c2b51cd62fe9",
              "IPY_MODEL_9ec7f1c810fd4d7195c9a332a72d0f08"
            ],
            "layout": "IPY_MODEL_2f82f2827389470bb38ff00fa7692691"
          }
        },
        "00036f443a794a2fba63e4e275fd1388": {
          "model_module": "@jupyter-widgets/controls",
          "model_name": "HTMLModel",
          "model_module_version": "1.5.0",
          "state": {
            "_dom_classes": [],
            "_model_module": "@jupyter-widgets/controls",
            "_model_module_version": "1.5.0",
            "_model_name": "HTMLModel",
            "_view_count": null,
            "_view_module": "@jupyter-widgets/controls",
            "_view_module_version": "1.5.0",
            "_view_name": "HTMLView",
            "description": "",
            "description_tooltip": null,
            "layout": "IPY_MODEL_f76157ce04d84db6aef06b3c18c7398f",
            "placeholder": "​",
            "style": "IPY_MODEL_c371ea168a5e4f24bb8d74dec5eaeecb",
            "value": "Map: 100%"
          }
        },
        "cdbb843b5ce940bf9c74c2b51cd62fe9": {
          "model_module": "@jupyter-widgets/controls",
          "model_name": "FloatProgressModel",
          "model_module_version": "1.5.0",
          "state": {
            "_dom_classes": [],
            "_model_module": "@jupyter-widgets/controls",
            "_model_module_version": "1.5.0",
            "_model_name": "FloatProgressModel",
            "_view_count": null,
            "_view_module": "@jupyter-widgets/controls",
            "_view_module_version": "1.5.0",
            "_view_name": "ProgressView",
            "bar_style": "success",
            "description": "",
            "description_tooltip": null,
            "layout": "IPY_MODEL_78335be8c58a4af9ae1b21dc65c51c17",
            "max": 2000,
            "min": 0,
            "orientation": "horizontal",
            "style": "IPY_MODEL_47cb8ee815e3431b8ae1637c9b33f310",
            "value": 2000
          }
        },
        "9ec7f1c810fd4d7195c9a332a72d0f08": {
          "model_module": "@jupyter-widgets/controls",
          "model_name": "HTMLModel",
          "model_module_version": "1.5.0",
          "state": {
            "_dom_classes": [],
            "_model_module": "@jupyter-widgets/controls",
            "_model_module_version": "1.5.0",
            "_model_name": "HTMLModel",
            "_view_count": null,
            "_view_module": "@jupyter-widgets/controls",
            "_view_module_version": "1.5.0",
            "_view_name": "HTMLView",
            "description": "",
            "description_tooltip": null,
            "layout": "IPY_MODEL_81b799f2713e47baae38a48d28670b13",
            "placeholder": "​",
            "style": "IPY_MODEL_e00bef14e5924c96bad4230fb1c2d6fa",
            "value": " 2000/2000 [00:09&lt;00:00, 224.85 examples/s]"
          }
        },
        "2f82f2827389470bb38ff00fa7692691": {
          "model_module": "@jupyter-widgets/base",
          "model_name": "LayoutModel",
          "model_module_version": "1.2.0",
          "state": {
            "_model_module": "@jupyter-widgets/base",
            "_model_module_version": "1.2.0",
            "_model_name": "LayoutModel",
            "_view_count": null,
            "_view_module": "@jupyter-widgets/base",
            "_view_module_version": "1.2.0",
            "_view_name": "LayoutView",
            "align_content": null,
            "align_items": null,
            "align_self": null,
            "border": null,
            "bottom": null,
            "display": null,
            "flex": null,
            "flex_flow": null,
            "grid_area": null,
            "grid_auto_columns": null,
            "grid_auto_flow": null,
            "grid_auto_rows": null,
            "grid_column": null,
            "grid_gap": null,
            "grid_row": null,
            "grid_template_areas": null,
            "grid_template_columns": null,
            "grid_template_rows": null,
            "height": null,
            "justify_content": null,
            "justify_items": null,
            "left": null,
            "margin": null,
            "max_height": null,
            "max_width": null,
            "min_height": null,
            "min_width": null,
            "object_fit": null,
            "object_position": null,
            "order": null,
            "overflow": null,
            "overflow_x": null,
            "overflow_y": null,
            "padding": null,
            "right": null,
            "top": null,
            "visibility": null,
            "width": null
          }
        },
        "f76157ce04d84db6aef06b3c18c7398f": {
          "model_module": "@jupyter-widgets/base",
          "model_name": "LayoutModel",
          "model_module_version": "1.2.0",
          "state": {
            "_model_module": "@jupyter-widgets/base",
            "_model_module_version": "1.2.0",
            "_model_name": "LayoutModel",
            "_view_count": null,
            "_view_module": "@jupyter-widgets/base",
            "_view_module_version": "1.2.0",
            "_view_name": "LayoutView",
            "align_content": null,
            "align_items": null,
            "align_self": null,
            "border": null,
            "bottom": null,
            "display": null,
            "flex": null,
            "flex_flow": null,
            "grid_area": null,
            "grid_auto_columns": null,
            "grid_auto_flow": null,
            "grid_auto_rows": null,
            "grid_column": null,
            "grid_gap": null,
            "grid_row": null,
            "grid_template_areas": null,
            "grid_template_columns": null,
            "grid_template_rows": null,
            "height": null,
            "justify_content": null,
            "justify_items": null,
            "left": null,
            "margin": null,
            "max_height": null,
            "max_width": null,
            "min_height": null,
            "min_width": null,
            "object_fit": null,
            "object_position": null,
            "order": null,
            "overflow": null,
            "overflow_x": null,
            "overflow_y": null,
            "padding": null,
            "right": null,
            "top": null,
            "visibility": null,
            "width": null
          }
        },
        "c371ea168a5e4f24bb8d74dec5eaeecb": {
          "model_module": "@jupyter-widgets/controls",
          "model_name": "DescriptionStyleModel",
          "model_module_version": "1.5.0",
          "state": {
            "_model_module": "@jupyter-widgets/controls",
            "_model_module_version": "1.5.0",
            "_model_name": "DescriptionStyleModel",
            "_view_count": null,
            "_view_module": "@jupyter-widgets/base",
            "_view_module_version": "1.2.0",
            "_view_name": "StyleView",
            "description_width": ""
          }
        },
        "78335be8c58a4af9ae1b21dc65c51c17": {
          "model_module": "@jupyter-widgets/base",
          "model_name": "LayoutModel",
          "model_module_version": "1.2.0",
          "state": {
            "_model_module": "@jupyter-widgets/base",
            "_model_module_version": "1.2.0",
            "_model_name": "LayoutModel",
            "_view_count": null,
            "_view_module": "@jupyter-widgets/base",
            "_view_module_version": "1.2.0",
            "_view_name": "LayoutView",
            "align_content": null,
            "align_items": null,
            "align_self": null,
            "border": null,
            "bottom": null,
            "display": null,
            "flex": null,
            "flex_flow": null,
            "grid_area": null,
            "grid_auto_columns": null,
            "grid_auto_flow": null,
            "grid_auto_rows": null,
            "grid_column": null,
            "grid_gap": null,
            "grid_row": null,
            "grid_template_areas": null,
            "grid_template_columns": null,
            "grid_template_rows": null,
            "height": null,
            "justify_content": null,
            "justify_items": null,
            "left": null,
            "margin": null,
            "max_height": null,
            "max_width": null,
            "min_height": null,
            "min_width": null,
            "object_fit": null,
            "object_position": null,
            "order": null,
            "overflow": null,
            "overflow_x": null,
            "overflow_y": null,
            "padding": null,
            "right": null,
            "top": null,
            "visibility": null,
            "width": null
          }
        },
        "47cb8ee815e3431b8ae1637c9b33f310": {
          "model_module": "@jupyter-widgets/controls",
          "model_name": "ProgressStyleModel",
          "model_module_version": "1.5.0",
          "state": {
            "_model_module": "@jupyter-widgets/controls",
            "_model_module_version": "1.5.0",
            "_model_name": "ProgressStyleModel",
            "_view_count": null,
            "_view_module": "@jupyter-widgets/base",
            "_view_module_version": "1.2.0",
            "_view_name": "StyleView",
            "bar_color": null,
            "description_width": ""
          }
        },
        "81b799f2713e47baae38a48d28670b13": {
          "model_module": "@jupyter-widgets/base",
          "model_name": "LayoutModel",
          "model_module_version": "1.2.0",
          "state": {
            "_model_module": "@jupyter-widgets/base",
            "_model_module_version": "1.2.0",
            "_model_name": "LayoutModel",
            "_view_count": null,
            "_view_module": "@jupyter-widgets/base",
            "_view_module_version": "1.2.0",
            "_view_name": "LayoutView",
            "align_content": null,
            "align_items": null,
            "align_self": null,
            "border": null,
            "bottom": null,
            "display": null,
            "flex": null,
            "flex_flow": null,
            "grid_area": null,
            "grid_auto_columns": null,
            "grid_auto_flow": null,
            "grid_auto_rows": null,
            "grid_column": null,
            "grid_gap": null,
            "grid_row": null,
            "grid_template_areas": null,
            "grid_template_columns": null,
            "grid_template_rows": null,
            "height": null,
            "justify_content": null,
            "justify_items": null,
            "left": null,
            "margin": null,
            "max_height": null,
            "max_width": null,
            "min_height": null,
            "min_width": null,
            "object_fit": null,
            "object_position": null,
            "order": null,
            "overflow": null,
            "overflow_x": null,
            "overflow_y": null,
            "padding": null,
            "right": null,
            "top": null,
            "visibility": null,
            "width": null
          }
        },
        "e00bef14e5924c96bad4230fb1c2d6fa": {
          "model_module": "@jupyter-widgets/controls",
          "model_name": "DescriptionStyleModel",
          "model_module_version": "1.5.0",
          "state": {
            "_model_module": "@jupyter-widgets/controls",
            "_model_module_version": "1.5.0",
            "_model_name": "DescriptionStyleModel",
            "_view_count": null,
            "_view_module": "@jupyter-widgets/base",
            "_view_module_version": "1.2.0",
            "_view_name": "StyleView",
            "description_width": ""
          }
        },
        "18fc90cf5a2d4772ab498476d37a1f7c": {
          "model_module": "@jupyter-widgets/controls",
          "model_name": "HBoxModel",
          "model_module_version": "1.5.0",
          "state": {
            "_dom_classes": [],
            "_model_module": "@jupyter-widgets/controls",
            "_model_module_version": "1.5.0",
            "_model_name": "HBoxModel",
            "_view_count": null,
            "_view_module": "@jupyter-widgets/controls",
            "_view_module_version": "1.5.0",
            "_view_name": "HBoxView",
            "box_style": "",
            "children": [
              "IPY_MODEL_d5ae09551d944631a455ac5fc9e7e2a1",
              "IPY_MODEL_8c87c86aca774cb19c73287491a3a4aa",
              "IPY_MODEL_1ead223744434ac7a3390d7784a1bcad"
            ],
            "layout": "IPY_MODEL_e2b85d34b5c44da8a02a77accfee2b2c"
          }
        },
        "d5ae09551d944631a455ac5fc9e7e2a1": {
          "model_module": "@jupyter-widgets/controls",
          "model_name": "HTMLModel",
          "model_module_version": "1.5.0",
          "state": {
            "_dom_classes": [],
            "_model_module": "@jupyter-widgets/controls",
            "_model_module_version": "1.5.0",
            "_model_name": "HTMLModel",
            "_view_count": null,
            "_view_module": "@jupyter-widgets/controls",
            "_view_module_version": "1.5.0",
            "_view_name": "HTMLView",
            "description": "",
            "description_tooltip": null,
            "layout": "IPY_MODEL_e974f0661f834a539047c8f086151b0b",
            "placeholder": "​",
            "style": "IPY_MODEL_26ad65fc83e9410a9039e01897cd6955",
            "value": "Map: 100%"
          }
        },
        "8c87c86aca774cb19c73287491a3a4aa": {
          "model_module": "@jupyter-widgets/controls",
          "model_name": "FloatProgressModel",
          "model_module_version": "1.5.0",
          "state": {
            "_dom_classes": [],
            "_model_module": "@jupyter-widgets/controls",
            "_model_module_version": "1.5.0",
            "_model_name": "FloatProgressModel",
            "_view_count": null,
            "_view_module": "@jupyter-widgets/controls",
            "_view_module_version": "1.5.0",
            "_view_name": "ProgressView",
            "bar_style": "success",
            "description": "",
            "description_tooltip": null,
            "layout": "IPY_MODEL_0e8465786c4649be94393a4f769d3e98",
            "max": 2000,
            "min": 0,
            "orientation": "horizontal",
            "style": "IPY_MODEL_4131375923d845abb877ab8cee15a693",
            "value": 2000
          }
        },
        "1ead223744434ac7a3390d7784a1bcad": {
          "model_module": "@jupyter-widgets/controls",
          "model_name": "HTMLModel",
          "model_module_version": "1.5.0",
          "state": {
            "_dom_classes": [],
            "_model_module": "@jupyter-widgets/controls",
            "_model_module_version": "1.5.0",
            "_model_name": "HTMLModel",
            "_view_count": null,
            "_view_module": "@jupyter-widgets/controls",
            "_view_module_version": "1.5.0",
            "_view_name": "HTMLView",
            "description": "",
            "description_tooltip": null,
            "layout": "IPY_MODEL_bd280cccc59645088f668027a2170e58",
            "placeholder": "​",
            "style": "IPY_MODEL_836d5f24c95949c3b56f18773c415325",
            "value": " 2000/2000 [00:02&lt;00:00, 686.89 examples/s]"
          }
        },
        "e2b85d34b5c44da8a02a77accfee2b2c": {
          "model_module": "@jupyter-widgets/base",
          "model_name": "LayoutModel",
          "model_module_version": "1.2.0",
          "state": {
            "_model_module": "@jupyter-widgets/base",
            "_model_module_version": "1.2.0",
            "_model_name": "LayoutModel",
            "_view_count": null,
            "_view_module": "@jupyter-widgets/base",
            "_view_module_version": "1.2.0",
            "_view_name": "LayoutView",
            "align_content": null,
            "align_items": null,
            "align_self": null,
            "border": null,
            "bottom": null,
            "display": null,
            "flex": null,
            "flex_flow": null,
            "grid_area": null,
            "grid_auto_columns": null,
            "grid_auto_flow": null,
            "grid_auto_rows": null,
            "grid_column": null,
            "grid_gap": null,
            "grid_row": null,
            "grid_template_areas": null,
            "grid_template_columns": null,
            "grid_template_rows": null,
            "height": null,
            "justify_content": null,
            "justify_items": null,
            "left": null,
            "margin": null,
            "max_height": null,
            "max_width": null,
            "min_height": null,
            "min_width": null,
            "object_fit": null,
            "object_position": null,
            "order": null,
            "overflow": null,
            "overflow_x": null,
            "overflow_y": null,
            "padding": null,
            "right": null,
            "top": null,
            "visibility": null,
            "width": null
          }
        },
        "e974f0661f834a539047c8f086151b0b": {
          "model_module": "@jupyter-widgets/base",
          "model_name": "LayoutModel",
          "model_module_version": "1.2.0",
          "state": {
            "_model_module": "@jupyter-widgets/base",
            "_model_module_version": "1.2.0",
            "_model_name": "LayoutModel",
            "_view_count": null,
            "_view_module": "@jupyter-widgets/base",
            "_view_module_version": "1.2.0",
            "_view_name": "LayoutView",
            "align_content": null,
            "align_items": null,
            "align_self": null,
            "border": null,
            "bottom": null,
            "display": null,
            "flex": null,
            "flex_flow": null,
            "grid_area": null,
            "grid_auto_columns": null,
            "grid_auto_flow": null,
            "grid_auto_rows": null,
            "grid_column": null,
            "grid_gap": null,
            "grid_row": null,
            "grid_template_areas": null,
            "grid_template_columns": null,
            "grid_template_rows": null,
            "height": null,
            "justify_content": null,
            "justify_items": null,
            "left": null,
            "margin": null,
            "max_height": null,
            "max_width": null,
            "min_height": null,
            "min_width": null,
            "object_fit": null,
            "object_position": null,
            "order": null,
            "overflow": null,
            "overflow_x": null,
            "overflow_y": null,
            "padding": null,
            "right": null,
            "top": null,
            "visibility": null,
            "width": null
          }
        },
        "26ad65fc83e9410a9039e01897cd6955": {
          "model_module": "@jupyter-widgets/controls",
          "model_name": "DescriptionStyleModel",
          "model_module_version": "1.5.0",
          "state": {
            "_model_module": "@jupyter-widgets/controls",
            "_model_module_version": "1.5.0",
            "_model_name": "DescriptionStyleModel",
            "_view_count": null,
            "_view_module": "@jupyter-widgets/base",
            "_view_module_version": "1.2.0",
            "_view_name": "StyleView",
            "description_width": ""
          }
        },
        "0e8465786c4649be94393a4f769d3e98": {
          "model_module": "@jupyter-widgets/base",
          "model_name": "LayoutModel",
          "model_module_version": "1.2.0",
          "state": {
            "_model_module": "@jupyter-widgets/base",
            "_model_module_version": "1.2.0",
            "_model_name": "LayoutModel",
            "_view_count": null,
            "_view_module": "@jupyter-widgets/base",
            "_view_module_version": "1.2.0",
            "_view_name": "LayoutView",
            "align_content": null,
            "align_items": null,
            "align_self": null,
            "border": null,
            "bottom": null,
            "display": null,
            "flex": null,
            "flex_flow": null,
            "grid_area": null,
            "grid_auto_columns": null,
            "grid_auto_flow": null,
            "grid_auto_rows": null,
            "grid_column": null,
            "grid_gap": null,
            "grid_row": null,
            "grid_template_areas": null,
            "grid_template_columns": null,
            "grid_template_rows": null,
            "height": null,
            "justify_content": null,
            "justify_items": null,
            "left": null,
            "margin": null,
            "max_height": null,
            "max_width": null,
            "min_height": null,
            "min_width": null,
            "object_fit": null,
            "object_position": null,
            "order": null,
            "overflow": null,
            "overflow_x": null,
            "overflow_y": null,
            "padding": null,
            "right": null,
            "top": null,
            "visibility": null,
            "width": null
          }
        },
        "4131375923d845abb877ab8cee15a693": {
          "model_module": "@jupyter-widgets/controls",
          "model_name": "ProgressStyleModel",
          "model_module_version": "1.5.0",
          "state": {
            "_model_module": "@jupyter-widgets/controls",
            "_model_module_version": "1.5.0",
            "_model_name": "ProgressStyleModel",
            "_view_count": null,
            "_view_module": "@jupyter-widgets/base",
            "_view_module_version": "1.2.0",
            "_view_name": "StyleView",
            "bar_color": null,
            "description_width": ""
          }
        },
        "bd280cccc59645088f668027a2170e58": {
          "model_module": "@jupyter-widgets/base",
          "model_name": "LayoutModel",
          "model_module_version": "1.2.0",
          "state": {
            "_model_module": "@jupyter-widgets/base",
            "_model_module_version": "1.2.0",
            "_model_name": "LayoutModel",
            "_view_count": null,
            "_view_module": "@jupyter-widgets/base",
            "_view_module_version": "1.2.0",
            "_view_name": "LayoutView",
            "align_content": null,
            "align_items": null,
            "align_self": null,
            "border": null,
            "bottom": null,
            "display": null,
            "flex": null,
            "flex_flow": null,
            "grid_area": null,
            "grid_auto_columns": null,
            "grid_auto_flow": null,
            "grid_auto_rows": null,
            "grid_column": null,
            "grid_gap": null,
            "grid_row": null,
            "grid_template_areas": null,
            "grid_template_columns": null,
            "grid_template_rows": null,
            "height": null,
            "justify_content": null,
            "justify_items": null,
            "left": null,
            "margin": null,
            "max_height": null,
            "max_width": null,
            "min_height": null,
            "min_width": null,
            "object_fit": null,
            "object_position": null,
            "order": null,
            "overflow": null,
            "overflow_x": null,
            "overflow_y": null,
            "padding": null,
            "right": null,
            "top": null,
            "visibility": null,
            "width": null
          }
        },
        "836d5f24c95949c3b56f18773c415325": {
          "model_module": "@jupyter-widgets/controls",
          "model_name": "DescriptionStyleModel",
          "model_module_version": "1.5.0",
          "state": {
            "_model_module": "@jupyter-widgets/controls",
            "_model_module_version": "1.5.0",
            "_model_name": "DescriptionStyleModel",
            "_view_count": null,
            "_view_module": "@jupyter-widgets/base",
            "_view_module_version": "1.2.0",
            "_view_name": "StyleView",
            "description_width": ""
          }
        }
      }
    }
  },
  "nbformat": 4,
  "nbformat_minor": 5
}