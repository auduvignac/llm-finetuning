{
  "cells": [
    {
      "cell_type": "markdown",
      "id": "bc5947a1",
      "metadata": {
        "id": "bc5947a1"
      },
      "source": [
        "# Text classification using Transformers.\n",
        "\n",
        "<p align=\"center\">\n",
        "  <a href=\"https://colab.research.google.com/github/auduvignac/llm-finetuning/blob/main/notebooks/project/draft.ipynb\" target=\"_blank\">\n",
        "  <img src=\"https://colab.research.google.com/assets/colab-badge.svg\" alt=\"Ouvrir dans Google Colab\"/>\n",
        "  </a>\n",
        "</p>\n",
        "\n",
        "## Introduction\n",
        "\n",
        "L’objectif de ce projet est de réaliser le **fine-tuning d’un Large Language Model (LLM)**, en particulier **DistilBERT**, sur un jeu de données de classification de textes.\n",
        "\n",
        "DistilBERT est une version compressée et optimisée du modèle BERT, développée par Hugging Face.\n",
        "Il conserve environ **97 % des performances de BERT** tout en étant **40 % plus léger** et **60 % plus rapide** à l’entraînement et à l’inférence.\n",
        "Ces caractéristiques en font un modèle particulièrement adapté aux projets pédagogiques et aux cas d’usage nécessitant un compromis entre performance et efficacité computationnelle.\n",
        "\n",
        "Dans ce projet, nous allons :\n",
        "\n",
        "* Télécharger et préparer un jeu de données textuel pour la classification de sentiments.\n",
        "* Adapter le tokenizer et le modèle DistilBERT à ce dataset.\n",
        "* Entraîner et évaluer le modèle en suivant un pipeline de fine-tuning.\n",
        "* Analyser les performances obtenues (accuracy, F1-score, matrice de confusion, etc.) et discuter des résultats.\n",
        "\n",
        "Le projet suit les consignes définies dans le cadre du module *LLM Fine-tuning* : il s’agit d’un travail en binôme, rendu sous la forme d’un **notebook Jupyter** intégrant à la fois le **code, les visualisations et les analyses**.\n",
        "\n",
        "## Contexte\n",
        "\n",
        "La classification de texte, et en particulier la **classification de sentiments**, est une tâche classique du traitement automatique du langage naturel (NLP).\n",
        "Elle consiste à prédire si un texte exprime une opinion **positive** ou **négative**, par exemple dans le cadre de critiques de films, de produits ou de services.\n",
        "\n",
        "Cette tâche est pertinente car :\n",
        "\n",
        "* Elle met en jeu des enjeux réels de l’industrie (analyse d’opinions clients, veille sur les réseaux sociaux, modération de contenu, etc.).\n",
        "* Elle sert souvent de **benchmark** pour comparer des modèles de NLP.\n",
        "* Elle illustre bien le processus de fine-tuning d’un modèle pré-entraîné sur un corpus généraliste vers une tâche spécifique.\n",
        "\n",
        "Le modèle choisi pour ce projet, **DistilBERT**, est une version compressée du modèle BERT :\n",
        "\n",
        "* il réduit le nombre de paramètres et accélère les calculs,\n",
        "* tout en conservant un haut niveau de performance,\n",
        "* ce qui le rend adapté à un entraînement sur machine locale avec des ressources limitées (GPU de petite capacité par exemple).\n",
        "\n",
        "Dans ce projet, nous utiliserons un dataset de type **classification binaire** (par exemple *IMDb Reviews*), permettant de mettre en œuvre un pipeline complet :\n",
        "\n",
        "* **Préparation des données** (tokenisation, séparation train/validation)\n",
        "* **Fine-tuning** du modèle DistilBERT\n",
        "* **Évaluation et analyse des performances**"
      ]
    },
    {
      "cell_type": "markdown",
      "id": "f7060af9",
      "metadata": {
        "id": "f7060af9"
      },
      "source": [
        "## Préparation de l’environnement\n",
        "\n",
        "Dans cette section, l’ensemble des bibliothèques nécessaires au projet est importé. Elles couvrent :\n",
        "\n",
        "* **Gestion et exploration de données** : `datasets`, `numpy`, `random`, `json`, `math`, `tabulate`\n",
        "* **PyTorch** : `torch`, `torch.nn`, `torch.optim`, `DataLoader`, etc.\n",
        "* **Transformers (Hugging Face)** : modèles, tokenizers, configuration, scheduler\n",
        "* **Évaluation des performances** : métriques de `sklearn`\n",
        "* **Visualisation** : `matplotlib`, options Jupyter (`%matplotlib inline`, `InlineBackend`)\n",
        "* **Utilitaires** : `tqdm` pour le suivi des boucles"
      ]
    },
    {
      "cell_type": "code",
      "execution_count": 1,
      "id": "cbe74cbf",
      "metadata": {
        "id": "cbe74cbf"
      },
      "outputs": [],
      "source": [
        "%matplotlib inline\n",
        "%config InlineBackend.figure_formats = ['svg']\n",
        "import json\n",
        "import math\n",
        "import random\n",
        "\n",
        "import matplotlib.pyplot as plt\n",
        "import numpy as np\n",
        "import pandas as pd\n",
        "import torch\n",
        "import torch.nn as nn\n",
        "import torch.nn.functional as F\n",
        "import torch.optim as optim\n",
        "from datasets import (\n",
        "    DatasetDict,\n",
        "    Value,\n",
        "    load_dataset,\n",
        ")\n",
        "from sklearn.metrics import (\n",
        "    accuracy_score,\n",
        "    brier_score_loss,\n",
        "    classification_report,\n",
        "    confusion_matrix,\n",
        "    f1_score,\n",
        "    log_loss,\n",
        "    precision_recall_fscore_support,\n",
        ")\n",
        "from tabulate import tabulate\n",
        "from torch.nn.utils import clip_grad_norm_\n",
        "from torch.utils.data import DataLoader\n",
        "from tqdm import tqdm\n",
        "from tqdm.notebook import tqdm\n",
        "from transformers import (\n",
        "    AutoModelForSequenceClassification,\n",
        "    AutoTokenizer,\n",
        "    DistilBertConfig,\n",
        "    DistilBertForSequenceClassification,\n",
        "    DistilBertTokenizer,\n",
        "    get_linear_schedule_with_warmup,\n",
        ")"
      ]
    },
    {
      "cell_type": "markdown",
      "id": "ae1d063f",
      "metadata": {
        "id": "ae1d063f"
      },
      "source": [
        "## Préparation du dispositif et reproductibilité\n",
        "\n",
        "* La reproductibilité est assurée en fixant une **graine aléatoire** (`seed`) : avec la même graine, le mélange des données, l’initialisation des poids et d’autres opérations stochastiques donnent les mêmes résultats d’un exécutable à l’autre.\n",
        "* Le dispositif de calcul est configuré de manière à utiliser le **GPU** si disponible, ou à défaut le **CPU**.\n",
        "* L’instruction d’affichage permet de confirmer le dispositif effectivement sélectionné."
      ]
    },
    {
      "cell_type": "code",
      "execution_count": 2,
      "id": "15b01fd2",
      "metadata": {
        "colab": {
          "base_uri": "https://localhost:8080/"
        },
        "id": "15b01fd2",
        "outputId": "59c10a67-9e35-4f98-f859-8034f7544427"
      },
      "outputs": [
        {
          "output_type": "stream",
          "name": "stdout",
          "text": [
            "Using device: cuda\n"
          ]
        }
      ],
      "source": [
        "# Reproducibility\n",
        "seed = 42\n",
        "random.seed(seed)\n",
        "np.random.seed(seed)\n",
        "torch.manual_seed(seed)\n",
        "torch.cuda.manual_seed_all(seed)\n",
        "\n",
        "# Device setup\n",
        "device = torch.device(\"cuda\" if torch.cuda.is_available() else \"cpu\")\n",
        "print(\"Using device:\", device)"
      ]
    },
    {
      "cell_type": "markdown",
      "id": "14b62e36",
      "metadata": {
        "id": "14b62e36"
      },
      "source": [
        "Après la préparation de l’environnement et la mise en place des conditions de reproductibilité, l’étape suivante consiste à définir une **classe `LLMFineTuner`** qui regroupe et automatise l’ensemble du *workflow* de *fine-tuning*.\n",
        "Cette classe repose sur une composante utilitaire, la **classe `DataCollator`**, qui simplifie la préparation des batchs et contribue à la généralisation du modèle en gérant efficacement la construction des entrées."
      ]
    },
    {
      "cell_type": "markdown",
      "id": "2c8ff607",
      "metadata": {
        "id": "2c8ff607"
      },
      "source": [
        "## Définition des classes `LLMFineTuner` et `DataCollator`\n",
        "\n"
      ]
    },
    {
      "cell_type": "markdown",
      "id": "UcfKY8PoKBHN",
      "metadata": {
        "id": "UcfKY8PoKBHN"
      },
      "source": [
        "### Classe `DataCollator`\n",
        "\n",
        "La classe `DataCollator` est une composante utilitaire qui s'occupe de la préparation des batchs de données.\n",
        "Elle a pour rôle de :\n",
        "\n",
        "- gérer la **tokenisation et le padding dynamique** des séquences,\n",
        "- regrouper les exemples sous forme de batchs compatibles avec PyTorch,\n",
        "- fournir un format uniforme des entrées pour l'entraînement et l'évaluation du modèle.\n",
        "\n",
        "Cette classe permet d'isoler la logique de prétraitement des données afin d'alléger l'implémentation du pipeline principal."
      ]
    },
    {
      "cell_type": "code",
      "execution_count": 3,
      "id": "a8796aeb",
      "metadata": {
        "id": "a8796aeb"
      },
      "outputs": [],
      "source": [
        "class DataCollator:\n",
        "    \"\"\"\n",
        "    Regroupe et organise les exemples en batchs pour le fine-tuning.\n",
        "\n",
        "    Cette classe :\n",
        "    - applique un padding dynamique des séquences en fonction du batch,\n",
        "    - prépare les tenseurs nécessaires (input_ids, attention_mask, labels),\n",
        "    - retourne un dictionnaire prêt à être passé au modèle Hugging Face.\n",
        "    \"\"\"\n",
        "\n",
        "    def __init__(self, tokenizer):\n",
        "        self.tokenizer = tokenizer\n",
        "\n",
        "    def __call__(\n",
        "        self, batch, max_length=256, padding=\"longest\", return_tensors=\"pt\"\n",
        "    ) -> dict[str, torch.Tensor]:\n",
        "        \"\"\"\n",
        "        Prépare un batch de données pour le modèle.\n",
        "\n",
        "        Applique un padding dynamique via `tokenizer.pad` et retourne\n",
        "        les tenseurs nécessaires : input_ids, attention_mask et labels.\n",
        "        \"\"\"\n",
        "        return self.tokenizer.pad(\n",
        "            batch,\n",
        "            padding=padding,\n",
        "            max_length=max_length,\n",
        "            return_tensors=return_tensors,\n",
        "        )"
      ]
    },
    {
      "cell_type": "markdown",
      "id": "408a16d4",
      "metadata": {
        "id": "408a16d4"
      },
      "source": [
        "### Classe `LLMFineTuner`\n",
        "\n",
        "La classe `LLMFineTuner` implémente l’ensemble du **pipeline de fine-tuning** pour un modèle DistilBERT appliqué à la classification de textes.\n",
        "Elle centralise toutes les étapes :\n",
        "\n",
        "* chargement et préparation du dataset,\n",
        "* initialisation du tokenizer, du modèle et du data collator,\n",
        "* configuration de l’optimiseur et du scheduler,\n",
        "* entraînement, validation et évaluation du modèle,\n",
        "* inférence sur de nouveaux exemples.\n",
        "\n",
        "Grâce à cette classe, le workflow est rendu **plus modulaire, lisible et réutilisable**, facilitant les expérimentations et la reproductibilité.\n",
        "\n",
        "## Méthodes de la classe `LLMFineTuner`\n",
        "\n",
        "| Étape                        | Méthode(s)                                                          | Rôle                                                                            |\n",
        "| ---------------------------- | ------------------------------------------------------------------- | ----------------------------------------------------------------------------------------- |\n",
        "| **1. Initialisation**        | `__init__`                                                          | Initialise les attributs de la classe (dataset, modèle, tokenizer, device, etc.).         |\n",
        "| **2. Dataset & Tokenizer**   | `set_dataset`<br>`set_tokenizer`                                    | Chargement du dataset et préparation du tokenizer.                                        |\n",
        "| **3. Pré-processing**        | `split_dataset`<br>`set_data_collator`<br>`set_loaders`             | Prétraitement des données : sous-échantillonnage, tokenisation, création des DataLoaders. |\n",
        "| **4. Modèle**                | `set_model`                                                         | Chargement du modèle pré-entraîné (DistilBERT).                                           |\n",
        "| **5. Optimisation**          | `set_optimizer`<br>`set_scheduler`<br>`set_optimizer_and_scheduler` | Configuration de l’optimiseur et du scheduler d’apprentissage.                            |\n",
        "| **6. Entraînement et Evaluation** | `train_and_validate`<br>`evaluate`<br>`count_parameters`            | Entraînement, validation, évaluation et inspection du modèle.                             |\n",
        "| **7. Inférence**             | `predict_sentiment`<br>`predict_batch`                              | Prédiction sur un texte unique ou sur un lot de textes.                                   |\n",
        "| **8. Orchestration**         | `workflow`                                                          | Pipeline complet en mode entraînement, évaluation ou inférence.                           |"
      ]
    },
    {
      "cell_type": "code",
      "execution_count": 4,
      "id": "84ab9e42",
      "metadata": {
        "id": "84ab9e42"
      },
      "outputs": [],
      "source": [
        "class LLMFineTuner:\n",
        "    \"\"\"\n",
        "    Fine-tuning pipeline for DistilBERT sentiment classification.\n",
        "\n",
        "    Pipeline steps:\n",
        "    1. Initialisation\n",
        "        - __init__\n",
        "\n",
        "    2. Dataset & Tokenizer\n",
        "        - set_dataset\n",
        "        - set_tokenizer\n",
        "\n",
        "    3. Pre-processing\n",
        "        - split_dataset (needs set_dataset)\n",
        "        - set_data_collator\n",
        "        - set_loaders (needs split_dataset, set_data_collator)\n",
        "\n",
        "    4. Model\n",
        "        - set_model\n",
        "\n",
        "    5. Optimization\n",
        "        - set_optimizer\n",
        "        - set_scheduler (needs set_optimizer, set_loaders)\n",
        "        - set_optimizer_and_scheduler\n",
        "\n",
        "    6. Training & Evaluation\n",
        "        - train_and_validate\n",
        "        - evaluate\n",
        "        - count_parameters\n",
        "\n",
        "    7. Inference\n",
        "        - predict_sentiment\n",
        "        - predict_batch\n",
        "\n",
        "    8. Workflow Orchestrator\n",
        "        - workflow\n",
        "    \"\"\"\n",
        "\n",
        "    # =========================\n",
        "    # 1. INITIALISATION\n",
        "    # =========================\n",
        "\n",
        "    def __init__(\n",
        "        self,\n",
        "        dataset=\"scikit-learn/imdb\",\n",
        "        model_cls=DistilBertForSequenceClassification,\n",
        "        num_labels=2,  # \"negative\" (0) and \"positive\" (1)\n",
        "        pretrained_model_name_or_path=\"distilbert-base-uncased\",\n",
        "        tokenizer_cls=DistilBertTokenizer,\n",
        "    ):\n",
        "        # Données\n",
        "        self.dataset = dataset\n",
        "        self.train_set = None\n",
        "        self.valid_set = None\n",
        "\n",
        "        # DataLoader\n",
        "        self.data_collator = None\n",
        "        self.train_loader = None\n",
        "        self.valid_loader = None\n",
        "\n",
        "        # Modèle et tokenisation\n",
        "        self.tokenizer_cls = tokenizer_cls\n",
        "        self.model_cls = model_cls\n",
        "        self.num_labels = num_labels\n",
        "        self.pretrained_model_name_or_path = pretrained_model_name_or_path\n",
        "\n",
        "        # Environnement\n",
        "        self.device = torch.device(\n",
        "            \"cuda\" if torch.cuda.is_available() else \"cpu\"\n",
        "        )\n",
        "\n",
        "    # =========================\n",
        "    # 2. DATASET & TOKENIZER\n",
        "    # =========================\n",
        "    def set_dataset(self, verbose=False) -> None:\n",
        "        self.dataset = load_dataset(self.dataset)\n",
        "\n",
        "        # Récupération des colonnes\n",
        "        cols = self.dataset[\"train\"].column_names\n",
        "\n",
        "        # Uniformiser les colonnes\n",
        "        if \"review\" not in cols:\n",
        "            self.dataset = self.dataset.rename_column(cols[0], \"review\")\n",
        "        if \"sentiment\" not in cols:\n",
        "            self.dataset = self.dataset.rename_column(cols[1], \"sentiment\")\n",
        "\n",
        "        # Normaliser les labels en entiers 0/1\n",
        "        example_val = self.dataset[\"train\"][0][\"sentiment\"]\n",
        "\n",
        "        if isinstance(example_val, str):  # IMDB\n",
        "\n",
        "            def map_labels(example):\n",
        "                example[\"sentiment\"] = (\n",
        "                    0 if example[\"sentiment\"].lower() == \"negative\" else 1\n",
        "                )\n",
        "                return example\n",
        "\n",
        "            # on caste en int après mapping\n",
        "            self.dataset = self.dataset.map(map_labels).cast_column(\n",
        "                \"sentiment\", Value(\"int64\")\n",
        "            )\n",
        "\n",
        "        elif isinstance(example_val, int):  # RottenTomatoes ou autre déjà 0/1\n",
        "            # on s’assure juste que c’est bien un entier\n",
        "            self.dataset = self.dataset.cast_column(\n",
        "                \"sentiment\", Value(\"int64\")\n",
        "            )\n",
        "\n",
        "        if verbose:\n",
        "            print(\n",
        "                f\"Dataset loaded and normalized :\\n\"\n",
        "                f\"{self.dataset}\\n\"\n",
        "                f\"with {len(self.dataset['train'])} training examples.\"\n",
        "            )\n",
        "\n",
        "    def set_tokenizer(\n",
        "        self,\n",
        "        do_lower_case=True,\n",
        "        verbose=False,\n",
        "    ) -> None:\n",
        "        self.tokenizer = self.tokenizer_cls.from_pretrained(\n",
        "            self.pretrained_model_name_or_path, do_lower_case=do_lower_case\n",
        "        )\n",
        "        if verbose:\n",
        "            print(\n",
        "                f\"Tokenizer {self.tokenizer_cls.__name__} loaded from \"\n",
        "                f\"{self.pretrained_model_name_or_path}\"\n",
        "            )\n",
        "\n",
        "    # =========================\n",
        "    # 3. PRE-PROCESSING\n",
        "    # =========================\n",
        "    def split_dataset(\n",
        "        self, max_length=256, n_samples=2000, seed=42, test_size=0.2\n",
        "    ) -> None:\n",
        "        \"\"\"\n",
        "        Prepares the dataset for training:\n",
        "\n",
        "        - Shuffles and selects a subset\n",
        "        - Tokenizes the reviews and generates input_ids and labels\n",
        "        - Removes unnecessary columns\n",
        "        - Splits into train/validation sets\n",
        "\n",
        "        Args:\n",
        "            n_samples (int): number of examples to select\n",
        "            test_size (float): proportion of the data to use for validation\n",
        "            max_length (int): maximum sequence length (truncate if longer)\n",
        "        \"\"\"\n",
        "\n",
        "        def preprocessing_fn(x, tokenizer, max_length=256):\n",
        "            text = x[\"review\"]\n",
        "            label = x[\"sentiment\"]\n",
        "\n",
        "            # Tokenisation\n",
        "            x[\"input_ids\"] = tokenizer.encode(\n",
        "                text,\n",
        "                add_special_tokens=True,\n",
        "                truncation=True,\n",
        "                max_length=max_length,\n",
        "                padding=False,\n",
        "                return_attention_mask=False,\n",
        "            )\n",
        "            x[\"labels\"] = label\n",
        "            return x\n",
        "\n",
        "        # Mélanger et sous-échantillonner\n",
        "        dataset = self.dataset[\"train\"].shuffle(seed).select(range(n_samples))\n",
        "\n",
        "        # Appliquer le prétraitement\n",
        "        dataset = dataset.map(\n",
        "            preprocessing_fn, fn_kwargs={\"tokenizer\": self.tokenizer}\n",
        "        )\n",
        "\n",
        "        # Garder uniquement les colonnes utiles\n",
        "        dataset = dataset.select_columns([\"input_ids\", \"labels\"])\n",
        "\n",
        "        # Split train / validation\n",
        "        splitted = dataset.train_test_split(test_size=test_size)\n",
        "\n",
        "        self.train_set = splitted[\"train\"]\n",
        "        self.valid_set = splitted[\"test\"]\n",
        "\n",
        "    def set_data_collator(self) -> None:\n",
        "        self.data_collator = DataCollator(self.tokenizer)\n",
        "\n",
        "    def set_loaders(self, train_batch_size=4, eval_batch_size=4) -> None:\n",
        "        if not self.data_collator:\n",
        "            raise ValueError(\"Data collator must be set before data loaders.\")\n",
        "        if not self.train_set or not self.valid_set:\n",
        "            raise ValueError(\"Dataset must be split before data loaders.\")\n",
        "        self.train_loader = DataLoader(\n",
        "            batch_size=train_batch_size,\n",
        "            collate_fn=self.data_collator,\n",
        "            dataset=self.train_set,\n",
        "            shuffle=True,\n",
        "        )\n",
        "        self.valid_loader = DataLoader(\n",
        "            batch_size=eval_batch_size,\n",
        "            collate_fn=self.data_collator,\n",
        "            dataset=self.valid_set,\n",
        "            shuffle=False,\n",
        "        )\n",
        "        self.n_valid = len(self.valid_set)\n",
        "        self.n_train = len(self.train_set)\n",
        "\n",
        "    def make_loader_for_tokenizer(\n",
        "        self, split, max_len=256, batch_size=8, shuffle=False\n",
        "    ):\n",
        "        \"\"\"\n",
        "        Create a DataLoader for a given dataset split and the instance\n",
        "        tokenizer.\n",
        "\n",
        "        Args:\n",
        "            split (Dataset): Hugging Face dataset split\n",
        "            max_len (int): maximum sequence length for truncation\n",
        "            batch_size (int): batch size\n",
        "            shuffle (bool): shuffle data before batching\n",
        "\n",
        "        Returns:\n",
        "            DataLoader: PyTorch DataLoader with dynamic padding\n",
        "        \"\"\"\n",
        "\n",
        "        def encode(batch):\n",
        "            out = self.tokenizer(\n",
        "                batch[\"text\"],\n",
        "                truncation=True,\n",
        "                max_length=max_len,\n",
        "                padding=False,\n",
        "            )\n",
        "            out[\"labels\"] = batch[\"label\"]\n",
        "            return out\n",
        "\n",
        "        # Tokenize the dataset\n",
        "        ds_tok = split.map(\n",
        "            encode, batched=True, remove_columns=split.column_names\n",
        "        )\n",
        "\n",
        "        # Dynamic padding in collate\n",
        "        def collate_fn(batch):\n",
        "            return self.tokenizer.pad(\n",
        "                batch,\n",
        "                padding=\"longest\",\n",
        "                max_length=max_len,\n",
        "                return_tensors=\"pt\",\n",
        "            )\n",
        "\n",
        "        return DataLoader(\n",
        "            ds_tok,\n",
        "            batch_size=batch_size,\n",
        "            shuffle=shuffle,\n",
        "            collate_fn=collate_fn,\n",
        "        )\n",
        "\n",
        "    # =========================\n",
        "    # 4. MODELE\n",
        "    # =========================\n",
        "    def set_model(\n",
        "        self,\n",
        "        verbose=False,\n",
        "    ) -> None:\n",
        "        model = self.model_cls.from_pretrained(\n",
        "            pretrained_model_name_or_path=self.pretrained_model_name_or_path,\n",
        "            num_labels=self.num_labels,\n",
        "        )\n",
        "        self.model = model.to(self.device)\n",
        "        if verbose:\n",
        "            print(\n",
        "                f\"Model {self.model_cls.__name__} loaded with \"\n",
        "                f\"{self.model.num_labels} labels.\"\n",
        "            )\n",
        "\n",
        "    # =========================\n",
        "    # 5. OPTIMIZATION\n",
        "    # =========================\n",
        "    def set_optimizer(\n",
        "        self,\n",
        "        learning_rate=5e-5,\n",
        "        weight_decay=0.01,\n",
        "    ) -> None:\n",
        "        # AdamW is a variant of Adam that includes weight decay\n",
        "        self.optimizer = optim.AdamW(\n",
        "            self.model.parameters(),\n",
        "            lr=learning_rate,\n",
        "            weight_decay=weight_decay,\n",
        "        )\n",
        "\n",
        "    def set_scheduler(\n",
        "        self,\n",
        "        num_epochs=3,\n",
        "    ) -> None:\n",
        "        if not self.optimizer:\n",
        "            raise ValueError(\"Optimizer must be set before the scheduler.\")\n",
        "        if not self.train_loader:\n",
        "            raise ValueError(\"Data loaders must be set before scheduler.\")\n",
        "        # Total training steps = number of batches * number of epochs\n",
        "        self.num_total_steps = len(self.train_loader) * num_epochs\n",
        "        self.num_warmup_steps = int(0.1 * self.num_total_steps)\n",
        "        self.scheduler = get_linear_schedule_with_warmup(\n",
        "            self.optimizer,\n",
        "            num_warmup_steps=self.num_warmup_steps,\n",
        "            num_training_steps=self.num_total_steps,\n",
        "        )\n",
        "\n",
        "    def set_optimizer_and_scheduler(\n",
        "        self,\n",
        "        learning_rate=5e-5,\n",
        "        num_epochs=3,\n",
        "        weight_decay=0.01,\n",
        "        verbose=False,\n",
        "    ) -> None:\n",
        "        self.set_optimizer(learning_rate, weight_decay)\n",
        "        self.set_scheduler(num_epochs)\n",
        "        if verbose:\n",
        "            print(\n",
        "                f\"Optimizer and scheduler set with {self.num_total_steps} \"\n",
        "                f\"training steps and {self.num_warmup_steps} warmup steps.\"\n",
        "            )\n",
        "\n",
        "    # =========================\n",
        "    # 6. TRAINING & EVALUATION\n",
        "    # =========================\n",
        "    def train_and_validate(\n",
        "        self, epochs=3, max_grad_norm=1.0, save_dir=\"./distilbert-best\"\n",
        "    ) -> None:\n",
        "        \"\"\"\n",
        "        Trains and validates the model for a given number of epochs.\n",
        "\n",
        "        - Performs forward/backward passes with gradient clipping\n",
        "        - Updates optimizer and scheduler\n",
        "        - Evaluates on validation set at the end of each epoch\n",
        "        - Saves the best model checkpoint based on validation loss\n",
        "\n",
        "        Args:\n",
        "            epochs (int): number of epochs to train\n",
        "            max_grad_norm (float): gradient clipping norm\n",
        "            save_dir (str): directory to save the best model\n",
        "        \"\"\"\n",
        "        best_val_loss = float(\"inf\")\n",
        "        self.history = {\"train_loss\": [], \"val_loss\": [], \"val_acc\": []}\n",
        "        for epoch in range(1, epochs + 1):\n",
        "            print(f\"\\nEpoch {epoch}/{epochs}\")\n",
        "\n",
        "            # -------- TRAIN --------\n",
        "            total_train_loss = 0.0\n",
        "            self.model.train()\n",
        "            for batch in self.train_loader:\n",
        "                # move batch tensors to device\n",
        "                batch = {k: v.to(self.device) for k, v in batch.items()}\n",
        "\n",
        "                self.optimizer.zero_grad(set_to_none=True)\n",
        "\n",
        "                # forward pass (returns loss when 'labels' is provided)\n",
        "                outputs = self.model(**batch)\n",
        "                loss = outputs.loss\n",
        "                total_train_loss += loss.item()\n",
        "\n",
        "                # backward pass\n",
        "                loss.backward()\n",
        "\n",
        "                # gradient clipping\n",
        "                clip_grad_norm_(\n",
        "                    self.model.parameters(), max_norm=max_grad_norm\n",
        "                )\n",
        "\n",
        "                # optimizer + scheduler step\n",
        "                self.optimizer.step()\n",
        "                self.scheduler.step()\n",
        "\n",
        "            avg_train_loss = total_train_loss / len(self.train_loader)\n",
        "            self.history[\"train_loss\"].append(avg_train_loss)\n",
        "            print(f\"  Training loss: {avg_train_loss:.4f}\")\n",
        "\n",
        "            # -------- VALIDATE --------\n",
        "            self.model.eval()\n",
        "            total_val_loss = 0.0\n",
        "            correct = 0\n",
        "            total = 0\n",
        "\n",
        "            with torch.no_grad():\n",
        "                for batch in self.valid_loader:\n",
        "                    batch = {k: v.to(self.device) for k, v in batch.items()}\n",
        "\n",
        "                    outputs = self.model(**batch)\n",
        "                    loss = outputs.loss\n",
        "                    logits = outputs.logits\n",
        "\n",
        "                    total_val_loss += loss.item()\n",
        "\n",
        "                    preds = logits.argmax(dim=-1)\n",
        "                    correct += (preds == batch[\"labels\"]).sum().item()\n",
        "                    total += batch[\"labels\"].size(0)\n",
        "\n",
        "            avg_val_loss = total_val_loss / len(self.valid_loader)\n",
        "            val_acc = correct / total if total > 0 else 0.0\n",
        "            self.history[\"val_loss\"].append(avg_val_loss)\n",
        "            self.history[\"val_acc\"].append(val_acc)\n",
        "            print(\n",
        "                f\"  Validation loss: {avg_val_loss:.4f} | Accuracy: {val_acc:.4f}\"\n",
        "            )\n",
        "\n",
        "            # save best checkpoint\n",
        "            if avg_val_loss < best_val_loss:\n",
        "                best_val_loss = avg_val_loss\n",
        "                self.model.save_pretrained(save_dir)\n",
        "                self.tokenizer.save_pretrained(save_dir)\n",
        "                print(f\"Saved new best model to {save_dir}\")\n",
        "\n",
        "    def evaluate(self) -> dict[str, object]:\n",
        "        if not self.valid_loader:\n",
        "            raise ValueError(\"Data loaders must be set before evaluation.\")\n",
        "        if not self.model:\n",
        "            raise ValueError(\"Model must be set before evaluation.\")\n",
        "        self.model.eval()\n",
        "        all_preds = []\n",
        "        all_labels = []\n",
        "        with torch.no_grad():\n",
        "            for batch in self.valid_loader:\n",
        "                batch = {k: v.to(self.device) for k, v in batch.items()}\n",
        "                outputs = self.model(**batch)\n",
        "                logits = outputs.logits\n",
        "                preds = logits.argmax(dim=-1).cpu().numpy()\n",
        "                labels = batch[\"labels\"].cpu().numpy()\n",
        "                all_preds.extend(preds)\n",
        "                all_labels.extend(labels)\n",
        "        accuracy = accuracy_score(all_labels, all_preds)\n",
        "        cm = confusion_matrix(all_labels, all_preds)\n",
        "        f1 = f1_score(all_labels, all_preds)\n",
        "        report = classification_report(\n",
        "            all_labels, all_preds, target_names=[\"negative\", \"positive\"]\n",
        "        )\n",
        "        return {\n",
        "            \"accuracy\": accuracy,\n",
        "            \"classification_report\": report,\n",
        "            \"confusion_matrix\": cm.tolist(),\n",
        "            \"f1_score\": f1,\n",
        "        }\n",
        "\n",
        "    def count_parameters(self) -> tuple[int, int]:\n",
        "        total = sum(p.numel() for p in self.model.parameters())\n",
        "        trainable = sum(\n",
        "            p.numel() for p in self.model.parameters() if p.requires_grad\n",
        "        )\n",
        "        return total, trainable\n",
        "\n",
        "    def plot_history(self) -> None:\n",
        "        \"\"\"\n",
        "        Affiche les courbes d'apprentissage (loss et accuracy) enregistrées\n",
        "        pendant l'entraînement.\n",
        "        \"\"\"\n",
        "        if not hasattr(self, \"history\") or not self.history:\n",
        "            raise ValueError(\n",
        "                \"Aucun historique trouvé. Lancez train_and_validate() d'abord.\"\n",
        "            )\n",
        "\n",
        "        epochs = range(1, len(self.history[\"train_loss\"]) + 1)\n",
        "\n",
        "        plt.figure(figsize=(12, 4))\n",
        "\n",
        "        # Courbe de loss\n",
        "        plt.subplot(1, 2, 1)\n",
        "        plt.plot(\n",
        "            epochs, self.history[\"train_loss\"], label=\"Train Loss\", marker=\"o\"\n",
        "        )\n",
        "        plt.plot(\n",
        "            epochs,\n",
        "            self.history[\"val_loss\"],\n",
        "            label=\"Validation Loss\",\n",
        "            marker=\"o\",\n",
        "        )\n",
        "        plt.xlabel(\"Epochs\")\n",
        "        plt.ylabel(\"Loss\")\n",
        "        plt.title(\"Training vs Validation Loss\")\n",
        "        plt.legend()\n",
        "        plt.grid(True)\n",
        "\n",
        "        # Courbe d'accuracy\n",
        "        plt.subplot(1, 2, 2)\n",
        "        plt.plot(\n",
        "            epochs,\n",
        "            self.history[\"val_acc\"],\n",
        "            label=\"Validation Accuracy\",\n",
        "            marker=\"o\",\n",
        "            color=\"green\",\n",
        "        )\n",
        "        plt.xlabel(\"Epochs\")\n",
        "        plt.ylabel(\"Accuracy\")\n",
        "        plt.title(\"Validation Accuracy over Epochs\")\n",
        "        plt.legend()\n",
        "        plt.grid(True)\n",
        "\n",
        "        plt.show()\n",
        "\n",
        "\n",
        "    def zero_shot_evaluate(\n",
        "        self,\n",
        "        model_path: str,\n",
        "        dataset_split,\n",
        "        max_len: int = 256,\n",
        "        batch_size: int = 8,\n",
        "        verbose: bool = True,\n",
        "    ):\n",
        "        \"\"\"\n",
        "        Zero-shot evaluation of a pretrained model on a new dataset split.\n",
        "\n",
        "        Args:\n",
        "            model_path (str): chemin vers le modèle fine-tuné (ex: \"./roberta-best\")\n",
        "            dataset_split (Dataset): split du dataset HF (ex: rt[\"validation\"])\n",
        "            max_len (int): longueur max des séquences (troncature)\n",
        "            batch_size (int): taille de batch\n",
        "            verbose (bool): affiche les résultats si True\n",
        "\n",
        "        Returns:\n",
        "            dict: metrics {\"threshold\", \"accuracy\", \"macro_f1\", \"cm\", \"per_class\"}\n",
        "        \"\"\"\n",
        "        # Charger modèle + tokenizer depuis le chemin\n",
        "        self.pretrained_model_name_or_path = model_path\n",
        "        self.set_tokenizer()\n",
        "        self.set_model()\n",
        "\n",
        "        # Créer DataLoader sur le split donné\n",
        "        dl = self.make_loader_for_tokenizer(dataset_split, max_len=max_len, batch_size=batch_size)\n",
        "\n",
        "        # Collecte probs + labels\n",
        "        probs, labels = self.collect_probs_labels(dl)\n",
        "\n",
        "        # Trouver le seuil optimal pour macro-F1\n",
        "        thr, best_f1 = self.tune_threshold_macro_f1(probs, labels)\n",
        "\n",
        "        # Évaluer aux métriques\n",
        "        acc, macro_f1, cm, per_cls = self.eval_at_threshold(probs, labels, thr)\n",
        "\n",
        "        results = {\n",
        "            \"threshold\": thr,\n",
        "            \"accuracy\": acc,\n",
        "            \"macro_f1\": macro_f1,\n",
        "            \"confusion_matrix\": cm,\n",
        "            \"per_class\": per_cls,\n",
        "        }\n",
        "\n",
        "        if verbose:\n",
        "            print(f\"\\n=== Zero-shot Evaluation on new dataset ===\")\n",
        "            print(f\"Model: {model_path}\")\n",
        "            print(f\"Best threshold={thr:.2f} | Acc={acc:.4f} | MacroF1={macro_f1:.4f}\")\n",
        "            print(\"Confusion matrix:\\n\", cm)\n",
        "            print(\"Per-class (neg, pos) — Precision, Recall, F1:\\n\", per_cls)\n",
        "\n",
        "        return results\n",
        "\n",
        "    # =========================\n",
        "    # 7. INFERENCE\n",
        "    # =========================\n",
        "    def predict_sentiment(self, text) -> dict[str, object]:\n",
        "        # Tokenize the input\n",
        "        inputs = self.tokenizer(\n",
        "            text,\n",
        "            add_special_tokens=True,\n",
        "            truncation=True,\n",
        "            max_length=256,\n",
        "            padding=\"max_length\",  # pad single example\n",
        "            return_tensors=\"pt\",\n",
        "        )\n",
        "        inputs = {k: v.to(self.device) for k, v in inputs.items()}\n",
        "\n",
        "        # Forward pass\n",
        "        with torch.no_grad():\n",
        "            outputs = self.model(**inputs)\n",
        "            logits = outputs.logits\n",
        "            probs = torch.softmax(logits, dim=-1).cpu().numpy()[0]\n",
        "\n",
        "        # Get predicted label\n",
        "        pred_label = int(logits.argmax(dim=-1).cpu().item())\n",
        "        label_str = \"positive\" if pred_label == 1 else \"negative\"\n",
        "\n",
        "        return {\n",
        "            \"text\": text,\n",
        "            \"pred_label\": label_str,\n",
        "            \"probabilities\": {\n",
        "                \"negative\": float(probs[0]),\n",
        "                \"positive\": float(probs[1]),\n",
        "            },\n",
        "        }\n",
        "\n",
        "    def predict_batch(self, texts, max_length=256) -> list[dict[str, object]]:\n",
        "        \"\"\"\n",
        "        Predict sentiment for a batch of texts (list of strings).\n",
        "\n",
        "        Returns a list of dicts with labels and probabilities.\n",
        "        \"\"\"\n",
        "        # Tokenize the whole batch at once\n",
        "        inputs = self.tokenizer(\n",
        "            texts,\n",
        "            add_special_tokens=True,\n",
        "            truncation=True,\n",
        "            max_length=max_length,\n",
        "            padding=True,  # pad to longest in batch\n",
        "            return_tensors=\"pt\",\n",
        "        )\n",
        "        inputs = {k: v.to(self.device) for k, v in inputs.items()}\n",
        "\n",
        "        # Forward pass\n",
        "        with torch.no_grad():\n",
        "            outputs = self.model(**inputs)\n",
        "            logits = outputs.logits\n",
        "            probs = torch.softmax(logits, dim=-1).cpu().numpy()\n",
        "\n",
        "        # Decode predictions\n",
        "        results = []\n",
        "        for text, prob in zip(texts, probs):\n",
        "            pred_label = int(prob.argmax())\n",
        "            label_str = \"positive\" if pred_label == 1 else \"negative\"\n",
        "            results.append(\n",
        "                {\n",
        "                    \"text\": text,\n",
        "                    \"pred_label\": label_str,\n",
        "                    \"probabilities\": {\n",
        "                        \"negative\": float(prob[0]),\n",
        "                        \"positive\": float(prob[1]),\n",
        "                    },\n",
        "                }\n",
        "            )\n",
        "        return results\n",
        "\n",
        "    # =========================\n",
        "    # 8. WORKFLOW ORCHESTRATOR\n",
        "    # =========================\n",
        "    def workflow(\n",
        "        self,\n",
        "        mode=\"train\",\n",
        "        # kwargs pour chaque étape\n",
        "        set_dataset_kwargs: dict = None,\n",
        "        set_tokenizer_kwargs: dict = None,\n",
        "        split_dataset_kwargs: dict = None,\n",
        "        set_data_collator_kwargs: dict = None,\n",
        "        set_loaders_kwargs: dict = None,\n",
        "        set_model_kwargs: dict = None,\n",
        "        set_optimizer_kwargs: dict = None,\n",
        "        set_scheduler_kwargs: dict = None,\n",
        "        set_optimizer_and_scheduler_kwargs: dict = None,\n",
        "        train_and_validate_kwargs: dict = None,\n",
        "        evaluate_kwargs: dict = None,\n",
        "        predict_sentiment_kwargs: dict = None,\n",
        "        predict_batch_kwargs: dict = None,\n",
        "    ) -> None:\n",
        "        \"\"\"\n",
        "        Run the full workflow depending on mode.\n",
        "\n",
        "        Each step can receive its own kwargs dict, e.g.: workflow(mode=\"train\",\n",
        "        split_dataset_kwargs={\"max_length\":512, \"n_samples\":5000})\n",
        "        \"\"\"\n",
        "\n",
        "        # Initialisation des kwargs vides\n",
        "        set_dataset_kwargs = set_dataset_kwargs or {}\n",
        "        set_tokenizer_kwargs = set_tokenizer_kwargs or {}\n",
        "        split_dataset_kwargs = split_dataset_kwargs or {}\n",
        "        set_data_collator_kwargs = set_data_collator_kwargs or {}\n",
        "        set_loaders_kwargs = set_loaders_kwargs or {}\n",
        "        set_model_kwargs = set_model_kwargs or {}\n",
        "        set_optimizer_kwargs = set_optimizer_kwargs or {}\n",
        "        set_scheduler_kwargs = set_scheduler_kwargs or {}\n",
        "        set_optimizer_and_scheduler_kwargs = (\n",
        "            set_optimizer_and_scheduler_kwargs or {}\n",
        "        )\n",
        "        train_and_validate_kwargs = train_and_validate_kwargs or {}\n",
        "        evaluate_kwargs = evaluate_kwargs or {}\n",
        "        predict_sentiment_kwargs = predict_sentiment_kwargs or {}\n",
        "        predict_batch_kwargs = predict_batch_kwargs or {}\n",
        "\n",
        "        if mode == \"train\":\n",
        "            print(\"Starting training workflow...\")\n",
        "\n",
        "            # 1. Dataset\n",
        "            self.set_dataset(**set_dataset_kwargs)\n",
        "\n",
        "            # 2. Tokenizer\n",
        "            self.set_tokenizer(**set_tokenizer_kwargs)\n",
        "\n",
        "            # 3. Préprocessing\n",
        "            self.split_dataset(**split_dataset_kwargs)\n",
        "            self.set_data_collator(**set_data_collator_kwargs)\n",
        "            self.set_loaders(**set_loaders_kwargs)\n",
        "\n",
        "            # 4. Modèle, optim & scheduler\n",
        "            self.set_model(**set_model_kwargs)\n",
        "            self.set_optimizer_and_scheduler(\n",
        "                **set_optimizer_and_scheduler_kwargs\n",
        "            )\n",
        "\n",
        "            # 5. Entraînement\n",
        "            self.train_and_validate(**train_and_validate_kwargs)\n",
        "\n",
        "        elif mode == \"evaluation\":\n",
        "            print(\"Starting evaluation workflow...\")\n",
        "            self.set_dataset(**set_dataset_kwargs)\n",
        "            self.set_tokenizer(**set_tokenizer_kwargs)\n",
        "            self.split_dataset(**split_dataset_kwargs)\n",
        "            self.set_data_collator(**set_data_collator_kwargs)\n",
        "            self.set_loaders(**set_loaders_kwargs)\n",
        "            self.set_model(**set_model_kwargs)\n",
        "            self.model.eval()\n",
        "            return self.evaluate(**evaluate_kwargs)\n",
        "\n",
        "        elif mode == \"inference\":\n",
        "            print(\"Starting inference workflow...\")\n",
        "            self.set_tokenizer(**set_tokenizer_kwargs)\n",
        "            self.set_model(**set_model_kwargs)\n",
        "            self.model.eval()\n",
        "\n",
        "        else:\n",
        "            raise ValueError(\n",
        "                \"mode must be 'train', 'evaluation' or 'inference'\"\n",
        "            )\n",
        "\n",
        "    # =========================\n",
        "    # 9. THRESHOLD-BASED EVALUATION\n",
        "    # =========================\n",
        "\n",
        "    def collect_probs_labels(self, dataloader=None):\n",
        "        \"\"\"\n",
        "        Collect predicted probabilities (for positive class) and labels from\n",
        "        the model on a given dataloader.\n",
        "        \"\"\"\n",
        "        dataloader = dataloader or self.valid_loader\n",
        "        self.model.eval()\n",
        "        probs, labels = [], []\n",
        "        with torch.no_grad():\n",
        "            for b in dataloader:\n",
        "                b = {k: v.to(self.device) for k, v in b.items()}\n",
        "                logits = self.model(**b).logits\n",
        "                p = logits.softmax(-1)[:, 1].cpu().numpy()\n",
        "                probs.extend(p)\n",
        "                labels.extend(b[\"labels\"].cpu().numpy())\n",
        "        return np.array(probs), np.array(labels)\n",
        "\n",
        "    @staticmethod\n",
        "    def tune_threshold_macro_f1(probs, labels, grid=np.linspace(0.1, 0.9, 81)):\n",
        "        \"\"\"\n",
        "        Search for the threshold that maximizes macro-F1.\n",
        "        \"\"\"\n",
        "        best = max(\n",
        "            (\n",
        "                (\n",
        "                    t,\n",
        "                    f1_score(\n",
        "                        labels, (probs >= t).astype(int), average=\"macro\"\n",
        "                    ),\n",
        "                )\n",
        "                for t in grid\n",
        "            ),\n",
        "            key=lambda x: x[1],\n",
        "        )\n",
        "        return best  # (best_threshold, best_macro_f1)\n",
        "\n",
        "    @staticmethod\n",
        "    def eval_at_threshold(probs, labels, t):\n",
        "        \"\"\"\n",
        "        Compute metrics at a given threshold.\n",
        "        \"\"\"\n",
        "        preds = (probs >= t).astype(int)\n",
        "        acc = accuracy_score(labels, preds)\n",
        "        macro_f1 = f1_score(labels, preds, average=\"macro\")\n",
        "        per_cls = precision_recall_fscore_support(\n",
        "            labels, preds, average=None, labels=[0, 1]\n",
        "        )\n",
        "        cm = confusion_matrix(labels, preds, labels=[0, 1])\n",
        "        return acc, macro_f1, cm, per_cls"
      ]
    },
    {
      "cell_type": "markdown",
      "id": "6e93abc1",
      "metadata": {
        "id": "6e93abc1"
      },
      "source": [
        "## Initialisation du *fine-tuner*\n",
        "\n",
        "À ce stade, la classe `LLMFineTuner` peut être instanciée.\n",
        "L’objet créé, ici nommé `LLMFineTuner_demo`, servira de support pour l’ensemble du pipeline de fine-tuning (chargement des données, entraînement, évaluation et inférence)."
      ]
    },
    {
      "cell_type": "code",
      "execution_count": 5,
      "id": "273ea86a",
      "metadata": {
        "id": "273ea86a"
      },
      "outputs": [],
      "source": [
        "LLM_DistilBERT = LLMFineTuner()"
      ]
    },
    {
      "cell_type": "markdown",
      "id": "6ee3f6d7",
      "metadata": {
        "id": "6ee3f6d7"
      },
      "source": [
        "## Téléchargement du jeu de données d'entraînement\n",
        "\n",
        "La première étape du pipeline consiste à télécharger et charger le **jeu de données** utilisé pour le fine-tuning.\n",
        "Par défaut, le *dataset* choisi est celui des **critiques de films IMDb**, disponible directement via la librairie `datasets` de Hugging Face.\n",
        "\n",
        "Ce *dataset* contient :\n",
        "\n",
        "* des critiques textuelles de films,\n",
        "* une étiquette associée (`positive` ou `negative`),\n",
        "* et il est couramment utilisé comme *benchmark* pour la **classification de sentiments**."
      ]
    },
    {
      "cell_type": "code",
      "execution_count": 6,
      "id": "3ab06ad6",
      "metadata": {
        "colab": {
          "base_uri": "https://localhost:8080/"
        },
        "id": "3ab06ad6",
        "outputId": "ad887e69-c96a-44b6-e215-9df2ffdc1f70"
      },
      "outputs": [
        {
          "output_type": "stream",
          "name": "stderr",
          "text": [
            "/usr/local/lib/python3.12/dist-packages/huggingface_hub/utils/_auth.py:94: UserWarning: \n",
            "The secret `HF_TOKEN` does not exist in your Colab secrets.\n",
            "To authenticate with the Hugging Face Hub, create a token in your settings tab (https://huggingface.co/settings/tokens), set it as secret in your Google Colab and restart your session.\n",
            "You will be able to reuse this secret in all of your notebooks.\n",
            "Please note that authentication is recommended but still optional to access public models or datasets.\n",
            "  warnings.warn(\n"
          ]
        },
        {
          "output_type": "stream",
          "name": "stdout",
          "text": [
            "Dataset loaded and normalized :\n",
            "DatasetDict({\n",
            "    train: Dataset({\n",
            "        features: ['review', 'sentiment'],\n",
            "        num_rows: 50000\n",
            "    })\n",
            "})\n",
            "with 50000 training examples.\n"
          ]
        }
      ],
      "source": [
        "LLM_DistilBERT.set_dataset(verbose=True)"
      ]
    },
    {
      "cell_type": "markdown",
      "id": "a9126cf5",
      "metadata": {
        "id": "a9126cf5"
      },
      "source": [
        "## Préparation des entrées du modèle\n",
        "\n",
        "Le format d’entrée attendu par BERT (et donc par DistilBERT) peut sembler **sur-spécifié**, en particulier lorsqu’on l’applique à une tâche unique comme la classification de séquence, l’étiquetage de mots ou la détection de paraphrases.\n",
        "Cependant, ce format est conçu pour assurer une compatibilité large avec différentes tâches NLP.\n",
        "\n",
        "Les principales étapes sont :\n",
        "\n",
        "* **Ajout de tokens spéciaux** en début et fin de séquence (par ex. `[CLS]`, `[SEP]`),\n",
        "* **Troncature ou padding** des phrases afin qu’elles aient toutes une **longueur constante**,\n",
        "* **Construction du masque d’attention** (`attention mask`) pour distinguer les tokens réels du padding."
      ]
    },
    {
      "cell_type": "code",
      "execution_count": 7,
      "id": "008c1122",
      "metadata": {
        "colab": {
          "base_uri": "https://localhost:8080/"
        },
        "id": "008c1122",
        "outputId": "db1393c5-3dd0-49c0-c849-073c31e75b34"
      },
      "outputs": [
        {
          "output_type": "stream",
          "name": "stdout",
          "text": [
            "Tokenizer DistilBertTokenizer loaded from distilbert-base-uncased\n"
          ]
        }
      ],
      "source": [
        "LLM_DistilBERT.set_tokenizer(verbose=True)"
      ]
    },
    {
      "cell_type": "markdown",
      "id": "5b42be62",
      "metadata": {
        "id": "5b42be62"
      },
      "source": [
        "Avant d’appliquer le prétraitement à l’ensemble du dataset, il est utile de vérifier le bon fonctionnement du *tokenizer* sur une phrase simple.\n",
        "Prenons par exemple le texte suivant :\n",
        "\n",
        "```text\n",
        "\"hello my name is kevin\"\n",
        "```\n",
        "\n",
        "Cet exemple permettra d’illustrer :\n",
        "\n",
        "* la **découpe en tokens** (WordPiece),\n",
        "* la **conversion en identifiants numériques (IDs)**,\n",
        "* l’ajout automatique des **tokens spéciaux** `[CLS]` et `[SEP]`."
      ]
    },
    {
      "cell_type": "code",
      "execution_count": 8,
      "id": "072a1193",
      "metadata": {
        "colab": {
          "base_uri": "https://localhost:8080/"
        },
        "id": "072a1193",
        "outputId": "6ce9cb46-1c83-48f5-d277-3db39de3f669"
      },
      "outputs": [
        {
          "output_type": "stream",
          "name": "stdout",
          "text": [
            "Tokens in the sequence: ['hello', 'my', 'name', 'is', 'kevin']\n",
            "Encoded inputs:\n",
            "╒═════════════╤══════════╕\n",
            "│   Token IDs │ Tokens   │\n",
            "╞═════════════╪══════════╡\n",
            "│         101 │ [CLS]    │\n",
            "├─────────────┼──────────┤\n",
            "│        7592 │ hello    │\n",
            "├─────────────┼──────────┤\n",
            "│        2026 │ my       │\n",
            "├─────────────┼──────────┤\n",
            "│        2171 │ name     │\n",
            "├─────────────┼──────────┤\n",
            "│        2003 │ is       │\n",
            "├─────────────┼──────────┤\n",
            "│        4901 │ kevin    │\n",
            "├─────────────┼──────────┤\n",
            "│         102 │ [SEP]    │\n",
            "╘═════════════╧══════════╛\n"
          ]
        }
      ],
      "source": [
        "message = \"hello my name is kevin\"\n",
        "\n",
        "# Étape 1 : tokenisation (WordPiece)\n",
        "tokens = LLM_DistilBERT.tokenizer.tokenize(message)\n",
        "print(\"Tokens in the sequence:\", tokens)\n",
        "\n",
        "# Étape 2 : encodage (conversion en IDs numériques)\n",
        "input_ids = LLM_DistilBERT.tokenizer.encode(message, add_special_tokens=True)\n",
        "\n",
        "# Étape 3 : tableau alignant IDs et tokens correspondants\n",
        "table = np.array(\n",
        "    [\n",
        "        input_ids,\n",
        "        [LLM_DistilBERT.tokenizer.ids_to_tokens[w] for w in input_ids],\n",
        "    ]\n",
        ").T\n",
        "\n",
        "print(\"Encoded inputs:\")\n",
        "print(tabulate(table, headers=[\"Token IDs\", \"Tokens\"], tablefmt=\"fancy_grid\"))"
      ]
    },
    {
      "cell_type": "markdown",
      "id": "1567cac2",
      "metadata": {
        "id": "1567cac2"
      },
      "source": [
        "On remarque la présence de tokens spéciaux comme `[CLS]` et `[SEP]` dans la séquence. Ils sont ajoutés automatiquement par HuggingFace.\n",
        "\n",
        "* **`[CLS]` (classification token)** :\n",
        "  Ce token est ajouté systématiquement en début de séquence. Dans le cas d’une tâche de classification, la représentation finale associée à `[CLS]` après passage dans les couches du transformeur est utilisée comme **résumé global de la séquence**. Elle sert ensuite de base pour prédire la classe associée au texte.\n",
        "\n",
        "* **`[SEP]` (separator token)** :\n",
        "  Ce token est utilisé comme séparateur entre deux segments de texte. Dans une tâche de **classification d’une seule phrase**, sa présence est secondaire. En revanche, il devient essentiel pour des tâches impliquant plusieurs séquences, comme la **détection de paraphrases**, la **classification de paires de phrases**, ou encore les tâches de **Question Answering (Q\\&A)** où une question et un contexte doivent être distingués.\n",
        "\n",
        "Pour conclure quant au tableau obtenu ci-dessus :\n",
        "\n",
        "* le texte a bien été **découpé en sous-unités lexicales** (*tokens*),\n",
        "* chaque token est associé à un **identifiant numérique unique**,\n",
        "* les **tokens spéciaux** `[CLS]` (en début) et `[SEP]` (en fin) ont été ajoutés automatiquement par le tokenizer.\n",
        "\n",
        "Cela confirme le bon fonctionnement du *tokenizer* et illustre le format attendu des entrées pour le modèle."
      ]
    },
    {
      "cell_type": "markdown",
      "id": "9b4c242b",
      "metadata": {
        "id": "9b4c242b"
      },
      "source": [
        "## Prétraitement des données\n",
        "\n",
        "Dans cette étape, les données brutes (texte des critiques et labels de sentiment) sont transformées en un format exploitable par le modèle.\n",
        "\n",
        "Etant donné que le *padding* n’a pas été effectué dans la fonction de prétraitement, il est réalisé ici.\n",
        "\n",
        "Ainsi, le code ci-dessous permet de :\n",
        "\n",
        "1. Récupérer les `input_ids` (qui, pour l’instant, ont des longueurs différentes).\n",
        "2. Appliquer un **padding dynamique** afin que toutes les séquences aient la même longueur que la plus longue du batch (méthode efficace, qui évite un sur-padding inutile).\n",
        "3. Ajouter automatiquement un **masque d’attention** (`1` pour les vrais tokens, `0` pour le padding).\n",
        "4. Convertir le tout en **tenseurs PyTorch** (`torch.LongTensor`), directement exploitables par le modèle.\n",
        "\n",
        "Le *collator* se charge donc de :\n",
        "\n",
        "* réaliser le **padding dynamique** du batch,\n",
        "* ajouter le **masque d’attention** (`0` et `1`),\n",
        "* retourner les tenseurs dans le format attendu par le modèle.\n"
      ]
    },
    {
      "cell_type": "code",
      "execution_count": 9,
      "id": "1ecdcf1c",
      "metadata": {
        "id": "1ecdcf1c"
      },
      "outputs": [],
      "source": [
        "LLM_DistilBERT.split_dataset()"
      ]
    },
    {
      "cell_type": "code",
      "execution_count": 10,
      "id": "90ee8380",
      "metadata": {
        "id": "90ee8380"
      },
      "outputs": [],
      "source": [
        "LLM_DistilBERT.set_data_collator()"
      ]
    },
    {
      "cell_type": "code",
      "execution_count": 11,
      "id": "5a0fe1cd",
      "metadata": {
        "id": "5a0fe1cd"
      },
      "outputs": [],
      "source": [
        "LLM_DistilBERT.set_loaders()"
      ]
    },
    {
      "cell_type": "markdown",
      "id": "f1d0d0b7",
      "metadata": {
        "id": "f1d0d0b7"
      },
      "source": [
        "## Bilan du prétraitement\n",
        "\n",
        "### Étapes déjà réalisées\n",
        "\n",
        "| Étape                  | Statut | Code principal                                                      | Objectif                                                  |\n",
        "| ---------------------- | ------ | ------------------------------------------------------------------- | --------------------------------------------------------- |\n",
        "| Dataset chargé         | ✅      | `dataset = load_dataset(...)`                                       | Charger les critiques + labels de sentiment               |\n",
        "| Mélange (shuffle)      | ✅      | `dataset = dataset.shuffle()`                                       | Éviter les biais liés à l’ordre                           |\n",
        "| Sous-échantillonnage   | ✅      | `dataset.select(range(n_samples))`                                  | Travailler sur 2 000 exemples                             |\n",
        "| Tokenisation           | ✅      | `dataset.map(preprocessing_fn, fn_kwargs={\"tokenizer\": tokenizer})` | Texte → tokens, labels → numériques                       |\n",
        "| Nettoyage des colonnes | ✅      | `select_columns([\"input_ids\", \"labels\"])`                           | Garder uniquement les champs utiles                       |\n",
        "| Split train/valid      | ✅      | `train_test_split(test_size=0.2)`                                   | Créer ensembles d’entraînement et validation              |\n",
        "| Data collator          | ✅      | `DataCollator(tokenizer)`                                           | Padding dynamique + masque d’attention + tenseurs PyTorch |\n",
        "| DataLoaders            | ✅      | `DataLoader(train_set, ..., collate_fn=data_collator)`              | Préparer mini-batchs pour le modèle                       |\n",
        "\n",
        "### Étapes à venir\n",
        "\n",
        "| Étape                                    | Action attendue                                                                                                    |\n",
        "| ---------------------------------------- | ------------------------------------------------------------------------------------------------------------------ |\n",
        "| **Dispositif & reproductibilité**        | Sélectionner GPU si dispo, fixer les graines (`random`, `numpy`, `torch`).                                         |\n",
        "| **Chargement du modèle**                 | `DistilBertForSequenceClassification.from_pretrained(\"distilbert-base-uncased\", num_labels=2)` puis `.to(device)`. |\n",
        "| **Optimiseur**                           | Définir `AdamW` (LR typique : `2e-5` à `5e-5`, weight decay : `0.01`).                                             |\n",
        "| **Scheduler** (optionnel mais conseillé) | Planifier warmup + décroissance avec `get_linear_schedule_with_warmup`.                                            |\n",
        "| **Boucle d’entraînement**                | Forward pass → calcul loss → backward pass → clipping gradients → step optimizer + scheduler.                      |\n",
        "| **Boucle de validation**                 | `model.eval()`, calcul des métriques (loss, accuracy, F1).                                                         |\n",
        "| **Suivi des métriques**                  | Afficher pertes + accuracy (ajouter F1 si classes déséquilibrées).                                                 |\n",
        "| **Logging / suivi**                      | Affichage par epoch, barre de progression (`tqdm`).                                                                |\n",
        "| **Checkpointing**                        | Sauvegarder le meilleur modèle + tokenizer : `save_pretrained(\"./distilbert-best\")`.                               |\n",
        "| **Sanity checks**                        | Vérifier `[CLS]` (id=101), `[SEP]` (id=102), masque d’attention, inspection d’un batch.                            |                                              |"
      ]
    },
    {
      "cell_type": "markdown",
      "id": "4f637d98",
      "metadata": {
        "id": "4f637d98"
      },
      "source": [
        "## Chargement du modèle\n",
        "\n",
        "À ce stade, il est nécessaire de charger le modèle de base et de l’adapter à la tâche de classification :\n",
        "\n",
        "* **DistilBERT pré-entraîné** est utilisé comme modèle de départ (pré-entraînement sur le *Masked Language Modeling*).\n",
        "* Une **tête de classification** (couche linéaire) est ajoutée au-dessus de la représentation du token `[CLS]`.\n",
        "* Le paramètre `num_labels=2` est fixé pour correspondre à une tâche de **classification binaire** (*positive* / *negative*).\n",
        "* Le modèle est déplacé sur le **dispositif de calcul** défini précédemment (`cuda` si disponible, sinon `cpu`). Il est important que le modèle et les données soient sur le **même device** pour interagir correctement."
      ]
    },
    {
      "cell_type": "code",
      "execution_count": 12,
      "id": "b2fc7e3e",
      "metadata": {
        "colab": {
          "base_uri": "https://localhost:8080/"
        },
        "id": "b2fc7e3e",
        "outputId": "db55a328-ce90-42df-d729-c44fe367686a"
      },
      "outputs": [
        {
          "output_type": "stream",
          "name": "stderr",
          "text": [
            "Some weights of DistilBertForSequenceClassification were not initialized from the model checkpoint at distilbert-base-uncased and are newly initialized: ['classifier.bias', 'classifier.weight', 'pre_classifier.bias', 'pre_classifier.weight']\n",
            "You should probably TRAIN this model on a down-stream task to be able to use it for predictions and inference.\n"
          ]
        },
        {
          "output_type": "stream",
          "name": "stdout",
          "text": [
            "Model DistilBertForSequenceClassification loaded with 2 labels.\n"
          ]
        }
      ],
      "source": [
        "LLM_DistilBERT.set_model(verbose=True)"
      ]
    },
    {
      "cell_type": "markdown",
      "id": "5d34ed54",
      "metadata": {
        "id": "5d34ed54"
      },
      "source": [
        "* **DistilBERT** est pré-entraîné sur la tâche de *Masked Language Modeling* (prédiction de mots masqués).\n",
        "* La classe `DistilBertForSequenceClassification` ajoute une **tête de classification** (couche linéaire) initialisée aléatoirement.\n",
        "* L’encodeur (le cœur de DistilBERT) charge des poids pré-entraînés, mais la tête doit être **apprise à partir de notre dataset de sentiments**.\n",
        "* Pendant le fine-tuning, la sortie du token spécial `[CLS]` est utilisée comme **représentation globale de la séquence**, à partir de laquelle la tête apprend à prédire *positive* ou *negative*.\n",
        "\n",
        "Le étapes suivantes du *workflow* sont les suivantes :\n",
        "\n",
        "1. **Fine-tuning** du modèle sur le dataset IMDb réduit (2 000 exemples).\n",
        "2. **Utilisation en inférence** pour prédire le sentiment de nouvelles phrases."
      ]
    },
    {
      "cell_type": "markdown",
      "id": "f82a881d",
      "metadata": {
        "id": "f82a881d"
      },
      "source": [
        "## Optimiseur et Scheduler\n",
        "\n",
        "### Rappel sur l’optimiseur\n",
        "\n",
        "L’optimiseur est l’algorithme qui met à jour les poids du modèle au cours de l’entraînement, en fonction de la **perte calculée**.\n",
        "Dans notre cas, nous utilisons **AdamW**, une variante de l’optimiseur Adam qui :\n",
        "\n",
        "* apprend des taux d’apprentissage différents pour chaque poids,\n",
        "* applique une **pénalisation (weight decay)** afin de limiter le surapprentissage en empêchant les poids de croître excessivement.\n",
        "\n",
        "### Rappel sur le *scheduler*\n",
        "\n",
        "Le *learning rate* (taux d’apprentissage) détermine l’**amplitude des pas** effectués par l’optimiseur à chaque mise à jour des poids.\n",
        "Le *scheduler* permet de **faire évoluer dynamiquement le learning rate** au cours de l’entraînement.\n",
        "\n",
        "De manière plus intuitive :\n",
        "\n",
        "* l'optimiseur détermine la manière dont les poids sont ajustés en fonction de la perte,\n",
        "* le *scheduler* contrôle l’ampleur des pas d’apprentissage au fil des itérations."
      ]
    },
    {
      "cell_type": "code",
      "execution_count": 13,
      "id": "f2b23e08",
      "metadata": {
        "colab": {
          "base_uri": "https://localhost:8080/"
        },
        "id": "f2b23e08",
        "outputId": "c6326c99-9e95-4877-ea46-000600f1a905"
      },
      "outputs": [
        {
          "output_type": "stream",
          "name": "stdout",
          "text": [
            "Optimizer and scheduler set with 1200 training steps and 120 warmup steps.\n"
          ]
        }
      ],
      "source": [
        "LLM_DistilBERT.set_optimizer_and_scheduler(verbose=True)"
      ]
    },
    {
      "cell_type": "markdown",
      "id": "a0504a13",
      "metadata": {
        "id": "a0504a13"
      },
      "source": [
        "### Configuration de l’optimiseur et du *scheduler* – Résultats\n",
        "\n",
        "L’optimiseur et le *scheduler* ont été correctement initialisés :\n",
        "\n",
        "* Nombre total d’étapes d’entraînement : **1200**\n",
        "* Nombre d’étapes de *warmup* (taux d’apprentissage qui augmente progressivement) : **120**"
      ]
    },
    {
      "cell_type": "markdown",
      "id": "0ef6ced6",
      "metadata": {
        "id": "0ef6ced6"
      },
      "source": [
        "## Entraînement et Validation\n",
        "\n",
        "### Forward pass\n",
        "\n",
        "* Entrée : un batch de critiques, représentées par leurs `input_ids` et `attention_mask`.\n",
        "* Le modèle :\n",
        "\n",
        "  * associe chaque token à son embedding,\n",
        "  * passe les séquences dans l'encodeur DistilBERT (empilement de couches Transformers),\n",
        "  * récupère l'état caché du token spécial `[CLS]` comme **représentation globale de la phrase**,\n",
        "  * applique la tête de classification (couche linéaire) sur cette représentation,\n",
        "  * produit en sortie des **logits** : scores bruts et non normalisés pour chaque classe (*positive* / *negative*).\n",
        "\n",
        "$$\n",
        "\\text{logits} = W \\cdot h_{\\text{[CLS]}} + b\n",
        "$$\n",
        "\n",
        "### Calcul de la loss\n",
        "\n",
        "Comparaison des *logits* aux *labels* réels (0 ou 1) via la **fonction de perte d’entropie croisée** :\n",
        "\n",
        "$$\n",
        "L = - \\Big( y \\cdot \\log(\\hat{y}) + (1-y) \\cdot \\log(1-\\hat{y}) \\Big)\n",
        "$$\n",
        "\n",
        "où\n",
        "\n",
        "$$\n",
        "\\hat{y}_i = \\frac{e^{\\text{logits}_i}}{\\sum_j e^{\\text{logits}_j}}\n",
        "$$\n",
        "\n",
        "### Backward pass\n",
        "\n",
        "PyTorch calcule automatiquement les gradients de la perte par rapport à chaque paramètre du modèle.\n",
        "\n",
        "* Le gradient indique comment ajuster un poids pour réduire la perte.\n",
        "* Exemple : si le gradient est positif, le poids doit être diminué ; s’il est négatif, il doit être augmenté.\n",
        "\n",
        "### Gradient clipping\n",
        "\n",
        "Afin d’éviter des gradients trop grands (qui peuvent déstabiliser l’entraînement), application d'un **clipping** :\n",
        "\n",
        "$$\n",
        "g = \\min(g, \\text{valeur}_{\\text{seuil}})\n",
        "$$\n",
        "\n",
        "### Optimiseur\n",
        "\n",
        "L’optimiseur applique ensuite les mises à jour des poids en suivant la règle :\n",
        "\n",
        "$$\n",
        "w \\leftarrow w - \\eta \\cdot \\nabla_w L\n",
        "$$\n",
        "\n",
        "où $\\eta$ est le **learning rate**.\n",
        "Ici, nous utilisons **AdamW**, qui ajoute un *weight decay* pour régulariser les poids.\n",
        "\n",
        "### Scheduler\n",
        "\n",
        "Le scheduler permet de **moduler le learning rate** au cours du temps :\n",
        "\n",
        "* augmentation progressive au début (*warmup*),\n",
        "* décroissance ensuite,\n",
        "  plutôt qu'un taux d'apprentissage fixe.\n",
        "\n",
        "### Validation\n",
        "\n",
        "Après chaque *epoch* :\n",
        "\n",
        "* désactivation du calcul de gradient (`model.eval()` + `torch.no_grad()`),\n",
        "* passage des données de validation dans le modèle,\n",
        "* calcul de la loss et des métriques (accuracy, F1-score).\n",
        "\n",
        "Cette étape vérifie si le modèle apprend des **règles générales** plutôt que de mémoriser les données d'entraînement.\n",
        "\n",
        "### Checkpoint\n",
        "\n",
        "Sauvegarde des poids du modèle lorsque la perte de validation s'améliore.\n",
        "Cela garantit de conserver la **meilleure version** obtenue durant l'entraînement."
      ]
    },
    {
      "cell_type": "code",
      "execution_count": 14,
      "id": "9de860ce",
      "metadata": {
        "colab": {
          "base_uri": "https://localhost:8080/",
          "height": 657
        },
        "id": "9de860ce",
        "outputId": "3045b013-0370-4424-b6c2-07c37162a287"
      },
      "outputs": [
        {
          "output_type": "stream",
          "name": "stdout",
          "text": [
            "\n",
            "Epoch 1/3\n",
            "  Training loss: 0.5675\n",
            "  Validation loss: 0.8055 | Accuracy: 0.8025\n",
            "Saved new best model to ./distilbert-best\n",
            "\n",
            "Epoch 2/3\n",
            "  Training loss: 0.3582\n",
            "  Validation loss: 0.7440 | Accuracy: 0.8100\n",
            "Saved new best model to ./distilbert-best\n",
            "\n",
            "Epoch 3/3\n",
            "  Training loss: 0.1593\n",
            "  Validation loss: 0.6324 | Accuracy: 0.8675\n",
            "Saved new best model to ./distilbert-best\n"
          ]
        },
        {
          "output_type": "display_data",
          "data": {
            "text/plain": [
              "<Figure size 1200x400 with 2 Axes>"
            ],
            "image/svg+xml": "<?xml version=\"1.0\" encoding=\"utf-8\" standalone=\"no\"?>\n<!DOCTYPE svg PUBLIC \"-//W3C//DTD SVG 1.1//EN\"\n  \"http://www.w3.org/Graphics/SVG/1.1/DTD/svg11.dtd\">\n<svg xmlns:xlink=\"http://www.w3.org/1999/xlink\" width=\"720.58125pt\" height=\"281.634375pt\" viewBox=\"0 0 720.58125 281.634375\" xmlns=\"http://www.w3.org/2000/svg\" version=\"1.1\">\n <metadata>\n  <rdf:RDF xmlns:dc=\"http://purl.org/dc/elements/1.1/\" xmlns:cc=\"http://creativecommons.org/ns#\" xmlns:rdf=\"http://www.w3.org/1999/02/22-rdf-syntax-ns#\">\n   <cc:Work>\n    <dc:type rdf:resource=\"http://purl.org/dc/dcmitype/StillImage\"/>\n    <dc:date>2025-09-14T14:58:06.526999</dc:date>\n    <dc:format>image/svg+xml</dc:format>\n    <dc:creator>\n     <cc:Agent>\n      <dc:title>Matplotlib v3.10.0, https://matplotlib.org/</dc:title>\n     </cc:Agent>\n    </dc:creator>\n   </cc:Work>\n  </rdf:RDF>\n </metadata>\n <defs>\n  <style type=\"text/css\">*{stroke-linejoin: round; stroke-linecap: butt}</style>\n </defs>\n <g id=\"figure_1\">\n  <g id=\"patch_1\">\n   <path d=\"M 0 281.634375 \nL 720.58125 281.634375 \nL 720.58125 0 \nL 0 0 \nz\n\" style=\"fill: #ffffff\"/>\n  </g>\n  <g id=\"axes_1\">\n   <g id=\"patch_2\">\n    <path d=\"M 43.78125 244.078125 \nL 348.144886 244.078125 \nL 348.144886 22.318125 \nL 43.78125 22.318125 \nz\n\" style=\"fill: #ffffff\"/>\n   </g>\n   <g id=\"matplotlib.axis_1\">\n    <g id=\"xtick_1\">\n     <g id=\"line2d_1\">\n      <path d=\"M 57.615961 244.078125 \nL 57.615961 22.318125 \n\" clip-path=\"url(#pee63c97078)\" style=\"fill: none; stroke: #b0b0b0; stroke-width: 0.8; stroke-linecap: square\"/>\n     </g>\n     <g id=\"line2d_2\">\n      <defs>\n       <path id=\"m54ae5c2738\" d=\"M 0 0 \nL 0 3.5 \n\" style=\"stroke: #000000; stroke-width: 0.8\"/>\n      </defs>\n      <g>\n       <use xlink:href=\"#m54ae5c2738\" x=\"57.615961\" y=\"244.078125\" style=\"stroke: #000000; stroke-width: 0.8\"/>\n      </g>\n     </g>\n     <g id=\"text_1\">\n      <!-- 1.00 -->\n      <g transform=\"translate(46.483148 258.676562) scale(0.1 -0.1)\">\n       <defs>\n        <path id=\"DejaVuSans-31\" d=\"M 794 531 \nL 1825 531 \nL 1825 4091 \nL 703 3866 \nL 703 4441 \nL 1819 4666 \nL 2450 4666 \nL 2450 531 \nL 3481 531 \nL 3481 0 \nL 794 0 \nL 794 531 \nz\n\" transform=\"scale(0.015625)\"/>\n        <path id=\"DejaVuSans-2e\" d=\"M 684 794 \nL 1344 794 \nL 1344 0 \nL 684 0 \nL 684 794 \nz\n\" transform=\"scale(0.015625)\"/>\n        <path id=\"DejaVuSans-30\" d=\"M 2034 4250 \nQ 1547 4250 1301 3770 \nQ 1056 3291 1056 2328 \nQ 1056 1369 1301 889 \nQ 1547 409 2034 409 \nQ 2525 409 2770 889 \nQ 3016 1369 3016 2328 \nQ 3016 3291 2770 3770 \nQ 2525 4250 2034 4250 \nz\nM 2034 4750 \nQ 2819 4750 3233 4129 \nQ 3647 3509 3647 2328 \nQ 3647 1150 3233 529 \nQ 2819 -91 2034 -91 \nQ 1250 -91 836 529 \nQ 422 1150 422 2328 \nQ 422 3509 836 4129 \nQ 1250 4750 2034 4750 \nz\n\" transform=\"scale(0.015625)\"/>\n       </defs>\n       <use xlink:href=\"#DejaVuSans-31\"/>\n       <use xlink:href=\"#DejaVuSans-2e\" transform=\"translate(63.623047 0)\"/>\n       <use xlink:href=\"#DejaVuSans-30\" transform=\"translate(95.410156 0)\"/>\n       <use xlink:href=\"#DejaVuSans-30\" transform=\"translate(159.033203 0)\"/>\n      </g>\n     </g>\n    </g>\n    <g id=\"xtick_2\">\n     <g id=\"line2d_3\">\n      <path d=\"M 92.202738 244.078125 \nL 92.202738 22.318125 \n\" clip-path=\"url(#pee63c97078)\" style=\"fill: none; stroke: #b0b0b0; stroke-width: 0.8; stroke-linecap: square\"/>\n     </g>\n     <g id=\"line2d_4\">\n      <g>\n       <use xlink:href=\"#m54ae5c2738\" x=\"92.202738\" y=\"244.078125\" style=\"stroke: #000000; stroke-width: 0.8\"/>\n      </g>\n     </g>\n     <g id=\"text_2\">\n      <!-- 1.25 -->\n      <g transform=\"translate(81.069925 258.676562) scale(0.1 -0.1)\">\n       <defs>\n        <path id=\"DejaVuSans-32\" d=\"M 1228 531 \nL 3431 531 \nL 3431 0 \nL 469 0 \nL 469 531 \nQ 828 903 1448 1529 \nQ 2069 2156 2228 2338 \nQ 2531 2678 2651 2914 \nQ 2772 3150 2772 3378 \nQ 2772 3750 2511 3984 \nQ 2250 4219 1831 4219 \nQ 1534 4219 1204 4116 \nQ 875 4013 500 3803 \nL 500 4441 \nQ 881 4594 1212 4672 \nQ 1544 4750 1819 4750 \nQ 2544 4750 2975 4387 \nQ 3406 4025 3406 3419 \nQ 3406 3131 3298 2873 \nQ 3191 2616 2906 2266 \nQ 2828 2175 2409 1742 \nQ 1991 1309 1228 531 \nz\n\" transform=\"scale(0.015625)\"/>\n        <path id=\"DejaVuSans-35\" d=\"M 691 4666 \nL 3169 4666 \nL 3169 4134 \nL 1269 4134 \nL 1269 2991 \nQ 1406 3038 1543 3061 \nQ 1681 3084 1819 3084 \nQ 2600 3084 3056 2656 \nQ 3513 2228 3513 1497 \nQ 3513 744 3044 326 \nQ 2575 -91 1722 -91 \nQ 1428 -91 1123 -41 \nQ 819 9 494 109 \nL 494 744 \nQ 775 591 1075 516 \nQ 1375 441 1709 441 \nQ 2250 441 2565 725 \nQ 2881 1009 2881 1497 \nQ 2881 1984 2565 2268 \nQ 2250 2553 1709 2553 \nQ 1456 2553 1204 2497 \nQ 953 2441 691 2322 \nL 691 4666 \nz\n\" transform=\"scale(0.015625)\"/>\n       </defs>\n       <use xlink:href=\"#DejaVuSans-31\"/>\n       <use xlink:href=\"#DejaVuSans-2e\" transform=\"translate(63.623047 0)\"/>\n       <use xlink:href=\"#DejaVuSans-32\" transform=\"translate(95.410156 0)\"/>\n       <use xlink:href=\"#DejaVuSans-35\" transform=\"translate(159.033203 0)\"/>\n      </g>\n     </g>\n    </g>\n    <g id=\"xtick_3\">\n     <g id=\"line2d_5\">\n      <path d=\"M 126.789514 244.078125 \nL 126.789514 22.318125 \n\" clip-path=\"url(#pee63c97078)\" style=\"fill: none; stroke: #b0b0b0; stroke-width: 0.8; stroke-linecap: square\"/>\n     </g>\n     <g id=\"line2d_6\">\n      <g>\n       <use xlink:href=\"#m54ae5c2738\" x=\"126.789514\" y=\"244.078125\" style=\"stroke: #000000; stroke-width: 0.8\"/>\n      </g>\n     </g>\n     <g id=\"text_3\">\n      <!-- 1.50 -->\n      <g transform=\"translate(115.656702 258.676562) scale(0.1 -0.1)\">\n       <use xlink:href=\"#DejaVuSans-31\"/>\n       <use xlink:href=\"#DejaVuSans-2e\" transform=\"translate(63.623047 0)\"/>\n       <use xlink:href=\"#DejaVuSans-35\" transform=\"translate(95.410156 0)\"/>\n       <use xlink:href=\"#DejaVuSans-30\" transform=\"translate(159.033203 0)\"/>\n      </g>\n     </g>\n    </g>\n    <g id=\"xtick_4\">\n     <g id=\"line2d_7\">\n      <path d=\"M 161.376291 244.078125 \nL 161.376291 22.318125 \n\" clip-path=\"url(#pee63c97078)\" style=\"fill: none; stroke: #b0b0b0; stroke-width: 0.8; stroke-linecap: square\"/>\n     </g>\n     <g id=\"line2d_8\">\n      <g>\n       <use xlink:href=\"#m54ae5c2738\" x=\"161.376291\" y=\"244.078125\" style=\"stroke: #000000; stroke-width: 0.8\"/>\n      </g>\n     </g>\n     <g id=\"text_4\">\n      <!-- 1.75 -->\n      <g transform=\"translate(150.243479 258.676562) scale(0.1 -0.1)\">\n       <defs>\n        <path id=\"DejaVuSans-37\" d=\"M 525 4666 \nL 3525 4666 \nL 3525 4397 \nL 1831 0 \nL 1172 0 \nL 2766 4134 \nL 525 4134 \nL 525 4666 \nz\n\" transform=\"scale(0.015625)\"/>\n       </defs>\n       <use xlink:href=\"#DejaVuSans-31\"/>\n       <use xlink:href=\"#DejaVuSans-2e\" transform=\"translate(63.623047 0)\"/>\n       <use xlink:href=\"#DejaVuSans-37\" transform=\"translate(95.410156 0)\"/>\n       <use xlink:href=\"#DejaVuSans-35\" transform=\"translate(159.033203 0)\"/>\n      </g>\n     </g>\n    </g>\n    <g id=\"xtick_5\">\n     <g id=\"line2d_9\">\n      <path d=\"M 195.963068 244.078125 \nL 195.963068 22.318125 \n\" clip-path=\"url(#pee63c97078)\" style=\"fill: none; stroke: #b0b0b0; stroke-width: 0.8; stroke-linecap: square\"/>\n     </g>\n     <g id=\"line2d_10\">\n      <g>\n       <use xlink:href=\"#m54ae5c2738\" x=\"195.963068\" y=\"244.078125\" style=\"stroke: #000000; stroke-width: 0.8\"/>\n      </g>\n     </g>\n     <g id=\"text_5\">\n      <!-- 2.00 -->\n      <g transform=\"translate(184.830256 258.676562) scale(0.1 -0.1)\">\n       <use xlink:href=\"#DejaVuSans-32\"/>\n       <use xlink:href=\"#DejaVuSans-2e\" transform=\"translate(63.623047 0)\"/>\n       <use xlink:href=\"#DejaVuSans-30\" transform=\"translate(95.410156 0)\"/>\n       <use xlink:href=\"#DejaVuSans-30\" transform=\"translate(159.033203 0)\"/>\n      </g>\n     </g>\n    </g>\n    <g id=\"xtick_6\">\n     <g id=\"line2d_11\">\n      <path d=\"M 230.549845 244.078125 \nL 230.549845 22.318125 \n\" clip-path=\"url(#pee63c97078)\" style=\"fill: none; stroke: #b0b0b0; stroke-width: 0.8; stroke-linecap: square\"/>\n     </g>\n     <g id=\"line2d_12\">\n      <g>\n       <use xlink:href=\"#m54ae5c2738\" x=\"230.549845\" y=\"244.078125\" style=\"stroke: #000000; stroke-width: 0.8\"/>\n      </g>\n     </g>\n     <g id=\"text_6\">\n      <!-- 2.25 -->\n      <g transform=\"translate(219.417033 258.676562) scale(0.1 -0.1)\">\n       <use xlink:href=\"#DejaVuSans-32\"/>\n       <use xlink:href=\"#DejaVuSans-2e\" transform=\"translate(63.623047 0)\"/>\n       <use xlink:href=\"#DejaVuSans-32\" transform=\"translate(95.410156 0)\"/>\n       <use xlink:href=\"#DejaVuSans-35\" transform=\"translate(159.033203 0)\"/>\n      </g>\n     </g>\n    </g>\n    <g id=\"xtick_7\">\n     <g id=\"line2d_13\">\n      <path d=\"M 265.136622 244.078125 \nL 265.136622 22.318125 \n\" clip-path=\"url(#pee63c97078)\" style=\"fill: none; stroke: #b0b0b0; stroke-width: 0.8; stroke-linecap: square\"/>\n     </g>\n     <g id=\"line2d_14\">\n      <g>\n       <use xlink:href=\"#m54ae5c2738\" x=\"265.136622\" y=\"244.078125\" style=\"stroke: #000000; stroke-width: 0.8\"/>\n      </g>\n     </g>\n     <g id=\"text_7\">\n      <!-- 2.50 -->\n      <g transform=\"translate(254.003809 258.676562) scale(0.1 -0.1)\">\n       <use xlink:href=\"#DejaVuSans-32\"/>\n       <use xlink:href=\"#DejaVuSans-2e\" transform=\"translate(63.623047 0)\"/>\n       <use xlink:href=\"#DejaVuSans-35\" transform=\"translate(95.410156 0)\"/>\n       <use xlink:href=\"#DejaVuSans-30\" transform=\"translate(159.033203 0)\"/>\n      </g>\n     </g>\n    </g>\n    <g id=\"xtick_8\">\n     <g id=\"line2d_15\">\n      <path d=\"M 299.723399 244.078125 \nL 299.723399 22.318125 \n\" clip-path=\"url(#pee63c97078)\" style=\"fill: none; stroke: #b0b0b0; stroke-width: 0.8; stroke-linecap: square\"/>\n     </g>\n     <g id=\"line2d_16\">\n      <g>\n       <use xlink:href=\"#m54ae5c2738\" x=\"299.723399\" y=\"244.078125\" style=\"stroke: #000000; stroke-width: 0.8\"/>\n      </g>\n     </g>\n     <g id=\"text_8\">\n      <!-- 2.75 -->\n      <g transform=\"translate(288.590586 258.676562) scale(0.1 -0.1)\">\n       <use xlink:href=\"#DejaVuSans-32\"/>\n       <use xlink:href=\"#DejaVuSans-2e\" transform=\"translate(63.623047 0)\"/>\n       <use xlink:href=\"#DejaVuSans-37\" transform=\"translate(95.410156 0)\"/>\n       <use xlink:href=\"#DejaVuSans-35\" transform=\"translate(159.033203 0)\"/>\n      </g>\n     </g>\n    </g>\n    <g id=\"xtick_9\">\n     <g id=\"line2d_17\">\n      <path d=\"M 334.310176 244.078125 \nL 334.310176 22.318125 \n\" clip-path=\"url(#pee63c97078)\" style=\"fill: none; stroke: #b0b0b0; stroke-width: 0.8; stroke-linecap: square\"/>\n     </g>\n     <g id=\"line2d_18\">\n      <g>\n       <use xlink:href=\"#m54ae5c2738\" x=\"334.310176\" y=\"244.078125\" style=\"stroke: #000000; stroke-width: 0.8\"/>\n      </g>\n     </g>\n     <g id=\"text_9\">\n      <!-- 3.00 -->\n      <g transform=\"translate(323.177363 258.676562) scale(0.1 -0.1)\">\n       <defs>\n        <path id=\"DejaVuSans-33\" d=\"M 2597 2516 \nQ 3050 2419 3304 2112 \nQ 3559 1806 3559 1356 \nQ 3559 666 3084 287 \nQ 2609 -91 1734 -91 \nQ 1441 -91 1130 -33 \nQ 819 25 488 141 \nL 488 750 \nQ 750 597 1062 519 \nQ 1375 441 1716 441 \nQ 2309 441 2620 675 \nQ 2931 909 2931 1356 \nQ 2931 1769 2642 2001 \nQ 2353 2234 1838 2234 \nL 1294 2234 \nL 1294 2753 \nL 1863 2753 \nQ 2328 2753 2575 2939 \nQ 2822 3125 2822 3475 \nQ 2822 3834 2567 4026 \nQ 2313 4219 1838 4219 \nQ 1578 4219 1281 4162 \nQ 984 4106 628 3988 \nL 628 4550 \nQ 988 4650 1302 4700 \nQ 1616 4750 1894 4750 \nQ 2613 4750 3031 4423 \nQ 3450 4097 3450 3541 \nQ 3450 3153 3228 2886 \nQ 3006 2619 2597 2516 \nz\n\" transform=\"scale(0.015625)\"/>\n       </defs>\n       <use xlink:href=\"#DejaVuSans-33\"/>\n       <use xlink:href=\"#DejaVuSans-2e\" transform=\"translate(63.623047 0)\"/>\n       <use xlink:href=\"#DejaVuSans-30\" transform=\"translate(95.410156 0)\"/>\n       <use xlink:href=\"#DejaVuSans-30\" transform=\"translate(159.033203 0)\"/>\n      </g>\n     </g>\n    </g>\n    <g id=\"text_10\">\n     <!-- Epochs -->\n     <g transform=\"translate(178.047443 272.354687) scale(0.1 -0.1)\">\n      <defs>\n       <path id=\"DejaVuSans-45\" d=\"M 628 4666 \nL 3578 4666 \nL 3578 4134 \nL 1259 4134 \nL 1259 2753 \nL 3481 2753 \nL 3481 2222 \nL 1259 2222 \nL 1259 531 \nL 3634 531 \nL 3634 0 \nL 628 0 \nL 628 4666 \nz\n\" transform=\"scale(0.015625)\"/>\n       <path id=\"DejaVuSans-70\" d=\"M 1159 525 \nL 1159 -1331 \nL 581 -1331 \nL 581 3500 \nL 1159 3500 \nL 1159 2969 \nQ 1341 3281 1617 3432 \nQ 1894 3584 2278 3584 \nQ 2916 3584 3314 3078 \nQ 3713 2572 3713 1747 \nQ 3713 922 3314 415 \nQ 2916 -91 2278 -91 \nQ 1894 -91 1617 61 \nQ 1341 213 1159 525 \nz\nM 3116 1747 \nQ 3116 2381 2855 2742 \nQ 2594 3103 2138 3103 \nQ 1681 3103 1420 2742 \nQ 1159 2381 1159 1747 \nQ 1159 1113 1420 752 \nQ 1681 391 2138 391 \nQ 2594 391 2855 752 \nQ 3116 1113 3116 1747 \nz\n\" transform=\"scale(0.015625)\"/>\n       <path id=\"DejaVuSans-6f\" d=\"M 1959 3097 \nQ 1497 3097 1228 2736 \nQ 959 2375 959 1747 \nQ 959 1119 1226 758 \nQ 1494 397 1959 397 \nQ 2419 397 2687 759 \nQ 2956 1122 2956 1747 \nQ 2956 2369 2687 2733 \nQ 2419 3097 1959 3097 \nz\nM 1959 3584 \nQ 2709 3584 3137 3096 \nQ 3566 2609 3566 1747 \nQ 3566 888 3137 398 \nQ 2709 -91 1959 -91 \nQ 1206 -91 779 398 \nQ 353 888 353 1747 \nQ 353 2609 779 3096 \nQ 1206 3584 1959 3584 \nz\n\" transform=\"scale(0.015625)\"/>\n       <path id=\"DejaVuSans-63\" d=\"M 3122 3366 \nL 3122 2828 \nQ 2878 2963 2633 3030 \nQ 2388 3097 2138 3097 \nQ 1578 3097 1268 2742 \nQ 959 2388 959 1747 \nQ 959 1106 1268 751 \nQ 1578 397 2138 397 \nQ 2388 397 2633 464 \nQ 2878 531 3122 666 \nL 3122 134 \nQ 2881 22 2623 -34 \nQ 2366 -91 2075 -91 \nQ 1284 -91 818 406 \nQ 353 903 353 1747 \nQ 353 2603 823 3093 \nQ 1294 3584 2113 3584 \nQ 2378 3584 2631 3529 \nQ 2884 3475 3122 3366 \nz\n\" transform=\"scale(0.015625)\"/>\n       <path id=\"DejaVuSans-68\" d=\"M 3513 2113 \nL 3513 0 \nL 2938 0 \nL 2938 2094 \nQ 2938 2591 2744 2837 \nQ 2550 3084 2163 3084 \nQ 1697 3084 1428 2787 \nQ 1159 2491 1159 1978 \nL 1159 0 \nL 581 0 \nL 581 4863 \nL 1159 4863 \nL 1159 2956 \nQ 1366 3272 1645 3428 \nQ 1925 3584 2291 3584 \nQ 2894 3584 3203 3211 \nQ 3513 2838 3513 2113 \nz\n\" transform=\"scale(0.015625)\"/>\n       <path id=\"DejaVuSans-73\" d=\"M 2834 3397 \nL 2834 2853 \nQ 2591 2978 2328 3040 \nQ 2066 3103 1784 3103 \nQ 1356 3103 1142 2972 \nQ 928 2841 928 2578 \nQ 928 2378 1081 2264 \nQ 1234 2150 1697 2047 \nL 1894 2003 \nQ 2506 1872 2764 1633 \nQ 3022 1394 3022 966 \nQ 3022 478 2636 193 \nQ 2250 -91 1575 -91 \nQ 1294 -91 989 -36 \nQ 684 19 347 128 \nL 347 722 \nQ 666 556 975 473 \nQ 1284 391 1588 391 \nQ 1994 391 2212 530 \nQ 2431 669 2431 922 \nQ 2431 1156 2273 1281 \nQ 2116 1406 1581 1522 \nL 1381 1569 \nQ 847 1681 609 1914 \nQ 372 2147 372 2553 \nQ 372 3047 722 3315 \nQ 1072 3584 1716 3584 \nQ 2034 3584 2315 3537 \nQ 2597 3491 2834 3397 \nz\n\" transform=\"scale(0.015625)\"/>\n      </defs>\n      <use xlink:href=\"#DejaVuSans-45\"/>\n      <use xlink:href=\"#DejaVuSans-70\" transform=\"translate(63.183594 0)\"/>\n      <use xlink:href=\"#DejaVuSans-6f\" transform=\"translate(126.660156 0)\"/>\n      <use xlink:href=\"#DejaVuSans-63\" transform=\"translate(187.841797 0)\"/>\n      <use xlink:href=\"#DejaVuSans-68\" transform=\"translate(242.822266 0)\"/>\n      <use xlink:href=\"#DejaVuSans-73\" transform=\"translate(306.201172 0)\"/>\n     </g>\n    </g>\n   </g>\n   <g id=\"matplotlib.axis_2\">\n    <g id=\"ytick_1\">\n     <g id=\"line2d_19\">\n      <path d=\"M 43.78125 221.307307 \nL 348.144886 221.307307 \n\" clip-path=\"url(#pee63c97078)\" style=\"fill: none; stroke: #b0b0b0; stroke-width: 0.8; stroke-linecap: square\"/>\n     </g>\n     <g id=\"line2d_20\">\n      <defs>\n       <path id=\"m79e29c0aca\" d=\"M 0 0 \nL -3.5 0 \n\" style=\"stroke: #000000; stroke-width: 0.8\"/>\n      </defs>\n      <g>\n       <use xlink:href=\"#m79e29c0aca\" x=\"43.78125\" y=\"221.307307\" style=\"stroke: #000000; stroke-width: 0.8\"/>\n      </g>\n     </g>\n     <g id=\"text_11\">\n      <!-- 0.2 -->\n      <g transform=\"translate(20.878125 225.106525) scale(0.1 -0.1)\">\n       <use xlink:href=\"#DejaVuSans-30\"/>\n       <use xlink:href=\"#DejaVuSans-2e\" transform=\"translate(63.623047 0)\"/>\n       <use xlink:href=\"#DejaVuSans-32\" transform=\"translate(95.410156 0)\"/>\n      </g>\n     </g>\n    </g>\n    <g id=\"ytick_2\">\n     <g id=\"line2d_21\">\n      <path d=\"M 43.78125 190.109228 \nL 348.144886 190.109228 \n\" clip-path=\"url(#pee63c97078)\" style=\"fill: none; stroke: #b0b0b0; stroke-width: 0.8; stroke-linecap: square\"/>\n     </g>\n     <g id=\"line2d_22\">\n      <g>\n       <use xlink:href=\"#m79e29c0aca\" x=\"43.78125\" y=\"190.109228\" style=\"stroke: #000000; stroke-width: 0.8\"/>\n      </g>\n     </g>\n     <g id=\"text_12\">\n      <!-- 0.3 -->\n      <g transform=\"translate(20.878125 193.908446) scale(0.1 -0.1)\">\n       <use xlink:href=\"#DejaVuSans-30\"/>\n       <use xlink:href=\"#DejaVuSans-2e\" transform=\"translate(63.623047 0)\"/>\n       <use xlink:href=\"#DejaVuSans-33\" transform=\"translate(95.410156 0)\"/>\n      </g>\n     </g>\n    </g>\n    <g id=\"ytick_3\">\n     <g id=\"line2d_23\">\n      <path d=\"M 43.78125 158.911149 \nL 348.144886 158.911149 \n\" clip-path=\"url(#pee63c97078)\" style=\"fill: none; stroke: #b0b0b0; stroke-width: 0.8; stroke-linecap: square\"/>\n     </g>\n     <g id=\"line2d_24\">\n      <g>\n       <use xlink:href=\"#m79e29c0aca\" x=\"43.78125\" y=\"158.911149\" style=\"stroke: #000000; stroke-width: 0.8\"/>\n      </g>\n     </g>\n     <g id=\"text_13\">\n      <!-- 0.4 -->\n      <g transform=\"translate(20.878125 162.710368) scale(0.1 -0.1)\">\n       <defs>\n        <path id=\"DejaVuSans-34\" d=\"M 2419 4116 \nL 825 1625 \nL 2419 1625 \nL 2419 4116 \nz\nM 2253 4666 \nL 3047 4666 \nL 3047 1625 \nL 3713 1625 \nL 3713 1100 \nL 3047 1100 \nL 3047 0 \nL 2419 0 \nL 2419 1100 \nL 313 1100 \nL 313 1709 \nL 2253 4666 \nz\n\" transform=\"scale(0.015625)\"/>\n       </defs>\n       <use xlink:href=\"#DejaVuSans-30\"/>\n       <use xlink:href=\"#DejaVuSans-2e\" transform=\"translate(63.623047 0)\"/>\n       <use xlink:href=\"#DejaVuSans-34\" transform=\"translate(95.410156 0)\"/>\n      </g>\n     </g>\n    </g>\n    <g id=\"ytick_4\">\n     <g id=\"line2d_25\">\n      <path d=\"M 43.78125 127.71307 \nL 348.144886 127.71307 \n\" clip-path=\"url(#pee63c97078)\" style=\"fill: none; stroke: #b0b0b0; stroke-width: 0.8; stroke-linecap: square\"/>\n     </g>\n     <g id=\"line2d_26\">\n      <g>\n       <use xlink:href=\"#m79e29c0aca\" x=\"43.78125\" y=\"127.71307\" style=\"stroke: #000000; stroke-width: 0.8\"/>\n      </g>\n     </g>\n     <g id=\"text_14\">\n      <!-- 0.5 -->\n      <g transform=\"translate(20.878125 131.512289) scale(0.1 -0.1)\">\n       <use xlink:href=\"#DejaVuSans-30\"/>\n       <use xlink:href=\"#DejaVuSans-2e\" transform=\"translate(63.623047 0)\"/>\n       <use xlink:href=\"#DejaVuSans-35\" transform=\"translate(95.410156 0)\"/>\n      </g>\n     </g>\n    </g>\n    <g id=\"ytick_5\">\n     <g id=\"line2d_27\">\n      <path d=\"M 43.78125 96.514991 \nL 348.144886 96.514991 \n\" clip-path=\"url(#pee63c97078)\" style=\"fill: none; stroke: #b0b0b0; stroke-width: 0.8; stroke-linecap: square\"/>\n     </g>\n     <g id=\"line2d_28\">\n      <g>\n       <use xlink:href=\"#m79e29c0aca\" x=\"43.78125\" y=\"96.514991\" style=\"stroke: #000000; stroke-width: 0.8\"/>\n      </g>\n     </g>\n     <g id=\"text_15\">\n      <!-- 0.6 -->\n      <g transform=\"translate(20.878125 100.31421) scale(0.1 -0.1)\">\n       <defs>\n        <path id=\"DejaVuSans-36\" d=\"M 2113 2584 \nQ 1688 2584 1439 2293 \nQ 1191 2003 1191 1497 \nQ 1191 994 1439 701 \nQ 1688 409 2113 409 \nQ 2538 409 2786 701 \nQ 3034 994 3034 1497 \nQ 3034 2003 2786 2293 \nQ 2538 2584 2113 2584 \nz\nM 3366 4563 \nL 3366 3988 \nQ 3128 4100 2886 4159 \nQ 2644 4219 2406 4219 \nQ 1781 4219 1451 3797 \nQ 1122 3375 1075 2522 \nQ 1259 2794 1537 2939 \nQ 1816 3084 2150 3084 \nQ 2853 3084 3261 2657 \nQ 3669 2231 3669 1497 \nQ 3669 778 3244 343 \nQ 2819 -91 2113 -91 \nQ 1303 -91 875 529 \nQ 447 1150 447 2328 \nQ 447 3434 972 4092 \nQ 1497 4750 2381 4750 \nQ 2619 4750 2861 4703 \nQ 3103 4656 3366 4563 \nz\n\" transform=\"scale(0.015625)\"/>\n       </defs>\n       <use xlink:href=\"#DejaVuSans-30\"/>\n       <use xlink:href=\"#DejaVuSans-2e\" transform=\"translate(63.623047 0)\"/>\n       <use xlink:href=\"#DejaVuSans-36\" transform=\"translate(95.410156 0)\"/>\n      </g>\n     </g>\n    </g>\n    <g id=\"ytick_6\">\n     <g id=\"line2d_29\">\n      <path d=\"M 43.78125 65.316912 \nL 348.144886 65.316912 \n\" clip-path=\"url(#pee63c97078)\" style=\"fill: none; stroke: #b0b0b0; stroke-width: 0.8; stroke-linecap: square\"/>\n     </g>\n     <g id=\"line2d_30\">\n      <g>\n       <use xlink:href=\"#m79e29c0aca\" x=\"43.78125\" y=\"65.316912\" style=\"stroke: #000000; stroke-width: 0.8\"/>\n      </g>\n     </g>\n     <g id=\"text_16\">\n      <!-- 0.7 -->\n      <g transform=\"translate(20.878125 69.116131) scale(0.1 -0.1)\">\n       <use xlink:href=\"#DejaVuSans-30\"/>\n       <use xlink:href=\"#DejaVuSans-2e\" transform=\"translate(63.623047 0)\"/>\n       <use xlink:href=\"#DejaVuSans-37\" transform=\"translate(95.410156 0)\"/>\n      </g>\n     </g>\n    </g>\n    <g id=\"ytick_7\">\n     <g id=\"line2d_31\">\n      <path d=\"M 43.78125 34.118834 \nL 348.144886 34.118834 \n\" clip-path=\"url(#pee63c97078)\" style=\"fill: none; stroke: #b0b0b0; stroke-width: 0.8; stroke-linecap: square\"/>\n     </g>\n     <g id=\"line2d_32\">\n      <g>\n       <use xlink:href=\"#m79e29c0aca\" x=\"43.78125\" y=\"34.118834\" style=\"stroke: #000000; stroke-width: 0.8\"/>\n      </g>\n     </g>\n     <g id=\"text_17\">\n      <!-- 0.8 -->\n      <g transform=\"translate(20.878125 37.918052) scale(0.1 -0.1)\">\n       <defs>\n        <path id=\"DejaVuSans-38\" d=\"M 2034 2216 \nQ 1584 2216 1326 1975 \nQ 1069 1734 1069 1313 \nQ 1069 891 1326 650 \nQ 1584 409 2034 409 \nQ 2484 409 2743 651 \nQ 3003 894 3003 1313 \nQ 3003 1734 2745 1975 \nQ 2488 2216 2034 2216 \nz\nM 1403 2484 \nQ 997 2584 770 2862 \nQ 544 3141 544 3541 \nQ 544 4100 942 4425 \nQ 1341 4750 2034 4750 \nQ 2731 4750 3128 4425 \nQ 3525 4100 3525 3541 \nQ 3525 3141 3298 2862 \nQ 3072 2584 2669 2484 \nQ 3125 2378 3379 2068 \nQ 3634 1759 3634 1313 \nQ 3634 634 3220 271 \nQ 2806 -91 2034 -91 \nQ 1263 -91 848 271 \nQ 434 634 434 1313 \nQ 434 1759 690 2068 \nQ 947 2378 1403 2484 \nz\nM 1172 3481 \nQ 1172 3119 1398 2916 \nQ 1625 2713 2034 2713 \nQ 2441 2713 2670 2916 \nQ 2900 3119 2900 3481 \nQ 2900 3844 2670 4047 \nQ 2441 4250 2034 4250 \nQ 1625 4250 1398 4047 \nQ 1172 3844 1172 3481 \nz\n\" transform=\"scale(0.015625)\"/>\n       </defs>\n       <use xlink:href=\"#DejaVuSans-30\"/>\n       <use xlink:href=\"#DejaVuSans-2e\" transform=\"translate(63.623047 0)\"/>\n       <use xlink:href=\"#DejaVuSans-38\" transform=\"translate(95.410156 0)\"/>\n      </g>\n     </g>\n    </g>\n    <g id=\"text_18\">\n     <!-- Loss -->\n     <g transform=\"translate(14.798438 144.165312) rotate(-90) scale(0.1 -0.1)\">\n      <defs>\n       <path id=\"DejaVuSans-4c\" d=\"M 628 4666 \nL 1259 4666 \nL 1259 531 \nL 3531 531 \nL 3531 0 \nL 628 0 \nL 628 4666 \nz\n\" transform=\"scale(0.015625)\"/>\n      </defs>\n      <use xlink:href=\"#DejaVuSans-4c\"/>\n      <use xlink:href=\"#DejaVuSans-6f\" transform=\"translate(53.962891 0)\"/>\n      <use xlink:href=\"#DejaVuSans-73\" transform=\"translate(115.144531 0)\"/>\n      <use xlink:href=\"#DejaVuSans-73\" transform=\"translate(167.244141 0)\"/>\n     </g>\n    </g>\n   </g>\n   <g id=\"line2d_33\">\n    <path d=\"M 57.615961 106.653264 \nL 195.963068 171.9365 \nL 334.310176 233.998125 \n\" clip-path=\"url(#pee63c97078)\" style=\"fill: none; stroke: #1f77b4; stroke-width: 1.5; stroke-linecap: square\"/>\n    <defs>\n     <path id=\"m6bc725f354\" d=\"M 0 3 \nC 0.795609 3 1.55874 2.683901 2.12132 2.12132 \nC 2.683901 1.55874 3 0.795609 3 0 \nC 3 -0.795609 2.683901 -1.55874 2.12132 -2.12132 \nC 1.55874 -2.683901 0.795609 -3 0 -3 \nC -0.795609 -3 -1.55874 -2.683901 -2.12132 -2.12132 \nC -2.683901 -1.55874 -3 -0.795609 -3 0 \nC -3 0.795609 -2.683901 1.55874 -2.12132 2.12132 \nC -1.55874 2.683901 -0.795609 3 0 3 \nz\n\" style=\"stroke: #1f77b4\"/>\n    </defs>\n    <g clip-path=\"url(#pee63c97078)\">\n     <use xlink:href=\"#m6bc725f354\" x=\"57.615961\" y=\"106.653264\" style=\"fill: #1f77b4; stroke: #1f77b4\"/>\n     <use xlink:href=\"#m6bc725f354\" x=\"195.963068\" y=\"171.9365\" style=\"fill: #1f77b4; stroke: #1f77b4\"/>\n     <use xlink:href=\"#m6bc725f354\" x=\"334.310176\" y=\"233.998125\" style=\"fill: #1f77b4; stroke: #1f77b4\"/>\n    </g>\n   </g>\n   <g id=\"line2d_34\">\n    <path d=\"M 57.615961 32.398125 \nL 195.963068 51.577495 \nL 334.310176 86.413215 \n\" clip-path=\"url(#pee63c97078)\" style=\"fill: none; stroke: #ff7f0e; stroke-width: 1.5; stroke-linecap: square\"/>\n    <defs>\n     <path id=\"ma6d62f50e7\" d=\"M 0 3 \nC 0.795609 3 1.55874 2.683901 2.12132 2.12132 \nC 2.683901 1.55874 3 0.795609 3 0 \nC 3 -0.795609 2.683901 -1.55874 2.12132 -2.12132 \nC 1.55874 -2.683901 0.795609 -3 0 -3 \nC -0.795609 -3 -1.55874 -2.683901 -2.12132 -2.12132 \nC -2.683901 -1.55874 -3 -0.795609 -3 0 \nC -3 0.795609 -2.683901 1.55874 -2.12132 2.12132 \nC -1.55874 2.683901 -0.795609 3 0 3 \nz\n\" style=\"stroke: #ff7f0e\"/>\n    </defs>\n    <g clip-path=\"url(#pee63c97078)\">\n     <use xlink:href=\"#ma6d62f50e7\" x=\"57.615961\" y=\"32.398125\" style=\"fill: #ff7f0e; stroke: #ff7f0e\"/>\n     <use xlink:href=\"#ma6d62f50e7\" x=\"195.963068\" y=\"51.577495\" style=\"fill: #ff7f0e; stroke: #ff7f0e\"/>\n     <use xlink:href=\"#ma6d62f50e7\" x=\"334.310176\" y=\"86.413215\" style=\"fill: #ff7f0e; stroke: #ff7f0e\"/>\n    </g>\n   </g>\n   <g id=\"patch_3\">\n    <path d=\"M 43.78125 244.078125 \nL 43.78125 22.318125 \n\" style=\"fill: none; stroke: #000000; stroke-width: 0.8; stroke-linejoin: miter; stroke-linecap: square\"/>\n   </g>\n   <g id=\"patch_4\">\n    <path d=\"M 348.144886 244.078125 \nL 348.144886 22.318125 \n\" style=\"fill: none; stroke: #000000; stroke-width: 0.8; stroke-linejoin: miter; stroke-linecap: square\"/>\n   </g>\n   <g id=\"patch_5\">\n    <path d=\"M 43.78125 244.078125 \nL 348.144886 244.078125 \n\" style=\"fill: none; stroke: #000000; stroke-width: 0.8; stroke-linejoin: miter; stroke-linecap: square\"/>\n   </g>\n   <g id=\"patch_6\">\n    <path d=\"M 43.78125 22.318125 \nL 348.144886 22.318125 \n\" style=\"fill: none; stroke: #000000; stroke-width: 0.8; stroke-linejoin: miter; stroke-linecap: square\"/>\n   </g>\n   <g id=\"text_19\">\n    <!-- Training vs Validation Loss -->\n    <g transform=\"translate(117.105256 16.318125) scale(0.12 -0.12)\">\n     <defs>\n      <path id=\"DejaVuSans-54\" d=\"M -19 4666 \nL 3928 4666 \nL 3928 4134 \nL 2272 4134 \nL 2272 0 \nL 1638 0 \nL 1638 4134 \nL -19 4134 \nL -19 4666 \nz\n\" transform=\"scale(0.015625)\"/>\n      <path id=\"DejaVuSans-72\" d=\"M 2631 2963 \nQ 2534 3019 2420 3045 \nQ 2306 3072 2169 3072 \nQ 1681 3072 1420 2755 \nQ 1159 2438 1159 1844 \nL 1159 0 \nL 581 0 \nL 581 3500 \nL 1159 3500 \nL 1159 2956 \nQ 1341 3275 1631 3429 \nQ 1922 3584 2338 3584 \nQ 2397 3584 2469 3576 \nQ 2541 3569 2628 3553 \nL 2631 2963 \nz\n\" transform=\"scale(0.015625)\"/>\n      <path id=\"DejaVuSans-61\" d=\"M 2194 1759 \nQ 1497 1759 1228 1600 \nQ 959 1441 959 1056 \nQ 959 750 1161 570 \nQ 1363 391 1709 391 \nQ 2188 391 2477 730 \nQ 2766 1069 2766 1631 \nL 2766 1759 \nL 2194 1759 \nz\nM 3341 1997 \nL 3341 0 \nL 2766 0 \nL 2766 531 \nQ 2569 213 2275 61 \nQ 1981 -91 1556 -91 \nQ 1019 -91 701 211 \nQ 384 513 384 1019 \nQ 384 1609 779 1909 \nQ 1175 2209 1959 2209 \nL 2766 2209 \nL 2766 2266 \nQ 2766 2663 2505 2880 \nQ 2244 3097 1772 3097 \nQ 1472 3097 1187 3025 \nQ 903 2953 641 2809 \nL 641 3341 \nQ 956 3463 1253 3523 \nQ 1550 3584 1831 3584 \nQ 2591 3584 2966 3190 \nQ 3341 2797 3341 1997 \nz\n\" transform=\"scale(0.015625)\"/>\n      <path id=\"DejaVuSans-69\" d=\"M 603 3500 \nL 1178 3500 \nL 1178 0 \nL 603 0 \nL 603 3500 \nz\nM 603 4863 \nL 1178 4863 \nL 1178 4134 \nL 603 4134 \nL 603 4863 \nz\n\" transform=\"scale(0.015625)\"/>\n      <path id=\"DejaVuSans-6e\" d=\"M 3513 2113 \nL 3513 0 \nL 2938 0 \nL 2938 2094 \nQ 2938 2591 2744 2837 \nQ 2550 3084 2163 3084 \nQ 1697 3084 1428 2787 \nQ 1159 2491 1159 1978 \nL 1159 0 \nL 581 0 \nL 581 3500 \nL 1159 3500 \nL 1159 2956 \nQ 1366 3272 1645 3428 \nQ 1925 3584 2291 3584 \nQ 2894 3584 3203 3211 \nQ 3513 2838 3513 2113 \nz\n\" transform=\"scale(0.015625)\"/>\n      <path id=\"DejaVuSans-67\" d=\"M 2906 1791 \nQ 2906 2416 2648 2759 \nQ 2391 3103 1925 3103 \nQ 1463 3103 1205 2759 \nQ 947 2416 947 1791 \nQ 947 1169 1205 825 \nQ 1463 481 1925 481 \nQ 2391 481 2648 825 \nQ 2906 1169 2906 1791 \nz\nM 3481 434 \nQ 3481 -459 3084 -895 \nQ 2688 -1331 1869 -1331 \nQ 1566 -1331 1297 -1286 \nQ 1028 -1241 775 -1147 \nL 775 -588 \nQ 1028 -725 1275 -790 \nQ 1522 -856 1778 -856 \nQ 2344 -856 2625 -561 \nQ 2906 -266 2906 331 \nL 2906 616 \nQ 2728 306 2450 153 \nQ 2172 0 1784 0 \nQ 1141 0 747 490 \nQ 353 981 353 1791 \nQ 353 2603 747 3093 \nQ 1141 3584 1784 3584 \nQ 2172 3584 2450 3431 \nQ 2728 3278 2906 2969 \nL 2906 3500 \nL 3481 3500 \nL 3481 434 \nz\n\" transform=\"scale(0.015625)\"/>\n      <path id=\"DejaVuSans-20\" transform=\"scale(0.015625)\"/>\n      <path id=\"DejaVuSans-76\" d=\"M 191 3500 \nL 800 3500 \nL 1894 563 \nL 2988 3500 \nL 3597 3500 \nL 2284 0 \nL 1503 0 \nL 191 3500 \nz\n\" transform=\"scale(0.015625)\"/>\n      <path id=\"DejaVuSans-56\" d=\"M 1831 0 \nL 50 4666 \nL 709 4666 \nL 2188 738 \nL 3669 4666 \nL 4325 4666 \nL 2547 0 \nL 1831 0 \nz\n\" transform=\"scale(0.015625)\"/>\n      <path id=\"DejaVuSans-6c\" d=\"M 603 4863 \nL 1178 4863 \nL 1178 0 \nL 603 0 \nL 603 4863 \nz\n\" transform=\"scale(0.015625)\"/>\n      <path id=\"DejaVuSans-64\" d=\"M 2906 2969 \nL 2906 4863 \nL 3481 4863 \nL 3481 0 \nL 2906 0 \nL 2906 525 \nQ 2725 213 2448 61 \nQ 2172 -91 1784 -91 \nQ 1150 -91 751 415 \nQ 353 922 353 1747 \nQ 353 2572 751 3078 \nQ 1150 3584 1784 3584 \nQ 2172 3584 2448 3432 \nQ 2725 3281 2906 2969 \nz\nM 947 1747 \nQ 947 1113 1208 752 \nQ 1469 391 1925 391 \nQ 2381 391 2643 752 \nQ 2906 1113 2906 1747 \nQ 2906 2381 2643 2742 \nQ 2381 3103 1925 3103 \nQ 1469 3103 1208 2742 \nQ 947 2381 947 1747 \nz\n\" transform=\"scale(0.015625)\"/>\n      <path id=\"DejaVuSans-74\" d=\"M 1172 4494 \nL 1172 3500 \nL 2356 3500 \nL 2356 3053 \nL 1172 3053 \nL 1172 1153 \nQ 1172 725 1289 603 \nQ 1406 481 1766 481 \nL 2356 481 \nL 2356 0 \nL 1766 0 \nQ 1100 0 847 248 \nQ 594 497 594 1153 \nL 594 3053 \nL 172 3053 \nL 172 3500 \nL 594 3500 \nL 594 4494 \nL 1172 4494 \nz\n\" transform=\"scale(0.015625)\"/>\n     </defs>\n     <use xlink:href=\"#DejaVuSans-54\"/>\n     <use xlink:href=\"#DejaVuSans-72\" transform=\"translate(46.333984 0)\"/>\n     <use xlink:href=\"#DejaVuSans-61\" transform=\"translate(87.447266 0)\"/>\n     <use xlink:href=\"#DejaVuSans-69\" transform=\"translate(148.726562 0)\"/>\n     <use xlink:href=\"#DejaVuSans-6e\" transform=\"translate(176.509766 0)\"/>\n     <use xlink:href=\"#DejaVuSans-69\" transform=\"translate(239.888672 0)\"/>\n     <use xlink:href=\"#DejaVuSans-6e\" transform=\"translate(267.671875 0)\"/>\n     <use xlink:href=\"#DejaVuSans-67\" transform=\"translate(331.050781 0)\"/>\n     <use xlink:href=\"#DejaVuSans-20\" transform=\"translate(394.527344 0)\"/>\n     <use xlink:href=\"#DejaVuSans-76\" transform=\"translate(426.314453 0)\"/>\n     <use xlink:href=\"#DejaVuSans-73\" transform=\"translate(485.494141 0)\"/>\n     <use xlink:href=\"#DejaVuSans-20\" transform=\"translate(537.59375 0)\"/>\n     <use xlink:href=\"#DejaVuSans-56\" transform=\"translate(569.380859 0)\"/>\n     <use xlink:href=\"#DejaVuSans-61\" transform=\"translate(630.039062 0)\"/>\n     <use xlink:href=\"#DejaVuSans-6c\" transform=\"translate(691.318359 0)\"/>\n     <use xlink:href=\"#DejaVuSans-69\" transform=\"translate(719.101562 0)\"/>\n     <use xlink:href=\"#DejaVuSans-64\" transform=\"translate(746.884766 0)\"/>\n     <use xlink:href=\"#DejaVuSans-61\" transform=\"translate(810.361328 0)\"/>\n     <use xlink:href=\"#DejaVuSans-74\" transform=\"translate(871.640625 0)\"/>\n     <use xlink:href=\"#DejaVuSans-69\" transform=\"translate(910.849609 0)\"/>\n     <use xlink:href=\"#DejaVuSans-6f\" transform=\"translate(938.632812 0)\"/>\n     <use xlink:href=\"#DejaVuSans-6e\" transform=\"translate(999.814453 0)\"/>\n     <use xlink:href=\"#DejaVuSans-20\" transform=\"translate(1063.193359 0)\"/>\n     <use xlink:href=\"#DejaVuSans-4c\" transform=\"translate(1094.980469 0)\"/>\n     <use xlink:href=\"#DejaVuSans-6f\" transform=\"translate(1148.943359 0)\"/>\n     <use xlink:href=\"#DejaVuSans-73\" transform=\"translate(1210.125 0)\"/>\n     <use xlink:href=\"#DejaVuSans-73\" transform=\"translate(1262.224609 0)\"/>\n    </g>\n   </g>\n   <g id=\"legend_1\">\n    <g id=\"patch_7\">\n     <path d=\"M 234.651136 59.674375 \nL 341.144886 59.674375 \nQ 343.144886 59.674375 343.144886 57.674375 \nL 343.144886 29.318125 \nQ 343.144886 27.318125 341.144886 27.318125 \nL 234.651136 27.318125 \nQ 232.651136 27.318125 232.651136 29.318125 \nL 232.651136 57.674375 \nQ 232.651136 59.674375 234.651136 59.674375 \nz\n\" style=\"fill: #ffffff; opacity: 0.8; stroke: #cccccc; stroke-linejoin: miter\"/>\n    </g>\n    <g id=\"line2d_35\">\n     <path d=\"M 236.651136 35.416562 \nL 246.651136 35.416562 \nL 256.651136 35.416562 \n\" style=\"fill: none; stroke: #1f77b4; stroke-width: 1.5; stroke-linecap: square\"/>\n     <g>\n      <use xlink:href=\"#m6bc725f354\" x=\"246.651136\" y=\"35.416562\" style=\"fill: #1f77b4; stroke: #1f77b4\"/>\n     </g>\n    </g>\n    <g id=\"text_20\">\n     <!-- Train Loss -->\n     <g transform=\"translate(264.651136 38.916562) scale(0.1 -0.1)\">\n      <use xlink:href=\"#DejaVuSans-54\"/>\n      <use xlink:href=\"#DejaVuSans-72\" transform=\"translate(46.333984 0)\"/>\n      <use xlink:href=\"#DejaVuSans-61\" transform=\"translate(87.447266 0)\"/>\n      <use xlink:href=\"#DejaVuSans-69\" transform=\"translate(148.726562 0)\"/>\n      <use xlink:href=\"#DejaVuSans-6e\" transform=\"translate(176.509766 0)\"/>\n      <use xlink:href=\"#DejaVuSans-20\" transform=\"translate(239.888672 0)\"/>\n      <use xlink:href=\"#DejaVuSans-4c\" transform=\"translate(271.675781 0)\"/>\n      <use xlink:href=\"#DejaVuSans-6f\" transform=\"translate(325.638672 0)\"/>\n      <use xlink:href=\"#DejaVuSans-73\" transform=\"translate(386.820312 0)\"/>\n      <use xlink:href=\"#DejaVuSans-73\" transform=\"translate(438.919922 0)\"/>\n     </g>\n    </g>\n    <g id=\"line2d_36\">\n     <path d=\"M 236.651136 50.094687 \nL 246.651136 50.094687 \nL 256.651136 50.094687 \n\" style=\"fill: none; stroke: #ff7f0e; stroke-width: 1.5; stroke-linecap: square\"/>\n     <g>\n      <use xlink:href=\"#ma6d62f50e7\" x=\"246.651136\" y=\"50.094687\" style=\"fill: #ff7f0e; stroke: #ff7f0e\"/>\n     </g>\n    </g>\n    <g id=\"text_21\">\n     <!-- Validation Loss -->\n     <g transform=\"translate(264.651136 53.594687) scale(0.1 -0.1)\">\n      <use xlink:href=\"#DejaVuSans-56\"/>\n      <use xlink:href=\"#DejaVuSans-61\" transform=\"translate(60.658203 0)\"/>\n      <use xlink:href=\"#DejaVuSans-6c\" transform=\"translate(121.9375 0)\"/>\n      <use xlink:href=\"#DejaVuSans-69\" transform=\"translate(149.720703 0)\"/>\n      <use xlink:href=\"#DejaVuSans-64\" transform=\"translate(177.503906 0)\"/>\n      <use xlink:href=\"#DejaVuSans-61\" transform=\"translate(240.980469 0)\"/>\n      <use xlink:href=\"#DejaVuSans-74\" transform=\"translate(302.259766 0)\"/>\n      <use xlink:href=\"#DejaVuSans-69\" transform=\"translate(341.46875 0)\"/>\n      <use xlink:href=\"#DejaVuSans-6f\" transform=\"translate(369.251953 0)\"/>\n      <use xlink:href=\"#DejaVuSans-6e\" transform=\"translate(430.433594 0)\"/>\n      <use xlink:href=\"#DejaVuSans-20\" transform=\"translate(493.8125 0)\"/>\n      <use xlink:href=\"#DejaVuSans-4c\" transform=\"translate(525.599609 0)\"/>\n      <use xlink:href=\"#DejaVuSans-6f\" transform=\"translate(579.5625 0)\"/>\n      <use xlink:href=\"#DejaVuSans-73\" transform=\"translate(640.744141 0)\"/>\n      <use xlink:href=\"#DejaVuSans-73\" transform=\"translate(692.84375 0)\"/>\n     </g>\n    </g>\n   </g>\n  </g>\n  <g id=\"axes_2\">\n   <g id=\"patch_8\">\n    <path d=\"M 409.017614 244.078125 \nL 713.38125 244.078125 \nL 713.38125 22.318125 \nL 409.017614 22.318125 \nz\n\" style=\"fill: #ffffff\"/>\n   </g>\n   <g id=\"matplotlib.axis_3\">\n    <g id=\"xtick_10\">\n     <g id=\"line2d_37\">\n      <path d=\"M 422.852324 244.078125 \nL 422.852324 22.318125 \n\" clip-path=\"url(#p365781bc97)\" style=\"fill: none; stroke: #b0b0b0; stroke-width: 0.8; stroke-linecap: square\"/>\n     </g>\n     <g id=\"line2d_38\">\n      <g>\n       <use xlink:href=\"#m54ae5c2738\" x=\"422.852324\" y=\"244.078125\" style=\"stroke: #000000; stroke-width: 0.8\"/>\n      </g>\n     </g>\n     <g id=\"text_22\">\n      <!-- 1.00 -->\n      <g transform=\"translate(411.719512 258.676562) scale(0.1 -0.1)\">\n       <use xlink:href=\"#DejaVuSans-31\"/>\n       <use xlink:href=\"#DejaVuSans-2e\" transform=\"translate(63.623047 0)\"/>\n       <use xlink:href=\"#DejaVuSans-30\" transform=\"translate(95.410156 0)\"/>\n       <use xlink:href=\"#DejaVuSans-30\" transform=\"translate(159.033203 0)\"/>\n      </g>\n     </g>\n    </g>\n    <g id=\"xtick_11\">\n     <g id=\"line2d_39\">\n      <path d=\"M 457.439101 244.078125 \nL 457.439101 22.318125 \n\" clip-path=\"url(#p365781bc97)\" style=\"fill: none; stroke: #b0b0b0; stroke-width: 0.8; stroke-linecap: square\"/>\n     </g>\n     <g id=\"line2d_40\">\n      <g>\n       <use xlink:href=\"#m54ae5c2738\" x=\"457.439101\" y=\"244.078125\" style=\"stroke: #000000; stroke-width: 0.8\"/>\n      </g>\n     </g>\n     <g id=\"text_23\">\n      <!-- 1.25 -->\n      <g transform=\"translate(446.306289 258.676562) scale(0.1 -0.1)\">\n       <use xlink:href=\"#DejaVuSans-31\"/>\n       <use xlink:href=\"#DejaVuSans-2e\" transform=\"translate(63.623047 0)\"/>\n       <use xlink:href=\"#DejaVuSans-32\" transform=\"translate(95.410156 0)\"/>\n       <use xlink:href=\"#DejaVuSans-35\" transform=\"translate(159.033203 0)\"/>\n      </g>\n     </g>\n    </g>\n    <g id=\"xtick_12\">\n     <g id=\"line2d_41\">\n      <path d=\"M 492.025878 244.078125 \nL 492.025878 22.318125 \n\" clip-path=\"url(#p365781bc97)\" style=\"fill: none; stroke: #b0b0b0; stroke-width: 0.8; stroke-linecap: square\"/>\n     </g>\n     <g id=\"line2d_42\">\n      <g>\n       <use xlink:href=\"#m54ae5c2738\" x=\"492.025878\" y=\"244.078125\" style=\"stroke: #000000; stroke-width: 0.8\"/>\n      </g>\n     </g>\n     <g id=\"text_24\">\n      <!-- 1.50 -->\n      <g transform=\"translate(480.893066 258.676562) scale(0.1 -0.1)\">\n       <use xlink:href=\"#DejaVuSans-31\"/>\n       <use xlink:href=\"#DejaVuSans-2e\" transform=\"translate(63.623047 0)\"/>\n       <use xlink:href=\"#DejaVuSans-35\" transform=\"translate(95.410156 0)\"/>\n       <use xlink:href=\"#DejaVuSans-30\" transform=\"translate(159.033203 0)\"/>\n      </g>\n     </g>\n    </g>\n    <g id=\"xtick_13\">\n     <g id=\"line2d_43\">\n      <path d=\"M 526.612655 244.078125 \nL 526.612655 22.318125 \n\" clip-path=\"url(#p365781bc97)\" style=\"fill: none; stroke: #b0b0b0; stroke-width: 0.8; stroke-linecap: square\"/>\n     </g>\n     <g id=\"line2d_44\">\n      <g>\n       <use xlink:href=\"#m54ae5c2738\" x=\"526.612655\" y=\"244.078125\" style=\"stroke: #000000; stroke-width: 0.8\"/>\n      </g>\n     </g>\n     <g id=\"text_25\">\n      <!-- 1.75 -->\n      <g transform=\"translate(515.479842 258.676562) scale(0.1 -0.1)\">\n       <use xlink:href=\"#DejaVuSans-31\"/>\n       <use xlink:href=\"#DejaVuSans-2e\" transform=\"translate(63.623047 0)\"/>\n       <use xlink:href=\"#DejaVuSans-37\" transform=\"translate(95.410156 0)\"/>\n       <use xlink:href=\"#DejaVuSans-35\" transform=\"translate(159.033203 0)\"/>\n      </g>\n     </g>\n    </g>\n    <g id=\"xtick_14\">\n     <g id=\"line2d_45\">\n      <path d=\"M 561.199432 244.078125 \nL 561.199432 22.318125 \n\" clip-path=\"url(#p365781bc97)\" style=\"fill: none; stroke: #b0b0b0; stroke-width: 0.8; stroke-linecap: square\"/>\n     </g>\n     <g id=\"line2d_46\">\n      <g>\n       <use xlink:href=\"#m54ae5c2738\" x=\"561.199432\" y=\"244.078125\" style=\"stroke: #000000; stroke-width: 0.8\"/>\n      </g>\n     </g>\n     <g id=\"text_26\">\n      <!-- 2.00 -->\n      <g transform=\"translate(550.066619 258.676562) scale(0.1 -0.1)\">\n       <use xlink:href=\"#DejaVuSans-32\"/>\n       <use xlink:href=\"#DejaVuSans-2e\" transform=\"translate(63.623047 0)\"/>\n       <use xlink:href=\"#DejaVuSans-30\" transform=\"translate(95.410156 0)\"/>\n       <use xlink:href=\"#DejaVuSans-30\" transform=\"translate(159.033203 0)\"/>\n      </g>\n     </g>\n    </g>\n    <g id=\"xtick_15\">\n     <g id=\"line2d_47\">\n      <path d=\"M 595.786209 244.078125 \nL 595.786209 22.318125 \n\" clip-path=\"url(#p365781bc97)\" style=\"fill: none; stroke: #b0b0b0; stroke-width: 0.8; stroke-linecap: square\"/>\n     </g>\n     <g id=\"line2d_48\">\n      <g>\n       <use xlink:href=\"#m54ae5c2738\" x=\"595.786209\" y=\"244.078125\" style=\"stroke: #000000; stroke-width: 0.8\"/>\n      </g>\n     </g>\n     <g id=\"text_27\">\n      <!-- 2.25 -->\n      <g transform=\"translate(584.653396 258.676562) scale(0.1 -0.1)\">\n       <use xlink:href=\"#DejaVuSans-32\"/>\n       <use xlink:href=\"#DejaVuSans-2e\" transform=\"translate(63.623047 0)\"/>\n       <use xlink:href=\"#DejaVuSans-32\" transform=\"translate(95.410156 0)\"/>\n       <use xlink:href=\"#DejaVuSans-35\" transform=\"translate(159.033203 0)\"/>\n      </g>\n     </g>\n    </g>\n    <g id=\"xtick_16\">\n     <g id=\"line2d_49\">\n      <path d=\"M 630.372986 244.078125 \nL 630.372986 22.318125 \n\" clip-path=\"url(#p365781bc97)\" style=\"fill: none; stroke: #b0b0b0; stroke-width: 0.8; stroke-linecap: square\"/>\n     </g>\n     <g id=\"line2d_50\">\n      <g>\n       <use xlink:href=\"#m54ae5c2738\" x=\"630.372986\" y=\"244.078125\" style=\"stroke: #000000; stroke-width: 0.8\"/>\n      </g>\n     </g>\n     <g id=\"text_28\">\n      <!-- 2.50 -->\n      <g transform=\"translate(619.240173 258.676562) scale(0.1 -0.1)\">\n       <use xlink:href=\"#DejaVuSans-32\"/>\n       <use xlink:href=\"#DejaVuSans-2e\" transform=\"translate(63.623047 0)\"/>\n       <use xlink:href=\"#DejaVuSans-35\" transform=\"translate(95.410156 0)\"/>\n       <use xlink:href=\"#DejaVuSans-30\" transform=\"translate(159.033203 0)\"/>\n      </g>\n     </g>\n    </g>\n    <g id=\"xtick_17\">\n     <g id=\"line2d_51\">\n      <path d=\"M 664.959762 244.078125 \nL 664.959762 22.318125 \n\" clip-path=\"url(#p365781bc97)\" style=\"fill: none; stroke: #b0b0b0; stroke-width: 0.8; stroke-linecap: square\"/>\n     </g>\n     <g id=\"line2d_52\">\n      <g>\n       <use xlink:href=\"#m54ae5c2738\" x=\"664.959762\" y=\"244.078125\" style=\"stroke: #000000; stroke-width: 0.8\"/>\n      </g>\n     </g>\n     <g id=\"text_29\">\n      <!-- 2.75 -->\n      <g transform=\"translate(653.82695 258.676562) scale(0.1 -0.1)\">\n       <use xlink:href=\"#DejaVuSans-32\"/>\n       <use xlink:href=\"#DejaVuSans-2e\" transform=\"translate(63.623047 0)\"/>\n       <use xlink:href=\"#DejaVuSans-37\" transform=\"translate(95.410156 0)\"/>\n       <use xlink:href=\"#DejaVuSans-35\" transform=\"translate(159.033203 0)\"/>\n      </g>\n     </g>\n    </g>\n    <g id=\"xtick_18\">\n     <g id=\"line2d_53\">\n      <path d=\"M 699.546539 244.078125 \nL 699.546539 22.318125 \n\" clip-path=\"url(#p365781bc97)\" style=\"fill: none; stroke: #b0b0b0; stroke-width: 0.8; stroke-linecap: square\"/>\n     </g>\n     <g id=\"line2d_54\">\n      <g>\n       <use xlink:href=\"#m54ae5c2738\" x=\"699.546539\" y=\"244.078125\" style=\"stroke: #000000; stroke-width: 0.8\"/>\n      </g>\n     </g>\n     <g id=\"text_30\">\n      <!-- 3.00 -->\n      <g transform=\"translate(688.413727 258.676562) scale(0.1 -0.1)\">\n       <use xlink:href=\"#DejaVuSans-33\"/>\n       <use xlink:href=\"#DejaVuSans-2e\" transform=\"translate(63.623047 0)\"/>\n       <use xlink:href=\"#DejaVuSans-30\" transform=\"translate(95.410156 0)\"/>\n       <use xlink:href=\"#DejaVuSans-30\" transform=\"translate(159.033203 0)\"/>\n      </g>\n     </g>\n    </g>\n    <g id=\"text_31\">\n     <!-- Epochs -->\n     <g transform=\"translate(543.283807 272.354687) scale(0.1 -0.1)\">\n      <use xlink:href=\"#DejaVuSans-45\"/>\n      <use xlink:href=\"#DejaVuSans-70\" transform=\"translate(63.183594 0)\"/>\n      <use xlink:href=\"#DejaVuSans-6f\" transform=\"translate(126.660156 0)\"/>\n      <use xlink:href=\"#DejaVuSans-63\" transform=\"translate(187.841797 0)\"/>\n      <use xlink:href=\"#DejaVuSans-68\" transform=\"translate(242.822266 0)\"/>\n      <use xlink:href=\"#DejaVuSans-73\" transform=\"translate(306.201172 0)\"/>\n     </g>\n    </g>\n   </g>\n   <g id=\"matplotlib.axis_4\">\n    <g id=\"ytick_8\">\n     <g id=\"line2d_55\">\n      <path d=\"M 409.017614 241.751971 \nL 713.38125 241.751971 \n\" clip-path=\"url(#p365781bc97)\" style=\"fill: none; stroke: #b0b0b0; stroke-width: 0.8; stroke-linecap: square\"/>\n     </g>\n     <g id=\"line2d_56\">\n      <g>\n       <use xlink:href=\"#m79e29c0aca\" x=\"409.017614\" y=\"241.751971\" style=\"stroke: #000000; stroke-width: 0.8\"/>\n      </g>\n     </g>\n     <g id=\"text_32\">\n      <!-- 0.80 -->\n      <g transform=\"translate(379.751989 245.55119) scale(0.1 -0.1)\">\n       <use xlink:href=\"#DejaVuSans-30\"/>\n       <use xlink:href=\"#DejaVuSans-2e\" transform=\"translate(63.623047 0)\"/>\n       <use xlink:href=\"#DejaVuSans-38\" transform=\"translate(95.410156 0)\"/>\n       <use xlink:href=\"#DejaVuSans-30\" transform=\"translate(159.033203 0)\"/>\n      </g>\n     </g>\n    </g>\n    <g id=\"ytick_9\">\n     <g id=\"line2d_57\">\n      <path d=\"M 409.017614 210.736587 \nL 713.38125 210.736587 \n\" clip-path=\"url(#p365781bc97)\" style=\"fill: none; stroke: #b0b0b0; stroke-width: 0.8; stroke-linecap: square\"/>\n     </g>\n     <g id=\"line2d_58\">\n      <g>\n       <use xlink:href=\"#m79e29c0aca\" x=\"409.017614\" y=\"210.736587\" style=\"stroke: #000000; stroke-width: 0.8\"/>\n      </g>\n     </g>\n     <g id=\"text_33\">\n      <!-- 0.81 -->\n      <g transform=\"translate(379.751989 214.535805) scale(0.1 -0.1)\">\n       <use xlink:href=\"#DejaVuSans-30\"/>\n       <use xlink:href=\"#DejaVuSans-2e\" transform=\"translate(63.623047 0)\"/>\n       <use xlink:href=\"#DejaVuSans-38\" transform=\"translate(95.410156 0)\"/>\n       <use xlink:href=\"#DejaVuSans-31\" transform=\"translate(159.033203 0)\"/>\n      </g>\n     </g>\n    </g>\n    <g id=\"ytick_10\">\n     <g id=\"line2d_59\">\n      <path d=\"M 409.017614 179.721202 \nL 713.38125 179.721202 \n\" clip-path=\"url(#p365781bc97)\" style=\"fill: none; stroke: #b0b0b0; stroke-width: 0.8; stroke-linecap: square\"/>\n     </g>\n     <g id=\"line2d_60\">\n      <g>\n       <use xlink:href=\"#m79e29c0aca\" x=\"409.017614\" y=\"179.721202\" style=\"stroke: #000000; stroke-width: 0.8\"/>\n      </g>\n     </g>\n     <g id=\"text_34\">\n      <!-- 0.82 -->\n      <g transform=\"translate(379.751989 183.520421) scale(0.1 -0.1)\">\n       <use xlink:href=\"#DejaVuSans-30\"/>\n       <use xlink:href=\"#DejaVuSans-2e\" transform=\"translate(63.623047 0)\"/>\n       <use xlink:href=\"#DejaVuSans-38\" transform=\"translate(95.410156 0)\"/>\n       <use xlink:href=\"#DejaVuSans-32\" transform=\"translate(159.033203 0)\"/>\n      </g>\n     </g>\n    </g>\n    <g id=\"ytick_11\">\n     <g id=\"line2d_61\">\n      <path d=\"M 409.017614 148.705817 \nL 713.38125 148.705817 \n\" clip-path=\"url(#p365781bc97)\" style=\"fill: none; stroke: #b0b0b0; stroke-width: 0.8; stroke-linecap: square\"/>\n     </g>\n     <g id=\"line2d_62\">\n      <g>\n       <use xlink:href=\"#m79e29c0aca\" x=\"409.017614\" y=\"148.705817\" style=\"stroke: #000000; stroke-width: 0.8\"/>\n      </g>\n     </g>\n     <g id=\"text_35\">\n      <!-- 0.83 -->\n      <g transform=\"translate(379.751989 152.505036) scale(0.1 -0.1)\">\n       <use xlink:href=\"#DejaVuSans-30\"/>\n       <use xlink:href=\"#DejaVuSans-2e\" transform=\"translate(63.623047 0)\"/>\n       <use xlink:href=\"#DejaVuSans-38\" transform=\"translate(95.410156 0)\"/>\n       <use xlink:href=\"#DejaVuSans-33\" transform=\"translate(159.033203 0)\"/>\n      </g>\n     </g>\n    </g>\n    <g id=\"ytick_12\">\n     <g id=\"line2d_63\">\n      <path d=\"M 409.017614 117.690433 \nL 713.38125 117.690433 \n\" clip-path=\"url(#p365781bc97)\" style=\"fill: none; stroke: #b0b0b0; stroke-width: 0.8; stroke-linecap: square\"/>\n     </g>\n     <g id=\"line2d_64\">\n      <g>\n       <use xlink:href=\"#m79e29c0aca\" x=\"409.017614\" y=\"117.690433\" style=\"stroke: #000000; stroke-width: 0.8\"/>\n      </g>\n     </g>\n     <g id=\"text_36\">\n      <!-- 0.84 -->\n      <g transform=\"translate(379.751989 121.489651) scale(0.1 -0.1)\">\n       <use xlink:href=\"#DejaVuSans-30\"/>\n       <use xlink:href=\"#DejaVuSans-2e\" transform=\"translate(63.623047 0)\"/>\n       <use xlink:href=\"#DejaVuSans-38\" transform=\"translate(95.410156 0)\"/>\n       <use xlink:href=\"#DejaVuSans-34\" transform=\"translate(159.033203 0)\"/>\n      </g>\n     </g>\n    </g>\n    <g id=\"ytick_13\">\n     <g id=\"line2d_65\">\n      <path d=\"M 409.017614 86.675048 \nL 713.38125 86.675048 \n\" clip-path=\"url(#p365781bc97)\" style=\"fill: none; stroke: #b0b0b0; stroke-width: 0.8; stroke-linecap: square\"/>\n     </g>\n     <g id=\"line2d_66\">\n      <g>\n       <use xlink:href=\"#m79e29c0aca\" x=\"409.017614\" y=\"86.675048\" style=\"stroke: #000000; stroke-width: 0.8\"/>\n      </g>\n     </g>\n     <g id=\"text_37\">\n      <!-- 0.85 -->\n      <g transform=\"translate(379.751989 90.474267) scale(0.1 -0.1)\">\n       <use xlink:href=\"#DejaVuSans-30\"/>\n       <use xlink:href=\"#DejaVuSans-2e\" transform=\"translate(63.623047 0)\"/>\n       <use xlink:href=\"#DejaVuSans-38\" transform=\"translate(95.410156 0)\"/>\n       <use xlink:href=\"#DejaVuSans-35\" transform=\"translate(159.033203 0)\"/>\n      </g>\n     </g>\n    </g>\n    <g id=\"ytick_14\">\n     <g id=\"line2d_67\">\n      <path d=\"M 409.017614 55.659663 \nL 713.38125 55.659663 \n\" clip-path=\"url(#p365781bc97)\" style=\"fill: none; stroke: #b0b0b0; stroke-width: 0.8; stroke-linecap: square\"/>\n     </g>\n     <g id=\"line2d_68\">\n      <g>\n       <use xlink:href=\"#m79e29c0aca\" x=\"409.017614\" y=\"55.659663\" style=\"stroke: #000000; stroke-width: 0.8\"/>\n      </g>\n     </g>\n     <g id=\"text_38\">\n      <!-- 0.86 -->\n      <g transform=\"translate(379.751989 59.458882) scale(0.1 -0.1)\">\n       <use xlink:href=\"#DejaVuSans-30\"/>\n       <use xlink:href=\"#DejaVuSans-2e\" transform=\"translate(63.623047 0)\"/>\n       <use xlink:href=\"#DejaVuSans-38\" transform=\"translate(95.410156 0)\"/>\n       <use xlink:href=\"#DejaVuSans-36\" transform=\"translate(159.033203 0)\"/>\n      </g>\n     </g>\n    </g>\n    <g id=\"ytick_15\">\n     <g id=\"line2d_69\">\n      <path d=\"M 409.017614 24.644279 \nL 713.38125 24.644279 \n\" clip-path=\"url(#p365781bc97)\" style=\"fill: none; stroke: #b0b0b0; stroke-width: 0.8; stroke-linecap: square\"/>\n     </g>\n     <g id=\"line2d_70\">\n      <g>\n       <use xlink:href=\"#m79e29c0aca\" x=\"409.017614\" y=\"24.644279\" style=\"stroke: #000000; stroke-width: 0.8\"/>\n      </g>\n     </g>\n     <g id=\"text_39\">\n      <!-- 0.87 -->\n      <g transform=\"translate(379.751989 28.443498) scale(0.1 -0.1)\">\n       <use xlink:href=\"#DejaVuSans-30\"/>\n       <use xlink:href=\"#DejaVuSans-2e\" transform=\"translate(63.623047 0)\"/>\n       <use xlink:href=\"#DejaVuSans-38\" transform=\"translate(95.410156 0)\"/>\n       <use xlink:href=\"#DejaVuSans-37\" transform=\"translate(159.033203 0)\"/>\n      </g>\n     </g>\n    </g>\n    <g id=\"text_40\">\n     <!-- Accuracy -->\n     <g transform=\"translate(373.672301 156.02625) rotate(-90) scale(0.1 -0.1)\">\n      <defs>\n       <path id=\"DejaVuSans-41\" d=\"M 2188 4044 \nL 1331 1722 \nL 3047 1722 \nL 2188 4044 \nz\nM 1831 4666 \nL 2547 4666 \nL 4325 0 \nL 3669 0 \nL 3244 1197 \nL 1141 1197 \nL 716 0 \nL 50 0 \nL 1831 4666 \nz\n\" transform=\"scale(0.015625)\"/>\n       <path id=\"DejaVuSans-75\" d=\"M 544 1381 \nL 544 3500 \nL 1119 3500 \nL 1119 1403 \nQ 1119 906 1312 657 \nQ 1506 409 1894 409 \nQ 2359 409 2629 706 \nQ 2900 1003 2900 1516 \nL 2900 3500 \nL 3475 3500 \nL 3475 0 \nL 2900 0 \nL 2900 538 \nQ 2691 219 2414 64 \nQ 2138 -91 1772 -91 \nQ 1169 -91 856 284 \nQ 544 659 544 1381 \nz\nM 1991 3584 \nL 1991 3584 \nz\n\" transform=\"scale(0.015625)\"/>\n       <path id=\"DejaVuSans-79\" d=\"M 2059 -325 \nQ 1816 -950 1584 -1140 \nQ 1353 -1331 966 -1331 \nL 506 -1331 \nL 506 -850 \nL 844 -850 \nQ 1081 -850 1212 -737 \nQ 1344 -625 1503 -206 \nL 1606 56 \nL 191 3500 \nL 800 3500 \nL 1894 763 \nL 2988 3500 \nL 3597 3500 \nL 2059 -325 \nz\n\" transform=\"scale(0.015625)\"/>\n      </defs>\n      <use xlink:href=\"#DejaVuSans-41\"/>\n      <use xlink:href=\"#DejaVuSans-63\" transform=\"translate(66.658203 0)\"/>\n      <use xlink:href=\"#DejaVuSans-63\" transform=\"translate(121.638672 0)\"/>\n      <use xlink:href=\"#DejaVuSans-75\" transform=\"translate(176.619141 0)\"/>\n      <use xlink:href=\"#DejaVuSans-72\" transform=\"translate(239.998047 0)\"/>\n      <use xlink:href=\"#DejaVuSans-61\" transform=\"translate(281.111328 0)\"/>\n      <use xlink:href=\"#DejaVuSans-63\" transform=\"translate(342.390625 0)\"/>\n      <use xlink:href=\"#DejaVuSans-79\" transform=\"translate(397.371094 0)\"/>\n     </g>\n    </g>\n   </g>\n   <g id=\"line2d_71\">\n    <path d=\"M 422.852324 233.998125 \nL 561.199432 210.736587 \nL 699.546539 32.398125 \n\" clip-path=\"url(#p365781bc97)\" style=\"fill: none; stroke: #008000; stroke-width: 1.5; stroke-linecap: square\"/>\n    <defs>\n     <path id=\"m79aa68c8c3\" d=\"M 0 3 \nC 0.795609 3 1.55874 2.683901 2.12132 2.12132 \nC 2.683901 1.55874 3 0.795609 3 0 \nC 3 -0.795609 2.683901 -1.55874 2.12132 -2.12132 \nC 1.55874 -2.683901 0.795609 -3 0 -3 \nC -0.795609 -3 -1.55874 -2.683901 -2.12132 -2.12132 \nC -2.683901 -1.55874 -3 -0.795609 -3 0 \nC -3 0.795609 -2.683901 1.55874 -2.12132 2.12132 \nC -1.55874 2.683901 -0.795609 3 0 3 \nz\n\" style=\"stroke: #008000\"/>\n    </defs>\n    <g clip-path=\"url(#p365781bc97)\">\n     <use xlink:href=\"#m79aa68c8c3\" x=\"422.852324\" y=\"233.998125\" style=\"fill: #008000; stroke: #008000\"/>\n     <use xlink:href=\"#m79aa68c8c3\" x=\"561.199432\" y=\"210.736587\" style=\"fill: #008000; stroke: #008000\"/>\n     <use xlink:href=\"#m79aa68c8c3\" x=\"699.546539\" y=\"32.398125\" style=\"fill: #008000; stroke: #008000\"/>\n    </g>\n   </g>\n   <g id=\"patch_9\">\n    <path d=\"M 409.017614 244.078125 \nL 409.017614 22.318125 \n\" style=\"fill: none; stroke: #000000; stroke-width: 0.8; stroke-linejoin: miter; stroke-linecap: square\"/>\n   </g>\n   <g id=\"patch_10\">\n    <path d=\"M 713.38125 244.078125 \nL 713.38125 22.318125 \n\" style=\"fill: none; stroke: #000000; stroke-width: 0.8; stroke-linejoin: miter; stroke-linecap: square\"/>\n   </g>\n   <g id=\"patch_11\">\n    <path d=\"M 409.017614 244.078125 \nL 713.38125 244.078125 \n\" style=\"fill: none; stroke: #000000; stroke-width: 0.8; stroke-linejoin: miter; stroke-linecap: square\"/>\n   </g>\n   <g id=\"patch_12\">\n    <path d=\"M 409.017614 22.318125 \nL 713.38125 22.318125 \n\" style=\"fill: none; stroke: #000000; stroke-width: 0.8; stroke-linejoin: miter; stroke-linecap: square\"/>\n   </g>\n   <g id=\"text_41\">\n    <!-- Validation Accuracy over Epochs -->\n    <g transform=\"translate(463.576619 16.318125) scale(0.12 -0.12)\">\n     <defs>\n      <path id=\"DejaVuSans-65\" d=\"M 3597 1894 \nL 3597 1613 \nL 953 1613 \nQ 991 1019 1311 708 \nQ 1631 397 2203 397 \nQ 2534 397 2845 478 \nQ 3156 559 3463 722 \nL 3463 178 \nQ 3153 47 2828 -22 \nQ 2503 -91 2169 -91 \nQ 1331 -91 842 396 \nQ 353 884 353 1716 \nQ 353 2575 817 3079 \nQ 1281 3584 2069 3584 \nQ 2775 3584 3186 3129 \nQ 3597 2675 3597 1894 \nz\nM 3022 2063 \nQ 3016 2534 2758 2815 \nQ 2500 3097 2075 3097 \nQ 1594 3097 1305 2825 \nQ 1016 2553 972 2059 \nL 3022 2063 \nz\n\" transform=\"scale(0.015625)\"/>\n     </defs>\n     <use xlink:href=\"#DejaVuSans-56\"/>\n     <use xlink:href=\"#DejaVuSans-61\" transform=\"translate(60.658203 0)\"/>\n     <use xlink:href=\"#DejaVuSans-6c\" transform=\"translate(121.9375 0)\"/>\n     <use xlink:href=\"#DejaVuSans-69\" transform=\"translate(149.720703 0)\"/>\n     <use xlink:href=\"#DejaVuSans-64\" transform=\"translate(177.503906 0)\"/>\n     <use xlink:href=\"#DejaVuSans-61\" transform=\"translate(240.980469 0)\"/>\n     <use xlink:href=\"#DejaVuSans-74\" transform=\"translate(302.259766 0)\"/>\n     <use xlink:href=\"#DejaVuSans-69\" transform=\"translate(341.46875 0)\"/>\n     <use xlink:href=\"#DejaVuSans-6f\" transform=\"translate(369.251953 0)\"/>\n     <use xlink:href=\"#DejaVuSans-6e\" transform=\"translate(430.433594 0)\"/>\n     <use xlink:href=\"#DejaVuSans-20\" transform=\"translate(493.8125 0)\"/>\n     <use xlink:href=\"#DejaVuSans-41\" transform=\"translate(525.599609 0)\"/>\n     <use xlink:href=\"#DejaVuSans-63\" transform=\"translate(592.257812 0)\"/>\n     <use xlink:href=\"#DejaVuSans-63\" transform=\"translate(647.238281 0)\"/>\n     <use xlink:href=\"#DejaVuSans-75\" transform=\"translate(702.21875 0)\"/>\n     <use xlink:href=\"#DejaVuSans-72\" transform=\"translate(765.597656 0)\"/>\n     <use xlink:href=\"#DejaVuSans-61\" transform=\"translate(806.710938 0)\"/>\n     <use xlink:href=\"#DejaVuSans-63\" transform=\"translate(867.990234 0)\"/>\n     <use xlink:href=\"#DejaVuSans-79\" transform=\"translate(922.970703 0)\"/>\n     <use xlink:href=\"#DejaVuSans-20\" transform=\"translate(982.150391 0)\"/>\n     <use xlink:href=\"#DejaVuSans-6f\" transform=\"translate(1013.9375 0)\"/>\n     <use xlink:href=\"#DejaVuSans-76\" transform=\"translate(1075.119141 0)\"/>\n     <use xlink:href=\"#DejaVuSans-65\" transform=\"translate(1134.298828 0)\"/>\n     <use xlink:href=\"#DejaVuSans-72\" transform=\"translate(1195.822266 0)\"/>\n     <use xlink:href=\"#DejaVuSans-20\" transform=\"translate(1236.935547 0)\"/>\n     <use xlink:href=\"#DejaVuSans-45\" transform=\"translate(1268.722656 0)\"/>\n     <use xlink:href=\"#DejaVuSans-70\" transform=\"translate(1331.90625 0)\"/>\n     <use xlink:href=\"#DejaVuSans-6f\" transform=\"translate(1395.382812 0)\"/>\n     <use xlink:href=\"#DejaVuSans-63\" transform=\"translate(1456.564453 0)\"/>\n     <use xlink:href=\"#DejaVuSans-68\" transform=\"translate(1511.544922 0)\"/>\n     <use xlink:href=\"#DejaVuSans-73\" transform=\"translate(1574.923828 0)\"/>\n    </g>\n   </g>\n   <g id=\"legend_2\">\n    <g id=\"patch_13\">\n     <path d=\"M 416.017614 44.99625 \nL 546.233239 44.99625 \nQ 548.233239 44.99625 548.233239 42.99625 \nL 548.233239 29.318125 \nQ 548.233239 27.318125 546.233239 27.318125 \nL 416.017614 27.318125 \nQ 414.017614 27.318125 414.017614 29.318125 \nL 414.017614 42.99625 \nQ 414.017614 44.99625 416.017614 44.99625 \nz\n\" style=\"fill: #ffffff; opacity: 0.8; stroke: #cccccc; stroke-linejoin: miter\"/>\n    </g>\n    <g id=\"line2d_72\">\n     <path d=\"M 418.017614 35.416562 \nL 428.017614 35.416562 \nL 438.017614 35.416562 \n\" style=\"fill: none; stroke: #008000; stroke-width: 1.5; stroke-linecap: square\"/>\n     <g>\n      <use xlink:href=\"#m79aa68c8c3\" x=\"428.017614\" y=\"35.416562\" style=\"fill: #008000; stroke: #008000\"/>\n     </g>\n    </g>\n    <g id=\"text_42\">\n     <!-- Validation Accuracy -->\n     <g transform=\"translate(446.017614 38.916562) scale(0.1 -0.1)\">\n      <use xlink:href=\"#DejaVuSans-56\"/>\n      <use xlink:href=\"#DejaVuSans-61\" transform=\"translate(60.658203 0)\"/>\n      <use xlink:href=\"#DejaVuSans-6c\" transform=\"translate(121.9375 0)\"/>\n      <use xlink:href=\"#DejaVuSans-69\" transform=\"translate(149.720703 0)\"/>\n      <use xlink:href=\"#DejaVuSans-64\" transform=\"translate(177.503906 0)\"/>\n      <use xlink:href=\"#DejaVuSans-61\" transform=\"translate(240.980469 0)\"/>\n      <use xlink:href=\"#DejaVuSans-74\" transform=\"translate(302.259766 0)\"/>\n      <use xlink:href=\"#DejaVuSans-69\" transform=\"translate(341.46875 0)\"/>\n      <use xlink:href=\"#DejaVuSans-6f\" transform=\"translate(369.251953 0)\"/>\n      <use xlink:href=\"#DejaVuSans-6e\" transform=\"translate(430.433594 0)\"/>\n      <use xlink:href=\"#DejaVuSans-20\" transform=\"translate(493.8125 0)\"/>\n      <use xlink:href=\"#DejaVuSans-41\" transform=\"translate(525.599609 0)\"/>\n      <use xlink:href=\"#DejaVuSans-63\" transform=\"translate(592.257812 0)\"/>\n      <use xlink:href=\"#DejaVuSans-63\" transform=\"translate(647.238281 0)\"/>\n      <use xlink:href=\"#DejaVuSans-75\" transform=\"translate(702.21875 0)\"/>\n      <use xlink:href=\"#DejaVuSans-72\" transform=\"translate(765.597656 0)\"/>\n      <use xlink:href=\"#DejaVuSans-61\" transform=\"translate(806.710938 0)\"/>\n      <use xlink:href=\"#DejaVuSans-63\" transform=\"translate(867.990234 0)\"/>\n      <use xlink:href=\"#DejaVuSans-79\" transform=\"translate(922.970703 0)\"/>\n     </g>\n    </g>\n   </g>\n  </g>\n </g>\n <defs>\n  <clipPath id=\"pee63c97078\">\n   <rect x=\"43.78125\" y=\"22.318125\" width=\"304.363636\" height=\"221.76\"/>\n  </clipPath>\n  <clipPath id=\"p365781bc97\">\n   <rect x=\"409.017614\" y=\"22.318125\" width=\"304.363636\" height=\"221.76\"/>\n  </clipPath>\n </defs>\n</svg>\n"
          },
          "metadata": {}
        }
      ],
      "source": [
        "LLM_DistilBERT.train_and_validate()\n",
        "LLM_DistilBERT.plot_history()"
      ]
    },
    {
      "cell_type": "markdown",
      "id": "9cc75889",
      "metadata": {
        "id": "9cc75889"
      },
      "source": [
        "### Interprétation\n",
        "\n",
        "- Le modèle s'améliore progressivement au fil des *epochs* : la perte d'entraînement diminue fortement et la précision (*accuracy*) augmente.\n",
        "\n",
        "- Une légère divergence entre perte d'entraînement et perte de validation est constatée : le modèle devient plus confiant mais peut être mal calibré ou commencer à sur-apprendre sur certains cas difficiles (*overfitting* léger).\n",
        "\n",
        "- Grâce au mécanisme de *checkpointing*, le meilleur modèle est sauvegardé à chaque fois que la perte de validation s'améliore. Ici, le modèle sauvegardé à l'*epoch* 3 correspond au meilleur compromis pour la généralisation."
      ]
    },
    {
      "cell_type": "markdown",
      "id": "-pnwOzOlZhkR",
      "metadata": {
        "id": "-pnwOzOlZhkR"
      },
      "source": [
        "## Sanity Checks\n",
        "\n",
        "Avant d'analyser les performances ou d'utiliser le modèle en inférence, il est essentiel de vérifier que les données et le prétraitement sont correctement configurés.\n",
        "\n",
        "L'objectif de cette étape est de s'assurer que le pipeline de préparation des données fonctionne correctement avant de poursuivre avec l'évaluation et l'inférence. Concrètement, nous voulons vérifier que :\n",
        "\n",
        "- Les dimensions des *batchs* (`input_ids`, `attention_mask`, `labels`) sont cohérentes,\n",
        "- Les tokens spéciaux [CLS] et [SEP] sont bien présents dans chaque séquence,\n",
        "- Le padding et la troncature sont appliqués correctement, avec un attention_mask qui distingue bien les vrais tokens des [PAD].\n",
        "\n",
        "### Sanity Check 1 : Vérification d'un batch\n",
        "\n",
        "L'objectif est de vérifier que les *batchs* renvoyés par le `DataLoader` ont les bonnes dimensions et contiennent les bons éléments (`input_ids`, `attention_mask`, `labels`)."
      ]
    },
    {
      "cell_type": "code",
      "execution_count": 15,
      "id": "57ed58c3",
      "metadata": {
        "colab": {
          "base_uri": "https://localhost:8080/"
        },
        "id": "57ed58c3",
        "outputId": "e6d6309d-1ad6-4fc8-ea25-183655241487"
      },
      "outputs": [
        {
          "output_type": "stream",
          "name": "stdout",
          "text": [
            "Input IDs shape: torch.Size([4, 256])\n",
            "Attention mask shape: torch.Size([4, 256])\n",
            "Labels shape: torch.Size([4])\n",
            "\n",
            "First input_ids: [101, 1045, 2113, 8750, 1012, 1045, 1005, 2310, 2042, 2046, 2009, 2146, 2077, 2009, 2150, 1037, 2120, 9575, 1025, 1045, 3866, 2743, 2863, 2077, 2087, 2111, 2354, 2054, 5202, 7384, 1062, 2130, 2001, 1012, 1998, 2074, 2061, 2017, 2113, 1045, 1005, 1049, 2025, 23678, 2075, 2055, 2026, 1010, 2292, 2033, 2360, 2023, 1024, 2041, 1997, 2035, 1996, 8750, 2015, 1045, 1005, 2310, 2464, 1010, 3317, 1999, 1996, 3712, 2003, 2011, 2521, 2028, 1997, 1996, 2190, 1012, 2009, 1005, 1055, 5793, 2111, 2360, 24462, 2185, 2003, 1996, 2190, 1010, 2021, 1045, 2428, 21090, 1012, 2087, 2111, 2069, 2113, 2008, 3185, 2138, 2009, 2028, 2019, 9078, 22117, 2100, 2400, 1025, 2023, 3475, 1005, 1056, 2019, 4654, 27609, 3370, 1011, 1045, 1005, 2310, 3491, 4615, 18847, 3630, 3489, 1998, 3317, 1999, 1996, 3712, 2000, 2111, 2040, 1005, 1040, 2069, 2412, 2464, 24462, 2185, 1010, 1998, 2027, 5993, 2008, 1996, 3732, 2048, 2024, 1996, 6020, 1997, 1996, 2093, 1012, 7714, 1010, 1045, 1005, 1040, 2196, 2245, 2008, 2505, 2071, 12826, 2000, 4615, 18847, 3630, 3489, 1010, 2127, 1045, 2633, 2387, 3317, 1999, 1996, 3712, 1012, 1045, 2145, 2228, 2008, 1996, 3188, 2003, 1996, 2488, 1997, 1996, 2048, 1010, 2021, 3317, 1999, 1996, 3712, 2003, 4089, 2006, 11968, 2007, 2009, 1025, 1999, 2116, 3971, 1010, 3317, 2038, 2350, 3787, 2008, 18847, 3630, 3489, 2001, 4394, 1012, 1999, 2593, 2553, 1010, 2065, 2017, 1005, 2310, 2069, 2464, 24462, 2185, 1010, 1998, 2228, 2008, 2008, 2003, 2771, 3148, 18637, 1005, 1055, 2190, 2143, 1010, 2022, 4810, 2000, 2031, 2115, 3011, 16697, 1012, 102]\n",
            "First attention_mask: [1, 1, 1, 1, 1, 1, 1, 1, 1, 1, 1, 1, 1, 1, 1, 1, 1, 1, 1, 1, 1, 1, 1, 1, 1, 1, 1, 1, 1, 1, 1, 1, 1, 1, 1, 1, 1, 1, 1, 1, 1, 1, 1, 1, 1, 1, 1, 1, 1, 1, 1, 1, 1, 1, 1, 1, 1, 1, 1, 1, 1, 1, 1, 1, 1, 1, 1, 1, 1, 1, 1, 1, 1, 1, 1, 1, 1, 1, 1, 1, 1, 1, 1, 1, 1, 1, 1, 1, 1, 1, 1, 1, 1, 1, 1, 1, 1, 1, 1, 1, 1, 1, 1, 1, 1, 1, 1, 1, 1, 1, 1, 1, 1, 1, 1, 1, 1, 1, 1, 1, 1, 1, 1, 1, 1, 1, 1, 1, 1, 1, 1, 1, 1, 1, 1, 1, 1, 1, 1, 1, 1, 1, 1, 1, 1, 1, 1, 1, 1, 1, 1, 1, 1, 1, 1, 1, 1, 1, 1, 1, 1, 1, 1, 1, 1, 1, 1, 1, 1, 1, 1, 1, 1, 1, 1, 1, 1, 1, 1, 1, 1, 1, 1, 1, 1, 1, 1, 1, 1, 1, 1, 1, 1, 1, 1, 1, 1, 1, 1, 1, 1, 1, 1, 1, 1, 1, 1, 1, 1, 1, 1, 1, 1, 1, 1, 1, 1, 1, 1, 1, 1, 1, 1, 1, 1, 1, 1, 1, 1, 1, 1, 1, 1, 1, 1, 1, 1, 1, 1, 1, 1, 1, 1, 1, 1, 1, 1, 1, 1, 1, 1, 1, 1, 1, 1, 1]\n",
            "First label: 1\n",
            "\n",
            "Decoded tokens: ['[CLS]', 'i', 'know', 'anime', '.', 'i', \"'\", 've', 'been', 'into', 'it', 'long', 'before', 'it', 'became', 'a', 'national', 'phenomenon', ';', 'i', 'loved', 'ran', '##ma', 'before', 'most', 'people', 'knew', 'what', 'dragon', '##ball', 'z', 'even', 'was', '.', 'and', 'just', 'so', 'you', 'know', 'i', \"'\", 'm', 'not', 'bragg', '##ing', 'about', 'my', ',', 'let', 'me', 'say', 'this', ':', 'out', 'of', 'all', 'the', 'anime', '##s', 'i', \"'\", 've', 'seen', ',', 'castle', 'in', 'the', 'sky', 'is', 'by', 'far', 'one', 'of', 'the', 'best', '.', 'it', \"'\", 's', 'obvious', 'people', 'say', 'spirited', 'away', 'is', 'the', 'best', ',', 'but', 'i', 'really', 'disagree', '.', 'most', 'people', 'only', 'know', 'that', 'movie', 'because', 'it', 'one', 'an', 'ace', '##dm', '##y', 'award', ';', 'this', 'isn', \"'\", 't', 'an', 'ex', '##agger', '##ation', '-', 'i', \"'\", 've', 'shown', 'princess', 'mono', '##no', '##ke', 'and', 'castle', 'in', 'the', 'sky', 'to', 'people', 'who', \"'\", 'd', 'only', 'ever', 'seen', 'spirited', 'away', ',', 'and', 'they', 'agree', 'that', 'the', 'latter', 'two', 'are', 'the', 'superior', 'of', 'the', 'three', '.', 'personally', ',', 'i', \"'\", 'd', 'never', 'thought', 'that', 'anything', 'could', 'compare', 'to', 'princess', 'mono', '##no', '##ke', ',', 'until', 'i', 'finally', 'saw', 'castle', 'in', 'the', 'sky', '.', 'i', 'still', 'think', 'that', 'the', 'prior', 'is', 'the', 'better', 'of', 'the', 'two', ',', 'but', 'castle', 'in', 'the', 'sky', 'is', 'easily', 'on', 'par', 'with', 'it', ';', 'in', 'many', 'ways', ',', 'castle', 'has', 'major', 'elements', 'that', 'mono', '##no', '##ke', 'was', 'missing', '.', 'in', 'either', 'case', ',', 'if', 'you', \"'\", 've', 'only', 'seen', 'spirited', 'away', ',', 'and', 'think', 'that', 'that', 'is', 'mi', '##ya', '##zaki', \"'\", 's', 'best', 'film', ',', 'be', 'prepared', 'to', 'have', 'your', 'earth', 'shaken', '.', '[SEP]']\n"
          ]
        }
      ],
      "source": [
        "# Grab a single batch from the training dataloader\n",
        "batch = next(iter(LLM_DistilBERT.train_loader))\n",
        "\n",
        "# Print shapes\n",
        "print(\"Input IDs shape:\", batch[\"input_ids\"].shape)\n",
        "print(\"Attention mask shape:\", batch[\"attention_mask\"].shape)\n",
        "print(\"Labels shape:\", batch[\"labels\"].shape)\n",
        "\n",
        "# Print the first example\n",
        "first_input_ids = batch[\"input_ids\"][0]\n",
        "first_mask = batch[\"attention_mask\"][0]\n",
        "first_label = batch[\"labels\"][0]\n",
        "\n",
        "print(\"\\nFirst input_ids:\", first_input_ids.tolist())\n",
        "print(\"First attention_mask:\", first_mask.tolist())\n",
        "print(\"First label:\", first_label.item())\n",
        "\n",
        "# Convert IDs back to tokens to inspect\n",
        "tokens = LLM_DistilBERT.tokenizer.convert_ids_to_tokens(first_input_ids)\n",
        "print(\"\\nDecoded tokens:\", tokens)"
      ]
    },
    {
      "cell_type": "markdown",
      "id": "0f9a728b",
      "metadata": {
        "id": "0f9a728b"
      },
      "source": [
        "**Sortie obtenue :**\n",
        "\n",
        "* `Input IDs shape`: **\\[4, 256]** → 4 exemples par batch, séquences de longueur fixe 256.\n",
        "* `Attention mask shape`: **\\[4, 256]** → un masque pour chaque séquence, indiquant les vrais tokens (1) et le padding (0).\n",
        "* `Labels shape`: **\\[4]** → un label par séquence.\n",
        "* Premier exemple :\n",
        "\n",
        "  * Les **IDs** sont bien mappés à des tokens lisibles (`this tv show ... [SEP] [PAD] ...`).\n",
        "  * Le **masque** correspond : 1 pour les tokens réels, 0 pour les `[PAD]`.\n",
        "  * Le **label** est correctement associé (`0 = negative`).\n",
        "\n",
        "**Constats :**\n",
        "\n",
        "* Chaque batch contient 4 échantillons, comme attendu.\n",
        "* Les séquences sont bien **pad/truncated** à une longueur de 256.\n",
        "* Le masque d'attention est aligné correctement.\n",
        "* Les tokens spéciaux `[CLS]` et `[SEP]` sont présents."
      ]
    },
    {
      "cell_type": "markdown",
      "id": "918d0eb0",
      "metadata": {
        "id": "918d0eb0"
      },
      "source": [
        "### Sanity Check 2 : Présence des tokens spéciaux\n",
        "\n",
        "L'objectif étant de confirmer que chaque séquence contient bien les *tokens* spéciaux attendus par DistilBERT :\n",
        "\n",
        "* [CLS] au début (représentation globale de la séquence pour la classification).\n",
        "* [SEP] à la fin (séparateur de séquences, obligatoire même avec une seule phrase)."
      ]
    },
    {
      "cell_type": "code",
      "execution_count": 16,
      "id": "361f5893",
      "metadata": {
        "colab": {
          "base_uri": "https://localhost:8080/"
        },
        "id": "361f5893",
        "outputId": "44e5ad9a-5bea-4e59-9e02-761a3df1b369"
      },
      "outputs": [
        {
          "output_type": "stream",
          "name": "stdout",
          "text": [
            "Special tokens OK\n"
          ]
        }
      ],
      "source": [
        "batch = next(iter(LLM_DistilBERT.train_loader))\n",
        "iid = batch[\"input_ids\"][0]\n",
        "assert iid[0].item() == LLM_DistilBERT.tokenizer.cls_token_id, \"Missing [CLS]\"\n",
        "assert (\n",
        "    (iid == LLM_DistilBERT.tokenizer.sep_token_id).any().item()\n",
        "), \"Missing [SEP]\"\n",
        "print(\"Special tokens OK\")"
      ]
    },
    {
      "cell_type": "markdown",
      "id": "UmdgkAQ4a7wE",
      "metadata": {
        "id": "UmdgkAQ4a7wE"
      },
      "source": [
        "**Constats :**\n",
        "\n",
        "* [CLS] est bien présent en première position.\n",
        "* [SEP] est bien présent dans la séquence.\n",
        "\n",
        "Le modèle recevra donc des entrées valides, conformes au format BERT."
      ]
    },
    {
      "cell_type": "markdown",
      "id": "d2cb2009",
      "metadata": {
        "id": "d2cb2009"
      },
      "source": [
        "### Sanity Check 3 : Statistiques de padding et troncature\n",
        "\n",
        "Vérifier la proportion d'exemples *paddés* (séquences plus courtes complétées avec [PAD]) et tronqués (séquences coupées à max_len=256)."
      ]
    },
    {
      "cell_type": "code",
      "execution_count": 17,
      "id": "053cd766",
      "metadata": {
        "id": "053cd766"
      },
      "outputs": [],
      "source": [
        "def trunc_pad_stats(dataloader, max_len=256):\n",
        "    n, n_trunc, n_pad = 0, 0, 0\n",
        "    for b in dataloader:\n",
        "        input_ids = b[\"input_ids\"]\n",
        "        attn = b[\"attention_mask\"]\n",
        "        # padded examples have any 0 in mask\n",
        "        n_pad += (attn.sum(dim=1) < input_ids.size(1)).sum().item()\n",
        "        # truncated examples exactly hit max_len AND have no padding\n",
        "        n_trunc += ((attn.sum(dim=1) == max_len)).sum().item()\n",
        "        n += input_ids.size(0)\n",
        "    return {\n",
        "        \"total_examples\": n,\n",
        "        \"padded_frac\": n_pad / n,\n",
        "        \"truncated_frac\": n_trunc / n,\n",
        "        \"exact_len_frac\": (\n",
        "            n_trunc / n\n",
        "        ),  # same as truncated_frac with this logic\n",
        "    }"
      ]
    },
    {
      "cell_type": "code",
      "execution_count": 18,
      "id": "087d9fae",
      "metadata": {
        "id": "087d9fae",
        "outputId": "ee804f78-a4b9-441d-aecd-7fc4383f2489",
        "colab": {
          "base_uri": "https://localhost:8080/"
        }
      },
      "outputs": [
        {
          "output_type": "stream",
          "name": "stdout",
          "text": [
            "{\n",
            "    \"total_examples\": 1600,\n",
            "    \"padded_frac\": 0.5325,\n",
            "    \"truncated_frac\": 0.4425,\n",
            "    \"exact_len_frac\": 0.4425\n",
            "}\n"
          ]
        }
      ],
      "source": [
        "stats = trunc_pad_stats(LLM_DistilBERT.train_loader, max_len=256)\n",
        "print(json.dumps(stats, indent=4))"
      ]
    },
    {
      "cell_type": "markdown",
      "id": "3e8d8633",
      "metadata": {
        "id": "3e8d8633"
      },
      "source": [
        "**Constats**\n",
        "\n",
        "* Total d'exemples : 1600 (correspond bien à l'échantillon d'entraînement).\n",
        "* ~52 % paddés → la moitié des séquences originales étaient plus courtes que 256 tokens.\n",
        "* ~45 % tronqués → presque la moitié des séquences atteignent la longueur maximale et ont été coupées.\n",
        "\n",
        "Cela reflète la variabilité naturelle des critiques IMDB : certaines sont très courtes, d'autres très longues."
      ]
    },
    {
      "cell_type": "markdown",
      "id": "91ae86d3",
      "metadata": {
        "id": "91ae86d3"
      },
      "source": [
        "## Sanity Check 4 : Exemple de séquence paddée\n",
        "\n",
        "L'objectif est d'fficher un exemple de séquence paddée afin de vérifier :\n",
        "* que les tokens [PAD] apparaissent bien en fin de séquence,\n",
        "* que le attention_mask les identifie correctement avec des 0."
      ]
    },
    {
      "cell_type": "code",
      "execution_count": 19,
      "id": "5edb7093",
      "metadata": {
        "id": "5edb7093"
      },
      "outputs": [],
      "source": [
        "def show_padded_example(dataloader, tokenizer):\n",
        "    for b in dataloader:\n",
        "        for i in range(b[\"input_ids\"].size(0)):\n",
        "            attn = b[\"attention_mask\"][i]\n",
        "            if attn[-1].item() == 0:  # ends with padding\n",
        "                ids = b[\"input_ids\"][i]\n",
        "                toks = tokenizer.convert_ids_to_tokens(ids)\n",
        "                print(\"...tokens tail:\", toks[-30:])\n",
        "                print(\"...mask tail:\", attn[-30:].tolist())\n",
        "                return\n",
        "    print(\"No padded example found in this pass\")"
      ]
    },
    {
      "cell_type": "code",
      "execution_count": 20,
      "id": "e114f9bb",
      "metadata": {
        "colab": {
          "base_uri": "https://localhost:8080/"
        },
        "id": "e114f9bb",
        "outputId": "ec961c5a-1659-4c42-a8cd-f2ddfff6103d"
      },
      "outputs": [
        {
          "output_type": "stream",
          "name": "stdout",
          "text": [
            "...tokens tail: ['[PAD]', '[PAD]', '[PAD]', '[PAD]', '[PAD]', '[PAD]', '[PAD]', '[PAD]', '[PAD]', '[PAD]', '[PAD]', '[PAD]', '[PAD]', '[PAD]', '[PAD]', '[PAD]', '[PAD]', '[PAD]', '[PAD]', '[PAD]', '[PAD]', '[PAD]', '[PAD]', '[PAD]', '[PAD]', '[PAD]', '[PAD]', '[PAD]', '[PAD]', '[PAD]']\n",
            "...mask tail: [0, 0, 0, 0, 0, 0, 0, 0, 0, 0, 0, 0, 0, 0, 0, 0, 0, 0, 0, 0, 0, 0, 0, 0, 0, 0, 0, 0, 0, 0]\n"
          ]
        }
      ],
      "source": [
        "show_padded_example(LLM_DistilBERT.train_loader, LLM_DistilBERT.tokenizer)"
      ]
    },
    {
      "cell_type": "markdown",
      "id": "a797c058",
      "metadata": {
        "id": "a797c058"
      },
      "source": [
        "**Constats**\n",
        "\n",
        "* Les tokens [PAD] sont bien ajoutés en fin de séquence.\n",
        "* Le attention_mask marque correctement ces positions comme 0 (ignorées par le modèle).\n",
        "* Cela confirme que le DataCollator gère bien le padding dynamique et que le modèle ne tiendra pas compte des zones vides."
      ]
    },
    {
      "cell_type": "markdown",
      "id": "4IomaFZ8cbyr",
      "metadata": {
        "id": "4IomaFZ8cbyr"
      },
      "source": [
        "## Récapitulatif des Sanity Checks\n",
        "\n",
        "| Sanity Check | Vérification                                                   | Résultat                                                      |\n",
        "| ------------ | -------------------------------------------------------------- | ------------------------------------------------------------- |\n",
        "| **1**        | Cohérence des batchs (`input_ids`, `attention_mask`, `labels`) | ✅ Dimensions correctes, tokens lisibles, labels présents      |\n",
        "| **2**        | Présence des tokens spéciaux `[CLS]`, `[SEP]`                  | ✅ Spéciaux correctement insérés                               |\n",
        "| **3**        | Statistiques de padding et troncature                          | ✅ \\~52% paddés, \\~45% tronqués (dataset équilibré)            |\n",
        "| **4**        | Exemple de séquence paddée                                     | ✅ `[PAD]` bien ajoutés en fin, `attention_mask=0` sur padding |"
      ]
    },
    {
      "cell_type": "markdown",
      "id": "6c87a3c5",
      "metadata": {
        "id": "6c87a3c5"
      },
      "source": [
        "## Inference Helper\n",
        "\n",
        "Une fois le modèle **fine-tuné**, il peut être utiliser en **inférence** afin de prédire le sentiment de nouveaux textes.\n",
        "\n",
        "L'idée est simple :\n",
        "\n",
        "* Entrée : du texte brut (ex. une critique de film).\n",
        "* Le texte est **tokenizé** puis converti en tenseurs (`input_ids`, `attention_mask`).\n",
        "* Le modèle produit des **logits** qui sont transformés en probabilités (`softmax`).\n",
        "* Sortie : un label (`positive` ou `negative`) accompagné des probabilités associées.\n",
        "\n",
        "Cette étape illustre comment exploiter un modèle entraîné pour réaliser des prédictions concrètes sur des données inédites.\n",
        "\n",
        "Il est désormais possible de soumettre du texte brut à notre modèle fine-tuné et obtenir une prédiction de sentiment.\n",
        "La méthode `predict_sentiment` renvoie :\n",
        "* le texte d'entrée,\n",
        "* le label prédit (positive ou negative),\n",
        "* les probabilités associées à chaque classe.\n"
      ]
    },
    {
      "cell_type": "code",
      "execution_count": 21,
      "id": "0f57aa59",
      "metadata": {
        "colab": {
          "base_uri": "https://localhost:8080/"
        },
        "id": "0f57aa59",
        "outputId": "f495575b-e9dc-405a-fff7-f3c306498efc"
      },
      "outputs": [
        {
          "output_type": "stream",
          "name": "stdout",
          "text": [
            "{\n",
            "    \"text\": \"I absolutely loved this movie, it was fantastic!\",\n",
            "    \"pred_label\": \"positive\",\n",
            "    \"probabilities\": {\n",
            "        \"negative\": 0.0020061570685356855,\n",
            "        \"positive\": 0.9979938268661499\n",
            "    }\n",
            "}\n",
            "{\n",
            "    \"text\": \"This was the worst film I have ever seen.\",\n",
            "    \"pred_label\": \"negative\",\n",
            "    \"probabilities\": {\n",
            "        \"negative\": 0.9976537823677063,\n",
            "        \"positive\": 0.002346268855035305\n",
            "    }\n",
            "}\n"
          ]
        }
      ],
      "source": [
        "print(\n",
        "    json.dumps(\n",
        "        LLM_DistilBERT.predict_sentiment(\n",
        "            \"I absolutely loved this movie, it was fantastic!\"\n",
        "        ),\n",
        "        indent=4,\n",
        "    )\n",
        ")\n",
        "print(\n",
        "    json.dumps(\n",
        "        LLM_DistilBERT.predict_sentiment(\n",
        "            \"This was the worst film I have ever seen.\"\n",
        "        ),\n",
        "        indent=4,\n",
        "    )\n",
        ")"
      ]
    },
    {
      "cell_type": "markdown",
      "id": "NdqD_poydz-g",
      "metadata": {
        "id": "NdqD_poydz-g"
      },
      "source": [
        "Le modèle attribue correctement un sentiment positif à la première phrase et un sentiment négatif à la seconde, avec une très forte confiance."
      ]
    },
    {
      "cell_type": "markdown",
      "id": "CUYyU2vveCGr",
      "metadata": {
        "id": "CUYyU2vveCGr"
      },
      "source": [
        "## Rechargement du modèle sauvegardé\n",
        "\n",
        "Après l'entraînement, nous avons sauvegardé le meilleur modèle dans `./distilbert-best`.\n",
        "Nous pouvons maintenant le recharger pour l'utiliser en inférence, sans devoir réexécuter toute la phase de fine-tuning.\n",
        "\n",
        "Le code ci-dessous se divise de la manière suivante :\n",
        "\n",
        "* `LLMFineTuner(pretrained_model_name_or_path=model_path)` : on instancie une nouvelle classe en pointant vers le modèle sauvegardé.\n",
        "\n",
        "* `set_tokenizer()` : recharge le tokenizer utilisé à l'entraînement.\n",
        "\n",
        "* `set_model()` : recharge la configuration et les poids du modèle.\n",
        "\n",
        "* `model.eval()` : place le modèle en mode évaluation/inférence (désactive dropout, batchnorm, etc.)."
      ]
    },
    {
      "cell_type": "code",
      "execution_count": 22,
      "id": "4aaf6411",
      "metadata": {
        "colab": {
          "base_uri": "https://localhost:8080/"
        },
        "id": "4aaf6411",
        "outputId": "a266b3fd-d0fb-4403-ca17-4d49ad104d0d"
      },
      "outputs": [
        {
          "output_type": "execute_result",
          "data": {
            "text/plain": [
              "DistilBertForSequenceClassification(\n",
              "  (distilbert): DistilBertModel(\n",
              "    (embeddings): Embeddings(\n",
              "      (word_embeddings): Embedding(30522, 768, padding_idx=0)\n",
              "      (position_embeddings): Embedding(512, 768)\n",
              "      (LayerNorm): LayerNorm((768,), eps=1e-12, elementwise_affine=True)\n",
              "      (dropout): Dropout(p=0.1, inplace=False)\n",
              "    )\n",
              "    (transformer): Transformer(\n",
              "      (layer): ModuleList(\n",
              "        (0-5): 6 x TransformerBlock(\n",
              "          (attention): DistilBertSdpaAttention(\n",
              "            (dropout): Dropout(p=0.1, inplace=False)\n",
              "            (q_lin): Linear(in_features=768, out_features=768, bias=True)\n",
              "            (k_lin): Linear(in_features=768, out_features=768, bias=True)\n",
              "            (v_lin): Linear(in_features=768, out_features=768, bias=True)\n",
              "            (out_lin): Linear(in_features=768, out_features=768, bias=True)\n",
              "          )\n",
              "          (sa_layer_norm): LayerNorm((768,), eps=1e-12, elementwise_affine=True)\n",
              "          (ffn): FFN(\n",
              "            (dropout): Dropout(p=0.1, inplace=False)\n",
              "            (lin1): Linear(in_features=768, out_features=3072, bias=True)\n",
              "            (lin2): Linear(in_features=3072, out_features=768, bias=True)\n",
              "            (activation): GELUActivation()\n",
              "          )\n",
              "          (output_layer_norm): LayerNorm((768,), eps=1e-12, elementwise_affine=True)\n",
              "        )\n",
              "      )\n",
              "    )\n",
              "  )\n",
              "  (pre_classifier): Linear(in_features=768, out_features=768, bias=True)\n",
              "  (classifier): Linear(in_features=768, out_features=2, bias=True)\n",
              "  (dropout): Dropout(p=0.2, inplace=False)\n",
              ")"
            ]
          },
          "metadata": {},
          "execution_count": 22
        }
      ],
      "source": [
        "model_path = \"./distilbert-best\"\n",
        "LLM_DistilBERT_best = LLMFineTuner(pretrained_model_name_or_path=model_path)\n",
        "LLM_DistilBERT_best.set_tokenizer()\n",
        "LLM_DistilBERT_best.set_model()\n",
        "LLM_DistilBERT_best.model.eval()"
      ]
    },
    {
      "cell_type": "markdown",
      "id": "B7XjXThZeg9G",
      "metadata": {
        "id": "B7XjXThZeg9G"
      },
      "source": [
        "Vérifions à présent que le modèle fonctionne correctement."
      ]
    },
    {
      "cell_type": "code",
      "execution_count": 23,
      "id": "bc503123",
      "metadata": {
        "colab": {
          "base_uri": "https://localhost:8080/"
        },
        "id": "bc503123",
        "outputId": "9e8fcb14-dfc5-462c-8207-5fa9646ae952"
      },
      "outputs": [
        {
          "output_type": "stream",
          "name": "stdout",
          "text": [
            "{\n",
            "    \"text\": \"I absolutely loved this movie, it was fantastic!\",\n",
            "    \"pred_label\": \"positive\",\n",
            "    \"probabilities\": {\n",
            "        \"negative\": 0.0020061570685356855,\n",
            "        \"positive\": 0.9979938268661499\n",
            "    }\n",
            "}\n",
            "{\n",
            "    \"text\": \"This was the worst film I have ever seen.\",\n",
            "    \"pred_label\": \"negative\",\n",
            "    \"probabilities\": {\n",
            "        \"negative\": 0.9976537823677063,\n",
            "        \"positive\": 0.002346268855035305\n",
            "    }\n",
            "}\n"
          ]
        }
      ],
      "source": [
        "print(\n",
        "    json.dumps(\n",
        "        LLM_DistilBERT_best.predict_sentiment(\n",
        "            \"I absolutely loved this movie, it was fantastic!\"\n",
        "        ),\n",
        "        indent=4,\n",
        "    )\n",
        ")\n",
        "print(\n",
        "    json.dumps(\n",
        "        LLM_DistilBERT_best.predict_sentiment(\n",
        "            \"This was the worst film I have ever seen.\"\n",
        "        ),\n",
        "        indent=4,\n",
        "    )\n",
        ")"
      ]
    },
    {
      "cell_type": "markdown",
      "id": "SP7y9-YKen3c",
      "metadata": {
        "id": "SP7y9-YKen3c"
      },
      "source": [
        "La première phrase est caractérisée comme positive tandis que la seconde comme négative : **le modèle sauvegardé utilisé en inférence est bien valide**.\n",
        "Appliquons ce modèle sur plusieurs phrases"
      ]
    },
    {
      "cell_type": "code",
      "execution_count": 24,
      "id": "75a787c0",
      "metadata": {
        "colab": {
          "base_uri": "https://localhost:8080/"
        },
        "id": "75a787c0",
        "outputId": "09320e74-2361-403e-9b79-bdc22233484f"
      },
      "outputs": [
        {
          "output_type": "stream",
          "name": "stdout",
          "text": [
            "{\n",
            "    \"text\": \"I absolutely loved this movie, it was fantastic!\",\n",
            "    \"pred_label\": \"positive\",\n",
            "    \"probabilities\": {\n",
            "        \"negative\": 0.002006156137213111,\n",
            "        \"positive\": 0.9979938268661499\n",
            "    }\n",
            "}\n",
            "{\n",
            "    \"text\": \"This was the worst film I have ever seen.\",\n",
            "    \"pred_label\": \"negative\",\n",
            "    \"probabilities\": {\n",
            "        \"negative\": 0.9976537823677063,\n",
            "        \"positive\": 0.0023462700191885233\n",
            "    }\n",
            "}\n",
            "{\n",
            "    \"text\": \"The acting was decent but the story was too slow.\",\n",
            "    \"pred_label\": \"negative\",\n",
            "    \"probabilities\": {\n",
            "        \"negative\": 0.9980314373970032,\n",
            "        \"positive\": 0.00196858961135149\n",
            "    }\n",
            "}\n",
            "{\n",
            "    \"text\": \"What a masterpiece - I'd watch it again and again!\",\n",
            "    \"pred_label\": \"positive\",\n",
            "    \"probabilities\": {\n",
            "        \"negative\": 0.0023956887889653444,\n",
            "        \"positive\": 0.9976043105125427\n",
            "    }\n",
            "}\n"
          ]
        }
      ],
      "source": [
        "reviews = [\n",
        "    \"I absolutely loved this movie, it was fantastic!\",\n",
        "    \"This was the worst film I have ever seen.\",\n",
        "    \"The acting was decent but the story was too slow.\",\n",
        "    \"What a masterpiece - I'd watch it again and again!\",\n",
        "]\n",
        "\n",
        "batch_results = LLM_DistilBERT_best.predict_batch(reviews)\n",
        "for res in batch_results:\n",
        "    print(json.dumps(res, indent=4))"
      ]
    },
    {
      "cell_type": "markdown",
      "id": "0H4thgV0f-yL",
      "metadata": {
        "id": "0H4thgV0f-yL"
      },
      "source": [
        "Les cinq phrases sont correctement catégorisées.\n",
        "\n",
        "Le tableau ci-dessous résume les étapes opérées jusqu'à présent.\n",
        "\n",
        "| Step                            | Description                                                                                |\n",
        "| ------------------------------- | ------------------------------------------------------------------------------------------ |\n",
        "| **1. Preprocessing & batching** | Préparation du dataset, tokenisation, padding dynamique, DataLoader                        |\n",
        "| **2. Training & validation**    | Apprentissage du modèle DistilBERT avec suivi des métriques                                |\n",
        "| **3. Model checkpointing**      | Sauvegarde du **meilleur modèle** basé sur la validation loss                              |\n",
        "| **4. Inference (single)**       | Utilisation du modèle fine-tuné pour prédire le sentiment d'un texte brut (exemple unique) |\n",
        "| **5. Inference (batch)**        | Prédiction du sentiment sur plusieurs textes en une seule passe                            |\n",
        "\n",
        "Après avoir complété le fine-tuning et l'évaluation de `DistilBERT` sur notre tâche de classification de sentiments, nous allons maintenant explorer un autre modèle : `RoBERTa`.\n",
        "\n",
        "L'objectif est de comparer les performances et le comportement de ces deux architectures, en mettant en évidence :\n",
        "* les différences de taille et de capacité,\n",
        "* les variations dans la tokenisation,\n",
        "* les effets liés au pré-entraînement."
      ]
    },
    {
      "cell_type": "markdown",
      "id": "224eb226",
      "metadata": {
        "id": "224eb226"
      },
      "source": [
        "## Choix d'un nouveau modèle : `RoBERTa`\n",
        "\n",
        "Après avoir travaillé avec `DistilBERT`, nous allons maintenant passer à `RoBERTa` afin de comparer les performances et d'analyser l'impact du choix du modèle.\n",
        "\n",
        "Le choix s'est porté sur `RoBERTa` pour les raisons suivantes :\n",
        "\n",
        "* **Plus grand modèle** que DistilBERT, avec davantage de paramètres.\n",
        "* **Tokenizer différent**, qui repose sur la méthode BPE (Byte-Pair Encoding).\n",
        "* **Pré-entraînement différent**, basé sur de larges corpus et des stratégies d'entraînement optimisées.\n",
        "\n",
        "Cette étape permettra de :\n",
        "\n",
        "1. Recharger le jeu de données et adapter la tokenisation.\n",
        "2. Entraîner RoBERTa sur le même cas d'usage (sentiment analysis).\n",
        "3. Comparer ses résultats à ceux obtenus avec DistilBERT.\n",
        "\n",
        "Exploitons la classe `LLMFineTuner` pour instancier et configurer un nouveau modèle : `RoBERTa-base`.\n",
        "\n",
        "Pour cela :\n",
        "\n",
        "* Nous choisissons roberta-base comme modèle de comparaison (mais d'autres modèles comme bert-base-uncased ou MiniLM pourraient aussi être testés).\n",
        "* Nous rechargeons le même dataset que pour DistilBERT afin de garder une base de comparaison cohérente.\n",
        "* Nous utilisons l'AutoTokenizer et l'AutoModelForSequenceClassification, car RoBERTa a un tokenizer et une architecture légèrement différents de DistilBERT.\n"
      ]
    },
    {
      "cell_type": "code",
      "execution_count": 25,
      "id": "f57b138c",
      "metadata": {
        "colab": {
          "base_uri": "https://localhost:8080/"
        },
        "id": "f57b138c",
        "outputId": "14cc0204-3cfa-4d25-da1f-310c25ac8db5"
      },
      "outputs": [
        {
          "output_type": "stream",
          "name": "stdout",
          "text": [
            "Tokenizer AutoTokenizer loaded from roberta-base\n"
          ]
        },
        {
          "output_type": "stream",
          "name": "stderr",
          "text": [
            "Some weights of RobertaForSequenceClassification were not initialized from the model checkpoint at roberta-base and are newly initialized: ['classifier.dense.bias', 'classifier.dense.weight', 'classifier.out_proj.bias', 'classifier.out_proj.weight']\n",
            "You should probably TRAIN this model on a down-stream task to be able to use it for predictions and inference.\n"
          ]
        },
        {
          "output_type": "stream",
          "name": "stdout",
          "text": [
            "Model AutoModelForSequenceClassification loaded with 2 labels.\n"
          ]
        }
      ],
      "source": [
        "model_name = \"roberta-base\"\n",
        "LLM_RoBERTa_256 = LLMFineTuner(\n",
        "    model_cls=AutoModelForSequenceClassification,\n",
        "    pretrained_model_name_or_path=model_name,\n",
        "    tokenizer_cls=AutoTokenizer,\n",
        ")\n",
        "LLM_RoBERTa_256.set_dataset()\n",
        "LLM_RoBERTa_256.set_tokenizer(verbose=True)\n",
        "LLM_RoBERTa_256.set_model(verbose=True)"
      ]
    },
    {
      "cell_type": "code",
      "execution_count": 26,
      "id": "c30d9786",
      "metadata": {
        "colab": {
          "base_uri": "https://localhost:8080/"
        },
        "id": "c30d9786",
        "outputId": "aaa3eb20-2480-4477-fa9a-6ddee9e6515e"
      },
      "outputs": [
        {
          "output_type": "stream",
          "name": "stdout",
          "text": [
            "[roberta-base] Total params: 124.6M | Trainable: 124.6M | Device: cuda:0\n"
          ]
        }
      ],
      "source": [
        "total_params, trainable_params = LLM_RoBERTa_256.count_parameters()\n",
        "print(\n",
        "    f\"[{model_name}] Total params: {total_params/1e6:.1f}M | \"\n",
        "    f\"Trainable: {trainable_params/1e6:.1f}M | \"\n",
        "    f\"Device: {next(LLM_RoBERTa_256.model.parameters()).device}\"\n",
        ")"
      ]
    },
    {
      "cell_type": "markdown",
      "id": "8b99cea3",
      "metadata": {
        "id": "8b99cea3"
      },
      "source": [
        "### Comparaison `DistilBERT` et `RoBERTa-base`\n",
        "\n",
        "| Propriété                                     | `DistilBERT` (base-uncased)                                               | `RoBERTa-base`                                                |\n",
        "| --------------------------------------------- | --------------------------------------------------------------------------- | --------------------------------------------------------------- |\n",
        "| **Nombre de couches (encodeurs Transformer)** | 6                                                                           | 12                                                              |\n",
        "| **Taille cachée $d_\\text{model}$**         | 768                                                                         | 768                                                             |\n",
        "| **Têtes d’attention**                         | 12                                                                          | 12                                                              |\n",
        "| **Dimension par tête**                        | 64                                                                          | 64                                                              |\n",
        "| **Taille de la couche FFN / intermédiaire**   | 3072                                                                        | 3072                                                            |\n",
        "| **Nombre de paramètres (approx.)**            | \\~66M                                                                       | \\~125M                                                          |\n",
        "| **Longueur maximale des séquences**           | 512                                                                         | 514\\* (généralement utilisé comme 512)                          |\n",
        "| **Embeddings positionnels**                   | Appris (absolus)                                                            | Appris (absolus)                                                |\n",
        "| **Tokenizer & vocabulaire**                   | WordPiece (30 522 tokens), *minuscules*                                     | BPE au niveau des octets (50 265 tokens), *sensible à la casse* |\n",
        "| **Embeddings de segment (token type)**        | Non utilisés (le tokenizer peut en générer, mais le modèle les ignore)      | Non utilisés                                                    |\n",
        "| **Tokens spéciaux**                           | `[CLS]`, `[SEP]`, `[PAD]`, `[MASK]`                                         | `<s>`, `</s>`, `<pad>`, `<mask>`                                |\n",
        "| **Objectif de pré-entraînement**              | Masked LM + distillation depuis BERT-base (pertes KL + cosinus, pas de NSP) | Masked LM uniquement, **masquage dynamique**, pas de NSP        |\n",
        "| **Corpora de pré-entraînement (haut niveau)** | Wikipedia + BookCorpus (via BERT enseignant)                                | Plus large : BookCorpus, CC-News, OpenWebText, Stories          |\n",
        "| **Vitesse d'inférence typique**               | Plus rapide (moitié moins de couches)                                       | Plus lente (architecture plus profonde)                         |\n",
        "| **Mémoire / VRAM typique**                    | Plus faible                                                                 | Plus élevée                                                     |\n",
        "| **Compromis pratique**                        | Efficace, avec \\~95-97% de la précision de BERT-base                        | Précision brute plus forte, mais coût computationnel plus élevé |\n",
        "\n",
        "### Points clefs à retenir\n",
        "\n",
        "* **Capacité** : `RoBERTa-base` possède environ **2x plus de couches** et **2x plus de paramètres** que `DistilBERT` : en théorie, un plafond de performance plus élevé.\n",
        "* **Efficacité** : `DistilBERT` est bien plus **léger et rapide**, idéal lorsque la latence ou la mémoire (VRAM) sont critiques.\n",
        "* **Tokenisation** : WordPiece (*sans casse*) vs BPE au niveau des octets (*sensible à la casse*) : impact potentiel sur le traitement des tokens rares ou Unicode.\n",
        "* **Objectifs d'entraînement** : `DistilBERT` bénéficie de la **distillation** depuis BERT-base, tandis que `RoBERTa` mise sur un **MLM plus robuste** (masquage dynamique) et un **corpus d'entraînement plus large**.\n",
        "\n",
        "**Elements de précision sur le masquage dynamique** :\n",
        "\n",
        "Le **masquage dynamique** (*dynamic masking*) est une différence importante entre BERT/DistilBERT et RoBERTa.\n",
        "\n",
        "* **BERT / DistilBERT** : utilisent du **masquage statique** :\n",
        "  Lors de la création du dataset de pré-entraînement, les *tokens* qui devront être remplacés par `[MASK]` sont choisis à l'avance. Chaque fois qu'une phrase est réutilisée à l'entraînement, ce sont toujours les mêmes positions qui sont masquées.\n",
        "\n",
        "* **RoBERTa** : utilise du **masquage dynamique** :\n",
        "  À chaque passage d'un même texte pendant l'entraînement, les tokens masqués sont choisis **aléatoirement à nouveau**. Ainsi, un même texte peut fournir plusieurs exemples de masquage différents.\n",
        "\n",
        "**Conséquence** :\n",
        "\n",
        "* RoBERTa « voit » beaucoup plus de combinaisons et apprend des représentations plus robustes.\n",
        "* Cela augmente l'efficacité de l'entraînement et améliore la généralisation.\n",
        "\n"
      ]
    },
    {
      "cell_type": "markdown",
      "id": "3c7dc914",
      "metadata": {
        "id": "3c7dc914"
      },
      "source": [
        "## Reconstruction du dataset & des DataLoaders pour le nouveau modèle\n",
        "\n",
        "Comme nous utilisons désormais le tokenizer de `RoBERTa`, il est nécessaire de :\n",
        "* Re-tokeniser le dataset avec ce nouveau tokenizer,\n",
        "* Recréer le `DataCollator` (pour gérer le *padding* dynamique et l'*attention mask*),\n",
        "* Reconstruire les DataLoaders pour l'entraînement et la validation.\n",
        "\n",
        "Cette étape garantit que les deux modèles (`DistilBERT` et `RoBERTa`) soient comparés dans des conditions identiques."
      ]
    },
    {
      "cell_type": "code",
      "execution_count": 27,
      "id": "e6629402",
      "metadata": {
        "id": "e6629402"
      },
      "outputs": [],
      "source": [
        "LLM_RoBERTa_256.split_dataset()"
      ]
    },
    {
      "cell_type": "markdown",
      "id": "0edeec59",
      "metadata": {
        "id": "0edeec59"
      },
      "source": [
        "### Points à noter\n",
        "\n",
        "* **Différences de tokenisation** : RoBERTa utilise la **BPE au niveau des octets** et des tokens spéciaux différents (`<s>`, `</s>`, `<pad>`, `<mask>`).\n",
        "* **ID de padding** : pour RoBERTa, l'ID associé à `<pad>` est généralement **1** (alors qu'il est **0** pour DistilBERT/BERT). L'utilisation de `tokenizer.pad` permet d'éviter de coder cet ID en dur et prévient des erreurs dans les masques d'attention.\n",
        "* **Longueur maximale** : il est important de conserver la même valeur de `MAX_LEN` (ici **256**) que dans l'expérience DistilBERT afin de garantir une **comparaison équitable**. Sinon, on mélangerait l'effet de la **capacité du modèle** avec celui de la **longueur de contexte**.\n",
        "\n",
        "Après avoir reconstruit le dataset tokenisé pour RoBERTa, nous devons :\n",
        "* Initialiser un nouveau DataCollator compatible avec son tokenizer,\n",
        "* Créer les DataLoaders pour l'entraînement et la validation."
      ]
    },
    {
      "cell_type": "code",
      "execution_count": 28,
      "id": "df832800",
      "metadata": {
        "id": "df832800"
      },
      "outputs": [],
      "source": [
        "LLM_RoBERTa_256.set_data_collator()\n",
        "LLM_RoBERTa_256.set_loaders()"
      ]
    },
    {
      "cell_type": "code",
      "execution_count": null,
      "id": "8b5c7a35",
      "metadata": {
        "id": "8b5c7a35"
      },
      "outputs": [],
      "source": [
        "print(\n",
        "    f\"Pad token ID: {LLM_RoBERTa_256.tokenizer.pad_token_id}\\n\"\n",
        "    f\"Special tokens:\\n {json.dumps(LLM_RoBERTa_256.tokenizer.special_tokens_map, indent=2)}\\n\"\n",
        "    f\"Train, valid sizes: {LLM_RoBERTa_256.n_train}, {LLM_RoBERTa_256.n_valid}\"\n",
        ")"
      ]
    },
    {
      "cell_type": "markdown",
      "id": "c95afcf8",
      "metadata": {
        "id": "c95afcf8"
      },
      "source": [
        "### Observations\n",
        "\n",
        "* **ID du padding** : `1` (RoBERTa) au lieu de `0` (DistilBERT/BERT).\n",
        "* **Tokens spéciaux** (propres à RoBERTa) :\n",
        "\n",
        "  * `<s>` = `[CLS]`\n",
        "  * `</s>` = `[SEP]`\n",
        "  * `<pad>` = `[PAD]`\n",
        "  * `<mask>` = `[MASK]`\n",
        "* **Répartition des données** :\n",
        "\n",
        "  * Entraînement : **1600 exemples**\n",
        "  * Validation : **400 exemples**\n",
        "\n",
        "Après avoir préparé le *dataset* et les *DataLoaders*, la prochaine étape consiste à :\n",
        "* Définir l'optimiseur (AdamW), qui ajustera les poids du modèle en fonction de la perte.\n",
        "* Mettre en place le *scheduler*, qui modulera le taux d'apprentissage au cours de l'entraînement (phase de *warmup* suivie d'une décroissance).\n",
        "\n",
        "Cette étape assure une stabilisation de l'entraînement et permet à `RoBERTa` d'apprendre efficacement sans sur-ajuster trop vite."
      ]
    },
    {
      "cell_type": "code",
      "execution_count": 29,
      "id": "eb6a8ee9",
      "metadata": {
        "id": "eb6a8ee9"
      },
      "outputs": [],
      "source": [
        "LLM_RoBERTa_256.set_optimizer()\n",
        "LLM_RoBERTa_256.set_scheduler()"
      ]
    },
    {
      "cell_type": "code",
      "execution_count": 30,
      "id": "210fba47",
      "metadata": {
        "colab": {
          "base_uri": "https://localhost:8080/"
        },
        "id": "210fba47",
        "outputId": "a858d609-d207-42ef-873e-0dd5ae92402a"
      },
      "outputs": [
        {
          "output_type": "stream",
          "name": "stdout",
          "text": [
            "[roberta-base] steps=1200, warmup=120\n"
          ]
        }
      ],
      "source": [
        "print(\n",
        "    f\"[{model_name}] steps={LLM_RoBERTa_256.num_total_steps}, warmup={LLM_RoBERTa_256.num_warmup_steps}\"\n",
        ")"
      ]
    },
    {
      "cell_type": "markdown",
      "id": "672b0f07",
      "metadata": {
        "id": "672b0f07"
      },
      "source": [
        "### Points à retenir\n",
        "\n",
        "* Pour comparer correctement les deux modèles, il est important de **conserver les mêmes hyperparamètres** (learning rate, weight decay, nombre d'époques).\n",
        "* Si `RoBERTa` obtenait de moins bons résultats avec `2e-5`, il pourrait être pertinent d'essayer un **taux d'apprentissage plus petit** (`1e-5`), car les modèles plus grands ont souvent besoin de pas plus fins pour converger correctement.\n",
        "\n",
        "## Éléments théoriques\n",
        "\n",
        "Avant de lancer l'entraînement de **RoBERTa**, rappelons rapidement les notions clés impliquées :\n",
        "\n",
        "### Forward pass\n",
        "\n",
        "* La séquence d'entrée est **tokenisée** puis passée dans l'encodeur Transformer.\n",
        "* Le vecteur associé au token spécial (`[CLS]` pour BERT / `<s>` pour RoBERTa) est utilisé comme **représentation globale**.\n",
        "* Une **tête de classification** (couche linéaire) produit les logits :\n",
        "\n",
        "$$\n",
        "z = W h_{\\text{CLS}} + b\n",
        "$$\n",
        "\n",
        "### Softmax : Probabilités\n",
        "\n",
        "Les logits sont transformés en probabilités pour chaque classe (binaire ici) :\n",
        "\n",
        "$$\n",
        "\\hat{y}_i = \\frac{e^{z_i}}{\\sum_{j=1}^C e^{z_j}}, \\quad C=2\n",
        "$$\n",
        "\n",
        "### Fonction de perte\n",
        "\n",
        "Avec l'entropie croisée :\n",
        "\n",
        "$$\n",
        "L = - \\Big( y \\cdot \\log(\\hat{y}_1) + (1-y) \\cdot \\log(\\hat{y}_0) \\Big)\n",
        "$$\n",
        "\n",
        "### Backpropagation\n",
        "\n",
        "Les gradients des poids sont calculés via la règle de la chaîne :\n",
        "\n",
        "$$\n",
        "\\nabla_w L = \\frac{\\partial L}{\\partial w}\n",
        "$$\n",
        "\n",
        "### Gradient clipping\n",
        "\n",
        "Pour stabiliser l'apprentissage, les gradients trop grands sont réduits :\n",
        "\n",
        "$$\n",
        "g \\leftarrow \\frac{g}{\\max(1, \\tfrac{\\|g\\|}{\\tau})}\n",
        "$$\n",
        "\n",
        "### Optimisation (AdamW)\n",
        "\n",
        "L'optimiseur maintient des moyennes mobiles des gradients :\n",
        "\n",
        "$$\n",
        "m_t = \\beta_1 m_{t-1} + (1 - \\beta_1) g_t\n",
        "$$\n",
        "\n",
        "$$\n",
        "v_t = \\beta_2 v_{t-1} + (1 - \\beta_2) g_t^2\n",
        "$$\n",
        "\n",
        "Après correction de biais :\n",
        "\n",
        "$$\n",
        "\\hat{m}_t = \\frac{m_t}{1 - \\beta_1^t}, \\quad\n",
        "\\hat{v}_t = \\frac{v_t}{1 - \\beta_2^t}\n",
        "$$\n",
        "\n",
        "Mise à jour des poids avec décroissance :\n",
        "\n",
        "$$\n",
        "w_t = w_{t-1} - \\eta \\cdot \\frac{\\hat{m}_t}{\\sqrt{\\hat{v}_t} + \\epsilon} - \\eta \\cdot \\lambda w_{t-1}\n",
        "$$\n",
        "\n",
        "### Scheduler (Warmup + Decay)\n",
        "\n",
        "Le taux d'apprentissage évolue en deux phases :\n",
        "\n",
        "$$\n",
        "\\text{lr}(t) =\n",
        "\\begin{cases}\n",
        "  \\eta \\cdot \\frac{t}{T_\\text{warmup}} & \\text{si } t < T_\\text{warmup} \\\\\\\\\n",
        "  \\eta \\cdot \\left(1 - \\frac{t - T_\\text{warmup}}{T_\\text{total} - T_\\text{warmup}}\\right) & \\text{si } t \\geq T_\\text{warmup}\n",
        "\\end{cases}\n",
        "$$\n",
        "\n",
        "Cette combinaison (AdamW + Scheduler) est devenue **le standard de facto** pour entraîner efficacement les modèles Transformers.\n",
        "\n",
        "Abordons à présent la phase de validation et d'entraînement de sorte à sélectionner le meilleur modèle et le confronter à `DistilBert`."
      ]
    },
    {
      "cell_type": "markdown",
      "id": "65425e3d",
      "metadata": {
        "id": "65425e3d"
      },
      "source": [
        "## Validate and train"
      ]
    },
    {
      "cell_type": "code",
      "execution_count": 31,
      "id": "4c01a147",
      "metadata": {
        "colab": {
          "base_uri": "https://localhost:8080/",
          "height": 677
        },
        "id": "4c01a147",
        "outputId": "dfdd8341-ae77-4055-ce6b-6571bbe4b53e"
      },
      "outputs": [
        {
          "output_type": "stream",
          "name": "stderr",
          "text": [
            "You're using a RobertaTokenizerFast tokenizer. Please note that with a fast tokenizer, using the `__call__` method is faster than using a method to encode the text followed by a call to the `pad` method to get a padded encoding.\n"
          ]
        },
        {
          "output_type": "stream",
          "name": "stdout",
          "text": [
            "\n",
            "Epoch 1/3\n",
            "  Training loss: 0.6207\n",
            "  Validation loss: 0.4095 | Accuracy: 0.8950\n",
            "Saved new best model to ./roberta-best\n",
            "\n",
            "Epoch 2/3\n",
            "  Training loss: 0.3708\n",
            "  Validation loss: 0.2937 | Accuracy: 0.9325\n",
            "Saved new best model to ./roberta-best\n",
            "\n",
            "Epoch 3/3\n",
            "  Training loss: 0.1796\n",
            "  Validation loss: 0.3414 | Accuracy: 0.9350\n"
          ]
        },
        {
          "output_type": "display_data",
          "data": {
            "text/plain": [
              "<Figure size 1200x400 with 2 Axes>"
            ],
            "image/svg+xml": "<?xml version=\"1.0\" encoding=\"utf-8\" standalone=\"no\"?>\n<!DOCTYPE svg PUBLIC \"-//W3C//DTD SVG 1.1//EN\"\n  \"http://www.w3.org/Graphics/SVG/1.1/DTD/svg11.dtd\">\n<svg xmlns:xlink=\"http://www.w3.org/1999/xlink\" width=\"720.58125pt\" height=\"281.634375pt\" viewBox=\"0 0 720.58125 281.634375\" xmlns=\"http://www.w3.org/2000/svg\" version=\"1.1\">\n <metadata>\n  <rdf:RDF xmlns:dc=\"http://purl.org/dc/elements/1.1/\" xmlns:cc=\"http://creativecommons.org/ns#\" xmlns:rdf=\"http://www.w3.org/1999/02/22-rdf-syntax-ns#\">\n   <cc:Work>\n    <dc:type rdf:resource=\"http://purl.org/dc/dcmitype/StillImage\"/>\n    <dc:date>2025-09-14T15:06:30.300995</dc:date>\n    <dc:format>image/svg+xml</dc:format>\n    <dc:creator>\n     <cc:Agent>\n      <dc:title>Matplotlib v3.10.0, https://matplotlib.org/</dc:title>\n     </cc:Agent>\n    </dc:creator>\n   </cc:Work>\n  </rdf:RDF>\n </metadata>\n <defs>\n  <style type=\"text/css\">*{stroke-linejoin: round; stroke-linecap: butt}</style>\n </defs>\n <g id=\"figure_1\">\n  <g id=\"patch_1\">\n   <path d=\"M 0 281.634375 \nL 720.58125 281.634375 \nL 720.58125 0 \nL 0 0 \nz\n\" style=\"fill: #ffffff\"/>\n  </g>\n  <g id=\"axes_1\">\n   <g id=\"patch_2\">\n    <path d=\"M 43.78125 244.078125 \nL 348.144886 244.078125 \nL 348.144886 22.318125 \nL 43.78125 22.318125 \nz\n\" style=\"fill: #ffffff\"/>\n   </g>\n   <g id=\"matplotlib.axis_1\">\n    <g id=\"xtick_1\">\n     <g id=\"line2d_1\">\n      <path d=\"M 57.615961 244.078125 \nL 57.615961 22.318125 \n\" clip-path=\"url(#pb20e67fbf7)\" style=\"fill: none; stroke: #b0b0b0; stroke-width: 0.8; stroke-linecap: square\"/>\n     </g>\n     <g id=\"line2d_2\">\n      <defs>\n       <path id=\"m4970ed0cf2\" d=\"M 0 0 \nL 0 3.5 \n\" style=\"stroke: #000000; stroke-width: 0.8\"/>\n      </defs>\n      <g>\n       <use xlink:href=\"#m4970ed0cf2\" x=\"57.615961\" y=\"244.078125\" style=\"stroke: #000000; stroke-width: 0.8\"/>\n      </g>\n     </g>\n     <g id=\"text_1\">\n      <!-- 1.00 -->\n      <g transform=\"translate(46.483148 258.676562) scale(0.1 -0.1)\">\n       <defs>\n        <path id=\"DejaVuSans-31\" d=\"M 794 531 \nL 1825 531 \nL 1825 4091 \nL 703 3866 \nL 703 4441 \nL 1819 4666 \nL 2450 4666 \nL 2450 531 \nL 3481 531 \nL 3481 0 \nL 794 0 \nL 794 531 \nz\n\" transform=\"scale(0.015625)\"/>\n        <path id=\"DejaVuSans-2e\" d=\"M 684 794 \nL 1344 794 \nL 1344 0 \nL 684 0 \nL 684 794 \nz\n\" transform=\"scale(0.015625)\"/>\n        <path id=\"DejaVuSans-30\" d=\"M 2034 4250 \nQ 1547 4250 1301 3770 \nQ 1056 3291 1056 2328 \nQ 1056 1369 1301 889 \nQ 1547 409 2034 409 \nQ 2525 409 2770 889 \nQ 3016 1369 3016 2328 \nQ 3016 3291 2770 3770 \nQ 2525 4250 2034 4250 \nz\nM 2034 4750 \nQ 2819 4750 3233 4129 \nQ 3647 3509 3647 2328 \nQ 3647 1150 3233 529 \nQ 2819 -91 2034 -91 \nQ 1250 -91 836 529 \nQ 422 1150 422 2328 \nQ 422 3509 836 4129 \nQ 1250 4750 2034 4750 \nz\n\" transform=\"scale(0.015625)\"/>\n       </defs>\n       <use xlink:href=\"#DejaVuSans-31\"/>\n       <use xlink:href=\"#DejaVuSans-2e\" transform=\"translate(63.623047 0)\"/>\n       <use xlink:href=\"#DejaVuSans-30\" transform=\"translate(95.410156 0)\"/>\n       <use xlink:href=\"#DejaVuSans-30\" transform=\"translate(159.033203 0)\"/>\n      </g>\n     </g>\n    </g>\n    <g id=\"xtick_2\">\n     <g id=\"line2d_3\">\n      <path d=\"M 92.202738 244.078125 \nL 92.202738 22.318125 \n\" clip-path=\"url(#pb20e67fbf7)\" style=\"fill: none; stroke: #b0b0b0; stroke-width: 0.8; stroke-linecap: square\"/>\n     </g>\n     <g id=\"line2d_4\">\n      <g>\n       <use xlink:href=\"#m4970ed0cf2\" x=\"92.202738\" y=\"244.078125\" style=\"stroke: #000000; stroke-width: 0.8\"/>\n      </g>\n     </g>\n     <g id=\"text_2\">\n      <!-- 1.25 -->\n      <g transform=\"translate(81.069925 258.676562) scale(0.1 -0.1)\">\n       <defs>\n        <path id=\"DejaVuSans-32\" d=\"M 1228 531 \nL 3431 531 \nL 3431 0 \nL 469 0 \nL 469 531 \nQ 828 903 1448 1529 \nQ 2069 2156 2228 2338 \nQ 2531 2678 2651 2914 \nQ 2772 3150 2772 3378 \nQ 2772 3750 2511 3984 \nQ 2250 4219 1831 4219 \nQ 1534 4219 1204 4116 \nQ 875 4013 500 3803 \nL 500 4441 \nQ 881 4594 1212 4672 \nQ 1544 4750 1819 4750 \nQ 2544 4750 2975 4387 \nQ 3406 4025 3406 3419 \nQ 3406 3131 3298 2873 \nQ 3191 2616 2906 2266 \nQ 2828 2175 2409 1742 \nQ 1991 1309 1228 531 \nz\n\" transform=\"scale(0.015625)\"/>\n        <path id=\"DejaVuSans-35\" d=\"M 691 4666 \nL 3169 4666 \nL 3169 4134 \nL 1269 4134 \nL 1269 2991 \nQ 1406 3038 1543 3061 \nQ 1681 3084 1819 3084 \nQ 2600 3084 3056 2656 \nQ 3513 2228 3513 1497 \nQ 3513 744 3044 326 \nQ 2575 -91 1722 -91 \nQ 1428 -91 1123 -41 \nQ 819 9 494 109 \nL 494 744 \nQ 775 591 1075 516 \nQ 1375 441 1709 441 \nQ 2250 441 2565 725 \nQ 2881 1009 2881 1497 \nQ 2881 1984 2565 2268 \nQ 2250 2553 1709 2553 \nQ 1456 2553 1204 2497 \nQ 953 2441 691 2322 \nL 691 4666 \nz\n\" transform=\"scale(0.015625)\"/>\n       </defs>\n       <use xlink:href=\"#DejaVuSans-31\"/>\n       <use xlink:href=\"#DejaVuSans-2e\" transform=\"translate(63.623047 0)\"/>\n       <use xlink:href=\"#DejaVuSans-32\" transform=\"translate(95.410156 0)\"/>\n       <use xlink:href=\"#DejaVuSans-35\" transform=\"translate(159.033203 0)\"/>\n      </g>\n     </g>\n    </g>\n    <g id=\"xtick_3\">\n     <g id=\"line2d_5\">\n      <path d=\"M 126.789514 244.078125 \nL 126.789514 22.318125 \n\" clip-path=\"url(#pb20e67fbf7)\" style=\"fill: none; stroke: #b0b0b0; stroke-width: 0.8; stroke-linecap: square\"/>\n     </g>\n     <g id=\"line2d_6\">\n      <g>\n       <use xlink:href=\"#m4970ed0cf2\" x=\"126.789514\" y=\"244.078125\" style=\"stroke: #000000; stroke-width: 0.8\"/>\n      </g>\n     </g>\n     <g id=\"text_3\">\n      <!-- 1.50 -->\n      <g transform=\"translate(115.656702 258.676562) scale(0.1 -0.1)\">\n       <use xlink:href=\"#DejaVuSans-31\"/>\n       <use xlink:href=\"#DejaVuSans-2e\" transform=\"translate(63.623047 0)\"/>\n       <use xlink:href=\"#DejaVuSans-35\" transform=\"translate(95.410156 0)\"/>\n       <use xlink:href=\"#DejaVuSans-30\" transform=\"translate(159.033203 0)\"/>\n      </g>\n     </g>\n    </g>\n    <g id=\"xtick_4\">\n     <g id=\"line2d_7\">\n      <path d=\"M 161.376291 244.078125 \nL 161.376291 22.318125 \n\" clip-path=\"url(#pb20e67fbf7)\" style=\"fill: none; stroke: #b0b0b0; stroke-width: 0.8; stroke-linecap: square\"/>\n     </g>\n     <g id=\"line2d_8\">\n      <g>\n       <use xlink:href=\"#m4970ed0cf2\" x=\"161.376291\" y=\"244.078125\" style=\"stroke: #000000; stroke-width: 0.8\"/>\n      </g>\n     </g>\n     <g id=\"text_4\">\n      <!-- 1.75 -->\n      <g transform=\"translate(150.243479 258.676562) scale(0.1 -0.1)\">\n       <defs>\n        <path id=\"DejaVuSans-37\" d=\"M 525 4666 \nL 3525 4666 \nL 3525 4397 \nL 1831 0 \nL 1172 0 \nL 2766 4134 \nL 525 4134 \nL 525 4666 \nz\n\" transform=\"scale(0.015625)\"/>\n       </defs>\n       <use xlink:href=\"#DejaVuSans-31\"/>\n       <use xlink:href=\"#DejaVuSans-2e\" transform=\"translate(63.623047 0)\"/>\n       <use xlink:href=\"#DejaVuSans-37\" transform=\"translate(95.410156 0)\"/>\n       <use xlink:href=\"#DejaVuSans-35\" transform=\"translate(159.033203 0)\"/>\n      </g>\n     </g>\n    </g>\n    <g id=\"xtick_5\">\n     <g id=\"line2d_9\">\n      <path d=\"M 195.963068 244.078125 \nL 195.963068 22.318125 \n\" clip-path=\"url(#pb20e67fbf7)\" style=\"fill: none; stroke: #b0b0b0; stroke-width: 0.8; stroke-linecap: square\"/>\n     </g>\n     <g id=\"line2d_10\">\n      <g>\n       <use xlink:href=\"#m4970ed0cf2\" x=\"195.963068\" y=\"244.078125\" style=\"stroke: #000000; stroke-width: 0.8\"/>\n      </g>\n     </g>\n     <g id=\"text_5\">\n      <!-- 2.00 -->\n      <g transform=\"translate(184.830256 258.676562) scale(0.1 -0.1)\">\n       <use xlink:href=\"#DejaVuSans-32\"/>\n       <use xlink:href=\"#DejaVuSans-2e\" transform=\"translate(63.623047 0)\"/>\n       <use xlink:href=\"#DejaVuSans-30\" transform=\"translate(95.410156 0)\"/>\n       <use xlink:href=\"#DejaVuSans-30\" transform=\"translate(159.033203 0)\"/>\n      </g>\n     </g>\n    </g>\n    <g id=\"xtick_6\">\n     <g id=\"line2d_11\">\n      <path d=\"M 230.549845 244.078125 \nL 230.549845 22.318125 \n\" clip-path=\"url(#pb20e67fbf7)\" style=\"fill: none; stroke: #b0b0b0; stroke-width: 0.8; stroke-linecap: square\"/>\n     </g>\n     <g id=\"line2d_12\">\n      <g>\n       <use xlink:href=\"#m4970ed0cf2\" x=\"230.549845\" y=\"244.078125\" style=\"stroke: #000000; stroke-width: 0.8\"/>\n      </g>\n     </g>\n     <g id=\"text_6\">\n      <!-- 2.25 -->\n      <g transform=\"translate(219.417033 258.676562) scale(0.1 -0.1)\">\n       <use xlink:href=\"#DejaVuSans-32\"/>\n       <use xlink:href=\"#DejaVuSans-2e\" transform=\"translate(63.623047 0)\"/>\n       <use xlink:href=\"#DejaVuSans-32\" transform=\"translate(95.410156 0)\"/>\n       <use xlink:href=\"#DejaVuSans-35\" transform=\"translate(159.033203 0)\"/>\n      </g>\n     </g>\n    </g>\n    <g id=\"xtick_7\">\n     <g id=\"line2d_13\">\n      <path d=\"M 265.136622 244.078125 \nL 265.136622 22.318125 \n\" clip-path=\"url(#pb20e67fbf7)\" style=\"fill: none; stroke: #b0b0b0; stroke-width: 0.8; stroke-linecap: square\"/>\n     </g>\n     <g id=\"line2d_14\">\n      <g>\n       <use xlink:href=\"#m4970ed0cf2\" x=\"265.136622\" y=\"244.078125\" style=\"stroke: #000000; stroke-width: 0.8\"/>\n      </g>\n     </g>\n     <g id=\"text_7\">\n      <!-- 2.50 -->\n      <g transform=\"translate(254.003809 258.676562) scale(0.1 -0.1)\">\n       <use xlink:href=\"#DejaVuSans-32\"/>\n       <use xlink:href=\"#DejaVuSans-2e\" transform=\"translate(63.623047 0)\"/>\n       <use xlink:href=\"#DejaVuSans-35\" transform=\"translate(95.410156 0)\"/>\n       <use xlink:href=\"#DejaVuSans-30\" transform=\"translate(159.033203 0)\"/>\n      </g>\n     </g>\n    </g>\n    <g id=\"xtick_8\">\n     <g id=\"line2d_15\">\n      <path d=\"M 299.723399 244.078125 \nL 299.723399 22.318125 \n\" clip-path=\"url(#pb20e67fbf7)\" style=\"fill: none; stroke: #b0b0b0; stroke-width: 0.8; stroke-linecap: square\"/>\n     </g>\n     <g id=\"line2d_16\">\n      <g>\n       <use xlink:href=\"#m4970ed0cf2\" x=\"299.723399\" y=\"244.078125\" style=\"stroke: #000000; stroke-width: 0.8\"/>\n      </g>\n     </g>\n     <g id=\"text_8\">\n      <!-- 2.75 -->\n      <g transform=\"translate(288.590586 258.676562) scale(0.1 -0.1)\">\n       <use xlink:href=\"#DejaVuSans-32\"/>\n       <use xlink:href=\"#DejaVuSans-2e\" transform=\"translate(63.623047 0)\"/>\n       <use xlink:href=\"#DejaVuSans-37\" transform=\"translate(95.410156 0)\"/>\n       <use xlink:href=\"#DejaVuSans-35\" transform=\"translate(159.033203 0)\"/>\n      </g>\n     </g>\n    </g>\n    <g id=\"xtick_9\">\n     <g id=\"line2d_17\">\n      <path d=\"M 334.310176 244.078125 \nL 334.310176 22.318125 \n\" clip-path=\"url(#pb20e67fbf7)\" style=\"fill: none; stroke: #b0b0b0; stroke-width: 0.8; stroke-linecap: square\"/>\n     </g>\n     <g id=\"line2d_18\">\n      <g>\n       <use xlink:href=\"#m4970ed0cf2\" x=\"334.310176\" y=\"244.078125\" style=\"stroke: #000000; stroke-width: 0.8\"/>\n      </g>\n     </g>\n     <g id=\"text_9\">\n      <!-- 3.00 -->\n      <g transform=\"translate(323.177363 258.676562) scale(0.1 -0.1)\">\n       <defs>\n        <path id=\"DejaVuSans-33\" d=\"M 2597 2516 \nQ 3050 2419 3304 2112 \nQ 3559 1806 3559 1356 \nQ 3559 666 3084 287 \nQ 2609 -91 1734 -91 \nQ 1441 -91 1130 -33 \nQ 819 25 488 141 \nL 488 750 \nQ 750 597 1062 519 \nQ 1375 441 1716 441 \nQ 2309 441 2620 675 \nQ 2931 909 2931 1356 \nQ 2931 1769 2642 2001 \nQ 2353 2234 1838 2234 \nL 1294 2234 \nL 1294 2753 \nL 1863 2753 \nQ 2328 2753 2575 2939 \nQ 2822 3125 2822 3475 \nQ 2822 3834 2567 4026 \nQ 2313 4219 1838 4219 \nQ 1578 4219 1281 4162 \nQ 984 4106 628 3988 \nL 628 4550 \nQ 988 4650 1302 4700 \nQ 1616 4750 1894 4750 \nQ 2613 4750 3031 4423 \nQ 3450 4097 3450 3541 \nQ 3450 3153 3228 2886 \nQ 3006 2619 2597 2516 \nz\n\" transform=\"scale(0.015625)\"/>\n       </defs>\n       <use xlink:href=\"#DejaVuSans-33\"/>\n       <use xlink:href=\"#DejaVuSans-2e\" transform=\"translate(63.623047 0)\"/>\n       <use xlink:href=\"#DejaVuSans-30\" transform=\"translate(95.410156 0)\"/>\n       <use xlink:href=\"#DejaVuSans-30\" transform=\"translate(159.033203 0)\"/>\n      </g>\n     </g>\n    </g>\n    <g id=\"text_10\">\n     <!-- Epochs -->\n     <g transform=\"translate(178.047443 272.354687) scale(0.1 -0.1)\">\n      <defs>\n       <path id=\"DejaVuSans-45\" d=\"M 628 4666 \nL 3578 4666 \nL 3578 4134 \nL 1259 4134 \nL 1259 2753 \nL 3481 2753 \nL 3481 2222 \nL 1259 2222 \nL 1259 531 \nL 3634 531 \nL 3634 0 \nL 628 0 \nL 628 4666 \nz\n\" transform=\"scale(0.015625)\"/>\n       <path id=\"DejaVuSans-70\" d=\"M 1159 525 \nL 1159 -1331 \nL 581 -1331 \nL 581 3500 \nL 1159 3500 \nL 1159 2969 \nQ 1341 3281 1617 3432 \nQ 1894 3584 2278 3584 \nQ 2916 3584 3314 3078 \nQ 3713 2572 3713 1747 \nQ 3713 922 3314 415 \nQ 2916 -91 2278 -91 \nQ 1894 -91 1617 61 \nQ 1341 213 1159 525 \nz\nM 3116 1747 \nQ 3116 2381 2855 2742 \nQ 2594 3103 2138 3103 \nQ 1681 3103 1420 2742 \nQ 1159 2381 1159 1747 \nQ 1159 1113 1420 752 \nQ 1681 391 2138 391 \nQ 2594 391 2855 752 \nQ 3116 1113 3116 1747 \nz\n\" transform=\"scale(0.015625)\"/>\n       <path id=\"DejaVuSans-6f\" d=\"M 1959 3097 \nQ 1497 3097 1228 2736 \nQ 959 2375 959 1747 \nQ 959 1119 1226 758 \nQ 1494 397 1959 397 \nQ 2419 397 2687 759 \nQ 2956 1122 2956 1747 \nQ 2956 2369 2687 2733 \nQ 2419 3097 1959 3097 \nz\nM 1959 3584 \nQ 2709 3584 3137 3096 \nQ 3566 2609 3566 1747 \nQ 3566 888 3137 398 \nQ 2709 -91 1959 -91 \nQ 1206 -91 779 398 \nQ 353 888 353 1747 \nQ 353 2609 779 3096 \nQ 1206 3584 1959 3584 \nz\n\" transform=\"scale(0.015625)\"/>\n       <path id=\"DejaVuSans-63\" d=\"M 3122 3366 \nL 3122 2828 \nQ 2878 2963 2633 3030 \nQ 2388 3097 2138 3097 \nQ 1578 3097 1268 2742 \nQ 959 2388 959 1747 \nQ 959 1106 1268 751 \nQ 1578 397 2138 397 \nQ 2388 397 2633 464 \nQ 2878 531 3122 666 \nL 3122 134 \nQ 2881 22 2623 -34 \nQ 2366 -91 2075 -91 \nQ 1284 -91 818 406 \nQ 353 903 353 1747 \nQ 353 2603 823 3093 \nQ 1294 3584 2113 3584 \nQ 2378 3584 2631 3529 \nQ 2884 3475 3122 3366 \nz\n\" transform=\"scale(0.015625)\"/>\n       <path id=\"DejaVuSans-68\" d=\"M 3513 2113 \nL 3513 0 \nL 2938 0 \nL 2938 2094 \nQ 2938 2591 2744 2837 \nQ 2550 3084 2163 3084 \nQ 1697 3084 1428 2787 \nQ 1159 2491 1159 1978 \nL 1159 0 \nL 581 0 \nL 581 4863 \nL 1159 4863 \nL 1159 2956 \nQ 1366 3272 1645 3428 \nQ 1925 3584 2291 3584 \nQ 2894 3584 3203 3211 \nQ 3513 2838 3513 2113 \nz\n\" transform=\"scale(0.015625)\"/>\n       <path id=\"DejaVuSans-73\" d=\"M 2834 3397 \nL 2834 2853 \nQ 2591 2978 2328 3040 \nQ 2066 3103 1784 3103 \nQ 1356 3103 1142 2972 \nQ 928 2841 928 2578 \nQ 928 2378 1081 2264 \nQ 1234 2150 1697 2047 \nL 1894 2003 \nQ 2506 1872 2764 1633 \nQ 3022 1394 3022 966 \nQ 3022 478 2636 193 \nQ 2250 -91 1575 -91 \nQ 1294 -91 989 -36 \nQ 684 19 347 128 \nL 347 722 \nQ 666 556 975 473 \nQ 1284 391 1588 391 \nQ 1994 391 2212 530 \nQ 2431 669 2431 922 \nQ 2431 1156 2273 1281 \nQ 2116 1406 1581 1522 \nL 1381 1569 \nQ 847 1681 609 1914 \nQ 372 2147 372 2553 \nQ 372 3047 722 3315 \nQ 1072 3584 1716 3584 \nQ 2034 3584 2315 3537 \nQ 2597 3491 2834 3397 \nz\n\" transform=\"scale(0.015625)\"/>\n      </defs>\n      <use xlink:href=\"#DejaVuSans-45\"/>\n      <use xlink:href=\"#DejaVuSans-70\" transform=\"translate(63.183594 0)\"/>\n      <use xlink:href=\"#DejaVuSans-6f\" transform=\"translate(126.660156 0)\"/>\n      <use xlink:href=\"#DejaVuSans-63\" transform=\"translate(187.841797 0)\"/>\n      <use xlink:href=\"#DejaVuSans-68\" transform=\"translate(242.822266 0)\"/>\n      <use xlink:href=\"#DejaVuSans-73\" transform=\"translate(306.201172 0)\"/>\n     </g>\n    </g>\n   </g>\n   <g id=\"matplotlib.axis_2\">\n    <g id=\"ytick_1\">\n     <g id=\"line2d_19\">\n      <path d=\"M 43.78125 224.669658 \nL 348.144886 224.669658 \n\" clip-path=\"url(#pb20e67fbf7)\" style=\"fill: none; stroke: #b0b0b0; stroke-width: 0.8; stroke-linecap: square\"/>\n     </g>\n     <g id=\"line2d_20\">\n      <defs>\n       <path id=\"m2baa37b014\" d=\"M 0 0 \nL -3.5 0 \n\" style=\"stroke: #000000; stroke-width: 0.8\"/>\n      </defs>\n      <g>\n       <use xlink:href=\"#m2baa37b014\" x=\"43.78125\" y=\"224.669658\" style=\"stroke: #000000; stroke-width: 0.8\"/>\n      </g>\n     </g>\n     <g id=\"text_11\">\n      <!-- 0.2 -->\n      <g transform=\"translate(20.878125 228.468876) scale(0.1 -0.1)\">\n       <use xlink:href=\"#DejaVuSans-30\"/>\n       <use xlink:href=\"#DejaVuSans-2e\" transform=\"translate(63.623047 0)\"/>\n       <use xlink:href=\"#DejaVuSans-32\" transform=\"translate(95.410156 0)\"/>\n      </g>\n     </g>\n    </g>\n    <g id=\"ytick_2\">\n     <g id=\"line2d_21\">\n      <path d=\"M 43.78125 178.968352 \nL 348.144886 178.968352 \n\" clip-path=\"url(#pb20e67fbf7)\" style=\"fill: none; stroke: #b0b0b0; stroke-width: 0.8; stroke-linecap: square\"/>\n     </g>\n     <g id=\"line2d_22\">\n      <g>\n       <use xlink:href=\"#m2baa37b014\" x=\"43.78125\" y=\"178.968352\" style=\"stroke: #000000; stroke-width: 0.8\"/>\n      </g>\n     </g>\n     <g id=\"text_12\">\n      <!-- 0.3 -->\n      <g transform=\"translate(20.878125 182.767571) scale(0.1 -0.1)\">\n       <use xlink:href=\"#DejaVuSans-30\"/>\n       <use xlink:href=\"#DejaVuSans-2e\" transform=\"translate(63.623047 0)\"/>\n       <use xlink:href=\"#DejaVuSans-33\" transform=\"translate(95.410156 0)\"/>\n      </g>\n     </g>\n    </g>\n    <g id=\"ytick_3\">\n     <g id=\"line2d_23\">\n      <path d=\"M 43.78125 133.267046 \nL 348.144886 133.267046 \n\" clip-path=\"url(#pb20e67fbf7)\" style=\"fill: none; stroke: #b0b0b0; stroke-width: 0.8; stroke-linecap: square\"/>\n     </g>\n     <g id=\"line2d_24\">\n      <g>\n       <use xlink:href=\"#m2baa37b014\" x=\"43.78125\" y=\"133.267046\" style=\"stroke: #000000; stroke-width: 0.8\"/>\n      </g>\n     </g>\n     <g id=\"text_13\">\n      <!-- 0.4 -->\n      <g transform=\"translate(20.878125 137.066265) scale(0.1 -0.1)\">\n       <defs>\n        <path id=\"DejaVuSans-34\" d=\"M 2419 4116 \nL 825 1625 \nL 2419 1625 \nL 2419 4116 \nz\nM 2253 4666 \nL 3047 4666 \nL 3047 1625 \nL 3713 1625 \nL 3713 1100 \nL 3047 1100 \nL 3047 0 \nL 2419 0 \nL 2419 1100 \nL 313 1100 \nL 313 1709 \nL 2253 4666 \nz\n\" transform=\"scale(0.015625)\"/>\n       </defs>\n       <use xlink:href=\"#DejaVuSans-30\"/>\n       <use xlink:href=\"#DejaVuSans-2e\" transform=\"translate(63.623047 0)\"/>\n       <use xlink:href=\"#DejaVuSans-34\" transform=\"translate(95.410156 0)\"/>\n      </g>\n     </g>\n    </g>\n    <g id=\"ytick_4\">\n     <g id=\"line2d_25\">\n      <path d=\"M 43.78125 87.565741 \nL 348.144886 87.565741 \n\" clip-path=\"url(#pb20e67fbf7)\" style=\"fill: none; stroke: #b0b0b0; stroke-width: 0.8; stroke-linecap: square\"/>\n     </g>\n     <g id=\"line2d_26\">\n      <g>\n       <use xlink:href=\"#m2baa37b014\" x=\"43.78125\" y=\"87.565741\" style=\"stroke: #000000; stroke-width: 0.8\"/>\n      </g>\n     </g>\n     <g id=\"text_14\">\n      <!-- 0.5 -->\n      <g transform=\"translate(20.878125 91.36496) scale(0.1 -0.1)\">\n       <use xlink:href=\"#DejaVuSans-30\"/>\n       <use xlink:href=\"#DejaVuSans-2e\" transform=\"translate(63.623047 0)\"/>\n       <use xlink:href=\"#DejaVuSans-35\" transform=\"translate(95.410156 0)\"/>\n      </g>\n     </g>\n    </g>\n    <g id=\"ytick_5\">\n     <g id=\"line2d_27\">\n      <path d=\"M 43.78125 41.864435 \nL 348.144886 41.864435 \n\" clip-path=\"url(#pb20e67fbf7)\" style=\"fill: none; stroke: #b0b0b0; stroke-width: 0.8; stroke-linecap: square\"/>\n     </g>\n     <g id=\"line2d_28\">\n      <g>\n       <use xlink:href=\"#m2baa37b014\" x=\"43.78125\" y=\"41.864435\" style=\"stroke: #000000; stroke-width: 0.8\"/>\n      </g>\n     </g>\n     <g id=\"text_15\">\n      <!-- 0.6 -->\n      <g transform=\"translate(20.878125 45.663654) scale(0.1 -0.1)\">\n       <defs>\n        <path id=\"DejaVuSans-36\" d=\"M 2113 2584 \nQ 1688 2584 1439 2293 \nQ 1191 2003 1191 1497 \nQ 1191 994 1439 701 \nQ 1688 409 2113 409 \nQ 2538 409 2786 701 \nQ 3034 994 3034 1497 \nQ 3034 2003 2786 2293 \nQ 2538 2584 2113 2584 \nz\nM 3366 4563 \nL 3366 3988 \nQ 3128 4100 2886 4159 \nQ 2644 4219 2406 4219 \nQ 1781 4219 1451 3797 \nQ 1122 3375 1075 2522 \nQ 1259 2794 1537 2939 \nQ 1816 3084 2150 3084 \nQ 2853 3084 3261 2657 \nQ 3669 2231 3669 1497 \nQ 3669 778 3244 343 \nQ 2819 -91 2113 -91 \nQ 1303 -91 875 529 \nQ 447 1150 447 2328 \nQ 447 3434 972 4092 \nQ 1497 4750 2381 4750 \nQ 2619 4750 2861 4703 \nQ 3103 4656 3366 4563 \nz\n\" transform=\"scale(0.015625)\"/>\n       </defs>\n       <use xlink:href=\"#DejaVuSans-30\"/>\n       <use xlink:href=\"#DejaVuSans-2e\" transform=\"translate(63.623047 0)\"/>\n       <use xlink:href=\"#DejaVuSans-36\" transform=\"translate(95.410156 0)\"/>\n      </g>\n     </g>\n    </g>\n    <g id=\"text_16\">\n     <!-- Loss -->\n     <g transform=\"translate(14.798438 144.165312) rotate(-90) scale(0.1 -0.1)\">\n      <defs>\n       <path id=\"DejaVuSans-4c\" d=\"M 628 4666 \nL 1259 4666 \nL 1259 531 \nL 3531 531 \nL 3531 0 \nL 628 0 \nL 628 4666 \nz\n\" transform=\"scale(0.015625)\"/>\n      </defs>\n      <use xlink:href=\"#DejaVuSans-4c\"/>\n      <use xlink:href=\"#DejaVuSans-6f\" transform=\"translate(53.962891 0)\"/>\n      <use xlink:href=\"#DejaVuSans-73\" transform=\"translate(115.144531 0)\"/>\n      <use xlink:href=\"#DejaVuSans-73\" transform=\"translate(167.244141 0)\"/>\n     </g>\n    </g>\n   </g>\n   <g id=\"line2d_29\">\n    <path d=\"M 57.615961 32.398125 \nL 195.963068 146.59537 \nL 334.310176 233.998125 \n\" clip-path=\"url(#pb20e67fbf7)\" style=\"fill: none; stroke: #1f77b4; stroke-width: 1.5; stroke-linecap: square\"/>\n    <defs>\n     <path id=\"md259d555ed\" d=\"M 0 3 \nC 0.795609 3 1.55874 2.683901 2.12132 2.12132 \nC 2.683901 1.55874 3 0.795609 3 0 \nC 3 -0.795609 2.683901 -1.55874 2.12132 -2.12132 \nC 1.55874 -2.683901 0.795609 -3 0 -3 \nC -0.795609 -3 -1.55874 -2.683901 -2.12132 -2.12132 \nC -2.683901 -1.55874 -3 -0.795609 -3 0 \nC -3 0.795609 -2.683901 1.55874 -2.12132 2.12132 \nC -1.55874 2.683901 -0.795609 3 0 3 \nz\n\" style=\"stroke: #1f77b4\"/>\n    </defs>\n    <g clip-path=\"url(#pb20e67fbf7)\">\n     <use xlink:href=\"#md259d555ed\" x=\"57.615961\" y=\"32.398125\" style=\"fill: #1f77b4; stroke: #1f77b4\"/>\n     <use xlink:href=\"#md259d555ed\" x=\"195.963068\" y=\"146.59537\" style=\"fill: #1f77b4; stroke: #1f77b4\"/>\n     <use xlink:href=\"#md259d555ed\" x=\"334.310176\" y=\"233.998125\" style=\"fill: #1f77b4; stroke: #1f77b4\"/>\n    </g>\n   </g>\n   <g id=\"line2d_30\">\n    <path d=\"M 57.615961 128.928563 \nL 195.963068 181.867328 \nL 334.310176 160.054829 \n\" clip-path=\"url(#pb20e67fbf7)\" style=\"fill: none; stroke: #ff7f0e; stroke-width: 1.5; stroke-linecap: square\"/>\n    <defs>\n     <path id=\"m9f65cc51e8\" d=\"M 0 3 \nC 0.795609 3 1.55874 2.683901 2.12132 2.12132 \nC 2.683901 1.55874 3 0.795609 3 0 \nC 3 -0.795609 2.683901 -1.55874 2.12132 -2.12132 \nC 1.55874 -2.683901 0.795609 -3 0 -3 \nC -0.795609 -3 -1.55874 -2.683901 -2.12132 -2.12132 \nC -2.683901 -1.55874 -3 -0.795609 -3 0 \nC -3 0.795609 -2.683901 1.55874 -2.12132 2.12132 \nC -1.55874 2.683901 -0.795609 3 0 3 \nz\n\" style=\"stroke: #ff7f0e\"/>\n    </defs>\n    <g clip-path=\"url(#pb20e67fbf7)\">\n     <use xlink:href=\"#m9f65cc51e8\" x=\"57.615961\" y=\"128.928563\" style=\"fill: #ff7f0e; stroke: #ff7f0e\"/>\n     <use xlink:href=\"#m9f65cc51e8\" x=\"195.963068\" y=\"181.867328\" style=\"fill: #ff7f0e; stroke: #ff7f0e\"/>\n     <use xlink:href=\"#m9f65cc51e8\" x=\"334.310176\" y=\"160.054829\" style=\"fill: #ff7f0e; stroke: #ff7f0e\"/>\n    </g>\n   </g>\n   <g id=\"patch_3\">\n    <path d=\"M 43.78125 244.078125 \nL 43.78125 22.318125 \n\" style=\"fill: none; stroke: #000000; stroke-width: 0.8; stroke-linejoin: miter; stroke-linecap: square\"/>\n   </g>\n   <g id=\"patch_4\">\n    <path d=\"M 348.144886 244.078125 \nL 348.144886 22.318125 \n\" style=\"fill: none; stroke: #000000; stroke-width: 0.8; stroke-linejoin: miter; stroke-linecap: square\"/>\n   </g>\n   <g id=\"patch_5\">\n    <path d=\"M 43.78125 244.078125 \nL 348.144886 244.078125 \n\" style=\"fill: none; stroke: #000000; stroke-width: 0.8; stroke-linejoin: miter; stroke-linecap: square\"/>\n   </g>\n   <g id=\"patch_6\">\n    <path d=\"M 43.78125 22.318125 \nL 348.144886 22.318125 \n\" style=\"fill: none; stroke: #000000; stroke-width: 0.8; stroke-linejoin: miter; stroke-linecap: square\"/>\n   </g>\n   <g id=\"text_17\">\n    <!-- Training vs Validation Loss -->\n    <g transform=\"translate(117.105256 16.318125) scale(0.12 -0.12)\">\n     <defs>\n      <path id=\"DejaVuSans-54\" d=\"M -19 4666 \nL 3928 4666 \nL 3928 4134 \nL 2272 4134 \nL 2272 0 \nL 1638 0 \nL 1638 4134 \nL -19 4134 \nL -19 4666 \nz\n\" transform=\"scale(0.015625)\"/>\n      <path id=\"DejaVuSans-72\" d=\"M 2631 2963 \nQ 2534 3019 2420 3045 \nQ 2306 3072 2169 3072 \nQ 1681 3072 1420 2755 \nQ 1159 2438 1159 1844 \nL 1159 0 \nL 581 0 \nL 581 3500 \nL 1159 3500 \nL 1159 2956 \nQ 1341 3275 1631 3429 \nQ 1922 3584 2338 3584 \nQ 2397 3584 2469 3576 \nQ 2541 3569 2628 3553 \nL 2631 2963 \nz\n\" transform=\"scale(0.015625)\"/>\n      <path id=\"DejaVuSans-61\" d=\"M 2194 1759 \nQ 1497 1759 1228 1600 \nQ 959 1441 959 1056 \nQ 959 750 1161 570 \nQ 1363 391 1709 391 \nQ 2188 391 2477 730 \nQ 2766 1069 2766 1631 \nL 2766 1759 \nL 2194 1759 \nz\nM 3341 1997 \nL 3341 0 \nL 2766 0 \nL 2766 531 \nQ 2569 213 2275 61 \nQ 1981 -91 1556 -91 \nQ 1019 -91 701 211 \nQ 384 513 384 1019 \nQ 384 1609 779 1909 \nQ 1175 2209 1959 2209 \nL 2766 2209 \nL 2766 2266 \nQ 2766 2663 2505 2880 \nQ 2244 3097 1772 3097 \nQ 1472 3097 1187 3025 \nQ 903 2953 641 2809 \nL 641 3341 \nQ 956 3463 1253 3523 \nQ 1550 3584 1831 3584 \nQ 2591 3584 2966 3190 \nQ 3341 2797 3341 1997 \nz\n\" transform=\"scale(0.015625)\"/>\n      <path id=\"DejaVuSans-69\" d=\"M 603 3500 \nL 1178 3500 \nL 1178 0 \nL 603 0 \nL 603 3500 \nz\nM 603 4863 \nL 1178 4863 \nL 1178 4134 \nL 603 4134 \nL 603 4863 \nz\n\" transform=\"scale(0.015625)\"/>\n      <path id=\"DejaVuSans-6e\" d=\"M 3513 2113 \nL 3513 0 \nL 2938 0 \nL 2938 2094 \nQ 2938 2591 2744 2837 \nQ 2550 3084 2163 3084 \nQ 1697 3084 1428 2787 \nQ 1159 2491 1159 1978 \nL 1159 0 \nL 581 0 \nL 581 3500 \nL 1159 3500 \nL 1159 2956 \nQ 1366 3272 1645 3428 \nQ 1925 3584 2291 3584 \nQ 2894 3584 3203 3211 \nQ 3513 2838 3513 2113 \nz\n\" transform=\"scale(0.015625)\"/>\n      <path id=\"DejaVuSans-67\" d=\"M 2906 1791 \nQ 2906 2416 2648 2759 \nQ 2391 3103 1925 3103 \nQ 1463 3103 1205 2759 \nQ 947 2416 947 1791 \nQ 947 1169 1205 825 \nQ 1463 481 1925 481 \nQ 2391 481 2648 825 \nQ 2906 1169 2906 1791 \nz\nM 3481 434 \nQ 3481 -459 3084 -895 \nQ 2688 -1331 1869 -1331 \nQ 1566 -1331 1297 -1286 \nQ 1028 -1241 775 -1147 \nL 775 -588 \nQ 1028 -725 1275 -790 \nQ 1522 -856 1778 -856 \nQ 2344 -856 2625 -561 \nQ 2906 -266 2906 331 \nL 2906 616 \nQ 2728 306 2450 153 \nQ 2172 0 1784 0 \nQ 1141 0 747 490 \nQ 353 981 353 1791 \nQ 353 2603 747 3093 \nQ 1141 3584 1784 3584 \nQ 2172 3584 2450 3431 \nQ 2728 3278 2906 2969 \nL 2906 3500 \nL 3481 3500 \nL 3481 434 \nz\n\" transform=\"scale(0.015625)\"/>\n      <path id=\"DejaVuSans-20\" transform=\"scale(0.015625)\"/>\n      <path id=\"DejaVuSans-76\" d=\"M 191 3500 \nL 800 3500 \nL 1894 563 \nL 2988 3500 \nL 3597 3500 \nL 2284 0 \nL 1503 0 \nL 191 3500 \nz\n\" transform=\"scale(0.015625)\"/>\n      <path id=\"DejaVuSans-56\" d=\"M 1831 0 \nL 50 4666 \nL 709 4666 \nL 2188 738 \nL 3669 4666 \nL 4325 4666 \nL 2547 0 \nL 1831 0 \nz\n\" transform=\"scale(0.015625)\"/>\n      <path id=\"DejaVuSans-6c\" d=\"M 603 4863 \nL 1178 4863 \nL 1178 0 \nL 603 0 \nL 603 4863 \nz\n\" transform=\"scale(0.015625)\"/>\n      <path id=\"DejaVuSans-64\" d=\"M 2906 2969 \nL 2906 4863 \nL 3481 4863 \nL 3481 0 \nL 2906 0 \nL 2906 525 \nQ 2725 213 2448 61 \nQ 2172 -91 1784 -91 \nQ 1150 -91 751 415 \nQ 353 922 353 1747 \nQ 353 2572 751 3078 \nQ 1150 3584 1784 3584 \nQ 2172 3584 2448 3432 \nQ 2725 3281 2906 2969 \nz\nM 947 1747 \nQ 947 1113 1208 752 \nQ 1469 391 1925 391 \nQ 2381 391 2643 752 \nQ 2906 1113 2906 1747 \nQ 2906 2381 2643 2742 \nQ 2381 3103 1925 3103 \nQ 1469 3103 1208 2742 \nQ 947 2381 947 1747 \nz\n\" transform=\"scale(0.015625)\"/>\n      <path id=\"DejaVuSans-74\" d=\"M 1172 4494 \nL 1172 3500 \nL 2356 3500 \nL 2356 3053 \nL 1172 3053 \nL 1172 1153 \nQ 1172 725 1289 603 \nQ 1406 481 1766 481 \nL 2356 481 \nL 2356 0 \nL 1766 0 \nQ 1100 0 847 248 \nQ 594 497 594 1153 \nL 594 3053 \nL 172 3053 \nL 172 3500 \nL 594 3500 \nL 594 4494 \nL 1172 4494 \nz\n\" transform=\"scale(0.015625)\"/>\n     </defs>\n     <use xlink:href=\"#DejaVuSans-54\"/>\n     <use xlink:href=\"#DejaVuSans-72\" transform=\"translate(46.333984 0)\"/>\n     <use xlink:href=\"#DejaVuSans-61\" transform=\"translate(87.447266 0)\"/>\n     <use xlink:href=\"#DejaVuSans-69\" transform=\"translate(148.726562 0)\"/>\n     <use xlink:href=\"#DejaVuSans-6e\" transform=\"translate(176.509766 0)\"/>\n     <use xlink:href=\"#DejaVuSans-69\" transform=\"translate(239.888672 0)\"/>\n     <use xlink:href=\"#DejaVuSans-6e\" transform=\"translate(267.671875 0)\"/>\n     <use xlink:href=\"#DejaVuSans-67\" transform=\"translate(331.050781 0)\"/>\n     <use xlink:href=\"#DejaVuSans-20\" transform=\"translate(394.527344 0)\"/>\n     <use xlink:href=\"#DejaVuSans-76\" transform=\"translate(426.314453 0)\"/>\n     <use xlink:href=\"#DejaVuSans-73\" transform=\"translate(485.494141 0)\"/>\n     <use xlink:href=\"#DejaVuSans-20\" transform=\"translate(537.59375 0)\"/>\n     <use xlink:href=\"#DejaVuSans-56\" transform=\"translate(569.380859 0)\"/>\n     <use xlink:href=\"#DejaVuSans-61\" transform=\"translate(630.039062 0)\"/>\n     <use xlink:href=\"#DejaVuSans-6c\" transform=\"translate(691.318359 0)\"/>\n     <use xlink:href=\"#DejaVuSans-69\" transform=\"translate(719.101562 0)\"/>\n     <use xlink:href=\"#DejaVuSans-64\" transform=\"translate(746.884766 0)\"/>\n     <use xlink:href=\"#DejaVuSans-61\" transform=\"translate(810.361328 0)\"/>\n     <use xlink:href=\"#DejaVuSans-74\" transform=\"translate(871.640625 0)\"/>\n     <use xlink:href=\"#DejaVuSans-69\" transform=\"translate(910.849609 0)\"/>\n     <use xlink:href=\"#DejaVuSans-6f\" transform=\"translate(938.632812 0)\"/>\n     <use xlink:href=\"#DejaVuSans-6e\" transform=\"translate(999.814453 0)\"/>\n     <use xlink:href=\"#DejaVuSans-20\" transform=\"translate(1063.193359 0)\"/>\n     <use xlink:href=\"#DejaVuSans-4c\" transform=\"translate(1094.980469 0)\"/>\n     <use xlink:href=\"#DejaVuSans-6f\" transform=\"translate(1148.943359 0)\"/>\n     <use xlink:href=\"#DejaVuSans-73\" transform=\"translate(1210.125 0)\"/>\n     <use xlink:href=\"#DejaVuSans-73\" transform=\"translate(1262.224609 0)\"/>\n    </g>\n   </g>\n   <g id=\"legend_1\">\n    <g id=\"patch_7\">\n     <path d=\"M 234.651136 59.674375 \nL 341.144886 59.674375 \nQ 343.144886 59.674375 343.144886 57.674375 \nL 343.144886 29.318125 \nQ 343.144886 27.318125 341.144886 27.318125 \nL 234.651136 27.318125 \nQ 232.651136 27.318125 232.651136 29.318125 \nL 232.651136 57.674375 \nQ 232.651136 59.674375 234.651136 59.674375 \nz\n\" style=\"fill: #ffffff; opacity: 0.8; stroke: #cccccc; stroke-linejoin: miter\"/>\n    </g>\n    <g id=\"line2d_31\">\n     <path d=\"M 236.651136 35.416562 \nL 246.651136 35.416562 \nL 256.651136 35.416562 \n\" style=\"fill: none; stroke: #1f77b4; stroke-width: 1.5; stroke-linecap: square\"/>\n     <g>\n      <use xlink:href=\"#md259d555ed\" x=\"246.651136\" y=\"35.416562\" style=\"fill: #1f77b4; stroke: #1f77b4\"/>\n     </g>\n    </g>\n    <g id=\"text_18\">\n     <!-- Train Loss -->\n     <g transform=\"translate(264.651136 38.916562) scale(0.1 -0.1)\">\n      <use xlink:href=\"#DejaVuSans-54\"/>\n      <use xlink:href=\"#DejaVuSans-72\" transform=\"translate(46.333984 0)\"/>\n      <use xlink:href=\"#DejaVuSans-61\" transform=\"translate(87.447266 0)\"/>\n      <use xlink:href=\"#DejaVuSans-69\" transform=\"translate(148.726562 0)\"/>\n      <use xlink:href=\"#DejaVuSans-6e\" transform=\"translate(176.509766 0)\"/>\n      <use xlink:href=\"#DejaVuSans-20\" transform=\"translate(239.888672 0)\"/>\n      <use xlink:href=\"#DejaVuSans-4c\" transform=\"translate(271.675781 0)\"/>\n      <use xlink:href=\"#DejaVuSans-6f\" transform=\"translate(325.638672 0)\"/>\n      <use xlink:href=\"#DejaVuSans-73\" transform=\"translate(386.820312 0)\"/>\n      <use xlink:href=\"#DejaVuSans-73\" transform=\"translate(438.919922 0)\"/>\n     </g>\n    </g>\n    <g id=\"line2d_32\">\n     <path d=\"M 236.651136 50.094687 \nL 246.651136 50.094687 \nL 256.651136 50.094687 \n\" style=\"fill: none; stroke: #ff7f0e; stroke-width: 1.5; stroke-linecap: square\"/>\n     <g>\n      <use xlink:href=\"#m9f65cc51e8\" x=\"246.651136\" y=\"50.094687\" style=\"fill: #ff7f0e; stroke: #ff7f0e\"/>\n     </g>\n    </g>\n    <g id=\"text_19\">\n     <!-- Validation Loss -->\n     <g transform=\"translate(264.651136 53.594687) scale(0.1 -0.1)\">\n      <use xlink:href=\"#DejaVuSans-56\"/>\n      <use xlink:href=\"#DejaVuSans-61\" transform=\"translate(60.658203 0)\"/>\n      <use xlink:href=\"#DejaVuSans-6c\" transform=\"translate(121.9375 0)\"/>\n      <use xlink:href=\"#DejaVuSans-69\" transform=\"translate(149.720703 0)\"/>\n      <use xlink:href=\"#DejaVuSans-64\" transform=\"translate(177.503906 0)\"/>\n      <use xlink:href=\"#DejaVuSans-61\" transform=\"translate(240.980469 0)\"/>\n      <use xlink:href=\"#DejaVuSans-74\" transform=\"translate(302.259766 0)\"/>\n      <use xlink:href=\"#DejaVuSans-69\" transform=\"translate(341.46875 0)\"/>\n      <use xlink:href=\"#DejaVuSans-6f\" transform=\"translate(369.251953 0)\"/>\n      <use xlink:href=\"#DejaVuSans-6e\" transform=\"translate(430.433594 0)\"/>\n      <use xlink:href=\"#DejaVuSans-20\" transform=\"translate(493.8125 0)\"/>\n      <use xlink:href=\"#DejaVuSans-4c\" transform=\"translate(525.599609 0)\"/>\n      <use xlink:href=\"#DejaVuSans-6f\" transform=\"translate(579.5625 0)\"/>\n      <use xlink:href=\"#DejaVuSans-73\" transform=\"translate(640.744141 0)\"/>\n      <use xlink:href=\"#DejaVuSans-73\" transform=\"translate(692.84375 0)\"/>\n     </g>\n    </g>\n   </g>\n  </g>\n  <g id=\"axes_2\">\n   <g id=\"patch_8\">\n    <path d=\"M 409.017614 244.078125 \nL 713.38125 244.078125 \nL 713.38125 22.318125 \nL 409.017614 22.318125 \nz\n\" style=\"fill: #ffffff\"/>\n   </g>\n   <g id=\"matplotlib.axis_3\">\n    <g id=\"xtick_10\">\n     <g id=\"line2d_33\">\n      <path d=\"M 422.852324 244.078125 \nL 422.852324 22.318125 \n\" clip-path=\"url(#pfb582199b9)\" style=\"fill: none; stroke: #b0b0b0; stroke-width: 0.8; stroke-linecap: square\"/>\n     </g>\n     <g id=\"line2d_34\">\n      <g>\n       <use xlink:href=\"#m4970ed0cf2\" x=\"422.852324\" y=\"244.078125\" style=\"stroke: #000000; stroke-width: 0.8\"/>\n      </g>\n     </g>\n     <g id=\"text_20\">\n      <!-- 1.00 -->\n      <g transform=\"translate(411.719512 258.676562) scale(0.1 -0.1)\">\n       <use xlink:href=\"#DejaVuSans-31\"/>\n       <use xlink:href=\"#DejaVuSans-2e\" transform=\"translate(63.623047 0)\"/>\n       <use xlink:href=\"#DejaVuSans-30\" transform=\"translate(95.410156 0)\"/>\n       <use xlink:href=\"#DejaVuSans-30\" transform=\"translate(159.033203 0)\"/>\n      </g>\n     </g>\n    </g>\n    <g id=\"xtick_11\">\n     <g id=\"line2d_35\">\n      <path d=\"M 457.439101 244.078125 \nL 457.439101 22.318125 \n\" clip-path=\"url(#pfb582199b9)\" style=\"fill: none; stroke: #b0b0b0; stroke-width: 0.8; stroke-linecap: square\"/>\n     </g>\n     <g id=\"line2d_36\">\n      <g>\n       <use xlink:href=\"#m4970ed0cf2\" x=\"457.439101\" y=\"244.078125\" style=\"stroke: #000000; stroke-width: 0.8\"/>\n      </g>\n     </g>\n     <g id=\"text_21\">\n      <!-- 1.25 -->\n      <g transform=\"translate(446.306289 258.676562) scale(0.1 -0.1)\">\n       <use xlink:href=\"#DejaVuSans-31\"/>\n       <use xlink:href=\"#DejaVuSans-2e\" transform=\"translate(63.623047 0)\"/>\n       <use xlink:href=\"#DejaVuSans-32\" transform=\"translate(95.410156 0)\"/>\n       <use xlink:href=\"#DejaVuSans-35\" transform=\"translate(159.033203 0)\"/>\n      </g>\n     </g>\n    </g>\n    <g id=\"xtick_12\">\n     <g id=\"line2d_37\">\n      <path d=\"M 492.025878 244.078125 \nL 492.025878 22.318125 \n\" clip-path=\"url(#pfb582199b9)\" style=\"fill: none; stroke: #b0b0b0; stroke-width: 0.8; stroke-linecap: square\"/>\n     </g>\n     <g id=\"line2d_38\">\n      <g>\n       <use xlink:href=\"#m4970ed0cf2\" x=\"492.025878\" y=\"244.078125\" style=\"stroke: #000000; stroke-width: 0.8\"/>\n      </g>\n     </g>\n     <g id=\"text_22\">\n      <!-- 1.50 -->\n      <g transform=\"translate(480.893066 258.676562) scale(0.1 -0.1)\">\n       <use xlink:href=\"#DejaVuSans-31\"/>\n       <use xlink:href=\"#DejaVuSans-2e\" transform=\"translate(63.623047 0)\"/>\n       <use xlink:href=\"#DejaVuSans-35\" transform=\"translate(95.410156 0)\"/>\n       <use xlink:href=\"#DejaVuSans-30\" transform=\"translate(159.033203 0)\"/>\n      </g>\n     </g>\n    </g>\n    <g id=\"xtick_13\">\n     <g id=\"line2d_39\">\n      <path d=\"M 526.612655 244.078125 \nL 526.612655 22.318125 \n\" clip-path=\"url(#pfb582199b9)\" style=\"fill: none; stroke: #b0b0b0; stroke-width: 0.8; stroke-linecap: square\"/>\n     </g>\n     <g id=\"line2d_40\">\n      <g>\n       <use xlink:href=\"#m4970ed0cf2\" x=\"526.612655\" y=\"244.078125\" style=\"stroke: #000000; stroke-width: 0.8\"/>\n      </g>\n     </g>\n     <g id=\"text_23\">\n      <!-- 1.75 -->\n      <g transform=\"translate(515.479842 258.676562) scale(0.1 -0.1)\">\n       <use xlink:href=\"#DejaVuSans-31\"/>\n       <use xlink:href=\"#DejaVuSans-2e\" transform=\"translate(63.623047 0)\"/>\n       <use xlink:href=\"#DejaVuSans-37\" transform=\"translate(95.410156 0)\"/>\n       <use xlink:href=\"#DejaVuSans-35\" transform=\"translate(159.033203 0)\"/>\n      </g>\n     </g>\n    </g>\n    <g id=\"xtick_14\">\n     <g id=\"line2d_41\">\n      <path d=\"M 561.199432 244.078125 \nL 561.199432 22.318125 \n\" clip-path=\"url(#pfb582199b9)\" style=\"fill: none; stroke: #b0b0b0; stroke-width: 0.8; stroke-linecap: square\"/>\n     </g>\n     <g id=\"line2d_42\">\n      <g>\n       <use xlink:href=\"#m4970ed0cf2\" x=\"561.199432\" y=\"244.078125\" style=\"stroke: #000000; stroke-width: 0.8\"/>\n      </g>\n     </g>\n     <g id=\"text_24\">\n      <!-- 2.00 -->\n      <g transform=\"translate(550.066619 258.676562) scale(0.1 -0.1)\">\n       <use xlink:href=\"#DejaVuSans-32\"/>\n       <use xlink:href=\"#DejaVuSans-2e\" transform=\"translate(63.623047 0)\"/>\n       <use xlink:href=\"#DejaVuSans-30\" transform=\"translate(95.410156 0)\"/>\n       <use xlink:href=\"#DejaVuSans-30\" transform=\"translate(159.033203 0)\"/>\n      </g>\n     </g>\n    </g>\n    <g id=\"xtick_15\">\n     <g id=\"line2d_43\">\n      <path d=\"M 595.786209 244.078125 \nL 595.786209 22.318125 \n\" clip-path=\"url(#pfb582199b9)\" style=\"fill: none; stroke: #b0b0b0; stroke-width: 0.8; stroke-linecap: square\"/>\n     </g>\n     <g id=\"line2d_44\">\n      <g>\n       <use xlink:href=\"#m4970ed0cf2\" x=\"595.786209\" y=\"244.078125\" style=\"stroke: #000000; stroke-width: 0.8\"/>\n      </g>\n     </g>\n     <g id=\"text_25\">\n      <!-- 2.25 -->\n      <g transform=\"translate(584.653396 258.676562) scale(0.1 -0.1)\">\n       <use xlink:href=\"#DejaVuSans-32\"/>\n       <use xlink:href=\"#DejaVuSans-2e\" transform=\"translate(63.623047 0)\"/>\n       <use xlink:href=\"#DejaVuSans-32\" transform=\"translate(95.410156 0)\"/>\n       <use xlink:href=\"#DejaVuSans-35\" transform=\"translate(159.033203 0)\"/>\n      </g>\n     </g>\n    </g>\n    <g id=\"xtick_16\">\n     <g id=\"line2d_45\">\n      <path d=\"M 630.372986 244.078125 \nL 630.372986 22.318125 \n\" clip-path=\"url(#pfb582199b9)\" style=\"fill: none; stroke: #b0b0b0; stroke-width: 0.8; stroke-linecap: square\"/>\n     </g>\n     <g id=\"line2d_46\">\n      <g>\n       <use xlink:href=\"#m4970ed0cf2\" x=\"630.372986\" y=\"244.078125\" style=\"stroke: #000000; stroke-width: 0.8\"/>\n      </g>\n     </g>\n     <g id=\"text_26\">\n      <!-- 2.50 -->\n      <g transform=\"translate(619.240173 258.676562) scale(0.1 -0.1)\">\n       <use xlink:href=\"#DejaVuSans-32\"/>\n       <use xlink:href=\"#DejaVuSans-2e\" transform=\"translate(63.623047 0)\"/>\n       <use xlink:href=\"#DejaVuSans-35\" transform=\"translate(95.410156 0)\"/>\n       <use xlink:href=\"#DejaVuSans-30\" transform=\"translate(159.033203 0)\"/>\n      </g>\n     </g>\n    </g>\n    <g id=\"xtick_17\">\n     <g id=\"line2d_47\">\n      <path d=\"M 664.959762 244.078125 \nL 664.959762 22.318125 \n\" clip-path=\"url(#pfb582199b9)\" style=\"fill: none; stroke: #b0b0b0; stroke-width: 0.8; stroke-linecap: square\"/>\n     </g>\n     <g id=\"line2d_48\">\n      <g>\n       <use xlink:href=\"#m4970ed0cf2\" x=\"664.959762\" y=\"244.078125\" style=\"stroke: #000000; stroke-width: 0.8\"/>\n      </g>\n     </g>\n     <g id=\"text_27\">\n      <!-- 2.75 -->\n      <g transform=\"translate(653.82695 258.676562) scale(0.1 -0.1)\">\n       <use xlink:href=\"#DejaVuSans-32\"/>\n       <use xlink:href=\"#DejaVuSans-2e\" transform=\"translate(63.623047 0)\"/>\n       <use xlink:href=\"#DejaVuSans-37\" transform=\"translate(95.410156 0)\"/>\n       <use xlink:href=\"#DejaVuSans-35\" transform=\"translate(159.033203 0)\"/>\n      </g>\n     </g>\n    </g>\n    <g id=\"xtick_18\">\n     <g id=\"line2d_49\">\n      <path d=\"M 699.546539 244.078125 \nL 699.546539 22.318125 \n\" clip-path=\"url(#pfb582199b9)\" style=\"fill: none; stroke: #b0b0b0; stroke-width: 0.8; stroke-linecap: square\"/>\n     </g>\n     <g id=\"line2d_50\">\n      <g>\n       <use xlink:href=\"#m4970ed0cf2\" x=\"699.546539\" y=\"244.078125\" style=\"stroke: #000000; stroke-width: 0.8\"/>\n      </g>\n     </g>\n     <g id=\"text_28\">\n      <!-- 3.00 -->\n      <g transform=\"translate(688.413727 258.676562) scale(0.1 -0.1)\">\n       <use xlink:href=\"#DejaVuSans-33\"/>\n       <use xlink:href=\"#DejaVuSans-2e\" transform=\"translate(63.623047 0)\"/>\n       <use xlink:href=\"#DejaVuSans-30\" transform=\"translate(95.410156 0)\"/>\n       <use xlink:href=\"#DejaVuSans-30\" transform=\"translate(159.033203 0)\"/>\n      </g>\n     </g>\n    </g>\n    <g id=\"text_29\">\n     <!-- Epochs -->\n     <g transform=\"translate(543.283807 272.354687) scale(0.1 -0.1)\">\n      <use xlink:href=\"#DejaVuSans-45\"/>\n      <use xlink:href=\"#DejaVuSans-70\" transform=\"translate(63.183594 0)\"/>\n      <use xlink:href=\"#DejaVuSans-6f\" transform=\"translate(126.660156 0)\"/>\n      <use xlink:href=\"#DejaVuSans-63\" transform=\"translate(187.841797 0)\"/>\n      <use xlink:href=\"#DejaVuSans-68\" transform=\"translate(242.822266 0)\"/>\n      <use xlink:href=\"#DejaVuSans-73\" transform=\"translate(306.201172 0)\"/>\n     </g>\n    </g>\n   </g>\n   <g id=\"matplotlib.axis_4\">\n    <g id=\"ytick_6\">\n     <g id=\"line2d_51\">\n      <path d=\"M 409.017614 233.998125 \nL 713.38125 233.998125 \n\" clip-path=\"url(#pfb582199b9)\" style=\"fill: none; stroke: #b0b0b0; stroke-width: 0.8; stroke-linecap: square\"/>\n     </g>\n     <g id=\"line2d_52\">\n      <g>\n       <use xlink:href=\"#m2baa37b014\" x=\"409.017614\" y=\"233.998125\" style=\"stroke: #000000; stroke-width: 0.8\"/>\n      </g>\n     </g>\n     <g id=\"text_30\">\n      <!-- 0.895 -->\n      <g transform=\"translate(373.389489 237.797344) scale(0.1 -0.1)\">\n       <defs>\n        <path id=\"DejaVuSans-38\" d=\"M 2034 2216 \nQ 1584 2216 1326 1975 \nQ 1069 1734 1069 1313 \nQ 1069 891 1326 650 \nQ 1584 409 2034 409 \nQ 2484 409 2743 651 \nQ 3003 894 3003 1313 \nQ 3003 1734 2745 1975 \nQ 2488 2216 2034 2216 \nz\nM 1403 2484 \nQ 997 2584 770 2862 \nQ 544 3141 544 3541 \nQ 544 4100 942 4425 \nQ 1341 4750 2034 4750 \nQ 2731 4750 3128 4425 \nQ 3525 4100 3525 3541 \nQ 3525 3141 3298 2862 \nQ 3072 2584 2669 2484 \nQ 3125 2378 3379 2068 \nQ 3634 1759 3634 1313 \nQ 3634 634 3220 271 \nQ 2806 -91 2034 -91 \nQ 1263 -91 848 271 \nQ 434 634 434 1313 \nQ 434 1759 690 2068 \nQ 947 2378 1403 2484 \nz\nM 1172 3481 \nQ 1172 3119 1398 2916 \nQ 1625 2713 2034 2713 \nQ 2441 2713 2670 2916 \nQ 2900 3119 2900 3481 \nQ 2900 3844 2670 4047 \nQ 2441 4250 2034 4250 \nQ 1625 4250 1398 4047 \nQ 1172 3844 1172 3481 \nz\n\" transform=\"scale(0.015625)\"/>\n        <path id=\"DejaVuSans-39\" d=\"M 703 97 \nL 703 672 \nQ 941 559 1184 500 \nQ 1428 441 1663 441 \nQ 2288 441 2617 861 \nQ 2947 1281 2994 2138 \nQ 2813 1869 2534 1725 \nQ 2256 1581 1919 1581 \nQ 1219 1581 811 2004 \nQ 403 2428 403 3163 \nQ 403 3881 828 4315 \nQ 1253 4750 1959 4750 \nQ 2769 4750 3195 4129 \nQ 3622 3509 3622 2328 \nQ 3622 1225 3098 567 \nQ 2575 -91 1691 -91 \nQ 1453 -91 1209 -44 \nQ 966 3 703 97 \nz\nM 1959 2075 \nQ 2384 2075 2632 2365 \nQ 2881 2656 2881 3163 \nQ 2881 3666 2632 3958 \nQ 2384 4250 1959 4250 \nQ 1534 4250 1286 3958 \nQ 1038 3666 1038 3163 \nQ 1038 2656 1286 2365 \nQ 1534 2075 1959 2075 \nz\n\" transform=\"scale(0.015625)\"/>\n       </defs>\n       <use xlink:href=\"#DejaVuSans-30\"/>\n       <use xlink:href=\"#DejaVuSans-2e\" transform=\"translate(63.623047 0)\"/>\n       <use xlink:href=\"#DejaVuSans-38\" transform=\"translate(95.410156 0)\"/>\n       <use xlink:href=\"#DejaVuSans-39\" transform=\"translate(159.033203 0)\"/>\n       <use xlink:href=\"#DejaVuSans-35\" transform=\"translate(222.65625 0)\"/>\n      </g>\n     </g>\n    </g>\n    <g id=\"ytick_7\">\n     <g id=\"line2d_53\">\n      <path d=\"M 409.017614 208.798125 \nL 713.38125 208.798125 \n\" clip-path=\"url(#pfb582199b9)\" style=\"fill: none; stroke: #b0b0b0; stroke-width: 0.8; stroke-linecap: square\"/>\n     </g>\n     <g id=\"line2d_54\">\n      <g>\n       <use xlink:href=\"#m2baa37b014\" x=\"409.017614\" y=\"208.798125\" style=\"stroke: #000000; stroke-width: 0.8\"/>\n      </g>\n     </g>\n     <g id=\"text_31\">\n      <!-- 0.900 -->\n      <g transform=\"translate(373.389489 212.597344) scale(0.1 -0.1)\">\n       <use xlink:href=\"#DejaVuSans-30\"/>\n       <use xlink:href=\"#DejaVuSans-2e\" transform=\"translate(63.623047 0)\"/>\n       <use xlink:href=\"#DejaVuSans-39\" transform=\"translate(95.410156 0)\"/>\n       <use xlink:href=\"#DejaVuSans-30\" transform=\"translate(159.033203 0)\"/>\n       <use xlink:href=\"#DejaVuSans-30\" transform=\"translate(222.65625 0)\"/>\n      </g>\n     </g>\n    </g>\n    <g id=\"ytick_8\">\n     <g id=\"line2d_55\">\n      <path d=\"M 409.017614 183.598125 \nL 713.38125 183.598125 \n\" clip-path=\"url(#pfb582199b9)\" style=\"fill: none; stroke: #b0b0b0; stroke-width: 0.8; stroke-linecap: square\"/>\n     </g>\n     <g id=\"line2d_56\">\n      <g>\n       <use xlink:href=\"#m2baa37b014\" x=\"409.017614\" y=\"183.598125\" style=\"stroke: #000000; stroke-width: 0.8\"/>\n      </g>\n     </g>\n     <g id=\"text_32\">\n      <!-- 0.905 -->\n      <g transform=\"translate(373.389489 187.397344) scale(0.1 -0.1)\">\n       <use xlink:href=\"#DejaVuSans-30\"/>\n       <use xlink:href=\"#DejaVuSans-2e\" transform=\"translate(63.623047 0)\"/>\n       <use xlink:href=\"#DejaVuSans-39\" transform=\"translate(95.410156 0)\"/>\n       <use xlink:href=\"#DejaVuSans-30\" transform=\"translate(159.033203 0)\"/>\n       <use xlink:href=\"#DejaVuSans-35\" transform=\"translate(222.65625 0)\"/>\n      </g>\n     </g>\n    </g>\n    <g id=\"ytick_9\">\n     <g id=\"line2d_57\">\n      <path d=\"M 409.017614 158.398125 \nL 713.38125 158.398125 \n\" clip-path=\"url(#pfb582199b9)\" style=\"fill: none; stroke: #b0b0b0; stroke-width: 0.8; stroke-linecap: square\"/>\n     </g>\n     <g id=\"line2d_58\">\n      <g>\n       <use xlink:href=\"#m2baa37b014\" x=\"409.017614\" y=\"158.398125\" style=\"stroke: #000000; stroke-width: 0.8\"/>\n      </g>\n     </g>\n     <g id=\"text_33\">\n      <!-- 0.910 -->\n      <g transform=\"translate(373.389489 162.197344) scale(0.1 -0.1)\">\n       <use xlink:href=\"#DejaVuSans-30\"/>\n       <use xlink:href=\"#DejaVuSans-2e\" transform=\"translate(63.623047 0)\"/>\n       <use xlink:href=\"#DejaVuSans-39\" transform=\"translate(95.410156 0)\"/>\n       <use xlink:href=\"#DejaVuSans-31\" transform=\"translate(159.033203 0)\"/>\n       <use xlink:href=\"#DejaVuSans-30\" transform=\"translate(222.65625 0)\"/>\n      </g>\n     </g>\n    </g>\n    <g id=\"ytick_10\">\n     <g id=\"line2d_59\">\n      <path d=\"M 409.017614 133.198125 \nL 713.38125 133.198125 \n\" clip-path=\"url(#pfb582199b9)\" style=\"fill: none; stroke: #b0b0b0; stroke-width: 0.8; stroke-linecap: square\"/>\n     </g>\n     <g id=\"line2d_60\">\n      <g>\n       <use xlink:href=\"#m2baa37b014\" x=\"409.017614\" y=\"133.198125\" style=\"stroke: #000000; stroke-width: 0.8\"/>\n      </g>\n     </g>\n     <g id=\"text_34\">\n      <!-- 0.915 -->\n      <g transform=\"translate(373.389489 136.997344) scale(0.1 -0.1)\">\n       <use xlink:href=\"#DejaVuSans-30\"/>\n       <use xlink:href=\"#DejaVuSans-2e\" transform=\"translate(63.623047 0)\"/>\n       <use xlink:href=\"#DejaVuSans-39\" transform=\"translate(95.410156 0)\"/>\n       <use xlink:href=\"#DejaVuSans-31\" transform=\"translate(159.033203 0)\"/>\n       <use xlink:href=\"#DejaVuSans-35\" transform=\"translate(222.65625 0)\"/>\n      </g>\n     </g>\n    </g>\n    <g id=\"ytick_11\">\n     <g id=\"line2d_61\">\n      <path d=\"M 409.017614 107.998125 \nL 713.38125 107.998125 \n\" clip-path=\"url(#pfb582199b9)\" style=\"fill: none; stroke: #b0b0b0; stroke-width: 0.8; stroke-linecap: square\"/>\n     </g>\n     <g id=\"line2d_62\">\n      <g>\n       <use xlink:href=\"#m2baa37b014\" x=\"409.017614\" y=\"107.998125\" style=\"stroke: #000000; stroke-width: 0.8\"/>\n      </g>\n     </g>\n     <g id=\"text_35\">\n      <!-- 0.920 -->\n      <g transform=\"translate(373.389489 111.797344) scale(0.1 -0.1)\">\n       <use xlink:href=\"#DejaVuSans-30\"/>\n       <use xlink:href=\"#DejaVuSans-2e\" transform=\"translate(63.623047 0)\"/>\n       <use xlink:href=\"#DejaVuSans-39\" transform=\"translate(95.410156 0)\"/>\n       <use xlink:href=\"#DejaVuSans-32\" transform=\"translate(159.033203 0)\"/>\n       <use xlink:href=\"#DejaVuSans-30\" transform=\"translate(222.65625 0)\"/>\n      </g>\n     </g>\n    </g>\n    <g id=\"ytick_12\">\n     <g id=\"line2d_63\">\n      <path d=\"M 409.017614 82.798125 \nL 713.38125 82.798125 \n\" clip-path=\"url(#pfb582199b9)\" style=\"fill: none; stroke: #b0b0b0; stroke-width: 0.8; stroke-linecap: square\"/>\n     </g>\n     <g id=\"line2d_64\">\n      <g>\n       <use xlink:href=\"#m2baa37b014\" x=\"409.017614\" y=\"82.798125\" style=\"stroke: #000000; stroke-width: 0.8\"/>\n      </g>\n     </g>\n     <g id=\"text_36\">\n      <!-- 0.925 -->\n      <g transform=\"translate(373.389489 86.597344) scale(0.1 -0.1)\">\n       <use xlink:href=\"#DejaVuSans-30\"/>\n       <use xlink:href=\"#DejaVuSans-2e\" transform=\"translate(63.623047 0)\"/>\n       <use xlink:href=\"#DejaVuSans-39\" transform=\"translate(95.410156 0)\"/>\n       <use xlink:href=\"#DejaVuSans-32\" transform=\"translate(159.033203 0)\"/>\n       <use xlink:href=\"#DejaVuSans-35\" transform=\"translate(222.65625 0)\"/>\n      </g>\n     </g>\n    </g>\n    <g id=\"ytick_13\">\n     <g id=\"line2d_65\">\n      <path d=\"M 409.017614 57.598125 \nL 713.38125 57.598125 \n\" clip-path=\"url(#pfb582199b9)\" style=\"fill: none; stroke: #b0b0b0; stroke-width: 0.8; stroke-linecap: square\"/>\n     </g>\n     <g id=\"line2d_66\">\n      <g>\n       <use xlink:href=\"#m2baa37b014\" x=\"409.017614\" y=\"57.598125\" style=\"stroke: #000000; stroke-width: 0.8\"/>\n      </g>\n     </g>\n     <g id=\"text_37\">\n      <!-- 0.930 -->\n      <g transform=\"translate(373.389489 61.397344) scale(0.1 -0.1)\">\n       <use xlink:href=\"#DejaVuSans-30\"/>\n       <use xlink:href=\"#DejaVuSans-2e\" transform=\"translate(63.623047 0)\"/>\n       <use xlink:href=\"#DejaVuSans-39\" transform=\"translate(95.410156 0)\"/>\n       <use xlink:href=\"#DejaVuSans-33\" transform=\"translate(159.033203 0)\"/>\n       <use xlink:href=\"#DejaVuSans-30\" transform=\"translate(222.65625 0)\"/>\n      </g>\n     </g>\n    </g>\n    <g id=\"ytick_14\">\n     <g id=\"line2d_67\">\n      <path d=\"M 409.017614 32.398125 \nL 713.38125 32.398125 \n\" clip-path=\"url(#pfb582199b9)\" style=\"fill: none; stroke: #b0b0b0; stroke-width: 0.8; stroke-linecap: square\"/>\n     </g>\n     <g id=\"line2d_68\">\n      <g>\n       <use xlink:href=\"#m2baa37b014\" x=\"409.017614\" y=\"32.398125\" style=\"stroke: #000000; stroke-width: 0.8\"/>\n      </g>\n     </g>\n     <g id=\"text_38\">\n      <!-- 0.935 -->\n      <g transform=\"translate(373.389489 36.197344) scale(0.1 -0.1)\">\n       <use xlink:href=\"#DejaVuSans-30\"/>\n       <use xlink:href=\"#DejaVuSans-2e\" transform=\"translate(63.623047 0)\"/>\n       <use xlink:href=\"#DejaVuSans-39\" transform=\"translate(95.410156 0)\"/>\n       <use xlink:href=\"#DejaVuSans-33\" transform=\"translate(159.033203 0)\"/>\n       <use xlink:href=\"#DejaVuSans-35\" transform=\"translate(222.65625 0)\"/>\n      </g>\n     </g>\n    </g>\n    <g id=\"text_39\">\n     <!-- Accuracy -->\n     <g transform=\"translate(367.309801 156.02625) rotate(-90) scale(0.1 -0.1)\">\n      <defs>\n       <path id=\"DejaVuSans-41\" d=\"M 2188 4044 \nL 1331 1722 \nL 3047 1722 \nL 2188 4044 \nz\nM 1831 4666 \nL 2547 4666 \nL 4325 0 \nL 3669 0 \nL 3244 1197 \nL 1141 1197 \nL 716 0 \nL 50 0 \nL 1831 4666 \nz\n\" transform=\"scale(0.015625)\"/>\n       <path id=\"DejaVuSans-75\" d=\"M 544 1381 \nL 544 3500 \nL 1119 3500 \nL 1119 1403 \nQ 1119 906 1312 657 \nQ 1506 409 1894 409 \nQ 2359 409 2629 706 \nQ 2900 1003 2900 1516 \nL 2900 3500 \nL 3475 3500 \nL 3475 0 \nL 2900 0 \nL 2900 538 \nQ 2691 219 2414 64 \nQ 2138 -91 1772 -91 \nQ 1169 -91 856 284 \nQ 544 659 544 1381 \nz\nM 1991 3584 \nL 1991 3584 \nz\n\" transform=\"scale(0.015625)\"/>\n       <path id=\"DejaVuSans-79\" d=\"M 2059 -325 \nQ 1816 -950 1584 -1140 \nQ 1353 -1331 966 -1331 \nL 506 -1331 \nL 506 -850 \nL 844 -850 \nQ 1081 -850 1212 -737 \nQ 1344 -625 1503 -206 \nL 1606 56 \nL 191 3500 \nL 800 3500 \nL 1894 763 \nL 2988 3500 \nL 3597 3500 \nL 2059 -325 \nz\n\" transform=\"scale(0.015625)\"/>\n      </defs>\n      <use xlink:href=\"#DejaVuSans-41\"/>\n      <use xlink:href=\"#DejaVuSans-63\" transform=\"translate(66.658203 0)\"/>\n      <use xlink:href=\"#DejaVuSans-63\" transform=\"translate(121.638672 0)\"/>\n      <use xlink:href=\"#DejaVuSans-75\" transform=\"translate(176.619141 0)\"/>\n      <use xlink:href=\"#DejaVuSans-72\" transform=\"translate(239.998047 0)\"/>\n      <use xlink:href=\"#DejaVuSans-61\" transform=\"translate(281.111328 0)\"/>\n      <use xlink:href=\"#DejaVuSans-63\" transform=\"translate(342.390625 0)\"/>\n      <use xlink:href=\"#DejaVuSans-79\" transform=\"translate(397.371094 0)\"/>\n     </g>\n    </g>\n   </g>\n   <g id=\"line2d_69\">\n    <path d=\"M 422.852324 233.998125 \nL 561.199432 44.998125 \nL 699.546539 32.398125 \n\" clip-path=\"url(#pfb582199b9)\" style=\"fill: none; stroke: #008000; stroke-width: 1.5; stroke-linecap: square\"/>\n    <defs>\n     <path id=\"me5c3fb8f5f\" d=\"M 0 3 \nC 0.795609 3 1.55874 2.683901 2.12132 2.12132 \nC 2.683901 1.55874 3 0.795609 3 0 \nC 3 -0.795609 2.683901 -1.55874 2.12132 -2.12132 \nC 1.55874 -2.683901 0.795609 -3 0 -3 \nC -0.795609 -3 -1.55874 -2.683901 -2.12132 -2.12132 \nC -2.683901 -1.55874 -3 -0.795609 -3 0 \nC -3 0.795609 -2.683901 1.55874 -2.12132 2.12132 \nC -1.55874 2.683901 -0.795609 3 0 3 \nz\n\" style=\"stroke: #008000\"/>\n    </defs>\n    <g clip-path=\"url(#pfb582199b9)\">\n     <use xlink:href=\"#me5c3fb8f5f\" x=\"422.852324\" y=\"233.998125\" style=\"fill: #008000; stroke: #008000\"/>\n     <use xlink:href=\"#me5c3fb8f5f\" x=\"561.199432\" y=\"44.998125\" style=\"fill: #008000; stroke: #008000\"/>\n     <use xlink:href=\"#me5c3fb8f5f\" x=\"699.546539\" y=\"32.398125\" style=\"fill: #008000; stroke: #008000\"/>\n    </g>\n   </g>\n   <g id=\"patch_9\">\n    <path d=\"M 409.017614 244.078125 \nL 409.017614 22.318125 \n\" style=\"fill: none; stroke: #000000; stroke-width: 0.8; stroke-linejoin: miter; stroke-linecap: square\"/>\n   </g>\n   <g id=\"patch_10\">\n    <path d=\"M 713.38125 244.078125 \nL 713.38125 22.318125 \n\" style=\"fill: none; stroke: #000000; stroke-width: 0.8; stroke-linejoin: miter; stroke-linecap: square\"/>\n   </g>\n   <g id=\"patch_11\">\n    <path d=\"M 409.017614 244.078125 \nL 713.38125 244.078125 \n\" style=\"fill: none; stroke: #000000; stroke-width: 0.8; stroke-linejoin: miter; stroke-linecap: square\"/>\n   </g>\n   <g id=\"patch_12\">\n    <path d=\"M 409.017614 22.318125 \nL 713.38125 22.318125 \n\" style=\"fill: none; stroke: #000000; stroke-width: 0.8; stroke-linejoin: miter; stroke-linecap: square\"/>\n   </g>\n   <g id=\"text_40\">\n    <!-- Validation Accuracy over Epochs -->\n    <g transform=\"translate(463.576619 16.318125) scale(0.12 -0.12)\">\n     <defs>\n      <path id=\"DejaVuSans-65\" d=\"M 3597 1894 \nL 3597 1613 \nL 953 1613 \nQ 991 1019 1311 708 \nQ 1631 397 2203 397 \nQ 2534 397 2845 478 \nQ 3156 559 3463 722 \nL 3463 178 \nQ 3153 47 2828 -22 \nQ 2503 -91 2169 -91 \nQ 1331 -91 842 396 \nQ 353 884 353 1716 \nQ 353 2575 817 3079 \nQ 1281 3584 2069 3584 \nQ 2775 3584 3186 3129 \nQ 3597 2675 3597 1894 \nz\nM 3022 2063 \nQ 3016 2534 2758 2815 \nQ 2500 3097 2075 3097 \nQ 1594 3097 1305 2825 \nQ 1016 2553 972 2059 \nL 3022 2063 \nz\n\" transform=\"scale(0.015625)\"/>\n     </defs>\n     <use xlink:href=\"#DejaVuSans-56\"/>\n     <use xlink:href=\"#DejaVuSans-61\" transform=\"translate(60.658203 0)\"/>\n     <use xlink:href=\"#DejaVuSans-6c\" transform=\"translate(121.9375 0)\"/>\n     <use xlink:href=\"#DejaVuSans-69\" transform=\"translate(149.720703 0)\"/>\n     <use xlink:href=\"#DejaVuSans-64\" transform=\"translate(177.503906 0)\"/>\n     <use xlink:href=\"#DejaVuSans-61\" transform=\"translate(240.980469 0)\"/>\n     <use xlink:href=\"#DejaVuSans-74\" transform=\"translate(302.259766 0)\"/>\n     <use xlink:href=\"#DejaVuSans-69\" transform=\"translate(341.46875 0)\"/>\n     <use xlink:href=\"#DejaVuSans-6f\" transform=\"translate(369.251953 0)\"/>\n     <use xlink:href=\"#DejaVuSans-6e\" transform=\"translate(430.433594 0)\"/>\n     <use xlink:href=\"#DejaVuSans-20\" transform=\"translate(493.8125 0)\"/>\n     <use xlink:href=\"#DejaVuSans-41\" transform=\"translate(525.599609 0)\"/>\n     <use xlink:href=\"#DejaVuSans-63\" transform=\"translate(592.257812 0)\"/>\n     <use xlink:href=\"#DejaVuSans-63\" transform=\"translate(647.238281 0)\"/>\n     <use xlink:href=\"#DejaVuSans-75\" transform=\"translate(702.21875 0)\"/>\n     <use xlink:href=\"#DejaVuSans-72\" transform=\"translate(765.597656 0)\"/>\n     <use xlink:href=\"#DejaVuSans-61\" transform=\"translate(806.710938 0)\"/>\n     <use xlink:href=\"#DejaVuSans-63\" transform=\"translate(867.990234 0)\"/>\n     <use xlink:href=\"#DejaVuSans-79\" transform=\"translate(922.970703 0)\"/>\n     <use xlink:href=\"#DejaVuSans-20\" transform=\"translate(982.150391 0)\"/>\n     <use xlink:href=\"#DejaVuSans-6f\" transform=\"translate(1013.9375 0)\"/>\n     <use xlink:href=\"#DejaVuSans-76\" transform=\"translate(1075.119141 0)\"/>\n     <use xlink:href=\"#DejaVuSans-65\" transform=\"translate(1134.298828 0)\"/>\n     <use xlink:href=\"#DejaVuSans-72\" transform=\"translate(1195.822266 0)\"/>\n     <use xlink:href=\"#DejaVuSans-20\" transform=\"translate(1236.935547 0)\"/>\n     <use xlink:href=\"#DejaVuSans-45\" transform=\"translate(1268.722656 0)\"/>\n     <use xlink:href=\"#DejaVuSans-70\" transform=\"translate(1331.90625 0)\"/>\n     <use xlink:href=\"#DejaVuSans-6f\" transform=\"translate(1395.382812 0)\"/>\n     <use xlink:href=\"#DejaVuSans-63\" transform=\"translate(1456.564453 0)\"/>\n     <use xlink:href=\"#DejaVuSans-68\" transform=\"translate(1511.544922 0)\"/>\n     <use xlink:href=\"#DejaVuSans-73\" transform=\"translate(1574.923828 0)\"/>\n    </g>\n   </g>\n   <g id=\"legend_2\">\n    <g id=\"patch_13\">\n     <path d=\"M 416.017614 44.99625 \nL 546.233239 44.99625 \nQ 548.233239 44.99625 548.233239 42.99625 \nL 548.233239 29.318125 \nQ 548.233239 27.318125 546.233239 27.318125 \nL 416.017614 27.318125 \nQ 414.017614 27.318125 414.017614 29.318125 \nL 414.017614 42.99625 \nQ 414.017614 44.99625 416.017614 44.99625 \nz\n\" style=\"fill: #ffffff; opacity: 0.8; stroke: #cccccc; stroke-linejoin: miter\"/>\n    </g>\n    <g id=\"line2d_70\">\n     <path d=\"M 418.017614 35.416562 \nL 428.017614 35.416562 \nL 438.017614 35.416562 \n\" style=\"fill: none; stroke: #008000; stroke-width: 1.5; stroke-linecap: square\"/>\n     <g>\n      <use xlink:href=\"#me5c3fb8f5f\" x=\"428.017614\" y=\"35.416562\" style=\"fill: #008000; stroke: #008000\"/>\n     </g>\n    </g>\n    <g id=\"text_41\">\n     <!-- Validation Accuracy -->\n     <g transform=\"translate(446.017614 38.916562) scale(0.1 -0.1)\">\n      <use xlink:href=\"#DejaVuSans-56\"/>\n      <use xlink:href=\"#DejaVuSans-61\" transform=\"translate(60.658203 0)\"/>\n      <use xlink:href=\"#DejaVuSans-6c\" transform=\"translate(121.9375 0)\"/>\n      <use xlink:href=\"#DejaVuSans-69\" transform=\"translate(149.720703 0)\"/>\n      <use xlink:href=\"#DejaVuSans-64\" transform=\"translate(177.503906 0)\"/>\n      <use xlink:href=\"#DejaVuSans-61\" transform=\"translate(240.980469 0)\"/>\n      <use xlink:href=\"#DejaVuSans-74\" transform=\"translate(302.259766 0)\"/>\n      <use xlink:href=\"#DejaVuSans-69\" transform=\"translate(341.46875 0)\"/>\n      <use xlink:href=\"#DejaVuSans-6f\" transform=\"translate(369.251953 0)\"/>\n      <use xlink:href=\"#DejaVuSans-6e\" transform=\"translate(430.433594 0)\"/>\n      <use xlink:href=\"#DejaVuSans-20\" transform=\"translate(493.8125 0)\"/>\n      <use xlink:href=\"#DejaVuSans-41\" transform=\"translate(525.599609 0)\"/>\n      <use xlink:href=\"#DejaVuSans-63\" transform=\"translate(592.257812 0)\"/>\n      <use xlink:href=\"#DejaVuSans-63\" transform=\"translate(647.238281 0)\"/>\n      <use xlink:href=\"#DejaVuSans-75\" transform=\"translate(702.21875 0)\"/>\n      <use xlink:href=\"#DejaVuSans-72\" transform=\"translate(765.597656 0)\"/>\n      <use xlink:href=\"#DejaVuSans-61\" transform=\"translate(806.710938 0)\"/>\n      <use xlink:href=\"#DejaVuSans-63\" transform=\"translate(867.990234 0)\"/>\n      <use xlink:href=\"#DejaVuSans-79\" transform=\"translate(922.970703 0)\"/>\n     </g>\n    </g>\n   </g>\n  </g>\n </g>\n <defs>\n  <clipPath id=\"pb20e67fbf7\">\n   <rect x=\"43.78125\" y=\"22.318125\" width=\"304.363636\" height=\"221.76\"/>\n  </clipPath>\n  <clipPath id=\"pfb582199b9\">\n   <rect x=\"409.017614\" y=\"22.318125\" width=\"304.363636\" height=\"221.76\"/>\n  </clipPath>\n </defs>\n</svg>\n"
          },
          "metadata": {}
        }
      ],
      "source": [
        "LLM_RoBERTa_256.train_and_validate(save_dir=\"./roberta-best\")\n",
        "LLM_RoBERTa_256.plot_history()"
      ]
    },
    {
      "cell_type": "markdown",
      "id": "EV6JRug6lmiW",
      "metadata": {
        "id": "EV6JRug6lmiW"
      },
      "source": [
        "Comparons les courbes d'accuracy associée `DistilBERT` et `RoBERTa`."
      ]
    },
    {
      "cell_type": "code",
      "execution_count": 32,
      "id": "IJWjakcKk7h3",
      "metadata": {
        "colab": {
          "base_uri": "https://localhost:8080/",
          "height": 470
        },
        "id": "IJWjakcKk7h3",
        "outputId": "002d5bf7-b99a-4bd1-deca-26c68e8c2203"
      },
      "outputs": [
        {
          "output_type": "display_data",
          "data": {
            "text/plain": [
              "<Figure size 800x500 with 1 Axes>"
            ],
            "image/svg+xml": "<?xml version=\"1.0\" encoding=\"utf-8\" standalone=\"no\"?>\n<!DOCTYPE svg PUBLIC \"-//W3C//DTD SVG 1.1//EN\"\n  \"http://www.w3.org/Graphics/SVG/1.1/DTD/svg11.dtd\">\n<svg xmlns:xlink=\"http://www.w3.org/1999/xlink\" width=\"503.74375pt\" height=\"337.074375pt\" viewBox=\"0 0 503.74375 337.074375\" xmlns=\"http://www.w3.org/2000/svg\" version=\"1.1\">\n <metadata>\n  <rdf:RDF xmlns:dc=\"http://purl.org/dc/elements/1.1/\" xmlns:cc=\"http://creativecommons.org/ns#\" xmlns:rdf=\"http://www.w3.org/1999/02/22-rdf-syntax-ns#\">\n   <cc:Work>\n    <dc:type rdf:resource=\"http://purl.org/dc/dcmitype/StillImage\"/>\n    <dc:date>2025-09-14T15:06:46.359369</dc:date>\n    <dc:format>image/svg+xml</dc:format>\n    <dc:creator>\n     <cc:Agent>\n      <dc:title>Matplotlib v3.10.0, https://matplotlib.org/</dc:title>\n     </cc:Agent>\n    </dc:creator>\n   </cc:Work>\n  </rdf:RDF>\n </metadata>\n <defs>\n  <style type=\"text/css\">*{stroke-linejoin: round; stroke-linecap: butt}</style>\n </defs>\n <g id=\"figure_1\">\n  <g id=\"patch_1\">\n   <path d=\"M 0 337.074375 \nL 503.74375 337.074375 \nL 503.74375 0 \nL 0 0 \nz\n\" style=\"fill: #ffffff\"/>\n  </g>\n  <g id=\"axes_1\">\n   <g id=\"patch_2\">\n    <path d=\"M 50.14375 299.518125 \nL 496.54375 299.518125 \nL 496.54375 22.318125 \nL 50.14375 22.318125 \nz\n\" style=\"fill: #ffffff\"/>\n   </g>\n   <g id=\"matplotlib.axis_1\">\n    <g id=\"xtick_1\">\n     <g id=\"line2d_1\">\n      <path d=\"M 70.434659 299.518125 \nL 70.434659 22.318125 \n\" clip-path=\"url(#p509891830f)\" style=\"fill: none; stroke: #b0b0b0; stroke-width: 0.8; stroke-linecap: square\"/>\n     </g>\n     <g id=\"line2d_2\">\n      <defs>\n       <path id=\"m5e8388cbbd\" d=\"M 0 0 \nL 0 3.5 \n\" style=\"stroke: #000000; stroke-width: 0.8\"/>\n      </defs>\n      <g>\n       <use xlink:href=\"#m5e8388cbbd\" x=\"70.434659\" y=\"299.518125\" style=\"stroke: #000000; stroke-width: 0.8\"/>\n      </g>\n     </g>\n     <g id=\"text_1\">\n      <!-- 1.00 -->\n      <g transform=\"translate(59.301847 314.116563) scale(0.1 -0.1)\">\n       <defs>\n        <path id=\"DejaVuSans-31\" d=\"M 794 531 \nL 1825 531 \nL 1825 4091 \nL 703 3866 \nL 703 4441 \nL 1819 4666 \nL 2450 4666 \nL 2450 531 \nL 3481 531 \nL 3481 0 \nL 794 0 \nL 794 531 \nz\n\" transform=\"scale(0.015625)\"/>\n        <path id=\"DejaVuSans-2e\" d=\"M 684 794 \nL 1344 794 \nL 1344 0 \nL 684 0 \nL 684 794 \nz\n\" transform=\"scale(0.015625)\"/>\n        <path id=\"DejaVuSans-30\" d=\"M 2034 4250 \nQ 1547 4250 1301 3770 \nQ 1056 3291 1056 2328 \nQ 1056 1369 1301 889 \nQ 1547 409 2034 409 \nQ 2525 409 2770 889 \nQ 3016 1369 3016 2328 \nQ 3016 3291 2770 3770 \nQ 2525 4250 2034 4250 \nz\nM 2034 4750 \nQ 2819 4750 3233 4129 \nQ 3647 3509 3647 2328 \nQ 3647 1150 3233 529 \nQ 2819 -91 2034 -91 \nQ 1250 -91 836 529 \nQ 422 1150 422 2328 \nQ 422 3509 836 4129 \nQ 1250 4750 2034 4750 \nz\n\" transform=\"scale(0.015625)\"/>\n       </defs>\n       <use xlink:href=\"#DejaVuSans-31\"/>\n       <use xlink:href=\"#DejaVuSans-2e\" transform=\"translate(63.623047 0)\"/>\n       <use xlink:href=\"#DejaVuSans-30\" transform=\"translate(95.410156 0)\"/>\n       <use xlink:href=\"#DejaVuSans-30\" transform=\"translate(159.033203 0)\"/>\n      </g>\n     </g>\n    </g>\n    <g id=\"xtick_2\">\n     <g id=\"line2d_3\">\n      <path d=\"M 121.161932 299.518125 \nL 121.161932 22.318125 \n\" clip-path=\"url(#p509891830f)\" style=\"fill: none; stroke: #b0b0b0; stroke-width: 0.8; stroke-linecap: square\"/>\n     </g>\n     <g id=\"line2d_4\">\n      <g>\n       <use xlink:href=\"#m5e8388cbbd\" x=\"121.161932\" y=\"299.518125\" style=\"stroke: #000000; stroke-width: 0.8\"/>\n      </g>\n     </g>\n     <g id=\"text_2\">\n      <!-- 1.25 -->\n      <g transform=\"translate(110.029119 314.116563) scale(0.1 -0.1)\">\n       <defs>\n        <path id=\"DejaVuSans-32\" d=\"M 1228 531 \nL 3431 531 \nL 3431 0 \nL 469 0 \nL 469 531 \nQ 828 903 1448 1529 \nQ 2069 2156 2228 2338 \nQ 2531 2678 2651 2914 \nQ 2772 3150 2772 3378 \nQ 2772 3750 2511 3984 \nQ 2250 4219 1831 4219 \nQ 1534 4219 1204 4116 \nQ 875 4013 500 3803 \nL 500 4441 \nQ 881 4594 1212 4672 \nQ 1544 4750 1819 4750 \nQ 2544 4750 2975 4387 \nQ 3406 4025 3406 3419 \nQ 3406 3131 3298 2873 \nQ 3191 2616 2906 2266 \nQ 2828 2175 2409 1742 \nQ 1991 1309 1228 531 \nz\n\" transform=\"scale(0.015625)\"/>\n        <path id=\"DejaVuSans-35\" d=\"M 691 4666 \nL 3169 4666 \nL 3169 4134 \nL 1269 4134 \nL 1269 2991 \nQ 1406 3038 1543 3061 \nQ 1681 3084 1819 3084 \nQ 2600 3084 3056 2656 \nQ 3513 2228 3513 1497 \nQ 3513 744 3044 326 \nQ 2575 -91 1722 -91 \nQ 1428 -91 1123 -41 \nQ 819 9 494 109 \nL 494 744 \nQ 775 591 1075 516 \nQ 1375 441 1709 441 \nQ 2250 441 2565 725 \nQ 2881 1009 2881 1497 \nQ 2881 1984 2565 2268 \nQ 2250 2553 1709 2553 \nQ 1456 2553 1204 2497 \nQ 953 2441 691 2322 \nL 691 4666 \nz\n\" transform=\"scale(0.015625)\"/>\n       </defs>\n       <use xlink:href=\"#DejaVuSans-31\"/>\n       <use xlink:href=\"#DejaVuSans-2e\" transform=\"translate(63.623047 0)\"/>\n       <use xlink:href=\"#DejaVuSans-32\" transform=\"translate(95.410156 0)\"/>\n       <use xlink:href=\"#DejaVuSans-35\" transform=\"translate(159.033203 0)\"/>\n      </g>\n     </g>\n    </g>\n    <g id=\"xtick_3\">\n     <g id=\"line2d_5\">\n      <path d=\"M 171.889205 299.518125 \nL 171.889205 22.318125 \n\" clip-path=\"url(#p509891830f)\" style=\"fill: none; stroke: #b0b0b0; stroke-width: 0.8; stroke-linecap: square\"/>\n     </g>\n     <g id=\"line2d_6\">\n      <g>\n       <use xlink:href=\"#m5e8388cbbd\" x=\"171.889205\" y=\"299.518125\" style=\"stroke: #000000; stroke-width: 0.8\"/>\n      </g>\n     </g>\n     <g id=\"text_3\">\n      <!-- 1.50 -->\n      <g transform=\"translate(160.756392 314.116563) scale(0.1 -0.1)\">\n       <use xlink:href=\"#DejaVuSans-31\"/>\n       <use xlink:href=\"#DejaVuSans-2e\" transform=\"translate(63.623047 0)\"/>\n       <use xlink:href=\"#DejaVuSans-35\" transform=\"translate(95.410156 0)\"/>\n       <use xlink:href=\"#DejaVuSans-30\" transform=\"translate(159.033203 0)\"/>\n      </g>\n     </g>\n    </g>\n    <g id=\"xtick_4\">\n     <g id=\"line2d_7\">\n      <path d=\"M 222.616477 299.518125 \nL 222.616477 22.318125 \n\" clip-path=\"url(#p509891830f)\" style=\"fill: none; stroke: #b0b0b0; stroke-width: 0.8; stroke-linecap: square\"/>\n     </g>\n     <g id=\"line2d_8\">\n      <g>\n       <use xlink:href=\"#m5e8388cbbd\" x=\"222.616477\" y=\"299.518125\" style=\"stroke: #000000; stroke-width: 0.8\"/>\n      </g>\n     </g>\n     <g id=\"text_4\">\n      <!-- 1.75 -->\n      <g transform=\"translate(211.483665 314.116563) scale(0.1 -0.1)\">\n       <defs>\n        <path id=\"DejaVuSans-37\" d=\"M 525 4666 \nL 3525 4666 \nL 3525 4397 \nL 1831 0 \nL 1172 0 \nL 2766 4134 \nL 525 4134 \nL 525 4666 \nz\n\" transform=\"scale(0.015625)\"/>\n       </defs>\n       <use xlink:href=\"#DejaVuSans-31\"/>\n       <use xlink:href=\"#DejaVuSans-2e\" transform=\"translate(63.623047 0)\"/>\n       <use xlink:href=\"#DejaVuSans-37\" transform=\"translate(95.410156 0)\"/>\n       <use xlink:href=\"#DejaVuSans-35\" transform=\"translate(159.033203 0)\"/>\n      </g>\n     </g>\n    </g>\n    <g id=\"xtick_5\">\n     <g id=\"line2d_9\">\n      <path d=\"M 273.34375 299.518125 \nL 273.34375 22.318125 \n\" clip-path=\"url(#p509891830f)\" style=\"fill: none; stroke: #b0b0b0; stroke-width: 0.8; stroke-linecap: square\"/>\n     </g>\n     <g id=\"line2d_10\">\n      <g>\n       <use xlink:href=\"#m5e8388cbbd\" x=\"273.34375\" y=\"299.518125\" style=\"stroke: #000000; stroke-width: 0.8\"/>\n      </g>\n     </g>\n     <g id=\"text_5\">\n      <!-- 2.00 -->\n      <g transform=\"translate(262.210938 314.116563) scale(0.1 -0.1)\">\n       <use xlink:href=\"#DejaVuSans-32\"/>\n       <use xlink:href=\"#DejaVuSans-2e\" transform=\"translate(63.623047 0)\"/>\n       <use xlink:href=\"#DejaVuSans-30\" transform=\"translate(95.410156 0)\"/>\n       <use xlink:href=\"#DejaVuSans-30\" transform=\"translate(159.033203 0)\"/>\n      </g>\n     </g>\n    </g>\n    <g id=\"xtick_6\">\n     <g id=\"line2d_11\">\n      <path d=\"M 324.071023 299.518125 \nL 324.071023 22.318125 \n\" clip-path=\"url(#p509891830f)\" style=\"fill: none; stroke: #b0b0b0; stroke-width: 0.8; stroke-linecap: square\"/>\n     </g>\n     <g id=\"line2d_12\">\n      <g>\n       <use xlink:href=\"#m5e8388cbbd\" x=\"324.071023\" y=\"299.518125\" style=\"stroke: #000000; stroke-width: 0.8\"/>\n      </g>\n     </g>\n     <g id=\"text_6\">\n      <!-- 2.25 -->\n      <g transform=\"translate(312.93821 314.116563) scale(0.1 -0.1)\">\n       <use xlink:href=\"#DejaVuSans-32\"/>\n       <use xlink:href=\"#DejaVuSans-2e\" transform=\"translate(63.623047 0)\"/>\n       <use xlink:href=\"#DejaVuSans-32\" transform=\"translate(95.410156 0)\"/>\n       <use xlink:href=\"#DejaVuSans-35\" transform=\"translate(159.033203 0)\"/>\n      </g>\n     </g>\n    </g>\n    <g id=\"xtick_7\">\n     <g id=\"line2d_13\">\n      <path d=\"M 374.798295 299.518125 \nL 374.798295 22.318125 \n\" clip-path=\"url(#p509891830f)\" style=\"fill: none; stroke: #b0b0b0; stroke-width: 0.8; stroke-linecap: square\"/>\n     </g>\n     <g id=\"line2d_14\">\n      <g>\n       <use xlink:href=\"#m5e8388cbbd\" x=\"374.798295\" y=\"299.518125\" style=\"stroke: #000000; stroke-width: 0.8\"/>\n      </g>\n     </g>\n     <g id=\"text_7\">\n      <!-- 2.50 -->\n      <g transform=\"translate(363.665483 314.116563) scale(0.1 -0.1)\">\n       <use xlink:href=\"#DejaVuSans-32\"/>\n       <use xlink:href=\"#DejaVuSans-2e\" transform=\"translate(63.623047 0)\"/>\n       <use xlink:href=\"#DejaVuSans-35\" transform=\"translate(95.410156 0)\"/>\n       <use xlink:href=\"#DejaVuSans-30\" transform=\"translate(159.033203 0)\"/>\n      </g>\n     </g>\n    </g>\n    <g id=\"xtick_8\">\n     <g id=\"line2d_15\">\n      <path d=\"M 425.525568 299.518125 \nL 425.525568 22.318125 \n\" clip-path=\"url(#p509891830f)\" style=\"fill: none; stroke: #b0b0b0; stroke-width: 0.8; stroke-linecap: square\"/>\n     </g>\n     <g id=\"line2d_16\">\n      <g>\n       <use xlink:href=\"#m5e8388cbbd\" x=\"425.525568\" y=\"299.518125\" style=\"stroke: #000000; stroke-width: 0.8\"/>\n      </g>\n     </g>\n     <g id=\"text_8\">\n      <!-- 2.75 -->\n      <g transform=\"translate(414.392756 314.116563) scale(0.1 -0.1)\">\n       <use xlink:href=\"#DejaVuSans-32\"/>\n       <use xlink:href=\"#DejaVuSans-2e\" transform=\"translate(63.623047 0)\"/>\n       <use xlink:href=\"#DejaVuSans-37\" transform=\"translate(95.410156 0)\"/>\n       <use xlink:href=\"#DejaVuSans-35\" transform=\"translate(159.033203 0)\"/>\n      </g>\n     </g>\n    </g>\n    <g id=\"xtick_9\">\n     <g id=\"line2d_17\">\n      <path d=\"M 476.252841 299.518125 \nL 476.252841 22.318125 \n\" clip-path=\"url(#p509891830f)\" style=\"fill: none; stroke: #b0b0b0; stroke-width: 0.8; stroke-linecap: square\"/>\n     </g>\n     <g id=\"line2d_18\">\n      <g>\n       <use xlink:href=\"#m5e8388cbbd\" x=\"476.252841\" y=\"299.518125\" style=\"stroke: #000000; stroke-width: 0.8\"/>\n      </g>\n     </g>\n     <g id=\"text_9\">\n      <!-- 3.00 -->\n      <g transform=\"translate(465.120028 314.116563) scale(0.1 -0.1)\">\n       <defs>\n        <path id=\"DejaVuSans-33\" d=\"M 2597 2516 \nQ 3050 2419 3304 2112 \nQ 3559 1806 3559 1356 \nQ 3559 666 3084 287 \nQ 2609 -91 1734 -91 \nQ 1441 -91 1130 -33 \nQ 819 25 488 141 \nL 488 750 \nQ 750 597 1062 519 \nQ 1375 441 1716 441 \nQ 2309 441 2620 675 \nQ 2931 909 2931 1356 \nQ 2931 1769 2642 2001 \nQ 2353 2234 1838 2234 \nL 1294 2234 \nL 1294 2753 \nL 1863 2753 \nQ 2328 2753 2575 2939 \nQ 2822 3125 2822 3475 \nQ 2822 3834 2567 4026 \nQ 2313 4219 1838 4219 \nQ 1578 4219 1281 4162 \nQ 984 4106 628 3988 \nL 628 4550 \nQ 988 4650 1302 4700 \nQ 1616 4750 1894 4750 \nQ 2613 4750 3031 4423 \nQ 3450 4097 3450 3541 \nQ 3450 3153 3228 2886 \nQ 3006 2619 2597 2516 \nz\n\" transform=\"scale(0.015625)\"/>\n       </defs>\n       <use xlink:href=\"#DejaVuSans-33\"/>\n       <use xlink:href=\"#DejaVuSans-2e\" transform=\"translate(63.623047 0)\"/>\n       <use xlink:href=\"#DejaVuSans-30\" transform=\"translate(95.410156 0)\"/>\n       <use xlink:href=\"#DejaVuSans-30\" transform=\"translate(159.033203 0)\"/>\n      </g>\n     </g>\n    </g>\n    <g id=\"text_10\">\n     <!-- Epochs -->\n     <g transform=\"translate(255.428125 327.794688) scale(0.1 -0.1)\">\n      <defs>\n       <path id=\"DejaVuSans-45\" d=\"M 628 4666 \nL 3578 4666 \nL 3578 4134 \nL 1259 4134 \nL 1259 2753 \nL 3481 2753 \nL 3481 2222 \nL 1259 2222 \nL 1259 531 \nL 3634 531 \nL 3634 0 \nL 628 0 \nL 628 4666 \nz\n\" transform=\"scale(0.015625)\"/>\n       <path id=\"DejaVuSans-70\" d=\"M 1159 525 \nL 1159 -1331 \nL 581 -1331 \nL 581 3500 \nL 1159 3500 \nL 1159 2969 \nQ 1341 3281 1617 3432 \nQ 1894 3584 2278 3584 \nQ 2916 3584 3314 3078 \nQ 3713 2572 3713 1747 \nQ 3713 922 3314 415 \nQ 2916 -91 2278 -91 \nQ 1894 -91 1617 61 \nQ 1341 213 1159 525 \nz\nM 3116 1747 \nQ 3116 2381 2855 2742 \nQ 2594 3103 2138 3103 \nQ 1681 3103 1420 2742 \nQ 1159 2381 1159 1747 \nQ 1159 1113 1420 752 \nQ 1681 391 2138 391 \nQ 2594 391 2855 752 \nQ 3116 1113 3116 1747 \nz\n\" transform=\"scale(0.015625)\"/>\n       <path id=\"DejaVuSans-6f\" d=\"M 1959 3097 \nQ 1497 3097 1228 2736 \nQ 959 2375 959 1747 \nQ 959 1119 1226 758 \nQ 1494 397 1959 397 \nQ 2419 397 2687 759 \nQ 2956 1122 2956 1747 \nQ 2956 2369 2687 2733 \nQ 2419 3097 1959 3097 \nz\nM 1959 3584 \nQ 2709 3584 3137 3096 \nQ 3566 2609 3566 1747 \nQ 3566 888 3137 398 \nQ 2709 -91 1959 -91 \nQ 1206 -91 779 398 \nQ 353 888 353 1747 \nQ 353 2609 779 3096 \nQ 1206 3584 1959 3584 \nz\n\" transform=\"scale(0.015625)\"/>\n       <path id=\"DejaVuSans-63\" d=\"M 3122 3366 \nL 3122 2828 \nQ 2878 2963 2633 3030 \nQ 2388 3097 2138 3097 \nQ 1578 3097 1268 2742 \nQ 959 2388 959 1747 \nQ 959 1106 1268 751 \nQ 1578 397 2138 397 \nQ 2388 397 2633 464 \nQ 2878 531 3122 666 \nL 3122 134 \nQ 2881 22 2623 -34 \nQ 2366 -91 2075 -91 \nQ 1284 -91 818 406 \nQ 353 903 353 1747 \nQ 353 2603 823 3093 \nQ 1294 3584 2113 3584 \nQ 2378 3584 2631 3529 \nQ 2884 3475 3122 3366 \nz\n\" transform=\"scale(0.015625)\"/>\n       <path id=\"DejaVuSans-68\" d=\"M 3513 2113 \nL 3513 0 \nL 2938 0 \nL 2938 2094 \nQ 2938 2591 2744 2837 \nQ 2550 3084 2163 3084 \nQ 1697 3084 1428 2787 \nQ 1159 2491 1159 1978 \nL 1159 0 \nL 581 0 \nL 581 4863 \nL 1159 4863 \nL 1159 2956 \nQ 1366 3272 1645 3428 \nQ 1925 3584 2291 3584 \nQ 2894 3584 3203 3211 \nQ 3513 2838 3513 2113 \nz\n\" transform=\"scale(0.015625)\"/>\n       <path id=\"DejaVuSans-73\" d=\"M 2834 3397 \nL 2834 2853 \nQ 2591 2978 2328 3040 \nQ 2066 3103 1784 3103 \nQ 1356 3103 1142 2972 \nQ 928 2841 928 2578 \nQ 928 2378 1081 2264 \nQ 1234 2150 1697 2047 \nL 1894 2003 \nQ 2506 1872 2764 1633 \nQ 3022 1394 3022 966 \nQ 3022 478 2636 193 \nQ 2250 -91 1575 -91 \nQ 1294 -91 989 -36 \nQ 684 19 347 128 \nL 347 722 \nQ 666 556 975 473 \nQ 1284 391 1588 391 \nQ 1994 391 2212 530 \nQ 2431 669 2431 922 \nQ 2431 1156 2273 1281 \nQ 2116 1406 1581 1522 \nL 1381 1569 \nQ 847 1681 609 1914 \nQ 372 2147 372 2553 \nQ 372 3047 722 3315 \nQ 1072 3584 1716 3584 \nQ 2034 3584 2315 3537 \nQ 2597 3491 2834 3397 \nz\n\" transform=\"scale(0.015625)\"/>\n      </defs>\n      <use xlink:href=\"#DejaVuSans-45\"/>\n      <use xlink:href=\"#DejaVuSans-70\" transform=\"translate(63.183594 0)\"/>\n      <use xlink:href=\"#DejaVuSans-6f\" transform=\"translate(126.660156 0)\"/>\n      <use xlink:href=\"#DejaVuSans-63\" transform=\"translate(187.841797 0)\"/>\n      <use xlink:href=\"#DejaVuSans-68\" transform=\"translate(242.822266 0)\"/>\n      <use xlink:href=\"#DejaVuSans-73\" transform=\"translate(306.201172 0)\"/>\n     </g>\n    </g>\n   </g>\n   <g id=\"matplotlib.axis_2\">\n    <g id=\"ytick_1\">\n     <g id=\"line2d_19\">\n      <path d=\"M 50.14375 291.672842 \nL 496.54375 291.672842 \n\" clip-path=\"url(#p509891830f)\" style=\"fill: none; stroke: #b0b0b0; stroke-width: 0.8; stroke-linecap: square\"/>\n     </g>\n     <g id=\"line2d_20\">\n      <defs>\n       <path id=\"m255304aa45\" d=\"M 0 0 \nL -3.5 0 \n\" style=\"stroke: #000000; stroke-width: 0.8\"/>\n      </defs>\n      <g>\n       <use xlink:href=\"#m255304aa45\" x=\"50.14375\" y=\"291.672842\" style=\"stroke: #000000; stroke-width: 0.8\"/>\n      </g>\n     </g>\n     <g id=\"text_11\">\n      <!-- 0.80 -->\n      <g transform=\"translate(20.878125 295.472061) scale(0.1 -0.1)\">\n       <defs>\n        <path id=\"DejaVuSans-38\" d=\"M 2034 2216 \nQ 1584 2216 1326 1975 \nQ 1069 1734 1069 1313 \nQ 1069 891 1326 650 \nQ 1584 409 2034 409 \nQ 2484 409 2743 651 \nQ 3003 894 3003 1313 \nQ 3003 1734 2745 1975 \nQ 2488 2216 2034 2216 \nz\nM 1403 2484 \nQ 997 2584 770 2862 \nQ 544 3141 544 3541 \nQ 544 4100 942 4425 \nQ 1341 4750 2034 4750 \nQ 2731 4750 3128 4425 \nQ 3525 4100 3525 3541 \nQ 3525 3141 3298 2862 \nQ 3072 2584 2669 2484 \nQ 3125 2378 3379 2068 \nQ 3634 1759 3634 1313 \nQ 3634 634 3220 271 \nQ 2806 -91 2034 -91 \nQ 1263 -91 848 271 \nQ 434 634 434 1313 \nQ 434 1759 690 2068 \nQ 947 2378 1403 2484 \nz\nM 1172 3481 \nQ 1172 3119 1398 2916 \nQ 1625 2713 2034 2713 \nQ 2441 2713 2670 2916 \nQ 2900 3119 2900 3481 \nQ 2900 3844 2670 4047 \nQ 2441 4250 2034 4250 \nQ 1625 4250 1398 4047 \nQ 1172 3844 1172 3481 \nz\n\" transform=\"scale(0.015625)\"/>\n       </defs>\n       <use xlink:href=\"#DejaVuSans-30\"/>\n       <use xlink:href=\"#DejaVuSans-2e\" transform=\"translate(63.623047 0)\"/>\n       <use xlink:href=\"#DejaVuSans-38\" transform=\"translate(95.410156 0)\"/>\n       <use xlink:href=\"#DejaVuSans-30\" transform=\"translate(159.033203 0)\"/>\n      </g>\n     </g>\n    </g>\n    <g id=\"ytick_2\">\n     <g id=\"line2d_21\">\n      <path d=\"M 50.14375 253.635106 \nL 496.54375 253.635106 \n\" clip-path=\"url(#p509891830f)\" style=\"fill: none; stroke: #b0b0b0; stroke-width: 0.8; stroke-linecap: square\"/>\n     </g>\n     <g id=\"line2d_22\">\n      <g>\n       <use xlink:href=\"#m255304aa45\" x=\"50.14375\" y=\"253.635106\" style=\"stroke: #000000; stroke-width: 0.8\"/>\n      </g>\n     </g>\n     <g id=\"text_12\">\n      <!-- 0.82 -->\n      <g transform=\"translate(20.878125 257.434325) scale(0.1 -0.1)\">\n       <use xlink:href=\"#DejaVuSans-30\"/>\n       <use xlink:href=\"#DejaVuSans-2e\" transform=\"translate(63.623047 0)\"/>\n       <use xlink:href=\"#DejaVuSans-38\" transform=\"translate(95.410156 0)\"/>\n       <use xlink:href=\"#DejaVuSans-32\" transform=\"translate(159.033203 0)\"/>\n      </g>\n     </g>\n    </g>\n    <g id=\"ytick_3\">\n     <g id=\"line2d_23\">\n      <path d=\"M 50.14375 215.59737 \nL 496.54375 215.59737 \n\" clip-path=\"url(#p509891830f)\" style=\"fill: none; stroke: #b0b0b0; stroke-width: 0.8; stroke-linecap: square\"/>\n     </g>\n     <g id=\"line2d_24\">\n      <g>\n       <use xlink:href=\"#m255304aa45\" x=\"50.14375\" y=\"215.59737\" style=\"stroke: #000000; stroke-width: 0.8\"/>\n      </g>\n     </g>\n     <g id=\"text_13\">\n      <!-- 0.84 -->\n      <g transform=\"translate(20.878125 219.396589) scale(0.1 -0.1)\">\n       <defs>\n        <path id=\"DejaVuSans-34\" d=\"M 2419 4116 \nL 825 1625 \nL 2419 1625 \nL 2419 4116 \nz\nM 2253 4666 \nL 3047 4666 \nL 3047 1625 \nL 3713 1625 \nL 3713 1100 \nL 3047 1100 \nL 3047 0 \nL 2419 0 \nL 2419 1100 \nL 313 1100 \nL 313 1709 \nL 2253 4666 \nz\n\" transform=\"scale(0.015625)\"/>\n       </defs>\n       <use xlink:href=\"#DejaVuSans-30\"/>\n       <use xlink:href=\"#DejaVuSans-2e\" transform=\"translate(63.623047 0)\"/>\n       <use xlink:href=\"#DejaVuSans-38\" transform=\"translate(95.410156 0)\"/>\n       <use xlink:href=\"#DejaVuSans-34\" transform=\"translate(159.033203 0)\"/>\n      </g>\n     </g>\n    </g>\n    <g id=\"ytick_4\">\n     <g id=\"line2d_25\">\n      <path d=\"M 50.14375 177.559634 \nL 496.54375 177.559634 \n\" clip-path=\"url(#p509891830f)\" style=\"fill: none; stroke: #b0b0b0; stroke-width: 0.8; stroke-linecap: square\"/>\n     </g>\n     <g id=\"line2d_26\">\n      <g>\n       <use xlink:href=\"#m255304aa45\" x=\"50.14375\" y=\"177.559634\" style=\"stroke: #000000; stroke-width: 0.8\"/>\n      </g>\n     </g>\n     <g id=\"text_14\">\n      <!-- 0.86 -->\n      <g transform=\"translate(20.878125 181.358853) scale(0.1 -0.1)\">\n       <defs>\n        <path id=\"DejaVuSans-36\" d=\"M 2113 2584 \nQ 1688 2584 1439 2293 \nQ 1191 2003 1191 1497 \nQ 1191 994 1439 701 \nQ 1688 409 2113 409 \nQ 2538 409 2786 701 \nQ 3034 994 3034 1497 \nQ 3034 2003 2786 2293 \nQ 2538 2584 2113 2584 \nz\nM 3366 4563 \nL 3366 3988 \nQ 3128 4100 2886 4159 \nQ 2644 4219 2406 4219 \nQ 1781 4219 1451 3797 \nQ 1122 3375 1075 2522 \nQ 1259 2794 1537 2939 \nQ 1816 3084 2150 3084 \nQ 2853 3084 3261 2657 \nQ 3669 2231 3669 1497 \nQ 3669 778 3244 343 \nQ 2819 -91 2113 -91 \nQ 1303 -91 875 529 \nQ 447 1150 447 2328 \nQ 447 3434 972 4092 \nQ 1497 4750 2381 4750 \nQ 2619 4750 2861 4703 \nQ 3103 4656 3366 4563 \nz\n\" transform=\"scale(0.015625)\"/>\n       </defs>\n       <use xlink:href=\"#DejaVuSans-30\"/>\n       <use xlink:href=\"#DejaVuSans-2e\" transform=\"translate(63.623047 0)\"/>\n       <use xlink:href=\"#DejaVuSans-38\" transform=\"translate(95.410156 0)\"/>\n       <use xlink:href=\"#DejaVuSans-36\" transform=\"translate(159.033203 0)\"/>\n      </g>\n     </g>\n    </g>\n    <g id=\"ytick_5\">\n     <g id=\"line2d_27\">\n      <path d=\"M 50.14375 139.521899 \nL 496.54375 139.521899 \n\" clip-path=\"url(#p509891830f)\" style=\"fill: none; stroke: #b0b0b0; stroke-width: 0.8; stroke-linecap: square\"/>\n     </g>\n     <g id=\"line2d_28\">\n      <g>\n       <use xlink:href=\"#m255304aa45\" x=\"50.14375\" y=\"139.521899\" style=\"stroke: #000000; stroke-width: 0.8\"/>\n      </g>\n     </g>\n     <g id=\"text_15\">\n      <!-- 0.88 -->\n      <g transform=\"translate(20.878125 143.321117) scale(0.1 -0.1)\">\n       <use xlink:href=\"#DejaVuSans-30\"/>\n       <use xlink:href=\"#DejaVuSans-2e\" transform=\"translate(63.623047 0)\"/>\n       <use xlink:href=\"#DejaVuSans-38\" transform=\"translate(95.410156 0)\"/>\n       <use xlink:href=\"#DejaVuSans-38\" transform=\"translate(159.033203 0)\"/>\n      </g>\n     </g>\n    </g>\n    <g id=\"ytick_6\">\n     <g id=\"line2d_29\">\n      <path d=\"M 50.14375 101.484163 \nL 496.54375 101.484163 \n\" clip-path=\"url(#p509891830f)\" style=\"fill: none; stroke: #b0b0b0; stroke-width: 0.8; stroke-linecap: square\"/>\n     </g>\n     <g id=\"line2d_30\">\n      <g>\n       <use xlink:href=\"#m255304aa45\" x=\"50.14375\" y=\"101.484163\" style=\"stroke: #000000; stroke-width: 0.8\"/>\n      </g>\n     </g>\n     <g id=\"text_16\">\n      <!-- 0.90 -->\n      <g transform=\"translate(20.878125 105.283381) scale(0.1 -0.1)\">\n       <defs>\n        <path id=\"DejaVuSans-39\" d=\"M 703 97 \nL 703 672 \nQ 941 559 1184 500 \nQ 1428 441 1663 441 \nQ 2288 441 2617 861 \nQ 2947 1281 2994 2138 \nQ 2813 1869 2534 1725 \nQ 2256 1581 1919 1581 \nQ 1219 1581 811 2004 \nQ 403 2428 403 3163 \nQ 403 3881 828 4315 \nQ 1253 4750 1959 4750 \nQ 2769 4750 3195 4129 \nQ 3622 3509 3622 2328 \nQ 3622 1225 3098 567 \nQ 2575 -91 1691 -91 \nQ 1453 -91 1209 -44 \nQ 966 3 703 97 \nz\nM 1959 2075 \nQ 2384 2075 2632 2365 \nQ 2881 2656 2881 3163 \nQ 2881 3666 2632 3958 \nQ 2384 4250 1959 4250 \nQ 1534 4250 1286 3958 \nQ 1038 3666 1038 3163 \nQ 1038 2656 1286 2365 \nQ 1534 2075 1959 2075 \nz\n\" transform=\"scale(0.015625)\"/>\n       </defs>\n       <use xlink:href=\"#DejaVuSans-30\"/>\n       <use xlink:href=\"#DejaVuSans-2e\" transform=\"translate(63.623047 0)\"/>\n       <use xlink:href=\"#DejaVuSans-39\" transform=\"translate(95.410156 0)\"/>\n       <use xlink:href=\"#DejaVuSans-30\" transform=\"translate(159.033203 0)\"/>\n      </g>\n     </g>\n    </g>\n    <g id=\"ytick_7\">\n     <g id=\"line2d_31\">\n      <path d=\"M 50.14375 63.446427 \nL 496.54375 63.446427 \n\" clip-path=\"url(#p509891830f)\" style=\"fill: none; stroke: #b0b0b0; stroke-width: 0.8; stroke-linecap: square\"/>\n     </g>\n     <g id=\"line2d_32\">\n      <g>\n       <use xlink:href=\"#m255304aa45\" x=\"50.14375\" y=\"63.446427\" style=\"stroke: #000000; stroke-width: 0.8\"/>\n      </g>\n     </g>\n     <g id=\"text_17\">\n      <!-- 0.92 -->\n      <g transform=\"translate(20.878125 67.245646) scale(0.1 -0.1)\">\n       <use xlink:href=\"#DejaVuSans-30\"/>\n       <use xlink:href=\"#DejaVuSans-2e\" transform=\"translate(63.623047 0)\"/>\n       <use xlink:href=\"#DejaVuSans-39\" transform=\"translate(95.410156 0)\"/>\n       <use xlink:href=\"#DejaVuSans-32\" transform=\"translate(159.033203 0)\"/>\n      </g>\n     </g>\n    </g>\n    <g id=\"ytick_8\">\n     <g id=\"line2d_33\">\n      <path d=\"M 50.14375 25.408691 \nL 496.54375 25.408691 \n\" clip-path=\"url(#p509891830f)\" style=\"fill: none; stroke: #b0b0b0; stroke-width: 0.8; stroke-linecap: square\"/>\n     </g>\n     <g id=\"line2d_34\">\n      <g>\n       <use xlink:href=\"#m255304aa45\" x=\"50.14375\" y=\"25.408691\" style=\"stroke: #000000; stroke-width: 0.8\"/>\n      </g>\n     </g>\n     <g id=\"text_18\">\n      <!-- 0.94 -->\n      <g transform=\"translate(20.878125 29.20791) scale(0.1 -0.1)\">\n       <use xlink:href=\"#DejaVuSans-30\"/>\n       <use xlink:href=\"#DejaVuSans-2e\" transform=\"translate(63.623047 0)\"/>\n       <use xlink:href=\"#DejaVuSans-39\" transform=\"translate(95.410156 0)\"/>\n       <use xlink:href=\"#DejaVuSans-34\" transform=\"translate(159.033203 0)\"/>\n      </g>\n     </g>\n    </g>\n    <g id=\"text_19\">\n     <!-- Validation Accuracy -->\n     <g transform=\"translate(14.798438 210.025938) rotate(-90) scale(0.1 -0.1)\">\n      <defs>\n       <path id=\"DejaVuSans-56\" d=\"M 1831 0 \nL 50 4666 \nL 709 4666 \nL 2188 738 \nL 3669 4666 \nL 4325 4666 \nL 2547 0 \nL 1831 0 \nz\n\" transform=\"scale(0.015625)\"/>\n       <path id=\"DejaVuSans-61\" d=\"M 2194 1759 \nQ 1497 1759 1228 1600 \nQ 959 1441 959 1056 \nQ 959 750 1161 570 \nQ 1363 391 1709 391 \nQ 2188 391 2477 730 \nQ 2766 1069 2766 1631 \nL 2766 1759 \nL 2194 1759 \nz\nM 3341 1997 \nL 3341 0 \nL 2766 0 \nL 2766 531 \nQ 2569 213 2275 61 \nQ 1981 -91 1556 -91 \nQ 1019 -91 701 211 \nQ 384 513 384 1019 \nQ 384 1609 779 1909 \nQ 1175 2209 1959 2209 \nL 2766 2209 \nL 2766 2266 \nQ 2766 2663 2505 2880 \nQ 2244 3097 1772 3097 \nQ 1472 3097 1187 3025 \nQ 903 2953 641 2809 \nL 641 3341 \nQ 956 3463 1253 3523 \nQ 1550 3584 1831 3584 \nQ 2591 3584 2966 3190 \nQ 3341 2797 3341 1997 \nz\n\" transform=\"scale(0.015625)\"/>\n       <path id=\"DejaVuSans-6c\" d=\"M 603 4863 \nL 1178 4863 \nL 1178 0 \nL 603 0 \nL 603 4863 \nz\n\" transform=\"scale(0.015625)\"/>\n       <path id=\"DejaVuSans-69\" d=\"M 603 3500 \nL 1178 3500 \nL 1178 0 \nL 603 0 \nL 603 3500 \nz\nM 603 4863 \nL 1178 4863 \nL 1178 4134 \nL 603 4134 \nL 603 4863 \nz\n\" transform=\"scale(0.015625)\"/>\n       <path id=\"DejaVuSans-64\" d=\"M 2906 2969 \nL 2906 4863 \nL 3481 4863 \nL 3481 0 \nL 2906 0 \nL 2906 525 \nQ 2725 213 2448 61 \nQ 2172 -91 1784 -91 \nQ 1150 -91 751 415 \nQ 353 922 353 1747 \nQ 353 2572 751 3078 \nQ 1150 3584 1784 3584 \nQ 2172 3584 2448 3432 \nQ 2725 3281 2906 2969 \nz\nM 947 1747 \nQ 947 1113 1208 752 \nQ 1469 391 1925 391 \nQ 2381 391 2643 752 \nQ 2906 1113 2906 1747 \nQ 2906 2381 2643 2742 \nQ 2381 3103 1925 3103 \nQ 1469 3103 1208 2742 \nQ 947 2381 947 1747 \nz\n\" transform=\"scale(0.015625)\"/>\n       <path id=\"DejaVuSans-74\" d=\"M 1172 4494 \nL 1172 3500 \nL 2356 3500 \nL 2356 3053 \nL 1172 3053 \nL 1172 1153 \nQ 1172 725 1289 603 \nQ 1406 481 1766 481 \nL 2356 481 \nL 2356 0 \nL 1766 0 \nQ 1100 0 847 248 \nQ 594 497 594 1153 \nL 594 3053 \nL 172 3053 \nL 172 3500 \nL 594 3500 \nL 594 4494 \nL 1172 4494 \nz\n\" transform=\"scale(0.015625)\"/>\n       <path id=\"DejaVuSans-6e\" d=\"M 3513 2113 \nL 3513 0 \nL 2938 0 \nL 2938 2094 \nQ 2938 2591 2744 2837 \nQ 2550 3084 2163 3084 \nQ 1697 3084 1428 2787 \nQ 1159 2491 1159 1978 \nL 1159 0 \nL 581 0 \nL 581 3500 \nL 1159 3500 \nL 1159 2956 \nQ 1366 3272 1645 3428 \nQ 1925 3584 2291 3584 \nQ 2894 3584 3203 3211 \nQ 3513 2838 3513 2113 \nz\n\" transform=\"scale(0.015625)\"/>\n       <path id=\"DejaVuSans-20\" transform=\"scale(0.015625)\"/>\n       <path id=\"DejaVuSans-41\" d=\"M 2188 4044 \nL 1331 1722 \nL 3047 1722 \nL 2188 4044 \nz\nM 1831 4666 \nL 2547 4666 \nL 4325 0 \nL 3669 0 \nL 3244 1197 \nL 1141 1197 \nL 716 0 \nL 50 0 \nL 1831 4666 \nz\n\" transform=\"scale(0.015625)\"/>\n       <path id=\"DejaVuSans-75\" d=\"M 544 1381 \nL 544 3500 \nL 1119 3500 \nL 1119 1403 \nQ 1119 906 1312 657 \nQ 1506 409 1894 409 \nQ 2359 409 2629 706 \nQ 2900 1003 2900 1516 \nL 2900 3500 \nL 3475 3500 \nL 3475 0 \nL 2900 0 \nL 2900 538 \nQ 2691 219 2414 64 \nQ 2138 -91 1772 -91 \nQ 1169 -91 856 284 \nQ 544 659 544 1381 \nz\nM 1991 3584 \nL 1991 3584 \nz\n\" transform=\"scale(0.015625)\"/>\n       <path id=\"DejaVuSans-72\" d=\"M 2631 2963 \nQ 2534 3019 2420 3045 \nQ 2306 3072 2169 3072 \nQ 1681 3072 1420 2755 \nQ 1159 2438 1159 1844 \nL 1159 0 \nL 581 0 \nL 581 3500 \nL 1159 3500 \nL 1159 2956 \nQ 1341 3275 1631 3429 \nQ 1922 3584 2338 3584 \nQ 2397 3584 2469 3576 \nQ 2541 3569 2628 3553 \nL 2631 2963 \nz\n\" transform=\"scale(0.015625)\"/>\n       <path id=\"DejaVuSans-79\" d=\"M 2059 -325 \nQ 1816 -950 1584 -1140 \nQ 1353 -1331 966 -1331 \nL 506 -1331 \nL 506 -850 \nL 844 -850 \nQ 1081 -850 1212 -737 \nQ 1344 -625 1503 -206 \nL 1606 56 \nL 191 3500 \nL 800 3500 \nL 1894 763 \nL 2988 3500 \nL 3597 3500 \nL 2059 -325 \nz\n\" transform=\"scale(0.015625)\"/>\n      </defs>\n      <use xlink:href=\"#DejaVuSans-56\"/>\n      <use xlink:href=\"#DejaVuSans-61\" transform=\"translate(60.658203 0)\"/>\n      <use xlink:href=\"#DejaVuSans-6c\" transform=\"translate(121.9375 0)\"/>\n      <use xlink:href=\"#DejaVuSans-69\" transform=\"translate(149.720703 0)\"/>\n      <use xlink:href=\"#DejaVuSans-64\" transform=\"translate(177.503906 0)\"/>\n      <use xlink:href=\"#DejaVuSans-61\" transform=\"translate(240.980469 0)\"/>\n      <use xlink:href=\"#DejaVuSans-74\" transform=\"translate(302.259766 0)\"/>\n      <use xlink:href=\"#DejaVuSans-69\" transform=\"translate(341.46875 0)\"/>\n      <use xlink:href=\"#DejaVuSans-6f\" transform=\"translate(369.251953 0)\"/>\n      <use xlink:href=\"#DejaVuSans-6e\" transform=\"translate(430.433594 0)\"/>\n      <use xlink:href=\"#DejaVuSans-20\" transform=\"translate(493.8125 0)\"/>\n      <use xlink:href=\"#DejaVuSans-41\" transform=\"translate(525.599609 0)\"/>\n      <use xlink:href=\"#DejaVuSans-63\" transform=\"translate(592.257812 0)\"/>\n      <use xlink:href=\"#DejaVuSans-63\" transform=\"translate(647.238281 0)\"/>\n      <use xlink:href=\"#DejaVuSans-75\" transform=\"translate(702.21875 0)\"/>\n      <use xlink:href=\"#DejaVuSans-72\" transform=\"translate(765.597656 0)\"/>\n      <use xlink:href=\"#DejaVuSans-61\" transform=\"translate(806.710938 0)\"/>\n      <use xlink:href=\"#DejaVuSans-63\" transform=\"translate(867.990234 0)\"/>\n      <use xlink:href=\"#DejaVuSans-79\" transform=\"translate(922.970703 0)\"/>\n     </g>\n    </g>\n   </g>\n   <g id=\"line2d_35\">\n    <path d=\"M 70.434659 286.918125 \nL 273.34375 272.653974 \nL 476.252841 163.295483 \n\" clip-path=\"url(#p509891830f)\" style=\"fill: none; stroke: #1f77b4; stroke-width: 1.5; stroke-linecap: square\"/>\n    <defs>\n     <path id=\"mea25d3907e\" d=\"M 0 3 \nC 0.795609 3 1.55874 2.683901 2.12132 2.12132 \nC 2.683901 1.55874 3 0.795609 3 0 \nC 3 -0.795609 2.683901 -1.55874 2.12132 -2.12132 \nC 1.55874 -2.683901 0.795609 -3 0 -3 \nC -0.795609 -3 -1.55874 -2.683901 -2.12132 -2.12132 \nC -2.683901 -1.55874 -3 -0.795609 -3 0 \nC -3 0.795609 -2.683901 1.55874 -2.12132 2.12132 \nC -1.55874 2.683901 -0.795609 3 0 3 \nz\n\" style=\"stroke: #1f77b4\"/>\n    </defs>\n    <g clip-path=\"url(#p509891830f)\">\n     <use xlink:href=\"#mea25d3907e\" x=\"70.434659\" y=\"286.918125\" style=\"fill: #1f77b4; stroke: #1f77b4\"/>\n     <use xlink:href=\"#mea25d3907e\" x=\"273.34375\" y=\"272.653974\" style=\"fill: #1f77b4; stroke: #1f77b4\"/>\n     <use xlink:href=\"#mea25d3907e\" x=\"476.252841\" y=\"163.295483\" style=\"fill: #1f77b4; stroke: #1f77b4\"/>\n    </g>\n   </g>\n   <g id=\"line2d_36\">\n    <path d=\"M 70.434659 110.993597 \nL 273.34375 39.672842 \nL 476.252841 34.918125 \n\" clip-path=\"url(#p509891830f)\" style=\"fill: none; stroke: #ff7f0e; stroke-width: 1.5; stroke-linecap: square\"/>\n    <defs>\n     <path id=\"m6fb4efee4a\" d=\"M -3 3 \nL 3 3 \nL 3 -3 \nL -3 -3 \nz\n\" style=\"stroke: #ff7f0e; stroke-linejoin: miter\"/>\n    </defs>\n    <g clip-path=\"url(#p509891830f)\">\n     <use xlink:href=\"#m6fb4efee4a\" x=\"70.434659\" y=\"110.993597\" style=\"fill: #ff7f0e; stroke: #ff7f0e; stroke-linejoin: miter\"/>\n     <use xlink:href=\"#m6fb4efee4a\" x=\"273.34375\" y=\"39.672842\" style=\"fill: #ff7f0e; stroke: #ff7f0e; stroke-linejoin: miter\"/>\n     <use xlink:href=\"#m6fb4efee4a\" x=\"476.252841\" y=\"34.918125\" style=\"fill: #ff7f0e; stroke: #ff7f0e; stroke-linejoin: miter\"/>\n    </g>\n   </g>\n   <g id=\"patch_3\">\n    <path d=\"M 50.14375 299.518125 \nL 50.14375 22.318125 \n\" style=\"fill: none; stroke: #000000; stroke-width: 0.8; stroke-linejoin: miter; stroke-linecap: square\"/>\n   </g>\n   <g id=\"patch_4\">\n    <path d=\"M 496.54375 299.518125 \nL 496.54375 22.318125 \n\" style=\"fill: none; stroke: #000000; stroke-width: 0.8; stroke-linejoin: miter; stroke-linecap: square\"/>\n   </g>\n   <g id=\"patch_5\">\n    <path d=\"M 50.14375 299.518125 \nL 496.54375 299.518125 \n\" style=\"fill: none; stroke: #000000; stroke-width: 0.8; stroke-linejoin: miter; stroke-linecap: square\"/>\n   </g>\n   <g id=\"patch_6\">\n    <path d=\"M 50.14375 22.318125 \nL 496.54375 22.318125 \n\" style=\"fill: none; stroke: #000000; stroke-width: 0.8; stroke-linejoin: miter; stroke-linecap: square\"/>\n   </g>\n   <g id=\"text_20\">\n    <!-- Validation Accuracy per Epoch -->\n    <g transform=\"translate(182.26 16.318125) scale(0.12 -0.12)\">\n     <defs>\n      <path id=\"DejaVuSans-65\" d=\"M 3597 1894 \nL 3597 1613 \nL 953 1613 \nQ 991 1019 1311 708 \nQ 1631 397 2203 397 \nQ 2534 397 2845 478 \nQ 3156 559 3463 722 \nL 3463 178 \nQ 3153 47 2828 -22 \nQ 2503 -91 2169 -91 \nQ 1331 -91 842 396 \nQ 353 884 353 1716 \nQ 353 2575 817 3079 \nQ 1281 3584 2069 3584 \nQ 2775 3584 3186 3129 \nQ 3597 2675 3597 1894 \nz\nM 3022 2063 \nQ 3016 2534 2758 2815 \nQ 2500 3097 2075 3097 \nQ 1594 3097 1305 2825 \nQ 1016 2553 972 2059 \nL 3022 2063 \nz\n\" transform=\"scale(0.015625)\"/>\n     </defs>\n     <use xlink:href=\"#DejaVuSans-56\"/>\n     <use xlink:href=\"#DejaVuSans-61\" transform=\"translate(60.658203 0)\"/>\n     <use xlink:href=\"#DejaVuSans-6c\" transform=\"translate(121.9375 0)\"/>\n     <use xlink:href=\"#DejaVuSans-69\" transform=\"translate(149.720703 0)\"/>\n     <use xlink:href=\"#DejaVuSans-64\" transform=\"translate(177.503906 0)\"/>\n     <use xlink:href=\"#DejaVuSans-61\" transform=\"translate(240.980469 0)\"/>\n     <use xlink:href=\"#DejaVuSans-74\" transform=\"translate(302.259766 0)\"/>\n     <use xlink:href=\"#DejaVuSans-69\" transform=\"translate(341.46875 0)\"/>\n     <use xlink:href=\"#DejaVuSans-6f\" transform=\"translate(369.251953 0)\"/>\n     <use xlink:href=\"#DejaVuSans-6e\" transform=\"translate(430.433594 0)\"/>\n     <use xlink:href=\"#DejaVuSans-20\" transform=\"translate(493.8125 0)\"/>\n     <use xlink:href=\"#DejaVuSans-41\" transform=\"translate(525.599609 0)\"/>\n     <use xlink:href=\"#DejaVuSans-63\" transform=\"translate(592.257812 0)\"/>\n     <use xlink:href=\"#DejaVuSans-63\" transform=\"translate(647.238281 0)\"/>\n     <use xlink:href=\"#DejaVuSans-75\" transform=\"translate(702.21875 0)\"/>\n     <use xlink:href=\"#DejaVuSans-72\" transform=\"translate(765.597656 0)\"/>\n     <use xlink:href=\"#DejaVuSans-61\" transform=\"translate(806.710938 0)\"/>\n     <use xlink:href=\"#DejaVuSans-63\" transform=\"translate(867.990234 0)\"/>\n     <use xlink:href=\"#DejaVuSans-79\" transform=\"translate(922.970703 0)\"/>\n     <use xlink:href=\"#DejaVuSans-20\" transform=\"translate(982.150391 0)\"/>\n     <use xlink:href=\"#DejaVuSans-70\" transform=\"translate(1013.9375 0)\"/>\n     <use xlink:href=\"#DejaVuSans-65\" transform=\"translate(1077.414062 0)\"/>\n     <use xlink:href=\"#DejaVuSans-72\" transform=\"translate(1138.9375 0)\"/>\n     <use xlink:href=\"#DejaVuSans-20\" transform=\"translate(1180.050781 0)\"/>\n     <use xlink:href=\"#DejaVuSans-45\" transform=\"translate(1211.837891 0)\"/>\n     <use xlink:href=\"#DejaVuSans-70\" transform=\"translate(1275.021484 0)\"/>\n     <use xlink:href=\"#DejaVuSans-6f\" transform=\"translate(1338.498047 0)\"/>\n     <use xlink:href=\"#DejaVuSans-63\" transform=\"translate(1399.679688 0)\"/>\n     <use xlink:href=\"#DejaVuSans-68\" transform=\"translate(1454.660156 0)\"/>\n    </g>\n   </g>\n   <g id=\"legend_1\">\n    <g id=\"patch_7\">\n     <path d=\"M 57.14375 60.230625 \nL 164.590625 60.230625 \nQ 166.590625 60.230625 166.590625 58.230625 \nL 166.590625 29.318125 \nQ 166.590625 27.318125 164.590625 27.318125 \nL 57.14375 27.318125 \nQ 55.14375 27.318125 55.14375 29.318125 \nL 55.14375 58.230625 \nQ 55.14375 60.230625 57.14375 60.230625 \nz\n\" style=\"fill: #ffffff; opacity: 0.8; stroke: #cccccc; stroke-linejoin: miter\"/>\n    </g>\n    <g id=\"line2d_37\">\n     <path d=\"M 59.14375 35.416563 \nL 69.14375 35.416563 \nL 79.14375 35.416563 \n\" style=\"fill: none; stroke: #1f77b4; stroke-width: 1.5; stroke-linecap: square\"/>\n     <g>\n      <use xlink:href=\"#mea25d3907e\" x=\"69.14375\" y=\"35.416563\" style=\"fill: #1f77b4; stroke: #1f77b4\"/>\n     </g>\n    </g>\n    <g id=\"text_21\">\n     <!-- LLM_DistilBERT -->\n     <g transform=\"translate(87.14375 38.916563) scale(0.1 -0.1)\">\n      <defs>\n       <path id=\"DejaVuSans-4c\" d=\"M 628 4666 \nL 1259 4666 \nL 1259 531 \nL 3531 531 \nL 3531 0 \nL 628 0 \nL 628 4666 \nz\n\" transform=\"scale(0.015625)\"/>\n       <path id=\"DejaVuSans-4d\" d=\"M 628 4666 \nL 1569 4666 \nL 2759 1491 \nL 3956 4666 \nL 4897 4666 \nL 4897 0 \nL 4281 0 \nL 4281 4097 \nL 3078 897 \nL 2444 897 \nL 1241 4097 \nL 1241 0 \nL 628 0 \nL 628 4666 \nz\n\" transform=\"scale(0.015625)\"/>\n       <path id=\"DejaVuSans-5f\" d=\"M 3263 -1063 \nL 3263 -1509 \nL -63 -1509 \nL -63 -1063 \nL 3263 -1063 \nz\n\" transform=\"scale(0.015625)\"/>\n       <path id=\"DejaVuSans-44\" d=\"M 1259 4147 \nL 1259 519 \nL 2022 519 \nQ 2988 519 3436 956 \nQ 3884 1394 3884 2338 \nQ 3884 3275 3436 3711 \nQ 2988 4147 2022 4147 \nL 1259 4147 \nz\nM 628 4666 \nL 1925 4666 \nQ 3281 4666 3915 4102 \nQ 4550 3538 4550 2338 \nQ 4550 1131 3912 565 \nQ 3275 0 1925 0 \nL 628 0 \nL 628 4666 \nz\n\" transform=\"scale(0.015625)\"/>\n       <path id=\"DejaVuSans-42\" d=\"M 1259 2228 \nL 1259 519 \nL 2272 519 \nQ 2781 519 3026 730 \nQ 3272 941 3272 1375 \nQ 3272 1813 3026 2020 \nQ 2781 2228 2272 2228 \nL 1259 2228 \nz\nM 1259 4147 \nL 1259 2741 \nL 2194 2741 \nQ 2656 2741 2882 2914 \nQ 3109 3088 3109 3444 \nQ 3109 3797 2882 3972 \nQ 2656 4147 2194 4147 \nL 1259 4147 \nz\nM 628 4666 \nL 2241 4666 \nQ 2963 4666 3353 4366 \nQ 3744 4066 3744 3513 \nQ 3744 3084 3544 2831 \nQ 3344 2578 2956 2516 \nQ 3422 2416 3680 2098 \nQ 3938 1781 3938 1306 \nQ 3938 681 3513 340 \nQ 3088 0 2303 0 \nL 628 0 \nL 628 4666 \nz\n\" transform=\"scale(0.015625)\"/>\n       <path id=\"DejaVuSans-52\" d=\"M 2841 2188 \nQ 3044 2119 3236 1894 \nQ 3428 1669 3622 1275 \nL 4263 0 \nL 3584 0 \nL 2988 1197 \nQ 2756 1666 2539 1819 \nQ 2322 1972 1947 1972 \nL 1259 1972 \nL 1259 0 \nL 628 0 \nL 628 4666 \nL 2053 4666 \nQ 2853 4666 3247 4331 \nQ 3641 3997 3641 3322 \nQ 3641 2881 3436 2590 \nQ 3231 2300 2841 2188 \nz\nM 1259 4147 \nL 1259 2491 \nL 2053 2491 \nQ 2509 2491 2742 2702 \nQ 2975 2913 2975 3322 \nQ 2975 3731 2742 3939 \nQ 2509 4147 2053 4147 \nL 1259 4147 \nz\n\" transform=\"scale(0.015625)\"/>\n       <path id=\"DejaVuSans-54\" d=\"M -19 4666 \nL 3928 4666 \nL 3928 4134 \nL 2272 4134 \nL 2272 0 \nL 1638 0 \nL 1638 4134 \nL -19 4134 \nL -19 4666 \nz\n\" transform=\"scale(0.015625)\"/>\n      </defs>\n      <use xlink:href=\"#DejaVuSans-4c\"/>\n      <use xlink:href=\"#DejaVuSans-4c\" transform=\"translate(55.712891 0)\"/>\n      <use xlink:href=\"#DejaVuSans-4d\" transform=\"translate(111.425781 0)\"/>\n      <use xlink:href=\"#DejaVuSans-5f\" transform=\"translate(197.705078 0)\"/>\n      <use xlink:href=\"#DejaVuSans-44\" transform=\"translate(247.705078 0)\"/>\n      <use xlink:href=\"#DejaVuSans-69\" transform=\"translate(324.707031 0)\"/>\n      <use xlink:href=\"#DejaVuSans-73\" transform=\"translate(352.490234 0)\"/>\n      <use xlink:href=\"#DejaVuSans-74\" transform=\"translate(404.589844 0)\"/>\n      <use xlink:href=\"#DejaVuSans-69\" transform=\"translate(443.798828 0)\"/>\n      <use xlink:href=\"#DejaVuSans-6c\" transform=\"translate(471.582031 0)\"/>\n      <use xlink:href=\"#DejaVuSans-42\" transform=\"translate(499.365234 0)\"/>\n      <use xlink:href=\"#DejaVuSans-45\" transform=\"translate(567.96875 0)\"/>\n      <use xlink:href=\"#DejaVuSans-52\" transform=\"translate(631.152344 0)\"/>\n      <use xlink:href=\"#DejaVuSans-54\" transform=\"translate(693.384766 0)\"/>\n     </g>\n    </g>\n    <g id=\"line2d_38\">\n     <path d=\"M 59.14375 50.372813 \nL 69.14375 50.372813 \nL 79.14375 50.372813 \n\" style=\"fill: none; stroke: #ff7f0e; stroke-width: 1.5; stroke-linecap: square\"/>\n     <g>\n      <use xlink:href=\"#m6fb4efee4a\" x=\"69.14375\" y=\"50.372813\" style=\"fill: #ff7f0e; stroke: #ff7f0e; stroke-linejoin: miter\"/>\n     </g>\n    </g>\n    <g id=\"text_22\">\n     <!-- LLM_RoBERTa -->\n     <g transform=\"translate(87.14375 53.872813) scale(0.1 -0.1)\">\n      <use xlink:href=\"#DejaVuSans-4c\"/>\n      <use xlink:href=\"#DejaVuSans-4c\" transform=\"translate(55.712891 0)\"/>\n      <use xlink:href=\"#DejaVuSans-4d\" transform=\"translate(111.425781 0)\"/>\n      <use xlink:href=\"#DejaVuSans-5f\" transform=\"translate(197.705078 0)\"/>\n      <use xlink:href=\"#DejaVuSans-52\" transform=\"translate(247.705078 0)\"/>\n      <use xlink:href=\"#DejaVuSans-6f\" transform=\"translate(312.6875 0)\"/>\n      <use xlink:href=\"#DejaVuSans-42\" transform=\"translate(373.869141 0)\"/>\n      <use xlink:href=\"#DejaVuSans-45\" transform=\"translate(442.472656 0)\"/>\n      <use xlink:href=\"#DejaVuSans-52\" transform=\"translate(505.65625 0)\"/>\n      <use xlink:href=\"#DejaVuSans-54\" transform=\"translate(567.888672 0)\"/>\n      <use xlink:href=\"#DejaVuSans-61\" transform=\"translate(612.472656 0)\"/>\n     </g>\n    </g>\n   </g>\n  </g>\n </g>\n <defs>\n  <clipPath id=\"p509891830f\">\n   <rect x=\"50.14375\" y=\"22.318125\" width=\"446.4\" height=\"277.2\"/>\n  </clipPath>\n </defs>\n</svg>\n"
          },
          "metadata": {}
        }
      ],
      "source": [
        "# Récupération des accuracies\n",
        "epochs = range(1, len(LLM_RoBERTa_256.history[\"val_acc\"]) + 1)\n",
        "val_acc_DistilBERT = LLM_DistilBERT.history[\"val_acc\"]\n",
        "val_acc_RoBERTa_256 = LLM_RoBERTa_256.history[\"val_acc\"]\n",
        "\n",
        "# Tracé\n",
        "plt.figure(figsize=(8, 5))\n",
        "plt.plot(epochs, val_acc_DistilBERT, marker=\"o\", label=\"LLM_DistilBERT\")\n",
        "plt.plot(epochs, val_acc_RoBERTa_256, marker=\"s\", label=\"LLM_RoBERTa\")\n",
        "\n",
        "# Mise en forme\n",
        "plt.title(\"Validation Accuracy per Epoch\")\n",
        "plt.xlabel(\"Epochs\")\n",
        "plt.ylabel(\"Validation Accuracy\")\n",
        "plt.legend()\n",
        "plt.grid(True)\n",
        "plt.show()"
      ]
    },
    {
      "cell_type": "markdown",
      "id": "L5tZwIr4llWT",
      "metadata": {
        "id": "L5tZwIr4llWT"
      },
      "source": [
        "Au vu des résultats ci-dessus, `RoBERTa` dépasse `DistilBERT` en performance (~92% contre ~86,7%).\n",
        "\n",
        "Dans la continuité de cette comparaison, utilisons à présent des métriques d'évalution telles que l'*accuracy*, le f1-score et la metrice de confusion."
      ]
    },
    {
      "cell_type": "markdown",
      "id": "b9dc75bf",
      "metadata": {
        "id": "b9dc75bf"
      },
      "source": [
        "## Métriques d'évaluation (Accuracy, F1, Matrice de confusion)"
      ]
    },
    {
      "cell_type": "code",
      "execution_count": 33,
      "id": "34ff64b0",
      "metadata": {
        "colab": {
          "base_uri": "https://localhost:8080/"
        },
        "id": "34ff64b0",
        "outputId": "45b2bf6c-2910-4248-fb71-6b9c76a0922f"
      },
      "outputs": [
        {
          "output_type": "stream",
          "name": "stdout",
          "text": [
            "Starting evaluation workflow...\n",
            "Accuracy: 0.9575\n",
            "F1-score: 0.9586\n",
            "\n",
            "Confusion Matrix:\n",
            "[186, 7]\n",
            "[10, 197]\n",
            "\n",
            "Classification Report:\n",
            "              precision    recall  f1-score   support\n",
            "\n",
            "    negative       0.95      0.96      0.96       193\n",
            "    positive       0.97      0.95      0.96       207\n",
            "\n",
            "    accuracy                           0.96       400\n",
            "   macro avg       0.96      0.96      0.96       400\n",
            "weighted avg       0.96      0.96      0.96       400\n",
            "\n"
          ]
        }
      ],
      "source": [
        "LLM_DistilBERT_metrics = LLMFineTuner(\n",
        "    pretrained_model_name_or_path=\"./distilbert-best\"\n",
        ")\n",
        "LLM_DistilBERT_metrics.workflow(mode=\"evaluation\")\n",
        "metrics_LLM_DistilBERT_metrics = LLM_DistilBERT_metrics.evaluate()\n",
        "print(f\"Accuracy: {metrics_LLM_DistilBERT_metrics['accuracy']:.4f}\")\n",
        "print(f\"F1-score: {metrics_LLM_DistilBERT_metrics['f1_score']:.4f}\\n\")\n",
        "\n",
        "print(\"Confusion Matrix:\")\n",
        "for row in metrics_LLM_DistilBERT_metrics[\"confusion_matrix\"]:\n",
        "    print(row)\n",
        "\n",
        "print(\"\\nClassification Report:\")\n",
        "print(metrics_LLM_DistilBERT_metrics[\"classification_report\"])"
      ]
    },
    {
      "cell_type": "code",
      "execution_count": 34,
      "id": "fPLFu1RRnptM",
      "metadata": {
        "colab": {
          "base_uri": "https://localhost:8080/",
          "height": 399,
          "referenced_widgets": [
            "bc965378d41f433e98a4cf9e1a41dab5",
            "c8fe6d00865347c0845958790aa51af3",
            "6af734f9ca3e41d3a2f68eaa7e25f22a",
            "ba965a938ebe4f4bb811966b6dc095fa",
            "df47f22cb9074f3b9f29f5bc5b84b09a",
            "7d1137b6acb4428eb6e3cb673c94f96b",
            "de55c0eed3fa48cc881392424a083eda",
            "9a17ebcb166c4bc595a894235cc03a78",
            "af9fab1fdf1c40d7ad1207bee3f9f7b0",
            "e74c74903854470bae65631dcd31d6ec",
            "0655df57dfbe4f9e846af0d615b1386b"
          ]
        },
        "id": "fPLFu1RRnptM",
        "outputId": "4c4ad368-9e4e-45c6-eac6-705ce42ec90c"
      },
      "outputs": [
        {
          "output_type": "stream",
          "name": "stdout",
          "text": [
            "Starting evaluation workflow...\n"
          ]
        },
        {
          "output_type": "display_data",
          "data": {
            "text/plain": [
              "Map:   0%|          | 0/2000 [00:00<?, ? examples/s]"
            ],
            "application/vnd.jupyter.widget-view+json": {
              "version_major": 2,
              "version_minor": 0,
              "model_id": "bc965378d41f433e98a4cf9e1a41dab5"
            }
          },
          "metadata": {}
        },
        {
          "output_type": "stream",
          "name": "stderr",
          "text": [
            "You're using a RobertaTokenizerFast tokenizer. Please note that with a fast tokenizer, using the `__call__` method is faster than using a method to encode the text followed by a call to the `pad` method to get a padded encoding.\n"
          ]
        },
        {
          "output_type": "stream",
          "name": "stdout",
          "text": [
            "Accuracy: 0.9600\n",
            "F1-score: 0.9592\n",
            "\n",
            "Confusion Matrix:\n",
            "[196, 10]\n",
            "[6, 188]\n",
            "\n",
            "Classification Report:\n",
            "              precision    recall  f1-score   support\n",
            "\n",
            "    negative       0.97      0.95      0.96       206\n",
            "    positive       0.95      0.97      0.96       194\n",
            "\n",
            "    accuracy                           0.96       400\n",
            "   macro avg       0.96      0.96      0.96       400\n",
            "weighted avg       0.96      0.96      0.96       400\n",
            "\n"
          ]
        }
      ],
      "source": [
        "LLM_RoBERTa_metrics = LLMFineTuner(\n",
        "    model_cls=AutoModelForSequenceClassification,\n",
        "    pretrained_model_name_or_path=\"./roberta-best\",\n",
        "    tokenizer_cls=AutoTokenizer,\n",
        ")\n",
        "LLM_RoBERTa_metrics.workflow(mode=\"evaluation\")\n",
        "metrics_LLM_RoBERTa_metrics = LLM_RoBERTa_metrics.evaluate()\n",
        "print(f\"Accuracy: {metrics_LLM_RoBERTa_metrics['accuracy']:.4f}\")\n",
        "print(f\"F1-score: {metrics_LLM_RoBERTa_metrics['f1_score']:.4f}\\n\")\n",
        "\n",
        "print(\"Confusion Matrix:\")\n",
        "for row in metrics_LLM_RoBERTa_metrics[\"confusion_matrix\"]:\n",
        "    print(row)\n",
        "\n",
        "print(\"\\nClassification Report:\")\n",
        "print(metrics_LLM_RoBERTa_metrics[\"classification_report\"])"
      ]
    },
    {
      "cell_type": "markdown",
      "id": "_vis8DVTsOVz",
      "metadata": {
        "id": "_vis8DVTsOVz"
      },
      "source": [
        "## Analyse comparative entre `DistilBERT` et `RoBERTa` (après *fine-tuning*)\n",
        "\n",
        "Le tableau ci-dessous synthétise les métriques d'évaluation respectives à chaque modèle.\n",
        "\n",
        "| Modèle         | Accuracy | F1-score | Matrice de confusion      | Rapport de classification (résumé)                                                                                 |\n",
        "| -------------- | -------- | -------- | ------------------------- | ------------------------------------------------------------------------------------------------------------------ |\n",
        "| **DistilBERT** | 0.9575   | 0.9586   | $[186, 7$,<br>$10, 197$] | - Negative : P=0.95, R=0.96, F1=0.96 (n=193)<br>- Positive : P=0.97, R=0.95, F1=0.96 (n=207)<br>- Macro avg = 0.96 |\n",
        "| **RoBERTa**    | 0.9675   | 0.9664   | $[200, 6$,<br>$7, 187$]  | - Negative : P=0.97, R=0.97, F1=0.97 (n=206)<br>- Positive : P=0.97, R=0.96, F1=0.97 (n=194)<br>- Macro avg = 0.97 |\n",
        "\n",
        "- `RoBERTa` obtient une *accuracy* et un F1-score légèrement supérieurs à ceux obtenus pour `DistilBERT`.\n",
        "- Les deux modèles sont très proches en performance, mais `RoBERTa` montre une meilleure **équilibre précision/rappel** sur les deux classes."
      ]
    },
    {
      "cell_type": "markdown",
      "id": "6jmr9IfKncXj",
      "metadata": {
        "id": "6jmr9IfKncXj"
      },
      "source": [
        "## Modification du jeu de données"
      ]
    },
    {
      "cell_type": "markdown",
      "id": "OjC5-stQnq3_",
      "metadata": {
        "id": "OjC5-stQnq3_"
      },
      "source": [
        "## Etude du jeu de données\n",
        "\n",
        "Nous allons maintenant couvrir les informations clés concernant notre jeu de données, notamment :\n",
        "\n",
        "* Nombre d'échantillons\n",
        "* Équilibre des classes\n",
        "* Statistiques sur la longueur des avis (en mots et en tokens)\n",
        "* Élaboration de quelques observations écrites et visuelles\n",
        "\n",
        "**Remarque** : nous avons créé deux objets *dataset* (un par modèle) à des fins d'entraînement. Pour le profilage des données, nous utiliserons le jeu de données brut : **`dataset`**.\n",
        "\n",
        "Nous continuerons également à utiliser le tokenizer **DistilBert** pour obtenir les longueurs en tokens, car il est représentatif."
      ]
    },
    {
      "cell_type": "code",
      "execution_count": 35,
      "id": "znA7n0J5ozDb",
      "metadata": {
        "colab": {
          "base_uri": "https://localhost:8080/",
          "height": 1000
        },
        "id": "znA7n0J5ozDb",
        "outputId": "fcfdf184-9aa2-499e-f3b6-8e3d1a074791"
      },
      "outputs": [
        {
          "output_type": "stream",
          "name": "stdout",
          "text": [
            "Total samples: 50000\n",
            "Class counts:\n",
            " sentiment\n",
            "1    25000\n",
            "0    25000\n",
            "Name: count, dtype: int64\n",
            "\n",
            "Average words per review: 231.2 (median 173.0)\n",
            "Average tokens per review: 308.3 (median 229.0)\n"
          ]
        },
        {
          "output_type": "display_data",
          "data": {
            "text/plain": [
              "<Figure size 800x500 with 1 Axes>"
            ],
            "image/svg+xml": "<?xml version=\"1.0\" encoding=\"utf-8\" standalone=\"no\"?>\n<!DOCTYPE svg PUBLIC \"-//W3C//DTD SVG 1.1//EN\"\n  \"http://www.w3.org/Graphics/SVG/1.1/DTD/svg11.dtd\">\n<svg xmlns:xlink=\"http://www.w3.org/1999/xlink\" width=\"513.290625pt\" height=\"337.074375pt\" viewBox=\"0 0 513.290625 337.074375\" xmlns=\"http://www.w3.org/2000/svg\" version=\"1.1\">\n <metadata>\n  <rdf:RDF xmlns:dc=\"http://purl.org/dc/elements/1.1/\" xmlns:cc=\"http://creativecommons.org/ns#\" xmlns:rdf=\"http://www.w3.org/1999/02/22-rdf-syntax-ns#\">\n   <cc:Work>\n    <dc:type rdf:resource=\"http://purl.org/dc/dcmitype/StillImage\"/>\n    <dc:date>2025-09-14T15:10:06.352932</dc:date>\n    <dc:format>image/svg+xml</dc:format>\n    <dc:creator>\n     <cc:Agent>\n      <dc:title>Matplotlib v3.10.0, https://matplotlib.org/</dc:title>\n     </cc:Agent>\n    </dc:creator>\n   </cc:Work>\n  </rdf:RDF>\n </metadata>\n <defs>\n  <style type=\"text/css\">*{stroke-linejoin: round; stroke-linecap: butt}</style>\n </defs>\n <g id=\"figure_1\">\n  <g id=\"patch_1\">\n   <path d=\"M 0 337.074375 \nL 513.290625 337.074375 \nL 513.290625 0 \nL 0 0 \nz\n\" style=\"fill: #ffffff\"/>\n  </g>\n  <g id=\"axes_1\">\n   <g id=\"patch_2\">\n    <path d=\"M 59.690625 299.518125 \nL 506.090625 299.518125 \nL 506.090625 22.318125 \nL 59.690625 22.318125 \nz\n\" style=\"fill: #ffffff\"/>\n   </g>\n   <g id=\"patch_3\">\n    <path d=\"M 79.981534 299.518125 \nL 93.508807 299.518125 \nL 93.508807 234.344677 \nL 79.981534 234.344677 \nz\n\" clip-path=\"url(#p938d70117b)\" style=\"fill: #4682b4; opacity: 0.7\"/>\n   </g>\n   <g id=\"patch_4\">\n    <path d=\"M 93.508807 299.518125 \nL 107.03608 299.518125 \nL 107.03608 35.518125 \nL 93.508807 35.518125 \nz\n\" clip-path=\"url(#p938d70117b)\" style=\"fill: #4682b4; opacity: 0.7\"/>\n   </g>\n   <g id=\"patch_5\">\n    <path d=\"M 107.03608 299.518125 \nL 120.563352 299.518125 \nL 120.563352 142.906031 \nL 107.03608 142.906031 \nz\n\" clip-path=\"url(#p938d70117b)\" style=\"fill: #4682b4; opacity: 0.7\"/>\n   </g>\n   <g id=\"patch_6\">\n    <path d=\"M 120.563352 299.518125 \nL 134.090625 299.518125 \nL 134.090625 218.494744 \nL 120.563352 218.494744 \nz\n\" clip-path=\"url(#p938d70117b)\" style=\"fill: #4682b4; opacity: 0.7\"/>\n   </g>\n   <g id=\"patch_7\">\n    <path d=\"M 134.090625 299.518125 \nL 147.617898 299.518125 \nL 147.617898 250.606112 \nL 134.090625 250.606112 \nz\n\" clip-path=\"url(#p938d70117b)\" style=\"fill: #4682b4; opacity: 0.7\"/>\n   </g>\n   <g id=\"patch_8\">\n    <path d=\"M 147.617898 299.518125 \nL 161.14517 299.518125 \nL 161.14517 268.612884 \nL 147.617898 268.612884 \nz\n\" clip-path=\"url(#p938d70117b)\" style=\"fill: #4682b4; opacity: 0.7\"/>\n   </g>\n   <g id=\"patch_9\">\n    <path d=\"M 161.14517 299.518125 \nL 174.672443 299.518125 \nL 174.672443 279.311944 \nL 161.14517 279.311944 \nz\n\" clip-path=\"url(#p938d70117b)\" style=\"fill: #4682b4; opacity: 0.7\"/>\n   </g>\n   <g id=\"patch_10\">\n    <path d=\"M 174.672443 299.518125 \nL 188.199716 299.518125 \nL 188.199716 285.825032 \nL 174.672443 285.825032 \nz\n\" clip-path=\"url(#p938d70117b)\" style=\"fill: #4682b4; opacity: 0.7\"/>\n   </g>\n   <g id=\"patch_11\">\n    <path d=\"M 188.199716 299.518125 \nL 201.726989 299.518125 \nL 201.726989 290.521834 \nL 188.199716 290.521834 \nz\n\" clip-path=\"url(#p938d70117b)\" style=\"fill: #4682b4; opacity: 0.7\"/>\n   </g>\n   <g id=\"patch_12\">\n    <path d=\"M 201.726989 299.518125 \nL 215.254261 299.518125 \nL 215.254261 292.990847 \nL 201.726989 292.990847 \nz\n\" clip-path=\"url(#p938d70117b)\" style=\"fill: #4682b4; opacity: 0.7\"/>\n   </g>\n   <g id=\"patch_13\">\n    <path d=\"M 215.254261 299.518125 \nL 228.781534 299.518125 \nL 228.781534 294.736185 \nL 215.254261 294.736185 \nz\n\" clip-path=\"url(#p938d70117b)\" style=\"fill: #4682b4; opacity: 0.7\"/>\n   </g>\n   <g id=\"patch_14\">\n    <path d=\"M 228.781534 299.518125 \nL 242.308807 299.518125 \nL 242.308807 295.431482 \nL 228.781534 295.431482 \nz\n\" clip-path=\"url(#p938d70117b)\" style=\"fill: #4682b4; opacity: 0.7\"/>\n   </g>\n   <g id=\"patch_15\">\n    <path d=\"M 242.308807 299.518125 \nL 255.83608 299.518125 \nL 255.83608 296.637609 \nL 242.308807 296.637609 \nz\n\" clip-path=\"url(#p938d70117b)\" style=\"fill: #4682b4; opacity: 0.7\"/>\n   </g>\n   <g id=\"patch_16\">\n    <path d=\"M 255.83608 299.518125 \nL 269.363352 299.518125 \nL 269.363352 298.524844 \nL 255.83608 298.524844 \nz\n\" clip-path=\"url(#p938d70117b)\" style=\"fill: #4682b4; opacity: 0.7\"/>\n   </g>\n   <g id=\"patch_17\">\n    <path d=\"M 269.363352 299.518125 \nL 282.890625 299.518125 \nL 282.890625 299.220141 \nL 269.363352 299.220141 \nz\n\" clip-path=\"url(#p938d70117b)\" style=\"fill: #4682b4; opacity: 0.7\"/>\n   </g>\n   <g id=\"patch_18\">\n    <path d=\"M 282.890625 299.518125 \nL 296.417898 299.518125 \nL 296.417898 299.418797 \nL 282.890625 299.418797 \nz\n\" clip-path=\"url(#p938d70117b)\" style=\"fill: #4682b4; opacity: 0.7\"/>\n   </g>\n   <g id=\"patch_19\">\n    <path d=\"M 296.417898 299.518125 \nL 309.94517 299.518125 \nL 309.94517 299.447176 \nL 296.417898 299.447176 \nz\n\" clip-path=\"url(#p938d70117b)\" style=\"fill: #4682b4; opacity: 0.7\"/>\n   </g>\n   <g id=\"patch_20\">\n    <path d=\"M 309.94517 299.518125 \nL 323.472443 299.518125 \nL 323.472443 299.461366 \nL 309.94517 299.461366 \nz\n\" clip-path=\"url(#p938d70117b)\" style=\"fill: #4682b4; opacity: 0.7\"/>\n   </g>\n   <g id=\"patch_21\">\n    <path d=\"M 323.472443 299.518125 \nL 336.999716 299.518125 \nL 336.999716 299.503935 \nL 323.472443 299.503935 \nz\n\" clip-path=\"url(#p938d70117b)\" style=\"fill: #4682b4; opacity: 0.7\"/>\n   </g>\n   <g id=\"patch_22\">\n    <path d=\"M 336.999716 299.518125 \nL 350.526989 299.518125 \nL 350.526989 299.503935 \nL 336.999716 299.503935 \nz\n\" clip-path=\"url(#p938d70117b)\" style=\"fill: #4682b4; opacity: 0.7\"/>\n   </g>\n   <g id=\"patch_23\">\n    <path d=\"M 350.526989 299.518125 \nL 364.054261 299.518125 \nL 364.054261 299.489746 \nL 350.526989 299.489746 \nz\n\" clip-path=\"url(#p938d70117b)\" style=\"fill: #4682b4; opacity: 0.7\"/>\n   </g>\n   <g id=\"patch_24\">\n    <path d=\"M 364.054261 299.518125 \nL 377.581534 299.518125 \nL 377.581534 299.475556 \nL 364.054261 299.475556 \nz\n\" clip-path=\"url(#p938d70117b)\" style=\"fill: #4682b4; opacity: 0.7\"/>\n   </g>\n   <g id=\"patch_25\">\n    <path d=\"M 377.581534 299.518125 \nL 391.108807 299.518125 \nL 391.108807 299.518125 \nL 377.581534 299.518125 \nz\n\" clip-path=\"url(#p938d70117b)\" style=\"fill: #4682b4; opacity: 0.7\"/>\n   </g>\n   <g id=\"patch_26\">\n    <path d=\"M 391.108807 299.518125 \nL 404.63608 299.518125 \nL 404.63608 299.503935 \nL 391.108807 299.503935 \nz\n\" clip-path=\"url(#p938d70117b)\" style=\"fill: #4682b4; opacity: 0.7\"/>\n   </g>\n   <g id=\"patch_27\">\n    <path d=\"M 404.63608 299.518125 \nL 418.163352 299.518125 \nL 418.163352 299.518125 \nL 404.63608 299.518125 \nz\n\" clip-path=\"url(#p938d70117b)\" style=\"fill: #4682b4; opacity: 0.7\"/>\n   </g>\n   <g id=\"patch_28\">\n    <path d=\"M 418.163352 299.518125 \nL 431.690625 299.518125 \nL 431.690625 299.518125 \nL 418.163352 299.518125 \nz\n\" clip-path=\"url(#p938d70117b)\" style=\"fill: #4682b4; opacity: 0.7\"/>\n   </g>\n   <g id=\"patch_29\">\n    <path d=\"M 431.690625 299.518125 \nL 445.217898 299.518125 \nL 445.217898 299.518125 \nL 431.690625 299.518125 \nz\n\" clip-path=\"url(#p938d70117b)\" style=\"fill: #4682b4; opacity: 0.7\"/>\n   </g>\n   <g id=\"patch_30\">\n    <path d=\"M 445.217898 299.518125 \nL 458.74517 299.518125 \nL 458.74517 299.503935 \nL 445.217898 299.503935 \nz\n\" clip-path=\"url(#p938d70117b)\" style=\"fill: #4682b4; opacity: 0.7\"/>\n   </g>\n   <g id=\"patch_31\">\n    <path d=\"M 458.74517 299.518125 \nL 472.272443 299.518125 \nL 472.272443 299.503935 \nL 458.74517 299.503935 \nz\n\" clip-path=\"url(#p938d70117b)\" style=\"fill: #4682b4; opacity: 0.7\"/>\n   </g>\n   <g id=\"patch_32\">\n    <path d=\"M 472.272443 299.518125 \nL 485.799716 299.518125 \nL 485.799716 299.489746 \nL 472.272443 299.489746 \nz\n\" clip-path=\"url(#p938d70117b)\" style=\"fill: #4682b4; opacity: 0.7\"/>\n   </g>\n   <g id=\"matplotlib.axis_1\">\n    <g id=\"xtick_1\">\n     <g id=\"line2d_1\">\n      <defs>\n       <path id=\"m0b1a797911\" d=\"M 0 0 \nL 0 3.5 \n\" style=\"stroke: #000000; stroke-width: 0.8\"/>\n      </defs>\n      <g>\n       <use xlink:href=\"#m0b1a797911\" x=\"78.949902\" y=\"299.518125\" style=\"stroke: #000000; stroke-width: 0.8\"/>\n      </g>\n     </g>\n     <g id=\"text_1\">\n      <!-- 0 -->\n      <g transform=\"translate(75.768652 314.116563) scale(0.1 -0.1)\">\n       <defs>\n        <path id=\"DejaVuSans-30\" d=\"M 2034 4250 \nQ 1547 4250 1301 3770 \nQ 1056 3291 1056 2328 \nQ 1056 1369 1301 889 \nQ 1547 409 2034 409 \nQ 2525 409 2770 889 \nQ 3016 1369 3016 2328 \nQ 3016 3291 2770 3770 \nQ 2525 4250 2034 4250 \nz\nM 2034 4750 \nQ 2819 4750 3233 4129 \nQ 3647 3509 3647 2328 \nQ 3647 1150 3233 529 \nQ 2819 -91 2034 -91 \nQ 1250 -91 836 529 \nQ 422 1150 422 2328 \nQ 422 3509 836 4129 \nQ 1250 4750 2034 4750 \nz\n\" transform=\"scale(0.015625)\"/>\n       </defs>\n       <use xlink:href=\"#DejaVuSans-30\"/>\n      </g>\n     </g>\n    </g>\n    <g id=\"xtick_2\">\n     <g id=\"line2d_2\">\n      <g>\n       <use xlink:href=\"#m0b1a797911\" x=\"143.426893\" y=\"299.518125\" style=\"stroke: #000000; stroke-width: 0.8\"/>\n      </g>\n     </g>\n     <g id=\"text_2\">\n      <!-- 500 -->\n      <g transform=\"translate(133.883143 314.116563) scale(0.1 -0.1)\">\n       <defs>\n        <path id=\"DejaVuSans-35\" d=\"M 691 4666 \nL 3169 4666 \nL 3169 4134 \nL 1269 4134 \nL 1269 2991 \nQ 1406 3038 1543 3061 \nQ 1681 3084 1819 3084 \nQ 2600 3084 3056 2656 \nQ 3513 2228 3513 1497 \nQ 3513 744 3044 326 \nQ 2575 -91 1722 -91 \nQ 1428 -91 1123 -41 \nQ 819 9 494 109 \nL 494 744 \nQ 775 591 1075 516 \nQ 1375 441 1709 441 \nQ 2250 441 2565 725 \nQ 2881 1009 2881 1497 \nQ 2881 1984 2565 2268 \nQ 2250 2553 1709 2553 \nQ 1456 2553 1204 2497 \nQ 953 2441 691 2322 \nL 691 4666 \nz\n\" transform=\"scale(0.015625)\"/>\n       </defs>\n       <use xlink:href=\"#DejaVuSans-35\"/>\n       <use xlink:href=\"#DejaVuSans-30\" transform=\"translate(63.623047 0)\"/>\n       <use xlink:href=\"#DejaVuSans-30\" transform=\"translate(127.246094 0)\"/>\n      </g>\n     </g>\n    </g>\n    <g id=\"xtick_3\">\n     <g id=\"line2d_3\">\n      <g>\n       <use xlink:href=\"#m0b1a797911\" x=\"207.903884\" y=\"299.518125\" style=\"stroke: #000000; stroke-width: 0.8\"/>\n      </g>\n     </g>\n     <g id=\"text_3\">\n      <!-- 1000 -->\n      <g transform=\"translate(195.178884 314.116563) scale(0.1 -0.1)\">\n       <defs>\n        <path id=\"DejaVuSans-31\" d=\"M 794 531 \nL 1825 531 \nL 1825 4091 \nL 703 3866 \nL 703 4441 \nL 1819 4666 \nL 2450 4666 \nL 2450 531 \nL 3481 531 \nL 3481 0 \nL 794 0 \nL 794 531 \nz\n\" transform=\"scale(0.015625)\"/>\n       </defs>\n       <use xlink:href=\"#DejaVuSans-31\"/>\n       <use xlink:href=\"#DejaVuSans-30\" transform=\"translate(63.623047 0)\"/>\n       <use xlink:href=\"#DejaVuSans-30\" transform=\"translate(127.246094 0)\"/>\n       <use xlink:href=\"#DejaVuSans-30\" transform=\"translate(190.869141 0)\"/>\n      </g>\n     </g>\n    </g>\n    <g id=\"xtick_4\">\n     <g id=\"line2d_4\">\n      <g>\n       <use xlink:href=\"#m0b1a797911\" x=\"272.380875\" y=\"299.518125\" style=\"stroke: #000000; stroke-width: 0.8\"/>\n      </g>\n     </g>\n     <g id=\"text_4\">\n      <!-- 1500 -->\n      <g transform=\"translate(259.655875 314.116563) scale(0.1 -0.1)\">\n       <use xlink:href=\"#DejaVuSans-31\"/>\n       <use xlink:href=\"#DejaVuSans-35\" transform=\"translate(63.623047 0)\"/>\n       <use xlink:href=\"#DejaVuSans-30\" transform=\"translate(127.246094 0)\"/>\n       <use xlink:href=\"#DejaVuSans-30\" transform=\"translate(190.869141 0)\"/>\n      </g>\n     </g>\n    </g>\n    <g id=\"xtick_5\">\n     <g id=\"line2d_5\">\n      <g>\n       <use xlink:href=\"#m0b1a797911\" x=\"336.857867\" y=\"299.518125\" style=\"stroke: #000000; stroke-width: 0.8\"/>\n      </g>\n     </g>\n     <g id=\"text_5\">\n      <!-- 2000 -->\n      <g transform=\"translate(324.132867 314.116563) scale(0.1 -0.1)\">\n       <defs>\n        <path id=\"DejaVuSans-32\" d=\"M 1228 531 \nL 3431 531 \nL 3431 0 \nL 469 0 \nL 469 531 \nQ 828 903 1448 1529 \nQ 2069 2156 2228 2338 \nQ 2531 2678 2651 2914 \nQ 2772 3150 2772 3378 \nQ 2772 3750 2511 3984 \nQ 2250 4219 1831 4219 \nQ 1534 4219 1204 4116 \nQ 875 4013 500 3803 \nL 500 4441 \nQ 881 4594 1212 4672 \nQ 1544 4750 1819 4750 \nQ 2544 4750 2975 4387 \nQ 3406 4025 3406 3419 \nQ 3406 3131 3298 2873 \nQ 3191 2616 2906 2266 \nQ 2828 2175 2409 1742 \nQ 1991 1309 1228 531 \nz\n\" transform=\"scale(0.015625)\"/>\n       </defs>\n       <use xlink:href=\"#DejaVuSans-32\"/>\n       <use xlink:href=\"#DejaVuSans-30\" transform=\"translate(63.623047 0)\"/>\n       <use xlink:href=\"#DejaVuSans-30\" transform=\"translate(127.246094 0)\"/>\n       <use xlink:href=\"#DejaVuSans-30\" transform=\"translate(190.869141 0)\"/>\n      </g>\n     </g>\n    </g>\n    <g id=\"xtick_6\">\n     <g id=\"line2d_6\">\n      <g>\n       <use xlink:href=\"#m0b1a797911\" x=\"401.334858\" y=\"299.518125\" style=\"stroke: #000000; stroke-width: 0.8\"/>\n      </g>\n     </g>\n     <g id=\"text_6\">\n      <!-- 2500 -->\n      <g transform=\"translate(388.609858 314.116563) scale(0.1 -0.1)\">\n       <use xlink:href=\"#DejaVuSans-32\"/>\n       <use xlink:href=\"#DejaVuSans-35\" transform=\"translate(63.623047 0)\"/>\n       <use xlink:href=\"#DejaVuSans-30\" transform=\"translate(127.246094 0)\"/>\n       <use xlink:href=\"#DejaVuSans-30\" transform=\"translate(190.869141 0)\"/>\n      </g>\n     </g>\n    </g>\n    <g id=\"xtick_7\">\n     <g id=\"line2d_7\">\n      <g>\n       <use xlink:href=\"#m0b1a797911\" x=\"465.811849\" y=\"299.518125\" style=\"stroke: #000000; stroke-width: 0.8\"/>\n      </g>\n     </g>\n     <g id=\"text_7\">\n      <!-- 3000 -->\n      <g transform=\"translate(453.086849 314.116563) scale(0.1 -0.1)\">\n       <defs>\n        <path id=\"DejaVuSans-33\" d=\"M 2597 2516 \nQ 3050 2419 3304 2112 \nQ 3559 1806 3559 1356 \nQ 3559 666 3084 287 \nQ 2609 -91 1734 -91 \nQ 1441 -91 1130 -33 \nQ 819 25 488 141 \nL 488 750 \nQ 750 597 1062 519 \nQ 1375 441 1716 441 \nQ 2309 441 2620 675 \nQ 2931 909 2931 1356 \nQ 2931 1769 2642 2001 \nQ 2353 2234 1838 2234 \nL 1294 2234 \nL 1294 2753 \nL 1863 2753 \nQ 2328 2753 2575 2939 \nQ 2822 3125 2822 3475 \nQ 2822 3834 2567 4026 \nQ 2313 4219 1838 4219 \nQ 1578 4219 1281 4162 \nQ 984 4106 628 3988 \nL 628 4550 \nQ 988 4650 1302 4700 \nQ 1616 4750 1894 4750 \nQ 2613 4750 3031 4423 \nQ 3450 4097 3450 3541 \nQ 3450 3153 3228 2886 \nQ 3006 2619 2597 2516 \nz\n\" transform=\"scale(0.015625)\"/>\n       </defs>\n       <use xlink:href=\"#DejaVuSans-33\"/>\n       <use xlink:href=\"#DejaVuSans-30\" transform=\"translate(63.623047 0)\"/>\n       <use xlink:href=\"#DejaVuSans-30\" transform=\"translate(127.246094 0)\"/>\n       <use xlink:href=\"#DejaVuSans-30\" transform=\"translate(190.869141 0)\"/>\n      </g>\n     </g>\n    </g>\n    <g id=\"text_8\">\n     <!-- Token count per review -->\n     <g transform=\"translate(224.954688 327.794688) scale(0.1 -0.1)\">\n      <defs>\n       <path id=\"DejaVuSans-54\" d=\"M -19 4666 \nL 3928 4666 \nL 3928 4134 \nL 2272 4134 \nL 2272 0 \nL 1638 0 \nL 1638 4134 \nL -19 4134 \nL -19 4666 \nz\n\" transform=\"scale(0.015625)\"/>\n       <path id=\"DejaVuSans-6f\" d=\"M 1959 3097 \nQ 1497 3097 1228 2736 \nQ 959 2375 959 1747 \nQ 959 1119 1226 758 \nQ 1494 397 1959 397 \nQ 2419 397 2687 759 \nQ 2956 1122 2956 1747 \nQ 2956 2369 2687 2733 \nQ 2419 3097 1959 3097 \nz\nM 1959 3584 \nQ 2709 3584 3137 3096 \nQ 3566 2609 3566 1747 \nQ 3566 888 3137 398 \nQ 2709 -91 1959 -91 \nQ 1206 -91 779 398 \nQ 353 888 353 1747 \nQ 353 2609 779 3096 \nQ 1206 3584 1959 3584 \nz\n\" transform=\"scale(0.015625)\"/>\n       <path id=\"DejaVuSans-6b\" d=\"M 581 4863 \nL 1159 4863 \nL 1159 1991 \nL 2875 3500 \nL 3609 3500 \nL 1753 1863 \nL 3688 0 \nL 2938 0 \nL 1159 1709 \nL 1159 0 \nL 581 0 \nL 581 4863 \nz\n\" transform=\"scale(0.015625)\"/>\n       <path id=\"DejaVuSans-65\" d=\"M 3597 1894 \nL 3597 1613 \nL 953 1613 \nQ 991 1019 1311 708 \nQ 1631 397 2203 397 \nQ 2534 397 2845 478 \nQ 3156 559 3463 722 \nL 3463 178 \nQ 3153 47 2828 -22 \nQ 2503 -91 2169 -91 \nQ 1331 -91 842 396 \nQ 353 884 353 1716 \nQ 353 2575 817 3079 \nQ 1281 3584 2069 3584 \nQ 2775 3584 3186 3129 \nQ 3597 2675 3597 1894 \nz\nM 3022 2063 \nQ 3016 2534 2758 2815 \nQ 2500 3097 2075 3097 \nQ 1594 3097 1305 2825 \nQ 1016 2553 972 2059 \nL 3022 2063 \nz\n\" transform=\"scale(0.015625)\"/>\n       <path id=\"DejaVuSans-6e\" d=\"M 3513 2113 \nL 3513 0 \nL 2938 0 \nL 2938 2094 \nQ 2938 2591 2744 2837 \nQ 2550 3084 2163 3084 \nQ 1697 3084 1428 2787 \nQ 1159 2491 1159 1978 \nL 1159 0 \nL 581 0 \nL 581 3500 \nL 1159 3500 \nL 1159 2956 \nQ 1366 3272 1645 3428 \nQ 1925 3584 2291 3584 \nQ 2894 3584 3203 3211 \nQ 3513 2838 3513 2113 \nz\n\" transform=\"scale(0.015625)\"/>\n       <path id=\"DejaVuSans-20\" transform=\"scale(0.015625)\"/>\n       <path id=\"DejaVuSans-63\" d=\"M 3122 3366 \nL 3122 2828 \nQ 2878 2963 2633 3030 \nQ 2388 3097 2138 3097 \nQ 1578 3097 1268 2742 \nQ 959 2388 959 1747 \nQ 959 1106 1268 751 \nQ 1578 397 2138 397 \nQ 2388 397 2633 464 \nQ 2878 531 3122 666 \nL 3122 134 \nQ 2881 22 2623 -34 \nQ 2366 -91 2075 -91 \nQ 1284 -91 818 406 \nQ 353 903 353 1747 \nQ 353 2603 823 3093 \nQ 1294 3584 2113 3584 \nQ 2378 3584 2631 3529 \nQ 2884 3475 3122 3366 \nz\n\" transform=\"scale(0.015625)\"/>\n       <path id=\"DejaVuSans-75\" d=\"M 544 1381 \nL 544 3500 \nL 1119 3500 \nL 1119 1403 \nQ 1119 906 1312 657 \nQ 1506 409 1894 409 \nQ 2359 409 2629 706 \nQ 2900 1003 2900 1516 \nL 2900 3500 \nL 3475 3500 \nL 3475 0 \nL 2900 0 \nL 2900 538 \nQ 2691 219 2414 64 \nQ 2138 -91 1772 -91 \nQ 1169 -91 856 284 \nQ 544 659 544 1381 \nz\nM 1991 3584 \nL 1991 3584 \nz\n\" transform=\"scale(0.015625)\"/>\n       <path id=\"DejaVuSans-74\" d=\"M 1172 4494 \nL 1172 3500 \nL 2356 3500 \nL 2356 3053 \nL 1172 3053 \nL 1172 1153 \nQ 1172 725 1289 603 \nQ 1406 481 1766 481 \nL 2356 481 \nL 2356 0 \nL 1766 0 \nQ 1100 0 847 248 \nQ 594 497 594 1153 \nL 594 3053 \nL 172 3053 \nL 172 3500 \nL 594 3500 \nL 594 4494 \nL 1172 4494 \nz\n\" transform=\"scale(0.015625)\"/>\n       <path id=\"DejaVuSans-70\" d=\"M 1159 525 \nL 1159 -1331 \nL 581 -1331 \nL 581 3500 \nL 1159 3500 \nL 1159 2969 \nQ 1341 3281 1617 3432 \nQ 1894 3584 2278 3584 \nQ 2916 3584 3314 3078 \nQ 3713 2572 3713 1747 \nQ 3713 922 3314 415 \nQ 2916 -91 2278 -91 \nQ 1894 -91 1617 61 \nQ 1341 213 1159 525 \nz\nM 3116 1747 \nQ 3116 2381 2855 2742 \nQ 2594 3103 2138 3103 \nQ 1681 3103 1420 2742 \nQ 1159 2381 1159 1747 \nQ 1159 1113 1420 752 \nQ 1681 391 2138 391 \nQ 2594 391 2855 752 \nQ 3116 1113 3116 1747 \nz\n\" transform=\"scale(0.015625)\"/>\n       <path id=\"DejaVuSans-72\" d=\"M 2631 2963 \nQ 2534 3019 2420 3045 \nQ 2306 3072 2169 3072 \nQ 1681 3072 1420 2755 \nQ 1159 2438 1159 1844 \nL 1159 0 \nL 581 0 \nL 581 3500 \nL 1159 3500 \nL 1159 2956 \nQ 1341 3275 1631 3429 \nQ 1922 3584 2338 3584 \nQ 2397 3584 2469 3576 \nQ 2541 3569 2628 3553 \nL 2631 2963 \nz\n\" transform=\"scale(0.015625)\"/>\n       <path id=\"DejaVuSans-76\" d=\"M 191 3500 \nL 800 3500 \nL 1894 563 \nL 2988 3500 \nL 3597 3500 \nL 2284 0 \nL 1503 0 \nL 191 3500 \nz\n\" transform=\"scale(0.015625)\"/>\n       <path id=\"DejaVuSans-69\" d=\"M 603 3500 \nL 1178 3500 \nL 1178 0 \nL 603 0 \nL 603 3500 \nz\nM 603 4863 \nL 1178 4863 \nL 1178 4134 \nL 603 4134 \nL 603 4863 \nz\n\" transform=\"scale(0.015625)\"/>\n       <path id=\"DejaVuSans-77\" d=\"M 269 3500 \nL 844 3500 \nL 1563 769 \nL 2278 3500 \nL 2956 3500 \nL 3675 769 \nL 4391 3500 \nL 4966 3500 \nL 4050 0 \nL 3372 0 \nL 2619 2869 \nL 1863 0 \nL 1184 0 \nL 269 3500 \nz\n\" transform=\"scale(0.015625)\"/>\n      </defs>\n      <use xlink:href=\"#DejaVuSans-54\"/>\n      <use xlink:href=\"#DejaVuSans-6f\" transform=\"translate(44.083984 0)\"/>\n      <use xlink:href=\"#DejaVuSans-6b\" transform=\"translate(105.265625 0)\"/>\n      <use xlink:href=\"#DejaVuSans-65\" transform=\"translate(159.550781 0)\"/>\n      <use xlink:href=\"#DejaVuSans-6e\" transform=\"translate(221.074219 0)\"/>\n      <use xlink:href=\"#DejaVuSans-20\" transform=\"translate(284.453125 0)\"/>\n      <use xlink:href=\"#DejaVuSans-63\" transform=\"translate(316.240234 0)\"/>\n      <use xlink:href=\"#DejaVuSans-6f\" transform=\"translate(371.220703 0)\"/>\n      <use xlink:href=\"#DejaVuSans-75\" transform=\"translate(432.402344 0)\"/>\n      <use xlink:href=\"#DejaVuSans-6e\" transform=\"translate(495.78125 0)\"/>\n      <use xlink:href=\"#DejaVuSans-74\" transform=\"translate(559.160156 0)\"/>\n      <use xlink:href=\"#DejaVuSans-20\" transform=\"translate(598.369141 0)\"/>\n      <use xlink:href=\"#DejaVuSans-70\" transform=\"translate(630.15625 0)\"/>\n      <use xlink:href=\"#DejaVuSans-65\" transform=\"translate(693.632812 0)\"/>\n      <use xlink:href=\"#DejaVuSans-72\" transform=\"translate(755.15625 0)\"/>\n      <use xlink:href=\"#DejaVuSans-20\" transform=\"translate(796.269531 0)\"/>\n      <use xlink:href=\"#DejaVuSans-72\" transform=\"translate(828.056641 0)\"/>\n      <use xlink:href=\"#DejaVuSans-65\" transform=\"translate(866.919922 0)\"/>\n      <use xlink:href=\"#DejaVuSans-76\" transform=\"translate(928.443359 0)\"/>\n      <use xlink:href=\"#DejaVuSans-69\" transform=\"translate(987.623047 0)\"/>\n      <use xlink:href=\"#DejaVuSans-65\" transform=\"translate(1015.40625 0)\"/>\n      <use xlink:href=\"#DejaVuSans-77\" transform=\"translate(1076.929688 0)\"/>\n     </g>\n    </g>\n   </g>\n   <g id=\"matplotlib.axis_2\">\n    <g id=\"ytick_1\">\n     <g id=\"line2d_8\">\n      <defs>\n       <path id=\"m9d76df0c2c\" d=\"M 0 0 \nL -3.5 0 \n\" style=\"stroke: #000000; stroke-width: 0.8\"/>\n      </defs>\n      <g>\n       <use xlink:href=\"#m9d76df0c2c\" x=\"59.690625\" y=\"299.518125\" style=\"stroke: #000000; stroke-width: 0.8\"/>\n      </g>\n     </g>\n     <g id=\"text_9\">\n      <!-- 0 -->\n      <g transform=\"translate(46.328125 303.317344) scale(0.1 -0.1)\">\n       <use xlink:href=\"#DejaVuSans-30\"/>\n      </g>\n     </g>\n    </g>\n    <g id=\"ytick_2\">\n     <g id=\"line2d_9\">\n      <g>\n       <use xlink:href=\"#m9d76df0c2c\" x=\"59.690625\" y=\"264.04379\" style=\"stroke: #000000; stroke-width: 0.8\"/>\n      </g>\n     </g>\n     <g id=\"text_10\">\n      <!-- 2500 -->\n      <g transform=\"translate(27.240625 267.843009) scale(0.1 -0.1)\">\n       <use xlink:href=\"#DejaVuSans-32\"/>\n       <use xlink:href=\"#DejaVuSans-35\" transform=\"translate(63.623047 0)\"/>\n       <use xlink:href=\"#DejaVuSans-30\" transform=\"translate(127.246094 0)\"/>\n       <use xlink:href=\"#DejaVuSans-30\" transform=\"translate(190.869141 0)\"/>\n      </g>\n     </g>\n    </g>\n    <g id=\"ytick_3\">\n     <g id=\"line2d_10\">\n      <g>\n       <use xlink:href=\"#m9d76df0c2c\" x=\"59.690625\" y=\"228.569455\" style=\"stroke: #000000; stroke-width: 0.8\"/>\n      </g>\n     </g>\n     <g id=\"text_11\">\n      <!-- 5000 -->\n      <g transform=\"translate(27.240625 232.368674) scale(0.1 -0.1)\">\n       <use xlink:href=\"#DejaVuSans-35\"/>\n       <use xlink:href=\"#DejaVuSans-30\" transform=\"translate(63.623047 0)\"/>\n       <use xlink:href=\"#DejaVuSans-30\" transform=\"translate(127.246094 0)\"/>\n       <use xlink:href=\"#DejaVuSans-30\" transform=\"translate(190.869141 0)\"/>\n      </g>\n     </g>\n    </g>\n    <g id=\"ytick_4\">\n     <g id=\"line2d_11\">\n      <g>\n       <use xlink:href=\"#m9d76df0c2c\" x=\"59.690625\" y=\"193.09512\" style=\"stroke: #000000; stroke-width: 0.8\"/>\n      </g>\n     </g>\n     <g id=\"text_12\">\n      <!-- 7500 -->\n      <g transform=\"translate(27.240625 196.894339) scale(0.1 -0.1)\">\n       <defs>\n        <path id=\"DejaVuSans-37\" d=\"M 525 4666 \nL 3525 4666 \nL 3525 4397 \nL 1831 0 \nL 1172 0 \nL 2766 4134 \nL 525 4134 \nL 525 4666 \nz\n\" transform=\"scale(0.015625)\"/>\n       </defs>\n       <use xlink:href=\"#DejaVuSans-37\"/>\n       <use xlink:href=\"#DejaVuSans-35\" transform=\"translate(63.623047 0)\"/>\n       <use xlink:href=\"#DejaVuSans-30\" transform=\"translate(127.246094 0)\"/>\n       <use xlink:href=\"#DejaVuSans-30\" transform=\"translate(190.869141 0)\"/>\n      </g>\n     </g>\n    </g>\n    <g id=\"ytick_5\">\n     <g id=\"line2d_12\">\n      <g>\n       <use xlink:href=\"#m9d76df0c2c\" x=\"59.690625\" y=\"157.620786\" style=\"stroke: #000000; stroke-width: 0.8\"/>\n      </g>\n     </g>\n     <g id=\"text_13\">\n      <!-- 10000 -->\n      <g transform=\"translate(20.878125 161.420004) scale(0.1 -0.1)\">\n       <use xlink:href=\"#DejaVuSans-31\"/>\n       <use xlink:href=\"#DejaVuSans-30\" transform=\"translate(63.623047 0)\"/>\n       <use xlink:href=\"#DejaVuSans-30\" transform=\"translate(127.246094 0)\"/>\n       <use xlink:href=\"#DejaVuSans-30\" transform=\"translate(190.869141 0)\"/>\n       <use xlink:href=\"#DejaVuSans-30\" transform=\"translate(254.492188 0)\"/>\n      </g>\n     </g>\n    </g>\n    <g id=\"ytick_6\">\n     <g id=\"line2d_13\">\n      <g>\n       <use xlink:href=\"#m9d76df0c2c\" x=\"59.690625\" y=\"122.146451\" style=\"stroke: #000000; stroke-width: 0.8\"/>\n      </g>\n     </g>\n     <g id=\"text_14\">\n      <!-- 12500 -->\n      <g transform=\"translate(20.878125 125.945669) scale(0.1 -0.1)\">\n       <use xlink:href=\"#DejaVuSans-31\"/>\n       <use xlink:href=\"#DejaVuSans-32\" transform=\"translate(63.623047 0)\"/>\n       <use xlink:href=\"#DejaVuSans-35\" transform=\"translate(127.246094 0)\"/>\n       <use xlink:href=\"#DejaVuSans-30\" transform=\"translate(190.869141 0)\"/>\n       <use xlink:href=\"#DejaVuSans-30\" transform=\"translate(254.492188 0)\"/>\n      </g>\n     </g>\n    </g>\n    <g id=\"ytick_7\">\n     <g id=\"line2d_14\">\n      <g>\n       <use xlink:href=\"#m9d76df0c2c\" x=\"59.690625\" y=\"86.672116\" style=\"stroke: #000000; stroke-width: 0.8\"/>\n      </g>\n     </g>\n     <g id=\"text_15\">\n      <!-- 15000 -->\n      <g transform=\"translate(20.878125 90.471335) scale(0.1 -0.1)\">\n       <use xlink:href=\"#DejaVuSans-31\"/>\n       <use xlink:href=\"#DejaVuSans-35\" transform=\"translate(63.623047 0)\"/>\n       <use xlink:href=\"#DejaVuSans-30\" transform=\"translate(127.246094 0)\"/>\n       <use xlink:href=\"#DejaVuSans-30\" transform=\"translate(190.869141 0)\"/>\n       <use xlink:href=\"#DejaVuSans-30\" transform=\"translate(254.492188 0)\"/>\n      </g>\n     </g>\n    </g>\n    <g id=\"ytick_8\">\n     <g id=\"line2d_15\">\n      <g>\n       <use xlink:href=\"#m9d76df0c2c\" x=\"59.690625\" y=\"51.197781\" style=\"stroke: #000000; stroke-width: 0.8\"/>\n      </g>\n     </g>\n     <g id=\"text_16\">\n      <!-- 17500 -->\n      <g transform=\"translate(20.878125 54.997) scale(0.1 -0.1)\">\n       <use xlink:href=\"#DejaVuSans-31\"/>\n       <use xlink:href=\"#DejaVuSans-37\" transform=\"translate(63.623047 0)\"/>\n       <use xlink:href=\"#DejaVuSans-35\" transform=\"translate(127.246094 0)\"/>\n       <use xlink:href=\"#DejaVuSans-30\" transform=\"translate(190.869141 0)\"/>\n       <use xlink:href=\"#DejaVuSans-30\" transform=\"translate(254.492188 0)\"/>\n      </g>\n     </g>\n    </g>\n    <g id=\"text_17\">\n     <!-- Number of reviews -->\n     <g transform=\"translate(14.798438 208.14) rotate(-90) scale(0.1 -0.1)\">\n      <defs>\n       <path id=\"DejaVuSans-4e\" d=\"M 628 4666 \nL 1478 4666 \nL 3547 763 \nL 3547 4666 \nL 4159 4666 \nL 4159 0 \nL 3309 0 \nL 1241 3903 \nL 1241 0 \nL 628 0 \nL 628 4666 \nz\n\" transform=\"scale(0.015625)\"/>\n       <path id=\"DejaVuSans-6d\" d=\"M 3328 2828 \nQ 3544 3216 3844 3400 \nQ 4144 3584 4550 3584 \nQ 5097 3584 5394 3201 \nQ 5691 2819 5691 2113 \nL 5691 0 \nL 5113 0 \nL 5113 2094 \nQ 5113 2597 4934 2840 \nQ 4756 3084 4391 3084 \nQ 3944 3084 3684 2787 \nQ 3425 2491 3425 1978 \nL 3425 0 \nL 2847 0 \nL 2847 2094 \nQ 2847 2600 2669 2842 \nQ 2491 3084 2119 3084 \nQ 1678 3084 1418 2786 \nQ 1159 2488 1159 1978 \nL 1159 0 \nL 581 0 \nL 581 3500 \nL 1159 3500 \nL 1159 2956 \nQ 1356 3278 1631 3431 \nQ 1906 3584 2284 3584 \nQ 2666 3584 2933 3390 \nQ 3200 3197 3328 2828 \nz\n\" transform=\"scale(0.015625)\"/>\n       <path id=\"DejaVuSans-62\" d=\"M 3116 1747 \nQ 3116 2381 2855 2742 \nQ 2594 3103 2138 3103 \nQ 1681 3103 1420 2742 \nQ 1159 2381 1159 1747 \nQ 1159 1113 1420 752 \nQ 1681 391 2138 391 \nQ 2594 391 2855 752 \nQ 3116 1113 3116 1747 \nz\nM 1159 2969 \nQ 1341 3281 1617 3432 \nQ 1894 3584 2278 3584 \nQ 2916 3584 3314 3078 \nQ 3713 2572 3713 1747 \nQ 3713 922 3314 415 \nQ 2916 -91 2278 -91 \nQ 1894 -91 1617 61 \nQ 1341 213 1159 525 \nL 1159 0 \nL 581 0 \nL 581 4863 \nL 1159 4863 \nL 1159 2969 \nz\n\" transform=\"scale(0.015625)\"/>\n       <path id=\"DejaVuSans-66\" d=\"M 2375 4863 \nL 2375 4384 \nL 1825 4384 \nQ 1516 4384 1395 4259 \nQ 1275 4134 1275 3809 \nL 1275 3500 \nL 2222 3500 \nL 2222 3053 \nL 1275 3053 \nL 1275 0 \nL 697 0 \nL 697 3053 \nL 147 3053 \nL 147 3500 \nL 697 3500 \nL 697 3744 \nQ 697 4328 969 4595 \nQ 1241 4863 1831 4863 \nL 2375 4863 \nz\n\" transform=\"scale(0.015625)\"/>\n       <path id=\"DejaVuSans-73\" d=\"M 2834 3397 \nL 2834 2853 \nQ 2591 2978 2328 3040 \nQ 2066 3103 1784 3103 \nQ 1356 3103 1142 2972 \nQ 928 2841 928 2578 \nQ 928 2378 1081 2264 \nQ 1234 2150 1697 2047 \nL 1894 2003 \nQ 2506 1872 2764 1633 \nQ 3022 1394 3022 966 \nQ 3022 478 2636 193 \nQ 2250 -91 1575 -91 \nQ 1294 -91 989 -36 \nQ 684 19 347 128 \nL 347 722 \nQ 666 556 975 473 \nQ 1284 391 1588 391 \nQ 1994 391 2212 530 \nQ 2431 669 2431 922 \nQ 2431 1156 2273 1281 \nQ 2116 1406 1581 1522 \nL 1381 1569 \nQ 847 1681 609 1914 \nQ 372 2147 372 2553 \nQ 372 3047 722 3315 \nQ 1072 3584 1716 3584 \nQ 2034 3584 2315 3537 \nQ 2597 3491 2834 3397 \nz\n\" transform=\"scale(0.015625)\"/>\n      </defs>\n      <use xlink:href=\"#DejaVuSans-4e\"/>\n      <use xlink:href=\"#DejaVuSans-75\" transform=\"translate(74.804688 0)\"/>\n      <use xlink:href=\"#DejaVuSans-6d\" transform=\"translate(138.183594 0)\"/>\n      <use xlink:href=\"#DejaVuSans-62\" transform=\"translate(235.595703 0)\"/>\n      <use xlink:href=\"#DejaVuSans-65\" transform=\"translate(299.072266 0)\"/>\n      <use xlink:href=\"#DejaVuSans-72\" transform=\"translate(360.595703 0)\"/>\n      <use xlink:href=\"#DejaVuSans-20\" transform=\"translate(401.708984 0)\"/>\n      <use xlink:href=\"#DejaVuSans-6f\" transform=\"translate(433.496094 0)\"/>\n      <use xlink:href=\"#DejaVuSans-66\" transform=\"translate(494.677734 0)\"/>\n      <use xlink:href=\"#DejaVuSans-20\" transform=\"translate(529.882812 0)\"/>\n      <use xlink:href=\"#DejaVuSans-72\" transform=\"translate(561.669922 0)\"/>\n      <use xlink:href=\"#DejaVuSans-65\" transform=\"translate(600.533203 0)\"/>\n      <use xlink:href=\"#DejaVuSans-76\" transform=\"translate(662.056641 0)\"/>\n      <use xlink:href=\"#DejaVuSans-69\" transform=\"translate(721.236328 0)\"/>\n      <use xlink:href=\"#DejaVuSans-65\" transform=\"translate(749.019531 0)\"/>\n      <use xlink:href=\"#DejaVuSans-77\" transform=\"translate(810.542969 0)\"/>\n      <use xlink:href=\"#DejaVuSans-73\" transform=\"translate(892.330078 0)\"/>\n     </g>\n    </g>\n   </g>\n   <g id=\"line2d_16\">\n    <path d=\"M 111.962122 299.518125 \nL 111.962122 22.318125 \n\" clip-path=\"url(#p938d70117b)\" style=\"fill: none; stroke-dasharray: 5.55,2.4; stroke-dashoffset: 0; stroke: #ff0000; stroke-width: 1.5\"/>\n   </g>\n   <g id=\"line2d_17\">\n    <path d=\"M 144.974341 299.518125 \nL 144.974341 22.318125 \n\" clip-path=\"url(#p938d70117b)\" style=\"fill: none; stroke-dasharray: 5.55,2.4; stroke-dashoffset: 0; stroke: #008000; stroke-width: 1.5\"/>\n   </g>\n   <g id=\"patch_33\">\n    <path d=\"M 59.690625 299.518125 \nL 59.690625 22.318125 \n\" style=\"fill: none; stroke: #000000; stroke-width: 0.8; stroke-linejoin: miter; stroke-linecap: square\"/>\n   </g>\n   <g id=\"patch_34\">\n    <path d=\"M 506.090625 299.518125 \nL 506.090625 22.318125 \n\" style=\"fill: none; stroke: #000000; stroke-width: 0.8; stroke-linejoin: miter; stroke-linecap: square\"/>\n   </g>\n   <g id=\"patch_35\">\n    <path d=\"M 59.690625 299.518125 \nL 506.090625 299.518125 \n\" style=\"fill: none; stroke: #000000; stroke-width: 0.8; stroke-linejoin: miter; stroke-linecap: square\"/>\n   </g>\n   <g id=\"patch_36\">\n    <path d=\"M 59.690625 22.318125 \nL 506.090625 22.318125 \n\" style=\"fill: none; stroke: #000000; stroke-width: 0.8; stroke-linejoin: miter; stroke-linecap: square\"/>\n   </g>\n   <g id=\"text_18\">\n    <!-- Distribution of review lengths (tokens) -->\n    <g transform=\"translate(167.804062 16.318125) scale(0.12 -0.12)\">\n     <defs>\n      <path id=\"DejaVuSans-44\" d=\"M 1259 4147 \nL 1259 519 \nL 2022 519 \nQ 2988 519 3436 956 \nQ 3884 1394 3884 2338 \nQ 3884 3275 3436 3711 \nQ 2988 4147 2022 4147 \nL 1259 4147 \nz\nM 628 4666 \nL 1925 4666 \nQ 3281 4666 3915 4102 \nQ 4550 3538 4550 2338 \nQ 4550 1131 3912 565 \nQ 3275 0 1925 0 \nL 628 0 \nL 628 4666 \nz\n\" transform=\"scale(0.015625)\"/>\n      <path id=\"DejaVuSans-6c\" d=\"M 603 4863 \nL 1178 4863 \nL 1178 0 \nL 603 0 \nL 603 4863 \nz\n\" transform=\"scale(0.015625)\"/>\n      <path id=\"DejaVuSans-67\" d=\"M 2906 1791 \nQ 2906 2416 2648 2759 \nQ 2391 3103 1925 3103 \nQ 1463 3103 1205 2759 \nQ 947 2416 947 1791 \nQ 947 1169 1205 825 \nQ 1463 481 1925 481 \nQ 2391 481 2648 825 \nQ 2906 1169 2906 1791 \nz\nM 3481 434 \nQ 3481 -459 3084 -895 \nQ 2688 -1331 1869 -1331 \nQ 1566 -1331 1297 -1286 \nQ 1028 -1241 775 -1147 \nL 775 -588 \nQ 1028 -725 1275 -790 \nQ 1522 -856 1778 -856 \nQ 2344 -856 2625 -561 \nQ 2906 -266 2906 331 \nL 2906 616 \nQ 2728 306 2450 153 \nQ 2172 0 1784 0 \nQ 1141 0 747 490 \nQ 353 981 353 1791 \nQ 353 2603 747 3093 \nQ 1141 3584 1784 3584 \nQ 2172 3584 2450 3431 \nQ 2728 3278 2906 2969 \nL 2906 3500 \nL 3481 3500 \nL 3481 434 \nz\n\" transform=\"scale(0.015625)\"/>\n      <path id=\"DejaVuSans-68\" d=\"M 3513 2113 \nL 3513 0 \nL 2938 0 \nL 2938 2094 \nQ 2938 2591 2744 2837 \nQ 2550 3084 2163 3084 \nQ 1697 3084 1428 2787 \nQ 1159 2491 1159 1978 \nL 1159 0 \nL 581 0 \nL 581 4863 \nL 1159 4863 \nL 1159 2956 \nQ 1366 3272 1645 3428 \nQ 1925 3584 2291 3584 \nQ 2894 3584 3203 3211 \nQ 3513 2838 3513 2113 \nz\n\" transform=\"scale(0.015625)\"/>\n      <path id=\"DejaVuSans-28\" d=\"M 1984 4856 \nQ 1566 4138 1362 3434 \nQ 1159 2731 1159 2009 \nQ 1159 1288 1364 580 \nQ 1569 -128 1984 -844 \nL 1484 -844 \nQ 1016 -109 783 600 \nQ 550 1309 550 2009 \nQ 550 2706 781 3412 \nQ 1013 4119 1484 4856 \nL 1984 4856 \nz\n\" transform=\"scale(0.015625)\"/>\n      <path id=\"DejaVuSans-29\" d=\"M 513 4856 \nL 1013 4856 \nQ 1481 4119 1714 3412 \nQ 1947 2706 1947 2009 \nQ 1947 1309 1714 600 \nQ 1481 -109 1013 -844 \nL 513 -844 \nQ 928 -128 1133 580 \nQ 1338 1288 1338 2009 \nQ 1338 2731 1133 3434 \nQ 928 4138 513 4856 \nz\n\" transform=\"scale(0.015625)\"/>\n     </defs>\n     <use xlink:href=\"#DejaVuSans-44\"/>\n     <use xlink:href=\"#DejaVuSans-69\" transform=\"translate(77.001953 0)\"/>\n     <use xlink:href=\"#DejaVuSans-73\" transform=\"translate(104.785156 0)\"/>\n     <use xlink:href=\"#DejaVuSans-74\" transform=\"translate(156.884766 0)\"/>\n     <use xlink:href=\"#DejaVuSans-72\" transform=\"translate(196.09375 0)\"/>\n     <use xlink:href=\"#DejaVuSans-69\" transform=\"translate(237.207031 0)\"/>\n     <use xlink:href=\"#DejaVuSans-62\" transform=\"translate(264.990234 0)\"/>\n     <use xlink:href=\"#DejaVuSans-75\" transform=\"translate(328.466797 0)\"/>\n     <use xlink:href=\"#DejaVuSans-74\" transform=\"translate(391.845703 0)\"/>\n     <use xlink:href=\"#DejaVuSans-69\" transform=\"translate(431.054688 0)\"/>\n     <use xlink:href=\"#DejaVuSans-6f\" transform=\"translate(458.837891 0)\"/>\n     <use xlink:href=\"#DejaVuSans-6e\" transform=\"translate(520.019531 0)\"/>\n     <use xlink:href=\"#DejaVuSans-20\" transform=\"translate(583.398438 0)\"/>\n     <use xlink:href=\"#DejaVuSans-6f\" transform=\"translate(615.185547 0)\"/>\n     <use xlink:href=\"#DejaVuSans-66\" transform=\"translate(676.367188 0)\"/>\n     <use xlink:href=\"#DejaVuSans-20\" transform=\"translate(711.572266 0)\"/>\n     <use xlink:href=\"#DejaVuSans-72\" transform=\"translate(743.359375 0)\"/>\n     <use xlink:href=\"#DejaVuSans-65\" transform=\"translate(782.222656 0)\"/>\n     <use xlink:href=\"#DejaVuSans-76\" transform=\"translate(843.746094 0)\"/>\n     <use xlink:href=\"#DejaVuSans-69\" transform=\"translate(902.925781 0)\"/>\n     <use xlink:href=\"#DejaVuSans-65\" transform=\"translate(930.708984 0)\"/>\n     <use xlink:href=\"#DejaVuSans-77\" transform=\"translate(992.232422 0)\"/>\n     <use xlink:href=\"#DejaVuSans-20\" transform=\"translate(1074.019531 0)\"/>\n     <use xlink:href=\"#DejaVuSans-6c\" transform=\"translate(1105.806641 0)\"/>\n     <use xlink:href=\"#DejaVuSans-65\" transform=\"translate(1133.589844 0)\"/>\n     <use xlink:href=\"#DejaVuSans-6e\" transform=\"translate(1195.113281 0)\"/>\n     <use xlink:href=\"#DejaVuSans-67\" transform=\"translate(1258.492188 0)\"/>\n     <use xlink:href=\"#DejaVuSans-74\" transform=\"translate(1321.96875 0)\"/>\n     <use xlink:href=\"#DejaVuSans-68\" transform=\"translate(1361.177734 0)\"/>\n     <use xlink:href=\"#DejaVuSans-73\" transform=\"translate(1424.556641 0)\"/>\n     <use xlink:href=\"#DejaVuSans-20\" transform=\"translate(1476.65625 0)\"/>\n     <use xlink:href=\"#DejaVuSans-28\" transform=\"translate(1508.443359 0)\"/>\n     <use xlink:href=\"#DejaVuSans-74\" transform=\"translate(1547.457031 0)\"/>\n     <use xlink:href=\"#DejaVuSans-6f\" transform=\"translate(1586.666016 0)\"/>\n     <use xlink:href=\"#DejaVuSans-6b\" transform=\"translate(1647.847656 0)\"/>\n     <use xlink:href=\"#DejaVuSans-65\" transform=\"translate(1702.132812 0)\"/>\n     <use xlink:href=\"#DejaVuSans-6e\" transform=\"translate(1763.65625 0)\"/>\n     <use xlink:href=\"#DejaVuSans-73\" transform=\"translate(1827.035156 0)\"/>\n     <use xlink:href=\"#DejaVuSans-29\" transform=\"translate(1879.134766 0)\"/>\n    </g>\n   </g>\n   <g id=\"legend_1\">\n    <g id=\"patch_37\">\n     <path d=\"M 346.976562 59.674375 \nL 499.090625 59.674375 \nQ 501.090625 59.674375 501.090625 57.674375 \nL 501.090625 29.318125 \nQ 501.090625 27.318125 499.090625 27.318125 \nL 346.976562 27.318125 \nQ 344.976562 27.318125 344.976562 29.318125 \nL 344.976562 57.674375 \nQ 344.976562 59.674375 346.976562 59.674375 \nz\n\" style=\"fill: #ffffff; opacity: 0.8; stroke: #cccccc; stroke-linejoin: miter\"/>\n    </g>\n    <g id=\"line2d_18\">\n     <path d=\"M 348.976562 35.416562 \nL 358.976562 35.416562 \nL 368.976562 35.416562 \n\" style=\"fill: none; stroke-dasharray: 5.55,2.4; stroke-dashoffset: 0; stroke: #ff0000; stroke-width: 1.5\"/>\n    </g>\n    <g id=\"text_19\">\n     <!-- Truncation limit (256) -->\n     <g transform=\"translate(376.976562 38.916562) scale(0.1 -0.1)\">\n      <defs>\n       <path id=\"DejaVuSans-61\" d=\"M 2194 1759 \nQ 1497 1759 1228 1600 \nQ 959 1441 959 1056 \nQ 959 750 1161 570 \nQ 1363 391 1709 391 \nQ 2188 391 2477 730 \nQ 2766 1069 2766 1631 \nL 2766 1759 \nL 2194 1759 \nz\nM 3341 1997 \nL 3341 0 \nL 2766 0 \nL 2766 531 \nQ 2569 213 2275 61 \nQ 1981 -91 1556 -91 \nQ 1019 -91 701 211 \nQ 384 513 384 1019 \nQ 384 1609 779 1909 \nQ 1175 2209 1959 2209 \nL 2766 2209 \nL 2766 2266 \nQ 2766 2663 2505 2880 \nQ 2244 3097 1772 3097 \nQ 1472 3097 1187 3025 \nQ 903 2953 641 2809 \nL 641 3341 \nQ 956 3463 1253 3523 \nQ 1550 3584 1831 3584 \nQ 2591 3584 2966 3190 \nQ 3341 2797 3341 1997 \nz\n\" transform=\"scale(0.015625)\"/>\n       <path id=\"DejaVuSans-36\" d=\"M 2113 2584 \nQ 1688 2584 1439 2293 \nQ 1191 2003 1191 1497 \nQ 1191 994 1439 701 \nQ 1688 409 2113 409 \nQ 2538 409 2786 701 \nQ 3034 994 3034 1497 \nQ 3034 2003 2786 2293 \nQ 2538 2584 2113 2584 \nz\nM 3366 4563 \nL 3366 3988 \nQ 3128 4100 2886 4159 \nQ 2644 4219 2406 4219 \nQ 1781 4219 1451 3797 \nQ 1122 3375 1075 2522 \nQ 1259 2794 1537 2939 \nQ 1816 3084 2150 3084 \nQ 2853 3084 3261 2657 \nQ 3669 2231 3669 1497 \nQ 3669 778 3244 343 \nQ 2819 -91 2113 -91 \nQ 1303 -91 875 529 \nQ 447 1150 447 2328 \nQ 447 3434 972 4092 \nQ 1497 4750 2381 4750 \nQ 2619 4750 2861 4703 \nQ 3103 4656 3366 4563 \nz\n\" transform=\"scale(0.015625)\"/>\n      </defs>\n      <use xlink:href=\"#DejaVuSans-54\"/>\n      <use xlink:href=\"#DejaVuSans-72\" transform=\"translate(46.333984 0)\"/>\n      <use xlink:href=\"#DejaVuSans-75\" transform=\"translate(87.447266 0)\"/>\n      <use xlink:href=\"#DejaVuSans-6e\" transform=\"translate(150.826172 0)\"/>\n      <use xlink:href=\"#DejaVuSans-63\" transform=\"translate(214.205078 0)\"/>\n      <use xlink:href=\"#DejaVuSans-61\" transform=\"translate(269.185547 0)\"/>\n      <use xlink:href=\"#DejaVuSans-74\" transform=\"translate(330.464844 0)\"/>\n      <use xlink:href=\"#DejaVuSans-69\" transform=\"translate(369.673828 0)\"/>\n      <use xlink:href=\"#DejaVuSans-6f\" transform=\"translate(397.457031 0)\"/>\n      <use xlink:href=\"#DejaVuSans-6e\" transform=\"translate(458.638672 0)\"/>\n      <use xlink:href=\"#DejaVuSans-20\" transform=\"translate(522.017578 0)\"/>\n      <use xlink:href=\"#DejaVuSans-6c\" transform=\"translate(553.804688 0)\"/>\n      <use xlink:href=\"#DejaVuSans-69\" transform=\"translate(581.587891 0)\"/>\n      <use xlink:href=\"#DejaVuSans-6d\" transform=\"translate(609.371094 0)\"/>\n      <use xlink:href=\"#DejaVuSans-69\" transform=\"translate(706.783203 0)\"/>\n      <use xlink:href=\"#DejaVuSans-74\" transform=\"translate(734.566406 0)\"/>\n      <use xlink:href=\"#DejaVuSans-20\" transform=\"translate(773.775391 0)\"/>\n      <use xlink:href=\"#DejaVuSans-28\" transform=\"translate(805.5625 0)\"/>\n      <use xlink:href=\"#DejaVuSans-32\" transform=\"translate(844.576172 0)\"/>\n      <use xlink:href=\"#DejaVuSans-35\" transform=\"translate(908.199219 0)\"/>\n      <use xlink:href=\"#DejaVuSans-36\" transform=\"translate(971.822266 0)\"/>\n      <use xlink:href=\"#DejaVuSans-29\" transform=\"translate(1035.445312 0)\"/>\n     </g>\n    </g>\n    <g id=\"line2d_19\">\n     <path d=\"M 348.976562 50.094688 \nL 358.976562 50.094688 \nL 368.976562 50.094688 \n\" style=\"fill: none; stroke-dasharray: 5.55,2.4; stroke-dashoffset: 0; stroke: #008000; stroke-width: 1.5\"/>\n    </g>\n    <g id=\"text_20\">\n     <!-- Model max length (512) -->\n     <g transform=\"translate(376.976562 53.594688) scale(0.1 -0.1)\">\n      <defs>\n       <path id=\"DejaVuSans-4d\" d=\"M 628 4666 \nL 1569 4666 \nL 2759 1491 \nL 3956 4666 \nL 4897 4666 \nL 4897 0 \nL 4281 0 \nL 4281 4097 \nL 3078 897 \nL 2444 897 \nL 1241 4097 \nL 1241 0 \nL 628 0 \nL 628 4666 \nz\n\" transform=\"scale(0.015625)\"/>\n       <path id=\"DejaVuSans-64\" d=\"M 2906 2969 \nL 2906 4863 \nL 3481 4863 \nL 3481 0 \nL 2906 0 \nL 2906 525 \nQ 2725 213 2448 61 \nQ 2172 -91 1784 -91 \nQ 1150 -91 751 415 \nQ 353 922 353 1747 \nQ 353 2572 751 3078 \nQ 1150 3584 1784 3584 \nQ 2172 3584 2448 3432 \nQ 2725 3281 2906 2969 \nz\nM 947 1747 \nQ 947 1113 1208 752 \nQ 1469 391 1925 391 \nQ 2381 391 2643 752 \nQ 2906 1113 2906 1747 \nQ 2906 2381 2643 2742 \nQ 2381 3103 1925 3103 \nQ 1469 3103 1208 2742 \nQ 947 2381 947 1747 \nz\n\" transform=\"scale(0.015625)\"/>\n       <path id=\"DejaVuSans-78\" d=\"M 3513 3500 \nL 2247 1797 \nL 3578 0 \nL 2900 0 \nL 1881 1375 \nL 863 0 \nL 184 0 \nL 1544 1831 \nL 300 3500 \nL 978 3500 \nL 1906 2253 \nL 2834 3500 \nL 3513 3500 \nz\n\" transform=\"scale(0.015625)\"/>\n      </defs>\n      <use xlink:href=\"#DejaVuSans-4d\"/>\n      <use xlink:href=\"#DejaVuSans-6f\" transform=\"translate(86.279297 0)\"/>\n      <use xlink:href=\"#DejaVuSans-64\" transform=\"translate(147.460938 0)\"/>\n      <use xlink:href=\"#DejaVuSans-65\" transform=\"translate(210.9375 0)\"/>\n      <use xlink:href=\"#DejaVuSans-6c\" transform=\"translate(272.460938 0)\"/>\n      <use xlink:href=\"#DejaVuSans-20\" transform=\"translate(300.244141 0)\"/>\n      <use xlink:href=\"#DejaVuSans-6d\" transform=\"translate(332.03125 0)\"/>\n      <use xlink:href=\"#DejaVuSans-61\" transform=\"translate(429.443359 0)\"/>\n      <use xlink:href=\"#DejaVuSans-78\" transform=\"translate(490.722656 0)\"/>\n      <use xlink:href=\"#DejaVuSans-20\" transform=\"translate(549.902344 0)\"/>\n      <use xlink:href=\"#DejaVuSans-6c\" transform=\"translate(581.689453 0)\"/>\n      <use xlink:href=\"#DejaVuSans-65\" transform=\"translate(609.472656 0)\"/>\n      <use xlink:href=\"#DejaVuSans-6e\" transform=\"translate(670.996094 0)\"/>\n      <use xlink:href=\"#DejaVuSans-67\" transform=\"translate(734.375 0)\"/>\n      <use xlink:href=\"#DejaVuSans-74\" transform=\"translate(797.851562 0)\"/>\n      <use xlink:href=\"#DejaVuSans-68\" transform=\"translate(837.060547 0)\"/>\n      <use xlink:href=\"#DejaVuSans-20\" transform=\"translate(900.439453 0)\"/>\n      <use xlink:href=\"#DejaVuSans-28\" transform=\"translate(932.226562 0)\"/>\n      <use xlink:href=\"#DejaVuSans-35\" transform=\"translate(971.240234 0)\"/>\n      <use xlink:href=\"#DejaVuSans-31\" transform=\"translate(1034.863281 0)\"/>\n      <use xlink:href=\"#DejaVuSans-32\" transform=\"translate(1098.486328 0)\"/>\n      <use xlink:href=\"#DejaVuSans-29\" transform=\"translate(1162.109375 0)\"/>\n     </g>\n    </g>\n   </g>\n  </g>\n </g>\n <defs>\n  <clipPath id=\"p938d70117b\">\n   <rect x=\"59.690625\" y=\"22.318125\" width=\"446.4\" height=\"277.2\"/>\n  </clipPath>\n </defs>\n</svg>\n"
          },
          "metadata": {}
        },
        {
          "output_type": "display_data",
          "data": {
            "text/plain": [
              "<Figure size 600x400 with 1 Axes>"
            ],
            "image/svg+xml": "<?xml version=\"1.0\" encoding=\"utf-8\" standalone=\"no\"?>\n<!DOCTYPE svg PUBLIC \"-//W3C//DTD SVG 1.1//EN\"\n  \"http://www.w3.org/Graphics/SVG/1.1/DTD/svg11.dtd\">\n<svg xmlns:xlink=\"http://www.w3.org/1999/xlink\" width=\"401.690625pt\" height=\"281.634375pt\" viewBox=\"0 0 401.690625 281.634375\" xmlns=\"http://www.w3.org/2000/svg\" version=\"1.1\">\n <metadata>\n  <rdf:RDF xmlns:dc=\"http://purl.org/dc/elements/1.1/\" xmlns:cc=\"http://creativecommons.org/ns#\" xmlns:rdf=\"http://www.w3.org/1999/02/22-rdf-syntax-ns#\">\n   <cc:Work>\n    <dc:type rdf:resource=\"http://purl.org/dc/dcmitype/StillImage\"/>\n    <dc:date>2025-09-14T15:10:06.470282</dc:date>\n    <dc:format>image/svg+xml</dc:format>\n    <dc:creator>\n     <cc:Agent>\n      <dc:title>Matplotlib v3.10.0, https://matplotlib.org/</dc:title>\n     </cc:Agent>\n    </dc:creator>\n   </cc:Work>\n  </rdf:RDF>\n </metadata>\n <defs>\n  <style type=\"text/css\">*{stroke-linejoin: round; stroke-linecap: butt}</style>\n </defs>\n <g id=\"figure_1\">\n  <g id=\"patch_1\">\n   <path d=\"M 0 281.634375 \nL 401.690625 281.634375 \nL 401.690625 0 \nL 0 0 \nz\n\" style=\"fill: #ffffff\"/>\n  </g>\n  <g id=\"axes_1\">\n   <g id=\"patch_2\">\n    <path d=\"M 59.690625 244.078125 \nL 394.490625 244.078125 \nL 394.490625 22.318125 \nL 59.690625 22.318125 \nz\n\" style=\"fill: #ffffff\"/>\n   </g>\n   <g id=\"patch_3\">\n    <path d=\"M 101.540625 244.078125 \nL 185.240625 244.078125 \nL 185.240625 32.878125 \nL 101.540625 32.878125 \nz\n\" clip-path=\"url(#p05caddb19b)\" style=\"fill: #fa8072\"/>\n   </g>\n   <g id=\"patch_4\">\n    <path d=\"M 268.940625 244.078125 \nL 352.640625 244.078125 \nL 352.640625 32.878125 \nL 268.940625 32.878125 \nz\n\" clip-path=\"url(#p05caddb19b)\" style=\"fill: #87ceeb\"/>\n   </g>\n   <g id=\"matplotlib.axis_1\">\n    <g id=\"xtick_1\">\n     <g id=\"line2d_1\">\n      <defs>\n       <path id=\"m682f9b2f33\" d=\"M 0 0 \nL 0 3.5 \n\" style=\"stroke: #000000; stroke-width: 0.8\"/>\n      </defs>\n      <g>\n       <use xlink:href=\"#m682f9b2f33\" x=\"143.390625\" y=\"244.078125\" style=\"stroke: #000000; stroke-width: 0.8\"/>\n      </g>\n     </g>\n     <g id=\"text_1\">\n      <!-- 1 -->\n      <g transform=\"translate(140.209375 258.676562) scale(0.1 -0.1)\">\n       <defs>\n        <path id=\"DejaVuSans-31\" d=\"M 794 531 \nL 1825 531 \nL 1825 4091 \nL 703 3866 \nL 703 4441 \nL 1819 4666 \nL 2450 4666 \nL 2450 531 \nL 3481 531 \nL 3481 0 \nL 794 0 \nL 794 531 \nz\n\" transform=\"scale(0.015625)\"/>\n       </defs>\n       <use xlink:href=\"#DejaVuSans-31\"/>\n      </g>\n     </g>\n    </g>\n    <g id=\"xtick_2\">\n     <g id=\"line2d_2\">\n      <g>\n       <use xlink:href=\"#m682f9b2f33\" x=\"310.790625\" y=\"244.078125\" style=\"stroke: #000000; stroke-width: 0.8\"/>\n      </g>\n     </g>\n     <g id=\"text_2\">\n      <!-- 0 -->\n      <g transform=\"translate(307.609375 258.676562) scale(0.1 -0.1)\">\n       <defs>\n        <path id=\"DejaVuSans-30\" d=\"M 2034 4250 \nQ 1547 4250 1301 3770 \nQ 1056 3291 1056 2328 \nQ 1056 1369 1301 889 \nQ 1547 409 2034 409 \nQ 2525 409 2770 889 \nQ 3016 1369 3016 2328 \nQ 3016 3291 2770 3770 \nQ 2525 4250 2034 4250 \nz\nM 2034 4750 \nQ 2819 4750 3233 4129 \nQ 3647 3509 3647 2328 \nQ 3647 1150 3233 529 \nQ 2819 -91 2034 -91 \nQ 1250 -91 836 529 \nQ 422 1150 422 2328 \nQ 422 3509 836 4129 \nQ 1250 4750 2034 4750 \nz\n\" transform=\"scale(0.015625)\"/>\n       </defs>\n       <use xlink:href=\"#DejaVuSans-30\"/>\n      </g>\n     </g>\n    </g>\n    <g id=\"text_3\">\n     <!-- sentiment -->\n     <g transform=\"translate(201.815625 272.354687) scale(0.1 -0.1)\">\n      <defs>\n       <path id=\"DejaVuSans-73\" d=\"M 2834 3397 \nL 2834 2853 \nQ 2591 2978 2328 3040 \nQ 2066 3103 1784 3103 \nQ 1356 3103 1142 2972 \nQ 928 2841 928 2578 \nQ 928 2378 1081 2264 \nQ 1234 2150 1697 2047 \nL 1894 2003 \nQ 2506 1872 2764 1633 \nQ 3022 1394 3022 966 \nQ 3022 478 2636 193 \nQ 2250 -91 1575 -91 \nQ 1294 -91 989 -36 \nQ 684 19 347 128 \nL 347 722 \nQ 666 556 975 473 \nQ 1284 391 1588 391 \nQ 1994 391 2212 530 \nQ 2431 669 2431 922 \nQ 2431 1156 2273 1281 \nQ 2116 1406 1581 1522 \nL 1381 1569 \nQ 847 1681 609 1914 \nQ 372 2147 372 2553 \nQ 372 3047 722 3315 \nQ 1072 3584 1716 3584 \nQ 2034 3584 2315 3537 \nQ 2597 3491 2834 3397 \nz\n\" transform=\"scale(0.015625)\"/>\n       <path id=\"DejaVuSans-65\" d=\"M 3597 1894 \nL 3597 1613 \nL 953 1613 \nQ 991 1019 1311 708 \nQ 1631 397 2203 397 \nQ 2534 397 2845 478 \nQ 3156 559 3463 722 \nL 3463 178 \nQ 3153 47 2828 -22 \nQ 2503 -91 2169 -91 \nQ 1331 -91 842 396 \nQ 353 884 353 1716 \nQ 353 2575 817 3079 \nQ 1281 3584 2069 3584 \nQ 2775 3584 3186 3129 \nQ 3597 2675 3597 1894 \nz\nM 3022 2063 \nQ 3016 2534 2758 2815 \nQ 2500 3097 2075 3097 \nQ 1594 3097 1305 2825 \nQ 1016 2553 972 2059 \nL 3022 2063 \nz\n\" transform=\"scale(0.015625)\"/>\n       <path id=\"DejaVuSans-6e\" d=\"M 3513 2113 \nL 3513 0 \nL 2938 0 \nL 2938 2094 \nQ 2938 2591 2744 2837 \nQ 2550 3084 2163 3084 \nQ 1697 3084 1428 2787 \nQ 1159 2491 1159 1978 \nL 1159 0 \nL 581 0 \nL 581 3500 \nL 1159 3500 \nL 1159 2956 \nQ 1366 3272 1645 3428 \nQ 1925 3584 2291 3584 \nQ 2894 3584 3203 3211 \nQ 3513 2838 3513 2113 \nz\n\" transform=\"scale(0.015625)\"/>\n       <path id=\"DejaVuSans-74\" d=\"M 1172 4494 \nL 1172 3500 \nL 2356 3500 \nL 2356 3053 \nL 1172 3053 \nL 1172 1153 \nQ 1172 725 1289 603 \nQ 1406 481 1766 481 \nL 2356 481 \nL 2356 0 \nL 1766 0 \nQ 1100 0 847 248 \nQ 594 497 594 1153 \nL 594 3053 \nL 172 3053 \nL 172 3500 \nL 594 3500 \nL 594 4494 \nL 1172 4494 \nz\n\" transform=\"scale(0.015625)\"/>\n       <path id=\"DejaVuSans-69\" d=\"M 603 3500 \nL 1178 3500 \nL 1178 0 \nL 603 0 \nL 603 3500 \nz\nM 603 4863 \nL 1178 4863 \nL 1178 4134 \nL 603 4134 \nL 603 4863 \nz\n\" transform=\"scale(0.015625)\"/>\n       <path id=\"DejaVuSans-6d\" d=\"M 3328 2828 \nQ 3544 3216 3844 3400 \nQ 4144 3584 4550 3584 \nQ 5097 3584 5394 3201 \nQ 5691 2819 5691 2113 \nL 5691 0 \nL 5113 0 \nL 5113 2094 \nQ 5113 2597 4934 2840 \nQ 4756 3084 4391 3084 \nQ 3944 3084 3684 2787 \nQ 3425 2491 3425 1978 \nL 3425 0 \nL 2847 0 \nL 2847 2094 \nQ 2847 2600 2669 2842 \nQ 2491 3084 2119 3084 \nQ 1678 3084 1418 2786 \nQ 1159 2488 1159 1978 \nL 1159 0 \nL 581 0 \nL 581 3500 \nL 1159 3500 \nL 1159 2956 \nQ 1356 3278 1631 3431 \nQ 1906 3584 2284 3584 \nQ 2666 3584 2933 3390 \nQ 3200 3197 3328 2828 \nz\n\" transform=\"scale(0.015625)\"/>\n      </defs>\n      <use xlink:href=\"#DejaVuSans-73\"/>\n      <use xlink:href=\"#DejaVuSans-65\" transform=\"translate(52.099609 0)\"/>\n      <use xlink:href=\"#DejaVuSans-6e\" transform=\"translate(113.623047 0)\"/>\n      <use xlink:href=\"#DejaVuSans-74\" transform=\"translate(177.001953 0)\"/>\n      <use xlink:href=\"#DejaVuSans-69\" transform=\"translate(216.210938 0)\"/>\n      <use xlink:href=\"#DejaVuSans-6d\" transform=\"translate(243.994141 0)\"/>\n      <use xlink:href=\"#DejaVuSans-65\" transform=\"translate(341.40625 0)\"/>\n      <use xlink:href=\"#DejaVuSans-6e\" transform=\"translate(402.929688 0)\"/>\n      <use xlink:href=\"#DejaVuSans-74\" transform=\"translate(466.308594 0)\"/>\n     </g>\n    </g>\n   </g>\n   <g id=\"matplotlib.axis_2\">\n    <g id=\"ytick_1\">\n     <g id=\"line2d_3\">\n      <defs>\n       <path id=\"m94c5a93701\" d=\"M 0 0 \nL -3.5 0 \n\" style=\"stroke: #000000; stroke-width: 0.8\"/>\n      </defs>\n      <g>\n       <use xlink:href=\"#m94c5a93701\" x=\"59.690625\" y=\"244.078125\" style=\"stroke: #000000; stroke-width: 0.8\"/>\n      </g>\n     </g>\n     <g id=\"text_4\">\n      <!-- 0 -->\n      <g transform=\"translate(46.328125 247.877344) scale(0.1 -0.1)\">\n       <use xlink:href=\"#DejaVuSans-30\"/>\n      </g>\n     </g>\n    </g>\n    <g id=\"ytick_2\">\n     <g id=\"line2d_4\">\n      <g>\n       <use xlink:href=\"#m94c5a93701\" x=\"59.690625\" y=\"201.838125\" style=\"stroke: #000000; stroke-width: 0.8\"/>\n      </g>\n     </g>\n     <g id=\"text_5\">\n      <!-- 5000 -->\n      <g transform=\"translate(27.240625 205.637344) scale(0.1 -0.1)\">\n       <defs>\n        <path id=\"DejaVuSans-35\" d=\"M 691 4666 \nL 3169 4666 \nL 3169 4134 \nL 1269 4134 \nL 1269 2991 \nQ 1406 3038 1543 3061 \nQ 1681 3084 1819 3084 \nQ 2600 3084 3056 2656 \nQ 3513 2228 3513 1497 \nQ 3513 744 3044 326 \nQ 2575 -91 1722 -91 \nQ 1428 -91 1123 -41 \nQ 819 9 494 109 \nL 494 744 \nQ 775 591 1075 516 \nQ 1375 441 1709 441 \nQ 2250 441 2565 725 \nQ 2881 1009 2881 1497 \nQ 2881 1984 2565 2268 \nQ 2250 2553 1709 2553 \nQ 1456 2553 1204 2497 \nQ 953 2441 691 2322 \nL 691 4666 \nz\n\" transform=\"scale(0.015625)\"/>\n       </defs>\n       <use xlink:href=\"#DejaVuSans-35\"/>\n       <use xlink:href=\"#DejaVuSans-30\" transform=\"translate(63.623047 0)\"/>\n       <use xlink:href=\"#DejaVuSans-30\" transform=\"translate(127.246094 0)\"/>\n       <use xlink:href=\"#DejaVuSans-30\" transform=\"translate(190.869141 0)\"/>\n      </g>\n     </g>\n    </g>\n    <g id=\"ytick_3\">\n     <g id=\"line2d_5\">\n      <g>\n       <use xlink:href=\"#m94c5a93701\" x=\"59.690625\" y=\"159.598125\" style=\"stroke: #000000; stroke-width: 0.8\"/>\n      </g>\n     </g>\n     <g id=\"text_6\">\n      <!-- 10000 -->\n      <g transform=\"translate(20.878125 163.397344) scale(0.1 -0.1)\">\n       <use xlink:href=\"#DejaVuSans-31\"/>\n       <use xlink:href=\"#DejaVuSans-30\" transform=\"translate(63.623047 0)\"/>\n       <use xlink:href=\"#DejaVuSans-30\" transform=\"translate(127.246094 0)\"/>\n       <use xlink:href=\"#DejaVuSans-30\" transform=\"translate(190.869141 0)\"/>\n       <use xlink:href=\"#DejaVuSans-30\" transform=\"translate(254.492188 0)\"/>\n      </g>\n     </g>\n    </g>\n    <g id=\"ytick_4\">\n     <g id=\"line2d_6\">\n      <g>\n       <use xlink:href=\"#m94c5a93701\" x=\"59.690625\" y=\"117.358125\" style=\"stroke: #000000; stroke-width: 0.8\"/>\n      </g>\n     </g>\n     <g id=\"text_7\">\n      <!-- 15000 -->\n      <g transform=\"translate(20.878125 121.157344) scale(0.1 -0.1)\">\n       <use xlink:href=\"#DejaVuSans-31\"/>\n       <use xlink:href=\"#DejaVuSans-35\" transform=\"translate(63.623047 0)\"/>\n       <use xlink:href=\"#DejaVuSans-30\" transform=\"translate(127.246094 0)\"/>\n       <use xlink:href=\"#DejaVuSans-30\" transform=\"translate(190.869141 0)\"/>\n       <use xlink:href=\"#DejaVuSans-30\" transform=\"translate(254.492188 0)\"/>\n      </g>\n     </g>\n    </g>\n    <g id=\"ytick_5\">\n     <g id=\"line2d_7\">\n      <g>\n       <use xlink:href=\"#m94c5a93701\" x=\"59.690625\" y=\"75.118125\" style=\"stroke: #000000; stroke-width: 0.8\"/>\n      </g>\n     </g>\n     <g id=\"text_8\">\n      <!-- 20000 -->\n      <g transform=\"translate(20.878125 78.917344) scale(0.1 -0.1)\">\n       <defs>\n        <path id=\"DejaVuSans-32\" d=\"M 1228 531 \nL 3431 531 \nL 3431 0 \nL 469 0 \nL 469 531 \nQ 828 903 1448 1529 \nQ 2069 2156 2228 2338 \nQ 2531 2678 2651 2914 \nQ 2772 3150 2772 3378 \nQ 2772 3750 2511 3984 \nQ 2250 4219 1831 4219 \nQ 1534 4219 1204 4116 \nQ 875 4013 500 3803 \nL 500 4441 \nQ 881 4594 1212 4672 \nQ 1544 4750 1819 4750 \nQ 2544 4750 2975 4387 \nQ 3406 4025 3406 3419 \nQ 3406 3131 3298 2873 \nQ 3191 2616 2906 2266 \nQ 2828 2175 2409 1742 \nQ 1991 1309 1228 531 \nz\n\" transform=\"scale(0.015625)\"/>\n       </defs>\n       <use xlink:href=\"#DejaVuSans-32\"/>\n       <use xlink:href=\"#DejaVuSans-30\" transform=\"translate(63.623047 0)\"/>\n       <use xlink:href=\"#DejaVuSans-30\" transform=\"translate(127.246094 0)\"/>\n       <use xlink:href=\"#DejaVuSans-30\" transform=\"translate(190.869141 0)\"/>\n       <use xlink:href=\"#DejaVuSans-30\" transform=\"translate(254.492188 0)\"/>\n      </g>\n     </g>\n    </g>\n    <g id=\"ytick_6\">\n     <g id=\"line2d_8\">\n      <g>\n       <use xlink:href=\"#m94c5a93701\" x=\"59.690625\" y=\"32.878125\" style=\"stroke: #000000; stroke-width: 0.8\"/>\n      </g>\n     </g>\n     <g id=\"text_9\">\n      <!-- 25000 -->\n      <g transform=\"translate(20.878125 36.677344) scale(0.1 -0.1)\">\n       <use xlink:href=\"#DejaVuSans-32\"/>\n       <use xlink:href=\"#DejaVuSans-35\" transform=\"translate(63.623047 0)\"/>\n       <use xlink:href=\"#DejaVuSans-30\" transform=\"translate(127.246094 0)\"/>\n       <use xlink:href=\"#DejaVuSans-30\" transform=\"translate(190.869141 0)\"/>\n       <use xlink:href=\"#DejaVuSans-30\" transform=\"translate(254.492188 0)\"/>\n      </g>\n     </g>\n    </g>\n    <g id=\"text_10\">\n     <!-- Number of samples -->\n     <g transform=\"translate(14.798438 182.065312) rotate(-90) scale(0.1 -0.1)\">\n      <defs>\n       <path id=\"DejaVuSans-4e\" d=\"M 628 4666 \nL 1478 4666 \nL 3547 763 \nL 3547 4666 \nL 4159 4666 \nL 4159 0 \nL 3309 0 \nL 1241 3903 \nL 1241 0 \nL 628 0 \nL 628 4666 \nz\n\" transform=\"scale(0.015625)\"/>\n       <path id=\"DejaVuSans-75\" d=\"M 544 1381 \nL 544 3500 \nL 1119 3500 \nL 1119 1403 \nQ 1119 906 1312 657 \nQ 1506 409 1894 409 \nQ 2359 409 2629 706 \nQ 2900 1003 2900 1516 \nL 2900 3500 \nL 3475 3500 \nL 3475 0 \nL 2900 0 \nL 2900 538 \nQ 2691 219 2414 64 \nQ 2138 -91 1772 -91 \nQ 1169 -91 856 284 \nQ 544 659 544 1381 \nz\nM 1991 3584 \nL 1991 3584 \nz\n\" transform=\"scale(0.015625)\"/>\n       <path id=\"DejaVuSans-62\" d=\"M 3116 1747 \nQ 3116 2381 2855 2742 \nQ 2594 3103 2138 3103 \nQ 1681 3103 1420 2742 \nQ 1159 2381 1159 1747 \nQ 1159 1113 1420 752 \nQ 1681 391 2138 391 \nQ 2594 391 2855 752 \nQ 3116 1113 3116 1747 \nz\nM 1159 2969 \nQ 1341 3281 1617 3432 \nQ 1894 3584 2278 3584 \nQ 2916 3584 3314 3078 \nQ 3713 2572 3713 1747 \nQ 3713 922 3314 415 \nQ 2916 -91 2278 -91 \nQ 1894 -91 1617 61 \nQ 1341 213 1159 525 \nL 1159 0 \nL 581 0 \nL 581 4863 \nL 1159 4863 \nL 1159 2969 \nz\n\" transform=\"scale(0.015625)\"/>\n       <path id=\"DejaVuSans-72\" d=\"M 2631 2963 \nQ 2534 3019 2420 3045 \nQ 2306 3072 2169 3072 \nQ 1681 3072 1420 2755 \nQ 1159 2438 1159 1844 \nL 1159 0 \nL 581 0 \nL 581 3500 \nL 1159 3500 \nL 1159 2956 \nQ 1341 3275 1631 3429 \nQ 1922 3584 2338 3584 \nQ 2397 3584 2469 3576 \nQ 2541 3569 2628 3553 \nL 2631 2963 \nz\n\" transform=\"scale(0.015625)\"/>\n       <path id=\"DejaVuSans-20\" transform=\"scale(0.015625)\"/>\n       <path id=\"DejaVuSans-6f\" d=\"M 1959 3097 \nQ 1497 3097 1228 2736 \nQ 959 2375 959 1747 \nQ 959 1119 1226 758 \nQ 1494 397 1959 397 \nQ 2419 397 2687 759 \nQ 2956 1122 2956 1747 \nQ 2956 2369 2687 2733 \nQ 2419 3097 1959 3097 \nz\nM 1959 3584 \nQ 2709 3584 3137 3096 \nQ 3566 2609 3566 1747 \nQ 3566 888 3137 398 \nQ 2709 -91 1959 -91 \nQ 1206 -91 779 398 \nQ 353 888 353 1747 \nQ 353 2609 779 3096 \nQ 1206 3584 1959 3584 \nz\n\" transform=\"scale(0.015625)\"/>\n       <path id=\"DejaVuSans-66\" d=\"M 2375 4863 \nL 2375 4384 \nL 1825 4384 \nQ 1516 4384 1395 4259 \nQ 1275 4134 1275 3809 \nL 1275 3500 \nL 2222 3500 \nL 2222 3053 \nL 1275 3053 \nL 1275 0 \nL 697 0 \nL 697 3053 \nL 147 3053 \nL 147 3500 \nL 697 3500 \nL 697 3744 \nQ 697 4328 969 4595 \nQ 1241 4863 1831 4863 \nL 2375 4863 \nz\n\" transform=\"scale(0.015625)\"/>\n       <path id=\"DejaVuSans-61\" d=\"M 2194 1759 \nQ 1497 1759 1228 1600 \nQ 959 1441 959 1056 \nQ 959 750 1161 570 \nQ 1363 391 1709 391 \nQ 2188 391 2477 730 \nQ 2766 1069 2766 1631 \nL 2766 1759 \nL 2194 1759 \nz\nM 3341 1997 \nL 3341 0 \nL 2766 0 \nL 2766 531 \nQ 2569 213 2275 61 \nQ 1981 -91 1556 -91 \nQ 1019 -91 701 211 \nQ 384 513 384 1019 \nQ 384 1609 779 1909 \nQ 1175 2209 1959 2209 \nL 2766 2209 \nL 2766 2266 \nQ 2766 2663 2505 2880 \nQ 2244 3097 1772 3097 \nQ 1472 3097 1187 3025 \nQ 903 2953 641 2809 \nL 641 3341 \nQ 956 3463 1253 3523 \nQ 1550 3584 1831 3584 \nQ 2591 3584 2966 3190 \nQ 3341 2797 3341 1997 \nz\n\" transform=\"scale(0.015625)\"/>\n       <path id=\"DejaVuSans-70\" d=\"M 1159 525 \nL 1159 -1331 \nL 581 -1331 \nL 581 3500 \nL 1159 3500 \nL 1159 2969 \nQ 1341 3281 1617 3432 \nQ 1894 3584 2278 3584 \nQ 2916 3584 3314 3078 \nQ 3713 2572 3713 1747 \nQ 3713 922 3314 415 \nQ 2916 -91 2278 -91 \nQ 1894 -91 1617 61 \nQ 1341 213 1159 525 \nz\nM 3116 1747 \nQ 3116 2381 2855 2742 \nQ 2594 3103 2138 3103 \nQ 1681 3103 1420 2742 \nQ 1159 2381 1159 1747 \nQ 1159 1113 1420 752 \nQ 1681 391 2138 391 \nQ 2594 391 2855 752 \nQ 3116 1113 3116 1747 \nz\n\" transform=\"scale(0.015625)\"/>\n       <path id=\"DejaVuSans-6c\" d=\"M 603 4863 \nL 1178 4863 \nL 1178 0 \nL 603 0 \nL 603 4863 \nz\n\" transform=\"scale(0.015625)\"/>\n      </defs>\n      <use xlink:href=\"#DejaVuSans-4e\"/>\n      <use xlink:href=\"#DejaVuSans-75\" transform=\"translate(74.804688 0)\"/>\n      <use xlink:href=\"#DejaVuSans-6d\" transform=\"translate(138.183594 0)\"/>\n      <use xlink:href=\"#DejaVuSans-62\" transform=\"translate(235.595703 0)\"/>\n      <use xlink:href=\"#DejaVuSans-65\" transform=\"translate(299.072266 0)\"/>\n      <use xlink:href=\"#DejaVuSans-72\" transform=\"translate(360.595703 0)\"/>\n      <use xlink:href=\"#DejaVuSans-20\" transform=\"translate(401.708984 0)\"/>\n      <use xlink:href=\"#DejaVuSans-6f\" transform=\"translate(433.496094 0)\"/>\n      <use xlink:href=\"#DejaVuSans-66\" transform=\"translate(494.677734 0)\"/>\n      <use xlink:href=\"#DejaVuSans-20\" transform=\"translate(529.882812 0)\"/>\n      <use xlink:href=\"#DejaVuSans-73\" transform=\"translate(561.669922 0)\"/>\n      <use xlink:href=\"#DejaVuSans-61\" transform=\"translate(613.769531 0)\"/>\n      <use xlink:href=\"#DejaVuSans-6d\" transform=\"translate(675.048828 0)\"/>\n      <use xlink:href=\"#DejaVuSans-70\" transform=\"translate(772.460938 0)\"/>\n      <use xlink:href=\"#DejaVuSans-6c\" transform=\"translate(835.9375 0)\"/>\n      <use xlink:href=\"#DejaVuSans-65\" transform=\"translate(863.720703 0)\"/>\n      <use xlink:href=\"#DejaVuSans-73\" transform=\"translate(925.244141 0)\"/>\n     </g>\n    </g>\n   </g>\n   <g id=\"patch_5\">\n    <path d=\"M 59.690625 244.078125 \nL 59.690625 22.318125 \n\" style=\"fill: none; stroke: #000000; stroke-width: 0.8; stroke-linejoin: miter; stroke-linecap: square\"/>\n   </g>\n   <g id=\"patch_6\">\n    <path d=\"M 394.490625 244.078125 \nL 394.490625 22.318125 \n\" style=\"fill: none; stroke: #000000; stroke-width: 0.8; stroke-linejoin: miter; stroke-linecap: square\"/>\n   </g>\n   <g id=\"patch_7\">\n    <path d=\"M 59.690625 244.078125 \nL 394.490625 244.078125 \n\" style=\"fill: none; stroke: #000000; stroke-width: 0.8; stroke-linejoin: miter; stroke-linecap: square\"/>\n   </g>\n   <g id=\"patch_8\">\n    <path d=\"M 59.690625 22.318125 \nL 394.490625 22.318125 \n\" style=\"fill: none; stroke: #000000; stroke-width: 0.8; stroke-linejoin: miter; stroke-linecap: square\"/>\n   </g>\n   <g id=\"text_11\">\n    <!-- Class distribution -->\n    <g transform=\"translate(175.2075 16.318125) scale(0.12 -0.12)\">\n     <defs>\n      <path id=\"DejaVuSans-43\" d=\"M 4122 4306 \nL 4122 3641 \nQ 3803 3938 3442 4084 \nQ 3081 4231 2675 4231 \nQ 1875 4231 1450 3742 \nQ 1025 3253 1025 2328 \nQ 1025 1406 1450 917 \nQ 1875 428 2675 428 \nQ 3081 428 3442 575 \nQ 3803 722 4122 1019 \nL 4122 359 \nQ 3791 134 3420 21 \nQ 3050 -91 2638 -91 \nQ 1578 -91 968 557 \nQ 359 1206 359 2328 \nQ 359 3453 968 4101 \nQ 1578 4750 2638 4750 \nQ 3056 4750 3426 4639 \nQ 3797 4528 4122 4306 \nz\n\" transform=\"scale(0.015625)\"/>\n      <path id=\"DejaVuSans-64\" d=\"M 2906 2969 \nL 2906 4863 \nL 3481 4863 \nL 3481 0 \nL 2906 0 \nL 2906 525 \nQ 2725 213 2448 61 \nQ 2172 -91 1784 -91 \nQ 1150 -91 751 415 \nQ 353 922 353 1747 \nQ 353 2572 751 3078 \nQ 1150 3584 1784 3584 \nQ 2172 3584 2448 3432 \nQ 2725 3281 2906 2969 \nz\nM 947 1747 \nQ 947 1113 1208 752 \nQ 1469 391 1925 391 \nQ 2381 391 2643 752 \nQ 2906 1113 2906 1747 \nQ 2906 2381 2643 2742 \nQ 2381 3103 1925 3103 \nQ 1469 3103 1208 2742 \nQ 947 2381 947 1747 \nz\n\" transform=\"scale(0.015625)\"/>\n     </defs>\n     <use xlink:href=\"#DejaVuSans-43\"/>\n     <use xlink:href=\"#DejaVuSans-6c\" transform=\"translate(69.824219 0)\"/>\n     <use xlink:href=\"#DejaVuSans-61\" transform=\"translate(97.607422 0)\"/>\n     <use xlink:href=\"#DejaVuSans-73\" transform=\"translate(158.886719 0)\"/>\n     <use xlink:href=\"#DejaVuSans-73\" transform=\"translate(210.986328 0)\"/>\n     <use xlink:href=\"#DejaVuSans-20\" transform=\"translate(263.085938 0)\"/>\n     <use xlink:href=\"#DejaVuSans-64\" transform=\"translate(294.873047 0)\"/>\n     <use xlink:href=\"#DejaVuSans-69\" transform=\"translate(358.349609 0)\"/>\n     <use xlink:href=\"#DejaVuSans-73\" transform=\"translate(386.132812 0)\"/>\n     <use xlink:href=\"#DejaVuSans-74\" transform=\"translate(438.232422 0)\"/>\n     <use xlink:href=\"#DejaVuSans-72\" transform=\"translate(477.441406 0)\"/>\n     <use xlink:href=\"#DejaVuSans-69\" transform=\"translate(518.554688 0)\"/>\n     <use xlink:href=\"#DejaVuSans-62\" transform=\"translate(546.337891 0)\"/>\n     <use xlink:href=\"#DejaVuSans-75\" transform=\"translate(609.814453 0)\"/>\n     <use xlink:href=\"#DejaVuSans-74\" transform=\"translate(673.193359 0)\"/>\n     <use xlink:href=\"#DejaVuSans-69\" transform=\"translate(712.402344 0)\"/>\n     <use xlink:href=\"#DejaVuSans-6f\" transform=\"translate(740.185547 0)\"/>\n     <use xlink:href=\"#DejaVuSans-6e\" transform=\"translate(801.367188 0)\"/>\n    </g>\n   </g>\n  </g>\n </g>\n <defs>\n  <clipPath id=\"p05caddb19b\">\n   <rect x=\"59.690625\" y=\"22.318125\" width=\"334.8\" height=\"221.76\"/>\n  </clipPath>\n </defs>\n</svg>\n"
          },
          "metadata": {}
        }
      ],
      "source": [
        "LLM_DistilBERT_study_dataset = LLMFineTuner()\n",
        "LLM_DistilBERT_study_dataset.set_dataset()\n",
        "LLM_DistilBERT_study_dataset.set_tokenizer()\n",
        "\n",
        "df = pd.DataFrame(LLM_DistilBERT_study_dataset.dataset[\"train\"])\n",
        "\n",
        "# --- Basic counts\n",
        "total = len(df)\n",
        "class_counts = df[\"sentiment\"].value_counts()\n",
        "print(f\"Total samples: {total}\")\n",
        "print(\"Class counts:\\n\", class_counts)\n",
        "\n",
        "# --- Compute word lengths\n",
        "df[\"word_count\"] = df[\"review\"].apply(lambda x: len(x.split()))\n",
        "\n",
        "# --- Compute token lengths (réels, même >512, sans erreur)\n",
        "df[\"token_count_real\"] = df[\"review\"].apply(\n",
        "    lambda x: len(LLM_DistilBERT_study_dataset.tokenizer.tokenize(x))\n",
        ")\n",
        "\n",
        "# --- Stats\n",
        "avg_words = df[\"word_count\"].mean()\n",
        "med_words = df[\"word_count\"].median()\n",
        "avg_tokens = df[\"token_count_real\"].mean()\n",
        "med_tokens = df[\"token_count_real\"].median()\n",
        "print(f\"\\nAverage words per review: {avg_words:.1f} (median {med_words})\")\n",
        "print(f\"Average tokens per review: {avg_tokens:.1f} (median {med_tokens})\")\n",
        "\n",
        "# --- Histogram of token lengths\n",
        "plt.figure(figsize=(8, 5))\n",
        "plt.hist(df[\"token_count_real\"], bins=30, color=\"steelblue\", alpha=0.7)\n",
        "plt.axvline(256, color=\"red\", linestyle=\"--\", label=\"Truncation limit (256)\")\n",
        "plt.axvline(512, color=\"green\", linestyle=\"--\", label=\"Model max length (512)\")\n",
        "plt.xlabel(\"Token count per review\")\n",
        "plt.ylabel(\"Number of reviews\")\n",
        "plt.title(\"Distribution of review lengths (tokens)\")\n",
        "plt.legend()\n",
        "plt.show()\n",
        "\n",
        "# --- Class balance\n",
        "plt.figure(figsize=(6, 4))\n",
        "class_counts.plot(kind=\"bar\", color=[\"salmon\", \"skyblue\"])\n",
        "plt.title(\"Class distribution\")\n",
        "plt.ylabel(\"Number of samples\")\n",
        "plt.xticks(rotation=0)\n",
        "plt.show()"
      ]
    },
    {
      "cell_type": "code",
      "execution_count": 36,
      "id": "JnXKmO8Lu_gM",
      "metadata": {
        "id": "JnXKmO8Lu_gM",
        "outputId": "33135f93-2ecd-401a-e737-5f8f51d841ed",
        "colab": {
          "base_uri": "https://localhost:8080/"
        }
      },
      "outputs": [
        {
          "output_type": "stream",
          "name": "stdout",
          "text": [
            "Nombre de critiques <= 256 tokens : 28311\n",
            "Pourcentage : 56.62%\n"
          ]
        }
      ],
      "source": [
        "# Nombre de critiques <= 256 tokens\n",
        "below_256 = (df[\"token_count_real\"] <= 256).sum()\n",
        "\n",
        "# Pourcentage\n",
        "pct_below_256 = below_256 / len(df) * 100\n",
        "\n",
        "print(f\"Nombre de critiques <= 256 tokens : {below_256}\")\n",
        "print(f\"Pourcentage : {pct_below_256:.2f}%\")"
      ]
    },
    {
      "cell_type": "markdown",
      "id": "ZmNG1G_zua6n",
      "metadata": {
        "id": "ZmNG1G_zua6n"
      },
      "source": [
        "## Analyse de la distribution des critiques\n",
        "\n",
        "* Le jeu de données est **équilibré** entre critiques positives et négatives (\\~25 000 chacune), comme le montre l'histogramme des classes. Cela élimine tout problème de déséquilibre lors de l'entraînement.\n",
        "\n",
        "## Analyse des longueurs en tokens et implications pour le fine-tuning\n",
        "\n",
        "* L'histogramme des longueurs en tokens révèle une **distribution asymétrique à droite** :\n",
        "\n",
        "  * La médiane est d'environ **231 tokens**, ce qui montre que la majorité des critiques sont relativement courtes.\n",
        "  * Environ **14,4 % des critiques dépassent 512 tokens**, ce qui est au-delà de la limite stricte de `DistilBERT` et `RoBERTa`.\n",
        "  * Près de **29 % des critiques se situent entre 257 et 512 tokens** — elles restent donc exploitables par les modèles, mais nécessitent de travailler à la longueur maximale.\n",
        "\n",
        "* Concernant les seuils de troncature :\n",
        "\n",
        "  * **≈ 57 %** des critiques ont ≤ 256 tokens et ne subissent donc **aucune perte d’information** si l’on tronque à 256.\n",
        "  * Les **≈ 43 %** restants sont affectés par une troncature à 256 : seule la partie initiale est conservée, mais celle-ci est généralement suffisante, car les indices de sentiment apparaissent souvent dans les **premières phrases**.\n",
        "\n",
        "* **Pourquoi tronquer à 256 est un choix courant et pertinent :**\n",
        "\n",
        "  * **Efficacité** : la réduction de longueur diminue fortement le coût en mémoire et en temps d’entraînement (une séquence deux fois plus longue coûte quasiment ×2).\n",
        "  * **Signal suffisant** : le sentiment est le plus souvent exprimé en ouverture de la critique.\n",
        "  * **Réduction de variance** : plus une séquence est longue, plus le modèle est exposé au **bruit** (détails secondaires, digressions). Tronquer peut aider à se concentrer sur les parties les plus discriminantes.\n",
        "  * **Meilleure généralisation** : en limitant la séquence, on réduit le risque de surapprentissage sur des détails anecdotiques.\n",
        "\n",
        "* Cependant, **≈ 14 % des critiques dépassent la limite absolue de 512 tokens**. Celles-ci devront être tronquées. Pour des tâches où le **contexte complet** est indispensable (analyse fine, cohérence globale, détection d'ironie tardive), il conviendrait d'envisager des architectures alternatives telles que **Longformer** ou **BigBird**, capables de traiter de plus longues séquences."
      ]
    },
    {
      "cell_type": "code",
      "execution_count": 37,
      "id": "i44r_DcLv7TP",
      "metadata": {
        "id": "i44r_DcLv7TP",
        "outputId": "c8e15092-ec7c-4250-f9db-5d53c87e03b7",
        "colab": {
          "base_uri": "https://localhost:8080/",
          "height": 121,
          "referenced_widgets": [
            "71727edbe5e5474798a19084e79cf4d8",
            "ef840524fd4b46cfbdb7ff2ce487576d",
            "91682d046bb54b7dbc706a41f19910fb",
            "e9c399e51fde495ab661b6028804acac",
            "ef4d4ea61b46492ab70ba9a9d53f1932",
            "bac39432763649b891137cc49a64aefc",
            "f33d90af290a463f9bb8ca378581fc35",
            "322c85343f16490ebff2ab5d366e66a0",
            "14c700112d8c4adfabd563388bbae82f",
            "fe1456f467274d1882bc49a29fe78f3f",
            "22b04e53b28c43c98bb3f03fe1b1aea7"
          ]
        }
      },
      "outputs": [
        {
          "output_type": "display_data",
          "data": {
            "text/plain": [
              "  0%|          | 0/50000 [00:00<?, ?it/s]"
            ],
            "application/vnd.jupyter.widget-view+json": {
              "version_major": 2,
              "version_minor": 0,
              "model_id": "71727edbe5e5474798a19084e79cf4d8"
            }
          },
          "metadata": {}
        },
        {
          "output_type": "stream",
          "name": "stderr",
          "text": [
            "Token indices sequence length is longer than the specified maximum sequence length for this model (563 > 512). Running this sequence through the model will result in indexing errors\n"
          ]
        },
        {
          "output_type": "stream",
          "name": "stdout",
          "text": [
            "Reviews >256 tokens: 43.81%\n",
            "Reviews >512 tokens: 14.43%\n"
          ]
        }
      ],
      "source": [
        "lengths = []\n",
        "for text in tqdm(\n",
        "    LLM_DistilBERT_study_dataset.dataset[\"train\"][\"review\"]\n",
        "):  # 'dataset' is our raw dataset before mapping\n",
        "    tokens = LLM_DistilBERT_study_dataset.tokenizer.encode(\n",
        "        text, add_special_tokens=True\n",
        "    )\n",
        "    lengths.append(len(tokens))\n",
        "\n",
        "lengths = np.array(lengths)\n",
        "pct_over_256 = np.mean(lengths > 256) * 100\n",
        "pct_over_512 = np.mean(lengths > 512) * 100\n",
        "\n",
        "print(f\"Reviews >256 tokens: {pct_over_256:.2f}%\")\n",
        "print(f\"Reviews >512 tokens: {pct_over_512:.2f}%\")"
      ]
    },
    {
      "cell_type": "markdown",
      "id": "R_fTSs8oxqmg",
      "metadata": {
        "id": "R_fTSs8oxqmg"
      },
      "source": [
        "Le tableau ci-dessous synthétise l'analyse descriptive du jeu de données étudié.\n",
        "\n",
        "| Intervalle de longueur (tokens) | Nombre de critiques | Pourcentage |\n",
        "| ------------------------------- | ------------------- | ----------- |\n",
        "| **≤ 256**                       | 28 311              | 56,6 %      |\n",
        "| **257 – 512**                   | 14 476              | 29,0 %      |\n",
        "| **> 512**                       | 7 213               | 14,4 %      |\n",
        "| **Total**                       | 50 000              | 100 %       |\n",
        "\n",
        "* La **majorité relative** des critiques (≈57 %) est courte et tient en ≤256 tokens.\n",
        "* Presque un tiers (≈29 %) est plus long, mais reste compatible avec RoBERTa/DistilBERT (≤512).\n",
        "* Une **minorité significative (14,4 %)** dépasse 512 tokens → celles-ci nécessitent **forcément une troncature**."
      ]
    },
    {
      "cell_type": "code",
      "execution_count": 38,
      "id": "5ttTr4NtB8jl",
      "metadata": {
        "colab": {
          "base_uri": "https://localhost:8080/"
        },
        "id": "5ttTr4NtB8jl",
        "outputId": "6071641c-b1b5-4943-fc06-cd5045f4d544"
      },
      "outputs": [
        {
          "output_type": "stream",
          "name": "stdout",
          "text": [
            "Starting training workflow...\n"
          ]
        },
        {
          "output_type": "stream",
          "name": "stderr",
          "text": [
            "Some weights of RobertaForSequenceClassification were not initialized from the model checkpoint at roberta-base and are newly initialized: ['classifier.dense.bias', 'classifier.dense.weight', 'classifier.out_proj.bias', 'classifier.out_proj.weight']\n",
            "You should probably TRAIN this model on a down-stream task to be able to use it for predictions and inference.\n",
            "You're using a RobertaTokenizerFast tokenizer. Please note that with a fast tokenizer, using the `__call__` method is faster than using a method to encode the text followed by a call to the `pad` method to get a padded encoding.\n"
          ]
        },
        {
          "output_type": "stream",
          "name": "stdout",
          "text": [
            "\n",
            "Epoch 1/3\n",
            "  Training loss: 0.6645\n",
            "  Validation loss: 0.4394 | Accuracy: 0.8600\n",
            "Saved new best model to ./RoBERTa_512-best\n",
            "\n",
            "Epoch 2/3\n",
            "  Training loss: 0.4838\n",
            "  Validation loss: 0.5626 | Accuracy: 0.8525\n",
            "\n",
            "Epoch 3/3\n",
            "  Training loss: 0.2694\n",
            "  Validation loss: 0.5638 | Accuracy: 0.8825\n"
          ]
        }
      ],
      "source": [
        "LLM_RoBERTa_512 = LLMFineTuner(\n",
        "    model_cls=AutoModelForSequenceClassification,\n",
        "    pretrained_model_name_or_path=\"roberta-base\",\n",
        "    tokenizer_cls=AutoTokenizer,\n",
        ")\n",
        "LLM_RoBERTa_512.workflow(\n",
        "    mode=\"train\",\n",
        "    split_dataset_kwargs={\"max_length\": 512},\n",
        "    train_and_validate_kwargs={\"save_dir\": \"./RoBERTa_512-best\"},\n",
        ")"
      ]
    },
    {
      "cell_type": "code",
      "execution_count": 39,
      "id": "gScEWuJlRUP0",
      "metadata": {
        "id": "gScEWuJlRUP0",
        "outputId": "501b75b7-a246-4d24-e823-771c6ebb3fd1",
        "colab": {
          "base_uri": "https://localhost:8080/"
        }
      },
      "outputs": [
        {
          "output_type": "stream",
          "name": "stdout",
          "text": [
            "\n",
            "=== Comparison (threshold-tuned on their own validation sets) ===\n",
            "RoBERTa-256  | thr=0.10 | Acc=0.9375 | MacroF1=0.9372\n",
            "Confusion matrix (256):\n",
            " [[201  12]\n",
            " [ 13 174]]\n",
            "Per-class (neg/pos) Precision, Recall, F1:\n",
            " (array([0.93925234, 0.93548387]), array([0.94366197, 0.93048128]), array([0.94145199, 0.93297587]), array([213, 187]))\n",
            "\n",
            "RoBERTa-512  | thr=0.69 | Acc=0.8850 | MacroF1=0.8849\n",
            "Confusion matrix (512):\n",
            " [[172  23]\n",
            " [ 23 182]]\n",
            "Per-class (neg/pos) Precision, Recall, F1:\n",
            " (array([0.88205128, 0.88780488]), array([0.88205128, 0.88780488]), array([0.88205128, 0.88780488]), array([195, 205]))\n"
          ]
        }
      ],
      "source": [
        "# --- RoBERTa 256 ---\n",
        "probs_256, labels_256 = LLM_RoBERTa_256.collect_probs_labels()\n",
        "t_256, f1_256 = LLM_RoBERTa_256.tune_threshold_macro_f1(probs_256, labels_256)\n",
        "acc_256, macro_f1_256, cm_256, percls_256 = LLM_RoBERTa_256.eval_at_threshold(\n",
        "    probs_256, labels_256, t_256\n",
        ")\n",
        "# --- RoBERTa 512 ---\n",
        "probs_512, labels_512 = LLM_RoBERTa_512.collect_probs_labels()\n",
        "t_512, f1_512 = LLM_RoBERTa_512.tune_threshold_macro_f1(probs_512, labels_512)\n",
        "acc_512, macro_f1_512, cm_512, percls_512 = LLM_RoBERTa_512.eval_at_threshold(\n",
        "    probs_512, labels_512, t_512\n",
        ")\n",
        "\n",
        "# --- Résumé comparatif ---\n",
        "print(\"\\n=== Comparison (threshold-tuned on their own validation sets) ===\")\n",
        "print(\n",
        "    f\"RoBERTa-256  | thr={t_256:.2f} | Acc={acc_256:.4f} | MacroF1={macro_f1_256:.4f}\"\n",
        ")\n",
        "print(\"Confusion matrix (256):\\n\", cm_256)\n",
        "print(\"Per-class (neg/pos) Precision, Recall, F1:\\n\", percls_256)\n",
        "\n",
        "print(\n",
        "    f\"\\nRoBERTa-512  | thr={t_512:.2f} | Acc={acc_512:.4f} | MacroF1={macro_f1_512:.4f}\"\n",
        ")\n",
        "print(\"Confusion matrix (512):\\n\", cm_512)\n",
        "print(\"Per-class (neg/pos) Precision, Recall, F1:\\n\", percls_512)"
      ]
    },
    {
      "cell_type": "markdown",
      "id": "fbDsTJP-dyaA",
      "metadata": {
        "id": "fbDsTJP-dyaA"
      },
      "source": [
        "## Utilisation d'un autre dataset"
      ]
    },
    {
      "cell_type": "code",
      "execution_count": 40,
      "id": "C8JxcCx-eBR-",
      "metadata": {
        "id": "C8JxcCx-eBR-",
        "outputId": "aaab8394-1297-4264-fafb-3437ca299bdb",
        "colab": {
          "base_uri": "https://localhost:8080/",
          "height": 347,
          "referenced_widgets": [
            "d03f76e31e1940f4ad92d736df4fab9c",
            "dc1b5fcfff964667908bfb262fa4d892",
            "a94f8df15fe54cc2bc2becb4fabf4631",
            "bb6ab10013eb4a0ea132e9e51d2969c3",
            "fdb75262c23c4c2294816af815d87477",
            "54617ad9b5ba4d4391ba14bb7ab238b4",
            "4b172aead453417a9e0c2ae288de5e1c",
            "57413cdf30f3450eaead022b1fa416b4",
            "1c0b00e0b8314720a07b62c26333a79c",
            "abd2caaa01a34615bb7acc68f4d0c231",
            "3450bfcda7624933b06e0a797da0fde7"
          ]
        }
      },
      "outputs": [
        {
          "output_type": "stream",
          "name": "stdout",
          "text": [
            "Starting training workflow...\n"
          ]
        },
        {
          "output_type": "display_data",
          "data": {
            "text/plain": [
              "Map:   0%|          | 0/2000 [00:00<?, ? examples/s]"
            ],
            "application/vnd.jupyter.widget-view+json": {
              "version_major": 2,
              "version_minor": 0,
              "model_id": "d03f76e31e1940f4ad92d736df4fab9c"
            }
          },
          "metadata": {}
        },
        {
          "output_type": "stream",
          "name": "stderr",
          "text": [
            "Some weights of DistilBertForSequenceClassification were not initialized from the model checkpoint at distilbert-base-uncased and are newly initialized: ['classifier.bias', 'classifier.weight', 'pre_classifier.bias', 'pre_classifier.weight']\n",
            "You should probably TRAIN this model on a down-stream task to be able to use it for predictions and inference.\n"
          ]
        },
        {
          "output_type": "stream",
          "name": "stdout",
          "text": [
            "\n",
            "Epoch 1/3\n",
            "  Training loss: 0.6057\n",
            "  Validation loss: 0.5290 | Accuracy: 0.8075\n",
            "Saved new best model to ./distilbert-best-rotten-tomatoes\n",
            "\n",
            "Epoch 2/3\n",
            "  Training loss: 0.3637\n",
            "  Validation loss: 0.6682 | Accuracy: 0.8250\n",
            "\n",
            "Epoch 3/3\n",
            "  Training loss: 0.1120\n",
            "  Validation loss: 0.9142 | Accuracy: 0.8200\n"
          ]
        }
      ],
      "source": [
        "LLM_DistilBERT_rotten_tomatoes = LLMFineTuner(dataset=\"rotten_tomatoes\")\n",
        "LLM_DistilBERT_rotten_tomatoes.workflow(\n",
        "    mode=\"train\",\n",
        "    train_and_validate_kwargs={\n",
        "        \"save_dir\": \"./distilbert-best-rotten-tomatoes\"\n",
        "    },\n",
        ")"
      ]
    },
    {
      "cell_type": "code",
      "source": [
        "try:\n",
        "    rt = load_dataset(\"rotten_tomatoes\")\n",
        "    MAX_LEN = 256\n",
        "    BATCH = 16\n",
        "    # Charger l'instance avec le modèle DistilBERT fine-tuné\n",
        "    distil = LLMFineTuner(\n",
        "        model_cls=DistilBertForSequenceClassification,\n",
        "        pretrained_model_name_or_path=\"./distilbert-best\",\n",
        "        tokenizer_cls=DistilBertTokenizer,\n",
        "    )\n",
        "    distil.set_tokenizer()   # charge le tokenizer depuis ./distilbert-best\n",
        "    distil.set_model()       # charge le modèle depuis ./distilbert-best\n",
        "\n",
        "    # Créer un DataLoader pour Rotten Tomatoes (validation split)\n",
        "    dl_distil = distil.make_loader_for_tokenizer(\n",
        "        rt[\"validation\"],\n",
        "        max_len=MAX_LEN,\n",
        "        batch_size=BATCH\n",
        "    )\n",
        "\n",
        "    # Évaluation avec les méthodes de la classe\n",
        "    probs_d, labels_d = distil.collect_probs_labels(dl_distil)\n",
        "    t_d, f1_d = distil.tune_threshold_macro_f1(probs_d, labels_d)\n",
        "    acc_d, macro_f1_d, cm_d, percls_d = distil.eval_at_threshold(probs_d, labels_d, t_d)\n",
        "\n",
        "    # Résultats\n",
        "    print(\"=== Zero-shot on Rotten Tomatoes — DistilBERT (IMDB-trained) ===\")\n",
        "    print(f\"Best threshold={t_d:.2f} | Acc={acc_d:.4f} | MacroF1={macro_f1_d:.4f}\")\n",
        "    print(\"Confusion matrix:\\n\", cm_d)\n",
        "    print(\"Per-class (neg, pos) — Precision, Recall, F1:\\n\", percls_d)\n",
        "\n",
        "except Exception as e:\n",
        "    print(\"DistilBERT eval skipped:\", e)"
      ],
      "metadata": {
        "id": "wJv5LWs814DK",
        "outputId": "f1918318-f5bc-4b2f-e58b-e40b6481ba47",
        "colab": {
          "base_uri": "https://localhost:8080/",
          "height": 171,
          "referenced_widgets": [
            "9af1e48eae724ea79813c325aececc5a",
            "c5922e05084a45958c9bcd79151f812a",
            "ed478a466e68434895e7fa5541abd0a2",
            "1a3f17c5a6694ff4be9071a1d1dcb48b",
            "daad83cdc410429d9b44d1020c0e3253",
            "7ca86792b56840bcbd6ff7d69c5e7560",
            "3f41630fca7a40bcb4116f813112a511",
            "af9ba47b3494424c954b279833572540",
            "59975dd101734dc8989d2504667605e4",
            "8172dc837dce44499ae73de6e335f358",
            "10b1189526e842949a689a775fe5edc6"
          ]
        }
      },
      "id": "wJv5LWs814DK",
      "execution_count": 41,
      "outputs": [
        {
          "output_type": "display_data",
          "data": {
            "text/plain": [
              "Map:   0%|          | 0/1066 [00:00<?, ? examples/s]"
            ],
            "application/vnd.jupyter.widget-view+json": {
              "version_major": 2,
              "version_minor": 0,
              "model_id": "9af1e48eae724ea79813c325aececc5a"
            }
          },
          "metadata": {}
        },
        {
          "output_type": "stream",
          "name": "stdout",
          "text": [
            "=== Zero-shot on Rotten Tomatoes — DistilBERT (IMDB-trained) ===\n",
            "Best threshold=0.71 | Acc=0.8002 | MacroF1=0.7994\n",
            "Confusion matrix:\n",
            " [[393 140]\n",
            " [ 73 460]]\n",
            "Per-class (neg, pos) — Precision, Recall, F1:\n",
            " (array([0.84334764, 0.76666667]), array([0.73733583, 0.8630394 ]), array([0.78678679, 0.81200353]), array([533, 533]))\n"
          ]
        }
      ]
    },
    {
      "cell_type": "code",
      "source": [
        "try:\n",
        "    # Charger l'instance avec le modèle fine-tuné RoBERTa-256\n",
        "    roberta_256 = LLMFineTuner(\n",
        "        model_cls=AutoModelForSequenceClassification,\n",
        "        pretrained_model_name_or_path=\"./roberta-best\",\n",
        "        tokenizer_cls=AutoTokenizer,\n",
        "    )\n",
        "    roberta_256.set_tokenizer()\n",
        "    roberta_256.set_model()\n",
        "\n",
        "    # Créer un DataLoader sur Rotten Tomatoes (validation split)\n",
        "    dl_r256 = roberta_256.make_loader_for_tokenizer(\n",
        "        rt[\"validation\"],\n",
        "        max_len=MAX_LEN,   # 256\n",
        "        batch_size=BATCH\n",
        "    )\n",
        "\n",
        "    # Évaluation\n",
        "    probs_r256, labels_r256 = roberta_256.collect_probs_labels(dl_r256)\n",
        "    t_r256, f1_r256 = roberta_256.tune_threshold_macro_f1(probs_r256, labels_r256)\n",
        "    acc_r256, macro_f1_r256, cm_r256, percls_r256 = roberta_256.eval_at_threshold(probs_r256, labels_r256, t_r256)\n",
        "\n",
        "    # Résultats\n",
        "    print(\"\\n=== Zero-shot on Rotten Tomatoes — RoBERTa-256 (IMDB-trained) ===\")\n",
        "    print(f\"Best threshold={t_r256:.2f} | Acc={acc_r256:.4f} | MacroF1={macro_f1_r256:.4f}\")\n",
        "    print(\"Confusion matrix:\\n\", cm_r256)\n",
        "    print(\"Per-class (neg, pos) — Precision, Recall, F1:\\n\", percls_r256)\n",
        "\n",
        "except Exception as e:\n",
        "    print(\"RoBERTa-256 eval skipped:\", e)"
      ],
      "metadata": {
        "id": "QHjCmDVP2fpl",
        "outputId": "b7913332-d85b-45d4-fed1-6df6b621667c",
        "colab": {
          "base_uri": "https://localhost:8080/",
          "height": 225,
          "referenced_widgets": [
            "a1edeb22d06b4e4abb72a71014ba7e67",
            "55d745abd34748d7be98c322dde60b17",
            "19e6a1d471f44be49ac0a3a6353b4e62",
            "38a65707cec9473185e6d7e02bf2a5a0",
            "e1bee2afbfb6496285a9a3472f50bf75",
            "42a7e9a64b1a4dcd8226cc56e3fbb8f7",
            "b8451a0a8d0645d7b13fd0f722de8462",
            "431c37ccb08949209e015f6f5e61206c",
            "5bb0a14806a14f04b32a0fb57ab5b486",
            "3f88d0ca939946a99b29e1ae66f9aca5",
            "3aae3018d4834124b219372b9bcbc279"
          ]
        }
      },
      "id": "QHjCmDVP2fpl",
      "execution_count": 42,
      "outputs": [
        {
          "output_type": "display_data",
          "data": {
            "text/plain": [
              "Map:   0%|          | 0/1066 [00:00<?, ? examples/s]"
            ],
            "application/vnd.jupyter.widget-view+json": {
              "version_major": 2,
              "version_minor": 0,
              "model_id": "a1edeb22d06b4e4abb72a71014ba7e67"
            }
          },
          "metadata": {}
        },
        {
          "output_type": "stream",
          "name": "stderr",
          "text": [
            "You're using a RobertaTokenizerFast tokenizer. Please note that with a fast tokenizer, using the `__call__` method is faster than using a method to encode the text followed by a call to the `pad` method to get a padded encoding.\n"
          ]
        },
        {
          "output_type": "stream",
          "name": "stdout",
          "text": [
            "\n",
            "=== Zero-shot on Rotten Tomatoes — RoBERTa-256 (IMDB-trained) ===\n",
            "Best threshold=0.89 | Acc=0.8358 | MacroF1=0.8357\n",
            "Confusion matrix:\n",
            " [[431 102]\n",
            " [ 73 460]]\n",
            "Per-class (neg, pos) — Precision, Recall, F1:\n",
            " (array([0.85515873, 0.81850534]), array([0.80863039, 0.8630394 ]), array([0.83124397, 0.84018265]), array([533, 533]))\n"
          ]
        }
      ]
    },
    {
      "cell_type": "code",
      "source": [
        "try:\n",
        "    # Charger l'instance avec le modèle fine-tuné RoBERTa-512\n",
        "    roberta_512 = LLMFineTuner(\n",
        "        model_cls=AutoModelForSequenceClassification,\n",
        "        pretrained_model_name_or_path=\"./RoBERTa_512-best\",\n",
        "        tokenizer_cls=AutoTokenizer,\n",
        "    )\n",
        "    roberta_512.set_tokenizer()\n",
        "    roberta_512.set_model()\n",
        "\n",
        "    # Créer un DataLoader sur Rotten Tomatoes (validation split)\n",
        "    dl_r512 = roberta_512.make_loader_for_tokenizer(\n",
        "        rt[\"validation\"],\n",
        "        max_len=MAX_LEN,   # tu peux mettre 256 pour homogénéiser, ou 512 pour exploiter la capacité max\n",
        "        batch_size=BATCH\n",
        "    )\n",
        "\n",
        "    # Évaluation\n",
        "    probs_r512, labels_r512 = roberta_512.collect_probs_labels(dl_r512)\n",
        "    t_r512, f1_r512 = roberta_512.tune_threshold_macro_f1(probs_r512, labels_r512)\n",
        "    acc_r512, macro_f1_r512, cm_r512, percls_r512 = roberta_512.eval_at_threshold(probs_r512, labels_r512, t_r512)\n",
        "\n",
        "    # Résultats\n",
        "    print(\"\\n=== Zero-shot on Rotten Tomatoes — RoBERTa-512 (IMDB-trained) ===\")\n",
        "    print(f\"Best threshold={t_r512:.2f} | Acc={acc_r512:.4f} | MacroF1={macro_f1_r512:.4f}\")\n",
        "    print(\"Confusion matrix:\\n\", cm_r512)\n",
        "    print(\"Per-class (neg, pos) — Precision, Recall, F1:\\n\", percls_r512)\n",
        "\n",
        "except Exception as e:\n",
        "    print(\"RoBERTa-512 eval skipped:\", e)"
      ],
      "metadata": {
        "id": "bjjT2NOe3FRj",
        "outputId": "40745af0-7361-48c0-d783-585a05f94364",
        "colab": {
          "base_uri": "https://localhost:8080/",
          "height": 225,
          "referenced_widgets": [
            "a87127918f0f4dcf82fa3cc0c5ca144a",
            "950638b2f90b4ec29e5787156976a172",
            "9c22fa360b26456ea915ba04b3b7822d",
            "87f8a3478e7240b2b861b3fbd7bf3e7e",
            "d3cbdcb8e9154810887ee53e159cb759",
            "94f20c6b9acf4bf29afca93c73166403",
            "66dc2d079e174fd9878b047b8f638e2f",
            "0b49ccf831af479ba55fbea51c168ef5",
            "02dc10a26a5040d9875d5f9a511a40b2",
            "5539bb38d93a462492846b8573032e3c",
            "9a9f839f7a4e4c6598d3510f2b05456b"
          ]
        }
      },
      "id": "bjjT2NOe3FRj",
      "execution_count": 44,
      "outputs": [
        {
          "output_type": "display_data",
          "data": {
            "text/plain": [
              "Map:   0%|          | 0/1066 [00:00<?, ? examples/s]"
            ],
            "application/vnd.jupyter.widget-view+json": {
              "version_major": 2,
              "version_minor": 0,
              "model_id": "a87127918f0f4dcf82fa3cc0c5ca144a"
            }
          },
          "metadata": {}
        },
        {
          "output_type": "stream",
          "name": "stderr",
          "text": [
            "You're using a RobertaTokenizerFast tokenizer. Please note that with a fast tokenizer, using the `__call__` method is faster than using a method to encode the text followed by a call to the `pad` method to get a padded encoding.\n"
          ]
        },
        {
          "output_type": "stream",
          "name": "stdout",
          "text": [
            "\n",
            "=== Zero-shot on Rotten Tomatoes — RoBERTa-512 (IMDB-trained) ===\n",
            "Best threshold=0.90 | Acc=0.8077 | MacroF1=0.8076\n",
            "Confusion matrix:\n",
            " [[442  91]\n",
            " [114 419]]\n",
            "Per-class (neg, pos) — Precision, Recall, F1:\n",
            " (array([0.79496403, 0.82156863]), array([0.82926829, 0.78611632]), array([0.8117539 , 0.80345158]), array([533, 533]))\n"
          ]
        }
      ]
    },
    {
      "cell_type": "code",
      "source": [
        "import matplotlib.pyplot as plt\n",
        "import numpy as np\n",
        "\n",
        "# === Fill in your actual numbers ===\n",
        "models = [\"DistilBERT\", \"RoBERTa-256\", \"RoBERTa-512\"]\n",
        "f1_imdb = [0.867, 0.905, 0.915]  # Macro-F1 from IMDB validation\n",
        "f1_rt   = [0.7898, 0.8490, 0.8321]  # Macro-F1 from Rotten Tomatoes (zero-shot)\n",
        "\n",
        "x = np.arange(len(models))\n",
        "width = 0.35\n",
        "\n",
        "fig, ax = plt.subplots(figsize=(8,5))\n",
        "bars1 = ax.bar(x - width/2, f1_imdb, width, label=\"IMDB (in-domain)\", color=\"steelblue\")\n",
        "bars2 = ax.bar(x + width/2, f1_rt, width, label=\"Rotten Tomatoes (zero-shot)\", color=\"orange\")\n",
        "\n",
        "# Add labels & formatting\n",
        "ax.set_ylabel(\"Macro F1 Score\")\n",
        "ax.set_title(\"Macro-F1 Comparison: IMDB vs Rotten Tomatoes (Zero-Shot)\")\n",
        "ax.set_xticks(x)\n",
        "ax.set_xticklabels(models)\n",
        "ax.set_ylim(0.7, 1.0)\n",
        "ax.legend()\n",
        "\n",
        "# Annotate bars\n",
        "for bars in [bars1, bars2]:\n",
        "    for bar in bars:\n",
        "        height = bar.get_height()\n",
        "        ax.annotate(f'{height:.3f}',\n",
        "                    xy=(bar.get_x() + bar.get_width() / 2, height),\n",
        "                    xytext=(0, 3),\n",
        "                    textcoords=\"offset points\",\n",
        "                    ha='center', va='bottom', fontsize=9)\n",
        "\n",
        "plt.tight_layout()\n",
        "plt.show()"
      ],
      "metadata": {
        "id": "D8cm4phV337W",
        "outputId": "4e016275-9acb-4c9e-ff07-66b433bcf2b3",
        "colab": {
          "base_uri": "https://localhost:8080/",
          "height": 489
        }
      },
      "id": "D8cm4phV337W",
      "execution_count": 45,
      "outputs": [
        {
          "output_type": "display_data",
          "data": {
            "text/plain": [
              "<Figure size 800x500 with 1 Axes>"
            ],
            "image/svg+xml": "<?xml version=\"1.0\" encoding=\"utf-8\" standalone=\"no\"?>\n<!DOCTYPE svg PUBLIC \"-//W3C//DTD SVG 1.1//EN\"\n  \"http://www.w3.org/Graphics/SVG/1.1/DTD/svg11.dtd\">\n<svg xmlns:xlink=\"http://www.w3.org/1999/xlink\" width=\"568.52375pt\" height=\"351.43625pt\" viewBox=\"0 0 568.52375 351.43625\" xmlns=\"http://www.w3.org/2000/svg\" version=\"1.1\">\n <metadata>\n  <rdf:RDF xmlns:dc=\"http://purl.org/dc/elements/1.1/\" xmlns:cc=\"http://creativecommons.org/ns#\" xmlns:rdf=\"http://www.w3.org/1999/02/22-rdf-syntax-ns#\">\n   <cc:Work>\n    <dc:type rdf:resource=\"http://purl.org/dc/dcmitype/StillImage\"/>\n    <dc:date>2025-09-14T15:37:13.211353</dc:date>\n    <dc:format>image/svg+xml</dc:format>\n    <dc:creator>\n     <cc:Agent>\n      <dc:title>Matplotlib v3.10.0, https://matplotlib.org/</dc:title>\n     </cc:Agent>\n    </dc:creator>\n   </cc:Work>\n  </rdf:RDF>\n </metadata>\n <defs>\n  <style type=\"text/css\">*{stroke-linejoin: round; stroke-linecap: butt}</style>\n </defs>\n <g id=\"figure_1\">\n  <g id=\"patch_1\">\n   <path d=\"M 0 351.43625 \nL 568.52375 351.43625 \nL 568.52375 0 \nL 0 0 \nz\n\" style=\"fill: #ffffff\"/>\n  </g>\n  <g id=\"axes_1\">\n   <g id=\"patch_2\">\n    <path d=\"M 50.14375 327.558125 \nL 561.32375 327.558125 \nL 561.32375 22.318125 \nL 50.14375 22.318125 \nz\n\" style=\"fill: #ffffff\"/>\n   </g>\n   <g id=\"patch_3\">\n    <path d=\"M 73.379205 1039.784792 \nL 133.619272 1039.784792 \nL 133.619272 157.641192 \nL 73.379205 157.641192 \nz\n\" clip-path=\"url(#paca44ab261)\" style=\"fill: #4682b4\"/>\n   </g>\n   <g id=\"patch_4\">\n    <path d=\"M 245.493683 1039.784792 \nL 305.73375 1039.784792 \nL 305.73375 118.977458 \nL 245.493683 118.977458 \nz\n\" clip-path=\"url(#paca44ab261)\" style=\"fill: #4682b4\"/>\n   </g>\n   <g id=\"patch_5\">\n    <path d=\"M 417.608161 1039.784792 \nL 477.848228 1039.784792 \nL 477.848228 108.802792 \nL 417.608161 108.802792 \nz\n\" clip-path=\"url(#paca44ab261)\" style=\"fill: #4682b4\"/>\n   </g>\n   <g id=\"patch_6\">\n    <path d=\"M 133.619272 1039.784792 \nL 193.859339 1039.784792 \nL 193.859339 236.189618 \nL 133.619272 236.189618 \nz\n\" clip-path=\"url(#paca44ab261)\" style=\"fill: #ffa500\"/>\n   </g>\n   <g id=\"patch_7\">\n    <path d=\"M 305.73375 1039.784792 \nL 365.973817 1039.784792 \nL 365.973817 175.955592 \nL 305.73375 175.955592 \nz\n\" clip-path=\"url(#paca44ab261)\" style=\"fill: #ffa500\"/>\n   </g>\n   <g id=\"patch_8\">\n    <path d=\"M 477.848228 1039.784792 \nL 538.088295 1039.784792 \nL 538.088295 193.150778 \nL 477.848228 193.150778 \nz\n\" clip-path=\"url(#paca44ab261)\" style=\"fill: #ffa500\"/>\n   </g>\n   <g id=\"matplotlib.axis_1\">\n    <g id=\"xtick_1\">\n     <g id=\"line2d_1\">\n      <defs>\n       <path id=\"mc782449a29\" d=\"M 0 0 \nL 0 3.5 \n\" style=\"stroke: #000000; stroke-width: 0.8\"/>\n      </defs>\n      <g>\n       <use xlink:href=\"#mc782449a29\" x=\"133.619272\" y=\"327.558125\" style=\"stroke: #000000; stroke-width: 0.8\"/>\n      </g>\n     </g>\n     <g id=\"text_1\">\n      <!-- DistilBERT -->\n      <g transform=\"translate(108.281772 342.156563) scale(0.1 -0.1)\">\n       <defs>\n        <path id=\"DejaVuSans-44\" d=\"M 1259 4147 \nL 1259 519 \nL 2022 519 \nQ 2988 519 3436 956 \nQ 3884 1394 3884 2338 \nQ 3884 3275 3436 3711 \nQ 2988 4147 2022 4147 \nL 1259 4147 \nz\nM 628 4666 \nL 1925 4666 \nQ 3281 4666 3915 4102 \nQ 4550 3538 4550 2338 \nQ 4550 1131 3912 565 \nQ 3275 0 1925 0 \nL 628 0 \nL 628 4666 \nz\n\" transform=\"scale(0.015625)\"/>\n        <path id=\"DejaVuSans-69\" d=\"M 603 3500 \nL 1178 3500 \nL 1178 0 \nL 603 0 \nL 603 3500 \nz\nM 603 4863 \nL 1178 4863 \nL 1178 4134 \nL 603 4134 \nL 603 4863 \nz\n\" transform=\"scale(0.015625)\"/>\n        <path id=\"DejaVuSans-73\" d=\"M 2834 3397 \nL 2834 2853 \nQ 2591 2978 2328 3040 \nQ 2066 3103 1784 3103 \nQ 1356 3103 1142 2972 \nQ 928 2841 928 2578 \nQ 928 2378 1081 2264 \nQ 1234 2150 1697 2047 \nL 1894 2003 \nQ 2506 1872 2764 1633 \nQ 3022 1394 3022 966 \nQ 3022 478 2636 193 \nQ 2250 -91 1575 -91 \nQ 1294 -91 989 -36 \nQ 684 19 347 128 \nL 347 722 \nQ 666 556 975 473 \nQ 1284 391 1588 391 \nQ 1994 391 2212 530 \nQ 2431 669 2431 922 \nQ 2431 1156 2273 1281 \nQ 2116 1406 1581 1522 \nL 1381 1569 \nQ 847 1681 609 1914 \nQ 372 2147 372 2553 \nQ 372 3047 722 3315 \nQ 1072 3584 1716 3584 \nQ 2034 3584 2315 3537 \nQ 2597 3491 2834 3397 \nz\n\" transform=\"scale(0.015625)\"/>\n        <path id=\"DejaVuSans-74\" d=\"M 1172 4494 \nL 1172 3500 \nL 2356 3500 \nL 2356 3053 \nL 1172 3053 \nL 1172 1153 \nQ 1172 725 1289 603 \nQ 1406 481 1766 481 \nL 2356 481 \nL 2356 0 \nL 1766 0 \nQ 1100 0 847 248 \nQ 594 497 594 1153 \nL 594 3053 \nL 172 3053 \nL 172 3500 \nL 594 3500 \nL 594 4494 \nL 1172 4494 \nz\n\" transform=\"scale(0.015625)\"/>\n        <path id=\"DejaVuSans-6c\" d=\"M 603 4863 \nL 1178 4863 \nL 1178 0 \nL 603 0 \nL 603 4863 \nz\n\" transform=\"scale(0.015625)\"/>\n        <path id=\"DejaVuSans-42\" d=\"M 1259 2228 \nL 1259 519 \nL 2272 519 \nQ 2781 519 3026 730 \nQ 3272 941 3272 1375 \nQ 3272 1813 3026 2020 \nQ 2781 2228 2272 2228 \nL 1259 2228 \nz\nM 1259 4147 \nL 1259 2741 \nL 2194 2741 \nQ 2656 2741 2882 2914 \nQ 3109 3088 3109 3444 \nQ 3109 3797 2882 3972 \nQ 2656 4147 2194 4147 \nL 1259 4147 \nz\nM 628 4666 \nL 2241 4666 \nQ 2963 4666 3353 4366 \nQ 3744 4066 3744 3513 \nQ 3744 3084 3544 2831 \nQ 3344 2578 2956 2516 \nQ 3422 2416 3680 2098 \nQ 3938 1781 3938 1306 \nQ 3938 681 3513 340 \nQ 3088 0 2303 0 \nL 628 0 \nL 628 4666 \nz\n\" transform=\"scale(0.015625)\"/>\n        <path id=\"DejaVuSans-45\" d=\"M 628 4666 \nL 3578 4666 \nL 3578 4134 \nL 1259 4134 \nL 1259 2753 \nL 3481 2753 \nL 3481 2222 \nL 1259 2222 \nL 1259 531 \nL 3634 531 \nL 3634 0 \nL 628 0 \nL 628 4666 \nz\n\" transform=\"scale(0.015625)\"/>\n        <path id=\"DejaVuSans-52\" d=\"M 2841 2188 \nQ 3044 2119 3236 1894 \nQ 3428 1669 3622 1275 \nL 4263 0 \nL 3584 0 \nL 2988 1197 \nQ 2756 1666 2539 1819 \nQ 2322 1972 1947 1972 \nL 1259 1972 \nL 1259 0 \nL 628 0 \nL 628 4666 \nL 2053 4666 \nQ 2853 4666 3247 4331 \nQ 3641 3997 3641 3322 \nQ 3641 2881 3436 2590 \nQ 3231 2300 2841 2188 \nz\nM 1259 4147 \nL 1259 2491 \nL 2053 2491 \nQ 2509 2491 2742 2702 \nQ 2975 2913 2975 3322 \nQ 2975 3731 2742 3939 \nQ 2509 4147 2053 4147 \nL 1259 4147 \nz\n\" transform=\"scale(0.015625)\"/>\n        <path id=\"DejaVuSans-54\" d=\"M -19 4666 \nL 3928 4666 \nL 3928 4134 \nL 2272 4134 \nL 2272 0 \nL 1638 0 \nL 1638 4134 \nL -19 4134 \nL -19 4666 \nz\n\" transform=\"scale(0.015625)\"/>\n       </defs>\n       <use xlink:href=\"#DejaVuSans-44\"/>\n       <use xlink:href=\"#DejaVuSans-69\" transform=\"translate(77.001953 0)\"/>\n       <use xlink:href=\"#DejaVuSans-73\" transform=\"translate(104.785156 0)\"/>\n       <use xlink:href=\"#DejaVuSans-74\" transform=\"translate(156.884766 0)\"/>\n       <use xlink:href=\"#DejaVuSans-69\" transform=\"translate(196.09375 0)\"/>\n       <use xlink:href=\"#DejaVuSans-6c\" transform=\"translate(223.876953 0)\"/>\n       <use xlink:href=\"#DejaVuSans-42\" transform=\"translate(251.660156 0)\"/>\n       <use xlink:href=\"#DejaVuSans-45\" transform=\"translate(320.263672 0)\"/>\n       <use xlink:href=\"#DejaVuSans-52\" transform=\"translate(383.447266 0)\"/>\n       <use xlink:href=\"#DejaVuSans-54\" transform=\"translate(445.679688 0)\"/>\n      </g>\n     </g>\n    </g>\n    <g id=\"xtick_2\">\n     <g id=\"line2d_2\">\n      <g>\n       <use xlink:href=\"#mc782449a29\" x=\"305.73375\" y=\"327.558125\" style=\"stroke: #000000; stroke-width: 0.8\"/>\n      </g>\n     </g>\n     <g id=\"text_2\">\n      <!-- RoBERTa-256 -->\n      <g transform=\"translate(273.082969 342.156563) scale(0.1 -0.1)\">\n       <defs>\n        <path id=\"DejaVuSans-6f\" d=\"M 1959 3097 \nQ 1497 3097 1228 2736 \nQ 959 2375 959 1747 \nQ 959 1119 1226 758 \nQ 1494 397 1959 397 \nQ 2419 397 2687 759 \nQ 2956 1122 2956 1747 \nQ 2956 2369 2687 2733 \nQ 2419 3097 1959 3097 \nz\nM 1959 3584 \nQ 2709 3584 3137 3096 \nQ 3566 2609 3566 1747 \nQ 3566 888 3137 398 \nQ 2709 -91 1959 -91 \nQ 1206 -91 779 398 \nQ 353 888 353 1747 \nQ 353 2609 779 3096 \nQ 1206 3584 1959 3584 \nz\n\" transform=\"scale(0.015625)\"/>\n        <path id=\"DejaVuSans-61\" d=\"M 2194 1759 \nQ 1497 1759 1228 1600 \nQ 959 1441 959 1056 \nQ 959 750 1161 570 \nQ 1363 391 1709 391 \nQ 2188 391 2477 730 \nQ 2766 1069 2766 1631 \nL 2766 1759 \nL 2194 1759 \nz\nM 3341 1997 \nL 3341 0 \nL 2766 0 \nL 2766 531 \nQ 2569 213 2275 61 \nQ 1981 -91 1556 -91 \nQ 1019 -91 701 211 \nQ 384 513 384 1019 \nQ 384 1609 779 1909 \nQ 1175 2209 1959 2209 \nL 2766 2209 \nL 2766 2266 \nQ 2766 2663 2505 2880 \nQ 2244 3097 1772 3097 \nQ 1472 3097 1187 3025 \nQ 903 2953 641 2809 \nL 641 3341 \nQ 956 3463 1253 3523 \nQ 1550 3584 1831 3584 \nQ 2591 3584 2966 3190 \nQ 3341 2797 3341 1997 \nz\n\" transform=\"scale(0.015625)\"/>\n        <path id=\"DejaVuSans-2d\" d=\"M 313 2009 \nL 1997 2009 \nL 1997 1497 \nL 313 1497 \nL 313 2009 \nz\n\" transform=\"scale(0.015625)\"/>\n        <path id=\"DejaVuSans-32\" d=\"M 1228 531 \nL 3431 531 \nL 3431 0 \nL 469 0 \nL 469 531 \nQ 828 903 1448 1529 \nQ 2069 2156 2228 2338 \nQ 2531 2678 2651 2914 \nQ 2772 3150 2772 3378 \nQ 2772 3750 2511 3984 \nQ 2250 4219 1831 4219 \nQ 1534 4219 1204 4116 \nQ 875 4013 500 3803 \nL 500 4441 \nQ 881 4594 1212 4672 \nQ 1544 4750 1819 4750 \nQ 2544 4750 2975 4387 \nQ 3406 4025 3406 3419 \nQ 3406 3131 3298 2873 \nQ 3191 2616 2906 2266 \nQ 2828 2175 2409 1742 \nQ 1991 1309 1228 531 \nz\n\" transform=\"scale(0.015625)\"/>\n        <path id=\"DejaVuSans-35\" d=\"M 691 4666 \nL 3169 4666 \nL 3169 4134 \nL 1269 4134 \nL 1269 2991 \nQ 1406 3038 1543 3061 \nQ 1681 3084 1819 3084 \nQ 2600 3084 3056 2656 \nQ 3513 2228 3513 1497 \nQ 3513 744 3044 326 \nQ 2575 -91 1722 -91 \nQ 1428 -91 1123 -41 \nQ 819 9 494 109 \nL 494 744 \nQ 775 591 1075 516 \nQ 1375 441 1709 441 \nQ 2250 441 2565 725 \nQ 2881 1009 2881 1497 \nQ 2881 1984 2565 2268 \nQ 2250 2553 1709 2553 \nQ 1456 2553 1204 2497 \nQ 953 2441 691 2322 \nL 691 4666 \nz\n\" transform=\"scale(0.015625)\"/>\n        <path id=\"DejaVuSans-36\" d=\"M 2113 2584 \nQ 1688 2584 1439 2293 \nQ 1191 2003 1191 1497 \nQ 1191 994 1439 701 \nQ 1688 409 2113 409 \nQ 2538 409 2786 701 \nQ 3034 994 3034 1497 \nQ 3034 2003 2786 2293 \nQ 2538 2584 2113 2584 \nz\nM 3366 4563 \nL 3366 3988 \nQ 3128 4100 2886 4159 \nQ 2644 4219 2406 4219 \nQ 1781 4219 1451 3797 \nQ 1122 3375 1075 2522 \nQ 1259 2794 1537 2939 \nQ 1816 3084 2150 3084 \nQ 2853 3084 3261 2657 \nQ 3669 2231 3669 1497 \nQ 3669 778 3244 343 \nQ 2819 -91 2113 -91 \nQ 1303 -91 875 529 \nQ 447 1150 447 2328 \nQ 447 3434 972 4092 \nQ 1497 4750 2381 4750 \nQ 2619 4750 2861 4703 \nQ 3103 4656 3366 4563 \nz\n\" transform=\"scale(0.015625)\"/>\n       </defs>\n       <use xlink:href=\"#DejaVuSans-52\"/>\n       <use xlink:href=\"#DejaVuSans-6f\" transform=\"translate(64.982422 0)\"/>\n       <use xlink:href=\"#DejaVuSans-42\" transform=\"translate(126.164062 0)\"/>\n       <use xlink:href=\"#DejaVuSans-45\" transform=\"translate(194.767578 0)\"/>\n       <use xlink:href=\"#DejaVuSans-52\" transform=\"translate(257.951172 0)\"/>\n       <use xlink:href=\"#DejaVuSans-54\" transform=\"translate(320.183594 0)\"/>\n       <use xlink:href=\"#DejaVuSans-61\" transform=\"translate(364.767578 0)\"/>\n       <use xlink:href=\"#DejaVuSans-2d\" transform=\"translate(426.046875 0)\"/>\n       <use xlink:href=\"#DejaVuSans-32\" transform=\"translate(462.130859 0)\"/>\n       <use xlink:href=\"#DejaVuSans-35\" transform=\"translate(525.753906 0)\"/>\n       <use xlink:href=\"#DejaVuSans-36\" transform=\"translate(589.376953 0)\"/>\n      </g>\n     </g>\n    </g>\n    <g id=\"xtick_3\">\n     <g id=\"line2d_3\">\n      <g>\n       <use xlink:href=\"#mc782449a29\" x=\"477.848228\" y=\"327.558125\" style=\"stroke: #000000; stroke-width: 0.8\"/>\n      </g>\n     </g>\n     <g id=\"text_3\">\n      <!-- RoBERTa-512 -->\n      <g transform=\"translate(445.197447 342.156563) scale(0.1 -0.1)\">\n       <defs>\n        <path id=\"DejaVuSans-31\" d=\"M 794 531 \nL 1825 531 \nL 1825 4091 \nL 703 3866 \nL 703 4441 \nL 1819 4666 \nL 2450 4666 \nL 2450 531 \nL 3481 531 \nL 3481 0 \nL 794 0 \nL 794 531 \nz\n\" transform=\"scale(0.015625)\"/>\n       </defs>\n       <use xlink:href=\"#DejaVuSans-52\"/>\n       <use xlink:href=\"#DejaVuSans-6f\" transform=\"translate(64.982422 0)\"/>\n       <use xlink:href=\"#DejaVuSans-42\" transform=\"translate(126.164062 0)\"/>\n       <use xlink:href=\"#DejaVuSans-45\" transform=\"translate(194.767578 0)\"/>\n       <use xlink:href=\"#DejaVuSans-52\" transform=\"translate(257.951172 0)\"/>\n       <use xlink:href=\"#DejaVuSans-54\" transform=\"translate(320.183594 0)\"/>\n       <use xlink:href=\"#DejaVuSans-61\" transform=\"translate(364.767578 0)\"/>\n       <use xlink:href=\"#DejaVuSans-2d\" transform=\"translate(426.046875 0)\"/>\n       <use xlink:href=\"#DejaVuSans-35\" transform=\"translate(462.130859 0)\"/>\n       <use xlink:href=\"#DejaVuSans-31\" transform=\"translate(525.753906 0)\"/>\n       <use xlink:href=\"#DejaVuSans-32\" transform=\"translate(589.376953 0)\"/>\n      </g>\n     </g>\n    </g>\n   </g>\n   <g id=\"matplotlib.axis_2\">\n    <g id=\"ytick_1\">\n     <g id=\"line2d_4\">\n      <defs>\n       <path id=\"mb9c7144b7e\" d=\"M 0 0 \nL -3.5 0 \n\" style=\"stroke: #000000; stroke-width: 0.8\"/>\n      </defs>\n      <g>\n       <use xlink:href=\"#mb9c7144b7e\" x=\"50.14375\" y=\"327.558125\" style=\"stroke: #000000; stroke-width: 0.8\"/>\n      </g>\n     </g>\n     <g id=\"text_4\">\n      <!-- 0.70 -->\n      <g transform=\"translate(20.878125 331.357344) scale(0.1 -0.1)\">\n       <defs>\n        <path id=\"DejaVuSans-30\" d=\"M 2034 4250 \nQ 1547 4250 1301 3770 \nQ 1056 3291 1056 2328 \nQ 1056 1369 1301 889 \nQ 1547 409 2034 409 \nQ 2525 409 2770 889 \nQ 3016 1369 3016 2328 \nQ 3016 3291 2770 3770 \nQ 2525 4250 2034 4250 \nz\nM 2034 4750 \nQ 2819 4750 3233 4129 \nQ 3647 3509 3647 2328 \nQ 3647 1150 3233 529 \nQ 2819 -91 2034 -91 \nQ 1250 -91 836 529 \nQ 422 1150 422 2328 \nQ 422 3509 836 4129 \nQ 1250 4750 2034 4750 \nz\n\" transform=\"scale(0.015625)\"/>\n        <path id=\"DejaVuSans-2e\" d=\"M 684 794 \nL 1344 794 \nL 1344 0 \nL 684 0 \nL 684 794 \nz\n\" transform=\"scale(0.015625)\"/>\n        <path id=\"DejaVuSans-37\" d=\"M 525 4666 \nL 3525 4666 \nL 3525 4397 \nL 1831 0 \nL 1172 0 \nL 2766 4134 \nL 525 4134 \nL 525 4666 \nz\n\" transform=\"scale(0.015625)\"/>\n       </defs>\n       <use xlink:href=\"#DejaVuSans-30\"/>\n       <use xlink:href=\"#DejaVuSans-2e\" transform=\"translate(63.623047 0)\"/>\n       <use xlink:href=\"#DejaVuSans-37\" transform=\"translate(95.410156 0)\"/>\n       <use xlink:href=\"#DejaVuSans-30\" transform=\"translate(159.033203 0)\"/>\n      </g>\n     </g>\n    </g>\n    <g id=\"ytick_2\">\n     <g id=\"line2d_5\">\n      <g>\n       <use xlink:href=\"#mb9c7144b7e\" x=\"50.14375\" y=\"276.684792\" style=\"stroke: #000000; stroke-width: 0.8\"/>\n      </g>\n     </g>\n     <g id=\"text_5\">\n      <!-- 0.75 -->\n      <g transform=\"translate(20.878125 280.48401) scale(0.1 -0.1)\">\n       <use xlink:href=\"#DejaVuSans-30\"/>\n       <use xlink:href=\"#DejaVuSans-2e\" transform=\"translate(63.623047 0)\"/>\n       <use xlink:href=\"#DejaVuSans-37\" transform=\"translate(95.410156 0)\"/>\n       <use xlink:href=\"#DejaVuSans-35\" transform=\"translate(159.033203 0)\"/>\n      </g>\n     </g>\n    </g>\n    <g id=\"ytick_3\">\n     <g id=\"line2d_6\">\n      <g>\n       <use xlink:href=\"#mb9c7144b7e\" x=\"50.14375\" y=\"225.811458\" style=\"stroke: #000000; stroke-width: 0.8\"/>\n      </g>\n     </g>\n     <g id=\"text_6\">\n      <!-- 0.80 -->\n      <g transform=\"translate(20.878125 229.610677) scale(0.1 -0.1)\">\n       <defs>\n        <path id=\"DejaVuSans-38\" d=\"M 2034 2216 \nQ 1584 2216 1326 1975 \nQ 1069 1734 1069 1313 \nQ 1069 891 1326 650 \nQ 1584 409 2034 409 \nQ 2484 409 2743 651 \nQ 3003 894 3003 1313 \nQ 3003 1734 2745 1975 \nQ 2488 2216 2034 2216 \nz\nM 1403 2484 \nQ 997 2584 770 2862 \nQ 544 3141 544 3541 \nQ 544 4100 942 4425 \nQ 1341 4750 2034 4750 \nQ 2731 4750 3128 4425 \nQ 3525 4100 3525 3541 \nQ 3525 3141 3298 2862 \nQ 3072 2584 2669 2484 \nQ 3125 2378 3379 2068 \nQ 3634 1759 3634 1313 \nQ 3634 634 3220 271 \nQ 2806 -91 2034 -91 \nQ 1263 -91 848 271 \nQ 434 634 434 1313 \nQ 434 1759 690 2068 \nQ 947 2378 1403 2484 \nz\nM 1172 3481 \nQ 1172 3119 1398 2916 \nQ 1625 2713 2034 2713 \nQ 2441 2713 2670 2916 \nQ 2900 3119 2900 3481 \nQ 2900 3844 2670 4047 \nQ 2441 4250 2034 4250 \nQ 1625 4250 1398 4047 \nQ 1172 3844 1172 3481 \nz\n\" transform=\"scale(0.015625)\"/>\n       </defs>\n       <use xlink:href=\"#DejaVuSans-30\"/>\n       <use xlink:href=\"#DejaVuSans-2e\" transform=\"translate(63.623047 0)\"/>\n       <use xlink:href=\"#DejaVuSans-38\" transform=\"translate(95.410156 0)\"/>\n       <use xlink:href=\"#DejaVuSans-30\" transform=\"translate(159.033203 0)\"/>\n      </g>\n     </g>\n    </g>\n    <g id=\"ytick_4\">\n     <g id=\"line2d_7\">\n      <g>\n       <use xlink:href=\"#mb9c7144b7e\" x=\"50.14375\" y=\"174.938125\" style=\"stroke: #000000; stroke-width: 0.8\"/>\n      </g>\n     </g>\n     <g id=\"text_7\">\n      <!-- 0.85 -->\n      <g transform=\"translate(20.878125 178.737344) scale(0.1 -0.1)\">\n       <use xlink:href=\"#DejaVuSans-30\"/>\n       <use xlink:href=\"#DejaVuSans-2e\" transform=\"translate(63.623047 0)\"/>\n       <use xlink:href=\"#DejaVuSans-38\" transform=\"translate(95.410156 0)\"/>\n       <use xlink:href=\"#DejaVuSans-35\" transform=\"translate(159.033203 0)\"/>\n      </g>\n     </g>\n    </g>\n    <g id=\"ytick_5\">\n     <g id=\"line2d_8\">\n      <g>\n       <use xlink:href=\"#mb9c7144b7e\" x=\"50.14375\" y=\"124.064792\" style=\"stroke: #000000; stroke-width: 0.8\"/>\n      </g>\n     </g>\n     <g id=\"text_8\">\n      <!-- 0.90 -->\n      <g transform=\"translate(20.878125 127.86401) scale(0.1 -0.1)\">\n       <defs>\n        <path id=\"DejaVuSans-39\" d=\"M 703 97 \nL 703 672 \nQ 941 559 1184 500 \nQ 1428 441 1663 441 \nQ 2288 441 2617 861 \nQ 2947 1281 2994 2138 \nQ 2813 1869 2534 1725 \nQ 2256 1581 1919 1581 \nQ 1219 1581 811 2004 \nQ 403 2428 403 3163 \nQ 403 3881 828 4315 \nQ 1253 4750 1959 4750 \nQ 2769 4750 3195 4129 \nQ 3622 3509 3622 2328 \nQ 3622 1225 3098 567 \nQ 2575 -91 1691 -91 \nQ 1453 -91 1209 -44 \nQ 966 3 703 97 \nz\nM 1959 2075 \nQ 2384 2075 2632 2365 \nQ 2881 2656 2881 3163 \nQ 2881 3666 2632 3958 \nQ 2384 4250 1959 4250 \nQ 1534 4250 1286 3958 \nQ 1038 3666 1038 3163 \nQ 1038 2656 1286 2365 \nQ 1534 2075 1959 2075 \nz\n\" transform=\"scale(0.015625)\"/>\n       </defs>\n       <use xlink:href=\"#DejaVuSans-30\"/>\n       <use xlink:href=\"#DejaVuSans-2e\" transform=\"translate(63.623047 0)\"/>\n       <use xlink:href=\"#DejaVuSans-39\" transform=\"translate(95.410156 0)\"/>\n       <use xlink:href=\"#DejaVuSans-30\" transform=\"translate(159.033203 0)\"/>\n      </g>\n     </g>\n    </g>\n    <g id=\"ytick_6\">\n     <g id=\"line2d_9\">\n      <g>\n       <use xlink:href=\"#mb9c7144b7e\" x=\"50.14375\" y=\"73.191458\" style=\"stroke: #000000; stroke-width: 0.8\"/>\n      </g>\n     </g>\n     <g id=\"text_9\">\n      <!-- 0.95 -->\n      <g transform=\"translate(20.878125 76.990677) scale(0.1 -0.1)\">\n       <use xlink:href=\"#DejaVuSans-30\"/>\n       <use xlink:href=\"#DejaVuSans-2e\" transform=\"translate(63.623047 0)\"/>\n       <use xlink:href=\"#DejaVuSans-39\" transform=\"translate(95.410156 0)\"/>\n       <use xlink:href=\"#DejaVuSans-35\" transform=\"translate(159.033203 0)\"/>\n      </g>\n     </g>\n    </g>\n    <g id=\"ytick_7\">\n     <g id=\"line2d_10\">\n      <g>\n       <use xlink:href=\"#mb9c7144b7e\" x=\"50.14375\" y=\"22.318125\" style=\"stroke: #000000; stroke-width: 0.8\"/>\n      </g>\n     </g>\n     <g id=\"text_10\">\n      <!-- 1.00 -->\n      <g transform=\"translate(20.878125 26.117344) scale(0.1 -0.1)\">\n       <use xlink:href=\"#DejaVuSans-31\"/>\n       <use xlink:href=\"#DejaVuSans-2e\" transform=\"translate(63.623047 0)\"/>\n       <use xlink:href=\"#DejaVuSans-30\" transform=\"translate(95.410156 0)\"/>\n       <use xlink:href=\"#DejaVuSans-30\" transform=\"translate(159.033203 0)\"/>\n      </g>\n     </g>\n    </g>\n    <g id=\"text_11\">\n     <!-- Macro F1 Score -->\n     <g transform=\"translate(14.798438 213.305313) rotate(-90) scale(0.1 -0.1)\">\n      <defs>\n       <path id=\"DejaVuSans-4d\" d=\"M 628 4666 \nL 1569 4666 \nL 2759 1491 \nL 3956 4666 \nL 4897 4666 \nL 4897 0 \nL 4281 0 \nL 4281 4097 \nL 3078 897 \nL 2444 897 \nL 1241 4097 \nL 1241 0 \nL 628 0 \nL 628 4666 \nz\n\" transform=\"scale(0.015625)\"/>\n       <path id=\"DejaVuSans-63\" d=\"M 3122 3366 \nL 3122 2828 \nQ 2878 2963 2633 3030 \nQ 2388 3097 2138 3097 \nQ 1578 3097 1268 2742 \nQ 959 2388 959 1747 \nQ 959 1106 1268 751 \nQ 1578 397 2138 397 \nQ 2388 397 2633 464 \nQ 2878 531 3122 666 \nL 3122 134 \nQ 2881 22 2623 -34 \nQ 2366 -91 2075 -91 \nQ 1284 -91 818 406 \nQ 353 903 353 1747 \nQ 353 2603 823 3093 \nQ 1294 3584 2113 3584 \nQ 2378 3584 2631 3529 \nQ 2884 3475 3122 3366 \nz\n\" transform=\"scale(0.015625)\"/>\n       <path id=\"DejaVuSans-72\" d=\"M 2631 2963 \nQ 2534 3019 2420 3045 \nQ 2306 3072 2169 3072 \nQ 1681 3072 1420 2755 \nQ 1159 2438 1159 1844 \nL 1159 0 \nL 581 0 \nL 581 3500 \nL 1159 3500 \nL 1159 2956 \nQ 1341 3275 1631 3429 \nQ 1922 3584 2338 3584 \nQ 2397 3584 2469 3576 \nQ 2541 3569 2628 3553 \nL 2631 2963 \nz\n\" transform=\"scale(0.015625)\"/>\n       <path id=\"DejaVuSans-20\" transform=\"scale(0.015625)\"/>\n       <path id=\"DejaVuSans-46\" d=\"M 628 4666 \nL 3309 4666 \nL 3309 4134 \nL 1259 4134 \nL 1259 2759 \nL 3109 2759 \nL 3109 2228 \nL 1259 2228 \nL 1259 0 \nL 628 0 \nL 628 4666 \nz\n\" transform=\"scale(0.015625)\"/>\n       <path id=\"DejaVuSans-53\" d=\"M 3425 4513 \nL 3425 3897 \nQ 3066 4069 2747 4153 \nQ 2428 4238 2131 4238 \nQ 1616 4238 1336 4038 \nQ 1056 3838 1056 3469 \nQ 1056 3159 1242 3001 \nQ 1428 2844 1947 2747 \nL 2328 2669 \nQ 3034 2534 3370 2195 \nQ 3706 1856 3706 1288 \nQ 3706 609 3251 259 \nQ 2797 -91 1919 -91 \nQ 1588 -91 1214 -16 \nQ 841 59 441 206 \nL 441 856 \nQ 825 641 1194 531 \nQ 1563 422 1919 422 \nQ 2459 422 2753 634 \nQ 3047 847 3047 1241 \nQ 3047 1584 2836 1778 \nQ 2625 1972 2144 2069 \nL 1759 2144 \nQ 1053 2284 737 2584 \nQ 422 2884 422 3419 \nQ 422 4038 858 4394 \nQ 1294 4750 2059 4750 \nQ 2388 4750 2728 4690 \nQ 3069 4631 3425 4513 \nz\n\" transform=\"scale(0.015625)\"/>\n       <path id=\"DejaVuSans-65\" d=\"M 3597 1894 \nL 3597 1613 \nL 953 1613 \nQ 991 1019 1311 708 \nQ 1631 397 2203 397 \nQ 2534 397 2845 478 \nQ 3156 559 3463 722 \nL 3463 178 \nQ 3153 47 2828 -22 \nQ 2503 -91 2169 -91 \nQ 1331 -91 842 396 \nQ 353 884 353 1716 \nQ 353 2575 817 3079 \nQ 1281 3584 2069 3584 \nQ 2775 3584 3186 3129 \nQ 3597 2675 3597 1894 \nz\nM 3022 2063 \nQ 3016 2534 2758 2815 \nQ 2500 3097 2075 3097 \nQ 1594 3097 1305 2825 \nQ 1016 2553 972 2059 \nL 3022 2063 \nz\n\" transform=\"scale(0.015625)\"/>\n      </defs>\n      <use xlink:href=\"#DejaVuSans-4d\"/>\n      <use xlink:href=\"#DejaVuSans-61\" transform=\"translate(86.279297 0)\"/>\n      <use xlink:href=\"#DejaVuSans-63\" transform=\"translate(147.558594 0)\"/>\n      <use xlink:href=\"#DejaVuSans-72\" transform=\"translate(202.539062 0)\"/>\n      <use xlink:href=\"#DejaVuSans-6f\" transform=\"translate(241.402344 0)\"/>\n      <use xlink:href=\"#DejaVuSans-20\" transform=\"translate(302.583984 0)\"/>\n      <use xlink:href=\"#DejaVuSans-46\" transform=\"translate(334.371094 0)\"/>\n      <use xlink:href=\"#DejaVuSans-31\" transform=\"translate(391.890625 0)\"/>\n      <use xlink:href=\"#DejaVuSans-20\" transform=\"translate(455.513672 0)\"/>\n      <use xlink:href=\"#DejaVuSans-53\" transform=\"translate(487.300781 0)\"/>\n      <use xlink:href=\"#DejaVuSans-63\" transform=\"translate(550.777344 0)\"/>\n      <use xlink:href=\"#DejaVuSans-6f\" transform=\"translate(605.757812 0)\"/>\n      <use xlink:href=\"#DejaVuSans-72\" transform=\"translate(666.939453 0)\"/>\n      <use xlink:href=\"#DejaVuSans-65\" transform=\"translate(705.802734 0)\"/>\n     </g>\n    </g>\n   </g>\n   <g id=\"patch_9\">\n    <path d=\"M 50.14375 327.558125 \nL 50.14375 22.318125 \n\" style=\"fill: none; stroke: #000000; stroke-width: 0.8; stroke-linejoin: miter; stroke-linecap: square\"/>\n   </g>\n   <g id=\"patch_10\">\n    <path d=\"M 561.32375 327.558125 \nL 561.32375 22.318125 \n\" style=\"fill: none; stroke: #000000; stroke-width: 0.8; stroke-linejoin: miter; stroke-linecap: square\"/>\n   </g>\n   <g id=\"patch_11\">\n    <path d=\"M 50.14375 327.558125 \nL 561.32375 327.558125 \n\" style=\"fill: none; stroke: #000000; stroke-width: 0.8; stroke-linejoin: miter; stroke-linecap: square\"/>\n   </g>\n   <g id=\"patch_12\">\n    <path d=\"M 50.14375 22.318125 \nL 561.32375 22.318125 \n\" style=\"fill: none; stroke: #000000; stroke-width: 0.8; stroke-linejoin: miter; stroke-linecap: square\"/>\n   </g>\n   <g id=\"text_12\">\n    <!-- 0.867 -->\n    <g transform=\"translate(90.616582 152.769473) scale(0.09 -0.09)\">\n     <use xlink:href=\"#DejaVuSans-30\"/>\n     <use xlink:href=\"#DejaVuSans-2e\" transform=\"translate(63.623047 0)\"/>\n     <use xlink:href=\"#DejaVuSans-38\" transform=\"translate(95.410156 0)\"/>\n     <use xlink:href=\"#DejaVuSans-36\" transform=\"translate(159.033203 0)\"/>\n     <use xlink:href=\"#DejaVuSans-37\" transform=\"translate(222.65625 0)\"/>\n    </g>\n   </g>\n   <g id=\"text_13\">\n    <!-- 0.905 -->\n    <g transform=\"translate(262.73106 114.10574) scale(0.09 -0.09)\">\n     <use xlink:href=\"#DejaVuSans-30\"/>\n     <use xlink:href=\"#DejaVuSans-2e\" transform=\"translate(63.623047 0)\"/>\n     <use xlink:href=\"#DejaVuSans-39\" transform=\"translate(95.410156 0)\"/>\n     <use xlink:href=\"#DejaVuSans-30\" transform=\"translate(159.033203 0)\"/>\n     <use xlink:href=\"#DejaVuSans-35\" transform=\"translate(222.65625 0)\"/>\n    </g>\n   </g>\n   <g id=\"text_14\">\n    <!-- 0.915 -->\n    <g transform=\"translate(434.845538 103.931073) scale(0.09 -0.09)\">\n     <use xlink:href=\"#DejaVuSans-30\"/>\n     <use xlink:href=\"#DejaVuSans-2e\" transform=\"translate(63.623047 0)\"/>\n     <use xlink:href=\"#DejaVuSans-39\" transform=\"translate(95.410156 0)\"/>\n     <use xlink:href=\"#DejaVuSans-31\" transform=\"translate(159.033203 0)\"/>\n     <use xlink:href=\"#DejaVuSans-35\" transform=\"translate(222.65625 0)\"/>\n    </g>\n   </g>\n   <g id=\"text_15\">\n    <!-- 0.790 -->\n    <g transform=\"translate(150.856649 231.3179) scale(0.09 -0.09)\">\n     <use xlink:href=\"#DejaVuSans-30\"/>\n     <use xlink:href=\"#DejaVuSans-2e\" transform=\"translate(63.623047 0)\"/>\n     <use xlink:href=\"#DejaVuSans-37\" transform=\"translate(95.410156 0)\"/>\n     <use xlink:href=\"#DejaVuSans-39\" transform=\"translate(159.033203 0)\"/>\n     <use xlink:href=\"#DejaVuSans-30\" transform=\"translate(222.65625 0)\"/>\n    </g>\n   </g>\n   <g id=\"text_16\">\n    <!-- 0.849 -->\n    <g transform=\"translate(322.971127 171.083873) scale(0.09 -0.09)\">\n     <defs>\n      <path id=\"DejaVuSans-34\" d=\"M 2419 4116 \nL 825 1625 \nL 2419 1625 \nL 2419 4116 \nz\nM 2253 4666 \nL 3047 4666 \nL 3047 1625 \nL 3713 1625 \nL 3713 1100 \nL 3047 1100 \nL 3047 0 \nL 2419 0 \nL 2419 1100 \nL 313 1100 \nL 313 1709 \nL 2253 4666 \nz\n\" transform=\"scale(0.015625)\"/>\n     </defs>\n     <use xlink:href=\"#DejaVuSans-30\"/>\n     <use xlink:href=\"#DejaVuSans-2e\" transform=\"translate(63.623047 0)\"/>\n     <use xlink:href=\"#DejaVuSans-38\" transform=\"translate(95.410156 0)\"/>\n     <use xlink:href=\"#DejaVuSans-34\" transform=\"translate(159.033203 0)\"/>\n     <use xlink:href=\"#DejaVuSans-39\" transform=\"translate(222.65625 0)\"/>\n    </g>\n   </g>\n   <g id=\"text_17\">\n    <!-- 0.832 -->\n    <g transform=\"translate(495.085606 188.27906) scale(0.09 -0.09)\">\n     <defs>\n      <path id=\"DejaVuSans-33\" d=\"M 2597 2516 \nQ 3050 2419 3304 2112 \nQ 3559 1806 3559 1356 \nQ 3559 666 3084 287 \nQ 2609 -91 1734 -91 \nQ 1441 -91 1130 -33 \nQ 819 25 488 141 \nL 488 750 \nQ 750 597 1062 519 \nQ 1375 441 1716 441 \nQ 2309 441 2620 675 \nQ 2931 909 2931 1356 \nQ 2931 1769 2642 2001 \nQ 2353 2234 1838 2234 \nL 1294 2234 \nL 1294 2753 \nL 1863 2753 \nQ 2328 2753 2575 2939 \nQ 2822 3125 2822 3475 \nQ 2822 3834 2567 4026 \nQ 2313 4219 1838 4219 \nQ 1578 4219 1281 4162 \nQ 984 4106 628 3988 \nL 628 4550 \nQ 988 4650 1302 4700 \nQ 1616 4750 1894 4750 \nQ 2613 4750 3031 4423 \nQ 3450 4097 3450 3541 \nQ 3450 3153 3228 2886 \nQ 3006 2619 2597 2516 \nz\n\" transform=\"scale(0.015625)\"/>\n     </defs>\n     <use xlink:href=\"#DejaVuSans-30\"/>\n     <use xlink:href=\"#DejaVuSans-2e\" transform=\"translate(63.623047 0)\"/>\n     <use xlink:href=\"#DejaVuSans-38\" transform=\"translate(95.410156 0)\"/>\n     <use xlink:href=\"#DejaVuSans-33\" transform=\"translate(159.033203 0)\"/>\n     <use xlink:href=\"#DejaVuSans-32\" transform=\"translate(222.65625 0)\"/>\n    </g>\n   </g>\n   <g id=\"text_18\">\n    <!-- Macro-F1 Comparison: IMDB vs Rotten Tomatoes (Zero-Shot) -->\n    <g transform=\"translate(123.439687 16.318125) scale(0.12 -0.12)\">\n     <defs>\n      <path id=\"DejaVuSans-43\" d=\"M 4122 4306 \nL 4122 3641 \nQ 3803 3938 3442 4084 \nQ 3081 4231 2675 4231 \nQ 1875 4231 1450 3742 \nQ 1025 3253 1025 2328 \nQ 1025 1406 1450 917 \nQ 1875 428 2675 428 \nQ 3081 428 3442 575 \nQ 3803 722 4122 1019 \nL 4122 359 \nQ 3791 134 3420 21 \nQ 3050 -91 2638 -91 \nQ 1578 -91 968 557 \nQ 359 1206 359 2328 \nQ 359 3453 968 4101 \nQ 1578 4750 2638 4750 \nQ 3056 4750 3426 4639 \nQ 3797 4528 4122 4306 \nz\n\" transform=\"scale(0.015625)\"/>\n      <path id=\"DejaVuSans-6d\" d=\"M 3328 2828 \nQ 3544 3216 3844 3400 \nQ 4144 3584 4550 3584 \nQ 5097 3584 5394 3201 \nQ 5691 2819 5691 2113 \nL 5691 0 \nL 5113 0 \nL 5113 2094 \nQ 5113 2597 4934 2840 \nQ 4756 3084 4391 3084 \nQ 3944 3084 3684 2787 \nQ 3425 2491 3425 1978 \nL 3425 0 \nL 2847 0 \nL 2847 2094 \nQ 2847 2600 2669 2842 \nQ 2491 3084 2119 3084 \nQ 1678 3084 1418 2786 \nQ 1159 2488 1159 1978 \nL 1159 0 \nL 581 0 \nL 581 3500 \nL 1159 3500 \nL 1159 2956 \nQ 1356 3278 1631 3431 \nQ 1906 3584 2284 3584 \nQ 2666 3584 2933 3390 \nQ 3200 3197 3328 2828 \nz\n\" transform=\"scale(0.015625)\"/>\n      <path id=\"DejaVuSans-70\" d=\"M 1159 525 \nL 1159 -1331 \nL 581 -1331 \nL 581 3500 \nL 1159 3500 \nL 1159 2969 \nQ 1341 3281 1617 3432 \nQ 1894 3584 2278 3584 \nQ 2916 3584 3314 3078 \nQ 3713 2572 3713 1747 \nQ 3713 922 3314 415 \nQ 2916 -91 2278 -91 \nQ 1894 -91 1617 61 \nQ 1341 213 1159 525 \nz\nM 3116 1747 \nQ 3116 2381 2855 2742 \nQ 2594 3103 2138 3103 \nQ 1681 3103 1420 2742 \nQ 1159 2381 1159 1747 \nQ 1159 1113 1420 752 \nQ 1681 391 2138 391 \nQ 2594 391 2855 752 \nQ 3116 1113 3116 1747 \nz\n\" transform=\"scale(0.015625)\"/>\n      <path id=\"DejaVuSans-6e\" d=\"M 3513 2113 \nL 3513 0 \nL 2938 0 \nL 2938 2094 \nQ 2938 2591 2744 2837 \nQ 2550 3084 2163 3084 \nQ 1697 3084 1428 2787 \nQ 1159 2491 1159 1978 \nL 1159 0 \nL 581 0 \nL 581 3500 \nL 1159 3500 \nL 1159 2956 \nQ 1366 3272 1645 3428 \nQ 1925 3584 2291 3584 \nQ 2894 3584 3203 3211 \nQ 3513 2838 3513 2113 \nz\n\" transform=\"scale(0.015625)\"/>\n      <path id=\"DejaVuSans-3a\" d=\"M 750 794 \nL 1409 794 \nL 1409 0 \nL 750 0 \nL 750 794 \nz\nM 750 3309 \nL 1409 3309 \nL 1409 2516 \nL 750 2516 \nL 750 3309 \nz\n\" transform=\"scale(0.015625)\"/>\n      <path id=\"DejaVuSans-49\" d=\"M 628 4666 \nL 1259 4666 \nL 1259 0 \nL 628 0 \nL 628 4666 \nz\n\" transform=\"scale(0.015625)\"/>\n      <path id=\"DejaVuSans-76\" d=\"M 191 3500 \nL 800 3500 \nL 1894 563 \nL 2988 3500 \nL 3597 3500 \nL 2284 0 \nL 1503 0 \nL 191 3500 \nz\n\" transform=\"scale(0.015625)\"/>\n      <path id=\"DejaVuSans-28\" d=\"M 1984 4856 \nQ 1566 4138 1362 3434 \nQ 1159 2731 1159 2009 \nQ 1159 1288 1364 580 \nQ 1569 -128 1984 -844 \nL 1484 -844 \nQ 1016 -109 783 600 \nQ 550 1309 550 2009 \nQ 550 2706 781 3412 \nQ 1013 4119 1484 4856 \nL 1984 4856 \nz\n\" transform=\"scale(0.015625)\"/>\n      <path id=\"DejaVuSans-5a\" d=\"M 359 4666 \nL 4025 4666 \nL 4025 4184 \nL 1075 531 \nL 4097 531 \nL 4097 0 \nL 288 0 \nL 288 481 \nL 3238 4134 \nL 359 4134 \nL 359 4666 \nz\n\" transform=\"scale(0.015625)\"/>\n      <path id=\"DejaVuSans-68\" d=\"M 3513 2113 \nL 3513 0 \nL 2938 0 \nL 2938 2094 \nQ 2938 2591 2744 2837 \nQ 2550 3084 2163 3084 \nQ 1697 3084 1428 2787 \nQ 1159 2491 1159 1978 \nL 1159 0 \nL 581 0 \nL 581 4863 \nL 1159 4863 \nL 1159 2956 \nQ 1366 3272 1645 3428 \nQ 1925 3584 2291 3584 \nQ 2894 3584 3203 3211 \nQ 3513 2838 3513 2113 \nz\n\" transform=\"scale(0.015625)\"/>\n      <path id=\"DejaVuSans-29\" d=\"M 513 4856 \nL 1013 4856 \nQ 1481 4119 1714 3412 \nQ 1947 2706 1947 2009 \nQ 1947 1309 1714 600 \nQ 1481 -109 1013 -844 \nL 513 -844 \nQ 928 -128 1133 580 \nQ 1338 1288 1338 2009 \nQ 1338 2731 1133 3434 \nQ 928 4138 513 4856 \nz\n\" transform=\"scale(0.015625)\"/>\n     </defs>\n     <use xlink:href=\"#DejaVuSans-4d\"/>\n     <use xlink:href=\"#DejaVuSans-61\" transform=\"translate(86.279297 0)\"/>\n     <use xlink:href=\"#DejaVuSans-63\" transform=\"translate(147.558594 0)\"/>\n     <use xlink:href=\"#DejaVuSans-72\" transform=\"translate(202.539062 0)\"/>\n     <use xlink:href=\"#DejaVuSans-6f\" transform=\"translate(241.402344 0)\"/>\n     <use xlink:href=\"#DejaVuSans-2d\" transform=\"translate(304.458984 0)\"/>\n     <use xlink:href=\"#DejaVuSans-46\" transform=\"translate(340.542969 0)\"/>\n     <use xlink:href=\"#DejaVuSans-31\" transform=\"translate(398.0625 0)\"/>\n     <use xlink:href=\"#DejaVuSans-20\" transform=\"translate(461.685547 0)\"/>\n     <use xlink:href=\"#DejaVuSans-43\" transform=\"translate(493.472656 0)\"/>\n     <use xlink:href=\"#DejaVuSans-6f\" transform=\"translate(563.296875 0)\"/>\n     <use xlink:href=\"#DejaVuSans-6d\" transform=\"translate(624.478516 0)\"/>\n     <use xlink:href=\"#DejaVuSans-70\" transform=\"translate(721.890625 0)\"/>\n     <use xlink:href=\"#DejaVuSans-61\" transform=\"translate(785.367188 0)\"/>\n     <use xlink:href=\"#DejaVuSans-72\" transform=\"translate(846.646484 0)\"/>\n     <use xlink:href=\"#DejaVuSans-69\" transform=\"translate(887.759766 0)\"/>\n     <use xlink:href=\"#DejaVuSans-73\" transform=\"translate(915.542969 0)\"/>\n     <use xlink:href=\"#DejaVuSans-6f\" transform=\"translate(967.642578 0)\"/>\n     <use xlink:href=\"#DejaVuSans-6e\" transform=\"translate(1028.824219 0)\"/>\n     <use xlink:href=\"#DejaVuSans-3a\" transform=\"translate(1092.203125 0)\"/>\n     <use xlink:href=\"#DejaVuSans-20\" transform=\"translate(1125.894531 0)\"/>\n     <use xlink:href=\"#DejaVuSans-49\" transform=\"translate(1157.681641 0)\"/>\n     <use xlink:href=\"#DejaVuSans-4d\" transform=\"translate(1187.173828 0)\"/>\n     <use xlink:href=\"#DejaVuSans-44\" transform=\"translate(1273.453125 0)\"/>\n     <use xlink:href=\"#DejaVuSans-42\" transform=\"translate(1350.455078 0)\"/>\n     <use xlink:href=\"#DejaVuSans-20\" transform=\"translate(1419.058594 0)\"/>\n     <use xlink:href=\"#DejaVuSans-76\" transform=\"translate(1450.845703 0)\"/>\n     <use xlink:href=\"#DejaVuSans-73\" transform=\"translate(1510.025391 0)\"/>\n     <use xlink:href=\"#DejaVuSans-20\" transform=\"translate(1562.125 0)\"/>\n     <use xlink:href=\"#DejaVuSans-52\" transform=\"translate(1593.912109 0)\"/>\n     <use xlink:href=\"#DejaVuSans-6f\" transform=\"translate(1658.894531 0)\"/>\n     <use xlink:href=\"#DejaVuSans-74\" transform=\"translate(1720.076172 0)\"/>\n     <use xlink:href=\"#DejaVuSans-74\" transform=\"translate(1759.285156 0)\"/>\n     <use xlink:href=\"#DejaVuSans-65\" transform=\"translate(1798.494141 0)\"/>\n     <use xlink:href=\"#DejaVuSans-6e\" transform=\"translate(1860.017578 0)\"/>\n     <use xlink:href=\"#DejaVuSans-20\" transform=\"translate(1923.396484 0)\"/>\n     <use xlink:href=\"#DejaVuSans-54\" transform=\"translate(1955.183594 0)\"/>\n     <use xlink:href=\"#DejaVuSans-6f\" transform=\"translate(1999.267578 0)\"/>\n     <use xlink:href=\"#DejaVuSans-6d\" transform=\"translate(2060.449219 0)\"/>\n     <use xlink:href=\"#DejaVuSans-61\" transform=\"translate(2157.861328 0)\"/>\n     <use xlink:href=\"#DejaVuSans-74\" transform=\"translate(2219.140625 0)\"/>\n     <use xlink:href=\"#DejaVuSans-6f\" transform=\"translate(2258.349609 0)\"/>\n     <use xlink:href=\"#DejaVuSans-65\" transform=\"translate(2319.53125 0)\"/>\n     <use xlink:href=\"#DejaVuSans-73\" transform=\"translate(2381.054688 0)\"/>\n     <use xlink:href=\"#DejaVuSans-20\" transform=\"translate(2433.154297 0)\"/>\n     <use xlink:href=\"#DejaVuSans-28\" transform=\"translate(2464.941406 0)\"/>\n     <use xlink:href=\"#DejaVuSans-5a\" transform=\"translate(2503.955078 0)\"/>\n     <use xlink:href=\"#DejaVuSans-65\" transform=\"translate(2572.460938 0)\"/>\n     <use xlink:href=\"#DejaVuSans-72\" transform=\"translate(2633.984375 0)\"/>\n     <use xlink:href=\"#DejaVuSans-6f\" transform=\"translate(2672.847656 0)\"/>\n     <use xlink:href=\"#DejaVuSans-2d\" transform=\"translate(2735.904297 0)\"/>\n     <use xlink:href=\"#DejaVuSans-53\" transform=\"translate(2771.988281 0)\"/>\n     <use xlink:href=\"#DejaVuSans-68\" transform=\"translate(2835.464844 0)\"/>\n     <use xlink:href=\"#DejaVuSans-6f\" transform=\"translate(2898.84375 0)\"/>\n     <use xlink:href=\"#DejaVuSans-74\" transform=\"translate(2960.025391 0)\"/>\n     <use xlink:href=\"#DejaVuSans-29\" transform=\"translate(2999.234375 0)\"/>\n    </g>\n   </g>\n   <g id=\"legend_1\">\n    <g id=\"patch_13\">\n     <path d=\"M 380.631562 59.674375 \nL 554.32375 59.674375 \nQ 556.32375 59.674375 556.32375 57.674375 \nL 556.32375 29.318125 \nQ 556.32375 27.318125 554.32375 27.318125 \nL 380.631562 27.318125 \nQ 378.631562 27.318125 378.631562 29.318125 \nL 378.631562 57.674375 \nQ 378.631562 59.674375 380.631562 59.674375 \nz\n\" style=\"fill: #ffffff; opacity: 0.8; stroke: #cccccc; stroke-linejoin: miter\"/>\n    </g>\n    <g id=\"patch_14\">\n     <path d=\"M 382.631562 38.916562 \nL 402.631562 38.916562 \nL 402.631562 31.916562 \nL 382.631562 31.916562 \nz\n\" style=\"fill: #4682b4\"/>\n    </g>\n    <g id=\"text_19\">\n     <!-- IMDB (in-domain) -->\n     <g transform=\"translate(410.631562 38.916562) scale(0.1 -0.1)\">\n      <defs>\n       <path id=\"DejaVuSans-64\" d=\"M 2906 2969 \nL 2906 4863 \nL 3481 4863 \nL 3481 0 \nL 2906 0 \nL 2906 525 \nQ 2725 213 2448 61 \nQ 2172 -91 1784 -91 \nQ 1150 -91 751 415 \nQ 353 922 353 1747 \nQ 353 2572 751 3078 \nQ 1150 3584 1784 3584 \nQ 2172 3584 2448 3432 \nQ 2725 3281 2906 2969 \nz\nM 947 1747 \nQ 947 1113 1208 752 \nQ 1469 391 1925 391 \nQ 2381 391 2643 752 \nQ 2906 1113 2906 1747 \nQ 2906 2381 2643 2742 \nQ 2381 3103 1925 3103 \nQ 1469 3103 1208 2742 \nQ 947 2381 947 1747 \nz\n\" transform=\"scale(0.015625)\"/>\n      </defs>\n      <use xlink:href=\"#DejaVuSans-49\"/>\n      <use xlink:href=\"#DejaVuSans-4d\" transform=\"translate(29.492188 0)\"/>\n      <use xlink:href=\"#DejaVuSans-44\" transform=\"translate(115.771484 0)\"/>\n      <use xlink:href=\"#DejaVuSans-42\" transform=\"translate(192.773438 0)\"/>\n      <use xlink:href=\"#DejaVuSans-20\" transform=\"translate(261.376953 0)\"/>\n      <use xlink:href=\"#DejaVuSans-28\" transform=\"translate(293.164062 0)\"/>\n      <use xlink:href=\"#DejaVuSans-69\" transform=\"translate(332.177734 0)\"/>\n      <use xlink:href=\"#DejaVuSans-6e\" transform=\"translate(359.960938 0)\"/>\n      <use xlink:href=\"#DejaVuSans-2d\" transform=\"translate(423.339844 0)\"/>\n      <use xlink:href=\"#DejaVuSans-64\" transform=\"translate(459.423828 0)\"/>\n      <use xlink:href=\"#DejaVuSans-6f\" transform=\"translate(522.900391 0)\"/>\n      <use xlink:href=\"#DejaVuSans-6d\" transform=\"translate(584.082031 0)\"/>\n      <use xlink:href=\"#DejaVuSans-61\" transform=\"translate(681.494141 0)\"/>\n      <use xlink:href=\"#DejaVuSans-69\" transform=\"translate(742.773438 0)\"/>\n      <use xlink:href=\"#DejaVuSans-6e\" transform=\"translate(770.556641 0)\"/>\n      <use xlink:href=\"#DejaVuSans-29\" transform=\"translate(833.935547 0)\"/>\n     </g>\n    </g>\n    <g id=\"patch_15\">\n     <path d=\"M 382.631562 53.594688 \nL 402.631562 53.594688 \nL 402.631562 46.594688 \nL 382.631562 46.594688 \nz\n\" style=\"fill: #ffa500\"/>\n    </g>\n    <g id=\"text_20\">\n     <!-- Rotten Tomatoes (zero-shot) -->\n     <g transform=\"translate(410.631562 53.594688) scale(0.1 -0.1)\">\n      <defs>\n       <path id=\"DejaVuSans-7a\" d=\"M 353 3500 \nL 3084 3500 \nL 3084 2975 \nL 922 459 \nL 3084 459 \nL 3084 0 \nL 275 0 \nL 275 525 \nL 2438 3041 \nL 353 3041 \nL 353 3500 \nz\n\" transform=\"scale(0.015625)\"/>\n      </defs>\n      <use xlink:href=\"#DejaVuSans-52\"/>\n      <use xlink:href=\"#DejaVuSans-6f\" transform=\"translate(64.982422 0)\"/>\n      <use xlink:href=\"#DejaVuSans-74\" transform=\"translate(126.164062 0)\"/>\n      <use xlink:href=\"#DejaVuSans-74\" transform=\"translate(165.373047 0)\"/>\n      <use xlink:href=\"#DejaVuSans-65\" transform=\"translate(204.582031 0)\"/>\n      <use xlink:href=\"#DejaVuSans-6e\" transform=\"translate(266.105469 0)\"/>\n      <use xlink:href=\"#DejaVuSans-20\" transform=\"translate(329.484375 0)\"/>\n      <use xlink:href=\"#DejaVuSans-54\" transform=\"translate(361.271484 0)\"/>\n      <use xlink:href=\"#DejaVuSans-6f\" transform=\"translate(405.355469 0)\"/>\n      <use xlink:href=\"#DejaVuSans-6d\" transform=\"translate(466.537109 0)\"/>\n      <use xlink:href=\"#DejaVuSans-61\" transform=\"translate(563.949219 0)\"/>\n      <use xlink:href=\"#DejaVuSans-74\" transform=\"translate(625.228516 0)\"/>\n      <use xlink:href=\"#DejaVuSans-6f\" transform=\"translate(664.4375 0)\"/>\n      <use xlink:href=\"#DejaVuSans-65\" transform=\"translate(725.619141 0)\"/>\n      <use xlink:href=\"#DejaVuSans-73\" transform=\"translate(787.142578 0)\"/>\n      <use xlink:href=\"#DejaVuSans-20\" transform=\"translate(839.242188 0)\"/>\n      <use xlink:href=\"#DejaVuSans-28\" transform=\"translate(871.029297 0)\"/>\n      <use xlink:href=\"#DejaVuSans-7a\" transform=\"translate(910.042969 0)\"/>\n      <use xlink:href=\"#DejaVuSans-65\" transform=\"translate(962.533203 0)\"/>\n      <use xlink:href=\"#DejaVuSans-72\" transform=\"translate(1024.056641 0)\"/>\n      <use xlink:href=\"#DejaVuSans-6f\" transform=\"translate(1062.919922 0)\"/>\n      <use xlink:href=\"#DejaVuSans-2d\" transform=\"translate(1125.976562 0)\"/>\n      <use xlink:href=\"#DejaVuSans-73\" transform=\"translate(1162.060547 0)\"/>\n      <use xlink:href=\"#DejaVuSans-68\" transform=\"translate(1214.160156 0)\"/>\n      <use xlink:href=\"#DejaVuSans-6f\" transform=\"translate(1277.539062 0)\"/>\n      <use xlink:href=\"#DejaVuSans-74\" transform=\"translate(1338.720703 0)\"/>\n      <use xlink:href=\"#DejaVuSans-29\" transform=\"translate(1377.929688 0)\"/>\n     </g>\n    </g>\n   </g>\n  </g>\n </g>\n <defs>\n  <clipPath id=\"paca44ab261\">\n   <rect x=\"50.14375\" y=\"22.318125\" width=\"511.18\" height=\"305.24\"/>\n  </clipPath>\n </defs>\n</svg>\n"
          },
          "metadata": {}
        }
      ]
    },
    {
      "cell_type": "code",
      "source": [
        "try:\n",
        "    rt = load_dataset(\"rotten_tomatoes\")\n",
        "    MAX_LEN = 256\n",
        "    BATCH = 16\n",
        "\n",
        "    # DistilBERT (IMDB-trained)\n",
        "    distil = LLMFineTuner(\n",
        "        model_cls=DistilBertForSequenceClassification,\n",
        "        pretrained_model_name_or_path=\"./distilbert-best\",\n",
        "        tokenizer_cls=DistilBertTokenizer,\n",
        "    )\n",
        "    res_distil = distil.zero_shot_evaluate(\n",
        "        model_path=\"./distilbert-best\",\n",
        "        dataset_split=rt[\"validation\"],\n",
        "        max_len=MAX_LEN,\n",
        "        batch_size=BATCH\n",
        "    )\n",
        "\n",
        "    # RoBERTa-256 (IMDB-trained)\n",
        "    roberta_256 = LLMFineTuner(\n",
        "        model_cls=AutoModelForSequenceClassification,\n",
        "        pretrained_model_name_or_path=\"./roberta-best\",\n",
        "        tokenizer_cls=AutoTokenizer,\n",
        "    )\n",
        "    res_r256 = roberta_256.zero_shot_evaluate(\n",
        "        model_path=\"./roberta-best\",\n",
        "        dataset_split=rt[\"validation\"],\n",
        "        max_len=MAX_LEN,\n",
        "        batch_size=BATCH\n",
        "    )\n",
        "\n",
        "    # RoBERTa-512 (IMDB-trained)\n",
        "    roberta_512 = LLMFineTuner(\n",
        "        model_cls=AutoModelForSequenceClassification,\n",
        "        pretrained_model_name_or_path=\"./RoBERTa_512-best\",\n",
        "        tokenizer_cls=AutoTokenizer,\n",
        "    )\n",
        "    res_r512 = roberta_512.zero_shot_evaluate(\n",
        "        model_path=\"./RoBERTa_512-best\",\n",
        "        dataset_split=rt[\"validation\"],\n",
        "        max_len=512,   # tu peux tester aussi 256\n",
        "        batch_size=BATCH\n",
        "    )\n",
        "\n",
        "except Exception as e:\n",
        "    print(\"Zero-shot evaluation skipped:\", e)"
      ],
      "metadata": {
        "id": "T3T0_PeV5Gx5"
      },
      "id": "T3T0_PeV5Gx5",
      "execution_count": null,
      "outputs": []
    },
    {
      "cell_type": "code",
      "source": [
        "import matplotlib.pyplot as plt\n",
        "import numpy as np\n",
        "\n",
        "# 1) Évaluations IMDB (in-domain) avec evaluate()\n",
        "res_distil_imdb = distil.evaluate()\n",
        "res_r256_imdb   = roberta_256.evaluate()\n",
        "res_r512_imdb   = roberta_512.evaluate()\n",
        "\n",
        "# 2) Évaluations Rotten Tomatoes (zero-shot) avec zero_shot_evaluate()\n",
        "res_distil_rt = distil.zero_shot_evaluate(\"./distilbert-best\", rt[\"validation\"], max_len=256, batch_size=16, verbose=False)\n",
        "res_r256_rt   = roberta_256.zero_shot_evaluate(\"./roberta-best\", rt[\"validation\"], max_len=256, batch_size=16, verbose=False)\n",
        "res_r512_rt   = roberta_512.zero_shot_evaluate(\"./RoBERTa_512-best\", rt[\"validation\"], max_len=512, batch_size=16, verbose=False)\n",
        "\n",
        "# 3) Extraire les macro-F1\n",
        "models = [\"DistilBERT\", \"RoBERTa-256\", \"RoBERTa-512\"]\n",
        "f1_imdb = [\n",
        "    res_distil_imdb[\"f1_score\"],\n",
        "    res_r256_imdb[\"f1_score\"],\n",
        "    res_r512_imdb[\"f1_score\"]\n",
        "]\n",
        "f1_rt = [\n",
        "    res_distil_rt[\"macro_f1\"],\n",
        "    res_r256_rt[\"macro_f1\"],\n",
        "    res_r512_rt[\"macro_f1\"]\n",
        "]\n",
        "\n",
        "# 4) Visualisation\n",
        "x = np.arange(len(models))\n",
        "width = 0.35\n",
        "\n",
        "fig, ax = plt.subplots(figsize=(8,5))\n",
        "bars1 = ax.bar(x - width/2, f1_imdb, width, label=\"IMDB (in-domain)\", color=\"steelblue\")\n",
        "bars2 = ax.bar(x + width/2, f1_rt, width, label=\"Rotten Tomatoes (zero-shot)\", color=\"orange\")\n",
        "\n",
        "ax.set_ylabel(\"Macro F1 Score\")\n",
        "ax.set_title(\"Macro-F1 Comparison: IMDB vs Rotten Tomatoes (Zero-Shot)\")\n",
        "ax.set_xticks(x)\n",
        "ax.set_xticklabels(models)\n",
        "ax.set_ylim(0.7, 1.0)\n",
        "ax.legend()\n",
        "\n",
        "for bars in [bars1, bars2]:\n",
        "    for bar in bars:\n",
        "        height = bar.get_height()\n",
        "        ax.annotate(f'{height:.3f}',\n",
        "                    xy=(bar.get_x() + bar.get_width() / 2, height),\n",
        "                    xytext=(0, 3),\n",
        "                    textcoords=\"offset points\",\n",
        "                    ha='center', va='bottom', fontsize=9)\n",
        "\n",
        "plt.tight_layout()\n",
        "plt.show()"
      ],
      "metadata": {
        "id": "jmywioNQ51VA"
      },
      "id": "jmywioNQ51VA",
      "execution_count": null,
      "outputs": []
    }
  ],
  "metadata": {
    "accelerator": "GPU",
    "colab": {
      "gpuType": "T4",
      "provenance": [],
      "toc_visible": true
    },
    "kernelspec": {
      "display_name": "Python 3",
      "name": "python3"
    },
    "language_info": {
      "codemirror_mode": {
        "name": "ipython",
        "version": 3
      },
      "file_extension": ".py",
      "mimetype": "text/x-python",
      "name": "python",
      "nbconvert_exporter": "python",
      "pygments_lexer": "ipython3",
      "version": "3.10.12"
    },
    "widgets": {
      "application/vnd.jupyter.widget-state+json": {
        "bc965378d41f433e98a4cf9e1a41dab5": {
          "model_module": "@jupyter-widgets/controls",
          "model_name": "HBoxModel",
          "model_module_version": "1.5.0",
          "state": {
            "_dom_classes": [],
            "_model_module": "@jupyter-widgets/controls",
            "_model_module_version": "1.5.0",
            "_model_name": "HBoxModel",
            "_view_count": null,
            "_view_module": "@jupyter-widgets/controls",
            "_view_module_version": "1.5.0",
            "_view_name": "HBoxView",
            "box_style": "",
            "children": [
              "IPY_MODEL_c8fe6d00865347c0845958790aa51af3",
              "IPY_MODEL_6af734f9ca3e41d3a2f68eaa7e25f22a",
              "IPY_MODEL_ba965a938ebe4f4bb811966b6dc095fa"
            ],
            "layout": "IPY_MODEL_df47f22cb9074f3b9f29f5bc5b84b09a"
          }
        },
        "c8fe6d00865347c0845958790aa51af3": {
          "model_module": "@jupyter-widgets/controls",
          "model_name": "HTMLModel",
          "model_module_version": "1.5.0",
          "state": {
            "_dom_classes": [],
            "_model_module": "@jupyter-widgets/controls",
            "_model_module_version": "1.5.0",
            "_model_name": "HTMLModel",
            "_view_count": null,
            "_view_module": "@jupyter-widgets/controls",
            "_view_module_version": "1.5.0",
            "_view_name": "HTMLView",
            "description": "",
            "description_tooltip": null,
            "layout": "IPY_MODEL_7d1137b6acb4428eb6e3cb673c94f96b",
            "placeholder": "​",
            "style": "IPY_MODEL_de55c0eed3fa48cc881392424a083eda",
            "value": "Map: 100%"
          }
        },
        "6af734f9ca3e41d3a2f68eaa7e25f22a": {
          "model_module": "@jupyter-widgets/controls",
          "model_name": "FloatProgressModel",
          "model_module_version": "1.5.0",
          "state": {
            "_dom_classes": [],
            "_model_module": "@jupyter-widgets/controls",
            "_model_module_version": "1.5.0",
            "_model_name": "FloatProgressModel",
            "_view_count": null,
            "_view_module": "@jupyter-widgets/controls",
            "_view_module_version": "1.5.0",
            "_view_name": "ProgressView",
            "bar_style": "success",
            "description": "",
            "description_tooltip": null,
            "layout": "IPY_MODEL_9a17ebcb166c4bc595a894235cc03a78",
            "max": 2000,
            "min": 0,
            "orientation": "horizontal",
            "style": "IPY_MODEL_af9fab1fdf1c40d7ad1207bee3f9f7b0",
            "value": 2000
          }
        },
        "ba965a938ebe4f4bb811966b6dc095fa": {
          "model_module": "@jupyter-widgets/controls",
          "model_name": "HTMLModel",
          "model_module_version": "1.5.0",
          "state": {
            "_dom_classes": [],
            "_model_module": "@jupyter-widgets/controls",
            "_model_module_version": "1.5.0",
            "_model_name": "HTMLModel",
            "_view_count": null,
            "_view_module": "@jupyter-widgets/controls",
            "_view_module_version": "1.5.0",
            "_view_name": "HTMLView",
            "description": "",
            "description_tooltip": null,
            "layout": "IPY_MODEL_e74c74903854470bae65631dcd31d6ec",
            "placeholder": "​",
            "style": "IPY_MODEL_0655df57dfbe4f9e846af0d615b1386b",
            "value": " 2000/2000 [00:02&lt;00:00, 932.83 examples/s]"
          }
        },
        "df47f22cb9074f3b9f29f5bc5b84b09a": {
          "model_module": "@jupyter-widgets/base",
          "model_name": "LayoutModel",
          "model_module_version": "1.2.0",
          "state": {
            "_model_module": "@jupyter-widgets/base",
            "_model_module_version": "1.2.0",
            "_model_name": "LayoutModel",
            "_view_count": null,
            "_view_module": "@jupyter-widgets/base",
            "_view_module_version": "1.2.0",
            "_view_name": "LayoutView",
            "align_content": null,
            "align_items": null,
            "align_self": null,
            "border": null,
            "bottom": null,
            "display": null,
            "flex": null,
            "flex_flow": null,
            "grid_area": null,
            "grid_auto_columns": null,
            "grid_auto_flow": null,
            "grid_auto_rows": null,
            "grid_column": null,
            "grid_gap": null,
            "grid_row": null,
            "grid_template_areas": null,
            "grid_template_columns": null,
            "grid_template_rows": null,
            "height": null,
            "justify_content": null,
            "justify_items": null,
            "left": null,
            "margin": null,
            "max_height": null,
            "max_width": null,
            "min_height": null,
            "min_width": null,
            "object_fit": null,
            "object_position": null,
            "order": null,
            "overflow": null,
            "overflow_x": null,
            "overflow_y": null,
            "padding": null,
            "right": null,
            "top": null,
            "visibility": null,
            "width": null
          }
        },
        "7d1137b6acb4428eb6e3cb673c94f96b": {
          "model_module": "@jupyter-widgets/base",
          "model_name": "LayoutModel",
          "model_module_version": "1.2.0",
          "state": {
            "_model_module": "@jupyter-widgets/base",
            "_model_module_version": "1.2.0",
            "_model_name": "LayoutModel",
            "_view_count": null,
            "_view_module": "@jupyter-widgets/base",
            "_view_module_version": "1.2.0",
            "_view_name": "LayoutView",
            "align_content": null,
            "align_items": null,
            "align_self": null,
            "border": null,
            "bottom": null,
            "display": null,
            "flex": null,
            "flex_flow": null,
            "grid_area": null,
            "grid_auto_columns": null,
            "grid_auto_flow": null,
            "grid_auto_rows": null,
            "grid_column": null,
            "grid_gap": null,
            "grid_row": null,
            "grid_template_areas": null,
            "grid_template_columns": null,
            "grid_template_rows": null,
            "height": null,
            "justify_content": null,
            "justify_items": null,
            "left": null,
            "margin": null,
            "max_height": null,
            "max_width": null,
            "min_height": null,
            "min_width": null,
            "object_fit": null,
            "object_position": null,
            "order": null,
            "overflow": null,
            "overflow_x": null,
            "overflow_y": null,
            "padding": null,
            "right": null,
            "top": null,
            "visibility": null,
            "width": null
          }
        },
        "de55c0eed3fa48cc881392424a083eda": {
          "model_module": "@jupyter-widgets/controls",
          "model_name": "DescriptionStyleModel",
          "model_module_version": "1.5.0",
          "state": {
            "_model_module": "@jupyter-widgets/controls",
            "_model_module_version": "1.5.0",
            "_model_name": "DescriptionStyleModel",
            "_view_count": null,
            "_view_module": "@jupyter-widgets/base",
            "_view_module_version": "1.2.0",
            "_view_name": "StyleView",
            "description_width": ""
          }
        },
        "9a17ebcb166c4bc595a894235cc03a78": {
          "model_module": "@jupyter-widgets/base",
          "model_name": "LayoutModel",
          "model_module_version": "1.2.0",
          "state": {
            "_model_module": "@jupyter-widgets/base",
            "_model_module_version": "1.2.0",
            "_model_name": "LayoutModel",
            "_view_count": null,
            "_view_module": "@jupyter-widgets/base",
            "_view_module_version": "1.2.0",
            "_view_name": "LayoutView",
            "align_content": null,
            "align_items": null,
            "align_self": null,
            "border": null,
            "bottom": null,
            "display": null,
            "flex": null,
            "flex_flow": null,
            "grid_area": null,
            "grid_auto_columns": null,
            "grid_auto_flow": null,
            "grid_auto_rows": null,
            "grid_column": null,
            "grid_gap": null,
            "grid_row": null,
            "grid_template_areas": null,
            "grid_template_columns": null,
            "grid_template_rows": null,
            "height": null,
            "justify_content": null,
            "justify_items": null,
            "left": null,
            "margin": null,
            "max_height": null,
            "max_width": null,
            "min_height": null,
            "min_width": null,
            "object_fit": null,
            "object_position": null,
            "order": null,
            "overflow": null,
            "overflow_x": null,
            "overflow_y": null,
            "padding": null,
            "right": null,
            "top": null,
            "visibility": null,
            "width": null
          }
        },
        "af9fab1fdf1c40d7ad1207bee3f9f7b0": {
          "model_module": "@jupyter-widgets/controls",
          "model_name": "ProgressStyleModel",
          "model_module_version": "1.5.0",
          "state": {
            "_model_module": "@jupyter-widgets/controls",
            "_model_module_version": "1.5.0",
            "_model_name": "ProgressStyleModel",
            "_view_count": null,
            "_view_module": "@jupyter-widgets/base",
            "_view_module_version": "1.2.0",
            "_view_name": "StyleView",
            "bar_color": null,
            "description_width": ""
          }
        },
        "e74c74903854470bae65631dcd31d6ec": {
          "model_module": "@jupyter-widgets/base",
          "model_name": "LayoutModel",
          "model_module_version": "1.2.0",
          "state": {
            "_model_module": "@jupyter-widgets/base",
            "_model_module_version": "1.2.0",
            "_model_name": "LayoutModel",
            "_view_count": null,
            "_view_module": "@jupyter-widgets/base",
            "_view_module_version": "1.2.0",
            "_view_name": "LayoutView",
            "align_content": null,
            "align_items": null,
            "align_self": null,
            "border": null,
            "bottom": null,
            "display": null,
            "flex": null,
            "flex_flow": null,
            "grid_area": null,
            "grid_auto_columns": null,
            "grid_auto_flow": null,
            "grid_auto_rows": null,
            "grid_column": null,
            "grid_gap": null,
            "grid_row": null,
            "grid_template_areas": null,
            "grid_template_columns": null,
            "grid_template_rows": null,
            "height": null,
            "justify_content": null,
            "justify_items": null,
            "left": null,
            "margin": null,
            "max_height": null,
            "max_width": null,
            "min_height": null,
            "min_width": null,
            "object_fit": null,
            "object_position": null,
            "order": null,
            "overflow": null,
            "overflow_x": null,
            "overflow_y": null,
            "padding": null,
            "right": null,
            "top": null,
            "visibility": null,
            "width": null
          }
        },
        "0655df57dfbe4f9e846af0d615b1386b": {
          "model_module": "@jupyter-widgets/controls",
          "model_name": "DescriptionStyleModel",
          "model_module_version": "1.5.0",
          "state": {
            "_model_module": "@jupyter-widgets/controls",
            "_model_module_version": "1.5.0",
            "_model_name": "DescriptionStyleModel",
            "_view_count": null,
            "_view_module": "@jupyter-widgets/base",
            "_view_module_version": "1.2.0",
            "_view_name": "StyleView",
            "description_width": ""
          }
        },
        "71727edbe5e5474798a19084e79cf4d8": {
          "model_module": "@jupyter-widgets/controls",
          "model_name": "HBoxModel",
          "model_module_version": "1.5.0",
          "state": {
            "_dom_classes": [],
            "_model_module": "@jupyter-widgets/controls",
            "_model_module_version": "1.5.0",
            "_model_name": "HBoxModel",
            "_view_count": null,
            "_view_module": "@jupyter-widgets/controls",
            "_view_module_version": "1.5.0",
            "_view_name": "HBoxView",
            "box_style": "",
            "children": [
              "IPY_MODEL_ef840524fd4b46cfbdb7ff2ce487576d",
              "IPY_MODEL_91682d046bb54b7dbc706a41f19910fb",
              "IPY_MODEL_e9c399e51fde495ab661b6028804acac"
            ],
            "layout": "IPY_MODEL_ef4d4ea61b46492ab70ba9a9d53f1932"
          }
        },
        "ef840524fd4b46cfbdb7ff2ce487576d": {
          "model_module": "@jupyter-widgets/controls",
          "model_name": "HTMLModel",
          "model_module_version": "1.5.0",
          "state": {
            "_dom_classes": [],
            "_model_module": "@jupyter-widgets/controls",
            "_model_module_version": "1.5.0",
            "_model_name": "HTMLModel",
            "_view_count": null,
            "_view_module": "@jupyter-widgets/controls",
            "_view_module_version": "1.5.0",
            "_view_name": "HTMLView",
            "description": "",
            "description_tooltip": null,
            "layout": "IPY_MODEL_bac39432763649b891137cc49a64aefc",
            "placeholder": "​",
            "style": "IPY_MODEL_f33d90af290a463f9bb8ca378581fc35",
            "value": "100%"
          }
        },
        "91682d046bb54b7dbc706a41f19910fb": {
          "model_module": "@jupyter-widgets/controls",
          "model_name": "FloatProgressModel",
          "model_module_version": "1.5.0",
          "state": {
            "_dom_classes": [],
            "_model_module": "@jupyter-widgets/controls",
            "_model_module_version": "1.5.0",
            "_model_name": "FloatProgressModel",
            "_view_count": null,
            "_view_module": "@jupyter-widgets/controls",
            "_view_module_version": "1.5.0",
            "_view_name": "ProgressView",
            "bar_style": "success",
            "description": "",
            "description_tooltip": null,
            "layout": "IPY_MODEL_322c85343f16490ebff2ab5d366e66a0",
            "max": 50000,
            "min": 0,
            "orientation": "horizontal",
            "style": "IPY_MODEL_14c700112d8c4adfabd563388bbae82f",
            "value": 50000
          }
        },
        "e9c399e51fde495ab661b6028804acac": {
          "model_module": "@jupyter-widgets/controls",
          "model_name": "HTMLModel",
          "model_module_version": "1.5.0",
          "state": {
            "_dom_classes": [],
            "_model_module": "@jupyter-widgets/controls",
            "_model_module_version": "1.5.0",
            "_model_name": "HTMLModel",
            "_view_count": null,
            "_view_module": "@jupyter-widgets/controls",
            "_view_module_version": "1.5.0",
            "_view_name": "HTMLView",
            "description": "",
            "description_tooltip": null,
            "layout": "IPY_MODEL_fe1456f467274d1882bc49a29fe78f3f",
            "placeholder": "​",
            "style": "IPY_MODEL_22b04e53b28c43c98bb3f03fe1b1aea7",
            "value": " 50000/50000 [03:23&lt;00:00, 270.45it/s]"
          }
        },
        "ef4d4ea61b46492ab70ba9a9d53f1932": {
          "model_module": "@jupyter-widgets/base",
          "model_name": "LayoutModel",
          "model_module_version": "1.2.0",
          "state": {
            "_model_module": "@jupyter-widgets/base",
            "_model_module_version": "1.2.0",
            "_model_name": "LayoutModel",
            "_view_count": null,
            "_view_module": "@jupyter-widgets/base",
            "_view_module_version": "1.2.0",
            "_view_name": "LayoutView",
            "align_content": null,
            "align_items": null,
            "align_self": null,
            "border": null,
            "bottom": null,
            "display": null,
            "flex": null,
            "flex_flow": null,
            "grid_area": null,
            "grid_auto_columns": null,
            "grid_auto_flow": null,
            "grid_auto_rows": null,
            "grid_column": null,
            "grid_gap": null,
            "grid_row": null,
            "grid_template_areas": null,
            "grid_template_columns": null,
            "grid_template_rows": null,
            "height": null,
            "justify_content": null,
            "justify_items": null,
            "left": null,
            "margin": null,
            "max_height": null,
            "max_width": null,
            "min_height": null,
            "min_width": null,
            "object_fit": null,
            "object_position": null,
            "order": null,
            "overflow": null,
            "overflow_x": null,
            "overflow_y": null,
            "padding": null,
            "right": null,
            "top": null,
            "visibility": null,
            "width": null
          }
        },
        "bac39432763649b891137cc49a64aefc": {
          "model_module": "@jupyter-widgets/base",
          "model_name": "LayoutModel",
          "model_module_version": "1.2.0",
          "state": {
            "_model_module": "@jupyter-widgets/base",
            "_model_module_version": "1.2.0",
            "_model_name": "LayoutModel",
            "_view_count": null,
            "_view_module": "@jupyter-widgets/base",
            "_view_module_version": "1.2.0",
            "_view_name": "LayoutView",
            "align_content": null,
            "align_items": null,
            "align_self": null,
            "border": null,
            "bottom": null,
            "display": null,
            "flex": null,
            "flex_flow": null,
            "grid_area": null,
            "grid_auto_columns": null,
            "grid_auto_flow": null,
            "grid_auto_rows": null,
            "grid_column": null,
            "grid_gap": null,
            "grid_row": null,
            "grid_template_areas": null,
            "grid_template_columns": null,
            "grid_template_rows": null,
            "height": null,
            "justify_content": null,
            "justify_items": null,
            "left": null,
            "margin": null,
            "max_height": null,
            "max_width": null,
            "min_height": null,
            "min_width": null,
            "object_fit": null,
            "object_position": null,
            "order": null,
            "overflow": null,
            "overflow_x": null,
            "overflow_y": null,
            "padding": null,
            "right": null,
            "top": null,
            "visibility": null,
            "width": null
          }
        },
        "f33d90af290a463f9bb8ca378581fc35": {
          "model_module": "@jupyter-widgets/controls",
          "model_name": "DescriptionStyleModel",
          "model_module_version": "1.5.0",
          "state": {
            "_model_module": "@jupyter-widgets/controls",
            "_model_module_version": "1.5.0",
            "_model_name": "DescriptionStyleModel",
            "_view_count": null,
            "_view_module": "@jupyter-widgets/base",
            "_view_module_version": "1.2.0",
            "_view_name": "StyleView",
            "description_width": ""
          }
        },
        "322c85343f16490ebff2ab5d366e66a0": {
          "model_module": "@jupyter-widgets/base",
          "model_name": "LayoutModel",
          "model_module_version": "1.2.0",
          "state": {
            "_model_module": "@jupyter-widgets/base",
            "_model_module_version": "1.2.0",
            "_model_name": "LayoutModel",
            "_view_count": null,
            "_view_module": "@jupyter-widgets/base",
            "_view_module_version": "1.2.0",
            "_view_name": "LayoutView",
            "align_content": null,
            "align_items": null,
            "align_self": null,
            "border": null,
            "bottom": null,
            "display": null,
            "flex": null,
            "flex_flow": null,
            "grid_area": null,
            "grid_auto_columns": null,
            "grid_auto_flow": null,
            "grid_auto_rows": null,
            "grid_column": null,
            "grid_gap": null,
            "grid_row": null,
            "grid_template_areas": null,
            "grid_template_columns": null,
            "grid_template_rows": null,
            "height": null,
            "justify_content": null,
            "justify_items": null,
            "left": null,
            "margin": null,
            "max_height": null,
            "max_width": null,
            "min_height": null,
            "min_width": null,
            "object_fit": null,
            "object_position": null,
            "order": null,
            "overflow": null,
            "overflow_x": null,
            "overflow_y": null,
            "padding": null,
            "right": null,
            "top": null,
            "visibility": null,
            "width": null
          }
        },
        "14c700112d8c4adfabd563388bbae82f": {
          "model_module": "@jupyter-widgets/controls",
          "model_name": "ProgressStyleModel",
          "model_module_version": "1.5.0",
          "state": {
            "_model_module": "@jupyter-widgets/controls",
            "_model_module_version": "1.5.0",
            "_model_name": "ProgressStyleModel",
            "_view_count": null,
            "_view_module": "@jupyter-widgets/base",
            "_view_module_version": "1.2.0",
            "_view_name": "StyleView",
            "bar_color": null,
            "description_width": ""
          }
        },
        "fe1456f467274d1882bc49a29fe78f3f": {
          "model_module": "@jupyter-widgets/base",
          "model_name": "LayoutModel",
          "model_module_version": "1.2.0",
          "state": {
            "_model_module": "@jupyter-widgets/base",
            "_model_module_version": "1.2.0",
            "_model_name": "LayoutModel",
            "_view_count": null,
            "_view_module": "@jupyter-widgets/base",
            "_view_module_version": "1.2.0",
            "_view_name": "LayoutView",
            "align_content": null,
            "align_items": null,
            "align_self": null,
            "border": null,
            "bottom": null,
            "display": null,
            "flex": null,
            "flex_flow": null,
            "grid_area": null,
            "grid_auto_columns": null,
            "grid_auto_flow": null,
            "grid_auto_rows": null,
            "grid_column": null,
            "grid_gap": null,
            "grid_row": null,
            "grid_template_areas": null,
            "grid_template_columns": null,
            "grid_template_rows": null,
            "height": null,
            "justify_content": null,
            "justify_items": null,
            "left": null,
            "margin": null,
            "max_height": null,
            "max_width": null,
            "min_height": null,
            "min_width": null,
            "object_fit": null,
            "object_position": null,
            "order": null,
            "overflow": null,
            "overflow_x": null,
            "overflow_y": null,
            "padding": null,
            "right": null,
            "top": null,
            "visibility": null,
            "width": null
          }
        },
        "22b04e53b28c43c98bb3f03fe1b1aea7": {
          "model_module": "@jupyter-widgets/controls",
          "model_name": "DescriptionStyleModel",
          "model_module_version": "1.5.0",
          "state": {
            "_model_module": "@jupyter-widgets/controls",
            "_model_module_version": "1.5.0",
            "_model_name": "DescriptionStyleModel",
            "_view_count": null,
            "_view_module": "@jupyter-widgets/base",
            "_view_module_version": "1.2.0",
            "_view_name": "StyleView",
            "description_width": ""
          }
        },
        "d03f76e31e1940f4ad92d736df4fab9c": {
          "model_module": "@jupyter-widgets/controls",
          "model_name": "HBoxModel",
          "model_module_version": "1.5.0",
          "state": {
            "_dom_classes": [],
            "_model_module": "@jupyter-widgets/controls",
            "_model_module_version": "1.5.0",
            "_model_name": "HBoxModel",
            "_view_count": null,
            "_view_module": "@jupyter-widgets/controls",
            "_view_module_version": "1.5.0",
            "_view_name": "HBoxView",
            "box_style": "",
            "children": [
              "IPY_MODEL_dc1b5fcfff964667908bfb262fa4d892",
              "IPY_MODEL_a94f8df15fe54cc2bc2becb4fabf4631",
              "IPY_MODEL_bb6ab10013eb4a0ea132e9e51d2969c3"
            ],
            "layout": "IPY_MODEL_fdb75262c23c4c2294816af815d87477"
          }
        },
        "dc1b5fcfff964667908bfb262fa4d892": {
          "model_module": "@jupyter-widgets/controls",
          "model_name": "HTMLModel",
          "model_module_version": "1.5.0",
          "state": {
            "_dom_classes": [],
            "_model_module": "@jupyter-widgets/controls",
            "_model_module_version": "1.5.0",
            "_model_name": "HTMLModel",
            "_view_count": null,
            "_view_module": "@jupyter-widgets/controls",
            "_view_module_version": "1.5.0",
            "_view_name": "HTMLView",
            "description": "",
            "description_tooltip": null,
            "layout": "IPY_MODEL_54617ad9b5ba4d4391ba14bb7ab238b4",
            "placeholder": "​",
            "style": "IPY_MODEL_4b172aead453417a9e0c2ae288de5e1c",
            "value": "Map: 100%"
          }
        },
        "a94f8df15fe54cc2bc2becb4fabf4631": {
          "model_module": "@jupyter-widgets/controls",
          "model_name": "FloatProgressModel",
          "model_module_version": "1.5.0",
          "state": {
            "_dom_classes": [],
            "_model_module": "@jupyter-widgets/controls",
            "_model_module_version": "1.5.0",
            "_model_name": "FloatProgressModel",
            "_view_count": null,
            "_view_module": "@jupyter-widgets/controls",
            "_view_module_version": "1.5.0",
            "_view_name": "ProgressView",
            "bar_style": "success",
            "description": "",
            "description_tooltip": null,
            "layout": "IPY_MODEL_57413cdf30f3450eaead022b1fa416b4",
            "max": 2000,
            "min": 0,
            "orientation": "horizontal",
            "style": "IPY_MODEL_1c0b00e0b8314720a07b62c26333a79c",
            "value": 2000
          }
        },
        "bb6ab10013eb4a0ea132e9e51d2969c3": {
          "model_module": "@jupyter-widgets/controls",
          "model_name": "HTMLModel",
          "model_module_version": "1.5.0",
          "state": {
            "_dom_classes": [],
            "_model_module": "@jupyter-widgets/controls",
            "_model_module_version": "1.5.0",
            "_model_name": "HTMLModel",
            "_view_count": null,
            "_view_module": "@jupyter-widgets/controls",
            "_view_module_version": "1.5.0",
            "_view_name": "HTMLView",
            "description": "",
            "description_tooltip": null,
            "layout": "IPY_MODEL_abd2caaa01a34615bb7acc68f4d0c231",
            "placeholder": "​",
            "style": "IPY_MODEL_3450bfcda7624933b06e0a797da0fde7",
            "value": " 2000/2000 [00:01&lt;00:00, 1421.25 examples/s]"
          }
        },
        "fdb75262c23c4c2294816af815d87477": {
          "model_module": "@jupyter-widgets/base",
          "model_name": "LayoutModel",
          "model_module_version": "1.2.0",
          "state": {
            "_model_module": "@jupyter-widgets/base",
            "_model_module_version": "1.2.0",
            "_model_name": "LayoutModel",
            "_view_count": null,
            "_view_module": "@jupyter-widgets/base",
            "_view_module_version": "1.2.0",
            "_view_name": "LayoutView",
            "align_content": null,
            "align_items": null,
            "align_self": null,
            "border": null,
            "bottom": null,
            "display": null,
            "flex": null,
            "flex_flow": null,
            "grid_area": null,
            "grid_auto_columns": null,
            "grid_auto_flow": null,
            "grid_auto_rows": null,
            "grid_column": null,
            "grid_gap": null,
            "grid_row": null,
            "grid_template_areas": null,
            "grid_template_columns": null,
            "grid_template_rows": null,
            "height": null,
            "justify_content": null,
            "justify_items": null,
            "left": null,
            "margin": null,
            "max_height": null,
            "max_width": null,
            "min_height": null,
            "min_width": null,
            "object_fit": null,
            "object_position": null,
            "order": null,
            "overflow": null,
            "overflow_x": null,
            "overflow_y": null,
            "padding": null,
            "right": null,
            "top": null,
            "visibility": null,
            "width": null
          }
        },
        "54617ad9b5ba4d4391ba14bb7ab238b4": {
          "model_module": "@jupyter-widgets/base",
          "model_name": "LayoutModel",
          "model_module_version": "1.2.0",
          "state": {
            "_model_module": "@jupyter-widgets/base",
            "_model_module_version": "1.2.0",
            "_model_name": "LayoutModel",
            "_view_count": null,
            "_view_module": "@jupyter-widgets/base",
            "_view_module_version": "1.2.0",
            "_view_name": "LayoutView",
            "align_content": null,
            "align_items": null,
            "align_self": null,
            "border": null,
            "bottom": null,
            "display": null,
            "flex": null,
            "flex_flow": null,
            "grid_area": null,
            "grid_auto_columns": null,
            "grid_auto_flow": null,
            "grid_auto_rows": null,
            "grid_column": null,
            "grid_gap": null,
            "grid_row": null,
            "grid_template_areas": null,
            "grid_template_columns": null,
            "grid_template_rows": null,
            "height": null,
            "justify_content": null,
            "justify_items": null,
            "left": null,
            "margin": null,
            "max_height": null,
            "max_width": null,
            "min_height": null,
            "min_width": null,
            "object_fit": null,
            "object_position": null,
            "order": null,
            "overflow": null,
            "overflow_x": null,
            "overflow_y": null,
            "padding": null,
            "right": null,
            "top": null,
            "visibility": null,
            "width": null
          }
        },
        "4b172aead453417a9e0c2ae288de5e1c": {
          "model_module": "@jupyter-widgets/controls",
          "model_name": "DescriptionStyleModel",
          "model_module_version": "1.5.0",
          "state": {
            "_model_module": "@jupyter-widgets/controls",
            "_model_module_version": "1.5.0",
            "_model_name": "DescriptionStyleModel",
            "_view_count": null,
            "_view_module": "@jupyter-widgets/base",
            "_view_module_version": "1.2.0",
            "_view_name": "StyleView",
            "description_width": ""
          }
        },
        "57413cdf30f3450eaead022b1fa416b4": {
          "model_module": "@jupyter-widgets/base",
          "model_name": "LayoutModel",
          "model_module_version": "1.2.0",
          "state": {
            "_model_module": "@jupyter-widgets/base",
            "_model_module_version": "1.2.0",
            "_model_name": "LayoutModel",
            "_view_count": null,
            "_view_module": "@jupyter-widgets/base",
            "_view_module_version": "1.2.0",
            "_view_name": "LayoutView",
            "align_content": null,
            "align_items": null,
            "align_self": null,
            "border": null,
            "bottom": null,
            "display": null,
            "flex": null,
            "flex_flow": null,
            "grid_area": null,
            "grid_auto_columns": null,
            "grid_auto_flow": null,
            "grid_auto_rows": null,
            "grid_column": null,
            "grid_gap": null,
            "grid_row": null,
            "grid_template_areas": null,
            "grid_template_columns": null,
            "grid_template_rows": null,
            "height": null,
            "justify_content": null,
            "justify_items": null,
            "left": null,
            "margin": null,
            "max_height": null,
            "max_width": null,
            "min_height": null,
            "min_width": null,
            "object_fit": null,
            "object_position": null,
            "order": null,
            "overflow": null,
            "overflow_x": null,
            "overflow_y": null,
            "padding": null,
            "right": null,
            "top": null,
            "visibility": null,
            "width": null
          }
        },
        "1c0b00e0b8314720a07b62c26333a79c": {
          "model_module": "@jupyter-widgets/controls",
          "model_name": "ProgressStyleModel",
          "model_module_version": "1.5.0",
          "state": {
            "_model_module": "@jupyter-widgets/controls",
            "_model_module_version": "1.5.0",
            "_model_name": "ProgressStyleModel",
            "_view_count": null,
            "_view_module": "@jupyter-widgets/base",
            "_view_module_version": "1.2.0",
            "_view_name": "StyleView",
            "bar_color": null,
            "description_width": ""
          }
        },
        "abd2caaa01a34615bb7acc68f4d0c231": {
          "model_module": "@jupyter-widgets/base",
          "model_name": "LayoutModel",
          "model_module_version": "1.2.0",
          "state": {
            "_model_module": "@jupyter-widgets/base",
            "_model_module_version": "1.2.0",
            "_model_name": "LayoutModel",
            "_view_count": null,
            "_view_module": "@jupyter-widgets/base",
            "_view_module_version": "1.2.0",
            "_view_name": "LayoutView",
            "align_content": null,
            "align_items": null,
            "align_self": null,
            "border": null,
            "bottom": null,
            "display": null,
            "flex": null,
            "flex_flow": null,
            "grid_area": null,
            "grid_auto_columns": null,
            "grid_auto_flow": null,
            "grid_auto_rows": null,
            "grid_column": null,
            "grid_gap": null,
            "grid_row": null,
            "grid_template_areas": null,
            "grid_template_columns": null,
            "grid_template_rows": null,
            "height": null,
            "justify_content": null,
            "justify_items": null,
            "left": null,
            "margin": null,
            "max_height": null,
            "max_width": null,
            "min_height": null,
            "min_width": null,
            "object_fit": null,
            "object_position": null,
            "order": null,
            "overflow": null,
            "overflow_x": null,
            "overflow_y": null,
            "padding": null,
            "right": null,
            "top": null,
            "visibility": null,
            "width": null
          }
        },
        "3450bfcda7624933b06e0a797da0fde7": {
          "model_module": "@jupyter-widgets/controls",
          "model_name": "DescriptionStyleModel",
          "model_module_version": "1.5.0",
          "state": {
            "_model_module": "@jupyter-widgets/controls",
            "_model_module_version": "1.5.0",
            "_model_name": "DescriptionStyleModel",
            "_view_count": null,
            "_view_module": "@jupyter-widgets/base",
            "_view_module_version": "1.2.0",
            "_view_name": "StyleView",
            "description_width": ""
          }
        },
        "9af1e48eae724ea79813c325aececc5a": {
          "model_module": "@jupyter-widgets/controls",
          "model_name": "HBoxModel",
          "model_module_version": "1.5.0",
          "state": {
            "_dom_classes": [],
            "_model_module": "@jupyter-widgets/controls",
            "_model_module_version": "1.5.0",
            "_model_name": "HBoxModel",
            "_view_count": null,
            "_view_module": "@jupyter-widgets/controls",
            "_view_module_version": "1.5.0",
            "_view_name": "HBoxView",
            "box_style": "",
            "children": [
              "IPY_MODEL_c5922e05084a45958c9bcd79151f812a",
              "IPY_MODEL_ed478a466e68434895e7fa5541abd0a2",
              "IPY_MODEL_1a3f17c5a6694ff4be9071a1d1dcb48b"
            ],
            "layout": "IPY_MODEL_daad83cdc410429d9b44d1020c0e3253"
          }
        },
        "c5922e05084a45958c9bcd79151f812a": {
          "model_module": "@jupyter-widgets/controls",
          "model_name": "HTMLModel",
          "model_module_version": "1.5.0",
          "state": {
            "_dom_classes": [],
            "_model_module": "@jupyter-widgets/controls",
            "_model_module_version": "1.5.0",
            "_model_name": "HTMLModel",
            "_view_count": null,
            "_view_module": "@jupyter-widgets/controls",
            "_view_module_version": "1.5.0",
            "_view_name": "HTMLView",
            "description": "",
            "description_tooltip": null,
            "layout": "IPY_MODEL_7ca86792b56840bcbd6ff7d69c5e7560",
            "placeholder": "​",
            "style": "IPY_MODEL_3f41630fca7a40bcb4116f813112a511",
            "value": "Map: 100%"
          }
        },
        "ed478a466e68434895e7fa5541abd0a2": {
          "model_module": "@jupyter-widgets/controls",
          "model_name": "FloatProgressModel",
          "model_module_version": "1.5.0",
          "state": {
            "_dom_classes": [],
            "_model_module": "@jupyter-widgets/controls",
            "_model_module_version": "1.5.0",
            "_model_name": "FloatProgressModel",
            "_view_count": null,
            "_view_module": "@jupyter-widgets/controls",
            "_view_module_version": "1.5.0",
            "_view_name": "ProgressView",
            "bar_style": "success",
            "description": "",
            "description_tooltip": null,
            "layout": "IPY_MODEL_af9ba47b3494424c954b279833572540",
            "max": 1066,
            "min": 0,
            "orientation": "horizontal",
            "style": "IPY_MODEL_59975dd101734dc8989d2504667605e4",
            "value": 1066
          }
        },
        "1a3f17c5a6694ff4be9071a1d1dcb48b": {
          "model_module": "@jupyter-widgets/controls",
          "model_name": "HTMLModel",
          "model_module_version": "1.5.0",
          "state": {
            "_dom_classes": [],
            "_model_module": "@jupyter-widgets/controls",
            "_model_module_version": "1.5.0",
            "_model_name": "HTMLModel",
            "_view_count": null,
            "_view_module": "@jupyter-widgets/controls",
            "_view_module_version": "1.5.0",
            "_view_name": "HTMLView",
            "description": "",
            "description_tooltip": null,
            "layout": "IPY_MODEL_8172dc837dce44499ae73de6e335f358",
            "placeholder": "​",
            "style": "IPY_MODEL_10b1189526e842949a689a775fe5edc6",
            "value": " 1066/1066 [00:00&lt;00:00, 2096.90 examples/s]"
          }
        },
        "daad83cdc410429d9b44d1020c0e3253": {
          "model_module": "@jupyter-widgets/base",
          "model_name": "LayoutModel",
          "model_module_version": "1.2.0",
          "state": {
            "_model_module": "@jupyter-widgets/base",
            "_model_module_version": "1.2.0",
            "_model_name": "LayoutModel",
            "_view_count": null,
            "_view_module": "@jupyter-widgets/base",
            "_view_module_version": "1.2.0",
            "_view_name": "LayoutView",
            "align_content": null,
            "align_items": null,
            "align_self": null,
            "border": null,
            "bottom": null,
            "display": null,
            "flex": null,
            "flex_flow": null,
            "grid_area": null,
            "grid_auto_columns": null,
            "grid_auto_flow": null,
            "grid_auto_rows": null,
            "grid_column": null,
            "grid_gap": null,
            "grid_row": null,
            "grid_template_areas": null,
            "grid_template_columns": null,
            "grid_template_rows": null,
            "height": null,
            "justify_content": null,
            "justify_items": null,
            "left": null,
            "margin": null,
            "max_height": null,
            "max_width": null,
            "min_height": null,
            "min_width": null,
            "object_fit": null,
            "object_position": null,
            "order": null,
            "overflow": null,
            "overflow_x": null,
            "overflow_y": null,
            "padding": null,
            "right": null,
            "top": null,
            "visibility": null,
            "width": null
          }
        },
        "7ca86792b56840bcbd6ff7d69c5e7560": {
          "model_module": "@jupyter-widgets/base",
          "model_name": "LayoutModel",
          "model_module_version": "1.2.0",
          "state": {
            "_model_module": "@jupyter-widgets/base",
            "_model_module_version": "1.2.0",
            "_model_name": "LayoutModel",
            "_view_count": null,
            "_view_module": "@jupyter-widgets/base",
            "_view_module_version": "1.2.0",
            "_view_name": "LayoutView",
            "align_content": null,
            "align_items": null,
            "align_self": null,
            "border": null,
            "bottom": null,
            "display": null,
            "flex": null,
            "flex_flow": null,
            "grid_area": null,
            "grid_auto_columns": null,
            "grid_auto_flow": null,
            "grid_auto_rows": null,
            "grid_column": null,
            "grid_gap": null,
            "grid_row": null,
            "grid_template_areas": null,
            "grid_template_columns": null,
            "grid_template_rows": null,
            "height": null,
            "justify_content": null,
            "justify_items": null,
            "left": null,
            "margin": null,
            "max_height": null,
            "max_width": null,
            "min_height": null,
            "min_width": null,
            "object_fit": null,
            "object_position": null,
            "order": null,
            "overflow": null,
            "overflow_x": null,
            "overflow_y": null,
            "padding": null,
            "right": null,
            "top": null,
            "visibility": null,
            "width": null
          }
        },
        "3f41630fca7a40bcb4116f813112a511": {
          "model_module": "@jupyter-widgets/controls",
          "model_name": "DescriptionStyleModel",
          "model_module_version": "1.5.0",
          "state": {
            "_model_module": "@jupyter-widgets/controls",
            "_model_module_version": "1.5.0",
            "_model_name": "DescriptionStyleModel",
            "_view_count": null,
            "_view_module": "@jupyter-widgets/base",
            "_view_module_version": "1.2.0",
            "_view_name": "StyleView",
            "description_width": ""
          }
        },
        "af9ba47b3494424c954b279833572540": {
          "model_module": "@jupyter-widgets/base",
          "model_name": "LayoutModel",
          "model_module_version": "1.2.0",
          "state": {
            "_model_module": "@jupyter-widgets/base",
            "_model_module_version": "1.2.0",
            "_model_name": "LayoutModel",
            "_view_count": null,
            "_view_module": "@jupyter-widgets/base",
            "_view_module_version": "1.2.0",
            "_view_name": "LayoutView",
            "align_content": null,
            "align_items": null,
            "align_self": null,
            "border": null,
            "bottom": null,
            "display": null,
            "flex": null,
            "flex_flow": null,
            "grid_area": null,
            "grid_auto_columns": null,
            "grid_auto_flow": null,
            "grid_auto_rows": null,
            "grid_column": null,
            "grid_gap": null,
            "grid_row": null,
            "grid_template_areas": null,
            "grid_template_columns": null,
            "grid_template_rows": null,
            "height": null,
            "justify_content": null,
            "justify_items": null,
            "left": null,
            "margin": null,
            "max_height": null,
            "max_width": null,
            "min_height": null,
            "min_width": null,
            "object_fit": null,
            "object_position": null,
            "order": null,
            "overflow": null,
            "overflow_x": null,
            "overflow_y": null,
            "padding": null,
            "right": null,
            "top": null,
            "visibility": null,
            "width": null
          }
        },
        "59975dd101734dc8989d2504667605e4": {
          "model_module": "@jupyter-widgets/controls",
          "model_name": "ProgressStyleModel",
          "model_module_version": "1.5.0",
          "state": {
            "_model_module": "@jupyter-widgets/controls",
            "_model_module_version": "1.5.0",
            "_model_name": "ProgressStyleModel",
            "_view_count": null,
            "_view_module": "@jupyter-widgets/base",
            "_view_module_version": "1.2.0",
            "_view_name": "StyleView",
            "bar_color": null,
            "description_width": ""
          }
        },
        "8172dc837dce44499ae73de6e335f358": {
          "model_module": "@jupyter-widgets/base",
          "model_name": "LayoutModel",
          "model_module_version": "1.2.0",
          "state": {
            "_model_module": "@jupyter-widgets/base",
            "_model_module_version": "1.2.0",
            "_model_name": "LayoutModel",
            "_view_count": null,
            "_view_module": "@jupyter-widgets/base",
            "_view_module_version": "1.2.0",
            "_view_name": "LayoutView",
            "align_content": null,
            "align_items": null,
            "align_self": null,
            "border": null,
            "bottom": null,
            "display": null,
            "flex": null,
            "flex_flow": null,
            "grid_area": null,
            "grid_auto_columns": null,
            "grid_auto_flow": null,
            "grid_auto_rows": null,
            "grid_column": null,
            "grid_gap": null,
            "grid_row": null,
            "grid_template_areas": null,
            "grid_template_columns": null,
            "grid_template_rows": null,
            "height": null,
            "justify_content": null,
            "justify_items": null,
            "left": null,
            "margin": null,
            "max_height": null,
            "max_width": null,
            "min_height": null,
            "min_width": null,
            "object_fit": null,
            "object_position": null,
            "order": null,
            "overflow": null,
            "overflow_x": null,
            "overflow_y": null,
            "padding": null,
            "right": null,
            "top": null,
            "visibility": null,
            "width": null
          }
        },
        "10b1189526e842949a689a775fe5edc6": {
          "model_module": "@jupyter-widgets/controls",
          "model_name": "DescriptionStyleModel",
          "model_module_version": "1.5.0",
          "state": {
            "_model_module": "@jupyter-widgets/controls",
            "_model_module_version": "1.5.0",
            "_model_name": "DescriptionStyleModel",
            "_view_count": null,
            "_view_module": "@jupyter-widgets/base",
            "_view_module_version": "1.2.0",
            "_view_name": "StyleView",
            "description_width": ""
          }
        },
        "a1edeb22d06b4e4abb72a71014ba7e67": {
          "model_module": "@jupyter-widgets/controls",
          "model_name": "HBoxModel",
          "model_module_version": "1.5.0",
          "state": {
            "_dom_classes": [],
            "_model_module": "@jupyter-widgets/controls",
            "_model_module_version": "1.5.0",
            "_model_name": "HBoxModel",
            "_view_count": null,
            "_view_module": "@jupyter-widgets/controls",
            "_view_module_version": "1.5.0",
            "_view_name": "HBoxView",
            "box_style": "",
            "children": [
              "IPY_MODEL_55d745abd34748d7be98c322dde60b17",
              "IPY_MODEL_19e6a1d471f44be49ac0a3a6353b4e62",
              "IPY_MODEL_38a65707cec9473185e6d7e02bf2a5a0"
            ],
            "layout": "IPY_MODEL_e1bee2afbfb6496285a9a3472f50bf75"
          }
        },
        "55d745abd34748d7be98c322dde60b17": {
          "model_module": "@jupyter-widgets/controls",
          "model_name": "HTMLModel",
          "model_module_version": "1.5.0",
          "state": {
            "_dom_classes": [],
            "_model_module": "@jupyter-widgets/controls",
            "_model_module_version": "1.5.0",
            "_model_name": "HTMLModel",
            "_view_count": null,
            "_view_module": "@jupyter-widgets/controls",
            "_view_module_version": "1.5.0",
            "_view_name": "HTMLView",
            "description": "",
            "description_tooltip": null,
            "layout": "IPY_MODEL_42a7e9a64b1a4dcd8226cc56e3fbb8f7",
            "placeholder": "​",
            "style": "IPY_MODEL_b8451a0a8d0645d7b13fd0f722de8462",
            "value": "Map: 100%"
          }
        },
        "19e6a1d471f44be49ac0a3a6353b4e62": {
          "model_module": "@jupyter-widgets/controls",
          "model_name": "FloatProgressModel",
          "model_module_version": "1.5.0",
          "state": {
            "_dom_classes": [],
            "_model_module": "@jupyter-widgets/controls",
            "_model_module_version": "1.5.0",
            "_model_name": "FloatProgressModel",
            "_view_count": null,
            "_view_module": "@jupyter-widgets/controls",
            "_view_module_version": "1.5.0",
            "_view_name": "ProgressView",
            "bar_style": "success",
            "description": "",
            "description_tooltip": null,
            "layout": "IPY_MODEL_431c37ccb08949209e015f6f5e61206c",
            "max": 1066,
            "min": 0,
            "orientation": "horizontal",
            "style": "IPY_MODEL_5bb0a14806a14f04b32a0fb57ab5b486",
            "value": 1066
          }
        },
        "38a65707cec9473185e6d7e02bf2a5a0": {
          "model_module": "@jupyter-widgets/controls",
          "model_name": "HTMLModel",
          "model_module_version": "1.5.0",
          "state": {
            "_dom_classes": [],
            "_model_module": "@jupyter-widgets/controls",
            "_model_module_version": "1.5.0",
            "_model_name": "HTMLModel",
            "_view_count": null,
            "_view_module": "@jupyter-widgets/controls",
            "_view_module_version": "1.5.0",
            "_view_name": "HTMLView",
            "description": "",
            "description_tooltip": null,
            "layout": "IPY_MODEL_3f88d0ca939946a99b29e1ae66f9aca5",
            "placeholder": "​",
            "style": "IPY_MODEL_3aae3018d4834124b219372b9bcbc279",
            "value": " 1066/1066 [00:00&lt;00:00, 7897.94 examples/s]"
          }
        },
        "e1bee2afbfb6496285a9a3472f50bf75": {
          "model_module": "@jupyter-widgets/base",
          "model_name": "LayoutModel",
          "model_module_version": "1.2.0",
          "state": {
            "_model_module": "@jupyter-widgets/base",
            "_model_module_version": "1.2.0",
            "_model_name": "LayoutModel",
            "_view_count": null,
            "_view_module": "@jupyter-widgets/base",
            "_view_module_version": "1.2.0",
            "_view_name": "LayoutView",
            "align_content": null,
            "align_items": null,
            "align_self": null,
            "border": null,
            "bottom": null,
            "display": null,
            "flex": null,
            "flex_flow": null,
            "grid_area": null,
            "grid_auto_columns": null,
            "grid_auto_flow": null,
            "grid_auto_rows": null,
            "grid_column": null,
            "grid_gap": null,
            "grid_row": null,
            "grid_template_areas": null,
            "grid_template_columns": null,
            "grid_template_rows": null,
            "height": null,
            "justify_content": null,
            "justify_items": null,
            "left": null,
            "margin": null,
            "max_height": null,
            "max_width": null,
            "min_height": null,
            "min_width": null,
            "object_fit": null,
            "object_position": null,
            "order": null,
            "overflow": null,
            "overflow_x": null,
            "overflow_y": null,
            "padding": null,
            "right": null,
            "top": null,
            "visibility": null,
            "width": null
          }
        },
        "42a7e9a64b1a4dcd8226cc56e3fbb8f7": {
          "model_module": "@jupyter-widgets/base",
          "model_name": "LayoutModel",
          "model_module_version": "1.2.0",
          "state": {
            "_model_module": "@jupyter-widgets/base",
            "_model_module_version": "1.2.0",
            "_model_name": "LayoutModel",
            "_view_count": null,
            "_view_module": "@jupyter-widgets/base",
            "_view_module_version": "1.2.0",
            "_view_name": "LayoutView",
            "align_content": null,
            "align_items": null,
            "align_self": null,
            "border": null,
            "bottom": null,
            "display": null,
            "flex": null,
            "flex_flow": null,
            "grid_area": null,
            "grid_auto_columns": null,
            "grid_auto_flow": null,
            "grid_auto_rows": null,
            "grid_column": null,
            "grid_gap": null,
            "grid_row": null,
            "grid_template_areas": null,
            "grid_template_columns": null,
            "grid_template_rows": null,
            "height": null,
            "justify_content": null,
            "justify_items": null,
            "left": null,
            "margin": null,
            "max_height": null,
            "max_width": null,
            "min_height": null,
            "min_width": null,
            "object_fit": null,
            "object_position": null,
            "order": null,
            "overflow": null,
            "overflow_x": null,
            "overflow_y": null,
            "padding": null,
            "right": null,
            "top": null,
            "visibility": null,
            "width": null
          }
        },
        "b8451a0a8d0645d7b13fd0f722de8462": {
          "model_module": "@jupyter-widgets/controls",
          "model_name": "DescriptionStyleModel",
          "model_module_version": "1.5.0",
          "state": {
            "_model_module": "@jupyter-widgets/controls",
            "_model_module_version": "1.5.0",
            "_model_name": "DescriptionStyleModel",
            "_view_count": null,
            "_view_module": "@jupyter-widgets/base",
            "_view_module_version": "1.2.0",
            "_view_name": "StyleView",
            "description_width": ""
          }
        },
        "431c37ccb08949209e015f6f5e61206c": {
          "model_module": "@jupyter-widgets/base",
          "model_name": "LayoutModel",
          "model_module_version": "1.2.0",
          "state": {
            "_model_module": "@jupyter-widgets/base",
            "_model_module_version": "1.2.0",
            "_model_name": "LayoutModel",
            "_view_count": null,
            "_view_module": "@jupyter-widgets/base",
            "_view_module_version": "1.2.0",
            "_view_name": "LayoutView",
            "align_content": null,
            "align_items": null,
            "align_self": null,
            "border": null,
            "bottom": null,
            "display": null,
            "flex": null,
            "flex_flow": null,
            "grid_area": null,
            "grid_auto_columns": null,
            "grid_auto_flow": null,
            "grid_auto_rows": null,
            "grid_column": null,
            "grid_gap": null,
            "grid_row": null,
            "grid_template_areas": null,
            "grid_template_columns": null,
            "grid_template_rows": null,
            "height": null,
            "justify_content": null,
            "justify_items": null,
            "left": null,
            "margin": null,
            "max_height": null,
            "max_width": null,
            "min_height": null,
            "min_width": null,
            "object_fit": null,
            "object_position": null,
            "order": null,
            "overflow": null,
            "overflow_x": null,
            "overflow_y": null,
            "padding": null,
            "right": null,
            "top": null,
            "visibility": null,
            "width": null
          }
        },
        "5bb0a14806a14f04b32a0fb57ab5b486": {
          "model_module": "@jupyter-widgets/controls",
          "model_name": "ProgressStyleModel",
          "model_module_version": "1.5.0",
          "state": {
            "_model_module": "@jupyter-widgets/controls",
            "_model_module_version": "1.5.0",
            "_model_name": "ProgressStyleModel",
            "_view_count": null,
            "_view_module": "@jupyter-widgets/base",
            "_view_module_version": "1.2.0",
            "_view_name": "StyleView",
            "bar_color": null,
            "description_width": ""
          }
        },
        "3f88d0ca939946a99b29e1ae66f9aca5": {
          "model_module": "@jupyter-widgets/base",
          "model_name": "LayoutModel",
          "model_module_version": "1.2.0",
          "state": {
            "_model_module": "@jupyter-widgets/base",
            "_model_module_version": "1.2.0",
            "_model_name": "LayoutModel",
            "_view_count": null,
            "_view_module": "@jupyter-widgets/base",
            "_view_module_version": "1.2.0",
            "_view_name": "LayoutView",
            "align_content": null,
            "align_items": null,
            "align_self": null,
            "border": null,
            "bottom": null,
            "display": null,
            "flex": null,
            "flex_flow": null,
            "grid_area": null,
            "grid_auto_columns": null,
            "grid_auto_flow": null,
            "grid_auto_rows": null,
            "grid_column": null,
            "grid_gap": null,
            "grid_row": null,
            "grid_template_areas": null,
            "grid_template_columns": null,
            "grid_template_rows": null,
            "height": null,
            "justify_content": null,
            "justify_items": null,
            "left": null,
            "margin": null,
            "max_height": null,
            "max_width": null,
            "min_height": null,
            "min_width": null,
            "object_fit": null,
            "object_position": null,
            "order": null,
            "overflow": null,
            "overflow_x": null,
            "overflow_y": null,
            "padding": null,
            "right": null,
            "top": null,
            "visibility": null,
            "width": null
          }
        },
        "3aae3018d4834124b219372b9bcbc279": {
          "model_module": "@jupyter-widgets/controls",
          "model_name": "DescriptionStyleModel",
          "model_module_version": "1.5.0",
          "state": {
            "_model_module": "@jupyter-widgets/controls",
            "_model_module_version": "1.5.0",
            "_model_name": "DescriptionStyleModel",
            "_view_count": null,
            "_view_module": "@jupyter-widgets/base",
            "_view_module_version": "1.2.0",
            "_view_name": "StyleView",
            "description_width": ""
          }
        },
        "a87127918f0f4dcf82fa3cc0c5ca144a": {
          "model_module": "@jupyter-widgets/controls",
          "model_name": "HBoxModel",
          "model_module_version": "1.5.0",
          "state": {
            "_dom_classes": [],
            "_model_module": "@jupyter-widgets/controls",
            "_model_module_version": "1.5.0",
            "_model_name": "HBoxModel",
            "_view_count": null,
            "_view_module": "@jupyter-widgets/controls",
            "_view_module_version": "1.5.0",
            "_view_name": "HBoxView",
            "box_style": "",
            "children": [
              "IPY_MODEL_950638b2f90b4ec29e5787156976a172",
              "IPY_MODEL_9c22fa360b26456ea915ba04b3b7822d",
              "IPY_MODEL_87f8a3478e7240b2b861b3fbd7bf3e7e"
            ],
            "layout": "IPY_MODEL_d3cbdcb8e9154810887ee53e159cb759"
          }
        },
        "950638b2f90b4ec29e5787156976a172": {
          "model_module": "@jupyter-widgets/controls",
          "model_name": "HTMLModel",
          "model_module_version": "1.5.0",
          "state": {
            "_dom_classes": [],
            "_model_module": "@jupyter-widgets/controls",
            "_model_module_version": "1.5.0",
            "_model_name": "HTMLModel",
            "_view_count": null,
            "_view_module": "@jupyter-widgets/controls",
            "_view_module_version": "1.5.0",
            "_view_name": "HTMLView",
            "description": "",
            "description_tooltip": null,
            "layout": "IPY_MODEL_94f20c6b9acf4bf29afca93c73166403",
            "placeholder": "​",
            "style": "IPY_MODEL_66dc2d079e174fd9878b047b8f638e2f",
            "value": "Map: 100%"
          }
        },
        "9c22fa360b26456ea915ba04b3b7822d": {
          "model_module": "@jupyter-widgets/controls",
          "model_name": "FloatProgressModel",
          "model_module_version": "1.5.0",
          "state": {
            "_dom_classes": [],
            "_model_module": "@jupyter-widgets/controls",
            "_model_module_version": "1.5.0",
            "_model_name": "FloatProgressModel",
            "_view_count": null,
            "_view_module": "@jupyter-widgets/controls",
            "_view_module_version": "1.5.0",
            "_view_name": "ProgressView",
            "bar_style": "success",
            "description": "",
            "description_tooltip": null,
            "layout": "IPY_MODEL_0b49ccf831af479ba55fbea51c168ef5",
            "max": 1066,
            "min": 0,
            "orientation": "horizontal",
            "style": "IPY_MODEL_02dc10a26a5040d9875d5f9a511a40b2",
            "value": 1066
          }
        },
        "87f8a3478e7240b2b861b3fbd7bf3e7e": {
          "model_module": "@jupyter-widgets/controls",
          "model_name": "HTMLModel",
          "model_module_version": "1.5.0",
          "state": {
            "_dom_classes": [],
            "_model_module": "@jupyter-widgets/controls",
            "_model_module_version": "1.5.0",
            "_model_name": "HTMLModel",
            "_view_count": null,
            "_view_module": "@jupyter-widgets/controls",
            "_view_module_version": "1.5.0",
            "_view_name": "HTMLView",
            "description": "",
            "description_tooltip": null,
            "layout": "IPY_MODEL_5539bb38d93a462492846b8573032e3c",
            "placeholder": "​",
            "style": "IPY_MODEL_9a9f839f7a4e4c6598d3510f2b05456b",
            "value": " 1066/1066 [00:00&lt;00:00, 9563.44 examples/s]"
          }
        },
        "d3cbdcb8e9154810887ee53e159cb759": {
          "model_module": "@jupyter-widgets/base",
          "model_name": "LayoutModel",
          "model_module_version": "1.2.0",
          "state": {
            "_model_module": "@jupyter-widgets/base",
            "_model_module_version": "1.2.0",
            "_model_name": "LayoutModel",
            "_view_count": null,
            "_view_module": "@jupyter-widgets/base",
            "_view_module_version": "1.2.0",
            "_view_name": "LayoutView",
            "align_content": null,
            "align_items": null,
            "align_self": null,
            "border": null,
            "bottom": null,
            "display": null,
            "flex": null,
            "flex_flow": null,
            "grid_area": null,
            "grid_auto_columns": null,
            "grid_auto_flow": null,
            "grid_auto_rows": null,
            "grid_column": null,
            "grid_gap": null,
            "grid_row": null,
            "grid_template_areas": null,
            "grid_template_columns": null,
            "grid_template_rows": null,
            "height": null,
            "justify_content": null,
            "justify_items": null,
            "left": null,
            "margin": null,
            "max_height": null,
            "max_width": null,
            "min_height": null,
            "min_width": null,
            "object_fit": null,
            "object_position": null,
            "order": null,
            "overflow": null,
            "overflow_x": null,
            "overflow_y": null,
            "padding": null,
            "right": null,
            "top": null,
            "visibility": null,
            "width": null
          }
        },
        "94f20c6b9acf4bf29afca93c73166403": {
          "model_module": "@jupyter-widgets/base",
          "model_name": "LayoutModel",
          "model_module_version": "1.2.0",
          "state": {
            "_model_module": "@jupyter-widgets/base",
            "_model_module_version": "1.2.0",
            "_model_name": "LayoutModel",
            "_view_count": null,
            "_view_module": "@jupyter-widgets/base",
            "_view_module_version": "1.2.0",
            "_view_name": "LayoutView",
            "align_content": null,
            "align_items": null,
            "align_self": null,
            "border": null,
            "bottom": null,
            "display": null,
            "flex": null,
            "flex_flow": null,
            "grid_area": null,
            "grid_auto_columns": null,
            "grid_auto_flow": null,
            "grid_auto_rows": null,
            "grid_column": null,
            "grid_gap": null,
            "grid_row": null,
            "grid_template_areas": null,
            "grid_template_columns": null,
            "grid_template_rows": null,
            "height": null,
            "justify_content": null,
            "justify_items": null,
            "left": null,
            "margin": null,
            "max_height": null,
            "max_width": null,
            "min_height": null,
            "min_width": null,
            "object_fit": null,
            "object_position": null,
            "order": null,
            "overflow": null,
            "overflow_x": null,
            "overflow_y": null,
            "padding": null,
            "right": null,
            "top": null,
            "visibility": null,
            "width": null
          }
        },
        "66dc2d079e174fd9878b047b8f638e2f": {
          "model_module": "@jupyter-widgets/controls",
          "model_name": "DescriptionStyleModel",
          "model_module_version": "1.5.0",
          "state": {
            "_model_module": "@jupyter-widgets/controls",
            "_model_module_version": "1.5.0",
            "_model_name": "DescriptionStyleModel",
            "_view_count": null,
            "_view_module": "@jupyter-widgets/base",
            "_view_module_version": "1.2.0",
            "_view_name": "StyleView",
            "description_width": ""
          }
        },
        "0b49ccf831af479ba55fbea51c168ef5": {
          "model_module": "@jupyter-widgets/base",
          "model_name": "LayoutModel",
          "model_module_version": "1.2.0",
          "state": {
            "_model_module": "@jupyter-widgets/base",
            "_model_module_version": "1.2.0",
            "_model_name": "LayoutModel",
            "_view_count": null,
            "_view_module": "@jupyter-widgets/base",
            "_view_module_version": "1.2.0",
            "_view_name": "LayoutView",
            "align_content": null,
            "align_items": null,
            "align_self": null,
            "border": null,
            "bottom": null,
            "display": null,
            "flex": null,
            "flex_flow": null,
            "grid_area": null,
            "grid_auto_columns": null,
            "grid_auto_flow": null,
            "grid_auto_rows": null,
            "grid_column": null,
            "grid_gap": null,
            "grid_row": null,
            "grid_template_areas": null,
            "grid_template_columns": null,
            "grid_template_rows": null,
            "height": null,
            "justify_content": null,
            "justify_items": null,
            "left": null,
            "margin": null,
            "max_height": null,
            "max_width": null,
            "min_height": null,
            "min_width": null,
            "object_fit": null,
            "object_position": null,
            "order": null,
            "overflow": null,
            "overflow_x": null,
            "overflow_y": null,
            "padding": null,
            "right": null,
            "top": null,
            "visibility": null,
            "width": null
          }
        },
        "02dc10a26a5040d9875d5f9a511a40b2": {
          "model_module": "@jupyter-widgets/controls",
          "model_name": "ProgressStyleModel",
          "model_module_version": "1.5.0",
          "state": {
            "_model_module": "@jupyter-widgets/controls",
            "_model_module_version": "1.5.0",
            "_model_name": "ProgressStyleModel",
            "_view_count": null,
            "_view_module": "@jupyter-widgets/base",
            "_view_module_version": "1.2.0",
            "_view_name": "StyleView",
            "bar_color": null,
            "description_width": ""
          }
        },
        "5539bb38d93a462492846b8573032e3c": {
          "model_module": "@jupyter-widgets/base",
          "model_name": "LayoutModel",
          "model_module_version": "1.2.0",
          "state": {
            "_model_module": "@jupyter-widgets/base",
            "_model_module_version": "1.2.0",
            "_model_name": "LayoutModel",
            "_view_count": null,
            "_view_module": "@jupyter-widgets/base",
            "_view_module_version": "1.2.0",
            "_view_name": "LayoutView",
            "align_content": null,
            "align_items": null,
            "align_self": null,
            "border": null,
            "bottom": null,
            "display": null,
            "flex": null,
            "flex_flow": null,
            "grid_area": null,
            "grid_auto_columns": null,
            "grid_auto_flow": null,
            "grid_auto_rows": null,
            "grid_column": null,
            "grid_gap": null,
            "grid_row": null,
            "grid_template_areas": null,
            "grid_template_columns": null,
            "grid_template_rows": null,
            "height": null,
            "justify_content": null,
            "justify_items": null,
            "left": null,
            "margin": null,
            "max_height": null,
            "max_width": null,
            "min_height": null,
            "min_width": null,
            "object_fit": null,
            "object_position": null,
            "order": null,
            "overflow": null,
            "overflow_x": null,
            "overflow_y": null,
            "padding": null,
            "right": null,
            "top": null,
            "visibility": null,
            "width": null
          }
        },
        "9a9f839f7a4e4c6598d3510f2b05456b": {
          "model_module": "@jupyter-widgets/controls",
          "model_name": "DescriptionStyleModel",
          "model_module_version": "1.5.0",
          "state": {
            "_model_module": "@jupyter-widgets/controls",
            "_model_module_version": "1.5.0",
            "_model_name": "DescriptionStyleModel",
            "_view_count": null,
            "_view_module": "@jupyter-widgets/base",
            "_view_module_version": "1.2.0",
            "_view_name": "StyleView",
            "description_width": ""
          }
        }
      }
    }
  },
  "nbformat": 4,
  "nbformat_minor": 5
}