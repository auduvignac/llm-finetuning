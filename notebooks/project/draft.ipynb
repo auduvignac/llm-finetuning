{
  "cells": [
    {
      "cell_type": "markdown",
      "id": "bc5947a1",
      "metadata": {
        "id": "bc5947a1"
      },
      "source": [
        "# Text classification using Transformers.\n",
        "\n",
        "<p align=\"center\">\n",
        "  <a href=\"https://colab.research.google.com/github/auduvignac/llm-finetuning/blob/main/notebooks/project/draft.ipynb\" target=\"_blank\">\n",
        "  <img src=\"https://colab.research.google.com/assets/colab-badge.svg\" alt=\"Ouvrir dans Google Colab\"/>\n",
        "  </a>\n",
        "</p>\n",
        "\n",
        "## Introduction\n",
        "\n",
        "L’objectif de ce projet est de réaliser le **fine-tuning d’un Large Language Model (LLM)**, en particulier **DistilBERT**, sur un jeu de données de classification de textes.\n",
        "\n",
        "DistilBERT est une version compressée et optimisée du modèle BERT, développée par Hugging Face.\n",
        "Il conserve environ **97 % des performances de BERT** tout en étant **40 % plus léger** et **60 % plus rapide** à l’entraînement et à l’inférence.\n",
        "Ces caractéristiques en font un modèle particulièrement adapté aux projets pédagogiques et aux cas d’usage nécessitant un compromis entre performance et efficacité computationnelle.\n",
        "\n",
        "Dans ce projet, nous allons :\n",
        "\n",
        "* Télécharger et préparer un jeu de données textuel pour la classification de sentiments.\n",
        "* Adapter le tokenizer et le modèle DistilBERT à ce dataset.\n",
        "* Entraîner et évaluer le modèle en suivant un pipeline de fine-tuning.\n",
        "* Analyser les performances obtenues (accuracy, F1-score, matrice de confusion, etc.) et discuter des résultats.\n",
        "\n",
        "Le projet suit les consignes définies dans le cadre du module *LLM Fine-tuning* : il s’agit d’un travail en binôme, rendu sous la forme d’un **notebook Jupyter** intégrant à la fois le **code, les visualisations et les analyses**.\n",
        "\n",
        "## Contexte\n",
        "\n",
        "La classification de texte, et en particulier la **classification de sentiments**, est une tâche classique du traitement automatique du langage naturel (NLP).\n",
        "Elle consiste à prédire si un texte exprime une opinion **positive** ou **négative**, par exemple dans le cadre de critiques de films, de produits ou de services.\n",
        "\n",
        "Cette tâche est pertinente car :\n",
        "\n",
        "* Elle met en jeu des enjeux réels de l’industrie (analyse d’opinions clients, veille sur les réseaux sociaux, modération de contenu, etc.).\n",
        "* Elle sert souvent de **benchmark** pour comparer des modèles de NLP.\n",
        "* Elle illustre bien le processus de fine-tuning d’un modèle pré-entraîné sur un corpus généraliste vers une tâche spécifique.\n",
        "\n",
        "Le modèle choisi pour ce projet, **DistilBERT**, est une version compressée du modèle BERT :\n",
        "\n",
        "* il réduit le nombre de paramètres et accélère les calculs,\n",
        "* tout en conservant un haut niveau de performance,\n",
        "* ce qui le rend adapté à un entraînement sur machine locale avec des ressources limitées (GPU de petite capacité par exemple).\n",
        "\n",
        "Dans ce projet, nous utiliserons un dataset de type **classification binaire** (par exemple *IMDb Reviews*), permettant de mettre en œuvre un pipeline complet :\n",
        "\n",
        "* **Préparation des données** (tokenisation, séparation train/validation)\n",
        "* **Fine-tuning** du modèle DistilBERT\n",
        "* **Évaluation et analyse des performances**"
      ]
    },
    {
      "cell_type": "markdown",
      "id": "f7060af9",
      "metadata": {
        "id": "f7060af9"
      },
      "source": [
        "## Préparation de l’environnement\n",
        "\n",
        "Dans cette section, l’ensemble des bibliothèques nécessaires au projet est importé. Elles couvrent :\n",
        "\n",
        "* **Gestion et exploration de données** : `datasets`, `numpy`, `random`, `json`, `math`, `tabulate`\n",
        "* **PyTorch** : `torch`, `torch.nn`, `torch.optim`, `DataLoader`, etc.\n",
        "* **Transformers (Hugging Face)** : modèles, tokenizers, configuration, scheduler\n",
        "* **Évaluation des performances** : métriques de `sklearn`\n",
        "* **Visualisation** : `matplotlib`, options Jupyter (`%matplotlib inline`, `InlineBackend`)\n",
        "* **Utilitaires** : `tqdm` pour le suivi des boucles"
      ]
    },
    {
      "cell_type": "code",
      "execution_count": 130,
      "id": "cbe74cbf",
      "metadata": {
        "id": "cbe74cbf"
      },
      "outputs": [],
      "source": [
        "%matplotlib inline\n",
        "%config InlineBackend.figure_formats = ['svg']\n",
        "import json\n",
        "import math\n",
        "import random\n",
        "\n",
        "import matplotlib.pyplot as plt\n",
        "import numpy as np\n",
        "import pandas as pd\n",
        "import torch\n",
        "import torch.nn as nn\n",
        "import torch.nn.functional as F\n",
        "import torch.optim as optim\n",
        "from datasets import (\n",
        "    DatasetDict,\n",
        "    load_dataset,\n",
        "    Value,\n",
        ")\n",
        "from sklearn.metrics import (\n",
        "    accuracy_score,\n",
        "    brier_score_loss,\n",
        "    classification_report,\n",
        "    confusion_matrix,\n",
        "    f1_score,\n",
        "    log_loss,\n",
        "    precision_recall_fscore_support,\n",
        ")\n",
        "from tabulate import tabulate\n",
        "from torch.nn.utils import clip_grad_norm_\n",
        "from torch.utils.data import DataLoader\n",
        "from tqdm import tqdm\n",
        "from tqdm.notebook import tqdm\n",
        "from transformers import (\n",
        "    AutoModelForSequenceClassification,\n",
        "    AutoTokenizer,\n",
        "    DistilBertConfig,\n",
        "    DistilBertForSequenceClassification,\n",
        "    DistilBertTokenizer,\n",
        "    get_linear_schedule_with_warmup,\n",
        ")"
      ]
    },
    {
      "cell_type": "markdown",
      "id": "ae1d063f",
      "metadata": {
        "id": "ae1d063f"
      },
      "source": [
        "## Préparation du dispositif et reproductibilité\n",
        "\n",
        "* La reproductibilité est assurée en fixant une **graine aléatoire** (`seed`) : avec la même graine, le mélange des données, l’initialisation des poids et d’autres opérations stochastiques donnent les mêmes résultats d’un exécutable à l’autre.\n",
        "* Le dispositif de calcul est configuré de manière à utiliser le **GPU** si disponible, ou à défaut le **CPU**.\n",
        "* L’instruction d’affichage permet de confirmer le dispositif effectivement sélectionné."
      ]
    },
    {
      "cell_type": "code",
      "execution_count": 131,
      "id": "15b01fd2",
      "metadata": {
        "colab": {
          "base_uri": "https://localhost:8080/"
        },
        "id": "15b01fd2",
        "outputId": "65a800ae-51b4-44d3-a90d-b605fb467953"
      },
      "outputs": [
        {
          "output_type": "stream",
          "name": "stdout",
          "text": [
            "Using device: cuda\n"
          ]
        }
      ],
      "source": [
        "# Reproducibility\n",
        "seed = 42\n",
        "random.seed(seed)\n",
        "np.random.seed(seed)\n",
        "torch.manual_seed(seed)\n",
        "torch.cuda.manual_seed_all(seed)\n",
        "\n",
        "# Device setup\n",
        "device = torch.device(\"cuda\" if torch.cuda.is_available() else \"cpu\")\n",
        "print(\"Using device:\", device)"
      ]
    },
    {
      "cell_type": "markdown",
      "id": "14b62e36",
      "metadata": {
        "id": "14b62e36"
      },
      "source": [
        "Après la préparation de l’environnement et la mise en place des conditions de reproductibilité, l’étape suivante consiste à définir une **classe `LLMFineTuner`** qui regroupe et automatise l’ensemble du *workflow* de *fine-tuning*.\n",
        "Cette classe repose sur une composante utilitaire, la **classe `DataCollator`**, qui simplifie la préparation des batchs et contribue à la généralisation du modèle en gérant efficacement la construction des entrées."
      ]
    },
    {
      "cell_type": "markdown",
      "id": "2c8ff607",
      "metadata": {
        "id": "2c8ff607"
      },
      "source": [
        "## Définition des classes `LLMFineTuner` et `DataCollator`\n",
        "\n"
      ]
    },
    {
      "cell_type": "markdown",
      "source": [
        "### Classe `DataCollator`\n",
        "\n",
        "La classe `DataCollator` est une composante utilitaire qui s'occupe de la préparation des batchs de données.\n",
        "Elle a pour rôle de :\n",
        "\n",
        "- gérer la **tokenisation et le padding dynamique** des séquences,\n",
        "- regrouper les exemples sous forme de batchs compatibles avec PyTorch,\n",
        "- fournir un format uniforme des entrées pour l'entraînement et l'évaluation du modèle.\n",
        "\n",
        "Cette classe permet d'isoler la logique de prétraitement des données afin d'alléger l'implémentation du pipeline principal."
      ],
      "metadata": {
        "id": "UcfKY8PoKBHN"
      },
      "id": "UcfKY8PoKBHN"
    },
    {
      "cell_type": "code",
      "execution_count": 132,
      "id": "a8796aeb",
      "metadata": {
        "id": "a8796aeb"
      },
      "outputs": [],
      "source": [
        "class DataCollator:\n",
        "    \"\"\"\n",
        "    Regroupe et organise les exemples en batchs pour le fine-tuning.\n",
        "\n",
        "    Cette classe :\n",
        "    - applique un padding dynamique des séquences en fonction du batch,\n",
        "    - prépare les tenseurs nécessaires (input_ids, attention_mask, labels),\n",
        "    - retourne un dictionnaire prêt à être passé au modèle Hugging Face.\n",
        "    \"\"\"\n",
        "\n",
        "    def __init__(self, tokenizer):\n",
        "        self.tokenizer = tokenizer\n",
        "\n",
        "    def __call__(\n",
        "        self, batch, max_length=256, padding=\"longest\", return_tensors=\"pt\"\n",
        "    ) -> dict[str, torch.Tensor]:\n",
        "        \"\"\"\n",
        "        Prépare un batch de données pour le modèle.\n",
        "\n",
        "        Applique un padding dynamique via `tokenizer.pad` et retourne\n",
        "        les tenseurs nécessaires : input_ids, attention_mask et labels.\n",
        "        \"\"\"\n",
        "        return self.tokenizer.pad(\n",
        "            batch,\n",
        "            padding=padding,\n",
        "            max_length=max_length,\n",
        "            return_tensors=return_tensors,\n",
        "        )"
      ]
    },
    {
      "cell_type": "markdown",
      "id": "408a16d4",
      "metadata": {
        "id": "408a16d4"
      },
      "source": [
        "### Classe `LLMFineTuner`\n",
        "\n",
        "La classe `LLMFineTuner` implémente l’ensemble du **pipeline de fine-tuning** pour un modèle DistilBERT appliqué à la classification de textes.\n",
        "Elle centralise toutes les étapes :\n",
        "\n",
        "* chargement et préparation du dataset,\n",
        "* initialisation du tokenizer, du modèle et du data collator,\n",
        "* configuration de l’optimiseur et du scheduler,\n",
        "* entraînement, validation et évaluation du modèle,\n",
        "* inférence sur de nouveaux exemples.\n",
        "\n",
        "Grâce à cette classe, le workflow est rendu **plus modulaire, lisible et réutilisable**, facilitant les expérimentations et la reproductibilité.\n",
        "\n",
        "## Méthodes de la classe `LLMFineTuner`\n",
        "\n",
        "| Étape                        | Méthode(s)                                                          | Rôle                                                                            |\n",
        "| ---------------------------- | ------------------------------------------------------------------- | ----------------------------------------------------------------------------------------- |\n",
        "| **1. Initialisation**        | `__init__`                                                          | Initialise les attributs de la classe (dataset, modèle, tokenizer, device, etc.).         |\n",
        "| **2. Dataset & Tokenizer**   | `set_dataset`<br>`set_tokenizer`                                    | Chargement du dataset et préparation du tokenizer.                                        |\n",
        "| **3. Pré-processing**        | `split_dataset`<br>`set_data_collator`<br>`set_loaders`             | Prétraitement des données : sous-échantillonnage, tokenisation, création des DataLoaders. |\n",
        "| **4. Modèle**                | `set_model`                                                         | Chargement du modèle pré-entraîné (DistilBERT).                                           |\n",
        "| **5. Optimisation**          | `set_optimizer`<br>`set_scheduler`<br>`set_optimizer_and_scheduler` | Configuration de l’optimiseur et du scheduler d’apprentissage.                            |\n",
        "| **6. Entraînement et Evaluation** | `train_and_validate`<br>`evaluate`<br>`count_parameters`            | Entraînement, validation, évaluation et inspection du modèle.                             |\n",
        "| **7. Inférence**             | `predict_sentiment`<br>`predict_batch`                              | Prédiction sur un texte unique ou sur un lot de textes.                                   |\n",
        "| **8. Orchestration**         | `workflow`                                                          | Pipeline complet en mode entraînement, évaluation ou inférence.                           |"
      ]
    },
    {
      "cell_type": "code",
      "execution_count": 133,
      "id": "84ab9e42",
      "metadata": {
        "id": "84ab9e42"
      },
      "outputs": [],
      "source": [
        "class LLMFineTuner:\n",
        "    \"\"\"\n",
        "    Fine-tuning pipeline for DistilBERT sentiment classification.\n",
        "\n",
        "    Pipeline steps:\n",
        "    1. Initialisation\n",
        "        - __init__\n",
        "\n",
        "    2. Dataset & Tokenizer\n",
        "        - set_dataset\n",
        "        - set_tokenizer\n",
        "\n",
        "    3. Pre-processing\n",
        "        - split_dataset (needs set_dataset)\n",
        "        - set_data_collator\n",
        "        - set_loaders (needs split_dataset, set_data_collator)\n",
        "\n",
        "    4. Model\n",
        "        - set_model\n",
        "\n",
        "    5. Optimization\n",
        "        - set_optimizer\n",
        "        - set_scheduler (needs set_optimizer, set_loaders)\n",
        "        - set_optimizer_and_scheduler\n",
        "\n",
        "    6. Training & Evaluation\n",
        "        - train_and_validate\n",
        "        - evaluate\n",
        "        - count_parameters\n",
        "\n",
        "    7. Inference\n",
        "        - predict_sentiment\n",
        "        - predict_batch\n",
        "\n",
        "    8. Workflow Orchestrator\n",
        "        - workflow\n",
        "    \"\"\"\n",
        "\n",
        "    # =========================\n",
        "    # 1. INITIALISATION\n",
        "    # =========================\n",
        "\n",
        "    def __init__(\n",
        "        self,\n",
        "        dataset=\"scikit-learn/imdb\",\n",
        "        model_cls=DistilBertForSequenceClassification,\n",
        "        num_labels=2,  # \"negative\" (0) and \"positive\" (1)\n",
        "        pretrained_model_name_or_path=\"distilbert-base-uncased\",\n",
        "        tokenizer_cls=DistilBertTokenizer,\n",
        "    ):\n",
        "        # Données\n",
        "        self.dataset = dataset\n",
        "        self.train_set = None\n",
        "        self.valid_set = None\n",
        "\n",
        "        # DataLoader\n",
        "        self.data_collator = None\n",
        "        self.train_loader = None\n",
        "        self.valid_loader = None\n",
        "\n",
        "        # Modèle et tokenisation\n",
        "        self.tokenizer_cls = tokenizer_cls\n",
        "        self.model_cls = model_cls\n",
        "        self.num_labels = num_labels\n",
        "        self.pretrained_model_name_or_path = pretrained_model_name_or_path\n",
        "\n",
        "        # Environnement\n",
        "        self.device = torch.device(\n",
        "            \"cuda\" if torch.cuda.is_available() else \"cpu\"\n",
        "        )\n",
        "\n",
        "    # =========================\n",
        "    # 2. DATASET & TOKENIZER\n",
        "    # =========================\n",
        "    def set_dataset(self, verbose=False) -> None:\n",
        "        self.dataset = load_dataset(self.dataset)\n",
        "\n",
        "        # Récupération des colonnes\n",
        "        cols = self.dataset[\"train\"].column_names\n",
        "\n",
        "        # Uniformiser les colonnes : texte -> \"review\", label -> \"sentiment\"\n",
        "        self.dataset = self.dataset.rename_column(cols[0], \"review\")\n",
        "        self.dataset = self.dataset.rename_column(cols[1], \"sentiment\")\n",
        "\n",
        "        # Normaliser les labels en entiers 0/1\n",
        "        example_val = self.dataset[\"train\"][0][\"sentiment\"]\n",
        "\n",
        "        if isinstance(example_val, str):  # IMDB\n",
        "            def map_labels(example):\n",
        "                example[\"sentiment\"] = 0 if example[\"sentiment\"].lower() == \"negative\" else 1\n",
        "                return example\n",
        "            # on caste en int après mapping\n",
        "            self.dataset = self.dataset.map(map_labels).cast_column(\"sentiment\", Value(\"int64\"))\n",
        "\n",
        "        elif isinstance(example_val, int):  # RottenTomatoes ou autre déjà 0/1\n",
        "            # on s’assure juste que c’est bien un entier\n",
        "            self.dataset = self.dataset.cast_column(\"sentiment\", Value(\"int64\"))\n",
        "\n",
        "        if verbose:\n",
        "            print(\n",
        "                f\"Dataset loaded and normalized :\\n\"\n",
        "                f\"{self.dataset}\\n\"\n",
        "                f\"with {len(self.dataset['train'])} training examples.\"\n",
        "            )\n",
        "\n",
        "    def set_tokenizer(\n",
        "        self,\n",
        "        do_lower_case=True,\n",
        "        verbose=False,\n",
        "    ) -> None:\n",
        "        self.tokenizer = self.tokenizer_cls.from_pretrained(\n",
        "            self.pretrained_model_name_or_path, do_lower_case=do_lower_case\n",
        "        )\n",
        "        if verbose:\n",
        "            print(\n",
        "                f\"Tokenizer {self.tokenizer_cls.__name__} loaded from \"\n",
        "                f\"{self.pretrained_model_name_or_path}\"\n",
        "            )\n",
        "\n",
        "    # =========================\n",
        "    # 3. PRE-PROCESSING\n",
        "    # =========================\n",
        "    def split_dataset(\n",
        "        self, max_length=256, n_samples=2000, seed=42, test_size=0.2\n",
        "    ) -> None:\n",
        "        \"\"\"\n",
        "        Prepares the dataset for training:\n",
        "\n",
        "        - Shuffles and selects a subset\n",
        "        - Tokenizes the reviews and generates input_ids and labels\n",
        "        - Removes unnecessary columns\n",
        "        - Splits into train/validation sets\n",
        "\n",
        "        Args:\n",
        "            n_samples (int): number of examples to select\n",
        "            test_size (float): proportion of the data to use for validation\n",
        "            max_length (int): maximum sequence length (truncate if longer)\n",
        "        \"\"\"\n",
        "        def preprocessing_fn(x, tokenizer, max_length=256):\n",
        "            text = x[\"review\"]\n",
        "            label = x[\"sentiment\"]\n",
        "\n",
        "            # Tokenisation\n",
        "            x[\"input_ids\"] = tokenizer.encode(\n",
        "                text,\n",
        "                add_special_tokens=True,\n",
        "                truncation=True,\n",
        "                max_length=max_length,\n",
        "                padding=False,\n",
        "                return_attention_mask=False,\n",
        "            )\n",
        "            x[\"labels\"] = label\n",
        "            return x\n",
        "\n",
        "        # Mélanger et sous-échantillonner\n",
        "        dataset = self.dataset[\"train\"].shuffle(seed).select(range(n_samples))\n",
        "\n",
        "        # Appliquer le prétraitement\n",
        "        dataset = dataset.map(\n",
        "            preprocessing_fn, fn_kwargs={\"tokenizer\": self.tokenizer}\n",
        "        )\n",
        "\n",
        "        # Garder uniquement les colonnes utiles\n",
        "        dataset = dataset.select_columns([\"input_ids\", \"labels\"])\n",
        "\n",
        "        # Split train / validation\n",
        "        splitted = dataset.train_test_split(test_size=test_size)\n",
        "\n",
        "        self.train_set = splitted[\"train\"]\n",
        "        self.valid_set = splitted[\"test\"]\n",
        "\n",
        "    def set_data_collator(self) -> None:\n",
        "        self.data_collator = DataCollator(self.tokenizer)\n",
        "\n",
        "    def set_loaders(self, train_batch_size=4, eval_batch_size=4) -> None:\n",
        "        if not self.data_collator:\n",
        "            raise ValueError(\"Data collator must be set before data loaders.\")\n",
        "        if not self.train_set or not self.valid_set:\n",
        "            raise ValueError(\"Dataset must be split before data loaders.\")\n",
        "        self.train_loader = DataLoader(\n",
        "            batch_size=train_batch_size,\n",
        "            collate_fn=self.data_collator,\n",
        "            dataset=self.train_set,\n",
        "            shuffle=True,\n",
        "        )\n",
        "        self.valid_loader = DataLoader(\n",
        "            batch_size=eval_batch_size,\n",
        "            collate_fn=self.data_collator,\n",
        "            dataset=self.valid_set,\n",
        "            shuffle=False,\n",
        "        )\n",
        "        self.n_valid = len(self.valid_set)\n",
        "        self.n_train = len(self.train_set)\n",
        "\n",
        "    def make_loader_for_tokenizer(self, split, max_len=256, batch_size=8, shuffle=False):\n",
        "        \"\"\"\n",
        "        Create a DataLoader for a given dataset split and the instance tokenizer.\n",
        "\n",
        "        Args:\n",
        "            split (Dataset): Hugging Face dataset split\n",
        "            max_len (int): maximum sequence length for truncation\n",
        "            batch_size (int): batch size\n",
        "            shuffle (bool): shuffle data before batching\n",
        "\n",
        "        Returns:\n",
        "            DataLoader: PyTorch DataLoader with dynamic padding\n",
        "        \"\"\"\n",
        "        def encode(batch):\n",
        "            out = self.tokenizer(\n",
        "                batch[\"text\"],\n",
        "                truncation=True,\n",
        "                max_length=max_len,\n",
        "                padding=False\n",
        "            )\n",
        "            out[\"labels\"] = batch[\"label\"]\n",
        "            return out\n",
        "\n",
        "        # Tokenize the dataset\n",
        "        ds_tok = split.map(\n",
        "            encode,\n",
        "            batched=True,\n",
        "            remove_columns=split.column_names\n",
        "        )\n",
        "\n",
        "        # Dynamic padding in collate\n",
        "        def collate_fn(batch):\n",
        "            return self.tokenizer.pad(\n",
        "                batch,\n",
        "                padding=\"longest\",\n",
        "                max_length=max_len,\n",
        "                return_tensors=\"pt\"\n",
        "            )\n",
        "\n",
        "        return DataLoader(\n",
        "            ds_tok,\n",
        "            batch_size=batch_size,\n",
        "            shuffle=shuffle,\n",
        "            collate_fn=collate_fn\n",
        "        )\n",
        "\n",
        "    # =========================\n",
        "    # 4. MODELE\n",
        "    # =========================\n",
        "    def set_model(\n",
        "        self,\n",
        "        verbose=False,\n",
        "    ) -> None:\n",
        "        model = self.model_cls.from_pretrained(\n",
        "            pretrained_model_name_or_path=self.pretrained_model_name_or_path,\n",
        "            num_labels=self.num_labels,\n",
        "        )\n",
        "        self.model = model.to(self.device)\n",
        "        if verbose:\n",
        "            print(\n",
        "                f\"Model {self.model_cls.__name__} loaded with \"\n",
        "                f\"{self.model.num_labels} labels.\"\n",
        "            )\n",
        "\n",
        "    # =========================\n",
        "    # 5. OPTIMIZATION\n",
        "    # =========================\n",
        "    def set_optimizer(\n",
        "        self,\n",
        "        learning_rate=5e-5,\n",
        "        weight_decay=0.01,\n",
        "    ) -> None:\n",
        "        # AdamW is a variant of Adam that includes weight decay\n",
        "        self.optimizer = optim.AdamW(\n",
        "            self.model.parameters(),\n",
        "            lr=learning_rate,\n",
        "            weight_decay=weight_decay,\n",
        "        )\n",
        "\n",
        "    def set_scheduler(\n",
        "        self,\n",
        "        num_epochs=3,\n",
        "    ) -> None:\n",
        "        if not self.optimizer:\n",
        "            raise ValueError(\"Optimizer must be set before the scheduler.\")\n",
        "        if not self.train_loader:\n",
        "            raise ValueError(\"Data loaders must be set before scheduler.\")\n",
        "        # Total training steps = number of batches * number of epochs\n",
        "        self.num_total_steps = len(self.train_loader) * num_epochs\n",
        "        self.num_warmup_steps = int(0.1 * self.num_total_steps)\n",
        "        self.scheduler = get_linear_schedule_with_warmup(\n",
        "            self.optimizer,\n",
        "            num_warmup_steps=self.num_warmup_steps,\n",
        "            num_training_steps=self.num_total_steps,\n",
        "        )\n",
        "\n",
        "    def set_optimizer_and_scheduler(\n",
        "        self,\n",
        "        learning_rate=5e-5,\n",
        "        num_epochs=3,\n",
        "        weight_decay=0.01,\n",
        "        verbose=False,\n",
        "    ) -> None:\n",
        "        self.set_optimizer(learning_rate, weight_decay)\n",
        "        self.set_scheduler(num_epochs)\n",
        "        if verbose:\n",
        "            print(\n",
        "                f\"Optimizer and scheduler set with {self.num_total_steps} \"\n",
        "                f\"training steps and {self.num_warmup_steps} warmup steps.\"\n",
        "            )\n",
        "\n",
        "    # =========================\n",
        "    # 6. TRAINING & EVALUATION\n",
        "    # =========================\n",
        "    def train_and_validate(\n",
        "        self, epochs=3, max_grad_norm=1.0, save_dir=\"./distilbert-best\"\n",
        "    ) -> None:\n",
        "        \"\"\"\n",
        "        Trains and validates the model for a given number of epochs.\n",
        "\n",
        "        - Performs forward/backward passes with gradient clipping\n",
        "        - Updates optimizer and scheduler\n",
        "        - Evaluates on validation set at the end of each epoch\n",
        "        - Saves the best model checkpoint based on validation loss\n",
        "\n",
        "        Args:\n",
        "            epochs (int): number of epochs to train\n",
        "            max_grad_norm (float): gradient clipping norm\n",
        "            save_dir (str): directory to save the best model\n",
        "        \"\"\"\n",
        "        best_val_loss = float(\"inf\")\n",
        "        self.history = {\"train_loss\": [], \"val_loss\": [], \"val_acc\": []}\n",
        "        for epoch in range(1, epochs + 1):\n",
        "            print(f\"\\nEpoch {epoch}/{epochs}\")\n",
        "\n",
        "            # -------- TRAIN --------\n",
        "            total_train_loss = 0.0\n",
        "            self.model.train()\n",
        "            for batch in self.train_loader:\n",
        "                # move batch tensors to device\n",
        "                batch = {k: v.to(self.device) for k, v in batch.items()}\n",
        "\n",
        "                self.optimizer.zero_grad(set_to_none=True)\n",
        "\n",
        "                # forward pass (returns loss when 'labels' is provided)\n",
        "                outputs = self.model(**batch)\n",
        "                loss = outputs.loss\n",
        "                total_train_loss += loss.item()\n",
        "\n",
        "                # backward pass\n",
        "                loss.backward()\n",
        "\n",
        "                # gradient clipping\n",
        "                clip_grad_norm_(\n",
        "                    self.model.parameters(), max_norm=max_grad_norm\n",
        "                )\n",
        "\n",
        "                # optimizer + scheduler step\n",
        "                self.optimizer.step()\n",
        "                self.scheduler.step()\n",
        "\n",
        "            avg_train_loss = total_train_loss / len(self.train_loader)\n",
        "            self.history[\"train_loss\"].append(avg_train_loss)\n",
        "            print(f\"  Training loss: {avg_train_loss:.4f}\")\n",
        "\n",
        "            # -------- VALIDATE --------\n",
        "            self.model.eval()\n",
        "            total_val_loss = 0.0\n",
        "            correct = 0\n",
        "            total = 0\n",
        "\n",
        "            with torch.no_grad():\n",
        "                for batch in self.valid_loader:\n",
        "                    batch = {k: v.to(self.device) for k, v in batch.items()}\n",
        "\n",
        "                    outputs = self.model(**batch)\n",
        "                    loss = outputs.loss\n",
        "                    logits = outputs.logits\n",
        "\n",
        "                    total_val_loss += loss.item()\n",
        "\n",
        "                    preds = logits.argmax(dim=-1)\n",
        "                    correct += (preds == batch[\"labels\"]).sum().item()\n",
        "                    total += batch[\"labels\"].size(0)\n",
        "\n",
        "            avg_val_loss = total_val_loss / len(self.valid_loader)\n",
        "            val_acc = correct / total if total > 0 else 0.0\n",
        "            self.history[\"val_loss\"].append(avg_val_loss)\n",
        "            self.history[\"val_acc\"].append(val_acc)\n",
        "            print(\n",
        "                f\"  Validation loss: {avg_val_loss:.4f} | Accuracy: {val_acc:.4f}\"\n",
        "            )\n",
        "\n",
        "            # save best checkpoint\n",
        "            if avg_val_loss < best_val_loss:\n",
        "                best_val_loss = avg_val_loss\n",
        "                self.model.save_pretrained(save_dir)\n",
        "                self.tokenizer.save_pretrained(save_dir)\n",
        "                print(f\"Saved new best model to {save_dir}\")\n",
        "\n",
        "    def evaluate(self) -> dict[str, object]:\n",
        "        if not self.valid_loader:\n",
        "            raise ValueError(\"Data loaders must be set before evaluation.\")\n",
        "        if not self.model:\n",
        "            raise ValueError(\"Model must be set before evaluation.\")\n",
        "        self.model.eval()\n",
        "        all_preds = []\n",
        "        all_labels = []\n",
        "        with torch.no_grad():\n",
        "            for batch in self.valid_loader:\n",
        "                batch = {k: v.to(self.device) for k, v in batch.items()}\n",
        "                outputs = self.model(**batch)\n",
        "                logits = outputs.logits\n",
        "                preds = logits.argmax(dim=-1).cpu().numpy()\n",
        "                labels = batch[\"labels\"].cpu().numpy()\n",
        "                all_preds.extend(preds)\n",
        "                all_labels.extend(labels)\n",
        "        accuracy = accuracy_score(all_labels, all_preds)\n",
        "        cm = confusion_matrix(all_labels, all_preds)\n",
        "        f1 = f1_score(all_labels, all_preds)\n",
        "        report = classification_report(\n",
        "            all_labels, all_preds, target_names=[\"negative\", \"positive\"]\n",
        "        )\n",
        "        return {\n",
        "            \"accuracy\": accuracy,\n",
        "            \"classification_report\": report,\n",
        "            \"confusion_matrix\": cm.tolist(),\n",
        "            \"f1_score\": f1,\n",
        "        }\n",
        "\n",
        "    def count_parameters(self) -> tuple[int, int]:\n",
        "        total = sum(p.numel() for p in self.model.parameters())\n",
        "        trainable = sum(\n",
        "            p.numel() for p in self.model.parameters() if p.requires_grad\n",
        "        )\n",
        "        return total, trainable\n",
        "\n",
        "    def plot_history(self) -> None:\n",
        "        \"\"\"\n",
        "        Affiche les courbes d'apprentissage (loss et accuracy) enregistrées\n",
        "        pendant l'entraînement.\n",
        "        \"\"\"\n",
        "        if not hasattr(self, \"history\") or not self.history:\n",
        "            raise ValueError(\n",
        "                \"Aucun historique trouvé. Lancez train_and_validate() d'abord.\"\n",
        "            )\n",
        "\n",
        "        epochs = range(1, len(self.history[\"train_loss\"]) + 1)\n",
        "\n",
        "        plt.figure(figsize=(12, 4))\n",
        "\n",
        "        # Courbe de loss\n",
        "        plt.subplot(1, 2, 1)\n",
        "        plt.plot(\n",
        "            epochs, self.history[\"train_loss\"], label=\"Train Loss\", marker=\"o\"\n",
        "        )\n",
        "        plt.plot(\n",
        "            epochs,\n",
        "            self.history[\"val_loss\"],\n",
        "            label=\"Validation Loss\",\n",
        "            marker=\"o\",\n",
        "        )\n",
        "        plt.xlabel(\"Epochs\")\n",
        "        plt.ylabel(\"Loss\")\n",
        "        plt.title(\"Training vs Validation Loss\")\n",
        "        plt.legend()\n",
        "        plt.grid(True)\n",
        "\n",
        "        # Courbe d'accuracy\n",
        "        plt.subplot(1, 2, 2)\n",
        "        plt.plot(\n",
        "            epochs,\n",
        "            self.history[\"val_acc\"],\n",
        "            label=\"Validation Accuracy\",\n",
        "            marker=\"o\",\n",
        "            color=\"green\",\n",
        "        )\n",
        "        plt.xlabel(\"Epochs\")\n",
        "        plt.ylabel(\"Accuracy\")\n",
        "        plt.title(\"Validation Accuracy over Epochs\")\n",
        "        plt.legend()\n",
        "        plt.grid(True)\n",
        "\n",
        "        plt.show()\n",
        "\n",
        "    # =========================\n",
        "    # 7. INFERENCE\n",
        "    # =========================\n",
        "    def predict_sentiment(self, text) -> dict[str, object]:\n",
        "        # Tokenize the input\n",
        "        inputs = self.tokenizer(\n",
        "            text,\n",
        "            add_special_tokens=True,\n",
        "            truncation=True,\n",
        "            max_length=256,\n",
        "            padding=\"max_length\",  # pad single example\n",
        "            return_tensors=\"pt\",\n",
        "        )\n",
        "        inputs = {k: v.to(self.device) for k, v in inputs.items()}\n",
        "\n",
        "        # Forward pass\n",
        "        with torch.no_grad():\n",
        "            outputs = self.model(**inputs)\n",
        "            logits = outputs.logits\n",
        "            probs = torch.softmax(logits, dim=-1).cpu().numpy()[0]\n",
        "\n",
        "        # Get predicted label\n",
        "        pred_label = int(logits.argmax(dim=-1).cpu().item())\n",
        "        label_str = \"positive\" if pred_label == 1 else \"negative\"\n",
        "\n",
        "        return {\n",
        "            \"text\": text,\n",
        "            \"pred_label\": label_str,\n",
        "            \"probabilities\": {\n",
        "                \"negative\": float(probs[0]),\n",
        "                \"positive\": float(probs[1]),\n",
        "            },\n",
        "        }\n",
        "\n",
        "    def predict_batch(self, texts, max_length=256) -> list[dict[str, object]]:\n",
        "        \"\"\"\n",
        "        Predict sentiment for a batch of texts (list of strings).\n",
        "\n",
        "        Returns a list of dicts with labels and probabilities.\n",
        "        \"\"\"\n",
        "        # Tokenize the whole batch at once\n",
        "        inputs = self.tokenizer(\n",
        "            texts,\n",
        "            add_special_tokens=True,\n",
        "            truncation=True,\n",
        "            max_length=max_length,\n",
        "            padding=True,  # pad to longest in batch\n",
        "            return_tensors=\"pt\",\n",
        "        )\n",
        "        inputs = {k: v.to(self.device) for k, v in inputs.items()}\n",
        "\n",
        "        # Forward pass\n",
        "        with torch.no_grad():\n",
        "            outputs = self.model(**inputs)\n",
        "            logits = outputs.logits\n",
        "            probs = torch.softmax(logits, dim=-1).cpu().numpy()\n",
        "\n",
        "        # Decode predictions\n",
        "        results = []\n",
        "        for text, prob in zip(texts, probs):\n",
        "            pred_label = int(prob.argmax())\n",
        "            label_str = \"positive\" if pred_label == 1 else \"negative\"\n",
        "            results.append(\n",
        "                {\n",
        "                    \"text\": text,\n",
        "                    \"pred_label\": label_str,\n",
        "                    \"probabilities\": {\n",
        "                        \"negative\": float(prob[0]),\n",
        "                        \"positive\": float(prob[1]),\n",
        "                    },\n",
        "                }\n",
        "            )\n",
        "        return results\n",
        "\n",
        "    # =========================\n",
        "    # 8. WORKFLOW ORCHESTRATOR\n",
        "    # =========================\n",
        "    def workflow(\n",
        "        self,\n",
        "        mode=\"train\",\n",
        "        # kwargs pour chaque étape\n",
        "        set_dataset_kwargs: dict = None,\n",
        "        set_tokenizer_kwargs: dict = None,\n",
        "        split_dataset_kwargs: dict = None,\n",
        "        set_data_collator_kwargs: dict = None,\n",
        "        set_loaders_kwargs: dict = None,\n",
        "        set_model_kwargs: dict = None,\n",
        "        set_optimizer_kwargs: dict = None,\n",
        "        set_scheduler_kwargs: dict = None,\n",
        "        set_optimizer_and_scheduler_kwargs: dict = None,\n",
        "        train_and_validate_kwargs: dict = None,\n",
        "        evaluate_kwargs: dict = None,\n",
        "        predict_sentiment_kwargs: dict = None,\n",
        "        predict_batch_kwargs: dict = None,\n",
        "    ) -> None:\n",
        "        \"\"\"\n",
        "        Run the full workflow depending on mode.\n",
        "\n",
        "        Each step can receive its own kwargs dict, e.g.:\n",
        "        workflow(mode=\"train\", split_dataset_kwargs={\"max_length\":512, \"n_samples\":5000})\n",
        "        \"\"\"\n",
        "\n",
        "        # Initialisation des kwargs vides\n",
        "        set_dataset_kwargs = set_dataset_kwargs or {}\n",
        "        set_tokenizer_kwargs = set_tokenizer_kwargs or {}\n",
        "        split_dataset_kwargs = split_dataset_kwargs or {}\n",
        "        set_data_collator_kwargs = set_data_collator_kwargs or {}\n",
        "        set_loaders_kwargs = set_loaders_kwargs or {}\n",
        "        set_model_kwargs = set_model_kwargs or {}\n",
        "        set_optimizer_kwargs = set_optimizer_kwargs or {}\n",
        "        set_scheduler_kwargs = set_scheduler_kwargs or {}\n",
        "        set_optimizer_and_scheduler_kwargs = set_optimizer_and_scheduler_kwargs or {}\n",
        "        train_and_validate_kwargs = train_and_validate_kwargs or {}\n",
        "        evaluate_kwargs = evaluate_kwargs or {}\n",
        "        predict_sentiment_kwargs = predict_sentiment_kwargs or {}\n",
        "        predict_batch_kwargs = predict_batch_kwargs or {}\n",
        "\n",
        "        if mode == \"train\":\n",
        "            print(\"Starting training workflow...\")\n",
        "\n",
        "            # 1. Dataset\n",
        "            self.set_dataset(**set_dataset_kwargs)\n",
        "\n",
        "            # 2. Tokenizer\n",
        "            self.set_tokenizer(**set_tokenizer_kwargs)\n",
        "\n",
        "            # 3. Préprocessing\n",
        "            self.split_dataset(**split_dataset_kwargs)\n",
        "            self.set_data_collator(**set_data_collator_kwargs)\n",
        "            self.set_loaders(**set_loaders_kwargs)\n",
        "\n",
        "            # 4. Modèle, optim & scheduler\n",
        "            self.set_model(**set_model_kwargs)\n",
        "            self.set_optimizer_and_scheduler(**set_optimizer_and_scheduler_kwargs)\n",
        "\n",
        "            # 5. Entraînement\n",
        "            self.train_and_validate(**train_and_validate_kwargs)\n",
        "\n",
        "        elif mode == \"evaluation\":\n",
        "            print(\"Starting evaluation workflow...\")\n",
        "            self.set_dataset(**set_dataset_kwargs)\n",
        "            self.set_tokenizer(**set_tokenizer_kwargs)\n",
        "            self.split_dataset(**split_dataset_kwargs)\n",
        "            self.set_data_collator(**set_data_collator_kwargs)\n",
        "            self.set_loaders(**set_loaders_kwargs)\n",
        "            self.set_model(**set_model_kwargs)\n",
        "            self.model.eval()\n",
        "            return self.evaluate(**evaluate_kwargs)\n",
        "\n",
        "        elif mode == \"inference\":\n",
        "            print(\"Starting inference workflow...\")\n",
        "            self.set_tokenizer(**set_tokenizer_kwargs)\n",
        "            self.set_model(**set_model_kwargs)\n",
        "            self.model.eval()\n",
        "\n",
        "        else:\n",
        "            raise ValueError(\"mode must be 'train', 'evaluation' or 'inference'\")\n",
        "    # =========================\n",
        "    # 9. THRESHOLD-BASED EVALUATION\n",
        "    # =========================\n",
        "    def collect_probs_labels(self, dataloader=None):\n",
        "        \"\"\"\n",
        "        Collect predicted probabilities (for positive class) and labels\n",
        "        from the model on a given dataloader.\n",
        "        \"\"\"\n",
        "        dataloader = dataloader or self.valid_loader\n",
        "        self.model.eval()\n",
        "        probs, labels = [], []\n",
        "        with torch.no_grad():\n",
        "            for b in dataloader:\n",
        "                b = {k: v.to(self.device) for k, v in b.items()}\n",
        "                logits = self.model(**b).logits\n",
        "                p = logits.softmax(-1)[:, 1].cpu().numpy()\n",
        "                probs.extend(p)\n",
        "                labels.extend(b[\"labels\"].cpu().numpy())\n",
        "        return np.array(probs), np.array(labels)\n",
        "\n",
        "    @staticmethod\n",
        "    def tune_threshold_macro_f1(probs, labels, grid=np.linspace(0.1, 0.9, 81)):\n",
        "        \"\"\"\n",
        "        Search for the threshold that maximizes macro-F1.\n",
        "        \"\"\"\n",
        "        best = max(\n",
        "            ((t, f1_score(labels, (probs >= t).astype(int), average=\"macro\")) for t in grid),\n",
        "            key=lambda x: x[1]\n",
        "        )\n",
        "        return best  # (best_threshold, best_macro_f1)\n",
        "\n",
        "    @staticmethod\n",
        "    def eval_at_threshold(probs, labels, t):\n",
        "        \"\"\"\n",
        "        Compute metrics at a given threshold.\n",
        "        \"\"\"\n",
        "        preds = (probs >= t).astype(int)\n",
        "        acc = accuracy_score(labels, preds)\n",
        "        macro_f1 = f1_score(labels, preds, average=\"macro\")\n",
        "        per_cls = precision_recall_fscore_support(labels, preds, average=None, labels=[0, 1])\n",
        "        cm = confusion_matrix(labels, preds, labels=[0, 1])\n",
        "        return acc, macro_f1, cm, per_cls"
      ]
    },
    {
      "cell_type": "markdown",
      "id": "6e93abc1",
      "metadata": {
        "id": "6e93abc1"
      },
      "source": [
        "## Initialisation du *fine-tuner*\n",
        "\n",
        "À ce stade, la classe `LLMFineTuner` peut être instanciée.\n",
        "L’objet créé, ici nommé `LLMFineTuner_demo`, servira de support pour l’ensemble du pipeline de fine-tuning (chargement des données, entraînement, évaluation et inférence)."
      ]
    },
    {
      "cell_type": "code",
      "execution_count": 82,
      "id": "273ea86a",
      "metadata": {
        "id": "273ea86a"
      },
      "outputs": [],
      "source": [
        "LLM_DistilBERT = LLMFineTuner()"
      ]
    },
    {
      "cell_type": "markdown",
      "id": "6ee3f6d7",
      "metadata": {
        "id": "6ee3f6d7"
      },
      "source": [
        "## Téléchargement du jeu de données d'entraînement\n",
        "\n",
        "La première étape du pipeline consiste à télécharger et charger le **jeu de données** utilisé pour le fine-tuning.\n",
        "Par défaut, le *dataset* choisi est celui des **critiques de films IMDb**, disponible directement via la librairie `datasets` de Hugging Face.\n",
        "\n",
        "Ce *dataset* contient :\n",
        "\n",
        "* des critiques textuelles de films,\n",
        "* une étiquette associée (`positive` ou `negative`),\n",
        "* et il est couramment utilisé comme *benchmark* pour la **classification de sentiments**."
      ]
    },
    {
      "cell_type": "code",
      "execution_count": 83,
      "id": "3ab06ad6",
      "metadata": {
        "colab": {
          "base_uri": "https://localhost:8080/"
        },
        "id": "3ab06ad6",
        "outputId": "e0d2ed80-943a-4687-d8e4-158e6af55cb6"
      },
      "outputs": [
        {
          "output_type": "stream",
          "name": "stdout",
          "text": [
            "Dataset loaded :\n",
            "DatasetDict({\n",
            "    train: Dataset({\n",
            "        features: ['review', 'sentiment'],\n",
            "        num_rows: 50000\n",
            "    })\n",
            "})\n",
            "with 50000 examples.\n"
          ]
        }
      ],
      "source": [
        "LLM_DistilBERT.set_dataset(verbose=True)"
      ]
    },
    {
      "cell_type": "markdown",
      "id": "a9126cf5",
      "metadata": {
        "id": "a9126cf5"
      },
      "source": [
        "## Préparation des entrées du modèle\n",
        "\n",
        "Le format d’entrée attendu par BERT (et donc par DistilBERT) peut sembler **sur-spécifié**, en particulier lorsqu’on l’applique à une tâche unique comme la classification de séquence, l’étiquetage de mots ou la détection de paraphrases.\n",
        "Cependant, ce format est conçu pour assurer une compatibilité large avec différentes tâches NLP.\n",
        "\n",
        "Les principales étapes sont :\n",
        "\n",
        "* **Ajout de tokens spéciaux** en début et fin de séquence (par ex. `[CLS]`, `[SEP]`),\n",
        "* **Troncature ou padding** des phrases afin qu’elles aient toutes une **longueur constante**,\n",
        "* **Construction du masque d’attention** (`attention mask`) pour distinguer les tokens réels du padding."
      ]
    },
    {
      "cell_type": "code",
      "execution_count": 84,
      "id": "008c1122",
      "metadata": {
        "colab": {
          "base_uri": "https://localhost:8080/"
        },
        "id": "008c1122",
        "outputId": "86062f38-ecf7-46b6-87de-5df05de87818"
      },
      "outputs": [
        {
          "output_type": "stream",
          "name": "stdout",
          "text": [
            "Tokenizer DistilBertTokenizer loaded from distilbert-base-uncased\n"
          ]
        }
      ],
      "source": [
        "LLM_DistilBERT.set_tokenizer(verbose=True)"
      ]
    },
    {
      "cell_type": "markdown",
      "id": "5b42be62",
      "metadata": {
        "id": "5b42be62"
      },
      "source": [
        "Avant d’appliquer le prétraitement à l’ensemble du dataset, il est utile de vérifier le bon fonctionnement du *tokenizer* sur une phrase simple.\n",
        "Prenons par exemple le texte suivant :\n",
        "\n",
        "```text\n",
        "\"hello my name is kevin\"\n",
        "```\n",
        "\n",
        "Cet exemple permettra d’illustrer :\n",
        "\n",
        "* la **découpe en tokens** (WordPiece),\n",
        "* la **conversion en identifiants numériques (IDs)**,\n",
        "* l’ajout automatique des **tokens spéciaux** `[CLS]` et `[SEP]`."
      ]
    },
    {
      "cell_type": "code",
      "execution_count": 85,
      "id": "072a1193",
      "metadata": {
        "colab": {
          "base_uri": "https://localhost:8080/"
        },
        "id": "072a1193",
        "outputId": "a9d1d497-686f-4c4d-c6a1-e4595b1a879a"
      },
      "outputs": [
        {
          "output_type": "stream",
          "name": "stdout",
          "text": [
            "Tokens in the sequence: ['hello', 'my', 'name', 'is', 'kevin']\n",
            "Encoded inputs:\n",
            "╒═════════════╤══════════╕\n",
            "│   Token IDs │ Tokens   │\n",
            "╞═════════════╪══════════╡\n",
            "│         101 │ [CLS]    │\n",
            "├─────────────┼──────────┤\n",
            "│        7592 │ hello    │\n",
            "├─────────────┼──────────┤\n",
            "│        2026 │ my       │\n",
            "├─────────────┼──────────┤\n",
            "│        2171 │ name     │\n",
            "├─────────────┼──────────┤\n",
            "│        2003 │ is       │\n",
            "├─────────────┼──────────┤\n",
            "│        4901 │ kevin    │\n",
            "├─────────────┼──────────┤\n",
            "│         102 │ [SEP]    │\n",
            "╘═════════════╧══════════╛\n"
          ]
        }
      ],
      "source": [
        "message = \"hello my name is kevin\"\n",
        "\n",
        "# Étape 1 : tokenisation (WordPiece)\n",
        "tokens = LLM_DistilBERT.tokenizer.tokenize(message)\n",
        "print(\"Tokens in the sequence:\", tokens)\n",
        "\n",
        "# Étape 2 : encodage (conversion en IDs numériques)\n",
        "input_ids = LLM_DistilBERT.tokenizer.encode(\n",
        "    message, add_special_tokens=True\n",
        ")\n",
        "\n",
        "# Étape 3 : tableau alignant IDs et tokens correspondants\n",
        "table = np.array(\n",
        "    [\n",
        "        input_ids,\n",
        "        [LLM_DistilBERT.tokenizer.ids_to_tokens[w] for w in input_ids],\n",
        "    ]\n",
        ").T\n",
        "\n",
        "print(\"Encoded inputs:\")\n",
        "print(tabulate(table, headers=[\"Token IDs\", \"Tokens\"], tablefmt=\"fancy_grid\"))"
      ]
    },
    {
      "cell_type": "markdown",
      "id": "1567cac2",
      "metadata": {
        "id": "1567cac2"
      },
      "source": [
        "On remarque la présence de tokens spéciaux comme `[CLS]` et `[SEP]` dans la séquence. Ils sont ajoutés automatiquement par HuggingFace.\n",
        "\n",
        "* **`[CLS]` (classification token)** :\n",
        "  Ce token est ajouté systématiquement en début de séquence. Dans le cas d’une tâche de classification, la représentation finale associée à `[CLS]` après passage dans les couches du transformeur est utilisée comme **résumé global de la séquence**. Elle sert ensuite de base pour prédire la classe associée au texte.\n",
        "\n",
        "* **`[SEP]` (separator token)** :\n",
        "  Ce token est utilisé comme séparateur entre deux segments de texte. Dans une tâche de **classification d’une seule phrase**, sa présence est secondaire. En revanche, il devient essentiel pour des tâches impliquant plusieurs séquences, comme la **détection de paraphrases**, la **classification de paires de phrases**, ou encore les tâches de **Question Answering (Q\\&A)** où une question et un contexte doivent être distingués.\n",
        "\n",
        "Pour conclure quant au tableau obtenu ci-dessus :\n",
        "\n",
        "* le texte a bien été **découpé en sous-unités lexicales** (*tokens*),\n",
        "* chaque token est associé à un **identifiant numérique unique**,\n",
        "* les **tokens spéciaux** `[CLS]` (en début) et `[SEP]` (en fin) ont été ajoutés automatiquement par le tokenizer.\n",
        "\n",
        "Cela confirme le bon fonctionnement du *tokenizer* et illustre le format attendu des entrées pour le modèle."
      ]
    },
    {
      "cell_type": "markdown",
      "id": "9b4c242b",
      "metadata": {
        "id": "9b4c242b"
      },
      "source": [
        "## Prétraitement des données\n",
        "\n",
        "Dans cette étape, les données brutes (texte des critiques et labels de sentiment) sont transformées en un format exploitable par le modèle.\n",
        "\n",
        "Etant donné que le *padding* n’a pas été effectué dans la fonction de prétraitement, il est réalisé ici.\n",
        "\n",
        "Ainsi, le code ci-dessous permet de :\n",
        "\n",
        "1. Récupérer les `input_ids` (qui, pour l’instant, ont des longueurs différentes).\n",
        "2. Appliquer un **padding dynamique** afin que toutes les séquences aient la même longueur que la plus longue du batch (méthode efficace, qui évite un sur-padding inutile).\n",
        "3. Ajouter automatiquement un **masque d’attention** (`1` pour les vrais tokens, `0` pour le padding).\n",
        "4. Convertir le tout en **tenseurs PyTorch** (`torch.LongTensor`), directement exploitables par le modèle.\n",
        "\n",
        "Le *collator* se charge donc de :\n",
        "\n",
        "* réaliser le **padding dynamique** du batch,\n",
        "* ajouter le **masque d’attention** (`0` et `1`),\n",
        "* retourner les tenseurs dans le format attendu par le modèle.\n"
      ]
    },
    {
      "cell_type": "code",
      "execution_count": 86,
      "id": "1ecdcf1c",
      "metadata": {
        "colab": {
          "base_uri": "https://localhost:8080/",
          "height": 49,
          "referenced_widgets": [
            "f4cabfe0b2f646dd98b4096de6e5b8a4",
            "a4c1ff44420f407483efd2f6bee8c8a8",
            "c05528d4ae8946fea9e817efe2d05a00",
            "6e6b18b60ede49af827c8bb764d44dec",
            "98db02a9ebf24d2ba2f963a4777d3f47",
            "4fe35d95f51949709391dbf21fe3e8fc",
            "57d06cb6c6a14f08b5df75bb14c2e8f2",
            "666376eacec54ca7b49916ea2f3010c5",
            "ff14997ba42143d1aa8ecb8d1a7ec664",
            "d8956bb886454313b59000b9481fb7b1",
            "a150a0ec2919470faba02341df5b3f42"
          ]
        },
        "id": "1ecdcf1c",
        "outputId": "2d15e75c-3082-4312-9873-aa6cb9264fb1"
      },
      "outputs": [
        {
          "output_type": "display_data",
          "data": {
            "text/plain": [
              "Map:   0%|          | 0/2000 [00:00<?, ? examples/s]"
            ],
            "application/vnd.jupyter.widget-view+json": {
              "version_major": 2,
              "version_minor": 0,
              "model_id": "f4cabfe0b2f646dd98b4096de6e5b8a4"
            }
          },
          "metadata": {}
        }
      ],
      "source": [
        "LLM_DistilBERT.split_dataset()"
      ]
    },
    {
      "cell_type": "code",
      "execution_count": 87,
      "id": "90ee8380",
      "metadata": {
        "id": "90ee8380"
      },
      "outputs": [],
      "source": [
        "LLM_DistilBERT.set_data_collator()"
      ]
    },
    {
      "cell_type": "code",
      "execution_count": 88,
      "id": "5a0fe1cd",
      "metadata": {
        "id": "5a0fe1cd"
      },
      "outputs": [],
      "source": [
        "LLM_DistilBERT.set_loaders()"
      ]
    },
    {
      "cell_type": "markdown",
      "id": "f1d0d0b7",
      "metadata": {
        "id": "f1d0d0b7"
      },
      "source": [
        "## Bilan du prétraitement\n",
        "\n",
        "### Étapes déjà réalisées\n",
        "\n",
        "| Étape                  | Statut | Code principal                                                      | Objectif                                                  |\n",
        "| ---------------------- | ------ | ------------------------------------------------------------------- | --------------------------------------------------------- |\n",
        "| Dataset chargé         | ✅      | `dataset = load_dataset(...)`                                       | Charger les critiques + labels de sentiment               |\n",
        "| Mélange (shuffle)      | ✅      | `dataset = dataset.shuffle()`                                       | Éviter les biais liés à l’ordre                           |\n",
        "| Sous-échantillonnage   | ✅      | `dataset.select(range(n_samples))`                                  | Travailler sur 2 000 exemples                             |\n",
        "| Tokenisation           | ✅      | `dataset.map(preprocessing_fn, fn_kwargs={\"tokenizer\": tokenizer})` | Texte → tokens, labels → numériques                       |\n",
        "| Nettoyage des colonnes | ✅      | `select_columns([\"input_ids\", \"labels\"])`                           | Garder uniquement les champs utiles                       |\n",
        "| Split train/valid      | ✅      | `train_test_split(test_size=0.2)`                                   | Créer ensembles d’entraînement et validation              |\n",
        "| Data collator          | ✅      | `DataCollator(tokenizer)`                                           | Padding dynamique + masque d’attention + tenseurs PyTorch |\n",
        "| DataLoaders            | ✅      | `DataLoader(train_set, ..., collate_fn=data_collator)`              | Préparer mini-batchs pour le modèle                       |\n",
        "\n",
        "### Étapes à venir\n",
        "\n",
        "| Étape                                    | Action attendue                                                                                                    |\n",
        "| ---------------------------------------- | ------------------------------------------------------------------------------------------------------------------ |\n",
        "| **Dispositif & reproductibilité**        | Sélectionner GPU si dispo, fixer les graines (`random`, `numpy`, `torch`).                                         |\n",
        "| **Chargement du modèle**                 | `DistilBertForSequenceClassification.from_pretrained(\"distilbert-base-uncased\", num_labels=2)` puis `.to(device)`. |\n",
        "| **Optimiseur**                           | Définir `AdamW` (LR typique : `2e-5` à `5e-5`, weight decay : `0.01`).                                             |\n",
        "| **Scheduler** (optionnel mais conseillé) | Planifier warmup + décroissance avec `get_linear_schedule_with_warmup`.                                            |\n",
        "| **Boucle d’entraînement**                | Forward pass → calcul loss → backward pass → clipping gradients → step optimizer + scheduler.                      |\n",
        "| **Boucle de validation**                 | `model.eval()`, calcul des métriques (loss, accuracy, F1).                                                         |\n",
        "| **Suivi des métriques**                  | Afficher pertes + accuracy (ajouter F1 si classes déséquilibrées).                                                 |\n",
        "| **Logging / suivi**                      | Affichage par epoch, barre de progression (`tqdm`).                                                                |\n",
        "| **Checkpointing**                        | Sauvegarder le meilleur modèle + tokenizer : `save_pretrained(\"./distilbert-best\")`.                               |\n",
        "| **Sanity checks**                        | Vérifier `[CLS]` (id=101), `[SEP]` (id=102), masque d’attention, inspection d’un batch.                            |                                              |"
      ]
    },
    {
      "cell_type": "markdown",
      "id": "4f637d98",
      "metadata": {
        "id": "4f637d98"
      },
      "source": [
        "## Chargement du modèle\n",
        "\n",
        "À ce stade, il est nécessaire de charger le modèle de base et de l’adapter à la tâche de classification :\n",
        "\n",
        "* **DistilBERT pré-entraîné** est utilisé comme modèle de départ (pré-entraînement sur le *Masked Language Modeling*).\n",
        "* Une **tête de classification** (couche linéaire) est ajoutée au-dessus de la représentation du token `[CLS]`.\n",
        "* Le paramètre `num_labels=2` est fixé pour correspondre à une tâche de **classification binaire** (*positive* / *negative*).\n",
        "* Le modèle est déplacé sur le **dispositif de calcul** défini précédemment (`cuda` si disponible, sinon `cpu`). Il est important que le modèle et les données soient sur le **même device** pour interagir correctement."
      ]
    },
    {
      "cell_type": "code",
      "execution_count": 89,
      "id": "b2fc7e3e",
      "metadata": {
        "colab": {
          "base_uri": "https://localhost:8080/"
        },
        "id": "b2fc7e3e",
        "outputId": "7a38cc7d-8c24-4e57-ccf3-8bac7add223b"
      },
      "outputs": [
        {
          "output_type": "stream",
          "name": "stderr",
          "text": [
            "Some weights of DistilBertForSequenceClassification were not initialized from the model checkpoint at distilbert-base-uncased and are newly initialized: ['classifier.bias', 'classifier.weight', 'pre_classifier.bias', 'pre_classifier.weight']\n",
            "You should probably TRAIN this model on a down-stream task to be able to use it for predictions and inference.\n"
          ]
        },
        {
          "output_type": "stream",
          "name": "stdout",
          "text": [
            "Model DistilBertForSequenceClassification loaded with 2 labels.\n"
          ]
        }
      ],
      "source": [
        "LLM_DistilBERT.set_model(verbose=True)"
      ]
    },
    {
      "cell_type": "markdown",
      "id": "5d34ed54",
      "metadata": {
        "id": "5d34ed54"
      },
      "source": [
        "* **DistilBERT** est pré-entraîné sur la tâche de *Masked Language Modeling* (prédiction de mots masqués).\n",
        "* La classe `DistilBertForSequenceClassification` ajoute une **tête de classification** (couche linéaire) initialisée aléatoirement.\n",
        "* L’encodeur (le cœur de DistilBERT) charge des poids pré-entraînés, mais la tête doit être **apprise à partir de notre dataset de sentiments**.\n",
        "* Pendant le fine-tuning, la sortie du token spécial `[CLS]` est utilisée comme **représentation globale de la séquence**, à partir de laquelle la tête apprend à prédire *positive* ou *negative*.\n",
        "\n",
        "Le étapes suivantes du *workflow* sont les suivantes :\n",
        "\n",
        "1. **Fine-tuning** du modèle sur le dataset IMDb réduit (2 000 exemples).\n",
        "2. **Utilisation en inférence** pour prédire le sentiment de nouvelles phrases."
      ]
    },
    {
      "cell_type": "markdown",
      "id": "f82a881d",
      "metadata": {
        "id": "f82a881d"
      },
      "source": [
        "## Optimiseur et Scheduler\n",
        "\n",
        "### Rappel sur l’optimiseur\n",
        "\n",
        "L’optimiseur est l’algorithme qui met à jour les poids du modèle au cours de l’entraînement, en fonction de la **perte calculée**.\n",
        "Dans notre cas, nous utilisons **AdamW**, une variante de l’optimiseur Adam qui :\n",
        "\n",
        "* apprend des taux d’apprentissage différents pour chaque poids,\n",
        "* applique une **pénalisation (weight decay)** afin de limiter le surapprentissage en empêchant les poids de croître excessivement.\n",
        "\n",
        "### Rappel sur le *scheduler*\n",
        "\n",
        "Le *learning rate* (taux d’apprentissage) détermine l’**amplitude des pas** effectués par l’optimiseur à chaque mise à jour des poids.\n",
        "Le *scheduler* permet de **faire évoluer dynamiquement le learning rate** au cours de l’entraînement.\n",
        "\n",
        "De manière plus intuitive :\n",
        "\n",
        "* l'optimiseur détermine la manière dont les poids sont ajustés en fonction de la perte,\n",
        "* le *scheduler* contrôle l’ampleur des pas d’apprentissage au fil des itérations."
      ]
    },
    {
      "cell_type": "code",
      "execution_count": 90,
      "id": "f2b23e08",
      "metadata": {
        "colab": {
          "base_uri": "https://localhost:8080/"
        },
        "id": "f2b23e08",
        "outputId": "a7e95294-390b-4fa5-b172-bd4dbf02d197"
      },
      "outputs": [
        {
          "output_type": "stream",
          "name": "stdout",
          "text": [
            "Optimizer and scheduler set with 1200 training steps and 120 warmup steps.\n"
          ]
        }
      ],
      "source": [
        "LLM_DistilBERT.set_optimizer_and_scheduler(verbose=True)"
      ]
    },
    {
      "cell_type": "markdown",
      "id": "a0504a13",
      "metadata": {
        "id": "a0504a13"
      },
      "source": [
        "### Configuration de l’optimiseur et du *scheduler* – Résultats\n",
        "\n",
        "L’optimiseur et le *scheduler* ont été correctement initialisés :\n",
        "\n",
        "* Nombre total d’étapes d’entraînement : **1200**\n",
        "* Nombre d’étapes de *warmup* (taux d’apprentissage qui augmente progressivement) : **120**"
      ]
    },
    {
      "cell_type": "markdown",
      "id": "0ef6ced6",
      "metadata": {
        "id": "0ef6ced6"
      },
      "source": [
        "## Entraînement et Validation\n",
        "\n",
        "### Forward pass\n",
        "\n",
        "* Entrée : un batch de critiques, représentées par leurs `input_ids` et `attention_mask`.\n",
        "* Le modèle :\n",
        "\n",
        "  * associe chaque token à son embedding,\n",
        "  * passe les séquences dans l'encodeur DistilBERT (empilement de couches Transformers),\n",
        "  * récupère l'état caché du token spécial `[CLS]` comme **représentation globale de la phrase**,\n",
        "  * applique la tête de classification (couche linéaire) sur cette représentation,\n",
        "  * produit en sortie des **logits** : scores bruts et non normalisés pour chaque classe (*positive* / *negative*).\n",
        "\n",
        "$$\n",
        "\\text{logits} = W \\cdot h_{\\text{[CLS]}} + b\n",
        "$$\n",
        "\n",
        "### Calcul de la loss\n",
        "\n",
        "Comparaison des *logits* aux *labels* réels (0 ou 1) via la **fonction de perte d’entropie croisée** :\n",
        "\n",
        "$$\n",
        "L = - \\Big( y \\cdot \\log(\\hat{y}) + (1-y) \\cdot \\log(1-\\hat{y}) \\Big)\n",
        "$$\n",
        "\n",
        "où\n",
        "\n",
        "$$\n",
        "\\hat{y}_i = \\frac{e^{\\text{logits}_i}}{\\sum_j e^{\\text{logits}_j}}\n",
        "$$\n",
        "\n",
        "### Backward pass\n",
        "\n",
        "PyTorch calcule automatiquement les gradients de la perte par rapport à chaque paramètre du modèle.\n",
        "\n",
        "* Le gradient indique comment ajuster un poids pour réduire la perte.\n",
        "* Exemple : si le gradient est positif, le poids doit être diminué ; s’il est négatif, il doit être augmenté.\n",
        "\n",
        "### Gradient clipping\n",
        "\n",
        "Afin d’éviter des gradients trop grands (qui peuvent déstabiliser l’entraînement), application d'un **clipping** :\n",
        "\n",
        "$$\n",
        "g = \\min(g, \\text{valeur}_{\\text{seuil}})\n",
        "$$\n",
        "\n",
        "### Optimiseur\n",
        "\n",
        "L’optimiseur applique ensuite les mises à jour des poids en suivant la règle :\n",
        "\n",
        "$$\n",
        "w \\leftarrow w - \\eta \\cdot \\nabla_w L\n",
        "$$\n",
        "\n",
        "où $\\eta$ est le **learning rate**.\n",
        "Ici, nous utilisons **AdamW**, qui ajoute un *weight decay* pour régulariser les poids.\n",
        "\n",
        "### Scheduler\n",
        "\n",
        "Le scheduler permet de **moduler le learning rate** au cours du temps :\n",
        "\n",
        "* augmentation progressive au début (*warmup*),\n",
        "* décroissance ensuite,\n",
        "  plutôt qu'un taux d'apprentissage fixe.\n",
        "\n",
        "### Validation\n",
        "\n",
        "Après chaque *epoch* :\n",
        "\n",
        "* désactivation du calcul de gradient (`model.eval()` + `torch.no_grad()`),\n",
        "* passage des données de validation dans le modèle,\n",
        "* calcul de la loss et des métriques (accuracy, F1-score).\n",
        "\n",
        "Cette étape vérifie si le modèle apprend des **règles générales** plutôt que de mémoriser les données d'entraînement.\n",
        "\n",
        "### Checkpoint\n",
        "\n",
        "Sauvegarde des poids du modèle lorsque la perte de validation s'améliore.\n",
        "Cela garantit de conserver la **meilleure version** obtenue durant l'entraînement."
      ]
    },
    {
      "cell_type": "code",
      "execution_count": 91,
      "id": "9de860ce",
      "metadata": {
        "colab": {
          "base_uri": "https://localhost:8080/",
          "height": 657
        },
        "id": "9de860ce",
        "outputId": "b36da475-fe69-4ddb-af1b-c74abbe12a30"
      },
      "outputs": [
        {
          "output_type": "stream",
          "name": "stdout",
          "text": [
            "\n",
            "Epoch 1/3\n",
            "  Training loss: 0.5675\n",
            "  Validation loss: 0.8055 | Accuracy: 0.8025\n",
            "Saved new best model to ./distilbert-best\n",
            "\n",
            "Epoch 2/3\n",
            "  Training loss: 0.3583\n",
            "  Validation loss: 0.7436 | Accuracy: 0.8100\n",
            "Saved new best model to ./distilbert-best\n",
            "\n",
            "Epoch 3/3\n",
            "  Training loss: 0.1593\n",
            "  Validation loss: 0.6323 | Accuracy: 0.8675\n",
            "Saved new best model to ./distilbert-best\n"
          ]
        },
        {
          "output_type": "display_data",
          "data": {
            "text/plain": [
              "<Figure size 1200x400 with 2 Axes>"
            ],
            "image/svg+xml": "<?xml version=\"1.0\" encoding=\"utf-8\" standalone=\"no\"?>\n<!DOCTYPE svg PUBLIC \"-//W3C//DTD SVG 1.1//EN\"\n  \"http://www.w3.org/Graphics/SVG/1.1/DTD/svg11.dtd\">\n<svg xmlns:xlink=\"http://www.w3.org/1999/xlink\" width=\"720.58125pt\" height=\"281.634375pt\" viewBox=\"0 0 720.58125 281.634375\" xmlns=\"http://www.w3.org/2000/svg\" version=\"1.1\">\n <metadata>\n  <rdf:RDF xmlns:dc=\"http://purl.org/dc/elements/1.1/\" xmlns:cc=\"http://creativecommons.org/ns#\" xmlns:rdf=\"http://www.w3.org/1999/02/22-rdf-syntax-ns#\">\n   <cc:Work>\n    <dc:type rdf:resource=\"http://purl.org/dc/dcmitype/StillImage\"/>\n    <dc:date>2025-09-14T13:11:23.324004</dc:date>\n    <dc:format>image/svg+xml</dc:format>\n    <dc:creator>\n     <cc:Agent>\n      <dc:title>Matplotlib v3.10.0, https://matplotlib.org/</dc:title>\n     </cc:Agent>\n    </dc:creator>\n   </cc:Work>\n  </rdf:RDF>\n </metadata>\n <defs>\n  <style type=\"text/css\">*{stroke-linejoin: round; stroke-linecap: butt}</style>\n </defs>\n <g id=\"figure_1\">\n  <g id=\"patch_1\">\n   <path d=\"M 0 281.634375 \nL 720.58125 281.634375 \nL 720.58125 0 \nL 0 0 \nz\n\" style=\"fill: #ffffff\"/>\n  </g>\n  <g id=\"axes_1\">\n   <g id=\"patch_2\">\n    <path d=\"M 43.78125 244.078125 \nL 348.144886 244.078125 \nL 348.144886 22.318125 \nL 43.78125 22.318125 \nz\n\" style=\"fill: #ffffff\"/>\n   </g>\n   <g id=\"matplotlib.axis_1\">\n    <g id=\"xtick_1\">\n     <g id=\"line2d_1\">\n      <path d=\"M 57.615961 244.078125 \nL 57.615961 22.318125 \n\" clip-path=\"url(#p42fd1bd6ab)\" style=\"fill: none; stroke: #b0b0b0; stroke-width: 0.8; stroke-linecap: square\"/>\n     </g>\n     <g id=\"line2d_2\">\n      <defs>\n       <path id=\"mc5bb442598\" d=\"M 0 0 \nL 0 3.5 \n\" style=\"stroke: #000000; stroke-width: 0.8\"/>\n      </defs>\n      <g>\n       <use xlink:href=\"#mc5bb442598\" x=\"57.615961\" y=\"244.078125\" style=\"stroke: #000000; stroke-width: 0.8\"/>\n      </g>\n     </g>\n     <g id=\"text_1\">\n      <!-- 1.00 -->\n      <g transform=\"translate(46.483148 258.676562) scale(0.1 -0.1)\">\n       <defs>\n        <path id=\"DejaVuSans-31\" d=\"M 794 531 \nL 1825 531 \nL 1825 4091 \nL 703 3866 \nL 703 4441 \nL 1819 4666 \nL 2450 4666 \nL 2450 531 \nL 3481 531 \nL 3481 0 \nL 794 0 \nL 794 531 \nz\n\" transform=\"scale(0.015625)\"/>\n        <path id=\"DejaVuSans-2e\" d=\"M 684 794 \nL 1344 794 \nL 1344 0 \nL 684 0 \nL 684 794 \nz\n\" transform=\"scale(0.015625)\"/>\n        <path id=\"DejaVuSans-30\" d=\"M 2034 4250 \nQ 1547 4250 1301 3770 \nQ 1056 3291 1056 2328 \nQ 1056 1369 1301 889 \nQ 1547 409 2034 409 \nQ 2525 409 2770 889 \nQ 3016 1369 3016 2328 \nQ 3016 3291 2770 3770 \nQ 2525 4250 2034 4250 \nz\nM 2034 4750 \nQ 2819 4750 3233 4129 \nQ 3647 3509 3647 2328 \nQ 3647 1150 3233 529 \nQ 2819 -91 2034 -91 \nQ 1250 -91 836 529 \nQ 422 1150 422 2328 \nQ 422 3509 836 4129 \nQ 1250 4750 2034 4750 \nz\n\" transform=\"scale(0.015625)\"/>\n       </defs>\n       <use xlink:href=\"#DejaVuSans-31\"/>\n       <use xlink:href=\"#DejaVuSans-2e\" transform=\"translate(63.623047 0)\"/>\n       <use xlink:href=\"#DejaVuSans-30\" transform=\"translate(95.410156 0)\"/>\n       <use xlink:href=\"#DejaVuSans-30\" transform=\"translate(159.033203 0)\"/>\n      </g>\n     </g>\n    </g>\n    <g id=\"xtick_2\">\n     <g id=\"line2d_3\">\n      <path d=\"M 92.202738 244.078125 \nL 92.202738 22.318125 \n\" clip-path=\"url(#p42fd1bd6ab)\" style=\"fill: none; stroke: #b0b0b0; stroke-width: 0.8; stroke-linecap: square\"/>\n     </g>\n     <g id=\"line2d_4\">\n      <g>\n       <use xlink:href=\"#mc5bb442598\" x=\"92.202738\" y=\"244.078125\" style=\"stroke: #000000; stroke-width: 0.8\"/>\n      </g>\n     </g>\n     <g id=\"text_2\">\n      <!-- 1.25 -->\n      <g transform=\"translate(81.069925 258.676562) scale(0.1 -0.1)\">\n       <defs>\n        <path id=\"DejaVuSans-32\" d=\"M 1228 531 \nL 3431 531 \nL 3431 0 \nL 469 0 \nL 469 531 \nQ 828 903 1448 1529 \nQ 2069 2156 2228 2338 \nQ 2531 2678 2651 2914 \nQ 2772 3150 2772 3378 \nQ 2772 3750 2511 3984 \nQ 2250 4219 1831 4219 \nQ 1534 4219 1204 4116 \nQ 875 4013 500 3803 \nL 500 4441 \nQ 881 4594 1212 4672 \nQ 1544 4750 1819 4750 \nQ 2544 4750 2975 4387 \nQ 3406 4025 3406 3419 \nQ 3406 3131 3298 2873 \nQ 3191 2616 2906 2266 \nQ 2828 2175 2409 1742 \nQ 1991 1309 1228 531 \nz\n\" transform=\"scale(0.015625)\"/>\n        <path id=\"DejaVuSans-35\" d=\"M 691 4666 \nL 3169 4666 \nL 3169 4134 \nL 1269 4134 \nL 1269 2991 \nQ 1406 3038 1543 3061 \nQ 1681 3084 1819 3084 \nQ 2600 3084 3056 2656 \nQ 3513 2228 3513 1497 \nQ 3513 744 3044 326 \nQ 2575 -91 1722 -91 \nQ 1428 -91 1123 -41 \nQ 819 9 494 109 \nL 494 744 \nQ 775 591 1075 516 \nQ 1375 441 1709 441 \nQ 2250 441 2565 725 \nQ 2881 1009 2881 1497 \nQ 2881 1984 2565 2268 \nQ 2250 2553 1709 2553 \nQ 1456 2553 1204 2497 \nQ 953 2441 691 2322 \nL 691 4666 \nz\n\" transform=\"scale(0.015625)\"/>\n       </defs>\n       <use xlink:href=\"#DejaVuSans-31\"/>\n       <use xlink:href=\"#DejaVuSans-2e\" transform=\"translate(63.623047 0)\"/>\n       <use xlink:href=\"#DejaVuSans-32\" transform=\"translate(95.410156 0)\"/>\n       <use xlink:href=\"#DejaVuSans-35\" transform=\"translate(159.033203 0)\"/>\n      </g>\n     </g>\n    </g>\n    <g id=\"xtick_3\">\n     <g id=\"line2d_5\">\n      <path d=\"M 126.789514 244.078125 \nL 126.789514 22.318125 \n\" clip-path=\"url(#p42fd1bd6ab)\" style=\"fill: none; stroke: #b0b0b0; stroke-width: 0.8; stroke-linecap: square\"/>\n     </g>\n     <g id=\"line2d_6\">\n      <g>\n       <use xlink:href=\"#mc5bb442598\" x=\"126.789514\" y=\"244.078125\" style=\"stroke: #000000; stroke-width: 0.8\"/>\n      </g>\n     </g>\n     <g id=\"text_3\">\n      <!-- 1.50 -->\n      <g transform=\"translate(115.656702 258.676562) scale(0.1 -0.1)\">\n       <use xlink:href=\"#DejaVuSans-31\"/>\n       <use xlink:href=\"#DejaVuSans-2e\" transform=\"translate(63.623047 0)\"/>\n       <use xlink:href=\"#DejaVuSans-35\" transform=\"translate(95.410156 0)\"/>\n       <use xlink:href=\"#DejaVuSans-30\" transform=\"translate(159.033203 0)\"/>\n      </g>\n     </g>\n    </g>\n    <g id=\"xtick_4\">\n     <g id=\"line2d_7\">\n      <path d=\"M 161.376291 244.078125 \nL 161.376291 22.318125 \n\" clip-path=\"url(#p42fd1bd6ab)\" style=\"fill: none; stroke: #b0b0b0; stroke-width: 0.8; stroke-linecap: square\"/>\n     </g>\n     <g id=\"line2d_8\">\n      <g>\n       <use xlink:href=\"#mc5bb442598\" x=\"161.376291\" y=\"244.078125\" style=\"stroke: #000000; stroke-width: 0.8\"/>\n      </g>\n     </g>\n     <g id=\"text_4\">\n      <!-- 1.75 -->\n      <g transform=\"translate(150.243479 258.676562) scale(0.1 -0.1)\">\n       <defs>\n        <path id=\"DejaVuSans-37\" d=\"M 525 4666 \nL 3525 4666 \nL 3525 4397 \nL 1831 0 \nL 1172 0 \nL 2766 4134 \nL 525 4134 \nL 525 4666 \nz\n\" transform=\"scale(0.015625)\"/>\n       </defs>\n       <use xlink:href=\"#DejaVuSans-31\"/>\n       <use xlink:href=\"#DejaVuSans-2e\" transform=\"translate(63.623047 0)\"/>\n       <use xlink:href=\"#DejaVuSans-37\" transform=\"translate(95.410156 0)\"/>\n       <use xlink:href=\"#DejaVuSans-35\" transform=\"translate(159.033203 0)\"/>\n      </g>\n     </g>\n    </g>\n    <g id=\"xtick_5\">\n     <g id=\"line2d_9\">\n      <path d=\"M 195.963068 244.078125 \nL 195.963068 22.318125 \n\" clip-path=\"url(#p42fd1bd6ab)\" style=\"fill: none; stroke: #b0b0b0; stroke-width: 0.8; stroke-linecap: square\"/>\n     </g>\n     <g id=\"line2d_10\">\n      <g>\n       <use xlink:href=\"#mc5bb442598\" x=\"195.963068\" y=\"244.078125\" style=\"stroke: #000000; stroke-width: 0.8\"/>\n      </g>\n     </g>\n     <g id=\"text_5\">\n      <!-- 2.00 -->\n      <g transform=\"translate(184.830256 258.676562) scale(0.1 -0.1)\">\n       <use xlink:href=\"#DejaVuSans-32\"/>\n       <use xlink:href=\"#DejaVuSans-2e\" transform=\"translate(63.623047 0)\"/>\n       <use xlink:href=\"#DejaVuSans-30\" transform=\"translate(95.410156 0)\"/>\n       <use xlink:href=\"#DejaVuSans-30\" transform=\"translate(159.033203 0)\"/>\n      </g>\n     </g>\n    </g>\n    <g id=\"xtick_6\">\n     <g id=\"line2d_11\">\n      <path d=\"M 230.549845 244.078125 \nL 230.549845 22.318125 \n\" clip-path=\"url(#p42fd1bd6ab)\" style=\"fill: none; stroke: #b0b0b0; stroke-width: 0.8; stroke-linecap: square\"/>\n     </g>\n     <g id=\"line2d_12\">\n      <g>\n       <use xlink:href=\"#mc5bb442598\" x=\"230.549845\" y=\"244.078125\" style=\"stroke: #000000; stroke-width: 0.8\"/>\n      </g>\n     </g>\n     <g id=\"text_6\">\n      <!-- 2.25 -->\n      <g transform=\"translate(219.417033 258.676562) scale(0.1 -0.1)\">\n       <use xlink:href=\"#DejaVuSans-32\"/>\n       <use xlink:href=\"#DejaVuSans-2e\" transform=\"translate(63.623047 0)\"/>\n       <use xlink:href=\"#DejaVuSans-32\" transform=\"translate(95.410156 0)\"/>\n       <use xlink:href=\"#DejaVuSans-35\" transform=\"translate(159.033203 0)\"/>\n      </g>\n     </g>\n    </g>\n    <g id=\"xtick_7\">\n     <g id=\"line2d_13\">\n      <path d=\"M 265.136622 244.078125 \nL 265.136622 22.318125 \n\" clip-path=\"url(#p42fd1bd6ab)\" style=\"fill: none; stroke: #b0b0b0; stroke-width: 0.8; stroke-linecap: square\"/>\n     </g>\n     <g id=\"line2d_14\">\n      <g>\n       <use xlink:href=\"#mc5bb442598\" x=\"265.136622\" y=\"244.078125\" style=\"stroke: #000000; stroke-width: 0.8\"/>\n      </g>\n     </g>\n     <g id=\"text_7\">\n      <!-- 2.50 -->\n      <g transform=\"translate(254.003809 258.676562) scale(0.1 -0.1)\">\n       <use xlink:href=\"#DejaVuSans-32\"/>\n       <use xlink:href=\"#DejaVuSans-2e\" transform=\"translate(63.623047 0)\"/>\n       <use xlink:href=\"#DejaVuSans-35\" transform=\"translate(95.410156 0)\"/>\n       <use xlink:href=\"#DejaVuSans-30\" transform=\"translate(159.033203 0)\"/>\n      </g>\n     </g>\n    </g>\n    <g id=\"xtick_8\">\n     <g id=\"line2d_15\">\n      <path d=\"M 299.723399 244.078125 \nL 299.723399 22.318125 \n\" clip-path=\"url(#p42fd1bd6ab)\" style=\"fill: none; stroke: #b0b0b0; stroke-width: 0.8; stroke-linecap: square\"/>\n     </g>\n     <g id=\"line2d_16\">\n      <g>\n       <use xlink:href=\"#mc5bb442598\" x=\"299.723399\" y=\"244.078125\" style=\"stroke: #000000; stroke-width: 0.8\"/>\n      </g>\n     </g>\n     <g id=\"text_8\">\n      <!-- 2.75 -->\n      <g transform=\"translate(288.590586 258.676562) scale(0.1 -0.1)\">\n       <use xlink:href=\"#DejaVuSans-32\"/>\n       <use xlink:href=\"#DejaVuSans-2e\" transform=\"translate(63.623047 0)\"/>\n       <use xlink:href=\"#DejaVuSans-37\" transform=\"translate(95.410156 0)\"/>\n       <use xlink:href=\"#DejaVuSans-35\" transform=\"translate(159.033203 0)\"/>\n      </g>\n     </g>\n    </g>\n    <g id=\"xtick_9\">\n     <g id=\"line2d_17\">\n      <path d=\"M 334.310176 244.078125 \nL 334.310176 22.318125 \n\" clip-path=\"url(#p42fd1bd6ab)\" style=\"fill: none; stroke: #b0b0b0; stroke-width: 0.8; stroke-linecap: square\"/>\n     </g>\n     <g id=\"line2d_18\">\n      <g>\n       <use xlink:href=\"#mc5bb442598\" x=\"334.310176\" y=\"244.078125\" style=\"stroke: #000000; stroke-width: 0.8\"/>\n      </g>\n     </g>\n     <g id=\"text_9\">\n      <!-- 3.00 -->\n      <g transform=\"translate(323.177363 258.676562) scale(0.1 -0.1)\">\n       <defs>\n        <path id=\"DejaVuSans-33\" d=\"M 2597 2516 \nQ 3050 2419 3304 2112 \nQ 3559 1806 3559 1356 \nQ 3559 666 3084 287 \nQ 2609 -91 1734 -91 \nQ 1441 -91 1130 -33 \nQ 819 25 488 141 \nL 488 750 \nQ 750 597 1062 519 \nQ 1375 441 1716 441 \nQ 2309 441 2620 675 \nQ 2931 909 2931 1356 \nQ 2931 1769 2642 2001 \nQ 2353 2234 1838 2234 \nL 1294 2234 \nL 1294 2753 \nL 1863 2753 \nQ 2328 2753 2575 2939 \nQ 2822 3125 2822 3475 \nQ 2822 3834 2567 4026 \nQ 2313 4219 1838 4219 \nQ 1578 4219 1281 4162 \nQ 984 4106 628 3988 \nL 628 4550 \nQ 988 4650 1302 4700 \nQ 1616 4750 1894 4750 \nQ 2613 4750 3031 4423 \nQ 3450 4097 3450 3541 \nQ 3450 3153 3228 2886 \nQ 3006 2619 2597 2516 \nz\n\" transform=\"scale(0.015625)\"/>\n       </defs>\n       <use xlink:href=\"#DejaVuSans-33\"/>\n       <use xlink:href=\"#DejaVuSans-2e\" transform=\"translate(63.623047 0)\"/>\n       <use xlink:href=\"#DejaVuSans-30\" transform=\"translate(95.410156 0)\"/>\n       <use xlink:href=\"#DejaVuSans-30\" transform=\"translate(159.033203 0)\"/>\n      </g>\n     </g>\n    </g>\n    <g id=\"text_10\">\n     <!-- Epochs -->\n     <g transform=\"translate(178.047443 272.354687) scale(0.1 -0.1)\">\n      <defs>\n       <path id=\"DejaVuSans-45\" d=\"M 628 4666 \nL 3578 4666 \nL 3578 4134 \nL 1259 4134 \nL 1259 2753 \nL 3481 2753 \nL 3481 2222 \nL 1259 2222 \nL 1259 531 \nL 3634 531 \nL 3634 0 \nL 628 0 \nL 628 4666 \nz\n\" transform=\"scale(0.015625)\"/>\n       <path id=\"DejaVuSans-70\" d=\"M 1159 525 \nL 1159 -1331 \nL 581 -1331 \nL 581 3500 \nL 1159 3500 \nL 1159 2969 \nQ 1341 3281 1617 3432 \nQ 1894 3584 2278 3584 \nQ 2916 3584 3314 3078 \nQ 3713 2572 3713 1747 \nQ 3713 922 3314 415 \nQ 2916 -91 2278 -91 \nQ 1894 -91 1617 61 \nQ 1341 213 1159 525 \nz\nM 3116 1747 \nQ 3116 2381 2855 2742 \nQ 2594 3103 2138 3103 \nQ 1681 3103 1420 2742 \nQ 1159 2381 1159 1747 \nQ 1159 1113 1420 752 \nQ 1681 391 2138 391 \nQ 2594 391 2855 752 \nQ 3116 1113 3116 1747 \nz\n\" transform=\"scale(0.015625)\"/>\n       <path id=\"DejaVuSans-6f\" d=\"M 1959 3097 \nQ 1497 3097 1228 2736 \nQ 959 2375 959 1747 \nQ 959 1119 1226 758 \nQ 1494 397 1959 397 \nQ 2419 397 2687 759 \nQ 2956 1122 2956 1747 \nQ 2956 2369 2687 2733 \nQ 2419 3097 1959 3097 \nz\nM 1959 3584 \nQ 2709 3584 3137 3096 \nQ 3566 2609 3566 1747 \nQ 3566 888 3137 398 \nQ 2709 -91 1959 -91 \nQ 1206 -91 779 398 \nQ 353 888 353 1747 \nQ 353 2609 779 3096 \nQ 1206 3584 1959 3584 \nz\n\" transform=\"scale(0.015625)\"/>\n       <path id=\"DejaVuSans-63\" d=\"M 3122 3366 \nL 3122 2828 \nQ 2878 2963 2633 3030 \nQ 2388 3097 2138 3097 \nQ 1578 3097 1268 2742 \nQ 959 2388 959 1747 \nQ 959 1106 1268 751 \nQ 1578 397 2138 397 \nQ 2388 397 2633 464 \nQ 2878 531 3122 666 \nL 3122 134 \nQ 2881 22 2623 -34 \nQ 2366 -91 2075 -91 \nQ 1284 -91 818 406 \nQ 353 903 353 1747 \nQ 353 2603 823 3093 \nQ 1294 3584 2113 3584 \nQ 2378 3584 2631 3529 \nQ 2884 3475 3122 3366 \nz\n\" transform=\"scale(0.015625)\"/>\n       <path id=\"DejaVuSans-68\" d=\"M 3513 2113 \nL 3513 0 \nL 2938 0 \nL 2938 2094 \nQ 2938 2591 2744 2837 \nQ 2550 3084 2163 3084 \nQ 1697 3084 1428 2787 \nQ 1159 2491 1159 1978 \nL 1159 0 \nL 581 0 \nL 581 4863 \nL 1159 4863 \nL 1159 2956 \nQ 1366 3272 1645 3428 \nQ 1925 3584 2291 3584 \nQ 2894 3584 3203 3211 \nQ 3513 2838 3513 2113 \nz\n\" transform=\"scale(0.015625)\"/>\n       <path id=\"DejaVuSans-73\" d=\"M 2834 3397 \nL 2834 2853 \nQ 2591 2978 2328 3040 \nQ 2066 3103 1784 3103 \nQ 1356 3103 1142 2972 \nQ 928 2841 928 2578 \nQ 928 2378 1081 2264 \nQ 1234 2150 1697 2047 \nL 1894 2003 \nQ 2506 1872 2764 1633 \nQ 3022 1394 3022 966 \nQ 3022 478 2636 193 \nQ 2250 -91 1575 -91 \nQ 1294 -91 989 -36 \nQ 684 19 347 128 \nL 347 722 \nQ 666 556 975 473 \nQ 1284 391 1588 391 \nQ 1994 391 2212 530 \nQ 2431 669 2431 922 \nQ 2431 1156 2273 1281 \nQ 2116 1406 1581 1522 \nL 1381 1569 \nQ 847 1681 609 1914 \nQ 372 2147 372 2553 \nQ 372 3047 722 3315 \nQ 1072 3584 1716 3584 \nQ 2034 3584 2315 3537 \nQ 2597 3491 2834 3397 \nz\n\" transform=\"scale(0.015625)\"/>\n      </defs>\n      <use xlink:href=\"#DejaVuSans-45\"/>\n      <use xlink:href=\"#DejaVuSans-70\" transform=\"translate(63.183594 0)\"/>\n      <use xlink:href=\"#DejaVuSans-6f\" transform=\"translate(126.660156 0)\"/>\n      <use xlink:href=\"#DejaVuSans-63\" transform=\"translate(187.841797 0)\"/>\n      <use xlink:href=\"#DejaVuSans-68\" transform=\"translate(242.822266 0)\"/>\n      <use xlink:href=\"#DejaVuSans-73\" transform=\"translate(306.201172 0)\"/>\n     </g>\n    </g>\n   </g>\n   <g id=\"matplotlib.axis_2\">\n    <g id=\"ytick_1\">\n     <g id=\"line2d_19\">\n      <path d=\"M 43.78125 221.311713 \nL 348.144886 221.311713 \n\" clip-path=\"url(#p42fd1bd6ab)\" style=\"fill: none; stroke: #b0b0b0; stroke-width: 0.8; stroke-linecap: square\"/>\n     </g>\n     <g id=\"line2d_20\">\n      <defs>\n       <path id=\"m9802a889da\" d=\"M 0 0 \nL -3.5 0 \n\" style=\"stroke: #000000; stroke-width: 0.8\"/>\n      </defs>\n      <g>\n       <use xlink:href=\"#m9802a889da\" x=\"43.78125\" y=\"221.311713\" style=\"stroke: #000000; stroke-width: 0.8\"/>\n      </g>\n     </g>\n     <g id=\"text_11\">\n      <!-- 0.2 -->\n      <g transform=\"translate(20.878125 225.110932) scale(0.1 -0.1)\">\n       <use xlink:href=\"#DejaVuSans-30\"/>\n       <use xlink:href=\"#DejaVuSans-2e\" transform=\"translate(63.623047 0)\"/>\n       <use xlink:href=\"#DejaVuSans-32\" transform=\"translate(95.410156 0)\"/>\n      </g>\n     </g>\n    </g>\n    <g id=\"ytick_2\">\n     <g id=\"line2d_21\">\n      <path d=\"M 43.78125 190.1129 \nL 348.144886 190.1129 \n\" clip-path=\"url(#p42fd1bd6ab)\" style=\"fill: none; stroke: #b0b0b0; stroke-width: 0.8; stroke-linecap: square\"/>\n     </g>\n     <g id=\"line2d_22\">\n      <g>\n       <use xlink:href=\"#m9802a889da\" x=\"43.78125\" y=\"190.1129\" style=\"stroke: #000000; stroke-width: 0.8\"/>\n      </g>\n     </g>\n     <g id=\"text_12\">\n      <!-- 0.3 -->\n      <g transform=\"translate(20.878125 193.912119) scale(0.1 -0.1)\">\n       <use xlink:href=\"#DejaVuSans-30\"/>\n       <use xlink:href=\"#DejaVuSans-2e\" transform=\"translate(63.623047 0)\"/>\n       <use xlink:href=\"#DejaVuSans-33\" transform=\"translate(95.410156 0)\"/>\n      </g>\n     </g>\n    </g>\n    <g id=\"ytick_3\">\n     <g id=\"line2d_23\">\n      <path d=\"M 43.78125 158.914087 \nL 348.144886 158.914087 \n\" clip-path=\"url(#p42fd1bd6ab)\" style=\"fill: none; stroke: #b0b0b0; stroke-width: 0.8; stroke-linecap: square\"/>\n     </g>\n     <g id=\"line2d_24\">\n      <g>\n       <use xlink:href=\"#m9802a889da\" x=\"43.78125\" y=\"158.914087\" style=\"stroke: #000000; stroke-width: 0.8\"/>\n      </g>\n     </g>\n     <g id=\"text_13\">\n      <!-- 0.4 -->\n      <g transform=\"translate(20.878125 162.713306) scale(0.1 -0.1)\">\n       <defs>\n        <path id=\"DejaVuSans-34\" d=\"M 2419 4116 \nL 825 1625 \nL 2419 1625 \nL 2419 4116 \nz\nM 2253 4666 \nL 3047 4666 \nL 3047 1625 \nL 3713 1625 \nL 3713 1100 \nL 3047 1100 \nL 3047 0 \nL 2419 0 \nL 2419 1100 \nL 313 1100 \nL 313 1709 \nL 2253 4666 \nz\n\" transform=\"scale(0.015625)\"/>\n       </defs>\n       <use xlink:href=\"#DejaVuSans-30\"/>\n       <use xlink:href=\"#DejaVuSans-2e\" transform=\"translate(63.623047 0)\"/>\n       <use xlink:href=\"#DejaVuSans-34\" transform=\"translate(95.410156 0)\"/>\n      </g>\n     </g>\n    </g>\n    <g id=\"ytick_4\">\n     <g id=\"line2d_25\">\n      <path d=\"M 43.78125 127.715274 \nL 348.144886 127.715274 \n\" clip-path=\"url(#p42fd1bd6ab)\" style=\"fill: none; stroke: #b0b0b0; stroke-width: 0.8; stroke-linecap: square\"/>\n     </g>\n     <g id=\"line2d_26\">\n      <g>\n       <use xlink:href=\"#m9802a889da\" x=\"43.78125\" y=\"127.715274\" style=\"stroke: #000000; stroke-width: 0.8\"/>\n      </g>\n     </g>\n     <g id=\"text_14\">\n      <!-- 0.5 -->\n      <g transform=\"translate(20.878125 131.514493) scale(0.1 -0.1)\">\n       <use xlink:href=\"#DejaVuSans-30\"/>\n       <use xlink:href=\"#DejaVuSans-2e\" transform=\"translate(63.623047 0)\"/>\n       <use xlink:href=\"#DejaVuSans-35\" transform=\"translate(95.410156 0)\"/>\n      </g>\n     </g>\n    </g>\n    <g id=\"ytick_5\">\n     <g id=\"line2d_27\">\n      <path d=\"M 43.78125 96.516461 \nL 348.144886 96.516461 \n\" clip-path=\"url(#p42fd1bd6ab)\" style=\"fill: none; stroke: #b0b0b0; stroke-width: 0.8; stroke-linecap: square\"/>\n     </g>\n     <g id=\"line2d_28\">\n      <g>\n       <use xlink:href=\"#m9802a889da\" x=\"43.78125\" y=\"96.516461\" style=\"stroke: #000000; stroke-width: 0.8\"/>\n      </g>\n     </g>\n     <g id=\"text_15\">\n      <!-- 0.6 -->\n      <g transform=\"translate(20.878125 100.31568) scale(0.1 -0.1)\">\n       <defs>\n        <path id=\"DejaVuSans-36\" d=\"M 2113 2584 \nQ 1688 2584 1439 2293 \nQ 1191 2003 1191 1497 \nQ 1191 994 1439 701 \nQ 1688 409 2113 409 \nQ 2538 409 2786 701 \nQ 3034 994 3034 1497 \nQ 3034 2003 2786 2293 \nQ 2538 2584 2113 2584 \nz\nM 3366 4563 \nL 3366 3988 \nQ 3128 4100 2886 4159 \nQ 2644 4219 2406 4219 \nQ 1781 4219 1451 3797 \nQ 1122 3375 1075 2522 \nQ 1259 2794 1537 2939 \nQ 1816 3084 2150 3084 \nQ 2853 3084 3261 2657 \nQ 3669 2231 3669 1497 \nQ 3669 778 3244 343 \nQ 2819 -91 2113 -91 \nQ 1303 -91 875 529 \nQ 447 1150 447 2328 \nQ 447 3434 972 4092 \nQ 1497 4750 2381 4750 \nQ 2619 4750 2861 4703 \nQ 3103 4656 3366 4563 \nz\n\" transform=\"scale(0.015625)\"/>\n       </defs>\n       <use xlink:href=\"#DejaVuSans-30\"/>\n       <use xlink:href=\"#DejaVuSans-2e\" transform=\"translate(63.623047 0)\"/>\n       <use xlink:href=\"#DejaVuSans-36\" transform=\"translate(95.410156 0)\"/>\n      </g>\n     </g>\n    </g>\n    <g id=\"ytick_6\">\n     <g id=\"line2d_29\">\n      <path d=\"M 43.78125 65.317648 \nL 348.144886 65.317648 \n\" clip-path=\"url(#p42fd1bd6ab)\" style=\"fill: none; stroke: #b0b0b0; stroke-width: 0.8; stroke-linecap: square\"/>\n     </g>\n     <g id=\"line2d_30\">\n      <g>\n       <use xlink:href=\"#m9802a889da\" x=\"43.78125\" y=\"65.317648\" style=\"stroke: #000000; stroke-width: 0.8\"/>\n      </g>\n     </g>\n     <g id=\"text_16\">\n      <!-- 0.7 -->\n      <g transform=\"translate(20.878125 69.116867) scale(0.1 -0.1)\">\n       <use xlink:href=\"#DejaVuSans-30\"/>\n       <use xlink:href=\"#DejaVuSans-2e\" transform=\"translate(63.623047 0)\"/>\n       <use xlink:href=\"#DejaVuSans-37\" transform=\"translate(95.410156 0)\"/>\n      </g>\n     </g>\n    </g>\n    <g id=\"ytick_7\">\n     <g id=\"line2d_31\">\n      <path d=\"M 43.78125 34.118835 \nL 348.144886 34.118835 \n\" clip-path=\"url(#p42fd1bd6ab)\" style=\"fill: none; stroke: #b0b0b0; stroke-width: 0.8; stroke-linecap: square\"/>\n     </g>\n     <g id=\"line2d_32\">\n      <g>\n       <use xlink:href=\"#m9802a889da\" x=\"43.78125\" y=\"34.118835\" style=\"stroke: #000000; stroke-width: 0.8\"/>\n      </g>\n     </g>\n     <g id=\"text_17\">\n      <!-- 0.8 -->\n      <g transform=\"translate(20.878125 37.918054) scale(0.1 -0.1)\">\n       <defs>\n        <path id=\"DejaVuSans-38\" d=\"M 2034 2216 \nQ 1584 2216 1326 1975 \nQ 1069 1734 1069 1313 \nQ 1069 891 1326 650 \nQ 1584 409 2034 409 \nQ 2484 409 2743 651 \nQ 3003 894 3003 1313 \nQ 3003 1734 2745 1975 \nQ 2488 2216 2034 2216 \nz\nM 1403 2484 \nQ 997 2584 770 2862 \nQ 544 3141 544 3541 \nQ 544 4100 942 4425 \nQ 1341 4750 2034 4750 \nQ 2731 4750 3128 4425 \nQ 3525 4100 3525 3541 \nQ 3525 3141 3298 2862 \nQ 3072 2584 2669 2484 \nQ 3125 2378 3379 2068 \nQ 3634 1759 3634 1313 \nQ 3634 634 3220 271 \nQ 2806 -91 2034 -91 \nQ 1263 -91 848 271 \nQ 434 634 434 1313 \nQ 434 1759 690 2068 \nQ 947 2378 1403 2484 \nz\nM 1172 3481 \nQ 1172 3119 1398 2916 \nQ 1625 2713 2034 2713 \nQ 2441 2713 2670 2916 \nQ 2900 3119 2900 3481 \nQ 2900 3844 2670 4047 \nQ 2441 4250 2034 4250 \nQ 1625 4250 1398 4047 \nQ 1172 3844 1172 3481 \nz\n\" transform=\"scale(0.015625)\"/>\n       </defs>\n       <use xlink:href=\"#DejaVuSans-30\"/>\n       <use xlink:href=\"#DejaVuSans-2e\" transform=\"translate(63.623047 0)\"/>\n       <use xlink:href=\"#DejaVuSans-38\" transform=\"translate(95.410156 0)\"/>\n      </g>\n     </g>\n    </g>\n    <g id=\"text_18\">\n     <!-- Loss -->\n     <g transform=\"translate(14.798438 144.165312) rotate(-90) scale(0.1 -0.1)\">\n      <defs>\n       <path id=\"DejaVuSans-4c\" d=\"M 628 4666 \nL 1259 4666 \nL 1259 531 \nL 3531 531 \nL 3531 0 \nL 628 0 \nL 628 4666 \nz\n\" transform=\"scale(0.015625)\"/>\n      </defs>\n      <use xlink:href=\"#DejaVuSans-4c\"/>\n      <use xlink:href=\"#DejaVuSans-6f\" transform=\"translate(53.962891 0)\"/>\n      <use xlink:href=\"#DejaVuSans-73\" transform=\"translate(115.144531 0)\"/>\n      <use xlink:href=\"#DejaVuSans-73\" transform=\"translate(167.244141 0)\"/>\n     </g>\n    </g>\n   </g>\n   <g id=\"line2d_33\">\n    <path d=\"M 57.615961 106.654972 \nL 195.963068 171.937656 \nL 334.310176 233.998125 \n\" clip-path=\"url(#p42fd1bd6ab)\" style=\"fill: none; stroke: #1f77b4; stroke-width: 1.5; stroke-linecap: square\"/>\n    <defs>\n     <path id=\"mb579d1b058\" d=\"M 0 3 \nC 0.795609 3 1.55874 2.683901 2.12132 2.12132 \nC 2.683901 1.55874 3 0.795609 3 0 \nC 3 -0.795609 2.683901 -1.55874 2.12132 -2.12132 \nC 1.55874 -2.683901 0.795609 -3 0 -3 \nC -0.795609 -3 -1.55874 -2.683901 -2.12132 -2.12132 \nC -2.683901 -1.55874 -3 -0.795609 -3 0 \nC -3 0.795609 -2.683901 1.55874 -2.12132 2.12132 \nC -1.55874 2.683901 -0.795609 3 0 3 \nz\n\" style=\"stroke: #1f77b4\"/>\n    </defs>\n    <g clip-path=\"url(#p42fd1bd6ab)\">\n     <use xlink:href=\"#mb579d1b058\" x=\"57.615961\" y=\"106.654972\" style=\"fill: #1f77b4; stroke: #1f77b4\"/>\n     <use xlink:href=\"#mb579d1b058\" x=\"195.963068\" y=\"171.937656\" style=\"fill: #1f77b4; stroke: #1f77b4\"/>\n     <use xlink:href=\"#mb579d1b058\" x=\"334.310176\" y=\"233.998125\" style=\"fill: #1f77b4; stroke: #1f77b4\"/>\n    </g>\n   </g>\n   <g id=\"line2d_34\">\n    <path d=\"M 57.615961 32.398125 \nL 195.963068 51.701071 \nL 334.310176 86.430584 \n\" clip-path=\"url(#p42fd1bd6ab)\" style=\"fill: none; stroke: #ff7f0e; stroke-width: 1.5; stroke-linecap: square\"/>\n    <defs>\n     <path id=\"m09c50b8b87\" d=\"M 0 3 \nC 0.795609 3 1.55874 2.683901 2.12132 2.12132 \nC 2.683901 1.55874 3 0.795609 3 0 \nC 3 -0.795609 2.683901 -1.55874 2.12132 -2.12132 \nC 1.55874 -2.683901 0.795609 -3 0 -3 \nC -0.795609 -3 -1.55874 -2.683901 -2.12132 -2.12132 \nC -2.683901 -1.55874 -3 -0.795609 -3 0 \nC -3 0.795609 -2.683901 1.55874 -2.12132 2.12132 \nC -1.55874 2.683901 -0.795609 3 0 3 \nz\n\" style=\"stroke: #ff7f0e\"/>\n    </defs>\n    <g clip-path=\"url(#p42fd1bd6ab)\">\n     <use xlink:href=\"#m09c50b8b87\" x=\"57.615961\" y=\"32.398125\" style=\"fill: #ff7f0e; stroke: #ff7f0e\"/>\n     <use xlink:href=\"#m09c50b8b87\" x=\"195.963068\" y=\"51.701071\" style=\"fill: #ff7f0e; stroke: #ff7f0e\"/>\n     <use xlink:href=\"#m09c50b8b87\" x=\"334.310176\" y=\"86.430584\" style=\"fill: #ff7f0e; stroke: #ff7f0e\"/>\n    </g>\n   </g>\n   <g id=\"patch_3\">\n    <path d=\"M 43.78125 244.078125 \nL 43.78125 22.318125 \n\" style=\"fill: none; stroke: #000000; stroke-width: 0.8; stroke-linejoin: miter; stroke-linecap: square\"/>\n   </g>\n   <g id=\"patch_4\">\n    <path d=\"M 348.144886 244.078125 \nL 348.144886 22.318125 \n\" style=\"fill: none; stroke: #000000; stroke-width: 0.8; stroke-linejoin: miter; stroke-linecap: square\"/>\n   </g>\n   <g id=\"patch_5\">\n    <path d=\"M 43.78125 244.078125 \nL 348.144886 244.078125 \n\" style=\"fill: none; stroke: #000000; stroke-width: 0.8; stroke-linejoin: miter; stroke-linecap: square\"/>\n   </g>\n   <g id=\"patch_6\">\n    <path d=\"M 43.78125 22.318125 \nL 348.144886 22.318125 \n\" style=\"fill: none; stroke: #000000; stroke-width: 0.8; stroke-linejoin: miter; stroke-linecap: square\"/>\n   </g>\n   <g id=\"text_19\">\n    <!-- Training vs Validation Loss -->\n    <g transform=\"translate(117.105256 16.318125) scale(0.12 -0.12)\">\n     <defs>\n      <path id=\"DejaVuSans-54\" d=\"M -19 4666 \nL 3928 4666 \nL 3928 4134 \nL 2272 4134 \nL 2272 0 \nL 1638 0 \nL 1638 4134 \nL -19 4134 \nL -19 4666 \nz\n\" transform=\"scale(0.015625)\"/>\n      <path id=\"DejaVuSans-72\" d=\"M 2631 2963 \nQ 2534 3019 2420 3045 \nQ 2306 3072 2169 3072 \nQ 1681 3072 1420 2755 \nQ 1159 2438 1159 1844 \nL 1159 0 \nL 581 0 \nL 581 3500 \nL 1159 3500 \nL 1159 2956 \nQ 1341 3275 1631 3429 \nQ 1922 3584 2338 3584 \nQ 2397 3584 2469 3576 \nQ 2541 3569 2628 3553 \nL 2631 2963 \nz\n\" transform=\"scale(0.015625)\"/>\n      <path id=\"DejaVuSans-61\" d=\"M 2194 1759 \nQ 1497 1759 1228 1600 \nQ 959 1441 959 1056 \nQ 959 750 1161 570 \nQ 1363 391 1709 391 \nQ 2188 391 2477 730 \nQ 2766 1069 2766 1631 \nL 2766 1759 \nL 2194 1759 \nz\nM 3341 1997 \nL 3341 0 \nL 2766 0 \nL 2766 531 \nQ 2569 213 2275 61 \nQ 1981 -91 1556 -91 \nQ 1019 -91 701 211 \nQ 384 513 384 1019 \nQ 384 1609 779 1909 \nQ 1175 2209 1959 2209 \nL 2766 2209 \nL 2766 2266 \nQ 2766 2663 2505 2880 \nQ 2244 3097 1772 3097 \nQ 1472 3097 1187 3025 \nQ 903 2953 641 2809 \nL 641 3341 \nQ 956 3463 1253 3523 \nQ 1550 3584 1831 3584 \nQ 2591 3584 2966 3190 \nQ 3341 2797 3341 1997 \nz\n\" transform=\"scale(0.015625)\"/>\n      <path id=\"DejaVuSans-69\" d=\"M 603 3500 \nL 1178 3500 \nL 1178 0 \nL 603 0 \nL 603 3500 \nz\nM 603 4863 \nL 1178 4863 \nL 1178 4134 \nL 603 4134 \nL 603 4863 \nz\n\" transform=\"scale(0.015625)\"/>\n      <path id=\"DejaVuSans-6e\" d=\"M 3513 2113 \nL 3513 0 \nL 2938 0 \nL 2938 2094 \nQ 2938 2591 2744 2837 \nQ 2550 3084 2163 3084 \nQ 1697 3084 1428 2787 \nQ 1159 2491 1159 1978 \nL 1159 0 \nL 581 0 \nL 581 3500 \nL 1159 3500 \nL 1159 2956 \nQ 1366 3272 1645 3428 \nQ 1925 3584 2291 3584 \nQ 2894 3584 3203 3211 \nQ 3513 2838 3513 2113 \nz\n\" transform=\"scale(0.015625)\"/>\n      <path id=\"DejaVuSans-67\" d=\"M 2906 1791 \nQ 2906 2416 2648 2759 \nQ 2391 3103 1925 3103 \nQ 1463 3103 1205 2759 \nQ 947 2416 947 1791 \nQ 947 1169 1205 825 \nQ 1463 481 1925 481 \nQ 2391 481 2648 825 \nQ 2906 1169 2906 1791 \nz\nM 3481 434 \nQ 3481 -459 3084 -895 \nQ 2688 -1331 1869 -1331 \nQ 1566 -1331 1297 -1286 \nQ 1028 -1241 775 -1147 \nL 775 -588 \nQ 1028 -725 1275 -790 \nQ 1522 -856 1778 -856 \nQ 2344 -856 2625 -561 \nQ 2906 -266 2906 331 \nL 2906 616 \nQ 2728 306 2450 153 \nQ 2172 0 1784 0 \nQ 1141 0 747 490 \nQ 353 981 353 1791 \nQ 353 2603 747 3093 \nQ 1141 3584 1784 3584 \nQ 2172 3584 2450 3431 \nQ 2728 3278 2906 2969 \nL 2906 3500 \nL 3481 3500 \nL 3481 434 \nz\n\" transform=\"scale(0.015625)\"/>\n      <path id=\"DejaVuSans-20\" transform=\"scale(0.015625)\"/>\n      <path id=\"DejaVuSans-76\" d=\"M 191 3500 \nL 800 3500 \nL 1894 563 \nL 2988 3500 \nL 3597 3500 \nL 2284 0 \nL 1503 0 \nL 191 3500 \nz\n\" transform=\"scale(0.015625)\"/>\n      <path id=\"DejaVuSans-56\" d=\"M 1831 0 \nL 50 4666 \nL 709 4666 \nL 2188 738 \nL 3669 4666 \nL 4325 4666 \nL 2547 0 \nL 1831 0 \nz\n\" transform=\"scale(0.015625)\"/>\n      <path id=\"DejaVuSans-6c\" d=\"M 603 4863 \nL 1178 4863 \nL 1178 0 \nL 603 0 \nL 603 4863 \nz\n\" transform=\"scale(0.015625)\"/>\n      <path id=\"DejaVuSans-64\" d=\"M 2906 2969 \nL 2906 4863 \nL 3481 4863 \nL 3481 0 \nL 2906 0 \nL 2906 525 \nQ 2725 213 2448 61 \nQ 2172 -91 1784 -91 \nQ 1150 -91 751 415 \nQ 353 922 353 1747 \nQ 353 2572 751 3078 \nQ 1150 3584 1784 3584 \nQ 2172 3584 2448 3432 \nQ 2725 3281 2906 2969 \nz\nM 947 1747 \nQ 947 1113 1208 752 \nQ 1469 391 1925 391 \nQ 2381 391 2643 752 \nQ 2906 1113 2906 1747 \nQ 2906 2381 2643 2742 \nQ 2381 3103 1925 3103 \nQ 1469 3103 1208 2742 \nQ 947 2381 947 1747 \nz\n\" transform=\"scale(0.015625)\"/>\n      <path id=\"DejaVuSans-74\" d=\"M 1172 4494 \nL 1172 3500 \nL 2356 3500 \nL 2356 3053 \nL 1172 3053 \nL 1172 1153 \nQ 1172 725 1289 603 \nQ 1406 481 1766 481 \nL 2356 481 \nL 2356 0 \nL 1766 0 \nQ 1100 0 847 248 \nQ 594 497 594 1153 \nL 594 3053 \nL 172 3053 \nL 172 3500 \nL 594 3500 \nL 594 4494 \nL 1172 4494 \nz\n\" transform=\"scale(0.015625)\"/>\n     </defs>\n     <use xlink:href=\"#DejaVuSans-54\"/>\n     <use xlink:href=\"#DejaVuSans-72\" transform=\"translate(46.333984 0)\"/>\n     <use xlink:href=\"#DejaVuSans-61\" transform=\"translate(87.447266 0)\"/>\n     <use xlink:href=\"#DejaVuSans-69\" transform=\"translate(148.726562 0)\"/>\n     <use xlink:href=\"#DejaVuSans-6e\" transform=\"translate(176.509766 0)\"/>\n     <use xlink:href=\"#DejaVuSans-69\" transform=\"translate(239.888672 0)\"/>\n     <use xlink:href=\"#DejaVuSans-6e\" transform=\"translate(267.671875 0)\"/>\n     <use xlink:href=\"#DejaVuSans-67\" transform=\"translate(331.050781 0)\"/>\n     <use xlink:href=\"#DejaVuSans-20\" transform=\"translate(394.527344 0)\"/>\n     <use xlink:href=\"#DejaVuSans-76\" transform=\"translate(426.314453 0)\"/>\n     <use xlink:href=\"#DejaVuSans-73\" transform=\"translate(485.494141 0)\"/>\n     <use xlink:href=\"#DejaVuSans-20\" transform=\"translate(537.59375 0)\"/>\n     <use xlink:href=\"#DejaVuSans-56\" transform=\"translate(569.380859 0)\"/>\n     <use xlink:href=\"#DejaVuSans-61\" transform=\"translate(630.039062 0)\"/>\n     <use xlink:href=\"#DejaVuSans-6c\" transform=\"translate(691.318359 0)\"/>\n     <use xlink:href=\"#DejaVuSans-69\" transform=\"translate(719.101562 0)\"/>\n     <use xlink:href=\"#DejaVuSans-64\" transform=\"translate(746.884766 0)\"/>\n     <use xlink:href=\"#DejaVuSans-61\" transform=\"translate(810.361328 0)\"/>\n     <use xlink:href=\"#DejaVuSans-74\" transform=\"translate(871.640625 0)\"/>\n     <use xlink:href=\"#DejaVuSans-69\" transform=\"translate(910.849609 0)\"/>\n     <use xlink:href=\"#DejaVuSans-6f\" transform=\"translate(938.632812 0)\"/>\n     <use xlink:href=\"#DejaVuSans-6e\" transform=\"translate(999.814453 0)\"/>\n     <use xlink:href=\"#DejaVuSans-20\" transform=\"translate(1063.193359 0)\"/>\n     <use xlink:href=\"#DejaVuSans-4c\" transform=\"translate(1094.980469 0)\"/>\n     <use xlink:href=\"#DejaVuSans-6f\" transform=\"translate(1148.943359 0)\"/>\n     <use xlink:href=\"#DejaVuSans-73\" transform=\"translate(1210.125 0)\"/>\n     <use xlink:href=\"#DejaVuSans-73\" transform=\"translate(1262.224609 0)\"/>\n    </g>\n   </g>\n   <g id=\"legend_1\">\n    <g id=\"patch_7\">\n     <path d=\"M 234.651136 59.674375 \nL 341.144886 59.674375 \nQ 343.144886 59.674375 343.144886 57.674375 \nL 343.144886 29.318125 \nQ 343.144886 27.318125 341.144886 27.318125 \nL 234.651136 27.318125 \nQ 232.651136 27.318125 232.651136 29.318125 \nL 232.651136 57.674375 \nQ 232.651136 59.674375 234.651136 59.674375 \nz\n\" style=\"fill: #ffffff; opacity: 0.8; stroke: #cccccc; stroke-linejoin: miter\"/>\n    </g>\n    <g id=\"line2d_35\">\n     <path d=\"M 236.651136 35.416562 \nL 246.651136 35.416562 \nL 256.651136 35.416562 \n\" style=\"fill: none; stroke: #1f77b4; stroke-width: 1.5; stroke-linecap: square\"/>\n     <g>\n      <use xlink:href=\"#mb579d1b058\" x=\"246.651136\" y=\"35.416562\" style=\"fill: #1f77b4; stroke: #1f77b4\"/>\n     </g>\n    </g>\n    <g id=\"text_20\">\n     <!-- Train Loss -->\n     <g transform=\"translate(264.651136 38.916562) scale(0.1 -0.1)\">\n      <use xlink:href=\"#DejaVuSans-54\"/>\n      <use xlink:href=\"#DejaVuSans-72\" transform=\"translate(46.333984 0)\"/>\n      <use xlink:href=\"#DejaVuSans-61\" transform=\"translate(87.447266 0)\"/>\n      <use xlink:href=\"#DejaVuSans-69\" transform=\"translate(148.726562 0)\"/>\n      <use xlink:href=\"#DejaVuSans-6e\" transform=\"translate(176.509766 0)\"/>\n      <use xlink:href=\"#DejaVuSans-20\" transform=\"translate(239.888672 0)\"/>\n      <use xlink:href=\"#DejaVuSans-4c\" transform=\"translate(271.675781 0)\"/>\n      <use xlink:href=\"#DejaVuSans-6f\" transform=\"translate(325.638672 0)\"/>\n      <use xlink:href=\"#DejaVuSans-73\" transform=\"translate(386.820312 0)\"/>\n      <use xlink:href=\"#DejaVuSans-73\" transform=\"translate(438.919922 0)\"/>\n     </g>\n    </g>\n    <g id=\"line2d_36\">\n     <path d=\"M 236.651136 50.094687 \nL 246.651136 50.094687 \nL 256.651136 50.094687 \n\" style=\"fill: none; stroke: #ff7f0e; stroke-width: 1.5; stroke-linecap: square\"/>\n     <g>\n      <use xlink:href=\"#m09c50b8b87\" x=\"246.651136\" y=\"50.094687\" style=\"fill: #ff7f0e; stroke: #ff7f0e\"/>\n     </g>\n    </g>\n    <g id=\"text_21\">\n     <!-- Validation Loss -->\n     <g transform=\"translate(264.651136 53.594687) scale(0.1 -0.1)\">\n      <use xlink:href=\"#DejaVuSans-56\"/>\n      <use xlink:href=\"#DejaVuSans-61\" transform=\"translate(60.658203 0)\"/>\n      <use xlink:href=\"#DejaVuSans-6c\" transform=\"translate(121.9375 0)\"/>\n      <use xlink:href=\"#DejaVuSans-69\" transform=\"translate(149.720703 0)\"/>\n      <use xlink:href=\"#DejaVuSans-64\" transform=\"translate(177.503906 0)\"/>\n      <use xlink:href=\"#DejaVuSans-61\" transform=\"translate(240.980469 0)\"/>\n      <use xlink:href=\"#DejaVuSans-74\" transform=\"translate(302.259766 0)\"/>\n      <use xlink:href=\"#DejaVuSans-69\" transform=\"translate(341.46875 0)\"/>\n      <use xlink:href=\"#DejaVuSans-6f\" transform=\"translate(369.251953 0)\"/>\n      <use xlink:href=\"#DejaVuSans-6e\" transform=\"translate(430.433594 0)\"/>\n      <use xlink:href=\"#DejaVuSans-20\" transform=\"translate(493.8125 0)\"/>\n      <use xlink:href=\"#DejaVuSans-4c\" transform=\"translate(525.599609 0)\"/>\n      <use xlink:href=\"#DejaVuSans-6f\" transform=\"translate(579.5625 0)\"/>\n      <use xlink:href=\"#DejaVuSans-73\" transform=\"translate(640.744141 0)\"/>\n      <use xlink:href=\"#DejaVuSans-73\" transform=\"translate(692.84375 0)\"/>\n     </g>\n    </g>\n   </g>\n  </g>\n  <g id=\"axes_2\">\n   <g id=\"patch_8\">\n    <path d=\"M 409.017614 244.078125 \nL 713.38125 244.078125 \nL 713.38125 22.318125 \nL 409.017614 22.318125 \nz\n\" style=\"fill: #ffffff\"/>\n   </g>\n   <g id=\"matplotlib.axis_3\">\n    <g id=\"xtick_10\">\n     <g id=\"line2d_37\">\n      <path d=\"M 422.852324 244.078125 \nL 422.852324 22.318125 \n\" clip-path=\"url(#p01fcc99af0)\" style=\"fill: none; stroke: #b0b0b0; stroke-width: 0.8; stroke-linecap: square\"/>\n     </g>\n     <g id=\"line2d_38\">\n      <g>\n       <use xlink:href=\"#mc5bb442598\" x=\"422.852324\" y=\"244.078125\" style=\"stroke: #000000; stroke-width: 0.8\"/>\n      </g>\n     </g>\n     <g id=\"text_22\">\n      <!-- 1.00 -->\n      <g transform=\"translate(411.719512 258.676562) scale(0.1 -0.1)\">\n       <use xlink:href=\"#DejaVuSans-31\"/>\n       <use xlink:href=\"#DejaVuSans-2e\" transform=\"translate(63.623047 0)\"/>\n       <use xlink:href=\"#DejaVuSans-30\" transform=\"translate(95.410156 0)\"/>\n       <use xlink:href=\"#DejaVuSans-30\" transform=\"translate(159.033203 0)\"/>\n      </g>\n     </g>\n    </g>\n    <g id=\"xtick_11\">\n     <g id=\"line2d_39\">\n      <path d=\"M 457.439101 244.078125 \nL 457.439101 22.318125 \n\" clip-path=\"url(#p01fcc99af0)\" style=\"fill: none; stroke: #b0b0b0; stroke-width: 0.8; stroke-linecap: square\"/>\n     </g>\n     <g id=\"line2d_40\">\n      <g>\n       <use xlink:href=\"#mc5bb442598\" x=\"457.439101\" y=\"244.078125\" style=\"stroke: #000000; stroke-width: 0.8\"/>\n      </g>\n     </g>\n     <g id=\"text_23\">\n      <!-- 1.25 -->\n      <g transform=\"translate(446.306289 258.676562) scale(0.1 -0.1)\">\n       <use xlink:href=\"#DejaVuSans-31\"/>\n       <use xlink:href=\"#DejaVuSans-2e\" transform=\"translate(63.623047 0)\"/>\n       <use xlink:href=\"#DejaVuSans-32\" transform=\"translate(95.410156 0)\"/>\n       <use xlink:href=\"#DejaVuSans-35\" transform=\"translate(159.033203 0)\"/>\n      </g>\n     </g>\n    </g>\n    <g id=\"xtick_12\">\n     <g id=\"line2d_41\">\n      <path d=\"M 492.025878 244.078125 \nL 492.025878 22.318125 \n\" clip-path=\"url(#p01fcc99af0)\" style=\"fill: none; stroke: #b0b0b0; stroke-width: 0.8; stroke-linecap: square\"/>\n     </g>\n     <g id=\"line2d_42\">\n      <g>\n       <use xlink:href=\"#mc5bb442598\" x=\"492.025878\" y=\"244.078125\" style=\"stroke: #000000; stroke-width: 0.8\"/>\n      </g>\n     </g>\n     <g id=\"text_24\">\n      <!-- 1.50 -->\n      <g transform=\"translate(480.893066 258.676562) scale(0.1 -0.1)\">\n       <use xlink:href=\"#DejaVuSans-31\"/>\n       <use xlink:href=\"#DejaVuSans-2e\" transform=\"translate(63.623047 0)\"/>\n       <use xlink:href=\"#DejaVuSans-35\" transform=\"translate(95.410156 0)\"/>\n       <use xlink:href=\"#DejaVuSans-30\" transform=\"translate(159.033203 0)\"/>\n      </g>\n     </g>\n    </g>\n    <g id=\"xtick_13\">\n     <g id=\"line2d_43\">\n      <path d=\"M 526.612655 244.078125 \nL 526.612655 22.318125 \n\" clip-path=\"url(#p01fcc99af0)\" style=\"fill: none; stroke: #b0b0b0; stroke-width: 0.8; stroke-linecap: square\"/>\n     </g>\n     <g id=\"line2d_44\">\n      <g>\n       <use xlink:href=\"#mc5bb442598\" x=\"526.612655\" y=\"244.078125\" style=\"stroke: #000000; stroke-width: 0.8\"/>\n      </g>\n     </g>\n     <g id=\"text_25\">\n      <!-- 1.75 -->\n      <g transform=\"translate(515.479842 258.676562) scale(0.1 -0.1)\">\n       <use xlink:href=\"#DejaVuSans-31\"/>\n       <use xlink:href=\"#DejaVuSans-2e\" transform=\"translate(63.623047 0)\"/>\n       <use xlink:href=\"#DejaVuSans-37\" transform=\"translate(95.410156 0)\"/>\n       <use xlink:href=\"#DejaVuSans-35\" transform=\"translate(159.033203 0)\"/>\n      </g>\n     </g>\n    </g>\n    <g id=\"xtick_14\">\n     <g id=\"line2d_45\">\n      <path d=\"M 561.199432 244.078125 \nL 561.199432 22.318125 \n\" clip-path=\"url(#p01fcc99af0)\" style=\"fill: none; stroke: #b0b0b0; stroke-width: 0.8; stroke-linecap: square\"/>\n     </g>\n     <g id=\"line2d_46\">\n      <g>\n       <use xlink:href=\"#mc5bb442598\" x=\"561.199432\" y=\"244.078125\" style=\"stroke: #000000; stroke-width: 0.8\"/>\n      </g>\n     </g>\n     <g id=\"text_26\">\n      <!-- 2.00 -->\n      <g transform=\"translate(550.066619 258.676562) scale(0.1 -0.1)\">\n       <use xlink:href=\"#DejaVuSans-32\"/>\n       <use xlink:href=\"#DejaVuSans-2e\" transform=\"translate(63.623047 0)\"/>\n       <use xlink:href=\"#DejaVuSans-30\" transform=\"translate(95.410156 0)\"/>\n       <use xlink:href=\"#DejaVuSans-30\" transform=\"translate(159.033203 0)\"/>\n      </g>\n     </g>\n    </g>\n    <g id=\"xtick_15\">\n     <g id=\"line2d_47\">\n      <path d=\"M 595.786209 244.078125 \nL 595.786209 22.318125 \n\" clip-path=\"url(#p01fcc99af0)\" style=\"fill: none; stroke: #b0b0b0; stroke-width: 0.8; stroke-linecap: square\"/>\n     </g>\n     <g id=\"line2d_48\">\n      <g>\n       <use xlink:href=\"#mc5bb442598\" x=\"595.786209\" y=\"244.078125\" style=\"stroke: #000000; stroke-width: 0.8\"/>\n      </g>\n     </g>\n     <g id=\"text_27\">\n      <!-- 2.25 -->\n      <g transform=\"translate(584.653396 258.676562) scale(0.1 -0.1)\">\n       <use xlink:href=\"#DejaVuSans-32\"/>\n       <use xlink:href=\"#DejaVuSans-2e\" transform=\"translate(63.623047 0)\"/>\n       <use xlink:href=\"#DejaVuSans-32\" transform=\"translate(95.410156 0)\"/>\n       <use xlink:href=\"#DejaVuSans-35\" transform=\"translate(159.033203 0)\"/>\n      </g>\n     </g>\n    </g>\n    <g id=\"xtick_16\">\n     <g id=\"line2d_49\">\n      <path d=\"M 630.372986 244.078125 \nL 630.372986 22.318125 \n\" clip-path=\"url(#p01fcc99af0)\" style=\"fill: none; stroke: #b0b0b0; stroke-width: 0.8; stroke-linecap: square\"/>\n     </g>\n     <g id=\"line2d_50\">\n      <g>\n       <use xlink:href=\"#mc5bb442598\" x=\"630.372986\" y=\"244.078125\" style=\"stroke: #000000; stroke-width: 0.8\"/>\n      </g>\n     </g>\n     <g id=\"text_28\">\n      <!-- 2.50 -->\n      <g transform=\"translate(619.240173 258.676562) scale(0.1 -0.1)\">\n       <use xlink:href=\"#DejaVuSans-32\"/>\n       <use xlink:href=\"#DejaVuSans-2e\" transform=\"translate(63.623047 0)\"/>\n       <use xlink:href=\"#DejaVuSans-35\" transform=\"translate(95.410156 0)\"/>\n       <use xlink:href=\"#DejaVuSans-30\" transform=\"translate(159.033203 0)\"/>\n      </g>\n     </g>\n    </g>\n    <g id=\"xtick_17\">\n     <g id=\"line2d_51\">\n      <path d=\"M 664.959762 244.078125 \nL 664.959762 22.318125 \n\" clip-path=\"url(#p01fcc99af0)\" style=\"fill: none; stroke: #b0b0b0; stroke-width: 0.8; stroke-linecap: square\"/>\n     </g>\n     <g id=\"line2d_52\">\n      <g>\n       <use xlink:href=\"#mc5bb442598\" x=\"664.959762\" y=\"244.078125\" style=\"stroke: #000000; stroke-width: 0.8\"/>\n      </g>\n     </g>\n     <g id=\"text_29\">\n      <!-- 2.75 -->\n      <g transform=\"translate(653.82695 258.676562) scale(0.1 -0.1)\">\n       <use xlink:href=\"#DejaVuSans-32\"/>\n       <use xlink:href=\"#DejaVuSans-2e\" transform=\"translate(63.623047 0)\"/>\n       <use xlink:href=\"#DejaVuSans-37\" transform=\"translate(95.410156 0)\"/>\n       <use xlink:href=\"#DejaVuSans-35\" transform=\"translate(159.033203 0)\"/>\n      </g>\n     </g>\n    </g>\n    <g id=\"xtick_18\">\n     <g id=\"line2d_53\">\n      <path d=\"M 699.546539 244.078125 \nL 699.546539 22.318125 \n\" clip-path=\"url(#p01fcc99af0)\" style=\"fill: none; stroke: #b0b0b0; stroke-width: 0.8; stroke-linecap: square\"/>\n     </g>\n     <g id=\"line2d_54\">\n      <g>\n       <use xlink:href=\"#mc5bb442598\" x=\"699.546539\" y=\"244.078125\" style=\"stroke: #000000; stroke-width: 0.8\"/>\n      </g>\n     </g>\n     <g id=\"text_30\">\n      <!-- 3.00 -->\n      <g transform=\"translate(688.413727 258.676562) scale(0.1 -0.1)\">\n       <use xlink:href=\"#DejaVuSans-33\"/>\n       <use xlink:href=\"#DejaVuSans-2e\" transform=\"translate(63.623047 0)\"/>\n       <use xlink:href=\"#DejaVuSans-30\" transform=\"translate(95.410156 0)\"/>\n       <use xlink:href=\"#DejaVuSans-30\" transform=\"translate(159.033203 0)\"/>\n      </g>\n     </g>\n    </g>\n    <g id=\"text_31\">\n     <!-- Epochs -->\n     <g transform=\"translate(543.283807 272.354687) scale(0.1 -0.1)\">\n      <use xlink:href=\"#DejaVuSans-45\"/>\n      <use xlink:href=\"#DejaVuSans-70\" transform=\"translate(63.183594 0)\"/>\n      <use xlink:href=\"#DejaVuSans-6f\" transform=\"translate(126.660156 0)\"/>\n      <use xlink:href=\"#DejaVuSans-63\" transform=\"translate(187.841797 0)\"/>\n      <use xlink:href=\"#DejaVuSans-68\" transform=\"translate(242.822266 0)\"/>\n      <use xlink:href=\"#DejaVuSans-73\" transform=\"translate(306.201172 0)\"/>\n     </g>\n    </g>\n   </g>\n   <g id=\"matplotlib.axis_4\">\n    <g id=\"ytick_8\">\n     <g id=\"line2d_55\">\n      <path d=\"M 409.017614 241.751971 \nL 713.38125 241.751971 \n\" clip-path=\"url(#p01fcc99af0)\" style=\"fill: none; stroke: #b0b0b0; stroke-width: 0.8; stroke-linecap: square\"/>\n     </g>\n     <g id=\"line2d_56\">\n      <g>\n       <use xlink:href=\"#m9802a889da\" x=\"409.017614\" y=\"241.751971\" style=\"stroke: #000000; stroke-width: 0.8\"/>\n      </g>\n     </g>\n     <g id=\"text_32\">\n      <!-- 0.80 -->\n      <g transform=\"translate(379.751989 245.55119) scale(0.1 -0.1)\">\n       <use xlink:href=\"#DejaVuSans-30\"/>\n       <use xlink:href=\"#DejaVuSans-2e\" transform=\"translate(63.623047 0)\"/>\n       <use xlink:href=\"#DejaVuSans-38\" transform=\"translate(95.410156 0)\"/>\n       <use xlink:href=\"#DejaVuSans-30\" transform=\"translate(159.033203 0)\"/>\n      </g>\n     </g>\n    </g>\n    <g id=\"ytick_9\">\n     <g id=\"line2d_57\">\n      <path d=\"M 409.017614 210.736587 \nL 713.38125 210.736587 \n\" clip-path=\"url(#p01fcc99af0)\" style=\"fill: none; stroke: #b0b0b0; stroke-width: 0.8; stroke-linecap: square\"/>\n     </g>\n     <g id=\"line2d_58\">\n      <g>\n       <use xlink:href=\"#m9802a889da\" x=\"409.017614\" y=\"210.736587\" style=\"stroke: #000000; stroke-width: 0.8\"/>\n      </g>\n     </g>\n     <g id=\"text_33\">\n      <!-- 0.81 -->\n      <g transform=\"translate(379.751989 214.535805) scale(0.1 -0.1)\">\n       <use xlink:href=\"#DejaVuSans-30\"/>\n       <use xlink:href=\"#DejaVuSans-2e\" transform=\"translate(63.623047 0)\"/>\n       <use xlink:href=\"#DejaVuSans-38\" transform=\"translate(95.410156 0)\"/>\n       <use xlink:href=\"#DejaVuSans-31\" transform=\"translate(159.033203 0)\"/>\n      </g>\n     </g>\n    </g>\n    <g id=\"ytick_10\">\n     <g id=\"line2d_59\">\n      <path d=\"M 409.017614 179.721202 \nL 713.38125 179.721202 \n\" clip-path=\"url(#p01fcc99af0)\" style=\"fill: none; stroke: #b0b0b0; stroke-width: 0.8; stroke-linecap: square\"/>\n     </g>\n     <g id=\"line2d_60\">\n      <g>\n       <use xlink:href=\"#m9802a889da\" x=\"409.017614\" y=\"179.721202\" style=\"stroke: #000000; stroke-width: 0.8\"/>\n      </g>\n     </g>\n     <g id=\"text_34\">\n      <!-- 0.82 -->\n      <g transform=\"translate(379.751989 183.520421) scale(0.1 -0.1)\">\n       <use xlink:href=\"#DejaVuSans-30\"/>\n       <use xlink:href=\"#DejaVuSans-2e\" transform=\"translate(63.623047 0)\"/>\n       <use xlink:href=\"#DejaVuSans-38\" transform=\"translate(95.410156 0)\"/>\n       <use xlink:href=\"#DejaVuSans-32\" transform=\"translate(159.033203 0)\"/>\n      </g>\n     </g>\n    </g>\n    <g id=\"ytick_11\">\n     <g id=\"line2d_61\">\n      <path d=\"M 409.017614 148.705817 \nL 713.38125 148.705817 \n\" clip-path=\"url(#p01fcc99af0)\" style=\"fill: none; stroke: #b0b0b0; stroke-width: 0.8; stroke-linecap: square\"/>\n     </g>\n     <g id=\"line2d_62\">\n      <g>\n       <use xlink:href=\"#m9802a889da\" x=\"409.017614\" y=\"148.705817\" style=\"stroke: #000000; stroke-width: 0.8\"/>\n      </g>\n     </g>\n     <g id=\"text_35\">\n      <!-- 0.83 -->\n      <g transform=\"translate(379.751989 152.505036) scale(0.1 -0.1)\">\n       <use xlink:href=\"#DejaVuSans-30\"/>\n       <use xlink:href=\"#DejaVuSans-2e\" transform=\"translate(63.623047 0)\"/>\n       <use xlink:href=\"#DejaVuSans-38\" transform=\"translate(95.410156 0)\"/>\n       <use xlink:href=\"#DejaVuSans-33\" transform=\"translate(159.033203 0)\"/>\n      </g>\n     </g>\n    </g>\n    <g id=\"ytick_12\">\n     <g id=\"line2d_63\">\n      <path d=\"M 409.017614 117.690433 \nL 713.38125 117.690433 \n\" clip-path=\"url(#p01fcc99af0)\" style=\"fill: none; stroke: #b0b0b0; stroke-width: 0.8; stroke-linecap: square\"/>\n     </g>\n     <g id=\"line2d_64\">\n      <g>\n       <use xlink:href=\"#m9802a889da\" x=\"409.017614\" y=\"117.690433\" style=\"stroke: #000000; stroke-width: 0.8\"/>\n      </g>\n     </g>\n     <g id=\"text_36\">\n      <!-- 0.84 -->\n      <g transform=\"translate(379.751989 121.489651) scale(0.1 -0.1)\">\n       <use xlink:href=\"#DejaVuSans-30\"/>\n       <use xlink:href=\"#DejaVuSans-2e\" transform=\"translate(63.623047 0)\"/>\n       <use xlink:href=\"#DejaVuSans-38\" transform=\"translate(95.410156 0)\"/>\n       <use xlink:href=\"#DejaVuSans-34\" transform=\"translate(159.033203 0)\"/>\n      </g>\n     </g>\n    </g>\n    <g id=\"ytick_13\">\n     <g id=\"line2d_65\">\n      <path d=\"M 409.017614 86.675048 \nL 713.38125 86.675048 \n\" clip-path=\"url(#p01fcc99af0)\" style=\"fill: none; stroke: #b0b0b0; stroke-width: 0.8; stroke-linecap: square\"/>\n     </g>\n     <g id=\"line2d_66\">\n      <g>\n       <use xlink:href=\"#m9802a889da\" x=\"409.017614\" y=\"86.675048\" style=\"stroke: #000000; stroke-width: 0.8\"/>\n      </g>\n     </g>\n     <g id=\"text_37\">\n      <!-- 0.85 -->\n      <g transform=\"translate(379.751989 90.474267) scale(0.1 -0.1)\">\n       <use xlink:href=\"#DejaVuSans-30\"/>\n       <use xlink:href=\"#DejaVuSans-2e\" transform=\"translate(63.623047 0)\"/>\n       <use xlink:href=\"#DejaVuSans-38\" transform=\"translate(95.410156 0)\"/>\n       <use xlink:href=\"#DejaVuSans-35\" transform=\"translate(159.033203 0)\"/>\n      </g>\n     </g>\n    </g>\n    <g id=\"ytick_14\">\n     <g id=\"line2d_67\">\n      <path d=\"M 409.017614 55.659663 \nL 713.38125 55.659663 \n\" clip-path=\"url(#p01fcc99af0)\" style=\"fill: none; stroke: #b0b0b0; stroke-width: 0.8; stroke-linecap: square\"/>\n     </g>\n     <g id=\"line2d_68\">\n      <g>\n       <use xlink:href=\"#m9802a889da\" x=\"409.017614\" y=\"55.659663\" style=\"stroke: #000000; stroke-width: 0.8\"/>\n      </g>\n     </g>\n     <g id=\"text_38\">\n      <!-- 0.86 -->\n      <g transform=\"translate(379.751989 59.458882) scale(0.1 -0.1)\">\n       <use xlink:href=\"#DejaVuSans-30\"/>\n       <use xlink:href=\"#DejaVuSans-2e\" transform=\"translate(63.623047 0)\"/>\n       <use xlink:href=\"#DejaVuSans-38\" transform=\"translate(95.410156 0)\"/>\n       <use xlink:href=\"#DejaVuSans-36\" transform=\"translate(159.033203 0)\"/>\n      </g>\n     </g>\n    </g>\n    <g id=\"ytick_15\">\n     <g id=\"line2d_69\">\n      <path d=\"M 409.017614 24.644279 \nL 713.38125 24.644279 \n\" clip-path=\"url(#p01fcc99af0)\" style=\"fill: none; stroke: #b0b0b0; stroke-width: 0.8; stroke-linecap: square\"/>\n     </g>\n     <g id=\"line2d_70\">\n      <g>\n       <use xlink:href=\"#m9802a889da\" x=\"409.017614\" y=\"24.644279\" style=\"stroke: #000000; stroke-width: 0.8\"/>\n      </g>\n     </g>\n     <g id=\"text_39\">\n      <!-- 0.87 -->\n      <g transform=\"translate(379.751989 28.443498) scale(0.1 -0.1)\">\n       <use xlink:href=\"#DejaVuSans-30\"/>\n       <use xlink:href=\"#DejaVuSans-2e\" transform=\"translate(63.623047 0)\"/>\n       <use xlink:href=\"#DejaVuSans-38\" transform=\"translate(95.410156 0)\"/>\n       <use xlink:href=\"#DejaVuSans-37\" transform=\"translate(159.033203 0)\"/>\n      </g>\n     </g>\n    </g>\n    <g id=\"text_40\">\n     <!-- Accuracy -->\n     <g transform=\"translate(373.672301 156.02625) rotate(-90) scale(0.1 -0.1)\">\n      <defs>\n       <path id=\"DejaVuSans-41\" d=\"M 2188 4044 \nL 1331 1722 \nL 3047 1722 \nL 2188 4044 \nz\nM 1831 4666 \nL 2547 4666 \nL 4325 0 \nL 3669 0 \nL 3244 1197 \nL 1141 1197 \nL 716 0 \nL 50 0 \nL 1831 4666 \nz\n\" transform=\"scale(0.015625)\"/>\n       <path id=\"DejaVuSans-75\" d=\"M 544 1381 \nL 544 3500 \nL 1119 3500 \nL 1119 1403 \nQ 1119 906 1312 657 \nQ 1506 409 1894 409 \nQ 2359 409 2629 706 \nQ 2900 1003 2900 1516 \nL 2900 3500 \nL 3475 3500 \nL 3475 0 \nL 2900 0 \nL 2900 538 \nQ 2691 219 2414 64 \nQ 2138 -91 1772 -91 \nQ 1169 -91 856 284 \nQ 544 659 544 1381 \nz\nM 1991 3584 \nL 1991 3584 \nz\n\" transform=\"scale(0.015625)\"/>\n       <path id=\"DejaVuSans-79\" d=\"M 2059 -325 \nQ 1816 -950 1584 -1140 \nQ 1353 -1331 966 -1331 \nL 506 -1331 \nL 506 -850 \nL 844 -850 \nQ 1081 -850 1212 -737 \nQ 1344 -625 1503 -206 \nL 1606 56 \nL 191 3500 \nL 800 3500 \nL 1894 763 \nL 2988 3500 \nL 3597 3500 \nL 2059 -325 \nz\n\" transform=\"scale(0.015625)\"/>\n      </defs>\n      <use xlink:href=\"#DejaVuSans-41\"/>\n      <use xlink:href=\"#DejaVuSans-63\" transform=\"translate(66.658203 0)\"/>\n      <use xlink:href=\"#DejaVuSans-63\" transform=\"translate(121.638672 0)\"/>\n      <use xlink:href=\"#DejaVuSans-75\" transform=\"translate(176.619141 0)\"/>\n      <use xlink:href=\"#DejaVuSans-72\" transform=\"translate(239.998047 0)\"/>\n      <use xlink:href=\"#DejaVuSans-61\" transform=\"translate(281.111328 0)\"/>\n      <use xlink:href=\"#DejaVuSans-63\" transform=\"translate(342.390625 0)\"/>\n      <use xlink:href=\"#DejaVuSans-79\" transform=\"translate(397.371094 0)\"/>\n     </g>\n    </g>\n   </g>\n   <g id=\"line2d_71\">\n    <path d=\"M 422.852324 233.998125 \nL 561.199432 210.736587 \nL 699.546539 32.398125 \n\" clip-path=\"url(#p01fcc99af0)\" style=\"fill: none; stroke: #008000; stroke-width: 1.5; stroke-linecap: square\"/>\n    <defs>\n     <path id=\"m47364f3193\" d=\"M 0 3 \nC 0.795609 3 1.55874 2.683901 2.12132 2.12132 \nC 2.683901 1.55874 3 0.795609 3 0 \nC 3 -0.795609 2.683901 -1.55874 2.12132 -2.12132 \nC 1.55874 -2.683901 0.795609 -3 0 -3 \nC -0.795609 -3 -1.55874 -2.683901 -2.12132 -2.12132 \nC -2.683901 -1.55874 -3 -0.795609 -3 0 \nC -3 0.795609 -2.683901 1.55874 -2.12132 2.12132 \nC -1.55874 2.683901 -0.795609 3 0 3 \nz\n\" style=\"stroke: #008000\"/>\n    </defs>\n    <g clip-path=\"url(#p01fcc99af0)\">\n     <use xlink:href=\"#m47364f3193\" x=\"422.852324\" y=\"233.998125\" style=\"fill: #008000; stroke: #008000\"/>\n     <use xlink:href=\"#m47364f3193\" x=\"561.199432\" y=\"210.736587\" style=\"fill: #008000; stroke: #008000\"/>\n     <use xlink:href=\"#m47364f3193\" x=\"699.546539\" y=\"32.398125\" style=\"fill: #008000; stroke: #008000\"/>\n    </g>\n   </g>\n   <g id=\"patch_9\">\n    <path d=\"M 409.017614 244.078125 \nL 409.017614 22.318125 \n\" style=\"fill: none; stroke: #000000; stroke-width: 0.8; stroke-linejoin: miter; stroke-linecap: square\"/>\n   </g>\n   <g id=\"patch_10\">\n    <path d=\"M 713.38125 244.078125 \nL 713.38125 22.318125 \n\" style=\"fill: none; stroke: #000000; stroke-width: 0.8; stroke-linejoin: miter; stroke-linecap: square\"/>\n   </g>\n   <g id=\"patch_11\">\n    <path d=\"M 409.017614 244.078125 \nL 713.38125 244.078125 \n\" style=\"fill: none; stroke: #000000; stroke-width: 0.8; stroke-linejoin: miter; stroke-linecap: square\"/>\n   </g>\n   <g id=\"patch_12\">\n    <path d=\"M 409.017614 22.318125 \nL 713.38125 22.318125 \n\" style=\"fill: none; stroke: #000000; stroke-width: 0.8; stroke-linejoin: miter; stroke-linecap: square\"/>\n   </g>\n   <g id=\"text_41\">\n    <!-- Validation Accuracy over Epochs -->\n    <g transform=\"translate(463.576619 16.318125) scale(0.12 -0.12)\">\n     <defs>\n      <path id=\"DejaVuSans-65\" d=\"M 3597 1894 \nL 3597 1613 \nL 953 1613 \nQ 991 1019 1311 708 \nQ 1631 397 2203 397 \nQ 2534 397 2845 478 \nQ 3156 559 3463 722 \nL 3463 178 \nQ 3153 47 2828 -22 \nQ 2503 -91 2169 -91 \nQ 1331 -91 842 396 \nQ 353 884 353 1716 \nQ 353 2575 817 3079 \nQ 1281 3584 2069 3584 \nQ 2775 3584 3186 3129 \nQ 3597 2675 3597 1894 \nz\nM 3022 2063 \nQ 3016 2534 2758 2815 \nQ 2500 3097 2075 3097 \nQ 1594 3097 1305 2825 \nQ 1016 2553 972 2059 \nL 3022 2063 \nz\n\" transform=\"scale(0.015625)\"/>\n     </defs>\n     <use xlink:href=\"#DejaVuSans-56\"/>\n     <use xlink:href=\"#DejaVuSans-61\" transform=\"translate(60.658203 0)\"/>\n     <use xlink:href=\"#DejaVuSans-6c\" transform=\"translate(121.9375 0)\"/>\n     <use xlink:href=\"#DejaVuSans-69\" transform=\"translate(149.720703 0)\"/>\n     <use xlink:href=\"#DejaVuSans-64\" transform=\"translate(177.503906 0)\"/>\n     <use xlink:href=\"#DejaVuSans-61\" transform=\"translate(240.980469 0)\"/>\n     <use xlink:href=\"#DejaVuSans-74\" transform=\"translate(302.259766 0)\"/>\n     <use xlink:href=\"#DejaVuSans-69\" transform=\"translate(341.46875 0)\"/>\n     <use xlink:href=\"#DejaVuSans-6f\" transform=\"translate(369.251953 0)\"/>\n     <use xlink:href=\"#DejaVuSans-6e\" transform=\"translate(430.433594 0)\"/>\n     <use xlink:href=\"#DejaVuSans-20\" transform=\"translate(493.8125 0)\"/>\n     <use xlink:href=\"#DejaVuSans-41\" transform=\"translate(525.599609 0)\"/>\n     <use xlink:href=\"#DejaVuSans-63\" transform=\"translate(592.257812 0)\"/>\n     <use xlink:href=\"#DejaVuSans-63\" transform=\"translate(647.238281 0)\"/>\n     <use xlink:href=\"#DejaVuSans-75\" transform=\"translate(702.21875 0)\"/>\n     <use xlink:href=\"#DejaVuSans-72\" transform=\"translate(765.597656 0)\"/>\n     <use xlink:href=\"#DejaVuSans-61\" transform=\"translate(806.710938 0)\"/>\n     <use xlink:href=\"#DejaVuSans-63\" transform=\"translate(867.990234 0)\"/>\n     <use xlink:href=\"#DejaVuSans-79\" transform=\"translate(922.970703 0)\"/>\n     <use xlink:href=\"#DejaVuSans-20\" transform=\"translate(982.150391 0)\"/>\n     <use xlink:href=\"#DejaVuSans-6f\" transform=\"translate(1013.9375 0)\"/>\n     <use xlink:href=\"#DejaVuSans-76\" transform=\"translate(1075.119141 0)\"/>\n     <use xlink:href=\"#DejaVuSans-65\" transform=\"translate(1134.298828 0)\"/>\n     <use xlink:href=\"#DejaVuSans-72\" transform=\"translate(1195.822266 0)\"/>\n     <use xlink:href=\"#DejaVuSans-20\" transform=\"translate(1236.935547 0)\"/>\n     <use xlink:href=\"#DejaVuSans-45\" transform=\"translate(1268.722656 0)\"/>\n     <use xlink:href=\"#DejaVuSans-70\" transform=\"translate(1331.90625 0)\"/>\n     <use xlink:href=\"#DejaVuSans-6f\" transform=\"translate(1395.382812 0)\"/>\n     <use xlink:href=\"#DejaVuSans-63\" transform=\"translate(1456.564453 0)\"/>\n     <use xlink:href=\"#DejaVuSans-68\" transform=\"translate(1511.544922 0)\"/>\n     <use xlink:href=\"#DejaVuSans-73\" transform=\"translate(1574.923828 0)\"/>\n    </g>\n   </g>\n   <g id=\"legend_2\">\n    <g id=\"patch_13\">\n     <path d=\"M 416.017614 44.99625 \nL 546.233239 44.99625 \nQ 548.233239 44.99625 548.233239 42.99625 \nL 548.233239 29.318125 \nQ 548.233239 27.318125 546.233239 27.318125 \nL 416.017614 27.318125 \nQ 414.017614 27.318125 414.017614 29.318125 \nL 414.017614 42.99625 \nQ 414.017614 44.99625 416.017614 44.99625 \nz\n\" style=\"fill: #ffffff; opacity: 0.8; stroke: #cccccc; stroke-linejoin: miter\"/>\n    </g>\n    <g id=\"line2d_72\">\n     <path d=\"M 418.017614 35.416562 \nL 428.017614 35.416562 \nL 438.017614 35.416562 \n\" style=\"fill: none; stroke: #008000; stroke-width: 1.5; stroke-linecap: square\"/>\n     <g>\n      <use xlink:href=\"#m47364f3193\" x=\"428.017614\" y=\"35.416562\" style=\"fill: #008000; stroke: #008000\"/>\n     </g>\n    </g>\n    <g id=\"text_42\">\n     <!-- Validation Accuracy -->\n     <g transform=\"translate(446.017614 38.916562) scale(0.1 -0.1)\">\n      <use xlink:href=\"#DejaVuSans-56\"/>\n      <use xlink:href=\"#DejaVuSans-61\" transform=\"translate(60.658203 0)\"/>\n      <use xlink:href=\"#DejaVuSans-6c\" transform=\"translate(121.9375 0)\"/>\n      <use xlink:href=\"#DejaVuSans-69\" transform=\"translate(149.720703 0)\"/>\n      <use xlink:href=\"#DejaVuSans-64\" transform=\"translate(177.503906 0)\"/>\n      <use xlink:href=\"#DejaVuSans-61\" transform=\"translate(240.980469 0)\"/>\n      <use xlink:href=\"#DejaVuSans-74\" transform=\"translate(302.259766 0)\"/>\n      <use xlink:href=\"#DejaVuSans-69\" transform=\"translate(341.46875 0)\"/>\n      <use xlink:href=\"#DejaVuSans-6f\" transform=\"translate(369.251953 0)\"/>\n      <use xlink:href=\"#DejaVuSans-6e\" transform=\"translate(430.433594 0)\"/>\n      <use xlink:href=\"#DejaVuSans-20\" transform=\"translate(493.8125 0)\"/>\n      <use xlink:href=\"#DejaVuSans-41\" transform=\"translate(525.599609 0)\"/>\n      <use xlink:href=\"#DejaVuSans-63\" transform=\"translate(592.257812 0)\"/>\n      <use xlink:href=\"#DejaVuSans-63\" transform=\"translate(647.238281 0)\"/>\n      <use xlink:href=\"#DejaVuSans-75\" transform=\"translate(702.21875 0)\"/>\n      <use xlink:href=\"#DejaVuSans-72\" transform=\"translate(765.597656 0)\"/>\n      <use xlink:href=\"#DejaVuSans-61\" transform=\"translate(806.710938 0)\"/>\n      <use xlink:href=\"#DejaVuSans-63\" transform=\"translate(867.990234 0)\"/>\n      <use xlink:href=\"#DejaVuSans-79\" transform=\"translate(922.970703 0)\"/>\n     </g>\n    </g>\n   </g>\n  </g>\n </g>\n <defs>\n  <clipPath id=\"p42fd1bd6ab\">\n   <rect x=\"43.78125\" y=\"22.318125\" width=\"304.363636\" height=\"221.76\"/>\n  </clipPath>\n  <clipPath id=\"p01fcc99af0\">\n   <rect x=\"409.017614\" y=\"22.318125\" width=\"304.363636\" height=\"221.76\"/>\n  </clipPath>\n </defs>\n</svg>\n"
          },
          "metadata": {}
        }
      ],
      "source": [
        "LLM_DistilBERT.train_and_validate()\n",
        "LLM_DistilBERT.plot_history()"
      ]
    },
    {
      "cell_type": "markdown",
      "id": "9cc75889",
      "metadata": {
        "id": "9cc75889"
      },
      "source": [
        "### Interprétation\n",
        "\n",
        "- Le modèle s'améliore progressivement au fil des *epochs* : la perte d'entraînement diminue fortement et la précision (*accuracy*) augmente.\n",
        "\n",
        "- Une légère divergence entre perte d'entraînement et perte de validation est constatée : le modèle devient plus confiant mais peut être mal calibré ou commencer à sur-apprendre sur certains cas difficiles (*overfitting* léger).\n",
        "\n",
        "- Grâce au mécanisme de *checkpointing*, le meilleur modèle est sauvegardé à chaque fois que la perte de validation s'améliore. Ici, le modèle sauvegardé à l'*epoch* 3 correspond au meilleur compromis pour la généralisation."
      ]
    },
    {
      "cell_type": "markdown",
      "id": "-pnwOzOlZhkR",
      "metadata": {
        "id": "-pnwOzOlZhkR"
      },
      "source": [
        "## Sanity Checks\n",
        "\n",
        "Avant d'analyser les performances ou d'utiliser le modèle en inférence, il est essentiel de vérifier que les données et le prétraitement sont correctement configurés.\n",
        "\n",
        "L'objectif de cette étape est de s'assurer que le pipeline de préparation des données fonctionne correctement avant de poursuivre avec l'évaluation et l'inférence. Concrètement, nous voulons vérifier que :\n",
        "\n",
        "- Les dimensions des *batchs* (`input_ids`, `attention_mask`, `labels`) sont cohérentes,\n",
        "- Les tokens spéciaux [CLS] et [SEP] sont bien présents dans chaque séquence,\n",
        "- Le padding et la troncature sont appliqués correctement, avec un attention_mask qui distingue bien les vrais tokens des [PAD].\n",
        "\n",
        "### Sanity Check 1 : Vérification d'un batch\n",
        "\n",
        "L'objectif est de vérifier que les *batchs* renvoyés par le `DataLoader` ont les bonnes dimensions et contiennent les bons éléments (`input_ids`, `attention_mask`, `labels`)."
      ]
    },
    {
      "cell_type": "code",
      "execution_count": 92,
      "id": "57ed58c3",
      "metadata": {
        "id": "57ed58c3",
        "outputId": "b6742025-1eec-4390-e1f8-5642239fba12",
        "colab": {
          "base_uri": "https://localhost:8080/"
        }
      },
      "outputs": [
        {
          "output_type": "stream",
          "name": "stdout",
          "text": [
            "Input IDs shape: torch.Size([4, 256])\n",
            "Attention mask shape: torch.Size([4, 256])\n",
            "Labels shape: torch.Size([4])\n",
            "\n",
            "First input_ids: [101, 1045, 2113, 8750, 1012, 1045, 1005, 2310, 2042, 2046, 2009, 2146, 2077, 2009, 2150, 1037, 2120, 9575, 1025, 1045, 3866, 2743, 2863, 2077, 2087, 2111, 2354, 2054, 5202, 7384, 1062, 2130, 2001, 1012, 1998, 2074, 2061, 2017, 2113, 1045, 1005, 1049, 2025, 23678, 2075, 2055, 2026, 1010, 2292, 2033, 2360, 2023, 1024, 2041, 1997, 2035, 1996, 8750, 2015, 1045, 1005, 2310, 2464, 1010, 3317, 1999, 1996, 3712, 2003, 2011, 2521, 2028, 1997, 1996, 2190, 1012, 2009, 1005, 1055, 5793, 2111, 2360, 24462, 2185, 2003, 1996, 2190, 1010, 2021, 1045, 2428, 21090, 1012, 2087, 2111, 2069, 2113, 2008, 3185, 2138, 2009, 2028, 2019, 9078, 22117, 2100, 2400, 1025, 2023, 3475, 1005, 1056, 2019, 4654, 27609, 3370, 1011, 1045, 1005, 2310, 3491, 4615, 18847, 3630, 3489, 1998, 3317, 1999, 1996, 3712, 2000, 2111, 2040, 1005, 1040, 2069, 2412, 2464, 24462, 2185, 1010, 1998, 2027, 5993, 2008, 1996, 3732, 2048, 2024, 1996, 6020, 1997, 1996, 2093, 1012, 7714, 1010, 1045, 1005, 1040, 2196, 2245, 2008, 2505, 2071, 12826, 2000, 4615, 18847, 3630, 3489, 1010, 2127, 1045, 2633, 2387, 3317, 1999, 1996, 3712, 1012, 1045, 2145, 2228, 2008, 1996, 3188, 2003, 1996, 2488, 1997, 1996, 2048, 1010, 2021, 3317, 1999, 1996, 3712, 2003, 4089, 2006, 11968, 2007, 2009, 1025, 1999, 2116, 3971, 1010, 3317, 2038, 2350, 3787, 2008, 18847, 3630, 3489, 2001, 4394, 1012, 1999, 2593, 2553, 1010, 2065, 2017, 1005, 2310, 2069, 2464, 24462, 2185, 1010, 1998, 2228, 2008, 2008, 2003, 2771, 3148, 18637, 1005, 1055, 2190, 2143, 1010, 2022, 4810, 2000, 2031, 2115, 3011, 16697, 1012, 102]\n",
            "First attention_mask: [1, 1, 1, 1, 1, 1, 1, 1, 1, 1, 1, 1, 1, 1, 1, 1, 1, 1, 1, 1, 1, 1, 1, 1, 1, 1, 1, 1, 1, 1, 1, 1, 1, 1, 1, 1, 1, 1, 1, 1, 1, 1, 1, 1, 1, 1, 1, 1, 1, 1, 1, 1, 1, 1, 1, 1, 1, 1, 1, 1, 1, 1, 1, 1, 1, 1, 1, 1, 1, 1, 1, 1, 1, 1, 1, 1, 1, 1, 1, 1, 1, 1, 1, 1, 1, 1, 1, 1, 1, 1, 1, 1, 1, 1, 1, 1, 1, 1, 1, 1, 1, 1, 1, 1, 1, 1, 1, 1, 1, 1, 1, 1, 1, 1, 1, 1, 1, 1, 1, 1, 1, 1, 1, 1, 1, 1, 1, 1, 1, 1, 1, 1, 1, 1, 1, 1, 1, 1, 1, 1, 1, 1, 1, 1, 1, 1, 1, 1, 1, 1, 1, 1, 1, 1, 1, 1, 1, 1, 1, 1, 1, 1, 1, 1, 1, 1, 1, 1, 1, 1, 1, 1, 1, 1, 1, 1, 1, 1, 1, 1, 1, 1, 1, 1, 1, 1, 1, 1, 1, 1, 1, 1, 1, 1, 1, 1, 1, 1, 1, 1, 1, 1, 1, 1, 1, 1, 1, 1, 1, 1, 1, 1, 1, 1, 1, 1, 1, 1, 1, 1, 1, 1, 1, 1, 1, 1, 1, 1, 1, 1, 1, 1, 1, 1, 1, 1, 1, 1, 1, 1, 1, 1, 1, 1, 1, 1, 1, 1, 1, 1, 1, 1, 1, 1, 1, 1]\n",
            "First label: 1\n",
            "\n",
            "Decoded tokens: ['[CLS]', 'i', 'know', 'anime', '.', 'i', \"'\", 've', 'been', 'into', 'it', 'long', 'before', 'it', 'became', 'a', 'national', 'phenomenon', ';', 'i', 'loved', 'ran', '##ma', 'before', 'most', 'people', 'knew', 'what', 'dragon', '##ball', 'z', 'even', 'was', '.', 'and', 'just', 'so', 'you', 'know', 'i', \"'\", 'm', 'not', 'bragg', '##ing', 'about', 'my', ',', 'let', 'me', 'say', 'this', ':', 'out', 'of', 'all', 'the', 'anime', '##s', 'i', \"'\", 've', 'seen', ',', 'castle', 'in', 'the', 'sky', 'is', 'by', 'far', 'one', 'of', 'the', 'best', '.', 'it', \"'\", 's', 'obvious', 'people', 'say', 'spirited', 'away', 'is', 'the', 'best', ',', 'but', 'i', 'really', 'disagree', '.', 'most', 'people', 'only', 'know', 'that', 'movie', 'because', 'it', 'one', 'an', 'ace', '##dm', '##y', 'award', ';', 'this', 'isn', \"'\", 't', 'an', 'ex', '##agger', '##ation', '-', 'i', \"'\", 've', 'shown', 'princess', 'mono', '##no', '##ke', 'and', 'castle', 'in', 'the', 'sky', 'to', 'people', 'who', \"'\", 'd', 'only', 'ever', 'seen', 'spirited', 'away', ',', 'and', 'they', 'agree', 'that', 'the', 'latter', 'two', 'are', 'the', 'superior', 'of', 'the', 'three', '.', 'personally', ',', 'i', \"'\", 'd', 'never', 'thought', 'that', 'anything', 'could', 'compare', 'to', 'princess', 'mono', '##no', '##ke', ',', 'until', 'i', 'finally', 'saw', 'castle', 'in', 'the', 'sky', '.', 'i', 'still', 'think', 'that', 'the', 'prior', 'is', 'the', 'better', 'of', 'the', 'two', ',', 'but', 'castle', 'in', 'the', 'sky', 'is', 'easily', 'on', 'par', 'with', 'it', ';', 'in', 'many', 'ways', ',', 'castle', 'has', 'major', 'elements', 'that', 'mono', '##no', '##ke', 'was', 'missing', '.', 'in', 'either', 'case', ',', 'if', 'you', \"'\", 've', 'only', 'seen', 'spirited', 'away', ',', 'and', 'think', 'that', 'that', 'is', 'mi', '##ya', '##zaki', \"'\", 's', 'best', 'film', ',', 'be', 'prepared', 'to', 'have', 'your', 'earth', 'shaken', '.', '[SEP]']\n"
          ]
        }
      ],
      "source": [
        "# Grab a single batch from the training dataloader\n",
        "batch = next(iter(LLM_DistilBERT.train_loader))\n",
        "\n",
        "# Print shapes\n",
        "print(\"Input IDs shape:\", batch[\"input_ids\"].shape)\n",
        "print(\"Attention mask shape:\", batch[\"attention_mask\"].shape)\n",
        "print(\"Labels shape:\", batch[\"labels\"].shape)\n",
        "\n",
        "# Print the first example\n",
        "first_input_ids = batch[\"input_ids\"][0]\n",
        "first_mask = batch[\"attention_mask\"][0]\n",
        "first_label = batch[\"labels\"][0]\n",
        "\n",
        "print(\"\\nFirst input_ids:\", first_input_ids.tolist())\n",
        "print(\"First attention_mask:\", first_mask.tolist())\n",
        "print(\"First label:\", first_label.item())\n",
        "\n",
        "# Convert IDs back to tokens to inspect\n",
        "tokens = LLM_DistilBERT.tokenizer.convert_ids_to_tokens(first_input_ids)\n",
        "print(\"\\nDecoded tokens:\", tokens)"
      ]
    },
    {
      "cell_type": "markdown",
      "id": "0f9a728b",
      "metadata": {
        "id": "0f9a728b"
      },
      "source": [
        "**Sortie obtenue :**\n",
        "\n",
        "* `Input IDs shape`: **\\[4, 256]** → 4 exemples par batch, séquences de longueur fixe 256.\n",
        "* `Attention mask shape`: **\\[4, 256]** → un masque pour chaque séquence, indiquant les vrais tokens (1) et le padding (0).\n",
        "* `Labels shape`: **\\[4]** → un label par séquence.\n",
        "* Premier exemple :\n",
        "\n",
        "  * Les **IDs** sont bien mappés à des tokens lisibles (`this tv show ... [SEP] [PAD] ...`).\n",
        "  * Le **masque** correspond : 1 pour les tokens réels, 0 pour les `[PAD]`.\n",
        "  * Le **label** est correctement associé (`0 = negative`).\n",
        "\n",
        "**Constats :**\n",
        "\n",
        "* Chaque batch contient 4 échantillons, comme attendu.\n",
        "* Les séquences sont bien **pad/truncated** à une longueur de 256.\n",
        "* Le masque d'attention est aligné correctement.\n",
        "* Les tokens spéciaux `[CLS]` et `[SEP]` sont présents."
      ]
    },
    {
      "cell_type": "markdown",
      "id": "918d0eb0",
      "metadata": {
        "id": "918d0eb0"
      },
      "source": [
        "### Sanity Check 2 : Présence des tokens spéciaux\n",
        "\n",
        "L'objectif étant de confirmer que chaque séquence contient bien les *tokens* spéciaux attendus par DistilBERT :\n",
        "\n",
        "* [CLS] au début (représentation globale de la séquence pour la classification).\n",
        "* [SEP] à la fin (séparateur de séquences, obligatoire même avec une seule phrase)."
      ]
    },
    {
      "cell_type": "code",
      "execution_count": 93,
      "id": "361f5893",
      "metadata": {
        "id": "361f5893",
        "outputId": "79b8fb16-c4f4-41a8-abb2-519fffa6da1f",
        "colab": {
          "base_uri": "https://localhost:8080/"
        }
      },
      "outputs": [
        {
          "output_type": "stream",
          "name": "stdout",
          "text": [
            "Special tokens OK\n"
          ]
        }
      ],
      "source": [
        "batch = next(iter(LLM_DistilBERT.train_loader))\n",
        "iid = batch[\"input_ids\"][0]\n",
        "assert (\n",
        "    iid[0].item() == LLM_DistilBERT.tokenizer.cls_token_id\n",
        "), \"Missing [CLS]\"\n",
        "assert (\n",
        "    (iid == LLM_DistilBERT.tokenizer.sep_token_id).any().item()\n",
        "), \"Missing [SEP]\"\n",
        "print(\"Special tokens OK\")"
      ]
    },
    {
      "cell_type": "markdown",
      "id": "UmdgkAQ4a7wE",
      "metadata": {
        "id": "UmdgkAQ4a7wE"
      },
      "source": [
        "**Constats :**\n",
        "\n",
        "* [CLS] est bien présent en première position.\n",
        "* [SEP] est bien présent dans la séquence.\n",
        "\n",
        "Le modèle recevra donc des entrées valides, conformes au format BERT."
      ]
    },
    {
      "cell_type": "markdown",
      "id": "d2cb2009",
      "metadata": {
        "id": "d2cb2009"
      },
      "source": [
        "### Sanity Check 3 : Statistiques de padding et troncature\n",
        "\n",
        "Vérifier la proportion d'exemples *paddés* (séquences plus courtes complétées avec [PAD]) et tronqués (séquences coupées à max_len=256)."
      ]
    },
    {
      "cell_type": "code",
      "execution_count": 94,
      "id": "053cd766",
      "metadata": {
        "id": "053cd766"
      },
      "outputs": [],
      "source": [
        "def trunc_pad_stats(dataloader, max_len=256):\n",
        "    n, n_trunc, n_pad = 0, 0, 0\n",
        "    for b in dataloader:\n",
        "        input_ids = b[\"input_ids\"]\n",
        "        attn = b[\"attention_mask\"]\n",
        "        # padded examples have any 0 in mask\n",
        "        n_pad += (attn.sum(dim=1) < input_ids.size(1)).sum().item()\n",
        "        # truncated examples exactly hit max_len AND have no padding\n",
        "        n_trunc += ((attn.sum(dim=1) == max_len)).sum().item()\n",
        "        n += input_ids.size(0)\n",
        "    return {\n",
        "        \"total_examples\": n,\n",
        "        \"padded_frac\": n_pad / n,\n",
        "        \"truncated_frac\": n_trunc / n,\n",
        "        \"exact_len_frac\": (\n",
        "            n_trunc / n\n",
        "        ),  # same as truncated_frac with this logic\n",
        "    }"
      ]
    },
    {
      "cell_type": "code",
      "execution_count": 95,
      "id": "087d9fae",
      "metadata": {
        "id": "087d9fae",
        "outputId": "77a62ed1-17c1-4de5-c99a-b2a6d0447dd1",
        "colab": {
          "base_uri": "https://localhost:8080/"
        }
      },
      "outputs": [
        {
          "output_type": "stream",
          "name": "stdout",
          "text": [
            "{\n",
            "    \"total_examples\": 1600,\n",
            "    \"padded_frac\": 0.5325,\n",
            "    \"truncated_frac\": 0.4425,\n",
            "    \"exact_len_frac\": 0.4425\n",
            "}\n"
          ]
        }
      ],
      "source": [
        "stats = trunc_pad_stats(LLM_DistilBERT.train_loader, max_len=256)\n",
        "print(json.dumps(stats, indent=4))"
      ]
    },
    {
      "cell_type": "markdown",
      "id": "3e8d8633",
      "metadata": {
        "id": "3e8d8633"
      },
      "source": [
        "**Constats**\n",
        "\n",
        "* Total d'exemples : 1600 (correspond bien à l'échantillon d'entraînement).\n",
        "* ~52 % paddés → la moitié des séquences originales étaient plus courtes que 256 tokens.\n",
        "* ~45 % tronqués → presque la moitié des séquences atteignent la longueur maximale et ont été coupées.\n",
        "\n",
        "Cela reflète la variabilité naturelle des critiques IMDB : certaines sont très courtes, d'autres très longues."
      ]
    },
    {
      "cell_type": "markdown",
      "id": "91ae86d3",
      "metadata": {
        "id": "91ae86d3"
      },
      "source": [
        "## Sanity Check 4 : Exemple de séquence paddée\n",
        "\n",
        "L'objectif est d'fficher un exemple de séquence paddée afin de vérifier :\n",
        "* que les tokens [PAD] apparaissent bien en fin de séquence,\n",
        "* que le attention_mask les identifie correctement avec des 0."
      ]
    },
    {
      "cell_type": "code",
      "execution_count": 96,
      "id": "5edb7093",
      "metadata": {
        "id": "5edb7093"
      },
      "outputs": [],
      "source": [
        "def show_padded_example(dataloader, tokenizer):\n",
        "    for b in dataloader:\n",
        "        for i in range(b[\"input_ids\"].size(0)):\n",
        "            attn = b[\"attention_mask\"][i]\n",
        "            if attn[-1].item() == 0:  # ends with padding\n",
        "                ids = b[\"input_ids\"][i]\n",
        "                toks = tokenizer.convert_ids_to_tokens(ids)\n",
        "                print(\"...tokens tail:\", toks[-30:])\n",
        "                print(\"...mask tail:\", attn[-30:].tolist())\n",
        "                return\n",
        "    print(\"No padded example found in this pass\")"
      ]
    },
    {
      "cell_type": "code",
      "execution_count": 97,
      "id": "e114f9bb",
      "metadata": {
        "id": "e114f9bb",
        "outputId": "6b65f74b-ea50-4fb6-f301-65f798278b2b",
        "colab": {
          "base_uri": "https://localhost:8080/"
        }
      },
      "outputs": [
        {
          "output_type": "stream",
          "name": "stdout",
          "text": [
            "...tokens tail: ['[PAD]', '[PAD]', '[PAD]', '[PAD]', '[PAD]', '[PAD]', '[PAD]', '[PAD]', '[PAD]', '[PAD]', '[PAD]', '[PAD]', '[PAD]', '[PAD]', '[PAD]', '[PAD]', '[PAD]', '[PAD]', '[PAD]', '[PAD]', '[PAD]', '[PAD]', '[PAD]', '[PAD]', '[PAD]', '[PAD]', '[PAD]', '[PAD]', '[PAD]', '[PAD]']\n",
            "...mask tail: [0, 0, 0, 0, 0, 0, 0, 0, 0, 0, 0, 0, 0, 0, 0, 0, 0, 0, 0, 0, 0, 0, 0, 0, 0, 0, 0, 0, 0, 0]\n"
          ]
        }
      ],
      "source": [
        "show_padded_example(\n",
        "    LLM_DistilBERT.train_loader, LLM_DistilBERT.tokenizer\n",
        ")"
      ]
    },
    {
      "cell_type": "markdown",
      "id": "a797c058",
      "metadata": {
        "id": "a797c058"
      },
      "source": [
        "**Constats**\n",
        "\n",
        "* Les tokens [PAD] sont bien ajoutés en fin de séquence.\n",
        "* Le attention_mask marque correctement ces positions comme 0 (ignorées par le modèle).\n",
        "* Cela confirme que le DataCollator gère bien le padding dynamique et que le modèle ne tiendra pas compte des zones vides."
      ]
    },
    {
      "cell_type": "markdown",
      "id": "4IomaFZ8cbyr",
      "metadata": {
        "id": "4IomaFZ8cbyr"
      },
      "source": [
        "## Récapitulatif des Sanity Checks\n",
        "\n",
        "| Sanity Check | Vérification                                                   | Résultat                                                      |\n",
        "| ------------ | -------------------------------------------------------------- | ------------------------------------------------------------- |\n",
        "| **1**        | Cohérence des batchs (`input_ids`, `attention_mask`, `labels`) | ✅ Dimensions correctes, tokens lisibles, labels présents      |\n",
        "| **2**        | Présence des tokens spéciaux `[CLS]`, `[SEP]`                  | ✅ Spéciaux correctement insérés                               |\n",
        "| **3**        | Statistiques de padding et troncature                          | ✅ \\~52% paddés, \\~45% tronqués (dataset équilibré)            |\n",
        "| **4**        | Exemple de séquence paddée                                     | ✅ `[PAD]` bien ajoutés en fin, `attention_mask=0` sur padding |"
      ]
    },
    {
      "cell_type": "markdown",
      "id": "6c87a3c5",
      "metadata": {
        "id": "6c87a3c5"
      },
      "source": [
        "## Inference Helper\n",
        "\n",
        "Une fois le modèle **fine-tuné**, il peut être utiliser en **inférence** afin de prédire le sentiment de nouveaux textes.\n",
        "\n",
        "L'idée est simple :\n",
        "\n",
        "* Entrée : du texte brut (ex. une critique de film).\n",
        "* Le texte est **tokenizé** puis converti en tenseurs (`input_ids`, `attention_mask`).\n",
        "* Le modèle produit des **logits** qui sont transformés en probabilités (`softmax`).\n",
        "* Sortie : un label (`positive` ou `negative`) accompagné des probabilités associées.\n",
        "\n",
        "Cette étape illustre comment exploiter un modèle entraîné pour réaliser des prédictions concrètes sur des données inédites.\n",
        "\n",
        "Il est désormais possible de soumettre du texte brut à notre modèle fine-tuné et obtenir une prédiction de sentiment.\n",
        "La méthode `predict_sentiment` renvoie :\n",
        "* le texte d'entrée,\n",
        "* le label prédit (positive ou negative),\n",
        "* les probabilités associées à chaque classe.\n"
      ]
    },
    {
      "cell_type": "code",
      "execution_count": 98,
      "id": "0f57aa59",
      "metadata": {
        "id": "0f57aa59",
        "outputId": "4a6bb2d8-d147-4812-c02f-56969c85a47a",
        "colab": {
          "base_uri": "https://localhost:8080/"
        }
      },
      "outputs": [
        {
          "output_type": "stream",
          "name": "stdout",
          "text": [
            "{\n",
            "    \"text\": \"I absolutely loved this movie, it was fantastic!\",\n",
            "    \"pred_label\": \"positive\",\n",
            "    \"probabilities\": {\n",
            "        \"negative\": 0.0020038119982928038,\n",
            "        \"positive\": 0.9979962110519409\n",
            "    }\n",
            "}\n",
            "{\n",
            "    \"text\": \"This was the worst film I have ever seen.\",\n",
            "    \"pred_label\": \"negative\",\n",
            "    \"probabilities\": {\n",
            "        \"negative\": 0.9976536631584167,\n",
            "        \"positive\": 0.002346399473026395\n",
            "    }\n",
            "}\n"
          ]
        }
      ],
      "source": [
        "print(\n",
        "    json.dumps(\n",
        "        LLM_DistilBERT.predict_sentiment(\n",
        "            \"I absolutely loved this movie, it was fantastic!\"\n",
        "        ),\n",
        "        indent=4,\n",
        "    )\n",
        ")\n",
        "print(\n",
        "    json.dumps(\n",
        "        LLM_DistilBERT.predict_sentiment(\n",
        "            \"This was the worst film I have ever seen.\"\n",
        "        ),\n",
        "        indent=4,\n",
        "    )\n",
        ")"
      ]
    },
    {
      "cell_type": "markdown",
      "id": "NdqD_poydz-g",
      "metadata": {
        "id": "NdqD_poydz-g"
      },
      "source": [
        "Le modèle attribue correctement un sentiment positif à la première phrase et un sentiment négatif à la seconde, avec une très forte confiance."
      ]
    },
    {
      "cell_type": "markdown",
      "id": "CUYyU2vveCGr",
      "metadata": {
        "id": "CUYyU2vveCGr"
      },
      "source": [
        "## Rechargement du modèle sauvegardé\n",
        "\n",
        "Après l'entraînement, nous avons sauvegardé le meilleur modèle dans `./distilbert-best`.\n",
        "Nous pouvons maintenant le recharger pour l'utiliser en inférence, sans devoir réexécuter toute la phase de fine-tuning.\n",
        "\n",
        "Le code ci-dessous se divise de la manière suivante :\n",
        "\n",
        "* `LLMFineTuner(pretrained_model_name_or_path=model_path)` : on instancie une nouvelle classe en pointant vers le modèle sauvegardé.\n",
        "\n",
        "* `set_tokenizer()` : recharge le tokenizer utilisé à l'entraînement.\n",
        "\n",
        "* `set_model()` : recharge la configuration et les poids du modèle.\n",
        "\n",
        "* `model.eval()` : place le modèle en mode évaluation/inférence (désactive dropout, batchnorm, etc.)."
      ]
    },
    {
      "cell_type": "code",
      "execution_count": 99,
      "id": "4aaf6411",
      "metadata": {
        "id": "4aaf6411",
        "outputId": "2f3b5b41-e165-4db9-de5c-4cda7b3801b7",
        "colab": {
          "base_uri": "https://localhost:8080/"
        }
      },
      "outputs": [
        {
          "output_type": "execute_result",
          "data": {
            "text/plain": [
              "DistilBertForSequenceClassification(\n",
              "  (distilbert): DistilBertModel(\n",
              "    (embeddings): Embeddings(\n",
              "      (word_embeddings): Embedding(30522, 768, padding_idx=0)\n",
              "      (position_embeddings): Embedding(512, 768)\n",
              "      (LayerNorm): LayerNorm((768,), eps=1e-12, elementwise_affine=True)\n",
              "      (dropout): Dropout(p=0.1, inplace=False)\n",
              "    )\n",
              "    (transformer): Transformer(\n",
              "      (layer): ModuleList(\n",
              "        (0-5): 6 x TransformerBlock(\n",
              "          (attention): DistilBertSdpaAttention(\n",
              "            (dropout): Dropout(p=0.1, inplace=False)\n",
              "            (q_lin): Linear(in_features=768, out_features=768, bias=True)\n",
              "            (k_lin): Linear(in_features=768, out_features=768, bias=True)\n",
              "            (v_lin): Linear(in_features=768, out_features=768, bias=True)\n",
              "            (out_lin): Linear(in_features=768, out_features=768, bias=True)\n",
              "          )\n",
              "          (sa_layer_norm): LayerNorm((768,), eps=1e-12, elementwise_affine=True)\n",
              "          (ffn): FFN(\n",
              "            (dropout): Dropout(p=0.1, inplace=False)\n",
              "            (lin1): Linear(in_features=768, out_features=3072, bias=True)\n",
              "            (lin2): Linear(in_features=3072, out_features=768, bias=True)\n",
              "            (activation): GELUActivation()\n",
              "          )\n",
              "          (output_layer_norm): LayerNorm((768,), eps=1e-12, elementwise_affine=True)\n",
              "        )\n",
              "      )\n",
              "    )\n",
              "  )\n",
              "  (pre_classifier): Linear(in_features=768, out_features=768, bias=True)\n",
              "  (classifier): Linear(in_features=768, out_features=2, bias=True)\n",
              "  (dropout): Dropout(p=0.2, inplace=False)\n",
              ")"
            ]
          },
          "metadata": {},
          "execution_count": 99
        }
      ],
      "source": [
        "model_path = \"./distilbert-best\"\n",
        "LLM_DistilBERT_best = LLMFineTuner(pretrained_model_name_or_path=model_path)\n",
        "LLM_DistilBERT_best.set_tokenizer()\n",
        "LLM_DistilBERT_best.set_model()\n",
        "LLM_DistilBERT_best.model.eval()"
      ]
    },
    {
      "cell_type": "markdown",
      "id": "B7XjXThZeg9G",
      "metadata": {
        "id": "B7XjXThZeg9G"
      },
      "source": [
        "Vérifions à présent que le modèle fonctionne correctement."
      ]
    },
    {
      "cell_type": "code",
      "execution_count": 100,
      "id": "bc503123",
      "metadata": {
        "id": "bc503123",
        "outputId": "650c37c2-927e-412b-f46e-aec9ba683dcf",
        "colab": {
          "base_uri": "https://localhost:8080/"
        }
      },
      "outputs": [
        {
          "output_type": "stream",
          "name": "stdout",
          "text": [
            "{\n",
            "    \"text\": \"I absolutely loved this movie, it was fantastic!\",\n",
            "    \"pred_label\": \"positive\",\n",
            "    \"probabilities\": {\n",
            "        \"negative\": 0.0020038119982928038,\n",
            "        \"positive\": 0.9979962110519409\n",
            "    }\n",
            "}\n",
            "{\n",
            "    \"text\": \"This was the worst film I have ever seen.\",\n",
            "    \"pred_label\": \"negative\",\n",
            "    \"probabilities\": {\n",
            "        \"negative\": 0.9976536631584167,\n",
            "        \"positive\": 0.002346399473026395\n",
            "    }\n",
            "}\n"
          ]
        }
      ],
      "source": [
        "print(\n",
        "    json.dumps(\n",
        "        LLM_DistilBERT_best.predict_sentiment(\n",
        "            \"I absolutely loved this movie, it was fantastic!\"\n",
        "        ),\n",
        "        indent=4,\n",
        "    )\n",
        ")\n",
        "print(\n",
        "    json.dumps(\n",
        "        LLM_DistilBERT_best.predict_sentiment(\n",
        "            \"This was the worst film I have ever seen.\"\n",
        "        ),\n",
        "        indent=4,\n",
        "    )\n",
        ")"
      ]
    },
    {
      "cell_type": "markdown",
      "id": "SP7y9-YKen3c",
      "metadata": {
        "id": "SP7y9-YKen3c"
      },
      "source": [
        "La première phrase est caractérisée comme positive tandis que la seconde comme négative : **le modèle sauvegardé utilisé en inférence est bien valide**.\n",
        "Appliquons ce modèle sur plusieurs phrases"
      ]
    },
    {
      "cell_type": "code",
      "execution_count": 101,
      "id": "75a787c0",
      "metadata": {
        "id": "75a787c0",
        "outputId": "882e2794-aad5-4114-d5c8-4dad91289d28",
        "colab": {
          "base_uri": "https://localhost:8080/"
        }
      },
      "outputs": [
        {
          "output_type": "stream",
          "name": "stdout",
          "text": [
            "{\n",
            "    \"text\": \"I absolutely loved this movie, it was fantastic!\",\n",
            "    \"pred_label\": \"positive\",\n",
            "    \"probabilities\": {\n",
            "        \"negative\": 0.0020038119982928038,\n",
            "        \"positive\": 0.9979962110519409\n",
            "    }\n",
            "}\n",
            "{\n",
            "    \"text\": \"This was the worst film I have ever seen.\",\n",
            "    \"pred_label\": \"negative\",\n",
            "    \"probabilities\": {\n",
            "        \"negative\": 0.9976536631584167,\n",
            "        \"positive\": 0.002346399473026395\n",
            "    }\n",
            "}\n",
            "{\n",
            "    \"text\": \"The acting was decent but the story was too slow.\",\n",
            "    \"pred_label\": \"negative\",\n",
            "    \"probabilities\": {\n",
            "        \"negative\": 0.998029887676239,\n",
            "        \"positive\": 0.001970129320397973\n",
            "    }\n",
            "}\n",
            "{\n",
            "    \"text\": \"What a masterpiece - I'd watch it again and again!\",\n",
            "    \"pred_label\": \"positive\",\n",
            "    \"probabilities\": {\n",
            "        \"negative\": 0.0023931830655783415,\n",
            "        \"positive\": 0.9976067543029785\n",
            "    }\n",
            "}\n"
          ]
        }
      ],
      "source": [
        "reviews = [\n",
        "    \"I absolutely loved this movie, it was fantastic!\",\n",
        "    \"This was the worst film I have ever seen.\",\n",
        "    \"The acting was decent but the story was too slow.\",\n",
        "    \"What a masterpiece - I'd watch it again and again!\",\n",
        "]\n",
        "\n",
        "batch_results = LLM_DistilBERT_best.predict_batch(reviews)\n",
        "for res in batch_results:\n",
        "    print(json.dumps(res, indent=4))"
      ]
    },
    {
      "cell_type": "markdown",
      "id": "0H4thgV0f-yL",
      "metadata": {
        "id": "0H4thgV0f-yL"
      },
      "source": [
        "Les cinq phrases sont correctement catégorisées.\n",
        "\n",
        "Le tableau ci-dessous résume les étapes opérées jusqu'à présent.\n",
        "\n",
        "| Step                            | Description                                                                                |\n",
        "| ------------------------------- | ------------------------------------------------------------------------------------------ |\n",
        "| **1. Preprocessing & batching** | Préparation du dataset, tokenisation, padding dynamique, DataLoader                        |\n",
        "| **2. Training & validation**    | Apprentissage du modèle DistilBERT avec suivi des métriques                                |\n",
        "| **3. Model checkpointing**      | Sauvegarde du **meilleur modèle** basé sur la validation loss                              |\n",
        "| **4. Inference (single)**       | Utilisation du modèle fine-tuné pour prédire le sentiment d'un texte brut (exemple unique) |\n",
        "| **5. Inference (batch)**        | Prédiction du sentiment sur plusieurs textes en une seule passe                            |\n",
        "\n",
        "Après avoir complété le fine-tuning et l'évaluation de `DistilBERT` sur notre tâche de classification de sentiments, nous allons maintenant explorer un autre modèle : `RoBERTa`.\n",
        "\n",
        "L'objectif est de comparer les performances et le comportement de ces deux architectures, en mettant en évidence :\n",
        "* les différences de taille et de capacité,\n",
        "* les variations dans la tokenisation,\n",
        "* les effets liés au pré-entraînement."
      ]
    },
    {
      "cell_type": "markdown",
      "id": "224eb226",
      "metadata": {
        "id": "224eb226"
      },
      "source": [
        "## Choix d'un nouveau modèle : `RoBERTa`\n",
        "\n",
        "Après avoir travaillé avec `DistilBERT`, nous allons maintenant passer à `RoBERTa` afin de comparer les performances et d'analyser l'impact du choix du modèle.\n",
        "\n",
        "Le choix s'est porté sur `RoBERTa` pour les raisons suivantes :\n",
        "\n",
        "* **Plus grand modèle** que DistilBERT, avec davantage de paramètres.\n",
        "* **Tokenizer différent**, qui repose sur la méthode BPE (Byte-Pair Encoding).\n",
        "* **Pré-entraînement différent**, basé sur de larges corpus et des stratégies d'entraînement optimisées.\n",
        "\n",
        "Cette étape permettra de :\n",
        "\n",
        "1. Recharger le jeu de données et adapter la tokenisation.\n",
        "2. Entraîner RoBERTa sur le même cas d'usage (sentiment analysis).\n",
        "3. Comparer ses résultats à ceux obtenus avec DistilBERT.\n",
        "\n",
        "Exploitons la classe `LLMFineTuner` pour instancier et configurer un nouveau modèle : `RoBERTa-base`.\n",
        "\n",
        "Pour cela :\n",
        "\n",
        "* Nous choisissons roberta-base comme modèle de comparaison (mais d'autres modèles comme bert-base-uncased ou MiniLM pourraient aussi être testés).\n",
        "* Nous rechargeons le même dataset que pour DistilBERT afin de garder une base de comparaison cohérente.\n",
        "* Nous utilisons l'AutoTokenizer et l'AutoModelForSequenceClassification, car RoBERTa a un tokenizer et une architecture légèrement différents de DistilBERT.\n"
      ]
    },
    {
      "cell_type": "code",
      "execution_count": 102,
      "id": "f57b138c",
      "metadata": {
        "id": "f57b138c",
        "outputId": "c2b2acc2-a104-482f-f9bb-a64d9f7122eb",
        "colab": {
          "base_uri": "https://localhost:8080/"
        }
      },
      "outputs": [
        {
          "output_type": "stream",
          "name": "stdout",
          "text": [
            "Tokenizer AutoTokenizer loaded from roberta-base\n"
          ]
        },
        {
          "output_type": "stream",
          "name": "stderr",
          "text": [
            "Some weights of RobertaForSequenceClassification were not initialized from the model checkpoint at roberta-base and are newly initialized: ['classifier.dense.bias', 'classifier.dense.weight', 'classifier.out_proj.bias', 'classifier.out_proj.weight']\n",
            "You should probably TRAIN this model on a down-stream task to be able to use it for predictions and inference.\n"
          ]
        },
        {
          "output_type": "stream",
          "name": "stdout",
          "text": [
            "Model AutoModelForSequenceClassification loaded with 2 labels.\n"
          ]
        }
      ],
      "source": [
        "model_name = \"roberta-base\"\n",
        "LLM_RoBERTa_256 = LLMFineTuner(\n",
        "    model_cls=AutoModelForSequenceClassification,\n",
        "    pretrained_model_name_or_path=model_name,\n",
        "    tokenizer_cls=AutoTokenizer,\n",
        ")\n",
        "LLM_RoBERTa_256.set_dataset()\n",
        "LLM_RoBERTa_256.set_tokenizer(verbose=True)\n",
        "LLM_RoBERTa_256.set_model(verbose=True)"
      ]
    },
    {
      "cell_type": "code",
      "execution_count": 103,
      "id": "c30d9786",
      "metadata": {
        "id": "c30d9786",
        "outputId": "ea86fa7b-4d27-44c4-a084-ce8a4cb097ed",
        "colab": {
          "base_uri": "https://localhost:8080/"
        }
      },
      "outputs": [
        {
          "output_type": "stream",
          "name": "stdout",
          "text": [
            "[roberta-base] Total params: 124.6M | Trainable: 124.6M | Device: cuda:0\n"
          ]
        }
      ],
      "source": [
        "total_params, trainable_params = LLM_RoBERTa_256.count_parameters()\n",
        "print(\n",
        "    f\"[{model_name}] Total params: {total_params/1e6:.1f}M | \"\n",
        "    f\"Trainable: {trainable_params/1e6:.1f}M | \"\n",
        "    f\"Device: {next(LLM_RoBERTa_256.model.parameters()).device}\"\n",
        ")"
      ]
    },
    {
      "cell_type": "markdown",
      "id": "8b99cea3",
      "metadata": {
        "id": "8b99cea3"
      },
      "source": [
        "### Comparaison `DistilBERT` et `RoBERTa-base`\n",
        "\n",
        "| Propriété                                     | `DistilBERT` (base-uncased)                                               | `RoBERTa-base`                                                |\n",
        "| --------------------------------------------- | --------------------------------------------------------------------------- | --------------------------------------------------------------- |\n",
        "| **Nombre de couches (encodeurs Transformer)** | 6                                                                           | 12                                                              |\n",
        "| **Taille cachée $d_\\text{model}$**         | 768                                                                         | 768                                                             |\n",
        "| **Têtes d’attention**                         | 12                                                                          | 12                                                              |\n",
        "| **Dimension par tête**                        | 64                                                                          | 64                                                              |\n",
        "| **Taille de la couche FFN / intermédiaire**   | 3072                                                                        | 3072                                                            |\n",
        "| **Nombre de paramètres (approx.)**            | \\~66M                                                                       | \\~125M                                                          |\n",
        "| **Longueur maximale des séquences**           | 512                                                                         | 514\\* (généralement utilisé comme 512)                          |\n",
        "| **Embeddings positionnels**                   | Appris (absolus)                                                            | Appris (absolus)                                                |\n",
        "| **Tokenizer & vocabulaire**                   | WordPiece (30 522 tokens), *minuscules*                                     | BPE au niveau des octets (50 265 tokens), *sensible à la casse* |\n",
        "| **Embeddings de segment (token type)**        | Non utilisés (le tokenizer peut en générer, mais le modèle les ignore)      | Non utilisés                                                    |\n",
        "| **Tokens spéciaux**                           | `[CLS]`, `[SEP]`, `[PAD]`, `[MASK]`                                         | `<s>`, `</s>`, `<pad>`, `<mask>`                                |\n",
        "| **Objectif de pré-entraînement**              | Masked LM + distillation depuis BERT-base (pertes KL + cosinus, pas de NSP) | Masked LM uniquement, **masquage dynamique**, pas de NSP        |\n",
        "| **Corpora de pré-entraînement (haut niveau)** | Wikipedia + BookCorpus (via BERT enseignant)                                | Plus large : BookCorpus, CC-News, OpenWebText, Stories          |\n",
        "| **Vitesse d'inférence typique**               | Plus rapide (moitié moins de couches)                                       | Plus lente (architecture plus profonde)                         |\n",
        "| **Mémoire / VRAM typique**                    | Plus faible                                                                 | Plus élevée                                                     |\n",
        "| **Compromis pratique**                        | Efficace, avec \\~95-97% de la précision de BERT-base                        | Précision brute plus forte, mais coût computationnel plus élevé |\n",
        "\n",
        "### Points clefs à retenir\n",
        "\n",
        "* **Capacité** : `RoBERTa-base` possède environ **2x plus de couches** et **2x plus de paramètres** que `DistilBERT` : en théorie, un plafond de performance plus élevé.\n",
        "* **Efficacité** : `DistilBERT` est bien plus **léger et rapide**, idéal lorsque la latence ou la mémoire (VRAM) sont critiques.\n",
        "* **Tokenisation** : WordPiece (*sans casse*) vs BPE au niveau des octets (*sensible à la casse*) : impact potentiel sur le traitement des tokens rares ou Unicode.\n",
        "* **Objectifs d'entraînement** : `DistilBERT` bénéficie de la **distillation** depuis BERT-base, tandis que `RoBERTa` mise sur un **MLM plus robuste** (masquage dynamique) et un **corpus d'entraînement plus large**.\n",
        "\n",
        "**Elements de précision sur le masquage dynamique** :\n",
        "\n",
        "Le **masquage dynamique** (*dynamic masking*) est une différence importante entre BERT/DistilBERT et RoBERTa.\n",
        "\n",
        "* **BERT / DistilBERT** : utilisent du **masquage statique** :\n",
        "  Lors de la création du dataset de pré-entraînement, les *tokens* qui devront être remplacés par `[MASK]` sont choisis à l'avance. Chaque fois qu'une phrase est réutilisée à l'entraînement, ce sont toujours les mêmes positions qui sont masquées.\n",
        "\n",
        "* **RoBERTa** : utilise du **masquage dynamique** :\n",
        "  À chaque passage d'un même texte pendant l'entraînement, les tokens masqués sont choisis **aléatoirement à nouveau**. Ainsi, un même texte peut fournir plusieurs exemples de masquage différents.\n",
        "\n",
        "**Conséquence** :\n",
        "\n",
        "* RoBERTa « voit » beaucoup plus de combinaisons et apprend des représentations plus robustes.\n",
        "* Cela augmente l'efficacité de l'entraînement et améliore la généralisation.\n",
        "\n"
      ]
    },
    {
      "cell_type": "markdown",
      "id": "3c7dc914",
      "metadata": {
        "id": "3c7dc914"
      },
      "source": [
        "## Reconstruction du dataset & des DataLoaders pour le nouveau modèle\n",
        "\n",
        "Comme nous utilisons désormais le tokenizer de `RoBERTa`, il est nécessaire de :\n",
        "* Re-tokeniser le dataset avec ce nouveau tokenizer,\n",
        "* Recréer le `DataCollator` (pour gérer le *padding* dynamique et l'*attention mask*),\n",
        "* Reconstruire les DataLoaders pour l'entraînement et la validation.\n",
        "\n",
        "Cette étape garantit que les deux modèles (`DistilBERT` et `RoBERTa`) soient comparés dans des conditions identiques."
      ]
    },
    {
      "cell_type": "code",
      "execution_count": 104,
      "id": "e6629402",
      "metadata": {
        "id": "e6629402",
        "outputId": "288a0ce4-2e20-4e55-dd69-19524cb833c5",
        "colab": {
          "base_uri": "https://localhost:8080/",
          "height": 49,
          "referenced_widgets": [
            "705237f65adf4e02bd6864d5f45d2b37",
            "3ac1ae00089a406d9f49e72893662f12",
            "805273fc6a6c4f5eb03a5c434994aa3c",
            "cd692db9630d46388319550fc319f7ee",
            "b23f1524170c4310b316e9100a4ed54c",
            "cc988d4e6dfd4892ab62688f811de1e9",
            "32a4cfcf2f7c421e9766187fe3d8d133",
            "a5c621f45dbc4cc5a6a98584d22ae304",
            "24b45acee01548c7abb63ad6eb5447d4",
            "970befc6890c40f5afe8d14d47c78dfc",
            "a46eff1ffd804f988bbfb3d069e2ece7"
          ]
        }
      },
      "outputs": [
        {
          "output_type": "display_data",
          "data": {
            "text/plain": [
              "Map:   0%|          | 0/2000 [00:00<?, ? examples/s]"
            ],
            "application/vnd.jupyter.widget-view+json": {
              "version_major": 2,
              "version_minor": 0,
              "model_id": "705237f65adf4e02bd6864d5f45d2b37"
            }
          },
          "metadata": {}
        }
      ],
      "source": [
        "LLM_RoBERTa_256.split_dataset()"
      ]
    },
    {
      "cell_type": "markdown",
      "id": "0edeec59",
      "metadata": {
        "id": "0edeec59"
      },
      "source": [
        "### Points à noter\n",
        "\n",
        "* **Différences de tokenisation** : RoBERTa utilise la **BPE au niveau des octets** et des tokens spéciaux différents (`<s>`, `</s>`, `<pad>`, `<mask>`).\n",
        "* **ID de padding** : pour RoBERTa, l'ID associé à `<pad>` est généralement **1** (alors qu'il est **0** pour DistilBERT/BERT). L'utilisation de `tokenizer.pad` permet d'éviter de coder cet ID en dur et prévient des erreurs dans les masques d'attention.\n",
        "* **Longueur maximale** : il est important de conserver la même valeur de `MAX_LEN` (ici **256**) que dans l'expérience DistilBERT afin de garantir une **comparaison équitable**. Sinon, on mélangerait l'effet de la **capacité du modèle** avec celui de la **longueur de contexte**.\n",
        "\n",
        "Après avoir reconstruit le dataset tokenisé pour RoBERTa, nous devons :\n",
        "* Initialiser un nouveau DataCollator compatible avec son tokenizer,\n",
        "* Créer les DataLoaders pour l'entraînement et la validation."
      ]
    },
    {
      "cell_type": "code",
      "execution_count": 105,
      "id": "df832800",
      "metadata": {
        "id": "df832800"
      },
      "outputs": [],
      "source": [
        "LLM_RoBERTa_256.set_data_collator()\n",
        "LLM_RoBERTa_256.set_loaders()"
      ]
    },
    {
      "cell_type": "code",
      "execution_count": 106,
      "id": "8b5c7a35",
      "metadata": {
        "id": "8b5c7a35",
        "outputId": "16b674aa-294f-4b6b-f15b-2179ca5ccd31",
        "colab": {
          "base_uri": "https://localhost:8080/"
        }
      },
      "outputs": [
        {
          "output_type": "stream",
          "name": "stdout",
          "text": [
            "Pad token ID: 1\n",
            "Special tokens:\n",
            " {\n",
            "  \"bos_token\": \"<s>\",\n",
            "  \"eos_token\": \"</s>\",\n",
            "  \"unk_token\": \"<unk>\",\n",
            "  \"sep_token\": \"</s>\",\n",
            "  \"pad_token\": \"<pad>\",\n",
            "  \"cls_token\": \"<s>\",\n",
            "  \"mask_token\": \"<mask>\"\n",
            "}\n",
            "Train, valid sizes: 1600, 400\n"
          ]
        }
      ],
      "source": [
        "print(\n",
        "    f\"Pad token ID: {LLM_RoBERTa_256.tokenizer.pad_token_id}\\n\"\n",
        "    f\"Special tokens:\\n {json.dumps(LLM_RoBERTa_256.tokenizer.special_tokens_map, indent=2)}\\n\"\n",
        "    f\"Train, valid sizes: {LLM_RoBERTa_256.n_train}, {LLM_RoBERTa_256.n_valid}\"\n",
        ")"
      ]
    },
    {
      "cell_type": "markdown",
      "id": "c95afcf8",
      "metadata": {
        "id": "c95afcf8"
      },
      "source": [
        "### Observations\n",
        "\n",
        "* **ID du padding** : `1` (RoBERTa) au lieu de `0` (DistilBERT/BERT).\n",
        "* **Tokens spéciaux** (propres à RoBERTa) :\n",
        "\n",
        "  * `<s>` = `[CLS]`\n",
        "  * `</s>` = `[SEP]`\n",
        "  * `<pad>` = `[PAD]`\n",
        "  * `<mask>` = `[MASK]`\n",
        "* **Répartition des données** :\n",
        "\n",
        "  * Entraînement : **1600 exemples**\n",
        "  * Validation : **400 exemples**\n",
        "\n",
        "Après avoir préparé le *dataset* et les *DataLoaders*, la prochaine étape consiste à :\n",
        "* Définir l'optimiseur (AdamW), qui ajustera les poids du modèle en fonction de la perte.\n",
        "* Mettre en place le *scheduler*, qui modulera le taux d'apprentissage au cours de l'entraînement (phase de *warmup* suivie d'une décroissance).\n",
        "\n",
        "Cette étape assure une stabilisation de l'entraînement et permet à `RoBERTa` d'apprendre efficacement sans sur-ajuster trop vite."
      ]
    },
    {
      "cell_type": "code",
      "execution_count": 107,
      "id": "eb6a8ee9",
      "metadata": {
        "id": "eb6a8ee9"
      },
      "outputs": [],
      "source": [
        "LLM_RoBERTa_256.set_optimizer()\n",
        "LLM_RoBERTa_256.set_scheduler()"
      ]
    },
    {
      "cell_type": "code",
      "execution_count": 108,
      "id": "210fba47",
      "metadata": {
        "id": "210fba47",
        "outputId": "b6406cb8-83dd-4e3a-e7ac-6463fc68d085",
        "colab": {
          "base_uri": "https://localhost:8080/"
        }
      },
      "outputs": [
        {
          "output_type": "stream",
          "name": "stdout",
          "text": [
            "[roberta-base] steps=1200, warmup=120\n"
          ]
        }
      ],
      "source": [
        "print(\n",
        "    f\"[{model_name}] steps={LLM_RoBERTa_256.num_total_steps}, warmup={LLM_RoBERTa_256.num_warmup_steps}\"\n",
        ")"
      ]
    },
    {
      "cell_type": "markdown",
      "id": "672b0f07",
      "metadata": {
        "id": "672b0f07"
      },
      "source": [
        "### Points à retenir\n",
        "\n",
        "* Pour comparer correctement les deux modèles, il est important de **conserver les mêmes hyperparamètres** (learning rate, weight decay, nombre d'époques).\n",
        "* Si `RoBERTa` obtenait de moins bons résultats avec `2e-5`, il pourrait être pertinent d'essayer un **taux d'apprentissage plus petit** (`1e-5`), car les modèles plus grands ont souvent besoin de pas plus fins pour converger correctement.\n",
        "\n",
        "## Éléments théoriques\n",
        "\n",
        "Avant de lancer l'entraînement de **RoBERTa**, rappelons rapidement les notions clés impliquées :\n",
        "\n",
        "### Forward pass\n",
        "\n",
        "* La séquence d'entrée est **tokenisée** puis passée dans l'encodeur Transformer.\n",
        "* Le vecteur associé au token spécial (`[CLS]` pour BERT / `<s>` pour RoBERTa) est utilisé comme **représentation globale**.\n",
        "* Une **tête de classification** (couche linéaire) produit les logits :\n",
        "\n",
        "$$\n",
        "z = W h_{\\text{CLS}} + b\n",
        "$$\n",
        "\n",
        "### Softmax : Probabilités\n",
        "\n",
        "Les logits sont transformés en probabilités pour chaque classe (binaire ici) :\n",
        "\n",
        "$$\n",
        "\\hat{y}_i = \\frac{e^{z_i}}{\\sum_{j=1}^C e^{z_j}}, \\quad C=2\n",
        "$$\n",
        "\n",
        "### Fonction de perte\n",
        "\n",
        "Avec l'entropie croisée :\n",
        "\n",
        "$$\n",
        "L = - \\Big( y \\cdot \\log(\\hat{y}_1) + (1-y) \\cdot \\log(\\hat{y}_0) \\Big)\n",
        "$$\n",
        "\n",
        "### Backpropagation\n",
        "\n",
        "Les gradients des poids sont calculés via la règle de la chaîne :\n",
        "\n",
        "$$\n",
        "\\nabla_w L = \\frac{\\partial L}{\\partial w}\n",
        "$$\n",
        "\n",
        "### Gradient clipping\n",
        "\n",
        "Pour stabiliser l'apprentissage, les gradients trop grands sont réduits :\n",
        "\n",
        "$$\n",
        "g \\leftarrow \\frac{g}{\\max(1, \\tfrac{\\|g\\|}{\\tau})}\n",
        "$$\n",
        "\n",
        "### Optimisation (AdamW)\n",
        "\n",
        "L'optimiseur maintient des moyennes mobiles des gradients :\n",
        "\n",
        "$$\n",
        "m_t = \\beta_1 m_{t-1} + (1 - \\beta_1) g_t\n",
        "$$\n",
        "\n",
        "$$\n",
        "v_t = \\beta_2 v_{t-1} + (1 - \\beta_2) g_t^2\n",
        "$$\n",
        "\n",
        "Après correction de biais :\n",
        "\n",
        "$$\n",
        "\\hat{m}_t = \\frac{m_t}{1 - \\beta_1^t}, \\quad\n",
        "\\hat{v}_t = \\frac{v_t}{1 - \\beta_2^t}\n",
        "$$\n",
        "\n",
        "Mise à jour des poids avec décroissance :\n",
        "\n",
        "$$\n",
        "w_t = w_{t-1} - \\eta \\cdot \\frac{\\hat{m}_t}{\\sqrt{\\hat{v}_t} + \\epsilon} - \\eta \\cdot \\lambda w_{t-1}\n",
        "$$\n",
        "\n",
        "### Scheduler (Warmup + Decay)\n",
        "\n",
        "Le taux d'apprentissage évolue en deux phases :\n",
        "\n",
        "$$\n",
        "\\text{lr}(t) =\n",
        "\\begin{cases}\n",
        "  \\eta \\cdot \\frac{t}{T_\\text{warmup}} & \\text{si } t < T_\\text{warmup} \\\\\\\\\n",
        "  \\eta \\cdot \\left(1 - \\frac{t - T_\\text{warmup}}{T_\\text{total} - T_\\text{warmup}}\\right) & \\text{si } t \\geq T_\\text{warmup}\n",
        "\\end{cases}\n",
        "$$\n",
        "\n",
        "Cette combinaison (AdamW + Scheduler) est devenue **le standard de facto** pour entraîner efficacement les modèles Transformers.\n",
        "\n",
        "Abordons à présent la phase de validation et d'entraînement de sorte à sélectionner le meilleur modèle et le confronter à `DistilBert`."
      ]
    },
    {
      "cell_type": "markdown",
      "id": "65425e3d",
      "metadata": {
        "id": "65425e3d"
      },
      "source": [
        "## Validate and train"
      ]
    },
    {
      "cell_type": "code",
      "execution_count": 109,
      "id": "4c01a147",
      "metadata": {
        "id": "4c01a147",
        "outputId": "4ca39134-da93-4387-f4fe-07d74bf2344b",
        "colab": {
          "base_uri": "https://localhost:8080/",
          "height": 677
        }
      },
      "outputs": [
        {
          "output_type": "stream",
          "name": "stderr",
          "text": [
            "You're using a RobertaTokenizerFast tokenizer. Please note that with a fast tokenizer, using the `__call__` method is faster than using a method to encode the text followed by a call to the `pad` method to get a padded encoding.\n"
          ]
        },
        {
          "output_type": "stream",
          "name": "stdout",
          "text": [
            "\n",
            "Epoch 1/3\n",
            "  Training loss: 0.6207\n",
            "  Validation loss: 0.4095 | Accuracy: 0.8950\n",
            "Saved new best model to ./roberta-best\n",
            "\n",
            "Epoch 2/3\n",
            "  Training loss: 0.3634\n",
            "  Validation loss: 0.3743 | Accuracy: 0.9175\n",
            "Saved new best model to ./roberta-best\n",
            "\n",
            "Epoch 3/3\n",
            "  Training loss: 0.1674\n",
            "  Validation loss: 0.3969 | Accuracy: 0.9275\n"
          ]
        },
        {
          "output_type": "display_data",
          "data": {
            "text/plain": [
              "<Figure size 1200x400 with 2 Axes>"
            ],
            "image/svg+xml": "<?xml version=\"1.0\" encoding=\"utf-8\" standalone=\"no\"?>\n<!DOCTYPE svg PUBLIC \"-//W3C//DTD SVG 1.1//EN\"\n  \"http://www.w3.org/Graphics/SVG/1.1/DTD/svg11.dtd\">\n<svg xmlns:xlink=\"http://www.w3.org/1999/xlink\" width=\"720.58125pt\" height=\"281.634375pt\" viewBox=\"0 0 720.58125 281.634375\" xmlns=\"http://www.w3.org/2000/svg\" version=\"1.1\">\n <metadata>\n  <rdf:RDF xmlns:dc=\"http://purl.org/dc/elements/1.1/\" xmlns:cc=\"http://creativecommons.org/ns#\" xmlns:rdf=\"http://www.w3.org/1999/02/22-rdf-syntax-ns#\">\n   <cc:Work>\n    <dc:type rdf:resource=\"http://purl.org/dc/dcmitype/StillImage\"/>\n    <dc:date>2025-09-14T13:17:46.561126</dc:date>\n    <dc:format>image/svg+xml</dc:format>\n    <dc:creator>\n     <cc:Agent>\n      <dc:title>Matplotlib v3.10.0, https://matplotlib.org/</dc:title>\n     </cc:Agent>\n    </dc:creator>\n   </cc:Work>\n  </rdf:RDF>\n </metadata>\n <defs>\n  <style type=\"text/css\">*{stroke-linejoin: round; stroke-linecap: butt}</style>\n </defs>\n <g id=\"figure_1\">\n  <g id=\"patch_1\">\n   <path d=\"M 0 281.634375 \nL 720.58125 281.634375 \nL 720.58125 0 \nL 0 0 \nz\n\" style=\"fill: #ffffff\"/>\n  </g>\n  <g id=\"axes_1\">\n   <g id=\"patch_2\">\n    <path d=\"M 43.78125 244.078125 \nL 348.144886 244.078125 \nL 348.144886 22.318125 \nL 43.78125 22.318125 \nz\n\" style=\"fill: #ffffff\"/>\n   </g>\n   <g id=\"matplotlib.axis_1\">\n    <g id=\"xtick_1\">\n     <g id=\"line2d_1\">\n      <path d=\"M 57.615961 244.078125 \nL 57.615961 22.318125 \n\" clip-path=\"url(#p0b19ed87ab)\" style=\"fill: none; stroke: #b0b0b0; stroke-width: 0.8; stroke-linecap: square\"/>\n     </g>\n     <g id=\"line2d_2\">\n      <defs>\n       <path id=\"m1d8f1b4887\" d=\"M 0 0 \nL 0 3.5 \n\" style=\"stroke: #000000; stroke-width: 0.8\"/>\n      </defs>\n      <g>\n       <use xlink:href=\"#m1d8f1b4887\" x=\"57.615961\" y=\"244.078125\" style=\"stroke: #000000; stroke-width: 0.8\"/>\n      </g>\n     </g>\n     <g id=\"text_1\">\n      <!-- 1.00 -->\n      <g transform=\"translate(46.483148 258.676562) scale(0.1 -0.1)\">\n       <defs>\n        <path id=\"DejaVuSans-31\" d=\"M 794 531 \nL 1825 531 \nL 1825 4091 \nL 703 3866 \nL 703 4441 \nL 1819 4666 \nL 2450 4666 \nL 2450 531 \nL 3481 531 \nL 3481 0 \nL 794 0 \nL 794 531 \nz\n\" transform=\"scale(0.015625)\"/>\n        <path id=\"DejaVuSans-2e\" d=\"M 684 794 \nL 1344 794 \nL 1344 0 \nL 684 0 \nL 684 794 \nz\n\" transform=\"scale(0.015625)\"/>\n        <path id=\"DejaVuSans-30\" d=\"M 2034 4250 \nQ 1547 4250 1301 3770 \nQ 1056 3291 1056 2328 \nQ 1056 1369 1301 889 \nQ 1547 409 2034 409 \nQ 2525 409 2770 889 \nQ 3016 1369 3016 2328 \nQ 3016 3291 2770 3770 \nQ 2525 4250 2034 4250 \nz\nM 2034 4750 \nQ 2819 4750 3233 4129 \nQ 3647 3509 3647 2328 \nQ 3647 1150 3233 529 \nQ 2819 -91 2034 -91 \nQ 1250 -91 836 529 \nQ 422 1150 422 2328 \nQ 422 3509 836 4129 \nQ 1250 4750 2034 4750 \nz\n\" transform=\"scale(0.015625)\"/>\n       </defs>\n       <use xlink:href=\"#DejaVuSans-31\"/>\n       <use xlink:href=\"#DejaVuSans-2e\" transform=\"translate(63.623047 0)\"/>\n       <use xlink:href=\"#DejaVuSans-30\" transform=\"translate(95.410156 0)\"/>\n       <use xlink:href=\"#DejaVuSans-30\" transform=\"translate(159.033203 0)\"/>\n      </g>\n     </g>\n    </g>\n    <g id=\"xtick_2\">\n     <g id=\"line2d_3\">\n      <path d=\"M 92.202738 244.078125 \nL 92.202738 22.318125 \n\" clip-path=\"url(#p0b19ed87ab)\" style=\"fill: none; stroke: #b0b0b0; stroke-width: 0.8; stroke-linecap: square\"/>\n     </g>\n     <g id=\"line2d_4\">\n      <g>\n       <use xlink:href=\"#m1d8f1b4887\" x=\"92.202738\" y=\"244.078125\" style=\"stroke: #000000; stroke-width: 0.8\"/>\n      </g>\n     </g>\n     <g id=\"text_2\">\n      <!-- 1.25 -->\n      <g transform=\"translate(81.069925 258.676562) scale(0.1 -0.1)\">\n       <defs>\n        <path id=\"DejaVuSans-32\" d=\"M 1228 531 \nL 3431 531 \nL 3431 0 \nL 469 0 \nL 469 531 \nQ 828 903 1448 1529 \nQ 2069 2156 2228 2338 \nQ 2531 2678 2651 2914 \nQ 2772 3150 2772 3378 \nQ 2772 3750 2511 3984 \nQ 2250 4219 1831 4219 \nQ 1534 4219 1204 4116 \nQ 875 4013 500 3803 \nL 500 4441 \nQ 881 4594 1212 4672 \nQ 1544 4750 1819 4750 \nQ 2544 4750 2975 4387 \nQ 3406 4025 3406 3419 \nQ 3406 3131 3298 2873 \nQ 3191 2616 2906 2266 \nQ 2828 2175 2409 1742 \nQ 1991 1309 1228 531 \nz\n\" transform=\"scale(0.015625)\"/>\n        <path id=\"DejaVuSans-35\" d=\"M 691 4666 \nL 3169 4666 \nL 3169 4134 \nL 1269 4134 \nL 1269 2991 \nQ 1406 3038 1543 3061 \nQ 1681 3084 1819 3084 \nQ 2600 3084 3056 2656 \nQ 3513 2228 3513 1497 \nQ 3513 744 3044 326 \nQ 2575 -91 1722 -91 \nQ 1428 -91 1123 -41 \nQ 819 9 494 109 \nL 494 744 \nQ 775 591 1075 516 \nQ 1375 441 1709 441 \nQ 2250 441 2565 725 \nQ 2881 1009 2881 1497 \nQ 2881 1984 2565 2268 \nQ 2250 2553 1709 2553 \nQ 1456 2553 1204 2497 \nQ 953 2441 691 2322 \nL 691 4666 \nz\n\" transform=\"scale(0.015625)\"/>\n       </defs>\n       <use xlink:href=\"#DejaVuSans-31\"/>\n       <use xlink:href=\"#DejaVuSans-2e\" transform=\"translate(63.623047 0)\"/>\n       <use xlink:href=\"#DejaVuSans-32\" transform=\"translate(95.410156 0)\"/>\n       <use xlink:href=\"#DejaVuSans-35\" transform=\"translate(159.033203 0)\"/>\n      </g>\n     </g>\n    </g>\n    <g id=\"xtick_3\">\n     <g id=\"line2d_5\">\n      <path d=\"M 126.789514 244.078125 \nL 126.789514 22.318125 \n\" clip-path=\"url(#p0b19ed87ab)\" style=\"fill: none; stroke: #b0b0b0; stroke-width: 0.8; stroke-linecap: square\"/>\n     </g>\n     <g id=\"line2d_6\">\n      <g>\n       <use xlink:href=\"#m1d8f1b4887\" x=\"126.789514\" y=\"244.078125\" style=\"stroke: #000000; stroke-width: 0.8\"/>\n      </g>\n     </g>\n     <g id=\"text_3\">\n      <!-- 1.50 -->\n      <g transform=\"translate(115.656702 258.676562) scale(0.1 -0.1)\">\n       <use xlink:href=\"#DejaVuSans-31\"/>\n       <use xlink:href=\"#DejaVuSans-2e\" transform=\"translate(63.623047 0)\"/>\n       <use xlink:href=\"#DejaVuSans-35\" transform=\"translate(95.410156 0)\"/>\n       <use xlink:href=\"#DejaVuSans-30\" transform=\"translate(159.033203 0)\"/>\n      </g>\n     </g>\n    </g>\n    <g id=\"xtick_4\">\n     <g id=\"line2d_7\">\n      <path d=\"M 161.376291 244.078125 \nL 161.376291 22.318125 \n\" clip-path=\"url(#p0b19ed87ab)\" style=\"fill: none; stroke: #b0b0b0; stroke-width: 0.8; stroke-linecap: square\"/>\n     </g>\n     <g id=\"line2d_8\">\n      <g>\n       <use xlink:href=\"#m1d8f1b4887\" x=\"161.376291\" y=\"244.078125\" style=\"stroke: #000000; stroke-width: 0.8\"/>\n      </g>\n     </g>\n     <g id=\"text_4\">\n      <!-- 1.75 -->\n      <g transform=\"translate(150.243479 258.676562) scale(0.1 -0.1)\">\n       <defs>\n        <path id=\"DejaVuSans-37\" d=\"M 525 4666 \nL 3525 4666 \nL 3525 4397 \nL 1831 0 \nL 1172 0 \nL 2766 4134 \nL 525 4134 \nL 525 4666 \nz\n\" transform=\"scale(0.015625)\"/>\n       </defs>\n       <use xlink:href=\"#DejaVuSans-31\"/>\n       <use xlink:href=\"#DejaVuSans-2e\" transform=\"translate(63.623047 0)\"/>\n       <use xlink:href=\"#DejaVuSans-37\" transform=\"translate(95.410156 0)\"/>\n       <use xlink:href=\"#DejaVuSans-35\" transform=\"translate(159.033203 0)\"/>\n      </g>\n     </g>\n    </g>\n    <g id=\"xtick_5\">\n     <g id=\"line2d_9\">\n      <path d=\"M 195.963068 244.078125 \nL 195.963068 22.318125 \n\" clip-path=\"url(#p0b19ed87ab)\" style=\"fill: none; stroke: #b0b0b0; stroke-width: 0.8; stroke-linecap: square\"/>\n     </g>\n     <g id=\"line2d_10\">\n      <g>\n       <use xlink:href=\"#m1d8f1b4887\" x=\"195.963068\" y=\"244.078125\" style=\"stroke: #000000; stroke-width: 0.8\"/>\n      </g>\n     </g>\n     <g id=\"text_5\">\n      <!-- 2.00 -->\n      <g transform=\"translate(184.830256 258.676562) scale(0.1 -0.1)\">\n       <use xlink:href=\"#DejaVuSans-32\"/>\n       <use xlink:href=\"#DejaVuSans-2e\" transform=\"translate(63.623047 0)\"/>\n       <use xlink:href=\"#DejaVuSans-30\" transform=\"translate(95.410156 0)\"/>\n       <use xlink:href=\"#DejaVuSans-30\" transform=\"translate(159.033203 0)\"/>\n      </g>\n     </g>\n    </g>\n    <g id=\"xtick_6\">\n     <g id=\"line2d_11\">\n      <path d=\"M 230.549845 244.078125 \nL 230.549845 22.318125 \n\" clip-path=\"url(#p0b19ed87ab)\" style=\"fill: none; stroke: #b0b0b0; stroke-width: 0.8; stroke-linecap: square\"/>\n     </g>\n     <g id=\"line2d_12\">\n      <g>\n       <use xlink:href=\"#m1d8f1b4887\" x=\"230.549845\" y=\"244.078125\" style=\"stroke: #000000; stroke-width: 0.8\"/>\n      </g>\n     </g>\n     <g id=\"text_6\">\n      <!-- 2.25 -->\n      <g transform=\"translate(219.417033 258.676562) scale(0.1 -0.1)\">\n       <use xlink:href=\"#DejaVuSans-32\"/>\n       <use xlink:href=\"#DejaVuSans-2e\" transform=\"translate(63.623047 0)\"/>\n       <use xlink:href=\"#DejaVuSans-32\" transform=\"translate(95.410156 0)\"/>\n       <use xlink:href=\"#DejaVuSans-35\" transform=\"translate(159.033203 0)\"/>\n      </g>\n     </g>\n    </g>\n    <g id=\"xtick_7\">\n     <g id=\"line2d_13\">\n      <path d=\"M 265.136622 244.078125 \nL 265.136622 22.318125 \n\" clip-path=\"url(#p0b19ed87ab)\" style=\"fill: none; stroke: #b0b0b0; stroke-width: 0.8; stroke-linecap: square\"/>\n     </g>\n     <g id=\"line2d_14\">\n      <g>\n       <use xlink:href=\"#m1d8f1b4887\" x=\"265.136622\" y=\"244.078125\" style=\"stroke: #000000; stroke-width: 0.8\"/>\n      </g>\n     </g>\n     <g id=\"text_7\">\n      <!-- 2.50 -->\n      <g transform=\"translate(254.003809 258.676562) scale(0.1 -0.1)\">\n       <use xlink:href=\"#DejaVuSans-32\"/>\n       <use xlink:href=\"#DejaVuSans-2e\" transform=\"translate(63.623047 0)\"/>\n       <use xlink:href=\"#DejaVuSans-35\" transform=\"translate(95.410156 0)\"/>\n       <use xlink:href=\"#DejaVuSans-30\" transform=\"translate(159.033203 0)\"/>\n      </g>\n     </g>\n    </g>\n    <g id=\"xtick_8\">\n     <g id=\"line2d_15\">\n      <path d=\"M 299.723399 244.078125 \nL 299.723399 22.318125 \n\" clip-path=\"url(#p0b19ed87ab)\" style=\"fill: none; stroke: #b0b0b0; stroke-width: 0.8; stroke-linecap: square\"/>\n     </g>\n     <g id=\"line2d_16\">\n      <g>\n       <use xlink:href=\"#m1d8f1b4887\" x=\"299.723399\" y=\"244.078125\" style=\"stroke: #000000; stroke-width: 0.8\"/>\n      </g>\n     </g>\n     <g id=\"text_8\">\n      <!-- 2.75 -->\n      <g transform=\"translate(288.590586 258.676562) scale(0.1 -0.1)\">\n       <use xlink:href=\"#DejaVuSans-32\"/>\n       <use xlink:href=\"#DejaVuSans-2e\" transform=\"translate(63.623047 0)\"/>\n       <use xlink:href=\"#DejaVuSans-37\" transform=\"translate(95.410156 0)\"/>\n       <use xlink:href=\"#DejaVuSans-35\" transform=\"translate(159.033203 0)\"/>\n      </g>\n     </g>\n    </g>\n    <g id=\"xtick_9\">\n     <g id=\"line2d_17\">\n      <path d=\"M 334.310176 244.078125 \nL 334.310176 22.318125 \n\" clip-path=\"url(#p0b19ed87ab)\" style=\"fill: none; stroke: #b0b0b0; stroke-width: 0.8; stroke-linecap: square\"/>\n     </g>\n     <g id=\"line2d_18\">\n      <g>\n       <use xlink:href=\"#m1d8f1b4887\" x=\"334.310176\" y=\"244.078125\" style=\"stroke: #000000; stroke-width: 0.8\"/>\n      </g>\n     </g>\n     <g id=\"text_9\">\n      <!-- 3.00 -->\n      <g transform=\"translate(323.177363 258.676562) scale(0.1 -0.1)\">\n       <defs>\n        <path id=\"DejaVuSans-33\" d=\"M 2597 2516 \nQ 3050 2419 3304 2112 \nQ 3559 1806 3559 1356 \nQ 3559 666 3084 287 \nQ 2609 -91 1734 -91 \nQ 1441 -91 1130 -33 \nQ 819 25 488 141 \nL 488 750 \nQ 750 597 1062 519 \nQ 1375 441 1716 441 \nQ 2309 441 2620 675 \nQ 2931 909 2931 1356 \nQ 2931 1769 2642 2001 \nQ 2353 2234 1838 2234 \nL 1294 2234 \nL 1294 2753 \nL 1863 2753 \nQ 2328 2753 2575 2939 \nQ 2822 3125 2822 3475 \nQ 2822 3834 2567 4026 \nQ 2313 4219 1838 4219 \nQ 1578 4219 1281 4162 \nQ 984 4106 628 3988 \nL 628 4550 \nQ 988 4650 1302 4700 \nQ 1616 4750 1894 4750 \nQ 2613 4750 3031 4423 \nQ 3450 4097 3450 3541 \nQ 3450 3153 3228 2886 \nQ 3006 2619 2597 2516 \nz\n\" transform=\"scale(0.015625)\"/>\n       </defs>\n       <use xlink:href=\"#DejaVuSans-33\"/>\n       <use xlink:href=\"#DejaVuSans-2e\" transform=\"translate(63.623047 0)\"/>\n       <use xlink:href=\"#DejaVuSans-30\" transform=\"translate(95.410156 0)\"/>\n       <use xlink:href=\"#DejaVuSans-30\" transform=\"translate(159.033203 0)\"/>\n      </g>\n     </g>\n    </g>\n    <g id=\"text_10\">\n     <!-- Epochs -->\n     <g transform=\"translate(178.047443 272.354687) scale(0.1 -0.1)\">\n      <defs>\n       <path id=\"DejaVuSans-45\" d=\"M 628 4666 \nL 3578 4666 \nL 3578 4134 \nL 1259 4134 \nL 1259 2753 \nL 3481 2753 \nL 3481 2222 \nL 1259 2222 \nL 1259 531 \nL 3634 531 \nL 3634 0 \nL 628 0 \nL 628 4666 \nz\n\" transform=\"scale(0.015625)\"/>\n       <path id=\"DejaVuSans-70\" d=\"M 1159 525 \nL 1159 -1331 \nL 581 -1331 \nL 581 3500 \nL 1159 3500 \nL 1159 2969 \nQ 1341 3281 1617 3432 \nQ 1894 3584 2278 3584 \nQ 2916 3584 3314 3078 \nQ 3713 2572 3713 1747 \nQ 3713 922 3314 415 \nQ 2916 -91 2278 -91 \nQ 1894 -91 1617 61 \nQ 1341 213 1159 525 \nz\nM 3116 1747 \nQ 3116 2381 2855 2742 \nQ 2594 3103 2138 3103 \nQ 1681 3103 1420 2742 \nQ 1159 2381 1159 1747 \nQ 1159 1113 1420 752 \nQ 1681 391 2138 391 \nQ 2594 391 2855 752 \nQ 3116 1113 3116 1747 \nz\n\" transform=\"scale(0.015625)\"/>\n       <path id=\"DejaVuSans-6f\" d=\"M 1959 3097 \nQ 1497 3097 1228 2736 \nQ 959 2375 959 1747 \nQ 959 1119 1226 758 \nQ 1494 397 1959 397 \nQ 2419 397 2687 759 \nQ 2956 1122 2956 1747 \nQ 2956 2369 2687 2733 \nQ 2419 3097 1959 3097 \nz\nM 1959 3584 \nQ 2709 3584 3137 3096 \nQ 3566 2609 3566 1747 \nQ 3566 888 3137 398 \nQ 2709 -91 1959 -91 \nQ 1206 -91 779 398 \nQ 353 888 353 1747 \nQ 353 2609 779 3096 \nQ 1206 3584 1959 3584 \nz\n\" transform=\"scale(0.015625)\"/>\n       <path id=\"DejaVuSans-63\" d=\"M 3122 3366 \nL 3122 2828 \nQ 2878 2963 2633 3030 \nQ 2388 3097 2138 3097 \nQ 1578 3097 1268 2742 \nQ 959 2388 959 1747 \nQ 959 1106 1268 751 \nQ 1578 397 2138 397 \nQ 2388 397 2633 464 \nQ 2878 531 3122 666 \nL 3122 134 \nQ 2881 22 2623 -34 \nQ 2366 -91 2075 -91 \nQ 1284 -91 818 406 \nQ 353 903 353 1747 \nQ 353 2603 823 3093 \nQ 1294 3584 2113 3584 \nQ 2378 3584 2631 3529 \nQ 2884 3475 3122 3366 \nz\n\" transform=\"scale(0.015625)\"/>\n       <path id=\"DejaVuSans-68\" d=\"M 3513 2113 \nL 3513 0 \nL 2938 0 \nL 2938 2094 \nQ 2938 2591 2744 2837 \nQ 2550 3084 2163 3084 \nQ 1697 3084 1428 2787 \nQ 1159 2491 1159 1978 \nL 1159 0 \nL 581 0 \nL 581 4863 \nL 1159 4863 \nL 1159 2956 \nQ 1366 3272 1645 3428 \nQ 1925 3584 2291 3584 \nQ 2894 3584 3203 3211 \nQ 3513 2838 3513 2113 \nz\n\" transform=\"scale(0.015625)\"/>\n       <path id=\"DejaVuSans-73\" d=\"M 2834 3397 \nL 2834 2853 \nQ 2591 2978 2328 3040 \nQ 2066 3103 1784 3103 \nQ 1356 3103 1142 2972 \nQ 928 2841 928 2578 \nQ 928 2378 1081 2264 \nQ 1234 2150 1697 2047 \nL 1894 2003 \nQ 2506 1872 2764 1633 \nQ 3022 1394 3022 966 \nQ 3022 478 2636 193 \nQ 2250 -91 1575 -91 \nQ 1294 -91 989 -36 \nQ 684 19 347 128 \nL 347 722 \nQ 666 556 975 473 \nQ 1284 391 1588 391 \nQ 1994 391 2212 530 \nQ 2431 669 2431 922 \nQ 2431 1156 2273 1281 \nQ 2116 1406 1581 1522 \nL 1381 1569 \nQ 847 1681 609 1914 \nQ 372 2147 372 2553 \nQ 372 3047 722 3315 \nQ 1072 3584 1716 3584 \nQ 2034 3584 2315 3537 \nQ 2597 3491 2834 3397 \nz\n\" transform=\"scale(0.015625)\"/>\n      </defs>\n      <use xlink:href=\"#DejaVuSans-45\"/>\n      <use xlink:href=\"#DejaVuSans-70\" transform=\"translate(63.183594 0)\"/>\n      <use xlink:href=\"#DejaVuSans-6f\" transform=\"translate(126.660156 0)\"/>\n      <use xlink:href=\"#DejaVuSans-63\" transform=\"translate(187.841797 0)\"/>\n      <use xlink:href=\"#DejaVuSans-68\" transform=\"translate(242.822266 0)\"/>\n      <use xlink:href=\"#DejaVuSans-73\" transform=\"translate(306.201172 0)\"/>\n     </g>\n    </g>\n   </g>\n   <g id=\"matplotlib.axis_2\">\n    <g id=\"ytick_1\">\n     <g id=\"line2d_19\">\n      <path d=\"M 43.78125 219.505892 \nL 348.144886 219.505892 \n\" clip-path=\"url(#p0b19ed87ab)\" style=\"fill: none; stroke: #b0b0b0; stroke-width: 0.8; stroke-linecap: square\"/>\n     </g>\n     <g id=\"line2d_20\">\n      <defs>\n       <path id=\"mc7513a17df\" d=\"M 0 0 \nL -3.5 0 \n\" style=\"stroke: #000000; stroke-width: 0.8\"/>\n      </defs>\n      <g>\n       <use xlink:href=\"#mc7513a17df\" x=\"43.78125\" y=\"219.505892\" style=\"stroke: #000000; stroke-width: 0.8\"/>\n      </g>\n     </g>\n     <g id=\"text_11\">\n      <!-- 0.2 -->\n      <g transform=\"translate(20.878125 223.305111) scale(0.1 -0.1)\">\n       <use xlink:href=\"#DejaVuSans-30\"/>\n       <use xlink:href=\"#DejaVuSans-2e\" transform=\"translate(63.623047 0)\"/>\n       <use xlink:href=\"#DejaVuSans-32\" transform=\"translate(95.410156 0)\"/>\n      </g>\n     </g>\n    </g>\n    <g id=\"ytick_2\">\n     <g id=\"line2d_21\">\n      <path d=\"M 43.78125 175.03197 \nL 348.144886 175.03197 \n\" clip-path=\"url(#p0b19ed87ab)\" style=\"fill: none; stroke: #b0b0b0; stroke-width: 0.8; stroke-linecap: square\"/>\n     </g>\n     <g id=\"line2d_22\">\n      <g>\n       <use xlink:href=\"#mc7513a17df\" x=\"43.78125\" y=\"175.03197\" style=\"stroke: #000000; stroke-width: 0.8\"/>\n      </g>\n     </g>\n     <g id=\"text_12\">\n      <!-- 0.3 -->\n      <g transform=\"translate(20.878125 178.831188) scale(0.1 -0.1)\">\n       <use xlink:href=\"#DejaVuSans-30\"/>\n       <use xlink:href=\"#DejaVuSans-2e\" transform=\"translate(63.623047 0)\"/>\n       <use xlink:href=\"#DejaVuSans-33\" transform=\"translate(95.410156 0)\"/>\n      </g>\n     </g>\n    </g>\n    <g id=\"ytick_3\">\n     <g id=\"line2d_23\">\n      <path d=\"M 43.78125 130.558047 \nL 348.144886 130.558047 \n\" clip-path=\"url(#p0b19ed87ab)\" style=\"fill: none; stroke: #b0b0b0; stroke-width: 0.8; stroke-linecap: square\"/>\n     </g>\n     <g id=\"line2d_24\">\n      <g>\n       <use xlink:href=\"#mc7513a17df\" x=\"43.78125\" y=\"130.558047\" style=\"stroke: #000000; stroke-width: 0.8\"/>\n      </g>\n     </g>\n     <g id=\"text_13\">\n      <!-- 0.4 -->\n      <g transform=\"translate(20.878125 134.357266) scale(0.1 -0.1)\">\n       <defs>\n        <path id=\"DejaVuSans-34\" d=\"M 2419 4116 \nL 825 1625 \nL 2419 1625 \nL 2419 4116 \nz\nM 2253 4666 \nL 3047 4666 \nL 3047 1625 \nL 3713 1625 \nL 3713 1100 \nL 3047 1100 \nL 3047 0 \nL 2419 0 \nL 2419 1100 \nL 313 1100 \nL 313 1709 \nL 2253 4666 \nz\n\" transform=\"scale(0.015625)\"/>\n       </defs>\n       <use xlink:href=\"#DejaVuSans-30\"/>\n       <use xlink:href=\"#DejaVuSans-2e\" transform=\"translate(63.623047 0)\"/>\n       <use xlink:href=\"#DejaVuSans-34\" transform=\"translate(95.410156 0)\"/>\n      </g>\n     </g>\n    </g>\n    <g id=\"ytick_4\">\n     <g id=\"line2d_25\">\n      <path d=\"M 43.78125 86.084125 \nL 348.144886 86.084125 \n\" clip-path=\"url(#p0b19ed87ab)\" style=\"fill: none; stroke: #b0b0b0; stroke-width: 0.8; stroke-linecap: square\"/>\n     </g>\n     <g id=\"line2d_26\">\n      <g>\n       <use xlink:href=\"#mc7513a17df\" x=\"43.78125\" y=\"86.084125\" style=\"stroke: #000000; stroke-width: 0.8\"/>\n      </g>\n     </g>\n     <g id=\"text_14\">\n      <!-- 0.5 -->\n      <g transform=\"translate(20.878125 89.883343) scale(0.1 -0.1)\">\n       <use xlink:href=\"#DejaVuSans-30\"/>\n       <use xlink:href=\"#DejaVuSans-2e\" transform=\"translate(63.623047 0)\"/>\n       <use xlink:href=\"#DejaVuSans-35\" transform=\"translate(95.410156 0)\"/>\n      </g>\n     </g>\n    </g>\n    <g id=\"ytick_5\">\n     <g id=\"line2d_27\">\n      <path d=\"M 43.78125 41.610202 \nL 348.144886 41.610202 \n\" clip-path=\"url(#p0b19ed87ab)\" style=\"fill: none; stroke: #b0b0b0; stroke-width: 0.8; stroke-linecap: square\"/>\n     </g>\n     <g id=\"line2d_28\">\n      <g>\n       <use xlink:href=\"#mc7513a17df\" x=\"43.78125\" y=\"41.610202\" style=\"stroke: #000000; stroke-width: 0.8\"/>\n      </g>\n     </g>\n     <g id=\"text_15\">\n      <!-- 0.6 -->\n      <g transform=\"translate(20.878125 45.409421) scale(0.1 -0.1)\">\n       <defs>\n        <path id=\"DejaVuSans-36\" d=\"M 2113 2584 \nQ 1688 2584 1439 2293 \nQ 1191 2003 1191 1497 \nQ 1191 994 1439 701 \nQ 1688 409 2113 409 \nQ 2538 409 2786 701 \nQ 3034 994 3034 1497 \nQ 3034 2003 2786 2293 \nQ 2538 2584 2113 2584 \nz\nM 3366 4563 \nL 3366 3988 \nQ 3128 4100 2886 4159 \nQ 2644 4219 2406 4219 \nQ 1781 4219 1451 3797 \nQ 1122 3375 1075 2522 \nQ 1259 2794 1537 2939 \nQ 1816 3084 2150 3084 \nQ 2853 3084 3261 2657 \nQ 3669 2231 3669 1497 \nQ 3669 778 3244 343 \nQ 2819 -91 2113 -91 \nQ 1303 -91 875 529 \nQ 447 1150 447 2328 \nQ 447 3434 972 4092 \nQ 1497 4750 2381 4750 \nQ 2619 4750 2861 4703 \nQ 3103 4656 3366 4563 \nz\n\" transform=\"scale(0.015625)\"/>\n       </defs>\n       <use xlink:href=\"#DejaVuSans-30\"/>\n       <use xlink:href=\"#DejaVuSans-2e\" transform=\"translate(63.623047 0)\"/>\n       <use xlink:href=\"#DejaVuSans-36\" transform=\"translate(95.410156 0)\"/>\n      </g>\n     </g>\n    </g>\n    <g id=\"text_16\">\n     <!-- Loss -->\n     <g transform=\"translate(14.798438 144.165312) rotate(-90) scale(0.1 -0.1)\">\n      <defs>\n       <path id=\"DejaVuSans-4c\" d=\"M 628 4666 \nL 1259 4666 \nL 1259 531 \nL 3531 531 \nL 3531 0 \nL 628 0 \nL 628 4666 \nz\n\" transform=\"scale(0.015625)\"/>\n      </defs>\n      <use xlink:href=\"#DejaVuSans-4c\"/>\n      <use xlink:href=\"#DejaVuSans-6f\" transform=\"translate(53.962891 0)\"/>\n      <use xlink:href=\"#DejaVuSans-73\" transform=\"translate(115.144531 0)\"/>\n      <use xlink:href=\"#DejaVuSans-73\" transform=\"translate(167.244141 0)\"/>\n     </g>\n    </g>\n   </g>\n   <g id=\"line2d_29\">\n    <path d=\"M 57.615961 32.398125 \nL 195.963068 146.821495 \nL 334.310176 233.998125 \n\" clip-path=\"url(#p0b19ed87ab)\" style=\"fill: none; stroke: #1f77b4; stroke-width: 1.5; stroke-linecap: square\"/>\n    <defs>\n     <path id=\"m3aeacd3faf\" d=\"M 0 3 \nC 0.795609 3 1.55874 2.683901 2.12132 2.12132 \nC 2.683901 1.55874 3 0.795609 3 0 \nC 3 -0.795609 2.683901 -1.55874 2.12132 -2.12132 \nC 1.55874 -2.683901 0.795609 -3 0 -3 \nC -0.795609 -3 -1.55874 -2.683901 -2.12132 -2.12132 \nC -2.683901 -1.55874 -3 -0.795609 -3 0 \nC -3 0.795609 -2.683901 1.55874 -2.12132 2.12132 \nC -1.55874 2.683901 -0.795609 3 0 3 \nz\n\" style=\"stroke: #1f77b4\"/>\n    </defs>\n    <g clip-path=\"url(#p0b19ed87ab)\">\n     <use xlink:href=\"#m3aeacd3faf\" x=\"57.615961\" y=\"32.398125\" style=\"fill: #1f77b4; stroke: #1f77b4\"/>\n     <use xlink:href=\"#m3aeacd3faf\" x=\"195.963068\" y=\"146.821495\" style=\"fill: #1f77b4; stroke: #1f77b4\"/>\n     <use xlink:href=\"#m3aeacd3faf\" x=\"334.310176\" y=\"233.998125\" style=\"fill: #1f77b4; stroke: #1f77b4\"/>\n    </g>\n   </g>\n   <g id=\"line2d_30\">\n    <path d=\"M 57.615961 126.33608 \nL 195.963068 141.965883 \nL 334.310176 131.925594 \n\" clip-path=\"url(#p0b19ed87ab)\" style=\"fill: none; stroke: #ff7f0e; stroke-width: 1.5; stroke-linecap: square\"/>\n    <defs>\n     <path id=\"m9266411218\" d=\"M 0 3 \nC 0.795609 3 1.55874 2.683901 2.12132 2.12132 \nC 2.683901 1.55874 3 0.795609 3 0 \nC 3 -0.795609 2.683901 -1.55874 2.12132 -2.12132 \nC 1.55874 -2.683901 0.795609 -3 0 -3 \nC -0.795609 -3 -1.55874 -2.683901 -2.12132 -2.12132 \nC -2.683901 -1.55874 -3 -0.795609 -3 0 \nC -3 0.795609 -2.683901 1.55874 -2.12132 2.12132 \nC -1.55874 2.683901 -0.795609 3 0 3 \nz\n\" style=\"stroke: #ff7f0e\"/>\n    </defs>\n    <g clip-path=\"url(#p0b19ed87ab)\">\n     <use xlink:href=\"#m9266411218\" x=\"57.615961\" y=\"126.33608\" style=\"fill: #ff7f0e; stroke: #ff7f0e\"/>\n     <use xlink:href=\"#m9266411218\" x=\"195.963068\" y=\"141.965883\" style=\"fill: #ff7f0e; stroke: #ff7f0e\"/>\n     <use xlink:href=\"#m9266411218\" x=\"334.310176\" y=\"131.925594\" style=\"fill: #ff7f0e; stroke: #ff7f0e\"/>\n    </g>\n   </g>\n   <g id=\"patch_3\">\n    <path d=\"M 43.78125 244.078125 \nL 43.78125 22.318125 \n\" style=\"fill: none; stroke: #000000; stroke-width: 0.8; stroke-linejoin: miter; stroke-linecap: square\"/>\n   </g>\n   <g id=\"patch_4\">\n    <path d=\"M 348.144886 244.078125 \nL 348.144886 22.318125 \n\" style=\"fill: none; stroke: #000000; stroke-width: 0.8; stroke-linejoin: miter; stroke-linecap: square\"/>\n   </g>\n   <g id=\"patch_5\">\n    <path d=\"M 43.78125 244.078125 \nL 348.144886 244.078125 \n\" style=\"fill: none; stroke: #000000; stroke-width: 0.8; stroke-linejoin: miter; stroke-linecap: square\"/>\n   </g>\n   <g id=\"patch_6\">\n    <path d=\"M 43.78125 22.318125 \nL 348.144886 22.318125 \n\" style=\"fill: none; stroke: #000000; stroke-width: 0.8; stroke-linejoin: miter; stroke-linecap: square\"/>\n   </g>\n   <g id=\"text_17\">\n    <!-- Training vs Validation Loss -->\n    <g transform=\"translate(117.105256 16.318125) scale(0.12 -0.12)\">\n     <defs>\n      <path id=\"DejaVuSans-54\" d=\"M -19 4666 \nL 3928 4666 \nL 3928 4134 \nL 2272 4134 \nL 2272 0 \nL 1638 0 \nL 1638 4134 \nL -19 4134 \nL -19 4666 \nz\n\" transform=\"scale(0.015625)\"/>\n      <path id=\"DejaVuSans-72\" d=\"M 2631 2963 \nQ 2534 3019 2420 3045 \nQ 2306 3072 2169 3072 \nQ 1681 3072 1420 2755 \nQ 1159 2438 1159 1844 \nL 1159 0 \nL 581 0 \nL 581 3500 \nL 1159 3500 \nL 1159 2956 \nQ 1341 3275 1631 3429 \nQ 1922 3584 2338 3584 \nQ 2397 3584 2469 3576 \nQ 2541 3569 2628 3553 \nL 2631 2963 \nz\n\" transform=\"scale(0.015625)\"/>\n      <path id=\"DejaVuSans-61\" d=\"M 2194 1759 \nQ 1497 1759 1228 1600 \nQ 959 1441 959 1056 \nQ 959 750 1161 570 \nQ 1363 391 1709 391 \nQ 2188 391 2477 730 \nQ 2766 1069 2766 1631 \nL 2766 1759 \nL 2194 1759 \nz\nM 3341 1997 \nL 3341 0 \nL 2766 0 \nL 2766 531 \nQ 2569 213 2275 61 \nQ 1981 -91 1556 -91 \nQ 1019 -91 701 211 \nQ 384 513 384 1019 \nQ 384 1609 779 1909 \nQ 1175 2209 1959 2209 \nL 2766 2209 \nL 2766 2266 \nQ 2766 2663 2505 2880 \nQ 2244 3097 1772 3097 \nQ 1472 3097 1187 3025 \nQ 903 2953 641 2809 \nL 641 3341 \nQ 956 3463 1253 3523 \nQ 1550 3584 1831 3584 \nQ 2591 3584 2966 3190 \nQ 3341 2797 3341 1997 \nz\n\" transform=\"scale(0.015625)\"/>\n      <path id=\"DejaVuSans-69\" d=\"M 603 3500 \nL 1178 3500 \nL 1178 0 \nL 603 0 \nL 603 3500 \nz\nM 603 4863 \nL 1178 4863 \nL 1178 4134 \nL 603 4134 \nL 603 4863 \nz\n\" transform=\"scale(0.015625)\"/>\n      <path id=\"DejaVuSans-6e\" d=\"M 3513 2113 \nL 3513 0 \nL 2938 0 \nL 2938 2094 \nQ 2938 2591 2744 2837 \nQ 2550 3084 2163 3084 \nQ 1697 3084 1428 2787 \nQ 1159 2491 1159 1978 \nL 1159 0 \nL 581 0 \nL 581 3500 \nL 1159 3500 \nL 1159 2956 \nQ 1366 3272 1645 3428 \nQ 1925 3584 2291 3584 \nQ 2894 3584 3203 3211 \nQ 3513 2838 3513 2113 \nz\n\" transform=\"scale(0.015625)\"/>\n      <path id=\"DejaVuSans-67\" d=\"M 2906 1791 \nQ 2906 2416 2648 2759 \nQ 2391 3103 1925 3103 \nQ 1463 3103 1205 2759 \nQ 947 2416 947 1791 \nQ 947 1169 1205 825 \nQ 1463 481 1925 481 \nQ 2391 481 2648 825 \nQ 2906 1169 2906 1791 \nz\nM 3481 434 \nQ 3481 -459 3084 -895 \nQ 2688 -1331 1869 -1331 \nQ 1566 -1331 1297 -1286 \nQ 1028 -1241 775 -1147 \nL 775 -588 \nQ 1028 -725 1275 -790 \nQ 1522 -856 1778 -856 \nQ 2344 -856 2625 -561 \nQ 2906 -266 2906 331 \nL 2906 616 \nQ 2728 306 2450 153 \nQ 2172 0 1784 0 \nQ 1141 0 747 490 \nQ 353 981 353 1791 \nQ 353 2603 747 3093 \nQ 1141 3584 1784 3584 \nQ 2172 3584 2450 3431 \nQ 2728 3278 2906 2969 \nL 2906 3500 \nL 3481 3500 \nL 3481 434 \nz\n\" transform=\"scale(0.015625)\"/>\n      <path id=\"DejaVuSans-20\" transform=\"scale(0.015625)\"/>\n      <path id=\"DejaVuSans-76\" d=\"M 191 3500 \nL 800 3500 \nL 1894 563 \nL 2988 3500 \nL 3597 3500 \nL 2284 0 \nL 1503 0 \nL 191 3500 \nz\n\" transform=\"scale(0.015625)\"/>\n      <path id=\"DejaVuSans-56\" d=\"M 1831 0 \nL 50 4666 \nL 709 4666 \nL 2188 738 \nL 3669 4666 \nL 4325 4666 \nL 2547 0 \nL 1831 0 \nz\n\" transform=\"scale(0.015625)\"/>\n      <path id=\"DejaVuSans-6c\" d=\"M 603 4863 \nL 1178 4863 \nL 1178 0 \nL 603 0 \nL 603 4863 \nz\n\" transform=\"scale(0.015625)\"/>\n      <path id=\"DejaVuSans-64\" d=\"M 2906 2969 \nL 2906 4863 \nL 3481 4863 \nL 3481 0 \nL 2906 0 \nL 2906 525 \nQ 2725 213 2448 61 \nQ 2172 -91 1784 -91 \nQ 1150 -91 751 415 \nQ 353 922 353 1747 \nQ 353 2572 751 3078 \nQ 1150 3584 1784 3584 \nQ 2172 3584 2448 3432 \nQ 2725 3281 2906 2969 \nz\nM 947 1747 \nQ 947 1113 1208 752 \nQ 1469 391 1925 391 \nQ 2381 391 2643 752 \nQ 2906 1113 2906 1747 \nQ 2906 2381 2643 2742 \nQ 2381 3103 1925 3103 \nQ 1469 3103 1208 2742 \nQ 947 2381 947 1747 \nz\n\" transform=\"scale(0.015625)\"/>\n      <path id=\"DejaVuSans-74\" d=\"M 1172 4494 \nL 1172 3500 \nL 2356 3500 \nL 2356 3053 \nL 1172 3053 \nL 1172 1153 \nQ 1172 725 1289 603 \nQ 1406 481 1766 481 \nL 2356 481 \nL 2356 0 \nL 1766 0 \nQ 1100 0 847 248 \nQ 594 497 594 1153 \nL 594 3053 \nL 172 3053 \nL 172 3500 \nL 594 3500 \nL 594 4494 \nL 1172 4494 \nz\n\" transform=\"scale(0.015625)\"/>\n     </defs>\n     <use xlink:href=\"#DejaVuSans-54\"/>\n     <use xlink:href=\"#DejaVuSans-72\" transform=\"translate(46.333984 0)\"/>\n     <use xlink:href=\"#DejaVuSans-61\" transform=\"translate(87.447266 0)\"/>\n     <use xlink:href=\"#DejaVuSans-69\" transform=\"translate(148.726562 0)\"/>\n     <use xlink:href=\"#DejaVuSans-6e\" transform=\"translate(176.509766 0)\"/>\n     <use xlink:href=\"#DejaVuSans-69\" transform=\"translate(239.888672 0)\"/>\n     <use xlink:href=\"#DejaVuSans-6e\" transform=\"translate(267.671875 0)\"/>\n     <use xlink:href=\"#DejaVuSans-67\" transform=\"translate(331.050781 0)\"/>\n     <use xlink:href=\"#DejaVuSans-20\" transform=\"translate(394.527344 0)\"/>\n     <use xlink:href=\"#DejaVuSans-76\" transform=\"translate(426.314453 0)\"/>\n     <use xlink:href=\"#DejaVuSans-73\" transform=\"translate(485.494141 0)\"/>\n     <use xlink:href=\"#DejaVuSans-20\" transform=\"translate(537.59375 0)\"/>\n     <use xlink:href=\"#DejaVuSans-56\" transform=\"translate(569.380859 0)\"/>\n     <use xlink:href=\"#DejaVuSans-61\" transform=\"translate(630.039062 0)\"/>\n     <use xlink:href=\"#DejaVuSans-6c\" transform=\"translate(691.318359 0)\"/>\n     <use xlink:href=\"#DejaVuSans-69\" transform=\"translate(719.101562 0)\"/>\n     <use xlink:href=\"#DejaVuSans-64\" transform=\"translate(746.884766 0)\"/>\n     <use xlink:href=\"#DejaVuSans-61\" transform=\"translate(810.361328 0)\"/>\n     <use xlink:href=\"#DejaVuSans-74\" transform=\"translate(871.640625 0)\"/>\n     <use xlink:href=\"#DejaVuSans-69\" transform=\"translate(910.849609 0)\"/>\n     <use xlink:href=\"#DejaVuSans-6f\" transform=\"translate(938.632812 0)\"/>\n     <use xlink:href=\"#DejaVuSans-6e\" transform=\"translate(999.814453 0)\"/>\n     <use xlink:href=\"#DejaVuSans-20\" transform=\"translate(1063.193359 0)\"/>\n     <use xlink:href=\"#DejaVuSans-4c\" transform=\"translate(1094.980469 0)\"/>\n     <use xlink:href=\"#DejaVuSans-6f\" transform=\"translate(1148.943359 0)\"/>\n     <use xlink:href=\"#DejaVuSans-73\" transform=\"translate(1210.125 0)\"/>\n     <use xlink:href=\"#DejaVuSans-73\" transform=\"translate(1262.224609 0)\"/>\n    </g>\n   </g>\n   <g id=\"legend_1\">\n    <g id=\"patch_7\">\n     <path d=\"M 234.651136 59.674375 \nL 341.144886 59.674375 \nQ 343.144886 59.674375 343.144886 57.674375 \nL 343.144886 29.318125 \nQ 343.144886 27.318125 341.144886 27.318125 \nL 234.651136 27.318125 \nQ 232.651136 27.318125 232.651136 29.318125 \nL 232.651136 57.674375 \nQ 232.651136 59.674375 234.651136 59.674375 \nz\n\" style=\"fill: #ffffff; opacity: 0.8; stroke: #cccccc; stroke-linejoin: miter\"/>\n    </g>\n    <g id=\"line2d_31\">\n     <path d=\"M 236.651136 35.416562 \nL 246.651136 35.416562 \nL 256.651136 35.416562 \n\" style=\"fill: none; stroke: #1f77b4; stroke-width: 1.5; stroke-linecap: square\"/>\n     <g>\n      <use xlink:href=\"#m3aeacd3faf\" x=\"246.651136\" y=\"35.416562\" style=\"fill: #1f77b4; stroke: #1f77b4\"/>\n     </g>\n    </g>\n    <g id=\"text_18\">\n     <!-- Train Loss -->\n     <g transform=\"translate(264.651136 38.916562) scale(0.1 -0.1)\">\n      <use xlink:href=\"#DejaVuSans-54\"/>\n      <use xlink:href=\"#DejaVuSans-72\" transform=\"translate(46.333984 0)\"/>\n      <use xlink:href=\"#DejaVuSans-61\" transform=\"translate(87.447266 0)\"/>\n      <use xlink:href=\"#DejaVuSans-69\" transform=\"translate(148.726562 0)\"/>\n      <use xlink:href=\"#DejaVuSans-6e\" transform=\"translate(176.509766 0)\"/>\n      <use xlink:href=\"#DejaVuSans-20\" transform=\"translate(239.888672 0)\"/>\n      <use xlink:href=\"#DejaVuSans-4c\" transform=\"translate(271.675781 0)\"/>\n      <use xlink:href=\"#DejaVuSans-6f\" transform=\"translate(325.638672 0)\"/>\n      <use xlink:href=\"#DejaVuSans-73\" transform=\"translate(386.820312 0)\"/>\n      <use xlink:href=\"#DejaVuSans-73\" transform=\"translate(438.919922 0)\"/>\n     </g>\n    </g>\n    <g id=\"line2d_32\">\n     <path d=\"M 236.651136 50.094687 \nL 246.651136 50.094687 \nL 256.651136 50.094687 \n\" style=\"fill: none; stroke: #ff7f0e; stroke-width: 1.5; stroke-linecap: square\"/>\n     <g>\n      <use xlink:href=\"#m9266411218\" x=\"246.651136\" y=\"50.094687\" style=\"fill: #ff7f0e; stroke: #ff7f0e\"/>\n     </g>\n    </g>\n    <g id=\"text_19\">\n     <!-- Validation Loss -->\n     <g transform=\"translate(264.651136 53.594687) scale(0.1 -0.1)\">\n      <use xlink:href=\"#DejaVuSans-56\"/>\n      <use xlink:href=\"#DejaVuSans-61\" transform=\"translate(60.658203 0)\"/>\n      <use xlink:href=\"#DejaVuSans-6c\" transform=\"translate(121.9375 0)\"/>\n      <use xlink:href=\"#DejaVuSans-69\" transform=\"translate(149.720703 0)\"/>\n      <use xlink:href=\"#DejaVuSans-64\" transform=\"translate(177.503906 0)\"/>\n      <use xlink:href=\"#DejaVuSans-61\" transform=\"translate(240.980469 0)\"/>\n      <use xlink:href=\"#DejaVuSans-74\" transform=\"translate(302.259766 0)\"/>\n      <use xlink:href=\"#DejaVuSans-69\" transform=\"translate(341.46875 0)\"/>\n      <use xlink:href=\"#DejaVuSans-6f\" transform=\"translate(369.251953 0)\"/>\n      <use xlink:href=\"#DejaVuSans-6e\" transform=\"translate(430.433594 0)\"/>\n      <use xlink:href=\"#DejaVuSans-20\" transform=\"translate(493.8125 0)\"/>\n      <use xlink:href=\"#DejaVuSans-4c\" transform=\"translate(525.599609 0)\"/>\n      <use xlink:href=\"#DejaVuSans-6f\" transform=\"translate(579.5625 0)\"/>\n      <use xlink:href=\"#DejaVuSans-73\" transform=\"translate(640.744141 0)\"/>\n      <use xlink:href=\"#DejaVuSans-73\" transform=\"translate(692.84375 0)\"/>\n     </g>\n    </g>\n   </g>\n  </g>\n  <g id=\"axes_2\">\n   <g id=\"patch_8\">\n    <path d=\"M 409.017614 244.078125 \nL 713.38125 244.078125 \nL 713.38125 22.318125 \nL 409.017614 22.318125 \nz\n\" style=\"fill: #ffffff\"/>\n   </g>\n   <g id=\"matplotlib.axis_3\">\n    <g id=\"xtick_10\">\n     <g id=\"line2d_33\">\n      <path d=\"M 422.852324 244.078125 \nL 422.852324 22.318125 \n\" clip-path=\"url(#p7de76b0fda)\" style=\"fill: none; stroke: #b0b0b0; stroke-width: 0.8; stroke-linecap: square\"/>\n     </g>\n     <g id=\"line2d_34\">\n      <g>\n       <use xlink:href=\"#m1d8f1b4887\" x=\"422.852324\" y=\"244.078125\" style=\"stroke: #000000; stroke-width: 0.8\"/>\n      </g>\n     </g>\n     <g id=\"text_20\">\n      <!-- 1.00 -->\n      <g transform=\"translate(411.719512 258.676562) scale(0.1 -0.1)\">\n       <use xlink:href=\"#DejaVuSans-31\"/>\n       <use xlink:href=\"#DejaVuSans-2e\" transform=\"translate(63.623047 0)\"/>\n       <use xlink:href=\"#DejaVuSans-30\" transform=\"translate(95.410156 0)\"/>\n       <use xlink:href=\"#DejaVuSans-30\" transform=\"translate(159.033203 0)\"/>\n      </g>\n     </g>\n    </g>\n    <g id=\"xtick_11\">\n     <g id=\"line2d_35\">\n      <path d=\"M 457.439101 244.078125 \nL 457.439101 22.318125 \n\" clip-path=\"url(#p7de76b0fda)\" style=\"fill: none; stroke: #b0b0b0; stroke-width: 0.8; stroke-linecap: square\"/>\n     </g>\n     <g id=\"line2d_36\">\n      <g>\n       <use xlink:href=\"#m1d8f1b4887\" x=\"457.439101\" y=\"244.078125\" style=\"stroke: #000000; stroke-width: 0.8\"/>\n      </g>\n     </g>\n     <g id=\"text_21\">\n      <!-- 1.25 -->\n      <g transform=\"translate(446.306289 258.676562) scale(0.1 -0.1)\">\n       <use xlink:href=\"#DejaVuSans-31\"/>\n       <use xlink:href=\"#DejaVuSans-2e\" transform=\"translate(63.623047 0)\"/>\n       <use xlink:href=\"#DejaVuSans-32\" transform=\"translate(95.410156 0)\"/>\n       <use xlink:href=\"#DejaVuSans-35\" transform=\"translate(159.033203 0)\"/>\n      </g>\n     </g>\n    </g>\n    <g id=\"xtick_12\">\n     <g id=\"line2d_37\">\n      <path d=\"M 492.025878 244.078125 \nL 492.025878 22.318125 \n\" clip-path=\"url(#p7de76b0fda)\" style=\"fill: none; stroke: #b0b0b0; stroke-width: 0.8; stroke-linecap: square\"/>\n     </g>\n     <g id=\"line2d_38\">\n      <g>\n       <use xlink:href=\"#m1d8f1b4887\" x=\"492.025878\" y=\"244.078125\" style=\"stroke: #000000; stroke-width: 0.8\"/>\n      </g>\n     </g>\n     <g id=\"text_22\">\n      <!-- 1.50 -->\n      <g transform=\"translate(480.893066 258.676562) scale(0.1 -0.1)\">\n       <use xlink:href=\"#DejaVuSans-31\"/>\n       <use xlink:href=\"#DejaVuSans-2e\" transform=\"translate(63.623047 0)\"/>\n       <use xlink:href=\"#DejaVuSans-35\" transform=\"translate(95.410156 0)\"/>\n       <use xlink:href=\"#DejaVuSans-30\" transform=\"translate(159.033203 0)\"/>\n      </g>\n     </g>\n    </g>\n    <g id=\"xtick_13\">\n     <g id=\"line2d_39\">\n      <path d=\"M 526.612655 244.078125 \nL 526.612655 22.318125 \n\" clip-path=\"url(#p7de76b0fda)\" style=\"fill: none; stroke: #b0b0b0; stroke-width: 0.8; stroke-linecap: square\"/>\n     </g>\n     <g id=\"line2d_40\">\n      <g>\n       <use xlink:href=\"#m1d8f1b4887\" x=\"526.612655\" y=\"244.078125\" style=\"stroke: #000000; stroke-width: 0.8\"/>\n      </g>\n     </g>\n     <g id=\"text_23\">\n      <!-- 1.75 -->\n      <g transform=\"translate(515.479842 258.676562) scale(0.1 -0.1)\">\n       <use xlink:href=\"#DejaVuSans-31\"/>\n       <use xlink:href=\"#DejaVuSans-2e\" transform=\"translate(63.623047 0)\"/>\n       <use xlink:href=\"#DejaVuSans-37\" transform=\"translate(95.410156 0)\"/>\n       <use xlink:href=\"#DejaVuSans-35\" transform=\"translate(159.033203 0)\"/>\n      </g>\n     </g>\n    </g>\n    <g id=\"xtick_14\">\n     <g id=\"line2d_41\">\n      <path d=\"M 561.199432 244.078125 \nL 561.199432 22.318125 \n\" clip-path=\"url(#p7de76b0fda)\" style=\"fill: none; stroke: #b0b0b0; stroke-width: 0.8; stroke-linecap: square\"/>\n     </g>\n     <g id=\"line2d_42\">\n      <g>\n       <use xlink:href=\"#m1d8f1b4887\" x=\"561.199432\" y=\"244.078125\" style=\"stroke: #000000; stroke-width: 0.8\"/>\n      </g>\n     </g>\n     <g id=\"text_24\">\n      <!-- 2.00 -->\n      <g transform=\"translate(550.066619 258.676562) scale(0.1 -0.1)\">\n       <use xlink:href=\"#DejaVuSans-32\"/>\n       <use xlink:href=\"#DejaVuSans-2e\" transform=\"translate(63.623047 0)\"/>\n       <use xlink:href=\"#DejaVuSans-30\" transform=\"translate(95.410156 0)\"/>\n       <use xlink:href=\"#DejaVuSans-30\" transform=\"translate(159.033203 0)\"/>\n      </g>\n     </g>\n    </g>\n    <g id=\"xtick_15\">\n     <g id=\"line2d_43\">\n      <path d=\"M 595.786209 244.078125 \nL 595.786209 22.318125 \n\" clip-path=\"url(#p7de76b0fda)\" style=\"fill: none; stroke: #b0b0b0; stroke-width: 0.8; stroke-linecap: square\"/>\n     </g>\n     <g id=\"line2d_44\">\n      <g>\n       <use xlink:href=\"#m1d8f1b4887\" x=\"595.786209\" y=\"244.078125\" style=\"stroke: #000000; stroke-width: 0.8\"/>\n      </g>\n     </g>\n     <g id=\"text_25\">\n      <!-- 2.25 -->\n      <g transform=\"translate(584.653396 258.676562) scale(0.1 -0.1)\">\n       <use xlink:href=\"#DejaVuSans-32\"/>\n       <use xlink:href=\"#DejaVuSans-2e\" transform=\"translate(63.623047 0)\"/>\n       <use xlink:href=\"#DejaVuSans-32\" transform=\"translate(95.410156 0)\"/>\n       <use xlink:href=\"#DejaVuSans-35\" transform=\"translate(159.033203 0)\"/>\n      </g>\n     </g>\n    </g>\n    <g id=\"xtick_16\">\n     <g id=\"line2d_45\">\n      <path d=\"M 630.372986 244.078125 \nL 630.372986 22.318125 \n\" clip-path=\"url(#p7de76b0fda)\" style=\"fill: none; stroke: #b0b0b0; stroke-width: 0.8; stroke-linecap: square\"/>\n     </g>\n     <g id=\"line2d_46\">\n      <g>\n       <use xlink:href=\"#m1d8f1b4887\" x=\"630.372986\" y=\"244.078125\" style=\"stroke: #000000; stroke-width: 0.8\"/>\n      </g>\n     </g>\n     <g id=\"text_26\">\n      <!-- 2.50 -->\n      <g transform=\"translate(619.240173 258.676562) scale(0.1 -0.1)\">\n       <use xlink:href=\"#DejaVuSans-32\"/>\n       <use xlink:href=\"#DejaVuSans-2e\" transform=\"translate(63.623047 0)\"/>\n       <use xlink:href=\"#DejaVuSans-35\" transform=\"translate(95.410156 0)\"/>\n       <use xlink:href=\"#DejaVuSans-30\" transform=\"translate(159.033203 0)\"/>\n      </g>\n     </g>\n    </g>\n    <g id=\"xtick_17\">\n     <g id=\"line2d_47\">\n      <path d=\"M 664.959762 244.078125 \nL 664.959762 22.318125 \n\" clip-path=\"url(#p7de76b0fda)\" style=\"fill: none; stroke: #b0b0b0; stroke-width: 0.8; stroke-linecap: square\"/>\n     </g>\n     <g id=\"line2d_48\">\n      <g>\n       <use xlink:href=\"#m1d8f1b4887\" x=\"664.959762\" y=\"244.078125\" style=\"stroke: #000000; stroke-width: 0.8\"/>\n      </g>\n     </g>\n     <g id=\"text_27\">\n      <!-- 2.75 -->\n      <g transform=\"translate(653.82695 258.676562) scale(0.1 -0.1)\">\n       <use xlink:href=\"#DejaVuSans-32\"/>\n       <use xlink:href=\"#DejaVuSans-2e\" transform=\"translate(63.623047 0)\"/>\n       <use xlink:href=\"#DejaVuSans-37\" transform=\"translate(95.410156 0)\"/>\n       <use xlink:href=\"#DejaVuSans-35\" transform=\"translate(159.033203 0)\"/>\n      </g>\n     </g>\n    </g>\n    <g id=\"xtick_18\">\n     <g id=\"line2d_49\">\n      <path d=\"M 699.546539 244.078125 \nL 699.546539 22.318125 \n\" clip-path=\"url(#p7de76b0fda)\" style=\"fill: none; stroke: #b0b0b0; stroke-width: 0.8; stroke-linecap: square\"/>\n     </g>\n     <g id=\"line2d_50\">\n      <g>\n       <use xlink:href=\"#m1d8f1b4887\" x=\"699.546539\" y=\"244.078125\" style=\"stroke: #000000; stroke-width: 0.8\"/>\n      </g>\n     </g>\n     <g id=\"text_28\">\n      <!-- 3.00 -->\n      <g transform=\"translate(688.413727 258.676562) scale(0.1 -0.1)\">\n       <use xlink:href=\"#DejaVuSans-33\"/>\n       <use xlink:href=\"#DejaVuSans-2e\" transform=\"translate(63.623047 0)\"/>\n       <use xlink:href=\"#DejaVuSans-30\" transform=\"translate(95.410156 0)\"/>\n       <use xlink:href=\"#DejaVuSans-30\" transform=\"translate(159.033203 0)\"/>\n      </g>\n     </g>\n    </g>\n    <g id=\"text_29\">\n     <!-- Epochs -->\n     <g transform=\"translate(543.283807 272.354687) scale(0.1 -0.1)\">\n      <use xlink:href=\"#DejaVuSans-45\"/>\n      <use xlink:href=\"#DejaVuSans-70\" transform=\"translate(63.183594 0)\"/>\n      <use xlink:href=\"#DejaVuSans-6f\" transform=\"translate(126.660156 0)\"/>\n      <use xlink:href=\"#DejaVuSans-63\" transform=\"translate(187.841797 0)\"/>\n      <use xlink:href=\"#DejaVuSans-68\" transform=\"translate(242.822266 0)\"/>\n      <use xlink:href=\"#DejaVuSans-73\" transform=\"translate(306.201172 0)\"/>\n     </g>\n    </g>\n   </g>\n   <g id=\"matplotlib.axis_4\">\n    <g id=\"ytick_6\">\n     <g id=\"line2d_51\">\n      <path d=\"M 409.017614 233.998125 \nL 713.38125 233.998125 \n\" clip-path=\"url(#p7de76b0fda)\" style=\"fill: none; stroke: #b0b0b0; stroke-width: 0.8; stroke-linecap: square\"/>\n     </g>\n     <g id=\"line2d_52\">\n      <g>\n       <use xlink:href=\"#mc7513a17df\" x=\"409.017614\" y=\"233.998125\" style=\"stroke: #000000; stroke-width: 0.8\"/>\n      </g>\n     </g>\n     <g id=\"text_30\">\n      <!-- 0.895 -->\n      <g transform=\"translate(373.389489 237.797344) scale(0.1 -0.1)\">\n       <defs>\n        <path id=\"DejaVuSans-38\" d=\"M 2034 2216 \nQ 1584 2216 1326 1975 \nQ 1069 1734 1069 1313 \nQ 1069 891 1326 650 \nQ 1584 409 2034 409 \nQ 2484 409 2743 651 \nQ 3003 894 3003 1313 \nQ 3003 1734 2745 1975 \nQ 2488 2216 2034 2216 \nz\nM 1403 2484 \nQ 997 2584 770 2862 \nQ 544 3141 544 3541 \nQ 544 4100 942 4425 \nQ 1341 4750 2034 4750 \nQ 2731 4750 3128 4425 \nQ 3525 4100 3525 3541 \nQ 3525 3141 3298 2862 \nQ 3072 2584 2669 2484 \nQ 3125 2378 3379 2068 \nQ 3634 1759 3634 1313 \nQ 3634 634 3220 271 \nQ 2806 -91 2034 -91 \nQ 1263 -91 848 271 \nQ 434 634 434 1313 \nQ 434 1759 690 2068 \nQ 947 2378 1403 2484 \nz\nM 1172 3481 \nQ 1172 3119 1398 2916 \nQ 1625 2713 2034 2713 \nQ 2441 2713 2670 2916 \nQ 2900 3119 2900 3481 \nQ 2900 3844 2670 4047 \nQ 2441 4250 2034 4250 \nQ 1625 4250 1398 4047 \nQ 1172 3844 1172 3481 \nz\n\" transform=\"scale(0.015625)\"/>\n        <path id=\"DejaVuSans-39\" d=\"M 703 97 \nL 703 672 \nQ 941 559 1184 500 \nQ 1428 441 1663 441 \nQ 2288 441 2617 861 \nQ 2947 1281 2994 2138 \nQ 2813 1869 2534 1725 \nQ 2256 1581 1919 1581 \nQ 1219 1581 811 2004 \nQ 403 2428 403 3163 \nQ 403 3881 828 4315 \nQ 1253 4750 1959 4750 \nQ 2769 4750 3195 4129 \nQ 3622 3509 3622 2328 \nQ 3622 1225 3098 567 \nQ 2575 -91 1691 -91 \nQ 1453 -91 1209 -44 \nQ 966 3 703 97 \nz\nM 1959 2075 \nQ 2384 2075 2632 2365 \nQ 2881 2656 2881 3163 \nQ 2881 3666 2632 3958 \nQ 2384 4250 1959 4250 \nQ 1534 4250 1286 3958 \nQ 1038 3666 1038 3163 \nQ 1038 2656 1286 2365 \nQ 1534 2075 1959 2075 \nz\n\" transform=\"scale(0.015625)\"/>\n       </defs>\n       <use xlink:href=\"#DejaVuSans-30\"/>\n       <use xlink:href=\"#DejaVuSans-2e\" transform=\"translate(63.623047 0)\"/>\n       <use xlink:href=\"#DejaVuSans-38\" transform=\"translate(95.410156 0)\"/>\n       <use xlink:href=\"#DejaVuSans-39\" transform=\"translate(159.033203 0)\"/>\n       <use xlink:href=\"#DejaVuSans-35\" transform=\"translate(222.65625 0)\"/>\n      </g>\n     </g>\n    </g>\n    <g id=\"ytick_7\">\n     <g id=\"line2d_53\">\n      <path d=\"M 409.017614 202.98274 \nL 713.38125 202.98274 \n\" clip-path=\"url(#p7de76b0fda)\" style=\"fill: none; stroke: #b0b0b0; stroke-width: 0.8; stroke-linecap: square\"/>\n     </g>\n     <g id=\"line2d_54\">\n      <g>\n       <use xlink:href=\"#mc7513a17df\" x=\"409.017614\" y=\"202.98274\" style=\"stroke: #000000; stroke-width: 0.8\"/>\n      </g>\n     </g>\n     <g id=\"text_31\">\n      <!-- 0.900 -->\n      <g transform=\"translate(373.389489 206.781959) scale(0.1 -0.1)\">\n       <use xlink:href=\"#DejaVuSans-30\"/>\n       <use xlink:href=\"#DejaVuSans-2e\" transform=\"translate(63.623047 0)\"/>\n       <use xlink:href=\"#DejaVuSans-39\" transform=\"translate(95.410156 0)\"/>\n       <use xlink:href=\"#DejaVuSans-30\" transform=\"translate(159.033203 0)\"/>\n       <use xlink:href=\"#DejaVuSans-30\" transform=\"translate(222.65625 0)\"/>\n      </g>\n     </g>\n    </g>\n    <g id=\"ytick_8\">\n     <g id=\"line2d_55\">\n      <path d=\"M 409.017614 171.967356 \nL 713.38125 171.967356 \n\" clip-path=\"url(#p7de76b0fda)\" style=\"fill: none; stroke: #b0b0b0; stroke-width: 0.8; stroke-linecap: square\"/>\n     </g>\n     <g id=\"line2d_56\">\n      <g>\n       <use xlink:href=\"#mc7513a17df\" x=\"409.017614\" y=\"171.967356\" style=\"stroke: #000000; stroke-width: 0.8\"/>\n      </g>\n     </g>\n     <g id=\"text_32\">\n      <!-- 0.905 -->\n      <g transform=\"translate(373.389489 175.766575) scale(0.1 -0.1)\">\n       <use xlink:href=\"#DejaVuSans-30\"/>\n       <use xlink:href=\"#DejaVuSans-2e\" transform=\"translate(63.623047 0)\"/>\n       <use xlink:href=\"#DejaVuSans-39\" transform=\"translate(95.410156 0)\"/>\n       <use xlink:href=\"#DejaVuSans-30\" transform=\"translate(159.033203 0)\"/>\n       <use xlink:href=\"#DejaVuSans-35\" transform=\"translate(222.65625 0)\"/>\n      </g>\n     </g>\n    </g>\n    <g id=\"ytick_9\">\n     <g id=\"line2d_57\">\n      <path d=\"M 409.017614 140.951971 \nL 713.38125 140.951971 \n\" clip-path=\"url(#p7de76b0fda)\" style=\"fill: none; stroke: #b0b0b0; stroke-width: 0.8; stroke-linecap: square\"/>\n     </g>\n     <g id=\"line2d_58\">\n      <g>\n       <use xlink:href=\"#mc7513a17df\" x=\"409.017614\" y=\"140.951971\" style=\"stroke: #000000; stroke-width: 0.8\"/>\n      </g>\n     </g>\n     <g id=\"text_33\">\n      <!-- 0.910 -->\n      <g transform=\"translate(373.389489 144.75119) scale(0.1 -0.1)\">\n       <use xlink:href=\"#DejaVuSans-30\"/>\n       <use xlink:href=\"#DejaVuSans-2e\" transform=\"translate(63.623047 0)\"/>\n       <use xlink:href=\"#DejaVuSans-39\" transform=\"translate(95.410156 0)\"/>\n       <use xlink:href=\"#DejaVuSans-31\" transform=\"translate(159.033203 0)\"/>\n       <use xlink:href=\"#DejaVuSans-30\" transform=\"translate(222.65625 0)\"/>\n      </g>\n     </g>\n    </g>\n    <g id=\"ytick_10\">\n     <g id=\"line2d_59\">\n      <path d=\"M 409.017614 109.936587 \nL 713.38125 109.936587 \n\" clip-path=\"url(#p7de76b0fda)\" style=\"fill: none; stroke: #b0b0b0; stroke-width: 0.8; stroke-linecap: square\"/>\n     </g>\n     <g id=\"line2d_60\">\n      <g>\n       <use xlink:href=\"#mc7513a17df\" x=\"409.017614\" y=\"109.936587\" style=\"stroke: #000000; stroke-width: 0.8\"/>\n      </g>\n     </g>\n     <g id=\"text_34\">\n      <!-- 0.915 -->\n      <g transform=\"translate(373.389489 113.735805) scale(0.1 -0.1)\">\n       <use xlink:href=\"#DejaVuSans-30\"/>\n       <use xlink:href=\"#DejaVuSans-2e\" transform=\"translate(63.623047 0)\"/>\n       <use xlink:href=\"#DejaVuSans-39\" transform=\"translate(95.410156 0)\"/>\n       <use xlink:href=\"#DejaVuSans-31\" transform=\"translate(159.033203 0)\"/>\n       <use xlink:href=\"#DejaVuSans-35\" transform=\"translate(222.65625 0)\"/>\n      </g>\n     </g>\n    </g>\n    <g id=\"ytick_11\">\n     <g id=\"line2d_61\">\n      <path d=\"M 409.017614 78.921202 \nL 713.38125 78.921202 \n\" clip-path=\"url(#p7de76b0fda)\" style=\"fill: none; stroke: #b0b0b0; stroke-width: 0.8; stroke-linecap: square\"/>\n     </g>\n     <g id=\"line2d_62\">\n      <g>\n       <use xlink:href=\"#mc7513a17df\" x=\"409.017614\" y=\"78.921202\" style=\"stroke: #000000; stroke-width: 0.8\"/>\n      </g>\n     </g>\n     <g id=\"text_35\">\n      <!-- 0.920 -->\n      <g transform=\"translate(373.389489 82.720421) scale(0.1 -0.1)\">\n       <use xlink:href=\"#DejaVuSans-30\"/>\n       <use xlink:href=\"#DejaVuSans-2e\" transform=\"translate(63.623047 0)\"/>\n       <use xlink:href=\"#DejaVuSans-39\" transform=\"translate(95.410156 0)\"/>\n       <use xlink:href=\"#DejaVuSans-32\" transform=\"translate(159.033203 0)\"/>\n       <use xlink:href=\"#DejaVuSans-30\" transform=\"translate(222.65625 0)\"/>\n      </g>\n     </g>\n    </g>\n    <g id=\"ytick_12\">\n     <g id=\"line2d_63\">\n      <path d=\"M 409.017614 47.905817 \nL 713.38125 47.905817 \n\" clip-path=\"url(#p7de76b0fda)\" style=\"fill: none; stroke: #b0b0b0; stroke-width: 0.8; stroke-linecap: square\"/>\n     </g>\n     <g id=\"line2d_64\">\n      <g>\n       <use xlink:href=\"#mc7513a17df\" x=\"409.017614\" y=\"47.905817\" style=\"stroke: #000000; stroke-width: 0.8\"/>\n      </g>\n     </g>\n     <g id=\"text_36\">\n      <!-- 0.925 -->\n      <g transform=\"translate(373.389489 51.705036) scale(0.1 -0.1)\">\n       <use xlink:href=\"#DejaVuSans-30\"/>\n       <use xlink:href=\"#DejaVuSans-2e\" transform=\"translate(63.623047 0)\"/>\n       <use xlink:href=\"#DejaVuSans-39\" transform=\"translate(95.410156 0)\"/>\n       <use xlink:href=\"#DejaVuSans-32\" transform=\"translate(159.033203 0)\"/>\n       <use xlink:href=\"#DejaVuSans-35\" transform=\"translate(222.65625 0)\"/>\n      </g>\n     </g>\n    </g>\n    <g id=\"text_37\">\n     <!-- Accuracy -->\n     <g transform=\"translate(367.309801 156.02625) rotate(-90) scale(0.1 -0.1)\">\n      <defs>\n       <path id=\"DejaVuSans-41\" d=\"M 2188 4044 \nL 1331 1722 \nL 3047 1722 \nL 2188 4044 \nz\nM 1831 4666 \nL 2547 4666 \nL 4325 0 \nL 3669 0 \nL 3244 1197 \nL 1141 1197 \nL 716 0 \nL 50 0 \nL 1831 4666 \nz\n\" transform=\"scale(0.015625)\"/>\n       <path id=\"DejaVuSans-75\" d=\"M 544 1381 \nL 544 3500 \nL 1119 3500 \nL 1119 1403 \nQ 1119 906 1312 657 \nQ 1506 409 1894 409 \nQ 2359 409 2629 706 \nQ 2900 1003 2900 1516 \nL 2900 3500 \nL 3475 3500 \nL 3475 0 \nL 2900 0 \nL 2900 538 \nQ 2691 219 2414 64 \nQ 2138 -91 1772 -91 \nQ 1169 -91 856 284 \nQ 544 659 544 1381 \nz\nM 1991 3584 \nL 1991 3584 \nz\n\" transform=\"scale(0.015625)\"/>\n       <path id=\"DejaVuSans-79\" d=\"M 2059 -325 \nQ 1816 -950 1584 -1140 \nQ 1353 -1331 966 -1331 \nL 506 -1331 \nL 506 -850 \nL 844 -850 \nQ 1081 -850 1212 -737 \nQ 1344 -625 1503 -206 \nL 1606 56 \nL 191 3500 \nL 800 3500 \nL 1894 763 \nL 2988 3500 \nL 3597 3500 \nL 2059 -325 \nz\n\" transform=\"scale(0.015625)\"/>\n      </defs>\n      <use xlink:href=\"#DejaVuSans-41\"/>\n      <use xlink:href=\"#DejaVuSans-63\" transform=\"translate(66.658203 0)\"/>\n      <use xlink:href=\"#DejaVuSans-63\" transform=\"translate(121.638672 0)\"/>\n      <use xlink:href=\"#DejaVuSans-75\" transform=\"translate(176.619141 0)\"/>\n      <use xlink:href=\"#DejaVuSans-72\" transform=\"translate(239.998047 0)\"/>\n      <use xlink:href=\"#DejaVuSans-61\" transform=\"translate(281.111328 0)\"/>\n      <use xlink:href=\"#DejaVuSans-63\" transform=\"translate(342.390625 0)\"/>\n      <use xlink:href=\"#DejaVuSans-79\" transform=\"translate(397.371094 0)\"/>\n     </g>\n    </g>\n   </g>\n   <g id=\"line2d_65\">\n    <path d=\"M 422.852324 233.998125 \nL 561.199432 94.428894 \nL 699.546539 32.398125 \n\" clip-path=\"url(#p7de76b0fda)\" style=\"fill: none; stroke: #008000; stroke-width: 1.5; stroke-linecap: square\"/>\n    <defs>\n     <path id=\"m057f8722d6\" d=\"M 0 3 \nC 0.795609 3 1.55874 2.683901 2.12132 2.12132 \nC 2.683901 1.55874 3 0.795609 3 0 \nC 3 -0.795609 2.683901 -1.55874 2.12132 -2.12132 \nC 1.55874 -2.683901 0.795609 -3 0 -3 \nC -0.795609 -3 -1.55874 -2.683901 -2.12132 -2.12132 \nC -2.683901 -1.55874 -3 -0.795609 -3 0 \nC -3 0.795609 -2.683901 1.55874 -2.12132 2.12132 \nC -1.55874 2.683901 -0.795609 3 0 3 \nz\n\" style=\"stroke: #008000\"/>\n    </defs>\n    <g clip-path=\"url(#p7de76b0fda)\">\n     <use xlink:href=\"#m057f8722d6\" x=\"422.852324\" y=\"233.998125\" style=\"fill: #008000; stroke: #008000\"/>\n     <use xlink:href=\"#m057f8722d6\" x=\"561.199432\" y=\"94.428894\" style=\"fill: #008000; stroke: #008000\"/>\n     <use xlink:href=\"#m057f8722d6\" x=\"699.546539\" y=\"32.398125\" style=\"fill: #008000; stroke: #008000\"/>\n    </g>\n   </g>\n   <g id=\"patch_9\">\n    <path d=\"M 409.017614 244.078125 \nL 409.017614 22.318125 \n\" style=\"fill: none; stroke: #000000; stroke-width: 0.8; stroke-linejoin: miter; stroke-linecap: square\"/>\n   </g>\n   <g id=\"patch_10\">\n    <path d=\"M 713.38125 244.078125 \nL 713.38125 22.318125 \n\" style=\"fill: none; stroke: #000000; stroke-width: 0.8; stroke-linejoin: miter; stroke-linecap: square\"/>\n   </g>\n   <g id=\"patch_11\">\n    <path d=\"M 409.017614 244.078125 \nL 713.38125 244.078125 \n\" style=\"fill: none; stroke: #000000; stroke-width: 0.8; stroke-linejoin: miter; stroke-linecap: square\"/>\n   </g>\n   <g id=\"patch_12\">\n    <path d=\"M 409.017614 22.318125 \nL 713.38125 22.318125 \n\" style=\"fill: none; stroke: #000000; stroke-width: 0.8; stroke-linejoin: miter; stroke-linecap: square\"/>\n   </g>\n   <g id=\"text_38\">\n    <!-- Validation Accuracy over Epochs -->\n    <g transform=\"translate(463.576619 16.318125) scale(0.12 -0.12)\">\n     <defs>\n      <path id=\"DejaVuSans-65\" d=\"M 3597 1894 \nL 3597 1613 \nL 953 1613 \nQ 991 1019 1311 708 \nQ 1631 397 2203 397 \nQ 2534 397 2845 478 \nQ 3156 559 3463 722 \nL 3463 178 \nQ 3153 47 2828 -22 \nQ 2503 -91 2169 -91 \nQ 1331 -91 842 396 \nQ 353 884 353 1716 \nQ 353 2575 817 3079 \nQ 1281 3584 2069 3584 \nQ 2775 3584 3186 3129 \nQ 3597 2675 3597 1894 \nz\nM 3022 2063 \nQ 3016 2534 2758 2815 \nQ 2500 3097 2075 3097 \nQ 1594 3097 1305 2825 \nQ 1016 2553 972 2059 \nL 3022 2063 \nz\n\" transform=\"scale(0.015625)\"/>\n     </defs>\n     <use xlink:href=\"#DejaVuSans-56\"/>\n     <use xlink:href=\"#DejaVuSans-61\" transform=\"translate(60.658203 0)\"/>\n     <use xlink:href=\"#DejaVuSans-6c\" transform=\"translate(121.9375 0)\"/>\n     <use xlink:href=\"#DejaVuSans-69\" transform=\"translate(149.720703 0)\"/>\n     <use xlink:href=\"#DejaVuSans-64\" transform=\"translate(177.503906 0)\"/>\n     <use xlink:href=\"#DejaVuSans-61\" transform=\"translate(240.980469 0)\"/>\n     <use xlink:href=\"#DejaVuSans-74\" transform=\"translate(302.259766 0)\"/>\n     <use xlink:href=\"#DejaVuSans-69\" transform=\"translate(341.46875 0)\"/>\n     <use xlink:href=\"#DejaVuSans-6f\" transform=\"translate(369.251953 0)\"/>\n     <use xlink:href=\"#DejaVuSans-6e\" transform=\"translate(430.433594 0)\"/>\n     <use xlink:href=\"#DejaVuSans-20\" transform=\"translate(493.8125 0)\"/>\n     <use xlink:href=\"#DejaVuSans-41\" transform=\"translate(525.599609 0)\"/>\n     <use xlink:href=\"#DejaVuSans-63\" transform=\"translate(592.257812 0)\"/>\n     <use xlink:href=\"#DejaVuSans-63\" transform=\"translate(647.238281 0)\"/>\n     <use xlink:href=\"#DejaVuSans-75\" transform=\"translate(702.21875 0)\"/>\n     <use xlink:href=\"#DejaVuSans-72\" transform=\"translate(765.597656 0)\"/>\n     <use xlink:href=\"#DejaVuSans-61\" transform=\"translate(806.710938 0)\"/>\n     <use xlink:href=\"#DejaVuSans-63\" transform=\"translate(867.990234 0)\"/>\n     <use xlink:href=\"#DejaVuSans-79\" transform=\"translate(922.970703 0)\"/>\n     <use xlink:href=\"#DejaVuSans-20\" transform=\"translate(982.150391 0)\"/>\n     <use xlink:href=\"#DejaVuSans-6f\" transform=\"translate(1013.9375 0)\"/>\n     <use xlink:href=\"#DejaVuSans-76\" transform=\"translate(1075.119141 0)\"/>\n     <use xlink:href=\"#DejaVuSans-65\" transform=\"translate(1134.298828 0)\"/>\n     <use xlink:href=\"#DejaVuSans-72\" transform=\"translate(1195.822266 0)\"/>\n     <use xlink:href=\"#DejaVuSans-20\" transform=\"translate(1236.935547 0)\"/>\n     <use xlink:href=\"#DejaVuSans-45\" transform=\"translate(1268.722656 0)\"/>\n     <use xlink:href=\"#DejaVuSans-70\" transform=\"translate(1331.90625 0)\"/>\n     <use xlink:href=\"#DejaVuSans-6f\" transform=\"translate(1395.382812 0)\"/>\n     <use xlink:href=\"#DejaVuSans-63\" transform=\"translate(1456.564453 0)\"/>\n     <use xlink:href=\"#DejaVuSans-68\" transform=\"translate(1511.544922 0)\"/>\n     <use xlink:href=\"#DejaVuSans-73\" transform=\"translate(1574.923828 0)\"/>\n    </g>\n   </g>\n   <g id=\"legend_2\">\n    <g id=\"patch_13\">\n     <path d=\"M 416.017614 44.99625 \nL 546.233239 44.99625 \nQ 548.233239 44.99625 548.233239 42.99625 \nL 548.233239 29.318125 \nQ 548.233239 27.318125 546.233239 27.318125 \nL 416.017614 27.318125 \nQ 414.017614 27.318125 414.017614 29.318125 \nL 414.017614 42.99625 \nQ 414.017614 44.99625 416.017614 44.99625 \nz\n\" style=\"fill: #ffffff; opacity: 0.8; stroke: #cccccc; stroke-linejoin: miter\"/>\n    </g>\n    <g id=\"line2d_66\">\n     <path d=\"M 418.017614 35.416562 \nL 428.017614 35.416562 \nL 438.017614 35.416562 \n\" style=\"fill: none; stroke: #008000; stroke-width: 1.5; stroke-linecap: square\"/>\n     <g>\n      <use xlink:href=\"#m057f8722d6\" x=\"428.017614\" y=\"35.416562\" style=\"fill: #008000; stroke: #008000\"/>\n     </g>\n    </g>\n    <g id=\"text_39\">\n     <!-- Validation Accuracy -->\n     <g transform=\"translate(446.017614 38.916562) scale(0.1 -0.1)\">\n      <use xlink:href=\"#DejaVuSans-56\"/>\n      <use xlink:href=\"#DejaVuSans-61\" transform=\"translate(60.658203 0)\"/>\n      <use xlink:href=\"#DejaVuSans-6c\" transform=\"translate(121.9375 0)\"/>\n      <use xlink:href=\"#DejaVuSans-69\" transform=\"translate(149.720703 0)\"/>\n      <use xlink:href=\"#DejaVuSans-64\" transform=\"translate(177.503906 0)\"/>\n      <use xlink:href=\"#DejaVuSans-61\" transform=\"translate(240.980469 0)\"/>\n      <use xlink:href=\"#DejaVuSans-74\" transform=\"translate(302.259766 0)\"/>\n      <use xlink:href=\"#DejaVuSans-69\" transform=\"translate(341.46875 0)\"/>\n      <use xlink:href=\"#DejaVuSans-6f\" transform=\"translate(369.251953 0)\"/>\n      <use xlink:href=\"#DejaVuSans-6e\" transform=\"translate(430.433594 0)\"/>\n      <use xlink:href=\"#DejaVuSans-20\" transform=\"translate(493.8125 0)\"/>\n      <use xlink:href=\"#DejaVuSans-41\" transform=\"translate(525.599609 0)\"/>\n      <use xlink:href=\"#DejaVuSans-63\" transform=\"translate(592.257812 0)\"/>\n      <use xlink:href=\"#DejaVuSans-63\" transform=\"translate(647.238281 0)\"/>\n      <use xlink:href=\"#DejaVuSans-75\" transform=\"translate(702.21875 0)\"/>\n      <use xlink:href=\"#DejaVuSans-72\" transform=\"translate(765.597656 0)\"/>\n      <use xlink:href=\"#DejaVuSans-61\" transform=\"translate(806.710938 0)\"/>\n      <use xlink:href=\"#DejaVuSans-63\" transform=\"translate(867.990234 0)\"/>\n      <use xlink:href=\"#DejaVuSans-79\" transform=\"translate(922.970703 0)\"/>\n     </g>\n    </g>\n   </g>\n  </g>\n </g>\n <defs>\n  <clipPath id=\"p0b19ed87ab\">\n   <rect x=\"43.78125\" y=\"22.318125\" width=\"304.363636\" height=\"221.76\"/>\n  </clipPath>\n  <clipPath id=\"p7de76b0fda\">\n   <rect x=\"409.017614\" y=\"22.318125\" width=\"304.363636\" height=\"221.76\"/>\n  </clipPath>\n </defs>\n</svg>\n"
          },
          "metadata": {}
        }
      ],
      "source": [
        "LLM_RoBERTa_256.train_and_validate(save_dir=\"./roberta-best\")\n",
        "LLM_RoBERTa_256.plot_history()"
      ]
    },
    {
      "cell_type": "markdown",
      "source": [
        "Comparons les courbes d'accuracy associée `DistilBERT` et `RoBERTa`."
      ],
      "metadata": {
        "id": "EV6JRug6lmiW"
      },
      "id": "EV6JRug6lmiW"
    },
    {
      "cell_type": "code",
      "source": [
        "# Récupération des accuracies\n",
        "epochs = range(1, len(LLM_RoBERTa_256.history[\"val_acc\"]) + 1)\n",
        "val_acc_DistilBERT = LLM_DistilBERT.history[\"val_acc\"]\n",
        "val_acc_RoBERTa_256 = LLM_RoBERTa_256.history[\"val_acc\"]\n",
        "\n",
        "# Tracé\n",
        "plt.figure(figsize=(8, 5))\n",
        "plt.plot(epochs, val_acc_DistilBERT, marker='o', label=\"LLM_DistilBERT\")\n",
        "plt.plot(epochs, val_acc_RoBERTa_256, marker='s', label=\"LLM_RoBERTa\")\n",
        "\n",
        "# Mise en forme\n",
        "plt.title(\"Validation Accuracy per Epoch\")\n",
        "plt.xlabel(\"Epochs\")\n",
        "plt.ylabel(\"Validation Accuracy\")\n",
        "plt.legend()\n",
        "plt.grid(True)\n",
        "plt.show()"
      ],
      "metadata": {
        "id": "IJWjakcKk7h3",
        "outputId": "fd0a78fa-d26a-412d-a434-348dc2a70b50",
        "colab": {
          "base_uri": "https://localhost:8080/",
          "height": 470
        }
      },
      "id": "IJWjakcKk7h3",
      "execution_count": 110,
      "outputs": [
        {
          "output_type": "display_data",
          "data": {
            "text/plain": [
              "<Figure size 800x500 with 1 Axes>"
            ],
            "image/svg+xml": "<?xml version=\"1.0\" encoding=\"utf-8\" standalone=\"no\"?>\n<!DOCTYPE svg PUBLIC \"-//W3C//DTD SVG 1.1//EN\"\n  \"http://www.w3.org/Graphics/SVG/1.1/DTD/svg11.dtd\">\n<svg xmlns:xlink=\"http://www.w3.org/1999/xlink\" width=\"503.74375pt\" height=\"337.074375pt\" viewBox=\"0 0 503.74375 337.074375\" xmlns=\"http://www.w3.org/2000/svg\" version=\"1.1\">\n <metadata>\n  <rdf:RDF xmlns:dc=\"http://purl.org/dc/elements/1.1/\" xmlns:cc=\"http://creativecommons.org/ns#\" xmlns:rdf=\"http://www.w3.org/1999/02/22-rdf-syntax-ns#\">\n   <cc:Work>\n    <dc:type rdf:resource=\"http://purl.org/dc/dcmitype/StillImage\"/>\n    <dc:date>2025-09-14T13:17:52.765012</dc:date>\n    <dc:format>image/svg+xml</dc:format>\n    <dc:creator>\n     <cc:Agent>\n      <dc:title>Matplotlib v3.10.0, https://matplotlib.org/</dc:title>\n     </cc:Agent>\n    </dc:creator>\n   </cc:Work>\n  </rdf:RDF>\n </metadata>\n <defs>\n  <style type=\"text/css\">*{stroke-linejoin: round; stroke-linecap: butt}</style>\n </defs>\n <g id=\"figure_1\">\n  <g id=\"patch_1\">\n   <path d=\"M 0 337.074375 \nL 503.74375 337.074375 \nL 503.74375 0 \nL 0 0 \nz\n\" style=\"fill: #ffffff\"/>\n  </g>\n  <g id=\"axes_1\">\n   <g id=\"patch_2\">\n    <path d=\"M 50.14375 299.518125 \nL 496.54375 299.518125 \nL 496.54375 22.318125 \nL 50.14375 22.318125 \nz\n\" style=\"fill: #ffffff\"/>\n   </g>\n   <g id=\"matplotlib.axis_1\">\n    <g id=\"xtick_1\">\n     <g id=\"line2d_1\">\n      <path d=\"M 70.434659 299.518125 \nL 70.434659 22.318125 \n\" clip-path=\"url(#pa4112787f4)\" style=\"fill: none; stroke: #b0b0b0; stroke-width: 0.8; stroke-linecap: square\"/>\n     </g>\n     <g id=\"line2d_2\">\n      <defs>\n       <path id=\"m6d37beae10\" d=\"M 0 0 \nL 0 3.5 \n\" style=\"stroke: #000000; stroke-width: 0.8\"/>\n      </defs>\n      <g>\n       <use xlink:href=\"#m6d37beae10\" x=\"70.434659\" y=\"299.518125\" style=\"stroke: #000000; stroke-width: 0.8\"/>\n      </g>\n     </g>\n     <g id=\"text_1\">\n      <!-- 1.00 -->\n      <g transform=\"translate(59.301847 314.116563) scale(0.1 -0.1)\">\n       <defs>\n        <path id=\"DejaVuSans-31\" d=\"M 794 531 \nL 1825 531 \nL 1825 4091 \nL 703 3866 \nL 703 4441 \nL 1819 4666 \nL 2450 4666 \nL 2450 531 \nL 3481 531 \nL 3481 0 \nL 794 0 \nL 794 531 \nz\n\" transform=\"scale(0.015625)\"/>\n        <path id=\"DejaVuSans-2e\" d=\"M 684 794 \nL 1344 794 \nL 1344 0 \nL 684 0 \nL 684 794 \nz\n\" transform=\"scale(0.015625)\"/>\n        <path id=\"DejaVuSans-30\" d=\"M 2034 4250 \nQ 1547 4250 1301 3770 \nQ 1056 3291 1056 2328 \nQ 1056 1369 1301 889 \nQ 1547 409 2034 409 \nQ 2525 409 2770 889 \nQ 3016 1369 3016 2328 \nQ 3016 3291 2770 3770 \nQ 2525 4250 2034 4250 \nz\nM 2034 4750 \nQ 2819 4750 3233 4129 \nQ 3647 3509 3647 2328 \nQ 3647 1150 3233 529 \nQ 2819 -91 2034 -91 \nQ 1250 -91 836 529 \nQ 422 1150 422 2328 \nQ 422 3509 836 4129 \nQ 1250 4750 2034 4750 \nz\n\" transform=\"scale(0.015625)\"/>\n       </defs>\n       <use xlink:href=\"#DejaVuSans-31\"/>\n       <use xlink:href=\"#DejaVuSans-2e\" transform=\"translate(63.623047 0)\"/>\n       <use xlink:href=\"#DejaVuSans-30\" transform=\"translate(95.410156 0)\"/>\n       <use xlink:href=\"#DejaVuSans-30\" transform=\"translate(159.033203 0)\"/>\n      </g>\n     </g>\n    </g>\n    <g id=\"xtick_2\">\n     <g id=\"line2d_3\">\n      <path d=\"M 121.161932 299.518125 \nL 121.161932 22.318125 \n\" clip-path=\"url(#pa4112787f4)\" style=\"fill: none; stroke: #b0b0b0; stroke-width: 0.8; stroke-linecap: square\"/>\n     </g>\n     <g id=\"line2d_4\">\n      <g>\n       <use xlink:href=\"#m6d37beae10\" x=\"121.161932\" y=\"299.518125\" style=\"stroke: #000000; stroke-width: 0.8\"/>\n      </g>\n     </g>\n     <g id=\"text_2\">\n      <!-- 1.25 -->\n      <g transform=\"translate(110.029119 314.116563) scale(0.1 -0.1)\">\n       <defs>\n        <path id=\"DejaVuSans-32\" d=\"M 1228 531 \nL 3431 531 \nL 3431 0 \nL 469 0 \nL 469 531 \nQ 828 903 1448 1529 \nQ 2069 2156 2228 2338 \nQ 2531 2678 2651 2914 \nQ 2772 3150 2772 3378 \nQ 2772 3750 2511 3984 \nQ 2250 4219 1831 4219 \nQ 1534 4219 1204 4116 \nQ 875 4013 500 3803 \nL 500 4441 \nQ 881 4594 1212 4672 \nQ 1544 4750 1819 4750 \nQ 2544 4750 2975 4387 \nQ 3406 4025 3406 3419 \nQ 3406 3131 3298 2873 \nQ 3191 2616 2906 2266 \nQ 2828 2175 2409 1742 \nQ 1991 1309 1228 531 \nz\n\" transform=\"scale(0.015625)\"/>\n        <path id=\"DejaVuSans-35\" d=\"M 691 4666 \nL 3169 4666 \nL 3169 4134 \nL 1269 4134 \nL 1269 2991 \nQ 1406 3038 1543 3061 \nQ 1681 3084 1819 3084 \nQ 2600 3084 3056 2656 \nQ 3513 2228 3513 1497 \nQ 3513 744 3044 326 \nQ 2575 -91 1722 -91 \nQ 1428 -91 1123 -41 \nQ 819 9 494 109 \nL 494 744 \nQ 775 591 1075 516 \nQ 1375 441 1709 441 \nQ 2250 441 2565 725 \nQ 2881 1009 2881 1497 \nQ 2881 1984 2565 2268 \nQ 2250 2553 1709 2553 \nQ 1456 2553 1204 2497 \nQ 953 2441 691 2322 \nL 691 4666 \nz\n\" transform=\"scale(0.015625)\"/>\n       </defs>\n       <use xlink:href=\"#DejaVuSans-31\"/>\n       <use xlink:href=\"#DejaVuSans-2e\" transform=\"translate(63.623047 0)\"/>\n       <use xlink:href=\"#DejaVuSans-32\" transform=\"translate(95.410156 0)\"/>\n       <use xlink:href=\"#DejaVuSans-35\" transform=\"translate(159.033203 0)\"/>\n      </g>\n     </g>\n    </g>\n    <g id=\"xtick_3\">\n     <g id=\"line2d_5\">\n      <path d=\"M 171.889205 299.518125 \nL 171.889205 22.318125 \n\" clip-path=\"url(#pa4112787f4)\" style=\"fill: none; stroke: #b0b0b0; stroke-width: 0.8; stroke-linecap: square\"/>\n     </g>\n     <g id=\"line2d_6\">\n      <g>\n       <use xlink:href=\"#m6d37beae10\" x=\"171.889205\" y=\"299.518125\" style=\"stroke: #000000; stroke-width: 0.8\"/>\n      </g>\n     </g>\n     <g id=\"text_3\">\n      <!-- 1.50 -->\n      <g transform=\"translate(160.756392 314.116563) scale(0.1 -0.1)\">\n       <use xlink:href=\"#DejaVuSans-31\"/>\n       <use xlink:href=\"#DejaVuSans-2e\" transform=\"translate(63.623047 0)\"/>\n       <use xlink:href=\"#DejaVuSans-35\" transform=\"translate(95.410156 0)\"/>\n       <use xlink:href=\"#DejaVuSans-30\" transform=\"translate(159.033203 0)\"/>\n      </g>\n     </g>\n    </g>\n    <g id=\"xtick_4\">\n     <g id=\"line2d_7\">\n      <path d=\"M 222.616477 299.518125 \nL 222.616477 22.318125 \n\" clip-path=\"url(#pa4112787f4)\" style=\"fill: none; stroke: #b0b0b0; stroke-width: 0.8; stroke-linecap: square\"/>\n     </g>\n     <g id=\"line2d_8\">\n      <g>\n       <use xlink:href=\"#m6d37beae10\" x=\"222.616477\" y=\"299.518125\" style=\"stroke: #000000; stroke-width: 0.8\"/>\n      </g>\n     </g>\n     <g id=\"text_4\">\n      <!-- 1.75 -->\n      <g transform=\"translate(211.483665 314.116563) scale(0.1 -0.1)\">\n       <defs>\n        <path id=\"DejaVuSans-37\" d=\"M 525 4666 \nL 3525 4666 \nL 3525 4397 \nL 1831 0 \nL 1172 0 \nL 2766 4134 \nL 525 4134 \nL 525 4666 \nz\n\" transform=\"scale(0.015625)\"/>\n       </defs>\n       <use xlink:href=\"#DejaVuSans-31\"/>\n       <use xlink:href=\"#DejaVuSans-2e\" transform=\"translate(63.623047 0)\"/>\n       <use xlink:href=\"#DejaVuSans-37\" transform=\"translate(95.410156 0)\"/>\n       <use xlink:href=\"#DejaVuSans-35\" transform=\"translate(159.033203 0)\"/>\n      </g>\n     </g>\n    </g>\n    <g id=\"xtick_5\">\n     <g id=\"line2d_9\">\n      <path d=\"M 273.34375 299.518125 \nL 273.34375 22.318125 \n\" clip-path=\"url(#pa4112787f4)\" style=\"fill: none; stroke: #b0b0b0; stroke-width: 0.8; stroke-linecap: square\"/>\n     </g>\n     <g id=\"line2d_10\">\n      <g>\n       <use xlink:href=\"#m6d37beae10\" x=\"273.34375\" y=\"299.518125\" style=\"stroke: #000000; stroke-width: 0.8\"/>\n      </g>\n     </g>\n     <g id=\"text_5\">\n      <!-- 2.00 -->\n      <g transform=\"translate(262.210938 314.116563) scale(0.1 -0.1)\">\n       <use xlink:href=\"#DejaVuSans-32\"/>\n       <use xlink:href=\"#DejaVuSans-2e\" transform=\"translate(63.623047 0)\"/>\n       <use xlink:href=\"#DejaVuSans-30\" transform=\"translate(95.410156 0)\"/>\n       <use xlink:href=\"#DejaVuSans-30\" transform=\"translate(159.033203 0)\"/>\n      </g>\n     </g>\n    </g>\n    <g id=\"xtick_6\">\n     <g id=\"line2d_11\">\n      <path d=\"M 324.071023 299.518125 \nL 324.071023 22.318125 \n\" clip-path=\"url(#pa4112787f4)\" style=\"fill: none; stroke: #b0b0b0; stroke-width: 0.8; stroke-linecap: square\"/>\n     </g>\n     <g id=\"line2d_12\">\n      <g>\n       <use xlink:href=\"#m6d37beae10\" x=\"324.071023\" y=\"299.518125\" style=\"stroke: #000000; stroke-width: 0.8\"/>\n      </g>\n     </g>\n     <g id=\"text_6\">\n      <!-- 2.25 -->\n      <g transform=\"translate(312.93821 314.116563) scale(0.1 -0.1)\">\n       <use xlink:href=\"#DejaVuSans-32\"/>\n       <use xlink:href=\"#DejaVuSans-2e\" transform=\"translate(63.623047 0)\"/>\n       <use xlink:href=\"#DejaVuSans-32\" transform=\"translate(95.410156 0)\"/>\n       <use xlink:href=\"#DejaVuSans-35\" transform=\"translate(159.033203 0)\"/>\n      </g>\n     </g>\n    </g>\n    <g id=\"xtick_7\">\n     <g id=\"line2d_13\">\n      <path d=\"M 374.798295 299.518125 \nL 374.798295 22.318125 \n\" clip-path=\"url(#pa4112787f4)\" style=\"fill: none; stroke: #b0b0b0; stroke-width: 0.8; stroke-linecap: square\"/>\n     </g>\n     <g id=\"line2d_14\">\n      <g>\n       <use xlink:href=\"#m6d37beae10\" x=\"374.798295\" y=\"299.518125\" style=\"stroke: #000000; stroke-width: 0.8\"/>\n      </g>\n     </g>\n     <g id=\"text_7\">\n      <!-- 2.50 -->\n      <g transform=\"translate(363.665483 314.116563) scale(0.1 -0.1)\">\n       <use xlink:href=\"#DejaVuSans-32\"/>\n       <use xlink:href=\"#DejaVuSans-2e\" transform=\"translate(63.623047 0)\"/>\n       <use xlink:href=\"#DejaVuSans-35\" transform=\"translate(95.410156 0)\"/>\n       <use xlink:href=\"#DejaVuSans-30\" transform=\"translate(159.033203 0)\"/>\n      </g>\n     </g>\n    </g>\n    <g id=\"xtick_8\">\n     <g id=\"line2d_15\">\n      <path d=\"M 425.525568 299.518125 \nL 425.525568 22.318125 \n\" clip-path=\"url(#pa4112787f4)\" style=\"fill: none; stroke: #b0b0b0; stroke-width: 0.8; stroke-linecap: square\"/>\n     </g>\n     <g id=\"line2d_16\">\n      <g>\n       <use xlink:href=\"#m6d37beae10\" x=\"425.525568\" y=\"299.518125\" style=\"stroke: #000000; stroke-width: 0.8\"/>\n      </g>\n     </g>\n     <g id=\"text_8\">\n      <!-- 2.75 -->\n      <g transform=\"translate(414.392756 314.116563) scale(0.1 -0.1)\">\n       <use xlink:href=\"#DejaVuSans-32\"/>\n       <use xlink:href=\"#DejaVuSans-2e\" transform=\"translate(63.623047 0)\"/>\n       <use xlink:href=\"#DejaVuSans-37\" transform=\"translate(95.410156 0)\"/>\n       <use xlink:href=\"#DejaVuSans-35\" transform=\"translate(159.033203 0)\"/>\n      </g>\n     </g>\n    </g>\n    <g id=\"xtick_9\">\n     <g id=\"line2d_17\">\n      <path d=\"M 476.252841 299.518125 \nL 476.252841 22.318125 \n\" clip-path=\"url(#pa4112787f4)\" style=\"fill: none; stroke: #b0b0b0; stroke-width: 0.8; stroke-linecap: square\"/>\n     </g>\n     <g id=\"line2d_18\">\n      <g>\n       <use xlink:href=\"#m6d37beae10\" x=\"476.252841\" y=\"299.518125\" style=\"stroke: #000000; stroke-width: 0.8\"/>\n      </g>\n     </g>\n     <g id=\"text_9\">\n      <!-- 3.00 -->\n      <g transform=\"translate(465.120028 314.116563) scale(0.1 -0.1)\">\n       <defs>\n        <path id=\"DejaVuSans-33\" d=\"M 2597 2516 \nQ 3050 2419 3304 2112 \nQ 3559 1806 3559 1356 \nQ 3559 666 3084 287 \nQ 2609 -91 1734 -91 \nQ 1441 -91 1130 -33 \nQ 819 25 488 141 \nL 488 750 \nQ 750 597 1062 519 \nQ 1375 441 1716 441 \nQ 2309 441 2620 675 \nQ 2931 909 2931 1356 \nQ 2931 1769 2642 2001 \nQ 2353 2234 1838 2234 \nL 1294 2234 \nL 1294 2753 \nL 1863 2753 \nQ 2328 2753 2575 2939 \nQ 2822 3125 2822 3475 \nQ 2822 3834 2567 4026 \nQ 2313 4219 1838 4219 \nQ 1578 4219 1281 4162 \nQ 984 4106 628 3988 \nL 628 4550 \nQ 988 4650 1302 4700 \nQ 1616 4750 1894 4750 \nQ 2613 4750 3031 4423 \nQ 3450 4097 3450 3541 \nQ 3450 3153 3228 2886 \nQ 3006 2619 2597 2516 \nz\n\" transform=\"scale(0.015625)\"/>\n       </defs>\n       <use xlink:href=\"#DejaVuSans-33\"/>\n       <use xlink:href=\"#DejaVuSans-2e\" transform=\"translate(63.623047 0)\"/>\n       <use xlink:href=\"#DejaVuSans-30\" transform=\"translate(95.410156 0)\"/>\n       <use xlink:href=\"#DejaVuSans-30\" transform=\"translate(159.033203 0)\"/>\n      </g>\n     </g>\n    </g>\n    <g id=\"text_10\">\n     <!-- Epochs -->\n     <g transform=\"translate(255.428125 327.794688) scale(0.1 -0.1)\">\n      <defs>\n       <path id=\"DejaVuSans-45\" d=\"M 628 4666 \nL 3578 4666 \nL 3578 4134 \nL 1259 4134 \nL 1259 2753 \nL 3481 2753 \nL 3481 2222 \nL 1259 2222 \nL 1259 531 \nL 3634 531 \nL 3634 0 \nL 628 0 \nL 628 4666 \nz\n\" transform=\"scale(0.015625)\"/>\n       <path id=\"DejaVuSans-70\" d=\"M 1159 525 \nL 1159 -1331 \nL 581 -1331 \nL 581 3500 \nL 1159 3500 \nL 1159 2969 \nQ 1341 3281 1617 3432 \nQ 1894 3584 2278 3584 \nQ 2916 3584 3314 3078 \nQ 3713 2572 3713 1747 \nQ 3713 922 3314 415 \nQ 2916 -91 2278 -91 \nQ 1894 -91 1617 61 \nQ 1341 213 1159 525 \nz\nM 3116 1747 \nQ 3116 2381 2855 2742 \nQ 2594 3103 2138 3103 \nQ 1681 3103 1420 2742 \nQ 1159 2381 1159 1747 \nQ 1159 1113 1420 752 \nQ 1681 391 2138 391 \nQ 2594 391 2855 752 \nQ 3116 1113 3116 1747 \nz\n\" transform=\"scale(0.015625)\"/>\n       <path id=\"DejaVuSans-6f\" d=\"M 1959 3097 \nQ 1497 3097 1228 2736 \nQ 959 2375 959 1747 \nQ 959 1119 1226 758 \nQ 1494 397 1959 397 \nQ 2419 397 2687 759 \nQ 2956 1122 2956 1747 \nQ 2956 2369 2687 2733 \nQ 2419 3097 1959 3097 \nz\nM 1959 3584 \nQ 2709 3584 3137 3096 \nQ 3566 2609 3566 1747 \nQ 3566 888 3137 398 \nQ 2709 -91 1959 -91 \nQ 1206 -91 779 398 \nQ 353 888 353 1747 \nQ 353 2609 779 3096 \nQ 1206 3584 1959 3584 \nz\n\" transform=\"scale(0.015625)\"/>\n       <path id=\"DejaVuSans-63\" d=\"M 3122 3366 \nL 3122 2828 \nQ 2878 2963 2633 3030 \nQ 2388 3097 2138 3097 \nQ 1578 3097 1268 2742 \nQ 959 2388 959 1747 \nQ 959 1106 1268 751 \nQ 1578 397 2138 397 \nQ 2388 397 2633 464 \nQ 2878 531 3122 666 \nL 3122 134 \nQ 2881 22 2623 -34 \nQ 2366 -91 2075 -91 \nQ 1284 -91 818 406 \nQ 353 903 353 1747 \nQ 353 2603 823 3093 \nQ 1294 3584 2113 3584 \nQ 2378 3584 2631 3529 \nQ 2884 3475 3122 3366 \nz\n\" transform=\"scale(0.015625)\"/>\n       <path id=\"DejaVuSans-68\" d=\"M 3513 2113 \nL 3513 0 \nL 2938 0 \nL 2938 2094 \nQ 2938 2591 2744 2837 \nQ 2550 3084 2163 3084 \nQ 1697 3084 1428 2787 \nQ 1159 2491 1159 1978 \nL 1159 0 \nL 581 0 \nL 581 4863 \nL 1159 4863 \nL 1159 2956 \nQ 1366 3272 1645 3428 \nQ 1925 3584 2291 3584 \nQ 2894 3584 3203 3211 \nQ 3513 2838 3513 2113 \nz\n\" transform=\"scale(0.015625)\"/>\n       <path id=\"DejaVuSans-73\" d=\"M 2834 3397 \nL 2834 2853 \nQ 2591 2978 2328 3040 \nQ 2066 3103 1784 3103 \nQ 1356 3103 1142 2972 \nQ 928 2841 928 2578 \nQ 928 2378 1081 2264 \nQ 1234 2150 1697 2047 \nL 1894 2003 \nQ 2506 1872 2764 1633 \nQ 3022 1394 3022 966 \nQ 3022 478 2636 193 \nQ 2250 -91 1575 -91 \nQ 1294 -91 989 -36 \nQ 684 19 347 128 \nL 347 722 \nQ 666 556 975 473 \nQ 1284 391 1588 391 \nQ 1994 391 2212 530 \nQ 2431 669 2431 922 \nQ 2431 1156 2273 1281 \nQ 2116 1406 1581 1522 \nL 1381 1569 \nQ 847 1681 609 1914 \nQ 372 2147 372 2553 \nQ 372 3047 722 3315 \nQ 1072 3584 1716 3584 \nQ 2034 3584 2315 3537 \nQ 2597 3491 2834 3397 \nz\n\" transform=\"scale(0.015625)\"/>\n      </defs>\n      <use xlink:href=\"#DejaVuSans-45\"/>\n      <use xlink:href=\"#DejaVuSans-70\" transform=\"translate(63.183594 0)\"/>\n      <use xlink:href=\"#DejaVuSans-6f\" transform=\"translate(126.660156 0)\"/>\n      <use xlink:href=\"#DejaVuSans-63\" transform=\"translate(187.841797 0)\"/>\n      <use xlink:href=\"#DejaVuSans-68\" transform=\"translate(242.822266 0)\"/>\n      <use xlink:href=\"#DejaVuSans-73\" transform=\"translate(306.201172 0)\"/>\n     </g>\n    </g>\n   </g>\n   <g id=\"matplotlib.axis_2\">\n    <g id=\"ytick_1\">\n     <g id=\"line2d_19\">\n      <path d=\"M 50.14375 291.958125 \nL 496.54375 291.958125 \n\" clip-path=\"url(#pa4112787f4)\" style=\"fill: none; stroke: #b0b0b0; stroke-width: 0.8; stroke-linecap: square\"/>\n     </g>\n     <g id=\"line2d_20\">\n      <defs>\n       <path id=\"m783660538a\" d=\"M 0 0 \nL -3.5 0 \n\" style=\"stroke: #000000; stroke-width: 0.8\"/>\n      </defs>\n      <g>\n       <use xlink:href=\"#m783660538a\" x=\"50.14375\" y=\"291.958125\" style=\"stroke: #000000; stroke-width: 0.8\"/>\n      </g>\n     </g>\n     <g id=\"text_11\">\n      <!-- 0.80 -->\n      <g transform=\"translate(20.878125 295.757344) scale(0.1 -0.1)\">\n       <defs>\n        <path id=\"DejaVuSans-38\" d=\"M 2034 2216 \nQ 1584 2216 1326 1975 \nQ 1069 1734 1069 1313 \nQ 1069 891 1326 650 \nQ 1584 409 2034 409 \nQ 2484 409 2743 651 \nQ 3003 894 3003 1313 \nQ 3003 1734 2745 1975 \nQ 2488 2216 2034 2216 \nz\nM 1403 2484 \nQ 997 2584 770 2862 \nQ 544 3141 544 3541 \nQ 544 4100 942 4425 \nQ 1341 4750 2034 4750 \nQ 2731 4750 3128 4425 \nQ 3525 4100 3525 3541 \nQ 3525 3141 3298 2862 \nQ 3072 2584 2669 2484 \nQ 3125 2378 3379 2068 \nQ 3634 1759 3634 1313 \nQ 3634 634 3220 271 \nQ 2806 -91 2034 -91 \nQ 1263 -91 848 271 \nQ 434 634 434 1313 \nQ 434 1759 690 2068 \nQ 947 2378 1403 2484 \nz\nM 1172 3481 \nQ 1172 3119 1398 2916 \nQ 1625 2713 2034 2713 \nQ 2441 2713 2670 2916 \nQ 2900 3119 2900 3481 \nQ 2900 3844 2670 4047 \nQ 2441 4250 2034 4250 \nQ 1625 4250 1398 4047 \nQ 1172 3844 1172 3481 \nz\n\" transform=\"scale(0.015625)\"/>\n       </defs>\n       <use xlink:href=\"#DejaVuSans-30\"/>\n       <use xlink:href=\"#DejaVuSans-2e\" transform=\"translate(63.623047 0)\"/>\n       <use xlink:href=\"#DejaVuSans-38\" transform=\"translate(95.410156 0)\"/>\n       <use xlink:href=\"#DejaVuSans-30\" transform=\"translate(159.033203 0)\"/>\n      </g>\n     </g>\n    </g>\n    <g id=\"ytick_2\">\n     <g id=\"line2d_21\">\n      <path d=\"M 50.14375 251.638125 \nL 496.54375 251.638125 \n\" clip-path=\"url(#pa4112787f4)\" style=\"fill: none; stroke: #b0b0b0; stroke-width: 0.8; stroke-linecap: square\"/>\n     </g>\n     <g id=\"line2d_22\">\n      <g>\n       <use xlink:href=\"#m783660538a\" x=\"50.14375\" y=\"251.638125\" style=\"stroke: #000000; stroke-width: 0.8\"/>\n      </g>\n     </g>\n     <g id=\"text_12\">\n      <!-- 0.82 -->\n      <g transform=\"translate(20.878125 255.437344) scale(0.1 -0.1)\">\n       <use xlink:href=\"#DejaVuSans-30\"/>\n       <use xlink:href=\"#DejaVuSans-2e\" transform=\"translate(63.623047 0)\"/>\n       <use xlink:href=\"#DejaVuSans-38\" transform=\"translate(95.410156 0)\"/>\n       <use xlink:href=\"#DejaVuSans-32\" transform=\"translate(159.033203 0)\"/>\n      </g>\n     </g>\n    </g>\n    <g id=\"ytick_3\">\n     <g id=\"line2d_23\">\n      <path d=\"M 50.14375 211.318125 \nL 496.54375 211.318125 \n\" clip-path=\"url(#pa4112787f4)\" style=\"fill: none; stroke: #b0b0b0; stroke-width: 0.8; stroke-linecap: square\"/>\n     </g>\n     <g id=\"line2d_24\">\n      <g>\n       <use xlink:href=\"#m783660538a\" x=\"50.14375\" y=\"211.318125\" style=\"stroke: #000000; stroke-width: 0.8\"/>\n      </g>\n     </g>\n     <g id=\"text_13\">\n      <!-- 0.84 -->\n      <g transform=\"translate(20.878125 215.117344) scale(0.1 -0.1)\">\n       <defs>\n        <path id=\"DejaVuSans-34\" d=\"M 2419 4116 \nL 825 1625 \nL 2419 1625 \nL 2419 4116 \nz\nM 2253 4666 \nL 3047 4666 \nL 3047 1625 \nL 3713 1625 \nL 3713 1100 \nL 3047 1100 \nL 3047 0 \nL 2419 0 \nL 2419 1100 \nL 313 1100 \nL 313 1709 \nL 2253 4666 \nz\n\" transform=\"scale(0.015625)\"/>\n       </defs>\n       <use xlink:href=\"#DejaVuSans-30\"/>\n       <use xlink:href=\"#DejaVuSans-2e\" transform=\"translate(63.623047 0)\"/>\n       <use xlink:href=\"#DejaVuSans-38\" transform=\"translate(95.410156 0)\"/>\n       <use xlink:href=\"#DejaVuSans-34\" transform=\"translate(159.033203 0)\"/>\n      </g>\n     </g>\n    </g>\n    <g id=\"ytick_4\">\n     <g id=\"line2d_25\">\n      <path d=\"M 50.14375 170.998125 \nL 496.54375 170.998125 \n\" clip-path=\"url(#pa4112787f4)\" style=\"fill: none; stroke: #b0b0b0; stroke-width: 0.8; stroke-linecap: square\"/>\n     </g>\n     <g id=\"line2d_26\">\n      <g>\n       <use xlink:href=\"#m783660538a\" x=\"50.14375\" y=\"170.998125\" style=\"stroke: #000000; stroke-width: 0.8\"/>\n      </g>\n     </g>\n     <g id=\"text_14\">\n      <!-- 0.86 -->\n      <g transform=\"translate(20.878125 174.797344) scale(0.1 -0.1)\">\n       <defs>\n        <path id=\"DejaVuSans-36\" d=\"M 2113 2584 \nQ 1688 2584 1439 2293 \nQ 1191 2003 1191 1497 \nQ 1191 994 1439 701 \nQ 1688 409 2113 409 \nQ 2538 409 2786 701 \nQ 3034 994 3034 1497 \nQ 3034 2003 2786 2293 \nQ 2538 2584 2113 2584 \nz\nM 3366 4563 \nL 3366 3988 \nQ 3128 4100 2886 4159 \nQ 2644 4219 2406 4219 \nQ 1781 4219 1451 3797 \nQ 1122 3375 1075 2522 \nQ 1259 2794 1537 2939 \nQ 1816 3084 2150 3084 \nQ 2853 3084 3261 2657 \nQ 3669 2231 3669 1497 \nQ 3669 778 3244 343 \nQ 2819 -91 2113 -91 \nQ 1303 -91 875 529 \nQ 447 1150 447 2328 \nQ 447 3434 972 4092 \nQ 1497 4750 2381 4750 \nQ 2619 4750 2861 4703 \nQ 3103 4656 3366 4563 \nz\n\" transform=\"scale(0.015625)\"/>\n       </defs>\n       <use xlink:href=\"#DejaVuSans-30\"/>\n       <use xlink:href=\"#DejaVuSans-2e\" transform=\"translate(63.623047 0)\"/>\n       <use xlink:href=\"#DejaVuSans-38\" transform=\"translate(95.410156 0)\"/>\n       <use xlink:href=\"#DejaVuSans-36\" transform=\"translate(159.033203 0)\"/>\n      </g>\n     </g>\n    </g>\n    <g id=\"ytick_5\">\n     <g id=\"line2d_27\">\n      <path d=\"M 50.14375 130.678125 \nL 496.54375 130.678125 \n\" clip-path=\"url(#pa4112787f4)\" style=\"fill: none; stroke: #b0b0b0; stroke-width: 0.8; stroke-linecap: square\"/>\n     </g>\n     <g id=\"line2d_28\">\n      <g>\n       <use xlink:href=\"#m783660538a\" x=\"50.14375\" y=\"130.678125\" style=\"stroke: #000000; stroke-width: 0.8\"/>\n      </g>\n     </g>\n     <g id=\"text_15\">\n      <!-- 0.88 -->\n      <g transform=\"translate(20.878125 134.477344) scale(0.1 -0.1)\">\n       <use xlink:href=\"#DejaVuSans-30\"/>\n       <use xlink:href=\"#DejaVuSans-2e\" transform=\"translate(63.623047 0)\"/>\n       <use xlink:href=\"#DejaVuSans-38\" transform=\"translate(95.410156 0)\"/>\n       <use xlink:href=\"#DejaVuSans-38\" transform=\"translate(159.033203 0)\"/>\n      </g>\n     </g>\n    </g>\n    <g id=\"ytick_6\">\n     <g id=\"line2d_29\">\n      <path d=\"M 50.14375 90.358125 \nL 496.54375 90.358125 \n\" clip-path=\"url(#pa4112787f4)\" style=\"fill: none; stroke: #b0b0b0; stroke-width: 0.8; stroke-linecap: square\"/>\n     </g>\n     <g id=\"line2d_30\">\n      <g>\n       <use xlink:href=\"#m783660538a\" x=\"50.14375\" y=\"90.358125\" style=\"stroke: #000000; stroke-width: 0.8\"/>\n      </g>\n     </g>\n     <g id=\"text_16\">\n      <!-- 0.90 -->\n      <g transform=\"translate(20.878125 94.157344) scale(0.1 -0.1)\">\n       <defs>\n        <path id=\"DejaVuSans-39\" d=\"M 703 97 \nL 703 672 \nQ 941 559 1184 500 \nQ 1428 441 1663 441 \nQ 2288 441 2617 861 \nQ 2947 1281 2994 2138 \nQ 2813 1869 2534 1725 \nQ 2256 1581 1919 1581 \nQ 1219 1581 811 2004 \nQ 403 2428 403 3163 \nQ 403 3881 828 4315 \nQ 1253 4750 1959 4750 \nQ 2769 4750 3195 4129 \nQ 3622 3509 3622 2328 \nQ 3622 1225 3098 567 \nQ 2575 -91 1691 -91 \nQ 1453 -91 1209 -44 \nQ 966 3 703 97 \nz\nM 1959 2075 \nQ 2384 2075 2632 2365 \nQ 2881 2656 2881 3163 \nQ 2881 3666 2632 3958 \nQ 2384 4250 1959 4250 \nQ 1534 4250 1286 3958 \nQ 1038 3666 1038 3163 \nQ 1038 2656 1286 2365 \nQ 1534 2075 1959 2075 \nz\n\" transform=\"scale(0.015625)\"/>\n       </defs>\n       <use xlink:href=\"#DejaVuSans-30\"/>\n       <use xlink:href=\"#DejaVuSans-2e\" transform=\"translate(63.623047 0)\"/>\n       <use xlink:href=\"#DejaVuSans-39\" transform=\"translate(95.410156 0)\"/>\n       <use xlink:href=\"#DejaVuSans-30\" transform=\"translate(159.033203 0)\"/>\n      </g>\n     </g>\n    </g>\n    <g id=\"ytick_7\">\n     <g id=\"line2d_31\">\n      <path d=\"M 50.14375 50.038125 \nL 496.54375 50.038125 \n\" clip-path=\"url(#pa4112787f4)\" style=\"fill: none; stroke: #b0b0b0; stroke-width: 0.8; stroke-linecap: square\"/>\n     </g>\n     <g id=\"line2d_32\">\n      <g>\n       <use xlink:href=\"#m783660538a\" x=\"50.14375\" y=\"50.038125\" style=\"stroke: #000000; stroke-width: 0.8\"/>\n      </g>\n     </g>\n     <g id=\"text_17\">\n      <!-- 0.92 -->\n      <g transform=\"translate(20.878125 53.837344) scale(0.1 -0.1)\">\n       <use xlink:href=\"#DejaVuSans-30\"/>\n       <use xlink:href=\"#DejaVuSans-2e\" transform=\"translate(63.623047 0)\"/>\n       <use xlink:href=\"#DejaVuSans-39\" transform=\"translate(95.410156 0)\"/>\n       <use xlink:href=\"#DejaVuSans-32\" transform=\"translate(159.033203 0)\"/>\n      </g>\n     </g>\n    </g>\n    <g id=\"text_18\">\n     <!-- Validation Accuracy -->\n     <g transform=\"translate(14.798438 210.025938) rotate(-90) scale(0.1 -0.1)\">\n      <defs>\n       <path id=\"DejaVuSans-56\" d=\"M 1831 0 \nL 50 4666 \nL 709 4666 \nL 2188 738 \nL 3669 4666 \nL 4325 4666 \nL 2547 0 \nL 1831 0 \nz\n\" transform=\"scale(0.015625)\"/>\n       <path id=\"DejaVuSans-61\" d=\"M 2194 1759 \nQ 1497 1759 1228 1600 \nQ 959 1441 959 1056 \nQ 959 750 1161 570 \nQ 1363 391 1709 391 \nQ 2188 391 2477 730 \nQ 2766 1069 2766 1631 \nL 2766 1759 \nL 2194 1759 \nz\nM 3341 1997 \nL 3341 0 \nL 2766 0 \nL 2766 531 \nQ 2569 213 2275 61 \nQ 1981 -91 1556 -91 \nQ 1019 -91 701 211 \nQ 384 513 384 1019 \nQ 384 1609 779 1909 \nQ 1175 2209 1959 2209 \nL 2766 2209 \nL 2766 2266 \nQ 2766 2663 2505 2880 \nQ 2244 3097 1772 3097 \nQ 1472 3097 1187 3025 \nQ 903 2953 641 2809 \nL 641 3341 \nQ 956 3463 1253 3523 \nQ 1550 3584 1831 3584 \nQ 2591 3584 2966 3190 \nQ 3341 2797 3341 1997 \nz\n\" transform=\"scale(0.015625)\"/>\n       <path id=\"DejaVuSans-6c\" d=\"M 603 4863 \nL 1178 4863 \nL 1178 0 \nL 603 0 \nL 603 4863 \nz\n\" transform=\"scale(0.015625)\"/>\n       <path id=\"DejaVuSans-69\" d=\"M 603 3500 \nL 1178 3500 \nL 1178 0 \nL 603 0 \nL 603 3500 \nz\nM 603 4863 \nL 1178 4863 \nL 1178 4134 \nL 603 4134 \nL 603 4863 \nz\n\" transform=\"scale(0.015625)\"/>\n       <path id=\"DejaVuSans-64\" d=\"M 2906 2969 \nL 2906 4863 \nL 3481 4863 \nL 3481 0 \nL 2906 0 \nL 2906 525 \nQ 2725 213 2448 61 \nQ 2172 -91 1784 -91 \nQ 1150 -91 751 415 \nQ 353 922 353 1747 \nQ 353 2572 751 3078 \nQ 1150 3584 1784 3584 \nQ 2172 3584 2448 3432 \nQ 2725 3281 2906 2969 \nz\nM 947 1747 \nQ 947 1113 1208 752 \nQ 1469 391 1925 391 \nQ 2381 391 2643 752 \nQ 2906 1113 2906 1747 \nQ 2906 2381 2643 2742 \nQ 2381 3103 1925 3103 \nQ 1469 3103 1208 2742 \nQ 947 2381 947 1747 \nz\n\" transform=\"scale(0.015625)\"/>\n       <path id=\"DejaVuSans-74\" d=\"M 1172 4494 \nL 1172 3500 \nL 2356 3500 \nL 2356 3053 \nL 1172 3053 \nL 1172 1153 \nQ 1172 725 1289 603 \nQ 1406 481 1766 481 \nL 2356 481 \nL 2356 0 \nL 1766 0 \nQ 1100 0 847 248 \nQ 594 497 594 1153 \nL 594 3053 \nL 172 3053 \nL 172 3500 \nL 594 3500 \nL 594 4494 \nL 1172 4494 \nz\n\" transform=\"scale(0.015625)\"/>\n       <path id=\"DejaVuSans-6e\" d=\"M 3513 2113 \nL 3513 0 \nL 2938 0 \nL 2938 2094 \nQ 2938 2591 2744 2837 \nQ 2550 3084 2163 3084 \nQ 1697 3084 1428 2787 \nQ 1159 2491 1159 1978 \nL 1159 0 \nL 581 0 \nL 581 3500 \nL 1159 3500 \nL 1159 2956 \nQ 1366 3272 1645 3428 \nQ 1925 3584 2291 3584 \nQ 2894 3584 3203 3211 \nQ 3513 2838 3513 2113 \nz\n\" transform=\"scale(0.015625)\"/>\n       <path id=\"DejaVuSans-20\" transform=\"scale(0.015625)\"/>\n       <path id=\"DejaVuSans-41\" d=\"M 2188 4044 \nL 1331 1722 \nL 3047 1722 \nL 2188 4044 \nz\nM 1831 4666 \nL 2547 4666 \nL 4325 0 \nL 3669 0 \nL 3244 1197 \nL 1141 1197 \nL 716 0 \nL 50 0 \nL 1831 4666 \nz\n\" transform=\"scale(0.015625)\"/>\n       <path id=\"DejaVuSans-75\" d=\"M 544 1381 \nL 544 3500 \nL 1119 3500 \nL 1119 1403 \nQ 1119 906 1312 657 \nQ 1506 409 1894 409 \nQ 2359 409 2629 706 \nQ 2900 1003 2900 1516 \nL 2900 3500 \nL 3475 3500 \nL 3475 0 \nL 2900 0 \nL 2900 538 \nQ 2691 219 2414 64 \nQ 2138 -91 1772 -91 \nQ 1169 -91 856 284 \nQ 544 659 544 1381 \nz\nM 1991 3584 \nL 1991 3584 \nz\n\" transform=\"scale(0.015625)\"/>\n       <path id=\"DejaVuSans-72\" d=\"M 2631 2963 \nQ 2534 3019 2420 3045 \nQ 2306 3072 2169 3072 \nQ 1681 3072 1420 2755 \nQ 1159 2438 1159 1844 \nL 1159 0 \nL 581 0 \nL 581 3500 \nL 1159 3500 \nL 1159 2956 \nQ 1341 3275 1631 3429 \nQ 1922 3584 2338 3584 \nQ 2397 3584 2469 3576 \nQ 2541 3569 2628 3553 \nL 2631 2963 \nz\n\" transform=\"scale(0.015625)\"/>\n       <path id=\"DejaVuSans-79\" d=\"M 2059 -325 \nQ 1816 -950 1584 -1140 \nQ 1353 -1331 966 -1331 \nL 506 -1331 \nL 506 -850 \nL 844 -850 \nQ 1081 -850 1212 -737 \nQ 1344 -625 1503 -206 \nL 1606 56 \nL 191 3500 \nL 800 3500 \nL 1894 763 \nL 2988 3500 \nL 3597 3500 \nL 2059 -325 \nz\n\" transform=\"scale(0.015625)\"/>\n      </defs>\n      <use xlink:href=\"#DejaVuSans-56\"/>\n      <use xlink:href=\"#DejaVuSans-61\" transform=\"translate(60.658203 0)\"/>\n      <use xlink:href=\"#DejaVuSans-6c\" transform=\"translate(121.9375 0)\"/>\n      <use xlink:href=\"#DejaVuSans-69\" transform=\"translate(149.720703 0)\"/>\n      <use xlink:href=\"#DejaVuSans-64\" transform=\"translate(177.503906 0)\"/>\n      <use xlink:href=\"#DejaVuSans-61\" transform=\"translate(240.980469 0)\"/>\n      <use xlink:href=\"#DejaVuSans-74\" transform=\"translate(302.259766 0)\"/>\n      <use xlink:href=\"#DejaVuSans-69\" transform=\"translate(341.46875 0)\"/>\n      <use xlink:href=\"#DejaVuSans-6f\" transform=\"translate(369.251953 0)\"/>\n      <use xlink:href=\"#DejaVuSans-6e\" transform=\"translate(430.433594 0)\"/>\n      <use xlink:href=\"#DejaVuSans-20\" transform=\"translate(493.8125 0)\"/>\n      <use xlink:href=\"#DejaVuSans-41\" transform=\"translate(525.599609 0)\"/>\n      <use xlink:href=\"#DejaVuSans-63\" transform=\"translate(592.257812 0)\"/>\n      <use xlink:href=\"#DejaVuSans-63\" transform=\"translate(647.238281 0)\"/>\n      <use xlink:href=\"#DejaVuSans-75\" transform=\"translate(702.21875 0)\"/>\n      <use xlink:href=\"#DejaVuSans-72\" transform=\"translate(765.597656 0)\"/>\n      <use xlink:href=\"#DejaVuSans-61\" transform=\"translate(806.710938 0)\"/>\n      <use xlink:href=\"#DejaVuSans-63\" transform=\"translate(867.990234 0)\"/>\n      <use xlink:href=\"#DejaVuSans-79\" transform=\"translate(922.970703 0)\"/>\n     </g>\n    </g>\n   </g>\n   <g id=\"line2d_33\">\n    <path d=\"M 70.434659 286.918125 \nL 273.34375 271.798125 \nL 476.252841 155.878125 \n\" clip-path=\"url(#pa4112787f4)\" style=\"fill: none; stroke: #1f77b4; stroke-width: 1.5; stroke-linecap: square\"/>\n    <defs>\n     <path id=\"m07dbc09ed0\" d=\"M 0 3 \nC 0.795609 3 1.55874 2.683901 2.12132 2.12132 \nC 2.683901 1.55874 3 0.795609 3 0 \nC 3 -0.795609 2.683901 -1.55874 2.12132 -2.12132 \nC 1.55874 -2.683901 0.795609 -3 0 -3 \nC -0.795609 -3 -1.55874 -2.683901 -2.12132 -2.12132 \nC -2.683901 -1.55874 -3 -0.795609 -3 0 \nC -3 0.795609 -2.683901 1.55874 -2.12132 2.12132 \nC -1.55874 2.683901 -0.795609 3 0 3 \nz\n\" style=\"stroke: #1f77b4\"/>\n    </defs>\n    <g clip-path=\"url(#pa4112787f4)\">\n     <use xlink:href=\"#m07dbc09ed0\" x=\"70.434659\" y=\"286.918125\" style=\"fill: #1f77b4; stroke: #1f77b4\"/>\n     <use xlink:href=\"#m07dbc09ed0\" x=\"273.34375\" y=\"271.798125\" style=\"fill: #1f77b4; stroke: #1f77b4\"/>\n     <use xlink:href=\"#m07dbc09ed0\" x=\"476.252841\" y=\"155.878125\" style=\"fill: #1f77b4; stroke: #1f77b4\"/>\n    </g>\n   </g>\n   <g id=\"line2d_34\">\n    <path d=\"M 70.434659 100.438125 \nL 273.34375 55.078125 \nL 476.252841 34.918125 \n\" clip-path=\"url(#pa4112787f4)\" style=\"fill: none; stroke: #ff7f0e; stroke-width: 1.5; stroke-linecap: square\"/>\n    <defs>\n     <path id=\"m4a50a359c8\" d=\"M -3 3 \nL 3 3 \nL 3 -3 \nL -3 -3 \nz\n\" style=\"stroke: #ff7f0e; stroke-linejoin: miter\"/>\n    </defs>\n    <g clip-path=\"url(#pa4112787f4)\">\n     <use xlink:href=\"#m4a50a359c8\" x=\"70.434659\" y=\"100.438125\" style=\"fill: #ff7f0e; stroke: #ff7f0e; stroke-linejoin: miter\"/>\n     <use xlink:href=\"#m4a50a359c8\" x=\"273.34375\" y=\"55.078125\" style=\"fill: #ff7f0e; stroke: #ff7f0e; stroke-linejoin: miter\"/>\n     <use xlink:href=\"#m4a50a359c8\" x=\"476.252841\" y=\"34.918125\" style=\"fill: #ff7f0e; stroke: #ff7f0e; stroke-linejoin: miter\"/>\n    </g>\n   </g>\n   <g id=\"patch_3\">\n    <path d=\"M 50.14375 299.518125 \nL 50.14375 22.318125 \n\" style=\"fill: none; stroke: #000000; stroke-width: 0.8; stroke-linejoin: miter; stroke-linecap: square\"/>\n   </g>\n   <g id=\"patch_4\">\n    <path d=\"M 496.54375 299.518125 \nL 496.54375 22.318125 \n\" style=\"fill: none; stroke: #000000; stroke-width: 0.8; stroke-linejoin: miter; stroke-linecap: square\"/>\n   </g>\n   <g id=\"patch_5\">\n    <path d=\"M 50.14375 299.518125 \nL 496.54375 299.518125 \n\" style=\"fill: none; stroke: #000000; stroke-width: 0.8; stroke-linejoin: miter; stroke-linecap: square\"/>\n   </g>\n   <g id=\"patch_6\">\n    <path d=\"M 50.14375 22.318125 \nL 496.54375 22.318125 \n\" style=\"fill: none; stroke: #000000; stroke-width: 0.8; stroke-linejoin: miter; stroke-linecap: square\"/>\n   </g>\n   <g id=\"text_19\">\n    <!-- Validation Accuracy per Epoch -->\n    <g transform=\"translate(182.26 16.318125) scale(0.12 -0.12)\">\n     <defs>\n      <path id=\"DejaVuSans-65\" d=\"M 3597 1894 \nL 3597 1613 \nL 953 1613 \nQ 991 1019 1311 708 \nQ 1631 397 2203 397 \nQ 2534 397 2845 478 \nQ 3156 559 3463 722 \nL 3463 178 \nQ 3153 47 2828 -22 \nQ 2503 -91 2169 -91 \nQ 1331 -91 842 396 \nQ 353 884 353 1716 \nQ 353 2575 817 3079 \nQ 1281 3584 2069 3584 \nQ 2775 3584 3186 3129 \nQ 3597 2675 3597 1894 \nz\nM 3022 2063 \nQ 3016 2534 2758 2815 \nQ 2500 3097 2075 3097 \nQ 1594 3097 1305 2825 \nQ 1016 2553 972 2059 \nL 3022 2063 \nz\n\" transform=\"scale(0.015625)\"/>\n     </defs>\n     <use xlink:href=\"#DejaVuSans-56\"/>\n     <use xlink:href=\"#DejaVuSans-61\" transform=\"translate(60.658203 0)\"/>\n     <use xlink:href=\"#DejaVuSans-6c\" transform=\"translate(121.9375 0)\"/>\n     <use xlink:href=\"#DejaVuSans-69\" transform=\"translate(149.720703 0)\"/>\n     <use xlink:href=\"#DejaVuSans-64\" transform=\"translate(177.503906 0)\"/>\n     <use xlink:href=\"#DejaVuSans-61\" transform=\"translate(240.980469 0)\"/>\n     <use xlink:href=\"#DejaVuSans-74\" transform=\"translate(302.259766 0)\"/>\n     <use xlink:href=\"#DejaVuSans-69\" transform=\"translate(341.46875 0)\"/>\n     <use xlink:href=\"#DejaVuSans-6f\" transform=\"translate(369.251953 0)\"/>\n     <use xlink:href=\"#DejaVuSans-6e\" transform=\"translate(430.433594 0)\"/>\n     <use xlink:href=\"#DejaVuSans-20\" transform=\"translate(493.8125 0)\"/>\n     <use xlink:href=\"#DejaVuSans-41\" transform=\"translate(525.599609 0)\"/>\n     <use xlink:href=\"#DejaVuSans-63\" transform=\"translate(592.257812 0)\"/>\n     <use xlink:href=\"#DejaVuSans-63\" transform=\"translate(647.238281 0)\"/>\n     <use xlink:href=\"#DejaVuSans-75\" transform=\"translate(702.21875 0)\"/>\n     <use xlink:href=\"#DejaVuSans-72\" transform=\"translate(765.597656 0)\"/>\n     <use xlink:href=\"#DejaVuSans-61\" transform=\"translate(806.710938 0)\"/>\n     <use xlink:href=\"#DejaVuSans-63\" transform=\"translate(867.990234 0)\"/>\n     <use xlink:href=\"#DejaVuSans-79\" transform=\"translate(922.970703 0)\"/>\n     <use xlink:href=\"#DejaVuSans-20\" transform=\"translate(982.150391 0)\"/>\n     <use xlink:href=\"#DejaVuSans-70\" transform=\"translate(1013.9375 0)\"/>\n     <use xlink:href=\"#DejaVuSans-65\" transform=\"translate(1077.414062 0)\"/>\n     <use xlink:href=\"#DejaVuSans-72\" transform=\"translate(1138.9375 0)\"/>\n     <use xlink:href=\"#DejaVuSans-20\" transform=\"translate(1180.050781 0)\"/>\n     <use xlink:href=\"#DejaVuSans-45\" transform=\"translate(1211.837891 0)\"/>\n     <use xlink:href=\"#DejaVuSans-70\" transform=\"translate(1275.021484 0)\"/>\n     <use xlink:href=\"#DejaVuSans-6f\" transform=\"translate(1338.498047 0)\"/>\n     <use xlink:href=\"#DejaVuSans-63\" transform=\"translate(1399.679688 0)\"/>\n     <use xlink:href=\"#DejaVuSans-68\" transform=\"translate(1454.660156 0)\"/>\n    </g>\n   </g>\n   <g id=\"legend_1\">\n    <g id=\"patch_7\">\n     <path d=\"M 57.14375 60.230625 \nL 164.590625 60.230625 \nQ 166.590625 60.230625 166.590625 58.230625 \nL 166.590625 29.318125 \nQ 166.590625 27.318125 164.590625 27.318125 \nL 57.14375 27.318125 \nQ 55.14375 27.318125 55.14375 29.318125 \nL 55.14375 58.230625 \nQ 55.14375 60.230625 57.14375 60.230625 \nz\n\" style=\"fill: #ffffff; opacity: 0.8; stroke: #cccccc; stroke-linejoin: miter\"/>\n    </g>\n    <g id=\"line2d_35\">\n     <path d=\"M 59.14375 35.416563 \nL 69.14375 35.416563 \nL 79.14375 35.416563 \n\" style=\"fill: none; stroke: #1f77b4; stroke-width: 1.5; stroke-linecap: square\"/>\n     <g>\n      <use xlink:href=\"#m07dbc09ed0\" x=\"69.14375\" y=\"35.416563\" style=\"fill: #1f77b4; stroke: #1f77b4\"/>\n     </g>\n    </g>\n    <g id=\"text_20\">\n     <!-- LLM_DistilBERT -->\n     <g transform=\"translate(87.14375 38.916563) scale(0.1 -0.1)\">\n      <defs>\n       <path id=\"DejaVuSans-4c\" d=\"M 628 4666 \nL 1259 4666 \nL 1259 531 \nL 3531 531 \nL 3531 0 \nL 628 0 \nL 628 4666 \nz\n\" transform=\"scale(0.015625)\"/>\n       <path id=\"DejaVuSans-4d\" d=\"M 628 4666 \nL 1569 4666 \nL 2759 1491 \nL 3956 4666 \nL 4897 4666 \nL 4897 0 \nL 4281 0 \nL 4281 4097 \nL 3078 897 \nL 2444 897 \nL 1241 4097 \nL 1241 0 \nL 628 0 \nL 628 4666 \nz\n\" transform=\"scale(0.015625)\"/>\n       <path id=\"DejaVuSans-5f\" d=\"M 3263 -1063 \nL 3263 -1509 \nL -63 -1509 \nL -63 -1063 \nL 3263 -1063 \nz\n\" transform=\"scale(0.015625)\"/>\n       <path id=\"DejaVuSans-44\" d=\"M 1259 4147 \nL 1259 519 \nL 2022 519 \nQ 2988 519 3436 956 \nQ 3884 1394 3884 2338 \nQ 3884 3275 3436 3711 \nQ 2988 4147 2022 4147 \nL 1259 4147 \nz\nM 628 4666 \nL 1925 4666 \nQ 3281 4666 3915 4102 \nQ 4550 3538 4550 2338 \nQ 4550 1131 3912 565 \nQ 3275 0 1925 0 \nL 628 0 \nL 628 4666 \nz\n\" transform=\"scale(0.015625)\"/>\n       <path id=\"DejaVuSans-42\" d=\"M 1259 2228 \nL 1259 519 \nL 2272 519 \nQ 2781 519 3026 730 \nQ 3272 941 3272 1375 \nQ 3272 1813 3026 2020 \nQ 2781 2228 2272 2228 \nL 1259 2228 \nz\nM 1259 4147 \nL 1259 2741 \nL 2194 2741 \nQ 2656 2741 2882 2914 \nQ 3109 3088 3109 3444 \nQ 3109 3797 2882 3972 \nQ 2656 4147 2194 4147 \nL 1259 4147 \nz\nM 628 4666 \nL 2241 4666 \nQ 2963 4666 3353 4366 \nQ 3744 4066 3744 3513 \nQ 3744 3084 3544 2831 \nQ 3344 2578 2956 2516 \nQ 3422 2416 3680 2098 \nQ 3938 1781 3938 1306 \nQ 3938 681 3513 340 \nQ 3088 0 2303 0 \nL 628 0 \nL 628 4666 \nz\n\" transform=\"scale(0.015625)\"/>\n       <path id=\"DejaVuSans-52\" d=\"M 2841 2188 \nQ 3044 2119 3236 1894 \nQ 3428 1669 3622 1275 \nL 4263 0 \nL 3584 0 \nL 2988 1197 \nQ 2756 1666 2539 1819 \nQ 2322 1972 1947 1972 \nL 1259 1972 \nL 1259 0 \nL 628 0 \nL 628 4666 \nL 2053 4666 \nQ 2853 4666 3247 4331 \nQ 3641 3997 3641 3322 \nQ 3641 2881 3436 2590 \nQ 3231 2300 2841 2188 \nz\nM 1259 4147 \nL 1259 2491 \nL 2053 2491 \nQ 2509 2491 2742 2702 \nQ 2975 2913 2975 3322 \nQ 2975 3731 2742 3939 \nQ 2509 4147 2053 4147 \nL 1259 4147 \nz\n\" transform=\"scale(0.015625)\"/>\n       <path id=\"DejaVuSans-54\" d=\"M -19 4666 \nL 3928 4666 \nL 3928 4134 \nL 2272 4134 \nL 2272 0 \nL 1638 0 \nL 1638 4134 \nL -19 4134 \nL -19 4666 \nz\n\" transform=\"scale(0.015625)\"/>\n      </defs>\n      <use xlink:href=\"#DejaVuSans-4c\"/>\n      <use xlink:href=\"#DejaVuSans-4c\" transform=\"translate(55.712891 0)\"/>\n      <use xlink:href=\"#DejaVuSans-4d\" transform=\"translate(111.425781 0)\"/>\n      <use xlink:href=\"#DejaVuSans-5f\" transform=\"translate(197.705078 0)\"/>\n      <use xlink:href=\"#DejaVuSans-44\" transform=\"translate(247.705078 0)\"/>\n      <use xlink:href=\"#DejaVuSans-69\" transform=\"translate(324.707031 0)\"/>\n      <use xlink:href=\"#DejaVuSans-73\" transform=\"translate(352.490234 0)\"/>\n      <use xlink:href=\"#DejaVuSans-74\" transform=\"translate(404.589844 0)\"/>\n      <use xlink:href=\"#DejaVuSans-69\" transform=\"translate(443.798828 0)\"/>\n      <use xlink:href=\"#DejaVuSans-6c\" transform=\"translate(471.582031 0)\"/>\n      <use xlink:href=\"#DejaVuSans-42\" transform=\"translate(499.365234 0)\"/>\n      <use xlink:href=\"#DejaVuSans-45\" transform=\"translate(567.96875 0)\"/>\n      <use xlink:href=\"#DejaVuSans-52\" transform=\"translate(631.152344 0)\"/>\n      <use xlink:href=\"#DejaVuSans-54\" transform=\"translate(693.384766 0)\"/>\n     </g>\n    </g>\n    <g id=\"line2d_36\">\n     <path d=\"M 59.14375 50.372813 \nL 69.14375 50.372813 \nL 79.14375 50.372813 \n\" style=\"fill: none; stroke: #ff7f0e; stroke-width: 1.5; stroke-linecap: square\"/>\n     <g>\n      <use xlink:href=\"#m4a50a359c8\" x=\"69.14375\" y=\"50.372813\" style=\"fill: #ff7f0e; stroke: #ff7f0e; stroke-linejoin: miter\"/>\n     </g>\n    </g>\n    <g id=\"text_21\">\n     <!-- LLM_RoBERTa -->\n     <g transform=\"translate(87.14375 53.872813) scale(0.1 -0.1)\">\n      <use xlink:href=\"#DejaVuSans-4c\"/>\n      <use xlink:href=\"#DejaVuSans-4c\" transform=\"translate(55.712891 0)\"/>\n      <use xlink:href=\"#DejaVuSans-4d\" transform=\"translate(111.425781 0)\"/>\n      <use xlink:href=\"#DejaVuSans-5f\" transform=\"translate(197.705078 0)\"/>\n      <use xlink:href=\"#DejaVuSans-52\" transform=\"translate(247.705078 0)\"/>\n      <use xlink:href=\"#DejaVuSans-6f\" transform=\"translate(312.6875 0)\"/>\n      <use xlink:href=\"#DejaVuSans-42\" transform=\"translate(373.869141 0)\"/>\n      <use xlink:href=\"#DejaVuSans-45\" transform=\"translate(442.472656 0)\"/>\n      <use xlink:href=\"#DejaVuSans-52\" transform=\"translate(505.65625 0)\"/>\n      <use xlink:href=\"#DejaVuSans-54\" transform=\"translate(567.888672 0)\"/>\n      <use xlink:href=\"#DejaVuSans-61\" transform=\"translate(612.472656 0)\"/>\n     </g>\n    </g>\n   </g>\n  </g>\n </g>\n <defs>\n  <clipPath id=\"pa4112787f4\">\n   <rect x=\"50.14375\" y=\"22.318125\" width=\"446.4\" height=\"277.2\"/>\n  </clipPath>\n </defs>\n</svg>\n"
          },
          "metadata": {}
        }
      ]
    },
    {
      "cell_type": "markdown",
      "source": [
        "Au vu des résultats ci-dessus, `RoBERTa` dépasse `DistilBERT` en performance (~92% contre ~86,7%).\n",
        "\n",
        "Dans la continuité de cette comparaison, utilisons à présent des métriques d'évalution telles que l'*accuracy*, le f1-score et la metrice de confusion."
      ],
      "metadata": {
        "id": "L5tZwIr4llWT"
      },
      "id": "L5tZwIr4llWT"
    },
    {
      "cell_type": "markdown",
      "id": "b9dc75bf",
      "metadata": {
        "id": "b9dc75bf"
      },
      "source": [
        "## Métriques d'évaluation (Accuracy, F1, Matrice de confusion)"
      ]
    },
    {
      "cell_type": "code",
      "execution_count": 111,
      "id": "34ff64b0",
      "metadata": {
        "id": "34ff64b0",
        "outputId": "2e5f0a3d-9e27-4a74-8deb-d9406b8997bf",
        "colab": {
          "base_uri": "https://localhost:8080/",
          "height": 362,
          "referenced_widgets": [
            "7fe4ba5149214b42a353584003f58a96",
            "c42908d29ac64f16a33e54dfc9abb2a9",
            "b2683f12214d4f7688d2f4104af1d464",
            "d65ec9ac463b4a33b3c24107b030b55b",
            "fb75db0d335b414d8ea0d96c5cd49316",
            "0f0134adac304584afc0a35ceee3d78a",
            "57ab77d1f6d2428882f8aa9f1e82e5f6",
            "19743bd1cf124dd9a658a25853ce1cd7",
            "1bba7cef7e7c4b88a50d38c729766580",
            "0ddd7be7e6ea4c76be171ead71365d4b",
            "9d773111edc04c9bba63e4860f0e50b2"
          ]
        }
      },
      "outputs": [
        {
          "output_type": "stream",
          "name": "stdout",
          "text": [
            "Starting evaluation workflow...\n"
          ]
        },
        {
          "output_type": "display_data",
          "data": {
            "text/plain": [
              "Map:   0%|          | 0/2000 [00:00<?, ? examples/s]"
            ],
            "application/vnd.jupyter.widget-view+json": {
              "version_major": 2,
              "version_minor": 0,
              "model_id": "7fe4ba5149214b42a353584003f58a96"
            }
          },
          "metadata": {}
        },
        {
          "output_type": "stream",
          "name": "stdout",
          "text": [
            "Accuracy: 0.9575\n",
            "F1-score: 0.9586\n",
            "\n",
            "Confusion Matrix:\n",
            "[186, 7]\n",
            "[10, 197]\n",
            "\n",
            "Classification Report:\n",
            "              precision    recall  f1-score   support\n",
            "\n",
            "    negative       0.95      0.96      0.96       193\n",
            "    positive       0.97      0.95      0.96       207\n",
            "\n",
            "    accuracy                           0.96       400\n",
            "   macro avg       0.96      0.96      0.96       400\n",
            "weighted avg       0.96      0.96      0.96       400\n",
            "\n"
          ]
        }
      ],
      "source": [
        "LLM_DistilBERT_metrics = LLMFineTuner(\n",
        "    pretrained_model_name_or_path=\"./distilbert-best\"\n",
        ")\n",
        "LLM_DistilBERT_metrics.workflow(mode=\"evaluation\")\n",
        "metrics_LLM_DistilBERT_metrics = LLM_DistilBERT_metrics.evaluate()\n",
        "print(f\"Accuracy: {metrics_LLM_DistilBERT_metrics['accuracy']:.4f}\")\n",
        "print(f\"F1-score: {metrics_LLM_DistilBERT_metrics['f1_score']:.4f}\\n\")\n",
        "\n",
        "print(\"Confusion Matrix:\")\n",
        "for row in metrics_LLM_DistilBERT_metrics[\"confusion_matrix\"]:\n",
        "    print(row)\n",
        "\n",
        "print(\"\\nClassification Report:\")\n",
        "print(metrics_LLM_DistilBERT_metrics[\"classification_report\"])"
      ]
    },
    {
      "cell_type": "code",
      "execution_count": 112,
      "id": "fPLFu1RRnptM",
      "metadata": {
        "id": "fPLFu1RRnptM",
        "outputId": "d9bc3a73-690b-451b-d1a3-2e0f3449de2e",
        "colab": {
          "base_uri": "https://localhost:8080/",
          "height": 399,
          "referenced_widgets": [
            "8c28035e43a942de822cc1ad4f609401",
            "c2aa70e2338748c3ac8d947d36ba0b67",
            "6cd1d2c463d54bfb89105d4deb3f9291",
            "70b46359978b4bd1b6fb7bcfdd47c309",
            "ef1af0864d424e38ba1ed814be82bd4c",
            "89b213eca3974212b705286502bf236b",
            "85a9d3e24c3a49d18f5ab7f17f2d7b7d",
            "d5697f531d344486a53dcb960f905404",
            "a72993d91bb6491d93ed843846646ff1",
            "20bec9f70232427ab9a175ffde08e230",
            "eff9d56aff0147cd999642fa69db5f9a"
          ]
        }
      },
      "outputs": [
        {
          "output_type": "stream",
          "name": "stdout",
          "text": [
            "Starting evaluation workflow...\n"
          ]
        },
        {
          "output_type": "display_data",
          "data": {
            "text/plain": [
              "Map:   0%|          | 0/2000 [00:00<?, ? examples/s]"
            ],
            "application/vnd.jupyter.widget-view+json": {
              "version_major": 2,
              "version_minor": 0,
              "model_id": "8c28035e43a942de822cc1ad4f609401"
            }
          },
          "metadata": {}
        },
        {
          "output_type": "stream",
          "name": "stderr",
          "text": [
            "You're using a RobertaTokenizerFast tokenizer. Please note that with a fast tokenizer, using the `__call__` method is faster than using a method to encode the text followed by a call to the `pad` method to get a padded encoding.\n"
          ]
        },
        {
          "output_type": "stream",
          "name": "stdout",
          "text": [
            "Accuracy: 0.9675\n",
            "F1-score: 0.9664\n",
            "\n",
            "Confusion Matrix:\n",
            "[200, 6]\n",
            "[7, 187]\n",
            "\n",
            "Classification Report:\n",
            "              precision    recall  f1-score   support\n",
            "\n",
            "    negative       0.97      0.97      0.97       206\n",
            "    positive       0.97      0.96      0.97       194\n",
            "\n",
            "    accuracy                           0.97       400\n",
            "   macro avg       0.97      0.97      0.97       400\n",
            "weighted avg       0.97      0.97      0.97       400\n",
            "\n"
          ]
        }
      ],
      "source": [
        "LLM_RoBERTa_metrics = LLMFineTuner(\n",
        "    model_cls=AutoModelForSequenceClassification,\n",
        "    pretrained_model_name_or_path=\"./roberta-best\",\n",
        "    tokenizer_cls=AutoTokenizer,\n",
        ")\n",
        "LLM_RoBERTa_metrics.workflow(mode=\"evaluation\")\n",
        "metrics_LLM_RoBERTa_metrics = LLM_RoBERTa_metrics.evaluate()\n",
        "print(f\"Accuracy: {metrics_LLM_RoBERTa_metrics['accuracy']:.4f}\")\n",
        "print(f\"F1-score: {metrics_LLM_RoBERTa_metrics['f1_score']:.4f}\\n\")\n",
        "\n",
        "print(\"Confusion Matrix:\")\n",
        "for row in metrics_LLM_RoBERTa_metrics[\"confusion_matrix\"]:\n",
        "    print(row)\n",
        "\n",
        "print(\"\\nClassification Report:\")\n",
        "print(metrics_LLM_RoBERTa_metrics[\"classification_report\"])"
      ]
    },
    {
      "cell_type": "markdown",
      "id": "_vis8DVTsOVz",
      "metadata": {
        "id": "_vis8DVTsOVz"
      },
      "source": [
        "## Analyse comparative entre `DistilBERT` et `RoBERTa` (après *fine-tuning*)\n",
        "\n",
        "Le tableau ci-dessous synthétise les métriques d'évaluation respectives à chaque modèle.\n",
        "\n",
        "| Modèle         | Accuracy | F1-score | Matrice de confusion      | Rapport de classification (résumé)                                                                                 |\n",
        "| -------------- | -------- | -------- | ------------------------- | ------------------------------------------------------------------------------------------------------------------ |\n",
        "| **DistilBERT** | 0.9575   | 0.9586   | $[186, 7$,<br>$10, 197$] | - Negative : P=0.95, R=0.96, F1=0.96 (n=193)<br>- Positive : P=0.97, R=0.95, F1=0.96 (n=207)<br>- Macro avg = 0.96 |\n",
        "| **RoBERTa**    | 0.9675   | 0.9664   | $[200, 6$,<br>$7, 187$]  | - Negative : P=0.97, R=0.97, F1=0.97 (n=206)<br>- Positive : P=0.97, R=0.96, F1=0.97 (n=194)<br>- Macro avg = 0.97 |\n",
        "\n",
        "- `RoBERTa` obtient une *accuracy* et un F1-score légèrement supérieurs à ceux obtenus pour `DistilBERT`.\n",
        "- Les deux modèles sont très proches en performance, mais `RoBERTa` montre une meilleure **équilibre précision/rappel** sur les deux classes."
      ]
    },
    {
      "cell_type": "markdown",
      "source": [
        "## Modification du jeu de données"
      ],
      "metadata": {
        "id": "6jmr9IfKncXj"
      },
      "id": "6jmr9IfKncXj"
    },
    {
      "cell_type": "markdown",
      "source": [
        "## Etude du jeu de données\n",
        "\n",
        "Nous allons maintenant couvrir les informations clés concernant notre jeu de données, notamment :\n",
        "\n",
        "* Nombre d'échantillons\n",
        "* Équilibre des classes\n",
        "* Statistiques sur la longueur des avis (en mots et en tokens)\n",
        "* Élaboration de quelques observations écrites et visuelles\n",
        "\n",
        "**Remarque** : nous avons créé deux objets *dataset* (un par modèle) à des fins d'entraînement. Pour le profilage des données, nous utiliserons le jeu de données brut : **`dataset`**.\n",
        "\n",
        "Nous continuerons également à utiliser le tokenizer **DistilBert** pour obtenir les longueurs en tokens, car il est représentatif."
      ],
      "metadata": {
        "id": "OjC5-stQnq3_"
      },
      "id": "OjC5-stQnq3_"
    },
    {
      "cell_type": "code",
      "source": [
        "LLM_DistilBERT_study_dataset = LLMFineTuner()\n",
        "LLM_DistilBERT_study_dataset.set_dataset()\n",
        "LLM_DistilBERT_study_dataset.set_tokenizer()\n",
        "\n",
        "df = pd.DataFrame(LLM_DistilBERT_study_dataset.dataset[\"train\"])\n",
        "\n",
        "# --- Basic counts\n",
        "total = len(df)\n",
        "class_counts = df[\"sentiment\"].value_counts()\n",
        "print(f\"Total samples: {total}\")\n",
        "print(\"Class counts:\\n\", class_counts)\n",
        "\n",
        "# --- Compute word lengths\n",
        "df[\"word_count\"] = df[\"review\"].apply(lambda x: len(x.split()))\n",
        "\n",
        "# --- Compute token lengths (réels, même >512, sans erreur)\n",
        "df[\"token_count_real\"] = df[\"review\"].apply(\n",
        "    lambda x: len(LLM_DistilBERT_study_dataset.tokenizer.tokenize(x))\n",
        ")\n",
        "\n",
        "# --- Stats\n",
        "avg_words = df[\"word_count\"].mean()\n",
        "med_words = df[\"word_count\"].median()\n",
        "avg_tokens = df[\"token_count_real\"].mean()\n",
        "med_tokens = df[\"token_count_real\"].median()\n",
        "print(f\"\\nAverage words per review: {avg_words:.1f} (median {med_words})\")\n",
        "print(f\"Average tokens per review: {avg_tokens:.1f} (median {med_tokens})\")\n",
        "\n",
        "# --- Histogram of token lengths\n",
        "plt.figure(figsize=(8,5))\n",
        "plt.hist(df[\"token_count_real\"], bins=30, color=\"steelblue\", alpha=0.7)\n",
        "plt.axvline(256, color=\"red\", linestyle=\"--\", label=\"Truncation limit (256)\")\n",
        "plt.axvline(512, color=\"green\", linestyle=\"--\", label=\"Model max length (512)\")\n",
        "plt.xlabel(\"Token count per review\")\n",
        "plt.ylabel(\"Number of reviews\")\n",
        "plt.title(\"Distribution of review lengths (tokens)\")\n",
        "plt.legend()\n",
        "plt.show()\n",
        "\n",
        "# --- Class balance\n",
        "plt.figure(figsize=(6,4))\n",
        "class_counts.plot(kind=\"bar\", color=[\"salmon\", \"skyblue\"])\n",
        "plt.title(\"Class distribution\")\n",
        "plt.ylabel(\"Number of samples\")\n",
        "plt.xticks(rotation=0)\n",
        "plt.show()"
      ],
      "metadata": {
        "id": "znA7n0J5ozDb",
        "outputId": "d2261850-e854-4ac0-f096-d2c5b141e6e2",
        "colab": {
          "base_uri": "https://localhost:8080/",
          "height": 1000
        }
      },
      "id": "znA7n0J5ozDb",
      "execution_count": 113,
      "outputs": [
        {
          "output_type": "stream",
          "name": "stdout",
          "text": [
            "Total samples: 50000\n",
            "Class counts:\n",
            " sentiment\n",
            "positive    25000\n",
            "negative    25000\n",
            "Name: count, dtype: int64\n",
            "\n",
            "Average words per review: 231.2 (median 173.0)\n",
            "Average tokens per review: 308.3 (median 229.0)\n"
          ]
        },
        {
          "output_type": "display_data",
          "data": {
            "text/plain": [
              "<Figure size 800x500 with 1 Axes>"
            ],
            "image/svg+xml": "<?xml version=\"1.0\" encoding=\"utf-8\" standalone=\"no\"?>\n<!DOCTYPE svg PUBLIC \"-//W3C//DTD SVG 1.1//EN\"\n  \"http://www.w3.org/Graphics/SVG/1.1/DTD/svg11.dtd\">\n<svg xmlns:xlink=\"http://www.w3.org/1999/xlink\" width=\"513.290625pt\" height=\"337.074375pt\" viewBox=\"0 0 513.290625 337.074375\" xmlns=\"http://www.w3.org/2000/svg\" version=\"1.1\">\n <metadata>\n  <rdf:RDF xmlns:dc=\"http://purl.org/dc/elements/1.1/\" xmlns:cc=\"http://creativecommons.org/ns#\" xmlns:rdf=\"http://www.w3.org/1999/02/22-rdf-syntax-ns#\">\n   <cc:Work>\n    <dc:type rdf:resource=\"http://purl.org/dc/dcmitype/StillImage\"/>\n    <dc:date>2025-09-14T13:22:16.680590</dc:date>\n    <dc:format>image/svg+xml</dc:format>\n    <dc:creator>\n     <cc:Agent>\n      <dc:title>Matplotlib v3.10.0, https://matplotlib.org/</dc:title>\n     </cc:Agent>\n    </dc:creator>\n   </cc:Work>\n  </rdf:RDF>\n </metadata>\n <defs>\n  <style type=\"text/css\">*{stroke-linejoin: round; stroke-linecap: butt}</style>\n </defs>\n <g id=\"figure_1\">\n  <g id=\"patch_1\">\n   <path d=\"M 0 337.074375 \nL 513.290625 337.074375 \nL 513.290625 0 \nL 0 0 \nz\n\" style=\"fill: #ffffff\"/>\n  </g>\n  <g id=\"axes_1\">\n   <g id=\"patch_2\">\n    <path d=\"M 59.690625 299.518125 \nL 506.090625 299.518125 \nL 506.090625 22.318125 \nL 59.690625 22.318125 \nz\n\" style=\"fill: #ffffff\"/>\n   </g>\n   <g id=\"patch_3\">\n    <path d=\"M 79.981534 299.518125 \nL 93.508807 299.518125 \nL 93.508807 234.344677 \nL 79.981534 234.344677 \nz\n\" clip-path=\"url(#paab61a7341)\" style=\"fill: #4682b4; opacity: 0.7\"/>\n   </g>\n   <g id=\"patch_4\">\n    <path d=\"M 93.508807 299.518125 \nL 107.03608 299.518125 \nL 107.03608 35.518125 \nL 93.508807 35.518125 \nz\n\" clip-path=\"url(#paab61a7341)\" style=\"fill: #4682b4; opacity: 0.7\"/>\n   </g>\n   <g id=\"patch_5\">\n    <path d=\"M 107.03608 299.518125 \nL 120.563352 299.518125 \nL 120.563352 142.906031 \nL 107.03608 142.906031 \nz\n\" clip-path=\"url(#paab61a7341)\" style=\"fill: #4682b4; opacity: 0.7\"/>\n   </g>\n   <g id=\"patch_6\">\n    <path d=\"M 120.563352 299.518125 \nL 134.090625 299.518125 \nL 134.090625 218.494744 \nL 120.563352 218.494744 \nz\n\" clip-path=\"url(#paab61a7341)\" style=\"fill: #4682b4; opacity: 0.7\"/>\n   </g>\n   <g id=\"patch_7\">\n    <path d=\"M 134.090625 299.518125 \nL 147.617898 299.518125 \nL 147.617898 250.606112 \nL 134.090625 250.606112 \nz\n\" clip-path=\"url(#paab61a7341)\" style=\"fill: #4682b4; opacity: 0.7\"/>\n   </g>\n   <g id=\"patch_8\">\n    <path d=\"M 147.617898 299.518125 \nL 161.14517 299.518125 \nL 161.14517 268.612884 \nL 147.617898 268.612884 \nz\n\" clip-path=\"url(#paab61a7341)\" style=\"fill: #4682b4; opacity: 0.7\"/>\n   </g>\n   <g id=\"patch_9\">\n    <path d=\"M 161.14517 299.518125 \nL 174.672443 299.518125 \nL 174.672443 279.311944 \nL 161.14517 279.311944 \nz\n\" clip-path=\"url(#paab61a7341)\" style=\"fill: #4682b4; opacity: 0.7\"/>\n   </g>\n   <g id=\"patch_10\">\n    <path d=\"M 174.672443 299.518125 \nL 188.199716 299.518125 \nL 188.199716 285.825032 \nL 174.672443 285.825032 \nz\n\" clip-path=\"url(#paab61a7341)\" style=\"fill: #4682b4; opacity: 0.7\"/>\n   </g>\n   <g id=\"patch_11\">\n    <path d=\"M 188.199716 299.518125 \nL 201.726989 299.518125 \nL 201.726989 290.521834 \nL 188.199716 290.521834 \nz\n\" clip-path=\"url(#paab61a7341)\" style=\"fill: #4682b4; opacity: 0.7\"/>\n   </g>\n   <g id=\"patch_12\">\n    <path d=\"M 201.726989 299.518125 \nL 215.254261 299.518125 \nL 215.254261 292.990847 \nL 201.726989 292.990847 \nz\n\" clip-path=\"url(#paab61a7341)\" style=\"fill: #4682b4; opacity: 0.7\"/>\n   </g>\n   <g id=\"patch_13\">\n    <path d=\"M 215.254261 299.518125 \nL 228.781534 299.518125 \nL 228.781534 294.736185 \nL 215.254261 294.736185 \nz\n\" clip-path=\"url(#paab61a7341)\" style=\"fill: #4682b4; opacity: 0.7\"/>\n   </g>\n   <g id=\"patch_14\">\n    <path d=\"M 228.781534 299.518125 \nL 242.308807 299.518125 \nL 242.308807 295.431482 \nL 228.781534 295.431482 \nz\n\" clip-path=\"url(#paab61a7341)\" style=\"fill: #4682b4; opacity: 0.7\"/>\n   </g>\n   <g id=\"patch_15\">\n    <path d=\"M 242.308807 299.518125 \nL 255.83608 299.518125 \nL 255.83608 296.637609 \nL 242.308807 296.637609 \nz\n\" clip-path=\"url(#paab61a7341)\" style=\"fill: #4682b4; opacity: 0.7\"/>\n   </g>\n   <g id=\"patch_16\">\n    <path d=\"M 255.83608 299.518125 \nL 269.363352 299.518125 \nL 269.363352 298.524844 \nL 255.83608 298.524844 \nz\n\" clip-path=\"url(#paab61a7341)\" style=\"fill: #4682b4; opacity: 0.7\"/>\n   </g>\n   <g id=\"patch_17\">\n    <path d=\"M 269.363352 299.518125 \nL 282.890625 299.518125 \nL 282.890625 299.220141 \nL 269.363352 299.220141 \nz\n\" clip-path=\"url(#paab61a7341)\" style=\"fill: #4682b4; opacity: 0.7\"/>\n   </g>\n   <g id=\"patch_18\">\n    <path d=\"M 282.890625 299.518125 \nL 296.417898 299.518125 \nL 296.417898 299.418797 \nL 282.890625 299.418797 \nz\n\" clip-path=\"url(#paab61a7341)\" style=\"fill: #4682b4; opacity: 0.7\"/>\n   </g>\n   <g id=\"patch_19\">\n    <path d=\"M 296.417898 299.518125 \nL 309.94517 299.518125 \nL 309.94517 299.447176 \nL 296.417898 299.447176 \nz\n\" clip-path=\"url(#paab61a7341)\" style=\"fill: #4682b4; opacity: 0.7\"/>\n   </g>\n   <g id=\"patch_20\">\n    <path d=\"M 309.94517 299.518125 \nL 323.472443 299.518125 \nL 323.472443 299.461366 \nL 309.94517 299.461366 \nz\n\" clip-path=\"url(#paab61a7341)\" style=\"fill: #4682b4; opacity: 0.7\"/>\n   </g>\n   <g id=\"patch_21\">\n    <path d=\"M 323.472443 299.518125 \nL 336.999716 299.518125 \nL 336.999716 299.503935 \nL 323.472443 299.503935 \nz\n\" clip-path=\"url(#paab61a7341)\" style=\"fill: #4682b4; opacity: 0.7\"/>\n   </g>\n   <g id=\"patch_22\">\n    <path d=\"M 336.999716 299.518125 \nL 350.526989 299.518125 \nL 350.526989 299.503935 \nL 336.999716 299.503935 \nz\n\" clip-path=\"url(#paab61a7341)\" style=\"fill: #4682b4; opacity: 0.7\"/>\n   </g>\n   <g id=\"patch_23\">\n    <path d=\"M 350.526989 299.518125 \nL 364.054261 299.518125 \nL 364.054261 299.489746 \nL 350.526989 299.489746 \nz\n\" clip-path=\"url(#paab61a7341)\" style=\"fill: #4682b4; opacity: 0.7\"/>\n   </g>\n   <g id=\"patch_24\">\n    <path d=\"M 364.054261 299.518125 \nL 377.581534 299.518125 \nL 377.581534 299.475556 \nL 364.054261 299.475556 \nz\n\" clip-path=\"url(#paab61a7341)\" style=\"fill: #4682b4; opacity: 0.7\"/>\n   </g>\n   <g id=\"patch_25\">\n    <path d=\"M 377.581534 299.518125 \nL 391.108807 299.518125 \nL 391.108807 299.518125 \nL 377.581534 299.518125 \nz\n\" clip-path=\"url(#paab61a7341)\" style=\"fill: #4682b4; opacity: 0.7\"/>\n   </g>\n   <g id=\"patch_26\">\n    <path d=\"M 391.108807 299.518125 \nL 404.63608 299.518125 \nL 404.63608 299.503935 \nL 391.108807 299.503935 \nz\n\" clip-path=\"url(#paab61a7341)\" style=\"fill: #4682b4; opacity: 0.7\"/>\n   </g>\n   <g id=\"patch_27\">\n    <path d=\"M 404.63608 299.518125 \nL 418.163352 299.518125 \nL 418.163352 299.518125 \nL 404.63608 299.518125 \nz\n\" clip-path=\"url(#paab61a7341)\" style=\"fill: #4682b4; opacity: 0.7\"/>\n   </g>\n   <g id=\"patch_28\">\n    <path d=\"M 418.163352 299.518125 \nL 431.690625 299.518125 \nL 431.690625 299.518125 \nL 418.163352 299.518125 \nz\n\" clip-path=\"url(#paab61a7341)\" style=\"fill: #4682b4; opacity: 0.7\"/>\n   </g>\n   <g id=\"patch_29\">\n    <path d=\"M 431.690625 299.518125 \nL 445.217898 299.518125 \nL 445.217898 299.518125 \nL 431.690625 299.518125 \nz\n\" clip-path=\"url(#paab61a7341)\" style=\"fill: #4682b4; opacity: 0.7\"/>\n   </g>\n   <g id=\"patch_30\">\n    <path d=\"M 445.217898 299.518125 \nL 458.74517 299.518125 \nL 458.74517 299.503935 \nL 445.217898 299.503935 \nz\n\" clip-path=\"url(#paab61a7341)\" style=\"fill: #4682b4; opacity: 0.7\"/>\n   </g>\n   <g id=\"patch_31\">\n    <path d=\"M 458.74517 299.518125 \nL 472.272443 299.518125 \nL 472.272443 299.503935 \nL 458.74517 299.503935 \nz\n\" clip-path=\"url(#paab61a7341)\" style=\"fill: #4682b4; opacity: 0.7\"/>\n   </g>\n   <g id=\"patch_32\">\n    <path d=\"M 472.272443 299.518125 \nL 485.799716 299.518125 \nL 485.799716 299.489746 \nL 472.272443 299.489746 \nz\n\" clip-path=\"url(#paab61a7341)\" style=\"fill: #4682b4; opacity: 0.7\"/>\n   </g>\n   <g id=\"matplotlib.axis_1\">\n    <g id=\"xtick_1\">\n     <g id=\"line2d_1\">\n      <defs>\n       <path id=\"m6659c43b07\" d=\"M 0 0 \nL 0 3.5 \n\" style=\"stroke: #000000; stroke-width: 0.8\"/>\n      </defs>\n      <g>\n       <use xlink:href=\"#m6659c43b07\" x=\"78.949902\" y=\"299.518125\" style=\"stroke: #000000; stroke-width: 0.8\"/>\n      </g>\n     </g>\n     <g id=\"text_1\">\n      <!-- 0 -->\n      <g transform=\"translate(75.768652 314.116563) scale(0.1 -0.1)\">\n       <defs>\n        <path id=\"DejaVuSans-30\" d=\"M 2034 4250 \nQ 1547 4250 1301 3770 \nQ 1056 3291 1056 2328 \nQ 1056 1369 1301 889 \nQ 1547 409 2034 409 \nQ 2525 409 2770 889 \nQ 3016 1369 3016 2328 \nQ 3016 3291 2770 3770 \nQ 2525 4250 2034 4250 \nz\nM 2034 4750 \nQ 2819 4750 3233 4129 \nQ 3647 3509 3647 2328 \nQ 3647 1150 3233 529 \nQ 2819 -91 2034 -91 \nQ 1250 -91 836 529 \nQ 422 1150 422 2328 \nQ 422 3509 836 4129 \nQ 1250 4750 2034 4750 \nz\n\" transform=\"scale(0.015625)\"/>\n       </defs>\n       <use xlink:href=\"#DejaVuSans-30\"/>\n      </g>\n     </g>\n    </g>\n    <g id=\"xtick_2\">\n     <g id=\"line2d_2\">\n      <g>\n       <use xlink:href=\"#m6659c43b07\" x=\"143.426893\" y=\"299.518125\" style=\"stroke: #000000; stroke-width: 0.8\"/>\n      </g>\n     </g>\n     <g id=\"text_2\">\n      <!-- 500 -->\n      <g transform=\"translate(133.883143 314.116563) scale(0.1 -0.1)\">\n       <defs>\n        <path id=\"DejaVuSans-35\" d=\"M 691 4666 \nL 3169 4666 \nL 3169 4134 \nL 1269 4134 \nL 1269 2991 \nQ 1406 3038 1543 3061 \nQ 1681 3084 1819 3084 \nQ 2600 3084 3056 2656 \nQ 3513 2228 3513 1497 \nQ 3513 744 3044 326 \nQ 2575 -91 1722 -91 \nQ 1428 -91 1123 -41 \nQ 819 9 494 109 \nL 494 744 \nQ 775 591 1075 516 \nQ 1375 441 1709 441 \nQ 2250 441 2565 725 \nQ 2881 1009 2881 1497 \nQ 2881 1984 2565 2268 \nQ 2250 2553 1709 2553 \nQ 1456 2553 1204 2497 \nQ 953 2441 691 2322 \nL 691 4666 \nz\n\" transform=\"scale(0.015625)\"/>\n       </defs>\n       <use xlink:href=\"#DejaVuSans-35\"/>\n       <use xlink:href=\"#DejaVuSans-30\" transform=\"translate(63.623047 0)\"/>\n       <use xlink:href=\"#DejaVuSans-30\" transform=\"translate(127.246094 0)\"/>\n      </g>\n     </g>\n    </g>\n    <g id=\"xtick_3\">\n     <g id=\"line2d_3\">\n      <g>\n       <use xlink:href=\"#m6659c43b07\" x=\"207.903884\" y=\"299.518125\" style=\"stroke: #000000; stroke-width: 0.8\"/>\n      </g>\n     </g>\n     <g id=\"text_3\">\n      <!-- 1000 -->\n      <g transform=\"translate(195.178884 314.116563) scale(0.1 -0.1)\">\n       <defs>\n        <path id=\"DejaVuSans-31\" d=\"M 794 531 \nL 1825 531 \nL 1825 4091 \nL 703 3866 \nL 703 4441 \nL 1819 4666 \nL 2450 4666 \nL 2450 531 \nL 3481 531 \nL 3481 0 \nL 794 0 \nL 794 531 \nz\n\" transform=\"scale(0.015625)\"/>\n       </defs>\n       <use xlink:href=\"#DejaVuSans-31\"/>\n       <use xlink:href=\"#DejaVuSans-30\" transform=\"translate(63.623047 0)\"/>\n       <use xlink:href=\"#DejaVuSans-30\" transform=\"translate(127.246094 0)\"/>\n       <use xlink:href=\"#DejaVuSans-30\" transform=\"translate(190.869141 0)\"/>\n      </g>\n     </g>\n    </g>\n    <g id=\"xtick_4\">\n     <g id=\"line2d_4\">\n      <g>\n       <use xlink:href=\"#m6659c43b07\" x=\"272.380875\" y=\"299.518125\" style=\"stroke: #000000; stroke-width: 0.8\"/>\n      </g>\n     </g>\n     <g id=\"text_4\">\n      <!-- 1500 -->\n      <g transform=\"translate(259.655875 314.116563) scale(0.1 -0.1)\">\n       <use xlink:href=\"#DejaVuSans-31\"/>\n       <use xlink:href=\"#DejaVuSans-35\" transform=\"translate(63.623047 0)\"/>\n       <use xlink:href=\"#DejaVuSans-30\" transform=\"translate(127.246094 0)\"/>\n       <use xlink:href=\"#DejaVuSans-30\" transform=\"translate(190.869141 0)\"/>\n      </g>\n     </g>\n    </g>\n    <g id=\"xtick_5\">\n     <g id=\"line2d_5\">\n      <g>\n       <use xlink:href=\"#m6659c43b07\" x=\"336.857867\" y=\"299.518125\" style=\"stroke: #000000; stroke-width: 0.8\"/>\n      </g>\n     </g>\n     <g id=\"text_5\">\n      <!-- 2000 -->\n      <g transform=\"translate(324.132867 314.116563) scale(0.1 -0.1)\">\n       <defs>\n        <path id=\"DejaVuSans-32\" d=\"M 1228 531 \nL 3431 531 \nL 3431 0 \nL 469 0 \nL 469 531 \nQ 828 903 1448 1529 \nQ 2069 2156 2228 2338 \nQ 2531 2678 2651 2914 \nQ 2772 3150 2772 3378 \nQ 2772 3750 2511 3984 \nQ 2250 4219 1831 4219 \nQ 1534 4219 1204 4116 \nQ 875 4013 500 3803 \nL 500 4441 \nQ 881 4594 1212 4672 \nQ 1544 4750 1819 4750 \nQ 2544 4750 2975 4387 \nQ 3406 4025 3406 3419 \nQ 3406 3131 3298 2873 \nQ 3191 2616 2906 2266 \nQ 2828 2175 2409 1742 \nQ 1991 1309 1228 531 \nz\n\" transform=\"scale(0.015625)\"/>\n       </defs>\n       <use xlink:href=\"#DejaVuSans-32\"/>\n       <use xlink:href=\"#DejaVuSans-30\" transform=\"translate(63.623047 0)\"/>\n       <use xlink:href=\"#DejaVuSans-30\" transform=\"translate(127.246094 0)\"/>\n       <use xlink:href=\"#DejaVuSans-30\" transform=\"translate(190.869141 0)\"/>\n      </g>\n     </g>\n    </g>\n    <g id=\"xtick_6\">\n     <g id=\"line2d_6\">\n      <g>\n       <use xlink:href=\"#m6659c43b07\" x=\"401.334858\" y=\"299.518125\" style=\"stroke: #000000; stroke-width: 0.8\"/>\n      </g>\n     </g>\n     <g id=\"text_6\">\n      <!-- 2500 -->\n      <g transform=\"translate(388.609858 314.116563) scale(0.1 -0.1)\">\n       <use xlink:href=\"#DejaVuSans-32\"/>\n       <use xlink:href=\"#DejaVuSans-35\" transform=\"translate(63.623047 0)\"/>\n       <use xlink:href=\"#DejaVuSans-30\" transform=\"translate(127.246094 0)\"/>\n       <use xlink:href=\"#DejaVuSans-30\" transform=\"translate(190.869141 0)\"/>\n      </g>\n     </g>\n    </g>\n    <g id=\"xtick_7\">\n     <g id=\"line2d_7\">\n      <g>\n       <use xlink:href=\"#m6659c43b07\" x=\"465.811849\" y=\"299.518125\" style=\"stroke: #000000; stroke-width: 0.8\"/>\n      </g>\n     </g>\n     <g id=\"text_7\">\n      <!-- 3000 -->\n      <g transform=\"translate(453.086849 314.116563) scale(0.1 -0.1)\">\n       <defs>\n        <path id=\"DejaVuSans-33\" d=\"M 2597 2516 \nQ 3050 2419 3304 2112 \nQ 3559 1806 3559 1356 \nQ 3559 666 3084 287 \nQ 2609 -91 1734 -91 \nQ 1441 -91 1130 -33 \nQ 819 25 488 141 \nL 488 750 \nQ 750 597 1062 519 \nQ 1375 441 1716 441 \nQ 2309 441 2620 675 \nQ 2931 909 2931 1356 \nQ 2931 1769 2642 2001 \nQ 2353 2234 1838 2234 \nL 1294 2234 \nL 1294 2753 \nL 1863 2753 \nQ 2328 2753 2575 2939 \nQ 2822 3125 2822 3475 \nQ 2822 3834 2567 4026 \nQ 2313 4219 1838 4219 \nQ 1578 4219 1281 4162 \nQ 984 4106 628 3988 \nL 628 4550 \nQ 988 4650 1302 4700 \nQ 1616 4750 1894 4750 \nQ 2613 4750 3031 4423 \nQ 3450 4097 3450 3541 \nQ 3450 3153 3228 2886 \nQ 3006 2619 2597 2516 \nz\n\" transform=\"scale(0.015625)\"/>\n       </defs>\n       <use xlink:href=\"#DejaVuSans-33\"/>\n       <use xlink:href=\"#DejaVuSans-30\" transform=\"translate(63.623047 0)\"/>\n       <use xlink:href=\"#DejaVuSans-30\" transform=\"translate(127.246094 0)\"/>\n       <use xlink:href=\"#DejaVuSans-30\" transform=\"translate(190.869141 0)\"/>\n      </g>\n     </g>\n    </g>\n    <g id=\"text_8\">\n     <!-- Token count per review -->\n     <g transform=\"translate(224.954688 327.794688) scale(0.1 -0.1)\">\n      <defs>\n       <path id=\"DejaVuSans-54\" d=\"M -19 4666 \nL 3928 4666 \nL 3928 4134 \nL 2272 4134 \nL 2272 0 \nL 1638 0 \nL 1638 4134 \nL -19 4134 \nL -19 4666 \nz\n\" transform=\"scale(0.015625)\"/>\n       <path id=\"DejaVuSans-6f\" d=\"M 1959 3097 \nQ 1497 3097 1228 2736 \nQ 959 2375 959 1747 \nQ 959 1119 1226 758 \nQ 1494 397 1959 397 \nQ 2419 397 2687 759 \nQ 2956 1122 2956 1747 \nQ 2956 2369 2687 2733 \nQ 2419 3097 1959 3097 \nz\nM 1959 3584 \nQ 2709 3584 3137 3096 \nQ 3566 2609 3566 1747 \nQ 3566 888 3137 398 \nQ 2709 -91 1959 -91 \nQ 1206 -91 779 398 \nQ 353 888 353 1747 \nQ 353 2609 779 3096 \nQ 1206 3584 1959 3584 \nz\n\" transform=\"scale(0.015625)\"/>\n       <path id=\"DejaVuSans-6b\" d=\"M 581 4863 \nL 1159 4863 \nL 1159 1991 \nL 2875 3500 \nL 3609 3500 \nL 1753 1863 \nL 3688 0 \nL 2938 0 \nL 1159 1709 \nL 1159 0 \nL 581 0 \nL 581 4863 \nz\n\" transform=\"scale(0.015625)\"/>\n       <path id=\"DejaVuSans-65\" d=\"M 3597 1894 \nL 3597 1613 \nL 953 1613 \nQ 991 1019 1311 708 \nQ 1631 397 2203 397 \nQ 2534 397 2845 478 \nQ 3156 559 3463 722 \nL 3463 178 \nQ 3153 47 2828 -22 \nQ 2503 -91 2169 -91 \nQ 1331 -91 842 396 \nQ 353 884 353 1716 \nQ 353 2575 817 3079 \nQ 1281 3584 2069 3584 \nQ 2775 3584 3186 3129 \nQ 3597 2675 3597 1894 \nz\nM 3022 2063 \nQ 3016 2534 2758 2815 \nQ 2500 3097 2075 3097 \nQ 1594 3097 1305 2825 \nQ 1016 2553 972 2059 \nL 3022 2063 \nz\n\" transform=\"scale(0.015625)\"/>\n       <path id=\"DejaVuSans-6e\" d=\"M 3513 2113 \nL 3513 0 \nL 2938 0 \nL 2938 2094 \nQ 2938 2591 2744 2837 \nQ 2550 3084 2163 3084 \nQ 1697 3084 1428 2787 \nQ 1159 2491 1159 1978 \nL 1159 0 \nL 581 0 \nL 581 3500 \nL 1159 3500 \nL 1159 2956 \nQ 1366 3272 1645 3428 \nQ 1925 3584 2291 3584 \nQ 2894 3584 3203 3211 \nQ 3513 2838 3513 2113 \nz\n\" transform=\"scale(0.015625)\"/>\n       <path id=\"DejaVuSans-20\" transform=\"scale(0.015625)\"/>\n       <path id=\"DejaVuSans-63\" d=\"M 3122 3366 \nL 3122 2828 \nQ 2878 2963 2633 3030 \nQ 2388 3097 2138 3097 \nQ 1578 3097 1268 2742 \nQ 959 2388 959 1747 \nQ 959 1106 1268 751 \nQ 1578 397 2138 397 \nQ 2388 397 2633 464 \nQ 2878 531 3122 666 \nL 3122 134 \nQ 2881 22 2623 -34 \nQ 2366 -91 2075 -91 \nQ 1284 -91 818 406 \nQ 353 903 353 1747 \nQ 353 2603 823 3093 \nQ 1294 3584 2113 3584 \nQ 2378 3584 2631 3529 \nQ 2884 3475 3122 3366 \nz\n\" transform=\"scale(0.015625)\"/>\n       <path id=\"DejaVuSans-75\" d=\"M 544 1381 \nL 544 3500 \nL 1119 3500 \nL 1119 1403 \nQ 1119 906 1312 657 \nQ 1506 409 1894 409 \nQ 2359 409 2629 706 \nQ 2900 1003 2900 1516 \nL 2900 3500 \nL 3475 3500 \nL 3475 0 \nL 2900 0 \nL 2900 538 \nQ 2691 219 2414 64 \nQ 2138 -91 1772 -91 \nQ 1169 -91 856 284 \nQ 544 659 544 1381 \nz\nM 1991 3584 \nL 1991 3584 \nz\n\" transform=\"scale(0.015625)\"/>\n       <path id=\"DejaVuSans-74\" d=\"M 1172 4494 \nL 1172 3500 \nL 2356 3500 \nL 2356 3053 \nL 1172 3053 \nL 1172 1153 \nQ 1172 725 1289 603 \nQ 1406 481 1766 481 \nL 2356 481 \nL 2356 0 \nL 1766 0 \nQ 1100 0 847 248 \nQ 594 497 594 1153 \nL 594 3053 \nL 172 3053 \nL 172 3500 \nL 594 3500 \nL 594 4494 \nL 1172 4494 \nz\n\" transform=\"scale(0.015625)\"/>\n       <path id=\"DejaVuSans-70\" d=\"M 1159 525 \nL 1159 -1331 \nL 581 -1331 \nL 581 3500 \nL 1159 3500 \nL 1159 2969 \nQ 1341 3281 1617 3432 \nQ 1894 3584 2278 3584 \nQ 2916 3584 3314 3078 \nQ 3713 2572 3713 1747 \nQ 3713 922 3314 415 \nQ 2916 -91 2278 -91 \nQ 1894 -91 1617 61 \nQ 1341 213 1159 525 \nz\nM 3116 1747 \nQ 3116 2381 2855 2742 \nQ 2594 3103 2138 3103 \nQ 1681 3103 1420 2742 \nQ 1159 2381 1159 1747 \nQ 1159 1113 1420 752 \nQ 1681 391 2138 391 \nQ 2594 391 2855 752 \nQ 3116 1113 3116 1747 \nz\n\" transform=\"scale(0.015625)\"/>\n       <path id=\"DejaVuSans-72\" d=\"M 2631 2963 \nQ 2534 3019 2420 3045 \nQ 2306 3072 2169 3072 \nQ 1681 3072 1420 2755 \nQ 1159 2438 1159 1844 \nL 1159 0 \nL 581 0 \nL 581 3500 \nL 1159 3500 \nL 1159 2956 \nQ 1341 3275 1631 3429 \nQ 1922 3584 2338 3584 \nQ 2397 3584 2469 3576 \nQ 2541 3569 2628 3553 \nL 2631 2963 \nz\n\" transform=\"scale(0.015625)\"/>\n       <path id=\"DejaVuSans-76\" d=\"M 191 3500 \nL 800 3500 \nL 1894 563 \nL 2988 3500 \nL 3597 3500 \nL 2284 0 \nL 1503 0 \nL 191 3500 \nz\n\" transform=\"scale(0.015625)\"/>\n       <path id=\"DejaVuSans-69\" d=\"M 603 3500 \nL 1178 3500 \nL 1178 0 \nL 603 0 \nL 603 3500 \nz\nM 603 4863 \nL 1178 4863 \nL 1178 4134 \nL 603 4134 \nL 603 4863 \nz\n\" transform=\"scale(0.015625)\"/>\n       <path id=\"DejaVuSans-77\" d=\"M 269 3500 \nL 844 3500 \nL 1563 769 \nL 2278 3500 \nL 2956 3500 \nL 3675 769 \nL 4391 3500 \nL 4966 3500 \nL 4050 0 \nL 3372 0 \nL 2619 2869 \nL 1863 0 \nL 1184 0 \nL 269 3500 \nz\n\" transform=\"scale(0.015625)\"/>\n      </defs>\n      <use xlink:href=\"#DejaVuSans-54\"/>\n      <use xlink:href=\"#DejaVuSans-6f\" transform=\"translate(44.083984 0)\"/>\n      <use xlink:href=\"#DejaVuSans-6b\" transform=\"translate(105.265625 0)\"/>\n      <use xlink:href=\"#DejaVuSans-65\" transform=\"translate(159.550781 0)\"/>\n      <use xlink:href=\"#DejaVuSans-6e\" transform=\"translate(221.074219 0)\"/>\n      <use xlink:href=\"#DejaVuSans-20\" transform=\"translate(284.453125 0)\"/>\n      <use xlink:href=\"#DejaVuSans-63\" transform=\"translate(316.240234 0)\"/>\n      <use xlink:href=\"#DejaVuSans-6f\" transform=\"translate(371.220703 0)\"/>\n      <use xlink:href=\"#DejaVuSans-75\" transform=\"translate(432.402344 0)\"/>\n      <use xlink:href=\"#DejaVuSans-6e\" transform=\"translate(495.78125 0)\"/>\n      <use xlink:href=\"#DejaVuSans-74\" transform=\"translate(559.160156 0)\"/>\n      <use xlink:href=\"#DejaVuSans-20\" transform=\"translate(598.369141 0)\"/>\n      <use xlink:href=\"#DejaVuSans-70\" transform=\"translate(630.15625 0)\"/>\n      <use xlink:href=\"#DejaVuSans-65\" transform=\"translate(693.632812 0)\"/>\n      <use xlink:href=\"#DejaVuSans-72\" transform=\"translate(755.15625 0)\"/>\n      <use xlink:href=\"#DejaVuSans-20\" transform=\"translate(796.269531 0)\"/>\n      <use xlink:href=\"#DejaVuSans-72\" transform=\"translate(828.056641 0)\"/>\n      <use xlink:href=\"#DejaVuSans-65\" transform=\"translate(866.919922 0)\"/>\n      <use xlink:href=\"#DejaVuSans-76\" transform=\"translate(928.443359 0)\"/>\n      <use xlink:href=\"#DejaVuSans-69\" transform=\"translate(987.623047 0)\"/>\n      <use xlink:href=\"#DejaVuSans-65\" transform=\"translate(1015.40625 0)\"/>\n      <use xlink:href=\"#DejaVuSans-77\" transform=\"translate(1076.929688 0)\"/>\n     </g>\n    </g>\n   </g>\n   <g id=\"matplotlib.axis_2\">\n    <g id=\"ytick_1\">\n     <g id=\"line2d_8\">\n      <defs>\n       <path id=\"m12e3410208\" d=\"M 0 0 \nL -3.5 0 \n\" style=\"stroke: #000000; stroke-width: 0.8\"/>\n      </defs>\n      <g>\n       <use xlink:href=\"#m12e3410208\" x=\"59.690625\" y=\"299.518125\" style=\"stroke: #000000; stroke-width: 0.8\"/>\n      </g>\n     </g>\n     <g id=\"text_9\">\n      <!-- 0 -->\n      <g transform=\"translate(46.328125 303.317344) scale(0.1 -0.1)\">\n       <use xlink:href=\"#DejaVuSans-30\"/>\n      </g>\n     </g>\n    </g>\n    <g id=\"ytick_2\">\n     <g id=\"line2d_9\">\n      <g>\n       <use xlink:href=\"#m12e3410208\" x=\"59.690625\" y=\"264.04379\" style=\"stroke: #000000; stroke-width: 0.8\"/>\n      </g>\n     </g>\n     <g id=\"text_10\">\n      <!-- 2500 -->\n      <g transform=\"translate(27.240625 267.843009) scale(0.1 -0.1)\">\n       <use xlink:href=\"#DejaVuSans-32\"/>\n       <use xlink:href=\"#DejaVuSans-35\" transform=\"translate(63.623047 0)\"/>\n       <use xlink:href=\"#DejaVuSans-30\" transform=\"translate(127.246094 0)\"/>\n       <use xlink:href=\"#DejaVuSans-30\" transform=\"translate(190.869141 0)\"/>\n      </g>\n     </g>\n    </g>\n    <g id=\"ytick_3\">\n     <g id=\"line2d_10\">\n      <g>\n       <use xlink:href=\"#m12e3410208\" x=\"59.690625\" y=\"228.569455\" style=\"stroke: #000000; stroke-width: 0.8\"/>\n      </g>\n     </g>\n     <g id=\"text_11\">\n      <!-- 5000 -->\n      <g transform=\"translate(27.240625 232.368674) scale(0.1 -0.1)\">\n       <use xlink:href=\"#DejaVuSans-35\"/>\n       <use xlink:href=\"#DejaVuSans-30\" transform=\"translate(63.623047 0)\"/>\n       <use xlink:href=\"#DejaVuSans-30\" transform=\"translate(127.246094 0)\"/>\n       <use xlink:href=\"#DejaVuSans-30\" transform=\"translate(190.869141 0)\"/>\n      </g>\n     </g>\n    </g>\n    <g id=\"ytick_4\">\n     <g id=\"line2d_11\">\n      <g>\n       <use xlink:href=\"#m12e3410208\" x=\"59.690625\" y=\"193.09512\" style=\"stroke: #000000; stroke-width: 0.8\"/>\n      </g>\n     </g>\n     <g id=\"text_12\">\n      <!-- 7500 -->\n      <g transform=\"translate(27.240625 196.894339) scale(0.1 -0.1)\">\n       <defs>\n        <path id=\"DejaVuSans-37\" d=\"M 525 4666 \nL 3525 4666 \nL 3525 4397 \nL 1831 0 \nL 1172 0 \nL 2766 4134 \nL 525 4134 \nL 525 4666 \nz\n\" transform=\"scale(0.015625)\"/>\n       </defs>\n       <use xlink:href=\"#DejaVuSans-37\"/>\n       <use xlink:href=\"#DejaVuSans-35\" transform=\"translate(63.623047 0)\"/>\n       <use xlink:href=\"#DejaVuSans-30\" transform=\"translate(127.246094 0)\"/>\n       <use xlink:href=\"#DejaVuSans-30\" transform=\"translate(190.869141 0)\"/>\n      </g>\n     </g>\n    </g>\n    <g id=\"ytick_5\">\n     <g id=\"line2d_12\">\n      <g>\n       <use xlink:href=\"#m12e3410208\" x=\"59.690625\" y=\"157.620786\" style=\"stroke: #000000; stroke-width: 0.8\"/>\n      </g>\n     </g>\n     <g id=\"text_13\">\n      <!-- 10000 -->\n      <g transform=\"translate(20.878125 161.420004) scale(0.1 -0.1)\">\n       <use xlink:href=\"#DejaVuSans-31\"/>\n       <use xlink:href=\"#DejaVuSans-30\" transform=\"translate(63.623047 0)\"/>\n       <use xlink:href=\"#DejaVuSans-30\" transform=\"translate(127.246094 0)\"/>\n       <use xlink:href=\"#DejaVuSans-30\" transform=\"translate(190.869141 0)\"/>\n       <use xlink:href=\"#DejaVuSans-30\" transform=\"translate(254.492188 0)\"/>\n      </g>\n     </g>\n    </g>\n    <g id=\"ytick_6\">\n     <g id=\"line2d_13\">\n      <g>\n       <use xlink:href=\"#m12e3410208\" x=\"59.690625\" y=\"122.146451\" style=\"stroke: #000000; stroke-width: 0.8\"/>\n      </g>\n     </g>\n     <g id=\"text_14\">\n      <!-- 12500 -->\n      <g transform=\"translate(20.878125 125.945669) scale(0.1 -0.1)\">\n       <use xlink:href=\"#DejaVuSans-31\"/>\n       <use xlink:href=\"#DejaVuSans-32\" transform=\"translate(63.623047 0)\"/>\n       <use xlink:href=\"#DejaVuSans-35\" transform=\"translate(127.246094 0)\"/>\n       <use xlink:href=\"#DejaVuSans-30\" transform=\"translate(190.869141 0)\"/>\n       <use xlink:href=\"#DejaVuSans-30\" transform=\"translate(254.492188 0)\"/>\n      </g>\n     </g>\n    </g>\n    <g id=\"ytick_7\">\n     <g id=\"line2d_14\">\n      <g>\n       <use xlink:href=\"#m12e3410208\" x=\"59.690625\" y=\"86.672116\" style=\"stroke: #000000; stroke-width: 0.8\"/>\n      </g>\n     </g>\n     <g id=\"text_15\">\n      <!-- 15000 -->\n      <g transform=\"translate(20.878125 90.471335) scale(0.1 -0.1)\">\n       <use xlink:href=\"#DejaVuSans-31\"/>\n       <use xlink:href=\"#DejaVuSans-35\" transform=\"translate(63.623047 0)\"/>\n       <use xlink:href=\"#DejaVuSans-30\" transform=\"translate(127.246094 0)\"/>\n       <use xlink:href=\"#DejaVuSans-30\" transform=\"translate(190.869141 0)\"/>\n       <use xlink:href=\"#DejaVuSans-30\" transform=\"translate(254.492188 0)\"/>\n      </g>\n     </g>\n    </g>\n    <g id=\"ytick_8\">\n     <g id=\"line2d_15\">\n      <g>\n       <use xlink:href=\"#m12e3410208\" x=\"59.690625\" y=\"51.197781\" style=\"stroke: #000000; stroke-width: 0.8\"/>\n      </g>\n     </g>\n     <g id=\"text_16\">\n      <!-- 17500 -->\n      <g transform=\"translate(20.878125 54.997) scale(0.1 -0.1)\">\n       <use xlink:href=\"#DejaVuSans-31\"/>\n       <use xlink:href=\"#DejaVuSans-37\" transform=\"translate(63.623047 0)\"/>\n       <use xlink:href=\"#DejaVuSans-35\" transform=\"translate(127.246094 0)\"/>\n       <use xlink:href=\"#DejaVuSans-30\" transform=\"translate(190.869141 0)\"/>\n       <use xlink:href=\"#DejaVuSans-30\" transform=\"translate(254.492188 0)\"/>\n      </g>\n     </g>\n    </g>\n    <g id=\"text_17\">\n     <!-- Number of reviews -->\n     <g transform=\"translate(14.798438 208.14) rotate(-90) scale(0.1 -0.1)\">\n      <defs>\n       <path id=\"DejaVuSans-4e\" d=\"M 628 4666 \nL 1478 4666 \nL 3547 763 \nL 3547 4666 \nL 4159 4666 \nL 4159 0 \nL 3309 0 \nL 1241 3903 \nL 1241 0 \nL 628 0 \nL 628 4666 \nz\n\" transform=\"scale(0.015625)\"/>\n       <path id=\"DejaVuSans-6d\" d=\"M 3328 2828 \nQ 3544 3216 3844 3400 \nQ 4144 3584 4550 3584 \nQ 5097 3584 5394 3201 \nQ 5691 2819 5691 2113 \nL 5691 0 \nL 5113 0 \nL 5113 2094 \nQ 5113 2597 4934 2840 \nQ 4756 3084 4391 3084 \nQ 3944 3084 3684 2787 \nQ 3425 2491 3425 1978 \nL 3425 0 \nL 2847 0 \nL 2847 2094 \nQ 2847 2600 2669 2842 \nQ 2491 3084 2119 3084 \nQ 1678 3084 1418 2786 \nQ 1159 2488 1159 1978 \nL 1159 0 \nL 581 0 \nL 581 3500 \nL 1159 3500 \nL 1159 2956 \nQ 1356 3278 1631 3431 \nQ 1906 3584 2284 3584 \nQ 2666 3584 2933 3390 \nQ 3200 3197 3328 2828 \nz\n\" transform=\"scale(0.015625)\"/>\n       <path id=\"DejaVuSans-62\" d=\"M 3116 1747 \nQ 3116 2381 2855 2742 \nQ 2594 3103 2138 3103 \nQ 1681 3103 1420 2742 \nQ 1159 2381 1159 1747 \nQ 1159 1113 1420 752 \nQ 1681 391 2138 391 \nQ 2594 391 2855 752 \nQ 3116 1113 3116 1747 \nz\nM 1159 2969 \nQ 1341 3281 1617 3432 \nQ 1894 3584 2278 3584 \nQ 2916 3584 3314 3078 \nQ 3713 2572 3713 1747 \nQ 3713 922 3314 415 \nQ 2916 -91 2278 -91 \nQ 1894 -91 1617 61 \nQ 1341 213 1159 525 \nL 1159 0 \nL 581 0 \nL 581 4863 \nL 1159 4863 \nL 1159 2969 \nz\n\" transform=\"scale(0.015625)\"/>\n       <path id=\"DejaVuSans-66\" d=\"M 2375 4863 \nL 2375 4384 \nL 1825 4384 \nQ 1516 4384 1395 4259 \nQ 1275 4134 1275 3809 \nL 1275 3500 \nL 2222 3500 \nL 2222 3053 \nL 1275 3053 \nL 1275 0 \nL 697 0 \nL 697 3053 \nL 147 3053 \nL 147 3500 \nL 697 3500 \nL 697 3744 \nQ 697 4328 969 4595 \nQ 1241 4863 1831 4863 \nL 2375 4863 \nz\n\" transform=\"scale(0.015625)\"/>\n       <path id=\"DejaVuSans-73\" d=\"M 2834 3397 \nL 2834 2853 \nQ 2591 2978 2328 3040 \nQ 2066 3103 1784 3103 \nQ 1356 3103 1142 2972 \nQ 928 2841 928 2578 \nQ 928 2378 1081 2264 \nQ 1234 2150 1697 2047 \nL 1894 2003 \nQ 2506 1872 2764 1633 \nQ 3022 1394 3022 966 \nQ 3022 478 2636 193 \nQ 2250 -91 1575 -91 \nQ 1294 -91 989 -36 \nQ 684 19 347 128 \nL 347 722 \nQ 666 556 975 473 \nQ 1284 391 1588 391 \nQ 1994 391 2212 530 \nQ 2431 669 2431 922 \nQ 2431 1156 2273 1281 \nQ 2116 1406 1581 1522 \nL 1381 1569 \nQ 847 1681 609 1914 \nQ 372 2147 372 2553 \nQ 372 3047 722 3315 \nQ 1072 3584 1716 3584 \nQ 2034 3584 2315 3537 \nQ 2597 3491 2834 3397 \nz\n\" transform=\"scale(0.015625)\"/>\n      </defs>\n      <use xlink:href=\"#DejaVuSans-4e\"/>\n      <use xlink:href=\"#DejaVuSans-75\" transform=\"translate(74.804688 0)\"/>\n      <use xlink:href=\"#DejaVuSans-6d\" transform=\"translate(138.183594 0)\"/>\n      <use xlink:href=\"#DejaVuSans-62\" transform=\"translate(235.595703 0)\"/>\n      <use xlink:href=\"#DejaVuSans-65\" transform=\"translate(299.072266 0)\"/>\n      <use xlink:href=\"#DejaVuSans-72\" transform=\"translate(360.595703 0)\"/>\n      <use xlink:href=\"#DejaVuSans-20\" transform=\"translate(401.708984 0)\"/>\n      <use xlink:href=\"#DejaVuSans-6f\" transform=\"translate(433.496094 0)\"/>\n      <use xlink:href=\"#DejaVuSans-66\" transform=\"translate(494.677734 0)\"/>\n      <use xlink:href=\"#DejaVuSans-20\" transform=\"translate(529.882812 0)\"/>\n      <use xlink:href=\"#DejaVuSans-72\" transform=\"translate(561.669922 0)\"/>\n      <use xlink:href=\"#DejaVuSans-65\" transform=\"translate(600.533203 0)\"/>\n      <use xlink:href=\"#DejaVuSans-76\" transform=\"translate(662.056641 0)\"/>\n      <use xlink:href=\"#DejaVuSans-69\" transform=\"translate(721.236328 0)\"/>\n      <use xlink:href=\"#DejaVuSans-65\" transform=\"translate(749.019531 0)\"/>\n      <use xlink:href=\"#DejaVuSans-77\" transform=\"translate(810.542969 0)\"/>\n      <use xlink:href=\"#DejaVuSans-73\" transform=\"translate(892.330078 0)\"/>\n     </g>\n    </g>\n   </g>\n   <g id=\"line2d_16\">\n    <path d=\"M 111.962122 299.518125 \nL 111.962122 22.318125 \n\" clip-path=\"url(#paab61a7341)\" style=\"fill: none; stroke-dasharray: 5.55,2.4; stroke-dashoffset: 0; stroke: #ff0000; stroke-width: 1.5\"/>\n   </g>\n   <g id=\"line2d_17\">\n    <path d=\"M 144.974341 299.518125 \nL 144.974341 22.318125 \n\" clip-path=\"url(#paab61a7341)\" style=\"fill: none; stroke-dasharray: 5.55,2.4; stroke-dashoffset: 0; stroke: #008000; stroke-width: 1.5\"/>\n   </g>\n   <g id=\"patch_33\">\n    <path d=\"M 59.690625 299.518125 \nL 59.690625 22.318125 \n\" style=\"fill: none; stroke: #000000; stroke-width: 0.8; stroke-linejoin: miter; stroke-linecap: square\"/>\n   </g>\n   <g id=\"patch_34\">\n    <path d=\"M 506.090625 299.518125 \nL 506.090625 22.318125 \n\" style=\"fill: none; stroke: #000000; stroke-width: 0.8; stroke-linejoin: miter; stroke-linecap: square\"/>\n   </g>\n   <g id=\"patch_35\">\n    <path d=\"M 59.690625 299.518125 \nL 506.090625 299.518125 \n\" style=\"fill: none; stroke: #000000; stroke-width: 0.8; stroke-linejoin: miter; stroke-linecap: square\"/>\n   </g>\n   <g id=\"patch_36\">\n    <path d=\"M 59.690625 22.318125 \nL 506.090625 22.318125 \n\" style=\"fill: none; stroke: #000000; stroke-width: 0.8; stroke-linejoin: miter; stroke-linecap: square\"/>\n   </g>\n   <g id=\"text_18\">\n    <!-- Distribution of review lengths (tokens) -->\n    <g transform=\"translate(167.804062 16.318125) scale(0.12 -0.12)\">\n     <defs>\n      <path id=\"DejaVuSans-44\" d=\"M 1259 4147 \nL 1259 519 \nL 2022 519 \nQ 2988 519 3436 956 \nQ 3884 1394 3884 2338 \nQ 3884 3275 3436 3711 \nQ 2988 4147 2022 4147 \nL 1259 4147 \nz\nM 628 4666 \nL 1925 4666 \nQ 3281 4666 3915 4102 \nQ 4550 3538 4550 2338 \nQ 4550 1131 3912 565 \nQ 3275 0 1925 0 \nL 628 0 \nL 628 4666 \nz\n\" transform=\"scale(0.015625)\"/>\n      <path id=\"DejaVuSans-6c\" d=\"M 603 4863 \nL 1178 4863 \nL 1178 0 \nL 603 0 \nL 603 4863 \nz\n\" transform=\"scale(0.015625)\"/>\n      <path id=\"DejaVuSans-67\" d=\"M 2906 1791 \nQ 2906 2416 2648 2759 \nQ 2391 3103 1925 3103 \nQ 1463 3103 1205 2759 \nQ 947 2416 947 1791 \nQ 947 1169 1205 825 \nQ 1463 481 1925 481 \nQ 2391 481 2648 825 \nQ 2906 1169 2906 1791 \nz\nM 3481 434 \nQ 3481 -459 3084 -895 \nQ 2688 -1331 1869 -1331 \nQ 1566 -1331 1297 -1286 \nQ 1028 -1241 775 -1147 \nL 775 -588 \nQ 1028 -725 1275 -790 \nQ 1522 -856 1778 -856 \nQ 2344 -856 2625 -561 \nQ 2906 -266 2906 331 \nL 2906 616 \nQ 2728 306 2450 153 \nQ 2172 0 1784 0 \nQ 1141 0 747 490 \nQ 353 981 353 1791 \nQ 353 2603 747 3093 \nQ 1141 3584 1784 3584 \nQ 2172 3584 2450 3431 \nQ 2728 3278 2906 2969 \nL 2906 3500 \nL 3481 3500 \nL 3481 434 \nz\n\" transform=\"scale(0.015625)\"/>\n      <path id=\"DejaVuSans-68\" d=\"M 3513 2113 \nL 3513 0 \nL 2938 0 \nL 2938 2094 \nQ 2938 2591 2744 2837 \nQ 2550 3084 2163 3084 \nQ 1697 3084 1428 2787 \nQ 1159 2491 1159 1978 \nL 1159 0 \nL 581 0 \nL 581 4863 \nL 1159 4863 \nL 1159 2956 \nQ 1366 3272 1645 3428 \nQ 1925 3584 2291 3584 \nQ 2894 3584 3203 3211 \nQ 3513 2838 3513 2113 \nz\n\" transform=\"scale(0.015625)\"/>\n      <path id=\"DejaVuSans-28\" d=\"M 1984 4856 \nQ 1566 4138 1362 3434 \nQ 1159 2731 1159 2009 \nQ 1159 1288 1364 580 \nQ 1569 -128 1984 -844 \nL 1484 -844 \nQ 1016 -109 783 600 \nQ 550 1309 550 2009 \nQ 550 2706 781 3412 \nQ 1013 4119 1484 4856 \nL 1984 4856 \nz\n\" transform=\"scale(0.015625)\"/>\n      <path id=\"DejaVuSans-29\" d=\"M 513 4856 \nL 1013 4856 \nQ 1481 4119 1714 3412 \nQ 1947 2706 1947 2009 \nQ 1947 1309 1714 600 \nQ 1481 -109 1013 -844 \nL 513 -844 \nQ 928 -128 1133 580 \nQ 1338 1288 1338 2009 \nQ 1338 2731 1133 3434 \nQ 928 4138 513 4856 \nz\n\" transform=\"scale(0.015625)\"/>\n     </defs>\n     <use xlink:href=\"#DejaVuSans-44\"/>\n     <use xlink:href=\"#DejaVuSans-69\" transform=\"translate(77.001953 0)\"/>\n     <use xlink:href=\"#DejaVuSans-73\" transform=\"translate(104.785156 0)\"/>\n     <use xlink:href=\"#DejaVuSans-74\" transform=\"translate(156.884766 0)\"/>\n     <use xlink:href=\"#DejaVuSans-72\" transform=\"translate(196.09375 0)\"/>\n     <use xlink:href=\"#DejaVuSans-69\" transform=\"translate(237.207031 0)\"/>\n     <use xlink:href=\"#DejaVuSans-62\" transform=\"translate(264.990234 0)\"/>\n     <use xlink:href=\"#DejaVuSans-75\" transform=\"translate(328.466797 0)\"/>\n     <use xlink:href=\"#DejaVuSans-74\" transform=\"translate(391.845703 0)\"/>\n     <use xlink:href=\"#DejaVuSans-69\" transform=\"translate(431.054688 0)\"/>\n     <use xlink:href=\"#DejaVuSans-6f\" transform=\"translate(458.837891 0)\"/>\n     <use xlink:href=\"#DejaVuSans-6e\" transform=\"translate(520.019531 0)\"/>\n     <use xlink:href=\"#DejaVuSans-20\" transform=\"translate(583.398438 0)\"/>\n     <use xlink:href=\"#DejaVuSans-6f\" transform=\"translate(615.185547 0)\"/>\n     <use xlink:href=\"#DejaVuSans-66\" transform=\"translate(676.367188 0)\"/>\n     <use xlink:href=\"#DejaVuSans-20\" transform=\"translate(711.572266 0)\"/>\n     <use xlink:href=\"#DejaVuSans-72\" transform=\"translate(743.359375 0)\"/>\n     <use xlink:href=\"#DejaVuSans-65\" transform=\"translate(782.222656 0)\"/>\n     <use xlink:href=\"#DejaVuSans-76\" transform=\"translate(843.746094 0)\"/>\n     <use xlink:href=\"#DejaVuSans-69\" transform=\"translate(902.925781 0)\"/>\n     <use xlink:href=\"#DejaVuSans-65\" transform=\"translate(930.708984 0)\"/>\n     <use xlink:href=\"#DejaVuSans-77\" transform=\"translate(992.232422 0)\"/>\n     <use xlink:href=\"#DejaVuSans-20\" transform=\"translate(1074.019531 0)\"/>\n     <use xlink:href=\"#DejaVuSans-6c\" transform=\"translate(1105.806641 0)\"/>\n     <use xlink:href=\"#DejaVuSans-65\" transform=\"translate(1133.589844 0)\"/>\n     <use xlink:href=\"#DejaVuSans-6e\" transform=\"translate(1195.113281 0)\"/>\n     <use xlink:href=\"#DejaVuSans-67\" transform=\"translate(1258.492188 0)\"/>\n     <use xlink:href=\"#DejaVuSans-74\" transform=\"translate(1321.96875 0)\"/>\n     <use xlink:href=\"#DejaVuSans-68\" transform=\"translate(1361.177734 0)\"/>\n     <use xlink:href=\"#DejaVuSans-73\" transform=\"translate(1424.556641 0)\"/>\n     <use xlink:href=\"#DejaVuSans-20\" transform=\"translate(1476.65625 0)\"/>\n     <use xlink:href=\"#DejaVuSans-28\" transform=\"translate(1508.443359 0)\"/>\n     <use xlink:href=\"#DejaVuSans-74\" transform=\"translate(1547.457031 0)\"/>\n     <use xlink:href=\"#DejaVuSans-6f\" transform=\"translate(1586.666016 0)\"/>\n     <use xlink:href=\"#DejaVuSans-6b\" transform=\"translate(1647.847656 0)\"/>\n     <use xlink:href=\"#DejaVuSans-65\" transform=\"translate(1702.132812 0)\"/>\n     <use xlink:href=\"#DejaVuSans-6e\" transform=\"translate(1763.65625 0)\"/>\n     <use xlink:href=\"#DejaVuSans-73\" transform=\"translate(1827.035156 0)\"/>\n     <use xlink:href=\"#DejaVuSans-29\" transform=\"translate(1879.134766 0)\"/>\n    </g>\n   </g>\n   <g id=\"legend_1\">\n    <g id=\"patch_37\">\n     <path d=\"M 346.976562 59.674375 \nL 499.090625 59.674375 \nQ 501.090625 59.674375 501.090625 57.674375 \nL 501.090625 29.318125 \nQ 501.090625 27.318125 499.090625 27.318125 \nL 346.976562 27.318125 \nQ 344.976562 27.318125 344.976562 29.318125 \nL 344.976562 57.674375 \nQ 344.976562 59.674375 346.976562 59.674375 \nz\n\" style=\"fill: #ffffff; opacity: 0.8; stroke: #cccccc; stroke-linejoin: miter\"/>\n    </g>\n    <g id=\"line2d_18\">\n     <path d=\"M 348.976562 35.416562 \nL 358.976562 35.416562 \nL 368.976562 35.416562 \n\" style=\"fill: none; stroke-dasharray: 5.55,2.4; stroke-dashoffset: 0; stroke: #ff0000; stroke-width: 1.5\"/>\n    </g>\n    <g id=\"text_19\">\n     <!-- Truncation limit (256) -->\n     <g transform=\"translate(376.976562 38.916562) scale(0.1 -0.1)\">\n      <defs>\n       <path id=\"DejaVuSans-61\" d=\"M 2194 1759 \nQ 1497 1759 1228 1600 \nQ 959 1441 959 1056 \nQ 959 750 1161 570 \nQ 1363 391 1709 391 \nQ 2188 391 2477 730 \nQ 2766 1069 2766 1631 \nL 2766 1759 \nL 2194 1759 \nz\nM 3341 1997 \nL 3341 0 \nL 2766 0 \nL 2766 531 \nQ 2569 213 2275 61 \nQ 1981 -91 1556 -91 \nQ 1019 -91 701 211 \nQ 384 513 384 1019 \nQ 384 1609 779 1909 \nQ 1175 2209 1959 2209 \nL 2766 2209 \nL 2766 2266 \nQ 2766 2663 2505 2880 \nQ 2244 3097 1772 3097 \nQ 1472 3097 1187 3025 \nQ 903 2953 641 2809 \nL 641 3341 \nQ 956 3463 1253 3523 \nQ 1550 3584 1831 3584 \nQ 2591 3584 2966 3190 \nQ 3341 2797 3341 1997 \nz\n\" transform=\"scale(0.015625)\"/>\n       <path id=\"DejaVuSans-36\" d=\"M 2113 2584 \nQ 1688 2584 1439 2293 \nQ 1191 2003 1191 1497 \nQ 1191 994 1439 701 \nQ 1688 409 2113 409 \nQ 2538 409 2786 701 \nQ 3034 994 3034 1497 \nQ 3034 2003 2786 2293 \nQ 2538 2584 2113 2584 \nz\nM 3366 4563 \nL 3366 3988 \nQ 3128 4100 2886 4159 \nQ 2644 4219 2406 4219 \nQ 1781 4219 1451 3797 \nQ 1122 3375 1075 2522 \nQ 1259 2794 1537 2939 \nQ 1816 3084 2150 3084 \nQ 2853 3084 3261 2657 \nQ 3669 2231 3669 1497 \nQ 3669 778 3244 343 \nQ 2819 -91 2113 -91 \nQ 1303 -91 875 529 \nQ 447 1150 447 2328 \nQ 447 3434 972 4092 \nQ 1497 4750 2381 4750 \nQ 2619 4750 2861 4703 \nQ 3103 4656 3366 4563 \nz\n\" transform=\"scale(0.015625)\"/>\n      </defs>\n      <use xlink:href=\"#DejaVuSans-54\"/>\n      <use xlink:href=\"#DejaVuSans-72\" transform=\"translate(46.333984 0)\"/>\n      <use xlink:href=\"#DejaVuSans-75\" transform=\"translate(87.447266 0)\"/>\n      <use xlink:href=\"#DejaVuSans-6e\" transform=\"translate(150.826172 0)\"/>\n      <use xlink:href=\"#DejaVuSans-63\" transform=\"translate(214.205078 0)\"/>\n      <use xlink:href=\"#DejaVuSans-61\" transform=\"translate(269.185547 0)\"/>\n      <use xlink:href=\"#DejaVuSans-74\" transform=\"translate(330.464844 0)\"/>\n      <use xlink:href=\"#DejaVuSans-69\" transform=\"translate(369.673828 0)\"/>\n      <use xlink:href=\"#DejaVuSans-6f\" transform=\"translate(397.457031 0)\"/>\n      <use xlink:href=\"#DejaVuSans-6e\" transform=\"translate(458.638672 0)\"/>\n      <use xlink:href=\"#DejaVuSans-20\" transform=\"translate(522.017578 0)\"/>\n      <use xlink:href=\"#DejaVuSans-6c\" transform=\"translate(553.804688 0)\"/>\n      <use xlink:href=\"#DejaVuSans-69\" transform=\"translate(581.587891 0)\"/>\n      <use xlink:href=\"#DejaVuSans-6d\" transform=\"translate(609.371094 0)\"/>\n      <use xlink:href=\"#DejaVuSans-69\" transform=\"translate(706.783203 0)\"/>\n      <use xlink:href=\"#DejaVuSans-74\" transform=\"translate(734.566406 0)\"/>\n      <use xlink:href=\"#DejaVuSans-20\" transform=\"translate(773.775391 0)\"/>\n      <use xlink:href=\"#DejaVuSans-28\" transform=\"translate(805.5625 0)\"/>\n      <use xlink:href=\"#DejaVuSans-32\" transform=\"translate(844.576172 0)\"/>\n      <use xlink:href=\"#DejaVuSans-35\" transform=\"translate(908.199219 0)\"/>\n      <use xlink:href=\"#DejaVuSans-36\" transform=\"translate(971.822266 0)\"/>\n      <use xlink:href=\"#DejaVuSans-29\" transform=\"translate(1035.445312 0)\"/>\n     </g>\n    </g>\n    <g id=\"line2d_19\">\n     <path d=\"M 348.976562 50.094688 \nL 358.976562 50.094688 \nL 368.976562 50.094688 \n\" style=\"fill: none; stroke-dasharray: 5.55,2.4; stroke-dashoffset: 0; stroke: #008000; stroke-width: 1.5\"/>\n    </g>\n    <g id=\"text_20\">\n     <!-- Model max length (512) -->\n     <g transform=\"translate(376.976562 53.594688) scale(0.1 -0.1)\">\n      <defs>\n       <path id=\"DejaVuSans-4d\" d=\"M 628 4666 \nL 1569 4666 \nL 2759 1491 \nL 3956 4666 \nL 4897 4666 \nL 4897 0 \nL 4281 0 \nL 4281 4097 \nL 3078 897 \nL 2444 897 \nL 1241 4097 \nL 1241 0 \nL 628 0 \nL 628 4666 \nz\n\" transform=\"scale(0.015625)\"/>\n       <path id=\"DejaVuSans-64\" d=\"M 2906 2969 \nL 2906 4863 \nL 3481 4863 \nL 3481 0 \nL 2906 0 \nL 2906 525 \nQ 2725 213 2448 61 \nQ 2172 -91 1784 -91 \nQ 1150 -91 751 415 \nQ 353 922 353 1747 \nQ 353 2572 751 3078 \nQ 1150 3584 1784 3584 \nQ 2172 3584 2448 3432 \nQ 2725 3281 2906 2969 \nz\nM 947 1747 \nQ 947 1113 1208 752 \nQ 1469 391 1925 391 \nQ 2381 391 2643 752 \nQ 2906 1113 2906 1747 \nQ 2906 2381 2643 2742 \nQ 2381 3103 1925 3103 \nQ 1469 3103 1208 2742 \nQ 947 2381 947 1747 \nz\n\" transform=\"scale(0.015625)\"/>\n       <path id=\"DejaVuSans-78\" d=\"M 3513 3500 \nL 2247 1797 \nL 3578 0 \nL 2900 0 \nL 1881 1375 \nL 863 0 \nL 184 0 \nL 1544 1831 \nL 300 3500 \nL 978 3500 \nL 1906 2253 \nL 2834 3500 \nL 3513 3500 \nz\n\" transform=\"scale(0.015625)\"/>\n      </defs>\n      <use xlink:href=\"#DejaVuSans-4d\"/>\n      <use xlink:href=\"#DejaVuSans-6f\" transform=\"translate(86.279297 0)\"/>\n      <use xlink:href=\"#DejaVuSans-64\" transform=\"translate(147.460938 0)\"/>\n      <use xlink:href=\"#DejaVuSans-65\" transform=\"translate(210.9375 0)\"/>\n      <use xlink:href=\"#DejaVuSans-6c\" transform=\"translate(272.460938 0)\"/>\n      <use xlink:href=\"#DejaVuSans-20\" transform=\"translate(300.244141 0)\"/>\n      <use xlink:href=\"#DejaVuSans-6d\" transform=\"translate(332.03125 0)\"/>\n      <use xlink:href=\"#DejaVuSans-61\" transform=\"translate(429.443359 0)\"/>\n      <use xlink:href=\"#DejaVuSans-78\" transform=\"translate(490.722656 0)\"/>\n      <use xlink:href=\"#DejaVuSans-20\" transform=\"translate(549.902344 0)\"/>\n      <use xlink:href=\"#DejaVuSans-6c\" transform=\"translate(581.689453 0)\"/>\n      <use xlink:href=\"#DejaVuSans-65\" transform=\"translate(609.472656 0)\"/>\n      <use xlink:href=\"#DejaVuSans-6e\" transform=\"translate(670.996094 0)\"/>\n      <use xlink:href=\"#DejaVuSans-67\" transform=\"translate(734.375 0)\"/>\n      <use xlink:href=\"#DejaVuSans-74\" transform=\"translate(797.851562 0)\"/>\n      <use xlink:href=\"#DejaVuSans-68\" transform=\"translate(837.060547 0)\"/>\n      <use xlink:href=\"#DejaVuSans-20\" transform=\"translate(900.439453 0)\"/>\n      <use xlink:href=\"#DejaVuSans-28\" transform=\"translate(932.226562 0)\"/>\n      <use xlink:href=\"#DejaVuSans-35\" transform=\"translate(971.240234 0)\"/>\n      <use xlink:href=\"#DejaVuSans-31\" transform=\"translate(1034.863281 0)\"/>\n      <use xlink:href=\"#DejaVuSans-32\" transform=\"translate(1098.486328 0)\"/>\n      <use xlink:href=\"#DejaVuSans-29\" transform=\"translate(1162.109375 0)\"/>\n     </g>\n    </g>\n   </g>\n  </g>\n </g>\n <defs>\n  <clipPath id=\"paab61a7341\">\n   <rect x=\"59.690625\" y=\"22.318125\" width=\"446.4\" height=\"277.2\"/>\n  </clipPath>\n </defs>\n</svg>\n"
          },
          "metadata": {}
        },
        {
          "output_type": "display_data",
          "data": {
            "text/plain": [
              "<Figure size 600x400 with 1 Axes>"
            ],
            "image/svg+xml": "<?xml version=\"1.0\" encoding=\"utf-8\" standalone=\"no\"?>\n<!DOCTYPE svg PUBLIC \"-//W3C//DTD SVG 1.1//EN\"\n  \"http://www.w3.org/Graphics/SVG/1.1/DTD/svg11.dtd\">\n<svg xmlns:xlink=\"http://www.w3.org/1999/xlink\" width=\"401.690625pt\" height=\"281.634375pt\" viewBox=\"0 0 401.690625 281.634375\" xmlns=\"http://www.w3.org/2000/svg\" version=\"1.1\">\n <metadata>\n  <rdf:RDF xmlns:dc=\"http://purl.org/dc/elements/1.1/\" xmlns:cc=\"http://creativecommons.org/ns#\" xmlns:rdf=\"http://www.w3.org/1999/02/22-rdf-syntax-ns#\">\n   <cc:Work>\n    <dc:type rdf:resource=\"http://purl.org/dc/dcmitype/StillImage\"/>\n    <dc:date>2025-09-14T13:22:16.789501</dc:date>\n    <dc:format>image/svg+xml</dc:format>\n    <dc:creator>\n     <cc:Agent>\n      <dc:title>Matplotlib v3.10.0, https://matplotlib.org/</dc:title>\n     </cc:Agent>\n    </dc:creator>\n   </cc:Work>\n  </rdf:RDF>\n </metadata>\n <defs>\n  <style type=\"text/css\">*{stroke-linejoin: round; stroke-linecap: butt}</style>\n </defs>\n <g id=\"figure_1\">\n  <g id=\"patch_1\">\n   <path d=\"M 0 281.634375 \nL 401.690625 281.634375 \nL 401.690625 0 \nL 0 0 \nz\n\" style=\"fill: #ffffff\"/>\n  </g>\n  <g id=\"axes_1\">\n   <g id=\"patch_2\">\n    <path d=\"M 59.690625 244.078125 \nL 394.490625 244.078125 \nL 394.490625 22.318125 \nL 59.690625 22.318125 \nz\n\" style=\"fill: #ffffff\"/>\n   </g>\n   <g id=\"patch_3\">\n    <path d=\"M 101.540625 244.078125 \nL 185.240625 244.078125 \nL 185.240625 32.878125 \nL 101.540625 32.878125 \nz\n\" clip-path=\"url(#p50417a7032)\" style=\"fill: #fa8072\"/>\n   </g>\n   <g id=\"patch_4\">\n    <path d=\"M 268.940625 244.078125 \nL 352.640625 244.078125 \nL 352.640625 32.878125 \nL 268.940625 32.878125 \nz\n\" clip-path=\"url(#p50417a7032)\" style=\"fill: #87ceeb\"/>\n   </g>\n   <g id=\"matplotlib.axis_1\">\n    <g id=\"xtick_1\">\n     <g id=\"line2d_1\">\n      <defs>\n       <path id=\"me733c164c9\" d=\"M 0 0 \nL 0 3.5 \n\" style=\"stroke: #000000; stroke-width: 0.8\"/>\n      </defs>\n      <g>\n       <use xlink:href=\"#me733c164c9\" x=\"143.390625\" y=\"244.078125\" style=\"stroke: #000000; stroke-width: 0.8\"/>\n      </g>\n     </g>\n     <g id=\"text_1\">\n      <!-- positive -->\n      <g transform=\"translate(123.778125 258.676562) scale(0.1 -0.1)\">\n       <defs>\n        <path id=\"DejaVuSans-70\" d=\"M 1159 525 \nL 1159 -1331 \nL 581 -1331 \nL 581 3500 \nL 1159 3500 \nL 1159 2969 \nQ 1341 3281 1617 3432 \nQ 1894 3584 2278 3584 \nQ 2916 3584 3314 3078 \nQ 3713 2572 3713 1747 \nQ 3713 922 3314 415 \nQ 2916 -91 2278 -91 \nQ 1894 -91 1617 61 \nQ 1341 213 1159 525 \nz\nM 3116 1747 \nQ 3116 2381 2855 2742 \nQ 2594 3103 2138 3103 \nQ 1681 3103 1420 2742 \nQ 1159 2381 1159 1747 \nQ 1159 1113 1420 752 \nQ 1681 391 2138 391 \nQ 2594 391 2855 752 \nQ 3116 1113 3116 1747 \nz\n\" transform=\"scale(0.015625)\"/>\n        <path id=\"DejaVuSans-6f\" d=\"M 1959 3097 \nQ 1497 3097 1228 2736 \nQ 959 2375 959 1747 \nQ 959 1119 1226 758 \nQ 1494 397 1959 397 \nQ 2419 397 2687 759 \nQ 2956 1122 2956 1747 \nQ 2956 2369 2687 2733 \nQ 2419 3097 1959 3097 \nz\nM 1959 3584 \nQ 2709 3584 3137 3096 \nQ 3566 2609 3566 1747 \nQ 3566 888 3137 398 \nQ 2709 -91 1959 -91 \nQ 1206 -91 779 398 \nQ 353 888 353 1747 \nQ 353 2609 779 3096 \nQ 1206 3584 1959 3584 \nz\n\" transform=\"scale(0.015625)\"/>\n        <path id=\"DejaVuSans-73\" d=\"M 2834 3397 \nL 2834 2853 \nQ 2591 2978 2328 3040 \nQ 2066 3103 1784 3103 \nQ 1356 3103 1142 2972 \nQ 928 2841 928 2578 \nQ 928 2378 1081 2264 \nQ 1234 2150 1697 2047 \nL 1894 2003 \nQ 2506 1872 2764 1633 \nQ 3022 1394 3022 966 \nQ 3022 478 2636 193 \nQ 2250 -91 1575 -91 \nQ 1294 -91 989 -36 \nQ 684 19 347 128 \nL 347 722 \nQ 666 556 975 473 \nQ 1284 391 1588 391 \nQ 1994 391 2212 530 \nQ 2431 669 2431 922 \nQ 2431 1156 2273 1281 \nQ 2116 1406 1581 1522 \nL 1381 1569 \nQ 847 1681 609 1914 \nQ 372 2147 372 2553 \nQ 372 3047 722 3315 \nQ 1072 3584 1716 3584 \nQ 2034 3584 2315 3537 \nQ 2597 3491 2834 3397 \nz\n\" transform=\"scale(0.015625)\"/>\n        <path id=\"DejaVuSans-69\" d=\"M 603 3500 \nL 1178 3500 \nL 1178 0 \nL 603 0 \nL 603 3500 \nz\nM 603 4863 \nL 1178 4863 \nL 1178 4134 \nL 603 4134 \nL 603 4863 \nz\n\" transform=\"scale(0.015625)\"/>\n        <path id=\"DejaVuSans-74\" d=\"M 1172 4494 \nL 1172 3500 \nL 2356 3500 \nL 2356 3053 \nL 1172 3053 \nL 1172 1153 \nQ 1172 725 1289 603 \nQ 1406 481 1766 481 \nL 2356 481 \nL 2356 0 \nL 1766 0 \nQ 1100 0 847 248 \nQ 594 497 594 1153 \nL 594 3053 \nL 172 3053 \nL 172 3500 \nL 594 3500 \nL 594 4494 \nL 1172 4494 \nz\n\" transform=\"scale(0.015625)\"/>\n        <path id=\"DejaVuSans-76\" d=\"M 191 3500 \nL 800 3500 \nL 1894 563 \nL 2988 3500 \nL 3597 3500 \nL 2284 0 \nL 1503 0 \nL 191 3500 \nz\n\" transform=\"scale(0.015625)\"/>\n        <path id=\"DejaVuSans-65\" d=\"M 3597 1894 \nL 3597 1613 \nL 953 1613 \nQ 991 1019 1311 708 \nQ 1631 397 2203 397 \nQ 2534 397 2845 478 \nQ 3156 559 3463 722 \nL 3463 178 \nQ 3153 47 2828 -22 \nQ 2503 -91 2169 -91 \nQ 1331 -91 842 396 \nQ 353 884 353 1716 \nQ 353 2575 817 3079 \nQ 1281 3584 2069 3584 \nQ 2775 3584 3186 3129 \nQ 3597 2675 3597 1894 \nz\nM 3022 2063 \nQ 3016 2534 2758 2815 \nQ 2500 3097 2075 3097 \nQ 1594 3097 1305 2825 \nQ 1016 2553 972 2059 \nL 3022 2063 \nz\n\" transform=\"scale(0.015625)\"/>\n       </defs>\n       <use xlink:href=\"#DejaVuSans-70\"/>\n       <use xlink:href=\"#DejaVuSans-6f\" transform=\"translate(63.476562 0)\"/>\n       <use xlink:href=\"#DejaVuSans-73\" transform=\"translate(124.658203 0)\"/>\n       <use xlink:href=\"#DejaVuSans-69\" transform=\"translate(176.757812 0)\"/>\n       <use xlink:href=\"#DejaVuSans-74\" transform=\"translate(204.541016 0)\"/>\n       <use xlink:href=\"#DejaVuSans-69\" transform=\"translate(243.75 0)\"/>\n       <use xlink:href=\"#DejaVuSans-76\" transform=\"translate(271.533203 0)\"/>\n       <use xlink:href=\"#DejaVuSans-65\" transform=\"translate(330.712891 0)\"/>\n      </g>\n     </g>\n    </g>\n    <g id=\"xtick_2\">\n     <g id=\"line2d_2\">\n      <g>\n       <use xlink:href=\"#me733c164c9\" x=\"310.790625\" y=\"244.078125\" style=\"stroke: #000000; stroke-width: 0.8\"/>\n      </g>\n     </g>\n     <g id=\"text_2\">\n      <!-- negative -->\n      <g transform=\"translate(288.921875 258.676562) scale(0.1 -0.1)\">\n       <defs>\n        <path id=\"DejaVuSans-6e\" d=\"M 3513 2113 \nL 3513 0 \nL 2938 0 \nL 2938 2094 \nQ 2938 2591 2744 2837 \nQ 2550 3084 2163 3084 \nQ 1697 3084 1428 2787 \nQ 1159 2491 1159 1978 \nL 1159 0 \nL 581 0 \nL 581 3500 \nL 1159 3500 \nL 1159 2956 \nQ 1366 3272 1645 3428 \nQ 1925 3584 2291 3584 \nQ 2894 3584 3203 3211 \nQ 3513 2838 3513 2113 \nz\n\" transform=\"scale(0.015625)\"/>\n        <path id=\"DejaVuSans-67\" d=\"M 2906 1791 \nQ 2906 2416 2648 2759 \nQ 2391 3103 1925 3103 \nQ 1463 3103 1205 2759 \nQ 947 2416 947 1791 \nQ 947 1169 1205 825 \nQ 1463 481 1925 481 \nQ 2391 481 2648 825 \nQ 2906 1169 2906 1791 \nz\nM 3481 434 \nQ 3481 -459 3084 -895 \nQ 2688 -1331 1869 -1331 \nQ 1566 -1331 1297 -1286 \nQ 1028 -1241 775 -1147 \nL 775 -588 \nQ 1028 -725 1275 -790 \nQ 1522 -856 1778 -856 \nQ 2344 -856 2625 -561 \nQ 2906 -266 2906 331 \nL 2906 616 \nQ 2728 306 2450 153 \nQ 2172 0 1784 0 \nQ 1141 0 747 490 \nQ 353 981 353 1791 \nQ 353 2603 747 3093 \nQ 1141 3584 1784 3584 \nQ 2172 3584 2450 3431 \nQ 2728 3278 2906 2969 \nL 2906 3500 \nL 3481 3500 \nL 3481 434 \nz\n\" transform=\"scale(0.015625)\"/>\n        <path id=\"DejaVuSans-61\" d=\"M 2194 1759 \nQ 1497 1759 1228 1600 \nQ 959 1441 959 1056 \nQ 959 750 1161 570 \nQ 1363 391 1709 391 \nQ 2188 391 2477 730 \nQ 2766 1069 2766 1631 \nL 2766 1759 \nL 2194 1759 \nz\nM 3341 1997 \nL 3341 0 \nL 2766 0 \nL 2766 531 \nQ 2569 213 2275 61 \nQ 1981 -91 1556 -91 \nQ 1019 -91 701 211 \nQ 384 513 384 1019 \nQ 384 1609 779 1909 \nQ 1175 2209 1959 2209 \nL 2766 2209 \nL 2766 2266 \nQ 2766 2663 2505 2880 \nQ 2244 3097 1772 3097 \nQ 1472 3097 1187 3025 \nQ 903 2953 641 2809 \nL 641 3341 \nQ 956 3463 1253 3523 \nQ 1550 3584 1831 3584 \nQ 2591 3584 2966 3190 \nQ 3341 2797 3341 1997 \nz\n\" transform=\"scale(0.015625)\"/>\n       </defs>\n       <use xlink:href=\"#DejaVuSans-6e\"/>\n       <use xlink:href=\"#DejaVuSans-65\" transform=\"translate(63.378906 0)\"/>\n       <use xlink:href=\"#DejaVuSans-67\" transform=\"translate(124.902344 0)\"/>\n       <use xlink:href=\"#DejaVuSans-61\" transform=\"translate(188.378906 0)\"/>\n       <use xlink:href=\"#DejaVuSans-74\" transform=\"translate(249.658203 0)\"/>\n       <use xlink:href=\"#DejaVuSans-69\" transform=\"translate(288.867188 0)\"/>\n       <use xlink:href=\"#DejaVuSans-76\" transform=\"translate(316.650391 0)\"/>\n       <use xlink:href=\"#DejaVuSans-65\" transform=\"translate(375.830078 0)\"/>\n      </g>\n     </g>\n    </g>\n    <g id=\"text_3\">\n     <!-- sentiment -->\n     <g transform=\"translate(201.815625 272.354687) scale(0.1 -0.1)\">\n      <defs>\n       <path id=\"DejaVuSans-6d\" d=\"M 3328 2828 \nQ 3544 3216 3844 3400 \nQ 4144 3584 4550 3584 \nQ 5097 3584 5394 3201 \nQ 5691 2819 5691 2113 \nL 5691 0 \nL 5113 0 \nL 5113 2094 \nQ 5113 2597 4934 2840 \nQ 4756 3084 4391 3084 \nQ 3944 3084 3684 2787 \nQ 3425 2491 3425 1978 \nL 3425 0 \nL 2847 0 \nL 2847 2094 \nQ 2847 2600 2669 2842 \nQ 2491 3084 2119 3084 \nQ 1678 3084 1418 2786 \nQ 1159 2488 1159 1978 \nL 1159 0 \nL 581 0 \nL 581 3500 \nL 1159 3500 \nL 1159 2956 \nQ 1356 3278 1631 3431 \nQ 1906 3584 2284 3584 \nQ 2666 3584 2933 3390 \nQ 3200 3197 3328 2828 \nz\n\" transform=\"scale(0.015625)\"/>\n      </defs>\n      <use xlink:href=\"#DejaVuSans-73\"/>\n      <use xlink:href=\"#DejaVuSans-65\" transform=\"translate(52.099609 0)\"/>\n      <use xlink:href=\"#DejaVuSans-6e\" transform=\"translate(113.623047 0)\"/>\n      <use xlink:href=\"#DejaVuSans-74\" transform=\"translate(177.001953 0)\"/>\n      <use xlink:href=\"#DejaVuSans-69\" transform=\"translate(216.210938 0)\"/>\n      <use xlink:href=\"#DejaVuSans-6d\" transform=\"translate(243.994141 0)\"/>\n      <use xlink:href=\"#DejaVuSans-65\" transform=\"translate(341.40625 0)\"/>\n      <use xlink:href=\"#DejaVuSans-6e\" transform=\"translate(402.929688 0)\"/>\n      <use xlink:href=\"#DejaVuSans-74\" transform=\"translate(466.308594 0)\"/>\n     </g>\n    </g>\n   </g>\n   <g id=\"matplotlib.axis_2\">\n    <g id=\"ytick_1\">\n     <g id=\"line2d_3\">\n      <defs>\n       <path id=\"mfd448a3d85\" d=\"M 0 0 \nL -3.5 0 \n\" style=\"stroke: #000000; stroke-width: 0.8\"/>\n      </defs>\n      <g>\n       <use xlink:href=\"#mfd448a3d85\" x=\"59.690625\" y=\"244.078125\" style=\"stroke: #000000; stroke-width: 0.8\"/>\n      </g>\n     </g>\n     <g id=\"text_4\">\n      <!-- 0 -->\n      <g transform=\"translate(46.328125 247.877344) scale(0.1 -0.1)\">\n       <defs>\n        <path id=\"DejaVuSans-30\" d=\"M 2034 4250 \nQ 1547 4250 1301 3770 \nQ 1056 3291 1056 2328 \nQ 1056 1369 1301 889 \nQ 1547 409 2034 409 \nQ 2525 409 2770 889 \nQ 3016 1369 3016 2328 \nQ 3016 3291 2770 3770 \nQ 2525 4250 2034 4250 \nz\nM 2034 4750 \nQ 2819 4750 3233 4129 \nQ 3647 3509 3647 2328 \nQ 3647 1150 3233 529 \nQ 2819 -91 2034 -91 \nQ 1250 -91 836 529 \nQ 422 1150 422 2328 \nQ 422 3509 836 4129 \nQ 1250 4750 2034 4750 \nz\n\" transform=\"scale(0.015625)\"/>\n       </defs>\n       <use xlink:href=\"#DejaVuSans-30\"/>\n      </g>\n     </g>\n    </g>\n    <g id=\"ytick_2\">\n     <g id=\"line2d_4\">\n      <g>\n       <use xlink:href=\"#mfd448a3d85\" x=\"59.690625\" y=\"201.838125\" style=\"stroke: #000000; stroke-width: 0.8\"/>\n      </g>\n     </g>\n     <g id=\"text_5\">\n      <!-- 5000 -->\n      <g transform=\"translate(27.240625 205.637344) scale(0.1 -0.1)\">\n       <defs>\n        <path id=\"DejaVuSans-35\" d=\"M 691 4666 \nL 3169 4666 \nL 3169 4134 \nL 1269 4134 \nL 1269 2991 \nQ 1406 3038 1543 3061 \nQ 1681 3084 1819 3084 \nQ 2600 3084 3056 2656 \nQ 3513 2228 3513 1497 \nQ 3513 744 3044 326 \nQ 2575 -91 1722 -91 \nQ 1428 -91 1123 -41 \nQ 819 9 494 109 \nL 494 744 \nQ 775 591 1075 516 \nQ 1375 441 1709 441 \nQ 2250 441 2565 725 \nQ 2881 1009 2881 1497 \nQ 2881 1984 2565 2268 \nQ 2250 2553 1709 2553 \nQ 1456 2553 1204 2497 \nQ 953 2441 691 2322 \nL 691 4666 \nz\n\" transform=\"scale(0.015625)\"/>\n       </defs>\n       <use xlink:href=\"#DejaVuSans-35\"/>\n       <use xlink:href=\"#DejaVuSans-30\" transform=\"translate(63.623047 0)\"/>\n       <use xlink:href=\"#DejaVuSans-30\" transform=\"translate(127.246094 0)\"/>\n       <use xlink:href=\"#DejaVuSans-30\" transform=\"translate(190.869141 0)\"/>\n      </g>\n     </g>\n    </g>\n    <g id=\"ytick_3\">\n     <g id=\"line2d_5\">\n      <g>\n       <use xlink:href=\"#mfd448a3d85\" x=\"59.690625\" y=\"159.598125\" style=\"stroke: #000000; stroke-width: 0.8\"/>\n      </g>\n     </g>\n     <g id=\"text_6\">\n      <!-- 10000 -->\n      <g transform=\"translate(20.878125 163.397344) scale(0.1 -0.1)\">\n       <defs>\n        <path id=\"DejaVuSans-31\" d=\"M 794 531 \nL 1825 531 \nL 1825 4091 \nL 703 3866 \nL 703 4441 \nL 1819 4666 \nL 2450 4666 \nL 2450 531 \nL 3481 531 \nL 3481 0 \nL 794 0 \nL 794 531 \nz\n\" transform=\"scale(0.015625)\"/>\n       </defs>\n       <use xlink:href=\"#DejaVuSans-31\"/>\n       <use xlink:href=\"#DejaVuSans-30\" transform=\"translate(63.623047 0)\"/>\n       <use xlink:href=\"#DejaVuSans-30\" transform=\"translate(127.246094 0)\"/>\n       <use xlink:href=\"#DejaVuSans-30\" transform=\"translate(190.869141 0)\"/>\n       <use xlink:href=\"#DejaVuSans-30\" transform=\"translate(254.492188 0)\"/>\n      </g>\n     </g>\n    </g>\n    <g id=\"ytick_4\">\n     <g id=\"line2d_6\">\n      <g>\n       <use xlink:href=\"#mfd448a3d85\" x=\"59.690625\" y=\"117.358125\" style=\"stroke: #000000; stroke-width: 0.8\"/>\n      </g>\n     </g>\n     <g id=\"text_7\">\n      <!-- 15000 -->\n      <g transform=\"translate(20.878125 121.157344) scale(0.1 -0.1)\">\n       <use xlink:href=\"#DejaVuSans-31\"/>\n       <use xlink:href=\"#DejaVuSans-35\" transform=\"translate(63.623047 0)\"/>\n       <use xlink:href=\"#DejaVuSans-30\" transform=\"translate(127.246094 0)\"/>\n       <use xlink:href=\"#DejaVuSans-30\" transform=\"translate(190.869141 0)\"/>\n       <use xlink:href=\"#DejaVuSans-30\" transform=\"translate(254.492188 0)\"/>\n      </g>\n     </g>\n    </g>\n    <g id=\"ytick_5\">\n     <g id=\"line2d_7\">\n      <g>\n       <use xlink:href=\"#mfd448a3d85\" x=\"59.690625\" y=\"75.118125\" style=\"stroke: #000000; stroke-width: 0.8\"/>\n      </g>\n     </g>\n     <g id=\"text_8\">\n      <!-- 20000 -->\n      <g transform=\"translate(20.878125 78.917344) scale(0.1 -0.1)\">\n       <defs>\n        <path id=\"DejaVuSans-32\" d=\"M 1228 531 \nL 3431 531 \nL 3431 0 \nL 469 0 \nL 469 531 \nQ 828 903 1448 1529 \nQ 2069 2156 2228 2338 \nQ 2531 2678 2651 2914 \nQ 2772 3150 2772 3378 \nQ 2772 3750 2511 3984 \nQ 2250 4219 1831 4219 \nQ 1534 4219 1204 4116 \nQ 875 4013 500 3803 \nL 500 4441 \nQ 881 4594 1212 4672 \nQ 1544 4750 1819 4750 \nQ 2544 4750 2975 4387 \nQ 3406 4025 3406 3419 \nQ 3406 3131 3298 2873 \nQ 3191 2616 2906 2266 \nQ 2828 2175 2409 1742 \nQ 1991 1309 1228 531 \nz\n\" transform=\"scale(0.015625)\"/>\n       </defs>\n       <use xlink:href=\"#DejaVuSans-32\"/>\n       <use xlink:href=\"#DejaVuSans-30\" transform=\"translate(63.623047 0)\"/>\n       <use xlink:href=\"#DejaVuSans-30\" transform=\"translate(127.246094 0)\"/>\n       <use xlink:href=\"#DejaVuSans-30\" transform=\"translate(190.869141 0)\"/>\n       <use xlink:href=\"#DejaVuSans-30\" transform=\"translate(254.492188 0)\"/>\n      </g>\n     </g>\n    </g>\n    <g id=\"ytick_6\">\n     <g id=\"line2d_8\">\n      <g>\n       <use xlink:href=\"#mfd448a3d85\" x=\"59.690625\" y=\"32.878125\" style=\"stroke: #000000; stroke-width: 0.8\"/>\n      </g>\n     </g>\n     <g id=\"text_9\">\n      <!-- 25000 -->\n      <g transform=\"translate(20.878125 36.677344) scale(0.1 -0.1)\">\n       <use xlink:href=\"#DejaVuSans-32\"/>\n       <use xlink:href=\"#DejaVuSans-35\" transform=\"translate(63.623047 0)\"/>\n       <use xlink:href=\"#DejaVuSans-30\" transform=\"translate(127.246094 0)\"/>\n       <use xlink:href=\"#DejaVuSans-30\" transform=\"translate(190.869141 0)\"/>\n       <use xlink:href=\"#DejaVuSans-30\" transform=\"translate(254.492188 0)\"/>\n      </g>\n     </g>\n    </g>\n    <g id=\"text_10\">\n     <!-- Number of samples -->\n     <g transform=\"translate(14.798438 182.065312) rotate(-90) scale(0.1 -0.1)\">\n      <defs>\n       <path id=\"DejaVuSans-4e\" d=\"M 628 4666 \nL 1478 4666 \nL 3547 763 \nL 3547 4666 \nL 4159 4666 \nL 4159 0 \nL 3309 0 \nL 1241 3903 \nL 1241 0 \nL 628 0 \nL 628 4666 \nz\n\" transform=\"scale(0.015625)\"/>\n       <path id=\"DejaVuSans-75\" d=\"M 544 1381 \nL 544 3500 \nL 1119 3500 \nL 1119 1403 \nQ 1119 906 1312 657 \nQ 1506 409 1894 409 \nQ 2359 409 2629 706 \nQ 2900 1003 2900 1516 \nL 2900 3500 \nL 3475 3500 \nL 3475 0 \nL 2900 0 \nL 2900 538 \nQ 2691 219 2414 64 \nQ 2138 -91 1772 -91 \nQ 1169 -91 856 284 \nQ 544 659 544 1381 \nz\nM 1991 3584 \nL 1991 3584 \nz\n\" transform=\"scale(0.015625)\"/>\n       <path id=\"DejaVuSans-62\" d=\"M 3116 1747 \nQ 3116 2381 2855 2742 \nQ 2594 3103 2138 3103 \nQ 1681 3103 1420 2742 \nQ 1159 2381 1159 1747 \nQ 1159 1113 1420 752 \nQ 1681 391 2138 391 \nQ 2594 391 2855 752 \nQ 3116 1113 3116 1747 \nz\nM 1159 2969 \nQ 1341 3281 1617 3432 \nQ 1894 3584 2278 3584 \nQ 2916 3584 3314 3078 \nQ 3713 2572 3713 1747 \nQ 3713 922 3314 415 \nQ 2916 -91 2278 -91 \nQ 1894 -91 1617 61 \nQ 1341 213 1159 525 \nL 1159 0 \nL 581 0 \nL 581 4863 \nL 1159 4863 \nL 1159 2969 \nz\n\" transform=\"scale(0.015625)\"/>\n       <path id=\"DejaVuSans-72\" d=\"M 2631 2963 \nQ 2534 3019 2420 3045 \nQ 2306 3072 2169 3072 \nQ 1681 3072 1420 2755 \nQ 1159 2438 1159 1844 \nL 1159 0 \nL 581 0 \nL 581 3500 \nL 1159 3500 \nL 1159 2956 \nQ 1341 3275 1631 3429 \nQ 1922 3584 2338 3584 \nQ 2397 3584 2469 3576 \nQ 2541 3569 2628 3553 \nL 2631 2963 \nz\n\" transform=\"scale(0.015625)\"/>\n       <path id=\"DejaVuSans-20\" transform=\"scale(0.015625)\"/>\n       <path id=\"DejaVuSans-66\" d=\"M 2375 4863 \nL 2375 4384 \nL 1825 4384 \nQ 1516 4384 1395 4259 \nQ 1275 4134 1275 3809 \nL 1275 3500 \nL 2222 3500 \nL 2222 3053 \nL 1275 3053 \nL 1275 0 \nL 697 0 \nL 697 3053 \nL 147 3053 \nL 147 3500 \nL 697 3500 \nL 697 3744 \nQ 697 4328 969 4595 \nQ 1241 4863 1831 4863 \nL 2375 4863 \nz\n\" transform=\"scale(0.015625)\"/>\n       <path id=\"DejaVuSans-6c\" d=\"M 603 4863 \nL 1178 4863 \nL 1178 0 \nL 603 0 \nL 603 4863 \nz\n\" transform=\"scale(0.015625)\"/>\n      </defs>\n      <use xlink:href=\"#DejaVuSans-4e\"/>\n      <use xlink:href=\"#DejaVuSans-75\" transform=\"translate(74.804688 0)\"/>\n      <use xlink:href=\"#DejaVuSans-6d\" transform=\"translate(138.183594 0)\"/>\n      <use xlink:href=\"#DejaVuSans-62\" transform=\"translate(235.595703 0)\"/>\n      <use xlink:href=\"#DejaVuSans-65\" transform=\"translate(299.072266 0)\"/>\n      <use xlink:href=\"#DejaVuSans-72\" transform=\"translate(360.595703 0)\"/>\n      <use xlink:href=\"#DejaVuSans-20\" transform=\"translate(401.708984 0)\"/>\n      <use xlink:href=\"#DejaVuSans-6f\" transform=\"translate(433.496094 0)\"/>\n      <use xlink:href=\"#DejaVuSans-66\" transform=\"translate(494.677734 0)\"/>\n      <use xlink:href=\"#DejaVuSans-20\" transform=\"translate(529.882812 0)\"/>\n      <use xlink:href=\"#DejaVuSans-73\" transform=\"translate(561.669922 0)\"/>\n      <use xlink:href=\"#DejaVuSans-61\" transform=\"translate(613.769531 0)\"/>\n      <use xlink:href=\"#DejaVuSans-6d\" transform=\"translate(675.048828 0)\"/>\n      <use xlink:href=\"#DejaVuSans-70\" transform=\"translate(772.460938 0)\"/>\n      <use xlink:href=\"#DejaVuSans-6c\" transform=\"translate(835.9375 0)\"/>\n      <use xlink:href=\"#DejaVuSans-65\" transform=\"translate(863.720703 0)\"/>\n      <use xlink:href=\"#DejaVuSans-73\" transform=\"translate(925.244141 0)\"/>\n     </g>\n    </g>\n   </g>\n   <g id=\"patch_5\">\n    <path d=\"M 59.690625 244.078125 \nL 59.690625 22.318125 \n\" style=\"fill: none; stroke: #000000; stroke-width: 0.8; stroke-linejoin: miter; stroke-linecap: square\"/>\n   </g>\n   <g id=\"patch_6\">\n    <path d=\"M 394.490625 244.078125 \nL 394.490625 22.318125 \n\" style=\"fill: none; stroke: #000000; stroke-width: 0.8; stroke-linejoin: miter; stroke-linecap: square\"/>\n   </g>\n   <g id=\"patch_7\">\n    <path d=\"M 59.690625 244.078125 \nL 394.490625 244.078125 \n\" style=\"fill: none; stroke: #000000; stroke-width: 0.8; stroke-linejoin: miter; stroke-linecap: square\"/>\n   </g>\n   <g id=\"patch_8\">\n    <path d=\"M 59.690625 22.318125 \nL 394.490625 22.318125 \n\" style=\"fill: none; stroke: #000000; stroke-width: 0.8; stroke-linejoin: miter; stroke-linecap: square\"/>\n   </g>\n   <g id=\"text_11\">\n    <!-- Class distribution -->\n    <g transform=\"translate(175.2075 16.318125) scale(0.12 -0.12)\">\n     <defs>\n      <path id=\"DejaVuSans-43\" d=\"M 4122 4306 \nL 4122 3641 \nQ 3803 3938 3442 4084 \nQ 3081 4231 2675 4231 \nQ 1875 4231 1450 3742 \nQ 1025 3253 1025 2328 \nQ 1025 1406 1450 917 \nQ 1875 428 2675 428 \nQ 3081 428 3442 575 \nQ 3803 722 4122 1019 \nL 4122 359 \nQ 3791 134 3420 21 \nQ 3050 -91 2638 -91 \nQ 1578 -91 968 557 \nQ 359 1206 359 2328 \nQ 359 3453 968 4101 \nQ 1578 4750 2638 4750 \nQ 3056 4750 3426 4639 \nQ 3797 4528 4122 4306 \nz\n\" transform=\"scale(0.015625)\"/>\n      <path id=\"DejaVuSans-64\" d=\"M 2906 2969 \nL 2906 4863 \nL 3481 4863 \nL 3481 0 \nL 2906 0 \nL 2906 525 \nQ 2725 213 2448 61 \nQ 2172 -91 1784 -91 \nQ 1150 -91 751 415 \nQ 353 922 353 1747 \nQ 353 2572 751 3078 \nQ 1150 3584 1784 3584 \nQ 2172 3584 2448 3432 \nQ 2725 3281 2906 2969 \nz\nM 947 1747 \nQ 947 1113 1208 752 \nQ 1469 391 1925 391 \nQ 2381 391 2643 752 \nQ 2906 1113 2906 1747 \nQ 2906 2381 2643 2742 \nQ 2381 3103 1925 3103 \nQ 1469 3103 1208 2742 \nQ 947 2381 947 1747 \nz\n\" transform=\"scale(0.015625)\"/>\n     </defs>\n     <use xlink:href=\"#DejaVuSans-43\"/>\n     <use xlink:href=\"#DejaVuSans-6c\" transform=\"translate(69.824219 0)\"/>\n     <use xlink:href=\"#DejaVuSans-61\" transform=\"translate(97.607422 0)\"/>\n     <use xlink:href=\"#DejaVuSans-73\" transform=\"translate(158.886719 0)\"/>\n     <use xlink:href=\"#DejaVuSans-73\" transform=\"translate(210.986328 0)\"/>\n     <use xlink:href=\"#DejaVuSans-20\" transform=\"translate(263.085938 0)\"/>\n     <use xlink:href=\"#DejaVuSans-64\" transform=\"translate(294.873047 0)\"/>\n     <use xlink:href=\"#DejaVuSans-69\" transform=\"translate(358.349609 0)\"/>\n     <use xlink:href=\"#DejaVuSans-73\" transform=\"translate(386.132812 0)\"/>\n     <use xlink:href=\"#DejaVuSans-74\" transform=\"translate(438.232422 0)\"/>\n     <use xlink:href=\"#DejaVuSans-72\" transform=\"translate(477.441406 0)\"/>\n     <use xlink:href=\"#DejaVuSans-69\" transform=\"translate(518.554688 0)\"/>\n     <use xlink:href=\"#DejaVuSans-62\" transform=\"translate(546.337891 0)\"/>\n     <use xlink:href=\"#DejaVuSans-75\" transform=\"translate(609.814453 0)\"/>\n     <use xlink:href=\"#DejaVuSans-74\" transform=\"translate(673.193359 0)\"/>\n     <use xlink:href=\"#DejaVuSans-69\" transform=\"translate(712.402344 0)\"/>\n     <use xlink:href=\"#DejaVuSans-6f\" transform=\"translate(740.185547 0)\"/>\n     <use xlink:href=\"#DejaVuSans-6e\" transform=\"translate(801.367188 0)\"/>\n    </g>\n   </g>\n  </g>\n </g>\n <defs>\n  <clipPath id=\"p50417a7032\">\n   <rect x=\"59.690625\" y=\"22.318125\" width=\"334.8\" height=\"221.76\"/>\n  </clipPath>\n </defs>\n</svg>\n"
          },
          "metadata": {}
        }
      ]
    },
    {
      "cell_type": "code",
      "source": [
        "# Nombre de critiques <= 256 tokens\n",
        "below_256 = (df[\"token_count_real\"] <= 256).sum()\n",
        "\n",
        "# Pourcentage\n",
        "pct_below_256 = below_256 / len(df) * 100\n",
        "\n",
        "print(f\"Nombre de critiques <= 256 tokens : {below_256}\")\n",
        "print(f\"Pourcentage : {pct_below_256:.2f}%\")"
      ],
      "metadata": {
        "id": "JnXKmO8Lu_gM",
        "outputId": "d5cb25ac-e34f-4582-e365-0d0eea8ac2a4",
        "colab": {
          "base_uri": "https://localhost:8080/"
        }
      },
      "id": "JnXKmO8Lu_gM",
      "execution_count": 114,
      "outputs": [
        {
          "output_type": "stream",
          "name": "stdout",
          "text": [
            "Nombre de critiques <= 256 tokens : 28311\n",
            "Pourcentage : 56.62%\n"
          ]
        }
      ]
    },
    {
      "cell_type": "markdown",
      "source": [
        "## Analyse de la distribution des critiques\n",
        "\n",
        "* Le jeu de données est **équilibré** entre critiques positives et négatives (\\~25 000 chacune), comme le montre l'histogramme des classes. Cela élimine tout problème de déséquilibre lors de l'entraînement.\n",
        "\n",
        "## Analyse des longueurs en tokens et implications pour le fine-tuning\n",
        "\n",
        "* L'histogramme des longueurs en tokens révèle une **distribution asymétrique à droite** :\n",
        "\n",
        "  * La médiane est d'environ **231 tokens**, ce qui montre que la majorité des critiques sont relativement courtes.\n",
        "  * Environ **14,4 % des critiques dépassent 512 tokens**, ce qui est au-delà de la limite stricte de `DistilBERT` et `RoBERTa`.\n",
        "  * Près de **29 % des critiques se situent entre 257 et 512 tokens** — elles restent donc exploitables par les modèles, mais nécessitent de travailler à la longueur maximale.\n",
        "\n",
        "* Concernant les seuils de troncature :\n",
        "\n",
        "  * **≈ 57 %** des critiques ont ≤ 256 tokens et ne subissent donc **aucune perte d’information** si l’on tronque à 256.\n",
        "  * Les **≈ 43 %** restants sont affectés par une troncature à 256 : seule la partie initiale est conservée, mais celle-ci est généralement suffisante, car les indices de sentiment apparaissent souvent dans les **premières phrases**.\n",
        "\n",
        "* **Pourquoi tronquer à 256 est un choix courant et pertinent :**\n",
        "\n",
        "  * **Efficacité** : la réduction de longueur diminue fortement le coût en mémoire et en temps d’entraînement (une séquence deux fois plus longue coûte quasiment ×2).\n",
        "  * **Signal suffisant** : le sentiment est le plus souvent exprimé en ouverture de la critique.\n",
        "  * **Réduction de variance** : plus une séquence est longue, plus le modèle est exposé au **bruit** (détails secondaires, digressions). Tronquer peut aider à se concentrer sur les parties les plus discriminantes.\n",
        "  * **Meilleure généralisation** : en limitant la séquence, on réduit le risque de surapprentissage sur des détails anecdotiques.\n",
        "\n",
        "* Cependant, **≈ 14 % des critiques dépassent la limite absolue de 512 tokens**. Celles-ci devront être tronquées. Pour des tâches où le **contexte complet** est indispensable (analyse fine, cohérence globale, détection d'ironie tardive), il conviendrait d'envisager des architectures alternatives telles que **Longformer** ou **BigBird**, capables de traiter de plus longues séquences."
      ],
      "metadata": {
        "id": "ZmNG1G_zua6n"
      },
      "id": "ZmNG1G_zua6n"
    },
    {
      "cell_type": "code",
      "source": [
        "lengths = []\n",
        "for text in tqdm(LLM_DistilBERT_study_dataset.dataset[\"train\"][\"review\"]):  # 'dataset' is our raw dataset before mapping\n",
        "    tokens = LLM_DistilBERT_study_dataset.tokenizer.encode(text, add_special_tokens=True)\n",
        "    lengths.append(len(tokens))\n",
        "\n",
        "lengths = np.array(lengths)\n",
        "pct_over_256 = np.mean(lengths > 256) * 100\n",
        "pct_over_512 = np.mean(lengths > 512) * 100\n",
        "\n",
        "print(f\"Reviews >256 tokens: {pct_over_256:.2f}%\")\n",
        "print(f\"Reviews >512 tokens: {pct_over_512:.2f}%\")"
      ],
      "metadata": {
        "id": "i44r_DcLv7TP",
        "outputId": "ec82bfdd-be77-4328-9546-0b9d153bea5e",
        "colab": {
          "base_uri": "https://localhost:8080/",
          "height": 121,
          "referenced_widgets": [
            "84d4f89e1492430b8e2cfd91a0b9f00b",
            "c6387702cf6d41a7b863bf89d9f3cf11",
            "4d44119ba02e46fe89ba30da3f97acda",
            "aec3a0f2a2c74db98164d87291639866",
            "107a245a13624fd08a21aded6bd53237",
            "38a7253aaa314a74b367b4a635b56427",
            "1048c6495f7e449a862d9b1af2d6686b",
            "f3a37fa39f0c47c08d788c842cfcd018",
            "d16ee807710a434d9e1f23f0d8851c30",
            "faf9c1179bd743cb81f2c22ad9a06b2e",
            "84a41f66f996484a8698aad944d6f2a7"
          ]
        }
      },
      "id": "i44r_DcLv7TP",
      "execution_count": 115,
      "outputs": [
        {
          "output_type": "display_data",
          "data": {
            "text/plain": [
              "  0%|          | 0/50000 [00:00<?, ?it/s]"
            ],
            "application/vnd.jupyter.widget-view+json": {
              "version_major": 2,
              "version_minor": 0,
              "model_id": "84d4f89e1492430b8e2cfd91a0b9f00b"
            }
          },
          "metadata": {}
        },
        {
          "output_type": "stream",
          "name": "stderr",
          "text": [
            "Token indices sequence length is longer than the specified maximum sequence length for this model (563 > 512). Running this sequence through the model will result in indexing errors\n"
          ]
        },
        {
          "output_type": "stream",
          "name": "stdout",
          "text": [
            "Reviews >256 tokens: 43.81%\n",
            "Reviews >512 tokens: 14.43%\n"
          ]
        }
      ]
    },
    {
      "cell_type": "markdown",
      "source": [
        "Le tableau ci-dessous synthétise l'analyse descriptive du jeu de données étudié.\n",
        "\n",
        "| Intervalle de longueur (tokens) | Nombre de critiques | Pourcentage |\n",
        "| ------------------------------- | ------------------- | ----------- |\n",
        "| **≤ 256**                       | 28 311              | 56,6 %      |\n",
        "| **257 – 512**                   | 14 476              | 29,0 %      |\n",
        "| **> 512**                       | 7 213               | 14,4 %      |\n",
        "| **Total**                       | 50 000              | 100 %       |\n",
        "\n",
        "* La **majorité relative** des critiques (≈57 %) est courte et tient en ≤256 tokens.\n",
        "* Presque un tiers (≈29 %) est plus long, mais reste compatible avec RoBERTa/DistilBERT (≤512).\n",
        "* Une **minorité significative (14,4 %)** dépasse 512 tokens → celles-ci nécessitent **forcément une troncature**."
      ],
      "metadata": {
        "id": "R_fTSs8oxqmg"
      },
      "id": "R_fTSs8oxqmg"
    },
    {
      "cell_type": "code",
      "source": [
        "LLM_RoBERTa_512 = LLMFineTuner(\n",
        "    model_cls=AutoModelForSequenceClassification,\n",
        "    pretrained_model_name_or_path=\"roberta-base\",\n",
        "    tokenizer_cls=AutoTokenizer,\n",
        ")\n",
        "LLM_RoBERTa_512.workflow(\n",
        "    mode=\"train\",\n",
        "    split_dataset_kwargs={\"max_length\": 512}\n",
        ")"
      ],
      "metadata": {
        "id": "5ttTr4NtB8jl",
        "outputId": "5f5dead6-d257-4b2f-914e-7fbe9fb87193",
        "colab": {
          "base_uri": "https://localhost:8080/",
          "height": 399,
          "referenced_widgets": [
            "39649769f617474480a61f82c23a5ccb",
            "2fe66a90cf504805b740650c570998dd",
            "2f6e7001d98d4f3187c5f704602d42bc",
            "680f974b751e4e1f8a978b3f0755bf3e",
            "9fed405d5bc349ebaf9c392009563dd8",
            "3ef9fae277d84dea9a883420d139fe6e",
            "3490707c3f924db5bebc1d637fa89f4c",
            "f59f55a232e04cb380c79f0d5c1ab40a",
            "8f2491c1388b4d9fbedefafab58560f8",
            "dafd13fe8c6044d48057d198af3babcc",
            "f6f25a9596c94da1ac4fbc74172f6e9d"
          ]
        }
      },
      "id": "5ttTr4NtB8jl",
      "execution_count": 116,
      "outputs": [
        {
          "output_type": "stream",
          "name": "stdout",
          "text": [
            "Starting training workflow...\n"
          ]
        },
        {
          "output_type": "display_data",
          "data": {
            "text/plain": [
              "Map:   0%|          | 0/2000 [00:00<?, ? examples/s]"
            ],
            "application/vnd.jupyter.widget-view+json": {
              "version_major": 2,
              "version_minor": 0,
              "model_id": "39649769f617474480a61f82c23a5ccb"
            }
          },
          "metadata": {}
        },
        {
          "output_type": "stream",
          "name": "stderr",
          "text": [
            "Some weights of RobertaForSequenceClassification were not initialized from the model checkpoint at roberta-base and are newly initialized: ['classifier.dense.bias', 'classifier.dense.weight', 'classifier.out_proj.bias', 'classifier.out_proj.weight']\n",
            "You should probably TRAIN this model on a down-stream task to be able to use it for predictions and inference.\n",
            "You're using a RobertaTokenizerFast tokenizer. Please note that with a fast tokenizer, using the `__call__` method is faster than using a method to encode the text followed by a call to the `pad` method to get a padded encoding.\n"
          ]
        },
        {
          "output_type": "stream",
          "name": "stdout",
          "text": [
            "\n",
            "Epoch 1/3\n",
            "  Training loss: 0.6979\n",
            "  Validation loss: 0.6991 | Accuracy: 0.4875\n",
            "Saved new best model to ./distilbert-best\n",
            "\n",
            "Epoch 2/3\n",
            "  Training loss: 0.7058\n",
            "  Validation loss: 0.6169 | Accuracy: 0.7450\n",
            "Saved new best model to ./distilbert-best\n",
            "\n",
            "Epoch 3/3\n",
            "  Training loss: 0.5072\n",
            "  Validation loss: 0.3703 | Accuracy: 0.8950\n",
            "Saved new best model to ./distilbert-best\n"
          ]
        }
      ]
    },
    {
      "cell_type": "code",
      "source": [
        "# --- RoBERTa 256 ---\n",
        "probs_256, labels_256 = LLM_RoBERTa_256.collect_probs_labels()\n",
        "t_256, f1_256 = LLM_RoBERTa_256.tune_threshold_macro_f1(probs_256, labels_256)\n",
        "acc_256, macro_f1_256, cm_256, percls_256 = LLM_RoBERTa_256.eval_at_threshold(probs_256, labels_256, t_256)\n",
        "# --- RoBERTa 512 ---\n",
        "probs_512, labels_512 = LLM_RoBERTa_512.collect_probs_labels()\n",
        "t_512, f1_512 = LLM_RoBERTa_512.tune_threshold_macro_f1(probs_512, labels_512)\n",
        "acc_512, macro_f1_512, cm_512, percls_512 = LLM_RoBERTa_512.eval_at_threshold(probs_512, labels_512, t_512)\n",
        "\n",
        "# --- Résumé comparatif ---\n",
        "print(\"\\n=== Comparison (threshold-tuned on their own validation sets) ===\")\n",
        "print(f\"RoBERTa-256  | thr={t_256:.2f} | Acc={acc_256:.4f} | MacroF1={macro_f1_256:.4f}\")\n",
        "print(\"Confusion matrix (256):\\n\", cm_256)\n",
        "print(\"Per-class (neg/pos) Precision, Recall, F1:\\n\", percls_256)\n",
        "\n",
        "print(f\"\\nRoBERTa-512  | thr={t_512:.2f} | Acc={acc_512:.4f} | MacroF1={macro_f1_512:.4f}\")\n",
        "print(\"Confusion matrix (512):\\n\", cm_512)\n",
        "print(\"Per-class (neg/pos) Precision, Recall, F1:\\n\", percls_512)"
      ],
      "metadata": {
        "id": "gScEWuJlRUP0",
        "outputId": "36fbf506-652f-471a-eb18-03059f9584b3",
        "colab": {
          "base_uri": "https://localhost:8080/"
        }
      },
      "id": "gScEWuJlRUP0",
      "execution_count": 117,
      "outputs": [
        {
          "output_type": "stream",
          "name": "stdout",
          "text": [
            "\n",
            "=== Comparison (threshold-tuned on their own validation sets) ===\n",
            "RoBERTa-256  | thr=0.78 | Acc=0.9300 | MacroF1=0.9296\n",
            "Confusion matrix (256):\n",
            " [[201  12]\n",
            " [ 16 171]]\n",
            "Per-class (neg/pos) Precision, Recall, F1:\n",
            " (array([0.92626728, 0.93442623]), array([0.94366197, 0.9144385 ]), array([0.93488372, 0.92432432]), array([213, 187]))\n",
            "\n",
            "RoBERTa-512  | thr=0.63 | Acc=0.8950 | MacroF1=0.8947\n",
            "Confusion matrix (512):\n",
            " [[169  26]\n",
            " [ 16 189]]\n",
            "Per-class (neg/pos) Precision, Recall, F1:\n",
            " (array([0.91351351, 0.87906977]), array([0.86666667, 0.92195122]), array([0.88947368, 0.9       ]), array([195, 205]))\n"
          ]
        }
      ]
    },
    {
      "cell_type": "markdown",
      "source": [
        "## Utilisation d'un autre dataset"
      ],
      "metadata": {
        "id": "fbDsTJP-dyaA"
      },
      "id": "fbDsTJP-dyaA"
    },
    {
      "cell_type": "code",
      "source": [
        "rt = load_dataset(\"scikit-learn/imdb\")\n",
        "print(rt)\n",
        "print(rt[\"train\"].column_names)"
      ],
      "metadata": {
        "id": "kZwSHahUfc7U",
        "outputId": "572e5636-62a8-41a2-bcab-7e947be30baa",
        "colab": {
          "base_uri": "https://localhost:8080/"
        }
      },
      "id": "kZwSHahUfc7U",
      "execution_count": 120,
      "outputs": [
        {
          "output_type": "stream",
          "name": "stdout",
          "text": [
            "DatasetDict({\n",
            "    train: Dataset({\n",
            "        features: ['review', 'sentiment'],\n",
            "        num_rows: 50000\n",
            "    })\n",
            "})\n",
            "['review', 'sentiment']\n"
          ]
        }
      ]
    },
    {
      "cell_type": "code",
      "source": [
        "rt = load_dataset(\"rotten_tomatoes\")\n",
        "print(rt)\n",
        "print(rt[\"train\"].column_names)"
      ],
      "metadata": {
        "id": "1d5GvCcRfQ5F",
        "outputId": "ee1fc8f7-dc70-4ba6-d820-a6481c9dca7f",
        "colab": {
          "base_uri": "https://localhost:8080/"
        }
      },
      "id": "1d5GvCcRfQ5F",
      "execution_count": 121,
      "outputs": [
        {
          "output_type": "stream",
          "name": "stdout",
          "text": [
            "DatasetDict({\n",
            "    train: Dataset({\n",
            "        features: ['text', 'label'],\n",
            "        num_rows: 8530\n",
            "    })\n",
            "    validation: Dataset({\n",
            "        features: ['text', 'label'],\n",
            "        num_rows: 1066\n",
            "    })\n",
            "    test: Dataset({\n",
            "        features: ['text', 'label'],\n",
            "        num_rows: 1066\n",
            "    })\n",
            "})\n",
            "['text', 'label']\n"
          ]
        }
      ]
    },
    {
      "cell_type": "code",
      "source": [
        "rt[\"train\"][0:3]"
      ],
      "metadata": {
        "id": "4hmQF6dricsy",
        "outputId": "07b97091-8c3e-43ec-fb94-f3f1d1ee25da",
        "colab": {
          "base_uri": "https://localhost:8080/"
        }
      },
      "id": "4hmQF6dricsy",
      "execution_count": 123,
      "outputs": [
        {
          "output_type": "execute_result",
          "data": {
            "text/plain": [
              "{'text': ['the rock is destined to be the 21st century\\'s new \" conan \" and that he\\'s going to make a splash even greater than arnold schwarzenegger , jean-claud van damme or steven segal .',\n",
              "  'the gorgeously elaborate continuation of \" the lord of the rings \" trilogy is so huge that a column of words cannot adequately describe co-writer/director peter jackson\\'s expanded vision of j . r . r . tolkien\\'s middle-earth .',\n",
              "  'effective but too-tepid biopic'],\n",
              " 'label': [1, 1, 1]}"
            ]
          },
          "metadata": {},
          "execution_count": 123
        }
      ]
    },
    {
      "cell_type": "code",
      "source": [
        "LLM_DistilBERT_rotten_tomatoes = LLMFineTuner(\n",
        "    dataset=\"rotten_tomatoes\"\n",
        ")\n",
        "LLM_DistilBERT_rotten_tomatoes.workflow(\n",
        "    mode=\"train\",\n",
        "    train_and_validate_kwargs={\"save_dir\": \"./distilbert-best-rotten-tomatoes\"}\n",
        ")"
      ],
      "metadata": {
        "id": "C8JxcCx-eBR-",
        "outputId": "c0641144-0e26-4096-8fd5-7999416d50f4",
        "colab": {
          "base_uri": "https://localhost:8080/"
        }
      },
      "id": "C8JxcCx-eBR-",
      "execution_count": 136,
      "outputs": [
        {
          "output_type": "stream",
          "name": "stdout",
          "text": [
            "Starting training workflow...\n"
          ]
        },
        {
          "output_type": "stream",
          "name": "stderr",
          "text": [
            "Some weights of DistilBertForSequenceClassification were not initialized from the model checkpoint at distilbert-base-uncased and are newly initialized: ['classifier.bias', 'classifier.weight', 'pre_classifier.bias', 'pre_classifier.weight']\n",
            "You should probably TRAIN this model on a down-stream task to be able to use it for predictions and inference.\n"
          ]
        },
        {
          "output_type": "stream",
          "name": "stdout",
          "text": [
            "\n",
            "Epoch 1/3\n",
            "  Training loss: 0.5710\n",
            "  Validation loss: 0.6905 | Accuracy: 0.7900\n",
            "Saved new best model to ./distilbert-best-rotten-tomatoes\n",
            "\n",
            "Epoch 2/3\n",
            "  Training loss: 0.3128\n",
            "  Validation loss: 0.7916 | Accuracy: 0.8050\n",
            "\n",
            "Epoch 3/3\n",
            "  Training loss: 0.0660\n",
            "  Validation loss: 1.0840 | Accuracy: 0.7975\n"
          ]
        }
      ]
    }
  ],
  "metadata": {
    "accelerator": "GPU",
    "colab": {
      "gpuType": "T4",
      "provenance": [],
      "toc_visible": true
    },
    "kernelspec": {
      "display_name": "Python 3",
      "name": "python3"
    },
    "language_info": {
      "codemirror_mode": {
        "name": "ipython",
        "version": 3
      },
      "file_extension": ".py",
      "mimetype": "text/x-python",
      "name": "python",
      "nbconvert_exporter": "python",
      "pygments_lexer": "ipython3",
      "version": "3.10.12"
    },
    "widgets": {
      "application/vnd.jupyter.widget-state+json": {
        "f4cabfe0b2f646dd98b4096de6e5b8a4": {
          "model_module": "@jupyter-widgets/controls",
          "model_name": "HBoxModel",
          "model_module_version": "1.5.0",
          "state": {
            "_dom_classes": [],
            "_model_module": "@jupyter-widgets/controls",
            "_model_module_version": "1.5.0",
            "_model_name": "HBoxModel",
            "_view_count": null,
            "_view_module": "@jupyter-widgets/controls",
            "_view_module_version": "1.5.0",
            "_view_name": "HBoxView",
            "box_style": "",
            "children": [
              "IPY_MODEL_a4c1ff44420f407483efd2f6bee8c8a8",
              "IPY_MODEL_c05528d4ae8946fea9e817efe2d05a00",
              "IPY_MODEL_6e6b18b60ede49af827c8bb764d44dec"
            ],
            "layout": "IPY_MODEL_98db02a9ebf24d2ba2f963a4777d3f47"
          }
        },
        "a4c1ff44420f407483efd2f6bee8c8a8": {
          "model_module": "@jupyter-widgets/controls",
          "model_name": "HTMLModel",
          "model_module_version": "1.5.0",
          "state": {
            "_dom_classes": [],
            "_model_module": "@jupyter-widgets/controls",
            "_model_module_version": "1.5.0",
            "_model_name": "HTMLModel",
            "_view_count": null,
            "_view_module": "@jupyter-widgets/controls",
            "_view_module_version": "1.5.0",
            "_view_name": "HTMLView",
            "description": "",
            "description_tooltip": null,
            "layout": "IPY_MODEL_4fe35d95f51949709391dbf21fe3e8fc",
            "placeholder": "​",
            "style": "IPY_MODEL_57d06cb6c6a14f08b5df75bb14c2e8f2",
            "value": "Map: 100%"
          }
        },
        "c05528d4ae8946fea9e817efe2d05a00": {
          "model_module": "@jupyter-widgets/controls",
          "model_name": "FloatProgressModel",
          "model_module_version": "1.5.0",
          "state": {
            "_dom_classes": [],
            "_model_module": "@jupyter-widgets/controls",
            "_model_module_version": "1.5.0",
            "_model_name": "FloatProgressModel",
            "_view_count": null,
            "_view_module": "@jupyter-widgets/controls",
            "_view_module_version": "1.5.0",
            "_view_name": "ProgressView",
            "bar_style": "success",
            "description": "",
            "description_tooltip": null,
            "layout": "IPY_MODEL_666376eacec54ca7b49916ea2f3010c5",
            "max": 2000,
            "min": 0,
            "orientation": "horizontal",
            "style": "IPY_MODEL_ff14997ba42143d1aa8ecb8d1a7ec664",
            "value": 2000
          }
        },
        "6e6b18b60ede49af827c8bb764d44dec": {
          "model_module": "@jupyter-widgets/controls",
          "model_name": "HTMLModel",
          "model_module_version": "1.5.0",
          "state": {
            "_dom_classes": [],
            "_model_module": "@jupyter-widgets/controls",
            "_model_module_version": "1.5.0",
            "_model_name": "HTMLModel",
            "_view_count": null,
            "_view_module": "@jupyter-widgets/controls",
            "_view_module_version": "1.5.0",
            "_view_name": "HTMLView",
            "description": "",
            "description_tooltip": null,
            "layout": "IPY_MODEL_d8956bb886454313b59000b9481fb7b1",
            "placeholder": "​",
            "style": "IPY_MODEL_a150a0ec2919470faba02341df5b3f42",
            "value": " 2000/2000 [00:09&lt;00:00, 220.55 examples/s]"
          }
        },
        "98db02a9ebf24d2ba2f963a4777d3f47": {
          "model_module": "@jupyter-widgets/base",
          "model_name": "LayoutModel",
          "model_module_version": "1.2.0",
          "state": {
            "_model_module": "@jupyter-widgets/base",
            "_model_module_version": "1.2.0",
            "_model_name": "LayoutModel",
            "_view_count": null,
            "_view_module": "@jupyter-widgets/base",
            "_view_module_version": "1.2.0",
            "_view_name": "LayoutView",
            "align_content": null,
            "align_items": null,
            "align_self": null,
            "border": null,
            "bottom": null,
            "display": null,
            "flex": null,
            "flex_flow": null,
            "grid_area": null,
            "grid_auto_columns": null,
            "grid_auto_flow": null,
            "grid_auto_rows": null,
            "grid_column": null,
            "grid_gap": null,
            "grid_row": null,
            "grid_template_areas": null,
            "grid_template_columns": null,
            "grid_template_rows": null,
            "height": null,
            "justify_content": null,
            "justify_items": null,
            "left": null,
            "margin": null,
            "max_height": null,
            "max_width": null,
            "min_height": null,
            "min_width": null,
            "object_fit": null,
            "object_position": null,
            "order": null,
            "overflow": null,
            "overflow_x": null,
            "overflow_y": null,
            "padding": null,
            "right": null,
            "top": null,
            "visibility": null,
            "width": null
          }
        },
        "4fe35d95f51949709391dbf21fe3e8fc": {
          "model_module": "@jupyter-widgets/base",
          "model_name": "LayoutModel",
          "model_module_version": "1.2.0",
          "state": {
            "_model_module": "@jupyter-widgets/base",
            "_model_module_version": "1.2.0",
            "_model_name": "LayoutModel",
            "_view_count": null,
            "_view_module": "@jupyter-widgets/base",
            "_view_module_version": "1.2.0",
            "_view_name": "LayoutView",
            "align_content": null,
            "align_items": null,
            "align_self": null,
            "border": null,
            "bottom": null,
            "display": null,
            "flex": null,
            "flex_flow": null,
            "grid_area": null,
            "grid_auto_columns": null,
            "grid_auto_flow": null,
            "grid_auto_rows": null,
            "grid_column": null,
            "grid_gap": null,
            "grid_row": null,
            "grid_template_areas": null,
            "grid_template_columns": null,
            "grid_template_rows": null,
            "height": null,
            "justify_content": null,
            "justify_items": null,
            "left": null,
            "margin": null,
            "max_height": null,
            "max_width": null,
            "min_height": null,
            "min_width": null,
            "object_fit": null,
            "object_position": null,
            "order": null,
            "overflow": null,
            "overflow_x": null,
            "overflow_y": null,
            "padding": null,
            "right": null,
            "top": null,
            "visibility": null,
            "width": null
          }
        },
        "57d06cb6c6a14f08b5df75bb14c2e8f2": {
          "model_module": "@jupyter-widgets/controls",
          "model_name": "DescriptionStyleModel",
          "model_module_version": "1.5.0",
          "state": {
            "_model_module": "@jupyter-widgets/controls",
            "_model_module_version": "1.5.0",
            "_model_name": "DescriptionStyleModel",
            "_view_count": null,
            "_view_module": "@jupyter-widgets/base",
            "_view_module_version": "1.2.0",
            "_view_name": "StyleView",
            "description_width": ""
          }
        },
        "666376eacec54ca7b49916ea2f3010c5": {
          "model_module": "@jupyter-widgets/base",
          "model_name": "LayoutModel",
          "model_module_version": "1.2.0",
          "state": {
            "_model_module": "@jupyter-widgets/base",
            "_model_module_version": "1.2.0",
            "_model_name": "LayoutModel",
            "_view_count": null,
            "_view_module": "@jupyter-widgets/base",
            "_view_module_version": "1.2.0",
            "_view_name": "LayoutView",
            "align_content": null,
            "align_items": null,
            "align_self": null,
            "border": null,
            "bottom": null,
            "display": null,
            "flex": null,
            "flex_flow": null,
            "grid_area": null,
            "grid_auto_columns": null,
            "grid_auto_flow": null,
            "grid_auto_rows": null,
            "grid_column": null,
            "grid_gap": null,
            "grid_row": null,
            "grid_template_areas": null,
            "grid_template_columns": null,
            "grid_template_rows": null,
            "height": null,
            "justify_content": null,
            "justify_items": null,
            "left": null,
            "margin": null,
            "max_height": null,
            "max_width": null,
            "min_height": null,
            "min_width": null,
            "object_fit": null,
            "object_position": null,
            "order": null,
            "overflow": null,
            "overflow_x": null,
            "overflow_y": null,
            "padding": null,
            "right": null,
            "top": null,
            "visibility": null,
            "width": null
          }
        },
        "ff14997ba42143d1aa8ecb8d1a7ec664": {
          "model_module": "@jupyter-widgets/controls",
          "model_name": "ProgressStyleModel",
          "model_module_version": "1.5.0",
          "state": {
            "_model_module": "@jupyter-widgets/controls",
            "_model_module_version": "1.5.0",
            "_model_name": "ProgressStyleModel",
            "_view_count": null,
            "_view_module": "@jupyter-widgets/base",
            "_view_module_version": "1.2.0",
            "_view_name": "StyleView",
            "bar_color": null,
            "description_width": ""
          }
        },
        "d8956bb886454313b59000b9481fb7b1": {
          "model_module": "@jupyter-widgets/base",
          "model_name": "LayoutModel",
          "model_module_version": "1.2.0",
          "state": {
            "_model_module": "@jupyter-widgets/base",
            "_model_module_version": "1.2.0",
            "_model_name": "LayoutModel",
            "_view_count": null,
            "_view_module": "@jupyter-widgets/base",
            "_view_module_version": "1.2.0",
            "_view_name": "LayoutView",
            "align_content": null,
            "align_items": null,
            "align_self": null,
            "border": null,
            "bottom": null,
            "display": null,
            "flex": null,
            "flex_flow": null,
            "grid_area": null,
            "grid_auto_columns": null,
            "grid_auto_flow": null,
            "grid_auto_rows": null,
            "grid_column": null,
            "grid_gap": null,
            "grid_row": null,
            "grid_template_areas": null,
            "grid_template_columns": null,
            "grid_template_rows": null,
            "height": null,
            "justify_content": null,
            "justify_items": null,
            "left": null,
            "margin": null,
            "max_height": null,
            "max_width": null,
            "min_height": null,
            "min_width": null,
            "object_fit": null,
            "object_position": null,
            "order": null,
            "overflow": null,
            "overflow_x": null,
            "overflow_y": null,
            "padding": null,
            "right": null,
            "top": null,
            "visibility": null,
            "width": null
          }
        },
        "a150a0ec2919470faba02341df5b3f42": {
          "model_module": "@jupyter-widgets/controls",
          "model_name": "DescriptionStyleModel",
          "model_module_version": "1.5.0",
          "state": {
            "_model_module": "@jupyter-widgets/controls",
            "_model_module_version": "1.5.0",
            "_model_name": "DescriptionStyleModel",
            "_view_count": null,
            "_view_module": "@jupyter-widgets/base",
            "_view_module_version": "1.2.0",
            "_view_name": "StyleView",
            "description_width": ""
          }
        },
        "705237f65adf4e02bd6864d5f45d2b37": {
          "model_module": "@jupyter-widgets/controls",
          "model_name": "HBoxModel",
          "model_module_version": "1.5.0",
          "state": {
            "_dom_classes": [],
            "_model_module": "@jupyter-widgets/controls",
            "_model_module_version": "1.5.0",
            "_model_name": "HBoxModel",
            "_view_count": null,
            "_view_module": "@jupyter-widgets/controls",
            "_view_module_version": "1.5.0",
            "_view_name": "HBoxView",
            "box_style": "",
            "children": [
              "IPY_MODEL_3ac1ae00089a406d9f49e72893662f12",
              "IPY_MODEL_805273fc6a6c4f5eb03a5c434994aa3c",
              "IPY_MODEL_cd692db9630d46388319550fc319f7ee"
            ],
            "layout": "IPY_MODEL_b23f1524170c4310b316e9100a4ed54c"
          }
        },
        "3ac1ae00089a406d9f49e72893662f12": {
          "model_module": "@jupyter-widgets/controls",
          "model_name": "HTMLModel",
          "model_module_version": "1.5.0",
          "state": {
            "_dom_classes": [],
            "_model_module": "@jupyter-widgets/controls",
            "_model_module_version": "1.5.0",
            "_model_name": "HTMLModel",
            "_view_count": null,
            "_view_module": "@jupyter-widgets/controls",
            "_view_module_version": "1.5.0",
            "_view_name": "HTMLView",
            "description": "",
            "description_tooltip": null,
            "layout": "IPY_MODEL_cc988d4e6dfd4892ab62688f811de1e9",
            "placeholder": "​",
            "style": "IPY_MODEL_32a4cfcf2f7c421e9766187fe3d8d133",
            "value": "Map: 100%"
          }
        },
        "805273fc6a6c4f5eb03a5c434994aa3c": {
          "model_module": "@jupyter-widgets/controls",
          "model_name": "FloatProgressModel",
          "model_module_version": "1.5.0",
          "state": {
            "_dom_classes": [],
            "_model_module": "@jupyter-widgets/controls",
            "_model_module_version": "1.5.0",
            "_model_name": "FloatProgressModel",
            "_view_count": null,
            "_view_module": "@jupyter-widgets/controls",
            "_view_module_version": "1.5.0",
            "_view_name": "ProgressView",
            "bar_style": "success",
            "description": "",
            "description_tooltip": null,
            "layout": "IPY_MODEL_a5c621f45dbc4cc5a6a98584d22ae304",
            "max": 2000,
            "min": 0,
            "orientation": "horizontal",
            "style": "IPY_MODEL_24b45acee01548c7abb63ad6eb5447d4",
            "value": 2000
          }
        },
        "cd692db9630d46388319550fc319f7ee": {
          "model_module": "@jupyter-widgets/controls",
          "model_name": "HTMLModel",
          "model_module_version": "1.5.0",
          "state": {
            "_dom_classes": [],
            "_model_module": "@jupyter-widgets/controls",
            "_model_module_version": "1.5.0",
            "_model_name": "HTMLModel",
            "_view_count": null,
            "_view_module": "@jupyter-widgets/controls",
            "_view_module_version": "1.5.0",
            "_view_name": "HTMLView",
            "description": "",
            "description_tooltip": null,
            "layout": "IPY_MODEL_970befc6890c40f5afe8d14d47c78dfc",
            "placeholder": "​",
            "style": "IPY_MODEL_a46eff1ffd804f988bbfb3d069e2ece7",
            "value": " 2000/2000 [00:02&lt;00:00, 856.22 examples/s]"
          }
        },
        "b23f1524170c4310b316e9100a4ed54c": {
          "model_module": "@jupyter-widgets/base",
          "model_name": "LayoutModel",
          "model_module_version": "1.2.0",
          "state": {
            "_model_module": "@jupyter-widgets/base",
            "_model_module_version": "1.2.0",
            "_model_name": "LayoutModel",
            "_view_count": null,
            "_view_module": "@jupyter-widgets/base",
            "_view_module_version": "1.2.0",
            "_view_name": "LayoutView",
            "align_content": null,
            "align_items": null,
            "align_self": null,
            "border": null,
            "bottom": null,
            "display": null,
            "flex": null,
            "flex_flow": null,
            "grid_area": null,
            "grid_auto_columns": null,
            "grid_auto_flow": null,
            "grid_auto_rows": null,
            "grid_column": null,
            "grid_gap": null,
            "grid_row": null,
            "grid_template_areas": null,
            "grid_template_columns": null,
            "grid_template_rows": null,
            "height": null,
            "justify_content": null,
            "justify_items": null,
            "left": null,
            "margin": null,
            "max_height": null,
            "max_width": null,
            "min_height": null,
            "min_width": null,
            "object_fit": null,
            "object_position": null,
            "order": null,
            "overflow": null,
            "overflow_x": null,
            "overflow_y": null,
            "padding": null,
            "right": null,
            "top": null,
            "visibility": null,
            "width": null
          }
        },
        "cc988d4e6dfd4892ab62688f811de1e9": {
          "model_module": "@jupyter-widgets/base",
          "model_name": "LayoutModel",
          "model_module_version": "1.2.0",
          "state": {
            "_model_module": "@jupyter-widgets/base",
            "_model_module_version": "1.2.0",
            "_model_name": "LayoutModel",
            "_view_count": null,
            "_view_module": "@jupyter-widgets/base",
            "_view_module_version": "1.2.0",
            "_view_name": "LayoutView",
            "align_content": null,
            "align_items": null,
            "align_self": null,
            "border": null,
            "bottom": null,
            "display": null,
            "flex": null,
            "flex_flow": null,
            "grid_area": null,
            "grid_auto_columns": null,
            "grid_auto_flow": null,
            "grid_auto_rows": null,
            "grid_column": null,
            "grid_gap": null,
            "grid_row": null,
            "grid_template_areas": null,
            "grid_template_columns": null,
            "grid_template_rows": null,
            "height": null,
            "justify_content": null,
            "justify_items": null,
            "left": null,
            "margin": null,
            "max_height": null,
            "max_width": null,
            "min_height": null,
            "min_width": null,
            "object_fit": null,
            "object_position": null,
            "order": null,
            "overflow": null,
            "overflow_x": null,
            "overflow_y": null,
            "padding": null,
            "right": null,
            "top": null,
            "visibility": null,
            "width": null
          }
        },
        "32a4cfcf2f7c421e9766187fe3d8d133": {
          "model_module": "@jupyter-widgets/controls",
          "model_name": "DescriptionStyleModel",
          "model_module_version": "1.5.0",
          "state": {
            "_model_module": "@jupyter-widgets/controls",
            "_model_module_version": "1.5.0",
            "_model_name": "DescriptionStyleModel",
            "_view_count": null,
            "_view_module": "@jupyter-widgets/base",
            "_view_module_version": "1.2.0",
            "_view_name": "StyleView",
            "description_width": ""
          }
        },
        "a5c621f45dbc4cc5a6a98584d22ae304": {
          "model_module": "@jupyter-widgets/base",
          "model_name": "LayoutModel",
          "model_module_version": "1.2.0",
          "state": {
            "_model_module": "@jupyter-widgets/base",
            "_model_module_version": "1.2.0",
            "_model_name": "LayoutModel",
            "_view_count": null,
            "_view_module": "@jupyter-widgets/base",
            "_view_module_version": "1.2.0",
            "_view_name": "LayoutView",
            "align_content": null,
            "align_items": null,
            "align_self": null,
            "border": null,
            "bottom": null,
            "display": null,
            "flex": null,
            "flex_flow": null,
            "grid_area": null,
            "grid_auto_columns": null,
            "grid_auto_flow": null,
            "grid_auto_rows": null,
            "grid_column": null,
            "grid_gap": null,
            "grid_row": null,
            "grid_template_areas": null,
            "grid_template_columns": null,
            "grid_template_rows": null,
            "height": null,
            "justify_content": null,
            "justify_items": null,
            "left": null,
            "margin": null,
            "max_height": null,
            "max_width": null,
            "min_height": null,
            "min_width": null,
            "object_fit": null,
            "object_position": null,
            "order": null,
            "overflow": null,
            "overflow_x": null,
            "overflow_y": null,
            "padding": null,
            "right": null,
            "top": null,
            "visibility": null,
            "width": null
          }
        },
        "24b45acee01548c7abb63ad6eb5447d4": {
          "model_module": "@jupyter-widgets/controls",
          "model_name": "ProgressStyleModel",
          "model_module_version": "1.5.0",
          "state": {
            "_model_module": "@jupyter-widgets/controls",
            "_model_module_version": "1.5.0",
            "_model_name": "ProgressStyleModel",
            "_view_count": null,
            "_view_module": "@jupyter-widgets/base",
            "_view_module_version": "1.2.0",
            "_view_name": "StyleView",
            "bar_color": null,
            "description_width": ""
          }
        },
        "970befc6890c40f5afe8d14d47c78dfc": {
          "model_module": "@jupyter-widgets/base",
          "model_name": "LayoutModel",
          "model_module_version": "1.2.0",
          "state": {
            "_model_module": "@jupyter-widgets/base",
            "_model_module_version": "1.2.0",
            "_model_name": "LayoutModel",
            "_view_count": null,
            "_view_module": "@jupyter-widgets/base",
            "_view_module_version": "1.2.0",
            "_view_name": "LayoutView",
            "align_content": null,
            "align_items": null,
            "align_self": null,
            "border": null,
            "bottom": null,
            "display": null,
            "flex": null,
            "flex_flow": null,
            "grid_area": null,
            "grid_auto_columns": null,
            "grid_auto_flow": null,
            "grid_auto_rows": null,
            "grid_column": null,
            "grid_gap": null,
            "grid_row": null,
            "grid_template_areas": null,
            "grid_template_columns": null,
            "grid_template_rows": null,
            "height": null,
            "justify_content": null,
            "justify_items": null,
            "left": null,
            "margin": null,
            "max_height": null,
            "max_width": null,
            "min_height": null,
            "min_width": null,
            "object_fit": null,
            "object_position": null,
            "order": null,
            "overflow": null,
            "overflow_x": null,
            "overflow_y": null,
            "padding": null,
            "right": null,
            "top": null,
            "visibility": null,
            "width": null
          }
        },
        "a46eff1ffd804f988bbfb3d069e2ece7": {
          "model_module": "@jupyter-widgets/controls",
          "model_name": "DescriptionStyleModel",
          "model_module_version": "1.5.0",
          "state": {
            "_model_module": "@jupyter-widgets/controls",
            "_model_module_version": "1.5.0",
            "_model_name": "DescriptionStyleModel",
            "_view_count": null,
            "_view_module": "@jupyter-widgets/base",
            "_view_module_version": "1.2.0",
            "_view_name": "StyleView",
            "description_width": ""
          }
        },
        "7fe4ba5149214b42a353584003f58a96": {
          "model_module": "@jupyter-widgets/controls",
          "model_name": "HBoxModel",
          "model_module_version": "1.5.0",
          "state": {
            "_dom_classes": [],
            "_model_module": "@jupyter-widgets/controls",
            "_model_module_version": "1.5.0",
            "_model_name": "HBoxModel",
            "_view_count": null,
            "_view_module": "@jupyter-widgets/controls",
            "_view_module_version": "1.5.0",
            "_view_name": "HBoxView",
            "box_style": "",
            "children": [
              "IPY_MODEL_c42908d29ac64f16a33e54dfc9abb2a9",
              "IPY_MODEL_b2683f12214d4f7688d2f4104af1d464",
              "IPY_MODEL_d65ec9ac463b4a33b3c24107b030b55b"
            ],
            "layout": "IPY_MODEL_fb75db0d335b414d8ea0d96c5cd49316"
          }
        },
        "c42908d29ac64f16a33e54dfc9abb2a9": {
          "model_module": "@jupyter-widgets/controls",
          "model_name": "HTMLModel",
          "model_module_version": "1.5.0",
          "state": {
            "_dom_classes": [],
            "_model_module": "@jupyter-widgets/controls",
            "_model_module_version": "1.5.0",
            "_model_name": "HTMLModel",
            "_view_count": null,
            "_view_module": "@jupyter-widgets/controls",
            "_view_module_version": "1.5.0",
            "_view_name": "HTMLView",
            "description": "",
            "description_tooltip": null,
            "layout": "IPY_MODEL_0f0134adac304584afc0a35ceee3d78a",
            "placeholder": "​",
            "style": "IPY_MODEL_57ab77d1f6d2428882f8aa9f1e82e5f6",
            "value": "Map: 100%"
          }
        },
        "b2683f12214d4f7688d2f4104af1d464": {
          "model_module": "@jupyter-widgets/controls",
          "model_name": "FloatProgressModel",
          "model_module_version": "1.5.0",
          "state": {
            "_dom_classes": [],
            "_model_module": "@jupyter-widgets/controls",
            "_model_module_version": "1.5.0",
            "_model_name": "FloatProgressModel",
            "_view_count": null,
            "_view_module": "@jupyter-widgets/controls",
            "_view_module_version": "1.5.0",
            "_view_name": "ProgressView",
            "bar_style": "success",
            "description": "",
            "description_tooltip": null,
            "layout": "IPY_MODEL_19743bd1cf124dd9a658a25853ce1cd7",
            "max": 2000,
            "min": 0,
            "orientation": "horizontal",
            "style": "IPY_MODEL_1bba7cef7e7c4b88a50d38c729766580",
            "value": 2000
          }
        },
        "d65ec9ac463b4a33b3c24107b030b55b": {
          "model_module": "@jupyter-widgets/controls",
          "model_name": "HTMLModel",
          "model_module_version": "1.5.0",
          "state": {
            "_dom_classes": [],
            "_model_module": "@jupyter-widgets/controls",
            "_model_module_version": "1.5.0",
            "_model_name": "HTMLModel",
            "_view_count": null,
            "_view_module": "@jupyter-widgets/controls",
            "_view_module_version": "1.5.0",
            "_view_name": "HTMLView",
            "description": "",
            "description_tooltip": null,
            "layout": "IPY_MODEL_0ddd7be7e6ea4c76be171ead71365d4b",
            "placeholder": "​",
            "style": "IPY_MODEL_9d773111edc04c9bba63e4860f0e50b2",
            "value": " 2000/2000 [00:09&lt;00:00, 225.64 examples/s]"
          }
        },
        "fb75db0d335b414d8ea0d96c5cd49316": {
          "model_module": "@jupyter-widgets/base",
          "model_name": "LayoutModel",
          "model_module_version": "1.2.0",
          "state": {
            "_model_module": "@jupyter-widgets/base",
            "_model_module_version": "1.2.0",
            "_model_name": "LayoutModel",
            "_view_count": null,
            "_view_module": "@jupyter-widgets/base",
            "_view_module_version": "1.2.0",
            "_view_name": "LayoutView",
            "align_content": null,
            "align_items": null,
            "align_self": null,
            "border": null,
            "bottom": null,
            "display": null,
            "flex": null,
            "flex_flow": null,
            "grid_area": null,
            "grid_auto_columns": null,
            "grid_auto_flow": null,
            "grid_auto_rows": null,
            "grid_column": null,
            "grid_gap": null,
            "grid_row": null,
            "grid_template_areas": null,
            "grid_template_columns": null,
            "grid_template_rows": null,
            "height": null,
            "justify_content": null,
            "justify_items": null,
            "left": null,
            "margin": null,
            "max_height": null,
            "max_width": null,
            "min_height": null,
            "min_width": null,
            "object_fit": null,
            "object_position": null,
            "order": null,
            "overflow": null,
            "overflow_x": null,
            "overflow_y": null,
            "padding": null,
            "right": null,
            "top": null,
            "visibility": null,
            "width": null
          }
        },
        "0f0134adac304584afc0a35ceee3d78a": {
          "model_module": "@jupyter-widgets/base",
          "model_name": "LayoutModel",
          "model_module_version": "1.2.0",
          "state": {
            "_model_module": "@jupyter-widgets/base",
            "_model_module_version": "1.2.0",
            "_model_name": "LayoutModel",
            "_view_count": null,
            "_view_module": "@jupyter-widgets/base",
            "_view_module_version": "1.2.0",
            "_view_name": "LayoutView",
            "align_content": null,
            "align_items": null,
            "align_self": null,
            "border": null,
            "bottom": null,
            "display": null,
            "flex": null,
            "flex_flow": null,
            "grid_area": null,
            "grid_auto_columns": null,
            "grid_auto_flow": null,
            "grid_auto_rows": null,
            "grid_column": null,
            "grid_gap": null,
            "grid_row": null,
            "grid_template_areas": null,
            "grid_template_columns": null,
            "grid_template_rows": null,
            "height": null,
            "justify_content": null,
            "justify_items": null,
            "left": null,
            "margin": null,
            "max_height": null,
            "max_width": null,
            "min_height": null,
            "min_width": null,
            "object_fit": null,
            "object_position": null,
            "order": null,
            "overflow": null,
            "overflow_x": null,
            "overflow_y": null,
            "padding": null,
            "right": null,
            "top": null,
            "visibility": null,
            "width": null
          }
        },
        "57ab77d1f6d2428882f8aa9f1e82e5f6": {
          "model_module": "@jupyter-widgets/controls",
          "model_name": "DescriptionStyleModel",
          "model_module_version": "1.5.0",
          "state": {
            "_model_module": "@jupyter-widgets/controls",
            "_model_module_version": "1.5.0",
            "_model_name": "DescriptionStyleModel",
            "_view_count": null,
            "_view_module": "@jupyter-widgets/base",
            "_view_module_version": "1.2.0",
            "_view_name": "StyleView",
            "description_width": ""
          }
        },
        "19743bd1cf124dd9a658a25853ce1cd7": {
          "model_module": "@jupyter-widgets/base",
          "model_name": "LayoutModel",
          "model_module_version": "1.2.0",
          "state": {
            "_model_module": "@jupyter-widgets/base",
            "_model_module_version": "1.2.0",
            "_model_name": "LayoutModel",
            "_view_count": null,
            "_view_module": "@jupyter-widgets/base",
            "_view_module_version": "1.2.0",
            "_view_name": "LayoutView",
            "align_content": null,
            "align_items": null,
            "align_self": null,
            "border": null,
            "bottom": null,
            "display": null,
            "flex": null,
            "flex_flow": null,
            "grid_area": null,
            "grid_auto_columns": null,
            "grid_auto_flow": null,
            "grid_auto_rows": null,
            "grid_column": null,
            "grid_gap": null,
            "grid_row": null,
            "grid_template_areas": null,
            "grid_template_columns": null,
            "grid_template_rows": null,
            "height": null,
            "justify_content": null,
            "justify_items": null,
            "left": null,
            "margin": null,
            "max_height": null,
            "max_width": null,
            "min_height": null,
            "min_width": null,
            "object_fit": null,
            "object_position": null,
            "order": null,
            "overflow": null,
            "overflow_x": null,
            "overflow_y": null,
            "padding": null,
            "right": null,
            "top": null,
            "visibility": null,
            "width": null
          }
        },
        "1bba7cef7e7c4b88a50d38c729766580": {
          "model_module": "@jupyter-widgets/controls",
          "model_name": "ProgressStyleModel",
          "model_module_version": "1.5.0",
          "state": {
            "_model_module": "@jupyter-widgets/controls",
            "_model_module_version": "1.5.0",
            "_model_name": "ProgressStyleModel",
            "_view_count": null,
            "_view_module": "@jupyter-widgets/base",
            "_view_module_version": "1.2.0",
            "_view_name": "StyleView",
            "bar_color": null,
            "description_width": ""
          }
        },
        "0ddd7be7e6ea4c76be171ead71365d4b": {
          "model_module": "@jupyter-widgets/base",
          "model_name": "LayoutModel",
          "model_module_version": "1.2.0",
          "state": {
            "_model_module": "@jupyter-widgets/base",
            "_model_module_version": "1.2.0",
            "_model_name": "LayoutModel",
            "_view_count": null,
            "_view_module": "@jupyter-widgets/base",
            "_view_module_version": "1.2.0",
            "_view_name": "LayoutView",
            "align_content": null,
            "align_items": null,
            "align_self": null,
            "border": null,
            "bottom": null,
            "display": null,
            "flex": null,
            "flex_flow": null,
            "grid_area": null,
            "grid_auto_columns": null,
            "grid_auto_flow": null,
            "grid_auto_rows": null,
            "grid_column": null,
            "grid_gap": null,
            "grid_row": null,
            "grid_template_areas": null,
            "grid_template_columns": null,
            "grid_template_rows": null,
            "height": null,
            "justify_content": null,
            "justify_items": null,
            "left": null,
            "margin": null,
            "max_height": null,
            "max_width": null,
            "min_height": null,
            "min_width": null,
            "object_fit": null,
            "object_position": null,
            "order": null,
            "overflow": null,
            "overflow_x": null,
            "overflow_y": null,
            "padding": null,
            "right": null,
            "top": null,
            "visibility": null,
            "width": null
          }
        },
        "9d773111edc04c9bba63e4860f0e50b2": {
          "model_module": "@jupyter-widgets/controls",
          "model_name": "DescriptionStyleModel",
          "model_module_version": "1.5.0",
          "state": {
            "_model_module": "@jupyter-widgets/controls",
            "_model_module_version": "1.5.0",
            "_model_name": "DescriptionStyleModel",
            "_view_count": null,
            "_view_module": "@jupyter-widgets/base",
            "_view_module_version": "1.2.0",
            "_view_name": "StyleView",
            "description_width": ""
          }
        },
        "8c28035e43a942de822cc1ad4f609401": {
          "model_module": "@jupyter-widgets/controls",
          "model_name": "HBoxModel",
          "model_module_version": "1.5.0",
          "state": {
            "_dom_classes": [],
            "_model_module": "@jupyter-widgets/controls",
            "_model_module_version": "1.5.0",
            "_model_name": "HBoxModel",
            "_view_count": null,
            "_view_module": "@jupyter-widgets/controls",
            "_view_module_version": "1.5.0",
            "_view_name": "HBoxView",
            "box_style": "",
            "children": [
              "IPY_MODEL_c2aa70e2338748c3ac8d947d36ba0b67",
              "IPY_MODEL_6cd1d2c463d54bfb89105d4deb3f9291",
              "IPY_MODEL_70b46359978b4bd1b6fb7bcfdd47c309"
            ],
            "layout": "IPY_MODEL_ef1af0864d424e38ba1ed814be82bd4c"
          }
        },
        "c2aa70e2338748c3ac8d947d36ba0b67": {
          "model_module": "@jupyter-widgets/controls",
          "model_name": "HTMLModel",
          "model_module_version": "1.5.0",
          "state": {
            "_dom_classes": [],
            "_model_module": "@jupyter-widgets/controls",
            "_model_module_version": "1.5.0",
            "_model_name": "HTMLModel",
            "_view_count": null,
            "_view_module": "@jupyter-widgets/controls",
            "_view_module_version": "1.5.0",
            "_view_name": "HTMLView",
            "description": "",
            "description_tooltip": null,
            "layout": "IPY_MODEL_89b213eca3974212b705286502bf236b",
            "placeholder": "​",
            "style": "IPY_MODEL_85a9d3e24c3a49d18f5ab7f17f2d7b7d",
            "value": "Map: 100%"
          }
        },
        "6cd1d2c463d54bfb89105d4deb3f9291": {
          "model_module": "@jupyter-widgets/controls",
          "model_name": "FloatProgressModel",
          "model_module_version": "1.5.0",
          "state": {
            "_dom_classes": [],
            "_model_module": "@jupyter-widgets/controls",
            "_model_module_version": "1.5.0",
            "_model_name": "FloatProgressModel",
            "_view_count": null,
            "_view_module": "@jupyter-widgets/controls",
            "_view_module_version": "1.5.0",
            "_view_name": "ProgressView",
            "bar_style": "success",
            "description": "",
            "description_tooltip": null,
            "layout": "IPY_MODEL_d5697f531d344486a53dcb960f905404",
            "max": 2000,
            "min": 0,
            "orientation": "horizontal",
            "style": "IPY_MODEL_a72993d91bb6491d93ed843846646ff1",
            "value": 2000
          }
        },
        "70b46359978b4bd1b6fb7bcfdd47c309": {
          "model_module": "@jupyter-widgets/controls",
          "model_name": "HTMLModel",
          "model_module_version": "1.5.0",
          "state": {
            "_dom_classes": [],
            "_model_module": "@jupyter-widgets/controls",
            "_model_module_version": "1.5.0",
            "_model_name": "HTMLModel",
            "_view_count": null,
            "_view_module": "@jupyter-widgets/controls",
            "_view_module_version": "1.5.0",
            "_view_name": "HTMLView",
            "description": "",
            "description_tooltip": null,
            "layout": "IPY_MODEL_20bec9f70232427ab9a175ffde08e230",
            "placeholder": "​",
            "style": "IPY_MODEL_eff9d56aff0147cd999642fa69db5f9a",
            "value": " 2000/2000 [00:02&lt;00:00, 792.88 examples/s]"
          }
        },
        "ef1af0864d424e38ba1ed814be82bd4c": {
          "model_module": "@jupyter-widgets/base",
          "model_name": "LayoutModel",
          "model_module_version": "1.2.0",
          "state": {
            "_model_module": "@jupyter-widgets/base",
            "_model_module_version": "1.2.0",
            "_model_name": "LayoutModel",
            "_view_count": null,
            "_view_module": "@jupyter-widgets/base",
            "_view_module_version": "1.2.0",
            "_view_name": "LayoutView",
            "align_content": null,
            "align_items": null,
            "align_self": null,
            "border": null,
            "bottom": null,
            "display": null,
            "flex": null,
            "flex_flow": null,
            "grid_area": null,
            "grid_auto_columns": null,
            "grid_auto_flow": null,
            "grid_auto_rows": null,
            "grid_column": null,
            "grid_gap": null,
            "grid_row": null,
            "grid_template_areas": null,
            "grid_template_columns": null,
            "grid_template_rows": null,
            "height": null,
            "justify_content": null,
            "justify_items": null,
            "left": null,
            "margin": null,
            "max_height": null,
            "max_width": null,
            "min_height": null,
            "min_width": null,
            "object_fit": null,
            "object_position": null,
            "order": null,
            "overflow": null,
            "overflow_x": null,
            "overflow_y": null,
            "padding": null,
            "right": null,
            "top": null,
            "visibility": null,
            "width": null
          }
        },
        "89b213eca3974212b705286502bf236b": {
          "model_module": "@jupyter-widgets/base",
          "model_name": "LayoutModel",
          "model_module_version": "1.2.0",
          "state": {
            "_model_module": "@jupyter-widgets/base",
            "_model_module_version": "1.2.0",
            "_model_name": "LayoutModel",
            "_view_count": null,
            "_view_module": "@jupyter-widgets/base",
            "_view_module_version": "1.2.0",
            "_view_name": "LayoutView",
            "align_content": null,
            "align_items": null,
            "align_self": null,
            "border": null,
            "bottom": null,
            "display": null,
            "flex": null,
            "flex_flow": null,
            "grid_area": null,
            "grid_auto_columns": null,
            "grid_auto_flow": null,
            "grid_auto_rows": null,
            "grid_column": null,
            "grid_gap": null,
            "grid_row": null,
            "grid_template_areas": null,
            "grid_template_columns": null,
            "grid_template_rows": null,
            "height": null,
            "justify_content": null,
            "justify_items": null,
            "left": null,
            "margin": null,
            "max_height": null,
            "max_width": null,
            "min_height": null,
            "min_width": null,
            "object_fit": null,
            "object_position": null,
            "order": null,
            "overflow": null,
            "overflow_x": null,
            "overflow_y": null,
            "padding": null,
            "right": null,
            "top": null,
            "visibility": null,
            "width": null
          }
        },
        "85a9d3e24c3a49d18f5ab7f17f2d7b7d": {
          "model_module": "@jupyter-widgets/controls",
          "model_name": "DescriptionStyleModel",
          "model_module_version": "1.5.0",
          "state": {
            "_model_module": "@jupyter-widgets/controls",
            "_model_module_version": "1.5.0",
            "_model_name": "DescriptionStyleModel",
            "_view_count": null,
            "_view_module": "@jupyter-widgets/base",
            "_view_module_version": "1.2.0",
            "_view_name": "StyleView",
            "description_width": ""
          }
        },
        "d5697f531d344486a53dcb960f905404": {
          "model_module": "@jupyter-widgets/base",
          "model_name": "LayoutModel",
          "model_module_version": "1.2.0",
          "state": {
            "_model_module": "@jupyter-widgets/base",
            "_model_module_version": "1.2.0",
            "_model_name": "LayoutModel",
            "_view_count": null,
            "_view_module": "@jupyter-widgets/base",
            "_view_module_version": "1.2.0",
            "_view_name": "LayoutView",
            "align_content": null,
            "align_items": null,
            "align_self": null,
            "border": null,
            "bottom": null,
            "display": null,
            "flex": null,
            "flex_flow": null,
            "grid_area": null,
            "grid_auto_columns": null,
            "grid_auto_flow": null,
            "grid_auto_rows": null,
            "grid_column": null,
            "grid_gap": null,
            "grid_row": null,
            "grid_template_areas": null,
            "grid_template_columns": null,
            "grid_template_rows": null,
            "height": null,
            "justify_content": null,
            "justify_items": null,
            "left": null,
            "margin": null,
            "max_height": null,
            "max_width": null,
            "min_height": null,
            "min_width": null,
            "object_fit": null,
            "object_position": null,
            "order": null,
            "overflow": null,
            "overflow_x": null,
            "overflow_y": null,
            "padding": null,
            "right": null,
            "top": null,
            "visibility": null,
            "width": null
          }
        },
        "a72993d91bb6491d93ed843846646ff1": {
          "model_module": "@jupyter-widgets/controls",
          "model_name": "ProgressStyleModel",
          "model_module_version": "1.5.0",
          "state": {
            "_model_module": "@jupyter-widgets/controls",
            "_model_module_version": "1.5.0",
            "_model_name": "ProgressStyleModel",
            "_view_count": null,
            "_view_module": "@jupyter-widgets/base",
            "_view_module_version": "1.2.0",
            "_view_name": "StyleView",
            "bar_color": null,
            "description_width": ""
          }
        },
        "20bec9f70232427ab9a175ffde08e230": {
          "model_module": "@jupyter-widgets/base",
          "model_name": "LayoutModel",
          "model_module_version": "1.2.0",
          "state": {
            "_model_module": "@jupyter-widgets/base",
            "_model_module_version": "1.2.0",
            "_model_name": "LayoutModel",
            "_view_count": null,
            "_view_module": "@jupyter-widgets/base",
            "_view_module_version": "1.2.0",
            "_view_name": "LayoutView",
            "align_content": null,
            "align_items": null,
            "align_self": null,
            "border": null,
            "bottom": null,
            "display": null,
            "flex": null,
            "flex_flow": null,
            "grid_area": null,
            "grid_auto_columns": null,
            "grid_auto_flow": null,
            "grid_auto_rows": null,
            "grid_column": null,
            "grid_gap": null,
            "grid_row": null,
            "grid_template_areas": null,
            "grid_template_columns": null,
            "grid_template_rows": null,
            "height": null,
            "justify_content": null,
            "justify_items": null,
            "left": null,
            "margin": null,
            "max_height": null,
            "max_width": null,
            "min_height": null,
            "min_width": null,
            "object_fit": null,
            "object_position": null,
            "order": null,
            "overflow": null,
            "overflow_x": null,
            "overflow_y": null,
            "padding": null,
            "right": null,
            "top": null,
            "visibility": null,
            "width": null
          }
        },
        "eff9d56aff0147cd999642fa69db5f9a": {
          "model_module": "@jupyter-widgets/controls",
          "model_name": "DescriptionStyleModel",
          "model_module_version": "1.5.0",
          "state": {
            "_model_module": "@jupyter-widgets/controls",
            "_model_module_version": "1.5.0",
            "_model_name": "DescriptionStyleModel",
            "_view_count": null,
            "_view_module": "@jupyter-widgets/base",
            "_view_module_version": "1.2.0",
            "_view_name": "StyleView",
            "description_width": ""
          }
        },
        "84d4f89e1492430b8e2cfd91a0b9f00b": {
          "model_module": "@jupyter-widgets/controls",
          "model_name": "HBoxModel",
          "model_module_version": "1.5.0",
          "state": {
            "_dom_classes": [],
            "_model_module": "@jupyter-widgets/controls",
            "_model_module_version": "1.5.0",
            "_model_name": "HBoxModel",
            "_view_count": null,
            "_view_module": "@jupyter-widgets/controls",
            "_view_module_version": "1.5.0",
            "_view_name": "HBoxView",
            "box_style": "",
            "children": [
              "IPY_MODEL_c6387702cf6d41a7b863bf89d9f3cf11",
              "IPY_MODEL_4d44119ba02e46fe89ba30da3f97acda",
              "IPY_MODEL_aec3a0f2a2c74db98164d87291639866"
            ],
            "layout": "IPY_MODEL_107a245a13624fd08a21aded6bd53237"
          }
        },
        "c6387702cf6d41a7b863bf89d9f3cf11": {
          "model_module": "@jupyter-widgets/controls",
          "model_name": "HTMLModel",
          "model_module_version": "1.5.0",
          "state": {
            "_dom_classes": [],
            "_model_module": "@jupyter-widgets/controls",
            "_model_module_version": "1.5.0",
            "_model_name": "HTMLModel",
            "_view_count": null,
            "_view_module": "@jupyter-widgets/controls",
            "_view_module_version": "1.5.0",
            "_view_name": "HTMLView",
            "description": "",
            "description_tooltip": null,
            "layout": "IPY_MODEL_38a7253aaa314a74b367b4a635b56427",
            "placeholder": "​",
            "style": "IPY_MODEL_1048c6495f7e449a862d9b1af2d6686b",
            "value": "100%"
          }
        },
        "4d44119ba02e46fe89ba30da3f97acda": {
          "model_module": "@jupyter-widgets/controls",
          "model_name": "FloatProgressModel",
          "model_module_version": "1.5.0",
          "state": {
            "_dom_classes": [],
            "_model_module": "@jupyter-widgets/controls",
            "_model_module_version": "1.5.0",
            "_model_name": "FloatProgressModel",
            "_view_count": null,
            "_view_module": "@jupyter-widgets/controls",
            "_view_module_version": "1.5.0",
            "_view_name": "ProgressView",
            "bar_style": "success",
            "description": "",
            "description_tooltip": null,
            "layout": "IPY_MODEL_f3a37fa39f0c47c08d788c842cfcd018",
            "max": 50000,
            "min": 0,
            "orientation": "horizontal",
            "style": "IPY_MODEL_d16ee807710a434d9e1f23f0d8851c30",
            "value": 50000
          }
        },
        "aec3a0f2a2c74db98164d87291639866": {
          "model_module": "@jupyter-widgets/controls",
          "model_name": "HTMLModel",
          "model_module_version": "1.5.0",
          "state": {
            "_dom_classes": [],
            "_model_module": "@jupyter-widgets/controls",
            "_model_module_version": "1.5.0",
            "_model_name": "HTMLModel",
            "_view_count": null,
            "_view_module": "@jupyter-widgets/controls",
            "_view_module_version": "1.5.0",
            "_view_name": "HTMLView",
            "description": "",
            "description_tooltip": null,
            "layout": "IPY_MODEL_faf9c1179bd743cb81f2c22ad9a06b2e",
            "placeholder": "​",
            "style": "IPY_MODEL_84a41f66f996484a8698aad944d6f2a7",
            "value": " 50000/50000 [03:32&lt;00:00, 226.65it/s]"
          }
        },
        "107a245a13624fd08a21aded6bd53237": {
          "model_module": "@jupyter-widgets/base",
          "model_name": "LayoutModel",
          "model_module_version": "1.2.0",
          "state": {
            "_model_module": "@jupyter-widgets/base",
            "_model_module_version": "1.2.0",
            "_model_name": "LayoutModel",
            "_view_count": null,
            "_view_module": "@jupyter-widgets/base",
            "_view_module_version": "1.2.0",
            "_view_name": "LayoutView",
            "align_content": null,
            "align_items": null,
            "align_self": null,
            "border": null,
            "bottom": null,
            "display": null,
            "flex": null,
            "flex_flow": null,
            "grid_area": null,
            "grid_auto_columns": null,
            "grid_auto_flow": null,
            "grid_auto_rows": null,
            "grid_column": null,
            "grid_gap": null,
            "grid_row": null,
            "grid_template_areas": null,
            "grid_template_columns": null,
            "grid_template_rows": null,
            "height": null,
            "justify_content": null,
            "justify_items": null,
            "left": null,
            "margin": null,
            "max_height": null,
            "max_width": null,
            "min_height": null,
            "min_width": null,
            "object_fit": null,
            "object_position": null,
            "order": null,
            "overflow": null,
            "overflow_x": null,
            "overflow_y": null,
            "padding": null,
            "right": null,
            "top": null,
            "visibility": null,
            "width": null
          }
        },
        "38a7253aaa314a74b367b4a635b56427": {
          "model_module": "@jupyter-widgets/base",
          "model_name": "LayoutModel",
          "model_module_version": "1.2.0",
          "state": {
            "_model_module": "@jupyter-widgets/base",
            "_model_module_version": "1.2.0",
            "_model_name": "LayoutModel",
            "_view_count": null,
            "_view_module": "@jupyter-widgets/base",
            "_view_module_version": "1.2.0",
            "_view_name": "LayoutView",
            "align_content": null,
            "align_items": null,
            "align_self": null,
            "border": null,
            "bottom": null,
            "display": null,
            "flex": null,
            "flex_flow": null,
            "grid_area": null,
            "grid_auto_columns": null,
            "grid_auto_flow": null,
            "grid_auto_rows": null,
            "grid_column": null,
            "grid_gap": null,
            "grid_row": null,
            "grid_template_areas": null,
            "grid_template_columns": null,
            "grid_template_rows": null,
            "height": null,
            "justify_content": null,
            "justify_items": null,
            "left": null,
            "margin": null,
            "max_height": null,
            "max_width": null,
            "min_height": null,
            "min_width": null,
            "object_fit": null,
            "object_position": null,
            "order": null,
            "overflow": null,
            "overflow_x": null,
            "overflow_y": null,
            "padding": null,
            "right": null,
            "top": null,
            "visibility": null,
            "width": null
          }
        },
        "1048c6495f7e449a862d9b1af2d6686b": {
          "model_module": "@jupyter-widgets/controls",
          "model_name": "DescriptionStyleModel",
          "model_module_version": "1.5.0",
          "state": {
            "_model_module": "@jupyter-widgets/controls",
            "_model_module_version": "1.5.0",
            "_model_name": "DescriptionStyleModel",
            "_view_count": null,
            "_view_module": "@jupyter-widgets/base",
            "_view_module_version": "1.2.0",
            "_view_name": "StyleView",
            "description_width": ""
          }
        },
        "f3a37fa39f0c47c08d788c842cfcd018": {
          "model_module": "@jupyter-widgets/base",
          "model_name": "LayoutModel",
          "model_module_version": "1.2.0",
          "state": {
            "_model_module": "@jupyter-widgets/base",
            "_model_module_version": "1.2.0",
            "_model_name": "LayoutModel",
            "_view_count": null,
            "_view_module": "@jupyter-widgets/base",
            "_view_module_version": "1.2.0",
            "_view_name": "LayoutView",
            "align_content": null,
            "align_items": null,
            "align_self": null,
            "border": null,
            "bottom": null,
            "display": null,
            "flex": null,
            "flex_flow": null,
            "grid_area": null,
            "grid_auto_columns": null,
            "grid_auto_flow": null,
            "grid_auto_rows": null,
            "grid_column": null,
            "grid_gap": null,
            "grid_row": null,
            "grid_template_areas": null,
            "grid_template_columns": null,
            "grid_template_rows": null,
            "height": null,
            "justify_content": null,
            "justify_items": null,
            "left": null,
            "margin": null,
            "max_height": null,
            "max_width": null,
            "min_height": null,
            "min_width": null,
            "object_fit": null,
            "object_position": null,
            "order": null,
            "overflow": null,
            "overflow_x": null,
            "overflow_y": null,
            "padding": null,
            "right": null,
            "top": null,
            "visibility": null,
            "width": null
          }
        },
        "d16ee807710a434d9e1f23f0d8851c30": {
          "model_module": "@jupyter-widgets/controls",
          "model_name": "ProgressStyleModel",
          "model_module_version": "1.5.0",
          "state": {
            "_model_module": "@jupyter-widgets/controls",
            "_model_module_version": "1.5.0",
            "_model_name": "ProgressStyleModel",
            "_view_count": null,
            "_view_module": "@jupyter-widgets/base",
            "_view_module_version": "1.2.0",
            "_view_name": "StyleView",
            "bar_color": null,
            "description_width": ""
          }
        },
        "faf9c1179bd743cb81f2c22ad9a06b2e": {
          "model_module": "@jupyter-widgets/base",
          "model_name": "LayoutModel",
          "model_module_version": "1.2.0",
          "state": {
            "_model_module": "@jupyter-widgets/base",
            "_model_module_version": "1.2.0",
            "_model_name": "LayoutModel",
            "_view_count": null,
            "_view_module": "@jupyter-widgets/base",
            "_view_module_version": "1.2.0",
            "_view_name": "LayoutView",
            "align_content": null,
            "align_items": null,
            "align_self": null,
            "border": null,
            "bottom": null,
            "display": null,
            "flex": null,
            "flex_flow": null,
            "grid_area": null,
            "grid_auto_columns": null,
            "grid_auto_flow": null,
            "grid_auto_rows": null,
            "grid_column": null,
            "grid_gap": null,
            "grid_row": null,
            "grid_template_areas": null,
            "grid_template_columns": null,
            "grid_template_rows": null,
            "height": null,
            "justify_content": null,
            "justify_items": null,
            "left": null,
            "margin": null,
            "max_height": null,
            "max_width": null,
            "min_height": null,
            "min_width": null,
            "object_fit": null,
            "object_position": null,
            "order": null,
            "overflow": null,
            "overflow_x": null,
            "overflow_y": null,
            "padding": null,
            "right": null,
            "top": null,
            "visibility": null,
            "width": null
          }
        },
        "84a41f66f996484a8698aad944d6f2a7": {
          "model_module": "@jupyter-widgets/controls",
          "model_name": "DescriptionStyleModel",
          "model_module_version": "1.5.0",
          "state": {
            "_model_module": "@jupyter-widgets/controls",
            "_model_module_version": "1.5.0",
            "_model_name": "DescriptionStyleModel",
            "_view_count": null,
            "_view_module": "@jupyter-widgets/base",
            "_view_module_version": "1.2.0",
            "_view_name": "StyleView",
            "description_width": ""
          }
        },
        "39649769f617474480a61f82c23a5ccb": {
          "model_module": "@jupyter-widgets/controls",
          "model_name": "HBoxModel",
          "model_module_version": "1.5.0",
          "state": {
            "_dom_classes": [],
            "_model_module": "@jupyter-widgets/controls",
            "_model_module_version": "1.5.0",
            "_model_name": "HBoxModel",
            "_view_count": null,
            "_view_module": "@jupyter-widgets/controls",
            "_view_module_version": "1.5.0",
            "_view_name": "HBoxView",
            "box_style": "",
            "children": [
              "IPY_MODEL_2fe66a90cf504805b740650c570998dd",
              "IPY_MODEL_2f6e7001d98d4f3187c5f704602d42bc",
              "IPY_MODEL_680f974b751e4e1f8a978b3f0755bf3e"
            ],
            "layout": "IPY_MODEL_9fed405d5bc349ebaf9c392009563dd8"
          }
        },
        "2fe66a90cf504805b740650c570998dd": {
          "model_module": "@jupyter-widgets/controls",
          "model_name": "HTMLModel",
          "model_module_version": "1.5.0",
          "state": {
            "_dom_classes": [],
            "_model_module": "@jupyter-widgets/controls",
            "_model_module_version": "1.5.0",
            "_model_name": "HTMLModel",
            "_view_count": null,
            "_view_module": "@jupyter-widgets/controls",
            "_view_module_version": "1.5.0",
            "_view_name": "HTMLView",
            "description": "",
            "description_tooltip": null,
            "layout": "IPY_MODEL_3ef9fae277d84dea9a883420d139fe6e",
            "placeholder": "​",
            "style": "IPY_MODEL_3490707c3f924db5bebc1d637fa89f4c",
            "value": "Map: 100%"
          }
        },
        "2f6e7001d98d4f3187c5f704602d42bc": {
          "model_module": "@jupyter-widgets/controls",
          "model_name": "FloatProgressModel",
          "model_module_version": "1.5.0",
          "state": {
            "_dom_classes": [],
            "_model_module": "@jupyter-widgets/controls",
            "_model_module_version": "1.5.0",
            "_model_name": "FloatProgressModel",
            "_view_count": null,
            "_view_module": "@jupyter-widgets/controls",
            "_view_module_version": "1.5.0",
            "_view_name": "ProgressView",
            "bar_style": "success",
            "description": "",
            "description_tooltip": null,
            "layout": "IPY_MODEL_f59f55a232e04cb380c79f0d5c1ab40a",
            "max": 2000,
            "min": 0,
            "orientation": "horizontal",
            "style": "IPY_MODEL_8f2491c1388b4d9fbedefafab58560f8",
            "value": 2000
          }
        },
        "680f974b751e4e1f8a978b3f0755bf3e": {
          "model_module": "@jupyter-widgets/controls",
          "model_name": "HTMLModel",
          "model_module_version": "1.5.0",
          "state": {
            "_dom_classes": [],
            "_model_module": "@jupyter-widgets/controls",
            "_model_module_version": "1.5.0",
            "_model_name": "HTMLModel",
            "_view_count": null,
            "_view_module": "@jupyter-widgets/controls",
            "_view_module_version": "1.5.0",
            "_view_name": "HTMLView",
            "description": "",
            "description_tooltip": null,
            "layout": "IPY_MODEL_dafd13fe8c6044d48057d198af3babcc",
            "placeholder": "​",
            "style": "IPY_MODEL_f6f25a9596c94da1ac4fbc74172f6e9d",
            "value": " 2000/2000 [00:02&lt;00:00, 689.78 examples/s]"
          }
        },
        "9fed405d5bc349ebaf9c392009563dd8": {
          "model_module": "@jupyter-widgets/base",
          "model_name": "LayoutModel",
          "model_module_version": "1.2.0",
          "state": {
            "_model_module": "@jupyter-widgets/base",
            "_model_module_version": "1.2.0",
            "_model_name": "LayoutModel",
            "_view_count": null,
            "_view_module": "@jupyter-widgets/base",
            "_view_module_version": "1.2.0",
            "_view_name": "LayoutView",
            "align_content": null,
            "align_items": null,
            "align_self": null,
            "border": null,
            "bottom": null,
            "display": null,
            "flex": null,
            "flex_flow": null,
            "grid_area": null,
            "grid_auto_columns": null,
            "grid_auto_flow": null,
            "grid_auto_rows": null,
            "grid_column": null,
            "grid_gap": null,
            "grid_row": null,
            "grid_template_areas": null,
            "grid_template_columns": null,
            "grid_template_rows": null,
            "height": null,
            "justify_content": null,
            "justify_items": null,
            "left": null,
            "margin": null,
            "max_height": null,
            "max_width": null,
            "min_height": null,
            "min_width": null,
            "object_fit": null,
            "object_position": null,
            "order": null,
            "overflow": null,
            "overflow_x": null,
            "overflow_y": null,
            "padding": null,
            "right": null,
            "top": null,
            "visibility": null,
            "width": null
          }
        },
        "3ef9fae277d84dea9a883420d139fe6e": {
          "model_module": "@jupyter-widgets/base",
          "model_name": "LayoutModel",
          "model_module_version": "1.2.0",
          "state": {
            "_model_module": "@jupyter-widgets/base",
            "_model_module_version": "1.2.0",
            "_model_name": "LayoutModel",
            "_view_count": null,
            "_view_module": "@jupyter-widgets/base",
            "_view_module_version": "1.2.0",
            "_view_name": "LayoutView",
            "align_content": null,
            "align_items": null,
            "align_self": null,
            "border": null,
            "bottom": null,
            "display": null,
            "flex": null,
            "flex_flow": null,
            "grid_area": null,
            "grid_auto_columns": null,
            "grid_auto_flow": null,
            "grid_auto_rows": null,
            "grid_column": null,
            "grid_gap": null,
            "grid_row": null,
            "grid_template_areas": null,
            "grid_template_columns": null,
            "grid_template_rows": null,
            "height": null,
            "justify_content": null,
            "justify_items": null,
            "left": null,
            "margin": null,
            "max_height": null,
            "max_width": null,
            "min_height": null,
            "min_width": null,
            "object_fit": null,
            "object_position": null,
            "order": null,
            "overflow": null,
            "overflow_x": null,
            "overflow_y": null,
            "padding": null,
            "right": null,
            "top": null,
            "visibility": null,
            "width": null
          }
        },
        "3490707c3f924db5bebc1d637fa89f4c": {
          "model_module": "@jupyter-widgets/controls",
          "model_name": "DescriptionStyleModel",
          "model_module_version": "1.5.0",
          "state": {
            "_model_module": "@jupyter-widgets/controls",
            "_model_module_version": "1.5.0",
            "_model_name": "DescriptionStyleModel",
            "_view_count": null,
            "_view_module": "@jupyter-widgets/base",
            "_view_module_version": "1.2.0",
            "_view_name": "StyleView",
            "description_width": ""
          }
        },
        "f59f55a232e04cb380c79f0d5c1ab40a": {
          "model_module": "@jupyter-widgets/base",
          "model_name": "LayoutModel",
          "model_module_version": "1.2.0",
          "state": {
            "_model_module": "@jupyter-widgets/base",
            "_model_module_version": "1.2.0",
            "_model_name": "LayoutModel",
            "_view_count": null,
            "_view_module": "@jupyter-widgets/base",
            "_view_module_version": "1.2.0",
            "_view_name": "LayoutView",
            "align_content": null,
            "align_items": null,
            "align_self": null,
            "border": null,
            "bottom": null,
            "display": null,
            "flex": null,
            "flex_flow": null,
            "grid_area": null,
            "grid_auto_columns": null,
            "grid_auto_flow": null,
            "grid_auto_rows": null,
            "grid_column": null,
            "grid_gap": null,
            "grid_row": null,
            "grid_template_areas": null,
            "grid_template_columns": null,
            "grid_template_rows": null,
            "height": null,
            "justify_content": null,
            "justify_items": null,
            "left": null,
            "margin": null,
            "max_height": null,
            "max_width": null,
            "min_height": null,
            "min_width": null,
            "object_fit": null,
            "object_position": null,
            "order": null,
            "overflow": null,
            "overflow_x": null,
            "overflow_y": null,
            "padding": null,
            "right": null,
            "top": null,
            "visibility": null,
            "width": null
          }
        },
        "8f2491c1388b4d9fbedefafab58560f8": {
          "model_module": "@jupyter-widgets/controls",
          "model_name": "ProgressStyleModel",
          "model_module_version": "1.5.0",
          "state": {
            "_model_module": "@jupyter-widgets/controls",
            "_model_module_version": "1.5.0",
            "_model_name": "ProgressStyleModel",
            "_view_count": null,
            "_view_module": "@jupyter-widgets/base",
            "_view_module_version": "1.2.0",
            "_view_name": "StyleView",
            "bar_color": null,
            "description_width": ""
          }
        },
        "dafd13fe8c6044d48057d198af3babcc": {
          "model_module": "@jupyter-widgets/base",
          "model_name": "LayoutModel",
          "model_module_version": "1.2.0",
          "state": {
            "_model_module": "@jupyter-widgets/base",
            "_model_module_version": "1.2.0",
            "_model_name": "LayoutModel",
            "_view_count": null,
            "_view_module": "@jupyter-widgets/base",
            "_view_module_version": "1.2.0",
            "_view_name": "LayoutView",
            "align_content": null,
            "align_items": null,
            "align_self": null,
            "border": null,
            "bottom": null,
            "display": null,
            "flex": null,
            "flex_flow": null,
            "grid_area": null,
            "grid_auto_columns": null,
            "grid_auto_flow": null,
            "grid_auto_rows": null,
            "grid_column": null,
            "grid_gap": null,
            "grid_row": null,
            "grid_template_areas": null,
            "grid_template_columns": null,
            "grid_template_rows": null,
            "height": null,
            "justify_content": null,
            "justify_items": null,
            "left": null,
            "margin": null,
            "max_height": null,
            "max_width": null,
            "min_height": null,
            "min_width": null,
            "object_fit": null,
            "object_position": null,
            "order": null,
            "overflow": null,
            "overflow_x": null,
            "overflow_y": null,
            "padding": null,
            "right": null,
            "top": null,
            "visibility": null,
            "width": null
          }
        },
        "f6f25a9596c94da1ac4fbc74172f6e9d": {
          "model_module": "@jupyter-widgets/controls",
          "model_name": "DescriptionStyleModel",
          "model_module_version": "1.5.0",
          "state": {
            "_model_module": "@jupyter-widgets/controls",
            "_model_module_version": "1.5.0",
            "_model_name": "DescriptionStyleModel",
            "_view_count": null,
            "_view_module": "@jupyter-widgets/base",
            "_view_module_version": "1.2.0",
            "_view_name": "StyleView",
            "description_width": ""
          }
        }
      }
    }
  },
  "nbformat": 4,
  "nbformat_minor": 5
}